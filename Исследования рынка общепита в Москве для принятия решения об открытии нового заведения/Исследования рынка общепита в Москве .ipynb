{
 "cells": [
  {
   "cell_type": "markdown",
   "metadata": {},
   "source": [
    "***Описание проекта***"
   ]
  },
  {
   "cell_type": "markdown",
   "metadata": {},
   "source": [
    "Существует проект открытия небольшого кафе в Москве. Оно оригинальное — гостей должны обслуживать роботы. Проект многообещающий, но дорогой. Инвесторов интересует текущее положение дел на рынке — сможете ли проект снискать популярность на долгое время, когда все зеваки насмотрятся на роботов-официантов."
   ]
  },
  {
   "cell_type": "markdown",
   "metadata": {},
   "source": [
    "***Цель работы:***\n",
    "\n",
    "Подготовить исследование рынка на основе открытых данных о заведениях общественного питания в Москве.\n",
    "\n",
    "***Задачи работы:***\n",
    "- Произвести обзор данных и предобработку данных.\n",
    "- Провести исследовательский анализ данных.\n",
    "- На основе анализа сделать общий вывод и дать рекомендации о виде заведения, количестве посадочных мест, а также районе расположения.\n",
    "- Прокомментировать возможность развития сети.\n",
    "- Подготовить презентацию исследования для инвесторов.\n",
    "\n",
    "***Структура данных***\n",
    "\n",
    "*Таблица rest_data:*\n",
    "- id — идентификатор объекта;\n",
    "- object_name — название объекта общественного питания;\n",
    "- chain — сетевой ресторан;\n",
    "- object_type — тип объекта общественного питания;\n",
    "- address — адрес;\n",
    "- number — количество посадочных мест."
   ]
  },
  {
   "cell_type": "markdown",
   "metadata": {},
   "source": [
    "## Обзор данных"
   ]
  },
  {
   "cell_type": "markdown",
   "metadata": {},
   "source": [
    "### Загрузка нужных библиотек"
   ]
  },
  {
   "cell_type": "code",
   "execution_count": 1,
   "metadata": {},
   "outputs": [],
   "source": [
    "import pandas as pd \n",
    "import matplotlib.pyplot as plt\n",
    "import seaborn as sns\n",
    "import re\n",
    "import numpy as np\n",
    "from io import BytesIO\n",
    "import requests\n",
    "import warnings\n",
    "warnings.filterwarnings('ignore')  \n",
    "pd.set_option('display.float_format', '{:,.2f}'.format)"
   ]
  },
  {
   "cell_type": "markdown",
   "metadata": {},
   "source": [
    "### Загрузка данных"
   ]
  },
  {
   "cell_type": "code",
   "execution_count": 2,
   "metadata": {},
   "outputs": [],
   "source": [
    "df = pd.read_csv('/datasets/rest_data.csv')"
   ]
  },
  {
   "cell_type": "code",
   "execution_count": 3,
   "metadata": {},
   "outputs": [
    {
     "data": {
      "text/html": [
       "<div>\n",
       "<style scoped>\n",
       "    .dataframe tbody tr th:only-of-type {\n",
       "        vertical-align: middle;\n",
       "    }\n",
       "\n",
       "    .dataframe tbody tr th {\n",
       "        vertical-align: top;\n",
       "    }\n",
       "\n",
       "    .dataframe thead th {\n",
       "        text-align: right;\n",
       "    }\n",
       "</style>\n",
       "<table border=\"1\" class=\"dataframe\">\n",
       "  <thead>\n",
       "    <tr style=\"text-align: right;\">\n",
       "      <th></th>\n",
       "      <th>id</th>\n",
       "      <th>object_name</th>\n",
       "      <th>chain</th>\n",
       "      <th>object_type</th>\n",
       "      <th>address</th>\n",
       "      <th>number</th>\n",
       "    </tr>\n",
       "  </thead>\n",
       "  <tbody>\n",
       "    <tr>\n",
       "      <th>0</th>\n",
       "      <td>151635</td>\n",
       "      <td>СМЕТАНА</td>\n",
       "      <td>нет</td>\n",
       "      <td>кафе</td>\n",
       "      <td>город Москва, улица Егора Абакумова, дом 9</td>\n",
       "      <td>48</td>\n",
       "    </tr>\n",
       "    <tr>\n",
       "      <th>1</th>\n",
       "      <td>77874</td>\n",
       "      <td>Родник</td>\n",
       "      <td>нет</td>\n",
       "      <td>кафе</td>\n",
       "      <td>город Москва, улица Талалихина, дом 2/1, корпус 1</td>\n",
       "      <td>35</td>\n",
       "    </tr>\n",
       "    <tr>\n",
       "      <th>2</th>\n",
       "      <td>24309</td>\n",
       "      <td>Кафе «Академия»</td>\n",
       "      <td>нет</td>\n",
       "      <td>кафе</td>\n",
       "      <td>город Москва, Абельмановская улица, дом 6</td>\n",
       "      <td>95</td>\n",
       "    </tr>\n",
       "    <tr>\n",
       "      <th>3</th>\n",
       "      <td>21894</td>\n",
       "      <td>ПИЦЦЕТОРИЯ</td>\n",
       "      <td>да</td>\n",
       "      <td>кафе</td>\n",
       "      <td>город Москва, Абрамцевская улица, дом 1</td>\n",
       "      <td>40</td>\n",
       "    </tr>\n",
       "    <tr>\n",
       "      <th>4</th>\n",
       "      <td>119365</td>\n",
       "      <td>Кафе «Вишневая метель»</td>\n",
       "      <td>нет</td>\n",
       "      <td>кафе</td>\n",
       "      <td>город Москва, Абрамцевская улица, дом 9, корпус 1</td>\n",
       "      <td>50</td>\n",
       "    </tr>\n",
       "  </tbody>\n",
       "</table>\n",
       "</div>"
      ],
      "text/plain": [
       "       id             object_name chain object_type  \\\n",
       "0  151635                 СМЕТАНА   нет        кафе   \n",
       "1   77874                  Родник   нет        кафе   \n",
       "2   24309         Кафе «Академия»   нет        кафе   \n",
       "3   21894              ПИЦЦЕТОРИЯ    да        кафе   \n",
       "4  119365  Кафе «Вишневая метель»   нет        кафе   \n",
       "\n",
       "                                             address  number  \n",
       "0         город Москва, улица Егора Абакумова, дом 9      48  \n",
       "1  город Москва, улица Талалихина, дом 2/1, корпус 1      35  \n",
       "2          город Москва, Абельмановская улица, дом 6      95  \n",
       "3            город Москва, Абрамцевская улица, дом 1      40  \n",
       "4  город Москва, Абрамцевская улица, дом 9, корпус 1      50  "
      ]
     },
     "execution_count": 3,
     "metadata": {},
     "output_type": "execute_result"
    }
   ],
   "source": [
    "df.head()"
   ]
  },
  {
   "cell_type": "markdown",
   "metadata": {},
   "source": [
    "Посмотрим общую информацию о ДатаФрейме"
   ]
  },
  {
   "cell_type": "code",
   "execution_count": 4,
   "metadata": {},
   "outputs": [
    {
     "name": "stdout",
     "output_type": "stream",
     "text": [
      "<class 'pandas.core.frame.DataFrame'>\n",
      "RangeIndex: 15366 entries, 0 to 15365\n",
      "Data columns (total 6 columns):\n",
      " #   Column       Non-Null Count  Dtype \n",
      "---  ------       --------------  ----- \n",
      " 0   id           15366 non-null  int64 \n",
      " 1   object_name  15366 non-null  object\n",
      " 2   chain        15366 non-null  object\n",
      " 3   object_type  15366 non-null  object\n",
      " 4   address      15366 non-null  object\n",
      " 5   number       15366 non-null  int64 \n",
      "dtypes: int64(2), object(4)\n",
      "memory usage: 720.4+ KB\n"
     ]
    }
   ],
   "source": [
    "df.info()"
   ]
  },
  {
   "cell_type": "markdown",
   "metadata": {},
   "source": [
    "### Предообработка данных"
   ]
  },
  {
   "cell_type": "code",
   "execution_count": 5,
   "metadata": {},
   "outputs": [
    {
     "data": {
      "text/plain": [
       "id             0\n",
       "object_name    0\n",
       "chain          0\n",
       "object_type    0\n",
       "address        0\n",
       "number         0\n",
       "dtype: int64"
      ]
     },
     "execution_count": 5,
     "metadata": {},
     "output_type": "execute_result"
    }
   ],
   "source": [
    "#Посмотрим кол-во пропусков в столбцах\n",
    "df.isna().sum()"
   ]
  },
  {
   "cell_type": "code",
   "execution_count": 6,
   "metadata": {},
   "outputs": [
    {
     "data": {
      "text/plain": [
       "0"
      ]
     },
     "execution_count": 6,
     "metadata": {},
     "output_type": "execute_result"
    }
   ],
   "source": [
    "#Посмотрим есть ли явные дубликаты в столбцах\n",
    "df.duplicated().sum()"
   ]
  },
  {
   "cell_type": "code",
   "execution_count": 7,
   "metadata": {},
   "outputs": [
    {
     "data": {
      "text/plain": [
       "82"
      ]
     },
     "execution_count": 7,
     "metadata": {},
     "output_type": "execute_result"
    }
   ],
   "source": [
    "#Посмотрим есть ли дубликаты в столбцах без учета индекса\n",
    "df_duplicated = df[df[['object_name', 'address', 'object_type','chain', 'number']].duplicated()]\n",
    "len(df_duplicated)"
   ]
  },
  {
   "cell_type": "code",
   "execution_count": 8,
   "metadata": {},
   "outputs": [],
   "source": [
    "#Удаалим неявные дубликаты\n",
    "df = df.drop_duplicates(subset=df.columns.difference(['id']))"
   ]
  },
  {
   "cell_type": "code",
   "execution_count": 9,
   "metadata": {},
   "outputs": [
    {
     "name": "stdout",
     "output_type": "stream",
     "text": [
      "<class 'pandas.core.frame.DataFrame'>\n",
      "Int64Index: 15284 entries, 0 to 15365\n",
      "Data columns (total 6 columns):\n",
      " #   Column       Non-Null Count  Dtype \n",
      "---  ------       --------------  ----- \n",
      " 0   id           15284 non-null  int64 \n",
      " 1   object_name  15284 non-null  object\n",
      " 2   chain        15284 non-null  object\n",
      " 3   object_type  15284 non-null  object\n",
      " 4   address      15284 non-null  object\n",
      " 5   number       15284 non-null  int64 \n",
      "dtypes: int64(2), object(4)\n",
      "memory usage: 835.8+ KB\n"
     ]
    }
   ],
   "source": [
    "#Проверим\n",
    "df.info()"
   ]
  },
  {
   "cell_type": "code",
   "execution_count": 10,
   "metadata": {},
   "outputs": [
    {
     "data": {
      "text/plain": [
       "Index(['id', 'object_name', 'chain', 'object_type', 'address', 'number'], dtype='object')"
      ]
     },
     "execution_count": 10,
     "metadata": {},
     "output_type": "execute_result"
    }
   ],
   "source": [
    "#Посмотрим стиль написания назаваний столбцов\n",
    "df.columns"
   ]
  },
  {
   "cell_type": "code",
   "execution_count": 11,
   "metadata": {},
   "outputs": [
    {
     "data": {
      "text/html": [
       "<div>\n",
       "<style scoped>\n",
       "    .dataframe tbody tr th:only-of-type {\n",
       "        vertical-align: middle;\n",
       "    }\n",
       "\n",
       "    .dataframe tbody tr th {\n",
       "        vertical-align: top;\n",
       "    }\n",
       "\n",
       "    .dataframe thead th {\n",
       "        text-align: right;\n",
       "    }\n",
       "</style>\n",
       "<table border=\"1\" class=\"dataframe\">\n",
       "  <thead>\n",
       "    <tr style=\"text-align: right;\">\n",
       "      <th></th>\n",
       "      <th>count</th>\n",
       "      <th>mean</th>\n",
       "      <th>std</th>\n",
       "      <th>min</th>\n",
       "      <th>25%</th>\n",
       "      <th>50%</th>\n",
       "      <th>75%</th>\n",
       "      <th>max</th>\n",
       "    </tr>\n",
       "  </thead>\n",
       "  <tbody>\n",
       "    <tr>\n",
       "      <th>id</th>\n",
       "      <td>15,284.00</td>\n",
       "      <td>119,506.88</td>\n",
       "      <td>73,042.95</td>\n",
       "      <td>838.00</td>\n",
       "      <td>28,494.50</td>\n",
       "      <td>144,805.50</td>\n",
       "      <td>184,123.00</td>\n",
       "      <td>223,439.00</td>\n",
       "    </tr>\n",
       "    <tr>\n",
       "      <th>number</th>\n",
       "      <td>15,284.00</td>\n",
       "      <td>59.78</td>\n",
       "      <td>74.84</td>\n",
       "      <td>0.00</td>\n",
       "      <td>14.00</td>\n",
       "      <td>40.00</td>\n",
       "      <td>80.00</td>\n",
       "      <td>1,700.00</td>\n",
       "    </tr>\n",
       "  </tbody>\n",
       "</table>\n",
       "</div>"
      ],
      "text/plain": [
       "           count       mean       std    min       25%        50%        75%  \\\n",
       "id     15,284.00 119,506.88 73,042.95 838.00 28,494.50 144,805.50 184,123.00   \n",
       "number 15,284.00      59.78     74.84   0.00     14.00      40.00      80.00   \n",
       "\n",
       "              max  \n",
       "id     223,439.00  \n",
       "number   1,700.00  "
      ]
     },
     "execution_count": 11,
     "metadata": {},
     "output_type": "execute_result"
    }
   ],
   "source": [
    "#Посмотрим статистические показатели таблицы\n",
    "df.describe().T"
   ]
  },
  {
   "cell_type": "code",
   "execution_count": 12,
   "metadata": {},
   "outputs": [],
   "source": [
    "#Для удобства и чтобы избежать дубликатов привдем содержание столбцов object_name и object_type к нижнему регистру. \n",
    "df['object_name'] = df['object_name'].str.lower()\n",
    "df['object_type'] = df['object_type'].str.lower()"
   ]
  },
  {
   "cell_type": "markdown",
   "metadata": {},
   "source": [
    "Чтобы корректно, отображались названия на графике, заменим самое длинное на короткое"
   ]
  },
  {
   "cell_type": "code",
   "execution_count": 13,
   "metadata": {},
   "outputs": [],
   "source": [
    "df['object_type'] = df['object_type'].replace('предприятие быстрого обслуживания', 'фастфуд')"
   ]
  },
  {
   "cell_type": "markdown",
   "metadata": {},
   "source": [
    "Исходя из сводной таблицы статистических показателей видно, что в столбце number пристуствуют нулевые значения. Посмотрим их процент"
   ]
  },
  {
   "cell_type": "code",
   "execution_count": 14,
   "metadata": {},
   "outputs": [
    {
     "data": {
      "text/plain": [
       "1589"
      ]
     },
     "execution_count": 14,
     "metadata": {},
     "output_type": "execute_result"
    }
   ],
   "source": [
    "len(df.query('number == 0'))"
   ]
  },
  {
   "cell_type": "code",
   "execution_count": 15,
   "metadata": {},
   "outputs": [
    {
     "name": "stdout",
     "output_type": "stream",
     "text": [
      "Доля ресторанов , где количество посадочных мест равно нулю: 0.10396493064642763\n"
     ]
    }
   ],
   "source": [
    "print('Доля ресторанов , где количество посадочных мест равно нулю:', len(df.query('number == 0'))/len(df['number']))"
   ]
  },
  {
   "cell_type": "markdown",
   "metadata": {},
   "source": [
    "Почти 10,5 % значений всего датасета с записями, где количество посадочных мест равно нулю. Весьма высокий показатель, изучим что это за заведения."
   ]
  },
  {
   "cell_type": "code",
   "execution_count": 16,
   "metadata": {},
   "outputs": [
    {
     "data": {
      "text/plain": [
       "фастфуд                      690\n",
       "кафе                         306\n",
       "закусочная                   182\n",
       "магазин (отдел кулинарии)    145\n",
       "кафетерий                    111\n",
       "буфет                         64\n",
       "ресторан                      44\n",
       "бар                           28\n",
       "столовая                      19\n",
       "Name: object_type, dtype: int64"
      ]
     },
     "execution_count": 16,
     "metadata": {},
     "output_type": "execute_result"
    }
   ],
   "source": [
    "number_0 = df.query('number == 0')\n",
    "number_0['object_type'].value_counts()"
   ]
  },
  {
   "cell_type": "code",
   "execution_count": 17,
   "metadata": {},
   "outputs": [
    {
     "data": {
      "text/html": [
       "<div>\n",
       "<style scoped>\n",
       "    .dataframe tbody tr th:only-of-type {\n",
       "        vertical-align: middle;\n",
       "    }\n",
       "\n",
       "    .dataframe tbody tr th {\n",
       "        vertical-align: top;\n",
       "    }\n",
       "\n",
       "    .dataframe thead th {\n",
       "        text-align: right;\n",
       "    }\n",
       "</style>\n",
       "<table border=\"1\" class=\"dataframe\">\n",
       "  <thead>\n",
       "    <tr style=\"text-align: right;\">\n",
       "      <th></th>\n",
       "      <th>577</th>\n",
       "      <th>802</th>\n",
       "      <th>1148</th>\n",
       "      <th>2750</th>\n",
       "      <th>2995</th>\n",
       "      <th>4985</th>\n",
       "      <th>4987</th>\n",
       "      <th>4988</th>\n",
       "      <th>4989</th>\n",
       "      <th>4991</th>\n",
       "      <th>...</th>\n",
       "      <th>15201</th>\n",
       "      <th>15246</th>\n",
       "      <th>15252</th>\n",
       "      <th>15253</th>\n",
       "      <th>15271</th>\n",
       "      <th>15278</th>\n",
       "      <th>15287</th>\n",
       "      <th>15288</th>\n",
       "      <th>15290</th>\n",
       "      <th>15331</th>\n",
       "    </tr>\n",
       "  </thead>\n",
       "  <tbody>\n",
       "    <tr>\n",
       "      <th>id</th>\n",
       "      <td>149220</td>\n",
       "      <td>142581</td>\n",
       "      <td>155495</td>\n",
       "      <td>152207</td>\n",
       "      <td>156171</td>\n",
       "      <td>157816</td>\n",
       "      <td>157819</td>\n",
       "      <td>157820</td>\n",
       "      <td>157821</td>\n",
       "      <td>157823</td>\n",
       "      <td>...</td>\n",
       "      <td>212776</td>\n",
       "      <td>214867</td>\n",
       "      <td>222677</td>\n",
       "      <td>214872</td>\n",
       "      <td>211210</td>\n",
       "      <td>211218</td>\n",
       "      <td>211416</td>\n",
       "      <td>211205</td>\n",
       "      <td>211204</td>\n",
       "      <td>211208</td>\n",
       "    </tr>\n",
       "    <tr>\n",
       "      <th>object_name</th>\n",
       "      <td>кофейня «кофе хаус»</td>\n",
       "      <td>кофе энигма</td>\n",
       "      <td>суши wok</td>\n",
       "      <td>правда кофе</td>\n",
       "      <td>донерок</td>\n",
       "      <td>пунш мастер</td>\n",
       "      <td>лес</td>\n",
       "      <td>кухни кипра</td>\n",
       "      <td>ok food story</td>\n",
       "      <td>maison declaiz</td>\n",
       "      <td>...</td>\n",
       "      <td>теремок</td>\n",
       "      <td>kfc</td>\n",
       "      <td>чайхона №1</td>\n",
       "      <td>чайхона №1</td>\n",
       "      <td>милти</td>\n",
       "      <td>милти</td>\n",
       "      <td>милти</td>\n",
       "      <td>милти</td>\n",
       "      <td>милти</td>\n",
       "      <td>милти</td>\n",
       "    </tr>\n",
       "    <tr>\n",
       "      <th>chain</th>\n",
       "      <td>да</td>\n",
       "      <td>нет</td>\n",
       "      <td>да</td>\n",
       "      <td>нет</td>\n",
       "      <td>нет</td>\n",
       "      <td>нет</td>\n",
       "      <td>нет</td>\n",
       "      <td>нет</td>\n",
       "      <td>нет</td>\n",
       "      <td>нет</td>\n",
       "      <td>...</td>\n",
       "      <td>да</td>\n",
       "      <td>да</td>\n",
       "      <td>да</td>\n",
       "      <td>да</td>\n",
       "      <td>да</td>\n",
       "      <td>да</td>\n",
       "      <td>да</td>\n",
       "      <td>да</td>\n",
       "      <td>да</td>\n",
       "      <td>да</td>\n",
       "    </tr>\n",
       "    <tr>\n",
       "      <th>object_type</th>\n",
       "      <td>кафе</td>\n",
       "      <td>кафе</td>\n",
       "      <td>кафе</td>\n",
       "      <td>кафе</td>\n",
       "      <td>кафе</td>\n",
       "      <td>кафе</td>\n",
       "      <td>кафе</td>\n",
       "      <td>кафе</td>\n",
       "      <td>кафе</td>\n",
       "      <td>кафе</td>\n",
       "      <td>...</td>\n",
       "      <td>кафе</td>\n",
       "      <td>кафе</td>\n",
       "      <td>кафе</td>\n",
       "      <td>кафе</td>\n",
       "      <td>кафе</td>\n",
       "      <td>кафе</td>\n",
       "      <td>кафе</td>\n",
       "      <td>кафе</td>\n",
       "      <td>кафе</td>\n",
       "      <td>кафе</td>\n",
       "    </tr>\n",
       "    <tr>\n",
       "      <th>address</th>\n",
       "      <td>город Москва, Павелецкая площадь, дом 1А, стро...</td>\n",
       "      <td>город Москва, Овчинниковская набережная, дом 2...</td>\n",
       "      <td>город Москва, Таганская улица, дом 31/22</td>\n",
       "      <td>город Москва, Нижняя Красносельская улица, дом...</td>\n",
       "      <td>город Москва, Кронштадтский бульвар, дом 3, ст...</td>\n",
       "      <td>город Москва, Нижняя Красносельская улица, дом...</td>\n",
       "      <td>город Москва, Нижняя Красносельская улица, дом...</td>\n",
       "      <td>город Москва, Нижняя Красносельская улица, дом...</td>\n",
       "      <td>город Москва, Нижняя Красносельская улица, дом...</td>\n",
       "      <td>город Москва, Нижняя Красносельская улица, дом...</td>\n",
       "      <td>...</td>\n",
       "      <td>город Москва, поселение Сосенское, Калужское ш...</td>\n",
       "      <td>город Москва, Кутузовский проспект, дом 57</td>\n",
       "      <td>город Москва, Мячковский бульвар, дом 3А</td>\n",
       "      <td>город Москва, Кутузовский проспект, дом 57</td>\n",
       "      <td>город Москва, Колодезный переулок, дом 3</td>\n",
       "      <td>город Москва, Зеленодольская улица, дом 33, ко...</td>\n",
       "      <td>город Москва, Сормовская улица, дом 6</td>\n",
       "      <td>город Москва, Сокольническая площадь, дом 9А</td>\n",
       "      <td>город Москва, улица Стромынка, дом 25, строение 1</td>\n",
       "      <td>город Москва, Дубининская улица, дом 41, строе...</td>\n",
       "    </tr>\n",
       "    <tr>\n",
       "      <th>number</th>\n",
       "      <td>0</td>\n",
       "      <td>0</td>\n",
       "      <td>0</td>\n",
       "      <td>0</td>\n",
       "      <td>0</td>\n",
       "      <td>0</td>\n",
       "      <td>0</td>\n",
       "      <td>0</td>\n",
       "      <td>0</td>\n",
       "      <td>0</td>\n",
       "      <td>...</td>\n",
       "      <td>0</td>\n",
       "      <td>0</td>\n",
       "      <td>0</td>\n",
       "      <td>0</td>\n",
       "      <td>0</td>\n",
       "      <td>0</td>\n",
       "      <td>0</td>\n",
       "      <td>0</td>\n",
       "      <td>0</td>\n",
       "      <td>0</td>\n",
       "    </tr>\n",
       "  </tbody>\n",
       "</table>\n",
       "<p>6 rows × 306 columns</p>\n",
       "</div>"
      ],
      "text/plain": [
       "                                                         577    \\\n",
       "id                                                      149220   \n",
       "object_name                                кофейня «кофе хаус»   \n",
       "chain                                                       да   \n",
       "object_type                                               кафе   \n",
       "address      город Москва, Павелецкая площадь, дом 1А, стро...   \n",
       "number                                                       0   \n",
       "\n",
       "                                                         802    \\\n",
       "id                                                      142581   \n",
       "object_name                                        кофе энигма   \n",
       "chain                                                      нет   \n",
       "object_type                                               кафе   \n",
       "address      город Москва, Овчинниковская набережная, дом 2...   \n",
       "number                                                       0   \n",
       "\n",
       "                                                1148   \\\n",
       "id                                             155495   \n",
       "object_name                                  суши wok   \n",
       "chain                                              да   \n",
       "object_type                                      кафе   \n",
       "address      город Москва, Таганская улица, дом 31/22   \n",
       "number                                              0   \n",
       "\n",
       "                                                         2750   \\\n",
       "id                                                      152207   \n",
       "object_name                                        правда кофе   \n",
       "chain                                                      нет   \n",
       "object_type                                               кафе   \n",
       "address      город Москва, Нижняя Красносельская улица, дом...   \n",
       "number                                                       0   \n",
       "\n",
       "                                                         2995   \\\n",
       "id                                                      156171   \n",
       "object_name                                            донерок   \n",
       "chain                                                      нет   \n",
       "object_type                                               кафе   \n",
       "address      город Москва, Кронштадтский бульвар, дом 3, ст...   \n",
       "number                                                       0   \n",
       "\n",
       "                                                         4985   \\\n",
       "id                                                      157816   \n",
       "object_name                                        пунш мастер   \n",
       "chain                                                      нет   \n",
       "object_type                                               кафе   \n",
       "address      город Москва, Нижняя Красносельская улица, дом...   \n",
       "number                                                       0   \n",
       "\n",
       "                                                         4987   \\\n",
       "id                                                      157819   \n",
       "object_name                                                лес   \n",
       "chain                                                      нет   \n",
       "object_type                                               кафе   \n",
       "address      город Москва, Нижняя Красносельская улица, дом...   \n",
       "number                                                       0   \n",
       "\n",
       "                                                         4988   \\\n",
       "id                                                      157820   \n",
       "object_name                                        кухни кипра   \n",
       "chain                                                      нет   \n",
       "object_type                                               кафе   \n",
       "address      город Москва, Нижняя Красносельская улица, дом...   \n",
       "number                                                       0   \n",
       "\n",
       "                                                         4989   \\\n",
       "id                                                      157821   \n",
       "object_name                                      ok food story   \n",
       "chain                                                      нет   \n",
       "object_type                                               кафе   \n",
       "address      город Москва, Нижняя Красносельская улица, дом...   \n",
       "number                                                       0   \n",
       "\n",
       "                                                         4991   ...  \\\n",
       "id                                                      157823  ...   \n",
       "object_name                                     maison declaiz  ...   \n",
       "chain                                                      нет  ...   \n",
       "object_type                                               кафе  ...   \n",
       "address      город Москва, Нижняя Красносельская улица, дом...  ...   \n",
       "number                                                       0  ...   \n",
       "\n",
       "                                                         15201  \\\n",
       "id                                                      212776   \n",
       "object_name                                            теремок   \n",
       "chain                                                       да   \n",
       "object_type                                               кафе   \n",
       "address      город Москва, поселение Сосенское, Калужское ш...   \n",
       "number                                                       0   \n",
       "\n",
       "                                                  15246  \\\n",
       "id                                               214867   \n",
       "object_name                                         kfc   \n",
       "chain                                                да   \n",
       "object_type                                        кафе   \n",
       "address      город Москва, Кутузовский проспект, дом 57   \n",
       "number                                                0   \n",
       "\n",
       "                                                15252  \\\n",
       "id                                             222677   \n",
       "object_name                                чайхона №1   \n",
       "chain                                              да   \n",
       "object_type                                      кафе   \n",
       "address      город Москва, Мячковский бульвар, дом 3А   \n",
       "number                                              0   \n",
       "\n",
       "                                                  15253  \\\n",
       "id                                               214872   \n",
       "object_name                                  чайхона №1   \n",
       "chain                                                да   \n",
       "object_type                                        кафе   \n",
       "address      город Москва, Кутузовский проспект, дом 57   \n",
       "number                                                0   \n",
       "\n",
       "                                                15271  \\\n",
       "id                                             211210   \n",
       "object_name                                     милти   \n",
       "chain                                              да   \n",
       "object_type                                      кафе   \n",
       "address      город Москва, Колодезный переулок, дом 3   \n",
       "number                                              0   \n",
       "\n",
       "                                                         15278  \\\n",
       "id                                                      211218   \n",
       "object_name                                              милти   \n",
       "chain                                                       да   \n",
       "object_type                                               кафе   \n",
       "address      город Москва, Зеленодольская улица, дом 33, ко...   \n",
       "number                                                       0   \n",
       "\n",
       "                                             15287  \\\n",
       "id                                          211416   \n",
       "object_name                                  милти   \n",
       "chain                                           да   \n",
       "object_type                                   кафе   \n",
       "address      город Москва, Сормовская улица, дом 6   \n",
       "number                                           0   \n",
       "\n",
       "                                                    15288  \\\n",
       "id                                                 211205   \n",
       "object_name                                         милти   \n",
       "chain                                                  да   \n",
       "object_type                                          кафе   \n",
       "address      город Москва, Сокольническая площадь, дом 9А   \n",
       "number                                                  0   \n",
       "\n",
       "                                                         15290  \\\n",
       "id                                                      211204   \n",
       "object_name                                              милти   \n",
       "chain                                                       да   \n",
       "object_type                                               кафе   \n",
       "address      город Москва, улица Стромынка, дом 25, строение 1   \n",
       "number                                                       0   \n",
       "\n",
       "                                                         15331  \n",
       "id                                                      211208  \n",
       "object_name                                              милти  \n",
       "chain                                                       да  \n",
       "object_type                                               кафе  \n",
       "address      город Москва, Дубининская улица, дом 41, строе...  \n",
       "number                                                       0  \n",
       "\n",
       "[6 rows x 306 columns]"
      ]
     },
     "execution_count": 17,
     "metadata": {},
     "output_type": "execute_result"
    }
   ],
   "source": [
    "number_0.query('object_type==\"кафе\"').T"
   ]
  },
  {
   "cell_type": "code",
   "execution_count": 18,
   "metadata": {},
   "outputs": [
    {
     "data": {
      "text/html": [
       "<div>\n",
       "<style scoped>\n",
       "    .dataframe tbody tr th:only-of-type {\n",
       "        vertical-align: middle;\n",
       "    }\n",
       "\n",
       "    .dataframe tbody tr th {\n",
       "        vertical-align: top;\n",
       "    }\n",
       "\n",
       "    .dataframe thead th {\n",
       "        text-align: right;\n",
       "    }\n",
       "</style>\n",
       "<table border=\"1\" class=\"dataframe\">\n",
       "  <thead>\n",
       "    <tr style=\"text-align: right;\">\n",
       "      <th></th>\n",
       "      <th>1873</th>\n",
       "      <th>4490</th>\n",
       "      <th>4491</th>\n",
       "      <th>4492</th>\n",
       "      <th>4493</th>\n",
       "      <th>4501</th>\n",
       "      <th>4502</th>\n",
       "      <th>4503</th>\n",
       "      <th>4504</th>\n",
       "      <th>6113</th>\n",
       "      <th>...</th>\n",
       "      <th>14620</th>\n",
       "      <th>14622</th>\n",
       "      <th>14930</th>\n",
       "      <th>14967</th>\n",
       "      <th>15068</th>\n",
       "      <th>15084</th>\n",
       "      <th>15105</th>\n",
       "      <th>15108</th>\n",
       "      <th>15236</th>\n",
       "      <th>15255</th>\n",
       "    </tr>\n",
       "  </thead>\n",
       "  <tbody>\n",
       "    <tr>\n",
       "      <th>id</th>\n",
       "      <td>79718</td>\n",
       "      <td>152298</td>\n",
       "      <td>152299</td>\n",
       "      <td>152305</td>\n",
       "      <td>152307</td>\n",
       "      <td>152255</td>\n",
       "      <td>152222</td>\n",
       "      <td>152224</td>\n",
       "      <td>152216</td>\n",
       "      <td>27193</td>\n",
       "      <td>...</td>\n",
       "      <td>219165</td>\n",
       "      <td>219037</td>\n",
       "      <td>223189</td>\n",
       "      <td>210764</td>\n",
       "      <td>215755</td>\n",
       "      <td>214843</td>\n",
       "      <td>219032</td>\n",
       "      <td>210192</td>\n",
       "      <td>219130</td>\n",
       "      <td>218284</td>\n",
       "    </tr>\n",
       "    <tr>\n",
       "      <th>object_name</th>\n",
       "      <td>макдоналдс</td>\n",
       "      <td>фудмаркет. яшечкина</td>\n",
       "      <td>фудмаркет. грачева</td>\n",
       "      <td>фудмаркет. шапиро</td>\n",
       "      <td>фудмаркет. салпагарова</td>\n",
       "      <td>фудмаркет.швыдкой</td>\n",
       "      <td>фудмаркет.паритова</td>\n",
       "      <td>фудмаркет. рогачикова</td>\n",
       "      <td>фудмаркет. галичкин</td>\n",
       "      <td>максимальный ресторан</td>\n",
       "      <td>...</td>\n",
       "      <td>bokker</td>\n",
       "      <td>пице хат</td>\n",
       "      <td>porto-pomodoro</td>\n",
       "      <td>дейли шеф</td>\n",
       "      <td>суши сет</td>\n",
       "      <td>coffeeshop</td>\n",
       "      <td>бургер кинг</td>\n",
       "      <td>бургер кинг</td>\n",
       "      <td>kfc</td>\n",
       "      <td>marmalato</td>\n",
       "    </tr>\n",
       "    <tr>\n",
       "      <th>chain</th>\n",
       "      <td>да</td>\n",
       "      <td>нет</td>\n",
       "      <td>нет</td>\n",
       "      <td>нет</td>\n",
       "      <td>нет</td>\n",
       "      <td>нет</td>\n",
       "      <td>нет</td>\n",
       "      <td>нет</td>\n",
       "      <td>нет</td>\n",
       "      <td>нет</td>\n",
       "      <td>...</td>\n",
       "      <td>нет</td>\n",
       "      <td>нет</td>\n",
       "      <td>нет</td>\n",
       "      <td>нет</td>\n",
       "      <td>да</td>\n",
       "      <td>да</td>\n",
       "      <td>да</td>\n",
       "      <td>да</td>\n",
       "      <td>да</td>\n",
       "      <td>да</td>\n",
       "    </tr>\n",
       "    <tr>\n",
       "      <th>object_type</th>\n",
       "      <td>ресторан</td>\n",
       "      <td>ресторан</td>\n",
       "      <td>ресторан</td>\n",
       "      <td>ресторан</td>\n",
       "      <td>ресторан</td>\n",
       "      <td>ресторан</td>\n",
       "      <td>ресторан</td>\n",
       "      <td>ресторан</td>\n",
       "      <td>ресторан</td>\n",
       "      <td>ресторан</td>\n",
       "      <td>...</td>\n",
       "      <td>ресторан</td>\n",
       "      <td>ресторан</td>\n",
       "      <td>ресторан</td>\n",
       "      <td>ресторан</td>\n",
       "      <td>ресторан</td>\n",
       "      <td>ресторан</td>\n",
       "      <td>ресторан</td>\n",
       "      <td>ресторан</td>\n",
       "      <td>ресторан</td>\n",
       "      <td>ресторан</td>\n",
       "    </tr>\n",
       "    <tr>\n",
       "      <th>address</th>\n",
       "      <td>город Москва, поселение Московский, деревня Го...</td>\n",
       "      <td>город Москва, улица Новый Арбат, дом 21</td>\n",
       "      <td>город Москва, улица Новый Арбат, дом 21</td>\n",
       "      <td>город Москва, улица Новый Арбат, дом 21</td>\n",
       "      <td>город Москва, улица Новый Арбат, дом 21</td>\n",
       "      <td>город Москва, улица Новый Арбат, дом 21</td>\n",
       "      <td>город Москва, улица Новый Арбат, дом 21</td>\n",
       "      <td>город Москва, улица Новый Арбат, дом 21</td>\n",
       "      <td>город Москва, улица Новый Арбат, дом 21</td>\n",
       "      <td>город Москва, Профсоюзная улица, дом 61А</td>\n",
       "      <td>...</td>\n",
       "      <td>город Москва, улица Вавилова, дом 3</td>\n",
       "      <td>город Москва, улица Вавилова, дом 3</td>\n",
       "      <td>город Москва, Ходынский бульвар, дом 4</td>\n",
       "      <td>город Москва, город Московский, улица Хабарова...</td>\n",
       "      <td>город Москва, улица 8 Марта, дом 8, корпус 1</td>\n",
       "      <td>город Москва, Кутузовский проспект, дом 57</td>\n",
       "      <td>город Москва, улица Вавилова, дом 3</td>\n",
       "      <td>город Москва, поселение Московский, Киевское ш...</td>\n",
       "      <td>город Москва, улица Вавилова, дом 3</td>\n",
       "      <td>город Москва, Хорошёвское шоссе, дом 27</td>\n",
       "    </tr>\n",
       "    <tr>\n",
       "      <th>number</th>\n",
       "      <td>0</td>\n",
       "      <td>0</td>\n",
       "      <td>0</td>\n",
       "      <td>0</td>\n",
       "      <td>0</td>\n",
       "      <td>0</td>\n",
       "      <td>0</td>\n",
       "      <td>0</td>\n",
       "      <td>0</td>\n",
       "      <td>0</td>\n",
       "      <td>...</td>\n",
       "      <td>0</td>\n",
       "      <td>0</td>\n",
       "      <td>0</td>\n",
       "      <td>0</td>\n",
       "      <td>0</td>\n",
       "      <td>0</td>\n",
       "      <td>0</td>\n",
       "      <td>0</td>\n",
       "      <td>0</td>\n",
       "      <td>0</td>\n",
       "    </tr>\n",
       "  </tbody>\n",
       "</table>\n",
       "<p>6 rows × 44 columns</p>\n",
       "</div>"
      ],
      "text/plain": [
       "                                                         1873   \\\n",
       "id                                                       79718   \n",
       "object_name                                         макдоналдс   \n",
       "chain                                                       да   \n",
       "object_type                                           ресторан   \n",
       "address      город Москва, поселение Московский, деревня Го...   \n",
       "number                                                       0   \n",
       "\n",
       "                                               4490   \\\n",
       "id                                            152298   \n",
       "object_name                      фудмаркет. яшечкина   \n",
       "chain                                            нет   \n",
       "object_type                                 ресторан   \n",
       "address      город Москва, улица Новый Арбат, дом 21   \n",
       "number                                             0   \n",
       "\n",
       "                                               4491   \\\n",
       "id                                            152299   \n",
       "object_name                       фудмаркет. грачева   \n",
       "chain                                            нет   \n",
       "object_type                                 ресторан   \n",
       "address      город Москва, улица Новый Арбат, дом 21   \n",
       "number                                             0   \n",
       "\n",
       "                                               4492   \\\n",
       "id                                            152305   \n",
       "object_name                        фудмаркет. шапиро   \n",
       "chain                                            нет   \n",
       "object_type                                 ресторан   \n",
       "address      город Москва, улица Новый Арбат, дом 21   \n",
       "number                                             0   \n",
       "\n",
       "                                               4493   \\\n",
       "id                                            152307   \n",
       "object_name                   фудмаркет. салпагарова   \n",
       "chain                                            нет   \n",
       "object_type                                 ресторан   \n",
       "address      город Москва, улица Новый Арбат, дом 21   \n",
       "number                                             0   \n",
       "\n",
       "                                               4501   \\\n",
       "id                                            152255   \n",
       "object_name                        фудмаркет.швыдкой   \n",
       "chain                                            нет   \n",
       "object_type                                 ресторан   \n",
       "address      город Москва, улица Новый Арбат, дом 21   \n",
       "number                                             0   \n",
       "\n",
       "                                               4502   \\\n",
       "id                                            152222   \n",
       "object_name                       фудмаркет.паритова   \n",
       "chain                                            нет   \n",
       "object_type                                 ресторан   \n",
       "address      город Москва, улица Новый Арбат, дом 21   \n",
       "number                                             0   \n",
       "\n",
       "                                               4503   \\\n",
       "id                                            152224   \n",
       "object_name                    фудмаркет. рогачикова   \n",
       "chain                                            нет   \n",
       "object_type                                 ресторан   \n",
       "address      город Москва, улица Новый Арбат, дом 21   \n",
       "number                                             0   \n",
       "\n",
       "                                               4504   \\\n",
       "id                                            152216   \n",
       "object_name                      фудмаркет. галичкин   \n",
       "chain                                            нет   \n",
       "object_type                                 ресторан   \n",
       "address      город Москва, улица Новый Арбат, дом 21   \n",
       "number                                             0   \n",
       "\n",
       "                                                6113   ...  \\\n",
       "id                                              27193  ...   \n",
       "object_name                     максимальный ресторан  ...   \n",
       "chain                                             нет  ...   \n",
       "object_type                                  ресторан  ...   \n",
       "address      город Москва, Профсоюзная улица, дом 61А  ...   \n",
       "number                                              0  ...   \n",
       "\n",
       "                                           14620  \\\n",
       "id                                        219165   \n",
       "object_name                               bokker   \n",
       "chain                                        нет   \n",
       "object_type                             ресторан   \n",
       "address      город Москва, улица Вавилова, дом 3   \n",
       "number                                         0   \n",
       "\n",
       "                                           14622  \\\n",
       "id                                        219037   \n",
       "object_name                             пице хат   \n",
       "chain                                        нет   \n",
       "object_type                             ресторан   \n",
       "address      город Москва, улица Вавилова, дом 3   \n",
       "number                                         0   \n",
       "\n",
       "                                              14930  \\\n",
       "id                                           223189   \n",
       "object_name                          porto-pomodoro   \n",
       "chain                                           нет   \n",
       "object_type                                ресторан   \n",
       "address      город Москва, Ходынский бульвар, дом 4   \n",
       "number                                            0   \n",
       "\n",
       "                                                         14967  \\\n",
       "id                                                      210764   \n",
       "object_name                                          дейли шеф   \n",
       "chain                                                      нет   \n",
       "object_type                                           ресторан   \n",
       "address      город Москва, город Московский, улица Хабарова...   \n",
       "number                                                       0   \n",
       "\n",
       "                                                    15068  \\\n",
       "id                                                 215755   \n",
       "object_name                                      суши сет   \n",
       "chain                                                  да   \n",
       "object_type                                      ресторан   \n",
       "address      город Москва, улица 8 Марта, дом 8, корпус 1   \n",
       "number                                                  0   \n",
       "\n",
       "                                                  15084  \\\n",
       "id                                               214843   \n",
       "object_name                                  coffeeshop   \n",
       "chain                                                да   \n",
       "object_type                                    ресторан   \n",
       "address      город Москва, Кутузовский проспект, дом 57   \n",
       "number                                                0   \n",
       "\n",
       "                                           15105  \\\n",
       "id                                        219032   \n",
       "object_name                          бургер кинг   \n",
       "chain                                         да   \n",
       "object_type                             ресторан   \n",
       "address      город Москва, улица Вавилова, дом 3   \n",
       "number                                         0   \n",
       "\n",
       "                                                         15108  \\\n",
       "id                                                      210192   \n",
       "object_name                                        бургер кинг   \n",
       "chain                                                       да   \n",
       "object_type                                           ресторан   \n",
       "address      город Москва, поселение Московский, Киевское ш...   \n",
       "number                                                       0   \n",
       "\n",
       "                                           15236  \\\n",
       "id                                        219130   \n",
       "object_name                                  kfc   \n",
       "chain                                         да   \n",
       "object_type                             ресторан   \n",
       "address      город Москва, улица Вавилова, дом 3   \n",
       "number                                         0   \n",
       "\n",
       "                                               15255  \n",
       "id                                            218284  \n",
       "object_name                                marmalato  \n",
       "chain                                             да  \n",
       "object_type                                 ресторан  \n",
       "address      город Москва, Хорошёвское шоссе, дом 27  \n",
       "number                                             0  \n",
       "\n",
       "[6 rows x 44 columns]"
      ]
     },
     "execution_count": 18,
     "metadata": {},
     "output_type": "execute_result"
    }
   ],
   "source": [
    "number_0.query('object_type==\"ресторан\"').T"
   ]
  },
  {
   "cell_type": "markdown",
   "metadata": {},
   "source": [
    "Мы видим, что основную массу с нулевой рассадкой занимают кафе быстрого питания, работающие на вынос, не будем их удалять"
   ]
  },
  {
   "cell_type": "markdown",
   "metadata": {},
   "source": [
    "Посмотрим весь список названий и оределим какие могут быть возможные дубликаты"
   ]
  },
  {
   "cell_type": "code",
   "execution_count": 19,
   "metadata": {},
   "outputs": [
    {
     "data": {
      "text/plain": [
       "['сметана',\n",
       " 'родник',\n",
       " 'кафе «академия»',\n",
       " 'пиццетория',\n",
       " 'кафе «вишневая метель»',\n",
       " 'стол. при гоу сош № 1051',\n",
       " 'брусника',\n",
       " 'буфет мтуси',\n",
       " 'кпф семья-1',\n",
       " 'столовая мтуси',\n",
       " 'пекарня 24',\n",
       " 'гогиели',\n",
       " 'школа 735',\n",
       " 'алло пицца',\n",
       " 'гимназия 1542',\n",
       " 'школа 1011',\n",
       " 'суши wok',\n",
       " 'донер кебаб',\n",
       " 'тануки',\n",
       " 'американская лаборатория десертов',\n",
       " 'кафе',\n",
       " 'кафе уют',\n",
       " 'долина чайхона',\n",
       " 'гбоу школа № 1411 (970)',\n",
       " 'кафетерий',\n",
       " \"домино'с пицца\",\n",
       " 'рахимкулова т.х.',\n",
       " 'столовая при гуп объединенный комбинат школьного питания',\n",
       " 'школа 1444',\n",
       " 'мархал',\n",
       " 'готика',\n",
       " 'гимназия № 1527',\n",
       " 'кафе «хинкальная»',\n",
       " 'суши wok',\n",
       " 'рыба & мясо на углях',\n",
       " 'кларом',\n",
       " 'месопотамия',\n",
       " 'му-му',\n",
       " 'хлеб насущный',\n",
       " 'tajj mahal',\n",
       " 'калифорния дайнер',\n",
       " 'балалаечная',\n",
       " 'пиросмани',\n",
       " 'данкин донатс',\n",
       " 'вареничная №1',\n",
       " 'шоколадница',\n",
       " 'il pizzaiolo',\n",
       " 'теремок',\n",
       " 'хлеб насущный',\n",
       " 'мосбург',\n",
       " 'эрик рыжий',\n",
       " 'домашняя снедь',\n",
       " 'хинкальная',\n",
       " 'му-му',\n",
       " 'восточный квартал',\n",
       " 'почтмейстер',\n",
       " 'босфор',\n",
       " 'мастер',\n",
       " 'шантимель',\n",
       " 'буфет при астраханских банях',\n",
       " 'столовая при школе 2097',\n",
       " 'столовая',\n",
       " 'буфет шк.104',\n",
       " 'карл баленг',\n",
       " 'гбоу школа № 1078',\n",
       " 'старый дворик',\n",
       " 'пивной погребок',\n",
       " 'тануки',\n",
       " 'паб «шемрок»',\n",
       " 'хуанхэ',\n",
       " 'специализированный цех магнолия',\n",
       " 'кафе-бар альбом',\n",
       " 'шоколадница',\n",
       " 'му-му',\n",
       " 'кальянный клуб дымок уголек',\n",
       " \"домино'с пицца\",\n",
       " 'хинкальная city',\n",
       " 'свобода',\n",
       " 'хинкальный дом колхида',\n",
       " 'глав пирог',\n",
       " 'розмарин',\n",
       " 'азербайджан',\n",
       " 'орхидея',\n",
       " 'школа 1186',\n",
       " 'кружка',\n",
       " 'пост скриптум',\n",
       " 'ciao bella',\n",
       " 'кафе бар бульвар',\n",
       " 'вояж',\n",
       " 'гбоу школа № 1411 (267)',\n",
       " 'жигулевское',\n",
       " 'сестры',\n",
       " 'столовая гбоу «курчатовская школа»',\n",
       " 'чайникофф',\n",
       " 'лукум',\n",
       " 'суши shop',\n",
       " 'хинкальная (на м. бирюзова)',\n",
       " 'шаурма жи',\n",
       " 'суши вок',\n",
       " 'примавера',\n",
       " 'траттория',\n",
       " 'суши store',\n",
       " 'булочная № 5',\n",
       " 'идилия',\n",
       " 'школа № 554',\n",
       " 'сказка востока',\n",
       " 'столовая при школе 1494 (3)',\n",
       " 'хочу на дачу',\n",
       " 'старый батумъ',\n",
       " 'суши-сет',\n",
       " 'кафе русский «водочный» дом',\n",
       " 'виктория',\n",
       " 'вареничная №1',\n",
       " 'комбинат питания мгту им.н.э.баумана',\n",
       " 'комбинат питания мгту им.н.э.баумана',\n",
       " 'комбинат питания мгту им.н.э.баумана',\n",
       " 'пиццерия «академия»',\n",
       " 'чебуречная ссср',\n",
       " 'местечко',\n",
       " 'пай поинт',\n",
       " 'макдоналдс',\n",
       " 'кафе «есть хинкали, пить вино»',\n",
       " 'кафе «лаффа лаффа»',\n",
       " 'ресторан «humans seafood bar»',\n",
       " 'ресторан «голос»',\n",
       " 'кафе «эстетик»',\n",
       " 'кафе «avocado queen»',\n",
       " 'ресторан«uilliams»',\n",
       " 'ресторан «донна клара»',\n",
       " 'grand cru',\n",
       " 'кафе «ladure»',\n",
       " 'вгик',\n",
       " 'бильярдный бар-клуб полковник и байрон',\n",
       " 'пиццерия «питто»',\n",
       " 'кафе «бирюса»',\n",
       " 'чайхона №1',\n",
       " 'шоколадница',\n",
       " 'пекарня & донер',\n",
       " 'финист',\n",
       " 'дэз минтранса россии',\n",
       " 'kvarta',\n",
       " 'панчо пицца',\n",
       " 'kfc',\n",
       " 'pizza hut',\n",
       " 'il borgo',\n",
       " 'радэа',\n",
       " 'кофейня даблби',\n",
       " 'сабвей',\n",
       " 'ресторан «якитория»',\n",
       " 'кафе баловень',\n",
       " 'советские времена',\n",
       " 'кафе «андерсон»',\n",
       " 'кафе «subway»',\n",
       " 'кафе «ламаджо»',\n",
       " 'шаурма в пите',\n",
       " 'выпечка',\n",
       " 'ресторан «макдоналдс»',\n",
       " 'суши',\n",
       " 'школьная столовая № 1874',\n",
       " 'макдоналдс',\n",
       " 'кофе «кофе собой»',\n",
       " 'кафе «калинка-д»',\n",
       " 'тануки',\n",
       " 'авлабар',\n",
       " 'суши сет',\n",
       " 'пироговая рогова',\n",
       " 'кафе контдитерская кузина',\n",
       " 'суши wok',\n",
       " 'аморе',\n",
       " 'шоколад',\n",
       " 'тирольские пироги',\n",
       " 'кафе 35',\n",
       " 'столовая «оп мгу кп мгу столовая 12»',\n",
       " 'буфет',\n",
       " 'панорама 93',\n",
       " 'кафе «пекарня «мюнгер»»',\n",
       " 'гудбар',\n",
       " 'бар «фитнес-бар»',\n",
       " 'кафе «театр на юго-западе»',\n",
       " 'угол',\n",
       " 'пекарня №1',\n",
       " 'бар в фитнес клубе',\n",
       " 'столовая при военторгбаз фкп «5113цтзб»',\n",
       " 'марина',\n",
       " 'кафе-бар «караоке myzon»',\n",
       " 'при школе 781',\n",
       " 'буфет-раздаточная',\n",
       " 'столовая гбоу сош №1399',\n",
       " 'гамбринус',\n",
       " 'пицца фабрика',\n",
       " 'шаурма, куры-гриль',\n",
       " 'французская пекарня delice',\n",
       " 'буфет при цо №1852',\n",
       " 'суши фиш',\n",
       " 'subway',\n",
       " 'шаурма, куры-гриль',\n",
       " \"домино'с пицца\",\n",
       " \"домино'с пицца\",\n",
       " 'шаурма, выпечка',\n",
       " 'тануки',\n",
       " 'школа 190 филиал',\n",
       " 'алло пицца',\n",
       " 'столовая при институте им. пушкина',\n",
       " 'хинкальная',\n",
       " 'дурдинъ',\n",
       " 'кафе «якитория»',\n",
       " 'гбоу школа №1468',\n",
       " 'кафе «чебурекас»',\n",
       " 'кафе «тануки»',\n",
       " 'loft 17',\n",
       " 'гбоу сош № 641 им. сергея есенина',\n",
       " 'гбоу сош № 825',\n",
       " 'гбоу «лицейско-гимнастический комплекс на юго-востоке',\n",
       " 'сити пицца',\n",
       " 'кружка',\n",
       " 'про кафе',\n",
       " 'гп кп мгаи',\n",
       " 'чебуречная ссср',\n",
       " 'английский паб букингем',\n",
       " 'суши-шоп',\n",
       " 'il pizzaiolo',\n",
       " 'пельмени',\n",
       " 'гбоу школа 896 «кдп»',\n",
       " 'эко-няма',\n",
       " 'кафе «верона»',\n",
       " 'французская пекарня',\n",
       " 'кафе «subway»',\n",
       " 'тирольские пироги',\n",
       " 'ооо «театро»',\n",
       " 'ресторан «балзи росси»',\n",
       " 'кофе хаус',\n",
       " 'шоколадница',\n",
       " 'кафе «кондитерская олега ильина»',\n",
       " 'клуб «высотка»',\n",
       " 'хинкала',\n",
       " 'сущевский дворик',\n",
       " 'столовая академии мчс россии',\n",
       " 'кофейня авеню',\n",
       " 'кафе',\n",
       " 'элит',\n",
       " 'пекарня',\n",
       " 'столовая гбпоу зкно',\n",
       " 'суши сет',\n",
       " 'столовая гбоу сош №1286',\n",
       " 'суши стор',\n",
       " 'буфет',\n",
       " 'кафе «prime cafe»',\n",
       " 'шоколадница',\n",
       " 'кафе «лавка и кафе студии лебедева»',\n",
       " 'котикилюди',\n",
       " 'шантимель',\n",
       " 'при школе 1294',\n",
       " 'хачапуритверскя',\n",
       " 'get lucky',\n",
       " 'craft republic',\n",
       " 'му-му',\n",
       " 'баба марта',\n",
       " 'хинкальная',\n",
       " 'чемодан',\n",
       " 'кулинарная лавка братьев караваевых братья караваевы',\n",
       " 'ресторан «монте кристо»',\n",
       " 'суши вок',\n",
       " 'гин-но-таки',\n",
       " 'голову с плеч',\n",
       " 'хлеб и вино',\n",
       " 'бирхаус',\n",
       " 'с утра',\n",
       " 'вареничная № 1',\n",
       " 'howards loves craft',\n",
       " 'lunchroom',\n",
       " 'прайм',\n",
       " 'пицца экспресс',\n",
       " 'армения',\n",
       " 'шоколадница кофе хаус',\n",
       " 'найт флайт',\n",
       " 'шоколадница',\n",
       " 'прайм',\n",
       " 'dry and wet bar',\n",
       " 'бистро',\n",
       " 'ав-дейли',\n",
       " 'шоколадница',\n",
       " 'николай',\n",
       " 'время есть',\n",
       " 'кофе таймс',\n",
       " 'якитория',\n",
       " 'чайхона №1',\n",
       " 'фудзи-ко',\n",
       " 'магнолия',\n",
       " 'прайм',\n",
       " 'тирольские пироги',\n",
       " 'кофе с собой',\n",
       " 'джаганнат',\n",
       " 'алёнка',\n",
       " 'art pub',\n",
       " 'шоколадница',\n",
       " 'шёлковый путь',\n",
       " 'ресторан «молон лаве»',\n",
       " 'ресторан «сайгон»',\n",
       " 'шоколадница',\n",
       " 'фаршбургер',\n",
       " 'ресторан «бургер кинг»',\n",
       " 'kfc',\n",
       " 'кофе хаус',\n",
       " 'кафе «чайхана айва»',\n",
       " 'выпечка, кофейня',\n",
       " 'пицца помодоро',\n",
       " 'мохнатый шмель',\n",
       " 'кафе «свежая выпечка»',\n",
       " 'столовая школы 1254',\n",
       " 'столовая-доготовочная при лицее «разум»',\n",
       " 'бильярдный клуб «лига»',\n",
       " 'дефакто',\n",
       " 'волконский',\n",
       " 'moskalyan',\n",
       " 'шоколадница',\n",
       " 'french kiss',\n",
       " 'панчо вилья',\n",
       " 'харбин',\n",
       " 'хлеб насущный',\n",
       " 'шоколадница',\n",
       " 'гино-но-таки',\n",
       " 'стол. шк. 218',\n",
       " 'кофе хаус',\n",
       " 'стол.шк.885',\n",
       " 'сундук',\n",
       " 'столовая №1 ргау-мсха им. к.а. тимирязева',\n",
       " 'дейлин',\n",
       " 'тануки',\n",
       " 'макдоналдс',\n",
       " 'стол.шк.244 кшп«логарифм»',\n",
       " 'донеретт',\n",
       " 'тратория semplice',\n",
       " \"домино'с пицца\",\n",
       " 'кафе на доватора',\n",
       " 'гбоу школа № 1499',\n",
       " 'центр социального обеспечения',\n",
       " 'баан тай',\n",
       " 'джастфою',\n",
       " \"домино'с пицца\",\n",
       " 'kfc',\n",
       " 'юнона',\n",
       " 'гп кп мгаи',\n",
       " 'гп кп мгаи',\n",
       " 'марани',\n",
       " 'пицца фабрика',\n",
       " 'суши wok',\n",
       " 'столовая при школе № 2107',\n",
       " 'кафе',\n",
       " 'шоколадница',\n",
       " 'кафе-бар «ля-николя»',\n",
       " 'ньокки',\n",
       " 'сахли',\n",
       " 'хижина',\n",
       " 'шаурма, выпечка',\n",
       " 'столовая спецшкола 9',\n",
       " 'булошная',\n",
       " 'додо пицца',\n",
       " 'виват пицца',\n",
       " 'суши-порт',\n",
       " 'тратория',\n",
       " 'кафетерий',\n",
       " 'кафе-пиццерия',\n",
       " 'донателло пицца',\n",
       " 'ресторан «эль гаучо»',\n",
       " 'гбоу «школа с углубленным изучением английского языка» №1208',\n",
       " 'пенная галерея',\n",
       " 'крошка картошка',\n",
       " 'шаурма, куры-гриль',\n",
       " 'бургер кинг',\n",
       " 'столовая гоу камс №17',\n",
       " 'блэк-кофе мини-кофейня',\n",
       " 'распутин',\n",
       " 'столовая',\n",
       " 'суши wok',\n",
       " 'папа джонс',\n",
       " 'кафе «блэк-кэт»',\n",
       " 'столовая при дюсш 1',\n",
       " 'школа 298',\n",
       " 'кафе уют',\n",
       " 'дом хинкали',\n",
       " 'сити пицца',\n",
       " 'старая гавань',\n",
       " 'школа №904 оао «кдп»',\n",
       " 'дом 12',\n",
       " 'чито-ра',\n",
       " 'кондитерская волконский',\n",
       " 'кальянная №1',\n",
       " 'шоколадница',\n",
       " 'россо энд бьянко',\n",
       " 'траттория семпличе',\n",
       " 'кофе бин',\n",
       " 'кафе «суло»',\n",
       " 'донер кебаб',\n",
       " 'бар и бильярд «стопка»',\n",
       " 'love',\n",
       " 'бар- буфет «николай»',\n",
       " 'флорентини',\n",
       " 'столовая при гоу цо № 1816',\n",
       " 'суши wok',\n",
       " 'психоневрологический интернат № 18',\n",
       " 'школа № 554',\n",
       " 'кафе «фрэндс форевер»',\n",
       " 'кафе «брауни»',\n",
       " 'кафе «буба на никитской»',\n",
       " 'кафе «grape»',\n",
       " 'чайхона 7-24',\n",
       " 'фгуп гнпп регион',\n",
       " 'ресторан «тануки»',\n",
       " 'столовая «гостиница мзп»',\n",
       " 'столовая «центра социальной защиты»',\n",
       " 'шаурма&гриль',\n",
       " 'кафе',\n",
       " 'dominos pizza',\n",
       " 'сабвей',\n",
       " 'шейх палас',\n",
       " \"lion's head pub\",\n",
       " 'beer gik',\n",
       " 'погребок',\n",
       " 'две палочки',\n",
       " 'пробка гриль',\n",
       " 'без забот',\n",
       " 'tempo di pasta',\n",
       " 'хлеб насущный',\n",
       " 'джон джоли',\n",
       " 'шоколадница',\n",
       " 'крошка картошка',\n",
       " 'макдоналдс',\n",
       " 'теремок',\n",
       " 'lambic брассерия',\n",
       " 'гостиница эмос',\n",
       " 'московский технический лицей',\n",
       " 'столовая рггу',\n",
       " 'shell, yes',\n",
       " 'шоколадница',\n",
       " 'боцман',\n",
       " 'бар«brix bar»',\n",
       " 'эль гаучо',\n",
       " 'пивной бар элефант',\n",
       " 'столовая',\n",
       " 'рюмочная бухучет',\n",
       " 'мацони',\n",
       " 'courvoisier',\n",
       " 'столовая (гбоу «школа №281»)',\n",
       " 'папа вейдер',\n",
       " 'киноклуб фитиль',\n",
       " 'сейджи',\n",
       " 'восточка. этническая кухня.',\n",
       " 'гриль хаус lamb cook',\n",
       " 'snooty fox',\n",
       " 'винный базар соседи',\n",
       " 'беби джоли',\n",
       " 'баловень т',\n",
       " 'ваби-саби',\n",
       " 'шоколадница',\n",
       " 'кофемания',\n",
       " 'бавариус',\n",
       " 'шоколадница',\n",
       " 'la spezia',\n",
       " 'столовая при гбоу школа 171',\n",
       " 'столовая при центре образования «радуга»',\n",
       " 'кафе',\n",
       " 'хачмас',\n",
       " 'простые вещи',\n",
       " 'столовая при гбоу школа 171',\n",
       " 'koпteam',\n",
       " 'столовая при шк. n954',\n",
       " 'кафе «ганеш»',\n",
       " 'павлин-мавлин',\n",
       " 'столовая при гбоу школа № 1503',\n",
       " 'белое озеро',\n",
       " 'кафе «петтина»',\n",
       " 'наследие',\n",
       " 'кафе «фарфале»',\n",
       " 'буфет',\n",
       " 'столовая при гоу сош №1497',\n",
       " 'спортбар №1',\n",
       " 'илларион',\n",
       " 'столовая при общежитии мади',\n",
       " 'кафе «чайхана тапчан»',\n",
       " 'ресторан «тануки»',\n",
       " 'папа джонс',\n",
       " 'ресторан «цветение сакуры»',\n",
       " 'ресторан «china club»',\n",
       " 'кафе «мишель»',\n",
       " 'кафе «пицца бар»',\n",
       " 'кафе «brooklyn burgers»',\n",
       " 'бар «pivbar»',\n",
       " 'выпечка',\n",
       " 'при школе 1360',\n",
       " 'школа 393',\n",
       " 'бургер кинг',\n",
       " 'бакинский очаг',\n",
       " 'таежный',\n",
       " 'бистро',\n",
       " 'шоколадница',\n",
       " 'восточная сказка',\n",
       " 'старый чинар',\n",
       " 'штолле',\n",
       " 'суши сет',\n",
       " 'шоколадница',\n",
       " 'страдивари',\n",
       " 'кондитерская фортутти',\n",
       " 'шафран',\n",
       " 'ресторан «персия»',\n",
       " 'кофе с собой',\n",
       " 'ярс-трейд',\n",
       " 'пури-хачапури',\n",
       " 'чебуреки',\n",
       " 'встреча',\n",
       " 'бабай клаб',\n",
       " 'столовая 5 комбинат питания при мгу',\n",
       " 'subway',\n",
       " 'столовая 5 комбинат питания при мгу',\n",
       " 'старая европа',\n",
       " 'макс бар',\n",
       " 'огни востока',\n",
       " 'шоколадница',\n",
       " 'теремок',\n",
       " 'ку ка буфет домашней еды',\n",
       " 'кружка',\n",
       " 'прованс',\n",
       " 'гбоу школа №705',\n",
       " 'фидан',\n",
       " 'столовая',\n",
       " 'андерсон',\n",
       " 'кристиан',\n",
       " 'диорама бар',\n",
       " 'клубный ресторан',\n",
       " 'pinocchio',\n",
       " 'кафе-бутик posh up, babe',\n",
       " 'кофемания',\n",
       " 'пион',\n",
       " 'кофе хаус. экспрессо и капучино бар',\n",
       " 'чистякова м.м.',\n",
       " 'кактус',\n",
       " 'темпл бар',\n",
       " 'кафетерий',\n",
       " 'карри',\n",
       " 'кп мэи',\n",
       " 'конеч.ст.водит.9 ав.п..',\n",
       " 'волконский',\n",
       " 'фортутти',\n",
       " 'папа джонс',\n",
       " 'столовая мосгоргеотрест',\n",
       " 'шоколадница',\n",
       " 'ваби-саби',\n",
       " 'хлеб&co',\n",
       " 'москафе',\n",
       " 'кафе хинкальная',\n",
       " 'al33 пиццерия бар ботега',\n",
       " 'буфет-бар бутербург',\n",
       " 'sea-тория',\n",
       " 'тратория italian «паста&пицца»',\n",
       " 'золотая бухара',\n",
       " 'кофе-бин',\n",
       " 'crema espresso bar',\n",
       " 'штолле',\n",
       " 'кофе хаус',\n",
       " 'французская выпечка',\n",
       " 'черчилль паб',\n",
       " 'cure bar',\n",
       " 'французская выпечка',\n",
       " 'кофе хаус',\n",
       " 'шоколадница',\n",
       " 'subway',\n",
       " 'вок стайл',\n",
       " 'максима пицца',\n",
       " 'французская выпечка',\n",
       " 'у адама',\n",
       " 'вилдшвайн',\n",
       " 'пиво есть',\n",
       " 'чайхона лаззат',\n",
       " 'кафе дяди сэма',\n",
       " 'кафе аэробар при павелецком вокзале',\n",
       " 'чайхона айва',\n",
       " 'кафе ферганское',\n",
       " 'общественное питание',\n",
       " 'кофейня «кофе хаус»',\n",
       " 'планета суши',\n",
       " 'общественное питание',\n",
       " 'общественное питание',\n",
       " 'общественное питание',\n",
       " 'шаурма',\n",
       " 'порто',\n",
       " 'де марко',\n",
       " 'ресторан «пивнушка»',\n",
       " 'шаурма',\n",
       " 'кафетерий «итальянская кондитерская»',\n",
       " 'ресторан «илья муромец»',\n",
       " 'ресторан «буйабез»',\n",
       " 'ресторан «корчма тарас бульба»',\n",
       " 'кофейня «шоколадница»',\n",
       " 'школа № 1266',\n",
       " 'пицца аморэ',\n",
       " 'флорентина сити',\n",
       " 'стейк хаус гудман',\n",
       " 'brawlers pab',\n",
       " 'true burgers',\n",
       " 'шоколадница',\n",
       " 'иль патио',\n",
       " 'иль-патио',\n",
       " 'якитория',\n",
       " 'азбука вкуса',\n",
       " 'южное',\n",
       " 'азбука вкуса',\n",
       " 'черетто',\n",
       " 'рика',\n",
       " 'мюнгер',\n",
       " 'кафе «башлам»',\n",
       " 'столовая при шк. n758',\n",
       " 'магазин-кулинария арго и к',\n",
       " 'нэцкэ',\n",
       " 'ле спа',\n",
       " 'hudson bar',\n",
       " 'хинкали пойнт',\n",
       " 'ботик петра',\n",
       " 'кондитерская «кузина»',\n",
       " 'буфет № 11 при общежитии №8 ргау-мсха им. к.а. тимирязева',\n",
       " 'столовой ргау-мсха им. к.а. тимирязева',\n",
       " 'буфет № 7 в общежитии ргау-мсха им. к.а. тимирязева',\n",
       " 'буфет при сок ргау-мсха им. к.а. тимирязева',\n",
       " 'стол. шк. 1213',\n",
       " 'школа № 187',\n",
       " 'линдерхоф',\n",
       " 'кп мгу буфет 72',\n",
       " 'при всероссийском учебном научно - методическом центре',\n",
       " 'пиатто',\n",
       " 'гивисациви',\n",
       " 'блан де блан',\n",
       " 'кафе «папа джонс»',\n",
       " 'кафе-пекарня «бурекас бейкери»',\n",
       " 'кафе «urbankitchen гастропаб»',\n",
       " 'кафе булошная',\n",
       " 'кафе капкан',\n",
       " 'специализированный цех вито-1',\n",
       " 'глав пив маг',\n",
       " 'beermood',\n",
       " 'круассан',\n",
       " 'ресторан «river side»',\n",
       " 'кафе «smoothiencoffee»',\n",
       " 'кафе chicen and pizza',\n",
       " 'золотые ручки',\n",
       " 'столовая при гбоу школа 57',\n",
       " 'кафе «штолле»',\n",
       " 'столовая шк 498',\n",
       " 'ресторан «гогиели»',\n",
       " 'столовая, кулинария',\n",
       " 'кофейня «даблби»',\n",
       " 'паста и баста',\n",
       " 'чин чин',\n",
       " 'кулинария 360',\n",
       " 'правdа кофе',\n",
       " 'wake cup',\n",
       " 'traffic jam паб',\n",
       " 'шоколадница',\n",
       " 'старый егерь',\n",
       " 'столовая структурного подразделения №3 гбоу школы 814',\n",
       " 'тиа',\n",
       " 'чайный клуб «мойчай.ру»',\n",
       " 'бейрут',\n",
       " 'кафе «сюрприз»',\n",
       " 'кафе «салсабил»',\n",
       " 'итальянское кафе',\n",
       " 'старая усадьба',\n",
       " 'кафе 12',\n",
       " 'дионис',\n",
       " 'авеню',\n",
       " 'медуза',\n",
       " 'ликия',\n",
       " 'мираж',\n",
       " 'галилео',\n",
       " 'пикассо кафе-бар',\n",
       " 'сити',\n",
       " 'синдбад',\n",
       " 'бейрут',\n",
       " 'пети',\n",
       " 'кампус кафе-бар',\n",
       " \"домино'с пицца\",\n",
       " 'габриелян',\n",
       " 'гбоу школа № 1236',\n",
       " 'донер-кебаб',\n",
       " 'сухарева башня',\n",
       " 'ваби-саби',\n",
       " 'шоколадница',\n",
       " 'джаганнат',\n",
       " 'krispy creme',\n",
       " 'французская пекарня',\n",
       " 'prime прайм стар',\n",
       " 'брусника',\n",
       " 'азбука вкуса',\n",
       " 'an nam',\n",
       " 'чайхона',\n",
       " 'ти-бон',\n",
       " 'кальянная хука хауз',\n",
       " 'wine point',\n",
       " 'крылышко-ножка',\n",
       " 'бар «джонни грин паб»',\n",
       " 'бар «мир бильярда»',\n",
       " 'ресторан «макдоналдс»',\n",
       " 'шоколадница',\n",
       " 'ресторан «якитория»',\n",
       " 'шоколадница',\n",
       " 'босс-кулинария',\n",
       " 'крафтмания',\n",
       " 'кафе «штолле»',\n",
       " 'ресторан «pesto»',\n",
       " 'ресторан «джон джоли»',\n",
       " 'ресторан «тануки»',\n",
       " 'кафе «бирхаус»',\n",
       " 'пекарня «папан»',\n",
       " 'кафе «золотая лестница»',\n",
       " 'буфет техникума мпэ',\n",
       " 'кобзарь',\n",
       " 'ресторан «граф орлов»',\n",
       " 'столовая',\n",
       " 'сушистор',\n",
       " 'шаурма',\n",
       " 'чайхана восточная сказка',\n",
       " 'кафе «i love kake»',\n",
       " 'ресторан «дом на патриарших»',\n",
       " 'кафе «джойя»',\n",
       " 'ресторан «хлеб и вино»',\n",
       " 'кафе-бильярд',\n",
       " 'тануки',\n",
       " 'шоколадница',\n",
       " 'кофе хаус',\n",
       " 'kfc',\n",
       " 'иль патио',\n",
       " 'папа джонс',\n",
       " 'трын-трава',\n",
       " 'москальян',\n",
       " 'кафе «венская сказка»',\n",
       " 'ресторан «тануки»',\n",
       " 'пиццерия',\n",
       " 'магазин-кулинария',\n",
       " 'гбоу школа №1554 (240)',\n",
       " 'бар«пивная библиотека»',\n",
       " 'журфак',\n",
       " 'школа 906 кдп',\n",
       " 'кафе «самарканд»',\n",
       " 'чебуречная №7',\n",
       " 'кафе «галерея»',\n",
       " 'хинкаль палас',\n",
       " 'шашлычная курдюк',\n",
       " 'тануки',\n",
       " 'пивко',\n",
       " 'суши магия',\n",
       " 'интерпаб',\n",
       " 'тамада',\n",
       " 'шоколадница',\n",
       " 'додо пицца',\n",
       " 'медицинский колледж №5',\n",
       " 'интернат №72 «комбинат дошкольного питания»',\n",
       " 'пороселло',\n",
       " 'пиццерия «папа джонс»',\n",
       " 'сыто пьяно',\n",
       " 'антикварный boutique & bar',\n",
       " 'union jack',\n",
       " 'бар «брюс»',\n",
       " 'кафе «coffee bean»',\n",
       " 'джаз-клуб союз композиторов',\n",
       " 'могучая кучка',\n",
       " 'траттория пепе',\n",
       " 'ресторан «брудер»',\n",
       " 'кафе «якитория»',\n",
       " 'валенсия',\n",
       " 'хинкальная виноград',\n",
       " 'стол. при го цо №1430',\n",
       " 'стол. при го сош № 219',\n",
       " 'эристави',\n",
       " 'семейное кафе',\n",
       " 'шаурма, выпечка',\n",
       " 'новогиреевское',\n",
       " 'три перца',\n",
       " 'столовая при гбоу школа 1231',\n",
       " 'у пиросмани',\n",
       " 'специализированный цех магнолия',\n",
       " 'пекарня-бистро',\n",
       " 'мацони',\n",
       " 'кафе дада',\n",
       " 'адажио',\n",
       " 'кафе-бар «каюк компания»',\n",
       " 'марсала',\n",
       " 'гбоу школа № 1352',\n",
       " 'теремок',\n",
       " 'прайм',\n",
       " 'шоколадница',\n",
       " 'типси паб',\n",
       " 'пекарня №1',\n",
       " 'тарелка',\n",
       " 'джон джоли',\n",
       " 'кальян',\n",
       " 'кулинариум',\n",
       " 'мимино',\n",
       " 'шоколадница',\n",
       " 'караоке «бум»',\n",
       " 'кофепорт',\n",
       " 'триумф',\n",
       " 'клаштер',\n",
       " 'баяр',\n",
       " 'локомотив',\n",
       " 'кафе «мама, я в тбилиси»',\n",
       " 'кофе энигма',\n",
       " 'столовая',\n",
       " 'гбоу сош № 825',\n",
       " 'экле',\n",
       " 'point 242',\n",
       " 'рой кастл',\n",
       " 'хмельная келья',\n",
       " 'эскалибур лтд',\n",
       " 'дарья-99',\n",
       " 'р. и м.',\n",
       " 'амадеус',\n",
       " 'кафе «пицца фабрика»',\n",
       " 'прайм стар',\n",
       " 'съестная лавка',\n",
       " 'суши',\n",
       " 'теремок',\n",
       " 'цинандали хинкальная',\n",
       " 'сабвей',\n",
       " 'кафе сю си пуси',\n",
       " 'кафе',\n",
       " 'столовая при шк. 951',\n",
       " 'ваниль',\n",
       " 'иль форно',\n",
       " 'хлеб насущный',\n",
       " 'столовая при оано оц «лучик»',\n",
       " 'шоколадница',\n",
       " 'travelers coffee',\n",
       " 'генацвале vip',\n",
       " 'чайхона №1',\n",
       " 'столовая при пансионате для ветеранов труда n 31',\n",
       " 'ресторан «max beef for money»',\n",
       " 'рецептор',\n",
       " 'кафе «пинч»',\n",
       " 'кафе «americano»',\n",
       " 'пицца «pizza pomodoro»',\n",
       " 'кинзадза',\n",
       " 'сушишоп',\n",
       " 'бистро',\n",
       " 'столовая при цо 1246 корпус № 1246',\n",
       " 'шаурма',\n",
       " 'гбоу школа № 950 (959)',\n",
       " 'воздухотехника',\n",
       " 'усадьба банная',\n",
       " 'буффало',\n",
       " 'гп кп мгапп',\n",
       " 'гп мгапп',\n",
       " 'subway',\n",
       " 'в окошках',\n",
       " 'бульвар',\n",
       " 'буфет «сош №334»',\n",
       " 'столовая «гоу сош №343»',\n",
       " 'kfc',\n",
       " 'шоколадница',\n",
       " 'суши стоп',\n",
       " 'му-му',\n",
       " 'столовая при пансионате для ветеранов №19',\n",
       " 'кафе тихий дом',\n",
       " 'буфет - гбоу сош № 64',\n",
       " 'буфет - гбоу 60',\n",
       " 'сольфасоль',\n",
       " 'менора',\n",
       " 'кофе-хаус',\n",
       " 'casa di familiya',\n",
       " 'городское кафе «лакомка»',\n",
       " 'вкус востока',\n",
       " 'якитория',\n",
       " 'саамо',\n",
       " 'баскин роббинс',\n",
       " 'кампус',\n",
       " 'кофейня fresh bar',\n",
       " 'буфет-раздаточная при гбу тцсо',\n",
       " \"домино'с пицца\",\n",
       " 'буфет при вузе',\n",
       " 'золотая лихорадка',\n",
       " 'гандзак',\n",
       " 'марокко',\n",
       " 'sweet smoke',\n",
       " 'барашка',\n",
       " 'рони',\n",
       " 'ла маре',\n",
       " 'корчма «тарас бульба»',\n",
       " 'catch',\n",
       " 'рюмка водки',\n",
       " 'мондриан бар',\n",
       " 'кафе «бабушкина вкуснятина»',\n",
       " 'кафе «шоколадница»',\n",
       " 'brut bar',\n",
       " 'кулинар №1',\n",
       " 'пицца хат',\n",
       " 'гончаровъ',\n",
       " 'кафе-столовая',\n",
       " 'ресторан «белый город»',\n",
       " 'тануки',\n",
       " 'пицца-фабрика',\n",
       " 'готов',\n",
       " 'бергштайн-бар',\n",
       " 'хинкальная 777',\n",
       " 'сказочный двор',\n",
       " 'шаурма, куры-гриль',\n",
       " 'столовая при гбоу школа 1231',\n",
       " 'фрателли',\n",
       " 'волконский',\n",
       " 'шоколадница',\n",
       " 'эдем',\n",
       " 'арт - кафе фа - минор',\n",
       " 'суши стор',\n",
       " 'кафе',\n",
       " 'ресторан «pilsner»',\n",
       " 'cezve coffee',\n",
       " 'столовая школы 67',\n",
       " 'плов',\n",
       " 'шарманка',\n",
       " 'чайхона №1',\n",
       " 'салли о брайенс',\n",
       " 'мята lounge',\n",
       " 'бургер кинг',\n",
       " 'papas burgers',\n",
       " 'costa coffee',\n",
       " 'столовая',\n",
       " 'закусочная',\n",
       " 'райская трапеза',\n",
       " 'линдфорс',\n",
       " 'кафе сказки алисы. белка бар',\n",
       " 'тануки',\n",
       " 'lock stock',\n",
       " 'илья муромец',\n",
       " 'sushisale',\n",
       " 'кафе «брусника»',\n",
       " 'кафе «прогресс»',\n",
       " 'кафе',\n",
       " 'ёрш',\n",
       " 'тануки',\n",
       " 'выпечка',\n",
       " 'кафе «мэри»',\n",
       " 'кафе «украинская ночь»',\n",
       " \"домино'с пицца\",\n",
       " 'стардогs',\n",
       " 'столовая шк. 4',\n",
       " 'французская пекарня',\n",
       " 'прованс',\n",
       " 'шоколадница',\n",
       " 'корчма тарас бульба',\n",
       " 'шоколадница',\n",
       " 'буфет шк. 584',\n",
       " 'лимончино',\n",
       " 'школа 190',\n",
       " 'гуп 1-ый автобусный парк «мосгортранс» автобусная',\n",
       " 'кафе еасс',\n",
       " 'суши вок',\n",
       " 'столовая гбоу школа № 1507 корпус школьного образования № 1507',\n",
       " 'столовая при доме-пансионате ветеранов науки',\n",
       " 'буфет зрительский при драм. театре',\n",
       " 'кафе «прайд 66»',\n",
       " 'шоколадница',\n",
       " 'upside down cake',\n",
       " 'густо',\n",
       " 'кофешоп компани',\n",
       " 'прайм',\n",
       " 'воронеж',\n",
       " 'rose bar',\n",
       " 'nobu',\n",
       " 'sempre',\n",
       " 'шоколадница',\n",
       " 'йогоцентр',\n",
       " 'столовая при цсо раменки',\n",
       " 'кафе «бин»',\n",
       " 'концерт бар',\n",
       " 'ресторан панч энд джуди',\n",
       " 'кафе пекарня хачапури',\n",
       " 'хлеб насущный',\n",
       " 'есть хинкали, пить вино',\n",
       " 'домашнее кафе сеть городских кафе',\n",
       " 'прайм стар',\n",
       " 'клуб-караоке весна',\n",
       " 'пекарня паул',\n",
       " 'илларион',\n",
       " 'пивной бар парка',\n",
       " 'ресторан тануки',\n",
       " 'бар-буфет николай',\n",
       " 'кофейня делюсь душой',\n",
       " 'ресторан name',\n",
       " 'кафетерий-кондитерская «ватрушка»',\n",
       " 'добрынинский и партнёры',\n",
       " 'шантимель',\n",
       " 'lowenbrau haus',\n",
       " 'при школе 892',\n",
       " 'колледж связи 54',\n",
       " 'соль и перец',\n",
       " 'трапезная',\n",
       " 'пироговая лавка',\n",
       " 'хинкальная',\n",
       " 'point 242',\n",
       " 'ресторан «боэми»',\n",
       " 'папа джонс',\n",
       " 'lampa cafe',\n",
       " 'кофейня «де марко»',\n",
       " 'менза',\n",
       " 'тапчан',\n",
       " ...]"
      ]
     },
     "execution_count": 19,
     "metadata": {},
     "output_type": "execute_result"
    }
   ],
   "source": [
    "df['object_name'].tolist()"
   ]
  },
  {
   "cell_type": "markdown",
   "metadata": {},
   "source": [
    "Видим, что есть кавычки в названия у одних, а у других нет - уберем их."
   ]
  },
  {
   "cell_type": "code",
   "execution_count": 20,
   "metadata": {},
   "outputs": [],
   "source": [
    "df['object_name'] = df['object_name'].str.replace(r'[«».]*', '')"
   ]
  },
  {
   "cell_type": "markdown",
   "metadata": {},
   "source": [
    "Также видим, что есть меножество дубликатов, например, макдоналдс и ресторан макдоналдс, kfc и кафе kfc, subway и сабвей."
   ]
  },
  {
   "cell_type": "markdown",
   "metadata": {},
   "source": [
    "Для того, чтобы определить у каких заведений прежде всего заменить дубликаты, посмотрим на первые 50 сетей, у кого больше всех заведений."
   ]
  },
  {
   "cell_type": "code",
   "execution_count": 21,
   "metadata": {
    "scrolled": true
   },
   "outputs": [
    {
     "data": {
      "text/plain": [
       "столовая                               321\n",
       "кафе                                   264\n",
       "шаурма                                 242\n",
       "шоколадница                            158\n",
       "kfc                                    156\n",
       "макдоналдс                             150\n",
       "бургер кинг                            137\n",
       "теремок                                 94\n",
       "крошка картошка                         90\n",
       "домино'с пицца                          90\n",
       "пекарня                                 81\n",
       "буфет                                   76\n",
       "милти                                   72\n",
       "суши wok                                72\n",
       "папа джонс                              51\n",
       "додо пицца                              49\n",
       "школьно-базовая столовая                44\n",
       "кофе с собой                            44\n",
       "чайхона №1                              43\n",
       "донер кебаб                             41\n",
       "якитория                                38\n",
       "кафетерий                               38\n",
       "хинкальная                              38\n",
       "выпечка                                 36\n",
       "subway                                  34\n",
       "кофе хаус                               34\n",
       "кофейня                                 33\n",
       "тануки                                  32\n",
       "хлеб насущный                           32\n",
       "starbucks                               30\n",
       "прайм стар                              26\n",
       "иль патио                               25\n",
       "cofix                                   25\n",
       "пиццерия                                24\n",
       "мята lounge                             24\n",
       "му-му                                   24\n",
       "кулинария                               23\n",
       "бистро                                  22\n",
       "бар                                     21\n",
       "старбакс                                21\n",
       "донер                                   20\n",
       "сабвей                                  19\n",
       "андерсон                                19\n",
       "кафе хинкальная                         18\n",
       "кафе шоколадница                        18\n",
       "пицца хат                               18\n",
       "пицца паоло                             18\n",
       "кулинарная лавка братьев караваевых     16\n",
       "кофе                                    16\n",
       "чайхона                                 16\n",
       "Name: object_name, dtype: int64"
      ]
     },
     "execution_count": 21,
     "metadata": {},
     "output_type": "execute_result"
    }
   ],
   "source": [
    "df['object_name'].value_counts().head(50)"
   ]
  },
  {
   "cell_type": "markdown",
   "metadata": {},
   "source": [
    "Напишем функцию duplicat, которая находит подстроку в ячейке и заменяет на новое значение."
   ]
  },
  {
   "cell_type": "code",
   "execution_count": 22,
   "metadata": {},
   "outputs": [],
   "source": [
    "def duplicat(duplicates, names):\n",
    "    for i, k in zip(duplicates, names):\n",
    "        df.loc[df['object_name'].str.contains(i, case=False), 'object_name'] = k\n",
    "# подстроки для замены\n",
    "old_value = ['шоколадница', 'кфс', 'бургер кинг','макдоналдс', 'McDonald', 'теремок', \"домино'с пицца\", \n",
    "       'крошка картошка', 'суши вок', 'суши wok', 'милти', 'папа джонс','додо пицца','старбакс', 'starbucks', \n",
    "       'иль патио', 'иль-патио','il патио', 'subway', 'сабвей', 'братьев караваевых', 'братья караваевы', 'якитория', \n",
    "       'кофе хаус', 'кофе-хаус', 'баскин роббинс', 'baskin robbins', 'мята lounge', 'мята', 'андерсон', 'му-му',\n",
    "       'данкин донатс', 'dunkin donuts', 'cofix', 'даблби', 'дабл би', 'тануки', 'стардогs', 'стардогс']\n",
    "       \n",
    "new_value = ['шоколадница', 'kfc','бургер кинг', 'макдоналдс', 'макдоналдс', 'теремок', \"домино'с пицца\", \n",
    "       'крошка картошка', 'суши wok', 'суши wok', 'милти', 'папа джонс', 'додо пицца','starbucks', 'starbucks', \n",
    "       'il Патио', 'il Патио','il патио','subway', 'subway', 'кулинарная лавка братьев караваевых', 'кулинарная лавка братьев караваевых',\n",
    "       'якитория', 'кофе хаус', 'кофе хаус', 'baskin robbins', 'baskin robbins', 'мята lounge', 'мята lounge', 'андерсон', 'му-му',\n",
    "       'dunkin donuts','dunkin donuts','cofix', 'даблби', 'даблби', 'тануки', 'стардогс', 'стардогс']\n",
    "duplicat(old_value, new_value)"
   ]
  },
  {
   "cell_type": "markdown",
   "metadata": {},
   "source": [
    "Проверим как изменилось количество заведений в сети"
   ]
  },
  {
   "cell_type": "code",
   "execution_count": 23,
   "metadata": {},
   "outputs": [
    {
     "data": {
      "text/plain": [
       "столовая           321\n",
       "кафе               264\n",
       "шаурма             242\n",
       "шоколадница        189\n",
       "макдоналдс         173\n",
       "бургер кинг        161\n",
       "kfc                158\n",
       "теремок            116\n",
       "домино'с пицца      99\n",
       "крошка картошка     96\n",
       "суши wok            91\n",
       "милти               83\n",
       "пекарня             81\n",
       "буфет               76\n",
       "starbucks           71\n",
       "Name: object_name, dtype: int64"
      ]
     },
     "execution_count": 23,
     "metadata": {},
     "output_type": "execute_result"
    }
   ],
   "source": [
    "df['object_name'].value_counts().head(15)"
   ]
  },
  {
   "cell_type": "markdown",
   "metadata": {},
   "source": [
    "### Выводы к разделу"
   ]
  },
  {
   "cell_type": "markdown",
   "metadata": {},
   "source": [
    "- в исходном датафрейме 15366 строк;\n",
    "- типы данных в столбцах корректны;\n",
    "- пропусков в данных нет, найдено и удалено 82 дубликата;\n",
    "- привели содержание столбцов object_name и object_type к нижнему регистру;\n",
    "- выявили и заменили дубликаты в столбце object_name;\n",
    "- выявлено, что 10,5 % значений всего датасета это записи, где количество посадочных мест равно нулю. Это кафе быстрого питания, работающие на вынос, принято решение их не удалять."
   ]
  },
  {
   "cell_type": "markdown",
   "metadata": {},
   "source": [
    "## Анализ данных"
   ]
  },
  {
   "cell_type": "markdown",
   "metadata": {},
   "source": [
    "### Соотношение видов объектов общественного питания по количеству"
   ]
  },
  {
   "cell_type": "markdown",
   "metadata": {},
   "source": [
    "Создадим таблицу с видами объектов общественного питания и их количеством"
   ]
  },
  {
   "cell_type": "code",
   "execution_count": 24,
   "metadata": {},
   "outputs": [
    {
     "data": {
      "text/html": [
       "<div>\n",
       "<style scoped>\n",
       "    .dataframe tbody tr th:only-of-type {\n",
       "        vertical-align: middle;\n",
       "    }\n",
       "\n",
       "    .dataframe tbody tr th {\n",
       "        vertical-align: top;\n",
       "    }\n",
       "\n",
       "    .dataframe thead th {\n",
       "        text-align: right;\n",
       "    }\n",
       "</style>\n",
       "<table border=\"1\" class=\"dataframe\">\n",
       "  <thead>\n",
       "    <tr style=\"text-align: right;\">\n",
       "      <th></th>\n",
       "      <th>object_type</th>\n",
       "      <th>count</th>\n",
       "    </tr>\n",
       "  </thead>\n",
       "  <tbody>\n",
       "    <tr>\n",
       "      <th>3</th>\n",
       "      <td>кафе</td>\n",
       "      <td>6071</td>\n",
       "    </tr>\n",
       "    <tr>\n",
       "      <th>7</th>\n",
       "      <td>столовая</td>\n",
       "      <td>2584</td>\n",
       "    </tr>\n",
       "    <tr>\n",
       "      <th>6</th>\n",
       "      <td>ресторан</td>\n",
       "      <td>2282</td>\n",
       "    </tr>\n",
       "    <tr>\n",
       "      <th>8</th>\n",
       "      <td>фастфуд</td>\n",
       "      <td>1898</td>\n",
       "    </tr>\n",
       "    <tr>\n",
       "      <th>0</th>\n",
       "      <td>бар</td>\n",
       "      <td>855</td>\n",
       "    </tr>\n",
       "    <tr>\n",
       "      <th>1</th>\n",
       "      <td>буфет</td>\n",
       "      <td>577</td>\n",
       "    </tr>\n",
       "    <tr>\n",
       "      <th>4</th>\n",
       "      <td>кафетерий</td>\n",
       "      <td>395</td>\n",
       "    </tr>\n",
       "    <tr>\n",
       "      <th>2</th>\n",
       "      <td>закусочная</td>\n",
       "      <td>349</td>\n",
       "    </tr>\n",
       "    <tr>\n",
       "      <th>5</th>\n",
       "      <td>магазин (отдел кулинарии)</td>\n",
       "      <td>273</td>\n",
       "    </tr>\n",
       "  </tbody>\n",
       "</table>\n",
       "</div>"
      ],
      "text/plain": [
       "                 object_type  count\n",
       "3                       кафе   6071\n",
       "7                   столовая   2584\n",
       "6                   ресторан   2282\n",
       "8                    фастфуд   1898\n",
       "0                        бар    855\n",
       "1                      буфет    577\n",
       "4                  кафетерий    395\n",
       "2                 закусочная    349\n",
       "5  магазин (отдел кулинарии)    273"
      ]
     },
     "metadata": {},
     "output_type": "display_data"
    }
   ],
   "source": [
    "object_type_group = df.groupby('object_type').agg({'number':'count'}).reset_index()\n",
    "object_type_group.columns=['object_type','count']\n",
    "object_type_group = object_type_group.sort_values('count', ascending = False)\n",
    "display(object_type_group)"
   ]
  },
  {
   "cell_type": "code",
   "execution_count": 25,
   "metadata": {},
   "outputs": [
    {
     "data": {
      "image/png": "[encoded data removed]",
      "text/plain": [
       "<Figure size 1152x432 with 1 Axes>"
      ]
     },
     "metadata": {
      "needs_background": "light"
     },
     "output_type": "display_data"
    }
   ],
   "source": [
    "plt.figure(figsize=(16, 6))\n",
    "ax=sns.barplot(x='object_type', y='count', data = object_type_group, palette = 'Set3')\n",
    "ax.set_xticklabels(ax.get_xticklabels(), rotation=50, horizontalalignment ='right', size=14)\n",
    "plt.box(False)\n",
    "plt.grid(False)\n",
    "total= object_type_group['count'].sum()\n",
    "for p in ax.patches:\n",
    "    height = p.get_height()\n",
    "    ax.text(p.get_x()+p.get_width()/2.,\n",
    "            height + 3,\n",
    "            '{:1.1%}'.format(height/total),\n",
    "            ha=\"center\", size=15) \n",
    "plt.title('Cоотношение видов объектов общественного питания по количеству', fontsize=16)\n",
    "plt.xlabel('Тип объекта общественного питания', fontsize=15)\n",
    "plt.ylabel('Количество', fontsize=15);"
   ]
  },
  {
   "cell_type": "markdown",
   "metadata": {},
   "source": [
    "**Вывод:**\n",
    "\n",
    "По видам объектов общественного питания лидирует кафе - 39.7% (6071 ед.), далее столовая - 16.9% (2584 ед.) и тройку замыкает ресторан (2282 ед.). Меньше всего у магазина(отдела кулинарии) - 1,8% (273 ед.)"
   ]
  },
  {
   "cell_type": "markdown",
   "metadata": {},
   "source": [
    "### Соотношение сетевых и несетевых заведений по количеству"
   ]
  },
  {
   "cell_type": "code",
   "execution_count": 26,
   "metadata": {},
   "outputs": [
    {
     "data": {
      "text/plain": [
       "chain\n",
       "да      2964\n",
       "нет    12320\n",
       "Name: object_name, dtype: int64"
      ]
     },
     "metadata": {},
     "output_type": "display_data"
    }
   ],
   "source": [
    "chain_group = df.groupby('chain')['object_name'].count()\n",
    "chain_group\n",
    "display(chain_group)"
   ]
  },
  {
   "cell_type": "code",
   "execution_count": 27,
   "metadata": {},
   "outputs": [
    {
     "data": {
      "image/png": "[encoded data removed]",
      "text/plain": [
       "<Figure size 720x576 with 1 Axes>"
      ]
     },
     "metadata": {},
     "output_type": "display_data"
    }
   ],
   "source": [
    "plt.figure(figsize=(10, 8))\n",
    "ax = chain_group .plot(kind='pie', autopct='%1.1f%%', legend=True, explode =(0,0.05))\n",
    "ax.set_title('Cоотношение сетевых и не сетевых заведений', fontsize=16)\n",
    "plt.ylabel('');"
   ]
  },
  {
   "cell_type": "markdown",
   "metadata": {},
   "source": [
    "**Вывод:**\n",
    "\n",
    "Несетевых заведений гораздо больше, чем сетевых, 80,6 % против 19,4%.\n",
    "Несетевых заведений 12320, а сетевых - 2964 ед."
   ]
  },
  {
   "cell_type": "markdown",
   "metadata": {},
   "source": [
    "### Для какого вида объекта общественного питания характерно сетевое распространение?"
   ]
  },
  {
   "cell_type": "code",
   "execution_count": 28,
   "metadata": {},
   "outputs": [
    {
     "data": {
      "text/html": [
       "<div>\n",
       "<style scoped>\n",
       "    .dataframe tbody tr th:only-of-type {\n",
       "        vertical-align: middle;\n",
       "    }\n",
       "\n",
       "    .dataframe tbody tr th {\n",
       "        vertical-align: top;\n",
       "    }\n",
       "\n",
       "    .dataframe thead th {\n",
       "        text-align: right;\n",
       "    }\n",
       "</style>\n",
       "<table border=\"1\" class=\"dataframe\">\n",
       "  <thead>\n",
       "    <tr style=\"text-align: right;\">\n",
       "      <th></th>\n",
       "      <th>object_type</th>\n",
       "      <th>chain_count</th>\n",
       "      <th>not_chain_count</th>\n",
       "    </tr>\n",
       "  </thead>\n",
       "  <tbody>\n",
       "    <tr>\n",
       "      <th>3</th>\n",
       "      <td>кафе</td>\n",
       "      <td>1396</td>\n",
       "      <td>4675</td>\n",
       "    </tr>\n",
       "    <tr>\n",
       "      <th>8</th>\n",
       "      <td>фастфуд</td>\n",
       "      <td>788</td>\n",
       "      <td>1110</td>\n",
       "    </tr>\n",
       "    <tr>\n",
       "      <th>6</th>\n",
       "      <td>ресторан</td>\n",
       "      <td>543</td>\n",
       "      <td>1739</td>\n",
       "    </tr>\n",
       "    <tr>\n",
       "      <th>5</th>\n",
       "      <td>магазин (отдел кулинарии)</td>\n",
       "      <td>78</td>\n",
       "      <td>195</td>\n",
       "    </tr>\n",
       "    <tr>\n",
       "      <th>2</th>\n",
       "      <td>закусочная</td>\n",
       "      <td>56</td>\n",
       "      <td>293</td>\n",
       "    </tr>\n",
       "    <tr>\n",
       "      <th>4</th>\n",
       "      <td>кафетерий</td>\n",
       "      <td>52</td>\n",
       "      <td>343</td>\n",
       "    </tr>\n",
       "    <tr>\n",
       "      <th>0</th>\n",
       "      <td>бар</td>\n",
       "      <td>37</td>\n",
       "      <td>818</td>\n",
       "    </tr>\n",
       "    <tr>\n",
       "      <th>1</th>\n",
       "      <td>буфет</td>\n",
       "      <td>11</td>\n",
       "      <td>566</td>\n",
       "    </tr>\n",
       "    <tr>\n",
       "      <th>7</th>\n",
       "      <td>столовая</td>\n",
       "      <td>3</td>\n",
       "      <td>2581</td>\n",
       "    </tr>\n",
       "  </tbody>\n",
       "</table>\n",
       "</div>"
      ],
      "text/plain": [
       "                 object_type  chain_count  not_chain_count\n",
       "3                       кафе         1396             4675\n",
       "8                    фастфуд          788             1110\n",
       "6                   ресторан          543             1739\n",
       "5  магазин (отдел кулинарии)           78              195\n",
       "2                 закусочная           56              293\n",
       "4                  кафетерий           52              343\n",
       "0                        бар           37              818\n",
       "1                      буфет           11              566\n",
       "7                   столовая            3             2581"
      ]
     },
     "metadata": {},
     "output_type": "display_data"
    }
   ],
   "source": [
    "object_type_chain = df.pivot_table(index=['object_type'], columns='chain', values='id', aggfunc='count').reset_index()\n",
    "object_type_chain.columns = object_type_chain.columns = ['object_type','chain_count','not_chain_count']\n",
    "display(object_type_chain.sort_values(by='chain_count', ascending=False))"
   ]
  },
  {
   "cell_type": "code",
   "execution_count": 29,
   "metadata": {},
   "outputs": [
    {
     "data": {
      "image/png": "[encoded data removed]",
      "text/plain": [
       "<Figure size 1152x360 with 1 Axes>"
      ]
     },
     "metadata": {
      "needs_background": "light"
     },
     "output_type": "display_data"
    }
   ],
   "source": [
    "plt.figure(figsize=(16, 5))\n",
    "ax=sns.barplot(x='object_type', y='chain_count', data = object_type_chain.sort_values(by='chain_count', ascending=False), palette = 'Set3')\n",
    "ax.set_xticklabels(ax.get_xticklabels(), rotation=50, horizontalalignment ='right', size=13)\n",
    "plt.box(False)\n",
    "plt.grid(False)\n",
    "for p in ax.patches:\n",
    "    height = p.get_height()\n",
    "    ax.text(p.get_x()+p.get_width()/2.,\n",
    "            height + 1,\n",
    "            '{:.0f}'.format(height),\n",
    "            ha=\"center\",size=14)\n",
    "plt.title('Количество объектов общественного питания, для которых характерно сетевое распространение', fontsize=16)\n",
    "plt.xlabel('Тип объекта общественного питания', fontsize=14)\n",
    "plt.ylabel('Количество', fontsize=14);"
   ]
  },
  {
   "cell_type": "code",
   "execution_count": 30,
   "metadata": {},
   "outputs": [],
   "source": [
    "object_type_chain['total_count']=object_type_chain['chain_count']+object_type_chain['not_chain_count']\n",
    "object_type_chain['chain_rate']=object_type_chain['chain_count']/object_type_chain['total_count']*100"
   ]
  },
  {
   "cell_type": "code",
   "execution_count": 31,
   "metadata": {},
   "outputs": [
    {
     "data": {
      "image/png": "[encoded data removed]",
      "text/plain": [
       "<Figure size 1152x432 with 1 Axes>"
      ]
     },
     "metadata": {
      "needs_background": "light"
     },
     "output_type": "display_data"
    }
   ],
   "source": [
    "plt.figure(figsize=(16, 6))\n",
    "ax=sns.barplot(x='object_type', y='chain_rate', data = object_type_chain.sort_values(by='chain_rate', ascending=False),palette = 'Set3')\n",
    "ax.set_xticklabels(ax.get_xticklabels(), rotation=50, horizontalalignment ='right', size=13)\n",
    "plt.box(False)\n",
    "plt.grid(False)\n",
    "for p in ax.patches:\n",
    "    width = p.get_width()\n",
    "    height = p.get_height()/100\n",
    "    x, y = p.get_xy() \n",
    "    ax.annotate(f'{height:.2%}', (x + width/2, (y + height*100)+.7), ha='center', size=14)\n",
    "plt.title('Доля объектов общественного питания с характерным сетевым распространением', fontsize=16)\n",
    "plt.xlabel('Тип объекта общественного питания', fontsize=14)\n",
    "plt.ylabel('Количество', fontsize=14);"
   ]
  },
  {
   "cell_type": "markdown",
   "metadata": {},
   "source": [
    "**Вывод:**\n",
    "\n",
    "В абсолютных значениях больше всего сетевых заведений у кафе - 1396 ед, фастфуд на 2-ом месте - 788 ед., на последнем месте столовая - 3 ед., но если рассматривать отношение сетевых и несетевых заведений в рамках одного вида объекта, то в лидерах фастфуд - 41.52%, в то время как у кафе только 23% всех заведений сетевые."
   ]
  },
  {
   "cell_type": "markdown",
   "metadata": {},
   "source": [
    "### Что характерно для сетевых заведений: много заведений с небольшим числом посадочных мест в каждом или мало заведений с большим количеством посадочных мест?"
   ]
  },
  {
   "cell_type": "code",
   "execution_count": 32,
   "metadata": {},
   "outputs": [
    {
     "data": {
      "text/html": [
       "<div>\n",
       "<style scoped>\n",
       "    .dataframe tbody tr th:only-of-type {\n",
       "        vertical-align: middle;\n",
       "    }\n",
       "\n",
       "    .dataframe tbody tr th {\n",
       "        vertical-align: top;\n",
       "    }\n",
       "\n",
       "    .dataframe thead th {\n",
       "        text-align: right;\n",
       "    }\n",
       "</style>\n",
       "<table border=\"1\" class=\"dataframe\">\n",
       "  <thead>\n",
       "    <tr style=\"text-align: right;\">\n",
       "      <th></th>\n",
       "      <th>object_name</th>\n",
       "      <th>count</th>\n",
       "      <th>number</th>\n",
       "    </tr>\n",
       "  </thead>\n",
       "  <tbody>\n",
       "    <tr>\n",
       "      <th>0</th>\n",
       "      <td>baskin robbins</td>\n",
       "      <td>15</td>\n",
       "      <td>10.13</td>\n",
       "    </tr>\n",
       "    <tr>\n",
       "      <th>1</th>\n",
       "      <td>beverly hills diner</td>\n",
       "      <td>1</td>\n",
       "      <td>88.00</td>\n",
       "    </tr>\n",
       "    <tr>\n",
       "      <th>2</th>\n",
       "      <td>bierloga</td>\n",
       "      <td>1</td>\n",
       "      <td>75.00</td>\n",
       "    </tr>\n",
       "    <tr>\n",
       "      <th>3</th>\n",
       "      <td>black &amp; white</td>\n",
       "      <td>1</td>\n",
       "      <td>40.00</td>\n",
       "    </tr>\n",
       "    <tr>\n",
       "      <th>4</th>\n",
       "      <td>bocconcino</td>\n",
       "      <td>3</td>\n",
       "      <td>66.67</td>\n",
       "    </tr>\n",
       "    <tr>\n",
       "      <th>5</th>\n",
       "      <td>boobo</td>\n",
       "      <td>1</td>\n",
       "      <td>46.00</td>\n",
       "    </tr>\n",
       "    <tr>\n",
       "      <th>6</th>\n",
       "      <td>bubbleology</td>\n",
       "      <td>1</td>\n",
       "      <td>6.00</td>\n",
       "    </tr>\n",
       "    <tr>\n",
       "      <th>7</th>\n",
       "      <td>burger club</td>\n",
       "      <td>3</td>\n",
       "      <td>20.33</td>\n",
       "    </tr>\n",
       "    <tr>\n",
       "      <th>8</th>\n",
       "      <td>coffeeshop</td>\n",
       "      <td>1</td>\n",
       "      <td>0.00</td>\n",
       "    </tr>\n",
       "    <tr>\n",
       "      <th>9</th>\n",
       "      <td>coffeeshop company</td>\n",
       "      <td>4</td>\n",
       "      <td>47.25</td>\n",
       "    </tr>\n",
       "  </tbody>\n",
       "</table>\n",
       "</div>"
      ],
      "text/plain": [
       "           object_name  count  number\n",
       "0       baskin robbins     15   10.13\n",
       "1  beverly hills diner      1   88.00\n",
       "2             bierloga      1   75.00\n",
       "3        black & white      1   40.00\n",
       "4           bocconcino      3   66.67\n",
       "5                boobo      1   46.00\n",
       "6          bubbleology      1    6.00\n",
       "7          burger club      3   20.33\n",
       "8           coffeeshop      1    0.00\n",
       "9   coffeeshop company      4   47.25"
      ]
     },
     "execution_count": 32,
     "metadata": {},
     "output_type": "execute_result"
    }
   ],
   "source": [
    "df_number = df.query('chain == \"да\"')\n",
    "df_number_pivot=df_number.pivot_table(\n",
    "    index='object_name',values=['id','number'], aggfunc={'id':'count','number':'mean'}).reset_index()\n",
    "df_number_pivot.columns=['object_name','count','number']\n",
    "df_number_pivot.head(10)"
   ]
  },
  {
   "cell_type": "code",
   "execution_count": 33,
   "metadata": {},
   "outputs": [
    {
     "data": {
      "text/html": [
       "<div>\n",
       "<style scoped>\n",
       "    .dataframe tbody tr th:only-of-type {\n",
       "        vertical-align: middle;\n",
       "    }\n",
       "\n",
       "    .dataframe tbody tr th {\n",
       "        vertical-align: top;\n",
       "    }\n",
       "\n",
       "    .dataframe thead th {\n",
       "        text-align: right;\n",
       "    }\n",
       "</style>\n",
       "<table border=\"1\" class=\"dataframe\">\n",
       "  <thead>\n",
       "    <tr style=\"text-align: right;\">\n",
       "      <th></th>\n",
       "      <th>count</th>\n",
       "      <th>mean</th>\n",
       "      <th>std</th>\n",
       "      <th>min</th>\n",
       "      <th>25%</th>\n",
       "      <th>50%</th>\n",
       "      <th>75%</th>\n",
       "      <th>max</th>\n",
       "    </tr>\n",
       "  </thead>\n",
       "  <tbody>\n",
       "    <tr>\n",
       "      <th>count</th>\n",
       "      <td>441.00</td>\n",
       "      <td>6.72</td>\n",
       "      <td>20.32</td>\n",
       "      <td>1.00</td>\n",
       "      <td>1.00</td>\n",
       "      <td>1.00</td>\n",
       "      <td>3.00</td>\n",
       "      <td>185.00</td>\n",
       "    </tr>\n",
       "    <tr>\n",
       "      <th>number</th>\n",
       "      <td>441.00</td>\n",
       "      <td>61.69</td>\n",
       "      <td>54.72</td>\n",
       "      <td>0.00</td>\n",
       "      <td>20.00</td>\n",
       "      <td>46.00</td>\n",
       "      <td>87.52</td>\n",
       "      <td>306.00</td>\n",
       "    </tr>\n",
       "  </tbody>\n",
       "</table>\n",
       "</div>"
      ],
      "text/plain": [
       "        count  mean   std  min   25%   50%   75%    max\n",
       "count  441.00  6.72 20.32 1.00  1.00  1.00  3.00 185.00\n",
       "number 441.00 61.69 54.72 0.00 20.00 46.00 87.52 306.00"
      ]
     },
     "execution_count": 33,
     "metadata": {},
     "output_type": "execute_result"
    }
   ],
   "source": [
    "df_number_pivot.describe().T"
   ]
  },
  {
   "cell_type": "code",
   "execution_count": 34,
   "metadata": {},
   "outputs": [
    {
     "data": {
      "image/png": "[encoded data removed]",
      "text/plain": [
       "<Figure size 1008x504 with 1 Axes>"
      ]
     },
     "metadata": {
      "needs_background": "light"
     },
     "output_type": "display_data"
    }
   ],
   "source": [
    "# построим диаграмму рассеивания\n",
    "plt.figure(figsize=(14, 7))\n",
    "sns.set(style=\"whitegrid\")\n",
    "sns.scatterplot(data=df_number_pivot, x='number', y='count', color='r', s=80)\n",
    "\n",
    "plt.title('Количество посадочных мест и число заведений в сетевых заведениях', fontsize=15)\n",
    "plt.xlabel('Среднее количество посадочных мест', fontsize=14);\n",
    "plt.ylabel('Количество заведений в сети', fontsize=14);"
   ]
  },
  {
   "cell_type": "markdown",
   "metadata": {},
   "source": [
    "**Вывод:**\n",
    "\n",
    "В городе преобладает большее число заведений с малым количеством посадочных мест - до 50 мест (медианное значение - 44), далее плотность распределения идет к резкому уменьшению и практически равна нулю на отметке в 300 посадочных мест."
   ]
  },
  {
   "cell_type": "markdown",
   "metadata": {},
   "source": [
    "### Для каждого вида объекта общественного питания опишите среднее количество посадочных мест. Какой вид предоставляет в среднем самое большое количество посадочных мест? Постройте графики."
   ]
  },
  {
   "cell_type": "code",
   "execution_count": 35,
   "metadata": {},
   "outputs": [
    {
     "data": {
      "text/html": [
       "<div>\n",
       "<style scoped>\n",
       "    .dataframe tbody tr th:only-of-type {\n",
       "        vertical-align: middle;\n",
       "    }\n",
       "\n",
       "    .dataframe tbody tr th {\n",
       "        vertical-align: top;\n",
       "    }\n",
       "\n",
       "    .dataframe thead th {\n",
       "        text-align: right;\n",
       "    }\n",
       "</style>\n",
       "<table border=\"1\" class=\"dataframe\">\n",
       "  <thead>\n",
       "    <tr style=\"text-align: right;\">\n",
       "      <th></th>\n",
       "      <th>object_type</th>\n",
       "      <th>mean_number</th>\n",
       "    </tr>\n",
       "  </thead>\n",
       "  <tbody>\n",
       "    <tr>\n",
       "      <th>0</th>\n",
       "      <td>бар</td>\n",
       "      <td>43.53</td>\n",
       "    </tr>\n",
       "    <tr>\n",
       "      <th>1</th>\n",
       "      <td>буфет</td>\n",
       "      <td>51.51</td>\n",
       "    </tr>\n",
       "    <tr>\n",
       "      <th>2</th>\n",
       "      <td>закусочная</td>\n",
       "      <td>7.83</td>\n",
       "    </tr>\n",
       "    <tr>\n",
       "      <th>3</th>\n",
       "      <td>кафе</td>\n",
       "      <td>39.79</td>\n",
       "    </tr>\n",
       "    <tr>\n",
       "      <th>4</th>\n",
       "      <td>кафетерий</td>\n",
       "      <td>9.18</td>\n",
       "    </tr>\n",
       "    <tr>\n",
       "      <th>5</th>\n",
       "      <td>магазин (отдел кулинарии)</td>\n",
       "      <td>5.59</td>\n",
       "    </tr>\n",
       "    <tr>\n",
       "      <th>6</th>\n",
       "      <td>ресторан</td>\n",
       "      <td>96.88</td>\n",
       "    </tr>\n",
       "    <tr>\n",
       "      <th>7</th>\n",
       "      <td>столовая</td>\n",
       "      <td>130.34</td>\n",
       "    </tr>\n",
       "    <tr>\n",
       "      <th>8</th>\n",
       "      <td>фастфуд</td>\n",
       "      <td>20.81</td>\n",
       "    </tr>\n",
       "  </tbody>\n",
       "</table>\n",
       "</div>"
      ],
      "text/plain": [
       "                 object_type  mean_number\n",
       "0                        бар        43.53\n",
       "1                      буфет        51.51\n",
       "2                 закусочная         7.83\n",
       "3                       кафе        39.79\n",
       "4                  кафетерий         9.18\n",
       "5  магазин (отдел кулинарии)         5.59\n",
       "6                   ресторан        96.88\n",
       "7                   столовая       130.34\n",
       "8                    фастфуд        20.81"
      ]
     },
     "metadata": {},
     "output_type": "display_data"
    }
   ],
   "source": [
    "df_mean_number_pivot=df.pivot_table(\n",
    "    index='object_type', aggfunc={'number':'mean'}).reset_index()\n",
    "df_mean_number_pivot.columns=['object_type','mean_number']\n",
    "display(df_mean_number_pivot)"
   ]
  },
  {
   "cell_type": "code",
   "execution_count": 36,
   "metadata": {},
   "outputs": [
    {
     "data": {
      "image/png": "[encoded data removed]",
      "text/plain": [
       "<Figure size 1152x360 with 1 Axes>"
      ]
     },
     "metadata": {},
     "output_type": "display_data"
    }
   ],
   "source": [
    "plt.figure(figsize=(16, 5))\n",
    "ax=sns.barplot(x='object_type', y='mean_number', data = df_mean_number_pivot.sort_values(by='mean_number', ascending=False),palette = 'Set3')\n",
    "ax.set_xticklabels(ax.get_xticklabels(), rotation=50, horizontalalignment ='right', size=14)\n",
    "plt.box(False)\n",
    "plt.grid(False)\n",
    "for p in ax.patches:\n",
    "    height = p.get_height()\n",
    "    ax.text(p.get_x()+p.get_width()/2.,\n",
    "            height + 1,\n",
    "            '{:.0f}'.format(height),\n",
    "            ha=\"center\",size=14)\n",
    "plt.title('Cреднее количество посадочных мест для каждого вида объекта общественного питания', fontsize=16)\n",
    "plt.xlabel('Тип объекта общественного питания', fontsize=14)\n",
    "plt.ylabel('Количество', fontsize=14);"
   ]
  },
  {
   "cell_type": "code",
   "execution_count": 37,
   "metadata": {},
   "outputs": [],
   "source": [
    "#Что было ранее в проекте\n",
    "\n",
    "#plt.figure(figsize=(15, 7))\n",
    "#sns.boxplot(x='object_type', y='number', data=df,palette = 'Set3');\n",
    "#plt.title('Распределение количества посадочных мест по видам объектов общественного питания', fontsize=15)\n",
    "#plt.box(False)\n",
    "#plt.grid(False)\n",
    "#plt.xlabel('Вид объекта общественного питания', fontsize=14 );\n",
    "#plt.ylabel('Количество посадочных мест', fontsize=14);\n",
    "#plt.ylim(0, 500);"
   ]
  },
  {
   "cell_type": "markdown",
   "metadata": {},
   "source": [
    "**Вывод:**\n",
    "\n",
    "В среднем самое большое число посадочных мест в столовых (130 места), далее на втором месте ресторанв (97 мест), тройку замыкают буфеты (52 посадочных места). У кафе - в среднем 40 посадочных мест, у фастфуда - 21, меньше всего посадочных мсет у отделов кулинарии - 6."
   ]
  },
  {
   "cell_type": "markdown",
   "metadata": {},
   "source": [
    "### Выделите в отдельный столбец информацию об улице из столбца address ."
   ]
  },
  {
   "cell_type": "code",
   "execution_count": 38,
   "metadata": {},
   "outputs": [
    {
     "data": {
      "text/html": [
       "<div>\n",
       "<style scoped>\n",
       "    .dataframe tbody tr th:only-of-type {\n",
       "        vertical-align: middle;\n",
       "    }\n",
       "\n",
       "    .dataframe tbody tr th {\n",
       "        vertical-align: top;\n",
       "    }\n",
       "\n",
       "    .dataframe thead th {\n",
       "        text-align: right;\n",
       "    }\n",
       "</style>\n",
       "<table border=\"1\" class=\"dataframe\">\n",
       "  <thead>\n",
       "    <tr style=\"text-align: right;\">\n",
       "      <th></th>\n",
       "      <th>id</th>\n",
       "      <th>object_name</th>\n",
       "      <th>chain</th>\n",
       "      <th>object_type</th>\n",
       "      <th>address</th>\n",
       "      <th>number</th>\n",
       "      <th>street</th>\n",
       "    </tr>\n",
       "  </thead>\n",
       "  <tbody>\n",
       "    <tr>\n",
       "      <th>13165</th>\n",
       "      <td>194168</td>\n",
       "      <td>кафе ph&amp;b</td>\n",
       "      <td>нет</td>\n",
       "      <td>кафе</td>\n",
       "      <td>город Москва, 2-я Звенигородская улица, дом 13...</td>\n",
       "      <td>25</td>\n",
       "      <td>2-я Звенигородская улица</td>\n",
       "    </tr>\n",
       "    <tr>\n",
       "      <th>2642</th>\n",
       "      <td>28569</td>\n",
       "      <td>столовая педколледжа №13</td>\n",
       "      <td>нет</td>\n",
       "      <td>столовая</td>\n",
       "      <td>город Москва, Большая Академическая улица, дом...</td>\n",
       "      <td>240</td>\n",
       "      <td>Большая Академическая улица</td>\n",
       "    </tr>\n",
       "    <tr>\n",
       "      <th>8189</th>\n",
       "      <td>129828</td>\n",
       "      <td>ресторан zotman pizza pie</td>\n",
       "      <td>нет</td>\n",
       "      <td>ресторан</td>\n",
       "      <td>город Москва, Большая Никитская улица, дом 23/...</td>\n",
       "      <td>45</td>\n",
       "      <td>Большая Никитская улица</td>\n",
       "    </tr>\n",
       "    <tr>\n",
       "      <th>7286</th>\n",
       "      <td>28351</td>\n",
       "      <td>столовая московский индустриальный банк</td>\n",
       "      <td>нет</td>\n",
       "      <td>столовая</td>\n",
       "      <td>город Москва, улица Орджоникидзе, дом 5</td>\n",
       "      <td>52</td>\n",
       "      <td>улица Орджоникидзе</td>\n",
       "    </tr>\n",
       "    <tr>\n",
       "      <th>9637</th>\n",
       "      <td>164717</td>\n",
       "      <td>теремок</td>\n",
       "      <td>да</td>\n",
       "      <td>кафе</td>\n",
       "      <td>город Москва, поселение Воскресенское, Чечёрск...</td>\n",
       "      <td>8</td>\n",
       "      <td>Чечёрский проезд</td>\n",
       "    </tr>\n",
       "  </tbody>\n",
       "</table>\n",
       "</div>"
      ],
      "text/plain": [
       "           id                              object_name chain object_type  \\\n",
       "13165  194168                                кафе ph&b   нет        кафе   \n",
       "2642    28569                 столовая педколледжа №13   нет    столовая   \n",
       "8189   129828                ресторан zotman pizza pie   нет    ресторан   \n",
       "7286    28351  столовая московский индустриальный банк   нет    столовая   \n",
       "9637   164717                                  теремок    да        кафе   \n",
       "\n",
       "                                                 address  number  \\\n",
       "13165  город Москва, 2-я Звенигородская улица, дом 13...      25   \n",
       "2642   город Москва, Большая Академическая улица, дом...     240   \n",
       "8189   город Москва, Большая Никитская улица, дом 23/...      45   \n",
       "7286             город Москва, улица Орджоникидзе, дом 5      52   \n",
       "9637   город Москва, поселение Воскресенское, Чечёрск...       8   \n",
       "\n",
       "                            street  \n",
       "13165     2-я Звенигородская улица  \n",
       "2642   Большая Академическая улица  \n",
       "8189       Большая Никитская улица  \n",
       "7286            улица Орджоникидзе  \n",
       "9637              Чечёрский проезд  "
      ]
     },
     "execution_count": 38,
     "metadata": {},
     "output_type": "execute_result"
    }
   ],
   "source": [
    "#воспользумся регулярным выражением для извлечения улицы из адреса\n",
    "words = ['улица','ул','переулок','шоссе','проспект','площадь','проезд',\n",
    "         'село','аллея','бульвар','набережная','тупик','линия']\n",
    "str_pat = r\".*,\\s*\\b([^,]*?(?:{})\\b[^,]*)[,$]+\".format(\"|\".join(words))\n",
    "df[\"street\"] = df[\"address\"].str.extract(str_pat, flags=re.I)\n",
    "df.sample(5)"
   ]
  },
  {
   "cell_type": "markdown",
   "metadata": {},
   "source": [
    "### Постройте график топ-10 улиц по количеству объектов общественного питания. Воспользуйтесь внешней информацией и ответьте на вопрос — в каких районах Москвы находятся эти улицы?"
   ]
  },
  {
   "cell_type": "code",
   "execution_count": 39,
   "metadata": {},
   "outputs": [
    {
     "data": {
      "text/html": [
       "<div>\n",
       "<style scoped>\n",
       "    .dataframe tbody tr th:only-of-type {\n",
       "        vertical-align: middle;\n",
       "    }\n",
       "\n",
       "    .dataframe tbody tr th {\n",
       "        vertical-align: top;\n",
       "    }\n",
       "\n",
       "    .dataframe thead th {\n",
       "        text-align: right;\n",
       "    }\n",
       "</style>\n",
       "<table border=\"1\" class=\"dataframe\">\n",
       "  <thead>\n",
       "    <tr style=\"text-align: right;\">\n",
       "      <th></th>\n",
       "      <th>street</th>\n",
       "      <th>count</th>\n",
       "    </tr>\n",
       "  </thead>\n",
       "  <tbody>\n",
       "    <tr>\n",
       "      <th>1418</th>\n",
       "      <td>проспект Мира</td>\n",
       "      <td>204</td>\n",
       "    </tr>\n",
       "    <tr>\n",
       "      <th>1009</th>\n",
       "      <td>Профсоюзная улица</td>\n",
       "      <td>181</td>\n",
       "    </tr>\n",
       "    <tr>\n",
       "      <th>683</th>\n",
       "      <td>Ленинградский проспект</td>\n",
       "      <td>170</td>\n",
       "    </tr>\n",
       "    <tr>\n",
       "      <th>993</th>\n",
       "      <td>Пресненская набережная</td>\n",
       "      <td>167</td>\n",
       "    </tr>\n",
       "    <tr>\n",
       "      <th>397</th>\n",
       "      <td>Варшавское шоссе</td>\n",
       "      <td>164</td>\n",
       "    </tr>\n",
       "    <tr>\n",
       "      <th>686</th>\n",
       "      <td>Ленинский проспект</td>\n",
       "      <td>147</td>\n",
       "    </tr>\n",
       "    <tr>\n",
       "      <th>1414</th>\n",
       "      <td>проспект Вернадского</td>\n",
       "      <td>128</td>\n",
       "    </tr>\n",
       "    <tr>\n",
       "      <th>673</th>\n",
       "      <td>Кутузовский проспект</td>\n",
       "      <td>114</td>\n",
       "    </tr>\n",
       "    <tr>\n",
       "      <th>596</th>\n",
       "      <td>Каширское шоссе</td>\n",
       "      <td>111</td>\n",
       "    </tr>\n",
       "    <tr>\n",
       "      <th>603</th>\n",
       "      <td>Кировоградская улица</td>\n",
       "      <td>108</td>\n",
       "    </tr>\n",
       "  </tbody>\n",
       "</table>\n",
       "</div>"
      ],
      "text/plain": [
       "                      street  count\n",
       "1418           проспект Мира    204\n",
       "1009       Профсоюзная улица    181\n",
       "683   Ленинградский проспект    170\n",
       "993   Пресненская набережная    167\n",
       "397         Варшавское шоссе    164\n",
       "686       Ленинский проспект    147\n",
       "1414    проспект Вернадского    128\n",
       "673     Кутузовский проспект    114\n",
       "596          Каширское шоссе    111\n",
       "603     Кировоградская улица    108"
      ]
     },
     "metadata": {},
     "output_type": "display_data"
    }
   ],
   "source": [
    "top_street=df.pivot_table(\n",
    "    index='street', aggfunc={'object_type':'count'}).reset_index()\n",
    "top_street.columns=['street','count']\n",
    "top_street=top_street.sort_values(by='count', ascending=False).head(10)\n",
    "display(top_street)"
   ]
  },
  {
   "cell_type": "code",
   "execution_count": 40,
   "metadata": {},
   "outputs": [
    {
     "data": {
      "image/png": "[encoded data removed]",
      "text/plain": [
       "<Figure size 1080x360 with 1 Axes>"
      ]
     },
     "metadata": {},
     "output_type": "display_data"
    }
   ],
   "source": [
    "plt.figure(figsize=(15, 5))\n",
    "ax=sns.barplot(x='street', y='count', data = top_street,palette = 'Set3')\n",
    "ax.set_xticklabels(ax.get_xticklabels(), rotation=50, horizontalalignment ='right', size=13)\n",
    "plt.box(False)\n",
    "plt.grid(False)\n",
    "for p in ax.patches:\n",
    "    height = p.get_height()\n",
    "    ax.text(p.get_x()+p.get_width()/2.,\n",
    "            height + 1,\n",
    "            '{:.0f}'.format(height),\n",
    "            ha=\"center\",size=14)\n",
    "plt.title('Tоп-10 улиц по количеству объектов общественного питания', fontsize=16)\n",
    "plt.xlabel('Улица', fontsize=14)\n",
    "plt.ylabel('Количество', fontsize=14);"
   ]
  },
  {
   "cell_type": "markdown",
   "metadata": {},
   "source": [
    "Для определения района воспользуемся базой данных из интернета \n",
    "https://docs.google.com/spreadsheets/d/1GyKro_Zg5DOgVl42rMJKrH-6ra2Jcuayj4qTlcuM7JI/edit?usp=sharing"
   ]
  },
  {
   "cell_type": "code",
   "execution_count": 41,
   "metadata": {},
   "outputs": [
    {
     "data": {
      "text/html": [
       "<div>\n",
       "<style scoped>\n",
       "    .dataframe tbody tr th:only-of-type {\n",
       "        vertical-align: middle;\n",
       "    }\n",
       "\n",
       "    .dataframe tbody tr th {\n",
       "        vertical-align: top;\n",
       "    }\n",
       "\n",
       "    .dataframe thead th {\n",
       "        text-align: right;\n",
       "    }\n",
       "</style>\n",
       "<table border=\"1\" class=\"dataframe\">\n",
       "  <thead>\n",
       "    <tr style=\"text-align: right;\">\n",
       "      <th></th>\n",
       "      <th>street</th>\n",
       "      <th>areaid</th>\n",
       "      <th>okrug</th>\n",
       "      <th>area</th>\n",
       "    </tr>\n",
       "  </thead>\n",
       "  <tbody>\n",
       "    <tr>\n",
       "      <th>0</th>\n",
       "      <td>1-й Автозаводский проезд</td>\n",
       "      <td>98</td>\n",
       "      <td>ЮАО</td>\n",
       "      <td>Даниловский район</td>\n",
       "    </tr>\n",
       "    <tr>\n",
       "      <th>1</th>\n",
       "      <td>1-й Амбулаторный проезд</td>\n",
       "      <td>54</td>\n",
       "      <td>САО</td>\n",
       "      <td>Район Аэропорт</td>\n",
       "    </tr>\n",
       "    <tr>\n",
       "      <th>2</th>\n",
       "      <td>1-й Архивный переулок</td>\n",
       "      <td>20</td>\n",
       "      <td>ЦАО</td>\n",
       "      <td>Район Хамовники</td>\n",
       "    </tr>\n",
       "    <tr>\n",
       "      <th>3</th>\n",
       "      <td>1-й Бабьегородский переулок</td>\n",
       "      <td>21</td>\n",
       "      <td>ЦАО</td>\n",
       "      <td>Район Якиманка</td>\n",
       "    </tr>\n",
       "    <tr>\n",
       "      <th>4</th>\n",
       "      <td>1-й Балтийский переулок</td>\n",
       "      <td>54</td>\n",
       "      <td>САО</td>\n",
       "      <td>Район Аэропорт</td>\n",
       "    </tr>\n",
       "  </tbody>\n",
       "</table>\n",
       "</div>"
      ],
      "text/plain": [
       "                        street  areaid okrug               area\n",
       "0     1-й Автозаводский проезд      98   ЮАО  Даниловский район\n",
       "1      1-й Амбулаторный проезд      54   САО     Район Аэропорт\n",
       "2        1-й Архивный переулок      20   ЦАО    Район Хамовники\n",
       "3  1-й Бабьегородский переулок      21   ЦАО     Район Якиманка\n",
       "4      1-й Балтийский переулок      54   САО     Район Аэропорт"
      ]
     },
     "execution_count": 41,
     "metadata": {},
     "output_type": "execute_result"
    }
   ],
   "source": [
    "spreadsheet_id = \"1sguZSB8CeYCbCK2eMmsAlMkz9mBFw11GlyImzqJpjes\"\n",
    "file_name = 'https://docs.google.com/spreadsheets/d/{}/export?format=csv'.format(spreadsheet_id)\n",
    "r = requests.get(file_name)\n",
    "data = pd.read_csv(BytesIO(r.content))\n",
    "data.head()"
   ]
  },
  {
   "cell_type": "code",
   "execution_count": 42,
   "metadata": {},
   "outputs": [
    {
     "data": {
      "text/plain": [
       "street    0\n",
       "areaid    0\n",
       "okrug     0\n",
       "area      0\n",
       "dtype: int64"
      ]
     },
     "execution_count": 42,
     "metadata": {},
     "output_type": "execute_result"
    }
   ],
   "source": [
    "data.isna().sum()"
   ]
  },
  {
   "cell_type": "code",
   "execution_count": 43,
   "metadata": {},
   "outputs": [
    {
     "data": {
      "text/plain": [
       "8"
      ]
     },
     "execution_count": 43,
     "metadata": {},
     "output_type": "execute_result"
    }
   ],
   "source": [
    "data.duplicated().sum()"
   ]
  },
  {
   "cell_type": "code",
   "execution_count": 44,
   "metadata": {},
   "outputs": [],
   "source": [
    "data = data.drop_duplicates()"
   ]
  },
  {
   "cell_type": "code",
   "execution_count": 45,
   "metadata": {},
   "outputs": [
    {
     "data": {
      "text/html": [
       "<div>\n",
       "<style scoped>\n",
       "    .dataframe tbody tr th:only-of-type {\n",
       "        vertical-align: middle;\n",
       "    }\n",
       "\n",
       "    .dataframe tbody tr th {\n",
       "        vertical-align: top;\n",
       "    }\n",
       "\n",
       "    .dataframe thead th {\n",
       "        text-align: right;\n",
       "    }\n",
       "</style>\n",
       "<table border=\"1\" class=\"dataframe\">\n",
       "  <thead>\n",
       "    <tr style=\"text-align: right;\">\n",
       "      <th></th>\n",
       "      <th></th>\n",
       "      <th></th>\n",
       "      <th>id</th>\n",
       "    </tr>\n",
       "    <tr>\n",
       "      <th>street</th>\n",
       "      <th>area</th>\n",
       "      <th>okrug</th>\n",
       "      <th></th>\n",
       "    </tr>\n",
       "  </thead>\n",
       "  <tbody>\n",
       "    <tr>\n",
       "      <th rowspan=\"7\" valign=\"top\">проспект Мира</th>\n",
       "      <th>Ярославский Район</th>\n",
       "      <th>СВАО</th>\n",
       "      <td>204</td>\n",
       "    </tr>\n",
       "    <tr>\n",
       "      <th>Район Свиблово</th>\n",
       "      <th>СВАО</th>\n",
       "      <td>204</td>\n",
       "    </tr>\n",
       "    <tr>\n",
       "      <th>Район Ростокино</th>\n",
       "      <th>СВАО</th>\n",
       "      <td>204</td>\n",
       "    </tr>\n",
       "    <tr>\n",
       "      <th>Район Марьина роща</th>\n",
       "      <th>СВАО</th>\n",
       "      <td>204</td>\n",
       "    </tr>\n",
       "    <tr>\n",
       "      <th>Останкинский район</th>\n",
       "      <th>СВАО</th>\n",
       "      <td>204</td>\n",
       "    </tr>\n",
       "    <tr>\n",
       "      <th>Мещанский район</th>\n",
       "      <th>ЦАО</th>\n",
       "      <td>204</td>\n",
       "    </tr>\n",
       "    <tr>\n",
       "      <th>Алексеевский район</th>\n",
       "      <th>СВАО</th>\n",
       "      <td>204</td>\n",
       "    </tr>\n",
       "    <tr>\n",
       "      <th rowspan=\"6\" valign=\"top\">Профсоюзная улица</th>\n",
       "      <th>Район Коньково</th>\n",
       "      <th>ЮЗАО</th>\n",
       "      <td>181</td>\n",
       "    </tr>\n",
       "    <tr>\n",
       "      <th>Академический район</th>\n",
       "      <th>ЮЗАО</th>\n",
       "      <td>181</td>\n",
       "    </tr>\n",
       "    <tr>\n",
       "      <th>Обручевский район</th>\n",
       "      <th>ЮЗАО</th>\n",
       "      <td>181</td>\n",
       "    </tr>\n",
       "    <tr>\n",
       "      <th>Район Черемушки</th>\n",
       "      <th>ЮЗАО</th>\n",
       "      <td>181</td>\n",
       "    </tr>\n",
       "    <tr>\n",
       "      <th>Район Теплый Стан</th>\n",
       "      <th>ЮЗАО</th>\n",
       "      <td>181</td>\n",
       "    </tr>\n",
       "    <tr>\n",
       "      <th>Район Ясенево</th>\n",
       "      <th>ЮЗАО</th>\n",
       "      <td>181</td>\n",
       "    </tr>\n",
       "    <tr>\n",
       "      <th rowspan=\"4\" valign=\"top\">Ленинградский проспект</th>\n",
       "      <th>Район Сокол</th>\n",
       "      <th>САО</th>\n",
       "      <td>170</td>\n",
       "    </tr>\n",
       "    <tr>\n",
       "      <th>Хорошевский район</th>\n",
       "      <th>САО</th>\n",
       "      <td>170</td>\n",
       "    </tr>\n",
       "    <tr>\n",
       "      <th>Район Аэропорт</th>\n",
       "      <th>САО</th>\n",
       "      <td>170</td>\n",
       "    </tr>\n",
       "    <tr>\n",
       "      <th>Район Беговой</th>\n",
       "      <th>САО</th>\n",
       "      <td>170</td>\n",
       "    </tr>\n",
       "    <tr>\n",
       "      <th>Пресненская набережная</th>\n",
       "      <th>Пресненский район</th>\n",
       "      <th>ЦАО</th>\n",
       "      <td>167</td>\n",
       "    </tr>\n",
       "    <tr>\n",
       "      <th rowspan=\"8\" valign=\"top\">Варшавское шоссе</th>\n",
       "      <th>Нагорный район</th>\n",
       "      <th>ЮАО</th>\n",
       "      <td>164</td>\n",
       "    </tr>\n",
       "    <tr>\n",
       "      <th>Донской район</th>\n",
       "      <th>ЮАО</th>\n",
       "      <td>164</td>\n",
       "    </tr>\n",
       "    <tr>\n",
       "      <th>Район Северное Бутово</th>\n",
       "      <th>ЮЗАО</th>\n",
       "      <td>164</td>\n",
       "    </tr>\n",
       "    <tr>\n",
       "      <th>Район Южное Бутово</th>\n",
       "      <th>ЮЗАО</th>\n",
       "      <td>164</td>\n",
       "    </tr>\n",
       "    <tr>\n",
       "      <th>Район Нагатино-Садовники</th>\n",
       "      <th>ЮАО</th>\n",
       "      <td>164</td>\n",
       "    </tr>\n",
       "    <tr>\n",
       "      <th>Район Чертаново Южное</th>\n",
       "      <th>ЮАО</th>\n",
       "      <td>164</td>\n",
       "    </tr>\n",
       "    <tr>\n",
       "      <th>Район Чертаново Центральное</th>\n",
       "      <th>ЮАО</th>\n",
       "      <td>164</td>\n",
       "    </tr>\n",
       "    <tr>\n",
       "      <th>Район Чертаново Северное</th>\n",
       "      <th>ЮАО</th>\n",
       "      <td>164</td>\n",
       "    </tr>\n",
       "    <tr>\n",
       "      <th rowspan=\"8\" valign=\"top\">Ленинский проспект</th>\n",
       "      <th>Район Якиманка</th>\n",
       "      <th>ЦАО</th>\n",
       "      <td>147</td>\n",
       "    </tr>\n",
       "    <tr>\n",
       "      <th>Донской район</th>\n",
       "      <th>ЮАО</th>\n",
       "      <td>147</td>\n",
       "    </tr>\n",
       "    <tr>\n",
       "      <th>Район Гагаринский</th>\n",
       "      <th>ЮЗАО</th>\n",
       "      <td>147</td>\n",
       "    </tr>\n",
       "    <tr>\n",
       "      <th>Район Тропарево-Никулино</th>\n",
       "      <th>ЗАО</th>\n",
       "      <td>147</td>\n",
       "    </tr>\n",
       "    <tr>\n",
       "      <th>Район Теплый Стан</th>\n",
       "      <th>ЮЗАО</th>\n",
       "      <td>147</td>\n",
       "    </tr>\n",
       "    <tr>\n",
       "      <th>Район Проспект Вернадского</th>\n",
       "      <th>ЗАО</th>\n",
       "      <td>147</td>\n",
       "    </tr>\n",
       "    <tr>\n",
       "      <th>Обручевский район</th>\n",
       "      <th>ЮЗАО</th>\n",
       "      <td>147</td>\n",
       "    </tr>\n",
       "    <tr>\n",
       "      <th>Ломоносовский район</th>\n",
       "      <th>ЮЗАО</th>\n",
       "      <td>147</td>\n",
       "    </tr>\n",
       "    <tr>\n",
       "      <th rowspan=\"5\" valign=\"top\">проспект Вернадского</th>\n",
       "      <th>Район Раменки</th>\n",
       "      <th>ЗАО</th>\n",
       "      <td>128</td>\n",
       "    </tr>\n",
       "    <tr>\n",
       "      <th>Район Тропарево-Никулино</th>\n",
       "      <th>ЗАО</th>\n",
       "      <td>128</td>\n",
       "    </tr>\n",
       "    <tr>\n",
       "      <th>Ломоносовский район</th>\n",
       "      <th>ЮЗАО</th>\n",
       "      <td>128</td>\n",
       "    </tr>\n",
       "    <tr>\n",
       "      <th>Район Гагаринский</th>\n",
       "      <th>ЮЗАО</th>\n",
       "      <td>128</td>\n",
       "    </tr>\n",
       "    <tr>\n",
       "      <th>Район Проспект Вернадского</th>\n",
       "      <th>ЗАО</th>\n",
       "      <td>128</td>\n",
       "    </tr>\n",
       "    <tr>\n",
       "      <th rowspan=\"2\" valign=\"top\">Кутузовский проспект</th>\n",
       "      <th>Район Фили-Давыдково</th>\n",
       "      <th>ЗАО</th>\n",
       "      <td>114</td>\n",
       "    </tr>\n",
       "    <tr>\n",
       "      <th>Район Дорогомилово</th>\n",
       "      <th>ЗАО</th>\n",
       "      <td>114</td>\n",
       "    </tr>\n",
       "    <tr>\n",
       "      <th rowspan=\"4\" valign=\"top\">Каширское шоссе</th>\n",
       "      <th>Район Москворечье-Сабурово</th>\n",
       "      <th>ЮАО</th>\n",
       "      <td>111</td>\n",
       "    </tr>\n",
       "    <tr>\n",
       "      <th>Район Орехово-Борисово Северное</th>\n",
       "      <th>ЮАО</th>\n",
       "      <td>111</td>\n",
       "    </tr>\n",
       "    <tr>\n",
       "      <th>Район Орехово-Борисово Южное</th>\n",
       "      <th>ЮАО</th>\n",
       "      <td>111</td>\n",
       "    </tr>\n",
       "    <tr>\n",
       "      <th>Район Нагатино-Садовники</th>\n",
       "      <th>ЮАО</th>\n",
       "      <td>111</td>\n",
       "    </tr>\n",
       "    <tr>\n",
       "      <th rowspan=\"3\" valign=\"top\">Кировоградская улица</th>\n",
       "      <th>Район Чертаново Северное</th>\n",
       "      <th>ЮАО</th>\n",
       "      <td>108</td>\n",
       "    </tr>\n",
       "    <tr>\n",
       "      <th>Район Чертаново Центральное</th>\n",
       "      <th>ЮАО</th>\n",
       "      <td>108</td>\n",
       "    </tr>\n",
       "    <tr>\n",
       "      <th>Район Чертаново Южное</th>\n",
       "      <th>ЮАО</th>\n",
       "      <td>108</td>\n",
       "    </tr>\n",
       "  </tbody>\n",
       "</table>\n",
       "</div>"
      ],
      "text/plain": [
       "                                                               id\n",
       "street                 area                            okrug     \n",
       "проспект Мира          Ярославский Район               СВАО   204\n",
       "                       Район Свиблово                  СВАО   204\n",
       "                       Район Ростокино                 СВАО   204\n",
       "                       Район Марьина роща              СВАО   204\n",
       "                       Останкинский район              СВАО   204\n",
       "                       Мещанский район                 ЦАО    204\n",
       "                       Алексеевский район              СВАО   204\n",
       "Профсоюзная улица      Район Коньково                  ЮЗАО   181\n",
       "                       Академический район             ЮЗАО   181\n",
       "                       Обручевский район               ЮЗАО   181\n",
       "                       Район Черемушки                 ЮЗАО   181\n",
       "                       Район Теплый Стан               ЮЗАО   181\n",
       "                       Район Ясенево                   ЮЗАО   181\n",
       "Ленинградский проспект Район Сокол                     САО    170\n",
       "                       Хорошевский район               САО    170\n",
       "                       Район Аэропорт                  САО    170\n",
       "                       Район Беговой                   САО    170\n",
       "Пресненская набережная Пресненский район               ЦАО    167\n",
       "Варшавское шоссе       Нагорный район                  ЮАО    164\n",
       "                       Донской район                   ЮАО    164\n",
       "                       Район Северное Бутово           ЮЗАО   164\n",
       "                       Район Южное Бутово              ЮЗАО   164\n",
       "                       Район Нагатино-Садовники        ЮАО    164\n",
       "                       Район Чертаново Южное           ЮАО    164\n",
       "                       Район Чертаново Центральное     ЮАО    164\n",
       "                       Район Чертаново Северное        ЮАО    164\n",
       "Ленинский проспект     Район Якиманка                  ЦАО    147\n",
       "                       Донской район                   ЮАО    147\n",
       "                       Район Гагаринский               ЮЗАО   147\n",
       "                       Район Тропарево-Никулино        ЗАО    147\n",
       "                       Район Теплый Стан               ЮЗАО   147\n",
       "                       Район Проспект Вернадского      ЗАО    147\n",
       "                       Обручевский район               ЮЗАО   147\n",
       "                       Ломоносовский район             ЮЗАО   147\n",
       "проспект Вернадского   Район Раменки                   ЗАО    128\n",
       "                       Район Тропарево-Никулино        ЗАО    128\n",
       "                       Ломоносовский район             ЮЗАО   128\n",
       "                       Район Гагаринский               ЮЗАО   128\n",
       "                       Район Проспект Вернадского      ЗАО    128\n",
       "Кутузовский проспект   Район Фили-Давыдково            ЗАО    114\n",
       "                       Район Дорогомилово              ЗАО    114\n",
       "Каширское шоссе        Район Москворечье-Сабурово      ЮАО    111\n",
       "                       Район Орехово-Борисово Северное ЮАО    111\n",
       "                       Район Орехово-Борисово Южное    ЮАО    111\n",
       "                       Район Нагатино-Садовники        ЮАО    111\n",
       "Кировоградская улица   Район Чертаново Северное        ЮАО    108\n",
       "                       Район Чертаново Центральное     ЮАО    108\n",
       "                       Район Чертаново Южное           ЮАО    108"
      ]
     },
     "execution_count": 45,
     "metadata": {},
     "output_type": "execute_result"
    }
   ],
   "source": [
    "#Найдем районы, в которых расположены эти улицы\n",
    "top_district = df.groupby('street')['id'].count().sort_values(ascending=False).reset_index().head(10)\n",
    "top_district = top_district.merge(data, on='street', how='left')\n",
    "top10 = top_district.pivot_table(index=['street', 'area', 'okrug'], values='id', aggfunc='max')\n",
    "top10.sort_values(by='id', ascending=False)"
   ]
  },
  {
   "cell_type": "code",
   "execution_count": 46,
   "metadata": {},
   "outputs": [
    {
     "data": {
      "text/html": [
       "<div>\n",
       "<style scoped>\n",
       "    .dataframe tbody tr th:only-of-type {\n",
       "        vertical-align: middle;\n",
       "    }\n",
       "\n",
       "    .dataframe tbody tr th {\n",
       "        vertical-align: top;\n",
       "    }\n",
       "\n",
       "    .dataframe thead th {\n",
       "        text-align: right;\n",
       "    }\n",
       "</style>\n",
       "<table border=\"1\" class=\"dataframe\">\n",
       "  <thead>\n",
       "    <tr style=\"text-align: right;\">\n",
       "      <th></th>\n",
       "      <th></th>\n",
       "      <th></th>\n",
       "      <th>id</th>\n",
       "    </tr>\n",
       "    <tr>\n",
       "      <th>street</th>\n",
       "      <th>area</th>\n",
       "      <th>okrug</th>\n",
       "      <th></th>\n",
       "    </tr>\n",
       "  </thead>\n",
       "  <tbody>\n",
       "    <tr>\n",
       "      <th rowspan=\"5\" valign=\"top\">проспект Мира</th>\n",
       "      <th>Ярославский Район</th>\n",
       "      <th>СВАО</th>\n",
       "      <td>204</td>\n",
       "    </tr>\n",
       "    <tr>\n",
       "      <th>Останкинский район</th>\n",
       "      <th>СВАО</th>\n",
       "      <td>204</td>\n",
       "    </tr>\n",
       "    <tr>\n",
       "      <th>Район Свиблово</th>\n",
       "      <th>СВАО</th>\n",
       "      <td>204</td>\n",
       "    </tr>\n",
       "    <tr>\n",
       "      <th>Алексеевский район</th>\n",
       "      <th>СВАО</th>\n",
       "      <td>204</td>\n",
       "    </tr>\n",
       "    <tr>\n",
       "      <th>Мещанский район</th>\n",
       "      <th>ЦАО</th>\n",
       "      <td>204</td>\n",
       "    </tr>\n",
       "    <tr>\n",
       "      <th>...</th>\n",
       "      <th>...</th>\n",
       "      <th>...</th>\n",
       "      <td>...</td>\n",
       "    </tr>\n",
       "    <tr>\n",
       "      <th>улица Гамалеи</th>\n",
       "      <th>Район Щукино</th>\n",
       "      <th>СЗАО</th>\n",
       "      <td>1</td>\n",
       "    </tr>\n",
       "    <tr>\n",
       "      <th>Гжатская улица</th>\n",
       "      <th>Можайский Район</th>\n",
       "      <th>ЗАО</th>\n",
       "      <td>1</td>\n",
       "    </tr>\n",
       "    <tr>\n",
       "      <th>Гвардейская улица</th>\n",
       "      <th>Можайский Район</th>\n",
       "      <th>ЗАО</th>\n",
       "      <td>1</td>\n",
       "    </tr>\n",
       "    <tr>\n",
       "      <th>Гаражная улица</th>\n",
       "      <th>Район Соколиная Гора</th>\n",
       "      <th>ВАО</th>\n",
       "      <td>1</td>\n",
       "    </tr>\n",
       "    <tr>\n",
       "      <th>Педагогическая улица</th>\n",
       "      <th>Район Бирюлево Восточное</th>\n",
       "      <th>ЮАО</th>\n",
       "      <td>1</td>\n",
       "    </tr>\n",
       "  </tbody>\n",
       "</table>\n",
       "<p>2313 rows × 1 columns</p>\n",
       "</div>"
      ],
      "text/plain": [
       "                                                      id\n",
       "street               area                     okrug     \n",
       "проспект Мира        Ярославский Район        СВАО   204\n",
       "                     Останкинский район       СВАО   204\n",
       "                     Район Свиблово           СВАО   204\n",
       "                     Алексеевский район       СВАО   204\n",
       "                     Мещанский район          ЦАО    204\n",
       "...                                                  ...\n",
       "улица Гамалеи        Район Щукино             СЗАО     1\n",
       "Гжатская улица       Можайский Район          ЗАО      1\n",
       "Гвардейская улица    Можайский Район          ЗАО      1\n",
       "Гаражная улица       Район Соколиная Гора     ВАО      1\n",
       "Педагогическая улица Район Бирюлево Восточное ЮАО      1\n",
       "\n",
       "[2313 rows x 1 columns]"
      ]
     },
     "execution_count": 46,
     "metadata": {},
     "output_type": "execute_result"
    }
   ],
   "source": [
    "#Найдем районы, в которых расположены эти улицы\n",
    "top_district = df.groupby('street')['id'].count().sort_values(ascending=False).reset_index()\n",
    "top_district = top_district.merge(data, on='street', how='left')\n",
    "top10 = top_district.pivot_table(index=['street', 'area', 'okrug'], values='id', aggfunc='max')\n",
    "top10.sort_values(by='id', ascending=False)"
   ]
  },
  {
   "cell_type": "code",
   "execution_count": 47,
   "metadata": {},
   "outputs": [
    {
     "name": "stdout",
     "output_type": "stream",
     "text": [
      "Количество районов через которые проходят улицы с наибольшим количеством заведений:  1899\n"
     ]
    }
   ],
   "source": [
    "print ('Количество районов через которые проходят улицы с наибольшим количеством заведений: ',top_district['street'].nunique())"
   ]
  },
  {
   "cell_type": "code",
   "execution_count": 48,
   "metadata": {},
   "outputs": [
    {
     "name": "stdout",
     "output_type": "stream",
     "text": [
      "Количество районов через которые проходят улицы с наибольшим количеством заведений:  1899\n"
     ]
    }
   ],
   "source": [
    "print ('Количество районов через которые проходят улицы с наибольшим количеством заведений: ',df['street'].nunique())"
   ]
  },
  {
   "cell_type": "markdown",
   "metadata": {},
   "source": [
    "**Вывод:**\n",
    "\n",
    "В лидерах по количеству объектов общественного питания улица - проспект Мира (204 заведений), далее следует улица Профсоюзная (181 заведение), тройку замыкает Ленинградский проспект (170 заведений). C точностью до района невозможно определить топ-10 улиц по количеству заведений. Топ 10 улиц очень длинные и проходят сразу по территории нескольких районов."
   ]
  },
  {
   "cell_type": "markdown",
   "metadata": {},
   "source": [
    "### Найдите число улиц с одним объектом общественного питания. Воспользуйтесь внешней информацией и ответьте на вопрос — в каких районах Москвы находятся эти улицы?"
   ]
  },
  {
   "cell_type": "code",
   "execution_count": 49,
   "metadata": {},
   "outputs": [],
   "source": [
    "# Посмотрим 10 улиц с самым большим количество заведений\n",
    "street_one= df.groupby('street').agg({'id': 'nunique'}).sort_values('id', ascending = True)"
   ]
  },
  {
   "cell_type": "code",
   "execution_count": 50,
   "metadata": {},
   "outputs": [
    {
     "data": {
      "text/html": [
       "<div>\n",
       "<style scoped>\n",
       "    .dataframe tbody tr th:only-of-type {\n",
       "        vertical-align: middle;\n",
       "    }\n",
       "\n",
       "    .dataframe tbody tr th {\n",
       "        vertical-align: top;\n",
       "    }\n",
       "\n",
       "    .dataframe thead th {\n",
       "        text-align: right;\n",
       "    }\n",
       "</style>\n",
       "<table border=\"1\" class=\"dataframe\">\n",
       "  <thead>\n",
       "    <tr style=\"text-align: right;\">\n",
       "      <th></th>\n",
       "      <th>id</th>\n",
       "    </tr>\n",
       "    <tr>\n",
       "      <th>street</th>\n",
       "      <th></th>\n",
       "    </tr>\n",
       "  </thead>\n",
       "  <tbody>\n",
       "    <tr>\n",
       "      <th>Гранатный переулок</th>\n",
       "      <td>1</td>\n",
       "    </tr>\n",
       "    <tr>\n",
       "      <th>Малый Путинковский переулок</th>\n",
       "      <td>1</td>\n",
       "    </tr>\n",
       "    <tr>\n",
       "      <th>Малый Полуярославский переулок</th>\n",
       "      <td>1</td>\n",
       "    </tr>\n",
       "    <tr>\n",
       "      <th>Верхняя улица</th>\n",
       "      <td>1</td>\n",
       "    </tr>\n",
       "    <tr>\n",
       "      <th>Малый Николопесковский переулок</th>\n",
       "      <td>1</td>\n",
       "    </tr>\n",
       "  </tbody>\n",
       "</table>\n",
       "</div>"
      ],
      "text/plain": [
       "                                 id\n",
       "street                             \n",
       "Гранатный переулок                1\n",
       "Малый Путинковский переулок       1\n",
       "Малый Полуярославский переулок    1\n",
       "Верхняя улица                     1\n",
       "Малый Николопесковский переулок   1"
      ]
     },
     "execution_count": 50,
     "metadata": {},
     "output_type": "execute_result"
    }
   ],
   "source": [
    "street_one.head()"
   ]
  },
  {
   "cell_type": "code",
   "execution_count": 51,
   "metadata": {},
   "outputs": [],
   "source": [
    "# Создадим новую таблицу, в которой будет информация только по сетевым заведениям\n",
    "street_one = street_one.query('id == 1')"
   ]
  },
  {
   "cell_type": "code",
   "execution_count": 52,
   "metadata": {},
   "outputs": [
    {
     "data": {
      "text/html": [
       "<div>\n",
       "<style scoped>\n",
       "    .dataframe tbody tr th:only-of-type {\n",
       "        vertical-align: middle;\n",
       "    }\n",
       "\n",
       "    .dataframe tbody tr th {\n",
       "        vertical-align: top;\n",
       "    }\n",
       "\n",
       "    .dataframe thead th {\n",
       "        text-align: right;\n",
       "    }\n",
       "</style>\n",
       "<table border=\"1\" class=\"dataframe\">\n",
       "  <thead>\n",
       "    <tr style=\"text-align: right;\">\n",
       "      <th></th>\n",
       "      <th>street</th>\n",
       "      <th>id</th>\n",
       "      <th>area</th>\n",
       "    </tr>\n",
       "  </thead>\n",
       "  <tbody>\n",
       "    <tr>\n",
       "      <th>0</th>\n",
       "      <td>Гранатный переулок</td>\n",
       "      <td>1</td>\n",
       "      <td>Пресненский район</td>\n",
       "    </tr>\n",
       "    <tr>\n",
       "      <th>1</th>\n",
       "      <td>Малый Путинковский переулок</td>\n",
       "      <td>1</td>\n",
       "      <td>Тверской район</td>\n",
       "    </tr>\n",
       "    <tr>\n",
       "      <th>2</th>\n",
       "      <td>Малый Полуярославский переулок</td>\n",
       "      <td>1</td>\n",
       "      <td>Таганский район</td>\n",
       "    </tr>\n",
       "    <tr>\n",
       "      <th>3</th>\n",
       "      <td>Верхняя улица</td>\n",
       "      <td>1</td>\n",
       "      <td>Район Беговой</td>\n",
       "    </tr>\n",
       "    <tr>\n",
       "      <th>4</th>\n",
       "      <td>Малый Николопесковский переулок</td>\n",
       "      <td>1</td>\n",
       "      <td>Район Арбат</td>\n",
       "    </tr>\n",
       "  </tbody>\n",
       "</table>\n",
       "</div>"
      ],
      "text/plain": [
       "                            street  id               area\n",
       "0               Гранатный переулок   1  Пресненский район\n",
       "1      Малый Путинковский переулок   1     Тверской район\n",
       "2   Малый Полуярославский переулок   1    Таганский район\n",
       "3                    Верхняя улица   1      Район Беговой\n",
       "4  Малый Николопесковский переулок   1        Район Арбат"
      ]
     },
     "execution_count": 52,
     "metadata": {},
     "output_type": "execute_result"
    }
   ],
   "source": [
    "district_one = street_one.merge(data['area'], how='left', left_on='street', right_on=data['street'])\n",
    "district_one.head()"
   ]
  },
  {
   "cell_type": "markdown",
   "metadata": {},
   "source": [
    "Проверка на совпадения количества улиц до присоединения и после"
   ]
  },
  {
   "cell_type": "code",
   "execution_count": 61,
   "metadata": {},
   "outputs": [
    {
     "name": "stdout",
     "output_type": "stream",
     "text": [
      "Количество уникальных улиц до присоединения внешнего источника: 551\n"
     ]
    }
   ],
   "source": [
    "print('Количество уникальных улиц до присоединения внешнего источника:', len(street_one))"
   ]
  },
  {
   "cell_type": "code",
   "execution_count": 62,
   "metadata": {},
   "outputs": [
    {
     "name": "stdout",
     "output_type": "stream",
     "text": [
      "Количество уникальных улиц до присоединения внешнего источника: 551\n"
     ]
    }
   ],
   "source": [
    "print('Количество уникальных улиц до присоединения внешнего источника:', district_one['street'].nunique())"
   ]
  },
  {
   "cell_type": "markdown",
   "metadata": {},
   "source": [
    "Количество улиц совпадает"
   ]
  },
  {
   "cell_type": "code",
   "execution_count": 55,
   "metadata": {},
   "outputs": [
    {
     "data": {
      "text/html": [
       "<div>\n",
       "<style scoped>\n",
       "    .dataframe tbody tr th:only-of-type {\n",
       "        vertical-align: middle;\n",
       "    }\n",
       "\n",
       "    .dataframe tbody tr th {\n",
       "        vertical-align: top;\n",
       "    }\n",
       "\n",
       "    .dataframe thead th {\n",
       "        text-align: right;\n",
       "    }\n",
       "</style>\n",
       "<table border=\"1\" class=\"dataframe\">\n",
       "  <thead>\n",
       "    <tr style=\"text-align: right;\">\n",
       "      <th></th>\n",
       "      <th>area</th>\n",
       "      <th>street</th>\n",
       "    </tr>\n",
       "  </thead>\n",
       "  <tbody>\n",
       "    <tr>\n",
       "      <th>0</th>\n",
       "      <td>Таганский район</td>\n",
       "      <td>27</td>\n",
       "    </tr>\n",
       "    <tr>\n",
       "      <th>1</th>\n",
       "      <td>Район Хамовники</td>\n",
       "      <td>26</td>\n",
       "    </tr>\n",
       "    <tr>\n",
       "      <th>2</th>\n",
       "      <td>Басманный район</td>\n",
       "      <td>25</td>\n",
       "    </tr>\n",
       "    <tr>\n",
       "      <th>3</th>\n",
       "      <td>Тверской район</td>\n",
       "      <td>20</td>\n",
       "    </tr>\n",
       "    <tr>\n",
       "      <th>4</th>\n",
       "      <td>Пресненский район</td>\n",
       "      <td>19</td>\n",
       "    </tr>\n",
       "  </tbody>\n",
       "</table>\n",
       "</div>"
      ],
      "text/plain": [
       "                area  street\n",
       "0    Таганский район      27\n",
       "1    Район Хамовники      26\n",
       "2    Басманный район      25\n",
       "3     Тверской район      20\n",
       "4  Пресненский район      19"
      ]
     },
     "execution_count": 55,
     "metadata": {},
     "output_type": "execute_result"
    }
   ],
   "source": [
    "district_one_1 = district_one.groupby(['area'])['street'].count().sort_values(ascending=False).reset_index()\n",
    "district_one_1.head()"
   ]
  },
  {
   "cell_type": "code",
   "execution_count": 56,
   "metadata": {},
   "outputs": [
    {
     "data": {
      "image/png": "[encoded data removed]",
      "text/plain": [
       "<Figure size 864x432 with 1 Axes>"
      ]
     },
     "metadata": {},
     "output_type": "display_data"
    }
   ],
   "source": [
    "fig, ax = plt.subplots(figsize=(12, 6))\n",
    "ax = sns.barplot(x='street', y='area', data=district_one_1.head(10),palette = 'Set3')\n",
    "plt.box(False)\n",
    "plt.grid(False)\n",
    "plt.xlabel('Количество единичных объектов')\n",
    "plt.ylabel('')\n",
    "plt.title(\"Районы с одним объектом общественного питания на улице\", fontsize='15');"
   ]
  },
  {
   "cell_type": "markdown",
   "metadata": {},
   "source": [
    "**Вывод:**\n",
    "\n",
    "Число улиц с одним объектом общественного питания: 551.\n",
    "Районом лидером среди таких улиц является Таганский район - 27 улиц, далее район Хамовники - 26 улиц, на третьем месте Басманный район - 25 улиц.\n",
    "\n",
    "Наличие одного объекта обественного питания на улице в данных районах связано с тем, что это - центральные районы и там находятся маленькие переулки/улицы."
   ]
  },
  {
   "cell_type": "markdown",
   "metadata": {},
   "source": [
    "### Посмотрите на распределение количества посадочных мест для улиц с большим количеством объектов общественного питания. Какие закономерности можно выявить?"
   ]
  },
  {
   "cell_type": "code",
   "execution_count": 57,
   "metadata": {},
   "outputs": [
    {
     "data": {
      "text/html": [
       "<div>\n",
       "<style scoped>\n",
       "    .dataframe tbody tr th:only-of-type {\n",
       "        vertical-align: middle;\n",
       "    }\n",
       "\n",
       "    .dataframe tbody tr th {\n",
       "        vertical-align: top;\n",
       "    }\n",
       "\n",
       "    .dataframe thead th {\n",
       "        text-align: right;\n",
       "    }\n",
       "</style>\n",
       "<table border=\"1\" class=\"dataframe\">\n",
       "  <thead>\n",
       "    <tr style=\"text-align: right;\">\n",
       "      <th></th>\n",
       "      <th>street</th>\n",
       "      <th>id</th>\n",
       "      <th>number</th>\n",
       "    </tr>\n",
       "  </thead>\n",
       "  <tbody>\n",
       "    <tr>\n",
       "      <th>0</th>\n",
       "      <td>проспект Мира</td>\n",
       "      <td>204</td>\n",
       "      <td>62.70</td>\n",
       "    </tr>\n",
       "    <tr>\n",
       "      <th>1</th>\n",
       "      <td>Профсоюзная улица</td>\n",
       "      <td>181</td>\n",
       "      <td>46.67</td>\n",
       "    </tr>\n",
       "    <tr>\n",
       "      <th>2</th>\n",
       "      <td>Ленинградский проспект</td>\n",
       "      <td>170</td>\n",
       "      <td>52.76</td>\n",
       "    </tr>\n",
       "    <tr>\n",
       "      <th>3</th>\n",
       "      <td>Пресненская набережная</td>\n",
       "      <td>167</td>\n",
       "      <td>45.84</td>\n",
       "    </tr>\n",
       "    <tr>\n",
       "      <th>4</th>\n",
       "      <td>Варшавское шоссе</td>\n",
       "      <td>164</td>\n",
       "      <td>52.48</td>\n",
       "    </tr>\n",
       "    <tr>\n",
       "      <th>5</th>\n",
       "      <td>Ленинский проспект</td>\n",
       "      <td>147</td>\n",
       "      <td>63.47</td>\n",
       "    </tr>\n",
       "    <tr>\n",
       "      <th>6</th>\n",
       "      <td>проспект Вернадского</td>\n",
       "      <td>128</td>\n",
       "      <td>68.80</td>\n",
       "    </tr>\n",
       "    <tr>\n",
       "      <th>7</th>\n",
       "      <td>Кутузовский проспект</td>\n",
       "      <td>114</td>\n",
       "      <td>85.06</td>\n",
       "    </tr>\n",
       "    <tr>\n",
       "      <th>8</th>\n",
       "      <td>Каширское шоссе</td>\n",
       "      <td>111</td>\n",
       "      <td>55.50</td>\n",
       "    </tr>\n",
       "    <tr>\n",
       "      <th>9</th>\n",
       "      <td>Кировоградская улица</td>\n",
       "      <td>108</td>\n",
       "      <td>59.79</td>\n",
       "    </tr>\n",
       "  </tbody>\n",
       "</table>\n",
       "</div>"
      ],
      "text/plain": [
       "                   street   id  number\n",
       "0           проспект Мира  204   62.70\n",
       "1       Профсоюзная улица  181   46.67\n",
       "2  Ленинградский проспект  170   52.76\n",
       "3  Пресненская набережная  167   45.84\n",
       "4        Варшавское шоссе  164   52.48\n",
       "5      Ленинский проспект  147   63.47\n",
       "6    проспект Вернадского  128   68.80\n",
       "7    Кутузовский проспект  114   85.06\n",
       "8         Каширское шоссе  111   55.50\n",
       "9    Кировоградская улица  108   59.79"
      ]
     },
     "execution_count": 57,
     "metadata": {},
     "output_type": "execute_result"
    }
   ],
   "source": [
    "top_street_seets = (df.groupby(['street']).agg(\n",
    "    {'id': 'count', 'number': 'mean'})).sort_values(by='id', ascending=False).reset_index()\n",
    "top_street_seets.head(10)"
   ]
  },
  {
   "cell_type": "code",
   "execution_count": 58,
   "metadata": {},
   "outputs": [
    {
     "data": {
      "image/png": "[encoded data removed]",
      "text/plain": [
       "<Figure size 432x432 with 3 Axes>"
      ]
     },
     "metadata": {},
     "output_type": "display_data"
    }
   ],
   "source": [
    "sns.set_palette('muted')\n",
    "sns.jointplot(x='id', y='number', data=top_street_seets, kind=\"reg\", color='r')\n",
    "plt.xlabel('Количество объектов общественного питания на улице')\n",
    "plt.ylabel('Количество посадочных мест')\n",
    "plt.box(False)\n",
    "plt.grid(False)"
   ]
  },
  {
   "cell_type": "code",
   "execution_count": 59,
   "metadata": {},
   "outputs": [
    {
     "data": {
      "image/png": "[encoded data removed]",
      "text/plain": [
       "<Figure size 864x432 with 1 Axes>"
      ]
     },
     "metadata": {},
     "output_type": "display_data"
    }
   ],
   "source": [
    "fig = plt.subplots(figsize=(12, 6))\n",
    "ax2= sns.scatterplot(x='id', y='number', \n",
    "                data=top_street_seets, size='number', hue='id', legend=False, \n",
    "                palette='tab10_r', alpha=1.0)\n",
    "plt.xlabel('Количество объектов общественного питания на улице')\n",
    "plt.ylabel('Количество посадочных мест')\n",
    "plt.box(False)\n",
    "plt.grid(False)\n",
    "plt.suptitle(\"Распределение количества посадочных мест по количеству объектов на улице\", fontsize='15');"
   ]
  },
  {
   "cell_type": "code",
   "execution_count": 60,
   "metadata": {},
   "outputs": [
    {
     "data": {
      "image/png": "[encoded data removed]",
      "text/plain": [
       "<Figure size 864x432 with 1 Axes>"
      ]
     },
     "metadata": {},
     "output_type": "display_data"
    }
   ],
   "source": [
    "fig = plt.subplots(figsize=(12, 6))\n",
    "sns.distplot(top_street_seets['number'], hist=True, kde=False, \n",
    "             bins=30, color = 'blue',\n",
    "             hist_kws={'edgecolor':'black'})\n",
    "\n",
    "plt.title('Распределение количества посадочных мест')\n",
    "plt.xlabel('Количество посадочных мест')\n",
    "plt.ylabel('Количество заведний')\n",
    "plt.show()"
   ]
  },
  {
   "cell_type": "markdown",
   "metadata": {},
   "source": [
    "###### Чем больше объектов на улице, тем меньшее количество посадочных мест в заведениях в среднем.\n",
    "В среднем, на самых \"проходных\" улицах количество посадочных мест практически одинаково, и оно не превышает 50 мест. Скорее всего это связано с тем, что аренда больших помещений в Москве дорогая."
   ]
  },
  {
   "cell_type": "markdown",
   "metadata": {},
   "source": [
    "### Выводы и рекомендации"
   ]
  },
  {
   "cell_type": "markdown",
   "metadata": {},
   "source": [
    "***Выводы***\n",
    "\n",
    "Проведя анализ данных рынка объектов общественного питания в г.Москве, мы можем сделать следующие **выводы:**\n",
    "\n",
    "- По видам объектов общественного питания лидирует кафе - 39.7% (6071 ед.), далее столовая - 16.9% (2584 ед.) и тройку замыкает ресторан (2282 ед.). Меньше всего у магазина(отдела кулинарии) - 1,8% (273 ед.).\n",
    "\n",
    "- Несетевых заведений гораздо больше, чем сетевых, 80,6 % против 19,4%. Сетевых (2964) заведений примерно в 4 раза меньше, чем не сетевых (12320). \n",
    "\n",
    "- В абсолютных значениях больше всего сетевых заведений у кафе - 1396 ед, фастфуд на 2-ом месте - 788 ед., на последнем месте столовая - 3 ед., но если рассматривать отношение сетевых и несетевых заведений в рамках одного вида объекта, то в лидерах фастфуд - 41.52%, в то время как у кафе только 23% всех заведений сетевые.\n",
    "\n",
    "- В городе преобладает большее число заведений с малым количеством посадочных мест - до 50 мест (медианное значение - 44), далее плотность распределения идет к резкому уменьшению и практически равна нулю на отметке в 300 посадочных мест.\n",
    "\n",
    "- В среднем самое большое число посадочных мест в столовых (130 места), далее на втором месте рестораны (97 мест), тройку замыкают буфеты (52 посадочных места). У кафе - в среднем 40 посадочных мест, у фастфуда - 21, меньше всего посадочных мест у отделов кулинарии - 6.\n",
    "\n",
    "- В лидерах по количеству объектов общественного питания улица - проспект Мира (204 заведений), далее следует улица Профсоюзная (181 заведение), тройку замыкает Ленинградский проспект (170 заведений). C точностью до района невозможно определить топ-10 улиц по количеству заведений. Топ 10 улиц очень длинные и проходят сразу по территории нескольких районов.\n",
    "\n",
    "- Число улиц с одним объектом общественного питания: 551. Районом лидером среди таких улиц является Таганский район - 27 улиц, далее район Хамовники - 26 улиц, на третьем месте Басманный район - 25 улиц.\n",
    "\n",
    "- Чем больше объектов на улице, тем меньшее количество посадочных мест в заведениях в среднем. В среднем, на самых \"проходных\" улицах количество посадочных мест практически одинаково, и оно не превышает 50 мест. Скорее всего это связано с тем, что аренда больших помещений в Москве дорого.\n",
    "\n",
    "***Рекомендации:***\n",
    "\n",
    "1. Приоритетный вид объекта общественного питания - кафе. \n",
    "2. Так как коцепция планируемого кафе уникальная на рынке, то для начала лучше сделать его несетевым, это подчеркнет его уникальность.\n",
    "2. Количество посадочных мест - 40-50. Это всреднее число подадочных мест для объектов типа \"кафе\" по Москве.\n",
    "3. Районы расположения - Таганский, Хамовники, Басманый,Тверской. Так как там больше всего улиц с одним объектом общественного питания, будет меньше конкуренции, но проходимость высокая, так как вмэтих районах скрнцентрированы бизнес-центры, торговые центры и достопримечательности.На таких улицах как Проспект мира, Профсоюзная, Ленинградский проспект скорее всего лучше не открывать заведение, так как там будет высокая конкуренция и высокая стоимость аренды помещения, что для нового объекта, тем более с уникальныой концепцией на рынке чревета увеличением времени по окупаемости проекта."
   ]
  },
  {
   "cell_type": "markdown",
   "metadata": {},
   "source": [
    "##  Подготовка презентации"
   ]
  },
  {
   "cell_type": "markdown",
   "metadata": {},
   "source": [
    "Презентация: https://drive.google.com/file/d/1IVwnjV-PBG8X71rrtBc7XJV0FJnXLt84/view?usp=sharing"
   ]
  }
 ],
 "metadata": {
  "ExecuteTimeLog": [
   {
    "duration": 42,
    "start_time": "2022-03-29T07:41:26.126Z"
   },
   {
    "duration": 1386,
    "start_time": "2022-03-29T07:43:49.157Z"
   },
   {
    "duration": 52,
    "start_time": "2022-03-29T07:43:52.478Z"
   },
   {
    "duration": 12,
    "start_time": "2022-03-29T07:44:38.378Z"
   },
   {
    "duration": 52,
    "start_time": "2022-03-29T09:13:40.437Z"
   },
   {
    "duration": 1428,
    "start_time": "2022-03-29T09:13:45.802Z"
   },
   {
    "duration": 61,
    "start_time": "2022-03-29T09:13:47.233Z"
   },
   {
    "duration": 14,
    "start_time": "2022-03-29T09:13:47.296Z"
   },
   {
    "duration": 21,
    "start_time": "2022-03-29T09:13:47.312Z"
   },
   {
    "duration": 9,
    "start_time": "2022-03-29T09:14:52.494Z"
   },
   {
    "duration": 20,
    "start_time": "2022-03-29T09:15:33.354Z"
   },
   {
    "duration": 3,
    "start_time": "2022-03-29T09:15:56.603Z"
   },
   {
    "duration": 19,
    "start_time": "2022-03-29T09:46:57.943Z"
   },
   {
    "duration": 20,
    "start_time": "2022-03-29T09:54:27.283Z"
   },
   {
    "duration": 11,
    "start_time": "2022-03-29T09:54:37.122Z"
   },
   {
    "duration": 17,
    "start_time": "2022-03-29T09:55:42.347Z"
   },
   {
    "duration": 53,
    "start_time": "2022-03-29T10:00:59.631Z"
   },
   {
    "duration": 1382,
    "start_time": "2022-03-29T10:01:05.015Z"
   },
   {
    "duration": 58,
    "start_time": "2022-03-29T10:01:06.400Z"
   },
   {
    "duration": 12,
    "start_time": "2022-03-29T10:01:06.460Z"
   },
   {
    "duration": 14,
    "start_time": "2022-03-29T10:01:06.474Z"
   },
   {
    "duration": 23,
    "start_time": "2022-03-29T10:01:06.490Z"
   },
   {
    "duration": 21,
    "start_time": "2022-03-29T10:01:06.515Z"
   },
   {
    "duration": 4,
    "start_time": "2022-03-29T10:01:06.537Z"
   },
   {
    "duration": 22,
    "start_time": "2022-03-29T10:01:06.543Z"
   },
   {
    "duration": 43,
    "start_time": "2022-03-29T10:01:06.566Z"
   },
   {
    "duration": 13,
    "start_time": "2022-03-29T10:01:06.611Z"
   },
   {
    "duration": 17,
    "start_time": "2022-03-29T10:01:06.625Z"
   },
   {
    "duration": 12,
    "start_time": "2022-03-29T10:01:30.855Z"
   },
   {
    "duration": 1750,
    "start_time": "2022-03-29T10:01:55.950Z"
   },
   {
    "duration": 9,
    "start_time": "2022-03-29T10:02:02.924Z"
   },
   {
    "duration": 11,
    "start_time": "2022-03-29T10:02:22.892Z"
   },
   {
    "duration": 8,
    "start_time": "2022-03-29T10:12:51.143Z"
   },
   {
    "duration": 11,
    "start_time": "2022-03-29T10:13:10.515Z"
   },
   {
    "duration": 4,
    "start_time": "2022-03-29T10:13:23.924Z"
   },
   {
    "duration": 8,
    "start_time": "2022-03-29T10:14:07.942Z"
   },
   {
    "duration": 8,
    "start_time": "2022-03-29T10:14:59.854Z"
   },
   {
    "duration": 9,
    "start_time": "2022-03-29T10:15:05.914Z"
   },
   {
    "duration": 226,
    "start_time": "2022-03-29T10:25:00.601Z"
   },
   {
    "duration": 11,
    "start_time": "2022-03-29T10:25:14.322Z"
   },
   {
    "duration": 8,
    "start_time": "2022-03-29T10:29:59.032Z"
   },
   {
    "duration": 12,
    "start_time": "2022-03-29T10:30:55.192Z"
   },
   {
    "duration": 17,
    "start_time": "2022-03-29T10:31:05.533Z"
   },
   {
    "duration": 14,
    "start_time": "2022-03-29T10:31:27.353Z"
   },
   {
    "duration": 14,
    "start_time": "2022-03-29T10:31:47.353Z"
   },
   {
    "duration": 13,
    "start_time": "2022-03-29T10:32:07.760Z"
   },
   {
    "duration": 23,
    "start_time": "2022-03-29T10:52:54.539Z"
   },
   {
    "duration": 30,
    "start_time": "2022-03-29T10:53:22.639Z"
   },
   {
    "duration": 9,
    "start_time": "2022-03-29T10:54:40.226Z"
   },
   {
    "duration": 8,
    "start_time": "2022-03-29T10:54:50.366Z"
   },
   {
    "duration": 21,
    "start_time": "2022-03-29T10:55:00.640Z"
   },
   {
    "duration": 19,
    "start_time": "2022-03-29T11:24:11.896Z"
   },
   {
    "duration": 27,
    "start_time": "2022-03-29T11:24:22.888Z"
   },
   {
    "duration": 10,
    "start_time": "2022-03-29T11:34:04.595Z"
   },
   {
    "duration": 7,
    "start_time": "2022-03-29T11:34:36.826Z"
   },
   {
    "duration": 6,
    "start_time": "2022-03-29T11:35:06.395Z"
   },
   {
    "duration": 12,
    "start_time": "2022-03-29T11:35:28.067Z"
   },
   {
    "duration": 15,
    "start_time": "2022-03-29T11:37:58.827Z"
   },
   {
    "duration": 14,
    "start_time": "2022-03-29T11:38:03.946Z"
   },
   {
    "duration": 16,
    "start_time": "2022-03-29T11:42:17.386Z"
   },
   {
    "duration": 16,
    "start_time": "2022-03-29T11:42:37.606Z"
   },
   {
    "duration": 14,
    "start_time": "2022-03-29T11:42:48.046Z"
   },
   {
    "duration": 16,
    "start_time": "2022-03-29T11:43:27.734Z"
   },
   {
    "duration": 1307,
    "start_time": "2022-03-29T12:07:20.347Z"
   },
   {
    "duration": 60,
    "start_time": "2022-03-29T12:07:21.656Z"
   },
   {
    "duration": 11,
    "start_time": "2022-03-29T12:07:21.717Z"
   },
   {
    "duration": 12,
    "start_time": "2022-03-29T12:07:21.730Z"
   },
   {
    "duration": 7,
    "start_time": "2022-03-29T12:07:21.744Z"
   },
   {
    "duration": 48,
    "start_time": "2022-03-29T12:07:21.752Z"
   },
   {
    "duration": 16,
    "start_time": "2022-03-29T12:07:21.801Z"
   },
   {
    "duration": 12,
    "start_time": "2022-03-29T12:07:21.819Z"
   },
   {
    "duration": 11,
    "start_time": "2022-03-29T12:07:21.833Z"
   },
   {
    "duration": 3,
    "start_time": "2022-03-29T12:07:21.845Z"
   },
   {
    "duration": 48,
    "start_time": "2022-03-29T12:07:21.850Z"
   },
   {
    "duration": 15,
    "start_time": "2022-03-29T12:07:21.900Z"
   },
   {
    "duration": 12,
    "start_time": "2022-03-29T12:07:21.916Z"
   },
   {
    "duration": 12,
    "start_time": "2022-03-29T12:07:21.930Z"
   },
   {
    "duration": 6,
    "start_time": "2022-03-29T12:07:21.943Z"
   },
   {
    "duration": 33,
    "start_time": "2022-03-29T12:07:21.950Z"
   },
   {
    "duration": 8,
    "start_time": "2022-03-29T12:07:21.985Z"
   },
   {
    "duration": 10,
    "start_time": "2022-03-29T12:07:21.995Z"
   },
   {
    "duration": 25,
    "start_time": "2022-03-29T12:07:22.006Z"
   },
   {
    "duration": 19,
    "start_time": "2022-03-29T12:07:22.032Z"
   },
   {
    "duration": 8,
    "start_time": "2022-03-29T12:34:51.440Z"
   },
   {
    "duration": 11,
    "start_time": "2022-03-29T12:38:40.900Z"
   },
   {
    "duration": 95,
    "start_time": "2022-03-29T12:55:09.147Z"
   },
   {
    "duration": 144,
    "start_time": "2022-03-29T12:55:23.999Z"
   },
   {
    "duration": 135,
    "start_time": "2022-03-29T12:57:31.999Z"
   },
   {
    "duration": 592,
    "start_time": "2022-03-29T12:58:34.126Z"
   },
   {
    "duration": 168,
    "start_time": "2022-03-29T13:02:35.488Z"
   },
   {
    "duration": 164,
    "start_time": "2022-03-29T13:02:40.879Z"
   },
   {
    "duration": 165,
    "start_time": "2022-03-29T13:02:53.839Z"
   },
   {
    "duration": 258,
    "start_time": "2022-03-29T13:05:46.494Z"
   },
   {
    "duration": 191,
    "start_time": "2022-03-29T13:09:07.291Z"
   },
   {
    "duration": 215,
    "start_time": "2022-03-29T13:09:13.108Z"
   },
   {
    "duration": 192,
    "start_time": "2022-03-29T13:09:23.228Z"
   },
   {
    "duration": 203,
    "start_time": "2022-03-29T13:10:18.243Z"
   },
   {
    "duration": 5,
    "start_time": "2022-03-29T13:12:44.809Z"
   },
   {
    "duration": 207,
    "start_time": "2022-03-29T13:13:22.300Z"
   },
   {
    "duration": 5,
    "start_time": "2022-03-29T13:13:34.840Z"
   },
   {
    "duration": 1108,
    "start_time": "2022-03-29T13:13:43.060Z"
   },
   {
    "duration": 66,
    "start_time": "2022-03-29T13:13:44.170Z"
   },
   {
    "duration": 11,
    "start_time": "2022-03-29T13:13:44.237Z"
   },
   {
    "duration": 11,
    "start_time": "2022-03-29T13:13:44.249Z"
   },
   {
    "duration": 7,
    "start_time": "2022-03-29T13:13:44.262Z"
   },
   {
    "duration": 26,
    "start_time": "2022-03-29T13:13:44.270Z"
   },
   {
    "duration": 14,
    "start_time": "2022-03-29T13:13:44.298Z"
   },
   {
    "duration": 12,
    "start_time": "2022-03-29T13:13:44.313Z"
   },
   {
    "duration": 11,
    "start_time": "2022-03-29T13:13:44.326Z"
   },
   {
    "duration": 3,
    "start_time": "2022-03-29T13:13:44.339Z"
   },
   {
    "duration": 42,
    "start_time": "2022-03-29T13:13:44.344Z"
   },
   {
    "duration": 20,
    "start_time": "2022-03-29T13:13:44.388Z"
   },
   {
    "duration": 8,
    "start_time": "2022-03-29T13:13:44.410Z"
   },
   {
    "duration": 12,
    "start_time": "2022-03-29T13:13:44.420Z"
   },
   {
    "duration": 7,
    "start_time": "2022-03-29T13:13:44.433Z"
   },
   {
    "duration": 5,
    "start_time": "2022-03-29T13:13:44.441Z"
   },
   {
    "duration": 9,
    "start_time": "2022-03-29T13:13:44.448Z"
   },
   {
    "duration": 31,
    "start_time": "2022-03-29T13:13:44.458Z"
   },
   {
    "duration": 10,
    "start_time": "2022-03-29T13:13:44.492Z"
   },
   {
    "duration": 28,
    "start_time": "2022-03-29T13:13:44.503Z"
   },
   {
    "duration": 22,
    "start_time": "2022-03-29T13:13:44.532Z"
   },
   {
    "duration": 123,
    "start_time": "2022-03-29T13:13:44.556Z"
   },
   {
    "duration": 0,
    "start_time": "2022-03-29T13:13:44.680Z"
   },
   {
    "duration": 13,
    "start_time": "2022-03-29T13:14:12.768Z"
   },
   {
    "duration": 209,
    "start_time": "2022-03-29T13:14:13.761Z"
   },
   {
    "duration": 214,
    "start_time": "2022-03-29T13:14:55.361Z"
   },
   {
    "duration": 225,
    "start_time": "2022-03-29T13:15:06.961Z"
   },
   {
    "duration": 202,
    "start_time": "2022-03-29T13:15:14.000Z"
   },
   {
    "duration": 218,
    "start_time": "2022-03-29T13:15:22.140Z"
   },
   {
    "duration": 231,
    "start_time": "2022-03-29T13:17:46.241Z"
   },
   {
    "duration": 252,
    "start_time": "2022-03-29T13:24:08.940Z"
   },
   {
    "duration": 217,
    "start_time": "2022-03-29T13:24:49.212Z"
   },
   {
    "duration": 306,
    "start_time": "2022-03-29T13:24:56.880Z"
   },
   {
    "duration": 231,
    "start_time": "2022-03-29T13:25:38.380Z"
   },
   {
    "duration": 235,
    "start_time": "2022-03-29T13:25:46.380Z"
   },
   {
    "duration": 248,
    "start_time": "2022-03-29T13:25:53.694Z"
   },
   {
    "duration": 238,
    "start_time": "2022-03-29T13:40:10.899Z"
   },
   {
    "duration": 1895,
    "start_time": "2022-03-29T14:39:48.041Z"
   },
   {
    "duration": 72,
    "start_time": "2022-03-29T14:39:49.939Z"
   },
   {
    "duration": 19,
    "start_time": "2022-03-29T14:39:50.013Z"
   },
   {
    "duration": 23,
    "start_time": "2022-03-29T14:39:50.035Z"
   },
   {
    "duration": 32,
    "start_time": "2022-03-29T14:39:50.060Z"
   },
   {
    "duration": 47,
    "start_time": "2022-03-29T14:39:50.094Z"
   },
   {
    "duration": 26,
    "start_time": "2022-03-29T14:39:50.143Z"
   },
   {
    "duration": 21,
    "start_time": "2022-03-29T14:39:50.183Z"
   },
   {
    "duration": 20,
    "start_time": "2022-03-29T14:39:50.207Z"
   },
   {
    "duration": 7,
    "start_time": "2022-03-29T14:39:50.232Z"
   },
   {
    "duration": 68,
    "start_time": "2022-03-29T14:39:50.241Z"
   },
   {
    "duration": 23,
    "start_time": "2022-03-29T14:39:50.312Z"
   },
   {
    "duration": 18,
    "start_time": "2022-03-29T14:39:50.338Z"
   },
   {
    "duration": 18,
    "start_time": "2022-03-29T14:39:50.383Z"
   },
   {
    "duration": 24,
    "start_time": "2022-03-29T14:39:50.403Z"
   },
   {
    "duration": 11,
    "start_time": "2022-03-29T14:39:50.429Z"
   },
   {
    "duration": 19,
    "start_time": "2022-03-29T14:39:50.442Z"
   },
   {
    "duration": 10,
    "start_time": "2022-03-29T14:39:50.484Z"
   },
   {
    "duration": 12,
    "start_time": "2022-03-29T14:39:50.496Z"
   },
   {
    "duration": 79,
    "start_time": "2022-03-29T14:39:50.511Z"
   },
   {
    "duration": 36,
    "start_time": "2022-03-29T14:39:50.592Z"
   },
   {
    "duration": 28,
    "start_time": "2022-03-29T14:39:50.630Z"
   },
   {
    "duration": 525,
    "start_time": "2022-03-29T14:39:50.660Z"
   },
   {
    "duration": 132,
    "start_time": "2022-03-29T14:40:33.582Z"
   },
   {
    "duration": 488,
    "start_time": "2022-03-29T14:41:01.649Z"
   },
   {
    "duration": 467,
    "start_time": "2022-03-29T14:41:08.710Z"
   },
   {
    "duration": 542,
    "start_time": "2022-03-29T14:41:42.935Z"
   },
   {
    "duration": 477,
    "start_time": "2022-03-29T14:42:08.513Z"
   },
   {
    "duration": 490,
    "start_time": "2022-03-29T14:42:57.621Z"
   },
   {
    "duration": 1726,
    "start_time": "2022-03-29T20:22:28.886Z"
   },
   {
    "duration": 78,
    "start_time": "2022-03-29T20:22:30.615Z"
   },
   {
    "duration": 23,
    "start_time": "2022-03-29T20:22:30.696Z"
   },
   {
    "duration": 23,
    "start_time": "2022-03-29T20:22:30.722Z"
   },
   {
    "duration": 31,
    "start_time": "2022-03-29T20:22:30.747Z"
   },
   {
    "duration": 48,
    "start_time": "2022-03-29T20:22:30.781Z"
   },
   {
    "duration": 25,
    "start_time": "2022-03-29T20:22:30.831Z"
   },
   {
    "duration": 24,
    "start_time": "2022-03-29T20:22:30.868Z"
   },
   {
    "duration": 25,
    "start_time": "2022-03-29T20:22:30.894Z"
   },
   {
    "duration": 9,
    "start_time": "2022-03-29T20:22:30.923Z"
   },
   {
    "duration": 57,
    "start_time": "2022-03-29T20:22:30.936Z"
   },
   {
    "duration": 25,
    "start_time": "2022-03-29T20:22:30.996Z"
   },
   {
    "duration": 19,
    "start_time": "2022-03-29T20:22:31.024Z"
   },
   {
    "duration": 38,
    "start_time": "2022-03-29T20:22:31.046Z"
   },
   {
    "duration": 23,
    "start_time": "2022-03-29T20:22:31.087Z"
   },
   {
    "duration": 17,
    "start_time": "2022-03-29T20:22:31.113Z"
   },
   {
    "duration": 38,
    "start_time": "2022-03-29T20:22:31.132Z"
   },
   {
    "duration": 18,
    "start_time": "2022-03-29T20:22:31.172Z"
   },
   {
    "duration": 24,
    "start_time": "2022-03-29T20:22:31.193Z"
   },
   {
    "duration": 71,
    "start_time": "2022-03-29T20:22:31.219Z"
   },
   {
    "duration": 39,
    "start_time": "2022-03-29T20:22:31.292Z"
   },
   {
    "duration": 51,
    "start_time": "2022-03-29T20:22:31.334Z"
   },
   {
    "duration": 516,
    "start_time": "2022-03-29T20:22:31.388Z"
   },
   {
    "duration": 32,
    "start_time": "2022-03-29T20:24:19.724Z"
   },
   {
    "duration": 20,
    "start_time": "2022-03-29T20:29:44.530Z"
   },
   {
    "duration": 154,
    "start_time": "2022-03-29T20:32:05.105Z"
   },
   {
    "duration": 22,
    "start_time": "2022-03-29T20:32:35.849Z"
   },
   {
    "duration": 23,
    "start_time": "2022-03-29T20:33:05.730Z"
   },
   {
    "duration": 22,
    "start_time": "2022-03-29T20:33:38.379Z"
   },
   {
    "duration": 20,
    "start_time": "2022-03-29T20:34:10.529Z"
   },
   {
    "duration": 22,
    "start_time": "2022-03-29T20:34:11.611Z"
   },
   {
    "duration": 15,
    "start_time": "2022-03-29T20:34:56.538Z"
   },
   {
    "duration": 334,
    "start_time": "2022-03-29T20:35:00.179Z"
   },
   {
    "duration": 298,
    "start_time": "2022-03-29T20:35:19.122Z"
   },
   {
    "duration": 299,
    "start_time": "2022-03-29T20:35:25.698Z"
   },
   {
    "duration": 271,
    "start_time": "2022-03-29T20:35:35.506Z"
   },
   {
    "duration": 235,
    "start_time": "2022-03-29T20:36:16.450Z"
   },
   {
    "duration": 224,
    "start_time": "2022-03-29T20:36:23.281Z"
   },
   {
    "duration": 242,
    "start_time": "2022-03-29T20:36:35.050Z"
   },
   {
    "duration": 1901,
    "start_time": "2022-03-30T08:20:03.644Z"
   },
   {
    "duration": 79,
    "start_time": "2022-03-30T08:20:05.548Z"
   },
   {
    "duration": 20,
    "start_time": "2022-03-30T08:20:05.629Z"
   },
   {
    "duration": 47,
    "start_time": "2022-03-30T08:20:05.652Z"
   },
   {
    "duration": 16,
    "start_time": "2022-03-30T08:20:05.703Z"
   },
   {
    "duration": 27,
    "start_time": "2022-03-30T08:20:05.722Z"
   },
   {
    "duration": 51,
    "start_time": "2022-03-30T08:20:05.752Z"
   },
   {
    "duration": 20,
    "start_time": "2022-03-30T08:20:05.805Z"
   },
   {
    "duration": 19,
    "start_time": "2022-03-30T08:20:05.827Z"
   },
   {
    "duration": 62,
    "start_time": "2022-03-30T08:20:05.848Z"
   },
   {
    "duration": 27,
    "start_time": "2022-03-30T08:20:05.913Z"
   },
   {
    "duration": 23,
    "start_time": "2022-03-30T08:20:05.942Z"
   },
   {
    "duration": 33,
    "start_time": "2022-03-30T08:20:05.968Z"
   },
   {
    "duration": 18,
    "start_time": "2022-03-30T08:20:06.006Z"
   },
   {
    "duration": 25,
    "start_time": "2022-03-30T08:20:06.026Z"
   },
   {
    "duration": 14,
    "start_time": "2022-03-30T08:20:06.054Z"
   },
   {
    "duration": 20,
    "start_time": "2022-03-30T08:20:06.084Z"
   },
   {
    "duration": 7,
    "start_time": "2022-03-30T08:20:06.107Z"
   },
   {
    "duration": 18,
    "start_time": "2022-03-30T08:20:06.116Z"
   },
   {
    "duration": 83,
    "start_time": "2022-03-30T08:20:06.136Z"
   },
   {
    "duration": 37,
    "start_time": "2022-03-30T08:20:06.221Z"
   },
   {
    "duration": 51,
    "start_time": "2022-03-30T08:20:06.260Z"
   },
   {
    "duration": 543,
    "start_time": "2022-03-30T08:20:06.313Z"
   },
   {
    "duration": 32,
    "start_time": "2022-03-30T08:20:06.858Z"
   },
   {
    "duration": 270,
    "start_time": "2022-03-30T08:20:06.894Z"
   },
   {
    "duration": 253,
    "start_time": "2022-03-30T08:20:13.316Z"
   },
   {
    "duration": 304,
    "start_time": "2022-03-30T08:20:18.404Z"
   },
   {
    "duration": 226,
    "start_time": "2022-03-30T08:20:27.512Z"
   },
   {
    "duration": 157,
    "start_time": "2022-03-30T08:24:12.999Z"
   },
   {
    "duration": 28,
    "start_time": "2022-03-30T08:24:37.222Z"
   },
   {
    "duration": 1527,
    "start_time": "2022-03-30T08:34:07.969Z"
   },
   {
    "duration": 73,
    "start_time": "2022-03-30T08:34:09.498Z"
   },
   {
    "duration": 13,
    "start_time": "2022-03-30T08:34:09.573Z"
   },
   {
    "duration": 23,
    "start_time": "2022-03-30T08:34:09.588Z"
   },
   {
    "duration": 20,
    "start_time": "2022-03-30T08:34:09.613Z"
   },
   {
    "duration": 51,
    "start_time": "2022-03-30T08:34:09.634Z"
   },
   {
    "duration": 19,
    "start_time": "2022-03-30T08:34:09.687Z"
   },
   {
    "duration": 21,
    "start_time": "2022-03-30T08:34:09.707Z"
   },
   {
    "duration": 22,
    "start_time": "2022-03-30T08:34:09.730Z"
   },
   {
    "duration": 16,
    "start_time": "2022-03-30T08:34:09.754Z"
   },
   {
    "duration": 36,
    "start_time": "2022-03-30T08:34:09.772Z"
   },
   {
    "duration": 43,
    "start_time": "2022-03-30T08:34:09.810Z"
   },
   {
    "duration": 26,
    "start_time": "2022-03-30T08:34:09.855Z"
   },
   {
    "duration": 32,
    "start_time": "2022-03-30T08:34:09.883Z"
   },
   {
    "duration": 10,
    "start_time": "2022-03-30T08:34:09.917Z"
   },
   {
    "duration": 32,
    "start_time": "2022-03-30T08:34:09.929Z"
   },
   {
    "duration": 29,
    "start_time": "2022-03-30T08:34:09.962Z"
   },
   {
    "duration": 13,
    "start_time": "2022-03-30T08:34:09.993Z"
   },
   {
    "duration": 25,
    "start_time": "2022-03-30T08:34:10.008Z"
   },
   {
    "duration": 44,
    "start_time": "2022-03-30T08:34:10.035Z"
   },
   {
    "duration": 36,
    "start_time": "2022-03-30T08:34:10.080Z"
   },
   {
    "duration": 33,
    "start_time": "2022-03-30T08:34:10.118Z"
   },
   {
    "duration": 298,
    "start_time": "2022-03-30T08:34:10.152Z"
   },
   {
    "duration": 12,
    "start_time": "2022-03-30T08:34:10.451Z"
   },
   {
    "duration": 151,
    "start_time": "2022-03-30T08:34:10.465Z"
   },
   {
    "duration": 26,
    "start_time": "2022-03-30T08:34:10.618Z"
   },
   {
    "duration": 107,
    "start_time": "2022-03-30T08:34:10.646Z"
   },
   {
    "duration": 21,
    "start_time": "2022-03-30T08:34:23.740Z"
   },
   {
    "duration": 20,
    "start_time": "2022-03-30T08:50:24.096Z"
   },
   {
    "duration": 20,
    "start_time": "2022-03-30T08:51:19.643Z"
   },
   {
    "duration": 6,
    "start_time": "2022-03-30T08:55:47.988Z"
   },
   {
    "duration": 1253,
    "start_time": "2022-03-30T09:25:33.993Z"
   },
   {
    "duration": 66,
    "start_time": "2022-03-30T09:25:35.249Z"
   },
   {
    "duration": 16,
    "start_time": "2022-03-30T09:25:35.317Z"
   },
   {
    "duration": 16,
    "start_time": "2022-03-30T09:25:35.334Z"
   },
   {
    "duration": 9,
    "start_time": "2022-03-30T09:25:35.353Z"
   },
   {
    "duration": 30,
    "start_time": "2022-03-30T09:25:35.364Z"
   },
   {
    "duration": 41,
    "start_time": "2022-03-30T09:25:35.395Z"
   },
   {
    "duration": 15,
    "start_time": "2022-03-30T09:25:35.438Z"
   },
   {
    "duration": 19,
    "start_time": "2022-03-30T09:25:35.455Z"
   },
   {
    "duration": 12,
    "start_time": "2022-03-30T09:25:35.475Z"
   },
   {
    "duration": 31,
    "start_time": "2022-03-30T09:25:35.489Z"
   },
   {
    "duration": 20,
    "start_time": "2022-03-30T09:25:35.531Z"
   },
   {
    "duration": 24,
    "start_time": "2022-03-30T09:25:35.554Z"
   },
   {
    "duration": 18,
    "start_time": "2022-03-30T09:25:35.581Z"
   },
   {
    "duration": 14,
    "start_time": "2022-03-30T09:25:35.600Z"
   },
   {
    "duration": 15,
    "start_time": "2022-03-30T09:25:35.616Z"
   },
   {
    "duration": 13,
    "start_time": "2022-03-30T09:25:35.633Z"
   },
   {
    "duration": 15,
    "start_time": "2022-03-30T09:25:35.648Z"
   },
   {
    "duration": 17,
    "start_time": "2022-03-30T09:25:35.665Z"
   },
   {
    "duration": 37,
    "start_time": "2022-03-30T09:25:35.685Z"
   },
   {
    "duration": 37,
    "start_time": "2022-03-30T09:25:35.723Z"
   },
   {
    "duration": 28,
    "start_time": "2022-03-30T09:25:35.762Z"
   },
   {
    "duration": 320,
    "start_time": "2022-03-30T09:25:35.791Z"
   },
   {
    "duration": 19,
    "start_time": "2022-03-30T09:25:36.113Z"
   },
   {
    "duration": 146,
    "start_time": "2022-03-30T09:25:36.134Z"
   },
   {
    "duration": 21,
    "start_time": "2022-03-30T09:25:36.282Z"
   },
   {
    "duration": 6,
    "start_time": "2022-03-30T09:25:36.304Z"
   },
   {
    "duration": 321,
    "start_time": "2022-03-30T09:25:36.331Z"
   },
   {
    "duration": 357,
    "start_time": "2022-03-30T09:26:40.164Z"
   },
   {
    "duration": 311,
    "start_time": "2022-03-30T09:27:50.453Z"
   },
   {
    "duration": 13,
    "start_time": "2022-03-30T09:29:25.752Z"
   },
   {
    "duration": 344,
    "start_time": "2022-03-30T09:29:26.765Z"
   },
   {
    "duration": 317,
    "start_time": "2022-03-30T09:29:57.865Z"
   },
   {
    "duration": 299,
    "start_time": "2022-03-30T09:30:22.684Z"
   },
   {
    "duration": 391,
    "start_time": "2022-03-30T09:30:32.604Z"
   },
   {
    "duration": 333,
    "start_time": "2022-03-30T09:36:45.584Z"
   },
   {
    "duration": 149,
    "start_time": "2022-03-30T10:25:04.491Z"
   },
   {
    "duration": 149,
    "start_time": "2022-03-30T10:25:19.283Z"
   },
   {
    "duration": 29,
    "start_time": "2022-03-30T10:32:38.635Z"
   },
   {
    "duration": 233,
    "start_time": "2022-03-30T10:33:29.387Z"
   },
   {
    "duration": 24,
    "start_time": "2022-03-30T10:36:41.635Z"
   },
   {
    "duration": 18,
    "start_time": "2022-03-30T10:40:29.296Z"
   },
   {
    "duration": 16,
    "start_time": "2022-03-30T10:40:53.817Z"
   },
   {
    "duration": 259,
    "start_time": "2022-03-30T10:43:07.157Z"
   },
   {
    "duration": 260,
    "start_time": "2022-03-30T10:43:45.558Z"
   },
   {
    "duration": 304,
    "start_time": "2022-03-30T10:44:59.401Z"
   },
   {
    "duration": 262,
    "start_time": "2022-03-30T10:45:10.077Z"
   },
   {
    "duration": 247,
    "start_time": "2022-03-30T10:46:48.985Z"
   },
   {
    "duration": 264,
    "start_time": "2022-03-30T10:47:03.538Z"
   },
   {
    "duration": 351,
    "start_time": "2022-03-30T10:52:33.137Z"
   },
   {
    "duration": 263,
    "start_time": "2022-03-30T10:52:40.926Z"
   },
   {
    "duration": 256,
    "start_time": "2022-03-30T10:53:48.537Z"
   },
   {
    "duration": 261,
    "start_time": "2022-03-30T10:53:59.278Z"
   },
   {
    "duration": 256,
    "start_time": "2022-03-30T10:54:07.188Z"
   },
   {
    "duration": 756,
    "start_time": "2022-03-30T10:56:29.486Z"
   },
   {
    "duration": 752,
    "start_time": "2022-03-30T10:56:53.057Z"
   },
   {
    "duration": 365,
    "start_time": "2022-03-30T10:57:23.358Z"
   },
   {
    "duration": 291,
    "start_time": "2022-03-30T10:57:36.325Z"
   },
   {
    "duration": 285,
    "start_time": "2022-03-30T10:59:49.378Z"
   },
   {
    "duration": 296,
    "start_time": "2022-03-30T11:01:21.230Z"
   },
   {
    "duration": 291,
    "start_time": "2022-03-30T11:08:41.289Z"
   },
   {
    "duration": 266,
    "start_time": "2022-03-30T11:13:13.828Z"
   },
   {
    "duration": 5977,
    "start_time": "2022-03-30T11:14:27.727Z"
   },
   {
    "duration": 258,
    "start_time": "2022-03-30T11:14:45.787Z"
   },
   {
    "duration": 269,
    "start_time": "2022-03-30T11:14:52.328Z"
   },
   {
    "duration": 322,
    "start_time": "2022-03-30T11:15:31.047Z"
   },
   {
    "duration": 303,
    "start_time": "2022-03-30T11:15:39.696Z"
   },
   {
    "duration": 321,
    "start_time": "2022-03-30T11:16:07.559Z"
   },
   {
    "duration": 906,
    "start_time": "2022-03-30T11:16:16.295Z"
   },
   {
    "duration": 5,
    "start_time": "2022-03-30T11:16:42.968Z"
   },
   {
    "duration": 332,
    "start_time": "2022-03-30T11:16:46.620Z"
   },
   {
    "duration": 10,
    "start_time": "2022-03-30T11:19:42.559Z"
   },
   {
    "duration": 1701,
    "start_time": "2022-03-30T11:36:19.004Z"
   },
   {
    "duration": 68,
    "start_time": "2022-03-30T11:36:20.708Z"
   },
   {
    "duration": 19,
    "start_time": "2022-03-30T11:36:20.778Z"
   },
   {
    "duration": 20,
    "start_time": "2022-03-30T11:36:20.800Z"
   },
   {
    "duration": 13,
    "start_time": "2022-03-30T11:36:20.823Z"
   },
   {
    "duration": 32,
    "start_time": "2022-03-30T11:36:20.875Z"
   },
   {
    "duration": 25,
    "start_time": "2022-03-30T11:36:20.912Z"
   },
   {
    "duration": 41,
    "start_time": "2022-03-30T11:36:20.940Z"
   },
   {
    "duration": 19,
    "start_time": "2022-03-30T11:36:20.984Z"
   },
   {
    "duration": 6,
    "start_time": "2022-03-30T11:36:21.006Z"
   },
   {
    "duration": 61,
    "start_time": "2022-03-30T11:36:21.014Z"
   },
   {
    "duration": 24,
    "start_time": "2022-03-30T11:36:21.077Z"
   },
   {
    "duration": 24,
    "start_time": "2022-03-30T11:36:21.103Z"
   },
   {
    "duration": 17,
    "start_time": "2022-03-30T11:36:21.132Z"
   },
   {
    "duration": 11,
    "start_time": "2022-03-30T11:36:21.173Z"
   },
   {
    "duration": 6,
    "start_time": "2022-03-30T11:36:21.186Z"
   },
   {
    "duration": 14,
    "start_time": "2022-03-30T11:36:21.195Z"
   },
   {
    "duration": 9,
    "start_time": "2022-03-30T11:36:21.211Z"
   },
   {
    "duration": 53,
    "start_time": "2022-03-30T11:36:21.222Z"
   },
   {
    "duration": 50,
    "start_time": "2022-03-30T11:36:21.277Z"
   },
   {
    "duration": 60,
    "start_time": "2022-03-30T11:36:21.329Z"
   },
   {
    "duration": 19,
    "start_time": "2022-03-30T11:36:21.391Z"
   },
   {
    "duration": 534,
    "start_time": "2022-03-30T11:36:21.412Z"
   },
   {
    "duration": 27,
    "start_time": "2022-03-30T11:36:21.948Z"
   },
   {
    "duration": 280,
    "start_time": "2022-03-30T11:36:21.977Z"
   },
   {
    "duration": 36,
    "start_time": "2022-03-30T11:36:22.259Z"
   },
   {
    "duration": 5,
    "start_time": "2022-03-30T11:36:22.298Z"
   },
   {
    "duration": 544,
    "start_time": "2022-03-30T11:36:22.305Z"
   },
   {
    "duration": 44,
    "start_time": "2022-03-30T11:36:22.853Z"
   },
   {
    "duration": 370,
    "start_time": "2022-03-30T11:36:22.900Z"
   },
   {
    "duration": 22,
    "start_time": "2022-03-30T11:36:23.275Z"
   },
   {
    "duration": 595,
    "start_time": "2022-03-30T11:36:23.299Z"
   },
   {
    "duration": 13,
    "start_time": "2022-03-30T11:36:23.897Z"
   },
   {
    "duration": 34,
    "start_time": "2022-03-30T11:36:23.913Z"
   },
   {
    "duration": 6,
    "start_time": "2022-03-30T11:37:32.541Z"
   },
   {
    "duration": 22,
    "start_time": "2022-03-30T11:37:33.729Z"
   },
   {
    "duration": 17,
    "start_time": "2022-03-30T11:37:47.731Z"
   },
   {
    "duration": 20,
    "start_time": "2022-03-30T11:37:49.670Z"
   },
   {
    "duration": 19,
    "start_time": "2022-03-30T11:38:43.972Z"
   },
   {
    "duration": 24,
    "start_time": "2022-03-30T11:40:47.170Z"
   },
   {
    "duration": 36,
    "start_time": "2022-03-30T11:41:17.963Z"
   },
   {
    "duration": 574,
    "start_time": "2022-03-30T11:43:08.200Z"
   },
   {
    "duration": 8,
    "start_time": "2022-03-30T11:44:35.545Z"
   },
   {
    "duration": 146,
    "start_time": "2022-03-30T11:45:39.060Z"
   },
   {
    "duration": 17,
    "start_time": "2022-03-30T11:45:52.414Z"
   },
   {
    "duration": 8,
    "start_time": "2022-03-30T11:46:23.355Z"
   },
   {
    "duration": 13,
    "start_time": "2022-03-30T11:46:32.355Z"
   },
   {
    "duration": 1520,
    "start_time": "2022-03-30T11:47:23.987Z"
   },
   {
    "duration": 67,
    "start_time": "2022-03-30T11:47:25.510Z"
   },
   {
    "duration": 18,
    "start_time": "2022-03-30T11:47:25.579Z"
   },
   {
    "duration": 20,
    "start_time": "2022-03-30T11:47:25.600Z"
   },
   {
    "duration": 12,
    "start_time": "2022-03-30T11:47:25.624Z"
   },
   {
    "duration": 60,
    "start_time": "2022-03-30T11:47:25.638Z"
   },
   {
    "duration": 24,
    "start_time": "2022-03-30T11:47:25.700Z"
   },
   {
    "duration": 50,
    "start_time": "2022-03-30T11:47:25.726Z"
   },
   {
    "duration": 18,
    "start_time": "2022-03-30T11:47:25.779Z"
   },
   {
    "duration": 13,
    "start_time": "2022-03-30T11:47:25.799Z"
   },
   {
    "duration": 30,
    "start_time": "2022-03-30T11:47:25.814Z"
   },
   {
    "duration": 47,
    "start_time": "2022-03-30T11:47:25.846Z"
   },
   {
    "duration": 13,
    "start_time": "2022-03-30T11:47:25.896Z"
   },
   {
    "duration": 17,
    "start_time": "2022-03-30T11:47:25.913Z"
   },
   {
    "duration": 43,
    "start_time": "2022-03-30T11:47:25.932Z"
   },
   {
    "duration": 11,
    "start_time": "2022-03-30T11:47:25.977Z"
   },
   {
    "duration": 14,
    "start_time": "2022-03-30T11:47:25.990Z"
   },
   {
    "duration": 8,
    "start_time": "2022-03-30T11:47:26.006Z"
   },
   {
    "duration": 23,
    "start_time": "2022-03-30T11:47:26.016Z"
   },
   {
    "duration": 69,
    "start_time": "2022-03-30T11:47:26.041Z"
   },
   {
    "duration": 37,
    "start_time": "2022-03-30T11:47:26.112Z"
   },
   {
    "duration": 19,
    "start_time": "2022-03-30T11:47:26.174Z"
   },
   {
    "duration": 524,
    "start_time": "2022-03-30T11:47:26.195Z"
   },
   {
    "duration": 15,
    "start_time": "2022-03-30T11:47:26.721Z"
   },
   {
    "duration": 250,
    "start_time": "2022-03-30T11:47:26.738Z"
   },
   {
    "duration": 30,
    "start_time": "2022-03-30T11:47:26.990Z"
   },
   {
    "duration": 7,
    "start_time": "2022-03-30T11:47:27.022Z"
   },
   {
    "duration": 545,
    "start_time": "2022-03-30T11:47:27.031Z"
   },
   {
    "duration": 33,
    "start_time": "2022-03-30T11:47:27.578Z"
   },
   {
    "duration": 367,
    "start_time": "2022-03-30T11:47:27.613Z"
   },
   {
    "duration": 23,
    "start_time": "2022-03-30T11:47:27.982Z"
   },
   {
    "duration": 579,
    "start_time": "2022-03-30T11:47:28.007Z"
   },
   {
    "duration": 19,
    "start_time": "2022-03-30T11:47:28.589Z"
   },
   {
    "duration": 10,
    "start_time": "2022-03-30T11:47:28.610Z"
   },
   {
    "duration": 17,
    "start_time": "2022-03-30T11:47:28.622Z"
   },
   {
    "duration": 18,
    "start_time": "2022-03-30T11:47:28.642Z"
   },
   {
    "duration": 19,
    "start_time": "2022-03-30T11:47:28.674Z"
   },
   {
    "duration": 27,
    "start_time": "2022-03-30T11:47:28.696Z"
   },
   {
    "duration": 578,
    "start_time": "2022-03-30T11:47:28.725Z"
   },
   {
    "duration": 158,
    "start_time": "2022-03-30T11:54:28.398Z"
   },
   {
    "duration": 18,
    "start_time": "2022-03-30T11:54:49.698Z"
   },
   {
    "duration": 7,
    "start_time": "2022-03-30T11:54:52.518Z"
   },
   {
    "duration": 17,
    "start_time": "2022-03-30T11:54:59.606Z"
   },
   {
    "duration": 16,
    "start_time": "2022-03-30T11:55:00.406Z"
   },
   {
    "duration": 19,
    "start_time": "2022-03-30T11:55:07.874Z"
   },
   {
    "duration": 25,
    "start_time": "2022-03-30T11:55:22.194Z"
   },
   {
    "duration": 567,
    "start_time": "2022-03-30T11:55:23.178Z"
   },
   {
    "duration": 1948,
    "start_time": "2022-03-30T11:55:53.269Z"
   },
   {
    "duration": 73,
    "start_time": "2022-03-30T11:55:55.221Z"
   },
   {
    "duration": 19,
    "start_time": "2022-03-30T11:55:55.296Z"
   },
   {
    "duration": 20,
    "start_time": "2022-03-30T11:55:55.317Z"
   },
   {
    "duration": 37,
    "start_time": "2022-03-30T11:55:55.341Z"
   },
   {
    "duration": 30,
    "start_time": "2022-03-30T11:55:55.380Z"
   },
   {
    "duration": 25,
    "start_time": "2022-03-30T11:55:55.412Z"
   },
   {
    "duration": 52,
    "start_time": "2022-03-30T11:55:55.439Z"
   },
   {
    "duration": 18,
    "start_time": "2022-03-30T11:55:55.494Z"
   },
   {
    "duration": 6,
    "start_time": "2022-03-30T11:55:55.514Z"
   },
   {
    "duration": 68,
    "start_time": "2022-03-30T11:55:55.522Z"
   },
   {
    "duration": 24,
    "start_time": "2022-03-30T11:55:55.593Z"
   },
   {
    "duration": 18,
    "start_time": "2022-03-30T11:55:55.619Z"
   },
   {
    "duration": 43,
    "start_time": "2022-03-30T11:55:55.643Z"
   },
   {
    "duration": 11,
    "start_time": "2022-03-30T11:55:55.689Z"
   },
   {
    "duration": 8,
    "start_time": "2022-03-30T11:55:55.703Z"
   },
   {
    "duration": 16,
    "start_time": "2022-03-30T11:55:55.713Z"
   },
   {
    "duration": 46,
    "start_time": "2022-03-30T11:55:55.731Z"
   },
   {
    "duration": 15,
    "start_time": "2022-03-30T11:55:55.780Z"
   },
   {
    "duration": 79,
    "start_time": "2022-03-30T11:55:55.797Z"
   },
   {
    "duration": 38,
    "start_time": "2022-03-30T11:55:55.879Z"
   },
   {
    "duration": 55,
    "start_time": "2022-03-30T11:55:55.919Z"
   },
   {
    "duration": 523,
    "start_time": "2022-03-30T11:55:55.976Z"
   },
   {
    "duration": 16,
    "start_time": "2022-03-30T11:55:56.502Z"
   },
   {
    "duration": 250,
    "start_time": "2022-03-30T11:55:56.520Z"
   },
   {
    "duration": 29,
    "start_time": "2022-03-30T11:55:56.774Z"
   },
   {
    "duration": 7,
    "start_time": "2022-03-30T11:55:56.806Z"
   },
   {
    "duration": 548,
    "start_time": "2022-03-30T11:55:56.816Z"
   },
   {
    "duration": 31,
    "start_time": "2022-03-30T11:55:57.374Z"
   },
   {
    "duration": 374,
    "start_time": "2022-03-30T11:55:57.407Z"
   },
   {
    "duration": 23,
    "start_time": "2022-03-30T11:55:57.784Z"
   },
   {
    "duration": 577,
    "start_time": "2022-03-30T11:55:57.809Z"
   },
   {
    "duration": 15,
    "start_time": "2022-03-30T11:55:58.389Z"
   },
   {
    "duration": 14,
    "start_time": "2022-03-30T11:55:58.407Z"
   },
   {
    "duration": 178,
    "start_time": "2022-03-30T11:55:58.423Z"
   },
   {
    "duration": 0,
    "start_time": "2022-03-30T11:55:58.604Z"
   },
   {
    "duration": 16,
    "start_time": "2022-03-30T11:56:39.017Z"
   },
   {
    "duration": 1568,
    "start_time": "2022-03-30T11:57:00.447Z"
   },
   {
    "duration": 72,
    "start_time": "2022-03-30T11:57:02.018Z"
   },
   {
    "duration": 18,
    "start_time": "2022-03-30T11:57:02.092Z"
   },
   {
    "duration": 52,
    "start_time": "2022-03-30T11:57:02.112Z"
   },
   {
    "duration": 12,
    "start_time": "2022-03-30T11:57:02.167Z"
   },
   {
    "duration": 43,
    "start_time": "2022-03-30T11:57:02.181Z"
   },
   {
    "duration": 25,
    "start_time": "2022-03-30T11:57:02.226Z"
   },
   {
    "duration": 37,
    "start_time": "2022-03-30T11:57:02.254Z"
   },
   {
    "duration": 18,
    "start_time": "2022-03-30T11:57:02.294Z"
   },
   {
    "duration": 7,
    "start_time": "2022-03-30T11:57:02.314Z"
   },
   {
    "duration": 60,
    "start_time": "2022-03-30T11:57:02.323Z"
   },
   {
    "duration": 24,
    "start_time": "2022-03-30T11:57:02.385Z"
   },
   {
    "duration": 16,
    "start_time": "2022-03-30T11:57:02.411Z"
   },
   {
    "duration": 45,
    "start_time": "2022-03-30T11:57:02.431Z"
   },
   {
    "duration": 10,
    "start_time": "2022-03-30T11:57:02.478Z"
   },
   {
    "duration": 10,
    "start_time": "2022-03-30T11:57:02.490Z"
   },
   {
    "duration": 14,
    "start_time": "2022-03-30T11:57:02.503Z"
   },
   {
    "duration": 9,
    "start_time": "2022-03-30T11:57:02.519Z"
   },
   {
    "duration": 45,
    "start_time": "2022-03-30T11:57:02.530Z"
   },
   {
    "duration": 50,
    "start_time": "2022-03-30T11:57:02.578Z"
   },
   {
    "duration": 63,
    "start_time": "2022-03-30T11:57:02.630Z"
   },
   {
    "duration": 19,
    "start_time": "2022-03-30T11:57:02.695Z"
   },
   {
    "duration": 523,
    "start_time": "2022-03-30T11:57:02.716Z"
   },
   {
    "duration": 16,
    "start_time": "2022-03-30T11:57:03.241Z"
   },
   {
    "duration": 230,
    "start_time": "2022-03-30T11:57:03.273Z"
   },
   {
    "duration": 29,
    "start_time": "2022-03-30T11:57:03.505Z"
   },
   {
    "duration": 7,
    "start_time": "2022-03-30T11:57:03.537Z"
   },
   {
    "duration": 507,
    "start_time": "2022-03-30T11:57:03.573Z"
   },
   {
    "duration": 32,
    "start_time": "2022-03-30T11:57:04.084Z"
   },
   {
    "duration": 377,
    "start_time": "2022-03-30T11:57:04.118Z"
   },
   {
    "duration": 22,
    "start_time": "2022-03-30T11:57:04.497Z"
   },
   {
    "duration": 565,
    "start_time": "2022-03-30T11:57:04.521Z"
   },
   {
    "duration": 145,
    "start_time": "2022-03-30T11:57:05.089Z"
   },
   {
    "duration": 0,
    "start_time": "2022-03-30T11:57:05.237Z"
   },
   {
    "duration": 0,
    "start_time": "2022-03-30T11:57:05.239Z"
   },
   {
    "duration": 0,
    "start_time": "2022-03-30T11:57:05.241Z"
   },
   {
    "duration": 1504,
    "start_time": "2022-03-30T11:57:28.309Z"
   },
   {
    "duration": 70,
    "start_time": "2022-03-30T11:57:29.816Z"
   },
   {
    "duration": 18,
    "start_time": "2022-03-30T11:57:29.888Z"
   },
   {
    "duration": 30,
    "start_time": "2022-03-30T11:57:29.908Z"
   },
   {
    "duration": 14,
    "start_time": "2022-03-30T11:57:29.942Z"
   },
   {
    "duration": 43,
    "start_time": "2022-03-30T11:57:29.958Z"
   },
   {
    "duration": 24,
    "start_time": "2022-03-30T11:57:30.004Z"
   },
   {
    "duration": 45,
    "start_time": "2022-03-30T11:57:30.031Z"
   },
   {
    "duration": 21,
    "start_time": "2022-03-30T11:57:30.078Z"
   },
   {
    "duration": 29,
    "start_time": "2022-03-30T11:57:30.101Z"
   },
   {
    "duration": 58,
    "start_time": "2022-03-30T11:57:30.132Z"
   },
   {
    "duration": 56,
    "start_time": "2022-03-30T11:57:30.192Z"
   },
   {
    "duration": 24,
    "start_time": "2022-03-30T11:57:30.250Z"
   },
   {
    "duration": 20,
    "start_time": "2022-03-30T11:57:30.279Z"
   },
   {
    "duration": 21,
    "start_time": "2022-03-30T11:57:30.301Z"
   },
   {
    "duration": 26,
    "start_time": "2022-03-30T11:57:30.324Z"
   },
   {
    "duration": 51,
    "start_time": "2022-03-30T11:57:30.352Z"
   },
   {
    "duration": 38,
    "start_time": "2022-03-30T11:57:30.405Z"
   },
   {
    "duration": 29,
    "start_time": "2022-03-30T11:57:30.446Z"
   },
   {
    "duration": 57,
    "start_time": "2022-03-30T11:57:30.477Z"
   },
   {
    "duration": 46,
    "start_time": "2022-03-30T11:57:30.537Z"
   },
   {
    "duration": 24,
    "start_time": "2022-03-30T11:57:30.585Z"
   },
   {
    "duration": 529,
    "start_time": "2022-03-30T11:57:30.611Z"
   },
   {
    "duration": 31,
    "start_time": "2022-03-30T11:57:31.142Z"
   },
   {
    "duration": 236,
    "start_time": "2022-03-30T11:57:31.176Z"
   },
   {
    "duration": 30,
    "start_time": "2022-03-30T11:57:31.415Z"
   },
   {
    "duration": 28,
    "start_time": "2022-03-30T11:57:31.447Z"
   },
   {
    "duration": 523,
    "start_time": "2022-03-30T11:57:31.477Z"
   },
   {
    "duration": 30,
    "start_time": "2022-03-30T11:57:32.002Z"
   },
   {
    "duration": 382,
    "start_time": "2022-03-30T11:57:32.034Z"
   },
   {
    "duration": 25,
    "start_time": "2022-03-30T11:57:32.419Z"
   },
   {
    "duration": 593,
    "start_time": "2022-03-30T11:57:32.446Z"
   },
   {
    "duration": 382,
    "start_time": "2022-03-30T11:57:33.041Z"
   },
   {
    "duration": 0,
    "start_time": "2022-03-30T11:57:33.426Z"
   },
   {
    "duration": 0,
    "start_time": "2022-03-30T11:57:33.428Z"
   },
   {
    "duration": 0,
    "start_time": "2022-03-30T11:57:33.430Z"
   },
   {
    "duration": 342,
    "start_time": "2022-03-30T11:57:42.378Z"
   },
   {
    "duration": 15,
    "start_time": "2022-03-30T11:57:45.047Z"
   },
   {
    "duration": 29,
    "start_time": "2022-03-30T11:57:54.358Z"
   },
   {
    "duration": 554,
    "start_time": "2022-03-30T11:57:55.658Z"
   },
   {
    "duration": 13,
    "start_time": "2022-03-30T12:03:44.991Z"
   },
   {
    "duration": 34,
    "start_time": "2022-03-30T12:03:51.138Z"
   },
   {
    "duration": 26,
    "start_time": "2022-03-30T12:03:58.281Z"
   },
   {
    "duration": 566,
    "start_time": "2022-03-30T12:04:00.159Z"
   },
   {
    "duration": 235,
    "start_time": "2022-03-30T12:04:28.679Z"
   },
   {
    "duration": 26,
    "start_time": "2022-03-30T12:04:29.826Z"
   },
   {
    "duration": 549,
    "start_time": "2022-03-30T12:04:30.480Z"
   },
   {
    "duration": 31,
    "start_time": "2022-03-30T12:11:58.721Z"
   },
   {
    "duration": 25,
    "start_time": "2022-03-30T12:12:06.160Z"
   },
   {
    "duration": 548,
    "start_time": "2022-03-30T12:12:07.434Z"
   },
   {
    "duration": 1480,
    "start_time": "2022-03-30T12:12:21.223Z"
   },
   {
    "duration": 68,
    "start_time": "2022-03-30T12:12:22.706Z"
   },
   {
    "duration": 19,
    "start_time": "2022-03-30T12:12:22.776Z"
   },
   {
    "duration": 22,
    "start_time": "2022-03-30T12:12:22.797Z"
   },
   {
    "duration": 12,
    "start_time": "2022-03-30T12:12:22.821Z"
   },
   {
    "duration": 60,
    "start_time": "2022-03-30T12:12:22.835Z"
   },
   {
    "duration": 24,
    "start_time": "2022-03-30T12:12:22.898Z"
   },
   {
    "duration": 21,
    "start_time": "2022-03-30T12:12:22.924Z"
   },
   {
    "duration": 38,
    "start_time": "2022-03-30T12:12:22.948Z"
   },
   {
    "duration": 6,
    "start_time": "2022-03-30T12:12:22.990Z"
   },
   {
    "duration": 30,
    "start_time": "2022-03-30T12:12:22.998Z"
   },
   {
    "duration": 56,
    "start_time": "2022-03-30T12:12:23.030Z"
   },
   {
    "duration": 16,
    "start_time": "2022-03-30T12:12:23.088Z"
   },
   {
    "duration": 18,
    "start_time": "2022-03-30T12:12:23.106Z"
   },
   {
    "duration": 9,
    "start_time": "2022-03-30T12:12:23.127Z"
   },
   {
    "duration": 37,
    "start_time": "2022-03-30T12:12:23.139Z"
   },
   {
    "duration": 11,
    "start_time": "2022-03-30T12:12:23.178Z"
   },
   {
    "duration": 8,
    "start_time": "2022-03-30T12:12:23.192Z"
   },
   {
    "duration": 11,
    "start_time": "2022-03-30T12:12:23.202Z"
   },
   {
    "duration": 90,
    "start_time": "2022-03-30T12:12:23.215Z"
   },
   {
    "duration": 37,
    "start_time": "2022-03-30T12:12:23.308Z"
   },
   {
    "duration": 18,
    "start_time": "2022-03-30T12:12:23.374Z"
   },
   {
    "duration": 535,
    "start_time": "2022-03-30T12:12:23.395Z"
   },
   {
    "duration": 16,
    "start_time": "2022-03-30T12:12:23.932Z"
   },
   {
    "duration": 250,
    "start_time": "2022-03-30T12:12:23.951Z"
   },
   {
    "duration": 29,
    "start_time": "2022-03-30T12:12:24.204Z"
   },
   {
    "duration": 7,
    "start_time": "2022-03-30T12:12:24.235Z"
   },
   {
    "duration": 714,
    "start_time": "2022-03-30T12:12:24.273Z"
   },
   {
    "duration": 31,
    "start_time": "2022-03-30T12:12:24.989Z"
   },
   {
    "duration": 375,
    "start_time": "2022-03-30T12:12:25.022Z"
   },
   {
    "duration": 22,
    "start_time": "2022-03-30T12:12:25.400Z"
   },
   {
    "duration": 574,
    "start_time": "2022-03-30T12:12:25.425Z"
   },
   {
    "duration": 33,
    "start_time": "2022-03-30T12:12:26.001Z"
   },
   {
    "duration": 24,
    "start_time": "2022-03-30T12:12:26.036Z"
   },
   {
    "duration": 575,
    "start_time": "2022-03-30T12:12:26.062Z"
   },
   {
    "duration": 247,
    "start_time": "2022-03-30T12:12:37.555Z"
   },
   {
    "duration": 1549,
    "start_time": "2022-03-30T12:17:01.544Z"
   },
   {
    "duration": 70,
    "start_time": "2022-03-30T12:17:03.096Z"
   },
   {
    "duration": 18,
    "start_time": "2022-03-30T12:17:03.173Z"
   },
   {
    "duration": 19,
    "start_time": "2022-03-30T12:17:03.193Z"
   },
   {
    "duration": 22,
    "start_time": "2022-03-30T12:17:03.215Z"
   },
   {
    "duration": 53,
    "start_time": "2022-03-30T12:17:03.239Z"
   },
   {
    "duration": 25,
    "start_time": "2022-03-30T12:17:03.294Z"
   },
   {
    "duration": 21,
    "start_time": "2022-03-30T12:17:03.321Z"
   },
   {
    "duration": 44,
    "start_time": "2022-03-30T12:17:03.344Z"
   },
   {
    "duration": 5,
    "start_time": "2022-03-30T12:17:03.390Z"
   },
   {
    "duration": 36,
    "start_time": "2022-03-30T12:17:03.397Z"
   },
   {
    "duration": 51,
    "start_time": "2022-03-30T12:17:03.435Z"
   },
   {
    "duration": 14,
    "start_time": "2022-03-30T12:17:03.488Z"
   },
   {
    "duration": 16,
    "start_time": "2022-03-30T12:17:03.506Z"
   },
   {
    "duration": 10,
    "start_time": "2022-03-30T12:17:03.524Z"
   },
   {
    "duration": 43,
    "start_time": "2022-03-30T12:17:03.536Z"
   },
   {
    "duration": 11,
    "start_time": "2022-03-30T12:17:03.581Z"
   },
   {
    "duration": 8,
    "start_time": "2022-03-30T12:17:03.594Z"
   },
   {
    "duration": 15,
    "start_time": "2022-03-30T12:17:03.604Z"
   },
   {
    "duration": 86,
    "start_time": "2022-03-30T12:17:03.621Z"
   },
   {
    "duration": 37,
    "start_time": "2022-03-30T12:17:03.709Z"
   },
   {
    "duration": 18,
    "start_time": "2022-03-30T12:17:03.774Z"
   },
   {
    "duration": 523,
    "start_time": "2022-03-30T12:17:03.794Z"
   },
   {
    "duration": 15,
    "start_time": "2022-03-30T12:17:04.319Z"
   },
   {
    "duration": 258,
    "start_time": "2022-03-30T12:17:04.336Z"
   },
   {
    "duration": 30,
    "start_time": "2022-03-30T12:17:04.597Z"
   },
   {
    "duration": 6,
    "start_time": "2022-03-30T12:17:04.629Z"
   },
   {
    "duration": 548,
    "start_time": "2022-03-30T12:17:04.637Z"
   },
   {
    "duration": 31,
    "start_time": "2022-03-30T12:17:05.187Z"
   },
   {
    "duration": 363,
    "start_time": "2022-03-30T12:17:05.220Z"
   },
   {
    "duration": 22,
    "start_time": "2022-03-30T12:17:05.585Z"
   },
   {
    "duration": 564,
    "start_time": "2022-03-30T12:17:05.609Z"
   },
   {
    "duration": 247,
    "start_time": "2022-03-30T12:17:06.175Z"
   },
   {
    "duration": 24,
    "start_time": "2022-03-30T12:17:06.424Z"
   },
   {
    "duration": 593,
    "start_time": "2022-03-30T12:17:06.450Z"
   },
   {
    "duration": 289,
    "start_time": "2022-03-30T12:22:47.111Z"
   },
   {
    "duration": 120,
    "start_time": "2022-03-30T12:24:21.511Z"
   },
   {
    "duration": 162,
    "start_time": "2022-03-30T12:43:30.085Z"
   },
   {
    "duration": 713,
    "start_time": "2022-03-30T12:58:37.439Z"
   },
   {
    "duration": 582,
    "start_time": "2022-03-30T13:00:29.082Z"
   },
   {
    "duration": 1163,
    "start_time": "2022-03-30T13:16:57.932Z"
   },
   {
    "duration": 1276,
    "start_time": "2022-03-30T13:48:35.565Z"
   },
   {
    "duration": 55,
    "start_time": "2022-03-30T13:48:36.844Z"
   },
   {
    "duration": 13,
    "start_time": "2022-03-30T13:48:36.901Z"
   },
   {
    "duration": 15,
    "start_time": "2022-03-30T13:48:36.915Z"
   },
   {
    "duration": 7,
    "start_time": "2022-03-30T13:48:36.932Z"
   },
   {
    "duration": 33,
    "start_time": "2022-03-30T13:48:36.940Z"
   },
   {
    "duration": 17,
    "start_time": "2022-03-30T13:48:36.975Z"
   },
   {
    "duration": 14,
    "start_time": "2022-03-30T13:48:36.994Z"
   },
   {
    "duration": 12,
    "start_time": "2022-03-30T13:48:37.010Z"
   },
   {
    "duration": 9,
    "start_time": "2022-03-30T13:48:37.024Z"
   },
   {
    "duration": 40,
    "start_time": "2022-03-30T13:48:37.035Z"
   },
   {
    "duration": 16,
    "start_time": "2022-03-30T13:48:37.076Z"
   },
   {
    "duration": 8,
    "start_time": "2022-03-30T13:48:37.095Z"
   },
   {
    "duration": 33,
    "start_time": "2022-03-30T13:48:37.106Z"
   },
   {
    "duration": 15,
    "start_time": "2022-03-30T13:48:37.141Z"
   },
   {
    "duration": 5,
    "start_time": "2022-03-30T13:48:37.162Z"
   },
   {
    "duration": 9,
    "start_time": "2022-03-30T13:48:37.169Z"
   },
   {
    "duration": 8,
    "start_time": "2022-03-30T13:48:37.180Z"
   },
   {
    "duration": 8,
    "start_time": "2022-03-30T13:48:37.190Z"
   },
   {
    "duration": 27,
    "start_time": "2022-03-30T13:48:37.200Z"
   },
   {
    "duration": 52,
    "start_time": "2022-03-30T13:48:37.229Z"
   },
   {
    "duration": 17,
    "start_time": "2022-03-30T13:48:37.282Z"
   },
   {
    "duration": 273,
    "start_time": "2022-03-30T13:48:37.301Z"
   },
   {
    "duration": 10,
    "start_time": "2022-03-30T13:48:37.576Z"
   },
   {
    "duration": 134,
    "start_time": "2022-03-30T13:48:37.588Z"
   },
   {
    "duration": 19,
    "start_time": "2022-03-30T13:48:37.724Z"
   },
   {
    "duration": 4,
    "start_time": "2022-03-30T13:48:37.745Z"
   },
   {
    "duration": 263,
    "start_time": "2022-03-30T13:48:37.763Z"
   },
   {
    "duration": 21,
    "start_time": "2022-03-30T13:48:38.028Z"
   },
   {
    "duration": 220,
    "start_time": "2022-03-30T13:48:38.051Z"
   },
   {
    "duration": 17,
    "start_time": "2022-03-30T13:48:38.273Z"
   },
   {
    "duration": 324,
    "start_time": "2022-03-30T13:48:38.291Z"
   },
   {
    "duration": 174,
    "start_time": "2022-03-30T13:48:38.617Z"
   },
   {
    "duration": 16,
    "start_time": "2022-03-30T13:48:38.793Z"
   },
   {
    "duration": 333,
    "start_time": "2022-03-30T13:48:38.811Z"
   },
   {
    "duration": 825,
    "start_time": "2022-03-30T13:48:39.146Z"
   },
   {
    "duration": 105,
    "start_time": "2022-03-30T13:48:39.973Z"
   },
   {
    "duration": 0,
    "start_time": "2022-03-30T13:48:40.079Z"
   },
   {
    "duration": 0,
    "start_time": "2022-03-30T13:48:40.081Z"
   },
   {
    "duration": 1170,
    "start_time": "2022-03-30T13:48:50.065Z"
   },
   {
    "duration": 110,
    "start_time": "2022-03-30T13:49:13.384Z"
   },
   {
    "duration": 20,
    "start_time": "2022-03-30T13:49:26.119Z"
   },
   {
    "duration": 13,
    "start_time": "2022-03-30T13:49:49.276Z"
   },
   {
    "duration": 13,
    "start_time": "2022-03-30T13:50:30.205Z"
   },
   {
    "duration": 12,
    "start_time": "2022-03-30T13:50:38.145Z"
   },
   {
    "duration": 14,
    "start_time": "2022-03-30T13:50:55.956Z"
   },
   {
    "duration": 44,
    "start_time": "2022-03-30T14:08:41.443Z"
   },
   {
    "duration": 36,
    "start_time": "2022-03-30T14:08:53.136Z"
   },
   {
    "duration": 44,
    "start_time": "2022-03-30T14:09:16.211Z"
   },
   {
    "duration": 37,
    "start_time": "2022-03-30T14:11:13.895Z"
   },
   {
    "duration": 106,
    "start_time": "2022-03-30T14:11:33.843Z"
   },
   {
    "duration": 41,
    "start_time": "2022-03-30T14:11:37.702Z"
   },
   {
    "duration": 40,
    "start_time": "2022-03-30T14:16:48.202Z"
   },
   {
    "duration": 36,
    "start_time": "2022-03-30T14:20:40.716Z"
   },
   {
    "duration": 27,
    "start_time": "2022-03-30T14:21:12.261Z"
   },
   {
    "duration": 9,
    "start_time": "2022-03-30T14:40:54.879Z"
   },
   {
    "duration": 29,
    "start_time": "2022-03-30T14:40:58.139Z"
   },
   {
    "duration": 15,
    "start_time": "2022-03-30T14:40:58.678Z"
   },
   {
    "duration": 13,
    "start_time": "2022-03-30T14:47:05.371Z"
   },
   {
    "duration": 22,
    "start_time": "2022-03-30T14:47:06.047Z"
   },
   {
    "duration": 14,
    "start_time": "2022-03-30T14:54:13.772Z"
   },
   {
    "duration": 5095,
    "start_time": "2022-03-30T14:54:14.893Z"
   },
   {
    "duration": 26,
    "start_time": "2022-03-30T14:56:10.240Z"
   },
   {
    "duration": 1462,
    "start_time": "2022-03-30T18:54:54.362Z"
   },
   {
    "duration": 59,
    "start_time": "2022-03-30T18:54:55.829Z"
   },
   {
    "duration": 24,
    "start_time": "2022-03-30T18:54:55.891Z"
   },
   {
    "duration": 18,
    "start_time": "2022-03-30T18:54:55.918Z"
   },
   {
    "duration": 9,
    "start_time": "2022-03-30T18:54:55.938Z"
   },
   {
    "duration": 22,
    "start_time": "2022-03-30T18:54:55.948Z"
   },
   {
    "duration": 46,
    "start_time": "2022-03-30T18:54:55.972Z"
   },
   {
    "duration": 15,
    "start_time": "2022-03-30T18:54:56.020Z"
   },
   {
    "duration": 15,
    "start_time": "2022-03-30T18:54:56.037Z"
   },
   {
    "duration": 4,
    "start_time": "2022-03-30T18:54:56.056Z"
   },
   {
    "duration": 56,
    "start_time": "2022-03-30T18:54:56.062Z"
   },
   {
    "duration": 21,
    "start_time": "2022-03-30T18:54:56.120Z"
   },
   {
    "duration": 11,
    "start_time": "2022-03-30T18:54:56.142Z"
   },
   {
    "duration": 18,
    "start_time": "2022-03-30T18:54:56.155Z"
   },
   {
    "duration": 34,
    "start_time": "2022-03-30T18:54:56.175Z"
   },
   {
    "duration": 8,
    "start_time": "2022-03-30T18:54:56.210Z"
   },
   {
    "duration": 11,
    "start_time": "2022-03-30T18:54:56.219Z"
   },
   {
    "duration": 6,
    "start_time": "2022-03-30T18:54:56.232Z"
   },
   {
    "duration": 10,
    "start_time": "2022-03-30T18:54:56.240Z"
   },
   {
    "duration": 67,
    "start_time": "2022-03-30T18:54:56.252Z"
   },
   {
    "duration": 28,
    "start_time": "2022-03-30T18:54:56.320Z"
   },
   {
    "duration": 15,
    "start_time": "2022-03-30T18:54:56.350Z"
   },
   {
    "duration": 319,
    "start_time": "2022-03-30T18:54:56.367Z"
   },
   {
    "duration": 16,
    "start_time": "2022-03-30T18:54:56.688Z"
   },
   {
    "duration": 154,
    "start_time": "2022-03-30T18:54:56.706Z"
   },
   {
    "duration": 22,
    "start_time": "2022-03-30T18:54:56.862Z"
   },
   {
    "duration": 18,
    "start_time": "2022-03-30T18:54:56.886Z"
   },
   {
    "duration": 304,
    "start_time": "2022-03-30T18:54:56.909Z"
   },
   {
    "duration": 23,
    "start_time": "2022-03-30T18:54:57.216Z"
   },
   {
    "duration": 236,
    "start_time": "2022-03-30T18:54:57.241Z"
   },
   {
    "duration": 31,
    "start_time": "2022-03-30T18:54:57.480Z"
   },
   {
    "duration": 329,
    "start_time": "2022-03-30T18:54:57.513Z"
   },
   {
    "duration": 195,
    "start_time": "2022-03-30T18:54:57.844Z"
   },
   {
    "duration": 21,
    "start_time": "2022-03-30T18:54:58.041Z"
   },
   {
    "duration": 336,
    "start_time": "2022-03-30T18:54:58.065Z"
   },
   {
    "duration": 115,
    "start_time": "2022-03-30T18:54:58.403Z"
   },
   {
    "duration": 0,
    "start_time": "2022-03-30T18:54:58.520Z"
   },
   {
    "duration": 0,
    "start_time": "2022-03-30T18:54:58.523Z"
   },
   {
    "duration": 0,
    "start_time": "2022-03-30T18:54:58.524Z"
   },
   {
    "duration": 0,
    "start_time": "2022-03-30T18:54:58.525Z"
   },
   {
    "duration": 0,
    "start_time": "2022-03-30T18:54:58.527Z"
   },
   {
    "duration": 1287,
    "start_time": "2022-03-30T18:55:25.789Z"
   },
   {
    "duration": 30,
    "start_time": "2022-03-30T18:55:27.078Z"
   },
   {
    "duration": 32,
    "start_time": "2022-03-30T18:55:30.598Z"
   },
   {
    "duration": 16,
    "start_time": "2022-03-30T18:55:34.115Z"
   },
   {
    "duration": 237,
    "start_time": "2022-03-30T18:56:16.116Z"
   },
   {
    "duration": 1234,
    "start_time": "2022-03-30T18:57:50.049Z"
   },
   {
    "duration": 56,
    "start_time": "2022-03-30T18:57:51.285Z"
   },
   {
    "duration": 14,
    "start_time": "2022-03-30T18:57:51.342Z"
   },
   {
    "duration": 15,
    "start_time": "2022-03-30T18:57:51.358Z"
   },
   {
    "duration": 31,
    "start_time": "2022-03-30T18:57:51.374Z"
   },
   {
    "duration": 22,
    "start_time": "2022-03-30T18:57:51.406Z"
   },
   {
    "duration": 18,
    "start_time": "2022-03-30T18:57:51.429Z"
   },
   {
    "duration": 15,
    "start_time": "2022-03-30T18:57:51.449Z"
   },
   {
    "duration": 45,
    "start_time": "2022-03-30T18:57:51.466Z"
   },
   {
    "duration": 5,
    "start_time": "2022-03-30T18:57:51.515Z"
   },
   {
    "duration": 32,
    "start_time": "2022-03-30T18:57:51.523Z"
   },
   {
    "duration": 53,
    "start_time": "2022-03-30T18:57:51.558Z"
   },
   {
    "duration": 13,
    "start_time": "2022-03-30T18:57:51.614Z"
   },
   {
    "duration": 19,
    "start_time": "2022-03-30T18:57:51.630Z"
   },
   {
    "duration": 11,
    "start_time": "2022-03-30T18:57:51.651Z"
   },
   {
    "duration": 37,
    "start_time": "2022-03-30T18:57:51.664Z"
   },
   {
    "duration": 13,
    "start_time": "2022-03-30T18:57:51.703Z"
   },
   {
    "duration": 6,
    "start_time": "2022-03-30T18:57:51.718Z"
   },
   {
    "duration": 9,
    "start_time": "2022-03-30T18:57:51.726Z"
   },
   {
    "duration": 66,
    "start_time": "2022-03-30T18:57:51.737Z"
   },
   {
    "duration": 30,
    "start_time": "2022-03-30T18:57:51.805Z"
   },
   {
    "duration": 15,
    "start_time": "2022-03-30T18:57:51.837Z"
   },
   {
    "duration": 318,
    "start_time": "2022-03-30T18:57:51.854Z"
   },
   {
    "duration": 11,
    "start_time": "2022-03-30T18:57:52.174Z"
   },
   {
    "duration": 215,
    "start_time": "2022-03-30T18:57:52.200Z"
   },
   {
    "duration": 30,
    "start_time": "2022-03-30T18:57:52.418Z"
   },
   {
    "duration": 6,
    "start_time": "2022-03-30T18:57:52.450Z"
   },
   {
    "duration": 463,
    "start_time": "2022-03-30T18:57:52.461Z"
   },
   {
    "duration": 25,
    "start_time": "2022-03-30T18:57:52.926Z"
   },
   {
    "duration": 322,
    "start_time": "2022-03-30T18:57:52.953Z"
   },
   {
    "duration": 33,
    "start_time": "2022-03-30T18:57:53.278Z"
   },
   {
    "duration": 492,
    "start_time": "2022-03-30T18:57:53.314Z"
   },
   {
    "duration": 193,
    "start_time": "2022-03-30T18:57:53.809Z"
   },
   {
    "duration": 18,
    "start_time": "2022-03-30T18:57:54.004Z"
   },
   {
    "duration": 332,
    "start_time": "2022-03-30T18:57:54.023Z"
   },
   {
    "duration": 3,
    "start_time": "2022-03-30T18:57:54.357Z"
   },
   {
    "duration": 1059,
    "start_time": "2022-03-30T18:57:54.362Z"
   },
   {
    "duration": 32,
    "start_time": "2022-03-30T18:57:55.423Z"
   },
   {
    "duration": 18,
    "start_time": "2022-03-30T18:57:55.457Z"
   },
   {
    "duration": 144,
    "start_time": "2022-03-30T18:57:55.477Z"
   },
   {
    "duration": 244,
    "start_time": "2022-03-30T18:58:08.717Z"
   },
   {
    "duration": 305,
    "start_time": "2022-03-30T19:00:21.351Z"
   },
   {
    "duration": 22,
    "start_time": "2022-03-30T19:11:51.148Z"
   },
   {
    "duration": 20,
    "start_time": "2022-03-30T19:12:08.353Z"
   },
   {
    "duration": 20,
    "start_time": "2022-03-30T19:13:07.659Z"
   },
   {
    "duration": 32,
    "start_time": "2022-03-30T19:14:20.051Z"
   },
   {
    "duration": 22,
    "start_time": "2022-03-30T19:17:45.384Z"
   },
   {
    "duration": 41,
    "start_time": "2022-03-30T19:17:53.593Z"
   },
   {
    "duration": 15,
    "start_time": "2022-03-30T19:18:20.421Z"
   },
   {
    "duration": 19,
    "start_time": "2022-03-30T19:18:34.903Z"
   },
   {
    "duration": 19,
    "start_time": "2022-03-30T19:20:18.770Z"
   },
   {
    "duration": 201,
    "start_time": "2022-03-30T19:20:49.893Z"
   },
   {
    "duration": 202,
    "start_time": "2022-03-30T19:21:03.128Z"
   },
   {
    "duration": 15,
    "start_time": "2022-03-30T19:25:54.035Z"
   },
   {
    "duration": 34,
    "start_time": "2022-03-30T19:26:30.446Z"
   },
   {
    "duration": 30,
    "start_time": "2022-03-30T19:27:26.079Z"
   },
   {
    "duration": 29,
    "start_time": "2022-03-30T19:28:36.896Z"
   },
   {
    "duration": 15,
    "start_time": "2022-03-30T19:28:37.462Z"
   },
   {
    "duration": 105,
    "start_time": "2022-03-30T19:29:10.503Z"
   },
   {
    "duration": 220,
    "start_time": "2022-03-30T19:29:22.109Z"
   },
   {
    "duration": 728,
    "start_time": "2022-03-30T19:29:40.177Z"
   },
   {
    "duration": 2122,
    "start_time": "2022-03-30T19:30:02.189Z"
   },
   {
    "duration": 348,
    "start_time": "2022-03-30T19:30:21.533Z"
   },
   {
    "duration": 299,
    "start_time": "2022-03-30T19:30:29.788Z"
   },
   {
    "duration": 270,
    "start_time": "2022-03-30T19:30:44.645Z"
   },
   {
    "duration": 334,
    "start_time": "2022-03-30T19:30:55.372Z"
   },
   {
    "duration": 254,
    "start_time": "2022-03-30T19:31:09.461Z"
   },
   {
    "duration": 286,
    "start_time": "2022-03-30T19:32:27.833Z"
   },
   {
    "duration": 224,
    "start_time": "2022-03-30T19:32:38.269Z"
   },
   {
    "duration": 260,
    "start_time": "2022-03-30T19:32:44.221Z"
   },
   {
    "duration": 163,
    "start_time": "2022-03-30T19:32:56.012Z"
   },
   {
    "duration": 388,
    "start_time": "2022-03-30T19:33:26.590Z"
   },
   {
    "duration": 653,
    "start_time": "2022-03-30T19:33:47.308Z"
   },
   {
    "duration": 533,
    "start_time": "2022-03-30T19:33:54.773Z"
   },
   {
    "duration": 531,
    "start_time": "2022-03-30T19:34:01.339Z"
   },
   {
    "duration": 395,
    "start_time": "2022-03-30T19:34:06.052Z"
   },
   {
    "duration": 4,
    "start_time": "2022-03-30T19:42:13.491Z"
   },
   {
    "duration": 5,
    "start_time": "2022-03-30T19:43:06.917Z"
   },
   {
    "duration": 9,
    "start_time": "2022-03-30T19:47:25.322Z"
   },
   {
    "duration": 21,
    "start_time": "2022-03-30T19:48:09.057Z"
   },
   {
    "duration": 1837,
    "start_time": "2022-03-30T19:50:27.851Z"
   },
   {
    "duration": 1907,
    "start_time": "2022-03-30T19:51:22.232Z"
   },
   {
    "duration": 1892,
    "start_time": "2022-03-30T19:51:38.360Z"
   },
   {
    "duration": 2036,
    "start_time": "2022-03-30T19:52:21.351Z"
   },
   {
    "duration": 1972,
    "start_time": "2022-03-30T19:52:33.472Z"
   },
   {
    "duration": 236,
    "start_time": "2022-03-30T19:53:52.544Z"
   },
   {
    "duration": 227,
    "start_time": "2022-03-30T19:53:59.648Z"
   },
   {
    "duration": 350,
    "start_time": "2022-03-30T19:54:24.680Z"
   },
   {
    "duration": 102,
    "start_time": "2022-03-30T19:58:57.852Z"
   },
   {
    "duration": 19,
    "start_time": "2022-03-30T19:59:06.791Z"
   },
   {
    "duration": 258,
    "start_time": "2022-03-30T20:01:25.144Z"
   },
   {
    "duration": 19,
    "start_time": "2022-03-30T20:01:33.222Z"
   },
   {
    "duration": 2110,
    "start_time": "2022-03-30T20:01:33.878Z"
   },
   {
    "duration": 20,
    "start_time": "2022-03-30T20:04:11.044Z"
   },
   {
    "duration": 555,
    "start_time": "2022-03-30T20:04:52.985Z"
   },
   {
    "duration": 530,
    "start_time": "2022-03-30T20:05:04.957Z"
   },
   {
    "duration": 2005,
    "start_time": "2022-03-30T20:05:12.469Z"
   },
   {
    "duration": 15,
    "start_time": "2022-03-30T20:07:19.972Z"
   },
   {
    "duration": 21,
    "start_time": "2022-03-30T20:08:15.790Z"
   },
   {
    "duration": 14,
    "start_time": "2022-03-30T20:08:16.630Z"
   },
   {
    "duration": 2184,
    "start_time": "2022-03-30T20:12:16.331Z"
   },
   {
    "duration": 243,
    "start_time": "2022-03-30T20:13:57.746Z"
   },
   {
    "duration": 31,
    "start_time": "2022-03-30T20:16:13.425Z"
   },
   {
    "duration": 33,
    "start_time": "2022-03-30T20:16:21.937Z"
   },
   {
    "duration": 22,
    "start_time": "2022-03-30T20:16:37.937Z"
   },
   {
    "duration": 25,
    "start_time": "2022-03-30T20:17:17.968Z"
   },
   {
    "duration": 20,
    "start_time": "2022-03-30T20:17:41.755Z"
   },
   {
    "duration": 22,
    "start_time": "2022-03-30T20:17:56.832Z"
   },
   {
    "duration": 19,
    "start_time": "2022-03-30T20:18:14.025Z"
   },
   {
    "duration": 20,
    "start_time": "2022-03-30T20:19:31.401Z"
   },
   {
    "duration": 20,
    "start_time": "2022-03-30T20:19:45.344Z"
   },
   {
    "duration": 234,
    "start_time": "2022-03-30T20:19:49.752Z"
   },
   {
    "duration": 263,
    "start_time": "2022-03-30T20:20:05.624Z"
   },
   {
    "duration": 246,
    "start_time": "2022-03-30T20:22:45.056Z"
   },
   {
    "duration": 2037,
    "start_time": "2022-03-30T20:23:38.104Z"
   },
   {
    "duration": 2346,
    "start_time": "2022-03-30T20:23:53.200Z"
   },
   {
    "duration": 2059,
    "start_time": "2022-03-30T20:24:03.832Z"
   },
   {
    "duration": 1490,
    "start_time": "2022-03-31T07:49:09.744Z"
   },
   {
    "duration": 62,
    "start_time": "2022-03-31T07:49:11.236Z"
   },
   {
    "duration": 16,
    "start_time": "2022-03-31T07:49:11.300Z"
   },
   {
    "duration": 17,
    "start_time": "2022-03-31T07:49:11.318Z"
   },
   {
    "duration": 10,
    "start_time": "2022-03-31T07:49:11.338Z"
   },
   {
    "duration": 55,
    "start_time": "2022-03-31T07:49:11.350Z"
   },
   {
    "duration": 20,
    "start_time": "2022-03-31T07:49:11.408Z"
   },
   {
    "duration": 18,
    "start_time": "2022-03-31T07:49:11.430Z"
   },
   {
    "duration": 16,
    "start_time": "2022-03-31T07:49:11.450Z"
   },
   {
    "duration": 37,
    "start_time": "2022-03-31T07:49:11.468Z"
   },
   {
    "duration": 22,
    "start_time": "2022-03-31T07:49:11.508Z"
   },
   {
    "duration": 20,
    "start_time": "2022-03-31T07:49:11.532Z"
   },
   {
    "duration": 13,
    "start_time": "2022-03-31T07:49:11.554Z"
   },
   {
    "duration": 15,
    "start_time": "2022-03-31T07:49:11.604Z"
   },
   {
    "duration": 9,
    "start_time": "2022-03-31T07:49:11.621Z"
   },
   {
    "duration": 7,
    "start_time": "2022-03-31T07:49:11.632Z"
   },
   {
    "duration": 10,
    "start_time": "2022-03-31T07:49:11.641Z"
   },
   {
    "duration": 48,
    "start_time": "2022-03-31T07:49:11.653Z"
   },
   {
    "duration": 11,
    "start_time": "2022-03-31T07:49:11.703Z"
   },
   {
    "duration": 34,
    "start_time": "2022-03-31T07:49:11.716Z"
   },
   {
    "duration": 51,
    "start_time": "2022-03-31T07:49:11.752Z"
   },
   {
    "duration": 16,
    "start_time": "2022-03-31T07:49:11.805Z"
   },
   {
    "duration": 312,
    "start_time": "2022-03-31T07:49:11.823Z"
   },
   {
    "duration": 11,
    "start_time": "2022-03-31T07:49:12.137Z"
   },
   {
    "duration": 153,
    "start_time": "2022-03-31T07:49:12.150Z"
   },
   {
    "duration": 21,
    "start_time": "2022-03-31T07:49:12.305Z"
   },
   {
    "duration": 5,
    "start_time": "2022-03-31T07:49:12.329Z"
   },
   {
    "duration": 301,
    "start_time": "2022-03-31T07:49:12.336Z"
   },
   {
    "duration": 26,
    "start_time": "2022-03-31T07:49:12.639Z"
   },
   {
    "duration": 239,
    "start_time": "2022-03-31T07:49:12.667Z"
   },
   {
    "duration": 18,
    "start_time": "2022-03-31T07:49:12.908Z"
   },
   {
    "duration": 346,
    "start_time": "2022-03-31T07:49:12.928Z"
   },
   {
    "duration": 197,
    "start_time": "2022-03-31T07:49:13.276Z"
   },
   {
    "duration": 29,
    "start_time": "2022-03-31T07:49:13.476Z"
   },
   {
    "duration": 326,
    "start_time": "2022-03-31T07:49:13.507Z"
   },
   {
    "duration": 3,
    "start_time": "2022-03-31T07:49:13.835Z"
   },
   {
    "duration": 1418,
    "start_time": "2022-03-31T07:49:13.840Z"
   },
   {
    "duration": 30,
    "start_time": "2022-03-31T07:49:15.259Z"
   },
   {
    "duration": 16,
    "start_time": "2022-03-31T07:49:15.291Z"
   },
   {
    "duration": 287,
    "start_time": "2022-03-31T07:49:15.309Z"
   },
   {
    "duration": 33,
    "start_time": "2022-03-31T07:49:15.604Z"
   },
   {
    "duration": 12,
    "start_time": "2022-03-31T07:49:15.639Z"
   },
   {
    "duration": 5,
    "start_time": "2022-03-31T07:49:15.653Z"
   },
   {
    "duration": 290,
    "start_time": "2022-03-31T07:49:15.659Z"
   },
   {
    "duration": 21,
    "start_time": "2022-03-31T07:49:15.951Z"
   },
   {
    "duration": 1889,
    "start_time": "2022-03-31T07:49:15.974Z"
   },
   {
    "duration": 230,
    "start_time": "2022-03-31T07:49:17.865Z"
   },
   {
    "duration": 110,
    "start_time": "2022-03-31T07:54:25.935Z"
   },
   {
    "duration": 11,
    "start_time": "2022-03-31T07:55:54.024Z"
   },
   {
    "duration": 3,
    "start_time": "2022-03-31T07:56:00.163Z"
   },
   {
    "duration": 3,
    "start_time": "2022-03-31T07:56:24.804Z"
   },
   {
    "duration": 5,
    "start_time": "2022-03-31T07:56:30.615Z"
   },
   {
    "duration": 2027,
    "start_time": "2022-03-31T07:58:11.383Z"
   },
   {
    "duration": 5,
    "start_time": "2022-03-31T07:58:25.842Z"
   },
   {
    "duration": 1325,
    "start_time": "2022-03-31T07:58:27.795Z"
   },
   {
    "duration": 21,
    "start_time": "2022-03-31T08:04:01.131Z"
   },
   {
    "duration": 274,
    "start_time": "2022-03-31T08:04:07.654Z"
   },
   {
    "duration": 329,
    "start_time": "2022-03-31T08:04:16.195Z"
   },
   {
    "duration": 25,
    "start_time": "2022-03-31T08:09:38.543Z"
   },
   {
    "duration": 5,
    "start_time": "2022-03-31T08:09:49.316Z"
   },
   {
    "duration": 1424,
    "start_time": "2022-03-31T08:10:55.703Z"
   },
   {
    "duration": 18,
    "start_time": "2022-03-31T08:13:53.097Z"
   },
   {
    "duration": 18,
    "start_time": "2022-03-31T08:14:08.123Z"
   },
   {
    "duration": 18,
    "start_time": "2022-03-31T08:16:13.863Z"
   },
   {
    "duration": 19,
    "start_time": "2022-03-31T08:17:08.295Z"
   },
   {
    "duration": 19,
    "start_time": "2022-03-31T08:19:38.735Z"
   },
   {
    "duration": 451,
    "start_time": "2022-03-31T08:20:03.295Z"
   },
   {
    "duration": 26,
    "start_time": "2022-03-31T08:21:17.014Z"
   },
   {
    "duration": 1392,
    "start_time": "2022-03-31T08:21:49.123Z"
   },
   {
    "duration": 266,
    "start_time": "2022-03-31T08:22:43.375Z"
   },
   {
    "duration": 287,
    "start_time": "2022-03-31T08:23:09.936Z"
   },
   {
    "duration": 389,
    "start_time": "2022-03-31T08:23:32.605Z"
   },
   {
    "duration": 328,
    "start_time": "2022-03-31T08:23:40.822Z"
   },
   {
    "duration": 1165,
    "start_time": "2022-03-31T08:26:58.022Z"
   },
   {
    "duration": 22,
    "start_time": "2022-03-31T08:39:34.167Z"
   },
   {
    "duration": 475,
    "start_time": "2022-03-31T08:40:20.683Z"
   },
   {
    "duration": 18,
    "start_time": "2022-03-31T08:40:58.856Z"
   },
   {
    "duration": 9,
    "start_time": "2022-03-31T08:46:10.673Z"
   },
   {
    "duration": 12,
    "start_time": "2022-03-31T08:46:39.291Z"
   },
   {
    "duration": 16,
    "start_time": "2022-03-31T08:49:22.302Z"
   },
   {
    "duration": 11,
    "start_time": "2022-03-31T08:53:42.330Z"
   },
   {
    "duration": 5,
    "start_time": "2022-03-31T08:54:11.524Z"
   },
   {
    "duration": 11,
    "start_time": "2022-03-31T08:56:10.163Z"
   },
   {
    "duration": 10,
    "start_time": "2022-03-31T09:00:09.652Z"
   },
   {
    "duration": 5,
    "start_time": "2022-03-31T09:00:56.051Z"
   },
   {
    "duration": 1744,
    "start_time": "2022-03-31T10:10:01.927Z"
   },
   {
    "duration": 65,
    "start_time": "2022-03-31T10:10:03.674Z"
   },
   {
    "duration": 18,
    "start_time": "2022-03-31T10:10:03.742Z"
   },
   {
    "duration": 19,
    "start_time": "2022-03-31T10:10:03.768Z"
   },
   {
    "duration": 11,
    "start_time": "2022-03-31T10:10:03.790Z"
   },
   {
    "duration": 26,
    "start_time": "2022-03-31T10:10:03.803Z"
   },
   {
    "duration": 57,
    "start_time": "2022-03-31T10:10:03.831Z"
   },
   {
    "duration": 20,
    "start_time": "2022-03-31T10:10:03.890Z"
   },
   {
    "duration": 35,
    "start_time": "2022-03-31T10:10:03.912Z"
   },
   {
    "duration": 32,
    "start_time": "2022-03-31T10:10:03.949Z"
   },
   {
    "duration": 52,
    "start_time": "2022-03-31T10:10:03.983Z"
   },
   {
    "duration": 41,
    "start_time": "2022-03-31T10:10:04.037Z"
   },
   {
    "duration": 34,
    "start_time": "2022-03-31T10:10:04.080Z"
   },
   {
    "duration": 23,
    "start_time": "2022-03-31T10:10:04.118Z"
   },
   {
    "duration": 20,
    "start_time": "2022-03-31T10:10:04.143Z"
   },
   {
    "duration": 19,
    "start_time": "2022-03-31T10:10:04.165Z"
   },
   {
    "duration": 33,
    "start_time": "2022-03-31T10:10:04.186Z"
   },
   {
    "duration": 8,
    "start_time": "2022-03-31T10:10:04.222Z"
   },
   {
    "duration": 38,
    "start_time": "2022-03-31T10:10:04.232Z"
   },
   {
    "duration": 45,
    "start_time": "2022-03-31T10:10:04.273Z"
   },
   {
    "duration": 56,
    "start_time": "2022-03-31T10:10:04.320Z"
   },
   {
    "duration": 18,
    "start_time": "2022-03-31T10:10:04.378Z"
   },
   {
    "duration": 491,
    "start_time": "2022-03-31T10:10:04.398Z"
   },
   {
    "duration": 16,
    "start_time": "2022-03-31T10:10:04.891Z"
   },
   {
    "duration": 240,
    "start_time": "2022-03-31T10:10:04.909Z"
   },
   {
    "duration": 36,
    "start_time": "2022-03-31T10:10:05.151Z"
   },
   {
    "duration": 7,
    "start_time": "2022-03-31T10:10:05.189Z"
   },
   {
    "duration": 497,
    "start_time": "2022-03-31T10:10:05.198Z"
   },
   {
    "duration": 30,
    "start_time": "2022-03-31T10:10:05.697Z"
   },
   {
    "duration": 369,
    "start_time": "2022-03-31T10:10:05.729Z"
   },
   {
    "duration": 23,
    "start_time": "2022-03-31T10:10:06.100Z"
   },
   {
    "duration": 563,
    "start_time": "2022-03-31T10:10:06.125Z"
   },
   {
    "duration": 234,
    "start_time": "2022-03-31T10:10:06.690Z"
   },
   {
    "duration": 41,
    "start_time": "2022-03-31T10:10:06.926Z"
   },
   {
    "duration": 150,
    "start_time": "2022-03-31T10:10:06.969Z"
   },
   {
    "duration": 0,
    "start_time": "2022-03-31T10:10:07.121Z"
   },
   {
    "duration": 0,
    "start_time": "2022-03-31T10:10:07.123Z"
   },
   {
    "duration": 0,
    "start_time": "2022-03-31T10:10:07.125Z"
   },
   {
    "duration": 0,
    "start_time": "2022-03-31T10:10:07.126Z"
   },
   {
    "duration": 0,
    "start_time": "2022-03-31T10:10:07.128Z"
   },
   {
    "duration": 0,
    "start_time": "2022-03-31T10:10:07.129Z"
   },
   {
    "duration": 0,
    "start_time": "2022-03-31T10:10:07.130Z"
   },
   {
    "duration": 0,
    "start_time": "2022-03-31T10:10:07.132Z"
   },
   {
    "duration": 0,
    "start_time": "2022-03-31T10:10:07.133Z"
   },
   {
    "duration": 0,
    "start_time": "2022-03-31T10:10:07.135Z"
   },
   {
    "duration": 0,
    "start_time": "2022-03-31T10:10:07.167Z"
   },
   {
    "duration": 0,
    "start_time": "2022-03-31T10:10:07.169Z"
   },
   {
    "duration": 0,
    "start_time": "2022-03-31T10:10:07.170Z"
   },
   {
    "duration": 607,
    "start_time": "2022-03-31T10:10:31.560Z"
   },
   {
    "duration": 1303,
    "start_time": "2022-03-31T10:10:36.533Z"
   },
   {
    "duration": 49,
    "start_time": "2022-03-31T10:10:38.661Z"
   },
   {
    "duration": 21,
    "start_time": "2022-03-31T10:11:05.774Z"
   },
   {
    "duration": 461,
    "start_time": "2022-03-31T10:11:07.213Z"
   },
   {
    "duration": 42,
    "start_time": "2022-03-31T10:11:16.268Z"
   },
   {
    "duration": 18,
    "start_time": "2022-03-31T10:11:17.462Z"
   },
   {
    "duration": 5,
    "start_time": "2022-03-31T10:11:18.769Z"
   },
   {
    "duration": 378,
    "start_time": "2022-03-31T10:11:21.253Z"
   },
   {
    "duration": 10,
    "start_time": "2022-03-31T10:11:33.573Z"
   },
   {
    "duration": 6,
    "start_time": "2022-03-31T10:11:36.763Z"
   },
   {
    "duration": 27,
    "start_time": "2022-03-31T10:12:30.114Z"
   },
   {
    "duration": 23,
    "start_time": "2022-03-31T10:21:12.610Z"
   },
   {
    "duration": 33,
    "start_time": "2022-03-31T10:22:07.221Z"
   },
   {
    "duration": 6,
    "start_time": "2022-03-31T10:22:46.781Z"
   },
   {
    "duration": 23,
    "start_time": "2022-03-31T10:22:53.733Z"
   },
   {
    "duration": 575,
    "start_time": "2022-03-31T11:52:29.715Z"
   },
   {
    "duration": 372,
    "start_time": "2022-03-31T11:53:06.874Z"
   },
   {
    "duration": 397,
    "start_time": "2022-03-31T11:53:23.444Z"
   },
   {
    "duration": 389,
    "start_time": "2022-03-31T11:53:31.286Z"
   },
   {
    "duration": 195,
    "start_time": "2022-03-31T11:58:27.786Z"
   },
   {
    "duration": 181,
    "start_time": "2022-03-31T11:58:37.265Z"
   },
   {
    "duration": 303,
    "start_time": "2022-03-31T11:58:46.093Z"
   },
   {
    "duration": 485,
    "start_time": "2022-03-31T11:59:46.685Z"
   },
   {
    "duration": 422,
    "start_time": "2022-03-31T12:02:15.805Z"
   },
   {
    "duration": 223,
    "start_time": "2022-03-31T12:07:53.390Z"
   },
   {
    "duration": 228,
    "start_time": "2022-03-31T12:08:07.102Z"
   },
   {
    "duration": 241,
    "start_time": "2022-03-31T12:08:17.065Z"
   },
   {
    "duration": 268,
    "start_time": "2022-03-31T12:08:26.573Z"
   },
   {
    "duration": 584,
    "start_time": "2022-03-31T12:08:38.354Z"
   },
   {
    "duration": 596,
    "start_time": "2022-03-31T12:08:58.046Z"
   },
   {
    "duration": 586,
    "start_time": "2022-03-31T12:09:05.506Z"
   },
   {
    "duration": 577,
    "start_time": "2022-03-31T12:09:21.426Z"
   },
   {
    "duration": 748,
    "start_time": "2022-03-31T12:09:35.746Z"
   },
   {
    "duration": 406,
    "start_time": "2022-03-31T12:09:41.142Z"
   },
   {
    "duration": 418,
    "start_time": "2022-03-31T12:09:53.261Z"
   },
   {
    "duration": 403,
    "start_time": "2022-03-31T12:10:32.793Z"
   },
   {
    "duration": 407,
    "start_time": "2022-03-31T12:11:03.245Z"
   },
   {
    "duration": 411,
    "start_time": "2022-03-31T12:11:12.113Z"
   },
   {
    "duration": 585,
    "start_time": "2022-03-31T12:14:15.925Z"
   },
   {
    "duration": 454,
    "start_time": "2022-03-31T12:14:43.258Z"
   },
   {
    "duration": 602,
    "start_time": "2022-03-31T12:14:47.394Z"
   },
   {
    "duration": 433,
    "start_time": "2022-03-31T12:14:57.902Z"
   },
   {
    "duration": 593,
    "start_time": "2022-03-31T12:15:03.042Z"
   },
   {
    "duration": 17,
    "start_time": "2022-03-31T12:15:27.767Z"
   },
   {
    "duration": 686,
    "start_time": "2022-03-31T12:15:34.275Z"
   },
   {
    "duration": 228,
    "start_time": "2022-03-31T12:17:13.142Z"
   },
   {
    "duration": 227,
    "start_time": "2022-03-31T12:17:19.654Z"
   },
   {
    "duration": 403,
    "start_time": "2022-03-31T12:17:27.815Z"
   },
   {
    "duration": 404,
    "start_time": "2022-03-31T12:17:45.236Z"
   },
   {
    "duration": 412,
    "start_time": "2022-03-31T12:18:11.495Z"
   },
   {
    "duration": 403,
    "start_time": "2022-03-31T12:18:25.411Z"
   },
   {
    "duration": 422,
    "start_time": "2022-03-31T12:18:42.363Z"
   },
   {
    "duration": 404,
    "start_time": "2022-03-31T12:18:53.203Z"
   },
   {
    "duration": 417,
    "start_time": "2022-03-31T12:25:25.575Z"
   },
   {
    "duration": 505,
    "start_time": "2022-03-31T12:25:32.277Z"
   },
   {
    "duration": 417,
    "start_time": "2022-03-31T12:25:45.171Z"
   },
   {
    "duration": 449,
    "start_time": "2022-03-31T12:26:30.646Z"
   },
   {
    "duration": 25,
    "start_time": "2022-03-31T12:29:14.734Z"
   },
   {
    "duration": 28933,
    "start_time": "2022-03-31T12:29:43.154Z"
   },
   {
    "duration": 327,
    "start_time": "2022-03-31T12:31:12.574Z"
   },
   {
    "duration": 435,
    "start_time": "2022-03-31T12:31:24.702Z"
   },
   {
    "duration": 290,
    "start_time": "2022-03-31T12:32:39.342Z"
   },
   {
    "duration": 361,
    "start_time": "2022-03-31T12:33:47.893Z"
   },
   {
    "duration": 361,
    "start_time": "2022-03-31T12:33:52.642Z"
   },
   {
    "duration": 363,
    "start_time": "2022-03-31T12:34:30.484Z"
   },
   {
    "duration": 1435,
    "start_time": "2022-03-31T12:36:10.585Z"
   },
   {
    "duration": 1518,
    "start_time": "2022-03-31T12:36:40.874Z"
   },
   {
    "duration": 325,
    "start_time": "2022-03-31T12:36:49.745Z"
   },
   {
    "duration": 1731,
    "start_time": "2022-03-31T12:37:42.381Z"
   },
   {
    "duration": 2118,
    "start_time": "2022-03-31T12:38:29.254Z"
   },
   {
    "duration": 22,
    "start_time": "2022-03-31T12:38:44.546Z"
   },
   {
    "duration": 452,
    "start_time": "2022-03-31T12:38:46.185Z"
   },
   {
    "duration": 443,
    "start_time": "2022-03-31T12:38:48.454Z"
   },
   {
    "duration": 429,
    "start_time": "2022-03-31T12:40:52.583Z"
   },
   {
    "duration": 452,
    "start_time": "2022-03-31T12:41:18.578Z"
   },
   {
    "duration": 442,
    "start_time": "2022-03-31T12:41:26.453Z"
   },
   {
    "duration": 455,
    "start_time": "2022-03-31T12:42:00.238Z"
   },
   {
    "duration": 670,
    "start_time": "2022-03-31T12:42:28.686Z"
   },
   {
    "duration": 656,
    "start_time": "2022-03-31T12:42:42.335Z"
   },
   {
    "duration": 540,
    "start_time": "2022-03-31T12:42:59.502Z"
   },
   {
    "duration": 597,
    "start_time": "2022-03-31T12:43:24.697Z"
   },
   {
    "duration": 559,
    "start_time": "2022-03-31T12:43:45.387Z"
   },
   {
    "duration": 455,
    "start_time": "2022-03-31T12:44:35.942Z"
   },
   {
    "duration": 319,
    "start_time": "2022-03-31T12:44:50.196Z"
   },
   {
    "duration": 335,
    "start_time": "2022-03-31T12:44:56.954Z"
   },
   {
    "duration": 343,
    "start_time": "2022-03-31T12:45:00.963Z"
   },
   {
    "duration": 447,
    "start_time": "2022-03-31T12:45:20.012Z"
   },
   {
    "duration": 441,
    "start_time": "2022-03-31T12:45:38.962Z"
   },
   {
    "duration": 219,
    "start_time": "2022-03-31T12:46:10.495Z"
   },
   {
    "duration": 432,
    "start_time": "2022-03-31T12:46:30.955Z"
   },
   {
    "duration": 326,
    "start_time": "2022-03-31T12:46:55.126Z"
   },
   {
    "duration": 459,
    "start_time": "2022-03-31T12:47:16.934Z"
   },
   {
    "duration": 841,
    "start_time": "2022-03-31T12:49:04.497Z"
   },
   {
    "duration": 480,
    "start_time": "2022-03-31T12:49:27.854Z"
   },
   {
    "duration": 529,
    "start_time": "2022-03-31T12:49:54.486Z"
   },
   {
    "duration": 19,
    "start_time": "2022-03-31T12:50:05.647Z"
   },
   {
    "duration": 19,
    "start_time": "2022-03-31T12:50:24.260Z"
   },
   {
    "duration": 553,
    "start_time": "2022-03-31T12:51:01.214Z"
   },
   {
    "duration": 384,
    "start_time": "2022-03-31T12:52:33.686Z"
   },
   {
    "duration": 354,
    "start_time": "2022-03-31T12:52:47.634Z"
   },
   {
    "duration": 542,
    "start_time": "2022-03-31T12:53:05.726Z"
   },
   {
    "duration": 557,
    "start_time": "2022-03-31T12:53:36.907Z"
   },
   {
    "duration": 472,
    "start_time": "2022-03-31T12:53:50.454Z"
   },
   {
    "duration": 442,
    "start_time": "2022-03-31T12:54:21.642Z"
   },
   {
    "duration": 444,
    "start_time": "2022-03-31T12:54:28.594Z"
   },
   {
    "duration": 510,
    "start_time": "2022-03-31T12:54:40.594Z"
   },
   {
    "duration": 440,
    "start_time": "2022-03-31T12:54:48.767Z"
   },
   {
    "duration": 397,
    "start_time": "2022-03-31T12:54:58.866Z"
   },
   {
    "duration": 374,
    "start_time": "2022-03-31T12:55:10.454Z"
   },
   {
    "duration": 391,
    "start_time": "2022-03-31T12:55:21.854Z"
   },
   {
    "duration": 392,
    "start_time": "2022-03-31T12:55:31.014Z"
   },
   {
    "duration": 348,
    "start_time": "2022-03-31T12:55:38.494Z"
   },
   {
    "duration": 375,
    "start_time": "2022-03-31T12:55:43.083Z"
   },
   {
    "duration": 337,
    "start_time": "2022-03-31T12:55:47.766Z"
   },
   {
    "duration": 347,
    "start_time": "2022-03-31T12:55:53.630Z"
   },
   {
    "duration": 334,
    "start_time": "2022-03-31T12:56:04.295Z"
   },
   {
    "duration": 272,
    "start_time": "2022-03-31T12:56:14.614Z"
   },
   {
    "duration": 286,
    "start_time": "2022-03-31T12:56:19.165Z"
   },
   {
    "duration": 262,
    "start_time": "2022-03-31T12:56:22.789Z"
   },
   {
    "duration": 271,
    "start_time": "2022-03-31T12:56:29.683Z"
   },
   {
    "duration": 483,
    "start_time": "2022-03-31T12:56:34.997Z"
   },
   {
    "duration": 326,
    "start_time": "2022-03-31T12:56:44.527Z"
   },
   {
    "duration": 432,
    "start_time": "2022-03-31T12:56:57.993Z"
   },
   {
    "duration": 425,
    "start_time": "2022-03-31T12:57:04.895Z"
   },
   {
    "duration": 500,
    "start_time": "2022-03-31T12:57:25.042Z"
   },
   {
    "duration": 488,
    "start_time": "2022-03-31T12:57:30.593Z"
   },
   {
    "duration": 408,
    "start_time": "2022-03-31T12:57:49.042Z"
   },
   {
    "duration": 407,
    "start_time": "2022-03-31T12:58:03.782Z"
   },
   {
    "duration": 458,
    "start_time": "2022-03-31T12:58:19.134Z"
   },
   {
    "duration": 470,
    "start_time": "2022-03-31T12:58:36.562Z"
   },
   {
    "duration": 439,
    "start_time": "2022-03-31T12:58:56.717Z"
   },
   {
    "duration": 517,
    "start_time": "2022-03-31T12:59:05.185Z"
   },
   {
    "duration": 406,
    "start_time": "2022-03-31T12:59:12.734Z"
   },
   {
    "duration": 581,
    "start_time": "2022-03-31T12:59:28.113Z"
   },
   {
    "duration": 413,
    "start_time": "2022-03-31T12:59:41.473Z"
   },
   {
    "duration": 411,
    "start_time": "2022-03-31T12:59:57.574Z"
   },
   {
    "duration": 416,
    "start_time": "2022-03-31T13:00:07.955Z"
   },
   {
    "duration": 399,
    "start_time": "2022-03-31T13:00:26.714Z"
   },
   {
    "duration": 23,
    "start_time": "2022-03-31T13:02:10.546Z"
   },
   {
    "duration": 285,
    "start_time": "2022-03-31T13:02:30.861Z"
   },
   {
    "duration": 333,
    "start_time": "2022-03-31T13:02:44.753Z"
   },
   {
    "duration": 313,
    "start_time": "2022-03-31T13:03:07.233Z"
   },
   {
    "duration": 344,
    "start_time": "2022-03-31T13:03:29.645Z"
   },
   {
    "duration": 306,
    "start_time": "2022-03-31T13:03:41.006Z"
   },
   {
    "duration": 431,
    "start_time": "2022-03-31T13:03:50.626Z"
   },
   {
    "duration": 326,
    "start_time": "2022-03-31T13:03:59.641Z"
   },
   {
    "duration": 329,
    "start_time": "2022-03-31T13:04:03.473Z"
   },
   {
    "duration": 326,
    "start_time": "2022-03-31T13:04:14.773Z"
   },
   {
    "duration": 328,
    "start_time": "2022-03-31T13:04:45.367Z"
   },
   {
    "duration": 28,
    "start_time": "2022-03-31T13:05:30.486Z"
   },
   {
    "duration": 375,
    "start_time": "2022-03-31T13:05:44.366Z"
   },
   {
    "duration": 30,
    "start_time": "2022-03-31T13:05:55.734Z"
   },
   {
    "duration": 402,
    "start_time": "2022-03-31T13:06:12.641Z"
   },
   {
    "duration": 387,
    "start_time": "2022-03-31T13:06:34.945Z"
   },
   {
    "duration": 621,
    "start_time": "2022-03-31T13:06:50.174Z"
   },
   {
    "duration": 612,
    "start_time": "2022-03-31T13:07:00.108Z"
   },
   {
    "duration": 404,
    "start_time": "2022-03-31T13:07:07.110Z"
   },
   {
    "duration": 125,
    "start_time": "2022-03-31T13:07:16.134Z"
   },
   {
    "duration": 274,
    "start_time": "2022-03-31T13:07:20.706Z"
   },
   {
    "duration": 424,
    "start_time": "2022-03-31T13:07:23.906Z"
   },
   {
    "duration": 402,
    "start_time": "2022-03-31T13:07:31.685Z"
   },
   {
    "duration": 493,
    "start_time": "2022-03-31T13:07:46.574Z"
   },
   {
    "duration": 372,
    "start_time": "2022-03-31T13:08:04.974Z"
   },
   {
    "duration": 436,
    "start_time": "2022-03-31T13:10:27.114Z"
   },
   {
    "duration": 431,
    "start_time": "2022-03-31T13:10:54.522Z"
   },
   {
    "duration": 426,
    "start_time": "2022-03-31T13:11:19.653Z"
   },
   {
    "duration": 426,
    "start_time": "2022-03-31T13:11:34.034Z"
   },
   {
    "duration": 452,
    "start_time": "2022-03-31T13:11:46.225Z"
   },
   {
    "duration": 464,
    "start_time": "2022-03-31T13:12:02.042Z"
   },
   {
    "duration": 16,
    "start_time": "2022-03-31T13:13:14.167Z"
   },
   {
    "duration": 553,
    "start_time": "2022-03-31T13:13:19.387Z"
   },
   {
    "duration": 43,
    "start_time": "2022-03-31T14:01:15.287Z"
   },
   {
    "duration": 39,
    "start_time": "2022-03-31T14:01:24.855Z"
   },
   {
    "duration": 432,
    "start_time": "2022-03-31T14:07:36.075Z"
   },
   {
    "duration": 528,
    "start_time": "2022-03-31T14:07:47.327Z"
   },
   {
    "duration": 1652,
    "start_time": "2022-03-31T18:04:07.378Z"
   },
   {
    "duration": 69,
    "start_time": "2022-03-31T18:04:09.033Z"
   },
   {
    "duration": 16,
    "start_time": "2022-03-31T18:04:09.105Z"
   },
   {
    "duration": 22,
    "start_time": "2022-03-31T18:04:09.124Z"
   },
   {
    "duration": 15,
    "start_time": "2022-03-31T18:04:09.148Z"
   },
   {
    "duration": 30,
    "start_time": "2022-03-31T18:04:09.182Z"
   },
   {
    "duration": 23,
    "start_time": "2022-03-31T18:04:09.215Z"
   },
   {
    "duration": 53,
    "start_time": "2022-03-31T18:04:09.240Z"
   },
   {
    "duration": 17,
    "start_time": "2022-03-31T18:04:09.296Z"
   },
   {
    "duration": 6,
    "start_time": "2022-03-31T18:04:09.317Z"
   },
   {
    "duration": 45,
    "start_time": "2022-03-31T18:04:09.325Z"
   },
   {
    "duration": 31,
    "start_time": "2022-03-31T18:04:09.372Z"
   },
   {
    "duration": 12,
    "start_time": "2022-03-31T18:04:09.405Z"
   },
   {
    "duration": 31,
    "start_time": "2022-03-31T18:04:09.419Z"
   },
   {
    "duration": 14,
    "start_time": "2022-03-31T18:04:09.451Z"
   },
   {
    "duration": 32,
    "start_time": "2022-03-31T18:04:09.467Z"
   },
   {
    "duration": 28,
    "start_time": "2022-03-31T18:04:09.501Z"
   },
   {
    "duration": 12,
    "start_time": "2022-03-31T18:04:09.531Z"
   },
   {
    "duration": 15,
    "start_time": "2022-03-31T18:04:09.545Z"
   },
   {
    "duration": 57,
    "start_time": "2022-03-31T18:04:09.562Z"
   },
   {
    "duration": 35,
    "start_time": "2022-03-31T18:04:09.621Z"
   },
   {
    "duration": 45,
    "start_time": "2022-03-31T18:04:09.659Z"
   },
   {
    "duration": 414,
    "start_time": "2022-03-31T18:04:09.706Z"
   },
   {
    "duration": 17,
    "start_time": "2022-03-31T18:04:10.123Z"
   },
   {
    "duration": 229,
    "start_time": "2022-03-31T18:04:10.142Z"
   },
   {
    "duration": 41,
    "start_time": "2022-03-31T18:04:10.374Z"
   },
   {
    "duration": 7,
    "start_time": "2022-03-31T18:04:10.417Z"
   },
   {
    "duration": 422,
    "start_time": "2022-03-31T18:04:10.430Z"
   },
   {
    "duration": 49,
    "start_time": "2022-03-31T18:04:10.854Z"
   },
   {
    "duration": 354,
    "start_time": "2022-03-31T18:04:10.906Z"
   },
   {
    "duration": 34,
    "start_time": "2022-03-31T18:04:11.262Z"
   },
   {
    "duration": 397,
    "start_time": "2022-03-31T18:04:11.299Z"
   },
   {
    "duration": 454,
    "start_time": "2022-03-31T18:04:11.698Z"
   },
   {
    "duration": 304,
    "start_time": "2022-03-31T18:04:12.154Z"
   },
   {
    "duration": 38,
    "start_time": "2022-03-31T18:04:12.460Z"
   },
   {
    "duration": 463,
    "start_time": "2022-03-31T18:04:12.500Z"
   },
   {
    "duration": 4,
    "start_time": "2022-03-31T18:04:12.965Z"
   },
   {
    "duration": 1191,
    "start_time": "2022-03-31T18:04:12.971Z"
   },
   {
    "duration": 37,
    "start_time": "2022-03-31T18:04:14.164Z"
   },
   {
    "duration": 19,
    "start_time": "2022-03-31T18:04:14.204Z"
   },
   {
    "duration": 474,
    "start_time": "2022-03-31T18:04:14.224Z"
   },
   {
    "duration": 49,
    "start_time": "2022-03-31T18:04:14.700Z"
   },
   {
    "duration": 42,
    "start_time": "2022-03-31T18:04:14.752Z"
   },
   {
    "duration": 13,
    "start_time": "2022-03-31T18:04:14.801Z"
   },
   {
    "duration": 433,
    "start_time": "2022-03-31T18:04:14.816Z"
   },
   {
    "duration": 45,
    "start_time": "2022-03-31T18:04:15.251Z"
   },
   {
    "duration": 32,
    "start_time": "2022-03-31T18:04:15.298Z"
   },
   {
    "duration": 7,
    "start_time": "2022-03-31T18:04:15.332Z"
   },
   {
    "duration": 45,
    "start_time": "2022-03-31T18:04:15.340Z"
   },
   {
    "duration": 405,
    "start_time": "2022-03-31T18:04:15.387Z"
   },
   {
    "duration": 387,
    "start_time": "2022-03-31T18:04:15.795Z"
   },
   {
    "duration": 22,
    "start_time": "2022-03-31T18:17:53.941Z"
   },
   {
    "duration": 416,
    "start_time": "2022-03-31T18:27:33.799Z"
   },
   {
    "duration": 399,
    "start_time": "2022-03-31T18:27:45.030Z"
   },
   {
    "duration": 402,
    "start_time": "2022-03-31T18:27:55.696Z"
   },
   {
    "duration": 416,
    "start_time": "2022-03-31T18:28:06.698Z"
   },
   {
    "duration": 503,
    "start_time": "2022-03-31T18:28:30.479Z"
   },
   {
    "duration": 413,
    "start_time": "2022-03-31T18:28:46.289Z"
   },
   {
    "duration": 395,
    "start_time": "2022-03-31T18:28:58.166Z"
   },
   {
    "duration": 398,
    "start_time": "2022-03-31T18:29:23.342Z"
   },
   {
    "duration": 431,
    "start_time": "2022-03-31T18:38:47.509Z"
   },
   {
    "duration": 28,
    "start_time": "2022-03-31T18:39:45.340Z"
   },
   {
    "duration": 172,
    "start_time": "2022-03-31T18:46:07.660Z"
   },
   {
    "duration": 17,
    "start_time": "2022-03-31T18:46:17.741Z"
   },
   {
    "duration": 28,
    "start_time": "2022-03-31T18:46:43.859Z"
   },
   {
    "duration": 49,
    "start_time": "2022-03-31T18:52:49.100Z"
   },
   {
    "duration": 30,
    "start_time": "2022-03-31T18:52:53.936Z"
   },
   {
    "duration": 350,
    "start_time": "2022-03-31T18:54:31.208Z"
   },
   {
    "duration": 364,
    "start_time": "2022-03-31T18:54:43.797Z"
   },
   {
    "duration": 390,
    "start_time": "2022-03-31T18:54:49.615Z"
   },
   {
    "duration": 357,
    "start_time": "2022-03-31T18:55:02.873Z"
   },
   {
    "duration": 113,
    "start_time": "2022-03-31T18:55:10.032Z"
   },
   {
    "duration": 348,
    "start_time": "2022-03-31T18:55:15.863Z"
   },
   {
    "duration": 353,
    "start_time": "2022-03-31T18:55:21.475Z"
   },
   {
    "duration": 434,
    "start_time": "2022-03-31T18:56:04.841Z"
   },
   {
    "duration": 343,
    "start_time": "2022-03-31T18:56:12.096Z"
   },
   {
    "duration": 344,
    "start_time": "2022-03-31T18:56:18.007Z"
   },
   {
    "duration": 350,
    "start_time": "2022-03-31T18:56:23.448Z"
   },
   {
    "duration": 354,
    "start_time": "2022-03-31T18:56:29.896Z"
   },
   {
    "duration": 365,
    "start_time": "2022-03-31T18:56:48.840Z"
   },
   {
    "duration": 442,
    "start_time": "2022-03-31T18:57:48.311Z"
   },
   {
    "duration": 363,
    "start_time": "2022-03-31T18:57:57.412Z"
   },
   {
    "duration": 29,
    "start_time": "2022-03-31T18:58:42.455Z"
   },
   {
    "duration": 21,
    "start_time": "2022-03-31T19:03:21.659Z"
   },
   {
    "duration": 440,
    "start_time": "2022-03-31T19:11:02.716Z"
   },
   {
    "duration": 453,
    "start_time": "2022-03-31T19:11:09.294Z"
   },
   {
    "duration": 549,
    "start_time": "2022-03-31T19:12:56.980Z"
   },
   {
    "duration": 408,
    "start_time": "2022-03-31T19:13:05.535Z"
   },
   {
    "duration": 437,
    "start_time": "2022-03-31T19:13:16.628Z"
   },
   {
    "duration": 12,
    "start_time": "2022-03-31T19:13:54.715Z"
   },
   {
    "duration": 9,
    "start_time": "2022-03-31T19:14:26.335Z"
   },
   {
    "duration": 497,
    "start_time": "2022-03-31T19:15:31.275Z"
   },
   {
    "duration": 11,
    "start_time": "2022-03-31T19:24:08.033Z"
   },
   {
    "duration": 1541,
    "start_time": "2022-03-31T19:26:12.020Z"
   },
   {
    "duration": 71,
    "start_time": "2022-03-31T19:26:13.564Z"
   },
   {
    "duration": 19,
    "start_time": "2022-03-31T19:26:13.637Z"
   },
   {
    "duration": 44,
    "start_time": "2022-03-31T19:26:13.659Z"
   },
   {
    "duration": 13,
    "start_time": "2022-03-31T19:26:13.705Z"
   },
   {
    "duration": 30,
    "start_time": "2022-03-31T19:26:13.720Z"
   },
   {
    "duration": 50,
    "start_time": "2022-03-31T19:26:13.752Z"
   },
   {
    "duration": 19,
    "start_time": "2022-03-31T19:26:13.804Z"
   },
   {
    "duration": 18,
    "start_time": "2022-03-31T19:26:13.824Z"
   },
   {
    "duration": 37,
    "start_time": "2022-03-31T19:26:13.847Z"
   },
   {
    "duration": 39,
    "start_time": "2022-03-31T19:26:13.886Z"
   },
   {
    "duration": 21,
    "start_time": "2022-03-31T19:26:13.928Z"
   },
   {
    "duration": 6,
    "start_time": "2022-03-31T19:26:13.952Z"
   },
   {
    "duration": 12,
    "start_time": "2022-03-31T19:26:13.985Z"
   },
   {
    "duration": 9,
    "start_time": "2022-03-31T19:26:13.999Z"
   },
   {
    "duration": 10,
    "start_time": "2022-03-31T19:26:14.010Z"
   },
   {
    "duration": 86,
    "start_time": "2022-03-31T19:26:14.023Z"
   },
   {
    "duration": 35,
    "start_time": "2022-03-31T19:26:14.112Z"
   },
   {
    "duration": 39,
    "start_time": "2022-03-31T19:26:14.149Z"
   },
   {
    "duration": 415,
    "start_time": "2022-03-31T19:26:14.191Z"
   },
   {
    "duration": 17,
    "start_time": "2022-03-31T19:26:14.608Z"
   },
   {
    "duration": 236,
    "start_time": "2022-03-31T19:26:14.628Z"
   },
   {
    "duration": 36,
    "start_time": "2022-03-31T19:26:14.866Z"
   },
   {
    "duration": 7,
    "start_time": "2022-03-31T19:26:14.904Z"
   },
   {
    "duration": 422,
    "start_time": "2022-03-31T19:26:14.913Z"
   },
   {
    "duration": 29,
    "start_time": "2022-03-31T19:26:15.337Z"
   },
   {
    "duration": 44,
    "start_time": "2022-03-31T19:26:15.368Z"
   },
   {
    "duration": 384,
    "start_time": "2022-03-31T19:26:15.417Z"
   },
   {
    "duration": 23,
    "start_time": "2022-03-31T19:26:15.804Z"
   },
   {
    "duration": 432,
    "start_time": "2022-03-31T19:26:15.830Z"
   },
   {
    "duration": 445,
    "start_time": "2022-03-31T19:26:16.265Z"
   },
   {
    "duration": 314,
    "start_time": "2022-03-31T19:26:16.713Z"
   },
   {
    "duration": 25,
    "start_time": "2022-03-31T19:26:17.029Z"
   },
   {
    "duration": 459,
    "start_time": "2022-03-31T19:26:17.056Z"
   },
   {
    "duration": 1101,
    "start_time": "2022-03-31T19:26:17.517Z"
   },
   {
    "duration": 8,
    "start_time": "2022-03-31T19:26:18.620Z"
   },
   {
    "duration": 36,
    "start_time": "2022-03-31T19:26:18.631Z"
   },
   {
    "duration": 69,
    "start_time": "2022-03-31T19:26:45.896Z"
   },
   {
    "duration": 1648,
    "start_time": "2022-03-31T19:26:53.610Z"
   },
   {
    "duration": 74,
    "start_time": "2022-03-31T19:26:55.260Z"
   },
   {
    "duration": 20,
    "start_time": "2022-03-31T19:26:55.336Z"
   },
   {
    "duration": 55,
    "start_time": "2022-03-31T19:26:55.359Z"
   },
   {
    "duration": 12,
    "start_time": "2022-03-31T19:26:55.416Z"
   },
   {
    "duration": 29,
    "start_time": "2022-03-31T19:26:55.431Z"
   },
   {
    "duration": 31,
    "start_time": "2022-03-31T19:26:55.481Z"
   },
   {
    "duration": 21,
    "start_time": "2022-03-31T19:26:55.515Z"
   },
   {
    "duration": 59,
    "start_time": "2022-03-31T19:26:55.538Z"
   },
   {
    "duration": 11,
    "start_time": "2022-03-31T19:26:55.602Z"
   },
   {
    "duration": 42,
    "start_time": "2022-03-31T19:26:55.616Z"
   },
   {
    "duration": 45,
    "start_time": "2022-03-31T19:26:55.660Z"
   },
   {
    "duration": 8,
    "start_time": "2022-03-31T19:26:55.707Z"
   },
   {
    "duration": 24,
    "start_time": "2022-03-31T19:26:55.717Z"
   },
   {
    "duration": 9,
    "start_time": "2022-03-31T19:26:55.744Z"
   },
   {
    "duration": 32,
    "start_time": "2022-03-31T19:26:55.755Z"
   },
   {
    "duration": 48,
    "start_time": "2022-03-31T19:26:55.789Z"
   },
   {
    "duration": 60,
    "start_time": "2022-03-31T19:26:55.839Z"
   },
   {
    "duration": 22,
    "start_time": "2022-03-31T19:26:55.902Z"
   },
   {
    "duration": 576,
    "start_time": "2022-03-31T19:26:55.926Z"
   },
   {
    "duration": 22,
    "start_time": "2022-03-31T19:26:56.504Z"
   },
   {
    "duration": 264,
    "start_time": "2022-03-31T19:26:56.529Z"
   },
   {
    "duration": 32,
    "start_time": "2022-03-31T19:26:56.796Z"
   },
   {
    "duration": 7,
    "start_time": "2022-03-31T19:26:56.830Z"
   },
   {
    "duration": 514,
    "start_time": "2022-03-31T19:26:56.840Z"
   },
   {
    "duration": 48,
    "start_time": "2022-03-31T19:26:57.357Z"
   },
   {
    "duration": 27,
    "start_time": "2022-03-31T19:26:57.408Z"
   },
   {
    "duration": 410,
    "start_time": "2022-03-31T19:26:57.440Z"
   },
   {
    "duration": 35,
    "start_time": "2022-03-31T19:26:57.852Z"
   },
   {
    "duration": 426,
    "start_time": "2022-03-31T19:26:57.890Z"
   },
   {
    "duration": 479,
    "start_time": "2022-03-31T19:26:58.318Z"
   },
   {
    "duration": 375,
    "start_time": "2022-03-31T19:26:58.799Z"
   },
   {
    "duration": 31,
    "start_time": "2022-03-31T19:26:59.182Z"
   },
   {
    "duration": 480,
    "start_time": "2022-03-31T19:26:59.216Z"
   },
   {
    "duration": 810,
    "start_time": "2022-03-31T19:26:59.699Z"
   },
   {
    "duration": 9,
    "start_time": "2022-03-31T19:27:00.511Z"
   },
   {
    "duration": 55,
    "start_time": "2022-03-31T19:27:00.522Z"
   },
   {
    "duration": 74,
    "start_time": "2022-03-31T19:28:31.947Z"
   },
   {
    "duration": 10,
    "start_time": "2022-03-31T19:28:59.911Z"
   },
   {
    "duration": 1441,
    "start_time": "2022-03-31T19:29:06.145Z"
   },
   {
    "duration": 67,
    "start_time": "2022-03-31T19:29:07.589Z"
   },
   {
    "duration": 26,
    "start_time": "2022-03-31T19:29:07.658Z"
   },
   {
    "duration": 21,
    "start_time": "2022-03-31T19:29:07.688Z"
   },
   {
    "duration": 11,
    "start_time": "2022-03-31T19:29:07.711Z"
   },
   {
    "duration": 24,
    "start_time": "2022-03-31T19:29:07.724Z"
   },
   {
    "duration": 57,
    "start_time": "2022-03-31T19:29:07.750Z"
   },
   {
    "duration": 20,
    "start_time": "2022-03-31T19:29:07.809Z"
   },
   {
    "duration": 17,
    "start_time": "2022-03-31T19:29:07.831Z"
   },
   {
    "duration": 35,
    "start_time": "2022-03-31T19:29:07.851Z"
   },
   {
    "duration": 31,
    "start_time": "2022-03-31T19:29:07.889Z"
   },
   {
    "duration": 22,
    "start_time": "2022-03-31T19:29:07.923Z"
   },
   {
    "duration": 43,
    "start_time": "2022-03-31T19:29:07.948Z"
   },
   {
    "duration": 24,
    "start_time": "2022-03-31T19:29:07.993Z"
   },
   {
    "duration": 10,
    "start_time": "2022-03-31T19:29:08.019Z"
   },
   {
    "duration": 10,
    "start_time": "2022-03-31T19:29:08.031Z"
   },
   {
    "duration": 68,
    "start_time": "2022-03-31T19:29:08.043Z"
   },
   {
    "duration": 37,
    "start_time": "2022-03-31T19:29:08.112Z"
   },
   {
    "duration": 43,
    "start_time": "2022-03-31T19:29:08.151Z"
   },
   {
    "duration": 420,
    "start_time": "2022-03-31T19:29:08.197Z"
   },
   {
    "duration": 19,
    "start_time": "2022-03-31T19:29:08.620Z"
   },
   {
    "duration": 235,
    "start_time": "2022-03-31T19:29:08.642Z"
   },
   {
    "duration": 33,
    "start_time": "2022-03-31T19:29:08.882Z"
   },
   {
    "duration": 7,
    "start_time": "2022-03-31T19:29:08.917Z"
   },
   {
    "duration": 467,
    "start_time": "2022-03-31T19:29:08.926Z"
   },
   {
    "duration": 30,
    "start_time": "2022-03-31T19:29:09.396Z"
   },
   {
    "duration": 25,
    "start_time": "2022-03-31T19:29:09.428Z"
   },
   {
    "duration": 577,
    "start_time": "2022-03-31T19:29:09.458Z"
   },
   {
    "duration": 28,
    "start_time": "2022-03-31T19:29:10.081Z"
   },
   {
    "duration": 464,
    "start_time": "2022-03-31T19:29:10.111Z"
   },
   {
    "duration": 562,
    "start_time": "2022-03-31T19:29:10.577Z"
   },
   {
    "duration": 313,
    "start_time": "2022-03-31T19:29:11.141Z"
   },
   {
    "duration": 40,
    "start_time": "2022-03-31T19:29:11.456Z"
   },
   {
    "duration": 457,
    "start_time": "2022-03-31T19:29:11.498Z"
   },
   {
    "duration": 903,
    "start_time": "2022-03-31T19:29:11.957Z"
   },
   {
    "duration": 8,
    "start_time": "2022-03-31T19:29:12.863Z"
   },
   {
    "duration": 67,
    "start_time": "2022-03-31T19:29:12.873Z"
   },
   {
    "duration": 21,
    "start_time": "2022-03-31T19:29:12.943Z"
   },
   {
    "duration": 478,
    "start_time": "2022-03-31T19:29:12.967Z"
   },
   {
    "duration": 126,
    "start_time": "2022-03-31T19:29:13.447Z"
   },
   {
    "duration": 0,
    "start_time": "2022-03-31T19:29:13.575Z"
   },
   {
    "duration": 0,
    "start_time": "2022-03-31T19:29:13.577Z"
   },
   {
    "duration": 0,
    "start_time": "2022-03-31T19:29:13.578Z"
   },
   {
    "duration": 0,
    "start_time": "2022-03-31T19:29:13.580Z"
   },
   {
    "duration": 0,
    "start_time": "2022-03-31T19:29:13.581Z"
   },
   {
    "duration": 0,
    "start_time": "2022-03-31T19:29:13.586Z"
   },
   {
    "duration": 0,
    "start_time": "2022-03-31T19:29:13.589Z"
   },
   {
    "duration": 0,
    "start_time": "2022-03-31T19:29:13.590Z"
   },
   {
    "duration": 0,
    "start_time": "2022-03-31T19:29:13.592Z"
   },
   {
    "duration": 0,
    "start_time": "2022-03-31T19:29:13.594Z"
   },
   {
    "duration": 169,
    "start_time": "2022-03-31T19:33:21.657Z"
   },
   {
    "duration": 10,
    "start_time": "2022-03-31T19:34:12.368Z"
   },
   {
    "duration": 223,
    "start_time": "2022-03-31T19:34:26.006Z"
   },
   {
    "duration": 239,
    "start_time": "2022-03-31T19:35:05.648Z"
   },
   {
    "duration": 236,
    "start_time": "2022-03-31T19:35:20.376Z"
   },
   {
    "duration": 229,
    "start_time": "2022-03-31T19:35:56.175Z"
   },
   {
    "duration": 222,
    "start_time": "2022-03-31T19:36:59.815Z"
   },
   {
    "duration": 244,
    "start_time": "2022-03-31T19:37:14.823Z"
   },
   {
    "duration": 253,
    "start_time": "2022-03-31T19:37:23.950Z"
   },
   {
    "duration": 42,
    "start_time": "2022-03-31T19:40:01.362Z"
   },
   {
    "duration": 44,
    "start_time": "2022-03-31T19:49:28.734Z"
   },
   {
    "duration": 18,
    "start_time": "2022-03-31T19:49:31.718Z"
   },
   {
    "duration": 6,
    "start_time": "2022-03-31T19:49:32.877Z"
   },
   {
    "duration": 421,
    "start_time": "2022-03-31T19:49:34.806Z"
   },
   {
    "duration": 32,
    "start_time": "2022-03-31T19:55:57.277Z"
   },
   {
    "duration": 47,
    "start_time": "2022-03-31T19:55:57.814Z"
   },
   {
    "duration": 8,
    "start_time": "2022-03-31T19:56:00.605Z"
   },
   {
    "duration": 22,
    "start_time": "2022-03-31T19:56:01.132Z"
   },
   {
    "duration": 498,
    "start_time": "2022-03-31T19:56:03.589Z"
   },
   {
    "duration": 388,
    "start_time": "2022-03-31T19:56:04.620Z"
   },
   {
    "duration": 14,
    "start_time": "2022-03-31T20:01:17.547Z"
   },
   {
    "duration": 11,
    "start_time": "2022-03-31T20:02:14.147Z"
   },
   {
    "duration": 9,
    "start_time": "2022-03-31T20:02:17.052Z"
   },
   {
    "duration": 8,
    "start_time": "2022-03-31T20:02:31.251Z"
   },
   {
    "duration": 10,
    "start_time": "2022-03-31T20:02:32.094Z"
   },
   {
    "duration": 55,
    "start_time": "2022-03-31T20:02:46.107Z"
   },
   {
    "duration": 61,
    "start_time": "2022-03-31T20:02:50.267Z"
   },
   {
    "duration": 31,
    "start_time": "2022-03-31T20:02:52.762Z"
   },
   {
    "duration": 6,
    "start_time": "2022-03-31T20:03:00.433Z"
   },
   {
    "duration": 1808,
    "start_time": "2022-04-01T09:20:23.085Z"
   },
   {
    "duration": 66,
    "start_time": "2022-04-01T09:20:24.896Z"
   },
   {
    "duration": 22,
    "start_time": "2022-04-01T09:20:24.964Z"
   },
   {
    "duration": 21,
    "start_time": "2022-04-01T09:20:24.988Z"
   },
   {
    "duration": 11,
    "start_time": "2022-04-01T09:20:25.012Z"
   },
   {
    "duration": 31,
    "start_time": "2022-04-01T09:20:25.025Z"
   },
   {
    "duration": 53,
    "start_time": "2022-04-01T09:20:25.058Z"
   },
   {
    "duration": 19,
    "start_time": "2022-04-01T09:20:25.113Z"
   },
   {
    "duration": 17,
    "start_time": "2022-04-01T09:20:25.135Z"
   },
   {
    "duration": 32,
    "start_time": "2022-04-01T09:20:25.154Z"
   },
   {
    "duration": 37,
    "start_time": "2022-04-01T09:20:25.188Z"
   },
   {
    "duration": 21,
    "start_time": "2022-04-01T09:20:25.227Z"
   },
   {
    "duration": 44,
    "start_time": "2022-04-01T09:20:25.250Z"
   },
   {
    "duration": 13,
    "start_time": "2022-04-01T09:20:25.299Z"
   },
   {
    "duration": 7,
    "start_time": "2022-04-01T09:20:25.314Z"
   },
   {
    "duration": 11,
    "start_time": "2022-04-01T09:20:25.324Z"
   },
   {
    "duration": 70,
    "start_time": "2022-04-01T09:20:25.337Z"
   },
   {
    "duration": 36,
    "start_time": "2022-04-01T09:20:25.409Z"
   },
   {
    "duration": 49,
    "start_time": "2022-04-01T09:20:25.447Z"
   },
   {
    "duration": 419,
    "start_time": "2022-04-01T09:20:25.499Z"
   },
   {
    "duration": 11,
    "start_time": "2022-04-01T09:20:25.921Z"
   },
   {
    "duration": 276,
    "start_time": "2022-04-01T09:20:25.935Z"
   },
   {
    "duration": 28,
    "start_time": "2022-04-01T09:20:26.213Z"
   },
   {
    "duration": 6,
    "start_time": "2022-04-01T09:20:26.243Z"
   },
   {
    "duration": 436,
    "start_time": "2022-04-01T09:20:26.251Z"
   },
   {
    "duration": 32,
    "start_time": "2022-04-01T09:20:26.691Z"
   },
   {
    "duration": 25,
    "start_time": "2022-04-01T09:20:26.725Z"
   },
   {
    "duration": 412,
    "start_time": "2022-04-01T09:20:26.753Z"
   },
   {
    "duration": 35,
    "start_time": "2022-04-01T09:20:27.167Z"
   },
   {
    "duration": 427,
    "start_time": "2022-04-01T09:20:27.205Z"
   },
   {
    "duration": 459,
    "start_time": "2022-04-01T09:20:27.634Z"
   },
   {
    "duration": 309,
    "start_time": "2022-04-01T09:20:28.096Z"
   },
   {
    "duration": 28,
    "start_time": "2022-04-01T09:20:28.408Z"
   },
   {
    "duration": 569,
    "start_time": "2022-04-01T09:20:28.438Z"
   },
   {
    "duration": 1435,
    "start_time": "2022-04-01T09:20:29.010Z"
   },
   {
    "duration": 9,
    "start_time": "2022-04-01T09:20:30.447Z"
   },
   {
    "duration": 27,
    "start_time": "2022-04-01T09:20:30.458Z"
   },
   {
    "duration": 20,
    "start_time": "2022-04-01T09:20:30.488Z"
   },
   {
    "duration": 50,
    "start_time": "2022-04-01T09:20:30.510Z"
   },
   {
    "duration": 161,
    "start_time": "2022-04-01T09:20:30.563Z"
   },
   {
    "duration": 0,
    "start_time": "2022-04-01T09:20:30.728Z"
   },
   {
    "duration": 0,
    "start_time": "2022-04-01T09:20:30.731Z"
   },
   {
    "duration": 0,
    "start_time": "2022-04-01T09:20:30.733Z"
   },
   {
    "duration": 0,
    "start_time": "2022-04-01T09:20:30.735Z"
   },
   {
    "duration": 0,
    "start_time": "2022-04-01T09:20:30.737Z"
   },
   {
    "duration": 0,
    "start_time": "2022-04-01T09:20:30.739Z"
   },
   {
    "duration": 1,
    "start_time": "2022-04-01T09:20:30.741Z"
   },
   {
    "duration": 0,
    "start_time": "2022-04-01T09:20:30.743Z"
   },
   {
    "duration": 0,
    "start_time": "2022-04-01T09:20:30.745Z"
   },
   {
    "duration": 16,
    "start_time": "2022-04-01T09:31:09.808Z"
   },
   {
    "duration": 14,
    "start_time": "2022-04-01T09:36:34.848Z"
   },
   {
    "duration": 18,
    "start_time": "2022-04-01T09:36:44.028Z"
   },
   {
    "duration": 11,
    "start_time": "2022-04-01T09:36:57.496Z"
   },
   {
    "duration": 17,
    "start_time": "2022-04-01T09:45:15.009Z"
   },
   {
    "duration": 2062,
    "start_time": "2022-04-01T09:45:23.976Z"
   },
   {
    "duration": 1889,
    "start_time": "2022-04-01T09:46:23.216Z"
   },
   {
    "duration": 5,
    "start_time": "2022-04-01T09:46:39.528Z"
   },
   {
    "duration": 11,
    "start_time": "2022-04-01T09:47:52.198Z"
   },
   {
    "duration": 1444,
    "start_time": "2022-04-01T09:48:30.720Z"
   },
   {
    "duration": 69,
    "start_time": "2022-04-01T09:48:32.167Z"
   },
   {
    "duration": 17,
    "start_time": "2022-04-01T09:48:32.238Z"
   },
   {
    "duration": 37,
    "start_time": "2022-04-01T09:48:32.257Z"
   },
   {
    "duration": 10,
    "start_time": "2022-04-01T09:48:32.298Z"
   },
   {
    "duration": 28,
    "start_time": "2022-04-01T09:48:32.311Z"
   },
   {
    "duration": 55,
    "start_time": "2022-04-01T09:48:32.342Z"
   },
   {
    "duration": 20,
    "start_time": "2022-04-01T09:48:32.399Z"
   },
   {
    "duration": 17,
    "start_time": "2022-04-01T09:48:32.421Z"
   },
   {
    "duration": 12,
    "start_time": "2022-04-01T09:48:32.440Z"
   },
   {
    "duration": 57,
    "start_time": "2022-04-01T09:48:32.454Z"
   },
   {
    "duration": 23,
    "start_time": "2022-04-01T09:48:32.513Z"
   },
   {
    "duration": 10,
    "start_time": "2022-04-01T09:48:32.538Z"
   },
   {
    "duration": 31,
    "start_time": "2022-04-01T09:48:32.552Z"
   },
   {
    "duration": 10,
    "start_time": "2022-04-01T09:48:32.585Z"
   },
   {
    "duration": 13,
    "start_time": "2022-04-01T09:48:32.598Z"
   },
   {
    "duration": 75,
    "start_time": "2022-04-01T09:48:32.613Z"
   },
   {
    "duration": 36,
    "start_time": "2022-04-01T09:48:32.695Z"
   },
   {
    "duration": 17,
    "start_time": "2022-04-01T09:48:32.733Z"
   },
   {
    "duration": 426,
    "start_time": "2022-04-01T09:48:32.752Z"
   },
   {
    "duration": 11,
    "start_time": "2022-04-01T09:48:33.181Z"
   },
   {
    "duration": 265,
    "start_time": "2022-04-01T09:48:33.195Z"
   },
   {
    "duration": 40,
    "start_time": "2022-04-01T09:48:33.462Z"
   },
   {
    "duration": 7,
    "start_time": "2022-04-01T09:48:33.504Z"
   },
   {
    "duration": 421,
    "start_time": "2022-04-01T09:48:33.513Z"
   },
   {
    "duration": 31,
    "start_time": "2022-04-01T09:48:33.936Z"
   },
   {
    "duration": 30,
    "start_time": "2022-04-01T09:48:33.985Z"
   },
   {
    "duration": 360,
    "start_time": "2022-04-01T09:48:34.017Z"
   },
   {
    "duration": 26,
    "start_time": "2022-04-01T09:48:34.379Z"
   },
   {
    "duration": 416,
    "start_time": "2022-04-01T09:48:34.408Z"
   },
   {
    "duration": 449,
    "start_time": "2022-04-01T09:48:34.826Z"
   },
   {
    "duration": 319,
    "start_time": "2022-04-01T09:48:35.281Z"
   },
   {
    "duration": 27,
    "start_time": "2022-04-01T09:48:35.602Z"
   },
   {
    "duration": 465,
    "start_time": "2022-04-01T09:48:35.632Z"
   },
   {
    "duration": 969,
    "start_time": "2022-04-01T09:48:36.100Z"
   },
   {
    "duration": 9,
    "start_time": "2022-04-01T09:48:37.071Z"
   },
   {
    "duration": 33,
    "start_time": "2022-04-01T09:48:37.082Z"
   },
   {
    "duration": 9,
    "start_time": "2022-04-01T09:48:37.118Z"
   },
   {
    "duration": 58,
    "start_time": "2022-04-01T09:48:37.129Z"
   },
   {
    "duration": 20,
    "start_time": "2022-04-01T09:48:37.190Z"
   },
   {
    "duration": 9,
    "start_time": "2022-04-01T09:48:37.216Z"
   },
   {
    "duration": 10,
    "start_time": "2022-04-01T09:48:37.227Z"
   },
   {
    "duration": 8,
    "start_time": "2022-04-01T09:48:37.239Z"
   },
   {
    "duration": 417,
    "start_time": "2022-04-01T09:48:37.249Z"
   },
   {
    "duration": 0,
    "start_time": "2022-04-01T09:48:37.669Z"
   },
   {
    "duration": 0,
    "start_time": "2022-04-01T09:48:37.670Z"
   },
   {
    "duration": 0,
    "start_time": "2022-04-01T09:48:37.682Z"
   },
   {
    "duration": 0,
    "start_time": "2022-04-01T09:48:37.683Z"
   },
   {
    "duration": 0,
    "start_time": "2022-04-01T09:48:37.685Z"
   },
   {
    "duration": 0,
    "start_time": "2022-04-01T09:48:37.688Z"
   },
   {
    "duration": 16,
    "start_time": "2022-04-01T09:58:18.049Z"
   },
   {
    "duration": 236,
    "start_time": "2022-04-01T09:58:52.641Z"
   },
   {
    "duration": 22,
    "start_time": "2022-04-01T09:59:12.100Z"
   },
   {
    "duration": 247,
    "start_time": "2022-04-01T09:59:24.381Z"
   },
   {
    "duration": 247,
    "start_time": "2022-04-01T09:59:43.148Z"
   },
   {
    "duration": 251,
    "start_time": "2022-04-01T10:00:51.549Z"
   },
   {
    "duration": 245,
    "start_time": "2022-04-01T10:01:06.081Z"
   },
   {
    "duration": 1420,
    "start_time": "2022-04-01T10:01:22.834Z"
   },
   {
    "duration": 70,
    "start_time": "2022-04-01T10:01:24.257Z"
   },
   {
    "duration": 18,
    "start_time": "2022-04-01T10:01:24.329Z"
   },
   {
    "duration": 41,
    "start_time": "2022-04-01T10:01:24.349Z"
   },
   {
    "duration": 11,
    "start_time": "2022-04-01T10:01:24.393Z"
   },
   {
    "duration": 35,
    "start_time": "2022-04-01T10:01:24.407Z"
   },
   {
    "duration": 22,
    "start_time": "2022-04-01T10:01:24.444Z"
   },
   {
    "duration": 21,
    "start_time": "2022-04-01T10:01:24.489Z"
   },
   {
    "duration": 17,
    "start_time": "2022-04-01T10:01:24.512Z"
   },
   {
    "duration": 8,
    "start_time": "2022-04-01T10:01:24.531Z"
   },
   {
    "duration": 49,
    "start_time": "2022-04-01T10:01:24.542Z"
   },
   {
    "duration": 22,
    "start_time": "2022-04-01T10:01:24.594Z"
   },
   {
    "duration": 10,
    "start_time": "2022-04-01T10:01:24.618Z"
   },
   {
    "duration": 11,
    "start_time": "2022-04-01T10:01:24.633Z"
   },
   {
    "duration": 44,
    "start_time": "2022-04-01T10:01:24.646Z"
   },
   {
    "duration": 15,
    "start_time": "2022-04-01T10:01:24.694Z"
   },
   {
    "duration": 47,
    "start_time": "2022-04-01T10:01:24.711Z"
   },
   {
    "duration": 62,
    "start_time": "2022-04-01T10:01:24.760Z"
   },
   {
    "duration": 18,
    "start_time": "2022-04-01T10:01:24.825Z"
   },
   {
    "duration": 429,
    "start_time": "2022-04-01T10:01:24.845Z"
   },
   {
    "duration": 18,
    "start_time": "2022-04-01T10:01:25.276Z"
   },
   {
    "duration": 271,
    "start_time": "2022-04-01T10:01:25.298Z"
   },
   {
    "duration": 38,
    "start_time": "2022-04-01T10:01:25.571Z"
   },
   {
    "duration": 6,
    "start_time": "2022-04-01T10:01:25.612Z"
   },
   {
    "duration": 425,
    "start_time": "2022-04-01T10:01:25.621Z"
   },
   {
    "duration": 48,
    "start_time": "2022-04-01T10:01:26.049Z"
   },
   {
    "duration": 26,
    "start_time": "2022-04-01T10:01:26.099Z"
   },
   {
    "duration": 370,
    "start_time": "2022-04-01T10:01:26.127Z"
   },
   {
    "duration": 24,
    "start_time": "2022-04-01T10:01:26.500Z"
   },
   {
    "duration": 425,
    "start_time": "2022-04-01T10:01:26.527Z"
   },
   {
    "duration": 448,
    "start_time": "2022-04-01T10:01:26.954Z"
   },
   {
    "duration": 317,
    "start_time": "2022-04-01T10:01:27.404Z"
   },
   {
    "duration": 25,
    "start_time": "2022-04-01T10:01:27.724Z"
   },
   {
    "duration": 460,
    "start_time": "2022-04-01T10:01:27.751Z"
   },
   {
    "duration": 1094,
    "start_time": "2022-04-01T10:01:28.213Z"
   },
   {
    "duration": 11,
    "start_time": "2022-04-01T10:01:29.310Z"
   },
   {
    "duration": 13,
    "start_time": "2022-04-01T10:01:29.324Z"
   },
   {
    "duration": 9,
    "start_time": "2022-04-01T10:01:29.340Z"
   },
   {
    "duration": 78,
    "start_time": "2022-04-01T10:01:29.351Z"
   },
   {
    "duration": 14,
    "start_time": "2022-04-01T10:01:29.431Z"
   },
   {
    "duration": 38,
    "start_time": "2022-04-01T10:01:29.452Z"
   },
   {
    "duration": 8,
    "start_time": "2022-04-01T10:01:29.492Z"
   },
   {
    "duration": 10,
    "start_time": "2022-04-01T10:01:29.503Z"
   },
   {
    "duration": 23,
    "start_time": "2022-04-01T10:01:29.515Z"
   },
   {
    "duration": 401,
    "start_time": "2022-04-01T10:01:29.540Z"
   },
   {
    "duration": 0,
    "start_time": "2022-04-01T10:01:29.943Z"
   },
   {
    "duration": 0,
    "start_time": "2022-04-01T10:01:29.946Z"
   },
   {
    "duration": 0,
    "start_time": "2022-04-01T10:01:29.947Z"
   },
   {
    "duration": 0,
    "start_time": "2022-04-01T10:01:29.950Z"
   },
   {
    "duration": 0,
    "start_time": "2022-04-01T10:01:29.951Z"
   },
   {
    "duration": 0,
    "start_time": "2022-04-01T10:01:29.953Z"
   },
   {
    "duration": 367,
    "start_time": "2022-04-01T10:02:43.830Z"
   },
   {
    "duration": 250,
    "start_time": "2022-04-01T10:03:05.952Z"
   },
   {
    "duration": 699,
    "start_time": "2022-04-01T10:03:54.321Z"
   },
   {
    "duration": 26,
    "start_time": "2022-04-01T10:04:15.069Z"
   },
   {
    "duration": 23,
    "start_time": "2022-04-01T10:08:11.069Z"
   },
   {
    "duration": 239,
    "start_time": "2022-04-01T10:08:18.609Z"
   },
   {
    "duration": 252,
    "start_time": "2022-04-01T10:08:55.437Z"
   },
   {
    "duration": 231,
    "start_time": "2022-04-01T10:09:00.582Z"
   },
   {
    "duration": 252,
    "start_time": "2022-04-01T10:09:10.850Z"
   },
   {
    "duration": 1410,
    "start_time": "2022-04-01T10:57:48.543Z"
   },
   {
    "duration": 70,
    "start_time": "2022-04-01T10:57:49.957Z"
   },
   {
    "duration": 19,
    "start_time": "2022-04-01T10:57:50.029Z"
   },
   {
    "duration": 32,
    "start_time": "2022-04-01T10:57:50.050Z"
   },
   {
    "duration": 16,
    "start_time": "2022-04-01T10:57:50.093Z"
   },
   {
    "duration": 25,
    "start_time": "2022-04-01T10:57:50.112Z"
   },
   {
    "duration": 49,
    "start_time": "2022-04-01T10:57:50.140Z"
   },
   {
    "duration": 22,
    "start_time": "2022-04-01T10:57:50.191Z"
   },
   {
    "duration": 17,
    "start_time": "2022-04-01T10:57:50.216Z"
   },
   {
    "duration": 10,
    "start_time": "2022-04-01T10:57:50.236Z"
   },
   {
    "duration": 55,
    "start_time": "2022-04-01T10:57:50.248Z"
   },
   {
    "duration": 21,
    "start_time": "2022-04-01T10:57:50.305Z"
   },
   {
    "duration": 16,
    "start_time": "2022-04-01T10:57:50.328Z"
   },
   {
    "duration": 14,
    "start_time": "2022-04-01T10:57:50.349Z"
   },
   {
    "duration": 23,
    "start_time": "2022-04-01T10:57:50.366Z"
   },
   {
    "duration": 19,
    "start_time": "2022-04-01T10:57:50.392Z"
   },
   {
    "duration": 45,
    "start_time": "2022-04-01T10:57:50.413Z"
   },
   {
    "duration": 55,
    "start_time": "2022-04-01T10:57:50.461Z"
   },
   {
    "duration": 18,
    "start_time": "2022-04-01T10:57:50.518Z"
   },
   {
    "duration": 450,
    "start_time": "2022-04-01T10:57:50.538Z"
   },
   {
    "duration": 11,
    "start_time": "2022-04-01T10:57:50.991Z"
   },
   {
    "duration": 263,
    "start_time": "2022-04-01T10:57:51.005Z"
   },
   {
    "duration": 32,
    "start_time": "2022-04-01T10:57:51.282Z"
   },
   {
    "duration": 7,
    "start_time": "2022-04-01T10:57:51.316Z"
   },
   {
    "duration": 412,
    "start_time": "2022-04-01T10:57:51.325Z"
   },
   {
    "duration": 48,
    "start_time": "2022-04-01T10:57:51.739Z"
   },
   {
    "duration": 28,
    "start_time": "2022-04-01T10:57:51.790Z"
   },
   {
    "duration": 373,
    "start_time": "2022-04-01T10:57:51.820Z"
   },
   {
    "duration": 23,
    "start_time": "2022-04-01T10:57:52.197Z"
   },
   {
    "duration": 447,
    "start_time": "2022-04-01T10:57:52.222Z"
   },
   {
    "duration": 462,
    "start_time": "2022-04-01T10:57:52.671Z"
   },
   {
    "duration": 321,
    "start_time": "2022-04-01T10:57:53.136Z"
   },
   {
    "duration": 39,
    "start_time": "2022-04-01T10:57:53.460Z"
   },
   {
    "duration": 458,
    "start_time": "2022-04-01T10:57:53.501Z"
   },
   {
    "duration": 1496,
    "start_time": "2022-04-01T10:57:53.961Z"
   },
   {
    "duration": 12,
    "start_time": "2022-04-01T10:57:55.459Z"
   },
   {
    "duration": 28,
    "start_time": "2022-04-01T10:57:55.473Z"
   },
   {
    "duration": 11,
    "start_time": "2022-04-01T10:57:55.503Z"
   },
   {
    "duration": 46,
    "start_time": "2022-04-01T10:57:55.516Z"
   },
   {
    "duration": 28,
    "start_time": "2022-04-01T10:57:55.564Z"
   },
   {
    "duration": 16,
    "start_time": "2022-04-01T10:57:55.599Z"
   },
   {
    "duration": 16,
    "start_time": "2022-04-01T10:57:55.617Z"
   },
   {
    "duration": 14,
    "start_time": "2022-04-01T10:57:55.636Z"
   },
   {
    "duration": 43,
    "start_time": "2022-04-01T10:57:55.652Z"
   },
   {
    "duration": 409,
    "start_time": "2022-04-01T10:57:55.697Z"
   },
   {
    "duration": 0,
    "start_time": "2022-04-01T10:57:56.108Z"
   },
   {
    "duration": 0,
    "start_time": "2022-04-01T10:57:56.110Z"
   },
   {
    "duration": 0,
    "start_time": "2022-04-01T10:57:56.111Z"
   },
   {
    "duration": 0,
    "start_time": "2022-04-01T10:57:56.113Z"
   },
   {
    "duration": 0,
    "start_time": "2022-04-01T10:57:56.114Z"
   },
   {
    "duration": 0,
    "start_time": "2022-04-01T10:57:56.116Z"
   },
   {
    "duration": 26,
    "start_time": "2022-04-01T11:23:41.467Z"
   },
   {
    "duration": 20,
    "start_time": "2022-04-01T11:59:31.920Z"
   },
   {
    "duration": 19,
    "start_time": "2022-04-01T12:00:29.959Z"
   },
   {
    "duration": 16,
    "start_time": "2022-04-01T12:00:37.811Z"
   },
   {
    "duration": 239,
    "start_time": "2022-04-01T12:00:43.212Z"
   },
   {
    "duration": 2869,
    "start_time": "2022-04-01T12:11:16.608Z"
   },
   {
    "duration": 408,
    "start_time": "2022-04-01T12:11:32.568Z"
   },
   {
    "duration": 12,
    "start_time": "2022-04-01T12:14:53.719Z"
   },
   {
    "duration": 13,
    "start_time": "2022-04-01T12:14:54.243Z"
   },
   {
    "duration": 25,
    "start_time": "2022-04-01T12:15:15.588Z"
   },
   {
    "duration": 28,
    "start_time": "2022-04-01T12:15:22.919Z"
   },
   {
    "duration": 6,
    "start_time": "2022-04-01T12:15:27.620Z"
   },
   {
    "duration": 20,
    "start_time": "2022-04-01T12:15:28.830Z"
   },
   {
    "duration": 27,
    "start_time": "2022-04-01T12:15:34.567Z"
   },
   {
    "duration": 377,
    "start_time": "2022-04-01T12:15:37.215Z"
   },
   {
    "duration": 424,
    "start_time": "2022-04-01T12:15:40.615Z"
   },
   {
    "duration": 19,
    "start_time": "2022-04-01T13:42:31.940Z"
   },
   {
    "duration": 377,
    "start_time": "2022-04-01T13:42:39.269Z"
   },
   {
    "duration": 385,
    "start_time": "2022-04-01T13:42:44.140Z"
   },
   {
    "duration": 1750,
    "start_time": "2022-04-01T18:31:47.226Z"
   },
   {
    "duration": 83,
    "start_time": "2022-04-01T18:31:48.978Z"
   },
   {
    "duration": 18,
    "start_time": "2022-04-01T18:31:49.063Z"
   },
   {
    "duration": 19,
    "start_time": "2022-04-01T18:31:49.084Z"
   },
   {
    "duration": 11,
    "start_time": "2022-04-01T18:31:49.105Z"
   },
   {
    "duration": 27,
    "start_time": "2022-04-01T18:31:49.143Z"
   },
   {
    "duration": 23,
    "start_time": "2022-04-01T18:31:49.172Z"
   },
   {
    "duration": 48,
    "start_time": "2022-04-01T18:31:49.197Z"
   },
   {
    "duration": 17,
    "start_time": "2022-04-01T18:31:49.248Z"
   },
   {
    "duration": 7,
    "start_time": "2022-04-01T18:31:49.269Z"
   },
   {
    "duration": 29,
    "start_time": "2022-04-01T18:31:49.278Z"
   },
   {
    "duration": 55,
    "start_time": "2022-04-01T18:31:49.309Z"
   },
   {
    "duration": 7,
    "start_time": "2022-04-01T18:31:49.366Z"
   },
   {
    "duration": 14,
    "start_time": "2022-04-01T18:31:49.376Z"
   },
   {
    "duration": 8,
    "start_time": "2022-04-01T18:31:49.393Z"
   },
   {
    "duration": 48,
    "start_time": "2022-04-01T18:31:49.404Z"
   },
   {
    "duration": 49,
    "start_time": "2022-04-01T18:31:49.455Z"
   },
   {
    "duration": 66,
    "start_time": "2022-04-01T18:31:49.506Z"
   },
   {
    "duration": 22,
    "start_time": "2022-04-01T18:31:49.575Z"
   },
   {
    "duration": 432,
    "start_time": "2022-04-01T18:31:49.600Z"
   },
   {
    "duration": 11,
    "start_time": "2022-04-01T18:31:50.042Z"
   },
   {
    "duration": 275,
    "start_time": "2022-04-01T18:31:50.055Z"
   },
   {
    "duration": 34,
    "start_time": "2022-04-01T18:31:50.333Z"
   },
   {
    "duration": 7,
    "start_time": "2022-04-01T18:31:50.369Z"
   },
   {
    "duration": 440,
    "start_time": "2022-04-01T18:31:50.377Z"
   },
   {
    "duration": 42,
    "start_time": "2022-04-01T18:31:50.819Z"
   },
   {
    "duration": 25,
    "start_time": "2022-04-01T18:31:50.864Z"
   },
   {
    "duration": 396,
    "start_time": "2022-04-01T18:31:50.894Z"
   },
   {
    "duration": 23,
    "start_time": "2022-04-01T18:31:51.292Z"
   },
   {
    "duration": 432,
    "start_time": "2022-04-01T18:31:51.317Z"
   },
   {
    "duration": 448,
    "start_time": "2022-04-01T18:31:51.752Z"
   },
   {
    "duration": 325,
    "start_time": "2022-04-01T18:31:52.202Z"
   },
   {
    "duration": 38,
    "start_time": "2022-04-01T18:31:52.530Z"
   },
   {
    "duration": 469,
    "start_time": "2022-04-01T18:31:52.571Z"
   },
   {
    "duration": 1168,
    "start_time": "2022-04-01T18:31:53.042Z"
   },
   {
    "duration": 10,
    "start_time": "2022-04-01T18:31:54.212Z"
   },
   {
    "duration": 23,
    "start_time": "2022-04-01T18:31:54.225Z"
   },
   {
    "duration": 10,
    "start_time": "2022-04-01T18:31:54.250Z"
   },
   {
    "duration": 49,
    "start_time": "2022-04-01T18:31:54.263Z"
   },
   {
    "duration": 35,
    "start_time": "2022-04-01T18:31:54.315Z"
   },
   {
    "duration": 11,
    "start_time": "2022-04-01T18:31:54.352Z"
   },
   {
    "duration": 18,
    "start_time": "2022-04-01T18:31:54.365Z"
   },
   {
    "duration": 32,
    "start_time": "2022-04-01T18:31:54.386Z"
   },
   {
    "duration": 33,
    "start_time": "2022-04-01T18:31:54.420Z"
   },
   {
    "duration": 18,
    "start_time": "2022-04-01T18:31:54.456Z"
   },
   {
    "duration": 357,
    "start_time": "2022-04-01T18:31:54.477Z"
   },
   {
    "duration": 22,
    "start_time": "2022-04-01T18:31:54.843Z"
   },
   {
    "duration": 28,
    "start_time": "2022-04-01T18:31:54.868Z"
   },
   {
    "duration": 6,
    "start_time": "2022-04-01T18:31:54.898Z"
   },
   {
    "duration": 56,
    "start_time": "2022-04-01T18:31:54.906Z"
   },
   {
    "duration": 397,
    "start_time": "2022-04-01T18:31:54.964Z"
   },
   {
    "duration": 409,
    "start_time": "2022-04-01T18:31:55.363Z"
   },
   {
    "duration": 5,
    "start_time": "2022-04-01T18:46:45.410Z"
   },
   {
    "duration": 164,
    "start_time": "2022-04-01T18:46:48.683Z"
   },
   {
    "duration": 6,
    "start_time": "2022-04-01T18:47:03.491Z"
   },
   {
    "duration": 17,
    "start_time": "2022-04-01T18:47:10.723Z"
   },
   {
    "duration": 9,
    "start_time": "2022-04-01T18:47:26.889Z"
   },
   {
    "duration": 25,
    "start_time": "2022-04-01T18:48:22.033Z"
   },
   {
    "duration": 21,
    "start_time": "2022-04-01T18:48:34.321Z"
   },
   {
    "duration": 22,
    "start_time": "2022-04-01T18:48:40.272Z"
   },
   {
    "duration": 1420,
    "start_time": "2022-04-01T18:49:16.977Z"
   },
   {
    "duration": 1623,
    "start_time": "2022-04-01T18:50:09.603Z"
   },
   {
    "duration": 1551,
    "start_time": "2022-04-01T18:50:40.761Z"
   },
   {
    "duration": 1400,
    "start_time": "2022-04-01T18:50:49.323Z"
   },
   {
    "duration": 1341,
    "start_time": "2022-04-01T18:51:24.143Z"
   },
   {
    "duration": 1337,
    "start_time": "2022-04-01T18:51:30.546Z"
   },
   {
    "duration": 1617,
    "start_time": "2022-04-01T18:51:47.936Z"
   },
   {
    "duration": 1269,
    "start_time": "2022-04-01T18:51:59.567Z"
   },
   {
    "duration": 1311,
    "start_time": "2022-04-01T18:53:35.143Z"
   },
   {
    "duration": 1581,
    "start_time": "2022-04-01T18:53:42.735Z"
   },
   {
    "duration": 1380,
    "start_time": "2022-04-01T18:55:46.863Z"
   },
   {
    "duration": 1443,
    "start_time": "2022-04-01T18:55:59.808Z"
   },
   {
    "duration": 344,
    "start_time": "2022-04-01T18:57:23.664Z"
   },
   {
    "duration": 377,
    "start_time": "2022-04-01T18:57:49.846Z"
   },
   {
    "duration": 390,
    "start_time": "2022-04-01T18:57:56.286Z"
   },
   {
    "duration": 388,
    "start_time": "2022-04-01T18:58:40.527Z"
   },
   {
    "duration": 396,
    "start_time": "2022-04-01T18:59:35.213Z"
   },
   {
    "duration": 304,
    "start_time": "2022-04-01T18:59:43.328Z"
   },
   {
    "duration": 296,
    "start_time": "2022-04-01T18:59:47.455Z"
   },
   {
    "duration": 404,
    "start_time": "2022-04-01T18:59:52.807Z"
   },
   {
    "duration": 400,
    "start_time": "2022-04-01T19:00:08.566Z"
   },
   {
    "duration": 394,
    "start_time": "2022-04-01T19:00:17.110Z"
   },
   {
    "duration": 402,
    "start_time": "2022-04-01T19:00:27.517Z"
   },
   {
    "duration": 2148,
    "start_time": "2022-04-01T19:03:57.236Z"
   },
   {
    "duration": 1906,
    "start_time": "2022-04-01T19:04:14.749Z"
   },
   {
    "duration": 1534,
    "start_time": "2022-04-01T19:04:35.430Z"
   },
   {
    "duration": 1530,
    "start_time": "2022-04-01T19:07:03.683Z"
   },
   {
    "duration": 1369,
    "start_time": "2022-04-01T19:07:15.892Z"
   },
   {
    "duration": 554,
    "start_time": "2022-04-01T19:13:20.411Z"
   },
   {
    "duration": 416,
    "start_time": "2022-04-01T19:13:33.381Z"
   },
   {
    "duration": 418,
    "start_time": "2022-04-01T19:13:40.707Z"
   },
   {
    "duration": 416,
    "start_time": "2022-04-01T19:14:02.427Z"
   },
   {
    "duration": 400,
    "start_time": "2022-04-01T19:14:13.996Z"
   },
   {
    "duration": 443,
    "start_time": "2022-04-01T19:14:23.012Z"
   },
   {
    "duration": 419,
    "start_time": "2022-04-01T19:14:30.370Z"
   },
   {
    "duration": 406,
    "start_time": "2022-04-01T19:14:36.100Z"
   },
   {
    "duration": 387,
    "start_time": "2022-04-01T19:14:45.436Z"
   },
   {
    "duration": 416,
    "start_time": "2022-04-01T19:16:29.412Z"
   },
   {
    "duration": 397,
    "start_time": "2022-04-01T19:16:56.123Z"
   },
   {
    "duration": 406,
    "start_time": "2022-04-01T19:19:02.193Z"
   },
   {
    "duration": 404,
    "start_time": "2022-04-01T19:19:21.466Z"
   },
   {
    "duration": 541,
    "start_time": "2022-04-01T19:19:29.938Z"
   },
   {
    "duration": 469,
    "start_time": "2022-04-01T19:29:44.256Z"
   },
   {
    "duration": 6,
    "start_time": "2022-04-01T19:29:57.424Z"
   },
   {
    "duration": 487,
    "start_time": "2022-04-01T19:30:01.809Z"
   },
   {
    "duration": 795,
    "start_time": "2022-04-01T19:30:32.527Z"
   },
   {
    "duration": 727,
    "start_time": "2022-04-01T19:30:43.023Z"
   },
   {
    "duration": 455,
    "start_time": "2022-04-01T19:31:11.312Z"
   },
   {
    "duration": 452,
    "start_time": "2022-04-01T19:31:35.334Z"
   },
   {
    "duration": 24,
    "start_time": "2022-04-01T19:32:46.926Z"
   },
   {
    "duration": 626,
    "start_time": "2022-04-01T19:37:58.431Z"
   },
   {
    "duration": 416,
    "start_time": "2022-04-01T19:38:06.092Z"
   },
   {
    "duration": 418,
    "start_time": "2022-04-01T19:38:12.351Z"
   },
   {
    "duration": 38,
    "start_time": "2022-04-01T19:38:20.509Z"
   },
   {
    "duration": 37,
    "start_time": "2022-04-01T19:38:27.125Z"
   },
   {
    "duration": 417,
    "start_time": "2022-04-01T19:38:32.862Z"
   },
   {
    "duration": 431,
    "start_time": "2022-04-01T19:38:40.621Z"
   },
   {
    "duration": 285,
    "start_time": "2022-04-01T19:39:09.584Z"
   },
   {
    "duration": 251,
    "start_time": "2022-04-01T19:39:15.894Z"
   },
   {
    "duration": 426,
    "start_time": "2022-04-01T19:39:44.952Z"
   },
   {
    "duration": 438,
    "start_time": "2022-04-01T19:40:05.844Z"
   },
   {
    "duration": 411,
    "start_time": "2022-04-01T19:40:27.140Z"
   },
   {
    "duration": 442,
    "start_time": "2022-04-01T19:40:56.269Z"
   },
   {
    "duration": 494,
    "start_time": "2022-04-01T19:41:24.669Z"
   },
   {
    "duration": 428,
    "start_time": "2022-04-01T19:41:51.502Z"
   },
   {
    "duration": 340,
    "start_time": "2022-04-01T19:42:07.245Z"
   },
   {
    "duration": 428,
    "start_time": "2022-04-01T19:42:33.992Z"
   },
   {
    "duration": 1324,
    "start_time": "2022-04-01T19:42:49.733Z"
   },
   {
    "duration": 1465,
    "start_time": "2022-04-01T19:43:20.389Z"
   },
   {
    "duration": 260,
    "start_time": "2022-04-01T19:44:11.227Z"
   },
   {
    "duration": 300,
    "start_time": "2022-04-01T19:44:18.309Z"
   },
   {
    "duration": 246,
    "start_time": "2022-04-01T19:44:29.869Z"
   },
   {
    "duration": 1357,
    "start_time": "2022-04-02T10:23:50.355Z"
   },
   {
    "duration": 56,
    "start_time": "2022-04-02T10:23:51.714Z"
   },
   {
    "duration": 13,
    "start_time": "2022-04-02T10:23:51.771Z"
   },
   {
    "duration": 14,
    "start_time": "2022-04-02T10:23:51.786Z"
   },
   {
    "duration": 8,
    "start_time": "2022-04-02T10:23:51.802Z"
   },
   {
    "duration": 34,
    "start_time": "2022-04-02T10:23:51.812Z"
   },
   {
    "duration": 16,
    "start_time": "2022-04-02T10:23:51.847Z"
   },
   {
    "duration": 13,
    "start_time": "2022-04-02T10:23:51.865Z"
   },
   {
    "duration": 12,
    "start_time": "2022-04-02T10:23:51.879Z"
   },
   {
    "duration": 7,
    "start_time": "2022-04-02T10:23:51.893Z"
   },
   {
    "duration": 49,
    "start_time": "2022-04-02T10:23:51.901Z"
   },
   {
    "duration": 16,
    "start_time": "2022-04-02T10:23:51.952Z"
   },
   {
    "duration": 8,
    "start_time": "2022-04-02T10:23:51.969Z"
   },
   {
    "duration": 7,
    "start_time": "2022-04-02T10:23:51.980Z"
   },
   {
    "duration": 6,
    "start_time": "2022-04-02T10:23:51.989Z"
   },
   {
    "duration": 10,
    "start_time": "2022-04-02T10:23:51.996Z"
   },
   {
    "duration": 56,
    "start_time": "2022-04-02T10:23:52.008Z"
   },
   {
    "duration": 24,
    "start_time": "2022-04-02T10:23:52.066Z"
   },
   {
    "duration": 12,
    "start_time": "2022-04-02T10:23:52.092Z"
   },
   {
    "duration": 254,
    "start_time": "2022-04-02T10:23:52.106Z"
   },
   {
    "duration": 7,
    "start_time": "2022-04-02T10:23:52.362Z"
   },
   {
    "duration": 173,
    "start_time": "2022-04-02T10:23:52.371Z"
   },
   {
    "duration": 20,
    "start_time": "2022-04-02T10:23:52.545Z"
   },
   {
    "duration": 238,
    "start_time": "2022-04-02T10:23:52.566Z"
   },
   {
    "duration": 5,
    "start_time": "2022-04-02T10:23:52.806Z"
   },
   {
    "duration": 255,
    "start_time": "2022-04-02T10:23:52.813Z"
   },
   {
    "duration": 24,
    "start_time": "2022-04-02T10:23:53.069Z"
   },
   {
    "duration": 17,
    "start_time": "2022-04-02T10:23:53.095Z"
   },
   {
    "duration": 230,
    "start_time": "2022-04-02T10:23:53.114Z"
   },
   {
    "duration": 16,
    "start_time": "2022-04-02T10:23:53.346Z"
   },
   {
    "duration": 252,
    "start_time": "2022-04-02T10:23:53.363Z"
   },
   {
    "duration": 271,
    "start_time": "2022-04-02T10:23:53.616Z"
   },
   {
    "duration": 267,
    "start_time": "2022-04-02T10:23:53.888Z"
   },
   {
    "duration": 18,
    "start_time": "2022-04-02T10:23:54.157Z"
   },
   {
    "duration": 294,
    "start_time": "2022-04-02T10:23:54.176Z"
   },
   {
    "duration": 1534,
    "start_time": "2022-04-02T10:23:54.472Z"
   },
   {
    "duration": 6,
    "start_time": "2022-04-02T10:23:56.008Z"
   },
   {
    "duration": 9,
    "start_time": "2022-04-02T10:23:56.015Z"
   },
   {
    "duration": 5,
    "start_time": "2022-04-02T10:23:56.026Z"
   },
   {
    "duration": 26,
    "start_time": "2022-04-02T10:23:56.033Z"
   },
   {
    "duration": 10,
    "start_time": "2022-04-02T10:23:56.063Z"
   },
   {
    "duration": 6,
    "start_time": "2022-04-02T10:23:56.074Z"
   },
   {
    "duration": 7,
    "start_time": "2022-04-02T10:23:56.081Z"
   },
   {
    "duration": 6,
    "start_time": "2022-04-02T10:23:56.090Z"
   },
   {
    "duration": 15,
    "start_time": "2022-04-02T10:23:56.097Z"
   },
   {
    "duration": 33,
    "start_time": "2022-04-02T10:23:56.114Z"
   },
   {
    "duration": 213,
    "start_time": "2022-04-02T10:23:56.148Z"
   },
   {
    "duration": 16,
    "start_time": "2022-04-02T10:23:56.362Z"
   },
   {
    "duration": 921,
    "start_time": "2022-04-02T10:23:56.380Z"
   },
   {
    "duration": 235,
    "start_time": "2022-04-02T10:23:57.302Z"
   },
   {
    "duration": 86,
    "start_time": "2022-04-02T10:23:57.539Z"
   },
   {
    "duration": 1180,
    "start_time": "2022-04-03T04:33:39.433Z"
   },
   {
    "duration": 784,
    "start_time": "2022-04-03T04:33:40.615Z"
   },
   {
    "duration": 12,
    "start_time": "2022-04-03T04:33:41.400Z"
   },
   {
    "duration": 13,
    "start_time": "2022-04-03T04:33:41.413Z"
   },
   {
    "duration": 7,
    "start_time": "2022-04-03T04:33:41.428Z"
   },
   {
    "duration": 18,
    "start_time": "2022-04-03T04:33:41.437Z"
   },
   {
    "duration": 15,
    "start_time": "2022-04-03T04:33:41.457Z"
   },
   {
    "duration": 12,
    "start_time": "2022-04-03T04:33:41.501Z"
   },
   {
    "duration": 10,
    "start_time": "2022-04-03T04:33:41.515Z"
   },
   {
    "duration": 3,
    "start_time": "2022-04-03T04:33:41.527Z"
   },
   {
    "duration": 17,
    "start_time": "2022-04-03T04:33:41.532Z"
   },
   {
    "duration": 17,
    "start_time": "2022-04-03T04:33:41.550Z"
   },
   {
    "duration": 34,
    "start_time": "2022-04-03T04:33:41.568Z"
   },
   {
    "duration": 9,
    "start_time": "2022-04-03T04:33:41.606Z"
   },
   {
    "duration": 6,
    "start_time": "2022-04-03T04:33:41.616Z"
   },
   {
    "duration": 11,
    "start_time": "2022-04-03T04:33:41.624Z"
   },
   {
    "duration": 28,
    "start_time": "2022-04-03T04:33:41.636Z"
   },
   {
    "duration": 51,
    "start_time": "2022-04-03T04:33:41.666Z"
   },
   {
    "duration": 14,
    "start_time": "2022-04-03T04:33:41.718Z"
   },
   {
    "duration": 248,
    "start_time": "2022-04-03T04:33:41.733Z"
   },
   {
    "duration": 7,
    "start_time": "2022-04-03T04:33:41.983Z"
   },
   {
    "duration": 167,
    "start_time": "2022-04-03T04:33:42.001Z"
   },
   {
    "duration": 20,
    "start_time": "2022-04-03T04:33:42.170Z"
   },
   {
    "duration": 215,
    "start_time": "2022-04-03T04:33:42.200Z"
   },
   {
    "duration": 5,
    "start_time": "2022-04-03T04:33:42.417Z"
   },
   {
    "duration": 243,
    "start_time": "2022-04-03T04:33:42.423Z"
   },
   {
    "duration": 34,
    "start_time": "2022-04-03T04:33:42.668Z"
   },
   {
    "duration": 18,
    "start_time": "2022-04-03T04:33:42.704Z"
   },
   {
    "duration": 217,
    "start_time": "2022-04-03T04:33:42.723Z"
   },
   {
    "duration": 15,
    "start_time": "2022-04-03T04:33:42.942Z"
   },
   {
    "duration": 229,
    "start_time": "2022-04-03T04:33:42.959Z"
   },
   {
    "duration": 250,
    "start_time": "2022-04-03T04:33:43.190Z"
   },
   {
    "duration": 254,
    "start_time": "2022-04-03T04:33:43.441Z"
   },
   {
    "duration": 18,
    "start_time": "2022-04-03T04:33:43.696Z"
   },
   {
    "duration": 269,
    "start_time": "2022-04-03T04:33:43.716Z"
   },
   {
    "duration": 1159,
    "start_time": "2022-04-03T04:33:43.987Z"
   },
   {
    "duration": 5,
    "start_time": "2022-04-03T04:33:45.148Z"
   },
   {
    "duration": 7,
    "start_time": "2022-04-03T04:33:45.155Z"
   },
   {
    "duration": 5,
    "start_time": "2022-04-03T04:33:45.164Z"
   },
   {
    "duration": 24,
    "start_time": "2022-04-03T04:33:45.170Z"
   },
   {
    "duration": 9,
    "start_time": "2022-04-03T04:33:45.198Z"
   },
   {
    "duration": 6,
    "start_time": "2022-04-03T04:33:45.208Z"
   },
   {
    "duration": 5,
    "start_time": "2022-04-03T04:33:45.215Z"
   },
   {
    "duration": 6,
    "start_time": "2022-04-03T04:33:45.221Z"
   },
   {
    "duration": 17,
    "start_time": "2022-04-03T04:33:45.228Z"
   },
   {
    "duration": 10,
    "start_time": "2022-04-03T04:33:45.247Z"
   },
   {
    "duration": 200,
    "start_time": "2022-04-03T04:33:45.259Z"
   },
   {
    "duration": 16,
    "start_time": "2022-04-03T04:33:45.461Z"
   },
   {
    "duration": 926,
    "start_time": "2022-04-03T04:33:45.479Z"
   },
   {
    "duration": 268,
    "start_time": "2022-04-03T04:33:46.407Z"
   },
   {
    "duration": 1351,
    "start_time": "2022-04-03T18:18:06.841Z"
   },
   {
    "duration": 58,
    "start_time": "2022-04-03T18:18:08.194Z"
   },
   {
    "duration": 12,
    "start_time": "2022-04-03T18:18:08.254Z"
   },
   {
    "duration": 19,
    "start_time": "2022-04-03T18:18:08.268Z"
   },
   {
    "duration": 9,
    "start_time": "2022-04-03T18:18:08.289Z"
   },
   {
    "duration": 19,
    "start_time": "2022-04-03T18:18:08.300Z"
   },
   {
    "duration": 31,
    "start_time": "2022-04-03T18:18:08.321Z"
   },
   {
    "duration": 14,
    "start_time": "2022-04-03T18:18:08.354Z"
   },
   {
    "duration": 14,
    "start_time": "2022-04-03T18:18:08.370Z"
   },
   {
    "duration": 9,
    "start_time": "2022-04-03T18:18:08.387Z"
   },
   {
    "duration": 49,
    "start_time": "2022-04-03T18:18:08.398Z"
   },
   {
    "duration": 17,
    "start_time": "2022-04-03T18:18:08.449Z"
   },
   {
    "duration": 6,
    "start_time": "2022-04-03T18:18:08.468Z"
   },
   {
    "duration": 14,
    "start_time": "2022-04-03T18:18:08.475Z"
   },
   {
    "duration": 6,
    "start_time": "2022-04-03T18:18:08.491Z"
   },
   {
    "duration": 8,
    "start_time": "2022-04-03T18:18:08.499Z"
   },
   {
    "duration": 55,
    "start_time": "2022-04-03T18:18:08.509Z"
   },
   {
    "duration": 23,
    "start_time": "2022-04-03T18:18:08.566Z"
   },
   {
    "duration": 194,
    "start_time": "2022-04-03T18:18:08.591Z"
   },
   {
    "duration": 12,
    "start_time": "2022-04-03T18:18:08.787Z"
   },
   {
    "duration": 265,
    "start_time": "2022-04-03T18:18:08.800Z"
   },
   {
    "duration": 8,
    "start_time": "2022-04-03T18:18:09.066Z"
   },
   {
    "duration": 167,
    "start_time": "2022-04-03T18:18:09.075Z"
   },
   {
    "duration": 20,
    "start_time": "2022-04-03T18:18:09.244Z"
   },
   {
    "duration": 241,
    "start_time": "2022-04-03T18:18:09.266Z"
   },
   {
    "duration": 6,
    "start_time": "2022-04-03T18:18:09.509Z"
   },
   {
    "duration": 267,
    "start_time": "2022-04-03T18:18:09.517Z"
   },
   {
    "duration": 23,
    "start_time": "2022-04-03T18:18:09.788Z"
   },
   {
    "duration": 38,
    "start_time": "2022-04-03T18:18:09.813Z"
   },
   {
    "duration": 234,
    "start_time": "2022-04-03T18:18:09.853Z"
   },
   {
    "duration": 16,
    "start_time": "2022-04-03T18:18:10.089Z"
   },
   {
    "duration": 325,
    "start_time": "2022-04-03T18:18:10.106Z"
   },
   {
    "duration": 273,
    "start_time": "2022-04-03T18:18:10.433Z"
   },
   {
    "duration": 179,
    "start_time": "2022-04-03T18:18:10.707Z"
   },
   {
    "duration": 18,
    "start_time": "2022-04-03T18:18:10.887Z"
   },
   {
    "duration": 295,
    "start_time": "2022-04-03T18:18:10.907Z"
   },
   {
    "duration": 1220,
    "start_time": "2022-04-03T18:18:11.204Z"
   },
   {
    "duration": 7,
    "start_time": "2022-04-03T18:18:12.425Z"
   },
   {
    "duration": 12,
    "start_time": "2022-04-03T18:18:12.433Z"
   },
   {
    "duration": 8,
    "start_time": "2022-04-03T18:18:12.446Z"
   },
   {
    "duration": 29,
    "start_time": "2022-04-03T18:18:12.455Z"
   },
   {
    "duration": 11,
    "start_time": "2022-04-03T18:18:12.485Z"
   },
   {
    "duration": 7,
    "start_time": "2022-04-03T18:18:12.498Z"
   },
   {
    "duration": 9,
    "start_time": "2022-04-03T18:18:12.506Z"
   },
   {
    "duration": 23,
    "start_time": "2022-04-03T18:18:12.516Z"
   },
   {
    "duration": 22,
    "start_time": "2022-04-03T18:18:12.540Z"
   },
   {
    "duration": 12,
    "start_time": "2022-04-03T18:18:12.564Z"
   },
   {
    "duration": 222,
    "start_time": "2022-04-03T18:18:12.578Z"
   },
   {
    "duration": 17,
    "start_time": "2022-04-03T18:18:12.803Z"
   },
   {
    "duration": 1005,
    "start_time": "2022-04-03T18:18:12.822Z"
   },
   {
    "duration": 349,
    "start_time": "2022-04-03T18:18:13.829Z"
   },
   {
    "duration": 13,
    "start_time": "2022-04-03T18:23:14.701Z"
   },
   {
    "duration": 108,
    "start_time": "2022-04-03T18:33:23.327Z"
   },
   {
    "duration": 10,
    "start_time": "2022-04-03T18:33:29.776Z"
   },
   {
    "duration": 9,
    "start_time": "2022-04-03T18:33:41.371Z"
   },
   {
    "duration": 9,
    "start_time": "2022-04-03T18:34:00.638Z"
   },
   {
    "duration": 10,
    "start_time": "2022-04-03T18:41:03.824Z"
   },
   {
    "duration": 9,
    "start_time": "2022-04-03T18:41:15.375Z"
   },
   {
    "duration": 8,
    "start_time": "2022-04-03T18:47:12.193Z"
   },
   {
    "duration": 12,
    "start_time": "2022-04-03T18:47:47.117Z"
   },
   {
    "duration": 13,
    "start_time": "2022-04-03T18:50:32.130Z"
   },
   {
    "duration": 10,
    "start_time": "2022-04-03T18:50:54.760Z"
   },
   {
    "duration": 6,
    "start_time": "2022-04-03T18:51:17.566Z"
   },
   {
    "duration": 11,
    "start_time": "2022-04-03T19:02:03.379Z"
   },
   {
    "duration": 90,
    "start_time": "2022-04-03T19:05:05.111Z"
   },
   {
    "duration": 164,
    "start_time": "2022-04-03T19:05:17.061Z"
   },
   {
    "duration": 10,
    "start_time": "2022-04-03T19:05:45.626Z"
   },
   {
    "duration": 3122,
    "start_time": "2022-04-03T19:06:15.293Z"
   },
   {
    "duration": 1763,
    "start_time": "2022-04-03T19:08:23.224Z"
   },
   {
    "duration": 1344,
    "start_time": "2022-04-03T19:08:41.035Z"
   },
   {
    "duration": 1447,
    "start_time": "2022-04-03T19:11:08.498Z"
   },
   {
    "duration": 1603,
    "start_time": "2022-04-03T19:13:29.019Z"
   },
   {
    "duration": 14,
    "start_time": "2022-04-03T19:14:50.592Z"
   },
   {
    "duration": 5,
    "start_time": "2022-04-03T19:16:08.597Z"
   },
   {
    "duration": 15,
    "start_time": "2022-04-03T19:16:46.026Z"
   },
   {
    "duration": 1255,
    "start_time": "2022-04-03T19:17:20.638Z"
   },
   {
    "duration": 53,
    "start_time": "2022-04-03T19:17:21.895Z"
   },
   {
    "duration": 13,
    "start_time": "2022-04-03T19:17:21.950Z"
   },
   {
    "duration": 16,
    "start_time": "2022-04-03T19:17:21.965Z"
   },
   {
    "duration": 9,
    "start_time": "2022-04-03T19:17:21.982Z"
   },
   {
    "duration": 47,
    "start_time": "2022-04-03T19:17:21.992Z"
   },
   {
    "duration": 19,
    "start_time": "2022-04-03T19:17:22.040Z"
   },
   {
    "duration": 15,
    "start_time": "2022-04-03T19:17:22.060Z"
   },
   {
    "duration": 13,
    "start_time": "2022-04-03T19:17:22.077Z"
   },
   {
    "duration": 4,
    "start_time": "2022-04-03T19:17:22.093Z"
   },
   {
    "duration": 52,
    "start_time": "2022-04-03T19:17:22.098Z"
   },
   {
    "duration": 18,
    "start_time": "2022-04-03T19:17:22.151Z"
   },
   {
    "duration": 14,
    "start_time": "2022-04-03T19:17:22.171Z"
   },
   {
    "duration": 17,
    "start_time": "2022-04-03T19:17:22.186Z"
   },
   {
    "duration": 15,
    "start_time": "2022-04-03T19:17:22.205Z"
   },
   {
    "duration": 19,
    "start_time": "2022-04-03T19:17:22.222Z"
   },
   {
    "duration": 39,
    "start_time": "2022-04-03T19:17:22.243Z"
   },
   {
    "duration": 30,
    "start_time": "2022-04-03T19:17:22.284Z"
   },
   {
    "duration": 17,
    "start_time": "2022-04-03T19:17:22.316Z"
   },
   {
    "duration": 16,
    "start_time": "2022-04-03T19:17:22.334Z"
   },
   {
    "duration": 19,
    "start_time": "2022-04-03T19:17:22.352Z"
   },
   {
    "duration": 111,
    "start_time": "2022-04-03T19:17:22.373Z"
   },
   {
    "duration": 0,
    "start_time": "2022-04-03T19:17:22.488Z"
   },
   {
    "duration": 0,
    "start_time": "2022-04-03T19:17:22.489Z"
   },
   {
    "duration": 0,
    "start_time": "2022-04-03T19:17:22.490Z"
   },
   {
    "duration": 0,
    "start_time": "2022-04-03T19:17:22.491Z"
   },
   {
    "duration": 0,
    "start_time": "2022-04-03T19:17:22.492Z"
   },
   {
    "duration": 0,
    "start_time": "2022-04-03T19:17:22.493Z"
   },
   {
    "duration": 0,
    "start_time": "2022-04-03T19:17:22.494Z"
   },
   {
    "duration": 0,
    "start_time": "2022-04-03T19:17:22.495Z"
   },
   {
    "duration": 0,
    "start_time": "2022-04-03T19:17:22.496Z"
   },
   {
    "duration": 0,
    "start_time": "2022-04-03T19:17:22.497Z"
   },
   {
    "duration": 0,
    "start_time": "2022-04-03T19:17:22.498Z"
   },
   {
    "duration": 0,
    "start_time": "2022-04-03T19:17:22.499Z"
   },
   {
    "duration": 0,
    "start_time": "2022-04-03T19:17:22.500Z"
   },
   {
    "duration": 0,
    "start_time": "2022-04-03T19:17:22.501Z"
   },
   {
    "duration": 0,
    "start_time": "2022-04-03T19:17:22.502Z"
   },
   {
    "duration": 0,
    "start_time": "2022-04-03T19:17:22.503Z"
   },
   {
    "duration": 0,
    "start_time": "2022-04-03T19:17:22.504Z"
   },
   {
    "duration": 0,
    "start_time": "2022-04-03T19:17:22.505Z"
   },
   {
    "duration": 0,
    "start_time": "2022-04-03T19:17:22.506Z"
   },
   {
    "duration": 0,
    "start_time": "2022-04-03T19:17:22.507Z"
   },
   {
    "duration": 0,
    "start_time": "2022-04-03T19:17:22.538Z"
   },
   {
    "duration": 0,
    "start_time": "2022-04-03T19:17:22.539Z"
   },
   {
    "duration": 0,
    "start_time": "2022-04-03T19:17:22.540Z"
   },
   {
    "duration": 0,
    "start_time": "2022-04-03T19:17:22.541Z"
   },
   {
    "duration": 0,
    "start_time": "2022-04-03T19:17:22.542Z"
   },
   {
    "duration": 0,
    "start_time": "2022-04-03T19:17:22.543Z"
   },
   {
    "duration": 0,
    "start_time": "2022-04-03T19:17:22.544Z"
   },
   {
    "duration": 0,
    "start_time": "2022-04-03T19:17:22.545Z"
   },
   {
    "duration": 0,
    "start_time": "2022-04-03T19:17:22.546Z"
   },
   {
    "duration": 0,
    "start_time": "2022-04-03T19:17:22.547Z"
   },
   {
    "duration": 0,
    "start_time": "2022-04-03T19:17:22.548Z"
   },
   {
    "duration": 0,
    "start_time": "2022-04-03T19:17:22.549Z"
   },
   {
    "duration": 0,
    "start_time": "2022-04-03T19:17:22.550Z"
   },
   {
    "duration": 0,
    "start_time": "2022-04-03T19:17:22.551Z"
   },
   {
    "duration": 1618,
    "start_time": "2022-04-03T19:18:17.944Z"
   },
   {
    "duration": 1660,
    "start_time": "2022-04-03T19:18:33.699Z"
   },
   {
    "duration": 1246,
    "start_time": "2022-04-03T19:18:39.639Z"
   },
   {
    "duration": 52,
    "start_time": "2022-04-03T19:18:40.887Z"
   },
   {
    "duration": 12,
    "start_time": "2022-04-03T19:18:40.941Z"
   },
   {
    "duration": 16,
    "start_time": "2022-04-03T19:18:40.955Z"
   },
   {
    "duration": 8,
    "start_time": "2022-04-03T19:18:40.973Z"
   },
   {
    "duration": 23,
    "start_time": "2022-04-03T19:18:40.982Z"
   },
   {
    "duration": 38,
    "start_time": "2022-04-03T19:18:41.006Z"
   },
   {
    "duration": 14,
    "start_time": "2022-04-03T19:18:41.046Z"
   },
   {
    "duration": 13,
    "start_time": "2022-04-03T19:18:41.062Z"
   },
   {
    "duration": 6,
    "start_time": "2022-04-03T19:18:41.077Z"
   },
   {
    "duration": 22,
    "start_time": "2022-04-03T19:18:41.085Z"
   },
   {
    "duration": 45,
    "start_time": "2022-04-03T19:18:41.108Z"
   },
   {
    "duration": 10,
    "start_time": "2022-04-03T19:18:41.154Z"
   },
   {
    "duration": 8,
    "start_time": "2022-04-03T19:18:41.167Z"
   },
   {
    "duration": 5,
    "start_time": "2022-04-03T19:18:41.177Z"
   },
   {
    "duration": 8,
    "start_time": "2022-04-03T19:18:41.184Z"
   },
   {
    "duration": 53,
    "start_time": "2022-04-03T19:18:41.193Z"
   },
   {
    "duration": 23,
    "start_time": "2022-04-03T19:18:41.247Z"
   },
   {
    "duration": 15,
    "start_time": "2022-04-03T19:18:41.271Z"
   },
   {
    "duration": 5,
    "start_time": "2022-04-03T19:18:41.288Z"
   },
   {
    "duration": 14,
    "start_time": "2022-04-03T19:18:41.295Z"
   },
   {
    "duration": 1748,
    "start_time": "2022-04-03T19:18:41.337Z"
   },
   {
    "duration": 0,
    "start_time": "2022-04-03T19:18:43.087Z"
   },
   {
    "duration": 0,
    "start_time": "2022-04-03T19:18:43.089Z"
   },
   {
    "duration": 0,
    "start_time": "2022-04-03T19:18:43.090Z"
   },
   {
    "duration": 0,
    "start_time": "2022-04-03T19:18:43.091Z"
   },
   {
    "duration": 0,
    "start_time": "2022-04-03T19:18:43.092Z"
   },
   {
    "duration": 0,
    "start_time": "2022-04-03T19:18:43.093Z"
   },
   {
    "duration": 0,
    "start_time": "2022-04-03T19:18:43.094Z"
   },
   {
    "duration": 0,
    "start_time": "2022-04-03T19:18:43.095Z"
   },
   {
    "duration": 0,
    "start_time": "2022-04-03T19:18:43.096Z"
   },
   {
    "duration": 0,
    "start_time": "2022-04-03T19:18:43.097Z"
   },
   {
    "duration": 0,
    "start_time": "2022-04-03T19:18:43.098Z"
   },
   {
    "duration": 0,
    "start_time": "2022-04-03T19:18:43.099Z"
   },
   {
    "duration": 0,
    "start_time": "2022-04-03T19:18:43.100Z"
   },
   {
    "duration": 0,
    "start_time": "2022-04-03T19:18:43.101Z"
   },
   {
    "duration": 0,
    "start_time": "2022-04-03T19:18:43.102Z"
   },
   {
    "duration": 0,
    "start_time": "2022-04-03T19:18:43.103Z"
   },
   {
    "duration": 0,
    "start_time": "2022-04-03T19:18:43.104Z"
   },
   {
    "duration": 0,
    "start_time": "2022-04-03T19:18:43.105Z"
   },
   {
    "duration": 0,
    "start_time": "2022-04-03T19:18:43.106Z"
   },
   {
    "duration": 0,
    "start_time": "2022-04-03T19:18:43.107Z"
   },
   {
    "duration": 0,
    "start_time": "2022-04-03T19:18:43.108Z"
   },
   {
    "duration": 0,
    "start_time": "2022-04-03T19:18:43.109Z"
   },
   {
    "duration": 0,
    "start_time": "2022-04-03T19:18:43.110Z"
   },
   {
    "duration": 0,
    "start_time": "2022-04-03T19:18:43.110Z"
   },
   {
    "duration": 0,
    "start_time": "2022-04-03T19:18:43.111Z"
   },
   {
    "duration": 0,
    "start_time": "2022-04-03T19:18:43.112Z"
   },
   {
    "duration": 0,
    "start_time": "2022-04-03T19:18:43.113Z"
   },
   {
    "duration": 0,
    "start_time": "2022-04-03T19:18:43.114Z"
   },
   {
    "duration": 0,
    "start_time": "2022-04-03T19:18:43.115Z"
   },
   {
    "duration": 0,
    "start_time": "2022-04-03T19:18:43.116Z"
   },
   {
    "duration": 0,
    "start_time": "2022-04-03T19:18:43.117Z"
   },
   {
    "duration": 0,
    "start_time": "2022-04-03T19:18:43.118Z"
   },
   {
    "duration": 0,
    "start_time": "2022-04-03T19:18:43.119Z"
   },
   {
    "duration": 0,
    "start_time": "2022-04-03T19:18:43.120Z"
   },
   {
    "duration": 1351,
    "start_time": "2022-04-03T19:22:59.447Z"
   },
   {
    "duration": 1340,
    "start_time": "2022-04-03T19:24:42.402Z"
   },
   {
    "duration": 1513,
    "start_time": "2022-04-03T19:24:49.164Z"
   },
   {
    "duration": 3,
    "start_time": "2022-04-03T19:34:26.539Z"
   },
   {
    "duration": 14,
    "start_time": "2022-04-03T19:36:05.950Z"
   },
   {
    "duration": 1361,
    "start_time": "2022-04-04T07:06:32.660Z"
   },
   {
    "duration": 63,
    "start_time": "2022-04-04T07:06:34.600Z"
   },
   {
    "duration": 11,
    "start_time": "2022-04-04T07:06:35.153Z"
   },
   {
    "duration": 15,
    "start_time": "2022-04-04T07:06:35.552Z"
   },
   {
    "duration": 8,
    "start_time": "2022-04-04T07:06:36.822Z"
   },
   {
    "duration": 18,
    "start_time": "2022-04-04T07:06:37.300Z"
   },
   {
    "duration": 14,
    "start_time": "2022-04-04T07:06:51.360Z"
   },
   {
    "duration": 13,
    "start_time": "2022-04-04T07:06:54.212Z"
   },
   {
    "duration": 5,
    "start_time": "2022-04-04T07:06:56.213Z"
   },
   {
    "duration": 18,
    "start_time": "2022-04-04T07:06:57.789Z"
   },
   {
    "duration": 16,
    "start_time": "2022-04-04T07:07:02.884Z"
   },
   {
    "duration": 5,
    "start_time": "2022-04-04T07:07:05.068Z"
   },
   {
    "duration": 11,
    "start_time": "2022-04-04T07:07:06.098Z"
   },
   {
    "duration": 7,
    "start_time": "2022-04-04T07:07:07.153Z"
   },
   {
    "duration": 9,
    "start_time": "2022-04-04T07:07:08.701Z"
   },
   {
    "duration": 30,
    "start_time": "2022-04-04T07:07:11.621Z"
   },
   {
    "duration": 25,
    "start_time": "2022-04-04T07:07:14.029Z"
   },
   {
    "duration": 13,
    "start_time": "2022-04-04T07:07:18.193Z"
   },
   {
    "duration": 73,
    "start_time": "2022-04-04T07:07:48.169Z"
   },
   {
    "duration": 15,
    "start_time": "2022-04-04T07:07:55.631Z"
   },
   {
    "duration": 13,
    "start_time": "2022-04-04T07:09:25.372Z"
   },
   {
    "duration": 18,
    "start_time": "2022-04-04T07:12:01.521Z"
   },
   {
    "duration": 3,
    "start_time": "2022-04-04T07:17:39.220Z"
   },
   {
    "duration": 19,
    "start_time": "2022-04-04T07:21:32.037Z"
   },
   {
    "duration": 10,
    "start_time": "2022-04-04T07:30:59.360Z"
   },
   {
    "duration": 11,
    "start_time": "2022-04-04T07:31:12.813Z"
   },
   {
    "duration": 11,
    "start_time": "2022-04-04T07:33:47.901Z"
   },
   {
    "duration": 10,
    "start_time": "2022-04-04T07:34:00.961Z"
   },
   {
    "duration": 168,
    "start_time": "2022-04-04T07:41:18.320Z"
   },
   {
    "duration": 12,
    "start_time": "2022-04-04T07:41:21.479Z"
   },
   {
    "duration": 10,
    "start_time": "2022-04-04T07:54:53.708Z"
   },
   {
    "duration": 12,
    "start_time": "2022-04-04T07:54:58.952Z"
   },
   {
    "duration": 11,
    "start_time": "2022-04-04T07:57:24.840Z"
   },
   {
    "duration": 10,
    "start_time": "2022-04-04T07:57:37.780Z"
   },
   {
    "duration": 11,
    "start_time": "2022-04-04T07:58:52.731Z"
   },
   {
    "duration": 10,
    "start_time": "2022-04-04T07:59:02.231Z"
   },
   {
    "duration": 11,
    "start_time": "2022-04-04T07:59:11.648Z"
   },
   {
    "duration": 11,
    "start_time": "2022-04-04T07:59:22.511Z"
   },
   {
    "duration": 10,
    "start_time": "2022-04-04T07:59:26.320Z"
   },
   {
    "duration": 11,
    "start_time": "2022-04-04T07:59:33.815Z"
   },
   {
    "duration": 11,
    "start_time": "2022-04-04T07:59:39.231Z"
   },
   {
    "duration": 11,
    "start_time": "2022-04-04T07:59:45.439Z"
   },
   {
    "duration": 10,
    "start_time": "2022-04-04T07:59:52.556Z"
   },
   {
    "duration": 10,
    "start_time": "2022-04-04T08:00:02.833Z"
   },
   {
    "duration": 11,
    "start_time": "2022-04-04T08:00:14.419Z"
   },
   {
    "duration": 11,
    "start_time": "2022-04-04T08:00:18.399Z"
   },
   {
    "duration": 12,
    "start_time": "2022-04-04T08:00:24.287Z"
   },
   {
    "duration": 10,
    "start_time": "2022-04-04T08:00:30.480Z"
   },
   {
    "duration": 12,
    "start_time": "2022-04-04T08:00:37.160Z"
   },
   {
    "duration": 10,
    "start_time": "2022-04-04T08:00:42.312Z"
   },
   {
    "duration": 11,
    "start_time": "2022-04-04T08:00:50.072Z"
   },
   {
    "duration": 10,
    "start_time": "2022-04-04T08:00:54.440Z"
   },
   {
    "duration": 11,
    "start_time": "2022-04-04T08:00:58.351Z"
   },
   {
    "duration": 10,
    "start_time": "2022-04-04T08:01:10.640Z"
   },
   {
    "duration": 10,
    "start_time": "2022-04-04T08:01:16.580Z"
   },
   {
    "duration": 11,
    "start_time": "2022-04-04T08:01:21.380Z"
   },
   {
    "duration": 10,
    "start_time": "2022-04-04T08:01:25.931Z"
   },
   {
    "duration": 10,
    "start_time": "2022-04-04T08:01:32.228Z"
   },
   {
    "duration": 10,
    "start_time": "2022-04-04T08:01:39.099Z"
   },
   {
    "duration": 10,
    "start_time": "2022-04-04T08:01:46.032Z"
   },
   {
    "duration": 9,
    "start_time": "2022-04-04T08:01:49.340Z"
   },
   {
    "duration": 10,
    "start_time": "2022-04-04T08:01:59.320Z"
   },
   {
    "duration": 10,
    "start_time": "2022-04-04T08:02:05.771Z"
   },
   {
    "duration": 11,
    "start_time": "2022-04-04T08:02:12.100Z"
   },
   {
    "duration": 11,
    "start_time": "2022-04-04T08:02:17.439Z"
   },
   {
    "duration": 10,
    "start_time": "2022-04-04T08:02:23.740Z"
   },
   {
    "duration": 11,
    "start_time": "2022-04-04T08:02:29.687Z"
   },
   {
    "duration": 10,
    "start_time": "2022-04-04T08:02:32.813Z"
   },
   {
    "duration": 325,
    "start_time": "2022-04-04T08:26:04.829Z"
   },
   {
    "duration": 119,
    "start_time": "2022-04-04T08:26:12.013Z"
   },
   {
    "duration": 10,
    "start_time": "2022-04-04T08:26:36.601Z"
   },
   {
    "duration": 3,
    "start_time": "2022-04-04T08:33:30.861Z"
   },
   {
    "duration": 1169,
    "start_time": "2022-04-04T08:41:54.973Z"
   },
   {
    "duration": 57,
    "start_time": "2022-04-04T08:41:56.144Z"
   },
   {
    "duration": 13,
    "start_time": "2022-04-04T08:41:56.202Z"
   },
   {
    "duration": 15,
    "start_time": "2022-04-04T08:41:56.216Z"
   },
   {
    "duration": 7,
    "start_time": "2022-04-04T08:41:56.233Z"
   },
   {
    "duration": 18,
    "start_time": "2022-04-04T08:41:56.242Z"
   },
   {
    "duration": 41,
    "start_time": "2022-04-04T08:41:56.261Z"
   },
   {
    "duration": 14,
    "start_time": "2022-04-04T08:41:56.304Z"
   },
   {
    "duration": 12,
    "start_time": "2022-04-04T08:41:56.319Z"
   },
   {
    "duration": 5,
    "start_time": "2022-04-04T08:41:56.333Z"
   },
   {
    "duration": 16,
    "start_time": "2022-04-04T08:41:56.339Z"
   },
   {
    "duration": 16,
    "start_time": "2022-04-04T08:41:56.356Z"
   },
   {
    "duration": 31,
    "start_time": "2022-04-04T08:41:56.374Z"
   },
   {
    "duration": 10,
    "start_time": "2022-04-04T08:41:56.409Z"
   },
   {
    "duration": 6,
    "start_time": "2022-04-04T08:41:56.420Z"
   },
   {
    "duration": 11,
    "start_time": "2022-04-04T08:41:56.428Z"
   },
   {
    "duration": 28,
    "start_time": "2022-04-04T08:41:56.441Z"
   },
   {
    "duration": 51,
    "start_time": "2022-04-04T08:41:56.470Z"
   },
   {
    "duration": 17,
    "start_time": "2022-04-04T08:41:56.523Z"
   },
   {
    "duration": 87,
    "start_time": "2022-04-04T08:41:56.542Z"
   },
   {
    "duration": 10,
    "start_time": "2022-04-04T08:41:56.631Z"
   },
   {
    "duration": 318,
    "start_time": "2022-04-04T08:41:56.643Z"
   },
   {
    "duration": 8,
    "start_time": "2022-04-04T08:41:56.963Z"
   },
   {
    "duration": 11,
    "start_time": "2022-04-04T08:41:56.973Z"
   },
   {
    "duration": 246,
    "start_time": "2022-04-04T08:41:56.985Z"
   },
   {
    "duration": 7,
    "start_time": "2022-04-04T08:41:57.233Z"
   },
   {
    "duration": 162,
    "start_time": "2022-04-04T08:41:57.241Z"
   },
   {
    "duration": 19,
    "start_time": "2022-04-04T08:41:57.404Z"
   },
   {
    "duration": 226,
    "start_time": "2022-04-04T08:41:57.424Z"
   },
   {
    "duration": 4,
    "start_time": "2022-04-04T08:41:57.652Z"
   },
   {
    "duration": 245,
    "start_time": "2022-04-04T08:41:57.658Z"
   },
   {
    "duration": 20,
    "start_time": "2022-04-04T08:41:57.905Z"
   },
   {
    "duration": 13,
    "start_time": "2022-04-04T08:41:57.927Z"
   },
   {
    "duration": 217,
    "start_time": "2022-04-04T08:41:57.941Z"
   },
   {
    "duration": 15,
    "start_time": "2022-04-04T08:41:58.160Z"
   },
   {
    "duration": 263,
    "start_time": "2022-04-04T08:41:58.177Z"
   },
   {
    "duration": 265,
    "start_time": "2022-04-04T08:41:58.442Z"
   },
   {
    "duration": 254,
    "start_time": "2022-04-04T08:41:58.709Z"
   },
   {
    "duration": 16,
    "start_time": "2022-04-04T08:41:58.964Z"
   },
   {
    "duration": 251,
    "start_time": "2022-04-04T08:41:58.982Z"
   },
   {
    "duration": 1093,
    "start_time": "2022-04-04T08:41:59.237Z"
   },
   {
    "duration": 6,
    "start_time": "2022-04-04T08:42:00.331Z"
   },
   {
    "duration": 11,
    "start_time": "2022-04-04T08:42:00.338Z"
   },
   {
    "duration": 7,
    "start_time": "2022-04-04T08:42:00.351Z"
   },
   {
    "duration": 42,
    "start_time": "2022-04-04T08:42:00.360Z"
   },
   {
    "duration": 13,
    "start_time": "2022-04-04T08:42:00.404Z"
   },
   {
    "duration": 7,
    "start_time": "2022-04-04T08:42:00.419Z"
   },
   {
    "duration": 19,
    "start_time": "2022-04-04T08:42:00.428Z"
   },
   {
    "duration": 11,
    "start_time": "2022-04-04T08:42:00.449Z"
   },
   {
    "duration": 19,
    "start_time": "2022-04-04T08:42:00.462Z"
   },
   {
    "duration": 25,
    "start_time": "2022-04-04T08:42:00.483Z"
   },
   {
    "duration": 217,
    "start_time": "2022-04-04T08:42:00.510Z"
   },
   {
    "duration": 17,
    "start_time": "2022-04-04T08:42:00.729Z"
   },
   {
    "duration": 863,
    "start_time": "2022-04-04T08:42:00.748Z"
   },
   {
    "duration": 231,
    "start_time": "2022-04-04T08:42:01.613Z"
   },
   {
    "duration": 11,
    "start_time": "2022-04-04T08:42:48.132Z"
   },
   {
    "duration": 2,
    "start_time": "2022-04-04T08:45:45.958Z"
   },
   {
    "duration": 25,
    "start_time": "2022-04-04T09:06:17.603Z"
   },
   {
    "duration": 116,
    "start_time": "2022-04-04T09:07:14.643Z"
   },
   {
    "duration": 24,
    "start_time": "2022-04-04T09:07:34.722Z"
   },
   {
    "duration": 31,
    "start_time": "2022-04-04T09:07:41.031Z"
   },
   {
    "duration": 27,
    "start_time": "2022-04-04T09:07:50.450Z"
   },
   {
    "duration": 25,
    "start_time": "2022-04-04T09:08:08.422Z"
   },
   {
    "duration": 25,
    "start_time": "2022-04-04T09:08:21.490Z"
   },
   {
    "duration": 17,
    "start_time": "2022-04-04T09:17:30.655Z"
   },
   {
    "duration": 31,
    "start_time": "2022-04-04T09:28:51.283Z"
   },
   {
    "duration": 7,
    "start_time": "2022-04-04T09:30:22.997Z"
   },
   {
    "duration": 2763,
    "start_time": "2022-04-04T09:34:22.883Z"
   },
   {
    "duration": 4,
    "start_time": "2022-04-04T09:34:56.242Z"
   },
   {
    "duration": 8,
    "start_time": "2022-04-04T09:35:27.562Z"
   },
   {
    "duration": 2623,
    "start_time": "2022-04-04T09:46:12.575Z"
   },
   {
    "duration": 5,
    "start_time": "2022-04-04T09:46:29.851Z"
   },
   {
    "duration": 2901,
    "start_time": "2022-04-04T09:47:07.935Z"
   },
   {
    "duration": 8,
    "start_time": "2022-04-04T09:47:22.942Z"
   },
   {
    "duration": 5,
    "start_time": "2022-04-04T09:47:49.842Z"
   },
   {
    "duration": 2713,
    "start_time": "2022-04-04T09:49:04.969Z"
   },
   {
    "duration": 7,
    "start_time": "2022-04-04T09:50:30.022Z"
   },
   {
    "duration": 5,
    "start_time": "2022-04-04T09:50:50.462Z"
   },
   {
    "duration": 13,
    "start_time": "2022-04-04T10:07:08.561Z"
   },
   {
    "duration": 17,
    "start_time": "2022-04-04T10:08:38.711Z"
   },
   {
    "duration": 13,
    "start_time": "2022-04-04T10:10:26.586Z"
   },
   {
    "duration": 5,
    "start_time": "2022-04-04T10:11:02.102Z"
   },
   {
    "duration": 12,
    "start_time": "2022-04-04T10:11:23.274Z"
   },
   {
    "duration": 5,
    "start_time": "2022-04-04T10:11:27.734Z"
   },
   {
    "duration": 12,
    "start_time": "2022-04-04T10:11:39.214Z"
   },
   {
    "duration": 137,
    "start_time": "2022-04-04T10:11:43.983Z"
   },
   {
    "duration": 142,
    "start_time": "2022-04-04T10:12:02.739Z"
   },
   {
    "duration": 11,
    "start_time": "2022-04-04T10:13:51.550Z"
   },
   {
    "duration": 9,
    "start_time": "2022-04-04T10:14:01.617Z"
   },
   {
    "duration": 292,
    "start_time": "2022-04-04T10:14:14.762Z"
   },
   {
    "duration": 6,
    "start_time": "2022-04-04T11:04:47.162Z"
   },
   {
    "duration": 1258,
    "start_time": "2022-04-04T11:07:09.633Z"
   },
   {
    "duration": 58,
    "start_time": "2022-04-04T11:07:10.893Z"
   },
   {
    "duration": 14,
    "start_time": "2022-04-04T11:07:10.952Z"
   },
   {
    "duration": 17,
    "start_time": "2022-04-04T11:07:10.968Z"
   },
   {
    "duration": 19,
    "start_time": "2022-04-04T11:07:10.988Z"
   },
   {
    "duration": 20,
    "start_time": "2022-04-04T11:07:11.009Z"
   },
   {
    "duration": 20,
    "start_time": "2022-04-04T11:07:11.031Z"
   },
   {
    "duration": 49,
    "start_time": "2022-04-04T11:07:11.052Z"
   },
   {
    "duration": 15,
    "start_time": "2022-04-04T11:07:11.103Z"
   },
   {
    "duration": 4,
    "start_time": "2022-04-04T11:07:11.120Z"
   },
   {
    "duration": 18,
    "start_time": "2022-04-04T11:07:11.126Z"
   },
   {
    "duration": 18,
    "start_time": "2022-04-04T11:07:11.146Z"
   },
   {
    "duration": 38,
    "start_time": "2022-04-04T11:07:11.166Z"
   },
   {
    "duration": 11,
    "start_time": "2022-04-04T11:07:11.207Z"
   },
   {
    "duration": 7,
    "start_time": "2022-04-04T11:07:11.219Z"
   },
   {
    "duration": 11,
    "start_time": "2022-04-04T11:07:11.228Z"
   },
   {
    "duration": 77,
    "start_time": "2022-04-04T11:07:11.242Z"
   },
   {
    "duration": 36,
    "start_time": "2022-04-04T11:07:11.322Z"
   },
   {
    "duration": 14,
    "start_time": "2022-04-04T11:07:11.360Z"
   },
   {
    "duration": 72,
    "start_time": "2022-04-04T11:07:11.400Z"
   },
   {
    "duration": 30,
    "start_time": "2022-04-04T11:07:11.473Z"
   },
   {
    "duration": 333,
    "start_time": "2022-04-04T11:07:11.505Z"
   },
   {
    "duration": 11,
    "start_time": "2022-04-04T11:07:11.840Z"
   },
   {
    "duration": 13,
    "start_time": "2022-04-04T11:07:11.853Z"
   },
   {
    "duration": 270,
    "start_time": "2022-04-04T11:07:11.868Z"
   },
   {
    "duration": 9,
    "start_time": "2022-04-04T11:07:12.139Z"
   },
   {
    "duration": 169,
    "start_time": "2022-04-04T11:07:12.149Z"
   },
   {
    "duration": 22,
    "start_time": "2022-04-04T11:07:12.319Z"
   },
   {
    "duration": 254,
    "start_time": "2022-04-04T11:07:12.343Z"
   },
   {
    "duration": 6,
    "start_time": "2022-04-04T11:07:12.600Z"
   },
   {
    "duration": 259,
    "start_time": "2022-04-04T11:07:12.607Z"
   },
   {
    "duration": 36,
    "start_time": "2022-04-04T11:07:12.869Z"
   },
   {
    "duration": 17,
    "start_time": "2022-04-04T11:07:12.907Z"
   },
   {
    "duration": 237,
    "start_time": "2022-04-04T11:07:12.926Z"
   },
   {
    "duration": 18,
    "start_time": "2022-04-04T11:07:13.165Z"
   },
   {
    "duration": 276,
    "start_time": "2022-04-04T11:07:13.185Z"
   },
   {
    "duration": 3,
    "start_time": "2022-04-04T11:07:13.463Z"
   },
   {
    "duration": 287,
    "start_time": "2022-04-04T11:07:13.469Z"
   },
   {
    "duration": 21,
    "start_time": "2022-04-04T11:07:13.758Z"
   },
   {
    "duration": 300,
    "start_time": "2022-04-04T11:07:13.781Z"
   },
   {
    "duration": 1191,
    "start_time": "2022-04-04T11:07:14.086Z"
   },
   {
    "duration": 6,
    "start_time": "2022-04-04T11:07:15.279Z"
   },
   {
    "duration": 9,
    "start_time": "2022-04-04T11:07:15.287Z"
   },
   {
    "duration": 4,
    "start_time": "2022-04-04T11:07:15.298Z"
   },
   {
    "duration": 27,
    "start_time": "2022-04-04T11:07:15.304Z"
   },
   {
    "duration": 30,
    "start_time": "2022-04-04T11:07:15.332Z"
   },
   {
    "duration": 4,
    "start_time": "2022-04-04T11:07:15.364Z"
   },
   {
    "duration": 8,
    "start_time": "2022-04-04T11:07:15.370Z"
   },
   {
    "duration": 11,
    "start_time": "2022-04-04T11:07:15.402Z"
   },
   {
    "duration": 6,
    "start_time": "2022-04-04T11:07:15.415Z"
   },
   {
    "duration": 7,
    "start_time": "2022-04-04T11:07:15.422Z"
   },
   {
    "duration": 16,
    "start_time": "2022-04-04T11:07:15.431Z"
   },
   {
    "duration": 3,
    "start_time": "2022-04-04T11:07:15.450Z"
   },
   {
    "duration": 8,
    "start_time": "2022-04-04T11:07:15.455Z"
   },
   {
    "duration": 45,
    "start_time": "2022-04-04T11:07:15.465Z"
   },
   {
    "duration": 338,
    "start_time": "2022-04-04T11:07:15.512Z"
   },
   {
    "duration": 26,
    "start_time": "2022-04-04T11:07:15.852Z"
   },
   {
    "duration": 1326,
    "start_time": "2022-04-04T11:07:15.880Z"
   },
   {
    "duration": 366,
    "start_time": "2022-04-04T11:07:17.208Z"
   },
   {
    "duration": 246,
    "start_time": "2022-04-04T11:09:40.292Z"
   },
   {
    "duration": 105,
    "start_time": "2022-04-04T11:11:43.364Z"
   },
   {
    "duration": 163,
    "start_time": "2022-04-04T11:14:55.264Z"
   },
   {
    "duration": 173,
    "start_time": "2022-04-04T11:15:49.436Z"
   },
   {
    "duration": 279,
    "start_time": "2022-04-04T11:16:24.605Z"
   },
   {
    "duration": 186,
    "start_time": "2022-04-04T11:16:36.344Z"
   },
   {
    "duration": 194,
    "start_time": "2022-04-04T11:16:48.205Z"
   },
   {
    "duration": 1173,
    "start_time": "2022-04-04T13:14:52.359Z"
   },
   {
    "duration": 292,
    "start_time": "2022-04-04T13:14:53.535Z"
   },
   {
    "duration": 11,
    "start_time": "2022-04-04T13:14:53.831Z"
   },
   {
    "duration": 14,
    "start_time": "2022-04-04T13:14:53.844Z"
   },
   {
    "duration": 8,
    "start_time": "2022-04-04T13:14:53.860Z"
   },
   {
    "duration": 37,
    "start_time": "2022-04-04T13:14:53.870Z"
   },
   {
    "duration": 17,
    "start_time": "2022-04-04T13:14:53.908Z"
   },
   {
    "duration": 12,
    "start_time": "2022-04-04T13:14:53.926Z"
   },
   {
    "duration": 11,
    "start_time": "2022-04-04T13:14:53.940Z"
   },
   {
    "duration": 4,
    "start_time": "2022-04-04T13:14:53.952Z"
   },
   {
    "duration": 45,
    "start_time": "2022-04-04T13:14:53.957Z"
   },
   {
    "duration": 17,
    "start_time": "2022-04-04T13:14:54.004Z"
   },
   {
    "duration": 6,
    "start_time": "2022-04-04T13:14:54.024Z"
   },
   {
    "duration": 11,
    "start_time": "2022-04-04T13:14:54.032Z"
   },
   {
    "duration": 5,
    "start_time": "2022-04-04T13:14:54.044Z"
   },
   {
    "duration": 15,
    "start_time": "2022-04-04T13:14:54.051Z"
   },
   {
    "duration": 45,
    "start_time": "2022-04-04T13:14:54.067Z"
   },
   {
    "duration": 21,
    "start_time": "2022-04-04T13:14:54.114Z"
   },
   {
    "duration": 14,
    "start_time": "2022-04-04T13:14:54.137Z"
   },
   {
    "duration": 85,
    "start_time": "2022-04-04T13:14:54.153Z"
   },
   {
    "duration": 10,
    "start_time": "2022-04-04T13:14:54.240Z"
   },
   {
    "duration": 331,
    "start_time": "2022-04-04T13:14:54.252Z"
   },
   {
    "duration": 9,
    "start_time": "2022-04-04T13:14:54.585Z"
   },
   {
    "duration": 15,
    "start_time": "2022-04-04T13:14:54.596Z"
   },
   {
    "duration": 245,
    "start_time": "2022-04-04T13:14:54.613Z"
   },
   {
    "duration": 8,
    "start_time": "2022-04-04T13:14:54.861Z"
   },
   {
    "duration": 154,
    "start_time": "2022-04-04T13:14:54.870Z"
   },
   {
    "duration": 18,
    "start_time": "2022-04-04T13:14:55.026Z"
   },
   {
    "duration": 222,
    "start_time": "2022-04-04T13:14:55.046Z"
   },
   {
    "duration": 6,
    "start_time": "2022-04-04T13:14:55.270Z"
   },
   {
    "duration": 243,
    "start_time": "2022-04-04T13:14:55.278Z"
   },
   {
    "duration": 21,
    "start_time": "2022-04-04T13:14:55.523Z"
   },
   {
    "duration": 15,
    "start_time": "2022-04-04T13:14:55.546Z"
   },
   {
    "duration": 227,
    "start_time": "2022-04-04T13:14:55.563Z"
   },
   {
    "duration": 15,
    "start_time": "2022-04-04T13:14:55.792Z"
   },
   {
    "duration": 225,
    "start_time": "2022-04-04T13:14:55.808Z"
   },
   {
    "duration": 2,
    "start_time": "2022-04-04T13:14:56.035Z"
   },
   {
    "duration": 255,
    "start_time": "2022-04-04T13:14:56.039Z"
   },
   {
    "duration": 20,
    "start_time": "2022-04-04T13:14:56.296Z"
   },
   {
    "duration": 278,
    "start_time": "2022-04-04T13:14:56.320Z"
   },
   {
    "duration": 1342,
    "start_time": "2022-04-04T13:14:56.600Z"
   },
   {
    "duration": 6,
    "start_time": "2022-04-04T13:14:57.944Z"
   },
   {
    "duration": 12,
    "start_time": "2022-04-04T13:14:57.952Z"
   },
   {
    "duration": 5,
    "start_time": "2022-04-04T13:14:57.965Z"
   },
   {
    "duration": 30,
    "start_time": "2022-04-04T13:14:57.971Z"
   },
   {
    "duration": 29,
    "start_time": "2022-04-04T13:14:58.002Z"
   },
   {
    "duration": 4,
    "start_time": "2022-04-04T13:14:58.032Z"
   },
   {
    "duration": 9,
    "start_time": "2022-04-04T13:14:58.038Z"
   },
   {
    "duration": 9,
    "start_time": "2022-04-04T13:14:58.049Z"
   },
   {
    "duration": 6,
    "start_time": "2022-04-04T13:14:58.059Z"
   },
   {
    "duration": 8,
    "start_time": "2022-04-04T13:14:58.066Z"
   },
   {
    "duration": 33,
    "start_time": "2022-04-04T13:14:58.075Z"
   },
   {
    "duration": 14,
    "start_time": "2022-04-04T13:14:58.109Z"
   },
   {
    "duration": 52,
    "start_time": "2022-04-04T13:14:58.125Z"
   },
   {
    "duration": 15,
    "start_time": "2022-04-04T13:14:58.178Z"
   },
   {
    "duration": 192,
    "start_time": "2022-04-04T13:14:58.194Z"
   },
   {
    "duration": 24,
    "start_time": "2022-04-04T13:14:58.387Z"
   },
   {
    "duration": 865,
    "start_time": "2022-04-04T13:14:58.412Z"
   },
   {
    "duration": 225,
    "start_time": "2022-04-04T13:14:59.278Z"
   },
   {
    "duration": 197,
    "start_time": "2022-04-04T13:14:59.505Z"
   },
   {
    "duration": 4,
    "start_time": "2022-04-04T13:19:26.332Z"
   },
   {
    "duration": 4,
    "start_time": "2022-04-04T13:19:26.753Z"
   }
  ],
  "kernelspec": {
   "display_name": "Python 3 (ipykernel)",
   "language": "python",
   "name": "python3"
  },
  "language_info": {
   "codemirror_mode": {
    "name": "ipython",
    "version": 3
   },
   "file_extension": ".py",
   "mimetype": "text/x-python",
   "name": "python",
   "nbconvert_exporter": "python",
   "pygments_lexer": "ipython3",
   "version": "3.9.5"
  },
  "toc": {
   "base_numbering": 1,
   "nav_menu": {},
   "number_sections": true,
   "sideBar": true,
   "skip_h1_title": true,
   "title_cell": "Table of Contents",
   "title_sidebar": "Contents",
   "toc_cell": false,
   "toc_position": {},
   "toc_section_display": true,
   "toc_window_display": false
  }
 },
 "nbformat": 4,
 "nbformat_minor": 2
}
