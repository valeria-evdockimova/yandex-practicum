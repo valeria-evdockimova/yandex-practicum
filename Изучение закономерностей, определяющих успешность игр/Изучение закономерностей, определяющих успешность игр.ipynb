{
 "cells": [
  {
   "cell_type": "markdown",
   "metadata": {
    "toc": true
   },
   "source": [
    "<h1>Содержание<span class=\"tocSkip\"></span></h1>\n",
    "<div class=\"toc\"><ul class=\"toc-item\"><li><span><a href=\"#Обзор-данных\" data-toc-modified-id=\"Обзор-данных-1\"><span class=\"toc-item-num\">1&nbsp;&nbsp;</span>Обзор данных</a></span><ul class=\"toc-item\"><li><span><a href=\"#Выводы-по-разделу\" data-toc-modified-id=\"Выводы-по-разделу-1.1\"><span class=\"toc-item-num\">1.1&nbsp;&nbsp;</span>Выводы по разделу</a></span></li></ul></li><li><span><a href=\"#Предообработка-данных\" data-toc-modified-id=\"Предообработка-данных-2\"><span class=\"toc-item-num\">2&nbsp;&nbsp;</span>Предообработка данных</a></span><ul class=\"toc-item\"><li><span><a href=\"#Нижний-регистр\" data-toc-modified-id=\"Нижний-регистр-2.1\"><span class=\"toc-item-num\">2.1&nbsp;&nbsp;</span>Нижний регистр</a></span></li><li><span><a href=\"#Анализ-пропусков-и-их-обработка\" data-toc-modified-id=\"Анализ-пропусков-и-их-обработка-2.2\"><span class=\"toc-item-num\">2.2&nbsp;&nbsp;</span>Анализ пропусков и их обработка</a></span></li><li><span><a href=\"#Выяаление-неявных-дубликатов\" data-toc-modified-id=\"Выяаление-неявных-дубликатов-2.3\"><span class=\"toc-item-num\">2.3&nbsp;&nbsp;</span>Выяаление неявных дубликатов</a></span></li><li><span><a href=\"#Замена-типов-данных\" data-toc-modified-id=\"Замена-типов-данных-2.4\"><span class=\"toc-item-num\">2.4&nbsp;&nbsp;</span>Замена типов данных</a></span></li><li><span><a href=\"#Определение-суммарных-продаж-во-всех-регионах\" data-toc-modified-id=\"Определение-суммарных-продаж-во-всех-регионах-2.5\"><span class=\"toc-item-num\">2.5&nbsp;&nbsp;</span>Определение суммарных продаж во всех регионах</a></span></li><li><span><a href=\"#Выводы-к-разделу\" data-toc-modified-id=\"Выводы-к-разделу-2.6\"><span class=\"toc-item-num\">2.6&nbsp;&nbsp;</span>Выводы к разделу</a></span></li></ul></li><li><span><a href=\"#Исследовательский-анализ-данных\" data-toc-modified-id=\"Исследовательский-анализ-данных-3\"><span class=\"toc-item-num\">3&nbsp;&nbsp;</span>Исследовательский анализ данных</a></span><ul class=\"toc-item\"><li><span><a href=\"#Сколько-игр-выпукалось-в-разные-годы.-Важны-ли-данные-за-все-периоды?\" data-toc-modified-id=\"Сколько-игр-выпукалось-в-разные-годы.-Важны-ли-данные-за-все-периоды?-3.1\"><span class=\"toc-item-num\">3.1&nbsp;&nbsp;</span>Сколько игр выпукалось в разные годы. Важны ли данные за все периоды?</a></span></li><li><span><a href=\"#Как-менялись-продажи-по-платформам.-Выбрать-платформы-с-наибольшими-суммарными-продажами-и-построить-распределение-по-годам.-За-какой-характерный-срок-появляются-новые-и-исчезают-старые-платформы.\" data-toc-modified-id=\"Как-менялись-продажи-по-платформам.-Выбрать-платформы-с-наибольшими-суммарными-продажами-и-построить-распределение-по-годам.-За-какой-характерный-срок-появляются-новые-и-исчезают-старые-платформы.-3.2\"><span class=\"toc-item-num\">3.2&nbsp;&nbsp;</span>Как менялись продажи по платформам. Выбрать платформы с наибольшими суммарными продажами и построить распределение по годам. За какой характерный срок появляются новые и исчезают старые платформы.</a></span></li><li><span><a href=\"#Какие-платформы-лидируют-по-продажам,-растут-или-падают?-Выбрать-несколько-потенциально-прибы\" data-toc-modified-id=\"Какие-платформы-лидируют-по-продажам,-растут-или-падают?-Выбрать-несколько-потенциально-прибы-3.3\"><span class=\"toc-item-num\">3.3&nbsp;&nbsp;</span>Какие платформы лидируют по продажам, растут или падают? Выбрать несколько потенциально прибы</a></span></li><li><span><a href=\"#Постройте-график-«ящик-с-усами»-по-глобальным-продажам-игр-в-разбивке-по-платформам.-Опишите-результат\" data-toc-modified-id=\"Постройте-график-«ящик-с-усами»-по-глобальным-продажам-игр-в-разбивке-по-платформам.-Опишите-результат-3.4\"><span class=\"toc-item-num\">3.4&nbsp;&nbsp;</span>Постройте график «ящик с усами» по глобальным продажам игр в разбивке по платформам. Опишите результат</a></span></li><li><span><a href=\"#Как-влияют-на-продажи-внутри-одной-популярной-платформы-отзывы-пользователей-и-критиков.-Постройте-диаграмму-рассеяния-и-посчитайте-корреляцию-между-отзывами-и-продажами\" data-toc-modified-id=\"Как-влияют-на-продажи-внутри-одной-популярной-платформы-отзывы-пользователей-и-критиков.-Постройте-диаграмму-рассеяния-и-посчитайте-корреляцию-между-отзывами-и-продажами-3.5\"><span class=\"toc-item-num\">3.5&nbsp;&nbsp;</span>Как влияют на продажи внутри одной популярной платформы отзывы пользователей и критиков. Постройте диаграмму рассеяния и посчитайте корреляцию между отзывами и продажами</a></span></li><li><span><a href=\"#Соотнесите-выводы-с-продажами-игр-на-других-платформах\" data-toc-modified-id=\"Соотнесите-выводы-с-продажами-игр-на-других-платформах-3.6\"><span class=\"toc-item-num\">3.6&nbsp;&nbsp;</span>Соотнесите выводы с продажами игр на других платформах</a></span></li><li><span><a href=\"#Посмотрите-на-общее-распределение-игр-по-жанрам.-Что-можно-сказать-о-самых-прибыльных-жанрах?-Выделяются-ли-жанры-с-высокими-и-низкими-продажами?\" data-toc-modified-id=\"Посмотрите-на-общее-распределение-игр-по-жанрам.-Что-можно-сказать-о-самых-прибыльных-жанрах?-Выделяются-ли-жанры-с-высокими-и-низкими-продажами?-3.7\"><span class=\"toc-item-num\">3.7&nbsp;&nbsp;</span>Посмотрите на общее распределение игр по жанрам. Что можно сказать о самых прибыльных жанрах? Выделяются ли жанры с высокими и низкими продажами?</a></span></li><li><span><a href=\"#Вывод-к-разделу\" data-toc-modified-id=\"Вывод-к-разделу-3.8\"><span class=\"toc-item-num\">3.8&nbsp;&nbsp;</span>Вывод к разделу</a></span></li></ul></li><li><span><a href=\"#Портрет-пользователя-каждого-региона\" data-toc-modified-id=\"Портрет-пользователя-каждого-региона-4\"><span class=\"toc-item-num\">4&nbsp;&nbsp;</span>Портрет пользователя каждого региона</a></span><ul class=\"toc-item\"><li><span><a href=\"#Выводы-к-разделу\" data-toc-modified-id=\"Выводы-к-разделу-4.1\"><span class=\"toc-item-num\">4.1&nbsp;&nbsp;</span>Выводы к разделу</a></span></li></ul></li><li><span><a href=\"#Влияет-ли-рейтинг-ESRB-на-продажи-в-отдельном-регионе?\" data-toc-modified-id=\"Влияет-ли-рейтинг-ESRB-на-продажи-в-отдельном-регионе?-5\"><span class=\"toc-item-num\">5&nbsp;&nbsp;</span>Влияет ли рейтинг ESRB на продажи в отдельном регионе?</a></span><ul class=\"toc-item\"><li><span><a href=\"#Выводы-к-разделу\" data-toc-modified-id=\"Выводы-к-разделу-5.1\"><span class=\"toc-item-num\">5.1&nbsp;&nbsp;</span>Выводы к разделу</a></span></li></ul></li><li><span><a href=\"#Проверка-гипотез\" data-toc-modified-id=\"Проверка-гипотез-6\"><span class=\"toc-item-num\">6&nbsp;&nbsp;</span>Проверка гипотез</a></span><ul class=\"toc-item\"><li><span><a href=\"#Выводы-к-разделу\" data-toc-modified-id=\"Выводы-к-разделу-6.1\"><span class=\"toc-item-num\">6.1&nbsp;&nbsp;</span>Выводы к разделу</a></span></li></ul></li><li><span><a href=\"#Общий-вывод\" data-toc-modified-id=\"Общий-вывод-7\"><span class=\"toc-item-num\">7&nbsp;&nbsp;</span>Общий вывод</a></span></li></ul></div>"
   ]
  },
  {
   "cell_type": "markdown",
   "metadata": {},
   "source": [
    "***Описание проекта***\n",
    "\n",
    "Вы работаете в интернет-магазине «Стримчик», который продаёт по всему миру компьютерные игры. Из открытых источников доступны исторические данные о продажах игр, оценки пользователей и экспертов, жанры и платформы (например, Xbox или PlayStation). Вам нужно выявить определяющие успешность игры закономерности. Это позволит сделать ставку на потенциально популярный продукт и спланировать рекламные кампании."
   ]
  },
  {
   "cell_type": "markdown",
   "metadata": {},
   "source": [
    "***Цель работы:***\n",
    "\n",
    "Cпрогнозировать рекламную команию для игровой инсдустрии на 2017 год.\n",
    "\n",
    "***Задачи работы:***\n",
    "- Произвести обзор данных и предобработку данных.\n",
    "- Провести исследовательский анализ данных.\n",
    "- На основе анализа выявить актуальный период для прогонозирования.\n",
    "- Выявить популярные платформы и популярные жанры в целом по миру.\n",
    "- Составить портреты пользователей для купных регионов продаж.\n",
    "- Выполнить проверку гипотез о равенстве раздичных выборок.\n",
    "\n",
    "***Структура данных***\n",
    "- Name — название игры\n",
    "- Platform — платформа\n",
    "- Year_of_Release — год выпуска\n",
    "- Genre — жанр игры\n",
    "- NA_sales — продажи в Северной Америке (миллионы долларов)\n",
    "- EU_sales — продажи в Европе (миллионы долларов)\n",
    "- JP_sales — продажи в Японии (миллионы долларов)\n",
    "- Other_sales — продажи в других странах (миллионы долларов)\n",
    "- Critic_Score — оценка критиков (максимум 100)\n",
    "- User_Score — оценка пользователей (максимум 10)\n",
    "- Rating — рейтинг от организации ESRB (англ. Entertainment Software Rating Board). Эта ассоциация определяет рейтинг компьютерных игр и присваивает им подходящую возрастную категорию.\n",
    "- В наборе данных попадается аббревиатура ESRB (Entertainment Software Rating Board) — это ассоциация, определяющая возрастной рейтинг компьютерных игр. ESRB оценивает игровой контент и присваивает ему подходящую возрастную категорию, например, «Для взрослых», «Для детей младшего возраста» или «Для подростков»."
   ]
  },
  {
   "cell_type": "markdown",
   "metadata": {},
   "source": [
    "## Обзор данных"
   ]
  },
  {
   "cell_type": "markdown",
   "metadata": {},
   "source": [
    "Для работы импортируем все библиотеки, которые нам понадобятся в ходе выполнения проекта"
   ]
  },
  {
   "cell_type": "code",
   "execution_count": 1,
   "metadata": {},
   "outputs": [],
   "source": [
    "import pandas as pd \n",
    "import matplotlib.pyplot as plt\n",
    "import math\n",
    "import numpy as np\n",
    "from scipy import stats as st\n",
    "import seaborn as sns"
   ]
  },
  {
   "cell_type": "code",
   "execution_count": 2,
   "metadata": {},
   "outputs": [],
   "source": [
    "df = pd.read_csv('https://code.s3.yandex.net/datasets/games.csv')"
   ]
  },
  {
   "cell_type": "markdown",
   "metadata": {},
   "source": [
    "Сохраним исходный ДатаФрейм в переменной df"
   ]
  },
  {
   "cell_type": "code",
   "execution_count": 3,
   "metadata": {},
   "outputs": [
    {
     "data": {
      "text/html": [
       "<div>\n",
       "<style scoped>\n",
       "    .dataframe tbody tr th:only-of-type {\n",
       "        vertical-align: middle;\n",
       "    }\n",
       "\n",
       "    .dataframe tbody tr th {\n",
       "        vertical-align: top;\n",
       "    }\n",
       "\n",
       "    .dataframe thead th {\n",
       "        text-align: right;\n",
       "    }\n",
       "</style>\n",
       "<table border=\"1\" class=\"dataframe\">\n",
       "  <thead>\n",
       "    <tr style=\"text-align: right;\">\n",
       "      <th></th>\n",
       "      <th>Name</th>\n",
       "      <th>Platform</th>\n",
       "      <th>Year_of_Release</th>\n",
       "      <th>Genre</th>\n",
       "      <th>NA_sales</th>\n",
       "      <th>EU_sales</th>\n",
       "      <th>JP_sales</th>\n",
       "      <th>Other_sales</th>\n",
       "      <th>Critic_Score</th>\n",
       "      <th>User_Score</th>\n",
       "      <th>Rating</th>\n",
       "    </tr>\n",
       "  </thead>\n",
       "  <tbody>\n",
       "    <tr>\n",
       "      <td>0</td>\n",
       "      <td>Wii Sports</td>\n",
       "      <td>Wii</td>\n",
       "      <td>2006.0</td>\n",
       "      <td>Sports</td>\n",
       "      <td>41.36</td>\n",
       "      <td>28.96</td>\n",
       "      <td>3.77</td>\n",
       "      <td>8.45</td>\n",
       "      <td>76.0</td>\n",
       "      <td>8</td>\n",
       "      <td>E</td>\n",
       "    </tr>\n",
       "    <tr>\n",
       "      <td>1</td>\n",
       "      <td>Super Mario Bros.</td>\n",
       "      <td>NES</td>\n",
       "      <td>1985.0</td>\n",
       "      <td>Platform</td>\n",
       "      <td>29.08</td>\n",
       "      <td>3.58</td>\n",
       "      <td>6.81</td>\n",
       "      <td>0.77</td>\n",
       "      <td>NaN</td>\n",
       "      <td>NaN</td>\n",
       "      <td>NaN</td>\n",
       "    </tr>\n",
       "    <tr>\n",
       "      <td>2</td>\n",
       "      <td>Mario Kart Wii</td>\n",
       "      <td>Wii</td>\n",
       "      <td>2008.0</td>\n",
       "      <td>Racing</td>\n",
       "      <td>15.68</td>\n",
       "      <td>12.76</td>\n",
       "      <td>3.79</td>\n",
       "      <td>3.29</td>\n",
       "      <td>82.0</td>\n",
       "      <td>8.3</td>\n",
       "      <td>E</td>\n",
       "    </tr>\n",
       "    <tr>\n",
       "      <td>3</td>\n",
       "      <td>Wii Sports Resort</td>\n",
       "      <td>Wii</td>\n",
       "      <td>2009.0</td>\n",
       "      <td>Sports</td>\n",
       "      <td>15.61</td>\n",
       "      <td>10.93</td>\n",
       "      <td>3.28</td>\n",
       "      <td>2.95</td>\n",
       "      <td>80.0</td>\n",
       "      <td>8</td>\n",
       "      <td>E</td>\n",
       "    </tr>\n",
       "    <tr>\n",
       "      <td>4</td>\n",
       "      <td>Pokemon Red/Pokemon Blue</td>\n",
       "      <td>GB</td>\n",
       "      <td>1996.0</td>\n",
       "      <td>Role-Playing</td>\n",
       "      <td>11.27</td>\n",
       "      <td>8.89</td>\n",
       "      <td>10.22</td>\n",
       "      <td>1.00</td>\n",
       "      <td>NaN</td>\n",
       "      <td>NaN</td>\n",
       "      <td>NaN</td>\n",
       "    </tr>\n",
       "  </tbody>\n",
       "</table>\n",
       "</div>"
      ],
      "text/plain": [
       "                       Name Platform  Year_of_Release         Genre  NA_sales  \\\n",
       "0                Wii Sports      Wii           2006.0        Sports     41.36   \n",
       "1         Super Mario Bros.      NES           1985.0      Platform     29.08   \n",
       "2            Mario Kart Wii      Wii           2008.0        Racing     15.68   \n",
       "3         Wii Sports Resort      Wii           2009.0        Sports     15.61   \n",
       "4  Pokemon Red/Pokemon Blue       GB           1996.0  Role-Playing     11.27   \n",
       "\n",
       "   EU_sales  JP_sales  Other_sales  Critic_Score User_Score Rating  \n",
       "0     28.96      3.77         8.45          76.0          8      E  \n",
       "1      3.58      6.81         0.77           NaN        NaN    NaN  \n",
       "2     12.76      3.79         3.29          82.0        8.3      E  \n",
       "3     10.93      3.28         2.95          80.0          8      E  \n",
       "4      8.89     10.22         1.00           NaN        NaN    NaN  "
      ]
     },
     "execution_count": 3,
     "metadata": {},
     "output_type": "execute_result"
    }
   ],
   "source": [
    "#df = pd.read_csv('games.csv')\n",
    "df.head()"
   ]
  },
  {
   "cell_type": "markdown",
   "metadata": {},
   "source": [
    "Посмотрим общую информацию о ДатаФрейме"
   ]
  },
  {
   "cell_type": "code",
   "execution_count": 4,
   "metadata": {},
   "outputs": [
    {
     "name": "stdout",
     "output_type": "stream",
     "text": [
      "<class 'pandas.core.frame.DataFrame'>\n",
      "RangeIndex: 16715 entries, 0 to 16714\n",
      "Data columns (total 11 columns):\n",
      "Name               16713 non-null object\n",
      "Platform           16715 non-null object\n",
      "Year_of_Release    16446 non-null float64\n",
      "Genre              16713 non-null object\n",
      "NA_sales           16715 non-null float64\n",
      "EU_sales           16715 non-null float64\n",
      "JP_sales           16715 non-null float64\n",
      "Other_sales        16715 non-null float64\n",
      "Critic_Score       8137 non-null float64\n",
      "User_Score         10014 non-null object\n",
      "Rating             9949 non-null object\n",
      "dtypes: float64(6), object(5)\n",
      "memory usage: 1.4+ MB\n"
     ]
    }
   ],
   "source": [
    "df.info()"
   ]
  },
  {
   "cell_type": "markdown",
   "metadata": {},
   "source": [
    "Посмотрим кол-во пропусков в столбцах"
   ]
  },
  {
   "cell_type": "code",
   "execution_count": 5,
   "metadata": {},
   "outputs": [
    {
     "data": {
      "text/plain": [
       "Name                  2\n",
       "Platform              0\n",
       "Year_of_Release     269\n",
       "Genre                 2\n",
       "NA_sales              0\n",
       "EU_sales              0\n",
       "JP_sales              0\n",
       "Other_sales           0\n",
       "Critic_Score       8578\n",
       "User_Score         6701\n",
       "Rating             6766\n",
       "dtype: int64"
      ]
     },
     "execution_count": 5,
     "metadata": {},
     "output_type": "execute_result"
    }
   ],
   "source": [
    "df.isna().sum()"
   ]
  },
  {
   "cell_type": "markdown",
   "metadata": {},
   "source": [
    "Посмотрим есть ли явные дубликаты а столбцах"
   ]
  },
  {
   "cell_type": "code",
   "execution_count": 6,
   "metadata": {},
   "outputs": [
    {
     "data": {
      "text/plain": [
       "0"
      ]
     },
     "execution_count": 6,
     "metadata": {},
     "output_type": "execute_result"
    }
   ],
   "source": [
    "df.duplicated().sum()"
   ]
  },
  {
   "cell_type": "markdown",
   "metadata": {},
   "source": [
    "Посмотрим статистические показатели таблицы"
   ]
  },
  {
   "cell_type": "code",
   "execution_count": 7,
   "metadata": {},
   "outputs": [
    {
     "data": {
      "text/html": [
       "<div>\n",
       "<style scoped>\n",
       "    .dataframe tbody tr th:only-of-type {\n",
       "        vertical-align: middle;\n",
       "    }\n",
       "\n",
       "    .dataframe tbody tr th {\n",
       "        vertical-align: top;\n",
       "    }\n",
       "\n",
       "    .dataframe thead th {\n",
       "        text-align: right;\n",
       "    }\n",
       "</style>\n",
       "<table border=\"1\" class=\"dataframe\">\n",
       "  <thead>\n",
       "    <tr style=\"text-align: right;\">\n",
       "      <th></th>\n",
       "      <th>count</th>\n",
       "      <th>mean</th>\n",
       "      <th>std</th>\n",
       "      <th>min</th>\n",
       "      <th>25%</th>\n",
       "      <th>50%</th>\n",
       "      <th>75%</th>\n",
       "      <th>max</th>\n",
       "    </tr>\n",
       "  </thead>\n",
       "  <tbody>\n",
       "    <tr>\n",
       "      <td>Year_of_Release</td>\n",
       "      <td>16446.0</td>\n",
       "      <td>2006.484616</td>\n",
       "      <td>5.877050</td>\n",
       "      <td>1980.0</td>\n",
       "      <td>2003.0</td>\n",
       "      <td>2007.00</td>\n",
       "      <td>2010.00</td>\n",
       "      <td>2016.00</td>\n",
       "    </tr>\n",
       "    <tr>\n",
       "      <td>NA_sales</td>\n",
       "      <td>16715.0</td>\n",
       "      <td>0.263377</td>\n",
       "      <td>0.813604</td>\n",
       "      <td>0.0</td>\n",
       "      <td>0.0</td>\n",
       "      <td>0.08</td>\n",
       "      <td>0.24</td>\n",
       "      <td>41.36</td>\n",
       "    </tr>\n",
       "    <tr>\n",
       "      <td>EU_sales</td>\n",
       "      <td>16715.0</td>\n",
       "      <td>0.145060</td>\n",
       "      <td>0.503339</td>\n",
       "      <td>0.0</td>\n",
       "      <td>0.0</td>\n",
       "      <td>0.02</td>\n",
       "      <td>0.11</td>\n",
       "      <td>28.96</td>\n",
       "    </tr>\n",
       "    <tr>\n",
       "      <td>JP_sales</td>\n",
       "      <td>16715.0</td>\n",
       "      <td>0.077617</td>\n",
       "      <td>0.308853</td>\n",
       "      <td>0.0</td>\n",
       "      <td>0.0</td>\n",
       "      <td>0.00</td>\n",
       "      <td>0.04</td>\n",
       "      <td>10.22</td>\n",
       "    </tr>\n",
       "    <tr>\n",
       "      <td>Other_sales</td>\n",
       "      <td>16715.0</td>\n",
       "      <td>0.047342</td>\n",
       "      <td>0.186731</td>\n",
       "      <td>0.0</td>\n",
       "      <td>0.0</td>\n",
       "      <td>0.01</td>\n",
       "      <td>0.03</td>\n",
       "      <td>10.57</td>\n",
       "    </tr>\n",
       "    <tr>\n",
       "      <td>Critic_Score</td>\n",
       "      <td>8137.0</td>\n",
       "      <td>68.967679</td>\n",
       "      <td>13.938165</td>\n",
       "      <td>13.0</td>\n",
       "      <td>60.0</td>\n",
       "      <td>71.00</td>\n",
       "      <td>79.00</td>\n",
       "      <td>98.00</td>\n",
       "    </tr>\n",
       "  </tbody>\n",
       "</table>\n",
       "</div>"
      ],
      "text/plain": [
       "                   count         mean        std     min     25%      50%  \\\n",
       "Year_of_Release  16446.0  2006.484616   5.877050  1980.0  2003.0  2007.00   \n",
       "NA_sales         16715.0     0.263377   0.813604     0.0     0.0     0.08   \n",
       "EU_sales         16715.0     0.145060   0.503339     0.0     0.0     0.02   \n",
       "JP_sales         16715.0     0.077617   0.308853     0.0     0.0     0.00   \n",
       "Other_sales      16715.0     0.047342   0.186731     0.0     0.0     0.01   \n",
       "Critic_Score      8137.0    68.967679  13.938165    13.0    60.0    71.00   \n",
       "\n",
       "                     75%      max  \n",
       "Year_of_Release  2010.00  2016.00  \n",
       "NA_sales            0.24    41.36  \n",
       "EU_sales            0.11    28.96  \n",
       "JP_sales            0.04    10.22  \n",
       "Other_sales         0.03    10.57  \n",
       "Critic_Score       79.00    98.00  "
      ]
     },
     "execution_count": 7,
     "metadata": {},
     "output_type": "execute_result"
    }
   ],
   "source": [
    "df.describe().T"
   ]
  },
  {
   "cell_type": "markdown",
   "metadata": {},
   "source": [
    "Посмотрим стиль написания назаваний столбцов"
   ]
  },
  {
   "cell_type": "code",
   "execution_count": 8,
   "metadata": {},
   "outputs": [
    {
     "data": {
      "text/plain": [
       "Index(['Name', 'Platform', 'Year_of_Release', 'Genre', 'NA_sales', 'EU_sales',\n",
       "       'JP_sales', 'Other_sales', 'Critic_Score', 'User_Score', 'Rating'],\n",
       "      dtype='object')"
      ]
     },
     "execution_count": 8,
     "metadata": {},
     "output_type": "execute_result"
    }
   ],
   "source": [
    "df.columns"
   ]
  },
  {
   "cell_type": "markdown",
   "metadata": {},
   "source": [
    "### Выводы по разделу"
   ]
  },
  {
   "cell_type": "markdown",
   "metadata": {},
   "source": [
    "- ДатаФрейм описывет данные о продажах игр, их характеристиках и рейтинге;\n",
    "- В исходном ДатаФрейме 11 столбцов и 16715 строк;\n",
    "- Пропуски есть в столбцах Year_of_Release - 269 пропусков, Name - 2 пропуска, Genre - 2 пропуска, Critic_Score - 8578 пропусков, User_Score - 6701 пропусков, Rating - 6766 пропусков;\n",
    "- Явных дубликатов нет;\n",
    "- Типы данных в таблицах float64 и object - в ходе предобработки необходимо привести даннык к нужным типам;\n",
    "- Стилистка наименования столбцов не корректна - необходимо все привести к нижнему регистру;\n",
    "- Из первичного анализа статистических значений датафрейма, можно сказать, что продажа игр в Северной Америке идет намного лучше, чем в Европе и Японии"
   ]
  },
  {
   "cell_type": "markdown",
   "metadata": {},
   "source": [
    "## Предообработка данных"
   ]
  },
  {
   "cell_type": "markdown",
   "metadata": {},
   "source": [
    "### Нижний регистр"
   ]
  },
  {
   "cell_type": "markdown",
   "metadata": {},
   "source": [
    "Приведем наименование всех столбцов к нижнему регистру"
   ]
  },
  {
   "cell_type": "code",
   "execution_count": 9,
   "metadata": {
    "scrolled": true
   },
   "outputs": [
    {
     "data": {
      "text/plain": [
       "Index(['name', 'platform', 'year_of_release', 'genre', 'na_sales', 'eu_sales',\n",
       "       'jp_sales', 'other_sales', 'critic_score', 'user_score', 'rating'],\n",
       "      dtype='object')"
      ]
     },
     "execution_count": 9,
     "metadata": {},
     "output_type": "execute_result"
    }
   ],
   "source": [
    "df.columns = df.columns.str.lower()\n",
    "df.columns"
   ]
  },
  {
   "cell_type": "markdown",
   "metadata": {},
   "source": [
    "### Анализ пропусков и их обработка"
   ]
  },
  {
   "cell_type": "markdown",
   "metadata": {},
   "source": [
    "В ходе обзора данных было обнаружены пропуски в столбцах year_of_release - 269 пропуска, genre - 2 пропуска, name - 2 пропуска, critic_score - 8578 пропусков, user_score - 6701 пропуск, rating - 6766 пропусков."
   ]
  },
  {
   "cell_type": "code",
   "execution_count": 10,
   "metadata": {},
   "outputs": [
    {
     "data": {
      "text/plain": [
       "name                0.011965\n",
       "platform            0.000000\n",
       "year_of_release     1.609333\n",
       "genre               0.011965\n",
       "na_sales            0.000000\n",
       "eu_sales            0.000000\n",
       "jp_sales            0.000000\n",
       "other_sales         0.000000\n",
       "critic_score       51.319174\n",
       "user_score         40.089740\n",
       "rating             40.478612\n",
       "dtype: float64"
      ]
     },
     "execution_count": 10,
     "metadata": {},
     "output_type": "execute_result"
    }
   ],
   "source": [
    "df.isnull().sum()/len(df)*100"
   ]
  },
  {
   "cell_type": "markdown",
   "metadata": {},
   "source": [
    "Видим, что\n",
    "\n",
    "- в столбце name - 0.01 % пропусков, слишком мало - можно удалить.\n",
    "- в столбце year_of_release - 1,6 % пропусков - тоже мало - можно удалить или оставить как есть;\n",
    "- в столбце genre - 0.01% пропусков - слишком мало - можно удалить;\n",
    "- в столбце critic_score - 51 % процент - очень много пропусков - необходимо обработать;\n",
    "- в столбце user_score - 40.1 % пропусков - много пропусков - необходимо их обработать;\n",
    "- в столбце rating - 40.5 % пропусков - много пропусков - необходимо их обработать"
   ]
  },
  {
   "cell_type": "markdown",
   "metadata": {},
   "source": [
    "В столбце name видимо пропущен несколько строк, возможно произошла ошика при выгрузке данных, в столбце genre столько же пропусков, как и в name, видимо это пропуски в строках, где нет названия игры."
   ]
  },
  {
   "cell_type": "markdown",
   "metadata": {},
   "source": [
    "Посмотрим, действительно ли, в одних и тех же строках пропуски, а потом удалим их"
   ]
  },
  {
   "cell_type": "code",
   "execution_count": 11,
   "metadata": {},
   "outputs": [
    {
     "data": {
      "text/html": [
       "<div>\n",
       "<style scoped>\n",
       "    .dataframe tbody tr th:only-of-type {\n",
       "        vertical-align: middle;\n",
       "    }\n",
       "\n",
       "    .dataframe tbody tr th {\n",
       "        vertical-align: top;\n",
       "    }\n",
       "\n",
       "    .dataframe thead th {\n",
       "        text-align: right;\n",
       "    }\n",
       "</style>\n",
       "<table border=\"1\" class=\"dataframe\">\n",
       "  <thead>\n",
       "    <tr style=\"text-align: right;\">\n",
       "      <th></th>\n",
       "      <th>name</th>\n",
       "      <th>platform</th>\n",
       "      <th>year_of_release</th>\n",
       "      <th>genre</th>\n",
       "      <th>na_sales</th>\n",
       "      <th>eu_sales</th>\n",
       "      <th>jp_sales</th>\n",
       "      <th>other_sales</th>\n",
       "      <th>critic_score</th>\n",
       "      <th>user_score</th>\n",
       "      <th>rating</th>\n",
       "    </tr>\n",
       "  </thead>\n",
       "  <tbody>\n",
       "    <tr>\n",
       "      <td>659</td>\n",
       "      <td>NaN</td>\n",
       "      <td>GEN</td>\n",
       "      <td>1993.0</td>\n",
       "      <td>NaN</td>\n",
       "      <td>1.78</td>\n",
       "      <td>0.53</td>\n",
       "      <td>0.00</td>\n",
       "      <td>0.08</td>\n",
       "      <td>NaN</td>\n",
       "      <td>NaN</td>\n",
       "      <td>NaN</td>\n",
       "    </tr>\n",
       "    <tr>\n",
       "      <td>14244</td>\n",
       "      <td>NaN</td>\n",
       "      <td>GEN</td>\n",
       "      <td>1993.0</td>\n",
       "      <td>NaN</td>\n",
       "      <td>0.00</td>\n",
       "      <td>0.00</td>\n",
       "      <td>0.03</td>\n",
       "      <td>0.00</td>\n",
       "      <td>NaN</td>\n",
       "      <td>NaN</td>\n",
       "      <td>NaN</td>\n",
       "    </tr>\n",
       "  </tbody>\n",
       "</table>\n",
       "</div>"
      ],
      "text/plain": [
       "      name platform  year_of_release genre  na_sales  eu_sales  jp_sales  \\\n",
       "659    NaN      GEN           1993.0   NaN      1.78      0.53      0.00   \n",
       "14244  NaN      GEN           1993.0   NaN      0.00      0.00      0.03   \n",
       "\n",
       "       other_sales  critic_score user_score rating  \n",
       "659           0.08           NaN        NaN    NaN  \n",
       "14244         0.00           NaN        NaN    NaN  "
      ]
     },
     "execution_count": 11,
     "metadata": {},
     "output_type": "execute_result"
    }
   ],
   "source": [
    "df[df['name'].isna()]"
   ]
  },
  {
   "cell_type": "code",
   "execution_count": 12,
   "metadata": {},
   "outputs": [
    {
     "name": "stdout",
     "output_type": "stream",
     "text": [
      "Пропуски после: 0\n"
     ]
    }
   ],
   "source": [
    "df.dropna(subset=['name'], inplace=True)\n",
    "print('Пропуски после:', df['name'].isna().sum())"
   ]
  },
  {
   "cell_type": "code",
   "execution_count": 13,
   "metadata": {},
   "outputs": [
    {
     "name": "stdout",
     "output_type": "stream",
     "text": [
      "Пропуски после: 0\n"
     ]
    }
   ],
   "source": [
    "df.dropna(subset=['genre'], inplace=True)\n",
    "print('Пропуски после:', df['genre'].isna().sum())"
   ]
  },
  {
   "cell_type": "markdown",
   "metadata": {},
   "source": [
    "- В столбце critic_score - 51% пропуск, из первичного анализа таблицы видно, что игры разного года выпуска, возможно, пропуски имеют те игры, которые были выпущены давно, и в то время критики не производили оценку, либо еще не дошла очередь для их оценки. Заполним пропуски маркером -101. Заменять медианным и средним значением в данном случае очень рискованно, так как может поплыть общая картина распределения данных.\n",
    "- В столбце user_score - 40.1 % пропуск. Здесь ситуация аналогичная с оценками критиков. Причина пропусков такая же. Также заменим пропуски на специфичный маркер -1, который мы будем учитывать далее в анализе данных.\n",
    "- В столбце rating - 40.5% пропусков, в этом столбце описывается рейтинг от организации ESRB. Заметим, что организация была основана в 1994, а игры многие были созданы раньше - поэтому и рейтинга и нет. Также возможно данный рейтинг был присовен не всем играм. Так как данные категориальные, а не количественные, то заменим пропуски маркером \"NO\" и будем это учитывать далее в анализе данных."
   ]
  },
  {
   "cell_type": "raw",
   "metadata": {},
   "source": [
    "Выполним замены."
   ]
  },
  {
   "cell_type": "code",
   "execution_count": 14,
   "metadata": {},
   "outputs": [
    {
     "name": "stdout",
     "output_type": "stream",
     "text": [
      "Пропуски после: 0\n"
     ]
    }
   ],
   "source": [
    "df['critic_score'] = df['critic_score'].fillna(101)\n",
    "print('Пропуски после:', df['critic_score'].isna().sum())"
   ]
  },
  {
   "cell_type": "code",
   "execution_count": 15,
   "metadata": {},
   "outputs": [
    {
     "name": "stdout",
     "output_type": "stream",
     "text": [
      "Пропуски после: 0\n"
     ]
    }
   ],
   "source": [
    "df['user_score'] = df['user_score'].fillna(-1)\n",
    "print('Пропуски после:', df['user_score'].isna().sum())"
   ]
  },
  {
   "cell_type": "code",
   "execution_count": 16,
   "metadata": {},
   "outputs": [
    {
     "name": "stdout",
     "output_type": "stream",
     "text": [
      "Пропуски после: 0\n"
     ]
    }
   ],
   "source": [
    "df['rating'] = df['rating'].fillna('NO')\n",
    "print('Пропуски после:', df['rating'].isna().sum())"
   ]
  },
  {
   "cell_type": "markdown",
   "metadata": {},
   "source": [
    "В столбце year_of_release - 1,6 % пропусков. Пропуски скорее всего связаны с ошибкой при выгрузке, либо ошибкой при заполнении таблицы. Средним тут нецелесообразно заменять, так как год выпуска может быть совершенно разным и среднее значение здесь будет неверно, поэтому тоже заменим маркером 999"
   ]
  },
  {
   "cell_type": "code",
   "execution_count": 17,
   "metadata": {},
   "outputs": [
    {
     "name": "stdout",
     "output_type": "stream",
     "text": [
      "Пропуски после: 0\n"
     ]
    }
   ],
   "source": [
    "df['year_of_release'] = df['year_of_release'].fillna(999)\n",
    "print('Пропуски после:', df['year_of_release'].isna().sum())"
   ]
  },
  {
   "cell_type": "markdown",
   "metadata": {},
   "source": [
    "### Выяаление неявных дубликатов"
   ]
  },
  {
   "cell_type": "code",
   "execution_count": 18,
   "metadata": {},
   "outputs": [
    {
     "data": {
      "text/plain": [
       "array([2006., 1985., 2008., 2009., 1996., 1989., 1984., 2005., 1999.,\n",
       "       2007., 2010., 2013., 2004., 1990., 1988., 2002., 2001., 2011.,\n",
       "       1998., 2015., 2012., 2014., 1992., 1997., 1993., 1994., 1982.,\n",
       "       2016., 2003., 1986., 2000.,  999., 1995., 1991., 1981., 1987.,\n",
       "       1980., 1983.])"
      ]
     },
     "execution_count": 18,
     "metadata": {},
     "output_type": "execute_result"
    }
   ],
   "source": [
    "df['year_of_release'].unique()"
   ]
  },
  {
   "cell_type": "code",
   "execution_count": 19,
   "metadata": {},
   "outputs": [
    {
     "data": {
      "text/plain": [
       "array([ 76., 101.,  82.,  80.,  89.,  58.,  87.,  91.,  61.,  97.,  95.,\n",
       "        77.,  88.,  83.,  94.,  93.,  85.,  86.,  98.,  96.,  90.,  84.,\n",
       "        73.,  74.,  78.,  92.,  71.,  72.,  68.,  62.,  49.,  67.,  81.,\n",
       "        66.,  56.,  79.,  70.,  59.,  64.,  75.,  60.,  63.,  69.,  50.,\n",
       "        25.,  42.,  44.,  55.,  48.,  57.,  29.,  47.,  65.,  54.,  20.,\n",
       "        53.,  37.,  38.,  33.,  52.,  30.,  32.,  43.,  45.,  51.,  40.,\n",
       "        46.,  39.,  34.,  35.,  41.,  36.,  28.,  31.,  27.,  26.,  19.,\n",
       "        23.,  24.,  21.,  17.,  22.,  13.])"
      ]
     },
     "execution_count": 19,
     "metadata": {},
     "output_type": "execute_result"
    }
   ],
   "source": [
    "df['critic_score'].unique()"
   ]
  },
  {
   "cell_type": "code",
   "execution_count": 20,
   "metadata": {},
   "outputs": [
    {
     "data": {
      "text/plain": [
       "array(['8', -1, '8.3', '8.5', '6.6', '8.4', '8.6', '7.7', '6.3', '7.4',\n",
       "       '8.2', '9', '7.9', '8.1', '8.7', '7.1', '3.4', '5.3', '4.8', '3.2',\n",
       "       '8.9', '6.4', '7.8', '7.5', '2.6', '7.2', '9.2', '7', '7.3', '4.3',\n",
       "       '7.6', '5.7', '5', '9.1', '6.5', 'tbd', '8.8', '6.9', '9.4', '6.8',\n",
       "       '6.1', '6.7', '5.4', '4', '4.9', '4.5', '9.3', '6.2', '4.2', '6',\n",
       "       '3.7', '4.1', '5.8', '5.6', '5.5', '4.4', '4.6', '5.9', '3.9',\n",
       "       '3.1', '2.9', '5.2', '3.3', '4.7', '5.1', '3.5', '2.5', '1.9', '3',\n",
       "       '2.7', '2.2', '2', '9.5', '2.1', '3.6', '2.8', '1.8', '3.8', '0',\n",
       "       '1.6', '9.6', '2.4', '1.7', '1.1', '0.3', '1.5', '0.7', '1.2',\n",
       "       '2.3', '0.5', '1.3', '0.2', '0.6', '1.4', '0.9', '1', '9.7'],\n",
       "      dtype=object)"
      ]
     },
     "execution_count": 20,
     "metadata": {},
     "output_type": "execute_result"
    }
   ],
   "source": [
    "df['user_score'].unique()"
   ]
  },
  {
   "cell_type": "markdown",
   "metadata": {},
   "source": [
    "Видим в данных столбца user_score есть значение tbd, данная абриавиатура означает to be determined, т.е будет определено, то есть, для этих наблюдений оценка пользователей еще не определена. Заменим эти значения на маркером -1, как и все пропуски, которые мы заполнили ранее."
   ]
  },
  {
   "cell_type": "code",
   "execution_count": 21,
   "metadata": {},
   "outputs": [
    {
     "data": {
      "text/plain": [
       "array(['8', -1, '8.3', '8.5', '6.6', '8.4', '8.6', '7.7', '6.3', '7.4',\n",
       "       '8.2', '9', '7.9', '8.1', '8.7', '7.1', '3.4', '5.3', '4.8', '3.2',\n",
       "       '8.9', '6.4', '7.8', '7.5', '2.6', '7.2', '9.2', '7', '7.3', '4.3',\n",
       "       '7.6', '5.7', '5', '9.1', '6.5', '8.8', '6.9', '9.4', '6.8', '6.1',\n",
       "       '6.7', '5.4', '4', '4.9', '4.5', '9.3', '6.2', '4.2', '6', '3.7',\n",
       "       '4.1', '5.8', '5.6', '5.5', '4.4', '4.6', '5.9', '3.9', '3.1',\n",
       "       '2.9', '5.2', '3.3', '4.7', '5.1', '3.5', '2.5', '1.9', '3', '2.7',\n",
       "       '2.2', '2', '9.5', '2.1', '3.6', '2.8', '1.8', '3.8', '0', '1.6',\n",
       "       '9.6', '2.4', '1.7', '1.1', '0.3', '1.5', '0.7', '1.2', '2.3',\n",
       "       '0.5', '1.3', '0.2', '0.6', '1.4', '0.9', '1', '9.7'], dtype=object)"
      ]
     },
     "execution_count": 21,
     "metadata": {},
     "output_type": "execute_result"
    }
   ],
   "source": [
    "df['user_score'] = df['user_score'].replace('tbd', -1)\n",
    "df['user_score'].unique()"
   ]
  },
  {
   "cell_type": "code",
   "execution_count": 22,
   "metadata": {},
   "outputs": [
    {
     "data": {
      "text/plain": [
       "array(['E', 'NO', 'M', 'T', 'E10+', 'K-A', 'AO', 'EC', 'RP'], dtype=object)"
      ]
     },
     "execution_count": 22,
     "metadata": {},
     "output_type": "execute_result"
    }
   ],
   "source": [
    "df['rating'].unique()"
   ]
  },
  {
   "cell_type": "markdown",
   "metadata": {},
   "source": [
    "Изучив градации данного рейтинга, можно заменить К-А на Е, так как К-А устаревшее название, теперь используют Е."
   ]
  },
  {
   "cell_type": "code",
   "execution_count": 23,
   "metadata": {},
   "outputs": [
    {
     "data": {
      "text/plain": [
       "array(['E', 'NO', 'M', 'T', 'E10+', 'AO', 'EC', 'RP'], dtype=object)"
      ]
     },
     "execution_count": 23,
     "metadata": {},
     "output_type": "execute_result"
    }
   ],
   "source": [
    "df['rating'] = df['rating'].replace('K-A', 'E')\n",
    "df['rating'].unique()"
   ]
  },
  {
   "cell_type": "markdown",
   "metadata": {},
   "source": [
    "Чтобы избежать дублирование данных, приведём строковые значения в столбцах с названием, с плфтформой и жанром к нижнему регистру."
   ]
  },
  {
   "cell_type": "code",
   "execution_count": 24,
   "metadata": {},
   "outputs": [],
   "source": [
    "for col in ['name', 'platform', 'genre']:\n",
    "    df.loc[:, col] = df[col].str.lower()"
   ]
  },
  {
   "cell_type": "markdown",
   "metadata": {},
   "source": [
    "### Замена типов данных"
   ]
  },
  {
   "cell_type": "markdown",
   "metadata": {},
   "source": [
    "Выполним замену типа данных в столбцах year_of_releas приведем к целочисленному типу, critic_score приведем к целочисленному типу, а в user_score данные приедем к вещественному типу"
   ]
  },
  {
   "cell_type": "code",
   "execution_count": 25,
   "metadata": {},
   "outputs": [],
   "source": [
    "df['year_of_releas'] = df['year_of_release'].astype('int')\n",
    "df['critic_score'] = df['critic_score'].astype('int')\n",
    "df['user_score'] = df['user_score'].astype('float')"
   ]
  },
  {
   "cell_type": "markdown",
   "metadata": {},
   "source": [
    "### Определение суммарных продаж во всех регионах"
   ]
  },
  {
   "cell_type": "code",
   "execution_count": 26,
   "metadata": {},
   "outputs": [],
   "source": [
    "df['total_sales'] = df['na_sales'] + df['eu_sales'] + df['jp_sales'] + df['other_sales']"
   ]
  },
  {
   "cell_type": "code",
   "execution_count": 27,
   "metadata": {},
   "outputs": [
    {
     "name": "stdout",
     "output_type": "stream",
     "text": [
      "<class 'pandas.core.frame.DataFrame'>\n",
      "Int64Index: 16713 entries, 0 to 16714\n",
      "Data columns (total 13 columns):\n",
      "name               16713 non-null object\n",
      "platform           16713 non-null object\n",
      "year_of_release    16713 non-null float64\n",
      "genre              16713 non-null object\n",
      "na_sales           16713 non-null float64\n",
      "eu_sales           16713 non-null float64\n",
      "jp_sales           16713 non-null float64\n",
      "other_sales        16713 non-null float64\n",
      "critic_score       16713 non-null int64\n",
      "user_score         16713 non-null float64\n",
      "rating             16713 non-null object\n",
      "year_of_releas     16713 non-null int64\n",
      "total_sales        16713 non-null float64\n",
      "dtypes: float64(7), int64(2), object(4)\n",
      "memory usage: 1.8+ MB\n"
     ]
    }
   ],
   "source": [
    "df.info()"
   ]
  },
  {
   "cell_type": "markdown",
   "metadata": {},
   "source": [
    "### Выводы к разделу"
   ]
  },
  {
   "cell_type": "markdown",
   "metadata": {},
   "source": [
    "Было выполнено следующее:\n",
    "\n",
    "- Название столбцов было приведено к нижнему регистру.\n",
    "- Обработаны пропуски в строках.\n",
    "- Удалены строки без нужных данных.\n",
    "- Обработка возможных дубликатов в данных.\n",
    "- Добавлен столбец с суммарными продажами."
   ]
  },
  {
   "cell_type": "markdown",
   "metadata": {},
   "source": [
    "## Исследовательский анализ данных"
   ]
  },
  {
   "cell_type": "markdown",
   "metadata": {},
   "source": [
    "### Сколько игр выпукалось в разные годы. Важны ли данные за все периоды?"
   ]
  },
  {
   "cell_type": "code",
   "execution_count": 28,
   "metadata": {},
   "outputs": [
    {
     "data": {
      "text/html": [
       "<div>\n",
       "<style scoped>\n",
       "    .dataframe tbody tr th:only-of-type {\n",
       "        vertical-align: middle;\n",
       "    }\n",
       "\n",
       "    .dataframe tbody tr th {\n",
       "        vertical-align: top;\n",
       "    }\n",
       "\n",
       "    .dataframe thead th {\n",
       "        text-align: right;\n",
       "    }\n",
       "</style>\n",
       "<table border=\"1\" class=\"dataframe\">\n",
       "  <thead>\n",
       "    <tr style=\"text-align: right;\">\n",
       "      <th></th>\n",
       "      <th>year_of_release</th>\n",
       "      <th>name</th>\n",
       "    </tr>\n",
       "  </thead>\n",
       "  <tbody>\n",
       "    <tr>\n",
       "      <td>0</td>\n",
       "      <td>999.0</td>\n",
       "      <td>269</td>\n",
       "    </tr>\n",
       "    <tr>\n",
       "      <td>1</td>\n",
       "      <td>1980.0</td>\n",
       "      <td>9</td>\n",
       "    </tr>\n",
       "    <tr>\n",
       "      <td>2</td>\n",
       "      <td>1981.0</td>\n",
       "      <td>46</td>\n",
       "    </tr>\n",
       "    <tr>\n",
       "      <td>3</td>\n",
       "      <td>1982.0</td>\n",
       "      <td>36</td>\n",
       "    </tr>\n",
       "    <tr>\n",
       "      <td>4</td>\n",
       "      <td>1983.0</td>\n",
       "      <td>17</td>\n",
       "    </tr>\n",
       "    <tr>\n",
       "      <td>5</td>\n",
       "      <td>1984.0</td>\n",
       "      <td>14</td>\n",
       "    </tr>\n",
       "    <tr>\n",
       "      <td>6</td>\n",
       "      <td>1985.0</td>\n",
       "      <td>14</td>\n",
       "    </tr>\n",
       "    <tr>\n",
       "      <td>7</td>\n",
       "      <td>1986.0</td>\n",
       "      <td>21</td>\n",
       "    </tr>\n",
       "    <tr>\n",
       "      <td>8</td>\n",
       "      <td>1987.0</td>\n",
       "      <td>16</td>\n",
       "    </tr>\n",
       "    <tr>\n",
       "      <td>9</td>\n",
       "      <td>1988.0</td>\n",
       "      <td>15</td>\n",
       "    </tr>\n",
       "    <tr>\n",
       "      <td>10</td>\n",
       "      <td>1989.0</td>\n",
       "      <td>17</td>\n",
       "    </tr>\n",
       "    <tr>\n",
       "      <td>11</td>\n",
       "      <td>1990.0</td>\n",
       "      <td>16</td>\n",
       "    </tr>\n",
       "    <tr>\n",
       "      <td>12</td>\n",
       "      <td>1991.0</td>\n",
       "      <td>41</td>\n",
       "    </tr>\n",
       "    <tr>\n",
       "      <td>13</td>\n",
       "      <td>1992.0</td>\n",
       "      <td>43</td>\n",
       "    </tr>\n",
       "    <tr>\n",
       "      <td>14</td>\n",
       "      <td>1993.0</td>\n",
       "      <td>60</td>\n",
       "    </tr>\n",
       "    <tr>\n",
       "      <td>15</td>\n",
       "      <td>1994.0</td>\n",
       "      <td>121</td>\n",
       "    </tr>\n",
       "    <tr>\n",
       "      <td>16</td>\n",
       "      <td>1995.0</td>\n",
       "      <td>219</td>\n",
       "    </tr>\n",
       "    <tr>\n",
       "      <td>17</td>\n",
       "      <td>1996.0</td>\n",
       "      <td>263</td>\n",
       "    </tr>\n",
       "    <tr>\n",
       "      <td>18</td>\n",
       "      <td>1997.0</td>\n",
       "      <td>289</td>\n",
       "    </tr>\n",
       "    <tr>\n",
       "      <td>19</td>\n",
       "      <td>1998.0</td>\n",
       "      <td>379</td>\n",
       "    </tr>\n",
       "    <tr>\n",
       "      <td>20</td>\n",
       "      <td>1999.0</td>\n",
       "      <td>338</td>\n",
       "    </tr>\n",
       "    <tr>\n",
       "      <td>21</td>\n",
       "      <td>2000.0</td>\n",
       "      <td>350</td>\n",
       "    </tr>\n",
       "    <tr>\n",
       "      <td>22</td>\n",
       "      <td>2001.0</td>\n",
       "      <td>482</td>\n",
       "    </tr>\n",
       "    <tr>\n",
       "      <td>23</td>\n",
       "      <td>2002.0</td>\n",
       "      <td>829</td>\n",
       "    </tr>\n",
       "    <tr>\n",
       "      <td>24</td>\n",
       "      <td>2003.0</td>\n",
       "      <td>775</td>\n",
       "    </tr>\n",
       "    <tr>\n",
       "      <td>25</td>\n",
       "      <td>2004.0</td>\n",
       "      <td>762</td>\n",
       "    </tr>\n",
       "    <tr>\n",
       "      <td>26</td>\n",
       "      <td>2005.0</td>\n",
       "      <td>939</td>\n",
       "    </tr>\n",
       "    <tr>\n",
       "      <td>27</td>\n",
       "      <td>2006.0</td>\n",
       "      <td>1006</td>\n",
       "    </tr>\n",
       "    <tr>\n",
       "      <td>28</td>\n",
       "      <td>2007.0</td>\n",
       "      <td>1197</td>\n",
       "    </tr>\n",
       "    <tr>\n",
       "      <td>29</td>\n",
       "      <td>2008.0</td>\n",
       "      <td>1427</td>\n",
       "    </tr>\n",
       "    <tr>\n",
       "      <td>30</td>\n",
       "      <td>2009.0</td>\n",
       "      <td>1426</td>\n",
       "    </tr>\n",
       "    <tr>\n",
       "      <td>31</td>\n",
       "      <td>2010.0</td>\n",
       "      <td>1255</td>\n",
       "    </tr>\n",
       "    <tr>\n",
       "      <td>32</td>\n",
       "      <td>2011.0</td>\n",
       "      <td>1136</td>\n",
       "    </tr>\n",
       "    <tr>\n",
       "      <td>33</td>\n",
       "      <td>2012.0</td>\n",
       "      <td>653</td>\n",
       "    </tr>\n",
       "    <tr>\n",
       "      <td>34</td>\n",
       "      <td>2013.0</td>\n",
       "      <td>544</td>\n",
       "    </tr>\n",
       "    <tr>\n",
       "      <td>35</td>\n",
       "      <td>2014.0</td>\n",
       "      <td>581</td>\n",
       "    </tr>\n",
       "    <tr>\n",
       "      <td>36</td>\n",
       "      <td>2015.0</td>\n",
       "      <td>606</td>\n",
       "    </tr>\n",
       "    <tr>\n",
       "      <td>37</td>\n",
       "      <td>2016.0</td>\n",
       "      <td>502</td>\n",
       "    </tr>\n",
       "  </tbody>\n",
       "</table>\n",
       "</div>"
      ],
      "text/plain": [
       "    year_of_release  name\n",
       "0             999.0   269\n",
       "1            1980.0     9\n",
       "2            1981.0    46\n",
       "3            1982.0    36\n",
       "4            1983.0    17\n",
       "5            1984.0    14\n",
       "6            1985.0    14\n",
       "7            1986.0    21\n",
       "8            1987.0    16\n",
       "9            1988.0    15\n",
       "10           1989.0    17\n",
       "11           1990.0    16\n",
       "12           1991.0    41\n",
       "13           1992.0    43\n",
       "14           1993.0    60\n",
       "15           1994.0   121\n",
       "16           1995.0   219\n",
       "17           1996.0   263\n",
       "18           1997.0   289\n",
       "19           1998.0   379\n",
       "20           1999.0   338\n",
       "21           2000.0   350\n",
       "22           2001.0   482\n",
       "23           2002.0   829\n",
       "24           2003.0   775\n",
       "25           2004.0   762\n",
       "26           2005.0   939\n",
       "27           2006.0  1006\n",
       "28           2007.0  1197\n",
       "29           2008.0  1427\n",
       "30           2009.0  1426\n",
       "31           2010.0  1255\n",
       "32           2011.0  1136\n",
       "33           2012.0   653\n",
       "34           2013.0   544\n",
       "35           2014.0   581\n",
       "36           2015.0   606\n",
       "37           2016.0   502"
      ]
     },
     "execution_count": 28,
     "metadata": {},
     "output_type": "execute_result"
    }
   ],
   "source": [
    "game_in_year = pd.pivot_table(df, index = 'year_of_release', values = 'name', aggfunc = 'count').reset_index()\n",
    "game_in_year"
   ]
  },
  {
   "cell_type": "code",
   "execution_count": 29,
   "metadata": {},
   "outputs": [
    {
     "data": {
      "image/png": "[encoded data removed]",
      "text/plain": [
       "<Figure size 1080x360 with 1 Axes>"
      ]
     },
     "metadata": {
      "needs_background": "light"
     },
     "output_type": "display_data"
    }
   ],
   "source": [
    "plt.subplots(figsize = (15,5))\n",
    "plt.xticks(rotation=100)\n",
    "plt.title('Распределение количества игр по годам')\n",
    "ax = sns.barplot(x=\"year_of_release\", y=\"name\", data=game_in_year);\n",
    "ax.set(xlabel='Год выпуска', ylabel='Количество выпускаемых игр');"
   ]
  },
  {
   "cell_type": "markdown",
   "metadata": {},
   "source": [
    "Исходя из графика, можно сказать, что в период с 2008-2009 выпускалось больше всего игр(чуть больше 1400), меньше всего в период с 1980 по 1995г. Это связано с тем, что процесс создания игр в это время был достаточно трудоемким и не было соответствующих технологий. Поэтому нам важен перирод начиная с 1995 года, когда происходит скачлк в развитии индустрии. С 2012 года по 2016 распределение выпускаемых игр находится на одном уровне (500-600 игр), можно предположить, что в 2017 году будут похожие значения."
   ]
  },
  {
   "cell_type": "markdown",
   "metadata": {},
   "source": [
    "### Как менялись продажи по платформам. Выбрать платформы с наибольшими суммарными продажами и построить распределение по годам. За какой характерный срок появляются новые и исчезают старые платформы."
   ]
  },
  {
   "cell_type": "code",
   "execution_count": 30,
   "metadata": {},
   "outputs": [
    {
     "data": {
      "text/html": [
       "<div>\n",
       "<style scoped>\n",
       "    .dataframe tbody tr th:only-of-type {\n",
       "        vertical-align: middle;\n",
       "    }\n",
       "\n",
       "    .dataframe tbody tr th {\n",
       "        vertical-align: top;\n",
       "    }\n",
       "\n",
       "    .dataframe thead th {\n",
       "        text-align: right;\n",
       "    }\n",
       "</style>\n",
       "<table border=\"1\" class=\"dataframe\">\n",
       "  <thead>\n",
       "    <tr style=\"text-align: right;\">\n",
       "      <th></th>\n",
       "      <th>platform</th>\n",
       "      <th>total_sales</th>\n",
       "    </tr>\n",
       "  </thead>\n",
       "  <tbody>\n",
       "    <tr>\n",
       "      <td>0</td>\n",
       "      <td>ps2</td>\n",
       "      <td>1255.77</td>\n",
       "    </tr>\n",
       "    <tr>\n",
       "      <td>1</td>\n",
       "      <td>x360</td>\n",
       "      <td>971.42</td>\n",
       "    </tr>\n",
       "    <tr>\n",
       "      <td>2</td>\n",
       "      <td>ps3</td>\n",
       "      <td>939.65</td>\n",
       "    </tr>\n",
       "    <tr>\n",
       "      <td>3</td>\n",
       "      <td>wii</td>\n",
       "      <td>907.51</td>\n",
       "    </tr>\n",
       "    <tr>\n",
       "      <td>4</td>\n",
       "      <td>ds</td>\n",
       "      <td>806.12</td>\n",
       "    </tr>\n",
       "    <tr>\n",
       "      <td>5</td>\n",
       "      <td>ps</td>\n",
       "      <td>730.86</td>\n",
       "    </tr>\n",
       "    <tr>\n",
       "      <td>6</td>\n",
       "      <td>gba</td>\n",
       "      <td>317.85</td>\n",
       "    </tr>\n",
       "    <tr>\n",
       "      <td>7</td>\n",
       "      <td>ps4</td>\n",
       "      <td>314.14</td>\n",
       "    </tr>\n",
       "    <tr>\n",
       "      <td>8</td>\n",
       "      <td>psp</td>\n",
       "      <td>294.05</td>\n",
       "    </tr>\n",
       "    <tr>\n",
       "      <td>9</td>\n",
       "      <td>pc</td>\n",
       "      <td>259.52</td>\n",
       "    </tr>\n",
       "    <tr>\n",
       "      <td>10</td>\n",
       "      <td>3ds</td>\n",
       "      <td>259.00</td>\n",
       "    </tr>\n",
       "    <tr>\n",
       "      <td>11</td>\n",
       "      <td>xb</td>\n",
       "      <td>257.74</td>\n",
       "    </tr>\n",
       "    <tr>\n",
       "      <td>12</td>\n",
       "      <td>gb</td>\n",
       "      <td>255.46</td>\n",
       "    </tr>\n",
       "    <tr>\n",
       "      <td>13</td>\n",
       "      <td>nes</td>\n",
       "      <td>251.05</td>\n",
       "    </tr>\n",
       "    <tr>\n",
       "      <td>14</td>\n",
       "      <td>n64</td>\n",
       "      <td>218.68</td>\n",
       "    </tr>\n",
       "    <tr>\n",
       "      <td>15</td>\n",
       "      <td>snes</td>\n",
       "      <td>200.04</td>\n",
       "    </tr>\n",
       "    <tr>\n",
       "      <td>16</td>\n",
       "      <td>gc</td>\n",
       "      <td>198.93</td>\n",
       "    </tr>\n",
       "    <tr>\n",
       "      <td>17</td>\n",
       "      <td>xone</td>\n",
       "      <td>159.32</td>\n",
       "    </tr>\n",
       "    <tr>\n",
       "      <td>18</td>\n",
       "      <td>2600</td>\n",
       "      <td>96.98</td>\n",
       "    </tr>\n",
       "    <tr>\n",
       "      <td>19</td>\n",
       "      <td>wiiu</td>\n",
       "      <td>82.19</td>\n",
       "    </tr>\n",
       "    <tr>\n",
       "      <td>20</td>\n",
       "      <td>psv</td>\n",
       "      <td>54.07</td>\n",
       "    </tr>\n",
       "    <tr>\n",
       "      <td>21</td>\n",
       "      <td>sat</td>\n",
       "      <td>33.59</td>\n",
       "    </tr>\n",
       "    <tr>\n",
       "      <td>22</td>\n",
       "      <td>gen</td>\n",
       "      <td>28.35</td>\n",
       "    </tr>\n",
       "    <tr>\n",
       "      <td>23</td>\n",
       "      <td>dc</td>\n",
       "      <td>15.95</td>\n",
       "    </tr>\n",
       "    <tr>\n",
       "      <td>24</td>\n",
       "      <td>scd</td>\n",
       "      <td>1.86</td>\n",
       "    </tr>\n",
       "    <tr>\n",
       "      <td>25</td>\n",
       "      <td>ng</td>\n",
       "      <td>1.44</td>\n",
       "    </tr>\n",
       "    <tr>\n",
       "      <td>26</td>\n",
       "      <td>ws</td>\n",
       "      <td>1.42</td>\n",
       "    </tr>\n",
       "    <tr>\n",
       "      <td>27</td>\n",
       "      <td>tg16</td>\n",
       "      <td>0.16</td>\n",
       "    </tr>\n",
       "    <tr>\n",
       "      <td>28</td>\n",
       "      <td>3do</td>\n",
       "      <td>0.10</td>\n",
       "    </tr>\n",
       "    <tr>\n",
       "      <td>29</td>\n",
       "      <td>gg</td>\n",
       "      <td>0.04</td>\n",
       "    </tr>\n",
       "    <tr>\n",
       "      <td>30</td>\n",
       "      <td>pcfx</td>\n",
       "      <td>0.03</td>\n",
       "    </tr>\n",
       "  </tbody>\n",
       "</table>\n",
       "</div>"
      ],
      "text/plain": [
       "   platform  total_sales\n",
       "0       ps2      1255.77\n",
       "1      x360       971.42\n",
       "2       ps3       939.65\n",
       "3       wii       907.51\n",
       "4        ds       806.12\n",
       "5        ps       730.86\n",
       "6       gba       317.85\n",
       "7       ps4       314.14\n",
       "8       psp       294.05\n",
       "9        pc       259.52\n",
       "10      3ds       259.00\n",
       "11       xb       257.74\n",
       "12       gb       255.46\n",
       "13      nes       251.05\n",
       "14      n64       218.68\n",
       "15     snes       200.04\n",
       "16       gc       198.93\n",
       "17     xone       159.32\n",
       "18     2600        96.98\n",
       "19     wiiu        82.19\n",
       "20      psv        54.07\n",
       "21      sat        33.59\n",
       "22      gen        28.35\n",
       "23       dc        15.95\n",
       "24      scd         1.86\n",
       "25       ng         1.44\n",
       "26       ws         1.42\n",
       "27     tg16         0.16\n",
       "28      3do         0.10\n",
       "29       gg         0.04\n",
       "30     pcfx         0.03"
      ]
     },
     "execution_count": 30,
     "metadata": {},
     "output_type": "execute_result"
    }
   ],
   "source": [
    "sales_by_platform = pd.pivot_table(df, index = 'platform', values = 'total_sales', aggfunc = 'sum').sort_values('total_sales',ascending=False).reset_index()\n",
    "sales_by_platform"
   ]
  },
  {
   "cell_type": "code",
   "execution_count": 31,
   "metadata": {},
   "outputs": [
    {
     "data": {
      "image/png": "[encoded data removed]",
      "text/plain": [
       "<Figure size 1080x360 with 1 Axes>"
      ]
     },
     "metadata": {
      "needs_background": "light"
     },
     "output_type": "display_data"
    }
   ],
   "source": [
    "plt.subplots(figsize = (15,5))\n",
    "plt.xticks(rotation=100)\n",
    "plt.title('Распределение продаж по платформам')\n",
    "ax = sns.barplot(x=\"platform\", y=\"total_sales\", data=sales_by_platform);\n",
    "ax.set(xlabel='Платформа', ylabel='Продажи, млн');"
   ]
  },
  {
   "cell_type": "markdown",
   "metadata": {},
   "source": [
    "Из графика видно, что по продажам явно выделяется 6 платформ (ps2, x360, ps3, wii, ds, ps). Из этих платформ наибольшие продажи у платформы ps2 - чуть больше 1255 млн, минимальные у ps - 730 млн."
   ]
  },
  {
   "cell_type": "markdown",
   "metadata": {},
   "source": [
    "Построим гистограммы для каждой из 6 выбранных платформ, чтобы оценить распрделение продаж."
   ]
  },
  {
   "cell_type": "code",
   "execution_count": 32,
   "metadata": {},
   "outputs": [
    {
     "data": {
      "image/png": "[encoded data removed]",
      "text/plain": [
       "<Figure size 1080x360 with 2 Axes>"
      ]
     },
     "metadata": {
      "needs_background": "light"
     },
     "output_type": "display_data"
    }
   ],
   "source": [
    "fig, axes = plt.subplots(1,2, figsize=(15,5))       \n",
    "\n",
    "df.query('platform == \"ps2\"').groupby('year_of_release')['total_sales'].agg('sum').plot(kind='bar', grid=True, figsize=(15,5), legend = True, ax=axes[0]);\n",
    "axes[0].set_title('Распределение продаж для платформы ps2');\n",
    "df.query('platform == \"x360\"').groupby('year_of_release')['total_sales'].agg('sum').plot(kind='bar', grid=True, figsize=(15,5), legend = True, ax=axes[1]);\n",
    "axes[1].set_title('Распределение продаж для платформы x360');  "
   ]
  },
  {
   "cell_type": "code",
   "execution_count": 33,
   "metadata": {},
   "outputs": [
    {
     "data": {
      "image/png": "[encoded data removed]",
      "text/plain": [
       "<Figure size 1080x360 with 2 Axes>"
      ]
     },
     "metadata": {
      "needs_background": "light"
     },
     "output_type": "display_data"
    }
   ],
   "source": [
    "fig, axes = plt.subplots(1,2, figsize=(15,5)) \n",
    "\n",
    "df.query('platform == \"ps3\"').groupby('year_of_release')['total_sales'].agg('sum').plot(kind='bar', grid=True, figsize=(15,5), legend = True, ax=axes[0]);\n",
    "axes[0].set_title('Распределение продаж для платформы ps3')    \n",
    "df.query('platform == \"wii\"').groupby('year_of_release')['total_sales'].agg('sum').plot(kind='bar', grid=True, figsize=(15,5), legend = True, ax=axes[1]);\n",
    "axes[1].set_title('Распределение продаж для платформы wii');   "
   ]
  },
  {
   "cell_type": "code",
   "execution_count": 34,
   "metadata": {},
   "outputs": [
    {
     "data": {
      "image/png": "[encoded data removed]",
      "text/plain": [
       "<Figure size 1080x360 with 2 Axes>"
      ]
     },
     "metadata": {
      "needs_background": "light"
     },
     "output_type": "display_data"
    }
   ],
   "source": [
    "fig, axes = plt.subplots(1,2, figsize=(20,10)) \n",
    "\n",
    "df.query('platform == \"ds\"').groupby('year_of_release')['total_sales'].agg('sum').plot(kind='bar', grid=True, figsize=(15,5), legend = True, ax=axes[0]);\n",
    "axes[0].set_title('Распределение продаж для платформы ds')    \n",
    "df.query('platform == \"ps\"').groupby('year_of_release')['total_sales'].agg('sum').plot(kind='bar', grid=True, figsize=(15,5), legend = True, ax=axes[1]);\n",
    "axes[1].set_title('Распределение продаж для платформы ps');"
   ]
  },
  {
   "cell_type": "markdown",
   "metadata": {},
   "source": [
    "Из графиков видно, что \"срок жизни\" платформы составляет в основном 10 лет. И распределения близки к нормальному. Пик продаж приходится на 5-6 год сущестования платформы.\n",
    "\n",
    "Для определения актуального периода для прогнозирвоания рекламной компании на 2017 год рассмотрим распределеня продаж выбранных топовых платформ на одном графике и для няглядности включим в этот список ps4. Платформа ps4 - это новое поколение и посмотрим как у этой платформы происходит распределние продаж относительно топовых платформ, которые к 2016 году уже сходят на нет."
   ]
  },
  {
   "cell_type": "code",
   "execution_count": 35,
   "metadata": {},
   "outputs": [
    {
     "data": {
      "image/png": "[encoded data removed]",
      "text/plain": [
       "<Figure size 1080x360 with 1 Axes>"
      ]
     },
     "metadata": {
      "needs_background": "light"
     },
     "output_type": "display_data"
    }
   ],
   "source": [
    "platform_list = ['ps2', 'x360', 'ps3', 'wii', 'ds', 'ps', 'ps4']\n",
    "df_top_platform = df.query('platform == @platform_list').pivot_table(index='year_of_release', columns='platform', values='total_sales', aggfunc='sum')\n",
    "plt.subplots(figsize = (15,5))\n",
    "plt.title('График распределения продаж игр для топ-7 игровых платформ')\n",
    "plt.xticks(range(1994, 2017))\n",
    "plt.xlim(1994, 2016)\n",
    "ax = sns.lineplot(data = df_top_platform, dashes=False);\n",
    "ax.set(xlabel='Год выпуска', ylabel='Продажи, млн');"
   ]
  },
  {
   "cell_type": "markdown",
   "metadata": {},
   "source": [
    "Актуальным периодом для прогназирвоания на 2017 год будем считать с ***2013 года по 2016 год***. Так как исходя из графика в 2013 году видно, что некоторые платформы еще на пике, но уже идет идет спад продаж (ps3, x360), а в 2013 году мы видем начало роста платформы ps4. Таким образом актуальный период это 2013-2016 годы."
   ]
  },
  {
   "cell_type": "markdown",
   "metadata": {},
   "source": [
    "Отфильтруем исходный ДатаФрейм с учетом актуального периода"
   ]
  },
  {
   "cell_type": "code",
   "execution_count": 36,
   "metadata": {},
   "outputs": [
    {
     "data": {
      "text/html": [
       "<div>\n",
       "<style scoped>\n",
       "    .dataframe tbody tr th:only-of-type {\n",
       "        vertical-align: middle;\n",
       "    }\n",
       "\n",
       "    .dataframe tbody tr th {\n",
       "        vertical-align: top;\n",
       "    }\n",
       "\n",
       "    .dataframe thead th {\n",
       "        text-align: right;\n",
       "    }\n",
       "</style>\n",
       "<table border=\"1\" class=\"dataframe\">\n",
       "  <thead>\n",
       "    <tr style=\"text-align: right;\">\n",
       "      <th></th>\n",
       "      <th>name</th>\n",
       "      <th>platform</th>\n",
       "      <th>year_of_release</th>\n",
       "      <th>genre</th>\n",
       "      <th>na_sales</th>\n",
       "      <th>eu_sales</th>\n",
       "      <th>jp_sales</th>\n",
       "      <th>other_sales</th>\n",
       "      <th>critic_score</th>\n",
       "      <th>user_score</th>\n",
       "      <th>rating</th>\n",
       "      <th>year_of_releas</th>\n",
       "      <th>total_sales</th>\n",
       "    </tr>\n",
       "  </thead>\n",
       "  <tbody>\n",
       "    <tr>\n",
       "      <td>16</td>\n",
       "      <td>grand theft auto v</td>\n",
       "      <td>ps3</td>\n",
       "      <td>2013.0</td>\n",
       "      <td>action</td>\n",
       "      <td>7.02</td>\n",
       "      <td>9.09</td>\n",
       "      <td>0.98</td>\n",
       "      <td>3.96</td>\n",
       "      <td>97</td>\n",
       "      <td>8.2</td>\n",
       "      <td>M</td>\n",
       "      <td>2013</td>\n",
       "      <td>21.05</td>\n",
       "    </tr>\n",
       "    <tr>\n",
       "      <td>23</td>\n",
       "      <td>grand theft auto v</td>\n",
       "      <td>x360</td>\n",
       "      <td>2013.0</td>\n",
       "      <td>action</td>\n",
       "      <td>9.66</td>\n",
       "      <td>5.14</td>\n",
       "      <td>0.06</td>\n",
       "      <td>1.41</td>\n",
       "      <td>97</td>\n",
       "      <td>8.1</td>\n",
       "      <td>M</td>\n",
       "      <td>2013</td>\n",
       "      <td>16.27</td>\n",
       "    </tr>\n",
       "    <tr>\n",
       "      <td>31</td>\n",
       "      <td>call of duty: black ops 3</td>\n",
       "      <td>ps4</td>\n",
       "      <td>2015.0</td>\n",
       "      <td>shooter</td>\n",
       "      <td>6.03</td>\n",
       "      <td>5.86</td>\n",
       "      <td>0.36</td>\n",
       "      <td>2.38</td>\n",
       "      <td>101</td>\n",
       "      <td>-1.0</td>\n",
       "      <td>NO</td>\n",
       "      <td>2015</td>\n",
       "      <td>14.63</td>\n",
       "    </tr>\n",
       "    <tr>\n",
       "      <td>33</td>\n",
       "      <td>pokemon x/pokemon y</td>\n",
       "      <td>3ds</td>\n",
       "      <td>2013.0</td>\n",
       "      <td>role-playing</td>\n",
       "      <td>5.28</td>\n",
       "      <td>4.19</td>\n",
       "      <td>4.35</td>\n",
       "      <td>0.78</td>\n",
       "      <td>101</td>\n",
       "      <td>-1.0</td>\n",
       "      <td>NO</td>\n",
       "      <td>2013</td>\n",
       "      <td>14.60</td>\n",
       "    </tr>\n",
       "    <tr>\n",
       "      <td>42</td>\n",
       "      <td>grand theft auto v</td>\n",
       "      <td>ps4</td>\n",
       "      <td>2014.0</td>\n",
       "      <td>action</td>\n",
       "      <td>3.96</td>\n",
       "      <td>6.31</td>\n",
       "      <td>0.38</td>\n",
       "      <td>1.97</td>\n",
       "      <td>97</td>\n",
       "      <td>8.3</td>\n",
       "      <td>M</td>\n",
       "      <td>2014</td>\n",
       "      <td>12.62</td>\n",
       "    </tr>\n",
       "  </tbody>\n",
       "</table>\n",
       "</div>"
      ],
      "text/plain": [
       "                         name platform  year_of_release         genre  \\\n",
       "16         grand theft auto v      ps3           2013.0        action   \n",
       "23         grand theft auto v     x360           2013.0        action   \n",
       "31  call of duty: black ops 3      ps4           2015.0       shooter   \n",
       "33        pokemon x/pokemon y      3ds           2013.0  role-playing   \n",
       "42         grand theft auto v      ps4           2014.0        action   \n",
       "\n",
       "    na_sales  eu_sales  jp_sales  other_sales  critic_score  user_score  \\\n",
       "16      7.02      9.09      0.98         3.96            97         8.2   \n",
       "23      9.66      5.14      0.06         1.41            97         8.1   \n",
       "31      6.03      5.86      0.36         2.38           101        -1.0   \n",
       "33      5.28      4.19      4.35         0.78           101        -1.0   \n",
       "42      3.96      6.31      0.38         1.97            97         8.3   \n",
       "\n",
       "   rating  year_of_releas  total_sales  \n",
       "16      M            2013        21.05  \n",
       "23      M            2013        16.27  \n",
       "31     NO            2015        14.63  \n",
       "33     NO            2013        14.60  \n",
       "42      M            2014        12.62  "
      ]
     },
     "execution_count": 36,
     "metadata": {},
     "output_type": "execute_result"
    }
   ],
   "source": [
    "df_actual = df.query('year_of_release >= 2013')\n",
    "df_actual.head()"
   ]
  },
  {
   "cell_type": "markdown",
   "metadata": {},
   "source": [
    "### Какие платформы лидируют по продажам, растут или падают? Выбрать несколько потенциально прибы"
   ]
  },
  {
   "cell_type": "code",
   "execution_count": 37,
   "metadata": {},
   "outputs": [
    {
     "data": {
      "text/html": [
       "<div>\n",
       "<style scoped>\n",
       "    .dataframe tbody tr th:only-of-type {\n",
       "        vertical-align: middle;\n",
       "    }\n",
       "\n",
       "    .dataframe tbody tr th {\n",
       "        vertical-align: top;\n",
       "    }\n",
       "\n",
       "    .dataframe thead th {\n",
       "        text-align: right;\n",
       "    }\n",
       "</style>\n",
       "<table border=\"1\" class=\"dataframe\">\n",
       "  <thead>\n",
       "    <tr style=\"text-align: right;\">\n",
       "      <th>platform</th>\n",
       "      <th>3ds</th>\n",
       "      <th>ds</th>\n",
       "      <th>pc</th>\n",
       "      <th>ps3</th>\n",
       "      <th>ps4</th>\n",
       "      <th>psp</th>\n",
       "      <th>psv</th>\n",
       "      <th>wii</th>\n",
       "      <th>wiiu</th>\n",
       "      <th>x360</th>\n",
       "      <th>xone</th>\n",
       "    </tr>\n",
       "    <tr>\n",
       "      <th>year_of_release</th>\n",
       "      <th></th>\n",
       "      <th></th>\n",
       "      <th></th>\n",
       "      <th></th>\n",
       "      <th></th>\n",
       "      <th></th>\n",
       "      <th></th>\n",
       "      <th></th>\n",
       "      <th></th>\n",
       "      <th></th>\n",
       "      <th></th>\n",
       "    </tr>\n",
       "  </thead>\n",
       "  <tbody>\n",
       "    <tr>\n",
       "      <td>2013.0</td>\n",
       "      <td>56.57</td>\n",
       "      <td>1.54</td>\n",
       "      <td>12.38</td>\n",
       "      <td>113.25</td>\n",
       "      <td>25.99</td>\n",
       "      <td>3.14</td>\n",
       "      <td>10.59</td>\n",
       "      <td>8.59</td>\n",
       "      <td>21.65</td>\n",
       "      <td>88.58</td>\n",
       "      <td>18.96</td>\n",
       "    </tr>\n",
       "    <tr>\n",
       "      <td>2014.0</td>\n",
       "      <td>43.76</td>\n",
       "      <td>NaN</td>\n",
       "      <td>13.28</td>\n",
       "      <td>47.76</td>\n",
       "      <td>100.00</td>\n",
       "      <td>0.24</td>\n",
       "      <td>11.90</td>\n",
       "      <td>3.75</td>\n",
       "      <td>22.03</td>\n",
       "      <td>34.74</td>\n",
       "      <td>54.07</td>\n",
       "    </tr>\n",
       "    <tr>\n",
       "      <td>2015.0</td>\n",
       "      <td>27.78</td>\n",
       "      <td>NaN</td>\n",
       "      <td>8.52</td>\n",
       "      <td>16.82</td>\n",
       "      <td>118.90</td>\n",
       "      <td>0.12</td>\n",
       "      <td>6.25</td>\n",
       "      <td>1.14</td>\n",
       "      <td>16.35</td>\n",
       "      <td>11.96</td>\n",
       "      <td>60.14</td>\n",
       "    </tr>\n",
       "    <tr>\n",
       "      <td>2016.0</td>\n",
       "      <td>15.14</td>\n",
       "      <td>NaN</td>\n",
       "      <td>5.25</td>\n",
       "      <td>3.60</td>\n",
       "      <td>69.25</td>\n",
       "      <td>NaN</td>\n",
       "      <td>4.25</td>\n",
       "      <td>0.18</td>\n",
       "      <td>4.60</td>\n",
       "      <td>1.52</td>\n",
       "      <td>26.15</td>\n",
       "    </tr>\n",
       "  </tbody>\n",
       "</table>\n",
       "</div>"
      ],
      "text/plain": [
       "platform           3ds    ds     pc     ps3     ps4   psp    psv   wii   wiiu  \\\n",
       "year_of_release                                                                 \n",
       "2013.0           56.57  1.54  12.38  113.25   25.99  3.14  10.59  8.59  21.65   \n",
       "2014.0           43.76   NaN  13.28   47.76  100.00  0.24  11.90  3.75  22.03   \n",
       "2015.0           27.78   NaN   8.52   16.82  118.90  0.12   6.25  1.14  16.35   \n",
       "2016.0           15.14   NaN   5.25    3.60   69.25   NaN   4.25  0.18   4.60   \n",
       "\n",
       "platform          x360   xone  \n",
       "year_of_release                \n",
       "2013.0           88.58  18.96  \n",
       "2014.0           34.74  54.07  \n",
       "2015.0           11.96  60.14  \n",
       "2016.0            1.52  26.15  "
      ]
     },
     "execution_count": 37,
     "metadata": {},
     "output_type": "execute_result"
    }
   ],
   "source": [
    "df_actual_sales = df_actual.pivot_table(index='year_of_release', columns='platform', values='total_sales', aggfunc='sum')\n",
    "df_actual_sales"
   ]
  },
  {
   "cell_type": "code",
   "execution_count": 38,
   "metadata": {},
   "outputs": [
    {
     "data": {
      "text/plain": [
       "Text(0.5, 1.0, 'Суммарные продажи топ-10 платформ с 2011 года')"
      ]
     },
     "execution_count": 38,
     "metadata": {},
     "output_type": "execute_result"
    },
    {
     "data": {
      "image/png": "[encoded data removed]",
      "text/plain": [
       "<Figure size 1440x720 with 1 Axes>"
      ]
     },
     "metadata": {
      "needs_background": "light"
     },
     "output_type": "display_data"
    }
   ],
   "source": [
    "plt.figure(figsize=(20,10))\n",
    "\n",
    "(sns.barplot(\n",
    "    x=\"year_of_release\", \n",
    "    y=\"total_sales\", \n",
    "    hue='platform', \n",
    "    data=df_actual, \n",
    "    palette=\"bright\", \n",
    "    estimator=sum, ci=None)\n",
    "    .set_title(\"Суммарные продажи топ-10 платформ с 2011 года\"))"
   ]
  },
  {
   "cell_type": "markdown",
   "metadata": {},
   "source": [
    "Исходя из графика видно:\n",
    "- в 2013 году лидерами по продажам являются платформа ps3, x360, 3ds;\n",
    "- в 2014 году основным лидером является ps4, также начинают возрастать продажи платформы xone, продажи ps3 идут на спад;\n",
    "- в 2015 годy явным лидером рынка была платформа - ps4, по сравнению с 2014 годом растут продажи платформы xone.\n",
    "- в 2016 году в лидерах остается платформа ps4, но продажи уже явно стали ниже по сравнению с 2015 годом. xone и 3ds еще находятся в числе лидеров.\n",
    "В итоге потенциально прибыльными платформами на 2017 год могут быть ps4, xone и 3ds. Платформы ps3 и x360 не включили в топ, потому что они являются устаревшим поколением приставок."
   ]
  },
  {
   "cell_type": "markdown",
   "metadata": {},
   "source": [
    "### Постройте график «ящик с усами» по глобальным продажам игр в разбивке по платформам. Опишите результат"
   ]
  },
  {
   "cell_type": "code",
   "execution_count": 39,
   "metadata": {},
   "outputs": [
    {
     "data": {
      "image/png": "[encoded data removed]",
      "text/plain": [
       "<Figure size 1080x720 with 1 Axes>"
      ]
     },
     "metadata": {
      "needs_background": "light"
     },
     "output_type": "display_data"
    }
   ],
   "source": [
    "plt.figure(figsize=(15,10))\n",
    "ax = sns.boxplot(x=\"platform\", y=\"total_sales\", data=df_actual, order = ['ps4', 'xone', '3ds'])\n",
    "plt.ylim(0, 2)\n",
    "plt.grid()\n",
    "plt.title('\"Боксплот\" для XOne, PS4, 3DS');"
   ]
  },
  {
   "cell_type": "markdown",
   "metadata": {},
   "source": [
    "Исходя из боксплотов:\n",
    "\n",
    "Распределение продаж у XOne и PS4 очень схожи. Медианные значения очень близки и находятся на уровне 0.24.\n",
    "Межквартильный размах также практически одинаков, но все же в лидерах плафторма ps4.\n",
    "Распределение продаж у платформы 3ds заметно отличается от xone и ps4. Медианное значение находится на уровне 0,15 и межквартальный размах намного меньше, это связано с тем что популярность данной платформы угасает. В итоге можно сказать, что к 2016 году у нас два основных лидера рынка это xone и ps4.\n",
    "Данные имеют аномальные значения, поэтому мы график построили с условием ограничения значений до 2 по оси ординат."
   ]
  },
  {
   "cell_type": "markdown",
   "metadata": {},
   "source": [
    "### Как влияют на продажи внутри одной популярной платформы отзывы пользователей и критиков. Постройте диаграмму рассеяния и посчитайте корреляцию между отзывами и продажами"
   ]
  },
  {
   "cell_type": "code",
   "execution_count": 40,
   "metadata": {},
   "outputs": [
    {
     "data": {
      "image/png": "[encoded data removed]",
      "text/plain": [
       "<Figure size 1440x720 with 2 Axes>"
      ]
     },
     "metadata": {
      "needs_background": "light"
     },
     "output_type": "display_data"
    }
   ],
   "source": [
    "fig, ax = plt.subplots(1, 2, figsize=(20,10))\n",
    "\n",
    "sns.scatterplot(data = df_actual.query('platform == \"ps4\"'), x = 'critic_score', y = 'total_sales', color = 'red', ax = ax[0])\n",
    "ax[0].grid()\n",
    "ax[0].set_title(\"График зависимости продаж от оценок критиков для платформы PS4\")\n",
    "\n",
    "sns.scatterplot(data = df_actual.query('platform == \"ps4\"'), x = 'user_score', y = 'total_sales', color = 'green', ax = ax[1])\n",
    "ax[1].grid()\n",
    "ax[1].set_title(\"График зависимости продаж от оценок пользователей для платформы PS4\")\n",
    "plt.show()"
   ]
  },
  {
   "cell_type": "code",
   "execution_count": 41,
   "metadata": {},
   "outputs": [
    {
     "name": "stdout",
     "output_type": "stream",
     "text": [
      "Таблица корреляции critic_score - user_score - total_sales\n",
      "\n",
      "              critic_score  user_score  total_sales\n",
      "critic_score      1.000000   -0.624813     0.079816\n",
      "user_score       -0.624813    1.000000     0.115961\n",
      "total_sales       0.079816    0.115961     1.000000\n"
     ]
    }
   ],
   "source": [
    "print('Таблица корреляции critic_score - user_score - total_sales')\n",
    "print()\n",
    "print(df.query('platform == \"ps4\"')[['critic_score','user_score','total_sales']].corr())"
   ]
  },
  {
   "cell_type": "markdown",
   "metadata": {},
   "source": [
    "- Зависимости между продажами и оценками критиков и пользователей практически нет. Коэффициент корреляции между продажами и оценками критиков равен - 0,08, а между продажами и оценками пользователей равен - 0,1.\n",
    "- На диаграмме рассеивания, описывающая зависимость между оценками критиков и продажами,видно, что при оценке критиков от 20 до 60 продажи находятся на одном уровне, а далее от оценки 70 и выше идет резкий рост продаж.\n",
    "- На диаграмме рассеивания, описывающая зависимость между оценками пользователей и продажами,видно, что при оценке пользователей от 2 до 6 продажи и высокие и также находятся на низком уровне.\n",
    "- При оценке больше 6 продажи и растут и находятся на низком уровне. \n",
    "- Исходя из графиков можно сказать, что зависимость продаж больше проявляется от оценок критиков, нежели от оценок пользователей, так как оценки кртиков более объективны."
   ]
  },
  {
   "cell_type": "markdown",
   "metadata": {},
   "source": [
    "### Соотнесите выводы с продажами игр на других платформах"
   ]
  },
  {
   "cell_type": "code",
   "execution_count": 42,
   "metadata": {},
   "outputs": [
    {
     "data": {
      "image/png": "[encoded data removed]",
      "text/plain": [
       "<Figure size 1440x720 with 2 Axes>"
      ]
     },
     "metadata": {
      "needs_background": "light"
     },
     "output_type": "display_data"
    }
   ],
   "source": [
    "fig, ax = plt.subplots(1, 2, figsize=(20,10))\n",
    "\n",
    "sns.scatterplot(data = df_actual.query('platform == \"xone\"'), x = 'critic_score', y = 'total_sales', color = 'red', ax = ax[0])\n",
    "ax[0].grid()\n",
    "ax[0].set_title(\"График зависимости продаж от оценок критиков для платформы XOne\")\n",
    "\n",
    "sns.scatterplot(data = df_actual.query('platform == \"xone\"'), x = 'user_score', y = 'total_sales', color = 'green', ax = ax[1])\n",
    "ax[1].grid()\n",
    "ax[1].set_title(\"График зависимости продаж от оценок пользователей для платформы XOne\")\n",
    "plt.show()"
   ]
  },
  {
   "cell_type": "code",
   "execution_count": 43,
   "metadata": {},
   "outputs": [
    {
     "name": "stdout",
     "output_type": "stream",
     "text": [
      "Таблица корреляции critic_score - user_score - total_sales\n",
      "\n",
      "              critic_score  user_score  total_sales\n",
      "critic_score      1.000000   -0.468107     0.081196\n",
      "user_score       -0.468107    1.000000     0.121712\n",
      "total_sales       0.081196    0.121712     1.000000\n"
     ]
    }
   ],
   "source": [
    "print('Таблица корреляции critic_score - user_score - total_sales')\n",
    "print()\n",
    "print(df.query('platform == \"xone\"')[['critic_score','user_score','total_sales']].corr())"
   ]
  },
  {
   "cell_type": "code",
   "execution_count": 44,
   "metadata": {},
   "outputs": [
    {
     "data": {
      "image/png": "[encoded data removed]",
      "text/plain": [
       "<Figure size 1440x720 with 2 Axes>"
      ]
     },
     "metadata": {
      "needs_background": "light"
     },
     "output_type": "display_data"
    }
   ],
   "source": [
    "fig, ax = plt.subplots(1, 2, figsize=(20,10))\n",
    "\n",
    "sns.scatterplot(data = df_actual.query('platform == \"3ds\"'), x = 'critic_score', y = 'total_sales', color = 'red', ax = ax[0])\n",
    "ax[0].grid()\n",
    "ax[0].set_title(\"График зависимости продаж от оценок критиков для платформы 3DS\")\n",
    "\n",
    "sns.scatterplot(data = df_actual.query('platform == \"3ds\"'), x = 'user_score', y = 'total_sales', color = 'green', ax = ax[1])\n",
    "ax[1].grid()\n",
    "ax[1].set_title(\"График зависимости продаж от оценок пользователей для платформы 3DS\")\n",
    "plt.show()"
   ]
  },
  {
   "cell_type": "code",
   "execution_count": 45,
   "metadata": {},
   "outputs": [
    {
     "name": "stdout",
     "output_type": "stream",
     "text": [
      "Таблица корреляции critic_score - user_score - total_sales\n",
      "\n",
      "              critic_score  user_score  total_sales\n",
      "critic_score      1.000000   -0.723778    -0.012835\n",
      "user_score       -0.723778    1.000000     0.145973\n",
      "total_sales      -0.012835    0.145973     1.000000\n"
     ]
    }
   ],
   "source": [
    "print('Таблица корреляции critic_score - user_score - total_sales')\n",
    "print()\n",
    "print(df.query('platform == \"3ds\"')[['critic_score','user_score','total_sales']].corr())"
   ]
  },
  {
   "cell_type": "markdown",
   "metadata": {},
   "source": [
    "Мы рассмотрели, топ-3 потенциально популярных платформ, можно сделать вывод, что явной линейной зависимости нет между продажами, оценками пользовтелей и продажами и оценками критиков для каждой из платформ. Но стоит отмететь, что оценки критиков способны в заметной мере линейно влиять на продаваемость игр,нежели оценки пользователей. Скорее всего это связано, с тем что оценки критиков в большей мере объективные, а оценки пользователей субъективные."
   ]
  },
  {
   "cell_type": "markdown",
   "metadata": {},
   "source": [
    "### Посмотрите на общее распределение игр по жанрам. Что можно сказать о самых прибыльных жанрах? Выделяются ли жанры с высокими и низкими продажами?"
   ]
  },
  {
   "cell_type": "code",
   "execution_count": 46,
   "metadata": {},
   "outputs": [],
   "source": [
    "genre_df_sum = pd.pivot_table(df_actual, index = 'genre', values = 'total_sales', aggfunc = 'sum').sort_values('total_sales',ascending=False).reset_index()"
   ]
  },
  {
   "cell_type": "code",
   "execution_count": 47,
   "metadata": {},
   "outputs": [
    {
     "data": {
      "image/png": "[encoded data removed]",
      "text/plain": [
       "<Figure size 1080x720 with 1 Axes>"
      ]
     },
     "metadata": {
      "needs_background": "light"
     },
     "output_type": "display_data"
    }
   ],
   "source": [
    "plt.subplots(figsize = (15,10))\n",
    "plt.xticks(rotation=100)\n",
    "plt.title('Распределение продаж по жанрам')\n",
    "ax = sns.barplot(x=\"genre\", y=\"total_sales\", data=genre_df_sum);\n",
    "ax.set(xlabel='Жанр', ylabel='Продажи,млн');"
   ]
  },
  {
   "cell_type": "markdown",
   "metadata": {},
   "source": [
    "Самыми прибыльными жанрами являются action, shooter, sports и role-playing, а низкие продажи у puzzle, strategy, adventure, simulation и fighting. Возможно, на данное распредление влияет и количество выпускаемых игр. Посмотрим ниже так ли это."
   ]
  },
  {
   "cell_type": "code",
   "execution_count": 48,
   "metadata": {},
   "outputs": [
    {
     "data": {
      "image/png": "[encoded data removed]",
      "text/plain": [
       "<Figure size 1080x720 with 1 Axes>"
      ]
     },
     "metadata": {
      "needs_background": "light"
     },
     "output_type": "display_data"
    }
   ],
   "source": [
    "genre_df_count = pd.pivot_table(df_actual, index = 'genre', values = 'name', aggfunc = 'count').sort_values('name',ascending=False).reset_index()\n",
    "plt.subplots(figsize = (15,10))\n",
    "plt.xticks(rotation=100)\n",
    "plt.title('Распределение количества выпускаемых игр по жанрам')\n",
    "ax = sns.barplot(x=\"genre\", y=\"name\", data=genre_df_count);\n",
    "ax.set(xlabel='Жанр', ylabel='Количетство игр');"
   ]
  },
  {
   "cell_type": "markdown",
   "metadata": {},
   "source": [
    "Действительно, в жанрах, в которых меньше всего выпускают игры меньше всего и продаж, аналогично и в обратную сторону - чем больще выпускают игр в том или ином жанре, тем больше продаж. Но выделяется жанр adventure, он находится на третьем месте по количеству выпускаемых игр и у него совсем мало продаж."
   ]
  },
  {
   "cell_type": "markdown",
   "metadata": {},
   "source": [
    "### Вывод к разделу"
   ]
  },
  {
   "cell_type": "markdown",
   "metadata": {},
   "source": [
    "На данном этапе был проведен исследовательский анализ, в ходе которого были:\n",
    "\n",
    "- определены платформы с наибольшими суммарными продажами за весь период времени, это ps2, x360, ps3, wii, ds, ps, ps4'. -был выбран актуальный период времени - 2013 - 2016, основываясь на нем мы сможем спрогнозировать рекламную компанию на 2017 год\n",
    "- для актуального периода были выбраны потенциально прибыльные платформы ps4, xone, 3ds.\n",
    "- построены боксплоты для потенциально прибыльных платформ. Исходя из них продажи выше у ps4 и xone, чем у 3ds. Медианное значение продаж у 3ds значительно ниже, чем у двух других.\n",
    "- рейтинг критиков лучше влияет на продажи, чем рейтинг пользователей\n",
    "- самыми прибыльными жанрами являются action, shooter, sports и role-playing, а низкие продажи у puzzle, strategy, adventure, simulation и fighting."
   ]
  },
  {
   "cell_type": "markdown",
   "metadata": {},
   "source": [
    "## Портрет пользователя каждого региона"
   ]
  },
  {
   "cell_type": "markdown",
   "metadata": {},
   "source": [
    "Определите для пользователя каждого региона (NA, EU, JP): Самые популярные платформы (топ-5). Опишите различия в долях продаж. Самые популярные жанры (топ-5). Поясните разницу."
   ]
  },
  {
   "cell_type": "code",
   "execution_count": 49,
   "metadata": {},
   "outputs": [],
   "source": [
    "#Сводная таблица для определения популярных платформ в Северной Америке\n",
    "df_platform_na = df_actual.pivot_table(index = 'platform', values = 'na_sales', aggfunc='sum').sort_values('na_sales',ascending=False)\n",
    "df_platform_na['na_sales'] = df_platform_na['na_sales']/df_platform_na['na_sales'].sum() * 100\n",
    "\n",
    "#Сводная таблица для определения популярных жанров в Северной Америке\n",
    "df_genre_na = df_actual.pivot_table(index = 'genre', values = 'na_sales', aggfunc='sum').sort_values('na_sales',ascending=False)\n",
    "df_genre_na['na_sales'] = df_genre_na['na_sales']/df_genre_na['na_sales'].sum() * 100"
   ]
  },
  {
   "cell_type": "code",
   "execution_count": 50,
   "metadata": {},
   "outputs": [
    {
     "data": {
      "image/png": "[encoded data removed]",
      "text/plain": [
       "<Figure size 1800x720 with 2 Axes>"
      ]
     },
     "metadata": {},
     "output_type": "display_data"
    }
   ],
   "source": [
    "fig = plt.figure(figsize=(25,10))\n",
    "ax1 = plt.subplot(131)\n",
    "plt.pie(df_platform_na['na_sales'], labels=df_platform_na.index, autopct='%1.0f%%')\n",
    "ax1.set_title('Топ-5 платформ по доле продаж в Cеверной Америке', fontsize=14);\n",
    "\n",
    "ax2 = plt.subplot(132)\n",
    "plt.pie(df_genre_na['na_sales'], labels=df_genre_na.index, autopct='%1.0f%%')\n",
    "ax2.set_title('Топ-5 жанров по доле продаж в Cеверной Америке', fontsize=14);"
   ]
  },
  {
   "cell_type": "code",
   "execution_count": 51,
   "metadata": {},
   "outputs": [],
   "source": [
    "#Сводная таблица для определения популярных платформ в Европе\n",
    "df_platform_eu = df_actual.pivot_table(index = 'platform', values = 'eu_sales', aggfunc='sum').sort_values('eu_sales',ascending=False)\n",
    "df_platform_eu['eu_sales'] = df_platform_eu['eu_sales']/df_platform_eu['eu_sales'].sum() * 100\n",
    "\n",
    "#Сводная таблица для определения популярных жанров в Европе\n",
    "df_genre_eu = df_actual.pivot_table(index = 'genre', values = 'eu_sales', aggfunc='sum').sort_values('eu_sales',ascending=False)\n",
    "df_genre_eu['eu_sales'] = df_genre_eu['eu_sales']/df_genre_eu['eu_sales'].sum() * 100"
   ]
  },
  {
   "cell_type": "code",
   "execution_count": 52,
   "metadata": {},
   "outputs": [
    {
     "data": {
      "image/png": "[encoded data removed]",
      "text/plain": [
       "<Figure size 1800x720 with 2 Axes>"
      ]
     },
     "metadata": {},
     "output_type": "display_data"
    }
   ],
   "source": [
    "fig = plt.figure(figsize=(25,10))\n",
    "ax1 = plt.subplot(131)\n",
    "plt.pie(df_platform_eu['eu_sales'], labels=df_platform_eu.index, autopct='%1.0f%%')\n",
    "ax1.set_title('Топ-5 платформ по доле продаж в Европе', fontsize=14);\n",
    "\n",
    "ax2 = plt.subplot(132)\n",
    "plt.pie(df_genre_eu['eu_sales'], labels=df_genre_eu.index, autopct='%1.0f%%')\n",
    "ax2.set_title('Топ-5 жанров по доле продаж в Европе', fontsize=14);"
   ]
  },
  {
   "cell_type": "code",
   "execution_count": 53,
   "metadata": {},
   "outputs": [],
   "source": [
    "#Сводная таблица для определения популярных платформ в Японии\n",
    "df_platform_jp = df_actual.pivot_table(index = 'platform', values = 'jp_sales', aggfunc='sum').sort_values('jp_sales',ascending=False)\n",
    "df_platform_jp['jp_sales'] = df_platform_jp['jp_sales']/df_platform_jp['jp_sales'].sum() * 100\n",
    "\n",
    "#Сводная таблица для определения популярных жанров в Японии\n",
    "df_genre_jp = df_actual.pivot_table(index = 'genre', values = 'jp_sales', aggfunc='sum').sort_values('jp_sales',ascending=False)\n",
    "df_genre_jp['jp_sales'] = df_genre_jp['jp_sales']/df_genre_jp['jp_sales'].sum() * 100"
   ]
  },
  {
   "cell_type": "code",
   "execution_count": 54,
   "metadata": {},
   "outputs": [
    {
     "data": {
      "image/png": "[encoded data removed]",
      "text/plain": [
       "<Figure size 1800x720 with 2 Axes>"
      ]
     },
     "metadata": {},
     "output_type": "display_data"
    }
   ],
   "source": [
    "fig = plt.figure(figsize=(25,10))\n",
    "ax1 = plt.subplot(131)\n",
    "plt.pie(df_platform_jp['jp_sales'], labels=df_platform_jp.index, autopct='%1.0f%%')\n",
    "ax1.set_title('Топ-5 платформ по доле продаж в Японии', fontsize=14);\n",
    "\n",
    "ax2 = plt.subplot(132)\n",
    "plt.pie(df_genre_jp['jp_sales'], labels=df_genre_jp.index, autopct='%1.0f%%')\n",
    "ax2.set_title('Топ-5 жанров по доле продаж в Японии', fontsize=14);"
   ]
  },
  {
   "cell_type": "markdown",
   "metadata": {},
   "source": [
    "### Выводы к разделу"
   ]
  },
  {
   "cell_type": "markdown",
   "metadata": {},
   "source": [
    "***Cеверная Америка***\n",
    "\n",
    "- Жители данного региона предпочитают платформу x360 - 27 % процентов от общих продаж, на втором месте ps3 -23%, ps4 разместилась на третбем месте - 13%. Пятерку лидеров замкнула платформа 3ds - 10 % процентов от общих продаж.\n",
    "- Из жанров отдают предпочтение action - 28% и shooter - 23%, пятерку замыкает mics - 8 %.\n",
    "\n",
    "***Европа***\n",
    "\n",
    "- Жители Европы играют больше всего на платформе ps3 - 24% от всех продаж, и на ps4 - 21 %, меньше всего из топ5 на ps - 8%.\n",
    "По выбору жанров топ-3 Европейцы схожи с Американцами. Лидирует action - 30% и shooter - 23%, пятерку замыкает racing - 7 %.\n",
    "\n",
    "***Япония***\n",
    "\n",
    "- Предпочтения в Японии координально отличаются от двух предыдущих регионов.\n",
    "\n",
    "- Японцы предпочитают платформу 3ds - 41% от всех продаж, указанная платформа превышает продажи почти в два раза от ближайшего своего преследователя ps3 - 20%. Пятерку замыкает ps4 - 6%.\n",
    "- Жанр role-playning лидирует на японском рынке - 33 % от всех продаж, далее следует action - 26%. Пятерку замыкают fighting и platform - 5%.\n",
    "\n",
    "Можем сделать вывод, что при запуске рекламных компаний необходимо учитывать регион. Если Европа и Америка более менее схожи, то Япония координально отличается от них."
   ]
  },
  {
   "cell_type": "markdown",
   "metadata": {},
   "source": [
    "## Влияет ли рейтинг ESRB на продажи в отдельном регионе?"
   ]
  },
  {
   "cell_type": "code",
   "execution_count": 55,
   "metadata": {},
   "outputs": [],
   "source": [
    "#Сводная таблица для определения влияния рейтинга на продажи в Северной Америке\n",
    "df_rating_na = df_actual.pivot_table(index = 'rating', values = 'na_sales', aggfunc='sum').sort_values('na_sales',ascending=False)\n",
    "df_rating_na['na_sales'] = df_rating_na['na_sales']/df_rating_na['na_sales'].sum() * 100\n",
    "\n",
    "#Сводная таблица для определения влияния рейтинга на продажи в Европе\n",
    "df_rating_eu = df_actual.pivot_table(index = 'rating', values = 'eu_sales', aggfunc='sum').sort_values('eu_sales',ascending=False)\n",
    "df_rating_eu['eu_sales'] = df_rating_eu['eu_sales']/df_rating_eu['eu_sales'].sum() * 100\n",
    "\n",
    "#Сводная таблица для определения влияния рейтинга на продажи в Японии\n",
    "df_rating_jp = df_actual.pivot_table(index = 'rating', values = 'jp_sales', aggfunc='sum').sort_values('jp_sales',ascending=False)\n",
    "df_rating_jp['jp_sales'] = df_rating_jp['jp_sales']/df_rating_jp['jp_sales'].sum() * 100"
   ]
  },
  {
   "cell_type": "code",
   "execution_count": 56,
   "metadata": {},
   "outputs": [
    {
     "data": {
      "image/png": "[encoded data removed]",
      "text/plain": [
       "<Figure size 1152x288 with 3 Axes>"
      ]
     },
     "metadata": {},
     "output_type": "display_data"
    }
   ],
   "source": [
    "fig = plt.figure(figsize=(16,4))\n",
    "fig.suptitle('Рейтинг ESRB', fontsize=20, y=1.02)\n",
    "ax1 = plt.subplot(131)\n",
    "plt.pie(df_rating_na['na_sales'], labels=df_rating_na.index, autopct='%1.0f%%')\n",
    "ax1.set_title('Северная Америка', fontsize=15)\n",
    "\n",
    "ax2 = plt.subplot(132)\n",
    "plt.pie(df_rating_eu['eu_sales'], labels=df_rating_eu.index, autopct='%1.0f%%')\n",
    "ax2.set_title('Европа', fontsize=15)\n",
    "\n",
    "ax3 = plt.subplot(133)\n",
    "plt.pie(df_rating_jp['jp_sales'], labels=df_rating_jp.index, autopct='%1.0f%%')\n",
    "ax3.set_title('Япония', fontsize=15)\n",
    "plt.show()"
   ]
  },
  {
   "cell_type": "code",
   "execution_count": 57,
   "metadata": {},
   "outputs": [],
   "source": [
    "#df_rating_na.plot(kind='bar', figsize=(7,4), color = 'coral', alpha = 0.6, title='Влияние рейтинга ESRB на продажи (%) в Северной Америке');\n",
    "#df_rating_eu.plot(kind='bar', figsize=(7,4), color = 'red', alpha = 0.6, title='Влияние рейтинга ESRB на продажи (%) в Европе');\n",
    "#df_rating_jp.plot(kind='bar', figsize=(7,4), color = 'violet', alpha = 0.5, title='Влияние рейтинга ESRB на продажи (%) в Японии');"
   ]
  },
  {
   "cell_type": "markdown",
   "metadata": {},
   "source": [
    "### Выводы к разделу"
   ]
  },
  {
   "cell_type": "markdown",
   "metadata": {},
   "source": [
    "***Северная Америка***\n",
    "- около 38 % продаж приносят игры с рейтингом M(для тех, кто старше 17 лет), без рейтинга - 20% и E - 18 %(подходит для всех возрастов).\n",
    "\n",
    "***Европа***\n",
    "- аналогичная ситуация с Америкой 37 % продаж приносят игры с рейтингом М(для тех, кто старше 17 лет) и E - 21%(подходит для всех возрастов), без рейтинга - 20% от продаж.\n",
    "\n",
    "***Япония***\n",
    "- 60 % продаж приходится на игры, у которых не определен рейтинг, далее следуют игры с рейтингом T - 15% (подходит для лиц от 13 лет), E - 11 %(подходит для всех возрастов). Снова видим координальную разницу между рынком Японии и остальными рассматриваемыми регионами.\n"
   ]
  },
  {
   "cell_type": "markdown",
   "metadata": {},
   "source": [
    "## Проверка гипотез"
   ]
  },
  {
   "cell_type": "code",
   "execution_count": 58,
   "metadata": {
    "scrolled": true
   },
   "outputs": [
    {
     "data": {
      "text/html": [
       "<div>\n",
       "<style scoped>\n",
       "    .dataframe tbody tr th:only-of-type {\n",
       "        vertical-align: middle;\n",
       "    }\n",
       "\n",
       "    .dataframe tbody tr th {\n",
       "        vertical-align: top;\n",
       "    }\n",
       "\n",
       "    .dataframe thead th {\n",
       "        text-align: right;\n",
       "    }\n",
       "</style>\n",
       "<table border=\"1\" class=\"dataframe\">\n",
       "  <thead>\n",
       "    <tr style=\"text-align: right;\">\n",
       "      <th></th>\n",
       "      <th>name</th>\n",
       "      <th>platform</th>\n",
       "      <th>year_of_release</th>\n",
       "      <th>genre</th>\n",
       "      <th>na_sales</th>\n",
       "      <th>eu_sales</th>\n",
       "      <th>jp_sales</th>\n",
       "      <th>other_sales</th>\n",
       "      <th>critic_score</th>\n",
       "      <th>user_score</th>\n",
       "      <th>rating</th>\n",
       "      <th>year_of_releas</th>\n",
       "      <th>total_sales</th>\n",
       "    </tr>\n",
       "  </thead>\n",
       "  <tbody>\n",
       "    <tr>\n",
       "      <td>165</td>\n",
       "      <td>grand theft auto v</td>\n",
       "      <td>xone</td>\n",
       "      <td>2014.0</td>\n",
       "      <td>action</td>\n",
       "      <td>2.81</td>\n",
       "      <td>2.19</td>\n",
       "      <td>0.00</td>\n",
       "      <td>0.47</td>\n",
       "      <td>97</td>\n",
       "      <td>7.9</td>\n",
       "      <td>M</td>\n",
       "      <td>2014</td>\n",
       "      <td>5.47</td>\n",
       "    </tr>\n",
       "    <tr>\n",
       "      <td>179</td>\n",
       "      <td>call of duty: advanced warfare</td>\n",
       "      <td>xone</td>\n",
       "      <td>2014.0</td>\n",
       "      <td>shooter</td>\n",
       "      <td>3.22</td>\n",
       "      <td>1.55</td>\n",
       "      <td>0.01</td>\n",
       "      <td>0.48</td>\n",
       "      <td>81</td>\n",
       "      <td>5.4</td>\n",
       "      <td>M</td>\n",
       "      <td>2014</td>\n",
       "      <td>5.26</td>\n",
       "    </tr>\n",
       "    <tr>\n",
       "      <td>242</td>\n",
       "      <td>halo 5: guardians</td>\n",
       "      <td>xone</td>\n",
       "      <td>2015.0</td>\n",
       "      <td>shooter</td>\n",
       "      <td>2.78</td>\n",
       "      <td>1.27</td>\n",
       "      <td>0.03</td>\n",
       "      <td>0.41</td>\n",
       "      <td>84</td>\n",
       "      <td>6.4</td>\n",
       "      <td>T</td>\n",
       "      <td>2015</td>\n",
       "      <td>4.49</td>\n",
       "    </tr>\n",
       "    <tr>\n",
       "      <td>270</td>\n",
       "      <td>fallout 4</td>\n",
       "      <td>xone</td>\n",
       "      <td>2015.0</td>\n",
       "      <td>role-playing</td>\n",
       "      <td>2.51</td>\n",
       "      <td>1.32</td>\n",
       "      <td>0.01</td>\n",
       "      <td>0.38</td>\n",
       "      <td>88</td>\n",
       "      <td>6.2</td>\n",
       "      <td>M</td>\n",
       "      <td>2015</td>\n",
       "      <td>4.22</td>\n",
       "    </tr>\n",
       "    <tr>\n",
       "      <td>373</td>\n",
       "      <td>assassin's creed: unity</td>\n",
       "      <td>xone</td>\n",
       "      <td>2014.0</td>\n",
       "      <td>action</td>\n",
       "      <td>2.27</td>\n",
       "      <td>0.90</td>\n",
       "      <td>0.00</td>\n",
       "      <td>0.33</td>\n",
       "      <td>72</td>\n",
       "      <td>4.1</td>\n",
       "      <td>M</td>\n",
       "      <td>2014</td>\n",
       "      <td>3.50</td>\n",
       "    </tr>\n",
       "    <tr>\n",
       "      <td>...</td>\n",
       "      <td>...</td>\n",
       "      <td>...</td>\n",
       "      <td>...</td>\n",
       "      <td>...</td>\n",
       "      <td>...</td>\n",
       "      <td>...</td>\n",
       "      <td>...</td>\n",
       "      <td>...</td>\n",
       "      <td>...</td>\n",
       "      <td>...</td>\n",
       "      <td>...</td>\n",
       "      <td>...</td>\n",
       "      <td>...</td>\n",
       "    </tr>\n",
       "    <tr>\n",
       "      <td>16544</td>\n",
       "      <td>assassin's creed chronicles</td>\n",
       "      <td>xone</td>\n",
       "      <td>2016.0</td>\n",
       "      <td>action</td>\n",
       "      <td>0.00</td>\n",
       "      <td>0.01</td>\n",
       "      <td>0.00</td>\n",
       "      <td>0.00</td>\n",
       "      <td>101</td>\n",
       "      <td>6.8</td>\n",
       "      <td>T</td>\n",
       "      <td>2016</td>\n",
       "      <td>0.01</td>\n",
       "    </tr>\n",
       "    <tr>\n",
       "      <td>16597</td>\n",
       "      <td>saints row: gat out of hell</td>\n",
       "      <td>xone</td>\n",
       "      <td>2015.0</td>\n",
       "      <td>action</td>\n",
       "      <td>0.00</td>\n",
       "      <td>0.01</td>\n",
       "      <td>0.00</td>\n",
       "      <td>0.00</td>\n",
       "      <td>65</td>\n",
       "      <td>6.0</td>\n",
       "      <td>M</td>\n",
       "      <td>2015</td>\n",
       "      <td>0.01</td>\n",
       "    </tr>\n",
       "    <tr>\n",
       "      <td>16630</td>\n",
       "      <td>sébastien loeb rally evo</td>\n",
       "      <td>xone</td>\n",
       "      <td>2016.0</td>\n",
       "      <td>racing</td>\n",
       "      <td>0.00</td>\n",
       "      <td>0.01</td>\n",
       "      <td>0.00</td>\n",
       "      <td>0.00</td>\n",
       "      <td>63</td>\n",
       "      <td>8.2</td>\n",
       "      <td>E</td>\n",
       "      <td>2016</td>\n",
       "      <td>0.01</td>\n",
       "    </tr>\n",
       "    <tr>\n",
       "      <td>16643</td>\n",
       "      <td>rugby challenge 3</td>\n",
       "      <td>xone</td>\n",
       "      <td>2016.0</td>\n",
       "      <td>sports</td>\n",
       "      <td>0.00</td>\n",
       "      <td>0.01</td>\n",
       "      <td>0.00</td>\n",
       "      <td>0.00</td>\n",
       "      <td>101</td>\n",
       "      <td>6.6</td>\n",
       "      <td>E</td>\n",
       "      <td>2016</td>\n",
       "      <td>0.01</td>\n",
       "    </tr>\n",
       "    <tr>\n",
       "      <td>16660</td>\n",
       "      <td>prison architect</td>\n",
       "      <td>xone</td>\n",
       "      <td>2016.0</td>\n",
       "      <td>action</td>\n",
       "      <td>0.01</td>\n",
       "      <td>0.00</td>\n",
       "      <td>0.00</td>\n",
       "      <td>0.00</td>\n",
       "      <td>74</td>\n",
       "      <td>6.7</td>\n",
       "      <td>NO</td>\n",
       "      <td>2016</td>\n",
       "      <td>0.01</td>\n",
       "    </tr>\n",
       "  </tbody>\n",
       "</table>\n",
       "<p>182 rows × 13 columns</p>\n",
       "</div>"
      ],
      "text/plain": [
       "                                 name platform  year_of_release         genre  \\\n",
       "165                grand theft auto v     xone           2014.0        action   \n",
       "179    call of duty: advanced warfare     xone           2014.0       shooter   \n",
       "242                 halo 5: guardians     xone           2015.0       shooter   \n",
       "270                         fallout 4     xone           2015.0  role-playing   \n",
       "373           assassin's creed: unity     xone           2014.0        action   \n",
       "...                               ...      ...              ...           ...   \n",
       "16544     assassin's creed chronicles     xone           2016.0        action   \n",
       "16597     saints row: gat out of hell     xone           2015.0        action   \n",
       "16630        sébastien loeb rally evo     xone           2016.0        racing   \n",
       "16643               rugby challenge 3     xone           2016.0        sports   \n",
       "16660                prison architect     xone           2016.0        action   \n",
       "\n",
       "       na_sales  eu_sales  jp_sales  other_sales  critic_score  user_score  \\\n",
       "165        2.81      2.19      0.00         0.47            97         7.9   \n",
       "179        3.22      1.55      0.01         0.48            81         5.4   \n",
       "242        2.78      1.27      0.03         0.41            84         6.4   \n",
       "270        2.51      1.32      0.01         0.38            88         6.2   \n",
       "373        2.27      0.90      0.00         0.33            72         4.1   \n",
       "...         ...       ...       ...          ...           ...         ...   \n",
       "16544      0.00      0.01      0.00         0.00           101         6.8   \n",
       "16597      0.00      0.01      0.00         0.00            65         6.0   \n",
       "16630      0.00      0.01      0.00         0.00            63         8.2   \n",
       "16643      0.00      0.01      0.00         0.00           101         6.6   \n",
       "16660      0.01      0.00      0.00         0.00            74         6.7   \n",
       "\n",
       "      rating  year_of_releas  total_sales  \n",
       "165        M            2014         5.47  \n",
       "179        M            2014         5.26  \n",
       "242        T            2015         4.49  \n",
       "270        M            2015         4.22  \n",
       "373        M            2014         3.50  \n",
       "...      ...             ...          ...  \n",
       "16544      T            2016         0.01  \n",
       "16597      M            2015         0.01  \n",
       "16630      E            2016         0.01  \n",
       "16643      E            2016         0.01  \n",
       "16660     NO            2016         0.01  \n",
       "\n",
       "[182 rows x 13 columns]"
      ]
     },
     "execution_count": 58,
     "metadata": {},
     "output_type": "execute_result"
    }
   ],
   "source": [
    "df_actual_xone = df_actual.query('platform == \"xone\" and user_score != -1')\n",
    "df_actual_xone"
   ]
  },
  {
   "cell_type": "code",
   "execution_count": 59,
   "metadata": {},
   "outputs": [
    {
     "data": {
      "text/html": [
       "<div>\n",
       "<style scoped>\n",
       "    .dataframe tbody tr th:only-of-type {\n",
       "        vertical-align: middle;\n",
       "    }\n",
       "\n",
       "    .dataframe tbody tr th {\n",
       "        vertical-align: top;\n",
       "    }\n",
       "\n",
       "    .dataframe thead th {\n",
       "        text-align: right;\n",
       "    }\n",
       "</style>\n",
       "<table border=\"1\" class=\"dataframe\">\n",
       "  <thead>\n",
       "    <tr style=\"text-align: right;\">\n",
       "      <th></th>\n",
       "      <th>name</th>\n",
       "      <th>platform</th>\n",
       "      <th>year_of_release</th>\n",
       "      <th>genre</th>\n",
       "      <th>na_sales</th>\n",
       "      <th>eu_sales</th>\n",
       "      <th>jp_sales</th>\n",
       "      <th>other_sales</th>\n",
       "      <th>critic_score</th>\n",
       "      <th>user_score</th>\n",
       "      <th>rating</th>\n",
       "      <th>year_of_releas</th>\n",
       "      <th>total_sales</th>\n",
       "    </tr>\n",
       "  </thead>\n",
       "  <tbody>\n",
       "    <tr>\n",
       "      <td>458</td>\n",
       "      <td>the sims 4</td>\n",
       "      <td>pc</td>\n",
       "      <td>2014.0</td>\n",
       "      <td>simulation</td>\n",
       "      <td>1.00</td>\n",
       "      <td>1.82</td>\n",
       "      <td>0.0</td>\n",
       "      <td>0.23</td>\n",
       "      <td>70</td>\n",
       "      <td>3.9</td>\n",
       "      <td>T</td>\n",
       "      <td>2014</td>\n",
       "      <td>3.05</td>\n",
       "    </tr>\n",
       "    <tr>\n",
       "      <td>1095</td>\n",
       "      <td>starcraft ii: heart of the swarm</td>\n",
       "      <td>pc</td>\n",
       "      <td>2013.0</td>\n",
       "      <td>strategy</td>\n",
       "      <td>0.83</td>\n",
       "      <td>0.66</td>\n",
       "      <td>0.0</td>\n",
       "      <td>0.18</td>\n",
       "      <td>86</td>\n",
       "      <td>7.9</td>\n",
       "      <td>T</td>\n",
       "      <td>2013</td>\n",
       "      <td>1.67</td>\n",
       "    </tr>\n",
       "    <tr>\n",
       "      <td>1351</td>\n",
       "      <td>simcity (2013)</td>\n",
       "      <td>pc</td>\n",
       "      <td>2013.0</td>\n",
       "      <td>simulation</td>\n",
       "      <td>0.48</td>\n",
       "      <td>0.77</td>\n",
       "      <td>0.0</td>\n",
       "      <td>0.17</td>\n",
       "      <td>64</td>\n",
       "      <td>2.2</td>\n",
       "      <td>E10+</td>\n",
       "      <td>2013</td>\n",
       "      <td>1.42</td>\n",
       "    </tr>\n",
       "    <tr>\n",
       "      <td>1437</td>\n",
       "      <td>battlefield 4</td>\n",
       "      <td>pc</td>\n",
       "      <td>2013.0</td>\n",
       "      <td>shooter</td>\n",
       "      <td>0.39</td>\n",
       "      <td>0.87</td>\n",
       "      <td>0.0</td>\n",
       "      <td>0.10</td>\n",
       "      <td>81</td>\n",
       "      <td>6.0</td>\n",
       "      <td>M</td>\n",
       "      <td>2013</td>\n",
       "      <td>1.36</td>\n",
       "    </tr>\n",
       "    <tr>\n",
       "      <td>1530</td>\n",
       "      <td>fallout 4</td>\n",
       "      <td>pc</td>\n",
       "      <td>2015.0</td>\n",
       "      <td>role-playing</td>\n",
       "      <td>0.51</td>\n",
       "      <td>0.67</td>\n",
       "      <td>0.0</td>\n",
       "      <td>0.10</td>\n",
       "      <td>84</td>\n",
       "      <td>5.4</td>\n",
       "      <td>M</td>\n",
       "      <td>2015</td>\n",
       "      <td>1.28</td>\n",
       "    </tr>\n",
       "    <tr>\n",
       "      <td>...</td>\n",
       "      <td>...</td>\n",
       "      <td>...</td>\n",
       "      <td>...</td>\n",
       "      <td>...</td>\n",
       "      <td>...</td>\n",
       "      <td>...</td>\n",
       "      <td>...</td>\n",
       "      <td>...</td>\n",
       "      <td>...</td>\n",
       "      <td>...</td>\n",
       "      <td>...</td>\n",
       "      <td>...</td>\n",
       "      <td>...</td>\n",
       "    </tr>\n",
       "    <tr>\n",
       "      <td>16456</td>\n",
       "      <td>fallout anthology</td>\n",
       "      <td>pc</td>\n",
       "      <td>2015.0</td>\n",
       "      <td>action</td>\n",
       "      <td>0.00</td>\n",
       "      <td>0.01</td>\n",
       "      <td>0.0</td>\n",
       "      <td>0.00</td>\n",
       "      <td>101</td>\n",
       "      <td>8.3</td>\n",
       "      <td>NO</td>\n",
       "      <td>2015</td>\n",
       "      <td>0.01</td>\n",
       "    </tr>\n",
       "    <tr>\n",
       "      <td>16463</td>\n",
       "      <td>trackmania turbo</td>\n",
       "      <td>pc</td>\n",
       "      <td>2016.0</td>\n",
       "      <td>action</td>\n",
       "      <td>0.00</td>\n",
       "      <td>0.01</td>\n",
       "      <td>0.0</td>\n",
       "      <td>0.00</td>\n",
       "      <td>79</td>\n",
       "      <td>6.8</td>\n",
       "      <td>E</td>\n",
       "      <td>2016</td>\n",
       "      <td>0.01</td>\n",
       "    </tr>\n",
       "    <tr>\n",
       "      <td>16509</td>\n",
       "      <td>ride 2</td>\n",
       "      <td>pc</td>\n",
       "      <td>2016.0</td>\n",
       "      <td>racing</td>\n",
       "      <td>0.00</td>\n",
       "      <td>0.01</td>\n",
       "      <td>0.0</td>\n",
       "      <td>0.00</td>\n",
       "      <td>78</td>\n",
       "      <td>7.9</td>\n",
       "      <td>E</td>\n",
       "      <td>2016</td>\n",
       "      <td>0.01</td>\n",
       "    </tr>\n",
       "    <tr>\n",
       "      <td>16518</td>\n",
       "      <td>rugby world cup 2015</td>\n",
       "      <td>pc</td>\n",
       "      <td>2015.0</td>\n",
       "      <td>sports</td>\n",
       "      <td>0.00</td>\n",
       "      <td>0.01</td>\n",
       "      <td>0.0</td>\n",
       "      <td>0.00</td>\n",
       "      <td>101</td>\n",
       "      <td>1.4</td>\n",
       "      <td>E</td>\n",
       "      <td>2015</td>\n",
       "      <td>0.01</td>\n",
       "    </tr>\n",
       "    <tr>\n",
       "      <td>16692</td>\n",
       "      <td>metal gear solid v: ground zeroes</td>\n",
       "      <td>pc</td>\n",
       "      <td>2014.0</td>\n",
       "      <td>action</td>\n",
       "      <td>0.00</td>\n",
       "      <td>0.01</td>\n",
       "      <td>0.0</td>\n",
       "      <td>0.00</td>\n",
       "      <td>80</td>\n",
       "      <td>7.6</td>\n",
       "      <td>M</td>\n",
       "      <td>2014</td>\n",
       "      <td>0.01</td>\n",
       "    </tr>\n",
       "  </tbody>\n",
       "</table>\n",
       "<p>155 rows × 13 columns</p>\n",
       "</div>"
      ],
      "text/plain": [
       "                                    name platform  year_of_release  \\\n",
       "458                           the sims 4       pc           2014.0   \n",
       "1095    starcraft ii: heart of the swarm       pc           2013.0   \n",
       "1351                      simcity (2013)       pc           2013.0   \n",
       "1437                       battlefield 4       pc           2013.0   \n",
       "1530                           fallout 4       pc           2015.0   \n",
       "...                                  ...      ...              ...   \n",
       "16456                  fallout anthology       pc           2015.0   \n",
       "16463                   trackmania turbo       pc           2016.0   \n",
       "16509                             ride 2       pc           2016.0   \n",
       "16518               rugby world cup 2015       pc           2015.0   \n",
       "16692  metal gear solid v: ground zeroes       pc           2014.0   \n",
       "\n",
       "              genre  na_sales  eu_sales  jp_sales  other_sales  critic_score  \\\n",
       "458      simulation      1.00      1.82       0.0         0.23            70   \n",
       "1095       strategy      0.83      0.66       0.0         0.18            86   \n",
       "1351     simulation      0.48      0.77       0.0         0.17            64   \n",
       "1437        shooter      0.39      0.87       0.0         0.10            81   \n",
       "1530   role-playing      0.51      0.67       0.0         0.10            84   \n",
       "...             ...       ...       ...       ...          ...           ...   \n",
       "16456        action      0.00      0.01       0.0         0.00           101   \n",
       "16463        action      0.00      0.01       0.0         0.00            79   \n",
       "16509        racing      0.00      0.01       0.0         0.00            78   \n",
       "16518        sports      0.00      0.01       0.0         0.00           101   \n",
       "16692        action      0.00      0.01       0.0         0.00            80   \n",
       "\n",
       "       user_score rating  year_of_releas  total_sales  \n",
       "458           3.9      T            2014         3.05  \n",
       "1095          7.9      T            2013         1.67  \n",
       "1351          2.2   E10+            2013         1.42  \n",
       "1437          6.0      M            2013         1.36  \n",
       "1530          5.4      M            2015         1.28  \n",
       "...           ...    ...             ...          ...  \n",
       "16456         8.3     NO            2015         0.01  \n",
       "16463         6.8      E            2016         0.01  \n",
       "16509         7.9      E            2016         0.01  \n",
       "16518         1.4      E            2015         0.01  \n",
       "16692         7.6      M            2014         0.01  \n",
       "\n",
       "[155 rows x 13 columns]"
      ]
     },
     "execution_count": 59,
     "metadata": {},
     "output_type": "execute_result"
    }
   ],
   "source": [
    "df_actual_pc = df_actual.query('platform == \"pc\" and user_score != -1')\n",
    "df_actual_pc"
   ]
  },
  {
   "cell_type": "markdown",
   "metadata": {},
   "source": [
    "***Формулировка нулевой гипотезы:*** Средние пользовательские рейтинги платформ Xbox One и PC одинаковые\n",
    "\n",
    "***Формулировка альтернативной гипотезы:*** Средние пользовательские рейтинги платформ Xbox One и PC различаются.\n",
    "\n",
    "Уровень значимости выберем равным в 0.05 Применим метод ttest_ind, так как мы проверяем равенство средних для двух генеральных совокупностей по взятым из них выборкам"
   ]
  },
  {
   "cell_type": "code",
   "execution_count": 60,
   "metadata": {},
   "outputs": [
    {
     "name": "stdout",
     "output_type": "stream",
     "text": [
      "Дисперсия выборки для пользовательского рейтинга платформы xone: 1.8965188383045526\n",
      "Дисперсия выборки для пользовательского рейтинга платформы pc: 3.016306347554631\n",
      "\n",
      "Стандартное отклонение выборки для пользовательского рейтинга платформы xone: 1.377141546212499\n",
      "Стандартное отклонение выборки для пользовательского рейтинга платформы pc: 1.7367516654820374\n"
     ]
    }
   ],
   "source": [
    "print('Дисперсия выборки для пользовательского рейтинга платформы xone:', np.var(df_actual_xone['user_score']))\n",
    "print('Дисперсия выборки для пользовательского рейтинга платформы pc:', np.var(df_actual_pc['user_score']))\n",
    "print()\n",
    "print('Стандартное отклонение выборки для пользовательского рейтинга платформы xone:', np.std(df_actual_xone['user_score']))\n",
    "print('Стандартное отклонение выборки для пользовательского рейтинга платформы pc:', np.std(df_actual_pc['user_score']))"
   ]
  },
  {
   "cell_type": "markdown",
   "metadata": {},
   "source": [
    "При использовании метода st.ttest_ind для параметра equal_var определим значение False. Так как из предыдущего пункта преокта видно, что дисперсия для пользователей разных тарифов значимо отличаются друг от друга."
   ]
  },
  {
   "cell_type": "code",
   "execution_count": 61,
   "metadata": {},
   "outputs": [
    {
     "name": "stdout",
     "output_type": "stream",
     "text": [
      "p-значение: 0.14759594013430463\n",
      "Не получилось отвергнуть нулевую гипотезу\n"
     ]
    }
   ],
   "source": [
    "alpha = 0.05\n",
    "\n",
    "results = st.ttest_ind(df_actual_xone['user_score'], df_actual_pc['user_score'], equal_var = False)\n",
    "\n",
    "print('p-значение:', results.pvalue)\n",
    "\n",
    "if (results.pvalue < alpha):\n",
    "    print(\"Отвергаем нулевую гипотезу\")\n",
    "else:\n",
    "    print(\"Не получилось отвергнуть нулевую гипотезу\")"
   ]
  },
  {
   "cell_type": "markdown",
   "metadata": {},
   "source": [
    "Посмотрим среднее и убедимся так ли это"
   ]
  },
  {
   "cell_type": "code",
   "execution_count": 62,
   "metadata": {},
   "outputs": [
    {
     "name": "stdout",
     "output_type": "stream",
     "text": [
      "Среднее для выборки для пользовательского рейтинга платформы xone: 6.521428571428572\n",
      "Среднее для выборки для пользовательского рейтинга платформы pc: 6.2696774193548395\n"
     ]
    }
   ],
   "source": [
    "print('Среднее для выборки для пользовательского рейтинга платформы xone:', df_actual_xone['user_score'].mean())\n",
    "print('Среднее для выборки для пользовательского рейтинга платформы pc:', df_actual_pc['user_score'].mean())"
   ]
  },
  {
   "cell_type": "markdown",
   "metadata": {},
   "source": [
    "Действительно,нулевая гипотеза верна и средние двух выборок равны."
   ]
  },
  {
   "cell_type": "markdown",
   "metadata": {},
   "source": [
    "***Формулировка нулевой гипотезы:*** Средние пользовательские рейтинги жанров Action (англ. «действие», экшен-игры) и Sports (англ. «спортивные соревнования») одинаковые.\n",
    "\n",
    "***Формулировка альтернативной гипотезы:*** Средние пользовательские рейтинги жанров Action (англ. «действие», экшен-игры) и Sports (англ. «спортивные соревнования») разные.\n",
    "\n",
    "Уровень значимости выберем равным в 0.05 Применим метод ttest_ind, так как мы проверяем равенство средних для двух генеральных совокупностей по взятым из них выборкам"
   ]
  },
  {
   "cell_type": "code",
   "execution_count": 63,
   "metadata": {},
   "outputs": [
    {
     "data": {
      "text/html": [
       "<div>\n",
       "<style scoped>\n",
       "    .dataframe tbody tr th:only-of-type {\n",
       "        vertical-align: middle;\n",
       "    }\n",
       "\n",
       "    .dataframe tbody tr th {\n",
       "        vertical-align: top;\n",
       "    }\n",
       "\n",
       "    .dataframe thead th {\n",
       "        text-align: right;\n",
       "    }\n",
       "</style>\n",
       "<table border=\"1\" class=\"dataframe\">\n",
       "  <thead>\n",
       "    <tr style=\"text-align: right;\">\n",
       "      <th></th>\n",
       "      <th>name</th>\n",
       "      <th>platform</th>\n",
       "      <th>year_of_release</th>\n",
       "      <th>genre</th>\n",
       "      <th>na_sales</th>\n",
       "      <th>eu_sales</th>\n",
       "      <th>jp_sales</th>\n",
       "      <th>other_sales</th>\n",
       "      <th>critic_score</th>\n",
       "      <th>user_score</th>\n",
       "      <th>rating</th>\n",
       "      <th>year_of_releas</th>\n",
       "      <th>total_sales</th>\n",
       "    </tr>\n",
       "  </thead>\n",
       "  <tbody>\n",
       "    <tr>\n",
       "      <td>16</td>\n",
       "      <td>grand theft auto v</td>\n",
       "      <td>ps3</td>\n",
       "      <td>2013.0</td>\n",
       "      <td>action</td>\n",
       "      <td>7.02</td>\n",
       "      <td>9.09</td>\n",
       "      <td>0.98</td>\n",
       "      <td>3.96</td>\n",
       "      <td>97</td>\n",
       "      <td>8.2</td>\n",
       "      <td>M</td>\n",
       "      <td>2013</td>\n",
       "      <td>21.05</td>\n",
       "    </tr>\n",
       "    <tr>\n",
       "      <td>23</td>\n",
       "      <td>grand theft auto v</td>\n",
       "      <td>x360</td>\n",
       "      <td>2013.0</td>\n",
       "      <td>action</td>\n",
       "      <td>9.66</td>\n",
       "      <td>5.14</td>\n",
       "      <td>0.06</td>\n",
       "      <td>1.41</td>\n",
       "      <td>97</td>\n",
       "      <td>8.1</td>\n",
       "      <td>M</td>\n",
       "      <td>2013</td>\n",
       "      <td>16.27</td>\n",
       "    </tr>\n",
       "    <tr>\n",
       "      <td>42</td>\n",
       "      <td>grand theft auto v</td>\n",
       "      <td>ps4</td>\n",
       "      <td>2014.0</td>\n",
       "      <td>action</td>\n",
       "      <td>3.96</td>\n",
       "      <td>6.31</td>\n",
       "      <td>0.38</td>\n",
       "      <td>1.97</td>\n",
       "      <td>97</td>\n",
       "      <td>8.3</td>\n",
       "      <td>M</td>\n",
       "      <td>2014</td>\n",
       "      <td>12.62</td>\n",
       "    </tr>\n",
       "    <tr>\n",
       "      <td>149</td>\n",
       "      <td>the last of us</td>\n",
       "      <td>ps3</td>\n",
       "      <td>2013.0</td>\n",
       "      <td>action</td>\n",
       "      <td>2.41</td>\n",
       "      <td>2.18</td>\n",
       "      <td>0.28</td>\n",
       "      <td>0.99</td>\n",
       "      <td>95</td>\n",
       "      <td>9.1</td>\n",
       "      <td>M</td>\n",
       "      <td>2013</td>\n",
       "      <td>5.86</td>\n",
       "    </tr>\n",
       "    <tr>\n",
       "      <td>165</td>\n",
       "      <td>grand theft auto v</td>\n",
       "      <td>xone</td>\n",
       "      <td>2014.0</td>\n",
       "      <td>action</td>\n",
       "      <td>2.81</td>\n",
       "      <td>2.19</td>\n",
       "      <td>0.00</td>\n",
       "      <td>0.47</td>\n",
       "      <td>97</td>\n",
       "      <td>7.9</td>\n",
       "      <td>M</td>\n",
       "      <td>2014</td>\n",
       "      <td>5.47</td>\n",
       "    </tr>\n",
       "    <tr>\n",
       "      <td>...</td>\n",
       "      <td>...</td>\n",
       "      <td>...</td>\n",
       "      <td>...</td>\n",
       "      <td>...</td>\n",
       "      <td>...</td>\n",
       "      <td>...</td>\n",
       "      <td>...</td>\n",
       "      <td>...</td>\n",
       "      <td>...</td>\n",
       "      <td>...</td>\n",
       "      <td>...</td>\n",
       "      <td>...</td>\n",
       "      <td>...</td>\n",
       "    </tr>\n",
       "    <tr>\n",
       "      <td>16597</td>\n",
       "      <td>saints row: gat out of hell</td>\n",
       "      <td>xone</td>\n",
       "      <td>2015.0</td>\n",
       "      <td>action</td>\n",
       "      <td>0.00</td>\n",
       "      <td>0.01</td>\n",
       "      <td>0.00</td>\n",
       "      <td>0.00</td>\n",
       "      <td>65</td>\n",
       "      <td>6.0</td>\n",
       "      <td>M</td>\n",
       "      <td>2015</td>\n",
       "      <td>0.01</td>\n",
       "    </tr>\n",
       "    <tr>\n",
       "      <td>16652</td>\n",
       "      <td>fast racing neo</td>\n",
       "      <td>wiiu</td>\n",
       "      <td>2016.0</td>\n",
       "      <td>action</td>\n",
       "      <td>0.00</td>\n",
       "      <td>0.01</td>\n",
       "      <td>0.00</td>\n",
       "      <td>0.00</td>\n",
       "      <td>81</td>\n",
       "      <td>8.5</td>\n",
       "      <td>E</td>\n",
       "      <td>2016</td>\n",
       "      <td>0.01</td>\n",
       "    </tr>\n",
       "    <tr>\n",
       "      <td>16654</td>\n",
       "      <td>ben 10 omniverse 2</td>\n",
       "      <td>x360</td>\n",
       "      <td>2013.0</td>\n",
       "      <td>action</td>\n",
       "      <td>0.00</td>\n",
       "      <td>0.01</td>\n",
       "      <td>0.00</td>\n",
       "      <td>0.00</td>\n",
       "      <td>101</td>\n",
       "      <td>5.1</td>\n",
       "      <td>E10+</td>\n",
       "      <td>2013</td>\n",
       "      <td>0.01</td>\n",
       "    </tr>\n",
       "    <tr>\n",
       "      <td>16660</td>\n",
       "      <td>prison architect</td>\n",
       "      <td>xone</td>\n",
       "      <td>2016.0</td>\n",
       "      <td>action</td>\n",
       "      <td>0.01</td>\n",
       "      <td>0.00</td>\n",
       "      <td>0.00</td>\n",
       "      <td>0.00</td>\n",
       "      <td>74</td>\n",
       "      <td>6.7</td>\n",
       "      <td>NO</td>\n",
       "      <td>2016</td>\n",
       "      <td>0.01</td>\n",
       "    </tr>\n",
       "    <tr>\n",
       "      <td>16692</td>\n",
       "      <td>metal gear solid v: ground zeroes</td>\n",
       "      <td>pc</td>\n",
       "      <td>2014.0</td>\n",
       "      <td>action</td>\n",
       "      <td>0.00</td>\n",
       "      <td>0.01</td>\n",
       "      <td>0.00</td>\n",
       "      <td>0.00</td>\n",
       "      <td>80</td>\n",
       "      <td>7.6</td>\n",
       "      <td>M</td>\n",
       "      <td>2014</td>\n",
       "      <td>0.01</td>\n",
       "    </tr>\n",
       "  </tbody>\n",
       "</table>\n",
       "<p>389 rows × 13 columns</p>\n",
       "</div>"
      ],
      "text/plain": [
       "                                    name platform  year_of_release   genre  \\\n",
       "16                    grand theft auto v      ps3           2013.0  action   \n",
       "23                    grand theft auto v     x360           2013.0  action   \n",
       "42                    grand theft auto v      ps4           2014.0  action   \n",
       "149                       the last of us      ps3           2013.0  action   \n",
       "165                   grand theft auto v     xone           2014.0  action   \n",
       "...                                  ...      ...              ...     ...   \n",
       "16597        saints row: gat out of hell     xone           2015.0  action   \n",
       "16652                   fast racing neo      wiiu           2016.0  action   \n",
       "16654                 ben 10 omniverse 2     x360           2013.0  action   \n",
       "16660                   prison architect     xone           2016.0  action   \n",
       "16692  metal gear solid v: ground zeroes       pc           2014.0  action   \n",
       "\n",
       "       na_sales  eu_sales  jp_sales  other_sales  critic_score  user_score  \\\n",
       "16         7.02      9.09      0.98         3.96            97         8.2   \n",
       "23         9.66      5.14      0.06         1.41            97         8.1   \n",
       "42         3.96      6.31      0.38         1.97            97         8.3   \n",
       "149        2.41      2.18      0.28         0.99            95         9.1   \n",
       "165        2.81      2.19      0.00         0.47            97         7.9   \n",
       "...         ...       ...       ...          ...           ...         ...   \n",
       "16597      0.00      0.01      0.00         0.00            65         6.0   \n",
       "16652      0.00      0.01      0.00         0.00            81         8.5   \n",
       "16654      0.00      0.01      0.00         0.00           101         5.1   \n",
       "16660      0.01      0.00      0.00         0.00            74         6.7   \n",
       "16692      0.00      0.01      0.00         0.00            80         7.6   \n",
       "\n",
       "      rating  year_of_releas  total_sales  \n",
       "16         M            2013        21.05  \n",
       "23         M            2013        16.27  \n",
       "42         M            2014        12.62  \n",
       "149        M            2013         5.86  \n",
       "165        M            2014         5.47  \n",
       "...      ...             ...          ...  \n",
       "16597      M            2015         0.01  \n",
       "16652      E            2016         0.01  \n",
       "16654   E10+            2013         0.01  \n",
       "16660     NO            2016         0.01  \n",
       "16692      M            2014         0.01  \n",
       "\n",
       "[389 rows x 13 columns]"
      ]
     },
     "execution_count": 63,
     "metadata": {},
     "output_type": "execute_result"
    }
   ],
   "source": [
    "df_actual_action = df_actual.query('genre == \"action\" and user_score != -1')\n",
    "df_actual_action"
   ]
  },
  {
   "cell_type": "code",
   "execution_count": 64,
   "metadata": {},
   "outputs": [
    {
     "data": {
      "text/html": [
       "<div>\n",
       "<style scoped>\n",
       "    .dataframe tbody tr th:only-of-type {\n",
       "        vertical-align: middle;\n",
       "    }\n",
       "\n",
       "    .dataframe tbody tr th {\n",
       "        vertical-align: top;\n",
       "    }\n",
       "\n",
       "    .dataframe thead th {\n",
       "        text-align: right;\n",
       "    }\n",
       "</style>\n",
       "<table border=\"1\" class=\"dataframe\">\n",
       "  <thead>\n",
       "    <tr style=\"text-align: right;\">\n",
       "      <th></th>\n",
       "      <th>name</th>\n",
       "      <th>platform</th>\n",
       "      <th>year_of_release</th>\n",
       "      <th>genre</th>\n",
       "      <th>na_sales</th>\n",
       "      <th>eu_sales</th>\n",
       "      <th>jp_sales</th>\n",
       "      <th>other_sales</th>\n",
       "      <th>critic_score</th>\n",
       "      <th>user_score</th>\n",
       "      <th>rating</th>\n",
       "      <th>year_of_releas</th>\n",
       "      <th>total_sales</th>\n",
       "    </tr>\n",
       "  </thead>\n",
       "  <tbody>\n",
       "    <tr>\n",
       "      <td>77</td>\n",
       "      <td>fifa 16</td>\n",
       "      <td>ps4</td>\n",
       "      <td>2015.0</td>\n",
       "      <td>sports</td>\n",
       "      <td>1.12</td>\n",
       "      <td>6.12</td>\n",
       "      <td>0.06</td>\n",
       "      <td>1.28</td>\n",
       "      <td>82</td>\n",
       "      <td>4.3</td>\n",
       "      <td>E</td>\n",
       "      <td>2015</td>\n",
       "      <td>8.58</td>\n",
       "    </tr>\n",
       "    <tr>\n",
       "      <td>94</td>\n",
       "      <td>fifa 17</td>\n",
       "      <td>ps4</td>\n",
       "      <td>2016.0</td>\n",
       "      <td>sports</td>\n",
       "      <td>0.66</td>\n",
       "      <td>5.75</td>\n",
       "      <td>0.08</td>\n",
       "      <td>1.11</td>\n",
       "      <td>85</td>\n",
       "      <td>5.0</td>\n",
       "      <td>E</td>\n",
       "      <td>2016</td>\n",
       "      <td>7.60</td>\n",
       "    </tr>\n",
       "    <tr>\n",
       "      <td>126</td>\n",
       "      <td>fifa 14</td>\n",
       "      <td>ps3</td>\n",
       "      <td>2013.0</td>\n",
       "      <td>sports</td>\n",
       "      <td>0.78</td>\n",
       "      <td>4.24</td>\n",
       "      <td>0.07</td>\n",
       "      <td>1.37</td>\n",
       "      <td>86</td>\n",
       "      <td>4.3</td>\n",
       "      <td>E</td>\n",
       "      <td>2013</td>\n",
       "      <td>6.46</td>\n",
       "    </tr>\n",
       "    <tr>\n",
       "      <td>143</td>\n",
       "      <td>fifa 15</td>\n",
       "      <td>ps4</td>\n",
       "      <td>2014.0</td>\n",
       "      <td>sports</td>\n",
       "      <td>0.80</td>\n",
       "      <td>4.33</td>\n",
       "      <td>0.05</td>\n",
       "      <td>0.90</td>\n",
       "      <td>82</td>\n",
       "      <td>5.7</td>\n",
       "      <td>E</td>\n",
       "      <td>2014</td>\n",
       "      <td>6.08</td>\n",
       "    </tr>\n",
       "    <tr>\n",
       "      <td>264</td>\n",
       "      <td>fifa 15</td>\n",
       "      <td>ps3</td>\n",
       "      <td>2014.0</td>\n",
       "      <td>sports</td>\n",
       "      <td>0.58</td>\n",
       "      <td>3.02</td>\n",
       "      <td>0.04</td>\n",
       "      <td>0.64</td>\n",
       "      <td>101</td>\n",
       "      <td>4.5</td>\n",
       "      <td>E</td>\n",
       "      <td>2014</td>\n",
       "      <td>4.28</td>\n",
       "    </tr>\n",
       "    <tr>\n",
       "      <td>...</td>\n",
       "      <td>...</td>\n",
       "      <td>...</td>\n",
       "      <td>...</td>\n",
       "      <td>...</td>\n",
       "      <td>...</td>\n",
       "      <td>...</td>\n",
       "      <td>...</td>\n",
       "      <td>...</td>\n",
       "      <td>...</td>\n",
       "      <td>...</td>\n",
       "      <td>...</td>\n",
       "      <td>...</td>\n",
       "      <td>...</td>\n",
       "    </tr>\n",
       "    <tr>\n",
       "      <td>16142</td>\n",
       "      <td>mlb 15: the show</td>\n",
       "      <td>psv</td>\n",
       "      <td>2015.0</td>\n",
       "      <td>sports</td>\n",
       "      <td>0.01</td>\n",
       "      <td>0.00</td>\n",
       "      <td>0.00</td>\n",
       "      <td>0.00</td>\n",
       "      <td>101</td>\n",
       "      <td>8.8</td>\n",
       "      <td>E</td>\n",
       "      <td>2015</td>\n",
       "      <td>0.01</td>\n",
       "    </tr>\n",
       "    <tr>\n",
       "      <td>16146</td>\n",
       "      <td>don bradman cricket 14</td>\n",
       "      <td>ps3</td>\n",
       "      <td>2014.0</td>\n",
       "      <td>sports</td>\n",
       "      <td>0.00</td>\n",
       "      <td>0.01</td>\n",
       "      <td>0.00</td>\n",
       "      <td>0.00</td>\n",
       "      <td>73</td>\n",
       "      <td>6.9</td>\n",
       "      <td>E</td>\n",
       "      <td>2014</td>\n",
       "      <td>0.01</td>\n",
       "    </tr>\n",
       "    <tr>\n",
       "      <td>16450</td>\n",
       "      <td>turbo: super stunt squad</td>\n",
       "      <td>x360</td>\n",
       "      <td>2013.0</td>\n",
       "      <td>sports</td>\n",
       "      <td>0.00</td>\n",
       "      <td>0.01</td>\n",
       "      <td>0.00</td>\n",
       "      <td>0.00</td>\n",
       "      <td>101</td>\n",
       "      <td>4.5</td>\n",
       "      <td>E</td>\n",
       "      <td>2013</td>\n",
       "      <td>0.01</td>\n",
       "    </tr>\n",
       "    <tr>\n",
       "      <td>16518</td>\n",
       "      <td>rugby world cup 2015</td>\n",
       "      <td>pc</td>\n",
       "      <td>2015.0</td>\n",
       "      <td>sports</td>\n",
       "      <td>0.00</td>\n",
       "      <td>0.01</td>\n",
       "      <td>0.00</td>\n",
       "      <td>0.00</td>\n",
       "      <td>101</td>\n",
       "      <td>1.4</td>\n",
       "      <td>E</td>\n",
       "      <td>2015</td>\n",
       "      <td>0.01</td>\n",
       "    </tr>\n",
       "    <tr>\n",
       "      <td>16643</td>\n",
       "      <td>rugby challenge 3</td>\n",
       "      <td>xone</td>\n",
       "      <td>2016.0</td>\n",
       "      <td>sports</td>\n",
       "      <td>0.00</td>\n",
       "      <td>0.01</td>\n",
       "      <td>0.00</td>\n",
       "      <td>0.00</td>\n",
       "      <td>101</td>\n",
       "      <td>6.6</td>\n",
       "      <td>E</td>\n",
       "      <td>2016</td>\n",
       "      <td>0.01</td>\n",
       "    </tr>\n",
       "  </tbody>\n",
       "</table>\n",
       "<p>160 rows × 13 columns</p>\n",
       "</div>"
      ],
      "text/plain": [
       "                           name platform  year_of_release   genre  na_sales  \\\n",
       "77                      fifa 16      ps4           2015.0  sports      1.12   \n",
       "94                      fifa 17      ps4           2016.0  sports      0.66   \n",
       "126                     fifa 14      ps3           2013.0  sports      0.78   \n",
       "143                     fifa 15      ps4           2014.0  sports      0.80   \n",
       "264                     fifa 15      ps3           2014.0  sports      0.58   \n",
       "...                         ...      ...              ...     ...       ...   \n",
       "16142          mlb 15: the show      psv           2015.0  sports      0.01   \n",
       "16146    don bradman cricket 14      ps3           2014.0  sports      0.00   \n",
       "16450  turbo: super stunt squad     x360           2013.0  sports      0.00   \n",
       "16518      rugby world cup 2015       pc           2015.0  sports      0.00   \n",
       "16643         rugby challenge 3     xone           2016.0  sports      0.00   \n",
       "\n",
       "       eu_sales  jp_sales  other_sales  critic_score  user_score rating  \\\n",
       "77         6.12      0.06         1.28            82         4.3      E   \n",
       "94         5.75      0.08         1.11            85         5.0      E   \n",
       "126        4.24      0.07         1.37            86         4.3      E   \n",
       "143        4.33      0.05         0.90            82         5.7      E   \n",
       "264        3.02      0.04         0.64           101         4.5      E   \n",
       "...         ...       ...          ...           ...         ...    ...   \n",
       "16142      0.00      0.00         0.00           101         8.8      E   \n",
       "16146      0.01      0.00         0.00            73         6.9      E   \n",
       "16450      0.01      0.00         0.00           101         4.5      E   \n",
       "16518      0.01      0.00         0.00           101         1.4      E   \n",
       "16643      0.01      0.00         0.00           101         6.6      E   \n",
       "\n",
       "       year_of_releas  total_sales  \n",
       "77               2015         8.58  \n",
       "94               2016         7.60  \n",
       "126              2013         6.46  \n",
       "143              2014         6.08  \n",
       "264              2014         4.28  \n",
       "...               ...          ...  \n",
       "16142            2015         0.01  \n",
       "16146            2014         0.01  \n",
       "16450            2013         0.01  \n",
       "16518            2015         0.01  \n",
       "16643            2016         0.01  \n",
       "\n",
       "[160 rows x 13 columns]"
      ]
     },
     "execution_count": 64,
     "metadata": {},
     "output_type": "execute_result"
    }
   ],
   "source": [
    "df_actual_sports = df_actual.query('genre == \"sports\" and user_score != -1')\n",
    "df_actual_sports"
   ]
  },
  {
   "cell_type": "code",
   "execution_count": 65,
   "metadata": {},
   "outputs": [
    {
     "name": "stdout",
     "output_type": "stream",
     "text": [
      "Дисперсия выборки для пользовательского рейтинга жанра Action: 1.7648124186332366\n",
      "Дисперсия выборки для пользовательского рейтинга жанра Sports: 3.160733984375\n",
      "\n",
      "Стандартное отклонение выборки для пользовательского рейтинга жанра Action: 1.3284624265041283\n",
      "Стандартное отклонение выборки для пользовательского рейтинга жанра Sports: 1.7778453207112817\n"
     ]
    }
   ],
   "source": [
    "print('Дисперсия выборки для пользовательского рейтинга жанра Action:', np.var(df_actual_action['user_score']))\n",
    "print('Дисперсия выборки для пользовательского рейтинга жанра Sports:', np.var(df_actual_sports['user_score']))\n",
    "print()\n",
    "print('Стандартное отклонение выборки для пользовательского рейтинга жанра Action:', np.std(df_actual_action['user_score']))\n",
    "print('Стандартное отклонение выборки для пользовательского рейтинга жанра Sports:', np.std(df_actual_sports['user_score']))"
   ]
  },
  {
   "cell_type": "code",
   "execution_count": 66,
   "metadata": {},
   "outputs": [
    {
     "name": "stdout",
     "output_type": "stream",
     "text": [
      "p-значение: 1.4460039700704315e-20\n",
      "Отвергаем нулевую гипотезу\n"
     ]
    }
   ],
   "source": [
    "alpha = 0.05\n",
    "\n",
    "results = st.ttest_ind(df_actual_action['user_score'], df_actual_sports['user_score'], equal_var = False)\n",
    "\n",
    "print('p-значение:', results.pvalue)\n",
    "\n",
    "if (results.pvalue < alpha):\n",
    "    print(\"Отвергаем нулевую гипотезу\")\n",
    "else:\n",
    "    print(\"Не получилось отвергнуть нулевую гипотезу\")"
   ]
  },
  {
   "cell_type": "code",
   "execution_count": 67,
   "metadata": {},
   "outputs": [
    {
     "name": "stdout",
     "output_type": "stream",
     "text": [
      "Среднее для выборки для пользовательского рейтинга жанра Action: 6.837532133676092\n",
      "Среднее для выборки для пользовательского рейтинга жанра Sports : 5.238124999999999\n"
     ]
    }
   ],
   "source": [
    "print('Среднее для выборки для пользовательского рейтинга жанра Action:', df_actual_action['user_score'].mean())\n",
    "print('Среднее для выборки для пользовательского рейтинга жанра Sports :', df_actual_sports['user_score'].mean())"
   ]
  },
  {
   "cell_type": "markdown",
   "metadata": {},
   "source": [
    "Да, среднее выборок не равны."
   ]
  },
  {
   "cell_type": "markdown",
   "metadata": {},
   "source": [
    "### Выводы к разделу"
   ]
  },
  {
   "cell_type": "markdown",
   "metadata": {},
   "source": [
    "Исходя из резултатов проверок гипотез, следует:\n",
    "\n",
    "- У Xone и pс средние пользовательские рейтинги схожи, возможно, по той причине, что данные платформы близки по своей аудитории и её жанровым предпочтениям.\n",
    "- средние пользовательские рейтинги для жанров Action и Sports различаются, это подтверждается тем фактом, что Action игры больше и лучше продаются, чем игры жанра Sports, а также в кажжом из регионов продажи свои предпочтения, особенно это заметно при сравнении Америки и Японии, например."
   ]
  },
  {
   "cell_type": "markdown",
   "metadata": {},
   "source": [
    "## Общий вывод"
   ]
  },
  {
   "cell_type": "markdown",
   "metadata": {},
   "source": [
    "***Предообработка данных***\n",
    "\n",
    "Проведена предобработка таблицы: привели к нижнему регистру все значения данных, заполнили и проанализировлаи пропуски, обработали дубликаты, заменили типы даннных, добавили столбец с суммарными продажами.\n",
    "\n",
    "***Исследовательский анализ данных***\n",
    "- выявили что **\"срок жизни\" платформы составляет в основном 10 лет**. И распределения близки к нормальному. Пик продаж приходится на 5-6 год сущестования платформы.\n",
    "- **актуальным периодом для прогнозирвоания на 2017 год** выбрали период **с 2013 год по 2016 год**.\n",
    "- в 2013 году лидерами по продажам являются платформа ps3, x360, 3ds;\n",
    "- в 2014 году основным лидером является ps4, также начинают возрастать продажи платформы xone, продажи ps3 идут на спад;\n",
    "- в 2015 годy явным лидером рынка была платформа - ps4, по сравнению с 2014 годом растут продажи платформы xone.\n",
    "- в 2016 году в лидерах остается платформа ps4, но продажи уже явно стали ниже по сравнению с 2015 годом. xone и 3ds еще находятся в числе лидеров.\n",
    "- **потенциально прибыльными платформами** могут быть ps4, xone и 3ds.\n",
    "- рейтинг критиков лучше влияет на продажи, чем рейтинг пользователей.\n",
    "- самыми прибыльными жанрами являются action, shooter, sports и role-playing, а низкие продажи у puzzle, strategy, adventure, simulation и fighting.\n",
    "- выявили, что при запуске рекламных компаний необходимо учитывать регион продажи. Если Европа и Америка более менее схожи, то Япония координально отличается от них.\n",
    "\n",
    "***Проверка гипотез***\n",
    "- У Xone и pс средние пользовательские рейтинги схожи, возможно, по той причине, что данные платформы близки по своей аудитории и её жанровым предпочтениям.\n",
    "- средние пользовательские рейтинги для жанров Action и Sports различаются, это подтверждается тем фактом, что Action игры больше и лучше продаются, чем игры жанра Sports, а также в кажжом из регионов продажи свои предпочтения, особенно это заметно при сравнении Америки и Японии.\n",
    "\n",
    "***Что нужно учитывать при планирвоании компании на 2017 год?***\n",
    "\n",
    "Делать ставку на современные платформы, такие как PS4, а также платформ X360и Wii, в жанрах Action, Sports, Shooter.\n",
    "В основом большинство игр рассчитано на игроков, которым 17 лет и старше.\n",
    "\n",
    "Необходимо учитывать предпочтения различных регионов и подстроить рекламу конкретно под него. На примере Японии мы поняли, как коордианльно отличаются вкусы и предпочтения Японцев от Северной Америки и Европы.\n"
   ]
  }
 ],
 "metadata": {
  "ExecuteTimeLog": [
   {
    "duration": 5,
    "start_time": "2022-02-05T17:42:08.361Z"
   },
   {
    "duration": 1487,
    "start_time": "2022-02-05T17:48:48.721Z"
   },
   {
    "duration": 151,
    "start_time": "2022-02-05T17:48:50.211Z"
   },
   {
    "duration": 22,
    "start_time": "2022-02-05T17:48:50.365Z"
   },
   {
    "duration": 18,
    "start_time": "2022-02-05T17:48:50.390Z"
   },
   {
    "duration": 35,
    "start_time": "2022-02-05T17:48:50.410Z"
   },
   {
    "duration": 23,
    "start_time": "2022-02-05T17:48:50.447Z"
   },
   {
    "duration": 74,
    "start_time": "2022-02-05T17:48:50.472Z"
   },
   {
    "duration": 5,
    "start_time": "2022-02-05T17:48:50.550Z"
   },
   {
    "duration": 7,
    "start_time": "2022-02-05T17:48:50.558Z"
   },
   {
    "duration": 13,
    "start_time": "2022-02-05T17:48:50.567Z"
   },
   {
    "duration": 54,
    "start_time": "2022-02-05T17:48:50.583Z"
   },
   {
    "duration": 15,
    "start_time": "2022-02-05T17:48:50.639Z"
   },
   {
    "duration": 11,
    "start_time": "2022-02-05T17:48:50.656Z"
   },
   {
    "duration": 5,
    "start_time": "2022-02-05T17:48:50.670Z"
   },
   {
    "duration": 7,
    "start_time": "2022-02-05T17:48:50.678Z"
   },
   {
    "duration": 52,
    "start_time": "2022-02-05T17:48:50.687Z"
   },
   {
    "duration": 8,
    "start_time": "2022-02-05T17:48:50.741Z"
   },
   {
    "duration": 6,
    "start_time": "2022-02-05T17:48:50.751Z"
   },
   {
    "duration": 7,
    "start_time": "2022-02-05T17:48:50.759Z"
   },
   {
    "duration": 6,
    "start_time": "2022-02-05T17:48:50.768Z"
   },
   {
    "duration": 59,
    "start_time": "2022-02-05T17:48:50.776Z"
   },
   {
    "duration": 7,
    "start_time": "2022-02-05T17:48:50.838Z"
   },
   {
    "duration": 8,
    "start_time": "2022-02-05T17:48:50.852Z"
   },
   {
    "duration": 28,
    "start_time": "2022-02-05T17:48:50.864Z"
   },
   {
    "duration": 41,
    "start_time": "2022-02-05T17:48:50.895Z"
   },
   {
    "duration": 6,
    "start_time": "2022-02-05T17:48:50.938Z"
   },
   {
    "duration": 17,
    "start_time": "2022-02-05T17:48:50.946Z"
   },
   {
    "duration": 25,
    "start_time": "2022-02-05T17:48:50.965Z"
   },
   {
    "duration": 806,
    "start_time": "2022-02-05T17:48:50.992Z"
   },
   {
    "duration": 43,
    "start_time": "2022-02-05T17:48:51.801Z"
   },
   {
    "duration": 661,
    "start_time": "2022-02-05T17:48:51.847Z"
   },
   {
    "duration": 762,
    "start_time": "2022-02-05T17:48:52.511Z"
   },
   {
    "duration": 800,
    "start_time": "2022-02-05T17:48:53.275Z"
   },
   {
    "duration": 724,
    "start_time": "2022-02-05T17:48:54.077Z"
   },
   {
    "duration": 965,
    "start_time": "2022-02-05T17:48:54.804Z"
   },
   {
    "duration": 26,
    "start_time": "2022-02-05T17:48:55.772Z"
   },
   {
    "duration": 64,
    "start_time": "2022-02-05T17:48:55.800Z"
   },
   {
    "duration": 933,
    "start_time": "2022-02-05T17:48:55.866Z"
   },
   {
    "duration": 530,
    "start_time": "2022-02-05T17:48:56.802Z"
   },
   {
    "duration": 1120,
    "start_time": "2022-02-05T17:48:57.334Z"
   },
   {
    "duration": 13,
    "start_time": "2022-02-05T17:48:58.457Z"
   },
   {
    "duration": 1181,
    "start_time": "2022-02-05T17:48:58.473Z"
   },
   {
    "duration": 13,
    "start_time": "2022-02-05T17:48:59.657Z"
   },
   {
    "duration": 1188,
    "start_time": "2022-02-05T17:48:59.673Z"
   },
   {
    "duration": 14,
    "start_time": "2022-02-05T17:49:00.863Z"
   },
   {
    "duration": 21,
    "start_time": "2022-02-05T17:49:00.879Z"
   },
   {
    "duration": 599,
    "start_time": "2022-02-05T17:49:00.903Z"
   },
   {
    "duration": 589,
    "start_time": "2022-02-05T17:49:01.505Z"
   },
   {
    "duration": 41,
    "start_time": "2022-02-05T17:49:02.097Z"
   },
   {
    "duration": 579,
    "start_time": "2022-02-05T17:49:02.141Z"
   },
   {
    "duration": 31,
    "start_time": "2022-02-05T17:49:02.722Z"
   },
   {
    "duration": 600,
    "start_time": "2022-02-05T17:49:02.755Z"
   },
   {
    "duration": 592,
    "start_time": "2022-02-05T17:49:03.358Z"
   },
   {
    "duration": 1283,
    "start_time": "2022-02-05T17:49:03.952Z"
   },
   {
    "duration": 5382,
    "start_time": "2022-02-05T17:48:59.855Z"
   },
   {
    "duration": 5382,
    "start_time": "2022-02-05T17:48:59.857Z"
   },
   {
    "duration": 5381,
    "start_time": "2022-02-05T17:48:59.859Z"
   },
   {
    "duration": 5380,
    "start_time": "2022-02-05T17:48:59.861Z"
   },
   {
    "duration": 5381,
    "start_time": "2022-02-05T17:48:59.862Z"
   },
   {
    "duration": 5380,
    "start_time": "2022-02-05T17:48:59.864Z"
   },
   {
    "duration": 5380,
    "start_time": "2022-02-05T17:48:59.866Z"
   },
   {
    "duration": 5380,
    "start_time": "2022-02-05T17:48:59.867Z"
   },
   {
    "duration": 5379,
    "start_time": "2022-02-05T17:48:59.869Z"
   },
   {
    "duration": 5379,
    "start_time": "2022-02-05T17:48:59.871Z"
   },
   {
    "duration": 5379,
    "start_time": "2022-02-05T17:48:59.872Z"
   },
   {
    "duration": 5378,
    "start_time": "2022-02-05T17:48:59.874Z"
   },
   {
    "duration": 27,
    "start_time": "2022-02-05T17:50:09.681Z"
   },
   {
    "duration": 577,
    "start_time": "2022-02-05T17:50:14.300Z"
   },
   {
    "duration": 27,
    "start_time": "2022-02-05T17:50:14.879Z"
   },
   {
    "duration": 583,
    "start_time": "2022-02-05T17:50:15.652Z"
   },
   {
    "duration": 39,
    "start_time": "2022-02-05T17:50:19.154Z"
   },
   {
    "duration": 970,
    "start_time": "2022-02-05T17:50:19.337Z"
   },
   {
    "duration": 51,
    "start_time": "2022-02-05T17:50:20.310Z"
   },
   {
    "duration": 40,
    "start_time": "2022-02-05T17:50:20.364Z"
   },
   {
    "duration": 9,
    "start_time": "2022-02-05T17:50:20.525Z"
   },
   {
    "duration": 8,
    "start_time": "2022-02-05T17:50:20.875Z"
   },
   {
    "duration": 6,
    "start_time": "2022-02-05T17:50:21.235Z"
   },
   {
    "duration": 40,
    "start_time": "2022-02-05T17:50:21.771Z"
   },
   {
    "duration": 40,
    "start_time": "2022-02-05T17:50:21.955Z"
   },
   {
    "duration": 10,
    "start_time": "2022-02-05T17:50:22.746Z"
   },
   {
    "duration": 7,
    "start_time": "2022-02-05T17:50:22.923Z"
   },
   {
    "duration": 7,
    "start_time": "2022-02-05T17:50:23.090Z"
   },
   {
    "duration": 1457,
    "start_time": "2022-02-12T16:51:10.909Z"
   },
   {
    "duration": 207,
    "start_time": "2022-02-12T16:51:12.369Z"
   },
   {
    "duration": 17,
    "start_time": "2022-02-12T16:51:12.579Z"
   },
   {
    "duration": 28,
    "start_time": "2022-02-12T16:51:12.597Z"
   },
   {
    "duration": 37,
    "start_time": "2022-02-12T16:51:12.627Z"
   },
   {
    "duration": 44,
    "start_time": "2022-02-12T16:51:12.665Z"
   },
   {
    "duration": 39,
    "start_time": "2022-02-12T16:51:12.711Z"
   },
   {
    "duration": 4,
    "start_time": "2022-02-12T16:51:12.754Z"
   },
   {
    "duration": 22,
    "start_time": "2022-02-12T16:51:12.761Z"
   },
   {
    "duration": 31,
    "start_time": "2022-02-12T16:51:12.785Z"
   },
   {
    "duration": 45,
    "start_time": "2022-02-12T16:51:12.817Z"
   },
   {
    "duration": 18,
    "start_time": "2022-02-12T16:51:12.864Z"
   },
   {
    "duration": 18,
    "start_time": "2022-02-12T16:51:12.884Z"
   },
   {
    "duration": 21,
    "start_time": "2022-02-12T16:51:12.904Z"
   },
   {
    "duration": 31,
    "start_time": "2022-02-12T16:51:12.927Z"
   },
   {
    "duration": 31,
    "start_time": "2022-02-12T16:51:12.960Z"
   },
   {
    "duration": 26,
    "start_time": "2022-02-12T16:51:12.993Z"
   },
   {
    "duration": 34,
    "start_time": "2022-02-12T16:51:13.021Z"
   },
   {
    "duration": 19,
    "start_time": "2022-02-12T16:51:13.057Z"
   },
   {
    "duration": 42,
    "start_time": "2022-02-12T16:51:13.079Z"
   },
   {
    "duration": 30,
    "start_time": "2022-02-12T16:51:13.123Z"
   },
   {
    "duration": 18,
    "start_time": "2022-02-12T16:51:13.156Z"
   },
   {
    "duration": 8,
    "start_time": "2022-02-12T16:51:13.178Z"
   },
   {
    "duration": 24,
    "start_time": "2022-02-12T16:51:13.189Z"
   },
   {
    "duration": 8,
    "start_time": "2022-02-12T16:51:13.215Z"
   },
   {
    "duration": 6,
    "start_time": "2022-02-12T16:51:13.224Z"
   },
   {
    "duration": 15,
    "start_time": "2022-02-12T16:51:13.232Z"
   },
   {
    "duration": 20,
    "start_time": "2022-02-12T16:51:13.249Z"
   },
   {
    "duration": 530,
    "start_time": "2022-02-12T16:51:13.270Z"
   },
   {
    "duration": 23,
    "start_time": "2022-02-12T16:51:13.802Z"
   },
   {
    "duration": 449,
    "start_time": "2022-02-12T16:51:13.827Z"
   },
   {
    "duration": 502,
    "start_time": "2022-02-12T16:51:14.279Z"
   },
   {
    "duration": 750,
    "start_time": "2022-02-12T16:51:14.783Z"
   },
   {
    "duration": 1073,
    "start_time": "2022-02-12T16:51:15.536Z"
   },
   {
    "duration": 1152,
    "start_time": "2022-02-12T16:51:16.612Z"
   },
   {
    "duration": 18,
    "start_time": "2022-02-12T16:51:17.766Z"
   },
   {
    "duration": 49,
    "start_time": "2022-02-12T16:51:17.786Z"
   },
   {
    "duration": 1049,
    "start_time": "2022-02-12T16:51:17.837Z"
   },
   {
    "duration": 361,
    "start_time": "2022-02-12T16:51:18.889Z"
   },
   {
    "duration": 1275,
    "start_time": "2022-02-12T16:51:19.252Z"
   },
   {
    "duration": 11,
    "start_time": "2022-02-12T16:51:20.529Z"
   },
   {
    "duration": 1477,
    "start_time": "2022-02-12T16:51:20.542Z"
   },
   {
    "duration": 12,
    "start_time": "2022-02-12T16:51:22.021Z"
   },
   {
    "duration": 1050,
    "start_time": "2022-02-12T16:51:22.036Z"
   },
   {
    "duration": 19,
    "start_time": "2022-02-12T16:51:23.088Z"
   },
   {
    "duration": 13,
    "start_time": "2022-02-12T16:51:23.109Z"
   },
   {
    "duration": 403,
    "start_time": "2022-02-12T16:51:23.123Z"
   },
   {
    "duration": 482,
    "start_time": "2022-02-12T16:51:23.528Z"
   },
   {
    "duration": 25,
    "start_time": "2022-02-12T16:51:24.013Z"
   },
   {
    "duration": 836,
    "start_time": "2022-02-12T16:51:24.040Z"
   },
   {
    "duration": 48,
    "start_time": "2022-02-12T16:51:24.878Z"
   },
   {
    "duration": 513,
    "start_time": "2022-02-12T16:51:24.928Z"
   },
   {
    "duration": 423,
    "start_time": "2022-02-12T16:51:25.443Z"
   },
   {
    "duration": 21,
    "start_time": "2022-02-12T16:51:25.868Z"
   },
   {
    "duration": 586,
    "start_time": "2022-02-12T16:51:25.908Z"
   },
   {
    "duration": 49,
    "start_time": "2022-02-12T16:51:26.497Z"
   },
   {
    "duration": 774,
    "start_time": "2022-02-12T16:51:26.548Z"
   },
   {
    "duration": 29,
    "start_time": "2022-02-12T16:51:27.323Z"
   },
   {
    "duration": 28,
    "start_time": "2022-02-12T16:51:27.354Z"
   },
   {
    "duration": 44,
    "start_time": "2022-02-12T16:51:27.384Z"
   },
   {
    "duration": 44,
    "start_time": "2022-02-12T16:51:27.431Z"
   },
   {
    "duration": 38,
    "start_time": "2022-02-12T16:51:27.477Z"
   },
   {
    "duration": 60,
    "start_time": "2022-02-12T16:51:27.517Z"
   },
   {
    "duration": 36,
    "start_time": "2022-02-12T16:51:27.579Z"
   },
   {
    "duration": 36,
    "start_time": "2022-02-12T16:51:27.617Z"
   },
   {
    "duration": 27,
    "start_time": "2022-02-12T16:51:27.655Z"
   },
   {
    "duration": 19,
    "start_time": "2022-02-12T16:51:27.684Z"
   },
   {
    "duration": 1140,
    "start_time": "2022-02-12T17:06:07.861Z"
   },
   {
    "duration": 350,
    "start_time": "2022-02-12T17:06:09.003Z"
   },
   {
    "duration": 17,
    "start_time": "2022-02-12T17:06:09.356Z"
   },
   {
    "duration": 13,
    "start_time": "2022-02-12T17:06:09.376Z"
   },
   {
    "duration": 16,
    "start_time": "2022-02-12T17:06:09.392Z"
   },
   {
    "duration": 18,
    "start_time": "2022-02-12T17:06:09.410Z"
   },
   {
    "duration": 34,
    "start_time": "2022-02-12T17:06:09.430Z"
   },
   {
    "duration": 5,
    "start_time": "2022-02-12T17:06:09.467Z"
   },
   {
    "duration": 36,
    "start_time": "2022-02-12T17:06:09.475Z"
   },
   {
    "duration": 16,
    "start_time": "2022-02-12T17:06:09.513Z"
   },
   {
    "duration": 16,
    "start_time": "2022-02-12T17:06:09.531Z"
   },
   {
    "duration": 12,
    "start_time": "2022-02-12T17:06:09.549Z"
   },
   {
    "duration": 44,
    "start_time": "2022-02-12T17:06:09.563Z"
   },
   {
    "duration": 6,
    "start_time": "2022-02-12T17:06:09.609Z"
   },
   {
    "duration": 11,
    "start_time": "2022-02-12T17:06:09.617Z"
   },
   {
    "duration": 14,
    "start_time": "2022-02-12T17:06:09.630Z"
   },
   {
    "duration": 9,
    "start_time": "2022-02-12T17:06:09.646Z"
   },
   {
    "duration": 7,
    "start_time": "2022-02-12T17:06:09.657Z"
   },
   {
    "duration": 14,
    "start_time": "2022-02-12T17:06:09.667Z"
   },
   {
    "duration": 7,
    "start_time": "2022-02-12T17:06:09.708Z"
   },
   {
    "duration": 13,
    "start_time": "2022-02-12T17:06:09.717Z"
   },
   {
    "duration": 9,
    "start_time": "2022-02-12T17:06:09.732Z"
   },
   {
    "duration": 12,
    "start_time": "2022-02-12T17:06:09.745Z"
   },
   {
    "duration": 50,
    "start_time": "2022-02-12T17:06:09.760Z"
   },
   {
    "duration": 8,
    "start_time": "2022-02-12T17:06:09.812Z"
   },
   {
    "duration": 7,
    "start_time": "2022-02-12T17:06:09.822Z"
   },
   {
    "duration": 20,
    "start_time": "2022-02-12T17:06:09.831Z"
   },
   {
    "duration": 27,
    "start_time": "2022-02-12T17:06:09.853Z"
   },
   {
    "duration": 545,
    "start_time": "2022-02-12T17:06:09.882Z"
   },
   {
    "duration": 19,
    "start_time": "2022-02-12T17:06:10.429Z"
   },
   {
    "duration": 488,
    "start_time": "2022-02-12T17:06:10.450Z"
   },
   {
    "duration": 536,
    "start_time": "2022-02-12T17:06:10.940Z"
   },
   {
    "duration": 570,
    "start_time": "2022-02-12T17:06:11.478Z"
   },
   {
    "duration": 492,
    "start_time": "2022-02-12T17:06:12.050Z"
   },
   {
    "duration": 616,
    "start_time": "2022-02-12T17:06:12.544Z"
   },
   {
    "duration": 20,
    "start_time": "2022-02-12T17:06:13.162Z"
   },
   {
    "duration": 46,
    "start_time": "2022-02-12T17:06:13.184Z"
   },
   {
    "duration": 612,
    "start_time": "2022-02-12T17:06:13.232Z"
   },
   {
    "duration": 341,
    "start_time": "2022-02-12T17:06:13.846Z"
   },
   {
    "duration": 783,
    "start_time": "2022-02-12T17:06:14.189Z"
   },
   {
    "duration": 12,
    "start_time": "2022-02-12T17:06:14.975Z"
   },
   {
    "duration": 818,
    "start_time": "2022-02-12T17:06:14.989Z"
   },
   {
    "duration": 12,
    "start_time": "2022-02-12T17:06:15.809Z"
   },
   {
    "duration": 851,
    "start_time": "2022-02-12T17:06:15.823Z"
   },
   {
    "duration": 12,
    "start_time": "2022-02-12T17:06:16.676Z"
   },
   {
    "duration": 25,
    "start_time": "2022-02-12T17:06:16.690Z"
   },
   {
    "duration": 410,
    "start_time": "2022-02-12T17:06:16.717Z"
   },
   {
    "duration": 408,
    "start_time": "2022-02-12T17:06:17.130Z"
   },
   {
    "duration": 20,
    "start_time": "2022-02-12T17:06:17.540Z"
   },
   {
    "duration": 409,
    "start_time": "2022-02-12T17:06:17.562Z"
   },
   {
    "duration": 21,
    "start_time": "2022-02-12T17:06:17.973Z"
   },
   {
    "duration": 400,
    "start_time": "2022-02-12T17:06:17.996Z"
   },
   {
    "duration": 402,
    "start_time": "2022-02-12T17:06:18.398Z"
   },
   {
    "duration": 23,
    "start_time": "2022-02-12T17:06:18.802Z"
   },
   {
    "duration": 423,
    "start_time": "2022-02-12T17:06:18.828Z"
   },
   {
    "duration": 30,
    "start_time": "2022-02-12T17:06:19.253Z"
   },
   {
    "duration": 595,
    "start_time": "2022-02-12T17:06:19.284Z"
   },
   {
    "duration": 39,
    "start_time": "2022-02-12T17:06:19.881Z"
   },
   {
    "duration": 28,
    "start_time": "2022-02-12T17:06:19.922Z"
   },
   {
    "duration": 6,
    "start_time": "2022-02-12T17:06:19.952Z"
   },
   {
    "duration": 11,
    "start_time": "2022-02-12T17:06:19.960Z"
   },
   {
    "duration": 38,
    "start_time": "2022-02-12T17:06:19.972Z"
   },
   {
    "duration": 35,
    "start_time": "2022-02-12T17:06:20.012Z"
   },
   {
    "duration": 27,
    "start_time": "2022-02-12T17:06:20.049Z"
   },
   {
    "duration": 6,
    "start_time": "2022-02-12T17:06:20.078Z"
   },
   {
    "duration": 27,
    "start_time": "2022-02-12T17:06:20.086Z"
   },
   {
    "duration": 7,
    "start_time": "2022-02-12T17:06:20.115Z"
   },
   {
    "duration": 1077,
    "start_time": "2022-02-13T07:33:25.723Z"
   },
   {
    "duration": 200,
    "start_time": "2022-02-13T07:33:26.802Z"
   },
   {
    "duration": 13,
    "start_time": "2022-02-13T07:33:27.004Z"
   },
   {
    "duration": 8,
    "start_time": "2022-02-13T07:33:27.018Z"
   },
   {
    "duration": 7,
    "start_time": "2022-02-13T07:33:27.028Z"
   },
   {
    "duration": 13,
    "start_time": "2022-02-13T07:33:27.036Z"
   },
   {
    "duration": 42,
    "start_time": "2022-02-13T07:33:27.050Z"
   },
   {
    "duration": 3,
    "start_time": "2022-02-13T07:33:27.095Z"
   },
   {
    "duration": 5,
    "start_time": "2022-02-13T07:33:27.099Z"
   },
   {
    "duration": 13,
    "start_time": "2022-02-13T07:33:27.105Z"
   },
   {
    "duration": 11,
    "start_time": "2022-02-13T07:33:27.120Z"
   },
   {
    "duration": 9,
    "start_time": "2022-02-13T07:33:27.132Z"
   },
   {
    "duration": 35,
    "start_time": "2022-02-13T07:33:27.142Z"
   },
   {
    "duration": 4,
    "start_time": "2022-02-13T07:33:27.178Z"
   },
   {
    "duration": 7,
    "start_time": "2022-02-13T07:33:27.184Z"
   },
   {
    "duration": 7,
    "start_time": "2022-02-13T07:33:27.193Z"
   },
   {
    "duration": 10,
    "start_time": "2022-02-13T07:33:27.202Z"
   },
   {
    "duration": 13,
    "start_time": "2022-02-13T07:33:27.213Z"
   },
   {
    "duration": 6,
    "start_time": "2022-02-13T07:33:27.228Z"
   },
   {
    "duration": 5,
    "start_time": "2022-02-13T07:33:27.236Z"
   },
   {
    "duration": 6,
    "start_time": "2022-02-13T07:33:27.272Z"
   },
   {
    "duration": 5,
    "start_time": "2022-02-13T07:33:27.280Z"
   },
   {
    "duration": 5,
    "start_time": "2022-02-13T07:33:27.290Z"
   },
   {
    "duration": 20,
    "start_time": "2022-02-13T07:33:27.297Z"
   },
   {
    "duration": 7,
    "start_time": "2022-02-13T07:33:27.318Z"
   },
   {
    "duration": 7,
    "start_time": "2022-02-13T07:33:27.326Z"
   },
   {
    "duration": 41,
    "start_time": "2022-02-13T07:33:27.334Z"
   },
   {
    "duration": 19,
    "start_time": "2022-02-13T07:33:27.377Z"
   },
   {
    "duration": 704,
    "start_time": "2022-02-13T07:33:27.398Z"
   },
   {
    "duration": 17,
    "start_time": "2022-02-13T07:33:28.104Z"
   },
   {
    "duration": 379,
    "start_time": "2022-02-13T07:33:28.123Z"
   },
   {
    "duration": 424,
    "start_time": "2022-02-13T07:33:28.504Z"
   },
   {
    "duration": 459,
    "start_time": "2022-02-13T07:33:28.929Z"
   },
   {
    "duration": 397,
    "start_time": "2022-02-13T07:33:29.390Z"
   },
   {
    "duration": 527,
    "start_time": "2022-02-13T07:33:29.789Z"
   },
   {
    "duration": 22,
    "start_time": "2022-02-13T07:33:30.319Z"
   },
   {
    "duration": 48,
    "start_time": "2022-02-13T07:33:30.343Z"
   },
   {
    "duration": 755,
    "start_time": "2022-02-13T07:33:30.393Z"
   },
   {
    "duration": 432,
    "start_time": "2022-02-13T07:33:31.149Z"
   },
   {
    "duration": 823,
    "start_time": "2022-02-13T07:33:31.583Z"
   },
   {
    "duration": 12,
    "start_time": "2022-02-13T07:33:32.408Z"
   },
   {
    "duration": 725,
    "start_time": "2022-02-13T07:33:32.421Z"
   },
   {
    "duration": 11,
    "start_time": "2022-02-13T07:33:33.147Z"
   },
   {
    "duration": 671,
    "start_time": "2022-02-13T07:33:33.172Z"
   },
   {
    "duration": 12,
    "start_time": "2022-02-13T07:33:33.845Z"
   },
   {
    "duration": 20,
    "start_time": "2022-02-13T07:33:33.859Z"
   },
   {
    "duration": 321,
    "start_time": "2022-02-13T07:33:33.880Z"
   },
   {
    "duration": 474,
    "start_time": "2022-02-13T07:33:34.203Z"
   },
   {
    "duration": 22,
    "start_time": "2022-02-13T07:33:34.679Z"
   },
   {
    "duration": 505,
    "start_time": "2022-02-13T07:33:34.703Z"
   },
   {
    "duration": 24,
    "start_time": "2022-02-13T07:33:35.210Z"
   },
   {
    "duration": 335,
    "start_time": "2022-02-13T07:33:35.236Z"
   },
   {
    "duration": 329,
    "start_time": "2022-02-13T07:33:35.573Z"
   },
   {
    "duration": 16,
    "start_time": "2022-02-13T07:33:35.903Z"
   },
   {
    "duration": 328,
    "start_time": "2022-02-13T07:33:35.921Z"
   },
   {
    "duration": 35,
    "start_time": "2022-02-13T07:33:36.251Z"
   },
   {
    "duration": 455,
    "start_time": "2022-02-13T07:33:36.288Z"
   },
   {
    "duration": 33,
    "start_time": "2022-02-13T07:33:36.744Z"
   },
   {
    "duration": 24,
    "start_time": "2022-02-13T07:33:36.779Z"
   },
   {
    "duration": 5,
    "start_time": "2022-02-13T07:33:36.805Z"
   },
   {
    "duration": 6,
    "start_time": "2022-02-13T07:33:36.811Z"
   },
   {
    "duration": 5,
    "start_time": "2022-02-13T07:33:36.818Z"
   },
   {
    "duration": 51,
    "start_time": "2022-02-13T07:33:36.824Z"
   },
   {
    "duration": 22,
    "start_time": "2022-02-13T07:33:36.877Z"
   },
   {
    "duration": 6,
    "start_time": "2022-02-13T07:33:36.901Z"
   },
   {
    "duration": 6,
    "start_time": "2022-02-13T07:33:36.908Z"
   },
   {
    "duration": 8,
    "start_time": "2022-02-13T07:33:36.916Z"
   },
   {
    "duration": 14,
    "start_time": "2022-02-13T07:37:32.563Z"
   },
   {
    "duration": 21,
    "start_time": "2022-02-13T07:37:37.846Z"
   },
   {
    "duration": 417,
    "start_time": "2022-02-13T07:37:41.964Z"
   },
   {
    "duration": 364,
    "start_time": "2022-02-13T07:50:46.987Z"
   },
   {
    "duration": 683,
    "start_time": "2022-02-13T07:53:03.951Z"
   },
   {
    "duration": 10,
    "start_time": "2022-02-13T07:53:07.571Z"
   },
   {
    "duration": 607,
    "start_time": "2022-02-13T08:01:54.255Z"
   },
   {
    "duration": 9,
    "start_time": "2022-02-13T08:02:00.269Z"
   },
   {
    "duration": 597,
    "start_time": "2022-02-13T08:02:04.040Z"
   },
   {
    "duration": 9,
    "start_time": "2022-02-13T08:02:10.667Z"
   },
   {
    "duration": 11,
    "start_time": "2022-02-13T08:02:29.357Z"
   },
   {
    "duration": 317,
    "start_time": "2022-02-13T08:02:30.157Z"
   },
   {
    "duration": 313,
    "start_time": "2022-02-13T08:02:48.282Z"
   },
   {
    "duration": 7642,
    "start_time": "2022-02-13T08:14:31.007Z"
   },
   {
    "duration": 316,
    "start_time": "2022-02-13T08:18:20.013Z"
   },
   {
    "duration": 691,
    "start_time": "2022-02-13T08:21:37.785Z"
   },
   {
    "duration": 319,
    "start_time": "2022-02-13T08:22:02.628Z"
   },
   {
    "duration": 529,
    "start_time": "2022-02-13T08:41:42.371Z"
   },
   {
    "duration": 173,
    "start_time": "2022-02-13T08:45:58.597Z"
   },
   {
    "duration": 204,
    "start_time": "2022-02-13T08:47:16.335Z"
   },
   {
    "duration": 216,
    "start_time": "2022-02-13T08:47:35.897Z"
   },
   {
    "duration": 2,
    "start_time": "2022-02-13T08:50:35.005Z"
   },
   {
    "duration": 8299,
    "start_time": "2022-02-13T09:23:34.737Z"
   },
   {
    "duration": 220,
    "start_time": "2022-02-13T09:24:14.067Z"
   },
   {
    "duration": 285,
    "start_time": "2022-02-13T09:24:22.306Z"
   },
   {
    "duration": 304,
    "start_time": "2022-02-13T09:24:31.095Z"
   },
   {
    "duration": 333,
    "start_time": "2022-02-13T09:24:39.210Z"
   },
   {
    "duration": 262,
    "start_time": "2022-02-13T09:24:45.648Z"
   },
   {
    "duration": 319,
    "start_time": "2022-02-13T09:25:08.400Z"
   },
   {
    "duration": 220,
    "start_time": "2022-02-13T09:25:23.553Z"
   },
   {
    "duration": 218,
    "start_time": "2022-02-13T09:25:36.043Z"
   },
   {
    "duration": 222,
    "start_time": "2022-02-13T09:25:50.714Z"
   },
   {
    "duration": 232,
    "start_time": "2022-02-13T09:25:57.040Z"
   },
   {
    "duration": 1374,
    "start_time": "2022-02-13T09:26:24.882Z"
   },
   {
    "duration": 240,
    "start_time": "2022-02-13T09:26:34.810Z"
   },
   {
    "duration": 233,
    "start_time": "2022-02-13T09:26:44.894Z"
   },
   {
    "duration": 224,
    "start_time": "2022-02-13T09:26:58.875Z"
   },
   {
    "duration": 364,
    "start_time": "2022-02-13T09:27:04.411Z"
   },
   {
    "duration": 231,
    "start_time": "2022-02-13T09:27:08.620Z"
   },
   {
    "duration": 339,
    "start_time": "2022-02-13T09:27:13.158Z"
   },
   {
    "duration": 333,
    "start_time": "2022-02-13T09:27:24.449Z"
   },
   {
    "duration": 307,
    "start_time": "2022-02-13T09:27:40.508Z"
   },
   {
    "duration": 358,
    "start_time": "2022-02-13T09:27:47.104Z"
   },
   {
    "duration": 317,
    "start_time": "2022-02-13T09:27:51.302Z"
   },
   {
    "duration": 451,
    "start_time": "2022-02-13T09:27:56.423Z"
   },
   {
    "duration": 452,
    "start_time": "2022-02-13T09:28:14.348Z"
   },
   {
    "duration": 425,
    "start_time": "2022-02-13T09:28:23.423Z"
   },
   {
    "duration": 422,
    "start_time": "2022-02-13T09:28:35.214Z"
   },
   {
    "duration": 562,
    "start_time": "2022-02-13T09:28:40.283Z"
   },
   {
    "duration": 454,
    "start_time": "2022-02-13T09:28:44.549Z"
   },
   {
    "duration": 422,
    "start_time": "2022-02-13T09:28:48.553Z"
   },
   {
    "duration": 437,
    "start_time": "2022-02-13T09:28:53.159Z"
   },
   {
    "duration": 416,
    "start_time": "2022-02-13T09:28:57.052Z"
   },
   {
    "duration": 456,
    "start_time": "2022-02-13T09:29:07.671Z"
   },
   {
    "duration": 401,
    "start_time": "2022-02-13T09:29:12.057Z"
   },
   {
    "duration": 485,
    "start_time": "2022-02-13T09:29:19.028Z"
   },
   {
    "duration": 311,
    "start_time": "2022-02-13T09:29:25.618Z"
   },
   {
    "duration": 325,
    "start_time": "2022-02-13T09:29:33.987Z"
   },
   {
    "duration": 363,
    "start_time": "2022-02-13T09:29:41.358Z"
   },
   {
    "duration": 467,
    "start_time": "2022-02-13T09:29:53.492Z"
   },
   {
    "duration": 329,
    "start_time": "2022-02-13T09:30:46.562Z"
   },
   {
    "duration": 357,
    "start_time": "2022-02-13T09:31:18.909Z"
   },
   {
    "duration": 349,
    "start_time": "2022-02-13T09:31:32.201Z"
   },
   {
    "duration": 330,
    "start_time": "2022-02-13T09:31:40.776Z"
   },
   {
    "duration": 307,
    "start_time": "2022-02-13T09:31:46.101Z"
   },
   {
    "duration": 328,
    "start_time": "2022-02-13T09:31:51.335Z"
   },
   {
    "duration": 346,
    "start_time": "2022-02-13T09:31:56.382Z"
   },
   {
    "duration": 331,
    "start_time": "2022-02-13T09:33:46.489Z"
   },
   {
    "duration": 356,
    "start_time": "2022-02-13T09:33:52.177Z"
   },
   {
    "duration": 348,
    "start_time": "2022-02-13T09:33:57.407Z"
   },
   {
    "duration": 669,
    "start_time": "2022-02-13T09:33:57.757Z"
   },
   {
    "duration": 355,
    "start_time": "2022-02-13T09:35:04.457Z"
   },
   {
    "duration": 25,
    "start_time": "2022-02-13T09:51:41.122Z"
   },
   {
    "duration": 192,
    "start_time": "2022-02-13T09:51:41.870Z"
   },
   {
    "duration": 22,
    "start_time": "2022-02-13T09:54:10.098Z"
   },
   {
    "duration": 22,
    "start_time": "2022-02-13T09:54:12.224Z"
   },
   {
    "duration": 6,
    "start_time": "2022-02-13T09:54:16.590Z"
   },
   {
    "duration": 4,
    "start_time": "2022-02-13T09:54:19.876Z"
   },
   {
    "duration": 4,
    "start_time": "2022-02-13T09:54:23.212Z"
   },
   {
    "duration": 25,
    "start_time": "2022-02-13T09:54:25.298Z"
   },
   {
    "duration": 24,
    "start_time": "2022-02-13T09:54:27.553Z"
   },
   {
    "duration": 6,
    "start_time": "2022-02-13T09:54:29.585Z"
   },
   {
    "duration": 5,
    "start_time": "2022-02-13T09:55:11.426Z"
   },
   {
    "duration": 4,
    "start_time": "2022-02-13T09:55:13.931Z"
   },
   {
    "duration": 1115,
    "start_time": "2022-02-14T09:32:38.577Z"
   },
   {
    "duration": 179,
    "start_time": "2022-02-14T09:32:39.693Z"
   },
   {
    "duration": 15,
    "start_time": "2022-02-14T09:32:39.876Z"
   },
   {
    "duration": 11,
    "start_time": "2022-02-14T09:32:39.893Z"
   },
   {
    "duration": 10,
    "start_time": "2022-02-14T09:32:39.906Z"
   },
   {
    "duration": 17,
    "start_time": "2022-02-14T09:32:39.918Z"
   },
   {
    "duration": 31,
    "start_time": "2022-02-14T09:32:39.938Z"
   },
   {
    "duration": 4,
    "start_time": "2022-02-14T09:32:39.971Z"
   },
   {
    "duration": 12,
    "start_time": "2022-02-14T09:32:39.976Z"
   },
   {
    "duration": 39,
    "start_time": "2022-02-14T09:32:39.989Z"
   },
   {
    "duration": 14,
    "start_time": "2022-02-14T09:32:40.029Z"
   },
   {
    "duration": 13,
    "start_time": "2022-02-14T09:32:40.044Z"
   },
   {
    "duration": 10,
    "start_time": "2022-02-14T09:32:40.059Z"
   },
   {
    "duration": 10,
    "start_time": "2022-02-14T09:32:40.071Z"
   },
   {
    "duration": 8,
    "start_time": "2022-02-14T09:32:40.083Z"
   },
   {
    "duration": 33,
    "start_time": "2022-02-14T09:32:40.092Z"
   },
   {
    "duration": 8,
    "start_time": "2022-02-14T09:32:40.127Z"
   },
   {
    "duration": 5,
    "start_time": "2022-02-14T09:32:40.137Z"
   },
   {
    "duration": 7,
    "start_time": "2022-02-14T09:32:40.144Z"
   },
   {
    "duration": 6,
    "start_time": "2022-02-14T09:32:40.153Z"
   },
   {
    "duration": 8,
    "start_time": "2022-02-14T09:32:40.162Z"
   },
   {
    "duration": 9,
    "start_time": "2022-02-14T09:32:40.174Z"
   },
   {
    "duration": 8,
    "start_time": "2022-02-14T09:32:40.221Z"
   },
   {
    "duration": 23,
    "start_time": "2022-02-14T09:32:40.231Z"
   },
   {
    "duration": 7,
    "start_time": "2022-02-14T09:32:40.256Z"
   },
   {
    "duration": 4,
    "start_time": "2022-02-14T09:32:40.265Z"
   },
   {
    "duration": 13,
    "start_time": "2022-02-14T09:32:40.271Z"
   },
   {
    "duration": 46,
    "start_time": "2022-02-14T09:32:40.286Z"
   },
   {
    "duration": 499,
    "start_time": "2022-02-14T09:32:40.334Z"
   },
   {
    "duration": 17,
    "start_time": "2022-02-14T09:32:40.834Z"
   },
   {
    "duration": 434,
    "start_time": "2022-02-14T09:32:40.853Z"
   },
   {
    "duration": 528,
    "start_time": "2022-02-14T09:32:41.290Z"
   },
   {
    "duration": 503,
    "start_time": "2022-02-14T09:32:41.820Z"
   },
   {
    "duration": 426,
    "start_time": "2022-02-14T09:32:42.324Z"
   },
   {
    "duration": 553,
    "start_time": "2022-02-14T09:32:42.751Z"
   },
   {
    "duration": 28,
    "start_time": "2022-02-14T09:32:43.306Z"
   },
   {
    "duration": 25,
    "start_time": "2022-02-14T09:32:43.336Z"
   },
   {
    "duration": 498,
    "start_time": "2022-02-14T09:32:43.362Z"
   },
   {
    "duration": 334,
    "start_time": "2022-02-14T09:32:43.862Z"
   },
   {
    "duration": 657,
    "start_time": "2022-02-14T09:32:44.198Z"
   },
   {
    "duration": 10,
    "start_time": "2022-02-14T09:32:44.857Z"
   },
   {
    "duration": 740,
    "start_time": "2022-02-14T09:32:44.869Z"
   },
   {
    "duration": 10,
    "start_time": "2022-02-14T09:32:45.618Z"
   },
   {
    "duration": 907,
    "start_time": "2022-02-14T09:32:45.629Z"
   },
   {
    "duration": 16,
    "start_time": "2022-02-14T09:32:46.539Z"
   },
   {
    "duration": 16,
    "start_time": "2022-02-14T09:32:46.557Z"
   },
   {
    "duration": 470,
    "start_time": "2022-02-14T09:32:46.575Z"
   },
   {
    "duration": 374,
    "start_time": "2022-02-14T09:32:47.047Z"
   },
   {
    "duration": 21,
    "start_time": "2022-02-14T09:32:47.423Z"
   },
   {
    "duration": 516,
    "start_time": "2022-02-14T09:32:47.445Z"
   },
   {
    "duration": 33,
    "start_time": "2022-02-14T09:32:47.963Z"
   },
   {
    "duration": 565,
    "start_time": "2022-02-14T09:32:48.003Z"
   },
   {
    "duration": 19,
    "start_time": "2022-02-14T09:32:48.570Z"
   },
   {
    "duration": 395,
    "start_time": "2022-02-14T09:32:48.591Z"
   },
   {
    "duration": 41,
    "start_time": "2022-02-14T09:32:48.989Z"
   },
   {
    "duration": 232,
    "start_time": "2022-02-14T09:32:49.032Z"
   },
   {
    "duration": 3,
    "start_time": "2022-02-14T09:32:49.266Z"
   },
   {
    "duration": 37,
    "start_time": "2022-02-14T09:32:49.271Z"
   },
   {
    "duration": 38,
    "start_time": "2022-02-14T09:32:49.309Z"
   },
   {
    "duration": 11,
    "start_time": "2022-02-14T09:32:49.349Z"
   },
   {
    "duration": 11,
    "start_time": "2022-02-14T09:32:49.361Z"
   },
   {
    "duration": 9,
    "start_time": "2022-02-14T09:32:49.373Z"
   },
   {
    "duration": 42,
    "start_time": "2022-02-14T09:32:49.383Z"
   },
   {
    "duration": 33,
    "start_time": "2022-02-14T09:32:49.427Z"
   },
   {
    "duration": 7,
    "start_time": "2022-02-14T09:32:49.462Z"
   },
   {
    "duration": 8,
    "start_time": "2022-02-14T09:32:49.471Z"
   },
   {
    "duration": 11,
    "start_time": "2022-02-14T09:32:49.485Z"
   }
  ],
  "kernelspec": {
   "display_name": "Python 3 (ipykernel)",
   "language": "python",
   "name": "python3"
  },
  "language_info": {
   "codemirror_mode": {
    "name": "ipython",
    "version": 3
   },
   "file_extension": ".py",
   "mimetype": "text/x-python",
   "name": "python",
   "nbconvert_exporter": "python",
   "pygments_lexer": "ipython3",
   "version": "3.9.5"
  },
  "toc": {
   "base_numbering": 1,
   "nav_menu": {},
   "number_sections": true,
   "sideBar": true,
   "skip_h1_title": true,
   "title_cell": "Содержание",
   "title_sidebar": "Contents",
   "toc_cell": true,
   "toc_position": {
    "height": "calc(100% - 180px)",
    "left": "10px",
    "top": "150px",
    "width": "366px"
   },
   "toc_section_display": true,
   "toc_window_display": false
  }
 },
 "nbformat": 4,
 "nbformat_minor": 2
}
