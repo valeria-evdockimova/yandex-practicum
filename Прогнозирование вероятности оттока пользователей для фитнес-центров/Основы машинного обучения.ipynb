{
 "cells": [
  {
   "cell_type": "markdown",
   "metadata": {
    "toc": true
   },
   "source": [
    "<h1>Содержание<span class=\"tocSkip\"></span></h1>\n",
    "<div class=\"toc\"><ul class=\"toc-item\"><li><span><a href=\"#Обзор-данных\" data-toc-modified-id=\"Обзор-данных-1\"><span class=\"toc-item-num\">1&nbsp;&nbsp;</span>Обзор данных</a></span><ul class=\"toc-item\"><li><span><a href=\"#Загрузка-нужных-библиотек\" data-toc-modified-id=\"Загрузка-нужных-библиотек-1.1\"><span class=\"toc-item-num\">1.1&nbsp;&nbsp;</span>Загрузка нужных библиотек</a></span></li><li><span><a href=\"#Загрузка-данных\" data-toc-modified-id=\"Загрузка-данных-1.2\"><span class=\"toc-item-num\">1.2&nbsp;&nbsp;</span>Загрузка данных</a></span></li><li><span><a href=\"#Наличие-пропусков\" data-toc-modified-id=\"Наличие-пропусков-1.3\"><span class=\"toc-item-num\">1.3&nbsp;&nbsp;</span>Наличие пропусков</a></span></li><li><span><a href=\"#Наименование-столбцов\" data-toc-modified-id=\"Наименование-столбцов-1.4\"><span class=\"toc-item-num\">1.4&nbsp;&nbsp;</span>Наименование столбцов</a></span></li><li><span><a href=\"#Наличие-явных-дубликатов\" data-toc-modified-id=\"Наличие-явных-дубликатов-1.5\"><span class=\"toc-item-num\">1.5&nbsp;&nbsp;</span>Наличие явных дубликатов</a></span></li></ul></li><li><span><a href=\"#Исследовательский-анализ-данных-(EDA)\" data-toc-modified-id=\"Исследовательский-анализ-данных-(EDA)-2\"><span class=\"toc-item-num\">2&nbsp;&nbsp;</span>Исследовательский анализ данных (EDA)</a></span><ul class=\"toc-item\"><li><span><a href=\"#Сводные-статистические-показатели-изучаемой-таблицы\" data-toc-modified-id=\"Сводные-статистические-показатели-изучаемой-таблицы-2.1\"><span class=\"toc-item-num\">2.1&nbsp;&nbsp;</span>Сводные статистические показатели изучаемой таблицы</a></span></li><li><span><a href=\"#Средние-значения-признаков-в-двух-группах-—-тех,-кто-ушел-в-отток-и-тех,-кто-остался\" data-toc-modified-id=\"Средние-значения-признаков-в-двух-группах-—-тех,-кто-ушел-в-отток-и-тех,-кто-остался-2.2\"><span class=\"toc-item-num\">2.2&nbsp;&nbsp;</span>Средние значения признаков в двух группах — тех, кто ушел в отток и тех, кто остался</a></span></li><li><span><a href=\"#Cтолбчатые-гистограммы-и-распределения-признаков-для-тех,-кто-ушёл-(отток)-и-тех,-кто-остался-(не-попали-в-отток\" data-toc-modified-id=\"Cтолбчатые-гистограммы-и-распределения-признаков-для-тех,-кто-ушёл-(отток)-и-тех,-кто-остался-(не-попали-в-отток-2.3\"><span class=\"toc-item-num\">2.3&nbsp;&nbsp;</span>Cтолбчатые гистограммы и распределения признаков для тех, кто ушёл (отток) и тех, кто остался (не попали в отток</a></span></li><li><span><a href=\"#Матрица-корреляций\" data-toc-modified-id=\"Матрица-корреляций-2.4\"><span class=\"toc-item-num\">2.4&nbsp;&nbsp;</span>Матрица корреляций</a></span></li></ul></li><li><span><a href=\"#Построение-модели-прогнозирования-оттока-клиентов\" data-toc-modified-id=\"Построение-модели-прогнозирования-оттока-клиентов-3\"><span class=\"toc-item-num\">3&nbsp;&nbsp;</span>Построение модели прогнозирования оттока клиентов</a></span><ul class=\"toc-item\"><li><span><a href=\"#Подготовка-данных\" data-toc-modified-id=\"Подготовка-данных-3.1\"><span class=\"toc-item-num\">3.1&nbsp;&nbsp;</span>Подготовка данных</a></span></li><li><span><a href=\"#Логистическая-регрессия\" data-toc-modified-id=\"Логистическая-регрессия-3.2\"><span class=\"toc-item-num\">3.2&nbsp;&nbsp;</span>Логистическая регрессия</a></span></li><li><span><a href=\"#Метрики-для-логистической-регрессии\" data-toc-modified-id=\"Метрики-для-логистической-регрессии-3.3\"><span class=\"toc-item-num\">3.3&nbsp;&nbsp;</span>Метрики для логистической регрессии</a></span></li><li><span><a href=\"#Случайный-лес\" data-toc-modified-id=\"Случайный-лес-3.4\"><span class=\"toc-item-num\">3.4&nbsp;&nbsp;</span>Случайный лес</a></span></li><li><span><a href=\"#Метрики-для-алгоритма-случайного-леса\" data-toc-modified-id=\"Метрики-для-алгоритма-случайного-леса-3.5\"><span class=\"toc-item-num\">3.5&nbsp;&nbsp;</span>Метрики для алгоритма случайного леса</a></span></li><li><span><a href=\"#Оценка-метрик-двух-алгоритмов\" data-toc-modified-id=\"Оценка-метрик-двух-алгоритмов-3.6\"><span class=\"toc-item-num\">3.6&nbsp;&nbsp;</span>Оценка метрик двух алгоритмов</a></span></li></ul></li><li><span><a href=\"#Кластеризация-клиентов\" data-toc-modified-id=\"Кластеризация-клиентов-4\"><span class=\"toc-item-num\">4&nbsp;&nbsp;</span>Кластеризация клиентов</a></span><ul class=\"toc-item\"><li><span><a href=\"#Стандартизация-данных\" data-toc-modified-id=\"Стандартизация-данных-4.1\"><span class=\"toc-item-num\">4.1&nbsp;&nbsp;</span>Стандартизация данных</a></span></li><li><span><a href=\"#Построение-матрицы-расстояний-и-дендограммы\" data-toc-modified-id=\"Построение-матрицы-расстояний-и-дендограммы-4.2\"><span class=\"toc-item-num\">4.2&nbsp;&nbsp;</span>Построение матрицы расстояний и дендограммы</a></span></li><li><span><a href=\"#Обучение-модели-кластеризации-на-основании-алгоритма-K-Means\" data-toc-modified-id=\"Обучение-модели-кластеризации-на-основании-алгоритма-K-Means-4.3\"><span class=\"toc-item-num\">4.3&nbsp;&nbsp;</span>Обучение модели кластеризации на основании алгоритма K-Means</a></span></li><li><span><a href=\"#Средние-значения-признаков-для-кластеров\" data-toc-modified-id=\"Средние-значения-признаков-для-кластеров-4.4\"><span class=\"toc-item-num\">4.4&nbsp;&nbsp;</span>Средние значения признаков для кластеров</a></span></li><li><span><a href=\"#Распределения-признаков-для-кластеров\" data-toc-modified-id=\"Распределения-признаков-для-кластеров-4.5\"><span class=\"toc-item-num\">4.5&nbsp;&nbsp;</span>Распределения признаков для кластеров</a></span></li><li><span><a href=\"#Расчет-доли-оттока-для-каждого-полученного-кластера\" data-toc-modified-id=\"Расчет-доли-оттока-для-каждого-полученного-кластера-4.6\"><span class=\"toc-item-num\">4.6&nbsp;&nbsp;</span>Расчет доли оттока для каждого полученного кластера</a></span></li></ul></li><li><span><a href=\"#Выводы-и-базовые-рекомендации-по-работе-с-клиентами\" data-toc-modified-id=\"Выводы-и-базовые-рекомендации-по-работе-с-клиентами-5\"><span class=\"toc-item-num\">5&nbsp;&nbsp;</span>Выводы и базовые рекомендации по работе с клиентами</a></span></li></ul></div>"
   ]
  },
  {
   "cell_type": "markdown",
   "metadata": {},
   "source": [
    "# Описание проекта"
   ]
  },
  {
   "cell_type": "markdown",
   "metadata": {},
   "source": [
    "Сеть фитнес-центров «Культурист-датасаентист» разрабатывает стратегию взаимодействия с клиентами на основе аналитических данных  и отдел по работе с клиентами данного фитнес-центра перевёл в электронный вид множество клиентских анкет для отслеживания инликаторов оттока клиентов.\n",
    "\n",
    "***Цель проекта***: провести анализ и подготовить план действий по удержанию клиентов\n",
    "\n",
    "***Задачи проекта***:\n",
    "\n",
    "- научиться прогнозировать вероятность оттока (на уровне следующего месяца) для каждого клиента;\n",
    "- сформировать типичные портреты клиентов: выделить несколько наиболее ярких групп и охарактеризовать их основные свойства;\n",
    "- проанализировать основные признаки, наиболее сильно влияющие на отток;\n",
    "- сформулировать основные выводы и разработать рекомендации по повышению качества работы с клиентами:\n",
    " 1) выделить целевые группы клиентов;\n",
    " 2) предложить меры по снижению оттока;\n",
    " 3) определить другие особенности взаимодействия с клиентами.\n",
    " \n",
    "***Описание данных:***\n",
    "\n",
    "«Культурист-датасаентист» предоставил сведения в csv-файлах. Заказчик подготовил данные, которые содержат данные на месяц до оттока и факт оттока на определённый месяц. Набор данных включает следующие поля:\n",
    "\n",
    "Данные клиента за предыдущий до проверки факта оттока месяц:\n",
    "\n",
    "- 'gender' — пол;\n",
    "- 'Near_Location' — проживание или работа в районе, где находится фитнес-центр;\n",
    "- 'Partner' — сотрудник компании-партнёра клуба (сотрудничество с компаниями, чьи сотрудники могут получать скидки на абонемент — в таком случае фитнес-центр хранит информацию о работодателе клиента);\n",
    "- Promo_friends — факт первоначальной записи в рамках акции «приведи друга» (использовал промо-код от знакомого при оплате первого абонемента);\n",
    "- 'Phone' — наличие контактного телефона;\n",
    "- 'Age' — возраст;\n",
    "- 'Lifetime' — время с момента первого обращения в фитнес-центр (в месяцах).\n",
    "\n",
    "Информация на основе журнала посещений, покупок и информация о текущем статусе абонемента клиента:\n",
    "\n",
    "- 'Contract_period' — длительность текущего действующего абонемента (месяц, 6 месяцев, год);\n",
    "- 'Month_to_end_contract' — срок до окончания текущего действующего абонемента (в месяцах);\n",
    "- 'Group_visits' — факт посещения групповых занятий;\n",
    "- 'Avg_class_frequency_total' — средняя частота посещений в неделю за все время с начала действия абонемента;\n",
    "- 'Avg_class_frequency_current_month' — средняя частота посещений в неделю за предыдущий месяц;\n",
    "- 'Avg_additional_charges_total' — суммарная выручка от других услуг фитнес-центра: кафе, спорттовары, косметический и массажный салон.\n",
    "- 'Churn' — факт оттока в текущем месяце."
   ]
  },
  {
   "cell_type": "markdown",
   "metadata": {},
   "source": [
    "##  Обзор данных"
   ]
  },
  {
   "cell_type": "markdown",
   "metadata": {},
   "source": [
    "### Загрузка нужных библиотек"
   ]
  },
  {
   "cell_type": "code",
   "execution_count": 1,
   "metadata": {},
   "outputs": [],
   "source": [
    "import pandas as pd \n",
    "import matplotlib.pyplot as plt\n",
    "import seaborn as sns\n",
    "import numpy as np\n",
    "import warnings\n",
    "warnings.filterwarnings('ignore')\n",
    "from sklearn.model_selection import train_test_split\n",
    "from sklearn.preprocessing import StandardScaler\n",
    "from sklearn.metrics import accuracy_score, precision_score, recall_score, f1_score\n",
    "from sklearn.linear_model import LogisticRegression\n",
    "from sklearn.ensemble import RandomForestClassifier\n",
    "from scipy.cluster.hierarchy import dendrogram, linkage \n",
    "from sklearn.cluster import KMeans"
   ]
  },
  {
   "cell_type": "markdown",
   "metadata": {},
   "source": [
    "### Загрузка данных"
   ]
  },
  {
   "cell_type": "code",
   "execution_count": 2,
   "metadata": {},
   "outputs": [],
   "source": [
    "df = pd.read_csv('/datasets/gym_churn.csv')"
   ]
  },
  {
   "cell_type": "code",
   "execution_count": 3,
   "metadata": {},
   "outputs": [
    {
     "data": {
      "text/html": [
       "<div>\n",
       "<style scoped>\n",
       "    .dataframe tbody tr th:only-of-type {\n",
       "        vertical-align: middle;\n",
       "    }\n",
       "\n",
       "    .dataframe tbody tr th {\n",
       "        vertical-align: top;\n",
       "    }\n",
       "\n",
       "    .dataframe thead th {\n",
       "        text-align: right;\n",
       "    }\n",
       "</style>\n",
       "<table border=\"1\" class=\"dataframe\">\n",
       "  <thead>\n",
       "    <tr style=\"text-align: right;\">\n",
       "      <th></th>\n",
       "      <th>gender</th>\n",
       "      <th>Near_Location</th>\n",
       "      <th>Partner</th>\n",
       "      <th>Promo_friends</th>\n",
       "      <th>Phone</th>\n",
       "      <th>Contract_period</th>\n",
       "      <th>Group_visits</th>\n",
       "      <th>Age</th>\n",
       "      <th>Avg_additional_charges_total</th>\n",
       "      <th>Month_to_end_contract</th>\n",
       "      <th>Lifetime</th>\n",
       "      <th>Avg_class_frequency_total</th>\n",
       "      <th>Avg_class_frequency_current_month</th>\n",
       "      <th>Churn</th>\n",
       "    </tr>\n",
       "  </thead>\n",
       "  <tbody>\n",
       "    <tr>\n",
       "      <th>0</th>\n",
       "      <td>1</td>\n",
       "      <td>1</td>\n",
       "      <td>1</td>\n",
       "      <td>1</td>\n",
       "      <td>0</td>\n",
       "      <td>6</td>\n",
       "      <td>1</td>\n",
       "      <td>29</td>\n",
       "      <td>14.227470</td>\n",
       "      <td>5.0</td>\n",
       "      <td>3</td>\n",
       "      <td>0.020398</td>\n",
       "      <td>0.000000</td>\n",
       "      <td>0</td>\n",
       "    </tr>\n",
       "    <tr>\n",
       "      <th>1</th>\n",
       "      <td>0</td>\n",
       "      <td>1</td>\n",
       "      <td>0</td>\n",
       "      <td>0</td>\n",
       "      <td>1</td>\n",
       "      <td>12</td>\n",
       "      <td>1</td>\n",
       "      <td>31</td>\n",
       "      <td>113.202938</td>\n",
       "      <td>12.0</td>\n",
       "      <td>7</td>\n",
       "      <td>1.922936</td>\n",
       "      <td>1.910244</td>\n",
       "      <td>0</td>\n",
       "    </tr>\n",
       "    <tr>\n",
       "      <th>2</th>\n",
       "      <td>0</td>\n",
       "      <td>1</td>\n",
       "      <td>1</td>\n",
       "      <td>0</td>\n",
       "      <td>1</td>\n",
       "      <td>1</td>\n",
       "      <td>0</td>\n",
       "      <td>28</td>\n",
       "      <td>129.448479</td>\n",
       "      <td>1.0</td>\n",
       "      <td>2</td>\n",
       "      <td>1.859098</td>\n",
       "      <td>1.736502</td>\n",
       "      <td>0</td>\n",
       "    </tr>\n",
       "    <tr>\n",
       "      <th>3</th>\n",
       "      <td>0</td>\n",
       "      <td>1</td>\n",
       "      <td>1</td>\n",
       "      <td>1</td>\n",
       "      <td>1</td>\n",
       "      <td>12</td>\n",
       "      <td>1</td>\n",
       "      <td>33</td>\n",
       "      <td>62.669863</td>\n",
       "      <td>12.0</td>\n",
       "      <td>2</td>\n",
       "      <td>3.205633</td>\n",
       "      <td>3.357215</td>\n",
       "      <td>0</td>\n",
       "    </tr>\n",
       "    <tr>\n",
       "      <th>4</th>\n",
       "      <td>1</td>\n",
       "      <td>1</td>\n",
       "      <td>1</td>\n",
       "      <td>1</td>\n",
       "      <td>1</td>\n",
       "      <td>1</td>\n",
       "      <td>0</td>\n",
       "      <td>26</td>\n",
       "      <td>198.362265</td>\n",
       "      <td>1.0</td>\n",
       "      <td>3</td>\n",
       "      <td>1.113884</td>\n",
       "      <td>1.120078</td>\n",
       "      <td>0</td>\n",
       "    </tr>\n",
       "  </tbody>\n",
       "</table>\n",
       "</div>"
      ],
      "text/plain": [
       "   gender  Near_Location  Partner  Promo_friends  Phone  Contract_period  \\\n",
       "0       1              1        1              1      0                6   \n",
       "1       0              1        0              0      1               12   \n",
       "2       0              1        1              0      1                1   \n",
       "3       0              1        1              1      1               12   \n",
       "4       1              1        1              1      1                1   \n",
       "\n",
       "   Group_visits  Age  Avg_additional_charges_total  Month_to_end_contract  \\\n",
       "0             1   29                     14.227470                    5.0   \n",
       "1             1   31                    113.202938                   12.0   \n",
       "2             0   28                    129.448479                    1.0   \n",
       "3             1   33                     62.669863                   12.0   \n",
       "4             0   26                    198.362265                    1.0   \n",
       "\n",
       "   Lifetime  Avg_class_frequency_total  Avg_class_frequency_current_month  \\\n",
       "0         3                   0.020398                           0.000000   \n",
       "1         7                   1.922936                           1.910244   \n",
       "2         2                   1.859098                           1.736502   \n",
       "3         2                   3.205633                           3.357215   \n",
       "4         3                   1.113884                           1.120078   \n",
       "\n",
       "   Churn  \n",
       "0      0  \n",
       "1      0  \n",
       "2      0  \n",
       "3      0  \n",
       "4      0  "
      ]
     },
     "execution_count": 3,
     "metadata": {},
     "output_type": "execute_result"
    }
   ],
   "source": [
    "df.head()"
   ]
  },
  {
   "cell_type": "code",
   "execution_count": 4,
   "metadata": {},
   "outputs": [
    {
     "name": "stdout",
     "output_type": "stream",
     "text": [
      "<class 'pandas.core.frame.DataFrame'>\n",
      "RangeIndex: 4000 entries, 0 to 3999\n",
      "Data columns (total 14 columns):\n",
      " #   Column                             Non-Null Count  Dtype  \n",
      "---  ------                             --------------  -----  \n",
      " 0   gender                             4000 non-null   int64  \n",
      " 1   Near_Location                      4000 non-null   int64  \n",
      " 2   Partner                            4000 non-null   int64  \n",
      " 3   Promo_friends                      4000 non-null   int64  \n",
      " 4   Phone                              4000 non-null   int64  \n",
      " 5   Contract_period                    4000 non-null   int64  \n",
      " 6   Group_visits                       4000 non-null   int64  \n",
      " 7   Age                                4000 non-null   int64  \n",
      " 8   Avg_additional_charges_total       4000 non-null   float64\n",
      " 9   Month_to_end_contract              4000 non-null   float64\n",
      " 10  Lifetime                           4000 non-null   int64  \n",
      " 11  Avg_class_frequency_total          4000 non-null   float64\n",
      " 12  Avg_class_frequency_current_month  4000 non-null   float64\n",
      " 13  Churn                              4000 non-null   int64  \n",
      "dtypes: float64(4), int64(10)\n",
      "memory usage: 437.6 KB\n"
     ]
    }
   ],
   "source": [
    "#посмотрим общую информацию о таблице\n",
    "df.info()"
   ]
  },
  {
   "cell_type": "markdown",
   "metadata": {},
   "source": [
    "### Наличие пропусков"
   ]
  },
  {
   "cell_type": "code",
   "execution_count": 5,
   "metadata": {},
   "outputs": [
    {
     "data": {
      "text/plain": [
       "gender                               0\n",
       "Near_Location                        0\n",
       "Partner                              0\n",
       "Promo_friends                        0\n",
       "Phone                                0\n",
       "Contract_period                      0\n",
       "Group_visits                         0\n",
       "Age                                  0\n",
       "Avg_additional_charges_total         0\n",
       "Month_to_end_contract                0\n",
       "Lifetime                             0\n",
       "Avg_class_frequency_total            0\n",
       "Avg_class_frequency_current_month    0\n",
       "Churn                                0\n",
       "dtype: int64"
      ]
     },
     "execution_count": 5,
     "metadata": {},
     "output_type": "execute_result"
    }
   ],
   "source": [
    "df.isna().sum()"
   ]
  },
  {
   "cell_type": "markdown",
   "metadata": {},
   "source": [
    "### Наименование столбцов"
   ]
  },
  {
   "cell_type": "code",
   "execution_count": 6,
   "metadata": {},
   "outputs": [],
   "source": [
    "df.columns = df.columns.str.lower()"
   ]
  },
  {
   "cell_type": "markdown",
   "metadata": {},
   "source": [
    "### Наличие явных дубликатов"
   ]
  },
  {
   "cell_type": "code",
   "execution_count": 7,
   "metadata": {},
   "outputs": [
    {
     "data": {
      "text/plain": [
       "0"
      ]
     },
     "execution_count": 7,
     "metadata": {},
     "output_type": "execute_result"
    }
   ],
   "source": [
    "df.duplicated().sum()"
   ]
  },
  {
   "cell_type": "markdown",
   "metadata": {},
   "source": [
    "## Исследовательский анализ данных (EDA)"
   ]
  },
  {
   "cell_type": "markdown",
   "metadata": {},
   "source": [
    "### Сводные статистические показатели изучаемой таблицы"
   ]
  },
  {
   "cell_type": "code",
   "execution_count": 8,
   "metadata": {},
   "outputs": [
    {
     "data": {
      "text/html": [
       "<div>\n",
       "<style scoped>\n",
       "    .dataframe tbody tr th:only-of-type {\n",
       "        vertical-align: middle;\n",
       "    }\n",
       "\n",
       "    .dataframe tbody tr th {\n",
       "        vertical-align: top;\n",
       "    }\n",
       "\n",
       "    .dataframe thead th {\n",
       "        text-align: right;\n",
       "    }\n",
       "</style>\n",
       "<table border=\"1\" class=\"dataframe\">\n",
       "  <thead>\n",
       "    <tr style=\"text-align: right;\">\n",
       "      <th></th>\n",
       "      <th>count</th>\n",
       "      <th>mean</th>\n",
       "      <th>std</th>\n",
       "      <th>min</th>\n",
       "      <th>25%</th>\n",
       "      <th>50%</th>\n",
       "      <th>75%</th>\n",
       "      <th>max</th>\n",
       "    </tr>\n",
       "  </thead>\n",
       "  <tbody>\n",
       "    <tr>\n",
       "      <th>gender</th>\n",
       "      <td>4000.0</td>\n",
       "      <td>0.510250</td>\n",
       "      <td>0.499957</td>\n",
       "      <td>0.000000</td>\n",
       "      <td>0.000000</td>\n",
       "      <td>1.000000</td>\n",
       "      <td>1.000000</td>\n",
       "      <td>1.000000</td>\n",
       "    </tr>\n",
       "    <tr>\n",
       "      <th>near_location</th>\n",
       "      <td>4000.0</td>\n",
       "      <td>0.845250</td>\n",
       "      <td>0.361711</td>\n",
       "      <td>0.000000</td>\n",
       "      <td>1.000000</td>\n",
       "      <td>1.000000</td>\n",
       "      <td>1.000000</td>\n",
       "      <td>1.000000</td>\n",
       "    </tr>\n",
       "    <tr>\n",
       "      <th>partner</th>\n",
       "      <td>4000.0</td>\n",
       "      <td>0.486750</td>\n",
       "      <td>0.499887</td>\n",
       "      <td>0.000000</td>\n",
       "      <td>0.000000</td>\n",
       "      <td>0.000000</td>\n",
       "      <td>1.000000</td>\n",
       "      <td>1.000000</td>\n",
       "    </tr>\n",
       "    <tr>\n",
       "      <th>promo_friends</th>\n",
       "      <td>4000.0</td>\n",
       "      <td>0.308500</td>\n",
       "      <td>0.461932</td>\n",
       "      <td>0.000000</td>\n",
       "      <td>0.000000</td>\n",
       "      <td>0.000000</td>\n",
       "      <td>1.000000</td>\n",
       "      <td>1.000000</td>\n",
       "    </tr>\n",
       "    <tr>\n",
       "      <th>phone</th>\n",
       "      <td>4000.0</td>\n",
       "      <td>0.903500</td>\n",
       "      <td>0.295313</td>\n",
       "      <td>0.000000</td>\n",
       "      <td>1.000000</td>\n",
       "      <td>1.000000</td>\n",
       "      <td>1.000000</td>\n",
       "      <td>1.000000</td>\n",
       "    </tr>\n",
       "    <tr>\n",
       "      <th>contract_period</th>\n",
       "      <td>4000.0</td>\n",
       "      <td>4.681250</td>\n",
       "      <td>4.549706</td>\n",
       "      <td>1.000000</td>\n",
       "      <td>1.000000</td>\n",
       "      <td>1.000000</td>\n",
       "      <td>6.000000</td>\n",
       "      <td>12.000000</td>\n",
       "    </tr>\n",
       "    <tr>\n",
       "      <th>group_visits</th>\n",
       "      <td>4000.0</td>\n",
       "      <td>0.412250</td>\n",
       "      <td>0.492301</td>\n",
       "      <td>0.000000</td>\n",
       "      <td>0.000000</td>\n",
       "      <td>0.000000</td>\n",
       "      <td>1.000000</td>\n",
       "      <td>1.000000</td>\n",
       "    </tr>\n",
       "    <tr>\n",
       "      <th>age</th>\n",
       "      <td>4000.0</td>\n",
       "      <td>29.184250</td>\n",
       "      <td>3.258367</td>\n",
       "      <td>18.000000</td>\n",
       "      <td>27.000000</td>\n",
       "      <td>29.000000</td>\n",
       "      <td>31.000000</td>\n",
       "      <td>41.000000</td>\n",
       "    </tr>\n",
       "    <tr>\n",
       "      <th>avg_additional_charges_total</th>\n",
       "      <td>4000.0</td>\n",
       "      <td>146.943728</td>\n",
       "      <td>96.355602</td>\n",
       "      <td>0.148205</td>\n",
       "      <td>68.868830</td>\n",
       "      <td>136.220159</td>\n",
       "      <td>210.949625</td>\n",
       "      <td>552.590740</td>\n",
       "    </tr>\n",
       "    <tr>\n",
       "      <th>month_to_end_contract</th>\n",
       "      <td>4000.0</td>\n",
       "      <td>4.322750</td>\n",
       "      <td>4.191297</td>\n",
       "      <td>1.000000</td>\n",
       "      <td>1.000000</td>\n",
       "      <td>1.000000</td>\n",
       "      <td>6.000000</td>\n",
       "      <td>12.000000</td>\n",
       "    </tr>\n",
       "    <tr>\n",
       "      <th>lifetime</th>\n",
       "      <td>4000.0</td>\n",
       "      <td>3.724750</td>\n",
       "      <td>3.749267</td>\n",
       "      <td>0.000000</td>\n",
       "      <td>1.000000</td>\n",
       "      <td>3.000000</td>\n",
       "      <td>5.000000</td>\n",
       "      <td>31.000000</td>\n",
       "    </tr>\n",
       "    <tr>\n",
       "      <th>avg_class_frequency_total</th>\n",
       "      <td>4000.0</td>\n",
       "      <td>1.879020</td>\n",
       "      <td>0.972245</td>\n",
       "      <td>0.000000</td>\n",
       "      <td>1.180875</td>\n",
       "      <td>1.832768</td>\n",
       "      <td>2.536078</td>\n",
       "      <td>6.023668</td>\n",
       "    </tr>\n",
       "    <tr>\n",
       "      <th>avg_class_frequency_current_month</th>\n",
       "      <td>4000.0</td>\n",
       "      <td>1.767052</td>\n",
       "      <td>1.052906</td>\n",
       "      <td>0.000000</td>\n",
       "      <td>0.963003</td>\n",
       "      <td>1.719574</td>\n",
       "      <td>2.510336</td>\n",
       "      <td>6.146783</td>\n",
       "    </tr>\n",
       "    <tr>\n",
       "      <th>churn</th>\n",
       "      <td>4000.0</td>\n",
       "      <td>0.265250</td>\n",
       "      <td>0.441521</td>\n",
       "      <td>0.000000</td>\n",
       "      <td>0.000000</td>\n",
       "      <td>0.000000</td>\n",
       "      <td>1.000000</td>\n",
       "      <td>1.000000</td>\n",
       "    </tr>\n",
       "  </tbody>\n",
       "</table>\n",
       "</div>"
      ],
      "text/plain": [
       "                                    count        mean        std        min  \\\n",
       "gender                             4000.0    0.510250   0.499957   0.000000   \n",
       "near_location                      4000.0    0.845250   0.361711   0.000000   \n",
       "partner                            4000.0    0.486750   0.499887   0.000000   \n",
       "promo_friends                      4000.0    0.308500   0.461932   0.000000   \n",
       "phone                              4000.0    0.903500   0.295313   0.000000   \n",
       "contract_period                    4000.0    4.681250   4.549706   1.000000   \n",
       "group_visits                       4000.0    0.412250   0.492301   0.000000   \n",
       "age                                4000.0   29.184250   3.258367  18.000000   \n",
       "avg_additional_charges_total       4000.0  146.943728  96.355602   0.148205   \n",
       "month_to_end_contract              4000.0    4.322750   4.191297   1.000000   \n",
       "lifetime                           4000.0    3.724750   3.749267   0.000000   \n",
       "avg_class_frequency_total          4000.0    1.879020   0.972245   0.000000   \n",
       "avg_class_frequency_current_month  4000.0    1.767052   1.052906   0.000000   \n",
       "churn                              4000.0    0.265250   0.441521   0.000000   \n",
       "\n",
       "                                         25%         50%         75%  \\\n",
       "gender                              0.000000    1.000000    1.000000   \n",
       "near_location                       1.000000    1.000000    1.000000   \n",
       "partner                             0.000000    0.000000    1.000000   \n",
       "promo_friends                       0.000000    0.000000    1.000000   \n",
       "phone                               1.000000    1.000000    1.000000   \n",
       "contract_period                     1.000000    1.000000    6.000000   \n",
       "group_visits                        0.000000    0.000000    1.000000   \n",
       "age                                27.000000   29.000000   31.000000   \n",
       "avg_additional_charges_total       68.868830  136.220159  210.949625   \n",
       "month_to_end_contract               1.000000    1.000000    6.000000   \n",
       "lifetime                            1.000000    3.000000    5.000000   \n",
       "avg_class_frequency_total           1.180875    1.832768    2.536078   \n",
       "avg_class_frequency_current_month   0.963003    1.719574    2.510336   \n",
       "churn                               0.000000    0.000000    1.000000   \n",
       "\n",
       "                                          max  \n",
       "gender                               1.000000  \n",
       "near_location                        1.000000  \n",
       "partner                              1.000000  \n",
       "promo_friends                        1.000000  \n",
       "phone                                1.000000  \n",
       "contract_period                     12.000000  \n",
       "group_visits                         1.000000  \n",
       "age                                 41.000000  \n",
       "avg_additional_charges_total       552.590740  \n",
       "month_to_end_contract               12.000000  \n",
       "lifetime                            31.000000  \n",
       "avg_class_frequency_total            6.023668  \n",
       "avg_class_frequency_current_month    6.146783  \n",
       "churn                                1.000000  "
      ]
     },
     "execution_count": 8,
     "metadata": {},
     "output_type": "execute_result"
    }
   ],
   "source": [
    "df.describe().T"
   ]
  },
  {
   "cell_type": "markdown",
   "metadata": {},
   "source": [
    "- *Пол*: mean - 0.51, std - 0.499, видим одинаковое распределение как мужского так и женского пола.\n",
    "- *Проживание или работа в районе, где находится фитнес-центр*: mean - 0.845, std - 0.361, можно сказать, что большинство людей выбирают фитнес-зал рядом с домом или работой.\n",
    "- *Сотрудник компании-партнёра клуба* - mean - 0.487, std - 0.499, видим, что половина из посетителей приходят в фитнес из компаний-партнёров.\n",
    "- *Факт первоначальной записи в рамках акции «приведи друга»:* - mean - 0.309, std - 0.462, примерно 30 % от изучаемых посетителей пришли по промокоду \"приведи друга\".\n",
    "- *Наличие контактного телефона*: - mean - 0.904, std - 0.295, практически все имеют контактный телефон.\n",
    "- *Длительность текущего действующего абонемента (месяц, 6 месяцев, год)*: - mean - 4.681, std - 4.550, в среднем длительность абонемента составляет около 5 месяцев.\n",
    "- *Факт посещения групповых занятий*: - mean - 0.412, std - 0.492, чуть меньше половины посетителей ходят на групповые занятия\n",
    "- *Возраст*: - mean - 29.184, std - 3.258, min - 18, max - 41, Срежнйи возраст - 29 лет, самый молодой посетитель в возрасте 18 лет, самый старший в возрасте 41 года.\n",
    "- *Суммарная выручка от других услуг фитнес-центра: кафе, спорттовары, косметический и массажный салон.*: - mean - 146.944, std - 96.356, в среднем выручка 146.9 у.е, но видим, что std довольно высокое, следовательно значения выручки распределены в широком диапазоне.\n",
    "- *Срок до окончания текущего действующего абонемента (в месяцах)*: - mean - 4.323, std - 4.191, min - 1, max - 12, В среднем 4,3 месяца до оконания срока абонемента у посетителей, минимальный срок - 1 месяц, максимальный - 12.\n",
    "- *Время с момента первого обращения в фитнес-центр (в месяцах).*: - mean - 3.725, std - 3.749, min - 1, max - 31, в среднем в фитнес ходят 3,7 месяца, 31 месяц самый максимальный срок с момента первого посещения.\n",
    "- *Средняя частота посещений в неделю за все время с начала действия абонемента*: mean - 1.879, std - 0,972, в среднем ходят в фитнес 2 раза в неделю.\n",
    "- *Средняя частота посещений в неделю за предыдущий месяц*: mean - 1.767, std - 1,053, за последний месяц в среднем в неделю ходили около 2-ух раз, но разброс значений за месяц выше, чем за все время с начала действия абонемента.\n",
    "- *Факт оттока в текущем месяце*: mean -0.265, std - 0.441. Примерно 26% в данном месяце ушло из фитнеса."
   ]
  },
  {
   "cell_type": "markdown",
   "metadata": {},
   "source": [
    "### Средние значения признаков в двух группах — тех, кто ушел в отток и тех, кто остался"
   ]
  },
  {
   "cell_type": "markdown",
   "metadata": {},
   "source": [
    "Посмотрите на средние значения признаков в двух группах — тех, кто ушел в отток и тех, кто остался (воспользуйтесь методом groupby());"
   ]
  },
  {
   "cell_type": "code",
   "execution_count": 9,
   "metadata": {},
   "outputs": [
    {
     "data": {
      "text/html": [
       "<div>\n",
       "<style scoped>\n",
       "    .dataframe tbody tr th:only-of-type {\n",
       "        vertical-align: middle;\n",
       "    }\n",
       "\n",
       "    .dataframe tbody tr th {\n",
       "        vertical-align: top;\n",
       "    }\n",
       "\n",
       "    .dataframe thead th {\n",
       "        text-align: right;\n",
       "    }\n",
       "</style>\n",
       "<table border=\"1\" class=\"dataframe\">\n",
       "  <thead>\n",
       "    <tr style=\"text-align: right;\">\n",
       "      <th>churn</th>\n",
       "      <th>0</th>\n",
       "      <th>1</th>\n",
       "    </tr>\n",
       "  </thead>\n",
       "  <tbody>\n",
       "    <tr>\n",
       "      <th>gender</th>\n",
       "      <td>0.510037</td>\n",
       "      <td>0.510839</td>\n",
       "    </tr>\n",
       "    <tr>\n",
       "      <th>near_location</th>\n",
       "      <td>0.873086</td>\n",
       "      <td>0.768143</td>\n",
       "    </tr>\n",
       "    <tr>\n",
       "      <th>partner</th>\n",
       "      <td>0.534195</td>\n",
       "      <td>0.355325</td>\n",
       "    </tr>\n",
       "    <tr>\n",
       "      <th>promo_friends</th>\n",
       "      <td>0.353522</td>\n",
       "      <td>0.183789</td>\n",
       "    </tr>\n",
       "    <tr>\n",
       "      <th>phone</th>\n",
       "      <td>0.903709</td>\n",
       "      <td>0.902922</td>\n",
       "    </tr>\n",
       "    <tr>\n",
       "      <th>contract_period</th>\n",
       "      <td>5.747193</td>\n",
       "      <td>1.728558</td>\n",
       "    </tr>\n",
       "    <tr>\n",
       "      <th>group_visits</th>\n",
       "      <td>0.464103</td>\n",
       "      <td>0.268615</td>\n",
       "    </tr>\n",
       "    <tr>\n",
       "      <th>age</th>\n",
       "      <td>29.976523</td>\n",
       "      <td>26.989632</td>\n",
       "    </tr>\n",
       "    <tr>\n",
       "      <th>avg_additional_charges_total</th>\n",
       "      <td>158.445715</td>\n",
       "      <td>115.082899</td>\n",
       "    </tr>\n",
       "    <tr>\n",
       "      <th>month_to_end_contract</th>\n",
       "      <td>5.283089</td>\n",
       "      <td>1.662582</td>\n",
       "    </tr>\n",
       "    <tr>\n",
       "      <th>lifetime</th>\n",
       "      <td>4.711807</td>\n",
       "      <td>0.990575</td>\n",
       "    </tr>\n",
       "    <tr>\n",
       "      <th>avg_class_frequency_total</th>\n",
       "      <td>2.024876</td>\n",
       "      <td>1.474995</td>\n",
       "    </tr>\n",
       "    <tr>\n",
       "      <th>avg_class_frequency_current_month</th>\n",
       "      <td>2.027882</td>\n",
       "      <td>1.044546</td>\n",
       "    </tr>\n",
       "  </tbody>\n",
       "</table>\n",
       "</div>"
      ],
      "text/plain": [
       "churn                                       0           1\n",
       "gender                               0.510037    0.510839\n",
       "near_location                        0.873086    0.768143\n",
       "partner                              0.534195    0.355325\n",
       "promo_friends                        0.353522    0.183789\n",
       "phone                                0.903709    0.902922\n",
       "contract_period                      5.747193    1.728558\n",
       "group_visits                         0.464103    0.268615\n",
       "age                                 29.976523   26.989632\n",
       "avg_additional_charges_total       158.445715  115.082899\n",
       "month_to_end_contract                5.283089    1.662582\n",
       "lifetime                             4.711807    0.990575\n",
       "avg_class_frequency_total            2.024876    1.474995\n",
       "avg_class_frequency_current_month    2.027882    1.044546"
      ]
     },
     "execution_count": 9,
     "metadata": {},
     "output_type": "execute_result"
    }
   ],
   "source": [
    "df.groupby('churn').mean().T"
   ]
  },
  {
   "cell_type": "markdown",
   "metadata": {},
   "source": [
    "Можно сделать первые выводы:\n",
    "- Сотрудники компании-партнёра клуба чаще оставались в клубе(0,53), уходили реже(0,36). Это связано с тем, что существуют партнерские скидки и посетители охотнее остаются в клубе за приятную цену.\n",
    "- Длительность текущего действующего абонемента у тех, кто ушел составил 1,7 месяц, у оставшихся - 5,7 месяцев. Поэтому и уходили, так как был короткий срок абонемента и люди больше не продлевали. \n",
    "- Люди, пришедшие по промокоду меньше попадали в оттток (0,35 против 0,18).\n",
    "- Попавшие в отток люди моложе - 26,9 лет, чем те, кто остался - 29,9 лет.\n",
    "- Суммарная выручка от других услуг фитнес-центра существенно выше у тех кто осался 158,4 у.е против 115,1 у.е.\n",
    "- Срок до окончания текущего действующего абонемента (в месяцах) ниже у тех, кто попал в отток - 1,6 месяца, у тех кто остался - 5,3 месяца.\n",
    "- Время с момента первого обращения в фитнес-центр существенно ниже среди тех, кто попал в отток, 0,99 против 4.71.\n",
    "- Средняя частота посещений в неделю за все время с начала действия абонемента и в неделю за предыдущий месяц одинаково в два раза ниже у группы, попавшей в отток."
   ]
  },
  {
   "cell_type": "markdown",
   "metadata": {},
   "source": [
    "### Cтолбчатые гистограммы и распределения признаков для тех, кто ушёл (отток) и тех, кто остался (не попали в отток"
   ]
  },
  {
   "cell_type": "markdown",
   "metadata": {},
   "source": [
    "Разделим наш датафрейм на две выборки:кто попал в отток и кто остался"
   ]
  },
  {
   "cell_type": "code",
   "execution_count": 10,
   "metadata": {},
   "outputs": [],
   "source": [
    "df_0 = df.query('churn==0')\n",
    "df_1 = df.query('churn==1')"
   ]
  },
  {
   "cell_type": "code",
   "execution_count": 11,
   "metadata": {},
   "outputs": [
    {
     "data": {
      "text/html": [
       "<div>\n",
       "<style scoped>\n",
       "    .dataframe tbody tr th:only-of-type {\n",
       "        vertical-align: middle;\n",
       "    }\n",
       "\n",
       "    .dataframe tbody tr th {\n",
       "        vertical-align: top;\n",
       "    }\n",
       "\n",
       "    .dataframe thead th {\n",
       "        text-align: right;\n",
       "    }\n",
       "</style>\n",
       "<table border=\"1\" class=\"dataframe\">\n",
       "  <thead>\n",
       "    <tr style=\"text-align: right;\">\n",
       "      <th></th>\n",
       "      <th>gender</th>\n",
       "      <th>near_location</th>\n",
       "      <th>partner</th>\n",
       "      <th>promo_friends</th>\n",
       "      <th>phone</th>\n",
       "      <th>contract_period</th>\n",
       "      <th>group_visits</th>\n",
       "      <th>age</th>\n",
       "      <th>avg_additional_charges_total</th>\n",
       "      <th>month_to_end_contract</th>\n",
       "      <th>lifetime</th>\n",
       "      <th>avg_class_frequency_total</th>\n",
       "      <th>avg_class_frequency_current_month</th>\n",
       "      <th>churn</th>\n",
       "    </tr>\n",
       "  </thead>\n",
       "  <tbody>\n",
       "    <tr>\n",
       "      <th>0</th>\n",
       "      <td>1</td>\n",
       "      <td>1</td>\n",
       "      <td>1</td>\n",
       "      <td>1</td>\n",
       "      <td>0</td>\n",
       "      <td>6</td>\n",
       "      <td>1</td>\n",
       "      <td>29</td>\n",
       "      <td>14.227470</td>\n",
       "      <td>5.0</td>\n",
       "      <td>3</td>\n",
       "      <td>0.020398</td>\n",
       "      <td>0.000000</td>\n",
       "      <td>0</td>\n",
       "    </tr>\n",
       "    <tr>\n",
       "      <th>1</th>\n",
       "      <td>0</td>\n",
       "      <td>1</td>\n",
       "      <td>0</td>\n",
       "      <td>0</td>\n",
       "      <td>1</td>\n",
       "      <td>12</td>\n",
       "      <td>1</td>\n",
       "      <td>31</td>\n",
       "      <td>113.202938</td>\n",
       "      <td>12.0</td>\n",
       "      <td>7</td>\n",
       "      <td>1.922936</td>\n",
       "      <td>1.910244</td>\n",
       "      <td>0</td>\n",
       "    </tr>\n",
       "    <tr>\n",
       "      <th>2</th>\n",
       "      <td>0</td>\n",
       "      <td>1</td>\n",
       "      <td>1</td>\n",
       "      <td>0</td>\n",
       "      <td>1</td>\n",
       "      <td>1</td>\n",
       "      <td>0</td>\n",
       "      <td>28</td>\n",
       "      <td>129.448479</td>\n",
       "      <td>1.0</td>\n",
       "      <td>2</td>\n",
       "      <td>1.859098</td>\n",
       "      <td>1.736502</td>\n",
       "      <td>0</td>\n",
       "    </tr>\n",
       "    <tr>\n",
       "      <th>3</th>\n",
       "      <td>0</td>\n",
       "      <td>1</td>\n",
       "      <td>1</td>\n",
       "      <td>1</td>\n",
       "      <td>1</td>\n",
       "      <td>12</td>\n",
       "      <td>1</td>\n",
       "      <td>33</td>\n",
       "      <td>62.669863</td>\n",
       "      <td>12.0</td>\n",
       "      <td>2</td>\n",
       "      <td>3.205633</td>\n",
       "      <td>3.357215</td>\n",
       "      <td>0</td>\n",
       "    </tr>\n",
       "    <tr>\n",
       "      <th>4</th>\n",
       "      <td>1</td>\n",
       "      <td>1</td>\n",
       "      <td>1</td>\n",
       "      <td>1</td>\n",
       "      <td>1</td>\n",
       "      <td>1</td>\n",
       "      <td>0</td>\n",
       "      <td>26</td>\n",
       "      <td>198.362265</td>\n",
       "      <td>1.0</td>\n",
       "      <td>3</td>\n",
       "      <td>1.113884</td>\n",
       "      <td>1.120078</td>\n",
       "      <td>0</td>\n",
       "    </tr>\n",
       "  </tbody>\n",
       "</table>\n",
       "</div>"
      ],
      "text/plain": [
       "   gender  near_location  partner  promo_friends  phone  contract_period  \\\n",
       "0       1              1        1              1      0                6   \n",
       "1       0              1        0              0      1               12   \n",
       "2       0              1        1              0      1                1   \n",
       "3       0              1        1              1      1               12   \n",
       "4       1              1        1              1      1                1   \n",
       "\n",
       "   group_visits  age  avg_additional_charges_total  month_to_end_contract  \\\n",
       "0             1   29                     14.227470                    5.0   \n",
       "1             1   31                    113.202938                   12.0   \n",
       "2             0   28                    129.448479                    1.0   \n",
       "3             1   33                     62.669863                   12.0   \n",
       "4             0   26                    198.362265                    1.0   \n",
       "\n",
       "   lifetime  avg_class_frequency_total  avg_class_frequency_current_month  \\\n",
       "0         3                   0.020398                           0.000000   \n",
       "1         7                   1.922936                           1.910244   \n",
       "2         2                   1.859098                           1.736502   \n",
       "3         2                   3.205633                           3.357215   \n",
       "4         3                   1.113884                           1.120078   \n",
       "\n",
       "   churn  \n",
       "0      0  \n",
       "1      0  \n",
       "2      0  \n",
       "3      0  \n",
       "4      0  "
      ]
     },
     "execution_count": 11,
     "metadata": {},
     "output_type": "execute_result"
    }
   ],
   "source": [
    "df_0.head()"
   ]
  },
  {
   "cell_type": "code",
   "execution_count": 12,
   "metadata": {
    "scrolled": true
   },
   "outputs": [
    {
     "data": {
      "text/html": [
       "<div>\n",
       "<style scoped>\n",
       "    .dataframe tbody tr th:only-of-type {\n",
       "        vertical-align: middle;\n",
       "    }\n",
       "\n",
       "    .dataframe tbody tr th {\n",
       "        vertical-align: top;\n",
       "    }\n",
       "\n",
       "    .dataframe thead th {\n",
       "        text-align: right;\n",
       "    }\n",
       "</style>\n",
       "<table border=\"1\" class=\"dataframe\">\n",
       "  <thead>\n",
       "    <tr style=\"text-align: right;\">\n",
       "      <th></th>\n",
       "      <th>gender</th>\n",
       "      <th>near_location</th>\n",
       "      <th>partner</th>\n",
       "      <th>promo_friends</th>\n",
       "      <th>phone</th>\n",
       "      <th>contract_period</th>\n",
       "      <th>group_visits</th>\n",
       "      <th>age</th>\n",
       "      <th>avg_additional_charges_total</th>\n",
       "      <th>month_to_end_contract</th>\n",
       "      <th>lifetime</th>\n",
       "      <th>avg_class_frequency_total</th>\n",
       "      <th>avg_class_frequency_current_month</th>\n",
       "      <th>churn</th>\n",
       "    </tr>\n",
       "  </thead>\n",
       "  <tbody>\n",
       "    <tr>\n",
       "      <th>7</th>\n",
       "      <td>0</td>\n",
       "      <td>1</td>\n",
       "      <td>0</td>\n",
       "      <td>0</td>\n",
       "      <td>1</td>\n",
       "      <td>1</td>\n",
       "      <td>0</td>\n",
       "      <td>30</td>\n",
       "      <td>217.786641</td>\n",
       "      <td>1.0</td>\n",
       "      <td>0</td>\n",
       "      <td>1.213502</td>\n",
       "      <td>1.049387</td>\n",
       "      <td>1</td>\n",
       "    </tr>\n",
       "    <tr>\n",
       "      <th>11</th>\n",
       "      <td>1</td>\n",
       "      <td>1</td>\n",
       "      <td>1</td>\n",
       "      <td>0</td>\n",
       "      <td>1</td>\n",
       "      <td>1</td>\n",
       "      <td>0</td>\n",
       "      <td>27</td>\n",
       "      <td>266.783824</td>\n",
       "      <td>1.0</td>\n",
       "      <td>2</td>\n",
       "      <td>2.348535</td>\n",
       "      <td>1.584316</td>\n",
       "      <td>1</td>\n",
       "    </tr>\n",
       "    <tr>\n",
       "      <th>13</th>\n",
       "      <td>1</td>\n",
       "      <td>1</td>\n",
       "      <td>0</td>\n",
       "      <td>0</td>\n",
       "      <td>1</td>\n",
       "      <td>1</td>\n",
       "      <td>1</td>\n",
       "      <td>27</td>\n",
       "      <td>152.748668</td>\n",
       "      <td>1.0</td>\n",
       "      <td>1</td>\n",
       "      <td>0.000000</td>\n",
       "      <td>0.000000</td>\n",
       "      <td>1</td>\n",
       "    </tr>\n",
       "    <tr>\n",
       "      <th>21</th>\n",
       "      <td>0</td>\n",
       "      <td>0</td>\n",
       "      <td>0</td>\n",
       "      <td>0</td>\n",
       "      <td>1</td>\n",
       "      <td>1</td>\n",
       "      <td>0</td>\n",
       "      <td>30</td>\n",
       "      <td>153.198594</td>\n",
       "      <td>1.0</td>\n",
       "      <td>3</td>\n",
       "      <td>0.636382</td>\n",
       "      <td>0.000000</td>\n",
       "      <td>1</td>\n",
       "    </tr>\n",
       "    <tr>\n",
       "      <th>23</th>\n",
       "      <td>1</td>\n",
       "      <td>1</td>\n",
       "      <td>0</td>\n",
       "      <td>0</td>\n",
       "      <td>1</td>\n",
       "      <td>1</td>\n",
       "      <td>1</td>\n",
       "      <td>32</td>\n",
       "      <td>276.079882</td>\n",
       "      <td>1.0</td>\n",
       "      <td>1</td>\n",
       "      <td>1.420637</td>\n",
       "      <td>1.043101</td>\n",
       "      <td>1</td>\n",
       "    </tr>\n",
       "  </tbody>\n",
       "</table>\n",
       "</div>"
      ],
      "text/plain": [
       "    gender  near_location  partner  promo_friends  phone  contract_period  \\\n",
       "7        0              1        0              0      1                1   \n",
       "11       1              1        1              0      1                1   \n",
       "13       1              1        0              0      1                1   \n",
       "21       0              0        0              0      1                1   \n",
       "23       1              1        0              0      1                1   \n",
       "\n",
       "    group_visits  age  avg_additional_charges_total  month_to_end_contract  \\\n",
       "7              0   30                    217.786641                    1.0   \n",
       "11             0   27                    266.783824                    1.0   \n",
       "13             1   27                    152.748668                    1.0   \n",
       "21             0   30                    153.198594                    1.0   \n",
       "23             1   32                    276.079882                    1.0   \n",
       "\n",
       "    lifetime  avg_class_frequency_total  avg_class_frequency_current_month  \\\n",
       "7          0                   1.213502                           1.049387   \n",
       "11         2                   2.348535                           1.584316   \n",
       "13         1                   0.000000                           0.000000   \n",
       "21         3                   0.636382                           0.000000   \n",
       "23         1                   1.420637                           1.043101   \n",
       "\n",
       "    churn  \n",
       "7       1  \n",
       "11      1  \n",
       "13      1  \n",
       "21      1  \n",
       "23      1  "
      ]
     },
     "execution_count": 12,
     "metadata": {},
     "output_type": "execute_result"
    }
   ],
   "source": [
    "df_1.head()"
   ]
  },
  {
   "cell_type": "markdown",
   "metadata": {},
   "source": [
    "Мы видим, что у нас признаки делятся на два типа: числовые и категориальные. Поэтому для визуализации распределения создадим две функции одну для числовых переменных (гистограмма частот) и другую для категориальных (countplot)"
   ]
  },
  {
   "cell_type": "code",
   "execution_count": 13,
   "metadata": {},
   "outputs": [],
   "source": [
    "def plot_hist(column):\n",
    "    fig, axes = plt.subplots(1,2, figsize=(15,5))\n",
    "    df_0[column].plot(kind='hist', figsize=(15,5), legend = True, color = 'lavender',edgecolor='black',linewidth=2,ax=axes[0])\n",
    "    axes[0].set_title(f'Распределение {column} для тех, кто не попал в отток');\n",
    "    df_1[column].plot(kind='hist', figsize=(15,5), legend = True, color = 'lavender',edgecolor='black',linewidth=2,ax=axes[1]);\n",
    "    axes[1].set_title(f'Распределение {column} для попавших в отток');"
   ]
  },
  {
   "cell_type": "code",
   "execution_count": 14,
   "metadata": {},
   "outputs": [
    {
     "data": {
      "image/png": "[encoded data removed]",
      "text/plain": [
       "<Figure size 1080x360 with 2 Axes>"
      ]
     },
     "metadata": {
      "needs_background": "light"
     },
     "output_type": "display_data"
    }
   ],
   "source": [
    "plot_hist('contract_period')"
   ]
  },
  {
   "cell_type": "code",
   "execution_count": 15,
   "metadata": {},
   "outputs": [
    {
     "data": {
      "image/png": "[encoded data removed]",
      "text/plain": [
       "<Figure size 1080x360 with 2 Axes>"
      ]
     },
     "metadata": {
      "needs_background": "light"
     },
     "output_type": "display_data"
    }
   ],
   "source": [
    "plot_hist('age')"
   ]
  },
  {
   "cell_type": "code",
   "execution_count": 16,
   "metadata": {},
   "outputs": [
    {
     "data": {
      "image/png": "[encoded data removed]",
      "text/plain": [
       "<Figure size 1080x360 with 2 Axes>"
      ]
     },
     "metadata": {
      "needs_background": "light"
     },
     "output_type": "display_data"
    }
   ],
   "source": [
    "plot_hist('avg_additional_charges_total')"
   ]
  },
  {
   "cell_type": "code",
   "execution_count": 17,
   "metadata": {},
   "outputs": [
    {
     "data": {
      "image/png": "[encoded data removed]",
      "text/plain": [
       "<Figure size 1080x360 with 2 Axes>"
      ]
     },
     "metadata": {
      "needs_background": "light"
     },
     "output_type": "display_data"
    }
   ],
   "source": [
    "plot_hist('month_to_end_contract')"
   ]
  },
  {
   "cell_type": "code",
   "execution_count": 18,
   "metadata": {},
   "outputs": [
    {
     "data": {
      "image/png": "[encoded data removed]",
      "text/plain": [
       "<Figure size 1080x360 with 2 Axes>"
      ]
     },
     "metadata": {
      "needs_background": "light"
     },
     "output_type": "display_data"
    }
   ],
   "source": [
    "plot_hist('lifetime')"
   ]
  },
  {
   "cell_type": "code",
   "execution_count": 19,
   "metadata": {},
   "outputs": [
    {
     "data": {
      "image/png": "[encoded data removed]",
      "text/plain": [
       "<Figure size 1080x360 with 2 Axes>"
      ]
     },
     "metadata": {
      "needs_background": "light"
     },
     "output_type": "display_data"
    }
   ],
   "source": [
    "plot_hist('avg_class_frequency_total')"
   ]
  },
  {
   "cell_type": "code",
   "execution_count": 20,
   "metadata": {},
   "outputs": [
    {
     "data": {
      "image/png": "[encoded data removed]",
      "text/plain": [
       "<Figure size 1080x360 with 2 Axes>"
      ]
     },
     "metadata": {
      "needs_background": "light"
     },
     "output_type": "display_data"
    }
   ],
   "source": [
    "plot_hist('avg_class_frequency_current_month')"
   ]
  },
  {
   "cell_type": "code",
   "execution_count": 21,
   "metadata": {},
   "outputs": [],
   "source": [
    "def countplot(column):\n",
    "    fig, axes = plt.subplots(1,2, figsize=(15,5))\n",
    "    sns.countplot(x = column, data = df_0, color = 'lavender', edgecolor='black',linewidth=2,ax=axes[0])\n",
    "    axes[0].set_title(f'Распределение {column} для тех, кто не попал в отток');\n",
    "    sns.countplot(x = column, data = df_1, color = 'lavender', edgecolor='black',linewidth=2,ax=axes[1]);\n",
    "    axes[1].set_title(f'Распределение {column} для попавших в отток');\n",
    "    plt.show()"
   ]
  },
  {
   "cell_type": "code",
   "execution_count": 22,
   "metadata": {},
   "outputs": [
    {
     "data": {
      "image/png": "[encoded data removed]",
      "text/plain": [
       "<Figure size 1080x360 with 2 Axes>"
      ]
     },
     "metadata": {
      "needs_background": "light"
     },
     "output_type": "display_data"
    }
   ],
   "source": [
    "countplot('gender')"
   ]
  },
  {
   "cell_type": "code",
   "execution_count": 23,
   "metadata": {},
   "outputs": [
    {
     "data": {
      "image/png": "[encoded data removed]",
      "text/plain": [
       "<Figure size 1080x360 with 2 Axes>"
      ]
     },
     "metadata": {
      "needs_background": "light"
     },
     "output_type": "display_data"
    }
   ],
   "source": [
    "countplot('near_location')"
   ]
  },
  {
   "cell_type": "code",
   "execution_count": 24,
   "metadata": {},
   "outputs": [
    {
     "data": {
      "image/png": "[encoded data removed]",
      "text/plain": [
       "<Figure size 1080x360 with 2 Axes>"
      ]
     },
     "metadata": {
      "needs_background": "light"
     },
     "output_type": "display_data"
    }
   ],
   "source": [
    "countplot('partner')"
   ]
  },
  {
   "cell_type": "code",
   "execution_count": 25,
   "metadata": {},
   "outputs": [
    {
     "data": {
      "image/png": "[encoded data removed]",
      "text/plain": [
       "<Figure size 1080x360 with 2 Axes>"
      ]
     },
     "metadata": {
      "needs_background": "light"
     },
     "output_type": "display_data"
    }
   ],
   "source": [
    "countplot('promo_friends')"
   ]
  },
  {
   "cell_type": "code",
   "execution_count": 26,
   "metadata": {},
   "outputs": [
    {
     "data": {
      "image/png": "[encoded data removed]",
      "text/plain": [
       "<Figure size 1080x360 with 2 Axes>"
      ]
     },
     "metadata": {
      "needs_background": "light"
     },
     "output_type": "display_data"
    }
   ],
   "source": [
    "countplot('phone')"
   ]
  },
  {
   "cell_type": "code",
   "execution_count": 27,
   "metadata": {},
   "outputs": [
    {
     "data": {
      "image/png": "[encoded data removed]",
      "text/plain": [
       "<Figure size 1080x360 with 2 Axes>"
      ]
     },
     "metadata": {
      "needs_background": "light"
     },
     "output_type": "display_data"
    }
   ],
   "source": [
    "countplot('group_visits')"
   ]
  },
  {
   "cell_type": "markdown",
   "metadata": {},
   "source": [
    "Полученные гистограммы отражают ту же картину, что и в предыдущем пункте проекта, где мы смотрели на статистические характеритстики признаков с помощью методов groupbe() и describe(). Гистограммы при первичном анализе данных помогают визуально определить какие признаки являются ключевыми при оттоке клиентов из фитнес-центра. \n",
    "Смотря на графики можно сформировать \"первичный портрет\" человека, который попал в отток. Это человек в большинстве случаев до 27 лет, который купил абонемент на 1 месяц, ходил 1 раз в неделю в фитнес-центр, мало посещал групповые занятия, покупал иногда дополнительные услвуги в фитнесе, живет или работает рядом с фитнесом."
   ]
  },
  {
   "cell_type": "markdown",
   "metadata": {},
   "source": [
    "### Матрица корреляций"
   ]
  },
  {
   "cell_type": "code",
   "execution_count": 28,
   "metadata": {},
   "outputs": [
    {
     "data": {
      "image/png": "[encoded data removed]",
      "text/plain": [
       "<Figure size 1080x720 with 2 Axes>"
      ]
     },
     "metadata": {
      "needs_background": "light"
     },
     "output_type": "display_data"
    }
   ],
   "source": [
    "cm = df.corr()\n",
    "plt.figure(figsize=(15, 10))\n",
    "sns.heatmap(cm, annot = True, fmt = '0.2f', linewidths=.5, cmap = 'bwr')\n",
    "plt.title('Матрица корреляций', fontsize=16, pad=20)\n",
    "plt.show()"
   ]
  },
  {
   "cell_type": "markdown",
   "metadata": {},
   "source": [
    "Исходя из матрицы корреляции видно, что в датасете присутствуют линейно зависимые признаки.\n",
    "\n",
    "Например,\n",
    "- Длительность текущего действующего абонемента (contract_period) и срок до окончания текущего действующего абонемента (month_to_end_contract), коэффициент корреляции 0.97,\n",
    "- Средняя частота посещений в неделю за все время с начала действия абонемента (avg_class_frequency_total) и средняя частота посещений в неделю за предыдущий месяц (avg_class_frequency_current_month), коэффициент корреляции 0.95.\n",
    "*Описанные выше признаки - мультиколлинеарные признаки*"
   ]
  },
  {
   "cell_type": "markdown",
   "metadata": {},
   "source": [
    "## Построение модели прогнозирования оттока клиентов"
   ]
  },
  {
   "cell_type": "markdown",
   "metadata": {},
   "source": [
    "### Подготовка данных"
   ]
  },
  {
   "cell_type": "code",
   "execution_count": 29,
   "metadata": {},
   "outputs": [],
   "source": [
    "#Разделение данных на признаки (матрица X) и целевую переменную (y)\n",
    "X = df.drop('churn', axis=1)\n",
    "y = df['churn']"
   ]
  },
  {
   "cell_type": "code",
   "execution_count": 30,
   "metadata": {},
   "outputs": [],
   "source": [
    "# удаление одного из признаков с сильной корреляцией (из группы коррелирующих признаков удаляются все кроме одного)\n",
    "X = X.drop(['month_to_end_contract', 'avg_class_frequency_total'], axis=1)"
   ]
  },
  {
   "cell_type": "code",
   "execution_count": 31,
   "metadata": {},
   "outputs": [],
   "source": [
    "# разделяем модель на обучающую и валидационную выборку\n",
    "X_train, X_test, y_train, y_test = train_test_split(X, y, test_size = 0.2, random_state = 0)"
   ]
  },
  {
   "cell_type": "code",
   "execution_count": 32,
   "metadata": {},
   "outputs": [],
   "source": [
    "# создадим объект класса StandardScaler и применим его к обучающей выборке\n",
    "scaler = StandardScaler()\n",
    "scaler.fit(X_train)\n",
    "# применяем стандартизацию к матрице признаков для тестовой выборки\n",
    "X_train_st = scaler.transform(X_train)\n",
    "X_test_st = scaler.transform(X_test)"
   ]
  },
  {
   "cell_type": "markdown",
   "metadata": {},
   "source": [
    "### Логистическая регрессия"
   ]
  },
  {
   "cell_type": "code",
   "execution_count": 33,
   "metadata": {},
   "outputs": [],
   "source": [
    "# задаем алгоритм для нашей модели\n",
    "model_reg = LogisticRegression(solver='liblinear', random_state=0)"
   ]
  },
  {
   "cell_type": "code",
   "execution_count": 34,
   "metadata": {},
   "outputs": [
    {
     "data": {
      "text/plain": [
       "LogisticRegression(random_state=0, solver='liblinear')"
      ]
     },
     "execution_count": 34,
     "metadata": {},
     "output_type": "execute_result"
    }
   ],
   "source": [
    "# обучим модель\n",
    "model_reg.fit(X_train, y_train)"
   ]
  },
  {
   "cell_type": "code",
   "execution_count": 35,
   "metadata": {},
   "outputs": [],
   "source": [
    "# воспользуемся уже обученной моделью, чтобы сделать прогнозы\n",
    "predictions_reg = model_reg.predict(X_test) \n",
    "probabilities_reg = model_reg.predict_proba(X_test)[:,1]"
   ]
  },
  {
   "cell_type": "markdown",
   "metadata": {},
   "source": [
    "### Метрики для логистической регрессии"
   ]
  },
  {
   "cell_type": "code",
   "execution_count": 36,
   "metadata": {},
   "outputs": [
    {
     "name": "stdout",
     "output_type": "stream",
     "text": [
      "Метрики для модели логистической регрессии:\n",
      "Accuracy: 0.90\n",
      "Precision: 0.79\n",
      "Recall: 0.79\n",
      "F1: 0.79\n"
     ]
    }
   ],
   "source": [
    "# Выведем метрики для полученного прогноза\n",
    "print('Метрики для модели логистической регрессии:')\n",
    "print('Accuracy: {:.2f}'.format(accuracy_score(y_test, predictions_reg)))\n",
    "print('Precision: {:.2f}'.format(precision_score(y_test, predictions_reg)))\n",
    "print('Recall: {:.2f}'.format((recall_score(y_test, predictions_reg))))\n",
    "print('F1: {:.2f}'.format(f1_score(y_test, predictions_reg)))"
   ]
  },
  {
   "cell_type": "markdown",
   "metadata": {},
   "source": [
    "### Случайный лес"
   ]
  },
  {
   "cell_type": "code",
   "execution_count": 37,
   "metadata": {},
   "outputs": [],
   "source": [
    "# задаем алгоритм для нашей модели\n",
    "model_forest = RandomForestClassifier(n_estimators = 100, random_state = 0)"
   ]
  },
  {
   "cell_type": "code",
   "execution_count": 38,
   "metadata": {},
   "outputs": [
    {
     "data": {
      "text/plain": [
       "RandomForestClassifier(random_state=0)"
      ]
     },
     "execution_count": 38,
     "metadata": {},
     "output_type": "execute_result"
    }
   ],
   "source": [
    "# обучим модель\n",
    "model_forest.fit(X_train, y_train)"
   ]
  },
  {
   "cell_type": "code",
   "execution_count": 39,
   "metadata": {},
   "outputs": [],
   "source": [
    "# воспользуемся уже обученной моделью, чтобы сделать прогнозы\n",
    "predictions_forest = model_forest.predict(X_test) \n",
    "probabilities_forest = model_forest.predict_proba(X_test)[:,1]"
   ]
  },
  {
   "cell_type": "markdown",
   "metadata": {},
   "source": [
    "### Метрики для алгоритма случайного леса"
   ]
  },
  {
   "cell_type": "code",
   "execution_count": 40,
   "metadata": {},
   "outputs": [
    {
     "name": "stdout",
     "output_type": "stream",
     "text": [
      "Метрики для модели случайного леса:\n",
      "Accuracy: 0.90\n",
      "Precision: 0.81\n",
      "Recall: 0.75\n",
      "F1: 0.78\n"
     ]
    }
   ],
   "source": [
    "# Выведем метрики для полученного прогноза\n",
    "print('Метрики для модели случайного леса:')\n",
    "print('Accuracy: {:.2f}'.format(accuracy_score(y_test, predictions_forest)))\n",
    "print('Precision: {:.2f}'.format(precision_score(y_test, predictions_forest)))\n",
    "print('Recall: {:.2f}'.format((recall_score(y_test, predictions_forest))))\n",
    "print('F1: {:.2f}'.format(f1_score(y_test, predictions_forest)))"
   ]
  },
  {
   "cell_type": "markdown",
   "metadata": {},
   "source": [
    "### Оценка метрик двух алгоритмов"
   ]
  },
  {
   "cell_type": "markdown",
   "metadata": {},
   "source": [
    "- Доля правильных ответов(Accuracy), у модели логистической регрессии - 0.90,у модели случайного леса - 0.90 ;\n",
    "- Точность(Precision) у модели логистической регрессии 0.79, у модели случайного леса - 0.81;\n",
    "- Полнота (Recall) у модели логистической регрессии 0.79, у модели случайного леса - 0.75;\n",
    "- F1-мера у модели логистической регрессии 0.79, у модели случайного леса - 0.78.\n",
    "\n",
    "*Исходя из оценки метрик двух алгоритмов можно сказать, что обе модели показали себя примерно одинаково. Чтобы определить превосходство той или иной модели можно после подбора важных признаков (feature importance)*"
   ]
  },
  {
   "cell_type": "markdown",
   "metadata": {},
   "source": [
    "## Кластеризация клиентов"
   ]
  },
  {
   "cell_type": "markdown",
   "metadata": {},
   "source": [
    "### Стандартизация данных"
   ]
  },
  {
   "cell_type": "code",
   "execution_count": 41,
   "metadata": {},
   "outputs": [],
   "source": [
    "sc = StandardScaler()\n",
    "X_sc = sc.fit_transform(X)"
   ]
  },
  {
   "cell_type": "markdown",
   "metadata": {},
   "source": [
    "### Построение матрицы расстояний и дендограммы"
   ]
  },
  {
   "cell_type": "code",
   "execution_count": 42,
   "metadata": {},
   "outputs": [],
   "source": [
    "# Матрица расстояний\n",
    "linked = linkage(X_sc, method = 'ward')"
   ]
  },
  {
   "cell_type": "code",
   "execution_count": 43,
   "metadata": {},
   "outputs": [
    {
     "data": {
      "image/png": "[encoded data removed]",
      "text/plain": [
       "<Figure size 864x576 with 1 Axes>"
      ]
     },
     "metadata": {
      "needs_background": "light"
     },
     "output_type": "display_data"
    }
   ],
   "source": [
    "# Дендограмма\n",
    "plt.figure(figsize=(12, 8))  \n",
    "dendrogram(linked, orientation='top', no_labels=True)\n",
    "plt.title('Кластеризация посетителей фитнес-клуба')\n",
    "plt.show()"
   ]
  },
  {
   "cell_type": "markdown",
   "metadata": {},
   "source": [
    "Мы видим на полученной дендограмме 4 разных цвета, следовательно дендрограмма предложила нам 4 кластера, которые отличны количеством посетителей."
   ]
  },
  {
   "cell_type": "markdown",
   "metadata": {},
   "source": [
    "### Обучение модели кластеризации на основании алгоритма K-Means"
   ]
  },
  {
   "cell_type": "code",
   "execution_count": 44,
   "metadata": {},
   "outputs": [],
   "source": [
    "# задаём модель k_means с числом кластеров 5 и фиксируем значение random_state\n",
    "km = KMeans(n_clusters=5, random_state=0)"
   ]
  },
  {
   "cell_type": "code",
   "execution_count": 45,
   "metadata": {},
   "outputs": [],
   "source": [
    "# прогнозируем кластеры для наблюдений (алгоритм присваивает им номера от 0 до 2)\n",
    "labels = km.fit_predict(X_sc)"
   ]
  },
  {
   "cell_type": "code",
   "execution_count": 46,
   "metadata": {},
   "outputs": [],
   "source": [
    "# сохраняем метки кластера в поле нашего датасета\n",
    "df['cluster_km'] = labels"
   ]
  },
  {
   "cell_type": "code",
   "execution_count": 47,
   "metadata": {},
   "outputs": [
    {
     "data": {
      "text/html": [
       "<div>\n",
       "<style scoped>\n",
       "    .dataframe tbody tr th:only-of-type {\n",
       "        vertical-align: middle;\n",
       "    }\n",
       "\n",
       "    .dataframe tbody tr th {\n",
       "        vertical-align: top;\n",
       "    }\n",
       "\n",
       "    .dataframe thead th {\n",
       "        text-align: right;\n",
       "    }\n",
       "</style>\n",
       "<table border=\"1\" class=\"dataframe\">\n",
       "  <thead>\n",
       "    <tr style=\"text-align: right;\">\n",
       "      <th></th>\n",
       "      <th>gender</th>\n",
       "      <th>near_location</th>\n",
       "      <th>partner</th>\n",
       "      <th>promo_friends</th>\n",
       "      <th>phone</th>\n",
       "      <th>contract_period</th>\n",
       "      <th>group_visits</th>\n",
       "      <th>age</th>\n",
       "      <th>avg_additional_charges_total</th>\n",
       "      <th>month_to_end_contract</th>\n",
       "      <th>lifetime</th>\n",
       "      <th>avg_class_frequency_total</th>\n",
       "      <th>avg_class_frequency_current_month</th>\n",
       "      <th>churn</th>\n",
       "      <th>cluster_km</th>\n",
       "    </tr>\n",
       "  </thead>\n",
       "  <tbody>\n",
       "    <tr>\n",
       "      <th>0</th>\n",
       "      <td>1</td>\n",
       "      <td>1</td>\n",
       "      <td>1</td>\n",
       "      <td>1</td>\n",
       "      <td>0</td>\n",
       "      <td>6</td>\n",
       "      <td>1</td>\n",
       "      <td>29</td>\n",
       "      <td>14.227470</td>\n",
       "      <td>5.0</td>\n",
       "      <td>3</td>\n",
       "      <td>0.020398</td>\n",
       "      <td>0.000000</td>\n",
       "      <td>0</td>\n",
       "      <td>4</td>\n",
       "    </tr>\n",
       "    <tr>\n",
       "      <th>1</th>\n",
       "      <td>0</td>\n",
       "      <td>1</td>\n",
       "      <td>0</td>\n",
       "      <td>0</td>\n",
       "      <td>1</td>\n",
       "      <td>12</td>\n",
       "      <td>1</td>\n",
       "      <td>31</td>\n",
       "      <td>113.202938</td>\n",
       "      <td>12.0</td>\n",
       "      <td>7</td>\n",
       "      <td>1.922936</td>\n",
       "      <td>1.910244</td>\n",
       "      <td>0</td>\n",
       "      <td>3</td>\n",
       "    </tr>\n",
       "    <tr>\n",
       "      <th>2</th>\n",
       "      <td>0</td>\n",
       "      <td>1</td>\n",
       "      <td>1</td>\n",
       "      <td>0</td>\n",
       "      <td>1</td>\n",
       "      <td>1</td>\n",
       "      <td>0</td>\n",
       "      <td>28</td>\n",
       "      <td>129.448479</td>\n",
       "      <td>1.0</td>\n",
       "      <td>2</td>\n",
       "      <td>1.859098</td>\n",
       "      <td>1.736502</td>\n",
       "      <td>0</td>\n",
       "      <td>2</td>\n",
       "    </tr>\n",
       "    <tr>\n",
       "      <th>3</th>\n",
       "      <td>0</td>\n",
       "      <td>1</td>\n",
       "      <td>1</td>\n",
       "      <td>1</td>\n",
       "      <td>1</td>\n",
       "      <td>12</td>\n",
       "      <td>1</td>\n",
       "      <td>33</td>\n",
       "      <td>62.669863</td>\n",
       "      <td>12.0</td>\n",
       "      <td>2</td>\n",
       "      <td>3.205633</td>\n",
       "      <td>3.357215</td>\n",
       "      <td>0</td>\n",
       "      <td>0</td>\n",
       "    </tr>\n",
       "    <tr>\n",
       "      <th>4</th>\n",
       "      <td>1</td>\n",
       "      <td>1</td>\n",
       "      <td>1</td>\n",
       "      <td>1</td>\n",
       "      <td>1</td>\n",
       "      <td>1</td>\n",
       "      <td>0</td>\n",
       "      <td>26</td>\n",
       "      <td>198.362265</td>\n",
       "      <td>1.0</td>\n",
       "      <td>3</td>\n",
       "      <td>1.113884</td>\n",
       "      <td>1.120078</td>\n",
       "      <td>0</td>\n",
       "      <td>0</td>\n",
       "    </tr>\n",
       "  </tbody>\n",
       "</table>\n",
       "</div>"
      ],
      "text/plain": [
       "   gender  near_location  partner  promo_friends  phone  contract_period  \\\n",
       "0       1              1        1              1      0                6   \n",
       "1       0              1        0              0      1               12   \n",
       "2       0              1        1              0      1                1   \n",
       "3       0              1        1              1      1               12   \n",
       "4       1              1        1              1      1                1   \n",
       "\n",
       "   group_visits  age  avg_additional_charges_total  month_to_end_contract  \\\n",
       "0             1   29                     14.227470                    5.0   \n",
       "1             1   31                    113.202938                   12.0   \n",
       "2             0   28                    129.448479                    1.0   \n",
       "3             1   33                     62.669863                   12.0   \n",
       "4             0   26                    198.362265                    1.0   \n",
       "\n",
       "   lifetime  avg_class_frequency_total  avg_class_frequency_current_month  \\\n",
       "0         3                   0.020398                           0.000000   \n",
       "1         7                   1.922936                           1.910244   \n",
       "2         2                   1.859098                           1.736502   \n",
       "3         2                   3.205633                           3.357215   \n",
       "4         3                   1.113884                           1.120078   \n",
       "\n",
       "   churn  cluster_km  \n",
       "0      0           4  \n",
       "1      0           3  \n",
       "2      0           2  \n",
       "3      0           0  \n",
       "4      0           0  "
      ]
     },
     "execution_count": 47,
     "metadata": {},
     "output_type": "execute_result"
    }
   ],
   "source": [
    "df.head()"
   ]
  },
  {
   "cell_type": "markdown",
   "metadata": {},
   "source": [
    "### Средние значения признаков для кластеров"
   ]
  },
  {
   "cell_type": "code",
   "execution_count": 48,
   "metadata": {},
   "outputs": [
    {
     "data": {
      "text/html": [
       "<div>\n",
       "<style scoped>\n",
       "    .dataframe tbody tr th:only-of-type {\n",
       "        vertical-align: middle;\n",
       "    }\n",
       "\n",
       "    .dataframe tbody tr th {\n",
       "        vertical-align: top;\n",
       "    }\n",
       "\n",
       "    .dataframe thead th {\n",
       "        text-align: right;\n",
       "    }\n",
       "</style>\n",
       "<table border=\"1\" class=\"dataframe\">\n",
       "  <thead>\n",
       "    <tr style=\"text-align: right;\">\n",
       "      <th>cluster_km</th>\n",
       "      <th>0</th>\n",
       "      <th>1</th>\n",
       "      <th>2</th>\n",
       "      <th>3</th>\n",
       "      <th>4</th>\n",
       "    </tr>\n",
       "  </thead>\n",
       "  <tbody>\n",
       "    <tr>\n",
       "      <th>gender</th>\n",
       "      <td>0.496447</td>\n",
       "      <td>0.500000</td>\n",
       "      <td>0.500940</td>\n",
       "      <td>0.534260</td>\n",
       "      <td>0.523316</td>\n",
       "    </tr>\n",
       "    <tr>\n",
       "      <th>near_location</th>\n",
       "      <td>0.995939</td>\n",
       "      <td>0.000000</td>\n",
       "      <td>1.000000</td>\n",
       "      <td>0.996028</td>\n",
       "      <td>0.862694</td>\n",
       "    </tr>\n",
       "    <tr>\n",
       "      <th>partner</th>\n",
       "      <td>0.892386</td>\n",
       "      <td>0.489247</td>\n",
       "      <td>0.217105</td>\n",
       "      <td>0.379345</td>\n",
       "      <td>0.471503</td>\n",
       "    </tr>\n",
       "    <tr>\n",
       "      <th>promo_friends</th>\n",
       "      <td>1.000000</td>\n",
       "      <td>0.078853</td>\n",
       "      <td>0.072368</td>\n",
       "      <td>0.009930</td>\n",
       "      <td>0.305699</td>\n",
       "    </tr>\n",
       "    <tr>\n",
       "      <th>phone</th>\n",
       "      <td>1.000000</td>\n",
       "      <td>1.000000</td>\n",
       "      <td>1.000000</td>\n",
       "      <td>1.000000</td>\n",
       "      <td>0.000000</td>\n",
       "    </tr>\n",
       "    <tr>\n",
       "      <th>contract_period</th>\n",
       "      <td>6.922843</td>\n",
       "      <td>2.994624</td>\n",
       "      <td>2.010338</td>\n",
       "      <td>6.208540</td>\n",
       "      <td>4.777202</td>\n",
       "    </tr>\n",
       "    <tr>\n",
       "      <th>group_visits</th>\n",
       "      <td>0.524873</td>\n",
       "      <td>0.232975</td>\n",
       "      <td>0.277256</td>\n",
       "      <td>0.538232</td>\n",
       "      <td>0.427461</td>\n",
       "    </tr>\n",
       "    <tr>\n",
       "      <th>age</th>\n",
       "      <td>29.606091</td>\n",
       "      <td>28.679211</td>\n",
       "      <td>27.583647</td>\n",
       "      <td>30.699106</td>\n",
       "      <td>29.297927</td>\n",
       "    </tr>\n",
       "    <tr>\n",
       "      <th>avg_additional_charges_total</th>\n",
       "      <td>153.424651</td>\n",
       "      <td>137.125763</td>\n",
       "      <td>119.339956</td>\n",
       "      <td>176.259567</td>\n",
       "      <td>144.208179</td>\n",
       "    </tr>\n",
       "    <tr>\n",
       "      <th>month_to_end_contract</th>\n",
       "      <td>6.332995</td>\n",
       "      <td>2.818996</td>\n",
       "      <td>1.941729</td>\n",
       "      <td>5.650447</td>\n",
       "      <td>4.466321</td>\n",
       "    </tr>\n",
       "    <tr>\n",
       "      <th>lifetime</th>\n",
       "      <td>4.283249</td>\n",
       "      <td>2.974910</td>\n",
       "      <td>1.922932</td>\n",
       "      <td>5.415094</td>\n",
       "      <td>3.940415</td>\n",
       "    </tr>\n",
       "    <tr>\n",
       "      <th>avg_class_frequency_total</th>\n",
       "      <td>1.962217</td>\n",
       "      <td>1.764122</td>\n",
       "      <td>1.451098</td>\n",
       "      <td>2.322960</td>\n",
       "      <td>1.854211</td>\n",
       "    </tr>\n",
       "    <tr>\n",
       "      <th>avg_class_frequency_current_month</th>\n",
       "      <td>1.919520</td>\n",
       "      <td>1.597146</td>\n",
       "      <td>1.203319</td>\n",
       "      <td>2.324220</td>\n",
       "      <td>1.723967</td>\n",
       "    </tr>\n",
       "    <tr>\n",
       "      <th>churn</th>\n",
       "      <td>0.119797</td>\n",
       "      <td>0.403226</td>\n",
       "      <td>0.563910</td>\n",
       "      <td>0.014896</td>\n",
       "      <td>0.266839</td>\n",
       "    </tr>\n",
       "  </tbody>\n",
       "</table>\n",
       "</div>"
      ],
      "text/plain": [
       "cluster_km                                  0           1           2  \\\n",
       "gender                               0.496447    0.500000    0.500940   \n",
       "near_location                        0.995939    0.000000    1.000000   \n",
       "partner                              0.892386    0.489247    0.217105   \n",
       "promo_friends                        1.000000    0.078853    0.072368   \n",
       "phone                                1.000000    1.000000    1.000000   \n",
       "contract_period                      6.922843    2.994624    2.010338   \n",
       "group_visits                         0.524873    0.232975    0.277256   \n",
       "age                                 29.606091   28.679211   27.583647   \n",
       "avg_additional_charges_total       153.424651  137.125763  119.339956   \n",
       "month_to_end_contract                6.332995    2.818996    1.941729   \n",
       "lifetime                             4.283249    2.974910    1.922932   \n",
       "avg_class_frequency_total            1.962217    1.764122    1.451098   \n",
       "avg_class_frequency_current_month    1.919520    1.597146    1.203319   \n",
       "churn                                0.119797    0.403226    0.563910   \n",
       "\n",
       "cluster_km                                  3           4  \n",
       "gender                               0.534260    0.523316  \n",
       "near_location                        0.996028    0.862694  \n",
       "partner                              0.379345    0.471503  \n",
       "promo_friends                        0.009930    0.305699  \n",
       "phone                                1.000000    0.000000  \n",
       "contract_period                      6.208540    4.777202  \n",
       "group_visits                         0.538232    0.427461  \n",
       "age                                 30.699106   29.297927  \n",
       "avg_additional_charges_total       176.259567  144.208179  \n",
       "month_to_end_contract                5.650447    4.466321  \n",
       "lifetime                             5.415094    3.940415  \n",
       "avg_class_frequency_total            2.322960    1.854211  \n",
       "avg_class_frequency_current_month    2.324220    1.723967  \n",
       "churn                                0.014896    0.266839  "
      ]
     },
     "execution_count": 48,
     "metadata": {},
     "output_type": "execute_result"
    }
   ],
   "source": [
    "# выводим статистику по средним значениям наших признаков по кластеру\n",
    "df.groupby('cluster_km').mean().T"
   ]
  },
  {
   "cell_type": "markdown",
   "metadata": {},
   "source": [
    "***Кластер 0***\n",
    "\n",
    "- Отток 11 %;\n",
    "- Живут или работают около фитнеса;\n",
    "- Многие в данном кластере пришли по партнерской программе;\n",
    "- Данная группа в основном пришла из компаний-партнеров или по промокоду.\n",
    "- Средняя длительность абонемента - 7 месяцев;\n",
    "- Средний возраст 29,6 лет;\n",
    "- В среднем до конца срока действия абонемента 10 месяцев;\n",
    "- Средняя посещаемость в неделю - 2 раза;\n",
    "\n",
    "***Кластер 1***\n",
    "\n",
    "- Отток 40 %;\n",
    "- Все не живут или не работают около фитнеса;\n",
    "- Средняя длительность абонемента - 3 месяца;\n",
    "- Средний возраст 28,7 лет;\n",
    "- Данный кластер меньше всех посещает групповые занятия;\n",
    "- В среднем до конца срока действия абонемента 3 месяца;\n",
    "- Средняя посещаемость в неделю - 1-2 раза;\n",
    "\n",
    "***Кластер 2***\n",
    "\n",
    "- Отток 56% - наибольший показатель из всех кластеров;\n",
    "- Практически все работают и живут около фитнеса;\n",
    "- Средняя длительность абонемента - 2 месяца;\n",
    "- Данная группа в основном пришла сама не из компаний-партнеров или по промокоду.\n",
    "- Средний возраст 27,6 лет-самый молодой кластер;\n",
    "- В среднем до конца срока действия абонемента 2 месяца;\n",
    "- Средняя посещаемость в неделю - 1-2 раза;\n",
    "\n",
    "***Кластер 3***\n",
    "\n",
    "- Отток 1 % - наименьший показатель по оттоку среди всех кластеров;\n",
    "- Все работают и живут рядом с фитнесом;\n",
    "- Средняя длительность абонемента - 6 месяцев;\n",
    "- Данный кластер больше всех посещает групповые занятия;\n",
    "- Средний возраст 30,7 лет-самый старый кластер;\n",
    "- Данный кластер больше всех тратит деньги на доп услуги фитнес-центра;\n",
    "- Средняя посещаемость в неделю - 2-3 раза;\n",
    "\n",
    "***Кластер 4***\n",
    "\n",
    "- Отток 27 %;\n",
    "- Большинство работают и живут раядом с фитнесом;\n",
    "- Клиенты данного кластера не оставляли своего контакного телефона;\n",
    "- Средняя длительность абонемента - 3 месяца;\n",
    "- Средний возраст 29,3 лет;\n",
    "- Данный кластер посетителей больше всех пользовались платными дополнительными услугами;\n",
    "- В среднем до конца срока действия абонемента 2,5 месяца;\n",
    "- Средняя посещаемость в неделю - 1-2 раза;"
   ]
  },
  {
   "cell_type": "markdown",
   "metadata": {},
   "source": [
    "### Распределения признаков для кластеров"
   ]
  },
  {
   "cell_type": "markdown",
   "metadata": {},
   "source": [
    "Как и в пунтке 2 данного проекта для визуализации распределения создадим две функции одну для числовых переменных ( в пунтке 2 мы использовали гистограмму частот, а сейчас применим боксплот) и другую для категориальных (countplot)."
   ]
  },
  {
   "cell_type": "code",
   "execution_count": 49,
   "metadata": {},
   "outputs": [],
   "source": [
    "def plot_count_cluster(column):\n",
    "    plt.figure(figsize=(10, 6))\n",
    "    sns.countplot(x = df[column], hue = 'cluster_km', color = 'purple', data = df)\n",
    "    plt.title(f'Распределение признака {column} для каждого из кластеров')\n",
    "    plt.show()"
   ]
  },
  {
   "cell_type": "code",
   "execution_count": 50,
   "metadata": {},
   "outputs": [
    {
     "data": {
      "image/png": "[encoded data removed]",
      "text/plain": [
       "<Figure size 720x432 with 1 Axes>"
      ]
     },
     "metadata": {
      "needs_background": "light"
     },
     "output_type": "display_data"
    }
   ],
   "source": [
    "plot_count_cluster('gender')"
   ]
  },
  {
   "cell_type": "code",
   "execution_count": 51,
   "metadata": {},
   "outputs": [
    {
     "data": {
      "image/png": "[encoded data removed]",
      "text/plain": [
       "<Figure size 720x432 with 1 Axes>"
      ]
     },
     "metadata": {
      "needs_background": "light"
     },
     "output_type": "display_data"
    }
   ],
   "source": [
    "plot_count_cluster('near_location')"
   ]
  },
  {
   "cell_type": "code",
   "execution_count": 52,
   "metadata": {},
   "outputs": [
    {
     "data": {
      "image/png": "[encoded data removed]",
      "text/plain": [
       "<Figure size 720x432 with 1 Axes>"
      ]
     },
     "metadata": {
      "needs_background": "light"
     },
     "output_type": "display_data"
    }
   ],
   "source": [
    "plot_count_cluster('partner')"
   ]
  },
  {
   "cell_type": "code",
   "execution_count": 53,
   "metadata": {},
   "outputs": [
    {
     "data": {
      "image/png": "[encoded data removed]",
      "text/plain": [
       "<Figure size 720x432 with 1 Axes>"
      ]
     },
     "metadata": {
      "needs_background": "light"
     },
     "output_type": "display_data"
    }
   ],
   "source": [
    "plot_count_cluster('promo_friends')"
   ]
  },
  {
   "cell_type": "code",
   "execution_count": 54,
   "metadata": {},
   "outputs": [
    {
     "data": {
      "image/png": "[encoded data removed]",
      "text/plain": [
       "<Figure size 720x432 with 1 Axes>"
      ]
     },
     "metadata": {
      "needs_background": "light"
     },
     "output_type": "display_data"
    }
   ],
   "source": [
    "plot_count_cluster('group_visits')"
   ]
  },
  {
   "cell_type": "code",
   "execution_count": 55,
   "metadata": {},
   "outputs": [
    {
     "data": {
      "image/png": "[encoded data removed]",
      "text/plain": [
       "<Figure size 720x432 with 1 Axes>"
      ]
     },
     "metadata": {
      "needs_background": "light"
     },
     "output_type": "display_data"
    }
   ],
   "source": [
    "plot_count_cluster('churn')"
   ]
  },
  {
   "cell_type": "code",
   "execution_count": 56,
   "metadata": {},
   "outputs": [],
   "source": [
    "def plot_hist_cluster(column):\n",
    "    plt.figure(figsize=(10, 6))\n",
    "    sns.boxplot(x ='cluster_km', y = df[column], data = df)\n",
    "    plt.title(f'Распределение признака {column} для каждого из кластеров')\n",
    "    plt.show()"
   ]
  },
  {
   "cell_type": "code",
   "execution_count": 57,
   "metadata": {},
   "outputs": [
    {
     "data": {
      "image/png": "[encoded data removed]",
      "text/plain": [
       "<Figure size 720x432 with 1 Axes>"
      ]
     },
     "metadata": {
      "needs_background": "light"
     },
     "output_type": "display_data"
    }
   ],
   "source": [
    "plot_hist_cluster('contract_period')"
   ]
  },
  {
   "cell_type": "code",
   "execution_count": 58,
   "metadata": {},
   "outputs": [
    {
     "data": {
      "image/png": "[encoded data removed]",
      "text/plain": [
       "<Figure size 720x432 with 1 Axes>"
      ]
     },
     "metadata": {
      "needs_background": "light"
     },
     "output_type": "display_data"
    }
   ],
   "source": [
    "plot_hist_cluster('age')"
   ]
  },
  {
   "cell_type": "code",
   "execution_count": 59,
   "metadata": {},
   "outputs": [
    {
     "data": {
      "image/png": "[encoded data removed]",
      "text/plain": [
       "<Figure size 720x432 with 1 Axes>"
      ]
     },
     "metadata": {
      "needs_background": "light"
     },
     "output_type": "display_data"
    }
   ],
   "source": [
    "plot_hist_cluster('avg_additional_charges_total')"
   ]
  },
  {
   "cell_type": "code",
   "execution_count": 60,
   "metadata": {},
   "outputs": [
    {
     "data": {
      "image/png": "[encoded data removed]",
      "text/plain": [
       "<Figure size 720x432 with 1 Axes>"
      ]
     },
     "metadata": {
      "needs_background": "light"
     },
     "output_type": "display_data"
    }
   ],
   "source": [
    "plot_hist_cluster('month_to_end_contract')"
   ]
  },
  {
   "cell_type": "code",
   "execution_count": 61,
   "metadata": {},
   "outputs": [
    {
     "data": {
      "image/png": "[encoded data removed]",
      "text/plain": [
       "<Figure size 720x432 with 1 Axes>"
      ]
     },
     "metadata": {
      "needs_background": "light"
     },
     "output_type": "display_data"
    }
   ],
   "source": [
    "plot_hist_cluster('lifetime')"
   ]
  },
  {
   "cell_type": "code",
   "execution_count": 62,
   "metadata": {},
   "outputs": [
    {
     "data": {
      "image/png": "[encoded data removed]",
      "text/plain": [
       "<Figure size 720x432 with 1 Axes>"
      ]
     },
     "metadata": {
      "needs_background": "light"
     },
     "output_type": "display_data"
    }
   ],
   "source": [
    "plot_hist_cluster('avg_class_frequency_total')"
   ]
  },
  {
   "cell_type": "code",
   "execution_count": 63,
   "metadata": {},
   "outputs": [
    {
     "data": {
      "image/png": "[encoded data removed]",
      "text/plain": [
       "<Figure size 720x432 with 1 Axes>"
      ]
     },
     "metadata": {
      "needs_background": "light"
     },
     "output_type": "display_data"
    }
   ],
   "source": [
    "plot_hist_cluster('avg_class_frequency_current_month')"
   ]
  },
  {
   "cell_type": "markdown",
   "metadata": {},
   "source": [
    "Исходя из построенных распределений можно утверждать:\n",
    "- В кластере 0, 2, 3 и 4 живут или работают около фитнес-центра;\n",
    "- Кластер 0 пришли в большинстве по партнерской компании;\n",
    "- Меньше всего отток клиентов в кластере 3, больше всего в кластре 2;\n",
    "- Кластер 0 и 3 выделяеется самым длинным текущим абонементом - 6 месяцев.\n",
    "- Кластер 4 посещает больше всех тренировки в неделю около 3 раз, меньше всего кластер 2 - около 1 иногда 2ух раз.\n",
    "- Самый младший кластер 2, самые старши1 кластер 3.\n",
    "- Наблюдаем в данных выбросы."
   ]
  },
  {
   "cell_type": "markdown",
   "metadata": {},
   "source": [
    "### Расчет доли оттока для каждого полученного кластера"
   ]
  },
  {
   "cell_type": "code",
   "execution_count": 64,
   "metadata": {},
   "outputs": [
    {
     "data": {
      "text/html": [
       "<div>\n",
       "<style scoped>\n",
       "    .dataframe tbody tr th:only-of-type {\n",
       "        vertical-align: middle;\n",
       "    }\n",
       "\n",
       "    .dataframe tbody tr th {\n",
       "        vertical-align: top;\n",
       "    }\n",
       "\n",
       "    .dataframe thead th {\n",
       "        text-align: right;\n",
       "    }\n",
       "</style>\n",
       "<table border=\"1\" class=\"dataframe\">\n",
       "  <thead>\n",
       "    <tr style=\"text-align: right;\">\n",
       "      <th></th>\n",
       "      <th>churn</th>\n",
       "    </tr>\n",
       "    <tr>\n",
       "      <th>cluster_km</th>\n",
       "      <th></th>\n",
       "    </tr>\n",
       "  </thead>\n",
       "  <tbody>\n",
       "    <tr>\n",
       "      <th>2</th>\n",
       "      <td>0.563910</td>\n",
       "    </tr>\n",
       "    <tr>\n",
       "      <th>1</th>\n",
       "      <td>0.403226</td>\n",
       "    </tr>\n",
       "    <tr>\n",
       "      <th>4</th>\n",
       "      <td>0.266839</td>\n",
       "    </tr>\n",
       "    <tr>\n",
       "      <th>0</th>\n",
       "      <td>0.119797</td>\n",
       "    </tr>\n",
       "    <tr>\n",
       "      <th>3</th>\n",
       "      <td>0.014896</td>\n",
       "    </tr>\n",
       "  </tbody>\n",
       "</table>\n",
       "</div>"
      ],
      "text/plain": [
       "               churn\n",
       "cluster_km          \n",
       "2           0.563910\n",
       "1           0.403226\n",
       "4           0.266839\n",
       "0           0.119797\n",
       "3           0.014896"
      ]
     },
     "execution_count": 64,
     "metadata": {},
     "output_type": "execute_result"
    }
   ],
   "source": [
    "df.groupby('cluster_km').agg({'churn':'mean'}).sort_values('churn', ascending=False)"
   ]
  },
  {
   "cell_type": "markdown",
   "metadata": {},
   "source": [
    "Лидером по оттоку клиентов является кластер 2 - 56%, наименьшй процент оттока имеет кластер 3 - 1%."
   ]
  },
  {
   "cell_type": "markdown",
   "metadata": {},
   "source": [
    "## Выводы и базовые рекомендации по работе с клиентами"
   ]
  },
  {
   "cell_type": "markdown",
   "metadata": {},
   "source": [
    "В нашем распоряжении был датасет фитнес-центров «Культурист-датасаентист», который содержал 4000 строк и 14 столбцов, столбцы описывали различные признаки (количественные и категориальные). Данные не содержат пропуски и дубликаты.\n",
    "\n",
    "***Исследовательский анализ данных (EDA)***\n",
    "- Сотрудники компании-партнёра клуба чаще оставались в клубе(0,53), уходили реже(0,36). Это связано с тем, что существуют партнерские скидки и посетители охотнее остаются в клубе за приятную цену.\n",
    "- Длительность текущего действующего абонемента у тех, кто ушел составил 1,7 месяц, у оставшихся - 5,7 месяцев. Поэтому и уходили, так как был короткий срок абонемента и люди больше не продлевали. \n",
    "- Люди, пришедшие по промокоду меньше попадали в оттток (0,35 против 0,18).\n",
    "- Попавшие в отток люди моложе - 26,9 лет, чем те, кто остался - 29,9 лет.\n",
    "- Суммарная выручка от других услуг фитнес-центра существенно выше у тех кто осался 158,4 у.е против 115,1 у.е.\n",
    "- Срок до окончания текущего действующего абонемента (в месяцах) ниже у тех, кто попал в отток - 1,6 месяца, у тех кто остался - 5,3 месяца.\n",
    "- Время с момента первого обращения в фитнес-центр существенно ниже среди тех, кто попал в отток, 0,99 против 4.71.\n",
    "\n",
    "- Построена матрица корреляций и выявлены мультиколлинеарные признаки:Длительность текущего действующего абонемента (contract_period), срок до окончания текущего действующего абонемента (month_to_end_contract) - коэффициент корреляции 0.97. Средняя частота посещений в неделю за все время с начала действия абонемента (avg_class_frequency_total) и средняя частота посещений в неделю за предыдущий месяц (avg_class_frequency_current_month) -коэффициент корреляции 0.95.\n",
    "\n",
    "***Построение модели прогнозирования оттока клиентов***\n",
    "\n",
    "Были построены две модели для предсказания оттока клиента по алгоритмам логистической регрессии и случайного леса. Для сравнения моделей использовался набор метрик: Accuracy, Precision, Recall, F1 и ROC_AUC.\n",
    "*Исходя из оценки метрик двух алгоритмов можно сказать, что обе модели показали себя примерно одинаково. Чтобы определить превосходство той или иной модели можно после подбора важных признаков (feature importance)*.\n",
    "    \n",
    "***Кластеризация клиентов***    \n",
    "\n",
    "Была обучена модель кластеризации на основании алгоритма K-Means и спрогнозированы кластеры клиентов с основными характерными признаками:\n",
    "\n",
    "***Кластер 0***\n",
    "\n",
    "- Отток 11 %;\n",
    "- Живут или работают около фитнеса;\n",
    "- Многие в данном кластере пришли по партнерской программе;\n",
    "- Данная группа в основном пришла из компаний-партнеров или по промокоду.\n",
    "- Средняя длительность абонемента - 7 месяцев;\n",
    "- Средний возраст 29,6 лет;\n",
    "- В среднем до конца срока действия абонемента 10 месяцев;\n",
    "- Средняя посещаемость в неделю - 2 раза;\n",
    "\n",
    "***Кластер 1***\n",
    "\n",
    "- Отток 40 %;\n",
    "- Все не живут или не работают около фитнеса;\n",
    "- Средняя длительность абонемента - 3 месяца;\n",
    "- Средний возраст 28,7 лет;\n",
    "- Данный кластер меньше всех посещает групповые занятия;\n",
    "- В среднем до конца срока действия абонемента 3 месяца;\n",
    "- Средняя посещаемость в неделю - 1-2 раза;\n",
    "\n",
    "***Кластер 2***\n",
    "\n",
    "- Отток 56% - наибольший показатель из всех кластеров;\n",
    "- Практически все работают и живут около фитнеса;\n",
    "- Средняя длительность абонемента - 2 месяца;\n",
    "- Данная группа в основном пришла сама не из компаний-партнеров или по промокоду.\n",
    "- Средний возраст 27,6 лет-самый молодой кластер;\n",
    "- В среднем до конца срока действия абонемента 2 месяца;\n",
    "- Средняя посещаемость в неделю - 1-2 раза;\n",
    "\n",
    "***Кластер 3***\n",
    "\n",
    "- Отток 1 % - наименьший показатель по оттоку среди всех кластеров;\n",
    "- Все работают и живут рядом с фитнесом;\n",
    "- Средняя длительность абонемента - 6 месяцев;\n",
    "- Данный кластер больше всех посещает групповые занятия;\n",
    "- Средний возраст 30,7 лет-самый старый кластер;\n",
    "- Данный кластер больше всех тратит деньги на доп услуги фитнес-центра;\n",
    "- Средняя посещаемость в неделю - 2-3 раза;\n",
    "\n",
    "***Кластер 4***\n",
    "\n",
    "- Отток 27 %;\n",
    "- Большинство работают и живут раядом с фитнесом;\n",
    "- Клиенты данного кластера не оставляли своего контакного телефона;\n",
    "- Средняя длительность абонемента - 3 месяца;\n",
    "- Средний возраст 29,3 лет;\n",
    "- Данный кластер посетителей больше всех пользовались платными дополнительными услугами;\n",
    "- В среднем до конца срока действия абонемента 2,5 месяца;\n",
    "- Средняя посещаемость в неделю - 1-2 раза;\n",
    "\n",
    "*Следовательно*, на отток не влияет пол, наличие контактного телефона. \n",
    "На уменьшение оттока влияют такие признаки, как:\n",
    "\n",
    "- больший срок действия абонемента - чем больше, абонемент, тем меньше отток,\n",
    "- чем выше возраст, тем меньше отток,\n",
    "- чем дольше клиент пользуется услугами фитнес-клуба, тем меньше отток,\n",
    "- чем больше среднее количество походов в неделю, тем меньше отток,\n",
    "- чем больше клиент посещает групповые занятия, тем меньше отток.\n",
    "\n",
    "*Лидером по оттоку клиентов является кластер 2 - 56%, наименьшй процент оттока имеет кластер 3 - 1%.*\n",
    "\n",
    "***Рекомендации:***\n",
    "\n",
    "- У кого в ближайший месяц заканчивется срок абонемента - сделать рассылку с выгодным предложением - продлить абонемент на длительный срок или в подарок дать какие-либо плтаные услуги фитнес-центра (занятия с тренером, массаж и т.п).\n",
    "- Устанавливать сотрудничество с новыми компаниями;\n",
    "- Привлекать клиентов на групповые занятия, проводить открытые уроки.\n",
    "- Сделать юонусную программу: те кто больше занимается в данном фитнес-центре имеет большую скидку на последующий абонмент;\n",
    "- Проводить соревнования внутри фитнес-клуба, так у людей будет азарт и интерес посещать тренировки для улучшения формы.\n",
    "- Провести рекламную компанию внутри района, где находится фитнес-центр (раздать листовки, настроить таргет рекламу по геолокации, провести занятие на улице, чтобы привлечь людей. "
   ]
  }
 ],
 "metadata": {
  "ExecuteTimeLog": [
   {
    "duration": 5,
    "start_time": "2022-05-12T12:08:37.492Z"
   },
   {
    "duration": 1471,
    "start_time": "2022-05-12T12:14:44.532Z"
   },
   {
    "duration": 18,
    "start_time": "2022-05-12T12:14:47.917Z"
   },
   {
    "duration": 15,
    "start_time": "2022-05-12T12:14:59.893Z"
   },
   {
    "duration": 12,
    "start_time": "2022-05-12T12:15:27.653Z"
   },
   {
    "duration": 7,
    "start_time": "2022-05-12T12:16:03.412Z"
   },
   {
    "duration": 2,
    "start_time": "2022-05-12T12:17:21.061Z"
   },
   {
    "duration": 3,
    "start_time": "2022-05-12T12:18:12.512Z"
   },
   {
    "duration": 9,
    "start_time": "2022-05-12T12:18:29.833Z"
   },
   {
    "duration": 453,
    "start_time": "2022-05-12T12:29:00.280Z"
   },
   {
    "duration": 45,
    "start_time": "2022-05-12T13:26:35.593Z"
   },
   {
    "duration": 3,
    "start_time": "2022-05-12T13:28:05.212Z"
   },
   {
    "duration": 40,
    "start_time": "2022-05-12T13:28:38.533Z"
   },
   {
    "duration": 51,
    "start_time": "2022-05-13T09:49:53.186Z"
   },
   {
    "duration": 1962,
    "start_time": "2022-05-13T09:50:01.066Z"
   },
   {
    "duration": 17,
    "start_time": "2022-05-13T09:50:03.031Z"
   },
   {
    "duration": 17,
    "start_time": "2022-05-13T09:50:03.050Z"
   },
   {
    "duration": 27,
    "start_time": "2022-05-13T09:50:03.069Z"
   },
   {
    "duration": 6,
    "start_time": "2022-05-13T09:50:03.098Z"
   },
   {
    "duration": 39,
    "start_time": "2022-05-13T09:50:03.105Z"
   },
   {
    "duration": 148,
    "start_time": "2022-05-13T09:50:03.146Z"
   },
   {
    "duration": 0,
    "start_time": "2022-05-13T09:50:03.295Z"
   },
   {
    "duration": 0,
    "start_time": "2022-05-13T09:50:03.297Z"
   },
   {
    "duration": 9,
    "start_time": "2022-05-13T09:50:21.843Z"
   },
   {
    "duration": 46,
    "start_time": "2022-05-13T09:50:24.237Z"
   },
   {
    "duration": 16,
    "start_time": "2022-05-13T09:50:27.122Z"
   },
   {
    "duration": 17,
    "start_time": "2022-05-13T09:50:33.310Z"
   },
   {
    "duration": 12,
    "start_time": "2022-05-13T10:33:46.842Z"
   },
   {
    "duration": 22,
    "start_time": "2022-05-13T13:34:28.453Z"
   },
   {
    "duration": 17,
    "start_time": "2022-05-13T13:35:40.870Z"
   },
   {
    "duration": 7,
    "start_time": "2022-05-13T13:35:49.602Z"
   },
   {
    "duration": 8,
    "start_time": "2022-05-13T13:35:59.703Z"
   },
   {
    "duration": 12,
    "start_time": "2022-05-13T13:36:16.703Z"
   },
   {
    "duration": 13,
    "start_time": "2022-05-13T13:36:27.722Z"
   },
   {
    "duration": 139,
    "start_time": "2022-05-13T13:42:24.351Z"
   },
   {
    "duration": 2725,
    "start_time": "2022-05-13T13:43:12.078Z"
   },
   {
    "duration": 227,
    "start_time": "2022-05-13T13:47:25.208Z"
   },
   {
    "duration": 223,
    "start_time": "2022-05-13T13:47:31.664Z"
   },
   {
    "duration": 2477,
    "start_time": "2022-05-13T13:47:45.954Z"
   },
   {
    "duration": 122,
    "start_time": "2022-05-13T13:48:28.583Z"
   },
   {
    "duration": 203,
    "start_time": "2022-05-13T13:48:46.518Z"
   },
   {
    "duration": 1909,
    "start_time": "2022-05-13T13:48:52.142Z"
   },
   {
    "duration": 1951,
    "start_time": "2022-05-13T13:48:59.411Z"
   },
   {
    "duration": 1900,
    "start_time": "2022-05-13T13:49:07.960Z"
   },
   {
    "duration": 124,
    "start_time": "2022-05-13T13:49:18.164Z"
   },
   {
    "duration": 2104,
    "start_time": "2022-05-13T13:49:29.963Z"
   },
   {
    "duration": 2022,
    "start_time": "2022-05-13T13:49:36.019Z"
   },
   {
    "duration": 1871,
    "start_time": "2022-05-13T13:50:09.022Z"
   },
   {
    "duration": 222,
    "start_time": "2022-05-13T13:51:04.484Z"
   },
   {
    "duration": 229,
    "start_time": "2022-05-13T13:55:27.783Z"
   },
   {
    "duration": 2274,
    "start_time": "2022-05-13T13:57:04.683Z"
   },
   {
    "duration": 1761,
    "start_time": "2022-05-13T13:57:27.734Z"
   },
   {
    "duration": 1829,
    "start_time": "2022-05-13T13:57:36.622Z"
   },
   {
    "duration": 2862,
    "start_time": "2022-05-13T13:57:58.623Z"
   },
   {
    "duration": 2728,
    "start_time": "2022-05-13T13:58:44.934Z"
   },
   {
    "duration": 49406,
    "start_time": "2022-05-13T14:02:01.913Z"
   },
   {
    "duration": 12,
    "start_time": "2022-05-13T14:03:31.315Z"
   },
   {
    "duration": 49542,
    "start_time": "2022-05-13T14:03:40.990Z"
   },
   {
    "duration": 123,
    "start_time": "2022-05-13T14:05:32.059Z"
   },
   {
    "duration": 11,
    "start_time": "2022-05-13T14:05:46.942Z"
   },
   {
    "duration": 11,
    "start_time": "2022-05-13T14:06:02.675Z"
   },
   {
    "duration": 277,
    "start_time": "2022-05-13T14:07:33.870Z"
   },
   {
    "duration": 292,
    "start_time": "2022-05-13T14:08:14.965Z"
   },
   {
    "duration": 191,
    "start_time": "2022-05-13T14:08:23.103Z"
   },
   {
    "duration": 297,
    "start_time": "2022-05-13T14:08:28.363Z"
   },
   {
    "duration": 338,
    "start_time": "2022-05-13T14:08:46.604Z"
   },
   {
    "duration": 384,
    "start_time": "2022-05-13T14:09:58.584Z"
   },
   {
    "duration": 195,
    "start_time": "2022-05-13T14:10:09.295Z"
   },
   {
    "duration": 285,
    "start_time": "2022-05-13T14:10:14.651Z"
   },
   {
    "duration": 274,
    "start_time": "2022-05-13T14:10:21.103Z"
   },
   {
    "duration": 291,
    "start_time": "2022-05-13T14:10:27.643Z"
   },
   {
    "duration": 285,
    "start_time": "2022-05-13T14:10:45.846Z"
   },
   {
    "duration": 279,
    "start_time": "2022-05-13T14:10:53.735Z"
   },
   {
    "duration": 196,
    "start_time": "2022-05-13T14:11:01.904Z"
   },
   {
    "duration": 193,
    "start_time": "2022-05-13T14:11:07.219Z"
   },
   {
    "duration": 259,
    "start_time": "2022-05-13T14:11:12.984Z"
   },
   {
    "duration": 271,
    "start_time": "2022-05-13T14:11:37.464Z"
   },
   {
    "duration": 286,
    "start_time": "2022-05-13T14:13:05.365Z"
   },
   {
    "duration": 278,
    "start_time": "2022-05-13T14:13:15.015Z"
   },
   {
    "duration": 280,
    "start_time": "2022-05-13T14:13:27.024Z"
   },
   {
    "duration": 5,
    "start_time": "2022-05-13T14:15:42.344Z"
   },
   {
    "duration": 283,
    "start_time": "2022-05-13T14:16:14.164Z"
   },
   {
    "duration": 1651,
    "start_time": "2022-05-14T16:31:32.439Z"
   },
   {
    "duration": 36,
    "start_time": "2022-05-14T16:31:34.093Z"
   },
   {
    "duration": 17,
    "start_time": "2022-05-14T16:31:34.131Z"
   },
   {
    "duration": 12,
    "start_time": "2022-05-14T16:31:34.150Z"
   },
   {
    "duration": 8,
    "start_time": "2022-05-14T16:31:34.164Z"
   },
   {
    "duration": 7,
    "start_time": "2022-05-14T16:31:34.173Z"
   },
   {
    "duration": 10,
    "start_time": "2022-05-14T16:31:34.181Z"
   },
   {
    "duration": 37,
    "start_time": "2022-05-14T16:31:34.192Z"
   },
   {
    "duration": 11,
    "start_time": "2022-05-14T16:31:34.230Z"
   },
   {
    "duration": 28,
    "start_time": "2022-05-14T16:31:34.243Z"
   },
   {
    "duration": 11,
    "start_time": "2022-05-14T16:31:34.272Z"
   },
   {
    "duration": 17,
    "start_time": "2022-05-14T16:31:34.285Z"
   },
   {
    "duration": 9,
    "start_time": "2022-05-14T16:31:34.303Z"
   },
   {
    "duration": 262,
    "start_time": "2022-05-14T16:31:34.314Z"
   },
   {
    "duration": 264,
    "start_time": "2022-05-14T16:31:34.577Z"
   },
   {
    "duration": 313,
    "start_time": "2022-05-14T16:31:34.842Z"
   },
   {
    "duration": 238,
    "start_time": "2022-05-14T16:31:35.157Z"
   },
   {
    "duration": 270,
    "start_time": "2022-05-14T16:31:35.396Z"
   },
   {
    "duration": 278,
    "start_time": "2022-05-14T16:31:35.670Z"
   },
   {
    "duration": 268,
    "start_time": "2022-05-14T16:31:35.950Z"
   },
   {
    "duration": 4,
    "start_time": "2022-05-14T16:31:36.220Z"
   },
   {
    "duration": 181,
    "start_time": "2022-05-14T16:31:36.225Z"
   },
   {
    "duration": 179,
    "start_time": "2022-05-14T16:31:36.407Z"
   },
   {
    "duration": 284,
    "start_time": "2022-05-14T16:31:36.588Z"
   },
   {
    "duration": 175,
    "start_time": "2022-05-14T16:31:36.874Z"
   },
   {
    "duration": 186,
    "start_time": "2022-05-14T16:31:37.051Z"
   },
   {
    "duration": 189,
    "start_time": "2022-05-14T16:31:37.240Z"
   },
   {
    "duration": 1403,
    "start_time": "2022-05-14T16:31:37.433Z"
   },
   {
    "duration": 3,
    "start_time": "2022-05-14T16:31:38.838Z"
   },
   {
    "duration": 7,
    "start_time": "2022-05-14T16:31:38.843Z"
   },
   {
    "duration": 10,
    "start_time": "2022-05-14T16:31:38.851Z"
   },
   {
    "duration": 3,
    "start_time": "2022-05-14T16:31:38.862Z"
   },
   {
    "duration": 27,
    "start_time": "2022-05-14T16:31:38.866Z"
   },
   {
    "duration": 13,
    "start_time": "2022-05-14T16:31:38.894Z"
   },
   {
    "duration": 14,
    "start_time": "2022-05-14T16:31:38.972Z"
   },
   {
    "duration": 3,
    "start_time": "2022-05-14T16:31:39.072Z"
   },
   {
    "duration": 316,
    "start_time": "2022-05-14T16:31:39.077Z"
   },
   {
    "duration": 41,
    "start_time": "2022-05-14T16:31:39.395Z"
   },
   {
    "duration": 8,
    "start_time": "2022-05-14T16:31:39.438Z"
   },
   {
    "duration": 25,
    "start_time": "2022-05-14T16:31:39.448Z"
   },
   {
    "duration": 531,
    "start_time": "2022-05-14T16:31:39.474Z"
   },
   {
    "duration": 402,
    "start_time": "2022-05-14T16:31:40.006Z"
   },
   {
    "duration": 3,
    "start_time": "2022-05-14T16:31:40.409Z"
   },
   {
    "duration": 1260,
    "start_time": "2022-05-14T16:31:40.413Z"
   },
   {
    "duration": 4,
    "start_time": "2022-05-14T16:31:41.676Z"
   },
   {
    "duration": 98,
    "start_time": "2022-05-14T16:31:41.683Z"
   },
   {
    "duration": 15,
    "start_time": "2022-05-14T16:31:41.783Z"
   },
   {
    "duration": 4,
    "start_time": "2022-05-14T16:31:41.799Z"
   },
   {
    "duration": 167,
    "start_time": "2022-05-14T16:31:41.804Z"
   },
   {
    "duration": 159,
    "start_time": "2022-05-14T16:31:41.972Z"
   },
   {
    "duration": 164,
    "start_time": "2022-05-14T16:31:42.133Z"
   },
   {
    "duration": 159,
    "start_time": "2022-05-14T16:31:42.299Z"
   },
   {
    "duration": 170,
    "start_time": "2022-05-14T16:31:42.460Z"
   },
   {
    "duration": 166,
    "start_time": "2022-05-14T16:31:42.631Z"
   },
   {
    "duration": 3,
    "start_time": "2022-05-14T16:31:42.799Z"
   },
   {
    "duration": 158,
    "start_time": "2022-05-14T16:31:42.803Z"
   },
   {
    "duration": 151,
    "start_time": "2022-05-14T16:31:42.963Z"
   },
   {
    "duration": 156,
    "start_time": "2022-05-14T16:31:43.115Z"
   },
   {
    "duration": 160,
    "start_time": "2022-05-14T16:31:43.273Z"
   },
   {
    "duration": 255,
    "start_time": "2022-05-14T16:31:43.435Z"
   },
   {
    "duration": 190,
    "start_time": "2022-05-14T16:31:43.691Z"
   },
   {
    "duration": 184,
    "start_time": "2022-05-14T16:31:43.883Z"
   },
   {
    "duration": 12,
    "start_time": "2022-05-14T16:31:44.072Z"
   }
  ],
  "kernelspec": {
   "display_name": "Python 3 (ipykernel)",
   "language": "python",
   "name": "python3"
  },
  "language_info": {
   "codemirror_mode": {
    "name": "ipython",
    "version": 3
   },
   "file_extension": ".py",
   "mimetype": "text/x-python",
   "name": "python",
   "nbconvert_exporter": "python",
   "pygments_lexer": "ipython3",
   "version": "3.9.5"
  },
  "toc": {
   "base_numbering": 1,
   "nav_menu": {},
   "number_sections": true,
   "sideBar": true,
   "skip_h1_title": true,
   "title_cell": "Содержание",
   "title_sidebar": "Содержание",
   "toc_cell": true,
   "toc_position": {},
   "toc_section_display": true,
   "toc_window_display": false
  }
 },
 "nbformat": 4,
 "nbformat_minor": 2
}
