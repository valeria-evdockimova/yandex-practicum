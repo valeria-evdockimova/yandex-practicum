{
 "cells": [
  {
   "cell_type": "markdown",
   "metadata": {
    "toc": true
   },
   "source": [
    "<h1>Содержание<span class=\"tocSkip\"></span></h1>\n",
    "<div class=\"toc\"><ul class=\"toc-item\"><li><span><a href=\"#Обзор-и-предобработка-данных\" data-toc-modified-id=\"Обзор-и-предобработка-данных-1\"><span class=\"toc-item-num\">1&nbsp;&nbsp;</span>Обзор и предобработка данных</a></span><ul class=\"toc-item\"><li><span><a href=\"#Датасет-Hypothesis\" data-toc-modified-id=\"Датасет-Hypothesis-1.1\"><span class=\"toc-item-num\">1.1&nbsp;&nbsp;</span>Датасет Hypothesis</a></span></li><li><span><a href=\"#Датасет-Orders\" data-toc-modified-id=\"Датасет-Orders-1.2\"><span class=\"toc-item-num\">1.2&nbsp;&nbsp;</span>Датасет Orders</a></span></li><li><span><a href=\"#Датасет-Visitors\" data-toc-modified-id=\"Датасет-Visitors-1.3\"><span class=\"toc-item-num\">1.3&nbsp;&nbsp;</span>Датасет Visitors</a></span></li><li><span><a href=\"#Выводы-к-разделу\" data-toc-modified-id=\"Выводы-к-разделу-1.4\"><span class=\"toc-item-num\">1.4&nbsp;&nbsp;</span>Выводы к разделу</a></span></li></ul></li><li><span><a href=\"#Приоритизация-гипотез\" data-toc-modified-id=\"Приоритизация-гипотез-2\"><span class=\"toc-item-num\">2&nbsp;&nbsp;</span>Приоритизация гипотез</a></span><ul class=\"toc-item\"><li><span><a href=\"#Применение-фреймворка-ICE-для-приоритизации-гипотез\" data-toc-modified-id=\"Применение-фреймворка-ICE-для-приоритизации-гипотез-2.1\"><span class=\"toc-item-num\">2.1&nbsp;&nbsp;</span>Применение фреймворка ICE для приоритизации гипотез</a></span></li><li><span><a href=\"#Применение-фреймворка-RICE-для-приоритизации-гипотез\" data-toc-modified-id=\"Применение-фреймворка-RICE-для-приоритизации-гипотез-2.2\"><span class=\"toc-item-num\">2.2&nbsp;&nbsp;</span>Применение фреймворка RICE для приоритизации гипотез</a></span></li><li><span><a href=\"#Как-изменилась-приоритизация-гипотез-при-применении-RICE-вместо-ICE\" data-toc-modified-id=\"Как-изменилась-приоритизация-гипотез-при-применении-RICE-вместо-ICE-2.3\"><span class=\"toc-item-num\">2.3&nbsp;&nbsp;</span>Как изменилась приоритизация гипотез при применении RICE вместо ICE</a></span></li></ul></li><li><span><a href=\"#Анализ-A/B-теста\" data-toc-modified-id=\"Анализ-A/B-теста-3\"><span class=\"toc-item-num\">3&nbsp;&nbsp;</span>Анализ A/B-теста</a></span><ul class=\"toc-item\"><li><span><a href=\"#Построение-графика-кумулятивной-выручки-по-группам.\" data-toc-modified-id=\"Построение-графика-кумулятивной-выручки-по-группам.-3.1\"><span class=\"toc-item-num\">3.1&nbsp;&nbsp;</span>Построение графика кумулятивной выручки по группам.</a></span></li><li><span><a href=\"#Построение-графика-кумулятивного-среднего-чека-по-группам\" data-toc-modified-id=\"Построение-графика-кумулятивного-среднего-чека-по-группам-3.2\"><span class=\"toc-item-num\">3.2&nbsp;&nbsp;</span>Построение графика кумулятивного среднего чека по группам</a></span></li><li><span><a href=\"#Построение-графика-относительного-изменения-кумулятивного-среднего-чека-группы-B-к-группе-A\" data-toc-modified-id=\"Построение-графика-относительного-изменения-кумулятивного-среднего-чека-группы-B-к-группе-A-3.3\"><span class=\"toc-item-num\">3.3&nbsp;&nbsp;</span>Построение графика относительного изменения кумулятивного среднего чека группы B к группе A</a></span></li><li><span><a href=\"#Построение-графика-кумулятивной-конверсии-по-группам\" data-toc-modified-id=\"Построение-графика-кумулятивной-конверсии-по-группам-3.4\"><span class=\"toc-item-num\">3.4&nbsp;&nbsp;</span>Построение графика кумулятивной конверсии по группам</a></span></li><li><span><a href=\"#Построение-графика-относительного-изменения-кумулятивной-конверсии-группы-B-к-группе-A.\" data-toc-modified-id=\"Построение-графика-относительного-изменения-кумулятивной-конверсии-группы-B-к-группе-A.-3.5\"><span class=\"toc-item-num\">3.5&nbsp;&nbsp;</span>Построение графика относительного изменения кумулятивной конверсии группы B к группе A.</a></span></li><li><span><a href=\"#Построение-точечный-график-количества-заказов-по-пользователям\" data-toc-modified-id=\"Построение-точечный-график-количества-заказов-по-пользователям-3.6\"><span class=\"toc-item-num\">3.6&nbsp;&nbsp;</span>Построение точечный график количества заказов по пользователям</a></span></li><li><span><a href=\"#Расчет-95-й-и-99-й-перцентилей-количества-заказов-на-пользователя\" data-toc-modified-id=\"Расчет-95-й-и-99-й-перцентилей-количества-заказов-на-пользователя-3.7\"><span class=\"toc-item-num\">3.7&nbsp;&nbsp;</span>Расчет 95-й и 99-й перцентилей количества заказов на пользователя</a></span></li><li><span><a href=\"#Построение-точечного-графика-стоимостей-заказов.\" data-toc-modified-id=\"Построение-точечного-графика-стоимостей-заказов.-3.8\"><span class=\"toc-item-num\">3.8&nbsp;&nbsp;</span>Построение точечного графика стоимостей заказов.</a></span></li><li><span><a href=\"#Расчет-95-й-и-99-й-перцентилей-стоимости-заказов\" data-toc-modified-id=\"Расчет-95-й-и-99-й-перцентилей-стоимости-заказов-3.9\"><span class=\"toc-item-num\">3.9&nbsp;&nbsp;</span>Расчет 95-й и 99-й перцентилей стоимости заказов</a></span></li><li><span><a href=\"#Расчет-статистической-значимости-различий-в-конверсии-между-группами-по-«сырым»-данным\" data-toc-modified-id=\"Расчет-статистической-значимости-различий-в-конверсии-между-группами-по-«сырым»-данным-3.10\"><span class=\"toc-item-num\">3.10&nbsp;&nbsp;</span>Расчет статистической значимости различий в конверсии между группами по «сырым» данным</a></span></li><li><span><a href=\"#Расчет-статистической-значимости-различий-в-среднем-чеке-заказа-между-группами-по-«сырым»-данным\" data-toc-modified-id=\"Расчет-статистической-значимости-различий-в-среднем-чеке-заказа-между-группами-по-«сырым»-данным-3.11\"><span class=\"toc-item-num\">3.11&nbsp;&nbsp;</span>Расчет статистической значимости различий в среднем чеке заказа между группами по «сырым» данным</a></span></li><li><span><a href=\"#Расчет-статистической-значимости-различий-в-конверсии-между-группами-по-«очищенным»-данным\" data-toc-modified-id=\"Расчет-статистической-значимости-различий-в-конверсии-между-группами-по-«очищенным»-данным-3.12\"><span class=\"toc-item-num\">3.12&nbsp;&nbsp;</span>Расчет статистической значимости различий в конверсии между группами по «очищенным» данным</a></span></li><li><span><a href=\"#Расчет-статистической-значимости-различий-в-среднем-чеке-заказа-между-группами-по-«очищенным»-данным\" data-toc-modified-id=\"Расчет-статистической-значимости-различий-в-среднем-чеке-заказа-между-группами-по-«очищенным»-данным-3.13\"><span class=\"toc-item-num\">3.13&nbsp;&nbsp;</span>Расчет статистической значимости различий в среднем чеке заказа между группами по «очищенным» данным</a></span></li><li><span><a href=\"#Принятие-решения-по-результатам-теста.\" data-toc-modified-id=\"Принятие-решения-по-результатам-теста.-3.14\"><span class=\"toc-item-num\">3.14&nbsp;&nbsp;</span>Принятие решения по результатам теста.</a></span></li></ul></li></ul></div>"
   ]
  },
  {
   "cell_type": "markdown",
   "metadata": {},
   "source": [
    "**Описание проекта**"
   ]
  },
  {
   "cell_type": "markdown",
   "metadata": {},
   "source": [
    "Совместно с отделом маркетинга был подготовлен список гипотез для увеличения выручки."
   ]
  },
  {
   "cell_type": "markdown",
   "metadata": {},
   "source": [
    "**Цель работы**:\n",
    "\n",
    "Проанализировать результаты A/B-теста"
   ]
  },
  {
   "cell_type": "markdown",
   "metadata": {},
   "source": [
    "**Задачи работы**:\n",
    "\n",
    "1.  Проведение приоритизации гипотез \n",
    "- применение фреймворков ICE и RICE;\n",
    "2.  Анализ A/B-теста:\n",
    "- анализ графиков кумулятивных, \n",
    "- анализ выбросов и всплесков,\n",
    "- определение статистической значимости различий в конверсии между группами по «сырым» данным, \n",
    "- определение статистической значимости различий в среднем чеке заказа между группами по «сырым» данным,\n",
    "- определение статистической значимости различий в конверсии между группами по «очищенным» данным,\n",
    "- определение статистической значимости различий в среднем чеке заказа между группами по «очищенным» данным. \n",
    "3. Принятие решения по результатам A/B-теста."
   ]
  },
  {
   "cell_type": "markdown",
   "metadata": {},
   "source": [
    "**Описание данных**:\n",
    "\n",
    "Файл /datasets/hypothesis.csv. \n",
    "- Hypothesis — краткое описание гипотезы;\n",
    "- Reach — охват пользователей по 10-балльной шкале;\n",
    "- Impact — влияние на пользователей по 10-балльной шкале;\n",
    "- Confidence — уверенность в гипотезе по 10-балльной шкале;\n",
    "- Efforts — затраты ресурсов на проверку гипотезы по 10-балльной шкале. Чем больше значение Efforts, тем дороже проверка гипотезы.\n",
    "\n",
    "Файл /datasets/orders.csv. \n",
    "- transactionId — идентификатор заказа;\n",
    "- visitorId — идентификатор пользователя, совершившего заказ;\n",
    "- date — дата, когда был совершён заказ;\n",
    "- revenue — выручка заказа;\n",
    "- group — группа A/B-теста, в которую попал заказ.\n",
    "\n",
    "Файл /datasets/visitors.csv. \n",
    "- date — дата;\n",
    "- group — группа A/B-теста;\n",
    "- visitors — количество пользователей в указанную дату в указанной группе A/B-теста"
   ]
  },
  {
   "cell_type": "markdown",
   "metadata": {},
   "source": [
    "## Обзор и предобработка данных"
   ]
  },
  {
   "cell_type": "markdown",
   "metadata": {},
   "source": [
    "Загрузим библиотеки, которые нам понадобятся в ходе работы"
   ]
  },
  {
   "cell_type": "code",
   "execution_count": 1,
   "metadata": {},
   "outputs": [],
   "source": [
    "import pandas as pd\n",
    "import scipy.stats as stats\n",
    "import seaborn as sns\n",
    "import numpy as np\n",
    "from matplotlib import pyplot as plt\n",
    "import datetime as dt\n",
    "from pandas.plotting import register_matplotlib_converters\n",
    "import warnings\n",
    "register_matplotlib_converters()\n",
    "warnings.filterwarnings('ignore')"
   ]
  },
  {
   "cell_type": "markdown",
   "metadata": {},
   "source": [
    "### Датасет Hypothesis"
   ]
  },
  {
   "cell_type": "code",
   "execution_count": 2,
   "metadata": {},
   "outputs": [
    {
     "data": {
      "text/html": [
       "<div>\n",
       "<style scoped>\n",
       "    .dataframe tbody tr th:only-of-type {\n",
       "        vertical-align: middle;\n",
       "    }\n",
       "\n",
       "    .dataframe tbody tr th {\n",
       "        vertical-align: top;\n",
       "    }\n",
       "\n",
       "    .dataframe thead th {\n",
       "        text-align: right;\n",
       "    }\n",
       "</style>\n",
       "<table border=\"1\" class=\"dataframe\">\n",
       "  <thead>\n",
       "    <tr style=\"text-align: right;\">\n",
       "      <th></th>\n",
       "      <th>Hypothesis</th>\n",
       "      <th>Reach</th>\n",
       "      <th>Impact</th>\n",
       "      <th>Confidence</th>\n",
       "      <th>Efforts</th>\n",
       "    </tr>\n",
       "  </thead>\n",
       "  <tbody>\n",
       "    <tr>\n",
       "      <th>0</th>\n",
       "      <td>Добавить два новых канала привлечения трафика,...</td>\n",
       "      <td>3</td>\n",
       "      <td>10</td>\n",
       "      <td>8</td>\n",
       "      <td>6</td>\n",
       "    </tr>\n",
       "    <tr>\n",
       "      <th>1</th>\n",
       "      <td>Запустить собственную службу доставки, что сок...</td>\n",
       "      <td>2</td>\n",
       "      <td>5</td>\n",
       "      <td>4</td>\n",
       "      <td>10</td>\n",
       "    </tr>\n",
       "    <tr>\n",
       "      <th>2</th>\n",
       "      <td>Добавить блоки рекомендаций товаров на сайт ин...</td>\n",
       "      <td>8</td>\n",
       "      <td>3</td>\n",
       "      <td>7</td>\n",
       "      <td>3</td>\n",
       "    </tr>\n",
       "    <tr>\n",
       "      <th>3</th>\n",
       "      <td>Изменить структура категорий, что увеличит кон...</td>\n",
       "      <td>8</td>\n",
       "      <td>3</td>\n",
       "      <td>3</td>\n",
       "      <td>8</td>\n",
       "    </tr>\n",
       "    <tr>\n",
       "      <th>4</th>\n",
       "      <td>Изменить цвет фона главной страницы, чтобы уве...</td>\n",
       "      <td>3</td>\n",
       "      <td>1</td>\n",
       "      <td>1</td>\n",
       "      <td>1</td>\n",
       "    </tr>\n",
       "  </tbody>\n",
       "</table>\n",
       "</div>"
      ],
      "text/plain": [
       "                                          Hypothesis  Reach  Impact  \\\n",
       "0  Добавить два новых канала привлечения трафика,...      3      10   \n",
       "1  Запустить собственную службу доставки, что сок...      2       5   \n",
       "2  Добавить блоки рекомендаций товаров на сайт ин...      8       3   \n",
       "3  Изменить структура категорий, что увеличит кон...      8       3   \n",
       "4  Изменить цвет фона главной страницы, чтобы уве...      3       1   \n",
       "\n",
       "   Confidence  Efforts  \n",
       "0           8        6  \n",
       "1           4       10  \n",
       "2           7        3  \n",
       "3           3        8  \n",
       "4           1        1  "
      ]
     },
     "execution_count": 2,
     "metadata": {},
     "output_type": "execute_result"
    }
   ],
   "source": [
    "hypothesis = pd.read_csv('/datasets/hypothesis.csv', sep=',')\n",
    "hypothesis.head()"
   ]
  },
  {
   "cell_type": "markdown",
   "metadata": {},
   "source": [
    "Видим, что при выводе таблицы полностью названия гипотезы не видно, сделаем ширину столбца больше. Выведем всю таблицу и посмотрим сколько всего гипотез нам предстоит рассмотреть"
   ]
  },
  {
   "cell_type": "code",
   "execution_count": 3,
   "metadata": {},
   "outputs": [
    {
     "data": {
      "text/html": [
       "<div>\n",
       "<style scoped>\n",
       "    .dataframe tbody tr th:only-of-type {\n",
       "        vertical-align: middle;\n",
       "    }\n",
       "\n",
       "    .dataframe tbody tr th {\n",
       "        vertical-align: top;\n",
       "    }\n",
       "\n",
       "    .dataframe thead th {\n",
       "        text-align: right;\n",
       "    }\n",
       "</style>\n",
       "<table border=\"1\" class=\"dataframe\">\n",
       "  <thead>\n",
       "    <tr style=\"text-align: right;\">\n",
       "      <th></th>\n",
       "      <th>Hypothesis</th>\n",
       "      <th>Reach</th>\n",
       "      <th>Impact</th>\n",
       "      <th>Confidence</th>\n",
       "      <th>Efforts</th>\n",
       "    </tr>\n",
       "  </thead>\n",
       "  <tbody>\n",
       "    <tr>\n",
       "      <th>0</th>\n",
       "      <td>Добавить два новых канала привлечения трафика, что позволит привлекать на 30% больше пользователей</td>\n",
       "      <td>3</td>\n",
       "      <td>10</td>\n",
       "      <td>8</td>\n",
       "      <td>6</td>\n",
       "    </tr>\n",
       "    <tr>\n",
       "      <th>1</th>\n",
       "      <td>Запустить собственную службу доставки, что сократит срок доставки заказов</td>\n",
       "      <td>2</td>\n",
       "      <td>5</td>\n",
       "      <td>4</td>\n",
       "      <td>10</td>\n",
       "    </tr>\n",
       "    <tr>\n",
       "      <th>2</th>\n",
       "      <td>Добавить блоки рекомендаций товаров на сайт интернет магазина, чтобы повысить конверсию и средни...</td>\n",
       "      <td>8</td>\n",
       "      <td>3</td>\n",
       "      <td>7</td>\n",
       "      <td>3</td>\n",
       "    </tr>\n",
       "    <tr>\n",
       "      <th>3</th>\n",
       "      <td>Изменить структура категорий, что увеличит конверсию, т.к. пользователи быстрее найдут нужный товар</td>\n",
       "      <td>8</td>\n",
       "      <td>3</td>\n",
       "      <td>3</td>\n",
       "      <td>8</td>\n",
       "    </tr>\n",
       "    <tr>\n",
       "      <th>4</th>\n",
       "      <td>Изменить цвет фона главной страницы, чтобы увеличить вовлеченность пользователей</td>\n",
       "      <td>3</td>\n",
       "      <td>1</td>\n",
       "      <td>1</td>\n",
       "      <td>1</td>\n",
       "    </tr>\n",
       "    <tr>\n",
       "      <th>5</th>\n",
       "      <td>Добавить страницу отзывов клиентов о магазине, что позволит увеличить количество заказов</td>\n",
       "      <td>3</td>\n",
       "      <td>2</td>\n",
       "      <td>2</td>\n",
       "      <td>3</td>\n",
       "    </tr>\n",
       "    <tr>\n",
       "      <th>6</th>\n",
       "      <td>Показать на главной странице баннеры с актуальными акциями и распродажами, чтобы увеличить конве...</td>\n",
       "      <td>5</td>\n",
       "      <td>3</td>\n",
       "      <td>8</td>\n",
       "      <td>3</td>\n",
       "    </tr>\n",
       "    <tr>\n",
       "      <th>7</th>\n",
       "      <td>Добавить форму подписки на все основные страницы, чтобы собрать базу клиентов для email-рассылок</td>\n",
       "      <td>10</td>\n",
       "      <td>7</td>\n",
       "      <td>8</td>\n",
       "      <td>5</td>\n",
       "    </tr>\n",
       "    <tr>\n",
       "      <th>8</th>\n",
       "      <td>Запустить акцию, дающую скидку на товар в день рождения</td>\n",
       "      <td>1</td>\n",
       "      <td>9</td>\n",
       "      <td>9</td>\n",
       "      <td>5</td>\n",
       "    </tr>\n",
       "  </tbody>\n",
       "</table>\n",
       "</div>"
      ],
      "text/plain": [
       "                                                                                            Hypothesis  \\\n",
       "0   Добавить два новых канала привлечения трафика, что позволит привлекать на 30% больше пользователей   \n",
       "1                            Запустить собственную службу доставки, что сократит срок доставки заказов   \n",
       "2  Добавить блоки рекомендаций товаров на сайт интернет магазина, чтобы повысить конверсию и средни...   \n",
       "3  Изменить структура категорий, что увеличит конверсию, т.к. пользователи быстрее найдут нужный товар   \n",
       "4                     Изменить цвет фона главной страницы, чтобы увеличить вовлеченность пользователей   \n",
       "5             Добавить страницу отзывов клиентов о магазине, что позволит увеличить количество заказов   \n",
       "6  Показать на главной странице баннеры с актуальными акциями и распродажами, чтобы увеличить конве...   \n",
       "7     Добавить форму подписки на все основные страницы, чтобы собрать базу клиентов для email-рассылок   \n",
       "8                                              Запустить акцию, дающую скидку на товар в день рождения   \n",
       "\n",
       "   Reach  Impact  Confidence  Efforts  \n",
       "0      3      10           8        6  \n",
       "1      2       5           4       10  \n",
       "2      8       3           7        3  \n",
       "3      8       3           3        8  \n",
       "4      3       1           1        1  \n",
       "5      3       2           2        3  \n",
       "6      5       3           8        3  \n",
       "7     10       7           8        5  \n",
       "8      1       9           9        5  "
      ]
     },
     "execution_count": 3,
     "metadata": {},
     "output_type": "execute_result"
    }
   ],
   "source": [
    "pd.set_option('max_colwidth', 100)\n",
    "hypothesis"
   ]
  },
  {
   "cell_type": "markdown",
   "metadata": {},
   "source": [
    "Приведем названия столбцов к нижнему регистру"
   ]
  },
  {
   "cell_type": "code",
   "execution_count": 4,
   "metadata": {},
   "outputs": [],
   "source": [
    "hypothesis.columns = hypothesis.columns.str.lower()"
   ]
  },
  {
   "cell_type": "markdown",
   "metadata": {},
   "source": [
    "Проверим наличие пропусков и дубликатов"
   ]
  },
  {
   "cell_type": "code",
   "execution_count": 5,
   "metadata": {},
   "outputs": [
    {
     "data": {
      "text/plain": [
       "hypothesis    0\n",
       "reach         0\n",
       "impact        0\n",
       "confidence    0\n",
       "efforts       0\n",
       "dtype: int64"
      ]
     },
     "execution_count": 5,
     "metadata": {},
     "output_type": "execute_result"
    }
   ],
   "source": [
    "hypothesis.isna().sum()"
   ]
  },
  {
   "cell_type": "code",
   "execution_count": 6,
   "metadata": {},
   "outputs": [
    {
     "data": {
      "text/plain": [
       "0"
      ]
     },
     "execution_count": 6,
     "metadata": {},
     "output_type": "execute_result"
    }
   ],
   "source": [
    "hypothesis.duplicated().sum()"
   ]
  },
  {
   "cell_type": "markdown",
   "metadata": {},
   "source": [
    "### Датасет Orders"
   ]
  },
  {
   "cell_type": "code",
   "execution_count": 7,
   "metadata": {},
   "outputs": [
    {
     "data": {
      "text/html": [
       "<div>\n",
       "<style scoped>\n",
       "    .dataframe tbody tr th:only-of-type {\n",
       "        vertical-align: middle;\n",
       "    }\n",
       "\n",
       "    .dataframe tbody tr th {\n",
       "        vertical-align: top;\n",
       "    }\n",
       "\n",
       "    .dataframe thead th {\n",
       "        text-align: right;\n",
       "    }\n",
       "</style>\n",
       "<table border=\"1\" class=\"dataframe\">\n",
       "  <thead>\n",
       "    <tr style=\"text-align: right;\">\n",
       "      <th></th>\n",
       "      <th>transactionId</th>\n",
       "      <th>visitorId</th>\n",
       "      <th>date</th>\n",
       "      <th>revenue</th>\n",
       "      <th>group</th>\n",
       "    </tr>\n",
       "  </thead>\n",
       "  <tbody>\n",
       "    <tr>\n",
       "      <th>0</th>\n",
       "      <td>3667963787</td>\n",
       "      <td>3312258926</td>\n",
       "      <td>2019-08-15</td>\n",
       "      <td>1650</td>\n",
       "      <td>B</td>\n",
       "    </tr>\n",
       "    <tr>\n",
       "      <th>1</th>\n",
       "      <td>2804400009</td>\n",
       "      <td>3642806036</td>\n",
       "      <td>2019-08-15</td>\n",
       "      <td>730</td>\n",
       "      <td>B</td>\n",
       "    </tr>\n",
       "    <tr>\n",
       "      <th>2</th>\n",
       "      <td>2961555356</td>\n",
       "      <td>4069496402</td>\n",
       "      <td>2019-08-15</td>\n",
       "      <td>400</td>\n",
       "      <td>A</td>\n",
       "    </tr>\n",
       "    <tr>\n",
       "      <th>3</th>\n",
       "      <td>3797467345</td>\n",
       "      <td>1196621759</td>\n",
       "      <td>2019-08-15</td>\n",
       "      <td>9759</td>\n",
       "      <td>B</td>\n",
       "    </tr>\n",
       "    <tr>\n",
       "      <th>4</th>\n",
       "      <td>2282983706</td>\n",
       "      <td>2322279887</td>\n",
       "      <td>2019-08-15</td>\n",
       "      <td>2308</td>\n",
       "      <td>B</td>\n",
       "    </tr>\n",
       "  </tbody>\n",
       "</table>\n",
       "</div>"
      ],
      "text/plain": [
       "   transactionId   visitorId        date  revenue group\n",
       "0     3667963787  3312258926  2019-08-15     1650     B\n",
       "1     2804400009  3642806036  2019-08-15      730     B\n",
       "2     2961555356  4069496402  2019-08-15      400     A\n",
       "3     3797467345  1196621759  2019-08-15     9759     B\n",
       "4     2282983706  2322279887  2019-08-15     2308     B"
      ]
     },
     "execution_count": 7,
     "metadata": {},
     "output_type": "execute_result"
    }
   ],
   "source": [
    "orders = pd.read_csv('/datasets/orders.csv')\n",
    "orders.head()"
   ]
  },
  {
   "cell_type": "code",
   "execution_count": 8,
   "metadata": {},
   "outputs": [
    {
     "name": "stdout",
     "output_type": "stream",
     "text": [
      "<class 'pandas.core.frame.DataFrame'>\n",
      "RangeIndex: 1197 entries, 0 to 1196\n",
      "Data columns (total 5 columns):\n",
      " #   Column         Non-Null Count  Dtype \n",
      "---  ------         --------------  ----- \n",
      " 0   transactionId  1197 non-null   int64 \n",
      " 1   visitorId      1197 non-null   int64 \n",
      " 2   date           1197 non-null   object\n",
      " 3   revenue        1197 non-null   int64 \n",
      " 4   group          1197 non-null   object\n",
      "dtypes: int64(3), object(2)\n",
      "memory usage: 46.9+ KB\n"
     ]
    }
   ],
   "source": [
    "orders.info()"
   ]
  },
  {
   "cell_type": "markdown",
   "metadata": {},
   "source": [
    "Проверим наличие пропусков и дубликатов"
   ]
  },
  {
   "cell_type": "code",
   "execution_count": 9,
   "metadata": {},
   "outputs": [
    {
     "data": {
      "text/plain": [
       "transactionId    0\n",
       "visitorId        0\n",
       "date             0\n",
       "revenue          0\n",
       "group            0\n",
       "dtype: int64"
      ]
     },
     "execution_count": 9,
     "metadata": {},
     "output_type": "execute_result"
    }
   ],
   "source": [
    "orders.isna().sum()"
   ]
  },
  {
   "cell_type": "code",
   "execution_count": 10,
   "metadata": {},
   "outputs": [
    {
     "data": {
      "text/plain": [
       "0"
      ]
     },
     "execution_count": 10,
     "metadata": {},
     "output_type": "execute_result"
    }
   ],
   "source": [
    "orders.duplicated().sum()"
   ]
  },
  {
   "cell_type": "markdown",
   "metadata": {},
   "source": [
    "Поменяем тип столбца \"date\" на datetime"
   ]
  },
  {
   "cell_type": "code",
   "execution_count": 11,
   "metadata": {},
   "outputs": [],
   "source": [
    "orders[\"date\"] = orders[\"date\"].map(lambda x: dt.datetime.strptime(x, '%Y-%m-%d'))"
   ]
  },
  {
   "cell_type": "markdown",
   "metadata": {},
   "source": [
    "### Датасет Visitors"
   ]
  },
  {
   "cell_type": "code",
   "execution_count": 12,
   "metadata": {},
   "outputs": [
    {
     "data": {
      "text/html": [
       "<div>\n",
       "<style scoped>\n",
       "    .dataframe tbody tr th:only-of-type {\n",
       "        vertical-align: middle;\n",
       "    }\n",
       "\n",
       "    .dataframe tbody tr th {\n",
       "        vertical-align: top;\n",
       "    }\n",
       "\n",
       "    .dataframe thead th {\n",
       "        text-align: right;\n",
       "    }\n",
       "</style>\n",
       "<table border=\"1\" class=\"dataframe\">\n",
       "  <thead>\n",
       "    <tr style=\"text-align: right;\">\n",
       "      <th></th>\n",
       "      <th>date</th>\n",
       "      <th>group</th>\n",
       "      <th>visitors</th>\n",
       "    </tr>\n",
       "  </thead>\n",
       "  <tbody>\n",
       "    <tr>\n",
       "      <th>0</th>\n",
       "      <td>2019-08-01</td>\n",
       "      <td>A</td>\n",
       "      <td>719</td>\n",
       "    </tr>\n",
       "    <tr>\n",
       "      <th>1</th>\n",
       "      <td>2019-08-02</td>\n",
       "      <td>A</td>\n",
       "      <td>619</td>\n",
       "    </tr>\n",
       "    <tr>\n",
       "      <th>2</th>\n",
       "      <td>2019-08-03</td>\n",
       "      <td>A</td>\n",
       "      <td>507</td>\n",
       "    </tr>\n",
       "    <tr>\n",
       "      <th>3</th>\n",
       "      <td>2019-08-04</td>\n",
       "      <td>A</td>\n",
       "      <td>717</td>\n",
       "    </tr>\n",
       "    <tr>\n",
       "      <th>4</th>\n",
       "      <td>2019-08-05</td>\n",
       "      <td>A</td>\n",
       "      <td>756</td>\n",
       "    </tr>\n",
       "  </tbody>\n",
       "</table>\n",
       "</div>"
      ],
      "text/plain": [
       "         date group  visitors\n",
       "0  2019-08-01     A       719\n",
       "1  2019-08-02     A       619\n",
       "2  2019-08-03     A       507\n",
       "3  2019-08-04     A       717\n",
       "4  2019-08-05     A       756"
      ]
     },
     "execution_count": 12,
     "metadata": {},
     "output_type": "execute_result"
    }
   ],
   "source": [
    "visitors = pd.read_csv('/datasets/visitors.csv')\n",
    "visitors.head()"
   ]
  },
  {
   "cell_type": "code",
   "execution_count": 13,
   "metadata": {},
   "outputs": [
    {
     "name": "stdout",
     "output_type": "stream",
     "text": [
      "<class 'pandas.core.frame.DataFrame'>\n",
      "RangeIndex: 62 entries, 0 to 61\n",
      "Data columns (total 3 columns):\n",
      " #   Column    Non-Null Count  Dtype \n",
      "---  ------    --------------  ----- \n",
      " 0   date      62 non-null     object\n",
      " 1   group     62 non-null     object\n",
      " 2   visitors  62 non-null     int64 \n",
      "dtypes: int64(1), object(2)\n",
      "memory usage: 1.6+ KB\n"
     ]
    }
   ],
   "source": [
    "visitors.info()"
   ]
  },
  {
   "cell_type": "markdown",
   "metadata": {},
   "source": [
    "Проверим наличие пропусков и дубликатов"
   ]
  },
  {
   "cell_type": "code",
   "execution_count": 14,
   "metadata": {},
   "outputs": [
    {
     "data": {
      "text/plain": [
       "date        0\n",
       "group       0\n",
       "visitors    0\n",
       "dtype: int64"
      ]
     },
     "execution_count": 14,
     "metadata": {},
     "output_type": "execute_result"
    }
   ],
   "source": [
    "visitors.isna().sum()"
   ]
  },
  {
   "cell_type": "code",
   "execution_count": 15,
   "metadata": {},
   "outputs": [
    {
     "data": {
      "text/plain": [
       "0"
      ]
     },
     "execution_count": 15,
     "metadata": {},
     "output_type": "execute_result"
    }
   ],
   "source": [
    "visitors.duplicated().sum()"
   ]
  },
  {
   "cell_type": "markdown",
   "metadata": {},
   "source": [
    "Поменяем тип столбца \"visitors\" на datetime"
   ]
  },
  {
   "cell_type": "code",
   "execution_count": 16,
   "metadata": {},
   "outputs": [],
   "source": [
    "visitors[\"date\"] = visitors[\"date\"].map(lambda x: dt.datetime.strptime(x, '%Y-%m-%d'))"
   ]
  },
  {
   "cell_type": "markdown",
   "metadata": {},
   "source": [
    "Посмортрим количество пользователей, попавшиx в обе группы"
   ]
  },
  {
   "cell_type": "code",
   "execution_count": 17,
   "metadata": {},
   "outputs": [
    {
     "data": {
      "text/html": [
       "<div>\n",
       "<style scoped>\n",
       "    .dataframe tbody tr th:only-of-type {\n",
       "        vertical-align: middle;\n",
       "    }\n",
       "\n",
       "    .dataframe tbody tr th {\n",
       "        vertical-align: top;\n",
       "    }\n",
       "\n",
       "    .dataframe thead th {\n",
       "        text-align: right;\n",
       "    }\n",
       "</style>\n",
       "<table border=\"1\" class=\"dataframe\">\n",
       "  <thead>\n",
       "    <tr style=\"text-align: right;\">\n",
       "      <th></th>\n",
       "      <th>visitorId</th>\n",
       "    </tr>\n",
       "    <tr>\n",
       "      <th>group</th>\n",
       "      <th></th>\n",
       "    </tr>\n",
       "  </thead>\n",
       "  <tbody>\n",
       "    <tr>\n",
       "      <th>A</th>\n",
       "      <td>503</td>\n",
       "    </tr>\n",
       "    <tr>\n",
       "      <th>B</th>\n",
       "      <td>586</td>\n",
       "    </tr>\n",
       "  </tbody>\n",
       "</table>\n",
       "</div>"
      ],
      "text/plain": [
       "       visitorId\n",
       "group           \n",
       "A            503\n",
       "B            586"
      ]
     },
     "execution_count": 17,
     "metadata": {},
     "output_type": "execute_result"
    }
   ],
   "source": [
    "orders.groupby('group').agg({'visitorId':'nunique'})"
   ]
  },
  {
   "cell_type": "code",
   "execution_count": 18,
   "metadata": {},
   "outputs": [],
   "source": [
    "unique_visitorId  = orders.groupby('visitorId').agg({'group':'nunique'}).reset_index()\n",
    "no_unique_visitorId = unique_visitorId.query('group > 1')['visitorId'].reset_index()['visitorId']"
   ]
  },
  {
   "cell_type": "markdown",
   "metadata": {},
   "source": [
    "Отфильтруем таблицу orders c помощью query и уберем повторяющихся пользователей"
   ]
  },
  {
   "cell_type": "code",
   "execution_count": 19,
   "metadata": {},
   "outputs": [],
   "source": [
    "orders = orders.query('visitorId not in @no_unique_visitorId')"
   ]
  },
  {
   "cell_type": "markdown",
   "metadata": {},
   "source": [
    "Видим, что 58 пользователей попало в обе группы тестирования. Совсем незначительное число относительно общего количества (примерно ~ 5 %), удалили их и схранили в orders."
   ]
  },
  {
   "cell_type": "markdown",
   "metadata": {},
   "source": [
    "### Выводы к разделу"
   ]
  },
  {
   "cell_type": "markdown",
   "metadata": {},
   "source": [
    "Была проведена предообработка данных трех исходных датасетов, в ходе которой:\n",
    "- в датасетах нет пропусков и дубликатов,\n",
    "- датасет hypothesis полностью корректен,\n",
    "- в датасете orders поменяли тип данных orders[\"date\"] на datetime, привели названия столбцов к нижнему регистру,\n",
    "- в датасете visitors поменяли тип данных visitors[\"date\"] на datetime"
   ]
  },
  {
   "cell_type": "markdown",
   "metadata": {},
   "source": [
    "## Приоритизация гипотез"
   ]
  },
  {
   "cell_type": "markdown",
   "metadata": {},
   "source": [
    "### Применение фреймворка ICE для приоритизации гипотез"
   ]
  },
  {
   "cell_type": "code",
   "execution_count": 20,
   "metadata": {},
   "outputs": [
    {
     "data": {
      "text/html": [
       "<div>\n",
       "<style scoped>\n",
       "    .dataframe tbody tr th:only-of-type {\n",
       "        vertical-align: middle;\n",
       "    }\n",
       "\n",
       "    .dataframe tbody tr th {\n",
       "        vertical-align: top;\n",
       "    }\n",
       "\n",
       "    .dataframe thead th {\n",
       "        text-align: right;\n",
       "    }\n",
       "</style>\n",
       "<table border=\"1\" class=\"dataframe\">\n",
       "  <thead>\n",
       "    <tr style=\"text-align: right;\">\n",
       "      <th></th>\n",
       "      <th>hypothesis</th>\n",
       "      <th>ICE</th>\n",
       "    </tr>\n",
       "  </thead>\n",
       "  <tbody>\n",
       "    <tr>\n",
       "      <th>8</th>\n",
       "      <td>Запустить акцию, дающую скидку на товар в день рождения</td>\n",
       "      <td>16.200000</td>\n",
       "    </tr>\n",
       "    <tr>\n",
       "      <th>0</th>\n",
       "      <td>Добавить два новых канала привлечения трафика, что позволит привлекать на 30% больше пользователей</td>\n",
       "      <td>13.333333</td>\n",
       "    </tr>\n",
       "    <tr>\n",
       "      <th>7</th>\n",
       "      <td>Добавить форму подписки на все основные страницы, чтобы собрать базу клиентов для email-рассылок</td>\n",
       "      <td>11.200000</td>\n",
       "    </tr>\n",
       "    <tr>\n",
       "      <th>6</th>\n",
       "      <td>Показать на главной странице баннеры с актуальными акциями и распродажами, чтобы увеличить конве...</td>\n",
       "      <td>8.000000</td>\n",
       "    </tr>\n",
       "    <tr>\n",
       "      <th>2</th>\n",
       "      <td>Добавить блоки рекомендаций товаров на сайт интернет магазина, чтобы повысить конверсию и средни...</td>\n",
       "      <td>7.000000</td>\n",
       "    </tr>\n",
       "    <tr>\n",
       "      <th>1</th>\n",
       "      <td>Запустить собственную службу доставки, что сократит срок доставки заказов</td>\n",
       "      <td>2.000000</td>\n",
       "    </tr>\n",
       "    <tr>\n",
       "      <th>5</th>\n",
       "      <td>Добавить страницу отзывов клиентов о магазине, что позволит увеличить количество заказов</td>\n",
       "      <td>1.333333</td>\n",
       "    </tr>\n",
       "    <tr>\n",
       "      <th>3</th>\n",
       "      <td>Изменить структура категорий, что увеличит конверсию, т.к. пользователи быстрее найдут нужный товар</td>\n",
       "      <td>1.125000</td>\n",
       "    </tr>\n",
       "    <tr>\n",
       "      <th>4</th>\n",
       "      <td>Изменить цвет фона главной страницы, чтобы увеличить вовлеченность пользователей</td>\n",
       "      <td>1.000000</td>\n",
       "    </tr>\n",
       "  </tbody>\n",
       "</table>\n",
       "</div>"
      ],
      "text/plain": [
       "                                                                                            hypothesis  \\\n",
       "8                                              Запустить акцию, дающую скидку на товар в день рождения   \n",
       "0   Добавить два новых канала привлечения трафика, что позволит привлекать на 30% больше пользователей   \n",
       "7     Добавить форму подписки на все основные страницы, чтобы собрать базу клиентов для email-рассылок   \n",
       "6  Показать на главной странице баннеры с актуальными акциями и распродажами, чтобы увеличить конве...   \n",
       "2  Добавить блоки рекомендаций товаров на сайт интернет магазина, чтобы повысить конверсию и средни...   \n",
       "1                            Запустить собственную службу доставки, что сократит срок доставки заказов   \n",
       "5             Добавить страницу отзывов клиентов о магазине, что позволит увеличить количество заказов   \n",
       "3  Изменить структура категорий, что увеличит конверсию, т.к. пользователи быстрее найдут нужный товар   \n",
       "4                     Изменить цвет фона главной страницы, чтобы увеличить вовлеченность пользователей   \n",
       "\n",
       "         ICE  \n",
       "8  16.200000  \n",
       "0  13.333333  \n",
       "7  11.200000  \n",
       "6   8.000000  \n",
       "2   7.000000  \n",
       "1   2.000000  \n",
       "5   1.333333  \n",
       "3   1.125000  \n",
       "4   1.000000  "
      ]
     },
     "metadata": {},
     "output_type": "display_data"
    }
   ],
   "source": [
    "hypothesis['ICE'] = (hypothesis['impact'] * hypothesis['confidence']) / hypothesis['efforts']\n",
    "display(hypothesis[['hypothesis','ICE']].sort_values(by='ICE', ascending=False))"
   ]
  },
  {
   "cell_type": "markdown",
   "metadata": {},
   "source": [
    "### Применение фреймворка RICE для приоритизации гипотез"
   ]
  },
  {
   "cell_type": "code",
   "execution_count": 21,
   "metadata": {},
   "outputs": [
    {
     "data": {
      "text/html": [
       "<div>\n",
       "<style scoped>\n",
       "    .dataframe tbody tr th:only-of-type {\n",
       "        vertical-align: middle;\n",
       "    }\n",
       "\n",
       "    .dataframe tbody tr th {\n",
       "        vertical-align: top;\n",
       "    }\n",
       "\n",
       "    .dataframe thead th {\n",
       "        text-align: right;\n",
       "    }\n",
       "</style>\n",
       "<table border=\"1\" class=\"dataframe\">\n",
       "  <thead>\n",
       "    <tr style=\"text-align: right;\">\n",
       "      <th></th>\n",
       "      <th>hypothesis</th>\n",
       "      <th>RICE</th>\n",
       "    </tr>\n",
       "  </thead>\n",
       "  <tbody>\n",
       "    <tr>\n",
       "      <th>7</th>\n",
       "      <td>Добавить форму подписки на все основные страницы, чтобы собрать базу клиентов для email-рассылок</td>\n",
       "      <td>112.0</td>\n",
       "    </tr>\n",
       "    <tr>\n",
       "      <th>2</th>\n",
       "      <td>Добавить блоки рекомендаций товаров на сайт интернет магазина, чтобы повысить конверсию и средни...</td>\n",
       "      <td>56.0</td>\n",
       "    </tr>\n",
       "    <tr>\n",
       "      <th>0</th>\n",
       "      <td>Добавить два новых канала привлечения трафика, что позволит привлекать на 30% больше пользователей</td>\n",
       "      <td>40.0</td>\n",
       "    </tr>\n",
       "    <tr>\n",
       "      <th>6</th>\n",
       "      <td>Показать на главной странице баннеры с актуальными акциями и распродажами, чтобы увеличить конве...</td>\n",
       "      <td>40.0</td>\n",
       "    </tr>\n",
       "    <tr>\n",
       "      <th>8</th>\n",
       "      <td>Запустить акцию, дающую скидку на товар в день рождения</td>\n",
       "      <td>16.2</td>\n",
       "    </tr>\n",
       "    <tr>\n",
       "      <th>3</th>\n",
       "      <td>Изменить структура категорий, что увеличит конверсию, т.к. пользователи быстрее найдут нужный товар</td>\n",
       "      <td>9.0</td>\n",
       "    </tr>\n",
       "    <tr>\n",
       "      <th>1</th>\n",
       "      <td>Запустить собственную службу доставки, что сократит срок доставки заказов</td>\n",
       "      <td>4.0</td>\n",
       "    </tr>\n",
       "    <tr>\n",
       "      <th>5</th>\n",
       "      <td>Добавить страницу отзывов клиентов о магазине, что позволит увеличить количество заказов</td>\n",
       "      <td>4.0</td>\n",
       "    </tr>\n",
       "    <tr>\n",
       "      <th>4</th>\n",
       "      <td>Изменить цвет фона главной страницы, чтобы увеличить вовлеченность пользователей</td>\n",
       "      <td>3.0</td>\n",
       "    </tr>\n",
       "  </tbody>\n",
       "</table>\n",
       "</div>"
      ],
      "text/plain": [
       "                                                                                            hypothesis  \\\n",
       "7     Добавить форму подписки на все основные страницы, чтобы собрать базу клиентов для email-рассылок   \n",
       "2  Добавить блоки рекомендаций товаров на сайт интернет магазина, чтобы повысить конверсию и средни...   \n",
       "0   Добавить два новых канала привлечения трафика, что позволит привлекать на 30% больше пользователей   \n",
       "6  Показать на главной странице баннеры с актуальными акциями и распродажами, чтобы увеличить конве...   \n",
       "8                                              Запустить акцию, дающую скидку на товар в день рождения   \n",
       "3  Изменить структура категорий, что увеличит конверсию, т.к. пользователи быстрее найдут нужный товар   \n",
       "1                            Запустить собственную службу доставки, что сократит срок доставки заказов   \n",
       "5             Добавить страницу отзывов клиентов о магазине, что позволит увеличить количество заказов   \n",
       "4                     Изменить цвет фона главной страницы, чтобы увеличить вовлеченность пользователей   \n",
       "\n",
       "    RICE  \n",
       "7  112.0  \n",
       "2   56.0  \n",
       "0   40.0  \n",
       "6   40.0  \n",
       "8   16.2  \n",
       "3    9.0  \n",
       "1    4.0  \n",
       "5    4.0  \n",
       "4    3.0  "
      ]
     },
     "metadata": {},
     "output_type": "display_data"
    }
   ],
   "source": [
    "hypothesis['RICE'] = (hypothesis['impact'] * hypothesis['confidence'] * hypothesis['reach']) / hypothesis['efforts']\n",
    "display(hypothesis[['hypothesis','RICE']].sort_values(by='RICE', ascending=False))"
   ]
  },
  {
   "cell_type": "markdown",
   "metadata": {},
   "source": [
    "### Как изменилась приоритизация гипотез при применении RICE вместо ICE"
   ]
  },
  {
   "cell_type": "code",
   "execution_count": 22,
   "metadata": {},
   "outputs": [
    {
     "data": {
      "image/png": "[encoded data removed]",
      "text/plain": [
       "<Figure size 864x504 with 2 Axes>"
      ]
     },
     "metadata": {},
     "output_type": "display_data"
    }
   ],
   "source": [
    "sns.set(font_scale=1.3)\n",
    "\n",
    "f, ax = plt.subplots(figsize=(12, 7))\n",
    "sns.heatmap(hypothesis[['reach','impact','confidence','efforts']], annot=True, fmt='d', ax=ax, cmap=\"viridis\")\n",
    "plt.ylim((0, 9));"
   ]
  },
  {
   "cell_type": "markdown",
   "metadata": {},
   "source": [
    "- При применение фреймворка ICE у нас в топ-5 следующие гипотезы под номерами № 8,0,7,6,2.\n",
    "- При применение фреймворка RICE у нас в топ-5 следующие гипотезы под номерами № 7,2,0,6,8. \n",
    "\n",
    "Мы наблюдаем, что в топе одни и те же гипотезы, только в разных фреймворках у них раличная значимость. Это связано с параметром Reach - он участвует в расчете в фреймворке RICE. Вследствие чего, в данном фреймворке в лидеры выходит гипотеза с самым высоким Reach. Это гипотеза 7 -  \"Добавить форму подписки на все основные страницы, чтобы собрать базу клиентов для email-рассылок\", а гипотеза, которая лидировала в фреймворке ICE имеет низкое значение параметра Reach = 1, поэтому в фреймворке RICE она опустилась на 5 позиций вниз."
   ]
  },
  {
   "cell_type": "markdown",
   "metadata": {},
   "source": [
    "## Анализ A/B-теста"
   ]
  },
  {
   "cell_type": "markdown",
   "metadata": {},
   "source": [
    "### Построение графика кумулятивной выручки по группам."
   ]
  },
  {
   "cell_type": "markdown",
   "metadata": {},
   "source": [
    "Создадим датафрейм dates_groups с уникальными парами значений 'date' и 'group' из таблицы orders и избавимся от дубликатов методом drop_duplicates():"
   ]
  },
  {
   "cell_type": "code",
   "execution_count": 23,
   "metadata": {},
   "outputs": [],
   "source": [
    "datesGroups = orders[['date', 'group']].drop_duplicates()"
   ]
  },
  {
   "cell_type": "markdown",
   "metadata": {},
   "source": [
    "Создадим таблицу ordersAggregated с агрегированными кумулятивными данными о заказах."
   ]
  },
  {
   "cell_type": "code",
   "execution_count": 24,
   "metadata": {},
   "outputs": [],
   "source": [
    "ordersAggregated = datesGroups.apply(lambda x: orders[np.logical_and(orders['date'] <= x['date'], orders['group'] == x['group'])]. \\\n",
    "                                     agg({'date' : 'max', \n",
    "                                          'group' : 'max', \n",
    "                                          'transactionId' : 'nunique', \n",
    "                                          'visitorId' : 'nunique', \n",
    "                                          'revenue' : 'sum'}), axis=1).sort_values(by=['date','group'])"
   ]
  },
  {
   "cell_type": "markdown",
   "metadata": {},
   "source": [
    "Создадим таблицу visitorsAggregated с агрегированными кумулятивными данными о посетителях интернет-магазина по дням "
   ]
  },
  {
   "cell_type": "code",
   "execution_count": 25,
   "metadata": {},
   "outputs": [],
   "source": [
    "visitorsAggregated = datesGroups.apply(lambda x: visitors[np.logical_and(visitors['date'] <= x['date'], visitors['group'] == x['group'])].\n",
    "                                       agg({'date' : 'max', \n",
    "                                            'group' : 'max', \n",
    "                                            'visitors' : 'sum'}), axis=1).sort_values(by=['date','group'])"
   ]
  },
  {
   "cell_type": "markdown",
   "metadata": {},
   "source": [
    "Объединяем кумулятивные данные в одной таблице и присваиваем ее столбцам понятные названия"
   ]
  },
  {
   "cell_type": "code",
   "execution_count": 26,
   "metadata": {},
   "outputs": [],
   "source": [
    "cumulativeData = ordersAggregated.merge(\n",
    "    visitorsAggregated, left_on=['date', 'group'], right_on=['date', 'group']\n",
    ")\n",
    "cumulativeData.columns = [\n",
    "    'date',\n",
    "    'group',\n",
    "    'orders',\n",
    "    'buyers',\n",
    "    'revenue',\n",
    "    'visitors',\n",
    "]"
   ]
  },
  {
   "cell_type": "markdown",
   "metadata": {},
   "source": [
    "Объявим переменные cumulative_revenue_a и cumulative_revenue_b, в которых будут данные для групп A и B соответственно. "
   ]
  },
  {
   "cell_type": "code",
   "execution_count": 27,
   "metadata": {},
   "outputs": [
    {
     "data": {
      "image/png": "[encoded data removed]",
      "text/plain": [
       "<Figure size 1368x504 with 1 Axes>"
      ]
     },
     "metadata": {},
     "output_type": "display_data"
    }
   ],
   "source": [
    "cumulativeRevenueA = cumulativeData[cumulativeData['group']=='A'][['date','revenue', 'orders']]\n",
    "cumulativeRevenueB = cumulativeData[cumulativeData['group']=='B'][['date','revenue', 'orders']]\n",
    "#Cтроим график\n",
    "\n",
    "from pandas.plotting import register_matplotlib_converters\n",
    "register_matplotlib_converters()\n",
    "\n",
    "plt.figure(figsize=(19,7))\n",
    "plt.plot(cumulativeRevenueA['date'], cumulativeRevenueA['revenue'], label='Кум.выручка группы A')\n",
    "plt.plot(cumulativeRevenueB['date'], cumulativeRevenueB['revenue'], label='Кум.выручка группы B')\n",
    "plt.title('График кумулятивной выручки по группам', fontsize = 18)\n",
    "plt.ylabel('Выручка')\n",
    "plt.xlabel('День')\n",
    "plt.legend();"
   ]
  },
  {
   "cell_type": "markdown",
   "metadata": {},
   "source": [
    "Выручка равномерно увеличивается в течение всего теста. Исходя из графика заметно, что кумулятивная выручка группы В резко начала расти 18 августа, возможно в данной групе присутсвуют аномально большие заказы"
   ]
  },
  {
   "cell_type": "markdown",
   "metadata": {},
   "source": [
    "### Построение графика кумулятивного среднего чека по группам"
   ]
  },
  {
   "cell_type": "code",
   "execution_count": 28,
   "metadata": {},
   "outputs": [
    {
     "data": {
      "image/png": "[encoded data removed]",
      "text/plain": [
       "<Figure size 1368x504 with 1 Axes>"
      ]
     },
     "metadata": {},
     "output_type": "display_data"
    }
   ],
   "source": [
    "plt.figure(figsize=(19,7))\n",
    "plt.plot(cumulativeRevenueA['date'], cumulativeRevenueA['revenue']/cumulativeRevenueA['orders'], label='A')\n",
    "plt.plot(cumulativeRevenueB['date'], cumulativeRevenueB['revenue']/cumulativeRevenueB['orders'], label='B')\n",
    "plt.title('График кумулятивного среднего чека по группам', fontsize = 18)\n",
    "plt.ylabel('Выручка')\n",
    "plt.xlabel('День')\n",
    "plt.legend();"
   ]
  },
  {
   "cell_type": "markdown",
   "metadata": {},
   "source": [
    "Исходя из графиков куммулятивное значение среднего чека по отдельным датам значитаельно колебается. Также наблюдаем для грппы В аномальный скачок 18 августа, а после 21 августа идет плавное снижение выручки для данной группы. Для группы А самая низкая выручка наблюдалась 6 августа, наибольшая - 13 августа. Убеждаемся, что необходим дополнительный анализ на аномальные значения  в заказах."
   ]
  },
  {
   "cell_type": "code",
   "execution_count": 29,
   "metadata": {},
   "outputs": [
    {
     "data": {
      "text/html": [
       "<div>\n",
       "<style scoped>\n",
       "    .dataframe tbody tr th:only-of-type {\n",
       "        vertical-align: middle;\n",
       "    }\n",
       "\n",
       "    .dataframe tbody tr th {\n",
       "        vertical-align: top;\n",
       "    }\n",
       "\n",
       "    .dataframe thead th {\n",
       "        text-align: right;\n",
       "    }\n",
       "</style>\n",
       "<table border=\"1\" class=\"dataframe\">\n",
       "  <thead>\n",
       "    <tr style=\"text-align: right;\">\n",
       "      <th></th>\n",
       "      <th>transactionId</th>\n",
       "      <th>visitorId</th>\n",
       "      <th>date</th>\n",
       "      <th>revenue</th>\n",
       "      <th>group</th>\n",
       "    </tr>\n",
       "  </thead>\n",
       "  <tbody>\n",
       "    <tr>\n",
       "      <th>425</th>\n",
       "      <td>590470918</td>\n",
       "      <td>1920142716</td>\n",
       "      <td>2019-08-19</td>\n",
       "      <td>1294500</td>\n",
       "      <td>B</td>\n",
       "    </tr>\n",
       "    <tr>\n",
       "      <th>530</th>\n",
       "      <td>3970235543</td>\n",
       "      <td>2912540959</td>\n",
       "      <td>2019-08-19</td>\n",
       "      <td>43990</td>\n",
       "      <td>A</td>\n",
       "    </tr>\n",
       "    <tr>\n",
       "      <th>527</th>\n",
       "      <td>1570513684</td>\n",
       "      <td>2837914161</td>\n",
       "      <td>2019-08-19</td>\n",
       "      <td>33405</td>\n",
       "      <td>B</td>\n",
       "    </tr>\n",
       "    <tr>\n",
       "      <th>421</th>\n",
       "      <td>3765974140</td>\n",
       "      <td>1357170471</td>\n",
       "      <td>2019-08-19</td>\n",
       "      <td>31680</td>\n",
       "      <td>A</td>\n",
       "    </tr>\n",
       "    <tr>\n",
       "      <th>461</th>\n",
       "      <td>2683113224</td>\n",
       "      <td>154576532</td>\n",
       "      <td>2019-08-19</td>\n",
       "      <td>26550</td>\n",
       "      <td>B</td>\n",
       "    </tr>\n",
       "    <tr>\n",
       "      <th>294</th>\n",
       "      <td>3709669952</td>\n",
       "      <td>3295038680</td>\n",
       "      <td>2019-08-18</td>\n",
       "      <td>23750</td>\n",
       "      <td>A</td>\n",
       "    </tr>\n",
       "    <tr>\n",
       "      <th>368</th>\n",
       "      <td>3268879337</td>\n",
       "      <td>2536252163</td>\n",
       "      <td>2019-08-19</td>\n",
       "      <td>20026</td>\n",
       "      <td>B</td>\n",
       "    </tr>\n",
       "    <tr>\n",
       "      <th>366</th>\n",
       "      <td>2037051350</td>\n",
       "      <td>1957949546</td>\n",
       "      <td>2019-08-19</td>\n",
       "      <td>16770</td>\n",
       "      <td>A</td>\n",
       "    </tr>\n",
       "    <tr>\n",
       "      <th>463</th>\n",
       "      <td>4170537404</td>\n",
       "      <td>290022471</td>\n",
       "      <td>2019-08-19</td>\n",
       "      <td>16480</td>\n",
       "      <td>B</td>\n",
       "    </tr>\n",
       "    <tr>\n",
       "      <th>229</th>\n",
       "      <td>4139571321</td>\n",
       "      <td>737242975</td>\n",
       "      <td>2019-08-18</td>\n",
       "      <td>15850</td>\n",
       "      <td>A</td>\n",
       "    </tr>\n",
       "  </tbody>\n",
       "</table>\n",
       "</div>"
      ],
      "text/plain": [
       "     transactionId   visitorId       date  revenue group\n",
       "425      590470918  1920142716 2019-08-19  1294500     B\n",
       "530     3970235543  2912540959 2019-08-19    43990     A\n",
       "527     1570513684  2837914161 2019-08-19    33405     B\n",
       "421     3765974140  1357170471 2019-08-19    31680     A\n",
       "461     2683113224   154576532 2019-08-19    26550     B\n",
       "294     3709669952  3295038680 2019-08-18    23750     A\n",
       "368     3268879337  2536252163 2019-08-19    20026     B\n",
       "366     2037051350  1957949546 2019-08-19    16770     A\n",
       "463     4170537404   290022471 2019-08-19    16480     B\n",
       "229     4139571321   737242975 2019-08-18    15850     A"
      ]
     },
     "execution_count": 29,
     "metadata": {},
     "output_type": "execute_result"
    }
   ],
   "source": [
    "orders_date_18_19=orders.query('date in (\"2019-08-18\", \"2019-08-19\")')\n",
    "orders_date_18_19.sort_values(by='revenue', ascending=False).head(10)"
   ]
  },
  {
   "cell_type": "code",
   "execution_count": 30,
   "metadata": {},
   "outputs": [
    {
     "name": "stdout",
     "output_type": "stream",
     "text": [
      "Средняя выручка заказа в период с 18 по 19 августа 27306.725806451614\n"
     ]
    }
   ],
   "source": [
    "print('Средняя выручка заказа в период с 18 по 19 августа', orders_date_18_19['revenue'].mean())"
   ]
  },
  {
   "cell_type": "code",
   "execution_count": 31,
   "metadata": {},
   "outputs": [],
   "source": [
    "orders_date_not_18_19=orders.query('date not in (\"2019-08-18\", \"2019-08-19\")')"
   ]
  },
  {
   "cell_type": "code",
   "execution_count": 32,
   "metadata": {},
   "outputs": [
    {
     "name": "stdout",
     "output_type": "stream",
     "text": [
      "Средняя выручка заказа весь период кроме 18-19 августа 7065.62997903564\n"
     ]
    }
   ],
   "source": [
    "print('Средняя выручка заказа весь период кроме 18-19 августа',orders_date_not_18_19['revenue'].mean())"
   ]
  },
  {
   "cell_type": "markdown",
   "metadata": {},
   "source": [
    "Действительно, есть существенные отличия выручки 18-19 авгучта относительно всего периода. В этот период самый дорогой заказ под номером 425 19 августа стоимостью 1294500 у.е, данный заказ относится к тестируемой группе В."
   ]
  },
  {
   "cell_type": "markdown",
   "metadata": {},
   "source": [
    "### Построение графика относительного изменения кумулятивного среднего чека группы B к группе A"
   ]
  },
  {
   "cell_type": "code",
   "execution_count": 33,
   "metadata": {},
   "outputs": [
    {
     "data": {
      "image/png": "[encoded data removed]",
      "text/plain": [
       "<Figure size 1080x360 with 1 Axes>"
      ]
     },
     "metadata": {},
     "output_type": "display_data"
    }
   ],
   "source": [
    "# собираем данные в одном датафрейме\n",
    "mergedCumulativeRevenue = cumulativeRevenueA.merge(cumulativeRevenueB, left_on='date', right_on='date', how='left', suffixes=['A', 'B'])\n",
    "\n",
    "# cтроим отношение средних чеков\n",
    "plt.figure(figsize=(15,5))\n",
    "plt.plot(mergedCumulativeRevenue['date'], (mergedCumulativeRevenue['revenueB']/mergedCumulativeRevenue['ordersB'])/(mergedCumulativeRevenue['revenueA']/mergedCumulativeRevenue['ordersA'])-1)\n",
    "\n",
    "# добавляем ось X\n",
    "plt.axhline(y=0, color='black', linestyle='--')\n",
    "plt.title('График относительного изменения кумулятивного среднего чека группы B к группе A', fontsize = 18)\n",
    "plt.ylabel('Изменение группы B к А')\n",
    "plt.xlabel('День');"
   ]
  },
  {
   "cell_type": "markdown",
   "metadata": {},
   "source": [
    "Исходя из графика видно, что результаты теста резко менялись. 6 августа был резкий скачок, далее спад вплоть до 13 августа и самый высокий скачок снова отмечается 18-19 августа. Видимо именно в эти данные были совершеные аномальные заказы. "
   ]
  },
  {
   "cell_type": "markdown",
   "metadata": {},
   "source": [
    "### Построение графика кумулятивной конверсии по группам"
   ]
  },
  {
   "cell_type": "code",
   "execution_count": 34,
   "metadata": {},
   "outputs": [
    {
     "data": {
      "image/png": "[encoded data removed]",
      "text/plain": [
       "<Figure size 1080x360 with 1 Axes>"
      ]
     },
     "metadata": {},
     "output_type": "display_data"
    }
   ],
   "source": [
    "# считаем кумулятивную конверсию\n",
    "cumulativeData['conversion'] = cumulativeData['orders']/cumulativeData['visitors']\n",
    "\n",
    "# отделяем данные по группе A\n",
    "cumulativeDataA = cumulativeData[cumulativeData['group']=='A']\n",
    "\n",
    "# отделяем данные по группе B\n",
    "cumulativeDataB = cumulativeData[cumulativeData['group']=='B']\n",
    "plt.figure(figsize=(15,5))\n",
    "plt.plot(cumulativeDataA['date'], cumulativeDataA['conversion'], label='A')\n",
    "plt.plot(cumulativeDataB['date'], cumulativeDataB['conversion'], label='B')\n",
    "plt.title('График кумулятивной конверсии по группам', fontsize = 15)\n",
    "plt.ylabel('Конверсия');\n",
    "plt.xlabel('День')\n",
    "plt.legend()\n",
    "plt.show();\n",
    "# задаем масштаб осей\n",
    "#plt.axis([dt.datetime(2019, 3, 10), dt.datetime(2019, 4, 23), 0, 0.05])"
   ]
  },
  {
   "cell_type": "markdown",
   "metadata": {},
   "source": [
    "На графике заметно, что конверсия группы A в начале августа была выше, чем у группы В. Далее у группы А идет резкий сад и до конца исследуемого периода конверсия колебалась около одних и тех же значений от 0,029 до 0,030. Конверсия группы В резко выросла 10 августа с 0,030 до 0,036."
   ]
  },
  {
   "cell_type": "markdown",
   "metadata": {},
   "source": [
    "### Построение графика относительного изменения кумулятивной конверсии группы B к группе A."
   ]
  },
  {
   "cell_type": "code",
   "execution_count": 35,
   "metadata": {},
   "outputs": [
    {
     "data": {
      "image/png": "[encoded data removed]",
      "text/plain": [
       "<Figure size 1080x360 with 1 Axes>"
      ]
     },
     "metadata": {},
     "output_type": "display_data"
    }
   ],
   "source": [
    "# создаем таблицу конверсий по группам по каждой дате\n",
    "mergedCumulativeConversions = cumulativeDataA[['date','conversion']].merge(cumulativeDataB[['date','conversion']], left_on='date', right_on='date', how='left', suffixes=['A', 'B'])\n",
    "\n",
    "plt.figure(figsize=(15,5))\n",
    "plt.plot(mergedCumulativeConversions['date'], mergedCumulativeConversions['conversionB']/mergedCumulativeConversions['conversionA']-1, label=\"Относительный прирост конверсии группы B относительно группы A\")\n",
    "plt.legend()\n",
    "\n",
    "plt.axhline(y=0, color='black', linestyle='--')\n",
    "plt.axhline(y=0.2, color='grey', linestyle='--')\n",
    "plt.show;"
   ]
  },
  {
   "cell_type": "markdown",
   "metadata": {},
   "source": [
    "В начале теста группа B значительно проигрывала группе A, затем вырвалась вперёд, делая сильный скачок с 5 о 10 августа,. Потом её конверсия снова падала, но теперь постепенно растёт и примерно стабилизируется около 20% относительно конверсии группы А\n",
    "В целом отношение конверсии ещё не установилось, и сейчас делать какие-либо выводы по тесту нельзя. Cтоит проанализировать аномалии."
   ]
  },
  {
   "cell_type": "markdown",
   "metadata": {},
   "source": [
    "### Построение точечный график количества заказов по пользователям"
   ]
  },
  {
   "cell_type": "code",
   "execution_count": 36,
   "metadata": {},
   "outputs": [
    {
     "data": {
      "image/png": "[encoded data removed]",
      "text/plain": [
       "<Figure size 1080x360 with 1 Axes>"
      ]
     },
     "metadata": {},
     "output_type": "display_data"
    }
   ],
   "source": [
    "ordersByUsers = (\n",
    "    orders.groupby('visitorId', as_index=False)\n",
    "    .agg({'transactionId': pd.Series.nunique})\n",
    ")\n",
    "ordersByUsers.columns = ['userId', 'orders']\n",
    "\n",
    "# серия из чисел от 0 до количества наблюдений в ordersByUsers\n",
    "x_values = pd.Series(range(0, len(ordersByUsers)))\n",
    "plt.figure(figsize=(15,5))\n",
    "plt.scatter(x_values, ordersByUsers['orders']) \n",
    "plt.title('Точеченый график количества заказов по пользователям', fontsize = 15)\n",
    "plt.ylabel('Количество', fontsize = 14)\n",
    "plt.show();"
   ]
  },
  {
   "cell_type": "markdown",
   "metadata": {},
   "source": [
    "Исходя из графика больше всего пользователей, которые совершили только 1 заказ. Тех кто совершили 2 заказа уже значительно меньше. И уже те кто совершил 3 и более заказа совсем единицы, но можно ли считать это выбросами пока не ясно."
   ]
  },
  {
   "cell_type": "markdown",
   "metadata": {},
   "source": [
    "### Расчет 95-й и 99-й перцентилей количества заказов на пользователя"
   ]
  },
  {
   "cell_type": "code",
   "execution_count": 37,
   "metadata": {},
   "outputs": [
    {
     "name": "stdout",
     "output_type": "stream",
     "text": [
      "95-й перцентель составляет 1.0 заказ(а)\n",
      "99-й перцентель составляет 2.0 заказ(а)\n"
     ]
    }
   ],
   "source": [
    "# Находит перцентили.\n",
    "print('95-й перцентель составляет', np.percentile(ordersByUsers['orders'], 95),'заказ(а)')\n",
    "print('99-й перцентель составляет', np.percentile(ordersByUsers['orders'], 99),'заказ(а)') "
   ]
  },
  {
   "cell_type": "markdown",
   "metadata": {},
   "source": [
    "Можно сделать вывод, что не более 5% пользователей оформляли больше чем 1 заказ, и только 1% пользователей оформляли больше 2-х заказов. Будем считать, что за 99 перцентилем — аномально."
   ]
  },
  {
   "cell_type": "markdown",
   "metadata": {},
   "source": [
    "### Построение точечного графика стоимостей заказов. "
   ]
  },
  {
   "cell_type": "code",
   "execution_count": 38,
   "metadata": {},
   "outputs": [
    {
     "data": {
      "image/png": "[encoded data removed]",
      "text/plain": [
       "<Figure size 1080x360 with 1 Axes>"
      ]
     },
     "metadata": {},
     "output_type": "display_data"
    }
   ],
   "source": [
    "x_values = pd.Series(range(0, len(orders['revenue'])))\n",
    "plt.figure(figsize=(15,5))\n",
    "plt.scatter(x_values, orders['revenue']) \n",
    "plt.title('Точеченый график стоимостей заказов по пользователям', fontsize = 15)\n",
    "plt.ylabel('СтоимостЬ', fontsize = 14)\n",
    "plt.show();"
   ]
  },
  {
   "cell_type": "markdown",
   "metadata": {},
   "source": [
    "Есть заказ, который на порядок больше, относительно остальных, стоимостью примерно 1 200 000 у.е. Как мы ранее в проекте выяснили это заказ под номером 425 от 19 августа стоимостью 1294500 у.е. Стоимость остальных заказов намного меньше и стоимость их лежит в диапозоне менее 100 000 у.е."
   ]
  },
  {
   "cell_type": "markdown",
   "metadata": {},
   "source": [
    "### Расчет 95-й и 99-й перцентилей стоимости заказов"
   ]
  },
  {
   "cell_type": "code",
   "execution_count": 39,
   "metadata": {},
   "outputs": [
    {
     "name": "stdout",
     "output_type": "stream",
     "text": [
      "95-й перцентель составляет 26785 у.е\n",
      "99-й перцентель составляет 53904 у.е\n"
     ]
    }
   ],
   "source": [
    "print('95-й перцентель составляет', round(np.percentile(orders['revenue'], 95)),'у.е')\n",
    "print('99-й перцентель составляет', round(np.percentile(orders['revenue'], 99)),'у.е') "
   ]
  },
  {
   "cell_type": "markdown",
   "metadata": {},
   "source": [
    "Можно сделать вывод, что не более 5% пользователей оформляли заказы более 26 785 у.е., и только 1% пользователей оформляли заказ стоимостью более 53 904 у.е. Будем считать, что за 99 перцентилем — аномально."
   ]
  },
  {
   "cell_type": "markdown",
   "metadata": {},
   "source": [
    "### Расчет статистической значимости различий в конверсии между группами по «сырым» данным"
   ]
  },
  {
   "cell_type": "code",
   "execution_count": 40,
   "metadata": {},
   "outputs": [],
   "source": [
    "# выбираем всех посетителей по группам на каждую дату\n",
    "visitorsADaily = visitors[visitors['group'] == 'A'][['date', 'visitors']]\n",
    "visitorsADaily.columns = ['date', 'visitorsPerDateA']\n",
    "\n",
    "visitorsACummulative = visitorsADaily.apply(\n",
    "    lambda x: visitorsADaily[visitorsADaily['date'] <= x['date']].agg(\n",
    "        {'date': 'max', 'visitorsPerDateA': 'sum'}\n",
    "    ),\n",
    "    axis=1,\n",
    ")"
   ]
  },
  {
   "cell_type": "code",
   "execution_count": 41,
   "metadata": {},
   "outputs": [],
   "source": [
    "# собираем по каждой дате аккумулированное количество посетителей по каждой тестовой группе\n",
    "visitorsACummulative.columns = ['date', 'visitorsCummulativeA']\n",
    "\n",
    "visitorsBDaily = visitors[visitors['group'] == 'B'][['date', 'visitors']]\n",
    "visitorsBDaily.columns = ['date', 'visitorsPerDateB']\n",
    "\n",
    "visitorsBCummulative = visitorsBDaily.apply(\n",
    "    lambda x: visitorsBDaily[visitorsBDaily['date'] <= x['date']].agg(\n",
    "        {'date': 'max', 'visitorsPerDateB': 'sum'}\n",
    "    ),\n",
    "    axis=1,\n",
    ")\n",
    "visitorsBCummulative.columns = ['date', 'visitorsCummulativeB']"
   ]
  },
  {
   "cell_type": "code",
   "execution_count": 42,
   "metadata": {},
   "outputs": [],
   "source": [
    "# выбираем заказы и суммы покупок по каждой группе и дате отдельно\n",
    "ordersADaily = (\n",
    "    orders[orders['group'] == 'A'][['date', 'transactionId', 'visitorId', 'revenue']]\n",
    "    .groupby('date', as_index=False)\n",
    "    .agg({'transactionId': pd.Series.nunique, 'revenue': 'sum'})\n",
    ")\n",
    "ordersADaily.columns = ['date', 'ordersPerDateA', 'revenuePerDateA']\n",
    "\n",
    "ordersACummulative = ordersADaily.apply(\n",
    "    lambda x: ordersADaily[ordersADaily['date'] <= x['date']].agg(\n",
    "        {'date': 'max', 'ordersPerDateA': 'sum', 'revenuePerDateA': 'sum'}\n",
    "    ),\n",
    "    axis=1,\n",
    ").sort_values(by=['date'])\n",
    "ordersACummulative.columns = [\n",
    "    'date',\n",
    "    'ordersCummulativeA',\n",
    "    'revenueCummulativeA',\n",
    "]\n",
    "\n",
    "ordersBDaily = (\n",
    "    orders[orders['group'] == 'B'][['date', 'transactionId', 'visitorId', 'revenue']]\n",
    "    .groupby('date', as_index=False)\n",
    "    .agg({'transactionId': pd.Series.nunique, 'revenue': 'sum'})\n",
    ")\n",
    "ordersBDaily.columns = ['date', 'ordersPerDateB', 'revenuePerDateB']\n",
    "\n",
    "ordersBCummulative = ordersBDaily.apply(\n",
    "    lambda x: ordersBDaily[ordersBDaily['date'] <= x['date']].agg(\n",
    "        {'date': 'max', 'ordersPerDateB': 'sum', 'revenuePerDateB': 'sum'}\n",
    "    ),\n",
    "    axis=1,\n",
    ").sort_values(by=['date'])\n",
    "ordersBCummulative.columns = [\n",
    "    'date',\n",
    "    'ordersCummulativeB',\n",
    "    'revenueCummulativeB',\n",
    "]"
   ]
  },
  {
   "cell_type": "code",
   "execution_count": 43,
   "metadata": {},
   "outputs": [],
   "source": [
    "# собираем по каждой дате аккумулированное количество заказов и суммы по заказам по каждой тестовой группе\n",
    "ordersBCummulative = ordersBDaily.apply(\n",
    "    lambda x: ordersBDaily[ordersBDaily['date'] <= x['date']].agg(\n",
    "        {'date': 'max', 'ordersPerDateB': 'sum', 'revenuePerDateB': 'sum'}\n",
    "    ),\n",
    "    axis=1,\n",
    ").sort_values(by=['date'])\n",
    "ordersBCummulative.columns = [\n",
    "    'date',\n",
    "    'ordersCummulativeB',\n",
    "    'revenueCummulativeB',\n",
    "]"
   ]
  },
  {
   "cell_type": "code",
   "execution_count": 44,
   "metadata": {},
   "outputs": [
    {
     "data": {
      "text/html": [
       "<div>\n",
       "<style scoped>\n",
       "    .dataframe tbody tr th:only-of-type {\n",
       "        vertical-align: middle;\n",
       "    }\n",
       "\n",
       "    .dataframe tbody tr th {\n",
       "        vertical-align: top;\n",
       "    }\n",
       "\n",
       "    .dataframe thead th {\n",
       "        text-align: right;\n",
       "    }\n",
       "</style>\n",
       "<table border=\"1\" class=\"dataframe\">\n",
       "  <thead>\n",
       "    <tr style=\"text-align: right;\">\n",
       "      <th></th>\n",
       "      <th>date</th>\n",
       "      <th>ordersPerDateA</th>\n",
       "      <th>revenuePerDateA</th>\n",
       "      <th>ordersPerDateB</th>\n",
       "      <th>revenuePerDateB</th>\n",
       "      <th>ordersCummulativeA</th>\n",
       "      <th>revenueCummulativeA</th>\n",
       "      <th>ordersCummulativeB</th>\n",
       "      <th>revenueCummulativeB</th>\n",
       "      <th>visitorsPerDateA</th>\n",
       "      <th>visitorsPerDateB</th>\n",
       "      <th>visitorsCummulativeA</th>\n",
       "      <th>visitorsCummulativeB</th>\n",
       "    </tr>\n",
       "  </thead>\n",
       "  <tbody>\n",
       "    <tr>\n",
       "      <th>0</th>\n",
       "      <td>2019-08-01</td>\n",
       "      <td>23</td>\n",
       "      <td>142779</td>\n",
       "      <td>17</td>\n",
       "      <td>59758</td>\n",
       "      <td>23</td>\n",
       "      <td>142779</td>\n",
       "      <td>17</td>\n",
       "      <td>59758</td>\n",
       "      <td>719</td>\n",
       "      <td>713</td>\n",
       "      <td>719</td>\n",
       "      <td>713</td>\n",
       "    </tr>\n",
       "    <tr>\n",
       "      <th>1</th>\n",
       "      <td>2019-08-02</td>\n",
       "      <td>19</td>\n",
       "      <td>91602</td>\n",
       "      <td>23</td>\n",
       "      <td>162043</td>\n",
       "      <td>42</td>\n",
       "      <td>234381</td>\n",
       "      <td>40</td>\n",
       "      <td>221801</td>\n",
       "      <td>619</td>\n",
       "      <td>581</td>\n",
       "      <td>1338</td>\n",
       "      <td>1294</td>\n",
       "    </tr>\n",
       "    <tr>\n",
       "      <th>2</th>\n",
       "      <td>2019-08-03</td>\n",
       "      <td>24</td>\n",
       "      <td>112473</td>\n",
       "      <td>14</td>\n",
       "      <td>67049</td>\n",
       "      <td>66</td>\n",
       "      <td>346854</td>\n",
       "      <td>54</td>\n",
       "      <td>288850</td>\n",
       "      <td>507</td>\n",
       "      <td>509</td>\n",
       "      <td>1845</td>\n",
       "      <td>1803</td>\n",
       "    </tr>\n",
       "    <tr>\n",
       "      <th>3</th>\n",
       "      <td>2019-08-04</td>\n",
       "      <td>11</td>\n",
       "      <td>41176</td>\n",
       "      <td>14</td>\n",
       "      <td>96890</td>\n",
       "      <td>77</td>\n",
       "      <td>388030</td>\n",
       "      <td>68</td>\n",
       "      <td>385740</td>\n",
       "      <td>717</td>\n",
       "      <td>770</td>\n",
       "      <td>2562</td>\n",
       "      <td>2573</td>\n",
       "    </tr>\n",
       "    <tr>\n",
       "      <th>4</th>\n",
       "      <td>2019-08-05</td>\n",
       "      <td>22</td>\n",
       "      <td>86383</td>\n",
       "      <td>21</td>\n",
       "      <td>89908</td>\n",
       "      <td>99</td>\n",
       "      <td>474413</td>\n",
       "      <td>89</td>\n",
       "      <td>475648</td>\n",
       "      <td>756</td>\n",
       "      <td>707</td>\n",
       "      <td>3318</td>\n",
       "      <td>3280</td>\n",
       "    </tr>\n",
       "  </tbody>\n",
       "</table>\n",
       "</div>"
      ],
      "text/plain": [
       "        date  ordersPerDateA  revenuePerDateA  ordersPerDateB  \\\n",
       "0 2019-08-01              23           142779              17   \n",
       "1 2019-08-02              19            91602              23   \n",
       "2 2019-08-03              24           112473              14   \n",
       "3 2019-08-04              11            41176              14   \n",
       "4 2019-08-05              22            86383              21   \n",
       "\n",
       "   revenuePerDateB  ordersCummulativeA  revenueCummulativeA  \\\n",
       "0            59758                  23               142779   \n",
       "1           162043                  42               234381   \n",
       "2            67049                  66               346854   \n",
       "3            96890                  77               388030   \n",
       "4            89908                  99               474413   \n",
       "\n",
       "   ordersCummulativeB  revenueCummulativeB  visitorsPerDateA  \\\n",
       "0                  17                59758               719   \n",
       "1                  40               221801               619   \n",
       "2                  54               288850               507   \n",
       "3                  68               385740               717   \n",
       "4                  89               475648               756   \n",
       "\n",
       "   visitorsPerDateB  visitorsCummulativeA  visitorsCummulativeB  \n",
       "0               713                   719                   713  \n",
       "1               581                  1338                  1294  \n",
       "2               509                  1845                  1803  \n",
       "3               770                  2562                  2573  \n",
       "4               707                  3318                  3280  "
      ]
     },
     "metadata": {},
     "output_type": "display_data"
    }
   ],
   "source": [
    "# соединим все предыдущие таблицы в одну общую\n",
    "data = (\n",
    "    ordersADaily.merge(\n",
    "        ordersBDaily, left_on='date', right_on='date', how='left'\n",
    "    )\n",
    "    .merge(ordersACummulative, left_on='date', right_on='date', how='left')\n",
    "    .merge(ordersBCummulative, left_on='date', right_on='date', how='left')\n",
    "    .merge(visitorsADaily, left_on='date', right_on='date', how='left')\n",
    "    .merge(visitorsBDaily, left_on='date', right_on='date', how='left')\n",
    "    .merge(visitorsACummulative, left_on='date', right_on='date', how='left')\n",
    "    .merge(visitorsBCummulative, left_on='date', right_on='date', how='left')\n",
    ")\n",
    "\n",
    "display(data.head())"
   ]
  },
  {
   "cell_type": "code",
   "execution_count": 45,
   "metadata": {},
   "outputs": [],
   "source": [
    "# таблицы заказов по Id пользователей по группам тестирования\n",
    "ordersByUsersA = (\n",
    "    orders[orders['group'] == 'A']\n",
    "    .groupby('visitorId', as_index=False)\n",
    "    .agg({'transactionId': pd.Series.nunique})\n",
    ")\n",
    "ordersByUsersA.columns = ['userId', 'orders']\n",
    "\n",
    "ordersByUsersB = (\n",
    "    orders[orders['group'] == 'B']\n",
    "    .groupby('visitorId', as_index=False)\n",
    "    .agg({'transactionId': pd.Series.nunique})\n",
    ")\n",
    "ordersByUsersB.columns = ['userId', 'orders']"
   ]
  },
  {
   "cell_type": "code",
   "execution_count": 46,
   "metadata": {},
   "outputs": [],
   "source": [
    "# создадим переменные sample_a и sample_b, в которых пользователям из разных групп будет соответствовать \n",
    "# количество заказов. Тем, кто ничего не заказал, будут соответствовать нули. \n",
    "# Это нужно, чтобы подготовить выборки к проверке критерием Манна-Уитни.\n",
    "\n",
    "sampleA = pd.concat([ordersByUsersA['orders'],pd.Series(0, index=np.arange(data['visitorsPerDateA'].sum() - len(ordersByUsersA['orders'])), name='orders')],axis=0)\n",
    "\n",
    "sampleB = pd.concat([ordersByUsersB['orders'],pd.Series(0, index=np.arange(data['visitorsPerDateB'].sum() - len(ordersByUsersB['orders'])), name='orders')],axis=0) "
   ]
  },
  {
   "cell_type": "markdown",
   "metadata": {},
   "source": [
    "***Ho:Статистически значимых различий в конверсии между группами нет***\n",
    "\n",
    "***H1:Статистически значимые различия есть***"
   ]
  },
  {
   "cell_type": "code",
   "execution_count": 47,
   "metadata": {},
   "outputs": [
    {
     "name": "stdout",
     "output_type": "stream",
     "text": [
      "alpha = 0.05\n",
      "p-value = 0.011\n",
      "Относительный показатель 'B' и 'A' = 0.160\n"
     ]
    }
   ],
   "source": [
    "print(\"alpha =\",0.05)\n",
    "print(\"p-value = {0:.3f}\".format(stats.mannwhitneyu(sampleA, sampleB, alternative = 'two-sided')[1]))\n",
    "print(\"Относительный показатель 'B' и 'A' = {0:.3f}\".format(sampleB.mean()/sampleA.mean()-1))"
   ]
  },
  {
   "cell_type": "markdown",
   "metadata": {},
   "source": [
    "- По «сырым» данным различия в конверсии - присутствуют, выигрыш группы B над А составил равен 16% .\n",
    "- По итогам расчета p-value = 0.011 , он меньше 0.05. Значит, нулевую гипотезу о том, что статистически значимых различий в конверсии между группами нет - отвергаем. "
   ]
  },
  {
   "cell_type": "markdown",
   "metadata": {},
   "source": [
    "### Расчет статистической значимости различий в среднем чеке заказа между группами по «сырым» данным"
   ]
  },
  {
   "cell_type": "markdown",
   "metadata": {},
   "source": [
    "***Ho:Статистически значимых различий в среднем чеке между группами нет***\n",
    "\n",
    "***H1:Статистически значимые различия есть***"
   ]
  },
  {
   "cell_type": "code",
   "execution_count": 48,
   "metadata": {},
   "outputs": [
    {
     "name": "stdout",
     "output_type": "stream",
     "text": [
      "alpha = 0.05\n",
      "p-value = 0.829\n",
      "Относительный показатель 'B' и 'A' = 0.287\n"
     ]
    }
   ],
   "source": [
    "print(\"alpha =\",0.05)\n",
    "print(\"p-value = {0:.3f}\".format(stats.mannwhitneyu(orders[orders['group']=='A']['revenue'], orders[orders['group']=='B']['revenue'])[1]))\n",
    "print(\"Относительный показатель 'B' и 'A' = {0:.3f}\".format(orders[orders['group']=='B']['revenue'].mean()/orders[orders['group']=='A']['revenue'].mean()-1))"
   ]
  },
  {
   "cell_type": "markdown",
   "metadata": {},
   "source": [
    "- Средний чек группы B значительно выше среднего чека группы A - на 28,7%.\n",
    "- p-value = 0.829 больше 0.05, значит, нулевую гипотезу о том, что статистически значимых различий в конверсии между группами нет - не отвергаем. Следовательно, средние чеки по \"сырым\" данным почти одинаковы.\n",
    "- Наблюдаемое различие в двух группах не является статистически значимым и может быть обусловлено случайными причинами, например, аномальные значения в данных."
   ]
  },
  {
   "cell_type": "markdown",
   "metadata": {},
   "source": [
    "###  Расчет статистической значимости различий в конверсии между группами по «очищенным» данным"
   ]
  },
  {
   "cell_type": "markdown",
   "metadata": {},
   "source": [
    "Сначала очистим данные от выбросов. Ранее мы приняли, что выбросами в количестве заказов и стоимости будем считать все, что за 99 перцентилем."
   ]
  },
  {
   "cell_type": "code",
   "execution_count": 49,
   "metadata": {},
   "outputs": [
    {
     "name": "stdout",
     "output_type": "stream",
     "text": [
      "1099     148427295\n",
      "949      887908475\n",
      "744      888512513\n",
      "1103    1164614297\n",
      "1136    1307669133\n",
      "dtype: int64\n"
     ]
    }
   ],
   "source": [
    "orders_lim = np.percentile(orders['revenue'], 99)\n",
    "usersWithManyOrders = pd.concat(\n",
    "    [\n",
    "        ordersByUsersA[ordersByUsersA['orders'] > orders_lim]['userId'],\n",
    "        ordersByUsersB[ordersByUsersB['orders'] > orders_lim]['userId'],\n",
    "    ],\n",
    "    axis=0,\n",
    ")\n",
    "revenue_lim = np.percentile(orders['revenue'], 99)\n",
    "usersWithExpensiveOrders = orders[orders['revenue'] > revenue_lim]['visitorId']\n",
    "abnormalUsers = (\n",
    "    pd.concat([usersWithManyOrders, usersWithExpensiveOrders], axis=0)\n",
    "    .drop_duplicates()\n",
    "    .sort_values()\n",
    ")\n",
    "print(abnormalUsers.head(5))"
   ]
  },
  {
   "cell_type": "markdown",
   "metadata": {},
   "source": [
    "Создадим переменные sampleAFiltered и sampleBFiltered, в которых сохраните очищенные данные о заказах — не включая аномальных пользователей."
   ]
  },
  {
   "cell_type": "code",
   "execution_count": 50,
   "metadata": {},
   "outputs": [],
   "source": [
    "sampleAFiltered = pd.concat(\n",
    "    [\n",
    "        ordersByUsersA[\n",
    "            np.logical_not(ordersByUsersA['userId'].isin(abnormalUsers))\n",
    "        ]['orders'],\n",
    "        pd.Series(\n",
    "            0,\n",
    "            index=np.arange(\n",
    "                data['visitorsPerDateA'].sum() - len(ordersByUsersA['orders'])\n",
    "            ),\n",
    "            name='orders',\n",
    "        ),\n",
    "    ],\n",
    "    axis=0,\n",
    ")\n",
    "\n",
    "sampleBFiltered = pd.concat(\n",
    "    [\n",
    "        ordersByUsersB[\n",
    "            np.logical_not(ordersByUsersB['userId'].isin(abnormalUsers))\n",
    "        ]['orders'],\n",
    "        pd.Series(\n",
    "            0,\n",
    "            index=np.arange(\n",
    "                data['visitorsPerDateB'].sum() - len(ordersByUsersB['orders'])\n",
    "            ),\n",
    "            name='orders',\n",
    "        ),\n",
    "    ],\n",
    "    axis=0,\n",
    ")"
   ]
  },
  {
   "cell_type": "markdown",
   "metadata": {},
   "source": [
    "Посчитаем статистическую значимостть по очишенным данным"
   ]
  },
  {
   "cell_type": "code",
   "execution_count": 51,
   "metadata": {},
   "outputs": [
    {
     "name": "stdout",
     "output_type": "stream",
     "text": [
      "alpha = 0.05\n",
      "p-value = 0.010\n",
      "Относительный показатель 'B' и 'A' = 0.164\n"
     ]
    }
   ],
   "source": [
    "print(\"alpha =\",0.05)\n",
    "print(\"p-value = {0:.3f}\".format(stats.mannwhitneyu(sampleAFiltered, sampleBFiltered, alternative = 'two-sided')[1]))\n",
    "print(\"Относительный показатель 'B' и 'A' = {0:.3f}\".format(sampleBFiltered.mean()/sampleAFiltered.mean()-1)) "
   ]
  },
  {
   "cell_type": "markdown",
   "metadata": {},
   "source": [
    "- В наблюдаемых значениях присутсвуют различия в конверсии групп A и B. Относительный выигрыш группы \"А\" над \"B\" равен 16,4%. По «сырым» данным относительный выигрыш группы \"В\" над \"А\" был равен 16,0% .\n",
    "- p-value = 0.010, что меньше 0.05. Значит, нулевую гипотезу о том, что статистически значимых различий в конверсии между группами нет - отвергаем. Тот же результат мы получили и по «сырым» данным. "
   ]
  },
  {
   "cell_type": "markdown",
   "metadata": {},
   "source": [
    "### Расчет статистической значимости различий в среднем чеке заказа между группами по «очищенным» данным"
   ]
  },
  {
   "cell_type": "markdown",
   "metadata": {},
   "source": [
    "Посчитаем статистическую значимостть по очишенным данным"
   ]
  },
  {
   "cell_type": "code",
   "execution_count": 52,
   "metadata": {},
   "outputs": [
    {
     "name": "stdout",
     "output_type": "stream",
     "text": [
      "alpha = 0.05\n",
      "p-value = 0.901\n",
      "Относительный показатель 'B' и 'A' = -0.032\n"
     ]
    }
   ],
   "source": [
    "print(\"alpha =\",0.05)\n",
    "print(\"p-value = {0:.3f}\".format(stats.mannwhitneyu(\n",
    "    orders[np.logical_and(\n",
    "        orders['group']=='A',\n",
    "        np.logical_not(orders['visitorId'].isin(abnormalUsers)))]['revenue'],\n",
    "    orders[np.logical_and(\n",
    "        orders['group']=='B',\n",
    "        np.logical_not(orders['visitorId'].isin(abnormalUsers)))]['revenue'], alternative = 'two-sided')[1]))\n",
    "\n",
    "print(\"Относительный показатель 'B' и 'A' = {0:.3f}\".format(\n",
    "    orders[np.logical_and(orders['group']=='B',np.logical_not(orders['visitorId'].isin(abnormalUsers)))]['revenue'].mean()/\n",
    "    orders[np.logical_and(\n",
    "        orders['group']=='A',\n",
    "        np.logical_not(orders['visitorId'].isin(abnormalUsers)))]['revenue'].mean() - 1)) "
   ]
  },
  {
   "cell_type": "markdown",
   "metadata": {},
   "source": [
    "- Средний чек группы B оказался незначительно (на 3,2%) ниже среднего чека группы A, в то время как по \"сырым\" данным, он был больше на 28,7%. \n",
    "- P-value равен 0,901, что значительно больше 0.05. Значит, причин отвергать нулевую гипотезу и считать, что в среднем чеке есть различия,тоже нет (как и с \"Сырыми\" данными). \n",
    "- Наблюдаемое различие не являются статистически значимым и оно было обусловлено аномальным заказом на 1,3 млн у.е."
   ]
  },
  {
   "cell_type": "markdown",
   "metadata": {},
   "source": [
    "### Принятие решения по результатам теста."
   ]
  },
  {
   "cell_type": "markdown",
   "metadata": {},
   "source": [
    "Перед тем как приянть итоговое решение, посмотрим как изменился график кумулятивного среднего чека по группам без аномальных значений. "
   ]
  },
  {
   "cell_type": "code",
   "execution_count": 53,
   "metadata": {},
   "outputs": [],
   "source": [
    "# создаем таблицу с агрегированными кумулятивными по дням данные о заказах\n",
    "# без пользователей с аномальными значениями\n",
    "ordersFiltered = (datesGroups.apply(lambda x:\n",
    "        orders.query('visitorId not in @abnormalUsers') \n",
    "        [np.logical_and(orders['date'] <= x['date'], orders['group'] == x['group'])].\n",
    "        agg({'date' : 'max', 'group' : 'max', \n",
    "        'transactionId' : 'nunique', \n",
    "        'revenue' : 'sum'}), \n",
    "        axis=1). \n",
    "        sort_values(by=['date','group']) )"
   ]
  },
  {
   "cell_type": "code",
   "execution_count": 54,
   "metadata": {},
   "outputs": [
    {
     "data": {
      "image/png": "[encoded data removed]",
      "text/plain": [
       "<Figure size 1296x360 with 1 Axes>"
      ]
     },
     "metadata": {},
     "output_type": "display_data"
    }
   ],
   "source": [
    "# графики среднего чека по группам без аномальных значений\n",
    "plt.figure(figsize=(18, 5))\n",
    "\n",
    "(plt.plot(ordersFiltered.query('group == \"A\"')['date'], \n",
    "         ordersFiltered.query('group == \"A\"')['revenue'] /\n",
    "         ordersFiltered.query('group == \"A\"')['transactionId'], label='A'))\n",
    "\n",
    "(plt.plot(ordersFiltered.query('group == \"B\"')['date'], \n",
    "         ordersFiltered.query('group == \"B\"')['revenue'] /\n",
    "         ordersFiltered.query('group == \"B\"')['transactionId'], label='B'))\n",
    "\n",
    "plt.title('График кумулятивного среднего чека по группам без аномальных значений', \n",
    "          fontsize = 15)\n",
    "plt.legend()\n",
    "plt.ylabel('Средний чек', fontsize = 14)\n",
    "plt.show();"
   ]
  },
  {
   "cell_type": "markdown",
   "metadata": {},
   "source": [
    "График различия среднего чека говорит о том, что результаты группы B и А после 9 августа начали стабилизироваться к друг другу в районе 6000 у.е."
   ]
  },
  {
   "cell_type": "markdown",
   "metadata": {},
   "source": [
    "***Решение по результатам теста***\n",
    "\n",
    "**Имеющиеся факты**:\n",
    "-  Статистически значимое различие по конверсии между группами как по «сырым», так и по очищенным данным после фильтрации аномалий **есть**. В наблюдаемых значениях присутсвуют различия в конверсии групп A и B. Относительный выигрыш по \"очищенным\" данным группы \"В\" над \"А\" равен 16,4%. По «сырым» данным относительный выигрыш группы \"В\" над \"А\" составил 16,0% .\n",
    "- **Нет** статистически значимого различия по среднему чеку между группами ни по «сырым», ни по данным после фильтрации аномалий. По наблюдаемым данным средний чек группы B оказался незначительно (на 3,2%) ниже среднего чека группы A по \"очищенным\" данным, в то время как по \"сырым\" данным, он был больше на ~28,7%. Такое наблюдаемое различие в \"сырых\" данных не являются статистически значимым и оно было обусловлено аномальным заказом №425 на 1294500 у.е.\n",
    "- В ходе иследования даннные почистили от аномальных заказов и стоимость средних чеков сравнялись в районе 6000 у.е."
   ]
  },
  {
   "cell_type": "markdown",
   "metadata": {},
   "source": [
    "***Исходя из обнаруженных фактов, тест следует остановить и признать его успешным и констатировать успех группы B : группа B значительно эффективнее группы A по конверсии, хотя по среднему чеку группы примерно равны.***"
   ]
  }
 ],
 "metadata": {
  "ExecuteTimeLog": [
   {
    "duration": 487,
    "start_time": "2022-03-18T06:56:34.692Z"
   },
   {
    "duration": 538,
    "start_time": "2022-03-18T06:57:24.244Z"
   },
   {
    "duration": 19,
    "start_time": "2022-03-18T06:59:11.753Z"
   },
   {
    "duration": 29,
    "start_time": "2022-03-18T06:59:19.205Z"
   },
   {
    "duration": 22,
    "start_time": "2022-03-18T07:00:04.892Z"
   },
   {
    "duration": 45,
    "start_time": "2022-03-18T07:01:02.722Z"
   },
   {
    "duration": 45,
    "start_time": "2022-03-18T07:01:54.553Z"
   },
   {
    "duration": 20,
    "start_time": "2022-03-18T07:02:13.651Z"
   },
   {
    "duration": 32,
    "start_time": "2022-03-18T07:02:17.411Z"
   },
   {
    "duration": 18,
    "start_time": "2022-03-18T07:02:27.031Z"
   },
   {
    "duration": 3,
    "start_time": "2022-03-18T07:05:52.769Z"
   },
   {
    "duration": 13,
    "start_time": "2022-03-18T07:06:00.083Z"
   },
   {
    "duration": 29,
    "start_time": "2022-03-18T07:06:01.983Z"
   },
   {
    "duration": 11,
    "start_time": "2022-03-18T07:06:11.444Z"
   },
   {
    "duration": 11,
    "start_time": "2022-03-18T07:06:18.792Z"
   },
   {
    "duration": 15,
    "start_time": "2022-03-18T07:06:23.838Z"
   },
   {
    "duration": 12,
    "start_time": "2022-03-18T07:06:31.092Z"
   },
   {
    "duration": 11,
    "start_time": "2022-03-18T07:06:35.513Z"
   },
   {
    "duration": 13,
    "start_time": "2022-03-18T07:07:42.765Z"
   },
   {
    "duration": 28,
    "start_time": "2022-03-18T07:07:42.872Z"
   },
   {
    "duration": 17,
    "start_time": "2022-03-18T07:07:44.584Z"
   },
   {
    "duration": 11,
    "start_time": "2022-03-18T07:08:10.032Z"
   },
   {
    "duration": 39,
    "start_time": "2022-03-18T07:08:22.641Z"
   },
   {
    "duration": 31,
    "start_time": "2022-03-18T07:08:36.387Z"
   },
   {
    "duration": 145,
    "start_time": "2022-03-18T07:12:04.025Z"
   },
   {
    "duration": 16,
    "start_time": "2022-03-18T07:12:08.512Z"
   },
   {
    "duration": 12,
    "start_time": "2022-03-18T07:12:56.740Z"
   },
   {
    "duration": 126,
    "start_time": "2022-03-18T07:25:14.132Z"
   },
   {
    "duration": 10,
    "start_time": "2022-03-18T07:25:25.553Z"
   },
   {
    "duration": 12,
    "start_time": "2022-03-18T07:25:40.109Z"
   },
   {
    "duration": 11,
    "start_time": "2022-03-18T07:25:48.492Z"
   },
   {
    "duration": 8,
    "start_time": "2022-03-18T07:25:56.565Z"
   },
   {
    "duration": 7,
    "start_time": "2022-03-18T07:26:40.892Z"
   },
   {
    "duration": 30,
    "start_time": "2022-03-18T07:27:02.773Z"
   },
   {
    "duration": 14,
    "start_time": "2022-03-18T07:27:18.411Z"
   },
   {
    "duration": 1013,
    "start_time": "2022-03-18T07:28:05.868Z"
   },
   {
    "duration": 36,
    "start_time": "2022-03-18T07:28:06.884Z"
   },
   {
    "duration": 13,
    "start_time": "2022-03-18T07:28:06.922Z"
   },
   {
    "duration": 32,
    "start_time": "2022-03-18T07:28:06.937Z"
   },
   {
    "duration": 18,
    "start_time": "2022-03-18T07:28:06.972Z"
   },
   {
    "duration": 12,
    "start_time": "2022-03-18T07:28:06.992Z"
   },
   {
    "duration": 24,
    "start_time": "2022-03-18T07:28:07.006Z"
   },
   {
    "duration": 17,
    "start_time": "2022-03-18T07:28:07.032Z"
   },
   {
    "duration": 8,
    "start_time": "2022-03-18T07:29:26.499Z"
   },
   {
    "duration": 15,
    "start_time": "2022-03-18T07:29:27.038Z"
   },
   {
    "duration": 14,
    "start_time": "2022-03-18T07:29:43.198Z"
   },
   {
    "duration": 8,
    "start_time": "2022-03-18T07:29:50.860Z"
   },
   {
    "duration": 14,
    "start_time": "2022-03-18T07:29:51.830Z"
   },
   {
    "duration": 8,
    "start_time": "2022-03-18T07:39:07.258Z"
   },
   {
    "duration": 9,
    "start_time": "2022-03-18T07:39:12.238Z"
   },
   {
    "duration": 24,
    "start_time": "2022-03-18T07:41:02.198Z"
   },
   {
    "duration": 22,
    "start_time": "2022-03-18T07:42:03.378Z"
   },
   {
    "duration": 8,
    "start_time": "2022-03-18T07:44:42.510Z"
   },
   {
    "duration": 14,
    "start_time": "2022-03-18T07:44:44.098Z"
   },
   {
    "duration": 1094,
    "start_time": "2022-03-18T07:49:36.080Z"
   },
   {
    "duration": 36,
    "start_time": "2022-03-18T07:49:37.176Z"
   },
   {
    "duration": 12,
    "start_time": "2022-03-18T07:49:37.214Z"
   },
   {
    "duration": 43,
    "start_time": "2022-03-18T07:49:37.229Z"
   },
   {
    "duration": 20,
    "start_time": "2022-03-18T07:49:37.275Z"
   },
   {
    "duration": 20,
    "start_time": "2022-03-18T07:49:37.298Z"
   },
   {
    "duration": 9,
    "start_time": "2022-03-18T07:49:37.322Z"
   },
   {
    "duration": 34,
    "start_time": "2022-03-18T07:49:37.333Z"
   },
   {
    "duration": 1006,
    "start_time": "2022-03-18T07:50:39.086Z"
   },
   {
    "duration": 29,
    "start_time": "2022-03-18T07:50:40.096Z"
   },
   {
    "duration": 12,
    "start_time": "2022-03-18T07:50:40.127Z"
   },
   {
    "duration": 36,
    "start_time": "2022-03-18T07:50:40.141Z"
   },
   {
    "duration": 17,
    "start_time": "2022-03-18T07:50:40.181Z"
   },
   {
    "duration": 12,
    "start_time": "2022-03-18T07:50:40.201Z"
   },
   {
    "duration": 8,
    "start_time": "2022-03-18T07:50:40.215Z"
   },
   {
    "duration": 13,
    "start_time": "2022-03-18T07:50:40.225Z"
   },
   {
    "duration": 1012,
    "start_time": "2022-03-18T07:52:07.253Z"
   },
   {
    "duration": 32,
    "start_time": "2022-03-18T07:52:08.268Z"
   },
   {
    "duration": 16,
    "start_time": "2022-03-18T07:52:08.302Z"
   },
   {
    "duration": 34,
    "start_time": "2022-03-18T07:52:08.320Z"
   },
   {
    "duration": 27,
    "start_time": "2022-03-18T07:52:08.358Z"
   },
   {
    "duration": 12,
    "start_time": "2022-03-18T07:52:08.387Z"
   },
   {
    "duration": 3,
    "start_time": "2022-03-18T07:52:08.401Z"
   },
   {
    "duration": 32,
    "start_time": "2022-03-18T07:52:08.406Z"
   },
   {
    "duration": 2684,
    "start_time": "2022-03-18T07:55:29.040Z"
   },
   {
    "duration": 10,
    "start_time": "2022-03-18T07:57:14.660Z"
   },
   {
    "duration": 11,
    "start_time": "2022-03-18T07:58:20.840Z"
   },
   {
    "duration": 4,
    "start_time": "2022-03-18T07:58:36.620Z"
   },
   {
    "duration": 12,
    "start_time": "2022-03-18T07:58:48.392Z"
   },
   {
    "duration": 5,
    "start_time": "2022-03-18T07:58:54.980Z"
   },
   {
    "duration": 18,
    "start_time": "2022-03-18T07:59:19.040Z"
   },
   {
    "duration": 17,
    "start_time": "2022-03-18T07:59:29.180Z"
   },
   {
    "duration": 13,
    "start_time": "2022-03-18T08:01:01.741Z"
   },
   {
    "duration": 13,
    "start_time": "2022-03-18T08:01:35.040Z"
   },
   {
    "duration": 16,
    "start_time": "2022-03-18T08:01:45.940Z"
   },
   {
    "duration": 15,
    "start_time": "2022-03-18T08:02:03.707Z"
   },
   {
    "duration": 11,
    "start_time": "2022-03-18T08:21:49.580Z"
   },
   {
    "duration": 11,
    "start_time": "2022-03-18T08:25:09.700Z"
   },
   {
    "duration": 737,
    "start_time": "2022-03-18T08:25:38.092Z"
   },
   {
    "duration": 34,
    "start_time": "2022-03-18T08:25:42.651Z"
   },
   {
    "duration": 4,
    "start_time": "2022-03-18T08:26:09.732Z"
   },
   {
    "duration": 765,
    "start_time": "2022-03-18T08:26:12.822Z"
   },
   {
    "duration": 719,
    "start_time": "2022-03-18T08:26:21.100Z"
   },
   {
    "duration": 702,
    "start_time": "2022-03-18T08:26:25.603Z"
   },
   {
    "duration": 706,
    "start_time": "2022-03-18T08:27:05.394Z"
   },
   {
    "duration": 10,
    "start_time": "2022-03-18T08:31:56.699Z"
   },
   {
    "duration": 9,
    "start_time": "2022-03-18T08:31:57.847Z"
   },
   {
    "duration": 10,
    "start_time": "2022-03-18T08:32:27.314Z"
   },
   {
    "duration": 8,
    "start_time": "2022-03-18T08:32:55.740Z"
   },
   {
    "duration": 9,
    "start_time": "2022-03-18T08:33:45.261Z"
   },
   {
    "duration": 8,
    "start_time": "2022-03-18T08:33:46.222Z"
   },
   {
    "duration": 6,
    "start_time": "2022-03-18T11:08:45.448Z"
   },
   {
    "duration": 26,
    "start_time": "2022-03-18T11:11:40.492Z"
   },
   {
    "duration": 19,
    "start_time": "2022-03-18T11:12:28.931Z"
   },
   {
    "duration": 17,
    "start_time": "2022-03-18T11:12:57.607Z"
   },
   {
    "duration": 1232,
    "start_time": "2022-03-20T15:39:33.282Z"
   },
   {
    "duration": 24,
    "start_time": "2022-03-20T15:39:34.516Z"
   },
   {
    "duration": 7,
    "start_time": "2022-03-20T15:39:34.542Z"
   },
   {
    "duration": 5,
    "start_time": "2022-03-20T15:39:34.551Z"
   },
   {
    "duration": 9,
    "start_time": "2022-03-20T15:39:34.558Z"
   },
   {
    "duration": 9,
    "start_time": "2022-03-20T15:39:34.568Z"
   },
   {
    "duration": 27,
    "start_time": "2022-03-20T15:39:34.578Z"
   },
   {
    "duration": 10,
    "start_time": "2022-03-20T15:39:34.606Z"
   },
   {
    "duration": 17,
    "start_time": "2022-03-20T15:39:34.618Z"
   },
   {
    "duration": 6,
    "start_time": "2022-03-20T15:39:34.637Z"
   },
   {
    "duration": 454,
    "start_time": "2022-03-20T15:39:34.644Z"
   },
   {
    "duration": 0,
    "start_time": "2022-03-20T15:39:35.100Z"
   },
   {
    "duration": 0,
    "start_time": "2022-03-20T15:39:35.101Z"
   },
   {
    "duration": 0,
    "start_time": "2022-03-20T15:39:35.103Z"
   },
   {
    "duration": 0,
    "start_time": "2022-03-20T15:39:35.104Z"
   },
   {
    "duration": 0,
    "start_time": "2022-03-20T15:39:35.105Z"
   },
   {
    "duration": 0,
    "start_time": "2022-03-20T15:39:35.106Z"
   },
   {
    "duration": 0,
    "start_time": "2022-03-20T15:39:35.107Z"
   },
   {
    "duration": 0,
    "start_time": "2022-03-20T15:39:35.108Z"
   },
   {
    "duration": 0,
    "start_time": "2022-03-20T15:39:35.109Z"
   },
   {
    "duration": 0,
    "start_time": "2022-03-20T15:39:35.110Z"
   },
   {
    "duration": 0,
    "start_time": "2022-03-20T15:39:35.111Z"
   },
   {
    "duration": 1132,
    "start_time": "2022-03-20T15:42:10.909Z"
   },
   {
    "duration": 20,
    "start_time": "2022-03-20T15:42:12.043Z"
   },
   {
    "duration": 8,
    "start_time": "2022-03-20T15:42:12.064Z"
   },
   {
    "duration": 5,
    "start_time": "2022-03-20T15:42:12.075Z"
   },
   {
    "duration": 9,
    "start_time": "2022-03-20T15:42:12.081Z"
   },
   {
    "duration": 7,
    "start_time": "2022-03-20T15:42:12.092Z"
   },
   {
    "duration": 44,
    "start_time": "2022-03-20T15:42:12.101Z"
   },
   {
    "duration": 11,
    "start_time": "2022-03-20T15:42:12.147Z"
   },
   {
    "duration": 8,
    "start_time": "2022-03-20T15:42:12.159Z"
   },
   {
    "duration": 16,
    "start_time": "2022-03-20T15:42:12.169Z"
   },
   {
    "duration": 16,
    "start_time": "2022-03-20T15:42:12.186Z"
   },
   {
    "duration": 18,
    "start_time": "2022-03-20T15:42:12.203Z"
   },
   {
    "duration": 18,
    "start_time": "2022-03-20T15:42:12.222Z"
   },
   {
    "duration": 6,
    "start_time": "2022-03-20T15:42:12.242Z"
   },
   {
    "duration": 7,
    "start_time": "2022-03-20T15:42:12.250Z"
   },
   {
    "duration": 6,
    "start_time": "2022-03-20T15:42:12.258Z"
   },
   {
    "duration": 10,
    "start_time": "2022-03-20T15:42:12.265Z"
   },
   {
    "duration": 3,
    "start_time": "2022-03-20T15:42:12.276Z"
   },
   {
    "duration": 5,
    "start_time": "2022-03-20T15:42:12.280Z"
   },
   {
    "duration": 13,
    "start_time": "2022-03-20T15:42:12.286Z"
   },
   {
    "duration": 41,
    "start_time": "2022-03-20T15:42:12.301Z"
   },
   {
    "duration": 457,
    "start_time": "2022-03-20T15:42:12.344Z"
   },
   {
    "duration": 2,
    "start_time": "2022-03-20T15:47:18.418Z"
   },
   {
    "duration": 12,
    "start_time": "2022-03-20T15:47:41.129Z"
   },
   {
    "duration": 120,
    "start_time": "2022-03-20T15:48:18.070Z"
   },
   {
    "duration": 607,
    "start_time": "2022-03-20T15:50:30.001Z"
   },
   {
    "duration": 546,
    "start_time": "2022-03-20T15:50:45.702Z"
   },
   {
    "duration": 540,
    "start_time": "2022-03-20T15:50:51.054Z"
   },
   {
    "duration": 528,
    "start_time": "2022-03-20T15:50:58.198Z"
   },
   {
    "duration": 535,
    "start_time": "2022-03-20T15:53:22.830Z"
   },
   {
    "duration": 533,
    "start_time": "2022-03-20T15:53:30.600Z"
   },
   {
    "duration": 563,
    "start_time": "2022-03-20T15:54:41.424Z"
   },
   {
    "duration": 626,
    "start_time": "2022-03-20T15:55:26.658Z"
   },
   {
    "duration": 673,
    "start_time": "2022-03-20T15:56:04.822Z"
   },
   {
    "duration": 559,
    "start_time": "2022-03-20T15:56:15.358Z"
   },
   {
    "duration": 92,
    "start_time": "2022-03-20T15:58:11.886Z"
   },
   {
    "duration": 78,
    "start_time": "2022-03-20T15:58:19.641Z"
   },
   {
    "duration": 548,
    "start_time": "2022-03-20T15:58:35.933Z"
   },
   {
    "duration": 676,
    "start_time": "2022-03-20T15:59:12.512Z"
   },
   {
    "duration": 621,
    "start_time": "2022-03-20T15:59:27.549Z"
   },
   {
    "duration": 622,
    "start_time": "2022-03-20T15:59:42.423Z"
   },
   {
    "duration": 493,
    "start_time": "2022-03-20T16:00:14.381Z"
   },
   {
    "duration": 6,
    "start_time": "2022-03-20T16:09:05.690Z"
   },
   {
    "duration": 236,
    "start_time": "2022-03-20T16:11:54.505Z"
   },
   {
    "duration": 375,
    "start_time": "2022-03-20T16:13:50.753Z"
   },
   {
    "duration": 378,
    "start_time": "2022-03-20T16:14:00.562Z"
   },
   {
    "duration": 183,
    "start_time": "2022-03-20T16:14:47.256Z"
   },
   {
    "duration": 170,
    "start_time": "2022-03-20T16:15:41.160Z"
   },
   {
    "duration": 111,
    "start_time": "2022-03-20T16:17:38.256Z"
   },
   {
    "duration": 142,
    "start_time": "2022-03-20T16:20:58.401Z"
   },
   {
    "duration": 7,
    "start_time": "2022-03-20T16:23:11.509Z"
   },
   {
    "duration": 252,
    "start_time": "2022-03-20T16:23:44.015Z"
   },
   {
    "duration": 269,
    "start_time": "2022-03-20T16:25:24.919Z"
   },
   {
    "duration": 270,
    "start_time": "2022-03-20T16:26:04.062Z"
   },
   {
    "duration": 456,
    "start_time": "2022-03-20T16:26:12.838Z"
   },
   {
    "duration": 227,
    "start_time": "2022-03-20T16:32:29.374Z"
   },
   {
    "duration": 269,
    "start_time": "2022-03-20T16:32:45.575Z"
   },
   {
    "duration": 355,
    "start_time": "2022-03-20T16:33:00.551Z"
   },
   {
    "duration": 267,
    "start_time": "2022-03-20T16:33:26.749Z"
   },
   {
    "duration": 81,
    "start_time": "2022-03-20T16:41:34.592Z"
   },
   {
    "duration": 17,
    "start_time": "2022-03-20T16:41:46.016Z"
   },
   {
    "duration": 10,
    "start_time": "2022-03-20T16:41:55.182Z"
   },
   {
    "duration": 10,
    "start_time": "2022-03-20T16:42:23.609Z"
   },
   {
    "duration": 91,
    "start_time": "2022-03-20T16:43:10.958Z"
   },
   {
    "duration": 9,
    "start_time": "2022-03-20T16:43:33.549Z"
   },
   {
    "duration": 15,
    "start_time": "2022-03-20T16:43:50.198Z"
   },
   {
    "duration": 10,
    "start_time": "2022-03-20T16:44:15.278Z"
   },
   {
    "duration": 14,
    "start_time": "2022-03-20T16:44:21.773Z"
   },
   {
    "duration": 5,
    "start_time": "2022-03-20T16:44:56.687Z"
   },
   {
    "duration": 11,
    "start_time": "2022-03-20T16:45:09.610Z"
   },
   {
    "duration": 5,
    "start_time": "2022-03-20T16:45:45.124Z"
   },
   {
    "duration": 6,
    "start_time": "2022-03-20T16:46:26.860Z"
   },
   {
    "duration": 4,
    "start_time": "2022-03-20T16:46:28.093Z"
   },
   {
    "duration": 3,
    "start_time": "2022-03-20T16:47:38.005Z"
   },
   {
    "duration": 4,
    "start_time": "2022-03-20T16:48:16.947Z"
   },
   {
    "duration": 4,
    "start_time": "2022-03-20T16:49:16.571Z"
   },
   {
    "duration": 6,
    "start_time": "2022-03-20T16:49:18.932Z"
   },
   {
    "duration": 4,
    "start_time": "2022-03-20T16:49:19.322Z"
   },
   {
    "duration": 277,
    "start_time": "2022-03-20T16:50:51.578Z"
   },
   {
    "duration": 319,
    "start_time": "2022-03-20T16:51:33.275Z"
   },
   {
    "duration": 450,
    "start_time": "2022-03-20T16:52:06.460Z"
   },
   {
    "duration": 369,
    "start_time": "2022-03-20T16:52:21.426Z"
   },
   {
    "duration": 351,
    "start_time": "2022-03-20T16:52:31.083Z"
   },
   {
    "duration": 12,
    "start_time": "2022-03-20T16:57:13.155Z"
   },
   {
    "duration": 9,
    "start_time": "2022-03-20T17:00:16.206Z"
   },
   {
    "duration": 1710,
    "start_time": "2022-03-20T17:00:35.933Z"
   },
   {
    "duration": 198,
    "start_time": "2022-03-20T17:02:10.394Z"
   },
   {
    "duration": 228,
    "start_time": "2022-03-20T17:03:47.812Z"
   },
   {
    "duration": 290,
    "start_time": "2022-03-20T17:04:02.651Z"
   },
   {
    "duration": 420,
    "start_time": "2022-03-20T18:22:33.803Z"
   },
   {
    "duration": 368,
    "start_time": "2022-03-20T18:22:57.513Z"
   },
   {
    "duration": 350,
    "start_time": "2022-03-20T18:23:21.785Z"
   },
   {
    "duration": 388,
    "start_time": "2022-03-20T18:24:24.153Z"
   },
   {
    "duration": 269,
    "start_time": "2022-03-20T18:24:34.497Z"
   },
   {
    "duration": 346,
    "start_time": "2022-03-20T18:25:28.761Z"
   },
   {
    "duration": 269,
    "start_time": "2022-03-20T18:25:47.497Z"
   },
   {
    "duration": 10,
    "start_time": "2022-03-20T18:33:21.045Z"
   },
   {
    "duration": 12,
    "start_time": "2022-03-20T18:33:37.821Z"
   },
   {
    "duration": 352,
    "start_time": "2022-03-20T18:34:37.454Z"
   },
   {
    "duration": 251,
    "start_time": "2022-03-20T18:34:46.285Z"
   },
   {
    "duration": 253,
    "start_time": "2022-03-20T18:36:27.717Z"
   },
   {
    "duration": 276,
    "start_time": "2022-03-20T18:36:41.221Z"
   },
   {
    "duration": 4,
    "start_time": "2022-03-20T18:40:11.019Z"
   },
   {
    "duration": 5,
    "start_time": "2022-03-20T18:41:24.439Z"
   },
   {
    "duration": 4,
    "start_time": "2022-03-20T18:41:32.051Z"
   },
   {
    "duration": 121,
    "start_time": "2022-03-20T18:42:16.300Z"
   },
   {
    "duration": 4,
    "start_time": "2022-03-20T18:42:45.257Z"
   },
   {
    "duration": 5,
    "start_time": "2022-03-20T18:43:06.458Z"
   },
   {
    "duration": 5,
    "start_time": "2022-03-20T18:47:04.039Z"
   },
   {
    "duration": 9,
    "start_time": "2022-03-20T18:47:48.055Z"
   },
   {
    "duration": 8,
    "start_time": "2022-03-20T18:48:03.616Z"
   },
   {
    "duration": 140,
    "start_time": "2022-03-20T18:48:11.616Z"
   },
   {
    "duration": 301,
    "start_time": "2022-03-20T18:48:23.911Z"
   },
   {
    "duration": 174,
    "start_time": "2022-03-20T18:48:48.369Z"
   },
   {
    "duration": 296,
    "start_time": "2022-03-20T18:49:18.375Z"
   },
   {
    "duration": 175,
    "start_time": "2022-03-20T18:49:30.103Z"
   },
   {
    "duration": 168,
    "start_time": "2022-03-20T18:50:06.278Z"
   },
   {
    "duration": 5,
    "start_time": "2022-03-20T18:56:39.421Z"
   },
   {
    "duration": 5,
    "start_time": "2022-03-20T18:57:05.780Z"
   },
   {
    "duration": 76,
    "start_time": "2022-03-20T18:59:22.693Z"
   },
   {
    "duration": 81,
    "start_time": "2022-03-20T19:00:51.731Z"
   },
   {
    "duration": 3,
    "start_time": "2022-03-20T19:00:58.458Z"
   },
   {
    "duration": 87,
    "start_time": "2022-03-20T19:01:30.683Z"
   },
   {
    "duration": 79,
    "start_time": "2022-03-20T19:01:41.588Z"
   },
   {
    "duration": 10,
    "start_time": "2022-03-20T19:02:00.650Z"
   },
   {
    "duration": 4,
    "start_time": "2022-03-20T19:02:09.595Z"
   },
   {
    "duration": 4,
    "start_time": "2022-03-20T19:02:30.970Z"
   },
   {
    "duration": 5,
    "start_time": "2022-03-20T19:03:08.849Z"
   },
   {
    "duration": 5,
    "start_time": "2022-03-20T19:04:13.049Z"
   },
   {
    "duration": 47,
    "start_time": "2022-03-20T19:15:21.405Z"
   },
   {
    "duration": 48,
    "start_time": "2022-03-20T19:15:22.930Z"
   },
   {
    "duration": 16,
    "start_time": "2022-03-20T19:15:24.805Z"
   },
   {
    "duration": 15,
    "start_time": "2022-03-20T19:16:54.277Z"
   },
   {
    "duration": 18,
    "start_time": "2022-03-20T19:20:15.397Z"
   },
   {
    "duration": 109,
    "start_time": "2022-03-20T19:20:42.876Z"
   },
   {
    "duration": 50,
    "start_time": "2022-03-20T19:20:46.516Z"
   },
   {
    "duration": 28,
    "start_time": "2022-03-20T19:20:49.819Z"
   },
   {
    "duration": 13,
    "start_time": "2022-03-20T19:21:41.341Z"
   },
   {
    "duration": 239,
    "start_time": "2022-03-20T19:23:06.115Z"
   },
   {
    "duration": 6,
    "start_time": "2022-03-20T19:27:23.210Z"
   },
   {
    "duration": 21,
    "start_time": "2022-03-20T19:27:30.811Z"
   },
   {
    "duration": 27,
    "start_time": "2022-03-20T19:30:47.602Z"
   },
   {
    "duration": 27,
    "start_time": "2022-03-20T19:31:08.994Z"
   },
   {
    "duration": 23,
    "start_time": "2022-03-20T19:31:15.009Z"
   },
   {
    "duration": 94,
    "start_time": "2022-03-20T19:31:38.793Z"
   },
   {
    "duration": 10,
    "start_time": "2022-03-20T19:34:14.888Z"
   },
   {
    "duration": 10,
    "start_time": "2022-03-20T19:34:44.633Z"
   },
   {
    "duration": 15,
    "start_time": "2022-03-20T19:36:58.619Z"
   },
   {
    "duration": 31,
    "start_time": "2022-03-20T19:37:34.712Z"
   },
   {
    "duration": 12,
    "start_time": "2022-03-20T19:38:30.896Z"
   },
   {
    "duration": 1558,
    "start_time": "2022-03-20T19:45:16.973Z"
   },
   {
    "duration": 9,
    "start_time": "2022-03-20T19:46:00.789Z"
   },
   {
    "duration": 82,
    "start_time": "2022-03-20T19:49:32.219Z"
   },
   {
    "duration": 9,
    "start_time": "2022-03-20T19:50:47.183Z"
   },
   {
    "duration": 21,
    "start_time": "2022-03-20T19:50:53.915Z"
   },
   {
    "duration": 1101,
    "start_time": "2022-03-20T19:52:46.138Z"
   },
   {
    "duration": 23,
    "start_time": "2022-03-20T19:52:47.241Z"
   },
   {
    "duration": 8,
    "start_time": "2022-03-20T19:52:47.265Z"
   },
   {
    "duration": 4,
    "start_time": "2022-03-20T19:52:47.275Z"
   },
   {
    "duration": 7,
    "start_time": "2022-03-20T19:52:47.281Z"
   },
   {
    "duration": 6,
    "start_time": "2022-03-20T19:52:47.289Z"
   },
   {
    "duration": 50,
    "start_time": "2022-03-20T19:52:47.297Z"
   },
   {
    "duration": 11,
    "start_time": "2022-03-20T19:52:47.348Z"
   },
   {
    "duration": 11,
    "start_time": "2022-03-20T19:52:47.360Z"
   },
   {
    "duration": 8,
    "start_time": "2022-03-20T19:52:47.373Z"
   },
   {
    "duration": 15,
    "start_time": "2022-03-20T19:52:47.382Z"
   },
   {
    "duration": 17,
    "start_time": "2022-03-20T19:52:47.399Z"
   },
   {
    "duration": 17,
    "start_time": "2022-03-20T19:52:47.418Z"
   },
   {
    "duration": 8,
    "start_time": "2022-03-20T19:52:47.436Z"
   },
   {
    "duration": 6,
    "start_time": "2022-03-20T19:52:47.446Z"
   },
   {
    "duration": 5,
    "start_time": "2022-03-20T19:52:47.454Z"
   },
   {
    "duration": 10,
    "start_time": "2022-03-20T19:52:47.461Z"
   },
   {
    "duration": 2,
    "start_time": "2022-03-20T19:52:47.473Z"
   },
   {
    "duration": 6,
    "start_time": "2022-03-20T19:52:47.476Z"
   },
   {
    "duration": 11,
    "start_time": "2022-03-20T19:52:47.484Z"
   },
   {
    "duration": 36,
    "start_time": "2022-03-20T19:52:47.497Z"
   },
   {
    "duration": 458,
    "start_time": "2022-03-20T19:52:47.535Z"
   },
   {
    "duration": 5,
    "start_time": "2022-03-20T19:52:47.995Z"
   },
   {
    "duration": 169,
    "start_time": "2022-03-20T19:52:48.002Z"
   },
   {
    "duration": 122,
    "start_time": "2022-03-20T19:52:48.173Z"
   },
   {
    "duration": 7,
    "start_time": "2022-03-20T19:52:48.296Z"
   },
   {
    "duration": 356,
    "start_time": "2022-03-20T19:52:48.305Z"
   },
   {
    "duration": 355,
    "start_time": "2022-03-20T19:52:48.665Z"
   },
   {
    "duration": 17,
    "start_time": "2022-03-20T19:52:49.022Z"
   },
   {
    "duration": 4,
    "start_time": "2022-03-20T19:52:49.041Z"
   },
   {
    "duration": 6,
    "start_time": "2022-03-20T19:52:49.047Z"
   },
   {
    "duration": 4,
    "start_time": "2022-03-20T19:52:49.055Z"
   },
   {
    "duration": 80,
    "start_time": "2022-03-20T19:52:49.060Z"
   },
   {
    "duration": 0,
    "start_time": "2022-03-20T19:52:49.141Z"
   },
   {
    "duration": 0,
    "start_time": "2022-03-20T19:52:49.143Z"
   },
   {
    "duration": 0,
    "start_time": "2022-03-20T19:52:49.144Z"
   },
   {
    "duration": 0,
    "start_time": "2022-03-20T19:52:49.145Z"
   },
   {
    "duration": 0,
    "start_time": "2022-03-20T19:52:49.146Z"
   },
   {
    "duration": 0,
    "start_time": "2022-03-20T19:52:49.147Z"
   },
   {
    "duration": 0,
    "start_time": "2022-03-20T19:52:49.148Z"
   },
   {
    "duration": 0,
    "start_time": "2022-03-20T19:52:49.149Z"
   },
   {
    "duration": 0,
    "start_time": "2022-03-20T19:52:49.150Z"
   },
   {
    "duration": 0,
    "start_time": "2022-03-20T19:52:49.151Z"
   },
   {
    "duration": 0,
    "start_time": "2022-03-20T19:52:49.152Z"
   },
   {
    "duration": 0,
    "start_time": "2022-03-20T19:52:49.153Z"
   },
   {
    "duration": 0,
    "start_time": "2022-03-20T19:52:49.154Z"
   },
   {
    "duration": 0,
    "start_time": "2022-03-20T19:52:49.155Z"
   },
   {
    "duration": 0,
    "start_time": "2022-03-20T19:52:49.155Z"
   },
   {
    "duration": 0,
    "start_time": "2022-03-20T19:52:49.156Z"
   },
   {
    "duration": 0,
    "start_time": "2022-03-20T19:52:49.157Z"
   },
   {
    "duration": 0,
    "start_time": "2022-03-20T19:52:49.158Z"
   },
   {
    "duration": 0,
    "start_time": "2022-03-20T19:52:49.159Z"
   },
   {
    "duration": 415,
    "start_time": "2022-03-20T19:53:18.815Z"
   },
   {
    "duration": 283,
    "start_time": "2022-03-20T19:53:20.338Z"
   },
   {
    "duration": 364,
    "start_time": "2022-03-20T19:53:21.262Z"
   },
   {
    "duration": 300,
    "start_time": "2022-03-20T19:53:21.823Z"
   },
   {
    "duration": 5,
    "start_time": "2022-03-20T19:53:22.416Z"
   },
   {
    "duration": 248,
    "start_time": "2022-03-20T19:53:23.358Z"
   },
   {
    "duration": 6,
    "start_time": "2022-03-20T19:53:24.671Z"
   },
   {
    "duration": 46,
    "start_time": "2022-03-20T19:53:25.215Z"
   },
   {
    "duration": 48,
    "start_time": "2022-03-20T19:53:25.407Z"
   },
   {
    "duration": 115,
    "start_time": "2022-03-20T19:53:25.599Z"
   },
   {
    "duration": 50,
    "start_time": "2022-03-20T19:53:25.784Z"
   },
   {
    "duration": 24,
    "start_time": "2022-03-20T19:53:25.975Z"
   },
   {
    "duration": 175,
    "start_time": "2022-03-20T19:53:26.168Z"
   },
   {
    "duration": 7,
    "start_time": "2022-03-20T19:53:26.344Z"
   },
   {
    "duration": 21,
    "start_time": "2022-03-20T19:53:26.727Z"
   },
   {
    "duration": 9,
    "start_time": "2022-03-20T19:53:28.607Z"
   },
   {
    "duration": 9,
    "start_time": "2022-03-20T19:53:29.382Z"
   },
   {
    "duration": 8,
    "start_time": "2022-03-20T19:53:29.759Z"
   },
   {
    "duration": 20,
    "start_time": "2022-03-20T19:53:30.350Z"
   },
   {
    "duration": 1507,
    "start_time": "2022-03-20T19:56:38.441Z"
   },
   {
    "duration": 12,
    "start_time": "2022-03-20T19:58:01.420Z"
   },
   {
    "duration": 1472,
    "start_time": "2022-03-20T19:58:22.046Z"
   },
   {
    "duration": 18,
    "start_time": "2022-03-20T19:58:51.214Z"
   },
   {
    "duration": 9,
    "start_time": "2022-03-20T20:05:45.548Z"
   },
   {
    "duration": 18,
    "start_time": "2022-03-20T20:05:49.310Z"
   },
   {
    "duration": 10,
    "start_time": "2022-03-20T20:07:16.147Z"
   },
   {
    "duration": 7,
    "start_time": "2022-03-20T20:08:01.771Z"
   },
   {
    "duration": 9,
    "start_time": "2022-03-20T20:08:02.396Z"
   },
   {
    "duration": 4,
    "start_time": "2022-03-20T20:09:20.347Z"
   },
   {
    "duration": 1139,
    "start_time": "2022-03-20T20:09:56.303Z"
   },
   {
    "duration": 18,
    "start_time": "2022-03-20T20:09:57.444Z"
   },
   {
    "duration": 8,
    "start_time": "2022-03-20T20:09:57.463Z"
   },
   {
    "duration": 7,
    "start_time": "2022-03-20T20:09:57.473Z"
   },
   {
    "duration": 9,
    "start_time": "2022-03-20T20:09:57.481Z"
   },
   {
    "duration": 12,
    "start_time": "2022-03-20T20:09:57.492Z"
   },
   {
    "duration": 26,
    "start_time": "2022-03-20T20:09:57.506Z"
   },
   {
    "duration": 11,
    "start_time": "2022-03-20T20:09:57.534Z"
   },
   {
    "duration": 8,
    "start_time": "2022-03-20T20:09:57.546Z"
   },
   {
    "duration": 6,
    "start_time": "2022-03-20T20:09:57.557Z"
   },
   {
    "duration": 11,
    "start_time": "2022-03-20T20:09:57.565Z"
   },
   {
    "duration": 15,
    "start_time": "2022-03-20T20:09:57.578Z"
   },
   {
    "duration": 37,
    "start_time": "2022-03-20T20:09:57.595Z"
   },
   {
    "duration": 7,
    "start_time": "2022-03-20T20:09:57.634Z"
   },
   {
    "duration": 5,
    "start_time": "2022-03-20T20:09:57.643Z"
   },
   {
    "duration": 5,
    "start_time": "2022-03-20T20:09:57.650Z"
   },
   {
    "duration": 5,
    "start_time": "2022-03-20T20:09:57.656Z"
   },
   {
    "duration": 9,
    "start_time": "2022-03-20T20:09:57.662Z"
   },
   {
    "duration": 6,
    "start_time": "2022-03-20T20:09:57.673Z"
   },
   {
    "duration": 9,
    "start_time": "2022-03-20T20:09:57.681Z"
   },
   {
    "duration": 12,
    "start_time": "2022-03-20T20:09:57.734Z"
   },
   {
    "duration": 11,
    "start_time": "2022-03-20T20:09:57.748Z"
   },
   {
    "duration": 444,
    "start_time": "2022-03-20T20:09:57.761Z"
   },
   {
    "duration": 5,
    "start_time": "2022-03-20T20:09:58.207Z"
   },
   {
    "duration": 173,
    "start_time": "2022-03-20T20:09:58.214Z"
   },
   {
    "duration": 135,
    "start_time": "2022-03-20T20:09:58.388Z"
   },
   {
    "duration": 14,
    "start_time": "2022-03-20T20:09:58.525Z"
   },
   {
    "duration": 365,
    "start_time": "2022-03-20T20:09:58.543Z"
   },
   {
    "duration": 300,
    "start_time": "2022-03-20T20:09:58.910Z"
   },
   {
    "duration": 26,
    "start_time": "2022-03-20T20:09:59.211Z"
   },
   {
    "duration": 8,
    "start_time": "2022-03-20T20:09:59.238Z"
   },
   {
    "duration": 12,
    "start_time": "2022-03-20T20:09:59.248Z"
   },
   {
    "duration": 6,
    "start_time": "2022-03-20T20:09:59.261Z"
   },
   {
    "duration": 344,
    "start_time": "2022-03-20T20:09:59.268Z"
   },
   {
    "duration": 277,
    "start_time": "2022-03-20T20:09:59.614Z"
   },
   {
    "duration": 354,
    "start_time": "2022-03-20T20:09:59.893Z"
   },
   {
    "duration": 299,
    "start_time": "2022-03-20T20:10:00.249Z"
   },
   {
    "duration": 5,
    "start_time": "2022-03-20T20:10:00.550Z"
   },
   {
    "duration": 260,
    "start_time": "2022-03-20T20:10:00.556Z"
   },
   {
    "duration": 5,
    "start_time": "2022-03-20T20:10:00.818Z"
   },
   {
    "duration": 53,
    "start_time": "2022-03-20T20:10:00.832Z"
   },
   {
    "duration": 59,
    "start_time": "2022-03-20T20:10:00.887Z"
   },
   {
    "duration": 119,
    "start_time": "2022-03-20T20:10:00.948Z"
   },
   {
    "duration": 51,
    "start_time": "2022-03-20T20:10:01.068Z"
   },
   {
    "duration": 25,
    "start_time": "2022-03-20T20:10:01.133Z"
   },
   {
    "duration": 154,
    "start_time": "2022-03-20T20:10:01.160Z"
   },
   {
    "duration": 17,
    "start_time": "2022-03-20T20:10:01.315Z"
   },
   {
    "duration": 39,
    "start_time": "2022-03-20T20:10:01.334Z"
   },
   {
    "duration": 10,
    "start_time": "2022-03-20T20:10:01.374Z"
   },
   {
    "duration": 19,
    "start_time": "2022-03-20T20:10:01.386Z"
   },
   {
    "duration": 19,
    "start_time": "2022-03-20T20:10:01.407Z"
   },
   {
    "duration": 42,
    "start_time": "2022-03-20T20:10:01.428Z"
   },
   {
    "duration": 12,
    "start_time": "2022-03-20T20:10:01.472Z"
   },
   {
    "duration": 93,
    "start_time": "2022-03-20T20:10:01.485Z"
   },
   {
    "duration": 0,
    "start_time": "2022-03-20T20:10:01.579Z"
   },
   {
    "duration": 0,
    "start_time": "2022-03-20T20:10:01.581Z"
   },
   {
    "duration": 2,
    "start_time": "2022-03-20T20:10:27.355Z"
   },
   {
    "duration": 1152,
    "start_time": "2022-03-20T20:10:37.896Z"
   },
   {
    "duration": 18,
    "start_time": "2022-03-20T20:10:39.050Z"
   },
   {
    "duration": 7,
    "start_time": "2022-03-20T20:10:39.070Z"
   },
   {
    "duration": 5,
    "start_time": "2022-03-20T20:10:39.079Z"
   },
   {
    "duration": 12,
    "start_time": "2022-03-20T20:10:39.085Z"
   },
   {
    "duration": 13,
    "start_time": "2022-03-20T20:10:39.098Z"
   },
   {
    "duration": 26,
    "start_time": "2022-03-20T20:10:39.112Z"
   },
   {
    "duration": 10,
    "start_time": "2022-03-20T20:10:39.140Z"
   },
   {
    "duration": 11,
    "start_time": "2022-03-20T20:10:39.152Z"
   },
   {
    "duration": 5,
    "start_time": "2022-03-20T20:10:39.166Z"
   },
   {
    "duration": 12,
    "start_time": "2022-03-20T20:10:39.173Z"
   },
   {
    "duration": 16,
    "start_time": "2022-03-20T20:10:39.187Z"
   },
   {
    "duration": 30,
    "start_time": "2022-03-20T20:10:39.205Z"
   },
   {
    "duration": 17,
    "start_time": "2022-03-20T20:10:39.236Z"
   },
   {
    "duration": 16,
    "start_time": "2022-03-20T20:10:39.254Z"
   },
   {
    "duration": 8,
    "start_time": "2022-03-20T20:10:39.271Z"
   },
   {
    "duration": 10,
    "start_time": "2022-03-20T20:10:39.281Z"
   },
   {
    "duration": 11,
    "start_time": "2022-03-20T20:10:39.293Z"
   },
   {
    "duration": 6,
    "start_time": "2022-03-20T20:10:39.305Z"
   },
   {
    "duration": 10,
    "start_time": "2022-03-20T20:10:39.312Z"
   },
   {
    "duration": 19,
    "start_time": "2022-03-20T20:10:39.324Z"
   },
   {
    "duration": 10,
    "start_time": "2022-03-20T20:10:39.344Z"
   },
   {
    "duration": 448,
    "start_time": "2022-03-20T20:10:39.356Z"
   },
   {
    "duration": 6,
    "start_time": "2022-03-20T20:10:39.805Z"
   },
   {
    "duration": 179,
    "start_time": "2022-03-20T20:10:39.813Z"
   },
   {
    "duration": 138,
    "start_time": "2022-03-20T20:10:39.994Z"
   },
   {
    "duration": 7,
    "start_time": "2022-03-20T20:10:40.134Z"
   },
   {
    "duration": 369,
    "start_time": "2022-03-20T20:10:40.145Z"
   },
   {
    "duration": 290,
    "start_time": "2022-03-20T20:10:40.516Z"
   },
   {
    "duration": 12,
    "start_time": "2022-03-20T20:10:40.807Z"
   },
   {
    "duration": 14,
    "start_time": "2022-03-20T20:10:40.821Z"
   },
   {
    "duration": 10,
    "start_time": "2022-03-20T20:10:40.837Z"
   },
   {
    "duration": 8,
    "start_time": "2022-03-20T20:10:40.848Z"
   },
   {
    "duration": 374,
    "start_time": "2022-03-20T20:10:40.858Z"
   },
   {
    "duration": 278,
    "start_time": "2022-03-20T20:10:41.234Z"
   },
   {
    "duration": 381,
    "start_time": "2022-03-20T20:10:41.513Z"
   },
   {
    "duration": 284,
    "start_time": "2022-03-20T20:10:41.896Z"
   },
   {
    "duration": 5,
    "start_time": "2022-03-20T20:10:42.181Z"
   },
   {
    "duration": 252,
    "start_time": "2022-03-20T20:10:42.187Z"
   },
   {
    "duration": 5,
    "start_time": "2022-03-20T20:10:42.441Z"
   },
   {
    "duration": 48,
    "start_time": "2022-03-20T20:10:42.447Z"
   },
   {
    "duration": 62,
    "start_time": "2022-03-20T20:10:42.497Z"
   },
   {
    "duration": 112,
    "start_time": "2022-03-20T20:10:42.561Z"
   },
   {
    "duration": 49,
    "start_time": "2022-03-20T20:10:42.674Z"
   },
   {
    "duration": 24,
    "start_time": "2022-03-20T20:10:42.733Z"
   },
   {
    "duration": 141,
    "start_time": "2022-03-20T20:10:42.758Z"
   },
   {
    "duration": 5,
    "start_time": "2022-03-20T20:10:42.902Z"
   },
   {
    "duration": 37,
    "start_time": "2022-03-20T20:10:42.909Z"
   },
   {
    "duration": 11,
    "start_time": "2022-03-20T20:10:42.947Z"
   },
   {
    "duration": 8,
    "start_time": "2022-03-20T20:10:42.959Z"
   },
   {
    "duration": 9,
    "start_time": "2022-03-20T20:10:42.968Z"
   },
   {
    "duration": 55,
    "start_time": "2022-03-20T20:10:42.978Z"
   },
   {
    "duration": 13,
    "start_time": "2022-03-20T20:10:43.035Z"
   },
   {
    "duration": 99,
    "start_time": "2022-03-20T20:10:43.050Z"
   },
   {
    "duration": 0,
    "start_time": "2022-03-20T20:10:43.150Z"
   },
   {
    "duration": 0,
    "start_time": "2022-03-20T20:10:43.152Z"
   },
   {
    "duration": 3,
    "start_time": "2022-03-20T20:11:47.226Z"
   },
   {
    "duration": 4,
    "start_time": "2022-03-20T20:12:33.068Z"
   },
   {
    "duration": 1700,
    "start_time": "2022-03-21T07:39:04.686Z"
   },
   {
    "duration": 30,
    "start_time": "2022-03-21T07:39:07.185Z"
   },
   {
    "duration": 12,
    "start_time": "2022-03-21T07:39:07.581Z"
   },
   {
    "duration": 6,
    "start_time": "2022-03-21T07:39:07.953Z"
   },
   {
    "duration": 10,
    "start_time": "2022-03-21T07:39:08.313Z"
   },
   {
    "duration": 9,
    "start_time": "2022-03-21T07:39:08.673Z"
   },
   {
    "duration": 28,
    "start_time": "2022-03-21T07:39:09.062Z"
   },
   {
    "duration": 17,
    "start_time": "2022-03-21T07:39:09.253Z"
   },
   {
    "duration": 9,
    "start_time": "2022-03-21T07:39:09.636Z"
   },
   {
    "duration": 10,
    "start_time": "2022-03-21T07:39:09.842Z"
   },
   {
    "duration": 18,
    "start_time": "2022-03-21T07:39:10.214Z"
   },
   {
    "duration": 17,
    "start_time": "2022-03-21T07:39:10.594Z"
   },
   {
    "duration": 15,
    "start_time": "2022-03-21T07:39:10.793Z"
   },
   {
    "duration": 8,
    "start_time": "2022-03-21T07:39:11.198Z"
   },
   {
    "duration": 7,
    "start_time": "2022-03-21T07:39:11.413Z"
   },
   {
    "duration": 5,
    "start_time": "2022-03-21T07:39:11.814Z"
   },
   {
    "duration": 3,
    "start_time": "2022-03-21T07:39:12.194Z"
   },
   {
    "duration": 13,
    "start_time": "2022-03-21T07:39:12.434Z"
   },
   {
    "duration": 8,
    "start_time": "2022-03-21T07:39:12.633Z"
   },
   {
    "duration": 14,
    "start_time": "2022-03-21T07:39:12.853Z"
   },
   {
    "duration": 20,
    "start_time": "2022-03-21T07:39:14.965Z"
   },
   {
    "duration": 19,
    "start_time": "2022-03-21T07:39:16.541Z"
   },
   {
    "duration": 775,
    "start_time": "2022-03-21T07:39:17.314Z"
   },
   {
    "duration": 9,
    "start_time": "2022-03-21T07:39:18.635Z"
   },
   {
    "duration": 263,
    "start_time": "2022-03-21T07:39:19.254Z"
   },
   {
    "duration": 222,
    "start_time": "2022-03-21T07:39:20.086Z"
   },
   {
    "duration": 13,
    "start_time": "2022-03-21T07:39:21.333Z"
   },
   {
    "duration": 625,
    "start_time": "2022-03-21T07:39:22.462Z"
   },
   {
    "duration": 514,
    "start_time": "2022-03-21T07:39:23.794Z"
   },
   {
    "duration": 18,
    "start_time": "2022-03-21T07:39:24.311Z"
   },
   {
    "duration": 5,
    "start_time": "2022-03-21T07:39:24.674Z"
   },
   {
    "duration": 8,
    "start_time": "2022-03-21T07:39:25.193Z"
   },
   {
    "duration": 6,
    "start_time": "2022-03-21T07:39:25.713Z"
   },
   {
    "duration": 515,
    "start_time": "2022-03-21T07:39:27.521Z"
   },
   {
    "duration": 495,
    "start_time": "2022-03-21T07:39:31.202Z"
   },
   {
    "duration": 524,
    "start_time": "2022-03-21T07:39:34.813Z"
   },
   {
    "duration": 590,
    "start_time": "2022-03-21T07:39:35.656Z"
   },
   {
    "duration": 6,
    "start_time": "2022-03-21T07:39:36.474Z"
   },
   {
    "duration": 370,
    "start_time": "2022-03-21T07:39:37.105Z"
   },
   {
    "duration": 8,
    "start_time": "2022-03-21T07:39:37.736Z"
   },
   {
    "duration": 78,
    "start_time": "2022-03-21T07:39:38.686Z"
   },
   {
    "duration": 76,
    "start_time": "2022-03-21T07:39:38.895Z"
   },
   {
    "duration": 180,
    "start_time": "2022-03-21T07:39:39.162Z"
   },
   {
    "duration": 82,
    "start_time": "2022-03-21T07:39:39.381Z"
   },
   {
    "duration": 41,
    "start_time": "2022-03-21T07:39:39.714Z"
   },
   {
    "duration": 257,
    "start_time": "2022-03-21T07:39:39.990Z"
   },
   {
    "duration": 9,
    "start_time": "2022-03-21T07:39:40.414Z"
   },
   {
    "duration": 30,
    "start_time": "2022-03-21T07:39:40.852Z"
   },
   {
    "duration": 15,
    "start_time": "2022-03-21T07:39:42.193Z"
   },
   {
    "duration": 14,
    "start_time": "2022-03-21T07:39:43.234Z"
   },
   {
    "duration": 12,
    "start_time": "2022-03-21T07:39:43.653Z"
   },
   {
    "duration": 28,
    "start_time": "2022-03-21T07:39:44.052Z"
   },
   {
    "duration": 20,
    "start_time": "2022-03-21T07:39:45.633Z"
   },
   {
    "duration": 183,
    "start_time": "2022-03-21T08:47:20.254Z"
   },
   {
    "duration": 445,
    "start_time": "2022-03-21T08:47:30.514Z"
   },
   {
    "duration": 5,
    "start_time": "2022-03-21T08:48:56.314Z"
   },
   {
    "duration": 9,
    "start_time": "2022-03-21T08:49:00.356Z"
   },
   {
    "duration": 425,
    "start_time": "2022-03-21T08:51:36.697Z"
   },
   {
    "duration": 7,
    "start_time": "2022-03-21T08:51:37.995Z"
   },
   {
    "duration": 11,
    "start_time": "2022-03-21T08:51:47.389Z"
   },
   {
    "duration": 543,
    "start_time": "2022-03-21T08:53:19.474Z"
   },
   {
    "duration": 441,
    "start_time": "2022-03-21T08:54:15.195Z"
   },
   {
    "duration": 552,
    "start_time": "2022-03-21T08:54:16.175Z"
   },
   {
    "duration": 453,
    "start_time": "2022-03-21T08:55:00.762Z"
   },
   {
    "duration": 7,
    "start_time": "2022-03-21T08:55:47.074Z"
   },
   {
    "duration": 468,
    "start_time": "2022-03-21T08:57:17.673Z"
   },
   {
    "duration": 542,
    "start_time": "2022-03-21T08:57:20.014Z"
   },
   {
    "duration": 5,
    "start_time": "2022-03-21T08:57:59.514Z"
   },
   {
    "duration": 452,
    "start_time": "2022-03-21T08:58:05.374Z"
   },
   {
    "duration": 561,
    "start_time": "2022-03-21T08:58:07.323Z"
   },
   {
    "duration": 510,
    "start_time": "2022-03-21T09:00:08.036Z"
   },
   {
    "duration": 1658,
    "start_time": "2022-03-21T11:22:47.326Z"
   },
   {
    "duration": 0,
    "start_time": "2022-03-21T11:22:48.993Z"
   },
   {
    "duration": 0,
    "start_time": "2022-03-21T11:22:48.995Z"
   },
   {
    "duration": 0,
    "start_time": "2022-03-21T11:22:48.998Z"
   },
   {
    "duration": 0,
    "start_time": "2022-03-21T11:22:49.000Z"
   },
   {
    "duration": 0,
    "start_time": "2022-03-21T11:22:49.002Z"
   },
   {
    "duration": 0,
    "start_time": "2022-03-21T11:22:49.004Z"
   },
   {
    "duration": 0,
    "start_time": "2022-03-21T11:22:49.007Z"
   },
   {
    "duration": 0,
    "start_time": "2022-03-21T11:22:49.010Z"
   },
   {
    "duration": 0,
    "start_time": "2022-03-21T11:22:49.012Z"
   },
   {
    "duration": 0,
    "start_time": "2022-03-21T11:22:49.014Z"
   },
   {
    "duration": 0,
    "start_time": "2022-03-21T11:22:49.017Z"
   },
   {
    "duration": 0,
    "start_time": "2022-03-21T11:22:49.019Z"
   },
   {
    "duration": 0,
    "start_time": "2022-03-21T11:22:49.021Z"
   },
   {
    "duration": 0,
    "start_time": "2022-03-21T11:22:49.024Z"
   },
   {
    "duration": 0,
    "start_time": "2022-03-21T11:22:49.026Z"
   },
   {
    "duration": 0,
    "start_time": "2022-03-21T11:22:49.028Z"
   },
   {
    "duration": 1,
    "start_time": "2022-03-21T11:22:49.030Z"
   },
   {
    "duration": 0,
    "start_time": "2022-03-21T11:22:49.083Z"
   },
   {
    "duration": 0,
    "start_time": "2022-03-21T11:22:49.085Z"
   },
   {
    "duration": 0,
    "start_time": "2022-03-21T11:22:49.088Z"
   },
   {
    "duration": 0,
    "start_time": "2022-03-21T11:22:49.090Z"
   },
   {
    "duration": 0,
    "start_time": "2022-03-21T11:22:49.092Z"
   },
   {
    "duration": 0,
    "start_time": "2022-03-21T11:22:49.094Z"
   },
   {
    "duration": 0,
    "start_time": "2022-03-21T11:22:49.096Z"
   },
   {
    "duration": 0,
    "start_time": "2022-03-21T11:22:49.099Z"
   },
   {
    "duration": 1,
    "start_time": "2022-03-21T11:22:49.100Z"
   },
   {
    "duration": 0,
    "start_time": "2022-03-21T11:22:49.103Z"
   },
   {
    "duration": 0,
    "start_time": "2022-03-21T11:22:49.105Z"
   },
   {
    "duration": 0,
    "start_time": "2022-03-21T11:22:49.108Z"
   },
   {
    "duration": 0,
    "start_time": "2022-03-21T11:22:49.109Z"
   },
   {
    "duration": 0,
    "start_time": "2022-03-21T11:22:49.112Z"
   },
   {
    "duration": 0,
    "start_time": "2022-03-21T11:22:49.114Z"
   },
   {
    "duration": 0,
    "start_time": "2022-03-21T11:22:49.116Z"
   },
   {
    "duration": 0,
    "start_time": "2022-03-21T11:22:49.118Z"
   },
   {
    "duration": 0,
    "start_time": "2022-03-21T11:22:49.120Z"
   },
   {
    "duration": 0,
    "start_time": "2022-03-21T11:22:49.183Z"
   },
   {
    "duration": 0,
    "start_time": "2022-03-21T11:22:49.185Z"
   },
   {
    "duration": 0,
    "start_time": "2022-03-21T11:22:49.186Z"
   },
   {
    "duration": 0,
    "start_time": "2022-03-21T11:22:49.188Z"
   },
   {
    "duration": 0,
    "start_time": "2022-03-21T11:22:49.189Z"
   },
   {
    "duration": 0,
    "start_time": "2022-03-21T11:22:49.190Z"
   },
   {
    "duration": 0,
    "start_time": "2022-03-21T11:22:49.192Z"
   },
   {
    "duration": 0,
    "start_time": "2022-03-21T11:22:49.193Z"
   },
   {
    "duration": 0,
    "start_time": "2022-03-21T11:22:49.194Z"
   },
   {
    "duration": 0,
    "start_time": "2022-03-21T11:22:49.196Z"
   },
   {
    "duration": 0,
    "start_time": "2022-03-21T11:22:49.198Z"
   },
   {
    "duration": 0,
    "start_time": "2022-03-21T11:22:49.200Z"
   },
   {
    "duration": 0,
    "start_time": "2022-03-21T11:22:49.202Z"
   },
   {
    "duration": 0,
    "start_time": "2022-03-21T11:22:49.204Z"
   },
   {
    "duration": 0,
    "start_time": "2022-03-21T11:22:49.206Z"
   },
   {
    "duration": 0,
    "start_time": "2022-03-21T11:22:49.208Z"
   },
   {
    "duration": 0,
    "start_time": "2022-03-21T11:22:49.210Z"
   },
   {
    "duration": 0,
    "start_time": "2022-03-21T11:22:49.212Z"
   },
   {
    "duration": 0,
    "start_time": "2022-03-21T11:22:49.214Z"
   },
   {
    "duration": 1591,
    "start_time": "2022-03-21T11:23:21.084Z"
   },
   {
    "duration": 31,
    "start_time": "2022-03-21T11:23:22.678Z"
   },
   {
    "duration": 18,
    "start_time": "2022-03-21T11:23:22.712Z"
   },
   {
    "duration": 6,
    "start_time": "2022-03-21T11:23:22.734Z"
   },
   {
    "duration": 38,
    "start_time": "2022-03-21T11:23:22.745Z"
   },
   {
    "duration": 11,
    "start_time": "2022-03-21T11:23:22.786Z"
   },
   {
    "duration": 34,
    "start_time": "2022-03-21T11:23:22.799Z"
   },
   {
    "duration": 16,
    "start_time": "2022-03-21T11:23:22.836Z"
   },
   {
    "duration": 30,
    "start_time": "2022-03-21T11:23:22.854Z"
   },
   {
    "duration": 15,
    "start_time": "2022-03-21T11:23:22.888Z"
   },
   {
    "duration": 34,
    "start_time": "2022-03-21T11:23:22.907Z"
   },
   {
    "duration": 53,
    "start_time": "2022-03-21T11:23:22.944Z"
   },
   {
    "duration": 25,
    "start_time": "2022-03-21T11:23:23.000Z"
   },
   {
    "duration": 14,
    "start_time": "2022-03-21T11:23:23.034Z"
   },
   {
    "duration": 35,
    "start_time": "2022-03-21T11:23:23.051Z"
   },
   {
    "duration": 8,
    "start_time": "2022-03-21T11:23:23.089Z"
   },
   {
    "duration": 8,
    "start_time": "2022-03-21T11:23:23.099Z"
   },
   {
    "duration": 21,
    "start_time": "2022-03-21T11:23:23.110Z"
   },
   {
    "duration": 10,
    "start_time": "2022-03-21T11:23:23.134Z"
   },
   {
    "duration": 49,
    "start_time": "2022-03-21T11:23:23.146Z"
   },
   {
    "duration": 17,
    "start_time": "2022-03-21T11:23:23.197Z"
   },
   {
    "duration": 16,
    "start_time": "2022-03-21T11:23:23.216Z"
   },
   {
    "duration": 744,
    "start_time": "2022-03-21T11:23:23.234Z"
   },
   {
    "duration": 9,
    "start_time": "2022-03-21T11:23:23.980Z"
   },
   {
    "duration": 310,
    "start_time": "2022-03-21T11:23:23.991Z"
   },
   {
    "duration": 232,
    "start_time": "2022-03-21T11:23:24.303Z"
   },
   {
    "duration": 11,
    "start_time": "2022-03-21T11:23:24.538Z"
   },
   {
    "duration": 682,
    "start_time": "2022-03-21T11:23:24.551Z"
   },
   {
    "duration": 542,
    "start_time": "2022-03-21T11:23:25.235Z"
   },
   {
    "duration": 19,
    "start_time": "2022-03-21T11:23:25.783Z"
   },
   {
    "duration": 13,
    "start_time": "2022-03-21T11:23:25.805Z"
   },
   {
    "duration": 11,
    "start_time": "2022-03-21T11:23:25.821Z"
   },
   {
    "duration": 48,
    "start_time": "2022-03-21T11:23:25.835Z"
   },
   {
    "duration": 572,
    "start_time": "2022-03-21T11:23:25.885Z"
   },
   {
    "duration": 509,
    "start_time": "2022-03-21T11:23:26.459Z"
   },
   {
    "duration": 596,
    "start_time": "2022-03-21T11:23:26.971Z"
   },
   {
    "duration": 586,
    "start_time": "2022-03-21T11:23:27.570Z"
   },
   {
    "duration": 26,
    "start_time": "2022-03-21T11:23:28.160Z"
   },
   {
    "duration": 409,
    "start_time": "2022-03-21T11:23:28.188Z"
   },
   {
    "duration": 8,
    "start_time": "2022-03-21T11:23:28.599Z"
   },
   {
    "duration": 109,
    "start_time": "2022-03-21T11:23:28.614Z"
   },
   {
    "duration": 95,
    "start_time": "2022-03-21T11:23:28.725Z"
   },
   {
    "duration": 201,
    "start_time": "2022-03-21T11:23:28.822Z"
   },
   {
    "duration": 92,
    "start_time": "2022-03-21T11:23:29.026Z"
   },
   {
    "duration": 66,
    "start_time": "2022-03-21T11:23:29.121Z"
   },
   {
    "duration": 308,
    "start_time": "2022-03-21T11:23:29.190Z"
   },
   {
    "duration": 10,
    "start_time": "2022-03-21T11:23:29.500Z"
   },
   {
    "duration": 31,
    "start_time": "2022-03-21T11:23:29.512Z"
   },
   {
    "duration": 42,
    "start_time": "2022-03-21T11:23:29.545Z"
   },
   {
    "duration": 14,
    "start_time": "2022-03-21T11:23:29.589Z"
   },
   {
    "duration": 15,
    "start_time": "2022-03-21T11:23:29.605Z"
   },
   {
    "duration": 33,
    "start_time": "2022-03-21T11:23:29.622Z"
   },
   {
    "duration": 22,
    "start_time": "2022-03-21T11:23:29.684Z"
   },
   {
    "duration": 742,
    "start_time": "2022-03-21T11:23:29.708Z"
   },
   {
    "duration": 534,
    "start_time": "2022-03-21T11:23:30.453Z"
   },
   {
    "duration": 13,
    "start_time": "2022-03-21T11:24:46.338Z"
   },
   {
    "duration": 1639,
    "start_time": "2022-03-21T11:25:02.072Z"
   },
   {
    "duration": 32,
    "start_time": "2022-03-21T11:25:03.713Z"
   },
   {
    "duration": 33,
    "start_time": "2022-03-21T11:25:03.749Z"
   },
   {
    "duration": 5,
    "start_time": "2022-03-21T11:25:03.785Z"
   },
   {
    "duration": 13,
    "start_time": "2022-03-21T11:25:03.794Z"
   },
   {
    "duration": 14,
    "start_time": "2022-03-21T11:25:03.810Z"
   },
   {
    "duration": 38,
    "start_time": "2022-03-21T11:25:03.827Z"
   },
   {
    "duration": 21,
    "start_time": "2022-03-21T11:25:03.883Z"
   },
   {
    "duration": 25,
    "start_time": "2022-03-21T11:25:03.906Z"
   },
   {
    "duration": 22,
    "start_time": "2022-03-21T11:25:03.934Z"
   },
   {
    "duration": 40,
    "start_time": "2022-03-21T11:25:03.958Z"
   },
   {
    "duration": 33,
    "start_time": "2022-03-21T11:25:04.001Z"
   },
   {
    "duration": 18,
    "start_time": "2022-03-21T11:25:04.039Z"
   },
   {
    "duration": 22,
    "start_time": "2022-03-21T11:25:04.061Z"
   },
   {
    "duration": 13,
    "start_time": "2022-03-21T11:25:04.086Z"
   },
   {
    "duration": 9,
    "start_time": "2022-03-21T11:25:04.103Z"
   },
   {
    "duration": 7,
    "start_time": "2022-03-21T11:25:04.116Z"
   },
   {
    "duration": 18,
    "start_time": "2022-03-21T11:25:04.126Z"
   },
   {
    "duration": 44,
    "start_time": "2022-03-21T11:25:04.147Z"
   },
   {
    "duration": 19,
    "start_time": "2022-03-21T11:25:04.194Z"
   },
   {
    "duration": 23,
    "start_time": "2022-03-21T11:25:04.215Z"
   },
   {
    "duration": 54,
    "start_time": "2022-03-21T11:25:04.241Z"
   },
   {
    "duration": 1106,
    "start_time": "2022-03-21T11:25:04.298Z"
   },
   {
    "duration": 14,
    "start_time": "2022-03-21T11:25:05.407Z"
   },
   {
    "duration": 478,
    "start_time": "2022-03-21T11:25:05.424Z"
   },
   {
    "duration": 256,
    "start_time": "2022-03-21T11:25:05.906Z"
   },
   {
    "duration": 10,
    "start_time": "2022-03-21T11:25:06.165Z"
   },
   {
    "duration": 780,
    "start_time": "2022-03-21T11:25:06.178Z"
   },
   {
    "duration": 910,
    "start_time": "2022-03-21T11:25:06.960Z"
   },
   {
    "duration": 36,
    "start_time": "2022-03-21T11:25:07.874Z"
   },
   {
    "duration": 8,
    "start_time": "2022-03-21T11:25:07.914Z"
   },
   {
    "duration": 10,
    "start_time": "2022-03-21T11:25:07.925Z"
   },
   {
    "duration": 10,
    "start_time": "2022-03-21T11:25:07.937Z"
   },
   {
    "duration": 577,
    "start_time": "2022-03-21T11:25:07.983Z"
   },
   {
    "duration": 829,
    "start_time": "2022-03-21T11:25:08.562Z"
   },
   {
    "duration": 581,
    "start_time": "2022-03-21T11:25:09.395Z"
   },
   {
    "duration": 668,
    "start_time": "2022-03-21T11:25:09.982Z"
   },
   {
    "duration": 10,
    "start_time": "2022-03-21T11:25:10.653Z"
   },
   {
    "duration": 431,
    "start_time": "2022-03-21T11:25:10.682Z"
   },
   {
    "duration": 9,
    "start_time": "2022-03-21T11:25:11.115Z"
   },
   {
    "duration": 131,
    "start_time": "2022-03-21T11:25:11.130Z"
   },
   {
    "duration": 113,
    "start_time": "2022-03-21T11:25:11.264Z"
   },
   {
    "duration": 197,
    "start_time": "2022-03-21T11:25:11.380Z"
   },
   {
    "duration": 85,
    "start_time": "2022-03-21T11:25:11.581Z"
   },
   {
    "duration": 59,
    "start_time": "2022-03-21T11:25:11.681Z"
   },
   {
    "duration": 325,
    "start_time": "2022-03-21T11:25:11.743Z"
   },
   {
    "duration": 8,
    "start_time": "2022-03-21T11:25:12.082Z"
   },
   {
    "duration": 43,
    "start_time": "2022-03-21T11:25:12.093Z"
   },
   {
    "duration": 26,
    "start_time": "2022-03-21T11:25:12.139Z"
   },
   {
    "duration": 58,
    "start_time": "2022-03-21T11:25:12.168Z"
   },
   {
    "duration": 26,
    "start_time": "2022-03-21T11:25:12.230Z"
   },
   {
    "duration": 72,
    "start_time": "2022-03-21T11:25:12.259Z"
   },
   {
    "duration": 21,
    "start_time": "2022-03-21T11:25:12.334Z"
   },
   {
    "duration": 458,
    "start_time": "2022-03-21T11:25:12.357Z"
   },
   {
    "duration": 545,
    "start_time": "2022-03-21T11:25:12.817Z"
   },
   {
    "duration": 1810,
    "start_time": "2022-03-22T06:11:22.094Z"
   },
   {
    "duration": 31,
    "start_time": "2022-03-22T06:11:23.907Z"
   },
   {
    "duration": 12,
    "start_time": "2022-03-22T06:11:23.941Z"
   },
   {
    "duration": 26,
    "start_time": "2022-03-22T06:11:23.958Z"
   },
   {
    "duration": 9,
    "start_time": "2022-03-22T06:11:23.986Z"
   },
   {
    "duration": 19,
    "start_time": "2022-03-22T06:11:23.997Z"
   },
   {
    "duration": 46,
    "start_time": "2022-03-22T06:11:24.019Z"
   },
   {
    "duration": 18,
    "start_time": "2022-03-22T06:11:24.067Z"
   },
   {
    "duration": 15,
    "start_time": "2022-03-22T06:11:24.087Z"
   },
   {
    "duration": 9,
    "start_time": "2022-03-22T06:11:24.107Z"
   },
   {
    "duration": 21,
    "start_time": "2022-03-22T06:11:24.119Z"
   },
   {
    "duration": 62,
    "start_time": "2022-03-22T06:11:24.143Z"
   },
   {
    "duration": 16,
    "start_time": "2022-03-22T06:11:24.207Z"
   },
   {
    "duration": 11,
    "start_time": "2022-03-22T06:11:24.225Z"
   },
   {
    "duration": 9,
    "start_time": "2022-03-22T06:11:24.238Z"
   },
   {
    "duration": 34,
    "start_time": "2022-03-22T06:11:24.250Z"
   },
   {
    "duration": 4,
    "start_time": "2022-03-22T06:11:24.286Z"
   },
   {
    "duration": 18,
    "start_time": "2022-03-22T06:11:24.292Z"
   },
   {
    "duration": 8,
    "start_time": "2022-03-22T06:11:24.312Z"
   },
   {
    "duration": 16,
    "start_time": "2022-03-22T06:11:24.322Z"
   },
   {
    "duration": 52,
    "start_time": "2022-03-22T06:11:24.340Z"
   },
   {
    "duration": 16,
    "start_time": "2022-03-22T06:11:24.395Z"
   },
   {
    "duration": 794,
    "start_time": "2022-03-22T06:11:24.413Z"
   },
   {
    "duration": 9,
    "start_time": "2022-03-22T06:11:25.209Z"
   },
   {
    "duration": 308,
    "start_time": "2022-03-22T06:11:25.220Z"
   },
   {
    "duration": 226,
    "start_time": "2022-03-22T06:11:25.530Z"
   },
   {
    "duration": 25,
    "start_time": "2022-03-22T06:11:25.759Z"
   },
   {
    "duration": 670,
    "start_time": "2022-03-22T06:11:25.789Z"
   },
   {
    "duration": 548,
    "start_time": "2022-03-22T06:11:26.461Z"
   },
   {
    "duration": 19,
    "start_time": "2022-03-22T06:11:27.012Z"
   },
   {
    "duration": 7,
    "start_time": "2022-03-22T06:11:27.033Z"
   },
   {
    "duration": 9,
    "start_time": "2022-03-22T06:11:27.043Z"
   },
   {
    "duration": 33,
    "start_time": "2022-03-22T06:11:27.054Z"
   },
   {
    "duration": 568,
    "start_time": "2022-03-22T06:11:27.090Z"
   },
   {
    "duration": 500,
    "start_time": "2022-03-22T06:11:27.660Z"
   },
   {
    "duration": 594,
    "start_time": "2022-03-22T06:11:28.163Z"
   },
   {
    "duration": 625,
    "start_time": "2022-03-22T06:11:28.759Z"
   },
   {
    "duration": 7,
    "start_time": "2022-03-22T06:11:29.386Z"
   },
   {
    "duration": 427,
    "start_time": "2022-03-22T06:11:29.396Z"
   },
   {
    "duration": 7,
    "start_time": "2022-03-22T06:11:29.826Z"
   },
   {
    "duration": 96,
    "start_time": "2022-03-22T06:11:29.835Z"
   },
   {
    "duration": 87,
    "start_time": "2022-03-22T06:11:29.934Z"
   },
   {
    "duration": 214,
    "start_time": "2022-03-22T06:11:30.024Z"
   },
   {
    "duration": 88,
    "start_time": "2022-03-22T06:11:30.240Z"
   },
   {
    "duration": 58,
    "start_time": "2022-03-22T06:11:30.331Z"
   },
   {
    "duration": 306,
    "start_time": "2022-03-22T06:11:30.391Z"
   },
   {
    "duration": 12,
    "start_time": "2022-03-22T06:11:30.700Z"
   },
   {
    "duration": 54,
    "start_time": "2022-03-22T06:11:30.714Z"
   },
   {
    "duration": 24,
    "start_time": "2022-03-22T06:11:30.771Z"
   },
   {
    "duration": 14,
    "start_time": "2022-03-22T06:11:30.797Z"
   },
   {
    "duration": 18,
    "start_time": "2022-03-22T06:11:30.813Z"
   },
   {
    "duration": 63,
    "start_time": "2022-03-22T06:11:30.833Z"
   },
   {
    "duration": 21,
    "start_time": "2022-03-22T06:11:30.899Z"
   },
   {
    "duration": 466,
    "start_time": "2022-03-22T06:11:30.922Z"
   },
   {
    "duration": 526,
    "start_time": "2022-03-22T06:11:31.390Z"
   },
   {
    "duration": 143,
    "start_time": "2022-03-22T06:21:24.008Z"
   },
   {
    "duration": 1414,
    "start_time": "2022-03-22T06:21:40.324Z"
   },
   {
    "duration": 31,
    "start_time": "2022-03-22T06:21:41.741Z"
   },
   {
    "duration": 12,
    "start_time": "2022-03-22T06:21:41.774Z"
   },
   {
    "duration": 5,
    "start_time": "2022-03-22T06:21:41.789Z"
   },
   {
    "duration": 10,
    "start_time": "2022-03-22T06:21:41.796Z"
   },
   {
    "duration": 9,
    "start_time": "2022-03-22T06:21:41.808Z"
   },
   {
    "duration": 36,
    "start_time": "2022-03-22T06:21:41.819Z"
   },
   {
    "duration": 39,
    "start_time": "2022-03-22T06:21:41.858Z"
   },
   {
    "duration": 9,
    "start_time": "2022-03-22T06:21:41.900Z"
   },
   {
    "duration": 9,
    "start_time": "2022-03-22T06:21:41.913Z"
   },
   {
    "duration": 19,
    "start_time": "2022-03-22T06:21:41.924Z"
   },
   {
    "duration": 50,
    "start_time": "2022-03-22T06:21:41.945Z"
   },
   {
    "duration": 17,
    "start_time": "2022-03-22T06:21:41.997Z"
   },
   {
    "duration": 11,
    "start_time": "2022-03-22T06:21:42.016Z"
   },
   {
    "duration": 10,
    "start_time": "2022-03-22T06:21:42.029Z"
   },
   {
    "duration": 44,
    "start_time": "2022-03-22T06:21:42.041Z"
   },
   {
    "duration": 10,
    "start_time": "2022-03-22T06:21:42.087Z"
   },
   {
    "duration": 14,
    "start_time": "2022-03-22T06:21:42.100Z"
   },
   {
    "duration": 8,
    "start_time": "2022-03-22T06:21:42.117Z"
   },
   {
    "duration": 19,
    "start_time": "2022-03-22T06:21:42.127Z"
   },
   {
    "duration": 46,
    "start_time": "2022-03-22T06:21:42.148Z"
   },
   {
    "duration": 18,
    "start_time": "2022-03-22T06:21:42.196Z"
   },
   {
    "duration": 774,
    "start_time": "2022-03-22T06:21:42.216Z"
   },
   {
    "duration": 8,
    "start_time": "2022-03-22T06:21:42.992Z"
   },
   {
    "duration": 301,
    "start_time": "2022-03-22T06:21:43.002Z"
   },
   {
    "duration": 229,
    "start_time": "2022-03-22T06:21:43.305Z"
   },
   {
    "duration": 17,
    "start_time": "2022-03-22T06:21:43.537Z"
   },
   {
    "duration": 683,
    "start_time": "2022-03-22T06:21:43.561Z"
   },
   {
    "duration": 541,
    "start_time": "2022-03-22T06:21:44.246Z"
   },
   {
    "duration": 18,
    "start_time": "2022-03-22T06:21:44.789Z"
   },
   {
    "duration": 24,
    "start_time": "2022-03-22T06:21:44.809Z"
   },
   {
    "duration": 21,
    "start_time": "2022-03-22T06:21:44.835Z"
   },
   {
    "duration": 22,
    "start_time": "2022-03-22T06:21:44.858Z"
   },
   {
    "duration": 560,
    "start_time": "2022-03-22T06:21:44.882Z"
   },
   {
    "duration": 502,
    "start_time": "2022-03-22T06:21:45.444Z"
   },
   {
    "duration": 154,
    "start_time": "2022-03-22T06:21:45.948Z"
   },
   {
    "duration": 0,
    "start_time": "2022-03-22T06:21:46.104Z"
   },
   {
    "duration": 0,
    "start_time": "2022-03-22T06:21:46.106Z"
   },
   {
    "duration": 0,
    "start_time": "2022-03-22T06:21:46.107Z"
   },
   {
    "duration": 0,
    "start_time": "2022-03-22T06:21:46.109Z"
   },
   {
    "duration": 0,
    "start_time": "2022-03-22T06:21:46.110Z"
   },
   {
    "duration": 0,
    "start_time": "2022-03-22T06:21:46.112Z"
   },
   {
    "duration": 0,
    "start_time": "2022-03-22T06:21:46.113Z"
   },
   {
    "duration": 0,
    "start_time": "2022-03-22T06:21:46.114Z"
   },
   {
    "duration": 0,
    "start_time": "2022-03-22T06:21:46.116Z"
   },
   {
    "duration": 0,
    "start_time": "2022-03-22T06:21:46.118Z"
   },
   {
    "duration": 0,
    "start_time": "2022-03-22T06:21:46.119Z"
   },
   {
    "duration": 0,
    "start_time": "2022-03-22T06:21:46.121Z"
   },
   {
    "duration": 0,
    "start_time": "2022-03-22T06:21:46.122Z"
   },
   {
    "duration": 0,
    "start_time": "2022-03-22T06:21:46.124Z"
   },
   {
    "duration": 0,
    "start_time": "2022-03-22T06:21:46.125Z"
   },
   {
    "duration": 0,
    "start_time": "2022-03-22T06:21:46.127Z"
   },
   {
    "duration": 0,
    "start_time": "2022-03-22T06:21:46.128Z"
   },
   {
    "duration": 0,
    "start_time": "2022-03-22T06:21:46.130Z"
   },
   {
    "duration": 0,
    "start_time": "2022-03-22T06:21:46.132Z"
   },
   {
    "duration": 0,
    "start_time": "2022-03-22T06:21:46.133Z"
   },
   {
    "duration": 434,
    "start_time": "2022-03-22T06:22:37.909Z"
   },
   {
    "duration": 16,
    "start_time": "2022-03-22T06:23:56.064Z"
   },
   {
    "duration": 439,
    "start_time": "2022-03-22T06:24:04.863Z"
   },
   {
    "duration": 595,
    "start_time": "2022-03-22T06:25:07.853Z"
   },
   {
    "duration": 446,
    "start_time": "2022-03-22T06:25:08.861Z"
   },
   {
    "duration": 1543,
    "start_time": "2022-03-22T06:26:10.530Z"
   },
   {
    "duration": 30,
    "start_time": "2022-03-22T06:26:12.076Z"
   },
   {
    "duration": 13,
    "start_time": "2022-03-22T06:26:12.109Z"
   },
   {
    "duration": 10,
    "start_time": "2022-03-22T06:26:12.125Z"
   },
   {
    "duration": 11,
    "start_time": "2022-03-22T06:26:12.138Z"
   },
   {
    "duration": 33,
    "start_time": "2022-03-22T06:26:12.152Z"
   },
   {
    "duration": 37,
    "start_time": "2022-03-22T06:26:12.188Z"
   },
   {
    "duration": 17,
    "start_time": "2022-03-22T06:26:12.228Z"
   },
   {
    "duration": 13,
    "start_time": "2022-03-22T06:26:12.248Z"
   },
   {
    "duration": 22,
    "start_time": "2022-03-22T06:26:12.267Z"
   },
   {
    "duration": 20,
    "start_time": "2022-03-22T06:26:12.292Z"
   },
   {
    "duration": 22,
    "start_time": "2022-03-22T06:26:12.315Z"
   },
   {
    "duration": 44,
    "start_time": "2022-03-22T06:26:12.340Z"
   },
   {
    "duration": 12,
    "start_time": "2022-03-22T06:26:12.387Z"
   },
   {
    "duration": 13,
    "start_time": "2022-03-22T06:26:12.402Z"
   },
   {
    "duration": 12,
    "start_time": "2022-03-22T06:26:12.417Z"
   },
   {
    "duration": 10,
    "start_time": "2022-03-22T06:26:12.431Z"
   },
   {
    "duration": 50,
    "start_time": "2022-03-22T06:26:12.443Z"
   },
   {
    "duration": 9,
    "start_time": "2022-03-22T06:26:12.495Z"
   },
   {
    "duration": 16,
    "start_time": "2022-03-22T06:26:12.506Z"
   },
   {
    "duration": 17,
    "start_time": "2022-03-22T06:26:12.525Z"
   },
   {
    "duration": 54,
    "start_time": "2022-03-22T06:26:12.544Z"
   },
   {
    "duration": 794,
    "start_time": "2022-03-22T06:26:12.600Z"
   },
   {
    "duration": 8,
    "start_time": "2022-03-22T06:26:13.397Z"
   },
   {
    "duration": 299,
    "start_time": "2022-03-22T06:26:13.407Z"
   },
   {
    "duration": 245,
    "start_time": "2022-03-22T06:26:13.709Z"
   },
   {
    "duration": 10,
    "start_time": "2022-03-22T06:26:13.956Z"
   },
   {
    "duration": 672,
    "start_time": "2022-03-22T06:26:13.987Z"
   },
   {
    "duration": 573,
    "start_time": "2022-03-22T06:26:14.661Z"
   },
   {
    "duration": 19,
    "start_time": "2022-03-22T06:26:15.236Z"
   },
   {
    "duration": 5,
    "start_time": "2022-03-22T06:26:15.258Z"
   },
   {
    "duration": 8,
    "start_time": "2022-03-22T06:26:15.285Z"
   },
   {
    "duration": 9,
    "start_time": "2022-03-22T06:26:15.295Z"
   },
   {
    "duration": 559,
    "start_time": "2022-03-22T06:26:15.306Z"
   },
   {
    "duration": 546,
    "start_time": "2022-03-22T06:26:15.868Z"
   },
   {
    "duration": 1200,
    "start_time": "2022-03-22T06:26:16.416Z"
   },
   {
    "duration": 1600,
    "start_time": "2022-03-22T06:26:17.619Z"
   },
   {
    "duration": 7,
    "start_time": "2022-03-22T06:26:19.221Z"
   },
   {
    "duration": 742,
    "start_time": "2022-03-22T06:26:19.286Z"
   },
   {
    "duration": 9,
    "start_time": "2022-03-22T06:26:20.032Z"
   },
   {
    "duration": 104,
    "start_time": "2022-03-22T06:26:20.044Z"
   },
   {
    "duration": 110,
    "start_time": "2022-03-22T06:26:20.150Z"
   },
   {
    "duration": 225,
    "start_time": "2022-03-22T06:26:20.263Z"
   },
   {
    "duration": 111,
    "start_time": "2022-03-22T06:26:20.491Z"
   },
   {
    "duration": 53,
    "start_time": "2022-03-22T06:26:20.605Z"
   },
   {
    "duration": 345,
    "start_time": "2022-03-22T06:26:20.660Z"
   },
   {
    "duration": 9,
    "start_time": "2022-03-22T06:26:21.008Z"
   },
   {
    "duration": 61,
    "start_time": "2022-03-22T06:26:21.021Z"
   },
   {
    "duration": 17,
    "start_time": "2022-03-22T06:26:21.085Z"
   },
   {
    "duration": 17,
    "start_time": "2022-03-22T06:26:21.105Z"
   },
   {
    "duration": 25,
    "start_time": "2022-03-22T06:26:21.124Z"
   },
   {
    "duration": 55,
    "start_time": "2022-03-22T06:26:21.151Z"
   },
   {
    "duration": 21,
    "start_time": "2022-03-22T06:26:21.209Z"
   },
   {
    "duration": 607,
    "start_time": "2022-03-22T06:26:21.232Z"
   },
   {
    "duration": 546,
    "start_time": "2022-03-22T06:26:21.841Z"
   },
   {
    "duration": 144,
    "start_time": "2022-03-22T06:29:00.411Z"
   },
   {
    "duration": 31,
    "start_time": "2022-03-22T06:30:19.131Z"
   },
   {
    "duration": 1855,
    "start_time": "2022-03-22T06:30:44.142Z"
   },
   {
    "duration": 32,
    "start_time": "2022-03-22T06:30:46.001Z"
   },
   {
    "duration": 12,
    "start_time": "2022-03-22T06:30:46.036Z"
   },
   {
    "duration": 9,
    "start_time": "2022-03-22T06:30:46.052Z"
   },
   {
    "duration": 26,
    "start_time": "2022-03-22T06:30:46.063Z"
   },
   {
    "duration": 11,
    "start_time": "2022-03-22T06:30:46.092Z"
   },
   {
    "duration": 34,
    "start_time": "2022-03-22T06:30:46.106Z"
   },
   {
    "duration": 17,
    "start_time": "2022-03-22T06:30:46.143Z"
   },
   {
    "duration": 11,
    "start_time": "2022-03-22T06:30:46.183Z"
   },
   {
    "duration": 10,
    "start_time": "2022-03-22T06:30:46.198Z"
   },
   {
    "duration": 24,
    "start_time": "2022-03-22T06:30:46.211Z"
   },
   {
    "duration": 51,
    "start_time": "2022-03-22T06:30:46.237Z"
   },
   {
    "duration": 16,
    "start_time": "2022-03-22T06:30:46.290Z"
   },
   {
    "duration": 12,
    "start_time": "2022-03-22T06:30:46.308Z"
   },
   {
    "duration": 11,
    "start_time": "2022-03-22T06:30:46.323Z"
   },
   {
    "duration": 13,
    "start_time": "2022-03-22T06:30:46.337Z"
   },
   {
    "duration": 36,
    "start_time": "2022-03-22T06:30:46.352Z"
   },
   {
    "duration": 15,
    "start_time": "2022-03-22T06:30:46.390Z"
   },
   {
    "duration": 9,
    "start_time": "2022-03-22T06:30:46.408Z"
   },
   {
    "duration": 15,
    "start_time": "2022-03-22T06:30:46.420Z"
   },
   {
    "duration": 62,
    "start_time": "2022-03-22T06:30:46.437Z"
   },
   {
    "duration": 18,
    "start_time": "2022-03-22T06:30:46.501Z"
   },
   {
    "duration": 756,
    "start_time": "2022-03-22T06:30:46.521Z"
   },
   {
    "duration": 9,
    "start_time": "2022-03-22T06:30:47.284Z"
   },
   {
    "duration": 299,
    "start_time": "2022-03-22T06:30:47.296Z"
   },
   {
    "duration": 229,
    "start_time": "2022-03-22T06:30:47.598Z"
   },
   {
    "duration": 11,
    "start_time": "2022-03-22T06:30:47.829Z"
   },
   {
    "duration": 708,
    "start_time": "2022-03-22T06:30:47.845Z"
   },
   {
    "duration": 762,
    "start_time": "2022-03-22T06:30:48.556Z"
   },
   {
    "duration": 19,
    "start_time": "2022-03-22T06:30:49.320Z"
   },
   {
    "duration": 11,
    "start_time": "2022-03-22T06:30:49.341Z"
   },
   {
    "duration": 30,
    "start_time": "2022-03-22T06:30:49.356Z"
   },
   {
    "duration": 11,
    "start_time": "2022-03-22T06:30:49.389Z"
   },
   {
    "duration": 642,
    "start_time": "2022-03-22T06:30:49.403Z"
   },
   {
    "duration": 622,
    "start_time": "2022-03-22T06:30:50.047Z"
   },
   {
    "duration": 588,
    "start_time": "2022-03-22T06:30:50.671Z"
   },
   {
    "duration": 580,
    "start_time": "2022-03-22T06:30:51.262Z"
   },
   {
    "duration": 8,
    "start_time": "2022-03-22T06:30:51.844Z"
   },
   {
    "duration": 424,
    "start_time": "2022-03-22T06:30:51.854Z"
   },
   {
    "duration": 8,
    "start_time": "2022-03-22T06:30:52.284Z"
   },
   {
    "duration": 105,
    "start_time": "2022-03-22T06:30:52.294Z"
   },
   {
    "duration": 92,
    "start_time": "2022-03-22T06:30:52.401Z"
   },
   {
    "duration": 205,
    "start_time": "2022-03-22T06:30:52.495Z"
   },
   {
    "duration": 92,
    "start_time": "2022-03-22T06:30:52.703Z"
   },
   {
    "duration": 40,
    "start_time": "2022-03-22T06:30:52.798Z"
   },
   {
    "duration": 306,
    "start_time": "2022-03-22T06:30:52.841Z"
   },
   {
    "duration": 11,
    "start_time": "2022-03-22T06:30:53.149Z"
   },
   {
    "duration": 46,
    "start_time": "2022-03-22T06:30:53.162Z"
   },
   {
    "duration": 16,
    "start_time": "2022-03-22T06:30:53.211Z"
   },
   {
    "duration": 15,
    "start_time": "2022-03-22T06:30:53.230Z"
   },
   {
    "duration": 13,
    "start_time": "2022-03-22T06:30:53.283Z"
   },
   {
    "duration": 33,
    "start_time": "2022-03-22T06:30:53.298Z"
   },
   {
    "duration": 57,
    "start_time": "2022-03-22T06:30:53.334Z"
   },
   {
    "duration": 458,
    "start_time": "2022-03-22T06:30:53.393Z"
   },
   {
    "duration": 810,
    "start_time": "2022-03-22T06:30:53.855Z"
   },
   {
    "duration": 31,
    "start_time": "2022-03-22T06:31:47.971Z"
   },
   {
    "duration": 108,
    "start_time": "2022-03-22T06:34:06.457Z"
   },
   {
    "duration": 2415,
    "start_time": "2022-03-22T07:45:00.245Z"
   },
   {
    "duration": 39,
    "start_time": "2022-03-22T07:45:02.664Z"
   },
   {
    "duration": 12,
    "start_time": "2022-03-22T07:45:02.706Z"
   },
   {
    "duration": 6,
    "start_time": "2022-03-22T07:45:02.722Z"
   },
   {
    "duration": 11,
    "start_time": "2022-03-22T07:45:02.731Z"
   },
   {
    "duration": 10,
    "start_time": "2022-03-22T07:45:02.768Z"
   },
   {
    "duration": 39,
    "start_time": "2022-03-22T07:45:02.781Z"
   },
   {
    "duration": 21,
    "start_time": "2022-03-22T07:45:02.823Z"
   },
   {
    "duration": 23,
    "start_time": "2022-03-22T07:45:02.847Z"
   },
   {
    "duration": 9,
    "start_time": "2022-03-22T07:45:02.874Z"
   },
   {
    "duration": 19,
    "start_time": "2022-03-22T07:45:02.885Z"
   },
   {
    "duration": 25,
    "start_time": "2022-03-22T07:45:02.906Z"
   },
   {
    "duration": 43,
    "start_time": "2022-03-22T07:45:02.933Z"
   },
   {
    "duration": 11,
    "start_time": "2022-03-22T07:45:02.978Z"
   },
   {
    "duration": 9,
    "start_time": "2022-03-22T07:45:02.992Z"
   },
   {
    "duration": 7,
    "start_time": "2022-03-22T07:45:03.003Z"
   },
   {
    "duration": 10,
    "start_time": "2022-03-22T07:45:03.012Z"
   },
   {
    "duration": 52,
    "start_time": "2022-03-22T07:45:03.024Z"
   },
   {
    "duration": 11,
    "start_time": "2022-03-22T07:45:03.079Z"
   },
   {
    "duration": 16,
    "start_time": "2022-03-22T07:45:03.093Z"
   },
   {
    "duration": 17,
    "start_time": "2022-03-22T07:45:03.112Z"
   },
   {
    "duration": 50,
    "start_time": "2022-03-22T07:45:03.131Z"
   },
   {
    "duration": 805,
    "start_time": "2022-03-22T07:45:03.183Z"
   },
   {
    "duration": 9,
    "start_time": "2022-03-22T07:45:03.991Z"
   },
   {
    "duration": 415,
    "start_time": "2022-03-22T07:45:04.003Z"
   },
   {
    "duration": 304,
    "start_time": "2022-03-22T07:45:04.421Z"
   },
   {
    "duration": 13,
    "start_time": "2022-03-22T07:45:04.728Z"
   },
   {
    "duration": 915,
    "start_time": "2022-03-22T07:45:04.769Z"
   },
   {
    "duration": 547,
    "start_time": "2022-03-22T07:45:05.687Z"
   },
   {
    "duration": 31,
    "start_time": "2022-03-22T07:45:06.236Z"
   },
   {
    "duration": 5,
    "start_time": "2022-03-22T07:45:06.270Z"
   },
   {
    "duration": 9,
    "start_time": "2022-03-22T07:45:06.277Z"
   },
   {
    "duration": 6,
    "start_time": "2022-03-22T07:45:06.288Z"
   },
   {
    "duration": 638,
    "start_time": "2022-03-22T07:45:06.296Z"
   },
   {
    "duration": 502,
    "start_time": "2022-03-22T07:45:06.938Z"
   },
   {
    "duration": 735,
    "start_time": "2022-03-22T07:45:07.443Z"
   },
   {
    "duration": 596,
    "start_time": "2022-03-22T07:45:08.181Z"
   },
   {
    "duration": 8,
    "start_time": "2022-03-22T07:45:08.779Z"
   },
   {
    "duration": 411,
    "start_time": "2022-03-22T07:45:08.789Z"
   },
   {
    "duration": 8,
    "start_time": "2022-03-22T07:45:09.203Z"
   },
   {
    "duration": 102,
    "start_time": "2022-03-22T07:45:09.213Z"
   },
   {
    "duration": 93,
    "start_time": "2022-03-22T07:45:09.317Z"
   },
   {
    "duration": 199,
    "start_time": "2022-03-22T07:45:09.412Z"
   },
   {
    "duration": 92,
    "start_time": "2022-03-22T07:45:09.614Z"
   },
   {
    "duration": 48,
    "start_time": "2022-03-22T07:45:09.708Z"
   },
   {
    "duration": 431,
    "start_time": "2022-03-22T07:45:09.769Z"
   },
   {
    "duration": 12,
    "start_time": "2022-03-22T07:45:10.203Z"
   },
   {
    "duration": 70,
    "start_time": "2022-03-22T07:45:10.218Z"
   },
   {
    "duration": 16,
    "start_time": "2022-03-22T07:45:10.290Z"
   },
   {
    "duration": 12,
    "start_time": "2022-03-22T07:45:10.311Z"
   },
   {
    "duration": 41,
    "start_time": "2022-03-22T07:45:10.326Z"
   },
   {
    "duration": 30,
    "start_time": "2022-03-22T07:45:10.370Z"
   },
   {
    "duration": 21,
    "start_time": "2022-03-22T07:45:10.402Z"
   },
   {
    "duration": 454,
    "start_time": "2022-03-22T07:45:10.425Z"
   },
   {
    "duration": 512,
    "start_time": "2022-03-22T07:45:10.881Z"
   },
   {
    "duration": 14,
    "start_time": "2022-03-22T07:48:46.767Z"
   },
   {
    "duration": 1493,
    "start_time": "2022-03-22T07:49:25.357Z"
   },
   {
    "duration": 29,
    "start_time": "2022-03-22T07:49:26.853Z"
   },
   {
    "duration": 12,
    "start_time": "2022-03-22T07:49:26.885Z"
   },
   {
    "duration": 7,
    "start_time": "2022-03-22T07:49:26.899Z"
   },
   {
    "duration": 11,
    "start_time": "2022-03-22T07:49:26.910Z"
   },
   {
    "duration": 8,
    "start_time": "2022-03-22T07:49:26.923Z"
   },
   {
    "duration": 67,
    "start_time": "2022-03-22T07:49:26.935Z"
   },
   {
    "duration": 21,
    "start_time": "2022-03-22T07:49:27.005Z"
   },
   {
    "duration": 13,
    "start_time": "2022-03-22T07:49:27.029Z"
   },
   {
    "duration": 25,
    "start_time": "2022-03-22T07:49:27.044Z"
   },
   {
    "duration": 29,
    "start_time": "2022-03-22T07:49:27.072Z"
   },
   {
    "duration": 19,
    "start_time": "2022-03-22T07:49:27.104Z"
   },
   {
    "duration": 14,
    "start_time": "2022-03-22T07:49:27.125Z"
   },
   {
    "duration": 27,
    "start_time": "2022-03-22T07:49:27.144Z"
   },
   {
    "duration": 8,
    "start_time": "2022-03-22T07:49:27.174Z"
   },
   {
    "duration": 6,
    "start_time": "2022-03-22T07:49:27.184Z"
   },
   {
    "duration": 6,
    "start_time": "2022-03-22T07:49:27.192Z"
   },
   {
    "duration": 16,
    "start_time": "2022-03-22T07:49:27.200Z"
   },
   {
    "duration": 57,
    "start_time": "2022-03-22T07:49:27.218Z"
   },
   {
    "duration": 17,
    "start_time": "2022-03-22T07:49:27.278Z"
   },
   {
    "duration": 16,
    "start_time": "2022-03-22T07:49:27.298Z"
   },
   {
    "duration": 755,
    "start_time": "2022-03-22T07:49:27.317Z"
   },
   {
    "duration": 9,
    "start_time": "2022-03-22T07:49:28.075Z"
   },
   {
    "duration": 288,
    "start_time": "2022-03-22T07:49:28.086Z"
   },
   {
    "duration": 235,
    "start_time": "2022-03-22T07:49:28.376Z"
   },
   {
    "duration": 15,
    "start_time": "2022-03-22T07:49:28.613Z"
   },
   {
    "duration": 687,
    "start_time": "2022-03-22T07:49:28.630Z"
   },
   {
    "duration": 589,
    "start_time": "2022-03-22T07:49:29.319Z"
   },
   {
    "duration": 19,
    "start_time": "2022-03-22T07:49:29.911Z"
   },
   {
    "duration": 6,
    "start_time": "2022-03-22T07:49:29.932Z"
   },
   {
    "duration": 9,
    "start_time": "2022-03-22T07:49:29.967Z"
   },
   {
    "duration": 9,
    "start_time": "2022-03-22T07:49:29.978Z"
   },
   {
    "duration": 648,
    "start_time": "2022-03-22T07:49:29.989Z"
   },
   {
    "duration": 549,
    "start_time": "2022-03-22T07:49:30.639Z"
   },
   {
    "duration": 596,
    "start_time": "2022-03-22T07:49:31.191Z"
   },
   {
    "duration": 557,
    "start_time": "2022-03-22T07:49:31.789Z"
   },
   {
    "duration": 18,
    "start_time": "2022-03-22T07:49:32.349Z"
   },
   {
    "duration": 415,
    "start_time": "2022-03-22T07:49:32.369Z"
   },
   {
    "duration": 7,
    "start_time": "2022-03-22T07:49:32.787Z"
   },
   {
    "duration": 101,
    "start_time": "2022-03-22T07:49:32.796Z"
   },
   {
    "duration": 90,
    "start_time": "2022-03-22T07:49:32.903Z"
   },
   {
    "duration": 193,
    "start_time": "2022-03-22T07:49:32.995Z"
   },
   {
    "duration": 102,
    "start_time": "2022-03-22T07:49:33.190Z"
   },
   {
    "duration": 81,
    "start_time": "2022-03-22T07:49:33.297Z"
   },
   {
    "duration": 438,
    "start_time": "2022-03-22T07:49:33.381Z"
   },
   {
    "duration": 10,
    "start_time": "2022-03-22T07:49:33.822Z"
   },
   {
    "duration": 67,
    "start_time": "2022-03-22T07:49:33.835Z"
   },
   {
    "duration": 20,
    "start_time": "2022-03-22T07:49:33.905Z"
   },
   {
    "duration": 16,
    "start_time": "2022-03-22T07:49:33.927Z"
   },
   {
    "duration": 13,
    "start_time": "2022-03-22T07:49:33.968Z"
   },
   {
    "duration": 39,
    "start_time": "2022-03-22T07:49:33.983Z"
   },
   {
    "duration": 49,
    "start_time": "2022-03-22T07:49:34.024Z"
   },
   {
    "duration": 579,
    "start_time": "2022-03-22T07:49:34.075Z"
   },
   {
    "duration": 682,
    "start_time": "2022-03-22T07:49:34.657Z"
   },
   {
    "duration": 44,
    "start_time": "2022-03-22T07:51:11.227Z"
   },
   {
    "duration": 41,
    "start_time": "2022-03-22T07:51:16.128Z"
   },
   {
    "duration": 48,
    "start_time": "2022-03-22T07:51:28.939Z"
   },
   {
    "duration": 9,
    "start_time": "2022-03-22T07:51:51.167Z"
   },
   {
    "duration": 1524,
    "start_time": "2022-03-22T07:51:55.787Z"
   },
   {
    "duration": 25,
    "start_time": "2022-03-22T07:51:57.313Z"
   },
   {
    "duration": 12,
    "start_time": "2022-03-22T07:51:57.341Z"
   },
   {
    "duration": 22,
    "start_time": "2022-03-22T07:51:57.356Z"
   },
   {
    "duration": 35,
    "start_time": "2022-03-22T07:51:57.381Z"
   },
   {
    "duration": 39,
    "start_time": "2022-03-22T07:51:57.418Z"
   },
   {
    "duration": 75,
    "start_time": "2022-03-22T07:51:57.459Z"
   },
   {
    "duration": 23,
    "start_time": "2022-03-22T07:51:57.537Z"
   },
   {
    "duration": 29,
    "start_time": "2022-03-22T07:51:57.562Z"
   },
   {
    "duration": 45,
    "start_time": "2022-03-22T07:51:57.594Z"
   },
   {
    "duration": 78,
    "start_time": "2022-03-22T07:51:57.641Z"
   },
   {
    "duration": 54,
    "start_time": "2022-03-22T07:51:57.721Z"
   },
   {
    "duration": 29,
    "start_time": "2022-03-22T07:51:57.777Z"
   },
   {
    "duration": 28,
    "start_time": "2022-03-22T07:51:57.809Z"
   },
   {
    "duration": 33,
    "start_time": "2022-03-22T07:51:57.839Z"
   },
   {
    "duration": 8,
    "start_time": "2022-03-22T07:51:57.875Z"
   },
   {
    "duration": 30,
    "start_time": "2022-03-22T07:51:57.885Z"
   },
   {
    "duration": 34,
    "start_time": "2022-03-22T07:51:57.917Z"
   },
   {
    "duration": 22,
    "start_time": "2022-03-22T07:51:57.954Z"
   },
   {
    "duration": 38,
    "start_time": "2022-03-22T07:51:57.978Z"
   },
   {
    "duration": 37,
    "start_time": "2022-03-22T07:51:58.019Z"
   },
   {
    "duration": 31,
    "start_time": "2022-03-22T07:51:58.059Z"
   },
   {
    "duration": 756,
    "start_time": "2022-03-22T07:51:58.093Z"
   },
   {
    "duration": 19,
    "start_time": "2022-03-22T07:51:58.852Z"
   },
   {
    "duration": 293,
    "start_time": "2022-03-22T07:51:58.874Z"
   },
   {
    "duration": 228,
    "start_time": "2022-03-22T07:51:59.169Z"
   },
   {
    "duration": 11,
    "start_time": "2022-03-22T07:51:59.399Z"
   },
   {
    "duration": 708,
    "start_time": "2022-03-22T07:51:59.417Z"
   },
   {
    "duration": 550,
    "start_time": "2022-03-22T07:52:00.127Z"
   },
   {
    "duration": 19,
    "start_time": "2022-03-22T07:52:00.679Z"
   },
   {
    "duration": 7,
    "start_time": "2022-03-22T07:52:00.701Z"
   },
   {
    "duration": 13,
    "start_time": "2022-03-22T07:52:00.710Z"
   },
   {
    "duration": 45,
    "start_time": "2022-03-22T07:52:00.726Z"
   },
   {
    "duration": 549,
    "start_time": "2022-03-22T07:52:00.774Z"
   },
   {
    "duration": 512,
    "start_time": "2022-03-22T07:52:01.326Z"
   },
   {
    "duration": 575,
    "start_time": "2022-03-22T07:52:01.841Z"
   },
   {
    "duration": 702,
    "start_time": "2022-03-22T07:52:02.419Z"
   },
   {
    "duration": 8,
    "start_time": "2022-03-22T07:52:03.123Z"
   },
   {
    "duration": 417,
    "start_time": "2022-03-22T07:52:03.134Z"
   },
   {
    "duration": 20,
    "start_time": "2022-03-22T07:52:03.553Z"
   },
   {
    "duration": 93,
    "start_time": "2022-03-22T07:52:03.575Z"
   },
   {
    "duration": 78,
    "start_time": "2022-03-22T07:52:03.670Z"
   },
   {
    "duration": 224,
    "start_time": "2022-03-22T07:52:03.750Z"
   },
   {
    "duration": 94,
    "start_time": "2022-03-22T07:52:03.976Z"
   },
   {
    "duration": 58,
    "start_time": "2022-03-22T07:52:04.073Z"
   },
   {
    "duration": 278,
    "start_time": "2022-03-22T07:52:04.133Z"
   },
   {
    "duration": 9,
    "start_time": "2022-03-22T07:52:04.413Z"
   },
   {
    "duration": 47,
    "start_time": "2022-03-22T07:52:04.424Z"
   },
   {
    "duration": 15,
    "start_time": "2022-03-22T07:52:04.473Z"
   },
   {
    "duration": 12,
    "start_time": "2022-03-22T07:52:04.491Z"
   },
   {
    "duration": 13,
    "start_time": "2022-03-22T07:52:04.506Z"
   },
   {
    "duration": 72,
    "start_time": "2022-03-22T07:52:04.522Z"
   },
   {
    "duration": 20,
    "start_time": "2022-03-22T07:52:04.596Z"
   },
   {
    "duration": 457,
    "start_time": "2022-03-22T07:52:04.618Z"
   },
   {
    "duration": 533,
    "start_time": "2022-03-22T07:52:05.079Z"
   },
   {
    "duration": 117,
    "start_time": "2022-03-22T08:13:43.828Z"
   },
   {
    "duration": 1607,
    "start_time": "2022-03-22T08:31:47.499Z"
   },
   {
    "duration": 27,
    "start_time": "2022-03-22T08:31:49.109Z"
   },
   {
    "duration": 12,
    "start_time": "2022-03-22T08:31:49.139Z"
   },
   {
    "duration": 50,
    "start_time": "2022-03-22T08:31:49.153Z"
   },
   {
    "duration": 41,
    "start_time": "2022-03-22T08:31:49.206Z"
   },
   {
    "duration": 36,
    "start_time": "2022-03-22T08:31:49.249Z"
   },
   {
    "duration": 66,
    "start_time": "2022-03-22T08:31:49.288Z"
   },
   {
    "duration": 19,
    "start_time": "2022-03-22T08:31:49.356Z"
   },
   {
    "duration": 25,
    "start_time": "2022-03-22T08:31:49.378Z"
   },
   {
    "duration": 25,
    "start_time": "2022-03-22T08:31:49.406Z"
   },
   {
    "duration": 23,
    "start_time": "2022-03-22T08:31:49.433Z"
   },
   {
    "duration": 49,
    "start_time": "2022-03-22T08:31:49.459Z"
   },
   {
    "duration": 14,
    "start_time": "2022-03-22T08:31:49.511Z"
   },
   {
    "duration": 17,
    "start_time": "2022-03-22T08:31:49.529Z"
   },
   {
    "duration": 35,
    "start_time": "2022-03-22T08:31:49.548Z"
   },
   {
    "duration": 18,
    "start_time": "2022-03-22T08:31:49.588Z"
   },
   {
    "duration": 33,
    "start_time": "2022-03-22T08:31:49.610Z"
   },
   {
    "duration": 18,
    "start_time": "2022-03-22T08:31:49.646Z"
   },
   {
    "duration": 27,
    "start_time": "2022-03-22T08:31:49.666Z"
   },
   {
    "duration": 24,
    "start_time": "2022-03-22T08:31:49.696Z"
   },
   {
    "duration": 27,
    "start_time": "2022-03-22T08:31:49.723Z"
   },
   {
    "duration": 35,
    "start_time": "2022-03-22T08:31:49.752Z"
   },
   {
    "duration": 821,
    "start_time": "2022-03-22T08:31:49.790Z"
   },
   {
    "duration": 9,
    "start_time": "2022-03-22T08:31:50.613Z"
   },
   {
    "duration": 371,
    "start_time": "2022-03-22T08:31:50.626Z"
   },
   {
    "duration": 235,
    "start_time": "2022-03-22T08:31:51.000Z"
   },
   {
    "duration": 9,
    "start_time": "2022-03-22T08:31:51.237Z"
   },
   {
    "duration": 912,
    "start_time": "2022-03-22T08:31:51.249Z"
   },
   {
    "duration": 589,
    "start_time": "2022-03-22T08:31:52.163Z"
   },
   {
    "duration": 47,
    "start_time": "2022-03-22T08:31:52.755Z"
   },
   {
    "duration": 6,
    "start_time": "2022-03-22T08:31:52.804Z"
   },
   {
    "duration": 13,
    "start_time": "2022-03-22T08:31:52.812Z"
   },
   {
    "duration": 10,
    "start_time": "2022-03-22T08:31:52.827Z"
   },
   {
    "duration": 754,
    "start_time": "2022-03-22T08:31:52.839Z"
   },
   {
    "duration": 534,
    "start_time": "2022-03-22T08:31:53.595Z"
   },
   {
    "duration": 690,
    "start_time": "2022-03-22T08:31:54.132Z"
   },
   {
    "duration": 646,
    "start_time": "2022-03-22T08:31:54.824Z"
   },
   {
    "duration": 16,
    "start_time": "2022-03-22T08:31:55.472Z"
   },
   {
    "duration": 582,
    "start_time": "2022-03-22T08:31:55.491Z"
   },
   {
    "duration": 8,
    "start_time": "2022-03-22T08:31:56.076Z"
   },
   {
    "duration": 102,
    "start_time": "2022-03-22T08:31:56.090Z"
   },
   {
    "duration": 100,
    "start_time": "2022-03-22T08:31:56.194Z"
   },
   {
    "duration": 210,
    "start_time": "2022-03-22T08:31:56.297Z"
   },
   {
    "duration": 106,
    "start_time": "2022-03-22T08:31:56.510Z"
   },
   {
    "duration": 77,
    "start_time": "2022-03-22T08:31:56.619Z"
   },
   {
    "duration": 324,
    "start_time": "2022-03-22T08:31:56.699Z"
   },
   {
    "duration": 14,
    "start_time": "2022-03-22T08:31:57.025Z"
   },
   {
    "duration": 53,
    "start_time": "2022-03-22T08:31:57.041Z"
   },
   {
    "duration": 18,
    "start_time": "2022-03-22T08:31:57.096Z"
   },
   {
    "duration": 13,
    "start_time": "2022-03-22T08:31:57.117Z"
   },
   {
    "duration": 47,
    "start_time": "2022-03-22T08:31:57.133Z"
   },
   {
    "duration": 41,
    "start_time": "2022-03-22T08:31:57.183Z"
   },
   {
    "duration": 41,
    "start_time": "2022-03-22T08:31:57.227Z"
   },
   {
    "duration": 468,
    "start_time": "2022-03-22T08:31:57.271Z"
   },
   {
    "duration": 620,
    "start_time": "2022-03-22T08:31:57.741Z"
   },
   {
    "duration": 593,
    "start_time": "2022-03-22T08:51:04.539Z"
   },
   {
    "duration": 554,
    "start_time": "2022-03-22T08:51:10.371Z"
   },
   {
    "duration": 528,
    "start_time": "2022-03-22T08:51:19.312Z"
   },
   {
    "duration": 487,
    "start_time": "2022-03-22T08:51:26.261Z"
   },
   {
    "duration": 500,
    "start_time": "2022-03-22T08:51:32.999Z"
   },
   {
    "duration": 129,
    "start_time": "2022-03-22T09:31:22.893Z"
   },
   {
    "duration": 16,
    "start_time": "2022-03-22T09:31:31.196Z"
   },
   {
    "duration": 1581,
    "start_time": "2022-03-22T09:31:37.614Z"
   },
   {
    "duration": 46,
    "start_time": "2022-03-22T09:31:39.198Z"
   },
   {
    "duration": 14,
    "start_time": "2022-03-22T09:31:39.246Z"
   },
   {
    "duration": 7,
    "start_time": "2022-03-22T09:31:39.264Z"
   },
   {
    "duration": 14,
    "start_time": "2022-03-22T09:31:39.274Z"
   },
   {
    "duration": 9,
    "start_time": "2022-03-22T09:31:39.290Z"
   },
   {
    "duration": 59,
    "start_time": "2022-03-22T09:31:39.302Z"
   },
   {
    "duration": 18,
    "start_time": "2022-03-22T09:31:39.363Z"
   },
   {
    "duration": 11,
    "start_time": "2022-03-22T09:31:39.383Z"
   },
   {
    "duration": 11,
    "start_time": "2022-03-22T09:31:39.402Z"
   },
   {
    "duration": 52,
    "start_time": "2022-03-22T09:31:39.416Z"
   },
   {
    "duration": 33,
    "start_time": "2022-03-22T09:31:39.472Z"
   },
   {
    "duration": 17,
    "start_time": "2022-03-22T09:31:39.507Z"
   },
   {
    "duration": 21,
    "start_time": "2022-03-22T09:31:39.527Z"
   },
   {
    "duration": 20,
    "start_time": "2022-03-22T09:31:39.551Z"
   },
   {
    "duration": 6,
    "start_time": "2022-03-22T09:31:39.574Z"
   },
   {
    "duration": 9,
    "start_time": "2022-03-22T09:31:39.582Z"
   },
   {
    "duration": 16,
    "start_time": "2022-03-22T09:31:39.593Z"
   },
   {
    "duration": 57,
    "start_time": "2022-03-22T09:31:39.611Z"
   },
   {
    "duration": 18,
    "start_time": "2022-03-22T09:31:39.670Z"
   },
   {
    "duration": 23,
    "start_time": "2022-03-22T09:31:39.691Z"
   },
   {
    "duration": 18,
    "start_time": "2022-03-22T09:31:39.717Z"
   },
   {
    "duration": 750,
    "start_time": "2022-03-22T09:31:39.767Z"
   },
   {
    "duration": 10,
    "start_time": "2022-03-22T09:31:40.521Z"
   },
   {
    "duration": 319,
    "start_time": "2022-03-22T09:31:40.534Z"
   },
   {
    "duration": 299,
    "start_time": "2022-03-22T09:31:40.856Z"
   },
   {
    "duration": 14,
    "start_time": "2022-03-22T09:31:41.166Z"
   },
   {
    "duration": 936,
    "start_time": "2022-03-22T09:31:41.188Z"
   },
   {
    "duration": 753,
    "start_time": "2022-03-22T09:31:42.128Z"
   },
   {
    "duration": 24,
    "start_time": "2022-03-22T09:31:42.885Z"
   },
   {
    "duration": 6,
    "start_time": "2022-03-22T09:31:42.912Z"
   },
   {
    "duration": 46,
    "start_time": "2022-03-22T09:31:42.921Z"
   },
   {
    "duration": 8,
    "start_time": "2022-03-22T09:31:42.970Z"
   },
   {
    "duration": 825,
    "start_time": "2022-03-22T09:31:42.981Z"
   },
   {
    "duration": 626,
    "start_time": "2022-03-22T09:31:43.809Z"
   },
   {
    "duration": 630,
    "start_time": "2022-03-22T09:31:44.438Z"
   },
   {
    "duration": 886,
    "start_time": "2022-03-22T09:31:45.071Z"
   },
   {
    "duration": 13,
    "start_time": "2022-03-22T09:31:45.959Z"
   },
   {
    "duration": 466,
    "start_time": "2022-03-22T09:31:45.975Z"
   },
   {
    "duration": 8,
    "start_time": "2022-03-22T09:31:46.445Z"
   },
   {
    "duration": 84,
    "start_time": "2022-03-22T09:31:46.483Z"
   },
   {
    "duration": 120,
    "start_time": "2022-03-22T09:31:46.570Z"
   },
   {
    "duration": 292,
    "start_time": "2022-03-22T09:31:46.693Z"
   },
   {
    "duration": 107,
    "start_time": "2022-03-22T09:31:46.988Z"
   },
   {
    "duration": 89,
    "start_time": "2022-03-22T09:31:47.098Z"
   },
   {
    "duration": 436,
    "start_time": "2022-03-22T09:31:47.190Z"
   },
   {
    "duration": 13,
    "start_time": "2022-03-22T09:31:47.629Z"
   },
   {
    "duration": 78,
    "start_time": "2022-03-22T09:31:47.645Z"
   },
   {
    "duration": 20,
    "start_time": "2022-03-22T09:31:47.726Z"
   },
   {
    "duration": 21,
    "start_time": "2022-03-22T09:31:47.769Z"
   },
   {
    "duration": 18,
    "start_time": "2022-03-22T09:31:47.793Z"
   },
   {
    "duration": 79,
    "start_time": "2022-03-22T09:31:47.815Z"
   },
   {
    "duration": 31,
    "start_time": "2022-03-22T09:31:47.897Z"
   },
   {
    "duration": 737,
    "start_time": "2022-03-22T09:31:47.930Z"
   },
   {
    "duration": 719,
    "start_time": "2022-03-22T09:31:48.671Z"
   },
   {
    "duration": 1202,
    "start_time": "2022-03-23T13:01:41.444Z"
   },
   {
    "duration": 35,
    "start_time": "2022-03-23T13:01:42.648Z"
   },
   {
    "duration": 7,
    "start_time": "2022-03-23T13:01:42.685Z"
   },
   {
    "duration": 5,
    "start_time": "2022-03-23T13:01:42.694Z"
   },
   {
    "duration": 9,
    "start_time": "2022-03-23T13:01:42.700Z"
   },
   {
    "duration": 7,
    "start_time": "2022-03-23T13:01:42.710Z"
   },
   {
    "duration": 74,
    "start_time": "2022-03-23T13:01:42.719Z"
   },
   {
    "duration": 10,
    "start_time": "2022-03-23T13:01:42.794Z"
   },
   {
    "duration": 8,
    "start_time": "2022-03-23T13:01:42.806Z"
   },
   {
    "duration": 5,
    "start_time": "2022-03-23T13:01:42.816Z"
   },
   {
    "duration": 13,
    "start_time": "2022-03-23T13:01:42.823Z"
   },
   {
    "duration": 23,
    "start_time": "2022-03-23T13:01:42.837Z"
   },
   {
    "duration": 10,
    "start_time": "2022-03-23T13:01:42.861Z"
   },
   {
    "duration": 6,
    "start_time": "2022-03-23T13:01:42.881Z"
   },
   {
    "duration": 9,
    "start_time": "2022-03-23T13:01:42.888Z"
   },
   {
    "duration": 7,
    "start_time": "2022-03-23T13:01:42.898Z"
   },
   {
    "duration": 5,
    "start_time": "2022-03-23T13:01:42.907Z"
   },
   {
    "duration": 11,
    "start_time": "2022-03-23T13:01:42.914Z"
   },
   {
    "duration": 5,
    "start_time": "2022-03-23T13:01:42.926Z"
   },
   {
    "duration": 9,
    "start_time": "2022-03-23T13:01:42.932Z"
   },
   {
    "duration": 45,
    "start_time": "2022-03-23T13:01:42.942Z"
   },
   {
    "duration": 11,
    "start_time": "2022-03-23T13:01:42.988Z"
   },
   {
    "duration": 420,
    "start_time": "2022-03-23T13:01:43.001Z"
   },
   {
    "duration": 6,
    "start_time": "2022-03-23T13:01:43.423Z"
   },
   {
    "duration": 164,
    "start_time": "2022-03-23T13:01:43.431Z"
   },
   {
    "duration": 130,
    "start_time": "2022-03-23T13:01:43.596Z"
   },
   {
    "duration": 6,
    "start_time": "2022-03-23T13:01:43.728Z"
   },
   {
    "duration": 369,
    "start_time": "2022-03-23T13:01:43.737Z"
   },
   {
    "duration": 288,
    "start_time": "2022-03-23T13:01:44.108Z"
   },
   {
    "duration": 12,
    "start_time": "2022-03-23T13:01:44.397Z"
   },
   {
    "duration": 7,
    "start_time": "2022-03-23T13:01:44.411Z"
   },
   {
    "duration": 9,
    "start_time": "2022-03-23T13:01:44.420Z"
   },
   {
    "duration": 9,
    "start_time": "2022-03-23T13:01:44.430Z"
   },
   {
    "duration": 398,
    "start_time": "2022-03-23T13:01:44.441Z"
   },
   {
    "duration": 276,
    "start_time": "2022-03-23T13:01:44.841Z"
   },
   {
    "duration": 337,
    "start_time": "2022-03-23T13:01:45.119Z"
   },
   {
    "duration": 302,
    "start_time": "2022-03-23T13:01:45.458Z"
   },
   {
    "duration": 6,
    "start_time": "2022-03-23T13:01:45.762Z"
   },
   {
    "duration": 242,
    "start_time": "2022-03-23T13:01:45.780Z"
   },
   {
    "duration": 5,
    "start_time": "2022-03-23T13:01:46.024Z"
   },
   {
    "duration": 62,
    "start_time": "2022-03-23T13:01:46.031Z"
   },
   {
    "duration": 51,
    "start_time": "2022-03-23T13:01:46.095Z"
   },
   {
    "duration": 186,
    "start_time": "2022-03-23T13:01:46.148Z"
   },
   {
    "duration": 83,
    "start_time": "2022-03-23T13:01:46.337Z"
   },
   {
    "duration": 40,
    "start_time": "2022-03-23T13:01:46.422Z"
   },
   {
    "duration": 147,
    "start_time": "2022-03-23T13:01:46.464Z"
   },
   {
    "duration": 6,
    "start_time": "2022-03-23T13:01:46.613Z"
   },
   {
    "duration": 30,
    "start_time": "2022-03-23T13:01:46.620Z"
   },
   {
    "duration": 29,
    "start_time": "2022-03-23T13:01:46.652Z"
   },
   {
    "duration": 11,
    "start_time": "2022-03-23T13:01:46.683Z"
   },
   {
    "duration": 7,
    "start_time": "2022-03-23T13:01:46.696Z"
   },
   {
    "duration": 24,
    "start_time": "2022-03-23T13:01:46.704Z"
   },
   {
    "duration": 12,
    "start_time": "2022-03-23T13:01:46.730Z"
   },
   {
    "duration": 249,
    "start_time": "2022-03-23T13:01:46.745Z"
   },
   {
    "duration": 274,
    "start_time": "2022-03-23T13:01:46.995Z"
   },
   {
    "duration": 1309,
    "start_time": "2022-03-23T13:12:15.766Z"
   },
   {
    "duration": 24,
    "start_time": "2022-03-23T13:12:17.077Z"
   },
   {
    "duration": 8,
    "start_time": "2022-03-23T13:12:17.106Z"
   },
   {
    "duration": 23,
    "start_time": "2022-03-23T13:12:17.115Z"
   },
   {
    "duration": 16,
    "start_time": "2022-03-23T13:12:17.139Z"
   },
   {
    "duration": 10,
    "start_time": "2022-03-23T13:12:17.157Z"
   },
   {
    "duration": 59,
    "start_time": "2022-03-23T13:12:17.169Z"
   },
   {
    "duration": 9,
    "start_time": "2022-03-23T13:12:17.230Z"
   },
   {
    "duration": 28,
    "start_time": "2022-03-23T13:12:17.241Z"
   },
   {
    "duration": 36,
    "start_time": "2022-03-23T13:12:17.270Z"
   },
   {
    "duration": 28,
    "start_time": "2022-03-23T13:12:17.308Z"
   },
   {
    "duration": 28,
    "start_time": "2022-03-23T13:12:17.338Z"
   },
   {
    "duration": 14,
    "start_time": "2022-03-23T13:12:17.368Z"
   },
   {
    "duration": 15,
    "start_time": "2022-03-23T13:12:17.384Z"
   },
   {
    "duration": 28,
    "start_time": "2022-03-23T13:12:17.401Z"
   },
   {
    "duration": 15,
    "start_time": "2022-03-23T13:12:17.430Z"
   },
   {
    "duration": 25,
    "start_time": "2022-03-23T13:12:17.447Z"
   },
   {
    "duration": 15,
    "start_time": "2022-03-23T13:12:17.473Z"
   },
   {
    "duration": 15,
    "start_time": "2022-03-23T13:12:17.489Z"
   },
   {
    "duration": 20,
    "start_time": "2022-03-23T13:12:17.505Z"
   },
   {
    "duration": 22,
    "start_time": "2022-03-23T13:12:17.527Z"
   },
   {
    "duration": 11,
    "start_time": "2022-03-23T13:12:17.550Z"
   },
   {
    "duration": 465,
    "start_time": "2022-03-23T13:12:17.562Z"
   },
   {
    "duration": 6,
    "start_time": "2022-03-23T13:12:18.081Z"
   },
   {
    "duration": 317,
    "start_time": "2022-03-23T13:12:18.089Z"
   },
   {
    "duration": 274,
    "start_time": "2022-03-23T13:12:18.407Z"
   },
   {
    "duration": 7,
    "start_time": "2022-03-23T13:12:18.685Z"
   },
   {
    "duration": 709,
    "start_time": "2022-03-23T13:12:18.694Z"
   },
   {
    "duration": 589,
    "start_time": "2022-03-23T13:12:19.405Z"
   },
   {
    "duration": 13,
    "start_time": "2022-03-23T13:12:19.995Z"
   },
   {
    "duration": 18,
    "start_time": "2022-03-23T13:12:20.009Z"
   },
   {
    "duration": 55,
    "start_time": "2022-03-23T13:12:20.029Z"
   },
   {
    "duration": 21,
    "start_time": "2022-03-23T13:12:20.086Z"
   },
   {
    "duration": 910,
    "start_time": "2022-03-23T13:12:20.109Z"
   },
   {
    "duration": 579,
    "start_time": "2022-03-23T13:12:21.021Z"
   },
   {
    "duration": 503,
    "start_time": "2022-03-23T13:12:21.602Z"
   },
   {
    "duration": 297,
    "start_time": "2022-03-23T13:12:22.107Z"
   },
   {
    "duration": 5,
    "start_time": "2022-03-23T13:12:22.406Z"
   },
   {
    "duration": 249,
    "start_time": "2022-03-23T13:12:22.413Z"
   },
   {
    "duration": 6,
    "start_time": "2022-03-23T13:12:22.663Z"
   },
   {
    "duration": 66,
    "start_time": "2022-03-23T13:12:22.681Z"
   },
   {
    "duration": 45,
    "start_time": "2022-03-23T13:12:22.749Z"
   },
   {
    "duration": 117,
    "start_time": "2022-03-23T13:12:22.796Z"
   },
   {
    "duration": 46,
    "start_time": "2022-03-23T13:12:22.915Z"
   },
   {
    "duration": 40,
    "start_time": "2022-03-23T13:12:22.963Z"
   },
   {
    "duration": 121,
    "start_time": "2022-03-23T13:12:23.005Z"
   },
   {
    "duration": 7,
    "start_time": "2022-03-23T13:12:23.127Z"
   },
   {
    "duration": 48,
    "start_time": "2022-03-23T13:12:23.136Z"
   },
   {
    "duration": 13,
    "start_time": "2022-03-23T13:12:23.186Z"
   },
   {
    "duration": 12,
    "start_time": "2022-03-23T13:12:23.201Z"
   },
   {
    "duration": 10,
    "start_time": "2022-03-23T13:12:23.215Z"
   },
   {
    "duration": 64,
    "start_time": "2022-03-23T13:12:23.227Z"
   },
   {
    "duration": 16,
    "start_time": "2022-03-23T13:12:23.293Z"
   },
   {
    "duration": 245,
    "start_time": "2022-03-23T13:12:23.311Z"
   },
   {
    "duration": 270,
    "start_time": "2022-03-23T13:12:23.558Z"
   },
   {
    "duration": 232,
    "start_time": "2022-03-23T13:19:41.709Z"
   },
   {
    "duration": 1883,
    "start_time": "2022-03-23T13:27:34.269Z"
   },
   {
    "duration": 27,
    "start_time": "2022-03-23T13:27:36.154Z"
   },
   {
    "duration": 13,
    "start_time": "2022-03-23T13:27:36.183Z"
   },
   {
    "duration": 5,
    "start_time": "2022-03-23T13:27:36.198Z"
   },
   {
    "duration": 11,
    "start_time": "2022-03-23T13:27:36.206Z"
   },
   {
    "duration": 8,
    "start_time": "2022-03-23T13:27:36.219Z"
   },
   {
    "duration": 58,
    "start_time": "2022-03-23T13:27:36.229Z"
   },
   {
    "duration": 16,
    "start_time": "2022-03-23T13:27:36.289Z"
   },
   {
    "duration": 13,
    "start_time": "2022-03-23T13:27:36.307Z"
   },
   {
    "duration": 8,
    "start_time": "2022-03-23T13:27:36.322Z"
   },
   {
    "duration": 56,
    "start_time": "2022-03-23T13:27:36.332Z"
   },
   {
    "duration": 18,
    "start_time": "2022-03-23T13:27:36.390Z"
   },
   {
    "duration": 16,
    "start_time": "2022-03-23T13:27:36.411Z"
   },
   {
    "duration": 41,
    "start_time": "2022-03-23T13:27:36.434Z"
   },
   {
    "duration": 7,
    "start_time": "2022-03-23T13:27:36.477Z"
   },
   {
    "duration": 6,
    "start_time": "2022-03-23T13:27:36.486Z"
   },
   {
    "duration": 5,
    "start_time": "2022-03-23T13:27:36.494Z"
   },
   {
    "duration": 17,
    "start_time": "2022-03-23T13:27:36.501Z"
   },
   {
    "duration": 9,
    "start_time": "2022-03-23T13:27:36.520Z"
   },
   {
    "duration": 52,
    "start_time": "2022-03-23T13:27:36.531Z"
   },
   {
    "duration": 21,
    "start_time": "2022-03-23T13:27:36.586Z"
   },
   {
    "duration": 18,
    "start_time": "2022-03-23T13:27:36.610Z"
   },
   {
    "duration": 819,
    "start_time": "2022-03-23T13:27:36.630Z"
   },
   {
    "duration": 9,
    "start_time": "2022-03-23T13:27:37.451Z"
   },
   {
    "duration": 374,
    "start_time": "2022-03-23T13:27:37.463Z"
   },
   {
    "duration": 238,
    "start_time": "2022-03-23T13:27:37.839Z"
   },
   {
    "duration": 11,
    "start_time": "2022-03-23T13:27:38.079Z"
   },
   {
    "duration": 715,
    "start_time": "2022-03-23T13:27:38.092Z"
   },
   {
    "duration": 543,
    "start_time": "2022-03-23T13:27:38.810Z"
   },
   {
    "duration": 31,
    "start_time": "2022-03-23T13:27:39.356Z"
   },
   {
    "duration": 6,
    "start_time": "2022-03-23T13:27:39.390Z"
   },
   {
    "duration": 10,
    "start_time": "2022-03-23T13:27:39.399Z"
   },
   {
    "duration": 6,
    "start_time": "2022-03-23T13:27:39.411Z"
   },
   {
    "duration": 627,
    "start_time": "2022-03-23T13:27:39.420Z"
   },
   {
    "duration": 524,
    "start_time": "2022-03-23T13:27:40.050Z"
   },
   {
    "duration": 567,
    "start_time": "2022-03-23T13:27:40.576Z"
   },
   {
    "duration": 661,
    "start_time": "2022-03-23T13:27:41.145Z"
   },
   {
    "duration": 8,
    "start_time": "2022-03-23T13:27:41.808Z"
   },
   {
    "duration": 420,
    "start_time": "2022-03-23T13:27:41.818Z"
   },
   {
    "duration": 7,
    "start_time": "2022-03-23T13:27:42.240Z"
   },
   {
    "duration": 77,
    "start_time": "2022-03-23T13:27:42.273Z"
   },
   {
    "duration": 88,
    "start_time": "2022-03-23T13:27:42.352Z"
   },
   {
    "duration": 191,
    "start_time": "2022-03-23T13:27:42.443Z"
   },
   {
    "duration": 84,
    "start_time": "2022-03-23T13:27:42.636Z"
   },
   {
    "duration": 66,
    "start_time": "2022-03-23T13:27:42.723Z"
   },
   {
    "duration": 270,
    "start_time": "2022-03-23T13:27:42.792Z"
   },
   {
    "duration": 12,
    "start_time": "2022-03-23T13:27:43.065Z"
   },
   {
    "duration": 35,
    "start_time": "2022-03-23T13:27:43.079Z"
   },
   {
    "duration": 16,
    "start_time": "2022-03-23T13:27:43.116Z"
   },
   {
    "duration": 46,
    "start_time": "2022-03-23T13:27:43.135Z"
   },
   {
    "duration": 19,
    "start_time": "2022-03-23T13:27:43.184Z"
   },
   {
    "duration": 36,
    "start_time": "2022-03-23T13:27:43.205Z"
   },
   {
    "duration": 40,
    "start_time": "2022-03-23T13:27:43.243Z"
   },
   {
    "duration": 421,
    "start_time": "2022-03-23T13:27:43.286Z"
   },
   {
    "duration": 508,
    "start_time": "2022-03-23T13:27:43.709Z"
   },
   {
    "duration": 187,
    "start_time": "2022-03-23T13:34:04.209Z"
   },
   {
    "duration": 31,
    "start_time": "2022-03-23T13:34:12.636Z"
   },
   {
    "duration": 1528,
    "start_time": "2022-03-23T13:53:23.646Z"
   },
   {
    "duration": 24,
    "start_time": "2022-03-23T13:53:25.177Z"
   },
   {
    "duration": 13,
    "start_time": "2022-03-23T13:53:25.204Z"
   },
   {
    "duration": 10,
    "start_time": "2022-03-23T13:53:25.220Z"
   },
   {
    "duration": 11,
    "start_time": "2022-03-23T13:53:25.232Z"
   },
   {
    "duration": 33,
    "start_time": "2022-03-23T13:53:25.245Z"
   },
   {
    "duration": 33,
    "start_time": "2022-03-23T13:53:25.280Z"
   },
   {
    "duration": 18,
    "start_time": "2022-03-23T13:53:25.315Z"
   },
   {
    "duration": 11,
    "start_time": "2022-03-23T13:53:25.335Z"
   },
   {
    "duration": 30,
    "start_time": "2022-03-23T13:53:25.350Z"
   },
   {
    "duration": 19,
    "start_time": "2022-03-23T13:53:25.383Z"
   },
   {
    "duration": 23,
    "start_time": "2022-03-23T13:53:25.404Z"
   },
   {
    "duration": 15,
    "start_time": "2022-03-23T13:53:25.429Z"
   },
   {
    "duration": 8,
    "start_time": "2022-03-23T13:53:25.475Z"
   },
   {
    "duration": 9,
    "start_time": "2022-03-23T13:53:25.485Z"
   },
   {
    "duration": 7,
    "start_time": "2022-03-23T13:53:25.496Z"
   },
   {
    "duration": 7,
    "start_time": "2022-03-23T13:53:25.505Z"
   },
   {
    "duration": 15,
    "start_time": "2022-03-23T13:53:25.513Z"
   },
   {
    "duration": 694,
    "start_time": "2022-03-23T13:53:25.530Z"
   },
   {
    "duration": 0,
    "start_time": "2022-03-23T13:53:26.228Z"
   },
   {
    "duration": 0,
    "start_time": "2022-03-23T13:53:26.229Z"
   },
   {
    "duration": 0,
    "start_time": "2022-03-23T13:53:26.231Z"
   },
   {
    "duration": 0,
    "start_time": "2022-03-23T13:53:26.233Z"
   },
   {
    "duration": 0,
    "start_time": "2022-03-23T13:53:26.235Z"
   },
   {
    "duration": 1,
    "start_time": "2022-03-23T13:53:26.236Z"
   },
   {
    "duration": 0,
    "start_time": "2022-03-23T13:53:26.238Z"
   },
   {
    "duration": 0,
    "start_time": "2022-03-23T13:53:26.239Z"
   },
   {
    "duration": 0,
    "start_time": "2022-03-23T13:53:26.241Z"
   },
   {
    "duration": 0,
    "start_time": "2022-03-23T13:53:26.242Z"
   },
   {
    "duration": 0,
    "start_time": "2022-03-23T13:53:26.243Z"
   },
   {
    "duration": 0,
    "start_time": "2022-03-23T13:53:26.244Z"
   },
   {
    "duration": 0,
    "start_time": "2022-03-23T13:53:26.246Z"
   },
   {
    "duration": 0,
    "start_time": "2022-03-23T13:53:26.247Z"
   },
   {
    "duration": 0,
    "start_time": "2022-03-23T13:53:26.249Z"
   },
   {
    "duration": 0,
    "start_time": "2022-03-23T13:53:26.250Z"
   },
   {
    "duration": 0,
    "start_time": "2022-03-23T13:53:26.252Z"
   },
   {
    "duration": 0,
    "start_time": "2022-03-23T13:53:26.253Z"
   },
   {
    "duration": 0,
    "start_time": "2022-03-23T13:53:26.254Z"
   },
   {
    "duration": 0,
    "start_time": "2022-03-23T13:53:26.256Z"
   },
   {
    "duration": 0,
    "start_time": "2022-03-23T13:53:26.257Z"
   },
   {
    "duration": 0,
    "start_time": "2022-03-23T13:53:26.258Z"
   },
   {
    "duration": 0,
    "start_time": "2022-03-23T13:53:26.260Z"
   },
   {
    "duration": 0,
    "start_time": "2022-03-23T13:53:26.262Z"
   },
   {
    "duration": 0,
    "start_time": "2022-03-23T13:53:26.263Z"
   },
   {
    "duration": 0,
    "start_time": "2022-03-23T13:53:26.273Z"
   },
   {
    "duration": 0,
    "start_time": "2022-03-23T13:53:26.275Z"
   },
   {
    "duration": 0,
    "start_time": "2022-03-23T13:53:26.277Z"
   },
   {
    "duration": 0,
    "start_time": "2022-03-23T13:53:26.279Z"
   },
   {
    "duration": 0,
    "start_time": "2022-03-23T13:53:26.281Z"
   },
   {
    "duration": 0,
    "start_time": "2022-03-23T13:53:26.282Z"
   },
   {
    "duration": 0,
    "start_time": "2022-03-23T13:53:26.284Z"
   },
   {
    "duration": 0,
    "start_time": "2022-03-23T13:53:26.285Z"
   },
   {
    "duration": 0,
    "start_time": "2022-03-23T13:53:26.287Z"
   },
   {
    "duration": 0,
    "start_time": "2022-03-23T13:53:26.289Z"
   },
   {
    "duration": 0,
    "start_time": "2022-03-23T13:53:26.290Z"
   },
   {
    "duration": 29,
    "start_time": "2022-03-23T13:53:46.052Z"
   },
   {
    "duration": 14,
    "start_time": "2022-03-23T13:53:49.913Z"
   },
   {
    "duration": 11,
    "start_time": "2022-03-23T13:54:49.751Z"
   },
   {
    "duration": 13,
    "start_time": "2022-03-23T13:54:52.067Z"
   },
   {
    "duration": 8,
    "start_time": "2022-03-23T13:57:01.119Z"
   },
   {
    "duration": 13,
    "start_time": "2022-03-23T13:57:02.693Z"
   },
   {
    "duration": 6,
    "start_time": "2022-03-23T13:59:25.520Z"
   },
   {
    "duration": 13,
    "start_time": "2022-03-23T13:59:37.805Z"
   },
   {
    "duration": 1898,
    "start_time": "2022-03-23T14:00:00.159Z"
   },
   {
    "duration": 27,
    "start_time": "2022-03-23T14:00:02.061Z"
   },
   {
    "duration": 12,
    "start_time": "2022-03-23T14:00:02.090Z"
   },
   {
    "duration": 12,
    "start_time": "2022-03-23T14:00:02.104Z"
   },
   {
    "duration": 23,
    "start_time": "2022-03-23T14:00:02.120Z"
   },
   {
    "duration": 16,
    "start_time": "2022-03-23T14:00:02.145Z"
   },
   {
    "duration": 29,
    "start_time": "2022-03-23T14:00:02.174Z"
   },
   {
    "duration": 17,
    "start_time": "2022-03-23T14:00:02.205Z"
   },
   {
    "duration": 21,
    "start_time": "2022-03-23T14:00:02.224Z"
   },
   {
    "duration": 28,
    "start_time": "2022-03-23T14:00:02.247Z"
   },
   {
    "duration": 29,
    "start_time": "2022-03-23T14:00:02.277Z"
   },
   {
    "duration": 49,
    "start_time": "2022-03-23T14:00:02.309Z"
   },
   {
    "duration": 20,
    "start_time": "2022-03-23T14:00:02.361Z"
   },
   {
    "duration": 14,
    "start_time": "2022-03-23T14:00:02.385Z"
   },
   {
    "duration": 15,
    "start_time": "2022-03-23T14:00:02.401Z"
   },
   {
    "duration": 19,
    "start_time": "2022-03-23T14:00:02.418Z"
   },
   {
    "duration": 23,
    "start_time": "2022-03-23T14:00:02.439Z"
   },
   {
    "duration": 12,
    "start_time": "2022-03-23T14:00:02.465Z"
   },
   {
    "duration": 14,
    "start_time": "2022-03-23T14:00:02.479Z"
   },
   {
    "duration": 6,
    "start_time": "2022-03-23T14:00:02.496Z"
   },
   {
    "duration": 25,
    "start_time": "2022-03-23T14:00:02.505Z"
   },
   {
    "duration": 42,
    "start_time": "2022-03-23T14:00:02.532Z"
   },
   {
    "duration": 1038,
    "start_time": "2022-03-23T14:00:02.577Z"
   },
   {
    "duration": 63,
    "start_time": "2022-03-23T14:00:03.617Z"
   },
   {
    "duration": 592,
    "start_time": "2022-03-23T14:00:03.682Z"
   },
   {
    "duration": 417,
    "start_time": "2022-03-23T14:00:04.276Z"
   },
   {
    "duration": 11,
    "start_time": "2022-03-23T14:00:04.696Z"
   },
   {
    "duration": 1538,
    "start_time": "2022-03-23T14:00:04.710Z"
   },
   {
    "duration": 828,
    "start_time": "2022-03-23T14:00:06.251Z"
   },
   {
    "duration": 26,
    "start_time": "2022-03-23T14:00:07.082Z"
   },
   {
    "duration": 4,
    "start_time": "2022-03-23T14:00:07.111Z"
   },
   {
    "duration": 17,
    "start_time": "2022-03-23T14:00:07.117Z"
   },
   {
    "duration": 11,
    "start_time": "2022-03-23T14:00:07.137Z"
   },
   {
    "duration": 968,
    "start_time": "2022-03-23T14:00:07.151Z"
   },
   {
    "duration": 740,
    "start_time": "2022-03-23T14:00:08.122Z"
   },
   {
    "duration": 774,
    "start_time": "2022-03-23T14:00:08.865Z"
   },
   {
    "duration": 546,
    "start_time": "2022-03-23T14:00:09.642Z"
   },
   {
    "duration": 8,
    "start_time": "2022-03-23T14:00:10.190Z"
   },
   {
    "duration": 415,
    "start_time": "2022-03-23T14:00:10.199Z"
   },
   {
    "duration": 8,
    "start_time": "2022-03-23T14:00:10.616Z"
   },
   {
    "duration": 199,
    "start_time": "2022-03-23T14:00:10.632Z"
   },
   {
    "duration": 102,
    "start_time": "2022-03-23T14:00:10.834Z"
   },
   {
    "duration": 292,
    "start_time": "2022-03-23T14:00:10.939Z"
   },
   {
    "duration": 89,
    "start_time": "2022-03-23T14:00:11.233Z"
   },
   {
    "duration": 71,
    "start_time": "2022-03-23T14:00:11.325Z"
   },
   {
    "duration": 271,
    "start_time": "2022-03-23T14:00:11.399Z"
   },
   {
    "duration": 10,
    "start_time": "2022-03-23T14:00:11.674Z"
   },
   {
    "duration": 54,
    "start_time": "2022-03-23T14:00:11.686Z"
   },
   {
    "duration": 32,
    "start_time": "2022-03-23T14:00:11.742Z"
   },
   {
    "duration": 17,
    "start_time": "2022-03-23T14:00:11.777Z"
   },
   {
    "duration": 36,
    "start_time": "2022-03-23T14:00:11.797Z"
   },
   {
    "duration": 55,
    "start_time": "2022-03-23T14:00:11.835Z"
   },
   {
    "duration": 20,
    "start_time": "2022-03-23T14:00:11.893Z"
   },
   {
    "duration": 429,
    "start_time": "2022-03-23T14:00:11.915Z"
   },
   {
    "duration": 527,
    "start_time": "2022-03-23T14:00:12.346Z"
   },
   {
    "duration": 6,
    "start_time": "2022-03-23T14:00:19.039Z"
   },
   {
    "duration": 9,
    "start_time": "2022-03-23T14:00:28.342Z"
   },
   {
    "duration": 12,
    "start_time": "2022-03-23T14:00:29.740Z"
   },
   {
    "duration": 9,
    "start_time": "2022-03-23T14:01:38.308Z"
   },
   {
    "duration": 13,
    "start_time": "2022-03-23T14:01:39.496Z"
   },
   {
    "duration": 6,
    "start_time": "2022-03-23T14:01:41.026Z"
   },
   {
    "duration": 7,
    "start_time": "2022-03-23T14:02:07.815Z"
   },
   {
    "duration": 1895,
    "start_time": "2022-03-23T14:07:48.242Z"
   },
   {
    "duration": 38,
    "start_time": "2022-03-23T14:07:50.141Z"
   },
   {
    "duration": 18,
    "start_time": "2022-03-23T14:07:50.181Z"
   },
   {
    "duration": 6,
    "start_time": "2022-03-23T14:07:50.203Z"
   },
   {
    "duration": 14,
    "start_time": "2022-03-23T14:07:50.211Z"
   },
   {
    "duration": 48,
    "start_time": "2022-03-23T14:07:50.227Z"
   },
   {
    "duration": 36,
    "start_time": "2022-03-23T14:07:50.278Z"
   },
   {
    "duration": 18,
    "start_time": "2022-03-23T14:07:50.317Z"
   },
   {
    "duration": 15,
    "start_time": "2022-03-23T14:07:50.337Z"
   },
   {
    "duration": 26,
    "start_time": "2022-03-23T14:07:50.378Z"
   },
   {
    "duration": 20,
    "start_time": "2022-03-23T14:07:50.407Z"
   },
   {
    "duration": 25,
    "start_time": "2022-03-23T14:07:50.430Z"
   },
   {
    "duration": 29,
    "start_time": "2022-03-23T14:07:50.458Z"
   },
   {
    "duration": 12,
    "start_time": "2022-03-23T14:07:50.490Z"
   },
   {
    "duration": 13,
    "start_time": "2022-03-23T14:07:50.504Z"
   },
   {
    "duration": 6,
    "start_time": "2022-03-23T14:07:50.519Z"
   },
   {
    "duration": 49,
    "start_time": "2022-03-23T14:07:50.527Z"
   },
   {
    "duration": 8,
    "start_time": "2022-03-23T14:07:50.578Z"
   },
   {
    "duration": 22,
    "start_time": "2022-03-23T14:07:50.588Z"
   },
   {
    "duration": 6,
    "start_time": "2022-03-23T14:07:50.612Z"
   },
   {
    "duration": 27,
    "start_time": "2022-03-23T14:07:50.619Z"
   },
   {
    "duration": 16,
    "start_time": "2022-03-23T14:07:50.673Z"
   },
   {
    "duration": 724,
    "start_time": "2022-03-23T14:07:50.691Z"
   },
   {
    "duration": 9,
    "start_time": "2022-03-23T14:07:51.417Z"
   },
   {
    "duration": 298,
    "start_time": "2022-03-23T14:07:51.428Z"
   },
   {
    "duration": 247,
    "start_time": "2022-03-23T14:07:51.730Z"
   },
   {
    "duration": 10,
    "start_time": "2022-03-23T14:07:51.979Z"
   },
   {
    "duration": 688,
    "start_time": "2022-03-23T14:07:51.995Z"
   },
   {
    "duration": 558,
    "start_time": "2022-03-23T14:07:52.685Z"
   },
   {
    "duration": 27,
    "start_time": "2022-03-23T14:07:53.246Z"
   },
   {
    "duration": 5,
    "start_time": "2022-03-23T14:07:53.276Z"
   },
   {
    "duration": 14,
    "start_time": "2022-03-23T14:07:53.284Z"
   },
   {
    "duration": 6,
    "start_time": "2022-03-23T14:07:53.300Z"
   },
   {
    "duration": 612,
    "start_time": "2022-03-23T14:07:53.308Z"
   },
   {
    "duration": 495,
    "start_time": "2022-03-23T14:07:53.923Z"
   },
   {
    "duration": 713,
    "start_time": "2022-03-23T14:07:54.421Z"
   },
   {
    "duration": 703,
    "start_time": "2022-03-23T14:07:55.137Z"
   },
   {
    "duration": 7,
    "start_time": "2022-03-23T14:07:55.843Z"
   },
   {
    "duration": 404,
    "start_time": "2022-03-23T14:07:55.852Z"
   },
   {
    "duration": 20,
    "start_time": "2022-03-23T14:07:56.258Z"
   },
   {
    "duration": 94,
    "start_time": "2022-03-23T14:07:56.280Z"
   },
   {
    "duration": 76,
    "start_time": "2022-03-23T14:07:56.376Z"
   },
   {
    "duration": 238,
    "start_time": "2022-03-23T14:07:56.454Z"
   },
   {
    "duration": 94,
    "start_time": "2022-03-23T14:07:56.694Z"
   },
   {
    "duration": 68,
    "start_time": "2022-03-23T14:07:56.791Z"
   },
   {
    "duration": 280,
    "start_time": "2022-03-23T14:07:56.862Z"
   },
   {
    "duration": 10,
    "start_time": "2022-03-23T14:07:57.144Z"
   },
   {
    "duration": 67,
    "start_time": "2022-03-23T14:07:57.157Z"
   },
   {
    "duration": 14,
    "start_time": "2022-03-23T14:07:57.226Z"
   },
   {
    "duration": 36,
    "start_time": "2022-03-23T14:07:57.242Z"
   },
   {
    "duration": 13,
    "start_time": "2022-03-23T14:07:57.280Z"
   },
   {
    "duration": 50,
    "start_time": "2022-03-23T14:07:57.296Z"
   },
   {
    "duration": 38,
    "start_time": "2022-03-23T14:07:57.349Z"
   },
   {
    "duration": 437,
    "start_time": "2022-03-23T14:07:57.389Z"
   },
   {
    "duration": 508,
    "start_time": "2022-03-23T14:07:57.828Z"
   },
   {
    "duration": 196,
    "start_time": "2022-03-23T14:17:15.917Z"
   },
   {
    "duration": 9,
    "start_time": "2022-03-23T14:17:21.521Z"
   },
   {
    "duration": 43,
    "start_time": "2022-03-23T14:17:22.092Z"
   },
   {
    "duration": 15,
    "start_time": "2022-03-23T14:17:25.353Z"
   },
   {
    "duration": 6,
    "start_time": "2022-03-23T14:17:28.081Z"
   },
   {
    "duration": 1522,
    "start_time": "2022-03-23T14:17:35.825Z"
   },
   {
    "duration": 25,
    "start_time": "2022-03-23T14:17:37.350Z"
   },
   {
    "duration": 12,
    "start_time": "2022-03-23T14:17:37.376Z"
   },
   {
    "duration": 9,
    "start_time": "2022-03-23T14:17:37.389Z"
   },
   {
    "duration": 10,
    "start_time": "2022-03-23T14:17:37.401Z"
   },
   {
    "duration": 8,
    "start_time": "2022-03-23T14:17:37.413Z"
   },
   {
    "duration": 51,
    "start_time": "2022-03-23T14:17:37.423Z"
   },
   {
    "duration": 16,
    "start_time": "2022-03-23T14:17:37.476Z"
   },
   {
    "duration": 10,
    "start_time": "2022-03-23T14:17:37.494Z"
   },
   {
    "duration": 7,
    "start_time": "2022-03-23T14:17:37.506Z"
   },
   {
    "duration": 19,
    "start_time": "2022-03-23T14:17:37.514Z"
   },
   {
    "duration": 53,
    "start_time": "2022-03-23T14:17:37.536Z"
   },
   {
    "duration": 15,
    "start_time": "2022-03-23T14:17:37.591Z"
   },
   {
    "duration": 7,
    "start_time": "2022-03-23T14:17:37.610Z"
   },
   {
    "duration": 8,
    "start_time": "2022-03-23T14:17:37.619Z"
   },
   {
    "duration": 9,
    "start_time": "2022-03-23T14:17:37.630Z"
   },
   {
    "duration": 15,
    "start_time": "2022-03-23T14:17:37.674Z"
   },
   {
    "duration": 10,
    "start_time": "2022-03-23T14:17:37.691Z"
   },
   {
    "duration": 26,
    "start_time": "2022-03-23T14:17:37.703Z"
   },
   {
    "duration": 49,
    "start_time": "2022-03-23T14:17:37.732Z"
   },
   {
    "duration": 16,
    "start_time": "2022-03-23T14:17:37.783Z"
   },
   {
    "duration": 16,
    "start_time": "2022-03-23T14:17:37.801Z"
   },
   {
    "duration": 764,
    "start_time": "2022-03-23T14:17:37.819Z"
   },
   {
    "duration": 8,
    "start_time": "2022-03-23T14:17:38.585Z"
   },
   {
    "duration": 278,
    "start_time": "2022-03-23T14:17:38.595Z"
   },
   {
    "duration": 221,
    "start_time": "2022-03-23T14:17:38.876Z"
   },
   {
    "duration": 9,
    "start_time": "2022-03-23T14:17:39.099Z"
   },
   {
    "duration": 667,
    "start_time": "2022-03-23T14:17:39.110Z"
   },
   {
    "duration": 538,
    "start_time": "2022-03-23T14:17:39.780Z"
   },
   {
    "duration": 18,
    "start_time": "2022-03-23T14:17:40.321Z"
   },
   {
    "duration": 7,
    "start_time": "2022-03-23T14:17:40.341Z"
   },
   {
    "duration": 8,
    "start_time": "2022-03-23T14:17:40.374Z"
   },
   {
    "duration": 8,
    "start_time": "2022-03-23T14:17:40.384Z"
   },
   {
    "duration": 654,
    "start_time": "2022-03-23T14:17:40.394Z"
   },
   {
    "duration": 552,
    "start_time": "2022-03-23T14:17:41.050Z"
   },
   {
    "duration": 569,
    "start_time": "2022-03-23T14:17:41.605Z"
   },
   {
    "duration": 574,
    "start_time": "2022-03-23T14:17:42.177Z"
   },
   {
    "duration": 20,
    "start_time": "2022-03-23T14:17:42.753Z"
   },
   {
    "duration": 405,
    "start_time": "2022-03-23T14:17:42.775Z"
   },
   {
    "duration": 7,
    "start_time": "2022-03-23T14:17:43.183Z"
   },
   {
    "duration": 104,
    "start_time": "2022-03-23T14:17:43.197Z"
   },
   {
    "duration": 86,
    "start_time": "2022-03-23T14:17:43.304Z"
   },
   {
    "duration": 187,
    "start_time": "2022-03-23T14:17:43.393Z"
   },
   {
    "duration": 75,
    "start_time": "2022-03-23T14:17:43.583Z"
   },
   {
    "duration": 42,
    "start_time": "2022-03-23T14:17:43.673Z"
   },
   {
    "duration": 300,
    "start_time": "2022-03-23T14:17:43.717Z"
   },
   {
    "duration": 9,
    "start_time": "2022-03-23T14:17:44.019Z"
   },
   {
    "duration": 47,
    "start_time": "2022-03-23T14:17:44.030Z"
   },
   {
    "duration": 16,
    "start_time": "2022-03-23T14:17:44.080Z"
   },
   {
    "duration": 15,
    "start_time": "2022-03-23T14:17:44.099Z"
   },
   {
    "duration": 12,
    "start_time": "2022-03-23T14:17:44.116Z"
   },
   {
    "duration": 69,
    "start_time": "2022-03-23T14:17:44.131Z"
   },
   {
    "duration": 21,
    "start_time": "2022-03-23T14:17:44.202Z"
   },
   {
    "duration": 488,
    "start_time": "2022-03-23T14:17:44.226Z"
   },
   {
    "duration": 497,
    "start_time": "2022-03-23T14:17:44.717Z"
   },
   {
    "duration": 699,
    "start_time": "2022-03-23T14:18:00.732Z"
   },
   {
    "duration": 1552,
    "start_time": "2022-03-23T14:35:02.014Z"
   },
   {
    "duration": 32,
    "start_time": "2022-03-23T14:35:03.569Z"
   },
   {
    "duration": 11,
    "start_time": "2022-03-23T14:35:03.604Z"
   },
   {
    "duration": 5,
    "start_time": "2022-03-23T14:35:03.617Z"
   },
   {
    "duration": 7,
    "start_time": "2022-03-23T14:35:03.626Z"
   },
   {
    "duration": 8,
    "start_time": "2022-03-23T14:35:03.636Z"
   },
   {
    "duration": 29,
    "start_time": "2022-03-23T14:35:03.674Z"
   },
   {
    "duration": 15,
    "start_time": "2022-03-23T14:35:03.705Z"
   },
   {
    "duration": 11,
    "start_time": "2022-03-23T14:35:03.722Z"
   },
   {
    "duration": 8,
    "start_time": "2022-03-23T14:35:03.735Z"
   },
   {
    "duration": 44,
    "start_time": "2022-03-23T14:35:03.745Z"
   },
   {
    "duration": 22,
    "start_time": "2022-03-23T14:35:03.792Z"
   },
   {
    "duration": 14,
    "start_time": "2022-03-23T14:35:03.816Z"
   },
   {
    "duration": 9,
    "start_time": "2022-03-23T14:35:03.835Z"
   },
   {
    "duration": 8,
    "start_time": "2022-03-23T14:35:03.873Z"
   },
   {
    "duration": 7,
    "start_time": "2022-03-23T14:35:03.882Z"
   },
   {
    "duration": 15,
    "start_time": "2022-03-23T14:35:03.891Z"
   },
   {
    "duration": 190,
    "start_time": "2022-03-23T14:35:03.908Z"
   },
   {
    "duration": 0,
    "start_time": "2022-03-23T14:35:04.102Z"
   },
   {
    "duration": 0,
    "start_time": "2022-03-23T14:35:04.104Z"
   },
   {
    "duration": 0,
    "start_time": "2022-03-23T14:35:04.106Z"
   },
   {
    "duration": 0,
    "start_time": "2022-03-23T14:35:04.108Z"
   },
   {
    "duration": 0,
    "start_time": "2022-03-23T14:35:04.110Z"
   },
   {
    "duration": 0,
    "start_time": "2022-03-23T14:35:04.112Z"
   },
   {
    "duration": 0,
    "start_time": "2022-03-23T14:35:04.114Z"
   },
   {
    "duration": 0,
    "start_time": "2022-03-23T14:35:04.117Z"
   },
   {
    "duration": 0,
    "start_time": "2022-03-23T14:35:04.119Z"
   },
   {
    "duration": 0,
    "start_time": "2022-03-23T14:35:04.121Z"
   },
   {
    "duration": 0,
    "start_time": "2022-03-23T14:35:04.123Z"
   },
   {
    "duration": 0,
    "start_time": "2022-03-23T14:35:04.125Z"
   },
   {
    "duration": 0,
    "start_time": "2022-03-23T14:35:04.127Z"
   },
   {
    "duration": 0,
    "start_time": "2022-03-23T14:35:04.129Z"
   },
   {
    "duration": 0,
    "start_time": "2022-03-23T14:35:04.174Z"
   },
   {
    "duration": 0,
    "start_time": "2022-03-23T14:35:04.177Z"
   },
   {
    "duration": 0,
    "start_time": "2022-03-23T14:35:04.179Z"
   },
   {
    "duration": 0,
    "start_time": "2022-03-23T14:35:04.181Z"
   },
   {
    "duration": 0,
    "start_time": "2022-03-23T14:35:04.183Z"
   },
   {
    "duration": 0,
    "start_time": "2022-03-23T14:35:04.185Z"
   },
   {
    "duration": 0,
    "start_time": "2022-03-23T14:35:04.187Z"
   },
   {
    "duration": 0,
    "start_time": "2022-03-23T14:35:04.189Z"
   },
   {
    "duration": 0,
    "start_time": "2022-03-23T14:35:04.191Z"
   },
   {
    "duration": 0,
    "start_time": "2022-03-23T14:35:04.194Z"
   },
   {
    "duration": 0,
    "start_time": "2022-03-23T14:35:04.196Z"
   },
   {
    "duration": 0,
    "start_time": "2022-03-23T14:35:04.198Z"
   },
   {
    "duration": 0,
    "start_time": "2022-03-23T14:35:04.200Z"
   },
   {
    "duration": 0,
    "start_time": "2022-03-23T14:35:04.201Z"
   },
   {
    "duration": 0,
    "start_time": "2022-03-23T14:35:04.204Z"
   },
   {
    "duration": 0,
    "start_time": "2022-03-23T14:35:04.206Z"
   },
   {
    "duration": 0,
    "start_time": "2022-03-23T14:35:04.208Z"
   },
   {
    "duration": 0,
    "start_time": "2022-03-23T14:35:04.210Z"
   },
   {
    "duration": 0,
    "start_time": "2022-03-23T14:35:04.212Z"
   },
   {
    "duration": 0,
    "start_time": "2022-03-23T14:35:04.274Z"
   },
   {
    "duration": 0,
    "start_time": "2022-03-23T14:35:04.277Z"
   },
   {
    "duration": 0,
    "start_time": "2022-03-23T14:35:04.278Z"
   },
   {
    "duration": 2086,
    "start_time": "2022-03-23T14:35:39.773Z"
   },
   {
    "duration": 19,
    "start_time": "2022-03-23T14:35:53.546Z"
   },
   {
    "duration": 1696,
    "start_time": "2022-03-23T14:36:05.011Z"
   },
   {
    "duration": 25,
    "start_time": "2022-03-23T14:36:06.710Z"
   },
   {
    "duration": 12,
    "start_time": "2022-03-23T14:36:06.737Z"
   },
   {
    "duration": 24,
    "start_time": "2022-03-23T14:36:06.751Z"
   },
   {
    "duration": 9,
    "start_time": "2022-03-23T14:36:06.778Z"
   },
   {
    "duration": 8,
    "start_time": "2022-03-23T14:36:06.789Z"
   },
   {
    "duration": 30,
    "start_time": "2022-03-23T14:36:06.800Z"
   },
   {
    "duration": 16,
    "start_time": "2022-03-23T14:36:06.832Z"
   },
   {
    "duration": 8,
    "start_time": "2022-03-23T14:36:06.873Z"
   },
   {
    "duration": 13,
    "start_time": "2022-03-23T14:36:06.883Z"
   },
   {
    "duration": 24,
    "start_time": "2022-03-23T14:36:06.899Z"
   },
   {
    "duration": 49,
    "start_time": "2022-03-23T14:36:06.925Z"
   },
   {
    "duration": 16,
    "start_time": "2022-03-23T14:36:06.976Z"
   },
   {
    "duration": 12,
    "start_time": "2022-03-23T14:36:06.997Z"
   },
   {
    "duration": 10,
    "start_time": "2022-03-23T14:36:07.011Z"
   },
   {
    "duration": 8,
    "start_time": "2022-03-23T14:36:07.022Z"
   },
   {
    "duration": 48,
    "start_time": "2022-03-23T14:36:07.032Z"
   },
   {
    "duration": 19,
    "start_time": "2022-03-23T14:36:07.083Z"
   },
   {
    "duration": 12,
    "start_time": "2022-03-23T14:36:07.104Z"
   },
   {
    "duration": 16,
    "start_time": "2022-03-23T14:36:07.118Z"
   },
   {
    "duration": 50,
    "start_time": "2022-03-23T14:36:07.136Z"
   },
   {
    "duration": 740,
    "start_time": "2022-03-23T14:36:07.188Z"
   },
   {
    "duration": 8,
    "start_time": "2022-03-23T14:36:07.930Z"
   },
   {
    "duration": 298,
    "start_time": "2022-03-23T14:36:07.940Z"
   },
   {
    "duration": 222,
    "start_time": "2022-03-23T14:36:08.240Z"
   },
   {
    "duration": 10,
    "start_time": "2022-03-23T14:36:08.473Z"
   },
   {
    "duration": 666,
    "start_time": "2022-03-23T14:36:08.485Z"
   },
   {
    "duration": 541,
    "start_time": "2022-03-23T14:36:09.153Z"
   },
   {
    "duration": 18,
    "start_time": "2022-03-23T14:36:09.696Z"
   },
   {
    "duration": 7,
    "start_time": "2022-03-23T14:36:09.716Z"
   },
   {
    "duration": 10,
    "start_time": "2022-03-23T14:36:09.726Z"
   },
   {
    "duration": 39,
    "start_time": "2022-03-23T14:36:09.739Z"
   },
   {
    "duration": 549,
    "start_time": "2022-03-23T14:36:09.780Z"
   },
   {
    "duration": 483,
    "start_time": "2022-03-23T14:36:10.331Z"
   },
   {
    "duration": 594,
    "start_time": "2022-03-23T14:36:10.816Z"
   },
   {
    "duration": 552,
    "start_time": "2022-03-23T14:36:11.412Z"
   },
   {
    "duration": 7,
    "start_time": "2022-03-23T14:36:11.974Z"
   },
   {
    "duration": 413,
    "start_time": "2022-03-23T14:36:11.983Z"
   },
   {
    "duration": 8,
    "start_time": "2022-03-23T14:36:12.398Z"
   },
   {
    "duration": 96,
    "start_time": "2022-03-23T14:36:12.408Z"
   },
   {
    "duration": 92,
    "start_time": "2022-03-23T14:36:12.511Z"
   },
   {
    "duration": 218,
    "start_time": "2022-03-23T14:36:12.605Z"
   },
   {
    "duration": 84,
    "start_time": "2022-03-23T14:36:12.825Z"
   },
   {
    "duration": 65,
    "start_time": "2022-03-23T14:36:12.912Z"
   },
   {
    "duration": 296,
    "start_time": "2022-03-23T14:36:12.980Z"
   },
   {
    "duration": 9,
    "start_time": "2022-03-23T14:36:13.278Z"
   },
   {
    "duration": 41,
    "start_time": "2022-03-23T14:36:13.289Z"
   },
   {
    "duration": 42,
    "start_time": "2022-03-23T14:36:13.332Z"
   },
   {
    "duration": 14,
    "start_time": "2022-03-23T14:36:13.377Z"
   },
   {
    "duration": 15,
    "start_time": "2022-03-23T14:36:13.393Z"
   },
   {
    "duration": 32,
    "start_time": "2022-03-23T14:36:13.411Z"
   },
   {
    "duration": 22,
    "start_time": "2022-03-23T14:36:13.473Z"
   },
   {
    "duration": 431,
    "start_time": "2022-03-23T14:36:13.497Z"
   },
   {
    "duration": 629,
    "start_time": "2022-03-23T14:36:13.930Z"
   },
   {
    "duration": 1497,
    "start_time": "2022-03-23T16:17:39.656Z"
   },
   {
    "duration": 28,
    "start_time": "2022-03-23T16:17:41.156Z"
   },
   {
    "duration": 11,
    "start_time": "2022-03-23T16:17:41.186Z"
   },
   {
    "duration": 5,
    "start_time": "2022-03-23T16:17:41.200Z"
   },
   {
    "duration": 19,
    "start_time": "2022-03-23T16:17:41.207Z"
   },
   {
    "duration": 16,
    "start_time": "2022-03-23T16:17:41.228Z"
   },
   {
    "duration": 38,
    "start_time": "2022-03-23T16:17:41.246Z"
   },
   {
    "duration": 20,
    "start_time": "2022-03-23T16:17:41.286Z"
   },
   {
    "duration": 15,
    "start_time": "2022-03-23T16:17:41.308Z"
   },
   {
    "duration": 7,
    "start_time": "2022-03-23T16:17:41.328Z"
   },
   {
    "duration": 46,
    "start_time": "2022-03-23T16:17:41.338Z"
   },
   {
    "duration": 17,
    "start_time": "2022-03-23T16:17:41.386Z"
   },
   {
    "duration": 15,
    "start_time": "2022-03-23T16:17:41.406Z"
   },
   {
    "duration": 9,
    "start_time": "2022-03-23T16:17:41.424Z"
   },
   {
    "duration": 43,
    "start_time": "2022-03-23T16:17:41.435Z"
   },
   {
    "duration": 7,
    "start_time": "2022-03-23T16:17:41.480Z"
   },
   {
    "duration": 14,
    "start_time": "2022-03-23T16:17:41.489Z"
   },
   {
    "duration": 20,
    "start_time": "2022-03-23T16:17:41.505Z"
   },
   {
    "duration": 48,
    "start_time": "2022-03-23T16:17:41.527Z"
   },
   {
    "duration": 15,
    "start_time": "2022-03-23T16:17:41.578Z"
   },
   {
    "duration": 739,
    "start_time": "2022-03-23T16:17:41.596Z"
   },
   {
    "duration": 8,
    "start_time": "2022-03-23T16:17:42.337Z"
   },
   {
    "duration": 285,
    "start_time": "2022-03-23T16:17:42.347Z"
   },
   {
    "duration": 242,
    "start_time": "2022-03-23T16:17:42.635Z"
   },
   {
    "duration": 11,
    "start_time": "2022-03-23T16:17:42.879Z"
   },
   {
    "duration": 671,
    "start_time": "2022-03-23T16:17:42.892Z"
   },
   {
    "duration": 546,
    "start_time": "2022-03-23T16:17:43.566Z"
   },
   {
    "duration": 19,
    "start_time": "2022-03-23T16:17:44.119Z"
   },
   {
    "duration": 6,
    "start_time": "2022-03-23T16:17:44.140Z"
   },
   {
    "duration": 8,
    "start_time": "2022-03-23T16:17:44.174Z"
   },
   {
    "duration": 6,
    "start_time": "2022-03-23T16:17:44.184Z"
   },
   {
    "duration": 546,
    "start_time": "2022-03-23T16:17:44.192Z"
   },
   {
    "duration": 497,
    "start_time": "2022-03-23T16:17:44.740Z"
   },
   {
    "duration": 575,
    "start_time": "2022-03-23T16:17:45.239Z"
   },
   {
    "duration": 598,
    "start_time": "2022-03-23T16:17:45.816Z"
   },
   {
    "duration": 7,
    "start_time": "2022-03-23T16:17:46.416Z"
   },
   {
    "duration": 411,
    "start_time": "2022-03-23T16:17:46.425Z"
   },
   {
    "duration": 9,
    "start_time": "2022-03-23T16:17:46.839Z"
   },
   {
    "duration": 99,
    "start_time": "2022-03-23T16:17:46.850Z"
   },
   {
    "duration": 86,
    "start_time": "2022-03-23T16:17:46.951Z"
   },
   {
    "duration": 293,
    "start_time": "2022-03-23T16:17:47.040Z"
   },
   {
    "duration": 81,
    "start_time": "2022-03-23T16:17:47.336Z"
   },
   {
    "duration": 58,
    "start_time": "2022-03-23T16:17:47.419Z"
   },
   {
    "duration": 272,
    "start_time": "2022-03-23T16:17:47.479Z"
   },
   {
    "duration": 9,
    "start_time": "2022-03-23T16:17:47.753Z"
   },
   {
    "duration": 31,
    "start_time": "2022-03-23T16:17:47.774Z"
   },
   {
    "duration": 15,
    "start_time": "2022-03-23T16:17:47.808Z"
   },
   {
    "duration": 14,
    "start_time": "2022-03-23T16:17:47.825Z"
   },
   {
    "duration": 11,
    "start_time": "2022-03-23T16:17:47.874Z"
   },
   {
    "duration": 42,
    "start_time": "2022-03-23T16:17:47.888Z"
   },
   {
    "duration": 42,
    "start_time": "2022-03-23T16:17:47.932Z"
   },
   {
    "duration": 418,
    "start_time": "2022-03-23T16:17:47.976Z"
   },
   {
    "duration": 510,
    "start_time": "2022-03-23T16:17:48.396Z"
   },
   {
    "duration": 32,
    "start_time": "2022-03-23T16:20:49.418Z"
   },
   {
    "duration": 33,
    "start_time": "2022-03-23T16:20:54.206Z"
   },
   {
    "duration": 9,
    "start_time": "2022-03-23T16:35:02.569Z"
   },
   {
    "duration": 1585,
    "start_time": "2022-03-23T16:36:29.739Z"
   },
   {
    "duration": 25,
    "start_time": "2022-03-23T16:36:31.327Z"
   },
   {
    "duration": 21,
    "start_time": "2022-03-23T16:36:31.354Z"
   },
   {
    "duration": 7,
    "start_time": "2022-03-23T16:36:31.378Z"
   },
   {
    "duration": 16,
    "start_time": "2022-03-23T16:36:31.387Z"
   },
   {
    "duration": 13,
    "start_time": "2022-03-23T16:36:31.405Z"
   },
   {
    "duration": 34,
    "start_time": "2022-03-23T16:36:31.420Z"
   },
   {
    "duration": 31,
    "start_time": "2022-03-23T16:36:31.456Z"
   },
   {
    "duration": 15,
    "start_time": "2022-03-23T16:36:31.489Z"
   },
   {
    "duration": 18,
    "start_time": "2022-03-23T16:36:31.510Z"
   },
   {
    "duration": 23,
    "start_time": "2022-03-23T16:36:31.531Z"
   },
   {
    "duration": 18,
    "start_time": "2022-03-23T16:36:31.575Z"
   },
   {
    "duration": 15,
    "start_time": "2022-03-23T16:36:31.596Z"
   },
   {
    "duration": 14,
    "start_time": "2022-03-23T16:36:31.614Z"
   },
   {
    "duration": 10,
    "start_time": "2022-03-23T16:36:31.630Z"
   },
   {
    "duration": 35,
    "start_time": "2022-03-23T16:36:31.642Z"
   },
   {
    "duration": 21,
    "start_time": "2022-03-23T16:36:31.679Z"
   },
   {
    "duration": 16,
    "start_time": "2022-03-23T16:36:31.702Z"
   },
   {
    "duration": 7,
    "start_time": "2022-03-23T16:36:31.720Z"
   },
   {
    "duration": 19,
    "start_time": "2022-03-23T16:36:31.729Z"
   },
   {
    "duration": 37,
    "start_time": "2022-03-23T16:36:31.750Z"
   },
   {
    "duration": 776,
    "start_time": "2022-03-23T16:36:31.789Z"
   },
   {
    "duration": 9,
    "start_time": "2022-03-23T16:36:32.567Z"
   },
   {
    "duration": 296,
    "start_time": "2022-03-23T16:36:32.578Z"
   },
   {
    "duration": 225,
    "start_time": "2022-03-23T16:36:32.876Z"
   },
   {
    "duration": 10,
    "start_time": "2022-03-23T16:36:33.104Z"
   },
   {
    "duration": 675,
    "start_time": "2022-03-23T16:36:33.115Z"
   },
   {
    "duration": 528,
    "start_time": "2022-03-23T16:36:33.796Z"
   },
   {
    "duration": 19,
    "start_time": "2022-03-23T16:36:34.326Z"
   },
   {
    "duration": 29,
    "start_time": "2022-03-23T16:36:34.347Z"
   },
   {
    "duration": 12,
    "start_time": "2022-03-23T16:36:34.378Z"
   },
   {
    "duration": 8,
    "start_time": "2022-03-23T16:36:34.392Z"
   },
   {
    "duration": 546,
    "start_time": "2022-03-23T16:36:34.403Z"
   },
   {
    "duration": 492,
    "start_time": "2022-03-23T16:36:34.952Z"
   },
   {
    "duration": 556,
    "start_time": "2022-03-23T16:36:35.446Z"
   },
   {
    "duration": 607,
    "start_time": "2022-03-23T16:36:36.005Z"
   },
   {
    "duration": 8,
    "start_time": "2022-03-23T16:36:36.614Z"
   },
   {
    "duration": 406,
    "start_time": "2022-03-23T16:36:36.624Z"
   },
   {
    "duration": 8,
    "start_time": "2022-03-23T16:36:37.032Z"
   },
   {
    "duration": 98,
    "start_time": "2022-03-23T16:36:37.041Z"
   },
   {
    "duration": 90,
    "start_time": "2022-03-23T16:36:37.141Z"
   },
   {
    "duration": 211,
    "start_time": "2022-03-23T16:36:37.234Z"
   },
   {
    "duration": 86,
    "start_time": "2022-03-23T16:36:37.447Z"
   },
   {
    "duration": 66,
    "start_time": "2022-03-23T16:36:37.535Z"
   },
   {
    "duration": 281,
    "start_time": "2022-03-23T16:36:37.604Z"
   },
   {
    "duration": 10,
    "start_time": "2022-03-23T16:36:37.887Z"
   },
   {
    "duration": 36,
    "start_time": "2022-03-23T16:36:37.900Z"
   },
   {
    "duration": 42,
    "start_time": "2022-03-23T16:36:37.939Z"
   },
   {
    "duration": 16,
    "start_time": "2022-03-23T16:36:37.984Z"
   },
   {
    "duration": 12,
    "start_time": "2022-03-23T16:36:38.002Z"
   },
   {
    "duration": 65,
    "start_time": "2022-03-23T16:36:38.017Z"
   },
   {
    "duration": 22,
    "start_time": "2022-03-23T16:36:38.084Z"
   },
   {
    "duration": 432,
    "start_time": "2022-03-23T16:36:38.108Z"
   },
   {
    "duration": 509,
    "start_time": "2022-03-23T16:36:38.542Z"
   },
   {
    "duration": 1464,
    "start_time": "2022-03-24T07:57:47.259Z"
   },
   {
    "duration": 1983,
    "start_time": "2022-03-24T07:57:48.725Z"
   },
   {
    "duration": 12,
    "start_time": "2022-03-24T07:57:50.710Z"
   },
   {
    "duration": 10,
    "start_time": "2022-03-24T07:57:50.725Z"
   },
   {
    "duration": 27,
    "start_time": "2022-03-24T07:57:50.736Z"
   },
   {
    "duration": 7,
    "start_time": "2022-03-24T07:57:50.766Z"
   },
   {
    "duration": 813,
    "start_time": "2022-03-24T07:57:50.775Z"
   },
   {
    "duration": 15,
    "start_time": "2022-03-24T07:57:51.590Z"
   },
   {
    "duration": 10,
    "start_time": "2022-03-24T07:57:51.607Z"
   },
   {
    "duration": 9,
    "start_time": "2022-03-24T07:57:51.623Z"
   },
   {
    "duration": 24,
    "start_time": "2022-03-24T07:57:51.634Z"
   },
   {
    "duration": 26,
    "start_time": "2022-03-24T07:57:51.660Z"
   },
   {
    "duration": 15,
    "start_time": "2022-03-24T07:57:51.688Z"
   },
   {
    "duration": 207,
    "start_time": "2022-03-24T07:57:51.705Z"
   },
   {
    "duration": 7,
    "start_time": "2022-03-24T07:57:51.915Z"
   },
   {
    "duration": 5,
    "start_time": "2022-03-24T07:57:51.924Z"
   },
   {
    "duration": 15,
    "start_time": "2022-03-24T07:57:51.932Z"
   },
   {
    "duration": 15,
    "start_time": "2022-03-24T07:57:51.949Z"
   },
   {
    "duration": 7,
    "start_time": "2022-03-24T07:57:51.966Z"
   },
   {
    "duration": 15,
    "start_time": "2022-03-24T07:57:51.976Z"
   },
   {
    "duration": 16,
    "start_time": "2022-03-24T07:57:51.994Z"
   },
   {
    "duration": 723,
    "start_time": "2022-03-24T07:57:52.012Z"
   },
   {
    "duration": 12,
    "start_time": "2022-03-24T07:57:52.737Z"
   },
   {
    "duration": 276,
    "start_time": "2022-03-24T07:57:52.751Z"
   },
   {
    "duration": 233,
    "start_time": "2022-03-24T07:57:53.029Z"
   },
   {
    "duration": 10,
    "start_time": "2022-03-24T07:57:53.264Z"
   },
   {
    "duration": 652,
    "start_time": "2022-03-24T07:57:53.276Z"
   },
   {
    "duration": 530,
    "start_time": "2022-03-24T07:57:53.933Z"
   },
   {
    "duration": 17,
    "start_time": "2022-03-24T07:57:54.466Z"
   },
   {
    "duration": 6,
    "start_time": "2022-03-24T07:57:54.486Z"
   },
   {
    "duration": 10,
    "start_time": "2022-03-24T07:57:54.494Z"
   },
   {
    "duration": 39,
    "start_time": "2022-03-24T07:57:54.506Z"
   },
   {
    "duration": 531,
    "start_time": "2022-03-24T07:57:54.547Z"
   },
   {
    "duration": 472,
    "start_time": "2022-03-24T07:57:55.080Z"
   },
   {
    "duration": 529,
    "start_time": "2022-03-24T07:57:55.554Z"
   },
   {
    "duration": 524,
    "start_time": "2022-03-24T07:57:56.085Z"
   },
   {
    "duration": 8,
    "start_time": "2022-03-24T07:57:56.611Z"
   },
   {
    "duration": 402,
    "start_time": "2022-03-24T07:57:56.621Z"
   },
   {
    "duration": 75,
    "start_time": "2022-03-24T07:57:57.026Z"
   },
   {
    "duration": 98,
    "start_time": "2022-03-24T07:57:57.103Z"
   },
   {
    "duration": 90,
    "start_time": "2022-03-24T07:57:57.203Z"
   },
   {
    "duration": 186,
    "start_time": "2022-03-24T07:57:57.295Z"
   },
   {
    "duration": 88,
    "start_time": "2022-03-24T07:57:57.483Z"
   },
   {
    "duration": 46,
    "start_time": "2022-03-24T07:57:57.573Z"
   },
   {
    "duration": 265,
    "start_time": "2022-03-24T07:57:57.621Z"
   },
   {
    "duration": 17,
    "start_time": "2022-03-24T07:57:57.888Z"
   },
   {
    "duration": 55,
    "start_time": "2022-03-24T07:57:57.907Z"
   },
   {
    "duration": 15,
    "start_time": "2022-03-24T07:57:57.963Z"
   },
   {
    "duration": 15,
    "start_time": "2022-03-24T07:57:57.980Z"
   },
   {
    "duration": 21,
    "start_time": "2022-03-24T07:57:57.997Z"
   },
   {
    "duration": 51,
    "start_time": "2022-03-24T07:57:58.020Z"
   },
   {
    "duration": 20,
    "start_time": "2022-03-24T07:57:58.073Z"
   },
   {
    "duration": 414,
    "start_time": "2022-03-24T07:57:58.095Z"
   },
   {
    "duration": 498,
    "start_time": "2022-03-24T07:57:58.511Z"
   }
  ],
  "kernelspec": {
   "display_name": "Python 3 (ipykernel)",
   "language": "python",
   "name": "python3"
  },
  "language_info": {
   "codemirror_mode": {
    "name": "ipython",
    "version": 3
   },
   "file_extension": ".py",
   "mimetype": "text/x-python",
   "name": "python",
   "nbconvert_exporter": "python",
   "pygments_lexer": "ipython3",
   "version": "3.9.5"
  },
  "toc": {
   "base_numbering": 1,
   "nav_menu": {},
   "number_sections": true,
   "sideBar": true,
   "skip_h1_title": true,
   "title_cell": "Содержание",
   "title_sidebar": "Contents",
   "toc_cell": true,
   "toc_position": {
    "height": "calc(100% - 180px)",
    "left": "10px",
    "top": "150px",
    "width": "197.899px"
   },
   "toc_section_display": true,
   "toc_window_display": true
  }
 },
 "nbformat": 4,
 "nbformat_minor": 2
}
