{
 "cells": [
  {
   "cell_type": "markdown",
   "metadata": {},
   "source": [
    "# Исследование надёжности заёмщиков\n",
    "\n",
    "Заказчик — кредитный отдел банка. Нужно разобраться, влияет ли семейное положение и количество детей клиента на факт погашения кредита в срок. Входные данные от банка — статистика о платёжеспособности клиентов.\n",
    "\n",
    "Результаты исследования будут учтены при построении модели **кредитного скоринга** — специальной системы, которая оценивает способность потенциального заёмщика вернуть кредит банку."
   ]
  },
  {
   "cell_type": "markdown",
   "metadata": {},
   "source": [
    "**Цель работы**: Провести анализ данных займщиков для построения модели кредитного скоринга — специальной системы, которая оценивает способность потенциального заёмщика вернуть кредит банку."
   ]
  },
  {
   "cell_type": "markdown",
   "metadata": {},
   "source": [
    "**Задачи работы**:"
   ]
  },
  {
   "cell_type": "markdown",
   "metadata": {},
   "source": [
    "1. Изучить данные.\n",
    "\n",
    "2. Выполнить предообработку данных.\n",
    "\n",
    "3. Выявить зависимость между наличием детей и возвратом кредита в срок.\n",
    "\n",
    "4. Выявить зависимость между семейным положением и возвратом кредита в срок.\n",
    "\n",
    "5. Выявить зависимость между уровнем дохода и возвратом кредита в срок.\n",
    "\n",
    "6. Выявить какие разные цели кредита влияют на его возврат в срок."
   ]
  },
  {
   "cell_type": "markdown",
   "metadata": {},
   "source": [
    "**План работы**:"
   ]
  },
  {
   "cell_type": "markdown",
   "metadata": {},
   "source": [
    "1. Изучение общей информации о предоставленных данных\n",
    "\n",
    "2. Определить и заменить пропуски\n",
    "\n",
    "3. Выявить и удалить дубликаты\n",
    "\n",
    "4. Изменить тип данных\n",
    "\n",
    "5. Провести леммитизацю\n",
    "\n",
    "6. Категоризовать данные\n",
    "\n",
    "7. Выявить наличие зависимостей различный факторов на возврат кредита в срок\n",
    "\n",
    "8. Формулировка общего вывода"
   ]
  },
  {
   "cell_type": "markdown",
   "metadata": {},
   "source": [
    "## Изучение общей информации"
   ]
  },
  {
   "cell_type": "markdown",
   "metadata": {},
   "source": [
    "### Импорт библиотеки, чтение файла"
   ]
  },
  {
   "cell_type": "markdown",
   "metadata": {},
   "source": [
    "Импорт библиотек, с которыми предстоит работать в ходе проекта"
   ]
  },
  {
   "cell_type": "code",
   "execution_count": 136,
   "metadata": {},
   "outputs": [],
   "source": [
    "import pandas as pd \n",
    "from pymystem3 import Mystem\n",
    "m = Mystem()"
   ]
  },
  {
   "cell_type": "markdown",
   "metadata": {},
   "source": [
    "Чтение файла с данными и сохранение в переменную df"
   ]
  },
  {
   "cell_type": "code",
   "execution_count": 137,
   "metadata": {},
   "outputs": [],
   "source": [
    "df = pd.read_csv('/datasets/data.csv') "
   ]
  },
  {
   "cell_type": "markdown",
   "metadata": {},
   "source": [
    "### Обзор данных"
   ]
  },
  {
   "cell_type": "markdown",
   "metadata": {},
   "source": [
    "Получение первых 10 строк таблицы df для ознакомления с данными"
   ]
  },
  {
   "cell_type": "code",
   "execution_count": 138,
   "metadata": {},
   "outputs": [
    {
     "data": {
      "text/html": [
       "<div>\n",
       "<style scoped>\n",
       "    .dataframe tbody tr th:only-of-type {\n",
       "        vertical-align: middle;\n",
       "    }\n",
       "\n",
       "    .dataframe tbody tr th {\n",
       "        vertical-align: top;\n",
       "    }\n",
       "\n",
       "    .dataframe thead th {\n",
       "        text-align: right;\n",
       "    }\n",
       "</style>\n",
       "<table border=\"1\" class=\"dataframe\">\n",
       "  <thead>\n",
       "    <tr style=\"text-align: right;\">\n",
       "      <th></th>\n",
       "      <th>children</th>\n",
       "      <th>days_employed</th>\n",
       "      <th>dob_years</th>\n",
       "      <th>education</th>\n",
       "      <th>education_id</th>\n",
       "      <th>family_status</th>\n",
       "      <th>family_status_id</th>\n",
       "      <th>gender</th>\n",
       "      <th>income_type</th>\n",
       "      <th>debt</th>\n",
       "      <th>total_income</th>\n",
       "      <th>purpose</th>\n",
       "    </tr>\n",
       "  </thead>\n",
       "  <tbody>\n",
       "    <tr>\n",
       "      <td>0</td>\n",
       "      <td>1</td>\n",
       "      <td>-8437.673028</td>\n",
       "      <td>42</td>\n",
       "      <td>высшее</td>\n",
       "      <td>0</td>\n",
       "      <td>женат / замужем</td>\n",
       "      <td>0</td>\n",
       "      <td>F</td>\n",
       "      <td>сотрудник</td>\n",
       "      <td>0</td>\n",
       "      <td>253875.639453</td>\n",
       "      <td>покупка жилья</td>\n",
       "    </tr>\n",
       "    <tr>\n",
       "      <td>1</td>\n",
       "      <td>1</td>\n",
       "      <td>-4024.803754</td>\n",
       "      <td>36</td>\n",
       "      <td>среднее</td>\n",
       "      <td>1</td>\n",
       "      <td>женат / замужем</td>\n",
       "      <td>0</td>\n",
       "      <td>F</td>\n",
       "      <td>сотрудник</td>\n",
       "      <td>0</td>\n",
       "      <td>112080.014102</td>\n",
       "      <td>приобретение автомобиля</td>\n",
       "    </tr>\n",
       "    <tr>\n",
       "      <td>2</td>\n",
       "      <td>0</td>\n",
       "      <td>-5623.422610</td>\n",
       "      <td>33</td>\n",
       "      <td>Среднее</td>\n",
       "      <td>1</td>\n",
       "      <td>женат / замужем</td>\n",
       "      <td>0</td>\n",
       "      <td>M</td>\n",
       "      <td>сотрудник</td>\n",
       "      <td>0</td>\n",
       "      <td>145885.952297</td>\n",
       "      <td>покупка жилья</td>\n",
       "    </tr>\n",
       "    <tr>\n",
       "      <td>3</td>\n",
       "      <td>3</td>\n",
       "      <td>-4124.747207</td>\n",
       "      <td>32</td>\n",
       "      <td>среднее</td>\n",
       "      <td>1</td>\n",
       "      <td>женат / замужем</td>\n",
       "      <td>0</td>\n",
       "      <td>M</td>\n",
       "      <td>сотрудник</td>\n",
       "      <td>0</td>\n",
       "      <td>267628.550329</td>\n",
       "      <td>дополнительное образование</td>\n",
       "    </tr>\n",
       "    <tr>\n",
       "      <td>4</td>\n",
       "      <td>0</td>\n",
       "      <td>340266.072047</td>\n",
       "      <td>53</td>\n",
       "      <td>среднее</td>\n",
       "      <td>1</td>\n",
       "      <td>гражданский брак</td>\n",
       "      <td>1</td>\n",
       "      <td>F</td>\n",
       "      <td>пенсионер</td>\n",
       "      <td>0</td>\n",
       "      <td>158616.077870</td>\n",
       "      <td>сыграть свадьбу</td>\n",
       "    </tr>\n",
       "    <tr>\n",
       "      <td>5</td>\n",
       "      <td>0</td>\n",
       "      <td>-926.185831</td>\n",
       "      <td>27</td>\n",
       "      <td>высшее</td>\n",
       "      <td>0</td>\n",
       "      <td>гражданский брак</td>\n",
       "      <td>1</td>\n",
       "      <td>M</td>\n",
       "      <td>компаньон</td>\n",
       "      <td>0</td>\n",
       "      <td>255763.565419</td>\n",
       "      <td>покупка жилья</td>\n",
       "    </tr>\n",
       "    <tr>\n",
       "      <td>6</td>\n",
       "      <td>0</td>\n",
       "      <td>-2879.202052</td>\n",
       "      <td>43</td>\n",
       "      <td>высшее</td>\n",
       "      <td>0</td>\n",
       "      <td>женат / замужем</td>\n",
       "      <td>0</td>\n",
       "      <td>F</td>\n",
       "      <td>компаньон</td>\n",
       "      <td>0</td>\n",
       "      <td>240525.971920</td>\n",
       "      <td>операции с жильем</td>\n",
       "    </tr>\n",
       "    <tr>\n",
       "      <td>7</td>\n",
       "      <td>0</td>\n",
       "      <td>-152.779569</td>\n",
       "      <td>50</td>\n",
       "      <td>СРЕДНЕЕ</td>\n",
       "      <td>1</td>\n",
       "      <td>женат / замужем</td>\n",
       "      <td>0</td>\n",
       "      <td>M</td>\n",
       "      <td>сотрудник</td>\n",
       "      <td>0</td>\n",
       "      <td>135823.934197</td>\n",
       "      <td>образование</td>\n",
       "    </tr>\n",
       "    <tr>\n",
       "      <td>8</td>\n",
       "      <td>2</td>\n",
       "      <td>-6929.865299</td>\n",
       "      <td>35</td>\n",
       "      <td>ВЫСШЕЕ</td>\n",
       "      <td>0</td>\n",
       "      <td>гражданский брак</td>\n",
       "      <td>1</td>\n",
       "      <td>F</td>\n",
       "      <td>сотрудник</td>\n",
       "      <td>0</td>\n",
       "      <td>95856.832424</td>\n",
       "      <td>на проведение свадьбы</td>\n",
       "    </tr>\n",
       "    <tr>\n",
       "      <td>9</td>\n",
       "      <td>0</td>\n",
       "      <td>-2188.756445</td>\n",
       "      <td>41</td>\n",
       "      <td>среднее</td>\n",
       "      <td>1</td>\n",
       "      <td>женат / замужем</td>\n",
       "      <td>0</td>\n",
       "      <td>M</td>\n",
       "      <td>сотрудник</td>\n",
       "      <td>0</td>\n",
       "      <td>144425.938277</td>\n",
       "      <td>покупка жилья для семьи</td>\n",
       "    </tr>\n",
       "  </tbody>\n",
       "</table>\n",
       "</div>"
      ],
      "text/plain": [
       "   children  days_employed  dob_years education  education_id  \\\n",
       "0         1   -8437.673028         42    высшее             0   \n",
       "1         1   -4024.803754         36   среднее             1   \n",
       "2         0   -5623.422610         33   Среднее             1   \n",
       "3         3   -4124.747207         32   среднее             1   \n",
       "4         0  340266.072047         53   среднее             1   \n",
       "5         0    -926.185831         27    высшее             0   \n",
       "6         0   -2879.202052         43    высшее             0   \n",
       "7         0    -152.779569         50   СРЕДНЕЕ             1   \n",
       "8         2   -6929.865299         35    ВЫСШЕЕ             0   \n",
       "9         0   -2188.756445         41   среднее             1   \n",
       "\n",
       "      family_status  family_status_id gender income_type  debt   total_income  \\\n",
       "0   женат / замужем                 0      F   сотрудник     0  253875.639453   \n",
       "1   женат / замужем                 0      F   сотрудник     0  112080.014102   \n",
       "2   женат / замужем                 0      M   сотрудник     0  145885.952297   \n",
       "3   женат / замужем                 0      M   сотрудник     0  267628.550329   \n",
       "4  гражданский брак                 1      F   пенсионер     0  158616.077870   \n",
       "5  гражданский брак                 1      M   компаньон     0  255763.565419   \n",
       "6   женат / замужем                 0      F   компаньон     0  240525.971920   \n",
       "7   женат / замужем                 0      M   сотрудник     0  135823.934197   \n",
       "8  гражданский брак                 1      F   сотрудник     0   95856.832424   \n",
       "9   женат / замужем                 0      M   сотрудник     0  144425.938277   \n",
       "\n",
       "                      purpose  \n",
       "0               покупка жилья  \n",
       "1     приобретение автомобиля  \n",
       "2               покупка жилья  \n",
       "3  дополнительное образование  \n",
       "4             сыграть свадьбу  \n",
       "5               покупка жилья  \n",
       "6           операции с жильем  \n",
       "7                 образование  \n",
       "8       на проведение свадьбы  \n",
       "9     покупка жилья для семьи  "
      ]
     },
     "execution_count": 138,
     "metadata": {},
     "output_type": "execute_result"
    }
   ],
   "source": [
    "df.head(10) "
   ]
  },
  {
   "cell_type": "markdown",
   "metadata": {},
   "source": [
    "Получение общей информации о данных в таблице df"
   ]
  },
  {
   "cell_type": "code",
   "execution_count": 139,
   "metadata": {},
   "outputs": [
    {
     "name": "stdout",
     "output_type": "stream",
     "text": [
      "<class 'pandas.core.frame.DataFrame'>\n",
      "RangeIndex: 21525 entries, 0 to 21524\n",
      "Data columns (total 12 columns):\n",
      "children            21525 non-null int64\n",
      "days_employed       19351 non-null float64\n",
      "dob_years           21525 non-null int64\n",
      "education           21525 non-null object\n",
      "education_id        21525 non-null int64\n",
      "family_status       21525 non-null object\n",
      "family_status_id    21525 non-null int64\n",
      "gender              21525 non-null object\n",
      "income_type         21525 non-null object\n",
      "debt                21525 non-null int64\n",
      "total_income        19351 non-null float64\n",
      "purpose             21525 non-null object\n",
      "dtypes: float64(2), int64(5), object(5)\n",
      "memory usage: 2.0+ MB\n"
     ]
    }
   ],
   "source": [
    "df.info() "
   ]
  },
  {
   "cell_type": "markdown",
   "metadata": {},
   "source": [
    "Проверка стиля названий столбцов таблицы "
   ]
  },
  {
   "cell_type": "code",
   "execution_count": 140,
   "metadata": {},
   "outputs": [
    {
     "data": {
      "text/plain": [
       "Index(['children', 'days_employed', 'dob_years', 'education', 'education_id',\n",
       "       'family_status', 'family_status_id', 'gender', 'income_type', 'debt',\n",
       "       'total_income', 'purpose'],\n",
       "      dtype='object')"
      ]
     },
     "execution_count": 140,
     "metadata": {},
     "output_type": "execute_result"
    }
   ],
   "source": [
    "df.columns"
   ]
  },
  {
   "cell_type": "markdown",
   "metadata": {},
   "source": [
    "Вывод описательных статистик таблицы"
   ]
  },
  {
   "cell_type": "code",
   "execution_count": 141,
   "metadata": {},
   "outputs": [
    {
     "data": {
      "text/html": [
       "<div>\n",
       "<style scoped>\n",
       "    .dataframe tbody tr th:only-of-type {\n",
       "        vertical-align: middle;\n",
       "    }\n",
       "\n",
       "    .dataframe tbody tr th {\n",
       "        vertical-align: top;\n",
       "    }\n",
       "\n",
       "    .dataframe thead th {\n",
       "        text-align: right;\n",
       "    }\n",
       "</style>\n",
       "<table border=\"1\" class=\"dataframe\">\n",
       "  <thead>\n",
       "    <tr style=\"text-align: right;\">\n",
       "      <th></th>\n",
       "      <th>count</th>\n",
       "      <th>mean</th>\n",
       "      <th>std</th>\n",
       "      <th>min</th>\n",
       "      <th>25%</th>\n",
       "      <th>50%</th>\n",
       "      <th>75%</th>\n",
       "      <th>max</th>\n",
       "    </tr>\n",
       "  </thead>\n",
       "  <tbody>\n",
       "    <tr>\n",
       "      <td>children</td>\n",
       "      <td>21525.0</td>\n",
       "      <td>0.538908</td>\n",
       "      <td>1.381587</td>\n",
       "      <td>-1.000000</td>\n",
       "      <td>0.000000</td>\n",
       "      <td>0.000000</td>\n",
       "      <td>1.000000</td>\n",
       "      <td>2.000000e+01</td>\n",
       "    </tr>\n",
       "    <tr>\n",
       "      <td>days_employed</td>\n",
       "      <td>19351.0</td>\n",
       "      <td>63046.497661</td>\n",
       "      <td>140827.311974</td>\n",
       "      <td>-18388.949901</td>\n",
       "      <td>-2747.423625</td>\n",
       "      <td>-1203.369529</td>\n",
       "      <td>-291.095954</td>\n",
       "      <td>4.017554e+05</td>\n",
       "    </tr>\n",
       "    <tr>\n",
       "      <td>dob_years</td>\n",
       "      <td>21525.0</td>\n",
       "      <td>43.293380</td>\n",
       "      <td>12.574584</td>\n",
       "      <td>0.000000</td>\n",
       "      <td>33.000000</td>\n",
       "      <td>42.000000</td>\n",
       "      <td>53.000000</td>\n",
       "      <td>7.500000e+01</td>\n",
       "    </tr>\n",
       "    <tr>\n",
       "      <td>education_id</td>\n",
       "      <td>21525.0</td>\n",
       "      <td>0.817236</td>\n",
       "      <td>0.548138</td>\n",
       "      <td>0.000000</td>\n",
       "      <td>1.000000</td>\n",
       "      <td>1.000000</td>\n",
       "      <td>1.000000</td>\n",
       "      <td>4.000000e+00</td>\n",
       "    </tr>\n",
       "    <tr>\n",
       "      <td>family_status_id</td>\n",
       "      <td>21525.0</td>\n",
       "      <td>0.972544</td>\n",
       "      <td>1.420324</td>\n",
       "      <td>0.000000</td>\n",
       "      <td>0.000000</td>\n",
       "      <td>0.000000</td>\n",
       "      <td>1.000000</td>\n",
       "      <td>4.000000e+00</td>\n",
       "    </tr>\n",
       "    <tr>\n",
       "      <td>debt</td>\n",
       "      <td>21525.0</td>\n",
       "      <td>0.080883</td>\n",
       "      <td>0.272661</td>\n",
       "      <td>0.000000</td>\n",
       "      <td>0.000000</td>\n",
       "      <td>0.000000</td>\n",
       "      <td>0.000000</td>\n",
       "      <td>1.000000e+00</td>\n",
       "    </tr>\n",
       "    <tr>\n",
       "      <td>total_income</td>\n",
       "      <td>19351.0</td>\n",
       "      <td>167422.302208</td>\n",
       "      <td>102971.566448</td>\n",
       "      <td>20667.263793</td>\n",
       "      <td>103053.152913</td>\n",
       "      <td>145017.937533</td>\n",
       "      <td>203435.067663</td>\n",
       "      <td>2.265604e+06</td>\n",
       "    </tr>\n",
       "  </tbody>\n",
       "</table>\n",
       "</div>"
      ],
      "text/plain": [
       "                    count           mean            std           min  \\\n",
       "children          21525.0       0.538908       1.381587     -1.000000   \n",
       "days_employed     19351.0   63046.497661  140827.311974 -18388.949901   \n",
       "dob_years         21525.0      43.293380      12.574584      0.000000   \n",
       "education_id      21525.0       0.817236       0.548138      0.000000   \n",
       "family_status_id  21525.0       0.972544       1.420324      0.000000   \n",
       "debt              21525.0       0.080883       0.272661      0.000000   \n",
       "total_income      19351.0  167422.302208  102971.566448  20667.263793   \n",
       "\n",
       "                            25%            50%            75%           max  \n",
       "children               0.000000       0.000000       1.000000  2.000000e+01  \n",
       "days_employed      -2747.423625   -1203.369529    -291.095954  4.017554e+05  \n",
       "dob_years             33.000000      42.000000      53.000000  7.500000e+01  \n",
       "education_id           1.000000       1.000000       1.000000  4.000000e+00  \n",
       "family_status_id       0.000000       0.000000       1.000000  4.000000e+00  \n",
       "debt                   0.000000       0.000000       0.000000  1.000000e+00  \n",
       "total_income      103053.152913  145017.937533  203435.067663  2.265604e+06  "
      ]
     },
     "execution_count": 141,
     "metadata": {},
     "output_type": "execute_result"
    }
   ],
   "source": [
    "df.describe().T "
   ]
  },
  {
   "cell_type": "markdown",
   "metadata": {},
   "source": [
    "Исходя из статистических покателей таблицы видно, что столбцах \"children\", \"days_employed\" есть отрицательные значения, в столбце \"children\" есть выброс (максимальное значение равно 20)  и в столбце \"days_employed\" есть выброс (максимальное значение равно 401755.400475), что маловероятно для реальной жизни."
   ]
  },
  {
   "cell_type": "markdown",
   "metadata": {},
   "source": [
    "Подсчет пропущенных значений в столбцах"
   ]
  },
  {
   "cell_type": "code",
   "execution_count": 142,
   "metadata": {},
   "outputs": [
    {
     "data": {
      "text/plain": [
       "children               0\n",
       "days_employed       2174\n",
       "dob_years              0\n",
       "education              0\n",
       "education_id           0\n",
       "family_status          0\n",
       "family_status_id       0\n",
       "gender                 0\n",
       "income_type            0\n",
       "debt                   0\n",
       "total_income        2174\n",
       "purpose                0\n",
       "dtype: int64"
      ]
     },
     "execution_count": 142,
     "metadata": {},
     "output_type": "execute_result"
    }
   ],
   "source": [
    "df.isna().sum() "
   ]
  },
  {
   "cell_type": "markdown",
   "metadata": {},
   "source": [
    "Подсчет количества явных дубликатов"
   ]
  },
  {
   "cell_type": "code",
   "execution_count": 143,
   "metadata": {},
   "outputs": [
    {
     "data": {
      "text/plain": [
       "54"
      ]
     },
     "execution_count": 143,
     "metadata": {},
     "output_type": "execute_result"
    }
   ],
   "source": [
    "df.duplicated().sum() "
   ]
  },
  {
   "cell_type": "markdown",
   "metadata": {},
   "source": [
    "**Вывод**"
   ]
  },
  {
   "cell_type": "markdown",
   "metadata": {},
   "source": [
    "- В каждой строке таблицы — данные о заемщике. \n",
    "- Колонки описывают: пол, общий стаж работы в днях, образование, уровень дохода, семейное положение, цель взятия кредита заемщика.\n",
    "- Пользуясь методами head(), info(), describe() было выявлено: в таблице 12 столбцов, 21525 строк, типы данных: float64(2), int64(5), object(5). \n",
    "- Наименование столбцов корректно. \n",
    "- Встречаются пропуски, дубликаты, отрицательные значения и выбросы в данных.\n",
    "- В 2174 строках из 21525 пропущен общий трудовой стаж в столбце \"days_employed\" и в 2174 строках из 21525 пропущен общий ежемесячный доход в столбце \"total_income\". В датафрейме 54 явных дубликата."
   ]
  },
  {
   "cell_type": "markdown",
   "metadata": {},
   "source": [
    "## Предобработка данных"
   ]
  },
  {
   "cell_type": "markdown",
   "metadata": {},
   "source": [
    "### Обработка пропусков"
   ]
  },
  {
   "cell_type": "markdown",
   "metadata": {},
   "source": [
    "С помощью метода isna().sum() подсчет пропущенных значений в столбцах"
   ]
  },
  {
   "cell_type": "code",
   "execution_count": 144,
   "metadata": {},
   "outputs": [
    {
     "data": {
      "text/plain": [
       "children               0\n",
       "days_employed       2174\n",
       "dob_years              0\n",
       "education              0\n",
       "education_id           0\n",
       "family_status          0\n",
       "family_status_id       0\n",
       "gender                 0\n",
       "income_type            0\n",
       "debt                   0\n",
       "total_income        2174\n",
       "purpose                0\n",
       "dtype: int64"
      ]
     },
     "execution_count": 144,
     "metadata": {},
     "output_type": "execute_result"
    }
   ],
   "source": [
    "df.isna().sum() "
   ]
  },
  {
   "cell_type": "markdown",
   "metadata": {},
   "source": [
    " В столбцах \"days_employed\" и \"total_income \" обнаружены пропуски в 2174 строках."
   ]
  },
  {
   "cell_type": "markdown",
   "metadata": {},
   "source": [
    "Методом isna() найдём все строки с пропусками в столбце \"days_employed\"и просмотрим первые 10"
   ]
  },
  {
   "cell_type": "code",
   "execution_count": 145,
   "metadata": {},
   "outputs": [
    {
     "data": {
      "text/html": [
       "<div>\n",
       "<style scoped>\n",
       "    .dataframe tbody tr th:only-of-type {\n",
       "        vertical-align: middle;\n",
       "    }\n",
       "\n",
       "    .dataframe tbody tr th {\n",
       "        vertical-align: top;\n",
       "    }\n",
       "\n",
       "    .dataframe thead th {\n",
       "        text-align: right;\n",
       "    }\n",
       "</style>\n",
       "<table border=\"1\" class=\"dataframe\">\n",
       "  <thead>\n",
       "    <tr style=\"text-align: right;\">\n",
       "      <th></th>\n",
       "      <th>children</th>\n",
       "      <th>days_employed</th>\n",
       "      <th>dob_years</th>\n",
       "      <th>education</th>\n",
       "      <th>education_id</th>\n",
       "      <th>family_status</th>\n",
       "      <th>family_status_id</th>\n",
       "      <th>gender</th>\n",
       "      <th>income_type</th>\n",
       "      <th>debt</th>\n",
       "      <th>total_income</th>\n",
       "      <th>purpose</th>\n",
       "    </tr>\n",
       "  </thead>\n",
       "  <tbody>\n",
       "    <tr>\n",
       "      <td>12</td>\n",
       "      <td>0</td>\n",
       "      <td>NaN</td>\n",
       "      <td>65</td>\n",
       "      <td>среднее</td>\n",
       "      <td>1</td>\n",
       "      <td>гражданский брак</td>\n",
       "      <td>1</td>\n",
       "      <td>M</td>\n",
       "      <td>пенсионер</td>\n",
       "      <td>0</td>\n",
       "      <td>NaN</td>\n",
       "      <td>сыграть свадьбу</td>\n",
       "    </tr>\n",
       "    <tr>\n",
       "      <td>26</td>\n",
       "      <td>0</td>\n",
       "      <td>NaN</td>\n",
       "      <td>41</td>\n",
       "      <td>среднее</td>\n",
       "      <td>1</td>\n",
       "      <td>женат / замужем</td>\n",
       "      <td>0</td>\n",
       "      <td>M</td>\n",
       "      <td>госслужащий</td>\n",
       "      <td>0</td>\n",
       "      <td>NaN</td>\n",
       "      <td>образование</td>\n",
       "    </tr>\n",
       "    <tr>\n",
       "      <td>29</td>\n",
       "      <td>0</td>\n",
       "      <td>NaN</td>\n",
       "      <td>63</td>\n",
       "      <td>среднее</td>\n",
       "      <td>1</td>\n",
       "      <td>Не женат / не замужем</td>\n",
       "      <td>4</td>\n",
       "      <td>F</td>\n",
       "      <td>пенсионер</td>\n",
       "      <td>0</td>\n",
       "      <td>NaN</td>\n",
       "      <td>строительство жилой недвижимости</td>\n",
       "    </tr>\n",
       "    <tr>\n",
       "      <td>41</td>\n",
       "      <td>0</td>\n",
       "      <td>NaN</td>\n",
       "      <td>50</td>\n",
       "      <td>среднее</td>\n",
       "      <td>1</td>\n",
       "      <td>женат / замужем</td>\n",
       "      <td>0</td>\n",
       "      <td>F</td>\n",
       "      <td>госслужащий</td>\n",
       "      <td>0</td>\n",
       "      <td>NaN</td>\n",
       "      <td>сделка с подержанным автомобилем</td>\n",
       "    </tr>\n",
       "    <tr>\n",
       "      <td>55</td>\n",
       "      <td>0</td>\n",
       "      <td>NaN</td>\n",
       "      <td>54</td>\n",
       "      <td>среднее</td>\n",
       "      <td>1</td>\n",
       "      <td>гражданский брак</td>\n",
       "      <td>1</td>\n",
       "      <td>F</td>\n",
       "      <td>пенсионер</td>\n",
       "      <td>1</td>\n",
       "      <td>NaN</td>\n",
       "      <td>сыграть свадьбу</td>\n",
       "    </tr>\n",
       "    <tr>\n",
       "      <td>65</td>\n",
       "      <td>0</td>\n",
       "      <td>NaN</td>\n",
       "      <td>21</td>\n",
       "      <td>среднее</td>\n",
       "      <td>1</td>\n",
       "      <td>Не женат / не замужем</td>\n",
       "      <td>4</td>\n",
       "      <td>M</td>\n",
       "      <td>компаньон</td>\n",
       "      <td>0</td>\n",
       "      <td>NaN</td>\n",
       "      <td>операции с коммерческой недвижимостью</td>\n",
       "    </tr>\n",
       "    <tr>\n",
       "      <td>67</td>\n",
       "      <td>0</td>\n",
       "      <td>NaN</td>\n",
       "      <td>52</td>\n",
       "      <td>высшее</td>\n",
       "      <td>0</td>\n",
       "      <td>женат / замужем</td>\n",
       "      <td>0</td>\n",
       "      <td>F</td>\n",
       "      <td>пенсионер</td>\n",
       "      <td>0</td>\n",
       "      <td>NaN</td>\n",
       "      <td>покупка жилья для семьи</td>\n",
       "    </tr>\n",
       "    <tr>\n",
       "      <td>72</td>\n",
       "      <td>1</td>\n",
       "      <td>NaN</td>\n",
       "      <td>32</td>\n",
       "      <td>высшее</td>\n",
       "      <td>0</td>\n",
       "      <td>женат / замужем</td>\n",
       "      <td>0</td>\n",
       "      <td>M</td>\n",
       "      <td>госслужащий</td>\n",
       "      <td>0</td>\n",
       "      <td>NaN</td>\n",
       "      <td>операции с коммерческой недвижимостью</td>\n",
       "    </tr>\n",
       "    <tr>\n",
       "      <td>82</td>\n",
       "      <td>2</td>\n",
       "      <td>NaN</td>\n",
       "      <td>50</td>\n",
       "      <td>высшее</td>\n",
       "      <td>0</td>\n",
       "      <td>женат / замужем</td>\n",
       "      <td>0</td>\n",
       "      <td>F</td>\n",
       "      <td>сотрудник</td>\n",
       "      <td>0</td>\n",
       "      <td>NaN</td>\n",
       "      <td>жилье</td>\n",
       "    </tr>\n",
       "    <tr>\n",
       "      <td>83</td>\n",
       "      <td>0</td>\n",
       "      <td>NaN</td>\n",
       "      <td>52</td>\n",
       "      <td>среднее</td>\n",
       "      <td>1</td>\n",
       "      <td>женат / замужем</td>\n",
       "      <td>0</td>\n",
       "      <td>M</td>\n",
       "      <td>сотрудник</td>\n",
       "      <td>0</td>\n",
       "      <td>NaN</td>\n",
       "      <td>жилье</td>\n",
       "    </tr>\n",
       "  </tbody>\n",
       "</table>\n",
       "</div>"
      ],
      "text/plain": [
       "    children  days_employed  dob_years education  education_id  \\\n",
       "12         0            NaN         65   среднее             1   \n",
       "26         0            NaN         41   среднее             1   \n",
       "29         0            NaN         63   среднее             1   \n",
       "41         0            NaN         50   среднее             1   \n",
       "55         0            NaN         54   среднее             1   \n",
       "65         0            NaN         21   среднее             1   \n",
       "67         0            NaN         52    высшее             0   \n",
       "72         1            NaN         32    высшее             0   \n",
       "82         2            NaN         50    высшее             0   \n",
       "83         0            NaN         52   среднее             1   \n",
       "\n",
       "            family_status  family_status_id gender  income_type  debt  \\\n",
       "12       гражданский брак                 1      M    пенсионер     0   \n",
       "26        женат / замужем                 0      M  госслужащий     0   \n",
       "29  Не женат / не замужем                 4      F    пенсионер     0   \n",
       "41        женат / замужем                 0      F  госслужащий     0   \n",
       "55       гражданский брак                 1      F    пенсионер     1   \n",
       "65  Не женат / не замужем                 4      M    компаньон     0   \n",
       "67        женат / замужем                 0      F    пенсионер     0   \n",
       "72        женат / замужем                 0      M  госслужащий     0   \n",
       "82        женат / замужем                 0      F    сотрудник     0   \n",
       "83        женат / замужем                 0      M    сотрудник     0   \n",
       "\n",
       "    total_income                                purpose  \n",
       "12           NaN                        сыграть свадьбу  \n",
       "26           NaN                            образование  \n",
       "29           NaN       строительство жилой недвижимости  \n",
       "41           NaN       сделка с подержанным автомобилем  \n",
       "55           NaN                        сыграть свадьбу  \n",
       "65           NaN  операции с коммерческой недвижимостью  \n",
       "67           NaN                покупка жилья для семьи  \n",
       "72           NaN  операции с коммерческой недвижимостью  \n",
       "82           NaN                                  жилье  \n",
       "83           NaN                                  жилье  "
      ]
     },
     "execution_count": 145,
     "metadata": {},
     "output_type": "execute_result"
    }
   ],
   "source": [
    "df[df['days_employed'].isna()].head(10) "
   ]
  },
  {
   "cell_type": "markdown",
   "metadata": {},
   "source": [
    "Методом isna() найдём все строки с пропусками в столбце total_income и просмотрим первые 10"
   ]
  },
  {
   "cell_type": "code",
   "execution_count": 146,
   "metadata": {},
   "outputs": [
    {
     "data": {
      "text/html": [
       "<div>\n",
       "<style scoped>\n",
       "    .dataframe tbody tr th:only-of-type {\n",
       "        vertical-align: middle;\n",
       "    }\n",
       "\n",
       "    .dataframe tbody tr th {\n",
       "        vertical-align: top;\n",
       "    }\n",
       "\n",
       "    .dataframe thead th {\n",
       "        text-align: right;\n",
       "    }\n",
       "</style>\n",
       "<table border=\"1\" class=\"dataframe\">\n",
       "  <thead>\n",
       "    <tr style=\"text-align: right;\">\n",
       "      <th></th>\n",
       "      <th>children</th>\n",
       "      <th>days_employed</th>\n",
       "      <th>dob_years</th>\n",
       "      <th>education</th>\n",
       "      <th>education_id</th>\n",
       "      <th>family_status</th>\n",
       "      <th>family_status_id</th>\n",
       "      <th>gender</th>\n",
       "      <th>income_type</th>\n",
       "      <th>debt</th>\n",
       "      <th>total_income</th>\n",
       "      <th>purpose</th>\n",
       "    </tr>\n",
       "  </thead>\n",
       "  <tbody>\n",
       "    <tr>\n",
       "      <td>12</td>\n",
       "      <td>0</td>\n",
       "      <td>NaN</td>\n",
       "      <td>65</td>\n",
       "      <td>среднее</td>\n",
       "      <td>1</td>\n",
       "      <td>гражданский брак</td>\n",
       "      <td>1</td>\n",
       "      <td>M</td>\n",
       "      <td>пенсионер</td>\n",
       "      <td>0</td>\n",
       "      <td>NaN</td>\n",
       "      <td>сыграть свадьбу</td>\n",
       "    </tr>\n",
       "    <tr>\n",
       "      <td>26</td>\n",
       "      <td>0</td>\n",
       "      <td>NaN</td>\n",
       "      <td>41</td>\n",
       "      <td>среднее</td>\n",
       "      <td>1</td>\n",
       "      <td>женат / замужем</td>\n",
       "      <td>0</td>\n",
       "      <td>M</td>\n",
       "      <td>госслужащий</td>\n",
       "      <td>0</td>\n",
       "      <td>NaN</td>\n",
       "      <td>образование</td>\n",
       "    </tr>\n",
       "    <tr>\n",
       "      <td>29</td>\n",
       "      <td>0</td>\n",
       "      <td>NaN</td>\n",
       "      <td>63</td>\n",
       "      <td>среднее</td>\n",
       "      <td>1</td>\n",
       "      <td>Не женат / не замужем</td>\n",
       "      <td>4</td>\n",
       "      <td>F</td>\n",
       "      <td>пенсионер</td>\n",
       "      <td>0</td>\n",
       "      <td>NaN</td>\n",
       "      <td>строительство жилой недвижимости</td>\n",
       "    </tr>\n",
       "    <tr>\n",
       "      <td>41</td>\n",
       "      <td>0</td>\n",
       "      <td>NaN</td>\n",
       "      <td>50</td>\n",
       "      <td>среднее</td>\n",
       "      <td>1</td>\n",
       "      <td>женат / замужем</td>\n",
       "      <td>0</td>\n",
       "      <td>F</td>\n",
       "      <td>госслужащий</td>\n",
       "      <td>0</td>\n",
       "      <td>NaN</td>\n",
       "      <td>сделка с подержанным автомобилем</td>\n",
       "    </tr>\n",
       "    <tr>\n",
       "      <td>55</td>\n",
       "      <td>0</td>\n",
       "      <td>NaN</td>\n",
       "      <td>54</td>\n",
       "      <td>среднее</td>\n",
       "      <td>1</td>\n",
       "      <td>гражданский брак</td>\n",
       "      <td>1</td>\n",
       "      <td>F</td>\n",
       "      <td>пенсионер</td>\n",
       "      <td>1</td>\n",
       "      <td>NaN</td>\n",
       "      <td>сыграть свадьбу</td>\n",
       "    </tr>\n",
       "    <tr>\n",
       "      <td>65</td>\n",
       "      <td>0</td>\n",
       "      <td>NaN</td>\n",
       "      <td>21</td>\n",
       "      <td>среднее</td>\n",
       "      <td>1</td>\n",
       "      <td>Не женат / не замужем</td>\n",
       "      <td>4</td>\n",
       "      <td>M</td>\n",
       "      <td>компаньон</td>\n",
       "      <td>0</td>\n",
       "      <td>NaN</td>\n",
       "      <td>операции с коммерческой недвижимостью</td>\n",
       "    </tr>\n",
       "    <tr>\n",
       "      <td>67</td>\n",
       "      <td>0</td>\n",
       "      <td>NaN</td>\n",
       "      <td>52</td>\n",
       "      <td>высшее</td>\n",
       "      <td>0</td>\n",
       "      <td>женат / замужем</td>\n",
       "      <td>0</td>\n",
       "      <td>F</td>\n",
       "      <td>пенсионер</td>\n",
       "      <td>0</td>\n",
       "      <td>NaN</td>\n",
       "      <td>покупка жилья для семьи</td>\n",
       "    </tr>\n",
       "    <tr>\n",
       "      <td>72</td>\n",
       "      <td>1</td>\n",
       "      <td>NaN</td>\n",
       "      <td>32</td>\n",
       "      <td>высшее</td>\n",
       "      <td>0</td>\n",
       "      <td>женат / замужем</td>\n",
       "      <td>0</td>\n",
       "      <td>M</td>\n",
       "      <td>госслужащий</td>\n",
       "      <td>0</td>\n",
       "      <td>NaN</td>\n",
       "      <td>операции с коммерческой недвижимостью</td>\n",
       "    </tr>\n",
       "    <tr>\n",
       "      <td>82</td>\n",
       "      <td>2</td>\n",
       "      <td>NaN</td>\n",
       "      <td>50</td>\n",
       "      <td>высшее</td>\n",
       "      <td>0</td>\n",
       "      <td>женат / замужем</td>\n",
       "      <td>0</td>\n",
       "      <td>F</td>\n",
       "      <td>сотрудник</td>\n",
       "      <td>0</td>\n",
       "      <td>NaN</td>\n",
       "      <td>жилье</td>\n",
       "    </tr>\n",
       "    <tr>\n",
       "      <td>83</td>\n",
       "      <td>0</td>\n",
       "      <td>NaN</td>\n",
       "      <td>52</td>\n",
       "      <td>среднее</td>\n",
       "      <td>1</td>\n",
       "      <td>женат / замужем</td>\n",
       "      <td>0</td>\n",
       "      <td>M</td>\n",
       "      <td>сотрудник</td>\n",
       "      <td>0</td>\n",
       "      <td>NaN</td>\n",
       "      <td>жилье</td>\n",
       "    </tr>\n",
       "  </tbody>\n",
       "</table>\n",
       "</div>"
      ],
      "text/plain": [
       "    children  days_employed  dob_years education  education_id  \\\n",
       "12         0            NaN         65   среднее             1   \n",
       "26         0            NaN         41   среднее             1   \n",
       "29         0            NaN         63   среднее             1   \n",
       "41         0            NaN         50   среднее             1   \n",
       "55         0            NaN         54   среднее             1   \n",
       "65         0            NaN         21   среднее             1   \n",
       "67         0            NaN         52    высшее             0   \n",
       "72         1            NaN         32    высшее             0   \n",
       "82         2            NaN         50    высшее             0   \n",
       "83         0            NaN         52   среднее             1   \n",
       "\n",
       "            family_status  family_status_id gender  income_type  debt  \\\n",
       "12       гражданский брак                 1      M    пенсионер     0   \n",
       "26        женат / замужем                 0      M  госслужащий     0   \n",
       "29  Не женат / не замужем                 4      F    пенсионер     0   \n",
       "41        женат / замужем                 0      F  госслужащий     0   \n",
       "55       гражданский брак                 1      F    пенсионер     1   \n",
       "65  Не женат / не замужем                 4      M    компаньон     0   \n",
       "67        женат / замужем                 0      F    пенсионер     0   \n",
       "72        женат / замужем                 0      M  госслужащий     0   \n",
       "82        женат / замужем                 0      F    сотрудник     0   \n",
       "83        женат / замужем                 0      M    сотрудник     0   \n",
       "\n",
       "    total_income                                purpose  \n",
       "12           NaN                        сыграть свадьбу  \n",
       "26           NaN                            образование  \n",
       "29           NaN       строительство жилой недвижимости  \n",
       "41           NaN       сделка с подержанным автомобилем  \n",
       "55           NaN                        сыграть свадьбу  \n",
       "65           NaN  операции с коммерческой недвижимостью  \n",
       "67           NaN                покупка жилья для семьи  \n",
       "72           NaN  операции с коммерческой недвижимостью  \n",
       "82           NaN                                  жилье  \n",
       "83           NaN                                  жилье  "
      ]
     },
     "execution_count": 146,
     "metadata": {},
     "output_type": "execute_result"
    }
   ],
   "source": [
    "df[df['total_income'].isna()].head(10)"
   ]
  },
  {
   "cell_type": "markdown",
   "metadata": {},
   "source": [
    "Пропущенные значения в столбцах 'days_employed' и 'total_income' находятся в одних и тех же строках.\n",
    "Так как пропущенные значения в этих двух столбцах имеют вещественный тип данных - NaN, заменим пропуски медианным значением."
   ]
  },
  {
   "cell_type": "markdown",
   "metadata": {},
   "source": [
    "Заменим пропуски медианным значением в столбце 'total_income'."
   ]
  },
  {
   "cell_type": "code",
   "execution_count": 147,
   "metadata": {},
   "outputs": [
    {
     "name": "stdout",
     "output_type": "stream",
     "text": [
      "сотрудник 142594.39684740017\n",
      "пенсионер 118514.48641164352\n",
      "компаньон 172357.95096577113\n",
      "госслужащий 150447.9352830068\n",
      "безработный 131339.7516762103\n",
      "предприниматель 499163.1449470857\n",
      "студент 98201.62531401133\n",
      "в декрете 53829.13072905995\n"
     ]
    }
   ],
   "source": [
    "for income_type in df['income_type'].unique():\n",
    "    med = df.loc[df['income_type'] == income_type, 'total_income'].median()\n",
    "    print(income_type, med)\n",
    "    df.loc[(df['total_income'].isna()) & (df['income_type'] == income_type), 'total_income'] = med"
   ]
  },
  {
   "cell_type": "markdown",
   "metadata": {},
   "source": [
    "Проверим количество пропусков после преобразований"
   ]
  },
  {
   "cell_type": "code",
   "execution_count": 148,
   "metadata": {},
   "outputs": [
    {
     "name": "stdout",
     "output_type": "stream",
     "text": [
      "0\n"
     ]
    }
   ],
   "source": [
    "print(df['total_income'].isna().sum()) "
   ]
  },
  {
   "cell_type": "markdown",
   "metadata": {},
   "source": [
    "Заменим пропуски медианным значением в столбце 'days_employed'."
   ]
  },
  {
   "cell_type": "code",
   "execution_count": 149,
   "metadata": {},
   "outputs": [
    {
     "name": "stdout",
     "output_type": "stream",
     "text": [
      "1 -1416.1418430096792\n",
      "0 -1036.583485642851\n",
      "3 -1681.245020557907\n",
      "2 -1634.3422270463668\n",
      "-1 -1391.963377710656\n",
      "4 -1866.4264055759927\n",
      "20 -957.2512784292198\n",
      "5 -1231.5714864842407\n"
     ]
    }
   ],
   "source": [
    "for children in df['children'].unique():\n",
    "    med_1 = df.loc[df['children'] == children, 'days_employed'].median()\n",
    "    print(children, med_1)\n",
    "    df.loc[(df['days_employed'].isna()) & (df['children'] == children), 'days_employed'] = med_1"
   ]
  },
  {
   "cell_type": "markdown",
   "metadata": {},
   "source": [
    "Проверим пропуски после преобразования"
   ]
  },
  {
   "cell_type": "code",
   "execution_count": 150,
   "metadata": {},
   "outputs": [
    {
     "name": "stdout",
     "output_type": "stream",
     "text": [
      "0\n"
     ]
    }
   ],
   "source": [
    "print(df['days_employed'].isna().sum()) "
   ]
  },
  {
   "cell_type": "code",
   "execution_count": 151,
   "metadata": {},
   "outputs": [
    {
     "name": "stdout",
     "output_type": "stream",
     "text": [
      "<class 'pandas.core.frame.DataFrame'>\n",
      "RangeIndex: 21525 entries, 0 to 21524\n",
      "Data columns (total 12 columns):\n",
      "children            21525 non-null int64\n",
      "days_employed       21525 non-null float64\n",
      "dob_years           21525 non-null int64\n",
      "education           21525 non-null object\n",
      "education_id        21525 non-null int64\n",
      "family_status       21525 non-null object\n",
      "family_status_id    21525 non-null int64\n",
      "gender              21525 non-null object\n",
      "income_type         21525 non-null object\n",
      "debt                21525 non-null int64\n",
      "total_income        21525 non-null float64\n",
      "purpose             21525 non-null object\n",
      "dtypes: float64(2), int64(5), object(5)\n",
      "memory usage: 2.0+ MB\n"
     ]
    }
   ],
   "source": [
    "df.info() "
   ]
  },
  {
   "cell_type": "markdown",
   "metadata": {},
   "source": [
    "Теперь во всех столбцах одинаковое количество строк - 21525."
   ]
  },
  {
   "cell_type": "markdown",
   "metadata": {},
   "source": [
    "**Вывод**"
   ]
  },
  {
   "cell_type": "markdown",
   "metadata": {},
   "source": [
    "- С помощью метода isna() в столбцах 'days_employed' и 'total_income' были обнаружены пропуски в одних и тех же строках - NaN. NaN - имеет вещественный тип данных (float64), поэтому заменили пропуски медианными значениями в сочетании с группировкой по одной перемнной.\n",
    "- Причины пропуска могуть быть связаны с ошибкой оператора, вследствие чего произошла неверная выгрузка, необходимо обратиться к отделу или оператору, которые занимаются этим, рассказать проблему и исправить ошибку.\n",
    "- Также обнаружены неадекватные цифры стажа, стоят завышенные значения (max значение = 401755.400475). При использовании этих значений в расчетах, мы бы получили неправльную картину. Но так как этот столбец не задействован в исследовании и выявлении заданных зависисмостей оставим данные в таком виде. На дальнейших ход исследования они не повлияют."
   ]
  },
  {
   "cell_type": "markdown",
   "metadata": {},
   "source": [
    "### Замена типа данных"
   ]
  },
  {
   "cell_type": "markdown",
   "metadata": {},
   "source": [
    "В двух столбцах 'total_income' и 'days_employed' вещественный тип данных (float64). С помощью метода astype() приведем данные к целочисленному типу. Выбран метод astype(), так как он приводит значения в нужный тип данных, в отличие, например, от метода to_numeric(), который приводит все числа исключительно к типу данных float."
   ]
  },
  {
   "cell_type": "markdown",
   "metadata": {},
   "source": [
    "Приведем данные столбца 'total_income' к целочисленному типу."
   ]
  },
  {
   "cell_type": "code",
   "execution_count": 152,
   "metadata": {},
   "outputs": [],
   "source": [
    "df['total_income'] = df['total_income'].astype('int') "
   ]
  },
  {
   "cell_type": "markdown",
   "metadata": {},
   "source": [
    "Приведем данные столбца 'days_employed' к целочисленному типу."
   ]
  },
  {
   "cell_type": "code",
   "execution_count": 153,
   "metadata": {},
   "outputs": [],
   "source": [
    "df['days_employed'] = df['days_employed'].astype('int') "
   ]
  },
  {
   "cell_type": "markdown",
   "metadata": {},
   "source": [
    "#### Оптимизация хранения числовых данных с использованием подтипов"
   ]
  },
  {
   "cell_type": "markdown",
   "metadata": {},
   "source": [
    "Для просмотра сколько памяти используют типы данных напишкм функцию df_usage(pandas_obj)."
   ]
  },
  {
   "cell_type": "code",
   "execution_count": 154,
   "metadata": {},
   "outputs": [],
   "source": [
    "def df_usage(pandas_obj):\n",
    "    if isinstance(pandas_obj,pd.DataFrame):\n",
    "        usage_b = pandas_obj.memory_usage(deep=True).sum()\n",
    "    else: # если это не DataFrame, то это Series\n",
    "        usage_b = pandas_obj.memory_usage(deep=True)\n",
    "    usage_mb = usage_b / 1024 ** 2 # в мегабайты\n",
    "    return \"{:03.2f} MB\".format(usage_mb)"
   ]
  },
  {
   "cell_type": "markdown",
   "metadata": {},
   "source": [
    "Оптимизируем наши данные с целочисленным типом данных применяя вышенаписанную функцию df_usage(pandas_obj) и функцию pd.to_numeric()"
   ]
  },
  {
   "cell_type": "code",
   "execution_count": 155,
   "metadata": {},
   "outputs": [
    {
     "name": "stdout",
     "output_type": "stream",
     "text": [
      "1.15 MB\n",
      "0.49 MB\n"
     ]
    }
   ],
   "source": [
    "df_int = df.select_dtypes(include=['int'])\n",
    "converted_int = df_int.apply(pd.to_numeric,downcast='unsigned')\n",
    "\n",
    "print(df_usage(df_int))\n",
    "print(df_usage(converted_int))\n"
   ]
  },
  {
   "cell_type": "markdown",
   "metadata": {},
   "source": [
    "Посмотрим на какие подтипы в итоге у нас произошла замена"
   ]
  },
  {
   "cell_type": "code",
   "execution_count": 156,
   "metadata": {},
   "outputs": [
    {
     "data": {
      "text/html": [
       "<div>\n",
       "<style scoped>\n",
       "    .dataframe tbody tr th:only-of-type {\n",
       "        vertical-align: middle;\n",
       "    }\n",
       "\n",
       "    .dataframe tbody tr th {\n",
       "        vertical-align: top;\n",
       "    }\n",
       "\n",
       "    .dataframe thead th {\n",
       "        text-align: right;\n",
       "    }\n",
       "</style>\n",
       "<table border=\"1\" class=\"dataframe\">\n",
       "  <thead>\n",
       "    <tr style=\"text-align: right;\">\n",
       "      <th></th>\n",
       "      <th>before</th>\n",
       "      <th>after</th>\n",
       "    </tr>\n",
       "  </thead>\n",
       "  <tbody>\n",
       "    <tr>\n",
       "      <td>uint8</td>\n",
       "      <td>NaN</td>\n",
       "      <td>4</td>\n",
       "    </tr>\n",
       "    <tr>\n",
       "      <td>uint32</td>\n",
       "      <td>NaN</td>\n",
       "      <td>1</td>\n",
       "    </tr>\n",
       "    <tr>\n",
       "      <td>int64</td>\n",
       "      <td>7.0</td>\n",
       "      <td>2</td>\n",
       "    </tr>\n",
       "  </tbody>\n",
       "</table>\n",
       "</div>"
      ],
      "text/plain": [
       "        before  after\n",
       "uint8      NaN      4\n",
       "uint32     NaN      1\n",
       "int64      7.0      2"
      ]
     },
     "execution_count": 156,
     "metadata": {},
     "output_type": "execute_result"
    }
   ],
   "source": [
    "compare_ints = pd.concat([df_int.dtypes,converted_int.dtypes],axis=1)\n",
    "compare_ints.columns = ['before','after']\n",
    "compare_ints.apply(pd.Series.value_counts)"
   ]
  },
  {
   "cell_type": "markdown",
   "metadata": {},
   "source": [
    "Исходя из результата видим, что теперь из 7 столбцов с целочисленным типом данных: 4 столбца нашего датафрейма имеют тип данных uint8, 1 столбец имеет тип данных uint32 и 2 столбца так и остались с типом данных int64.\n",
    "Использования памяти упало с 1,15 до 0,49 мегабайт, мы снизили потребление памяти на 58%."
   ]
  },
  {
   "cell_type": "markdown",
   "metadata": {},
   "source": [
    "Создадим копию нашего датафрейма, используем эти оптимизированные числовые столбцы вместо тех, что присутствовали в нём изначально, и посмотрим на общий показатель использования памяти после оптимизации."
   ]
  },
  {
   "cell_type": "code",
   "execution_count": 157,
   "metadata": {},
   "outputs": [
    {
     "name": "stdout",
     "output_type": "stream",
     "text": [
      "13.49 MB\n",
      "12.83 MB\n"
     ]
    }
   ],
   "source": [
    "optimized_df = df.copy()\n",
    "\n",
    "optimized_df[converted_int.columns] = converted_int\n",
    "\n",
    "print(df_usage(df))\n",
    "print(df_usage(optimized_df))"
   ]
  },
  {
   "cell_type": "markdown",
   "metadata": {},
   "source": [
    "Потребление памяти снизилось на 5 %."
   ]
  },
  {
   "cell_type": "markdown",
   "metadata": {},
   "source": [
    "#### Оптимизация хранения данных объектных типов с использованием категориальных переменных"
   ]
  },
  {
   "cell_type": "markdown",
   "metadata": {},
   "source": [
    "В нашем датафрейме есть два набора словарей \"education - education_id\" и \"family_status - family_status_id\". В столбцах \"education\" и \"family_status\" содержатся значения из ограниченного набора. Вследствие чего мы можем объектные данные в стобцах \"education\" и \"family_status\" преобразовать в категориальные."
   ]
  },
  {
   "cell_type": "code",
   "execution_count": 158,
   "metadata": {},
   "outputs": [
    {
     "name": "stdout",
     "output_type": "stream",
     "text": [
      "0     высшее\n",
      "1    среднее\n",
      "2    Среднее\n",
      "3    среднее\n",
      "4    среднее\n",
      "Name: education, dtype: object\n",
      "0     высшее\n",
      "1    среднее\n",
      "2    Среднее\n",
      "3    среднее\n",
      "4    среднее\n",
      "Name: education, dtype: category\n",
      "Categories (15, object): [ВЫСШЕЕ, Высшее, НАЧАЛЬНОЕ, НЕОКОНЧЕННОЕ ВЫСШЕЕ, ..., начальное, неоконченное высшее, среднее, ученая степень]\n"
     ]
    }
   ],
   "source": [
    "#До\n",
    "dow_education = optimized_df.education\n",
    "print(dow_education.head())\n",
    "#После преобразования \n",
    "dow_cat_ed = dow_education.astype('category')\n",
    "print(dow_cat_ed.head())"
   ]
  },
  {
   "cell_type": "markdown",
   "metadata": {},
   "source": [
    "Сравним потребление памяти до/после преобразования столбца"
   ]
  },
  {
   "cell_type": "code",
   "execution_count": 159,
   "metadata": {},
   "outputs": [
    {
     "name": "stdout",
     "output_type": "stream",
     "text": [
      "2.29 MB\n",
      "0.02 MB\n"
     ]
    }
   ],
   "source": [
    "print(df_usage(dow_education))\n",
    "print(df_usage(dow_cat_ed))"
   ]
  },
  {
   "cell_type": "markdown",
   "metadata": {},
   "source": [
    "Как видно, сначала потреблялось 2.29 мегабайт памяти, а после оптимизации — лишь 0.02 мегабайт, что означает 99% улучшение этого показателя."
   ]
  },
  {
   "cell_type": "code",
   "execution_count": 160,
   "metadata": {},
   "outputs": [
    {
     "name": "stdout",
     "output_type": "stream",
     "text": [
      "0     женат / замужем\n",
      "1     женат / замужем\n",
      "2     женат / замужем\n",
      "3     женат / замужем\n",
      "4    гражданский брак\n",
      "Name: family_status, dtype: object\n",
      "0     женат / замужем\n",
      "1     женат / замужем\n",
      "2     женат / замужем\n",
      "3     женат / замужем\n",
      "4    гражданский брак\n",
      "Name: family_status, dtype: category\n",
      "Categories (5, object): [Не женат / не замужем, в разводе, вдовец / вдова, гражданский брак, женат / замужем]\n"
     ]
    }
   ],
   "source": [
    "#до\n",
    "dow_family = optimized_df.family_status\n",
    "print(dow_family.head())\n",
    "#после преобразования\n",
    "dow_cat_fm = dow_family.astype('category')\n",
    "print(dow_cat_fm.head())"
   ]
  },
  {
   "cell_type": "code",
   "execution_count": 161,
   "metadata": {},
   "outputs": [
    {
     "name": "stdout",
     "output_type": "stream",
     "text": [
      "2.93 MB\n",
      "0.02 MB\n"
     ]
    }
   ],
   "source": [
    "print(df_usage(dow_family))\n",
    "print(df_usage(dow_cat_fm))"
   ]
  },
  {
   "cell_type": "markdown",
   "metadata": {},
   "source": [
    "Как видно, сначала потреблялось 2.93 мегабайт памяти, а после оптимизации — лишь 0.02 мегабайт, что означает 99% улучшение этого показателя."
   ]
  },
  {
   "cell_type": "code",
   "execution_count": 162,
   "metadata": {},
   "outputs": [],
   "source": [
    "optimized_df['family_status'] = optimized_df['family_status'].astype('category')"
   ]
  },
  {
   "cell_type": "code",
   "execution_count": 163,
   "metadata": {},
   "outputs": [],
   "source": [
    "optimized_df['education'] = optimized_df['education'].astype('category')"
   ]
  },
  {
   "cell_type": "markdown",
   "metadata": {},
   "source": [
    "Проверим, произошла ли замена"
   ]
  },
  {
   "cell_type": "code",
   "execution_count": 164,
   "metadata": {},
   "outputs": [
    {
     "name": "stdout",
     "output_type": "stream",
     "text": [
      "<class 'pandas.core.frame.DataFrame'>\n",
      "RangeIndex: 21525 entries, 0 to 21524\n",
      "Data columns (total 12 columns):\n",
      "children            21525 non-null int64\n",
      "days_employed       21525 non-null int64\n",
      "dob_years           21525 non-null uint8\n",
      "education           21525 non-null category\n",
      "education_id        21525 non-null uint8\n",
      "family_status       21525 non-null category\n",
      "family_status_id    21525 non-null uint8\n",
      "gender              21525 non-null object\n",
      "income_type         21525 non-null object\n",
      "debt                21525 non-null uint8\n",
      "total_income        21525 non-null uint32\n",
      "purpose             21525 non-null object\n",
      "dtypes: category(2), int64(2), object(3), uint32(1), uint8(4)\n",
      "memory usage: 1.0+ MB\n"
     ]
    }
   ],
   "source": [
    "optimized_df.info()"
   ]
  },
  {
   "cell_type": "markdown",
   "metadata": {},
   "source": [
    "После оптимизации типов данных получили новый оптимизированный датафрейм optimized_df, который имеет размер в два раза меньше относительно исходного. Теперь в датафрейме существуют следующие типы данных: int64, object, category и подтипы данных: uint8, uint32."
   ]
  },
  {
   "cell_type": "markdown",
   "metadata": {},
   "source": [
    "**Вывод**"
   ]
  },
  {
   "cell_type": "markdown",
   "metadata": {},
   "source": [
    "После замены и оптимизации хранения типов данных в памяти, мы получили новый оптимизированный датафрейм optimized_df, который в два раза меньше относительно исходного (было 2 МВ, стало 1.0 MB). Теперь в датафрейме находятся следующие типы данных: int64, object, category и подтипы данных: uint8, uint32.  "
   ]
  },
  {
   "cell_type": "markdown",
   "metadata": {},
   "source": [
    "### Обработка дубликатов"
   ]
  },
  {
   "cell_type": "markdown",
   "metadata": {},
   "source": [
    "#### Поиск и удаление явных дубликатов"
   ]
  },
  {
   "cell_type": "markdown",
   "metadata": {},
   "source": [
    "С помощью метода duplicated() найдем количество дубликатов / совпадений"
   ]
  },
  {
   "cell_type": "code",
   "execution_count": 165,
   "metadata": {},
   "outputs": [
    {
     "data": {
      "text/plain": [
       "54"
      ]
     },
     "execution_count": 165,
     "metadata": {},
     "output_type": "execute_result"
    }
   ],
   "source": [
    "optimized_df.duplicated().sum()"
   ]
  },
  {
   "cell_type": "markdown",
   "metadata": {},
   "source": [
    "Наглядно посмотрим таблицу дубликатов / совпадений"
   ]
  },
  {
   "cell_type": "code",
   "execution_count": 166,
   "metadata": {},
   "outputs": [
    {
     "name": "stdout",
     "output_type": "stream",
     "text": [
      "      children  days_employed  dob_years education  education_id  \\\n",
      "2849         0          -1036         41   среднее             1   \n",
      "4182         1          -1416         34    ВЫСШЕЕ             0   \n",
      "4851         0          -1036         60   среднее             1   \n",
      "5557         0          -1036         58   среднее             1   \n",
      "7808         0          -1036         57   среднее             1   \n",
      "\n",
      "         family_status  family_status_id gender income_type  debt  \\\n",
      "2849   женат / замужем                 0      F   сотрудник     0   \n",
      "4182  гражданский брак                 1      F   сотрудник     0   \n",
      "4851  гражданский брак                 1      F   пенсионер     0   \n",
      "5557  гражданский брак                 1      F   пенсионер     0   \n",
      "7808  гражданский брак                 1      F   пенсионер     0   \n",
      "\n",
      "      total_income                  purpose  \n",
      "2849        142594  покупка жилья для семьи  \n",
      "4182        142594                  свадьба  \n",
      "4851        118514                  свадьба  \n",
      "5557        118514          сыграть свадьбу  \n",
      "7808        118514    на проведение свадьбы  \n"
     ]
    }
   ],
   "source": [
    "duplicated_optimized_df = optimized_df[df.duplicated()].head() \n",
    "print(duplicated_optimized_df)"
   ]
  },
  {
   "cell_type": "markdown",
   "metadata": {},
   "source": [
    "Удалим дубликаты без создаия нового столбца со старыми значениями индексов"
   ]
  },
  {
   "cell_type": "code",
   "execution_count": 167,
   "metadata": {},
   "outputs": [],
   "source": [
    "optimized_df = optimized_df.drop_duplicates().reset_index(drop=True)"
   ]
  },
  {
   "cell_type": "markdown",
   "metadata": {},
   "source": [
    "Проверим ушли ли дубликаты / совпадения"
   ]
  },
  {
   "cell_type": "code",
   "execution_count": 168,
   "metadata": {},
   "outputs": [
    {
     "data": {
      "text/plain": [
       "0"
      ]
     },
     "execution_count": 168,
     "metadata": {},
     "output_type": "execute_result"
    }
   ],
   "source": [
    "optimized_df.duplicated().sum() "
   ]
  },
  {
   "cell_type": "markdown",
   "metadata": {},
   "source": [
    "#### Поиск и удаления неявных дубликатов"
   ]
  },
  {
   "cell_type": "markdown",
   "metadata": {},
   "source": [
    "Посмотрим уникальные значения столбцов для выявления неявных дубликатов. Неявные дубликаты ищем методом unique() в сочетании с методом sort_values(), который выдает значения в порядке возрастания."
   ]
  },
  {
   "cell_type": "markdown",
   "metadata": {},
   "source": [
    "Просмотр уникальных значений для столбца 'children'"
   ]
  },
  {
   "cell_type": "code",
   "execution_count": 169,
   "metadata": {},
   "outputs": [
    {
     "data": {
      "text/plain": [
       "array([-1,  0,  1,  2,  3,  4,  5, 20])"
      ]
     },
     "execution_count": 169,
     "metadata": {},
     "output_type": "execute_result"
    }
   ],
   "source": [
    "optimized_df['children'].sort_values().unique() "
   ]
  },
  {
   "cell_type": "markdown",
   "metadata": {},
   "source": [
    "В столбце 'children' мы видим отрицательные значения и число 20. Предположительно поставили случайно, поэтому есть смысл привести данные столбца к абсолютным значениям. Число 20 также введено по ошибке, заменим его на медианное значение, так как непоятно хотели внести в таблицу число 2 или 0."
   ]
  },
  {
   "cell_type": "markdown",
   "metadata": {},
   "source": [
    "Избавимся от минус с помощью функции abs() в столбце 'children'"
   ]
  },
  {
   "cell_type": "code",
   "execution_count": 170,
   "metadata": {},
   "outputs": [],
   "source": [
    "optimized_df['children'] = optimized_df['children'].abs() "
   ]
  },
  {
   "cell_type": "markdown",
   "metadata": {},
   "source": [
    "Заменим число 20 медианным значенимем с помощью логической индексации."
   ]
  },
  {
   "cell_type": "code",
   "execution_count": 171,
   "metadata": {},
   "outputs": [],
   "source": [
    "med_2 = optimized_df.loc[df.loc[:, 'children'] != 20]['children'].median()\n",
    "df['children'] = df['children'].replace(20, med_2)"
   ]
  },
  {
   "cell_type": "markdown",
   "metadata": {},
   "source": [
    "Проверим с помощью метода sort_values() как изменился столбец 'children' после преобразований."
   ]
  },
  {
   "cell_type": "code",
   "execution_count": 172,
   "metadata": {},
   "outputs": [
    {
     "name": "stdout",
     "output_type": "stream",
     "text": [
      "0     14107\n",
      "1      4856\n",
      "2      2052\n",
      "3       330\n",
      "20       76\n",
      "4        41\n",
      "5         9\n",
      "Name: children, dtype: int64\n"
     ]
    }
   ],
   "source": [
    "print(optimized_df['children'].value_counts())"
   ]
  },
  {
   "cell_type": "markdown",
   "metadata": {},
   "source": [
    "Убедились, что нет теперь отрицательных значений и цифры 20."
   ]
  },
  {
   "cell_type": "markdown",
   "metadata": {},
   "source": [
    "Просмотр уникальных значений для столбца 'days_employed'"
   ]
  },
  {
   "cell_type": "code",
   "execution_count": 173,
   "metadata": {},
   "outputs": [
    {
     "data": {
      "text/plain": [
       "array([-18388, -17615, -16593, ..., 401675, 401715, 401755])"
      ]
     },
     "execution_count": 173,
     "metadata": {},
     "output_type": "execute_result"
    }
   ],
   "source": [
    "optimized_df['days_employed'].sort_values().unique() "
   ]
  },
  {
   "cell_type": "markdown",
   "metadata": {},
   "source": [
    "В столбце 'days_employed' присутсвуют отрицательные значения. Предположительно при заполнении таблицы '-' поставили случайно. Приведем данные столбца к абсолютным значениям с помощью функции abs()."
   ]
  },
  {
   "cell_type": "markdown",
   "metadata": {},
   "source": [
    "Избавимся от минус с помощью функции abs() в столбце 'days_employed'"
   ]
  },
  {
   "cell_type": "code",
   "execution_count": 174,
   "metadata": {},
   "outputs": [],
   "source": [
    "optimized_df['days_employed'] = optimized_df['days_employed'].abs() "
   ]
  },
  {
   "cell_type": "markdown",
   "metadata": {},
   "source": [
    "Проверим сработала ли функция abs()"
   ]
  },
  {
   "cell_type": "code",
   "execution_count": 175,
   "metadata": {},
   "outputs": [
    {
     "data": {
      "text/plain": [
       "array([    24,     30,     33, ..., 401675, 401715, 401755])"
      ]
     },
     "execution_count": 175,
     "metadata": {},
     "output_type": "execute_result"
    }
   ],
   "source": [
    "optimized_df['days_employed'].sort_values().unique() "
   ]
  },
  {
   "cell_type": "markdown",
   "metadata": {},
   "source": [
    "Просмотр уникальных значений для столбца 'dob_years'"
   ]
  },
  {
   "cell_type": "code",
   "execution_count": 176,
   "metadata": {},
   "outputs": [
    {
     "data": {
      "text/plain": [
       "array([ 0, 19, 20, 21, 22, 23, 24, 25, 26, 27, 28, 29, 30, 31, 32, 33, 34,\n",
       "       35, 36, 37, 38, 39, 40, 41, 42, 43, 44, 45, 46, 47, 48, 49, 50, 51,\n",
       "       52, 53, 54, 55, 56, 57, 58, 59, 60, 61, 62, 63, 64, 65, 66, 67, 68,\n",
       "       69, 70, 71, 72, 73, 74, 75], dtype=uint64)"
      ]
     },
     "execution_count": 176,
     "metadata": {},
     "output_type": "execute_result"
    }
   ],
   "source": [
    "optimized_df['dob_years'].sort_values().unique() "
   ]
  },
  {
   "cell_type": "markdown",
   "metadata": {},
   "source": [
    "В столбце 'dob_years' нет дубликатов"
   ]
  },
  {
   "cell_type": "markdown",
   "metadata": {},
   "source": [
    "Просмотр уникальных значений для столбца 'education'"
   ]
  },
  {
   "cell_type": "code",
   "execution_count": 177,
   "metadata": {},
   "outputs": [
    {
     "data": {
      "text/plain": [
       "[ВЫСШЕЕ, Высшее, НАЧАЛЬНОЕ, НЕОКОНЧЕННОЕ ВЫСШЕЕ, Начальное, ..., высшее, начальное, неоконченное высшее, среднее, ученая степень]\n",
       "Length: 15\n",
       "Categories (15, object): [ВЫСШЕЕ, Высшее, НАЧАЛЬНОЕ, НЕОКОНЧЕННОЕ ВЫСШЕЕ, ..., начальное, неоконченное высшее, среднее, ученая степень]"
      ]
     },
     "execution_count": 177,
     "metadata": {},
     "output_type": "execute_result"
    }
   ],
   "source": [
    "optimized_df['education'].sort_values().unique() "
   ]
  },
  {
   "cell_type": "markdown",
   "metadata": {},
   "source": [
    "В столбце 'education' используется разный регистр букв, вследствие чего образуются дубликаты."
   ]
  },
  {
   "cell_type": "markdown",
   "metadata": {},
   "source": [
    "Приведем все значения столбца к нижнему регистру с помощью метода str.lower()"
   ]
  },
  {
   "cell_type": "code",
   "execution_count": 178,
   "metadata": {},
   "outputs": [],
   "source": [
    "optimized_df['education'] = optimized_df['education'].str.lower()"
   ]
  },
  {
   "cell_type": "markdown",
   "metadata": {},
   "source": [
    "Проверим сработал ли метод str.lower()"
   ]
  },
  {
   "cell_type": "code",
   "execution_count": 179,
   "metadata": {},
   "outputs": [
    {
     "name": "stdout",
     "output_type": "stream",
     "text": [
      "среднее                15188\n",
      "высшее                  5251\n",
      "неоконченное высшее      744\n",
      "начальное                282\n",
      "ученая степень             6\n",
      "Name: education, dtype: int64\n"
     ]
    }
   ],
   "source": [
    "print(optimized_df['education'].value_counts()) "
   ]
  },
  {
   "cell_type": "markdown",
   "metadata": {},
   "source": [
    "После проверки убедились, что нет больше неявных дубликатов в данном столбце."
   ]
  },
  {
   "cell_type": "code",
   "execution_count": 180,
   "metadata": {},
   "outputs": [
    {
     "data": {
      "text/plain": [
       "array([0, 1, 2, 3, 4], dtype=uint64)"
      ]
     },
     "execution_count": 180,
     "metadata": {},
     "output_type": "execute_result"
    }
   ],
   "source": [
    "optimized_df['education_id'].sort_values().unique() "
   ]
  },
  {
   "cell_type": "markdown",
   "metadata": {},
   "source": [
    "В столбце 'education_id' нет дубликатов"
   ]
  },
  {
   "cell_type": "code",
   "execution_count": 181,
   "metadata": {},
   "outputs": [
    {
     "data": {
      "text/plain": [
       "[Не женат / не замужем, в разводе, вдовец / вдова, гражданский брак, женат / замужем]\n",
       "Categories (5, object): [Не женат / не замужем, в разводе, вдовец / вдова, гражданский брак, женат / замужем]"
      ]
     },
     "execution_count": 181,
     "metadata": {},
     "output_type": "execute_result"
    }
   ],
   "source": [
    "optimized_df['family_status'].sort_values().unique() "
   ]
  },
  {
   "cell_type": "markdown",
   "metadata": {},
   "source": [
    "В столбце 'family_status' нет дубликатов"
   ]
  },
  {
   "cell_type": "code",
   "execution_count": 182,
   "metadata": {},
   "outputs": [
    {
     "data": {
      "text/plain": [
       "array([0, 1, 2, 3, 4], dtype=uint64)"
      ]
     },
     "execution_count": 182,
     "metadata": {},
     "output_type": "execute_result"
    }
   ],
   "source": [
    "optimized_df['family_status_id'].sort_values().unique() "
   ]
  },
  {
   "cell_type": "markdown",
   "metadata": {},
   "source": [
    "В столбце 'family_status_id' нет дубликатов"
   ]
  },
  {
   "cell_type": "code",
   "execution_count": 183,
   "metadata": {},
   "outputs": [
    {
     "data": {
      "text/plain": [
       "array(['F', 'M', 'XNA'], dtype=object)"
      ]
     },
     "execution_count": 183,
     "metadata": {},
     "output_type": "execute_result"
    }
   ],
   "source": [
    "optimized_df['gender'].sort_values().unique() "
   ]
  },
  {
   "cell_type": "code",
   "execution_count": 184,
   "metadata": {},
   "outputs": [
    {
     "name": "stdout",
     "output_type": "stream",
     "text": [
      "F      14189\n",
      "M       7281\n",
      "XNA        1\n",
      "Name: gender, dtype: int64\n"
     ]
    }
   ],
   "source": [
    "print(optimized_df['gender'].value_counts()) "
   ]
  },
  {
   "cell_type": "markdown",
   "metadata": {},
   "source": [
    "В данных есть  1 строка со значением пола - 'XNA', но так как мы не знаем пол человека и не можем сделать предположений из данных, а также в расчетах использовать значение не будем, то оставляем его как есть. Скорее всего человек не захотел оставлять данные о себе и хотел оставить пропуск, но произошла опечатка."
   ]
  },
  {
   "cell_type": "code",
   "execution_count": 185,
   "metadata": {},
   "outputs": [
    {
     "data": {
      "text/plain": [
       "array(['безработный', 'в декрете', 'госслужащий', 'компаньон',\n",
       "       'пенсионер', 'предприниматель', 'сотрудник', 'студент'],\n",
       "      dtype=object)"
      ]
     },
     "execution_count": 185,
     "metadata": {},
     "output_type": "execute_result"
    }
   ],
   "source": [
    "optimized_df['income_type'].sort_values().unique()"
   ]
  },
  {
   "cell_type": "code",
   "execution_count": 186,
   "metadata": {},
   "outputs": [
    {
     "data": {
      "text/plain": [
       "array([0, 1], dtype=uint64)"
      ]
     },
     "execution_count": 186,
     "metadata": {},
     "output_type": "execute_result"
    }
   ],
   "source": [
    "optimized_df['debt'].sort_values().unique()"
   ]
  },
  {
   "cell_type": "markdown",
   "metadata": {},
   "source": [
    "В столбце 'debt' нет дубликатов"
   ]
  },
  {
   "cell_type": "code",
   "execution_count": 187,
   "metadata": {},
   "outputs": [
    {
     "data": {
      "text/plain": [
       "array(['автомобили', 'автомобиль', 'высшее образование',\n",
       "       'дополнительное образование', 'жилье',\n",
       "       'заняться высшим образованием', 'заняться образованием',\n",
       "       'на покупку автомобиля', 'на покупку подержанного автомобиля',\n",
       "       'на покупку своего автомобиля', 'на проведение свадьбы',\n",
       "       'недвижимость', 'образование', 'операции с жильем',\n",
       "       'операции с коммерческой недвижимостью',\n",
       "       'операции с недвижимостью', 'операции со своей недвижимостью',\n",
       "       'покупка жилой недвижимости', 'покупка жилья',\n",
       "       'покупка жилья для сдачи', 'покупка жилья для семьи',\n",
       "       'покупка коммерческой недвижимости', 'покупка недвижимости',\n",
       "       'покупка своего жилья', 'получение высшего образования',\n",
       "       'получение дополнительного образования', 'получение образования',\n",
       "       'приобретение автомобиля', 'профильное образование',\n",
       "       'ремонт жилью', 'свадьба', 'свой автомобиль',\n",
       "       'сделка с автомобилем', 'сделка с подержанным автомобилем',\n",
       "       'строительство жилой недвижимости', 'строительство недвижимости',\n",
       "       'строительство собственной недвижимости', 'сыграть свадьбу'],\n",
       "      dtype=object)"
      ]
     },
     "execution_count": 187,
     "metadata": {},
     "output_type": "execute_result"
    }
   ],
   "source": [
    "optimized_df['purpose'].sort_values().unique()"
   ]
  },
  {
   "cell_type": "markdown",
   "metadata": {},
   "source": [
    "В столбце 'purpose'есть дубликаты, но их мы исправим ниже с помощью лемматизации. Данные дубликаты возникли из-за того, что нет фиксиррованных слов для описания цели кредита и каждый человек сам формировал словосочетание."
   ]
  },
  {
   "cell_type": "markdown",
   "metadata": {},
   "source": [
    "**Вывод**"
   ]
  },
  {
   "cell_type": "markdown",
   "metadata": {},
   "source": [
    "- В данном разделе мы нашли и обработали явные и неявные дубликаты. \n",
    "- С помощью метода drop_duplicates() удалили все явные дубликаты. Вызывая метод sort_values() в сочетании с методом unique() были обнаружены неявные дубликаты. \n",
    "- В столбце 'children' были заменены отрицательные значения и число 20. Предположительно минус поставили случайно, поэтому данные столбца привели  к абсолютным значениям с помощью функции abs(). Число 20 также введено по ошибке, заменили его на медианное значение, так как непоятно хотели внести в таблицу число 2 или 0. \n",
    "- В столбце 'days_employed' присутсвовали отрицательные значения. Предположительно при заполнении таблицы '-' поставили случайно. Привели данные столбца к абсолютным значениям с помощью функции abs(). \n",
    "- В столбце 'education' привели все значения строк к нижнему регистру с помощью метода str.lower(). \n",
    "- В столбце \"gender\"  есть 1 строка со значением пола - 'XNA', но так как мы не знаем пол человека и не можем сделать предположений из данных, а также в расчетах использовать значение не будем, то оставили строку без изменений. Скорее всего человек не захотел оставлять данные о себе и хотел оставить пропуск, но произошла опечатка."
   ]
  },
  {
   "cell_type": "markdown",
   "metadata": {},
   "source": [
    "### Лемматизация"
   ]
  },
  {
   "cell_type": "markdown",
   "metadata": {},
   "source": [
    "Вызывем библиотеку pymystem3 чтобы привести леммитизацию для значений строк столбца \"purpose\".\n",
    "Для этого создадим функцию lemmatize_purpose, аргументом, которой является текст, слово или словосочетание, к которым нужно применить данный метод. Далее создадим пустой список, куда будут сохраняться данные. Запустим цикл перебора строк в столбце \"purpose\", далее внутри цикла вызовем функцию lemmatize_purpose, которая преобразует каждую строку сьолбца в лемму. После чего преобразованная строка добавляется в созданный заранее список. Вне цикла создаем новый столбец рассматриваемого датафрейма, где будут отражены лемматизированные строки столбца \"purpose\"."
   ]
  },
  {
   "cell_type": "code",
   "execution_count": 188,
   "metadata": {},
   "outputs": [
    {
     "name": "stdout",
     "output_type": "stream",
     "text": [
      "   children  days_employed  dob_years education  education_id  \\\n",
      "0         1           8437         42    высшее             0   \n",
      "1         1           4024         36   среднее             1   \n",
      "2         0           5623         33   среднее             1   \n",
      "3         3           4124         32   среднее             1   \n",
      "4         0         340266         53   среднее             1   \n",
      "5         0            926         27    высшее             0   \n",
      "6         0           2879         43    высшее             0   \n",
      "7         0            152         50   среднее             1   \n",
      "8         2           6929         35    высшее             0   \n",
      "9         0           2188         41   среднее             1   \n",
      "\n",
      "      family_status  family_status_id gender income_type  debt  total_income  \\\n",
      "0   женат / замужем                 0      F   сотрудник     0        253875   \n",
      "1   женат / замужем                 0      F   сотрудник     0        112080   \n",
      "2   женат / замужем                 0      M   сотрудник     0        145885   \n",
      "3   женат / замужем                 0      M   сотрудник     0        267628   \n",
      "4  гражданский брак                 1      F   пенсионер     0        158616   \n",
      "5  гражданский брак                 1      M   компаньон     0        255763   \n",
      "6   женат / замужем                 0      F   компаньон     0        240525   \n",
      "7   женат / замужем                 0      M   сотрудник     0        135823   \n",
      "8  гражданский брак                 1      F   сотрудник     0         95856   \n",
      "9   женат / замужем                 0      M   сотрудник     0        144425   \n",
      "\n",
      "                      purpose              purpose_lemmas  \n",
      "0               покупка жилья               покупка жилье  \n",
      "1     приобретение автомобиля     приобретение автомобиль  \n",
      "2               покупка жилья               покупка жилье  \n",
      "3  дополнительное образование  дополнительный образование  \n",
      "4             сыграть свадьбу             сыграть свадьба  \n",
      "5               покупка жилья               покупка жилье  \n",
      "6           операции с жильем            операция с жилье  \n",
      "7                 образование                 образование  \n",
      "8       на проведение свадьбы       на проведение свадьба  \n",
      "9     покупка жилья для семьи     покупка жилье для семья  \n"
     ]
    }
   ],
   "source": [
    "def lemmatize_purpose(text):\n",
    "    lemmas = m.lemmatize(text)\n",
    "    return ''.join(lemmas).strip()\n",
    "lemma_lst = []\n",
    "for row in optimized_df['purpose']:\n",
    "    row = lemmatize_purpose(row)\n",
    "    lemma_lst.append(row)\n",
    "optimized_df['purpose_lemmas'] = lemma_lst\n",
    "print(optimized_df.head(10))"
   ]
  },
  {
   "cell_type": "markdown",
   "metadata": {},
   "source": [
    "Посчитаем число упоминаний лематизированных строк списке lemma_lst."
   ]
  },
  {
   "cell_type": "code",
   "execution_count": 189,
   "metadata": {},
   "outputs": [
    {
     "name": "stdout",
     "output_type": "stream",
     "text": [
      "Counter({'автомобиль': 972, 'свадьба': 793, 'на проведение свадьба': 773, 'сыграть свадьба': 769, 'операция с недвижимость': 675, 'покупка коммерческий недвижимость': 662, 'операция с жилье': 652, 'покупка жилье для сдача': 652, 'операция с коммерческий недвижимость': 650, 'покупка жилье': 646, 'жилье': 646, 'покупка жилье для семья': 638, 'строительство собственный недвижимость': 635, 'недвижимость': 633, 'операция со свой недвижимость': 627, 'строительство жилой недвижимость': 625, 'покупка недвижимость': 621, 'покупка свой жилье': 620, 'строительство недвижимость': 619, 'ремонт жилье': 607, 'покупка жилой недвижимость': 606, 'на покупка свой автомобиль': 505, 'заниматься высокий образование': 496, 'сделка с подержанный автомобиль': 486, 'свой автомобиль': 479, 'на покупка подержать автомобиль': 478, 'на покупка автомобиль': 472, 'приобретение автомобиль': 461, 'дополнительный образование': 460, 'сделка с автомобиль': 455, 'высокий образование': 452, 'образование': 447, 'получение дополнительный образование': 447, 'получение образование': 442, 'профильный образование': 436, 'получение высокий образование': 426, 'заниматься образование': 408})\n"
     ]
    }
   ],
   "source": [
    "from collections import Counter\n",
    "print(Counter(lemma_lst))"
   ]
  },
  {
   "cell_type": "markdown",
   "metadata": {},
   "source": [
    "Далее в разделе 2.5 с помощью категоризации данных полученные лемы сведем к 4 категориям: автомобиль, образование, недвижимость, свадьба."
   ]
  },
  {
   "cell_type": "markdown",
   "metadata": {},
   "source": [
    "**Вывод**"
   ]
  },
  {
   "cell_type": "markdown",
   "metadata": {},
   "source": [
    "В ходе работы вызвали библиотеку pymystem3 и провели леммитизацию для значений строк столбца \"purpose\". Полученные лемматизированные значения сохранили в новый столбец 'purpose_lemmas' рассматриваемого датафрейма. С помощью специального контейнера Counter из модуля collections посичтали количество упоминаний лемматизированных строк в датафрейме Далее в разделе 2.5 с помощью категоризации данных полученные лемы сведем к 4 категориям: автомобиль, образование, недвижимость, свадьба."
   ]
  },
  {
   "cell_type": "markdown",
   "metadata": {},
   "source": [
    "### Категоризация данных"
   ]
  },
  {
   "cell_type": "markdown",
   "metadata": {},
   "source": [
    "В пункте 2.5 произведем категоризацию данных из столбцов 'children', 'purpose', 'income_total'. Данные для категоризации были выбраны именно такие, потому что их значения нам будут нужны, чтобы овтетить на главные вопросы нашего исследования. Когда они категоризированы проще выявить зависимость. Данные из столбца 'family_status' оставим такими как есть, по сути они уже разбиты на категории."
   ]
  },
  {
   "cell_type": "markdown",
   "metadata": {},
   "source": [
    "#### Категоризация данных 'children'"
   ]
  },
  {
   "cell_type": "markdown",
   "metadata": {},
   "source": [
    "С помощью функции child_group(child) столбец 'children' был разбит на три категории: если 0 детей - категория \"бездетные\", если от одного до 1 до 2 - категория \"малодетные\", в остальных случаях- категория \"многодетные\"."
   ]
  },
  {
   "cell_type": "code",
   "execution_count": 190,
   "metadata": {},
   "outputs": [],
   "source": [
    "def child_group(child):\n",
    "    if child == 0:\n",
    "        return 'бездетные'\n",
    "    if 1 <= child <= 2:\n",
    "        return 'малодетные'\n",
    "    return 'многодетные'\n",
    "optimized_df['child_group'] = optimized_df['children'].apply(child_group)"
   ]
  },
  {
   "cell_type": "markdown",
   "metadata": {},
   "source": [
    "После данной категоризации в рассматриваемом датафрейме был создан столбец 'child_group', где указаны категории в зависимости от данных столбца 'children'."
   ]
  },
  {
   "cell_type": "code",
   "execution_count": 191,
   "metadata": {},
   "outputs": [
    {
     "name": "stdout",
     "output_type": "stream",
     "text": [
      "   children  days_employed  dob_years education  education_id  \\\n",
      "0         1           8437         42    высшее             0   \n",
      "1         1           4024         36   среднее             1   \n",
      "2         0           5623         33   среднее             1   \n",
      "3         3           4124         32   среднее             1   \n",
      "4         0         340266         53   среднее             1   \n",
      "\n",
      "      family_status  family_status_id gender income_type  debt  total_income  \\\n",
      "0   женат / замужем                 0      F   сотрудник     0        253875   \n",
      "1   женат / замужем                 0      F   сотрудник     0        112080   \n",
      "2   женат / замужем                 0      M   сотрудник     0        145885   \n",
      "3   женат / замужем                 0      M   сотрудник     0        267628   \n",
      "4  гражданский брак                 1      F   пенсионер     0        158616   \n",
      "\n",
      "                      purpose              purpose_lemmas  child_group  \n",
      "0               покупка жилья               покупка жилье   малодетные  \n",
      "1     приобретение автомобиля     приобретение автомобиль   малодетные  \n",
      "2               покупка жилья               покупка жилье    бездетные  \n",
      "3  дополнительное образование  дополнительный образование  многодетные  \n",
      "4             сыграть свадьбу             сыграть свадьба    бездетные  \n"
     ]
    }
   ],
   "source": [
    "print(optimized_df.head()) # проверим появился ли новый столбец"
   ]
  },
  {
   "cell_type": "code",
   "execution_count": 192,
   "metadata": {},
   "outputs": [
    {
     "name": "stdout",
     "output_type": "stream",
     "text": [
      "бездетные      14107\n",
      "малодетные      6908\n",
      "многодетные      456\n",
      "Name: child_group, dtype: int64\n"
     ]
    }
   ],
   "source": [
    "print(optimized_df['child_group'].value_counts()) # посмотрим статистику по группам"
   ]
  },
  {
   "cell_type": "markdown",
   "metadata": {},
   "source": [
    "#### Категоризация данных 'purpose'"
   ]
  },
  {
   "cell_type": "markdown",
   "metadata": {},
   "source": [
    "С помощью функции purpose_group(purpose) столбец 'purpose_lemmas' был разбит на четыре категории: если в лемматизированной строке есть слово \"образование\" - категория \"образование\", если в лемматизированной строке есть слово \"автомобиль\" - категория \"автомобиль\", если в лемматизированной строке есть слово свадьба\" - категория \"свадьба\", для остальных случаев - категория \"недвижимость\""
   ]
  },
  {
   "cell_type": "code",
   "execution_count": 193,
   "metadata": {},
   "outputs": [
    {
     "name": "stdout",
     "output_type": "stream",
     "text": [
      "   children  days_employed  dob_years education  education_id  \\\n",
      "0         1           8437         42    высшее             0   \n",
      "1         1           4024         36   среднее             1   \n",
      "2         0           5623         33   среднее             1   \n",
      "3         3           4124         32   среднее             1   \n",
      "4         0         340266         53   среднее             1   \n",
      "\n",
      "      family_status  family_status_id gender income_type  debt  total_income  \\\n",
      "0   женат / замужем                 0      F   сотрудник     0        253875   \n",
      "1   женат / замужем                 0      F   сотрудник     0        112080   \n",
      "2   женат / замужем                 0      M   сотрудник     0        145885   \n",
      "3   женат / замужем                 0      M   сотрудник     0        267628   \n",
      "4  гражданский брак                 1      F   пенсионер     0        158616   \n",
      "\n",
      "                      purpose              purpose_lemmas  child_group  \\\n",
      "0               покупка жилья               покупка жилье   малодетные   \n",
      "1     приобретение автомобиля     приобретение автомобиль   малодетные   \n",
      "2               покупка жилья               покупка жилье    бездетные   \n",
      "3  дополнительное образование  дополнительный образование  многодетные   \n",
      "4             сыграть свадьбу             сыграть свадьба    бездетные   \n",
      "\n",
      "  purpose_group  \n",
      "0  недвижимость  \n",
      "1    автомобиль  \n",
      "2  недвижимость  \n",
      "3   образование  \n",
      "4       свадьба  \n"
     ]
    }
   ],
   "source": [
    "def purpose_group(purpose):\n",
    "        if 'образование' in row:\n",
    "            return 'образование'\n",
    "        if 'автомобиль' in row:\n",
    "            return 'автомобиль'\n",
    "        if 'свадьба' in row:\n",
    "            return 'свадьба'\n",
    "        return 'недвижимость'\n",
    "purpose_gr = []\n",
    "for row in optimized_df['purpose_lemmas']:\n",
    "    row = purpose_group(row)\n",
    "    purpose_gr.append(row)\n",
    "optimized_df['purpose_group'] = purpose_gr\n",
    "print(optimized_df.head())"
   ]
  },
  {
   "cell_type": "markdown",
   "metadata": {},
   "source": [
    "После данной категоризации в рассматриваемом датафрейме был создан столбец 'purpose_group', где указаны категории в зависимости от данных столбца 'purpose_lemmas'."
   ]
  },
  {
   "cell_type": "code",
   "execution_count": 194,
   "metadata": {},
   "outputs": [
    {
     "name": "stdout",
     "output_type": "stream",
     "text": [
      "недвижимость    10814\n",
      "автомобиль       4308\n",
      "образование      4014\n",
      "свадьба          2335\n",
      "Name: purpose_group, dtype: int64\n"
     ]
    }
   ],
   "source": [
    "print(optimized_df['purpose_group'].value_counts()) # посмотрим статистику по группам"
   ]
  },
  {
   "cell_type": "markdown",
   "metadata": {},
   "source": [
    "#### Категоризация данных 'total_income'"
   ]
  },
  {
   "cell_type": "markdown",
   "metadata": {},
   "source": [
    "С помощью функции income_group(income) столбец 'total_income' был разбит на 4 категории: если доход от 20000 до 107655 включая - категория \"бедные\", если доход от 107656 до 142594 включая - категория \"выше бедности\", если доход от 142595 до 195768 включая - категория \"средний класс\", в остальных случаях - категория \"богатые\". Именно такое разделение на категории было приянто на основе статистическиъ показателей данного столбца, а имено минимальное значение и значений 25,50,75 процентелей."
   ]
  },
  {
   "cell_type": "markdown",
   "metadata": {},
   "source": [
    "Чтобы разбить доход на категории вызовем функцтию describe().T, чтобы ознакомиться с минимальным значением и значениями 25, 50, 75 процентелей."
   ]
  },
  {
   "cell_type": "code",
   "execution_count": 195,
   "metadata": {},
   "outputs": [
    {
     "data": {
      "text/plain": [
       "count    2.147100e+04\n",
       "mean     1.652954e+05\n",
       "std      9.815346e+04\n",
       "min      2.066700e+04\n",
       "25%      1.076545e+05\n",
       "50%      1.425940e+05\n",
       "75%      1.957675e+05\n",
       "max      2.265604e+06\n",
       "Name: total_income, dtype: float64"
      ]
     },
     "execution_count": 195,
     "metadata": {},
     "output_type": "execute_result"
    }
   ],
   "source": [
    "optimized_df['total_income'].describe().T"
   ]
  },
  {
   "cell_type": "code",
   "execution_count": 196,
   "metadata": {},
   "outputs": [
    {
     "name": "stdout",
     "output_type": "stream",
     "text": [
      "   children  days_employed  dob_years education  education_id  \\\n",
      "0         1          -8437         42    высшее             0   \n",
      "1         1          -4024         36   среднее             1   \n",
      "2         0          -5623         33   Среднее             1   \n",
      "3         3          -4124         32   среднее             1   \n",
      "4         0         340266         53   среднее             1   \n",
      "\n",
      "      family_status  family_status_id gender income_type  debt  total_income  \\\n",
      "0   женат / замужем                 0      F   сотрудник     0        253875   \n",
      "1   женат / замужем                 0      F   сотрудник     0        112080   \n",
      "2   женат / замужем                 0      M   сотрудник     0        145885   \n",
      "3   женат / замужем                 0      M   сотрудник     0        267628   \n",
      "4  гражданский брак                 1      F   пенсионер     0        158616   \n",
      "\n",
      "                      purpose  \n",
      "0               покупка жилья  \n",
      "1     приобретение автомобиля  \n",
      "2               покупка жилья  \n",
      "3  дополнительное образование  \n",
      "4             сыграть свадьбу  \n"
     ]
    }
   ],
   "source": [
    "def income_group(income):\n",
    "    if 20000 <= income <= 107655:\n",
    "        return 'бедные'\n",
    "    if 107656 <= income <= 142594:\n",
    "        return 'выше бедности'\n",
    "    if 142595 <= income <= 195768:\n",
    "        return 'средний класс'\n",
    "    return 'богатые'\n",
    "optimized_df['income_group'] = optimized_df['total_income'].apply(income_group)\n",
    "print(df.head())"
   ]
  },
  {
   "cell_type": "markdown",
   "metadata": {},
   "source": [
    "После данной категоризации в рассматриваемом датафрейме был создан столбец 'income_group', где указаны категории в зависимости от данных столбца 'total_income'."
   ]
  },
  {
   "cell_type": "code",
   "execution_count": 197,
   "metadata": {},
   "outputs": [
    {
     "name": "stdout",
     "output_type": "stream",
     "text": [
      "выше бедности    5490\n",
      "бедные           5368\n",
      "богатые          5368\n",
      "средний класс    5245\n",
      "Name: income_group, dtype: int64\n"
     ]
    }
   ],
   "source": [
    "print(optimized_df['income_group'].value_counts()) # посмотрим статистику по группам"
   ]
  },
  {
   "cell_type": "markdown",
   "metadata": {},
   "source": [
    "**Вывод**"
   ]
  },
  {
   "cell_type": "markdown",
   "metadata": {},
   "source": [
    "- Была произведена категоризацию данных из столбцов 'children', 'purpose', 'income_total'. \n",
    "- Данные из столбца 'family_status' оставим такими как есть, по сути они уже разбиты на категории. \n",
    "- Данные для категоризации были выбраны именно такие, потому что их значения нам будут нужны, чтобы овтетить на главные вопросы нашего исследования, которые озвучены в пункте 3 данного проекта. Произведенная категоризация поможет быстрее и нагляднее выявить зависисимость между различными данными."
   ]
  },
  {
   "cell_type": "markdown",
   "metadata": {},
   "source": [
    "## Ответы на вопросы"
   ]
  },
  {
   "cell_type": "markdown",
   "metadata": {},
   "source": [
    "### Есть ли зависимость между наличием детей и возвратом кредита в срок?"
   ]
  },
  {
   "cell_type": "markdown",
   "metadata": {},
   "source": [
    "Чтобы ответить на данный вопрос составим сводную таблицу с помощью метода pivot_table().Таблица будет сформирована по категориям столбца основного датафрейма 'child_group'. В сводной таблице будет 4 столбца.  \n",
    "Первый столбец \"0\" - отражает количество заемщиков, вернувших во время кредит в каждой из категорий (данные взяты из столбца \"debt\"), второй столбец - \"1\" - отражает количестов заемщиков, не вернувших во время кредит в каждой из категории (данные взяты из столбца \"debt\"), третий столбец \"ratio_0\" - показвает долю заемщиков вернувших в срок относительного всего количества заемщиков в определенной категории, четвертый столбец \"ratio_1\" - показвает долю заемщиков не вернувших в срок относительного всего количества заемщиков в определенной категории."
   ]
  },
  {
   "cell_type": "code",
   "execution_count": 198,
   "metadata": {},
   "outputs": [
    {
     "name": "stdout",
     "output_type": "stream",
     "text": [
      "debt             0     1   ratio_0   ratio_1\n",
      "child_group                                 \n",
      "бездетные    13044  1063  0.924647  0.075353\n",
      "малодетные    6269   639  0.907499  0.092501\n",
      "многодетные    417    39  0.914474  0.085526\n"
     ]
    }
   ],
   "source": [
    "data_pivot_children = optimized_df.pivot_table(index=['child_group'], columns='debt', values='children', aggfunc='count', margins=False)\n",
    "data_pivot_children['ratio_0'] = data_pivot_children.loc[:, 0] / (data_pivot_children.loc[:, 0] + data_pivot_children.loc[:, 1])\n",
    "data_pivot_children['ratio_1'] = data_pivot_children.loc[:, 1] / (data_pivot_children.loc[:, 0] + data_pivot_children.loc[:, 1])\n",
    "print(data_pivot_children)"
   ]
  },
  {
   "cell_type": "markdown",
   "metadata": {},
   "source": [
    "**Вывод**"
   ]
  },
  {
   "cell_type": "markdown",
   "metadata": {},
   "source": [
    "Заемщики без детей чаще других возвращают кредит во время. Доля вернувших в срок в категории \"бездетные\" составила 0,92. \n",
    "\n",
    "С увеличением детей увеличивается количество заемщиков, которые не вернули в срок кредит. Доля невозврата в категории \"бездетные\" - 0,075, а в категории \"малодетные\" - 0,093. \n",
    "\n",
    "В то же время заемщики, у которых более 3-ех детей чаще возвращают кредит вовремя, чем малодетные. Но к результатам категории \"многодетные\" стоит относиться с осторожностью, так как слишком маленькая выборка."
   ]
  },
  {
   "cell_type": "markdown",
   "metadata": {},
   "source": [
    "### Есть ли зависимость между семейным положением и возвратом кредита в срок?"
   ]
  },
  {
   "cell_type": "markdown",
   "metadata": {},
   "source": [
    "Чтобы ответить на данный вопрос составим сводную таблицу с помощью метода pivot_table().Таблица будет сформирована по категориям столбца основного датафрейма 'family_status'. В сводной таблице будет 4 столбца.\n",
    "Первый столбец \"0\" - отражает количество заемщиков, вернувших во время кредит в каждой из категорий (данные взяты из столбца \"debt\"), второй столбец - \"1\" - отражает количестов заемщиков, не вернувших во время кредит в каждой из категории (данные взяты из столбца \"debt\"), третий столбец \"ratio_0\" - показвает долю заемщиков вернувших в срок относительного всего количества заемщиков в определенной категории, четвертый столбец \"ratio_1\" - показвает долю заемщиков не вернувших в срок относительного всего количества заемщиков в определенной категории."
   ]
  },
  {
   "cell_type": "code",
   "execution_count": 199,
   "metadata": {
    "scrolled": true
   },
   "outputs": [
    {
     "name": "stdout",
     "output_type": "stream",
     "text": [
      "debt                       0    1   ratio_0   ratio_1\n",
      "family_status                                        \n",
      "Не женат / не замужем   2536  274  0.902491  0.097509\n",
      "в разводе               1110   85  0.928870  0.071130\n",
      "вдовец / вдова           896   63  0.934307  0.065693\n",
      "гражданский брак        3775  388  0.906798  0.093202\n",
      "женат / замужем        11413  931  0.924579  0.075421\n"
     ]
    }
   ],
   "source": [
    "data_pivot_family = optimized_df.pivot_table(index=['family_status'], columns='debt', values='family_status_id', aggfunc='count')\n",
    "data_pivot_family['ratio_0'] = data_pivot_family.loc[:, 0] / (data_pivot_family.loc[:, 0] + data_pivot_family.loc[:, 1])\n",
    "data_pivot_family['ratio_1'] = data_pivot_family.loc[:, 1] / (data_pivot_family.loc[:, 0] + data_pivot_family.loc[:, 1])\n",
    "print(data_pivot_family)"
   ]
  },
  {
   "cell_type": "markdown",
   "metadata": {},
   "source": [
    "**Вывод**"
   ]
  },
  {
   "cell_type": "markdown",
   "metadata": {},
   "source": [
    "Заемщики, которые имеют мужа / жену, а также вдовцы/вдовы и заемщики в разводе чаще возвращают кредит в срок, чем заемщики, которые не состоят в браке. Доля вернувших в срок заемщиков  в категории \"вдовец / вдова\" - 0,934; в категории \"в разводе\" - 0,929, в категории \"женат / замужем\" составила 0,924;  Заемщики, которые не в браке имеют большую долю невозвратов кредитов, чем остальные."
   ]
  },
  {
   "cell_type": "markdown",
   "metadata": {},
   "source": [
    "### Есть ли зависимость между уровнем дохода и возвратом кредита в срок?"
   ]
  },
  {
   "cell_type": "markdown",
   "metadata": {},
   "source": [
    "Чтобы ответить на данный вопрос составим сводную таблицу с помощью метода pivot_table(). Таблица будет сформирована по категориям столбца основного датафрейма 'income_group'. В сводной таблице будет 4 столбца. \n",
    "Первый столбец \"0\" - отражает количество заемщиков, вернувших во время кредит в каждой из категорий (данные взяты из столбца \"debt\"), второй столбец - \"1\" - отражает количестов заемщиков, не вернувших во время кредит в каждой из категории (данные взяты из столбца \"debt\"), третий столбец \"ratio_0\" - показвает долю заемщиков вернувших в срок относительного всего количества заемщиков в определенной категории, четвертый столбец \"ratio_1\" - показвает долю заемщиков не вернувших в срок относительного всего количества заемщиков в определенной категории."
   ]
  },
  {
   "cell_type": "code",
   "execution_count": 200,
   "metadata": {},
   "outputs": [
    {
     "name": "stdout",
     "output_type": "stream",
     "text": [
      "debt              0    1   ratio_0   ratio_1\n",
      "income_group                                \n",
      "бедные         4941  427  0.920455  0.079545\n",
      "богатые        4985  383  0.928651  0.071349\n",
      "выше бедности  5007  483  0.912022  0.087978\n",
      "средний класс  4797  448  0.914585  0.085415\n"
     ]
    }
   ],
   "source": [
    "data_pivot_income = optimized_df.pivot_table(index=['income_group'], columns='debt', values='income_type', aggfunc='count')\n",
    "data_pivot_income['ratio_0'] = data_pivot_income.loc[:, 0] / (data_pivot_income.loc[:, 0] + data_pivot_income.loc[:, 1])\n",
    "data_pivot_income['ratio_1'] = data_pivot_income.loc[:, 1] / (data_pivot_income.loc[:, 0] + data_pivot_income.loc[:, 1])\n",
    "print(data_pivot_income)"
   ]
  },
  {
   "cell_type": "markdown",
   "metadata": {},
   "source": [
    "**Вывод**"
   ]
  },
  {
   "cell_type": "markdown",
   "metadata": {},
   "source": [
    "Анализируя сводную таблицу можно утверждать, что практически нет зависимости между уровнем дохода и возвратом кредитом в срок, так как доля возврата кредита в срок в категории \"бедные\" составила 0,920; в категории \"богатые\" - 0,929, в категории \"выше бедности\" - 0,912, в категории \"средний класс\" - 0,916. Заемщики в категории \"выше бедности\" и в категории \"средний класс\" имеют больший процент невозвратов кредита в срок."
   ]
  },
  {
   "cell_type": "markdown",
   "metadata": {},
   "source": [
    " ### Как разные цели кредита влияют на его возврат в срок?"
   ]
  },
  {
   "cell_type": "markdown",
   "metadata": {},
   "source": [
    "Чтобы ответить на данный вопрос составим сводную таблицу с помощью метода pivot_table(). Таблица будет сформирована по категориям столбца основного датафрейма 'purpose_group'. В сводной таблице будет 4 столбца. \n",
    "Первый столбец \"0\" - отражает количество заемщиков, вернувших во время кредит в каждой из категорий (данные взяты из столбца \"debt\"), второй столбец - \"1\" - отражает количестов заемщиков, не вернувших во время кредит в каждой из категории (данные взяты из столбца \"debt\"), третий столбец \"ratio_0\" - показвает долю заемщиков вернувших в срок относительного всего количества заемщиков в определенной категории, четвертый столбец \"ratio_1\" - показвает долю заемщиков не вернувших в срок относительного всего количества заемщиков в определенной категории."
   ]
  },
  {
   "cell_type": "code",
   "execution_count": 201,
   "metadata": {},
   "outputs": [
    {
     "name": "stdout",
     "output_type": "stream",
     "text": [
      "debt               0    1   ratio_0   ratio_1\n",
      "purpose_group                                \n",
      "автомобиль      3905  403  0.906453  0.093547\n",
      "недвижимость   10032  782  0.927686  0.072314\n",
      "образование     3644  370  0.907823  0.092177\n",
      "свадьба         2149  186  0.920343  0.079657\n"
     ]
    }
   ],
   "source": [
    "data_pivot_purpose = optimized_df.pivot_table(index=['purpose_group'], columns='debt', values='education_id', aggfunc='count')\n",
    "data_pivot_purpose['ratio_0'] = data_pivot_purpose.loc[:, 0] / (data_pivot_purpose.loc[:, 0] + data_pivot_purpose.loc[:, 1])\n",
    "data_pivot_purpose['ratio_1'] = data_pivot_purpose.loc[:, 1] / (data_pivot_purpose.loc[:, 0] + data_pivot_purpose.loc[:, 1])\n",
    "print(data_pivot_purpose)"
   ]
  },
  {
   "cell_type": "markdown",
   "metadata": {},
   "source": [
    "**Вывод**"
   ]
  },
  {
   "cell_type": "markdown",
   "metadata": {},
   "source": [
    "- Анализируя сводную таблицу можно утверждать, что заемщики, бравшие кредит на недвижимость и свадьбу чаще других возвращают его вовремя. \n",
    "- Доля возврата в срок в категории \"недвижимость\" - 0,928, в категории \"свадьба\" - 0,92. \n",
    "- Задолженности имеют чаще других заемщики, которые берут кредит на автомобиль и образование."
   ]
  },
  {
   "cell_type": "markdown",
   "metadata": {},
   "source": [
    "## Общий вывод"
   ]
  },
  {
   "cell_type": "markdown",
   "metadata": {},
   "source": [
    "- Чтобы ответить на главные вопросы проекта, на первом этапе мы ознакомились с информацией, которая хранится в исходном датафрейме с помощью методов head(), info(), describe(). В таблице 12 столбцов, 21525 строк, типы данных: float64(2), int64(5), object(5). Далее выполнили предобработку данных. \n",
    "\n",
    "- Предобработка включала в себя выявление и замену пропусков с помощью метода isna(). Заменили выявленные пропуски медианными значениями в сочетании с группировкой по одной перемнной.\n",
    "\n",
    "- Далее произвели замену типов данных с помощью метода astype(). После замены на целочисленный тип данных мы  произвели оптимизацию хранения типов данных в памяти. В итоге мы получили новый оптимизированный датафрейм optimized_df, который в два раза меньше относительно исходного (было 2 МВ, стало 1.0 MB).В датафрейме находятся следующие типы данных: int64, object, category и подтипы данных: uint8, uint32.  \n",
    "\n",
    "- Произведена обработка явных и неявных дубликатов / совпадений с помощью методов drop_duplicates() и sort_values() в сочетании с методом unique(), лемматизация строк с помощью библиотеки pymystem3. \n",
    "\n",
    "- Выполнена категоризация данных из столбцов 'children', 'purpose', 'income_total'. Данные для категоризации были выбраны именно такие, потому что их значения нам будут нужны, чтобы овтетить на главные вопросы нашего исследования. Произведенная категоризация поможет быстрее и нагляднее выявить зависисимость между различными данными.\n",
    "\n",
    "- Анализируя полученные значения в сводных таблицах было выявлено, что заемщики без детей чаще других возвращают кредит во время. Доля вернувших в срок в категории \"бездетные\" составила 0,92. С увеличением детей увеличивается количество заемщиков, которые не вернули в срок кредит. \n",
    "\n",
    "- Заемщики, которые имеют мужа / жену, а также вдовцы/вдовы и заемщики в разводе чаще возвращают кредит в срок, чем заемщики, которые не состоят в браке. Доля вернувших в срок заемщиков в категории \"вдовец / вдова\" - 0,934; в категории \"в разводе\" - 0,929, в категории \"женат / замужем\" составила 0,924; Заемщики, которые не в браке имеют большую долю невозвратов кредитов, чем остальные.\n",
    "\n",
    "\n",
    "- Практически нет зависимости между уровнем дохода и возвратом кредитом в срок, так как доля возврата кредита в срок в категории \"бедные\" составила 0,920; в категории \"богатые\" - 0,929, в категории \"выше бедности\" - 0,912, в категории \"средний класс\" - 0,916. Заемщики в категории \"выше бедности\" и в категории \"средний класс\" имеют большую долю невозвратов кредита в срок.\n",
    "\n",
    "\n",
    "- Заемщики, бравшие кредит на недвижимость и свадьбу чаще других возвращают его вовремя. Доля возврата в срок в категории \"недвижимость\" - 0,928, в категории \"свадьба\" - 0,92. Задолженности имеют чаще других заемщики, которые берут кредит на автомобиль и образование.\n",
    "\n"
   ]
  }
 ],
 "metadata": {
  "ExecuteTimeLog": [
   {
    "duration": 829,
    "start_time": "2021-12-16T14:20:49.123Z"
   },
   {
    "duration": 66,
    "start_time": "2021-12-16T14:20:51.683Z"
   },
   {
    "duration": 28,
    "start_time": "2021-12-16T14:20:55.232Z"
   },
   {
    "duration": 25,
    "start_time": "2021-12-16T14:21:31.323Z"
   },
   {
    "duration": 20,
    "start_time": "2021-12-16T14:36:40.424Z"
   },
   {
    "duration": 767,
    "start_time": "2021-12-17T06:49:22.150Z"
   },
   {
    "duration": 67,
    "start_time": "2021-12-17T06:49:23.533Z"
   },
   {
    "duration": 44,
    "start_time": "2021-12-17T06:49:24.111Z"
   },
   {
    "duration": 15,
    "start_time": "2021-12-17T06:49:26.173Z"
   },
   {
    "duration": -9,
    "start_time": "2021-12-17T06:49:36.369Z"
   },
   {
    "duration": 14,
    "start_time": "2021-12-17T06:50:07.650Z"
   },
   {
    "duration": 15,
    "start_time": "2021-12-17T06:50:42.212Z"
   },
   {
    "duration": 318,
    "start_time": "2021-12-17T06:56:48.232Z"
   },
   {
    "duration": 7,
    "start_time": "2021-12-17T06:56:55.311Z"
   },
   {
    "duration": 7,
    "start_time": "2021-12-17T06:58:06.951Z"
   },
   {
    "duration": 20,
    "start_time": "2021-12-17T07:00:08.547Z"
   },
   {
    "duration": 31,
    "start_time": "2021-12-17T07:09:01.179Z"
   },
   {
    "duration": 293,
    "start_time": "2021-12-17T07:09:54.959Z"
   },
   {
    "duration": 35,
    "start_time": "2021-12-17T07:10:20.807Z"
   },
   {
    "duration": 13,
    "start_time": "2021-12-17T07:11:33.463Z"
   },
   {
    "duration": 13,
    "start_time": "2021-12-17T07:21:06.350Z"
   },
   {
    "duration": 27,
    "start_time": "2021-12-17T07:21:12.031Z"
   },
   {
    "duration": 23,
    "start_time": "2021-12-17T07:32:28.372Z"
   },
   {
    "duration": 25,
    "start_time": "2021-12-17T07:33:21.371Z"
   },
   {
    "duration": 10,
    "start_time": "2021-12-17T07:44:40.611Z"
   },
   {
    "duration": 8,
    "start_time": "2021-12-17T07:44:54.930Z"
   },
   {
    "duration": 7,
    "start_time": "2021-12-17T07:48:19.911Z"
   },
   {
    "duration": 10,
    "start_time": "2021-12-17T08:03:28.831Z"
   },
   {
    "duration": 11,
    "start_time": "2021-12-17T08:03:45.491Z"
   },
   {
    "duration": 103,
    "start_time": "2021-12-17T08:07:36.999Z"
   },
   {
    "duration": 91,
    "start_time": "2021-12-17T08:09:38.412Z"
   },
   {
    "duration": 96,
    "start_time": "2021-12-17T08:09:45.751Z"
   },
   {
    "duration": 93,
    "start_time": "2021-12-17T08:10:13.608Z"
   },
   {
    "duration": 393,
    "start_time": "2021-12-17T08:10:25.391Z"
   },
   {
    "duration": 40,
    "start_time": "2021-12-17T08:10:33.032Z"
   },
   {
    "duration": 338,
    "start_time": "2021-12-17T08:11:01.452Z"
   },
   {
    "duration": 332,
    "start_time": "2021-12-17T08:11:33.032Z"
   },
   {
    "duration": 15,
    "start_time": "2021-12-17T08:12:15.811Z"
   },
   {
    "duration": 14,
    "start_time": "2021-12-17T08:12:40.925Z"
   },
   {
    "duration": 15,
    "start_time": "2021-12-17T08:32:20.812Z"
   },
   {
    "duration": 7,
    "start_time": "2021-12-17T08:34:11.150Z"
   },
   {
    "duration": 7,
    "start_time": "2021-12-17T08:34:42.309Z"
   },
   {
    "duration": 23,
    "start_time": "2021-12-17T08:37:35.550Z"
   },
   {
    "duration": 11,
    "start_time": "2021-12-17T08:40:05.532Z"
   },
   {
    "duration": 21,
    "start_time": "2021-12-17T08:45:15.631Z"
   },
   {
    "duration": 47,
    "start_time": "2021-12-17T09:16:42.933Z"
   },
   {
    "duration": 28,
    "start_time": "2021-12-17T09:32:50.211Z"
   },
   {
    "duration": 31,
    "start_time": "2021-12-17T09:33:08.691Z"
   },
   {
    "duration": 13,
    "start_time": "2021-12-17T09:33:28.350Z"
   },
   {
    "duration": 36,
    "start_time": "2021-12-17T09:57:33.291Z"
   },
   {
    "duration": 33,
    "start_time": "2021-12-17T09:57:49.920Z"
   },
   {
    "duration": 36,
    "start_time": "2021-12-17T09:57:59.850Z"
   },
   {
    "duration": 21,
    "start_time": "2021-12-17T10:02:13.960Z"
   },
   {
    "duration": 7,
    "start_time": "2021-12-17T10:02:52.672Z"
   },
   {
    "duration": 10,
    "start_time": "2021-12-17T10:03:01.159Z"
   },
   {
    "duration": 13,
    "start_time": "2021-12-17T12:17:05.060Z"
   },
   {
    "duration": 15,
    "start_time": "2021-12-17T12:19:21.370Z"
   },
   {
    "duration": 16,
    "start_time": "2021-12-17T12:19:49.950Z"
   },
   {
    "duration": 277,
    "start_time": "2021-12-17T12:21:26.512Z"
   },
   {
    "duration": 12,
    "start_time": "2021-12-17T12:21:27.552Z"
   },
   {
    "duration": 10,
    "start_time": "2021-12-17T12:23:22.839Z"
   },
   {
    "duration": 9,
    "start_time": "2021-12-17T12:24:09.352Z"
   },
   {
    "duration": 10,
    "start_time": "2021-12-17T12:25:16.479Z"
   },
   {
    "duration": 10,
    "start_time": "2021-12-17T12:25:40.271Z"
   },
   {
    "duration": 10,
    "start_time": "2021-12-17T12:26:00.752Z"
   },
   {
    "duration": 10,
    "start_time": "2021-12-17T12:26:43.991Z"
   },
   {
    "duration": 10,
    "start_time": "2021-12-17T12:27:01.100Z"
   },
   {
    "duration": 15,
    "start_time": "2021-12-17T12:27:15.311Z"
   },
   {
    "duration": 11,
    "start_time": "2021-12-17T12:27:34.391Z"
   },
   {
    "duration": 21,
    "start_time": "2021-12-17T12:29:10.056Z"
   },
   {
    "duration": 21,
    "start_time": "2021-12-17T12:29:21.151Z"
   },
   {
    "duration": 29,
    "start_time": "2021-12-17T12:29:37.291Z"
   },
   {
    "duration": 31,
    "start_time": "2021-12-17T12:30:04.211Z"
   },
   {
    "duration": 7,
    "start_time": "2021-12-17T12:31:58.293Z"
   },
   {
    "duration": 10,
    "start_time": "2021-12-17T12:38:16.181Z"
   },
   {
    "duration": 975,
    "start_time": "2021-12-18T12:38:32.698Z"
   },
   {
    "duration": 62,
    "start_time": "2021-12-18T12:38:34.811Z"
   },
   {
    "duration": 39,
    "start_time": "2021-12-18T12:38:36.164Z"
   },
   {
    "duration": 20,
    "start_time": "2021-12-18T12:38:38.926Z"
   },
   {
    "duration": 6,
    "start_time": "2021-12-18T12:38:44.974Z"
   },
   {
    "duration": 29,
    "start_time": "2021-12-18T12:38:52.490Z"
   },
   {
    "duration": 14,
    "start_time": "2021-12-18T12:39:28.146Z"
   },
   {
    "duration": 41,
    "start_time": "2021-12-18T12:39:33.401Z"
   },
   {
    "duration": 27,
    "start_time": "2021-12-18T12:39:37.376Z"
   },
   {
    "duration": 11,
    "start_time": "2021-12-18T12:39:38.150Z"
   },
   {
    "duration": 11,
    "start_time": "2021-12-18T12:39:38.712Z"
   },
   {
    "duration": 6,
    "start_time": "2021-12-18T12:52:26.872Z"
   },
   {
    "duration": 7,
    "start_time": "2021-12-18T12:54:30.221Z"
   },
   {
    "duration": 7,
    "start_time": "2021-12-18T12:54:33.035Z"
   },
   {
    "duration": 8,
    "start_time": "2021-12-18T12:57:47.369Z"
   },
   {
    "duration": 11,
    "start_time": "2021-12-18T12:58:36.354Z"
   },
   {
    "duration": 8,
    "start_time": "2021-12-18T12:59:10.174Z"
   },
   {
    "duration": 8,
    "start_time": "2021-12-18T13:00:13.551Z"
   },
   {
    "duration": 7,
    "start_time": "2021-12-18T13:01:24.849Z"
   },
   {
    "duration": 13,
    "start_time": "2021-12-18T13:01:25.952Z"
   },
   {
    "duration": 7,
    "start_time": "2021-12-18T13:02:17.177Z"
   },
   {
    "duration": 25,
    "start_time": "2021-12-18T13:03:04.847Z"
   },
   {
    "duration": 21,
    "start_time": "2021-12-18T13:04:33.421Z"
   },
   {
    "duration": 21,
    "start_time": "2021-12-18T13:10:11.370Z"
   },
   {
    "duration": 18,
    "start_time": "2021-12-18T13:10:47.778Z"
   },
   {
    "duration": 95,
    "start_time": "2021-12-18T13:11:51.835Z"
   },
   {
    "duration": 21,
    "start_time": "2021-12-18T13:11:59.226Z"
   },
   {
    "duration": 422,
    "start_time": "2021-12-18T13:17:16.345Z"
   },
   {
    "duration": 386,
    "start_time": "2021-12-18T13:17:37.074Z"
   },
   {
    "duration": 11,
    "start_time": "2021-12-18T13:17:39.113Z"
   },
   {
    "duration": 24,
    "start_time": "2021-12-18T13:17:42.267Z"
   },
   {
    "duration": 304,
    "start_time": "2021-12-18T13:17:50.413Z"
   },
   {
    "duration": 342,
    "start_time": "2021-12-18T13:18:02.440Z"
   },
   {
    "duration": 304,
    "start_time": "2021-12-18T13:18:19.543Z"
   },
   {
    "duration": 9,
    "start_time": "2021-12-18T13:18:45.576Z"
   },
   {
    "duration": 11,
    "start_time": "2021-12-18T13:20:50.890Z"
   },
   {
    "duration": 10,
    "start_time": "2021-12-18T13:30:24.229Z"
   },
   {
    "duration": 103,
    "start_time": "2021-12-18T13:30:33.222Z"
   },
   {
    "duration": 10,
    "start_time": "2021-12-18T13:30:42.418Z"
   },
   {
    "duration": 345,
    "start_time": "2021-12-18T13:35:52.820Z"
   },
   {
    "duration": 309,
    "start_time": "2021-12-18T13:39:30.843Z"
   },
   {
    "duration": 7,
    "start_time": "2021-12-18T13:41:09.359Z"
   },
   {
    "duration": 7,
    "start_time": "2021-12-18T13:41:19.742Z"
   },
   {
    "duration": 10,
    "start_time": "2021-12-18T13:41:51.282Z"
   },
   {
    "duration": 329,
    "start_time": "2021-12-18T13:42:12.261Z"
   },
   {
    "duration": 5,
    "start_time": "2021-12-18T13:45:14.203Z"
   },
   {
    "duration": 10,
    "start_time": "2021-12-18T13:45:16.002Z"
   },
   {
    "duration": 21,
    "start_time": "2021-12-18T13:46:54.096Z"
   },
   {
    "duration": 8,
    "start_time": "2021-12-18T13:48:59.988Z"
   },
   {
    "duration": 5,
    "start_time": "2021-12-18T13:50:46.036Z"
   },
   {
    "duration": 8,
    "start_time": "2021-12-18T13:51:02.692Z"
   },
   {
    "duration": 6,
    "start_time": "2021-12-18T13:53:50.299Z"
   },
   {
    "duration": 11,
    "start_time": "2021-12-18T13:53:53.577Z"
   },
   {
    "duration": 11,
    "start_time": "2021-12-18T13:56:25.070Z"
   },
   {
    "duration": 24,
    "start_time": "2021-12-18T13:58:11.144Z"
   },
   {
    "duration": 33,
    "start_time": "2021-12-18T13:58:23.048Z"
   },
   {
    "duration": 11,
    "start_time": "2021-12-18T14:01:33.719Z"
   },
   {
    "duration": 11,
    "start_time": "2021-12-18T14:11:54.796Z"
   },
   {
    "duration": 364,
    "start_time": "2021-12-18T14:16:32.995Z"
   },
   {
    "duration": 6,
    "start_time": "2021-12-18T14:16:39.632Z"
   },
   {
    "duration": 4,
    "start_time": "2021-12-18T14:16:49.286Z"
   },
   {
    "duration": 4,
    "start_time": "2021-12-18T14:16:54.977Z"
   },
   {
    "duration": 6,
    "start_time": "2021-12-18T14:17:06.394Z"
   },
   {
    "duration": 4,
    "start_time": "2021-12-18T14:17:48.421Z"
   },
   {
    "duration": 350,
    "start_time": "2021-12-18T14:18:18.433Z"
   },
   {
    "duration": 298,
    "start_time": "2021-12-18T14:19:20.615Z"
   },
   {
    "duration": 289,
    "start_time": "2021-12-18T14:19:34.447Z"
   },
   {
    "duration": 43,
    "start_time": "2021-12-18T14:20:04.043Z"
   },
   {
    "duration": 375,
    "start_time": "2021-12-18T14:48:28.266Z"
   },
   {
    "duration": 9,
    "start_time": "2021-12-18T14:48:50.684Z"
   },
   {
    "duration": 5,
    "start_time": "2021-12-18T14:49:22.659Z"
   },
   {
    "duration": 6,
    "start_time": "2021-12-18T14:49:26.197Z"
   },
   {
    "duration": 12,
    "start_time": "2021-12-18T14:49:35.915Z"
   },
   {
    "duration": 8152,
    "start_time": "2021-12-18T14:53:54.058Z"
   },
   {
    "duration": -1513,
    "start_time": "2021-12-18T14:54:16.242Z"
   },
   {
    "duration": 10,
    "start_time": "2021-12-18T14:54:21.868Z"
   },
   {
    "duration": 10,
    "start_time": "2021-12-18T14:54:57.916Z"
   },
   {
    "duration": 11,
    "start_time": "2021-12-18T14:55:16.735Z"
   },
   {
    "duration": 11,
    "start_time": "2021-12-18T14:55:35.898Z"
   },
   {
    "duration": 10,
    "start_time": "2021-12-18T14:56:03.929Z"
   },
   {
    "duration": 10,
    "start_time": "2021-12-18T14:56:11.131Z"
   },
   {
    "duration": 10,
    "start_time": "2021-12-18T14:56:16.595Z"
   },
   {
    "duration": 10,
    "start_time": "2021-12-18T14:56:30.100Z"
   },
   {
    "duration": 15,
    "start_time": "2021-12-18T14:57:05.742Z"
   },
   {
    "duration": 171,
    "start_time": "2021-12-18T14:59:44.796Z"
   },
   {
    "duration": 2680,
    "start_time": "2021-12-18T14:59:54.161Z"
   },
   {
    "duration": 1233,
    "start_time": "2021-12-18T15:00:10.536Z"
   },
   {
    "duration": 311,
    "start_time": "2021-12-18T15:05:47.211Z"
   },
   {
    "duration": 40,
    "start_time": "2021-12-18T15:05:55.887Z"
   },
   {
    "duration": 108,
    "start_time": "2021-12-18T15:06:43.993Z"
   },
   {
    "duration": 359,
    "start_time": "2021-12-18T15:07:01.144Z"
   },
   {
    "duration": 336,
    "start_time": "2021-12-18T15:07:22.605Z"
   },
   {
    "duration": 6,
    "start_time": "2021-12-18T15:09:14.893Z"
   },
   {
    "duration": 35,
    "start_time": "2021-12-18T15:18:26.635Z"
   },
   {
    "duration": 35,
    "start_time": "2021-12-18T15:18:45.490Z"
   },
   {
    "duration": 12,
    "start_time": "2021-12-18T15:19:27.889Z"
   },
   {
    "duration": 12,
    "start_time": "2021-12-18T15:19:51.417Z"
   },
   {
    "duration": 17,
    "start_time": "2021-12-18T15:20:29.107Z"
   },
   {
    "duration": 34,
    "start_time": "2021-12-18T15:21:16.703Z"
   },
   {
    "duration": 16,
    "start_time": "2021-12-18T15:21:26.528Z"
   },
   {
    "duration": 15,
    "start_time": "2021-12-18T15:22:51.109Z"
   },
   {
    "duration": 14,
    "start_time": "2021-12-18T15:23:12.138Z"
   },
   {
    "duration": 6,
    "start_time": "2021-12-18T15:23:25.219Z"
   },
   {
    "duration": 14,
    "start_time": "2021-12-18T15:23:26.698Z"
   },
   {
    "duration": 4,
    "start_time": "2021-12-18T16:39:14.292Z"
   },
   {
    "duration": 61,
    "start_time": "2021-12-18T16:39:16.786Z"
   },
   {
    "duration": 333,
    "start_time": "2021-12-18T16:49:02.877Z"
   },
   {
    "duration": 3,
    "start_time": "2021-12-18T16:50:07.614Z"
   },
   {
    "duration": 58,
    "start_time": "2021-12-18T16:50:08.699Z"
   },
   {
    "duration": 20,
    "start_time": "2021-12-18T16:50:09.211Z"
   },
   {
    "duration": 23,
    "start_time": "2021-12-18T16:50:11.604Z"
   },
   {
    "duration": 6,
    "start_time": "2021-12-18T16:50:14.548Z"
   },
   {
    "duration": 21,
    "start_time": "2021-12-18T16:50:16.733Z"
   },
   {
    "duration": 13,
    "start_time": "2021-12-18T16:50:19.968Z"
   },
   {
    "duration": 41,
    "start_time": "2021-12-18T16:50:21.494Z"
   },
   {
    "duration": 22,
    "start_time": "2021-12-18T16:50:23.031Z"
   },
   {
    "duration": 8,
    "start_time": "2021-12-18T16:50:23.479Z"
   },
   {
    "duration": 5,
    "start_time": "2021-12-18T16:50:23.851Z"
   },
   {
    "duration": 9,
    "start_time": "2021-12-18T16:50:24.192Z"
   },
   {
    "duration": 11,
    "start_time": "2021-12-18T16:50:24.640Z"
   },
   {
    "duration": 5,
    "start_time": "2021-12-18T16:50:26.430Z"
   },
   {
    "duration": 5,
    "start_time": "2021-12-18T16:50:26.745Z"
   },
   {
    "duration": 13,
    "start_time": "2021-12-18T16:50:28.077Z"
   },
   {
    "duration": 10,
    "start_time": "2021-12-18T16:50:28.414Z"
   },
   {
    "duration": 20,
    "start_time": "2021-12-18T16:50:29.542Z"
   },
   {
    "duration": 16,
    "start_time": "2021-12-18T16:50:31.887Z"
   },
   {
    "duration": 33,
    "start_time": "2021-12-18T16:50:32.256Z"
   },
   {
    "duration": 8,
    "start_time": "2021-12-18T16:50:32.513Z"
   },
   {
    "duration": 22,
    "start_time": "2021-12-18T16:50:32.790Z"
   },
   {
    "duration": 8,
    "start_time": "2021-12-18T16:50:33.088Z"
   },
   {
    "duration": 21,
    "start_time": "2021-12-18T16:50:33.364Z"
   },
   {
    "duration": 10,
    "start_time": "2021-12-18T16:50:34.728Z"
   },
   {
    "duration": 20,
    "start_time": "2021-12-18T16:50:34.982Z"
   },
   {
    "duration": 7,
    "start_time": "2021-12-18T16:50:35.276Z"
   },
   {
    "duration": 11,
    "start_time": "2021-12-18T16:50:35.527Z"
   },
   {
    "duration": 26,
    "start_time": "2021-12-18T16:50:36.641Z"
   },
   {
    "duration": 13,
    "start_time": "2021-12-18T16:50:39.231Z"
   },
   {
    "duration": 14,
    "start_time": "2021-12-18T16:50:42.031Z"
   },
   {
    "duration": 6,
    "start_time": "2021-12-18T16:50:44.289Z"
   },
   {
    "duration": 15,
    "start_time": "2021-12-18T16:50:46.678Z"
   },
   {
    "duration": 5,
    "start_time": "2021-12-18T16:50:54.395Z"
   },
   {
    "duration": 17,
    "start_time": "2021-12-18T16:51:10.623Z"
   },
   {
    "duration": 6,
    "start_time": "2021-12-18T16:58:14.193Z"
   },
   {
    "duration": 7,
    "start_time": "2021-12-18T17:00:42.882Z"
   },
   {
    "duration": 4,
    "start_time": "2021-12-18T17:05:04.802Z"
   },
   {
    "duration": 55,
    "start_time": "2021-12-18T17:05:05.399Z"
   },
   {
    "duration": 20,
    "start_time": "2021-12-18T17:05:05.760Z"
   },
   {
    "duration": 14,
    "start_time": "2021-12-18T17:05:06.078Z"
   },
   {
    "duration": 6,
    "start_time": "2021-12-18T17:05:06.438Z"
   },
   {
    "duration": 22,
    "start_time": "2021-12-18T17:05:06.698Z"
   },
   {
    "duration": 13,
    "start_time": "2021-12-18T17:05:07.148Z"
   },
   {
    "duration": 39,
    "start_time": "2021-12-18T17:05:07.466Z"
   },
   {
    "duration": 21,
    "start_time": "2021-12-18T17:05:07.857Z"
   },
   {
    "duration": 8,
    "start_time": "2021-12-18T17:05:08.283Z"
   },
   {
    "duration": 5,
    "start_time": "2021-12-18T17:05:08.665Z"
   },
   {
    "duration": 8,
    "start_time": "2021-12-18T17:05:09.013Z"
   },
   {
    "duration": 10,
    "start_time": "2021-12-18T17:05:09.323Z"
   },
   {
    "duration": 5,
    "start_time": "2021-12-18T17:05:09.650Z"
   },
   {
    "duration": 4,
    "start_time": "2021-12-18T17:05:10.093Z"
   },
   {
    "duration": 11,
    "start_time": "2021-12-18T17:05:10.470Z"
   },
   {
    "duration": 9,
    "start_time": "2021-12-18T17:05:10.838Z"
   },
   {
    "duration": 20,
    "start_time": "2021-12-18T17:05:11.198Z"
   },
   {
    "duration": 15,
    "start_time": "2021-12-18T17:05:11.509Z"
   },
   {
    "duration": 32,
    "start_time": "2021-12-18T17:05:11.840Z"
   },
   {
    "duration": 8,
    "start_time": "2021-12-18T17:05:12.157Z"
   },
   {
    "duration": 22,
    "start_time": "2021-12-18T17:05:12.447Z"
   },
   {
    "duration": 7,
    "start_time": "2021-12-18T17:05:12.826Z"
   },
   {
    "duration": 26,
    "start_time": "2021-12-18T17:05:13.176Z"
   },
   {
    "duration": 13,
    "start_time": "2021-12-18T17:05:13.523Z"
   },
   {
    "duration": 22,
    "start_time": "2021-12-18T17:05:13.824Z"
   },
   {
    "duration": 8,
    "start_time": "2021-12-18T17:05:14.294Z"
   },
   {
    "duration": 10,
    "start_time": "2021-12-18T17:05:14.662Z"
   },
   {
    "duration": 24,
    "start_time": "2021-12-18T17:05:15.032Z"
   },
   {
    "duration": 18,
    "start_time": "2021-12-18T17:05:19.434Z"
   },
   {
    "duration": 11,
    "start_time": "2021-12-18T17:05:19.845Z"
   },
   {
    "duration": 5,
    "start_time": "2021-12-18T17:05:20.244Z"
   },
   {
    "duration": 15,
    "start_time": "2021-12-18T17:05:20.992Z"
   },
   {
    "duration": 5,
    "start_time": "2021-12-18T17:05:23.947Z"
   },
   {
    "duration": 15,
    "start_time": "2021-12-18T17:05:24.505Z"
   },
   {
    "duration": 6,
    "start_time": "2021-12-18T17:05:27.821Z"
   },
   {
    "duration": 7,
    "start_time": "2021-12-18T17:05:28.349Z"
   },
   {
    "duration": 121,
    "start_time": "2021-12-18T17:07:20.657Z"
   },
   {
    "duration": 147,
    "start_time": "2021-12-18T17:07:30.624Z"
   },
   {
    "duration": 6,
    "start_time": "2021-12-18T17:07:38.940Z"
   },
   {
    "duration": 5,
    "start_time": "2021-12-18T17:08:00.895Z"
   },
   {
    "duration": 7,
    "start_time": "2021-12-18T17:08:30.292Z"
   },
   {
    "duration": 21,
    "start_time": "2021-12-18T17:16:38.949Z"
   },
   {
    "duration": 26,
    "start_time": "2021-12-18T17:17:29.491Z"
   },
   {
    "duration": 34,
    "start_time": "2021-12-18T17:25:23.273Z"
   },
   {
    "duration": 25,
    "start_time": "2021-12-18T17:28:31.701Z"
   },
   {
    "duration": 4,
    "start_time": "2021-12-18T17:42:54.427Z"
   },
   {
    "duration": 6,
    "start_time": "2021-12-18T17:43:17.107Z"
   },
   {
    "duration": 8,
    "start_time": "2021-12-18T17:44:45.609Z"
   },
   {
    "duration": 19,
    "start_time": "2021-12-18T17:46:00.604Z"
   },
   {
    "duration": 32,
    "start_time": "2021-12-18T17:46:10.828Z"
   },
   {
    "duration": 30,
    "start_time": "2021-12-18T17:46:26.624Z"
   },
   {
    "duration": 33,
    "start_time": "2021-12-18T17:46:34.382Z"
   },
   {
    "duration": 32,
    "start_time": "2021-12-18T17:46:48.825Z"
   },
   {
    "duration": 19,
    "start_time": "2021-12-18T17:47:09.278Z"
   },
   {
    "duration": 7,
    "start_time": "2021-12-18T17:48:45.894Z"
   },
   {
    "duration": 20,
    "start_time": "2021-12-18T17:49:00.436Z"
   },
   {
    "duration": 10,
    "start_time": "2021-12-18T17:52:43.983Z"
   },
   {
    "duration": 966,
    "start_time": "2021-12-18T17:56:04.869Z"
   },
   {
    "duration": 361,
    "start_time": "2021-12-18T17:56:14.202Z"
   },
   {
    "duration": 323,
    "start_time": "2021-12-18T17:56:21.779Z"
   },
   {
    "duration": 1279,
    "start_time": "2021-12-18T18:09:29.868Z"
   },
   {
    "duration": 5167,
    "start_time": "2021-12-18T19:04:40.751Z"
   },
   {
    "duration": 1032,
    "start_time": "2021-12-18T19:04:55.402Z"
   },
   {
    "duration": 5328,
    "start_time": "2021-12-18T19:05:19.116Z"
   },
   {
    "duration": 4964,
    "start_time": "2021-12-18T19:05:26.746Z"
   },
   {
    "duration": 4945,
    "start_time": "2021-12-18T19:07:16.507Z"
   },
   {
    "duration": 4750,
    "start_time": "2021-12-18T19:07:28.179Z"
   },
   {
    "duration": 4916,
    "start_time": "2021-12-18T19:09:10.865Z"
   },
   {
    "duration": 4879,
    "start_time": "2021-12-18T19:10:28.964Z"
   },
   {
    "duration": 7,
    "start_time": "2021-12-18T19:14:43.457Z"
   },
   {
    "duration": 47,
    "start_time": "2021-12-18T19:37:02.013Z"
   },
   {
    "duration": 1610,
    "start_time": "2021-12-18T19:45:17.096Z"
   },
   {
    "duration": 21,
    "start_time": "2021-12-18T19:45:34.159Z"
   },
   {
    "duration": 9,
    "start_time": "2021-12-18T19:46:18.224Z"
   },
   {
    "duration": 99,
    "start_time": "2021-12-18T19:48:26.106Z"
   },
   {
    "duration": 10,
    "start_time": "2021-12-18T19:48:30.416Z"
   },
   {
    "duration": 5,
    "start_time": "2021-12-18T19:48:48.853Z"
   },
   {
    "duration": 12,
    "start_time": "2021-12-18T19:49:15.679Z"
   },
   {
    "duration": 8,
    "start_time": "2021-12-18T19:49:47.482Z"
   },
   {
    "duration": 6,
    "start_time": "2021-12-18T19:52:28.280Z"
   },
   {
    "duration": 5,
    "start_time": "2021-12-18T20:15:34.231Z"
   },
   {
    "duration": 16,
    "start_time": "2021-12-18T20:15:38.612Z"
   },
   {
    "duration": 17,
    "start_time": "2021-12-18T20:17:46.959Z"
   },
   {
    "duration": 15,
    "start_time": "2021-12-18T20:17:51.094Z"
   },
   {
    "duration": 24,
    "start_time": "2021-12-18T20:18:20.733Z"
   },
   {
    "duration": 8,
    "start_time": "2021-12-18T20:18:52.238Z"
   },
   {
    "duration": 566,
    "start_time": "2021-12-19T12:37:39.000Z"
   },
   {
    "duration": 53,
    "start_time": "2021-12-19T12:37:40.377Z"
   },
   {
    "duration": 19,
    "start_time": "2021-12-19T12:37:41.183Z"
   },
   {
    "duration": 12,
    "start_time": "2021-12-19T12:37:45.885Z"
   },
   {
    "duration": 5,
    "start_time": "2021-12-19T12:37:46.379Z"
   },
   {
    "duration": 15,
    "start_time": "2021-12-19T12:37:47.046Z"
   },
   {
    "duration": 11,
    "start_time": "2021-12-19T12:37:47.448Z"
   },
   {
    "duration": 29,
    "start_time": "2021-12-19T12:37:48.045Z"
   },
   {
    "duration": 17,
    "start_time": "2021-12-19T12:37:48.484Z"
   },
   {
    "duration": 7,
    "start_time": "2021-12-19T12:37:49.002Z"
   },
   {
    "duration": 5,
    "start_time": "2021-12-19T12:37:49.414Z"
   },
   {
    "duration": 8,
    "start_time": "2021-12-19T12:37:49.799Z"
   },
   {
    "duration": 4,
    "start_time": "2021-12-19T12:37:50.200Z"
   },
   {
    "duration": 9,
    "start_time": "2021-12-19T12:37:50.648Z"
   },
   {
    "duration": 15,
    "start_time": "2021-12-19T12:37:51.119Z"
   },
   {
    "duration": 11,
    "start_time": "2021-12-19T12:37:51.705Z"
   },
   {
    "duration": 25,
    "start_time": "2021-12-19T12:37:52.471Z"
   },
   {
    "duration": 6,
    "start_time": "2021-12-19T12:37:52.898Z"
   },
   {
    "duration": 16,
    "start_time": "2021-12-19T12:37:53.312Z"
   },
   {
    "duration": 6,
    "start_time": "2021-12-19T12:37:53.689Z"
   },
   {
    "duration": 14,
    "start_time": "2021-12-19T12:37:54.097Z"
   },
   {
    "duration": 8,
    "start_time": "2021-12-19T12:37:54.648Z"
   },
   {
    "duration": 16,
    "start_time": "2021-12-19T12:37:55.057Z"
   },
   {
    "duration": 7,
    "start_time": "2021-12-19T12:37:55.835Z"
   },
   {
    "duration": 9,
    "start_time": "2021-12-19T12:37:56.304Z"
   },
   {
    "duration": 19,
    "start_time": "2021-12-19T12:37:57.100Z"
   },
   {
    "duration": 10,
    "start_time": "2021-12-19T12:38:03.275Z"
   },
   {
    "duration": 9,
    "start_time": "2021-12-19T12:38:03.781Z"
   },
   {
    "duration": 7,
    "start_time": "2021-12-19T12:38:04.411Z"
   },
   {
    "duration": 17,
    "start_time": "2021-12-19T12:38:05.239Z"
   },
   {
    "duration": 4,
    "start_time": "2021-12-19T12:38:07.931Z"
   },
   {
    "duration": 39,
    "start_time": "2021-12-19T12:38:08.615Z"
   },
   {
    "duration": 18,
    "start_time": "2021-12-19T12:38:11.461Z"
   },
   {
    "duration": 19,
    "start_time": "2021-12-19T12:38:12.668Z"
   },
   {
    "duration": 19,
    "start_time": "2021-12-19T12:38:13.855Z"
   },
   {
    "duration": 6,
    "start_time": "2021-12-19T12:38:15.191Z"
   },
   {
    "duration": 5,
    "start_time": "2021-12-19T12:38:16.269Z"
   },
   {
    "duration": 4,
    "start_time": "2021-12-19T12:38:16.917Z"
   },
   {
    "duration": 5,
    "start_time": "2021-12-19T12:38:17.812Z"
   },
   {
    "duration": 4319,
    "start_time": "2021-12-19T12:38:20.325Z"
   },
   {
    "duration": 21,
    "start_time": "2021-12-19T12:38:24.647Z"
   },
   {
    "duration": 32,
    "start_time": "2021-12-19T12:38:45.487Z"
   },
   {
    "duration": 8,
    "start_time": "2021-12-19T12:38:46.066Z"
   },
   {
    "duration": 8,
    "start_time": "2021-12-19T12:38:46.563Z"
   },
   {
    "duration": 6,
    "start_time": "2021-12-19T12:38:47.112Z"
   },
   {
    "duration": 17,
    "start_time": "2021-12-19T12:38:48.949Z"
   },
   {
    "duration": 9,
    "start_time": "2021-12-19T12:38:49.807Z"
   },
   {
    "duration": 10369,
    "start_time": "2021-12-19T12:49:40.657Z"
   },
   {
    "duration": 513,
    "start_time": "2021-12-19T12:51:03.926Z"
   },
   {
    "duration": 243,
    "start_time": "2021-12-19T12:52:30.022Z"
   },
   {
    "duration": 211,
    "start_time": "2021-12-19T13:02:42.716Z"
   },
   {
    "duration": 3,
    "start_time": "2021-12-19T13:06:01.669Z"
   },
   {
    "duration": 17,
    "start_time": "2021-12-19T13:06:08.696Z"
   },
   {
    "duration": 975,
    "start_time": "2021-12-19T13:08:58.519Z"
   },
   {
    "duration": -2256,
    "start_time": "2021-12-19T13:09:01.752Z"
   },
   {
    "duration": 18,
    "start_time": "2021-12-19T13:09:15.309Z"
   },
   {
    "duration": 8,
    "start_time": "2021-12-19T13:09:26.103Z"
   },
   {
    "duration": 7,
    "start_time": "2021-12-19T13:09:53.049Z"
   },
   {
    "duration": 7,
    "start_time": "2021-12-19T13:10:07.426Z"
   },
   {
    "duration": 20,
    "start_time": "2021-12-19T13:16:32.344Z"
   },
   {
    "duration": 6,
    "start_time": "2021-12-19T13:16:38.450Z"
   },
   {
    "duration": 23,
    "start_time": "2021-12-19T13:22:13.421Z"
   },
   {
    "duration": 17,
    "start_time": "2021-12-19T13:22:34.161Z"
   },
   {
    "duration": 19,
    "start_time": "2021-12-19T13:22:43.555Z"
   },
   {
    "duration": 17,
    "start_time": "2021-12-19T13:24:02.279Z"
   },
   {
    "duration": 19,
    "start_time": "2021-12-19T13:24:10.507Z"
   },
   {
    "duration": 21,
    "start_time": "2021-12-19T13:24:28.354Z"
   },
   {
    "duration": 18,
    "start_time": "2021-12-19T13:25:26.780Z"
   },
   {
    "duration": 9,
    "start_time": "2021-12-19T13:26:32.687Z"
   },
   {
    "duration": 18,
    "start_time": "2021-12-19T13:26:56.010Z"
   },
   {
    "duration": 7,
    "start_time": "2021-12-19T13:27:01.167Z"
   },
   {
    "duration": 7,
    "start_time": "2021-12-19T13:27:05.127Z"
   },
   {
    "duration": 20,
    "start_time": "2021-12-19T13:31:14.308Z"
   },
   {
    "duration": 6,
    "start_time": "2021-12-19T13:31:20.563Z"
   },
   {
    "duration": 5,
    "start_time": "2021-12-19T13:35:27.222Z"
   },
   {
    "duration": 22,
    "start_time": "2021-12-19T13:35:28.888Z"
   },
   {
    "duration": 15,
    "start_time": "2021-12-19T13:35:33.809Z"
   },
   {
    "duration": 5,
    "start_time": "2021-12-19T13:36:02.467Z"
   },
   {
    "duration": 4,
    "start_time": "2021-12-19T13:36:03.854Z"
   },
   {
    "duration": 16,
    "start_time": "2021-12-19T13:36:04.543Z"
   },
   {
    "duration": 2,
    "start_time": "2021-12-19T13:42:26.538Z"
   },
   {
    "duration": 56,
    "start_time": "2021-12-19T13:42:27.078Z"
   },
   {
    "duration": 14,
    "start_time": "2021-12-19T13:42:27.707Z"
   },
   {
    "duration": 12,
    "start_time": "2021-12-19T13:42:28.682Z"
   },
   {
    "duration": 4,
    "start_time": "2021-12-19T13:42:29.306Z"
   },
   {
    "duration": 15,
    "start_time": "2021-12-19T13:42:29.745Z"
   },
   {
    "duration": 10,
    "start_time": "2021-12-19T13:42:30.144Z"
   },
   {
    "duration": 30,
    "start_time": "2021-12-19T13:42:30.503Z"
   },
   {
    "duration": 16,
    "start_time": "2021-12-19T13:42:30.892Z"
   },
   {
    "duration": 6,
    "start_time": "2021-12-19T13:42:31.302Z"
   },
   {
    "duration": 3,
    "start_time": "2021-12-19T13:42:31.694Z"
   },
   {
    "duration": 7,
    "start_time": "2021-12-19T13:42:32.084Z"
   },
   {
    "duration": 4,
    "start_time": "2021-12-19T13:42:32.451Z"
   },
   {
    "duration": 7,
    "start_time": "2021-12-19T13:42:32.902Z"
   },
   {
    "duration": 16,
    "start_time": "2021-12-19T13:42:33.260Z"
   },
   {
    "duration": 11,
    "start_time": "2021-12-19T13:42:33.620Z"
   },
   {
    "duration": 24,
    "start_time": "2021-12-19T13:42:34.003Z"
   },
   {
    "duration": 6,
    "start_time": "2021-12-19T13:42:34.392Z"
   },
   {
    "duration": 16,
    "start_time": "2021-12-19T13:42:34.759Z"
   },
   {
    "duration": 6,
    "start_time": "2021-12-19T13:42:35.099Z"
   },
   {
    "duration": 15,
    "start_time": "2021-12-19T13:42:35.439Z"
   },
   {
    "duration": 8,
    "start_time": "2021-12-19T13:42:35.808Z"
   },
   {
    "duration": 15,
    "start_time": "2021-12-19T13:42:36.168Z"
   },
   {
    "duration": 6,
    "start_time": "2021-12-19T13:42:36.644Z"
   },
   {
    "duration": 8,
    "start_time": "2021-12-19T13:42:36.989Z"
   },
   {
    "duration": 18,
    "start_time": "2021-12-19T13:42:37.323Z"
   },
   {
    "duration": 10,
    "start_time": "2021-12-19T13:42:39.228Z"
   },
   {
    "duration": 8,
    "start_time": "2021-12-19T13:42:39.466Z"
   },
   {
    "duration": 5,
    "start_time": "2021-12-19T13:42:39.660Z"
   },
   {
    "duration": 4,
    "start_time": "2021-12-19T13:42:40.001Z"
   },
   {
    "duration": 11,
    "start_time": "2021-12-19T13:42:40.178Z"
   },
   {
    "duration": 4,
    "start_time": "2021-12-19T13:42:40.948Z"
   },
   {
    "duration": 11,
    "start_time": "2021-12-19T13:42:41.146Z"
   },
   {
    "duration": 18,
    "start_time": "2021-12-19T13:42:42.028Z"
   },
   {
    "duration": 21,
    "start_time": "2021-12-19T13:42:42.235Z"
   },
   {
    "duration": 20,
    "start_time": "2021-12-19T13:42:42.469Z"
   },
   {
    "duration": 6,
    "start_time": "2021-12-19T13:42:42.845Z"
   },
   {
    "duration": 6,
    "start_time": "2021-12-19T13:42:43.056Z"
   },
   {
    "duration": 4,
    "start_time": "2021-12-19T13:42:43.256Z"
   },
   {
    "duration": 6,
    "start_time": "2021-12-19T13:42:43.467Z"
   },
   {
    "duration": 4123,
    "start_time": "2021-12-19T13:42:44.313Z"
   },
   {
    "duration": 7,
    "start_time": "2021-12-19T13:42:48.439Z"
   },
   {
    "duration": 48,
    "start_time": "2021-12-19T13:42:48.448Z"
   },
   {
    "duration": 10,
    "start_time": "2021-12-19T13:42:48.498Z"
   },
   {
    "duration": 12,
    "start_time": "2021-12-19T13:42:48.510Z"
   },
   {
    "duration": 39,
    "start_time": "2021-12-19T13:42:48.524Z"
   },
   {
    "duration": 23,
    "start_time": "2021-12-19T13:42:48.565Z"
   },
   {
    "duration": 9,
    "start_time": "2021-12-19T13:42:48.591Z"
   },
   {
    "duration": 19,
    "start_time": "2021-12-19T13:42:48.602Z"
   },
   {
    "duration": 6,
    "start_time": "2021-12-19T13:42:48.624Z"
   },
   {
    "duration": 21,
    "start_time": "2021-12-19T13:42:48.664Z"
   },
   {
    "duration": 8,
    "start_time": "2021-12-19T13:42:48.688Z"
   },
   {
    "duration": 6,
    "start_time": "2021-12-19T13:58:11.418Z"
   },
   {
    "duration": -2267,
    "start_time": "2021-12-19T14:04:38.142Z"
   },
   {
    "duration": 6400,
    "start_time": "2021-12-19T14:04:37.946Z"
   },
   {
    "duration": 6929,
    "start_time": "2021-12-19T14:05:48.398Z"
   },
   {
    "duration": 568,
    "start_time": "2021-12-19T14:07:47.384Z"
   },
   {
    "duration": 347,
    "start_time": "2021-12-19T14:14:38.804Z"
   },
   {
    "duration": 457,
    "start_time": "2021-12-19T14:15:20.144Z"
   },
   {
    "duration": 355,
    "start_time": "2021-12-19T14:15:25.860Z"
   },
   {
    "duration": 354,
    "start_time": "2021-12-19T14:25:05.528Z"
   },
   {
    "duration": 363,
    "start_time": "2021-12-19T14:28:59.290Z"
   },
   {
    "duration": 589,
    "start_time": "2021-12-19T14:29:49.096Z"
   },
   {
    "duration": 559,
    "start_time": "2021-12-19T14:30:24.894Z"
   },
   {
    "duration": 565,
    "start_time": "2021-12-19T14:30:40.812Z"
   },
   {
    "duration": 460,
    "start_time": "2021-12-19T14:31:15.982Z"
   },
   {
    "duration": 342,
    "start_time": "2021-12-19T14:31:47.237Z"
   },
   {
    "duration": 339,
    "start_time": "2021-12-19T14:39:53.128Z"
   },
   {
    "duration": 6130,
    "start_time": "2021-12-19T14:41:56.822Z"
   },
   {
    "duration": -2292,
    "start_time": "2021-12-19T14:42:05.246Z"
   },
   {
    "duration": 329,
    "start_time": "2021-12-19T14:42:33.911Z"
   },
   {
    "duration": 344,
    "start_time": "2021-12-19T14:42:36.840Z"
   },
   {
    "duration": 236,
    "start_time": "2021-12-19T14:45:17.924Z"
   },
   {
    "duration": 28,
    "start_time": "2021-12-19T14:46:33.271Z"
   },
   {
    "duration": 367,
    "start_time": "2021-12-19T14:46:46.786Z"
   },
   {
    "duration": 23,
    "start_time": "2021-12-19T14:46:52.894Z"
   },
   {
    "duration": 18,
    "start_time": "2021-12-19T14:47:23.805Z"
   },
   {
    "duration": 18,
    "start_time": "2021-12-19T14:47:30.125Z"
   },
   {
    "duration": 16,
    "start_time": "2021-12-19T14:48:15.713Z"
   },
   {
    "duration": 17,
    "start_time": "2021-12-19T14:49:06.123Z"
   },
   {
    "duration": 567,
    "start_time": "2021-12-19T14:52:07.624Z"
   },
   {
    "duration": 18,
    "start_time": "2021-12-19T14:53:49.778Z"
   },
   {
    "duration": 17,
    "start_time": "2021-12-19T14:57:41.816Z"
   },
   {
    "duration": 234,
    "start_time": "2021-12-19T15:03:07.283Z"
   },
   {
    "duration": 19,
    "start_time": "2021-12-19T15:06:48.564Z"
   },
   {
    "duration": 589,
    "start_time": "2021-12-19T15:07:04.729Z"
   },
   {
    "duration": 363,
    "start_time": "2021-12-19T15:07:06.539Z"
   },
   {
    "duration": 19,
    "start_time": "2021-12-19T15:07:09.872Z"
   },
   {
    "duration": 355,
    "start_time": "2021-12-19T15:07:25.014Z"
   },
   {
    "duration": 359,
    "start_time": "2021-12-19T15:08:15.719Z"
   },
   {
    "duration": 240,
    "start_time": "2021-12-19T15:10:09.864Z"
   },
   {
    "duration": 24,
    "start_time": "2021-12-19T15:11:49.244Z"
   },
   {
    "duration": 23,
    "start_time": "2021-12-19T15:11:57.134Z"
   },
   {
    "duration": 871,
    "start_time": "2021-12-19T15:12:39.905Z"
   },
   {
    "duration": 112,
    "start_time": "2021-12-19T15:13:59.133Z"
   },
   {
    "duration": 110,
    "start_time": "2021-12-19T15:14:14.847Z"
   },
   {
    "duration": 231,
    "start_time": "2021-12-19T15:14:58.502Z"
   },
   {
    "duration": 221,
    "start_time": "2021-12-19T15:16:13.604Z"
   },
   {
    "duration": 27,
    "start_time": "2021-12-19T15:17:22.183Z"
   },
   {
    "duration": 11,
    "start_time": "2021-12-19T15:21:38.521Z"
   },
   {
    "duration": 9,
    "start_time": "2021-12-19T15:21:50.438Z"
   },
   {
    "duration": 10,
    "start_time": "2021-12-19T15:23:42.896Z"
   },
   {
    "duration": 347,
    "start_time": "2021-12-19T15:23:49.417Z"
   },
   {
    "duration": 21,
    "start_time": "2021-12-19T15:28:07.152Z"
   },
   {
    "duration": 245,
    "start_time": "2021-12-19T15:28:26.149Z"
   },
   {
    "duration": 92,
    "start_time": "2021-12-19T15:28:39.526Z"
   },
   {
    "duration": 37,
    "start_time": "2021-12-19T15:29:18.164Z"
   },
   {
    "duration": 17,
    "start_time": "2021-12-19T15:51:17.604Z"
   },
   {
    "duration": 4849,
    "start_time": "2021-12-19T16:06:05.308Z"
   },
   {
    "duration": 4612,
    "start_time": "2021-12-19T16:06:41.304Z"
   },
   {
    "duration": 22,
    "start_time": "2021-12-19T16:07:09.003Z"
   },
   {
    "duration": 274,
    "start_time": "2021-12-19T16:08:06.570Z"
   },
   {
    "duration": 212,
    "start_time": "2021-12-19T16:08:49.622Z"
   },
   {
    "duration": 20,
    "start_time": "2021-12-19T16:08:56.094Z"
   },
   {
    "duration": 215,
    "start_time": "2021-12-19T16:10:25.017Z"
   },
   {
    "duration": 213,
    "start_time": "2021-12-19T16:10:36.238Z"
   },
   {
    "duration": 27,
    "start_time": "2021-12-19T16:11:14.916Z"
   },
   {
    "duration": 23,
    "start_time": "2021-12-19T16:19:25.694Z"
   },
   {
    "duration": 20,
    "start_time": "2021-12-19T16:20:08.250Z"
   },
   {
    "duration": 20,
    "start_time": "2021-12-19T16:20:36.604Z"
   },
   {
    "duration": 518,
    "start_time": "2021-12-19T16:21:23.426Z"
   },
   {
    "duration": 303,
    "start_time": "2021-12-19T16:21:36.991Z"
   },
   {
    "duration": 207,
    "start_time": "2021-12-19T16:22:16.812Z"
   },
   {
    "duration": 212,
    "start_time": "2021-12-19T16:22:26.781Z"
   },
   {
    "duration": 19,
    "start_time": "2021-12-19T16:22:36.478Z"
   },
   {
    "duration": 20,
    "start_time": "2021-12-19T16:23:48.165Z"
   },
   {
    "duration": 357,
    "start_time": "2021-12-19T19:31:16.592Z"
   },
   {
    "duration": 760,
    "start_time": "2021-12-19T19:43:37.389Z"
   },
   {
    "duration": 74,
    "start_time": "2021-12-19T19:43:38.152Z"
   },
   {
    "duration": 32,
    "start_time": "2021-12-19T19:43:38.846Z"
   },
   {
    "duration": 18,
    "start_time": "2021-12-19T19:43:39.325Z"
   },
   {
    "duration": 7,
    "start_time": "2021-12-19T19:43:39.569Z"
   },
   {
    "duration": 22,
    "start_time": "2021-12-19T19:43:40.667Z"
   },
   {
    "duration": 12,
    "start_time": "2021-12-19T19:43:41.356Z"
   },
   {
    "duration": 46,
    "start_time": "2021-12-19T19:43:42.044Z"
   },
   {
    "duration": 27,
    "start_time": "2021-12-19T19:43:42.347Z"
   },
   {
    "duration": 8,
    "start_time": "2021-12-19T19:43:42.555Z"
   },
   {
    "duration": 5,
    "start_time": "2021-12-19T19:43:42.803Z"
   },
   {
    "duration": 11,
    "start_time": "2021-12-19T19:43:43.083Z"
   },
   {
    "duration": 4,
    "start_time": "2021-12-19T19:43:43.355Z"
   },
   {
    "duration": 9,
    "start_time": "2021-12-19T19:43:43.613Z"
   },
   {
    "duration": 23,
    "start_time": "2021-12-19T19:43:43.902Z"
   },
   {
    "duration": 16,
    "start_time": "2021-12-19T19:43:44.184Z"
   },
   {
    "duration": 36,
    "start_time": "2021-12-19T19:43:44.484Z"
   },
   {
    "duration": 10,
    "start_time": "2021-12-19T19:43:44.764Z"
   },
   {
    "duration": 23,
    "start_time": "2021-12-19T19:43:45.044Z"
   },
   {
    "duration": 9,
    "start_time": "2021-12-19T19:43:45.333Z"
   },
   {
    "duration": 22,
    "start_time": "2021-12-19T19:43:45.643Z"
   },
   {
    "duration": 11,
    "start_time": "2021-12-19T19:43:46.021Z"
   },
   {
    "duration": 24,
    "start_time": "2021-12-19T19:43:46.341Z"
   },
   {
    "duration": 9,
    "start_time": "2021-12-19T19:43:47.002Z"
   },
   {
    "duration": 11,
    "start_time": "2021-12-19T19:43:47.503Z"
   },
   {
    "duration": 26,
    "start_time": "2021-12-19T19:43:47.896Z"
   },
   {
    "duration": 13,
    "start_time": "2021-12-19T19:43:51.133Z"
   },
   {
    "duration": 12,
    "start_time": "2021-12-19T19:43:51.912Z"
   },
   {
    "duration": 6,
    "start_time": "2021-12-19T19:43:53.999Z"
   },
   {
    "duration": 5,
    "start_time": "2021-12-19T19:43:57.561Z"
   },
   {
    "duration": 15,
    "start_time": "2021-12-19T19:43:58.920Z"
   },
   {
    "duration": 6,
    "start_time": "2021-12-19T19:44:01.396Z"
   },
   {
    "duration": 5,
    "start_time": "2021-12-19T19:44:01.847Z"
   },
   {
    "duration": 16,
    "start_time": "2021-12-19T19:44:15.393Z"
   },
   {
    "duration": 23,
    "start_time": "2021-12-19T19:44:27.467Z"
   },
   {
    "duration": 28,
    "start_time": "2021-12-19T19:44:29.497Z"
   },
   {
    "duration": 28,
    "start_time": "2021-12-19T19:44:34.944Z"
   },
   {
    "duration": 7,
    "start_time": "2021-12-19T19:44:36.504Z"
   },
   {
    "duration": 7,
    "start_time": "2021-12-19T19:44:38.736Z"
   },
   {
    "duration": 6,
    "start_time": "2021-12-19T19:45:14.334Z"
   },
   {
    "duration": 5,
    "start_time": "2021-12-19T19:46:10.073Z"
   },
   {
    "duration": 7,
    "start_time": "2021-12-19T19:46:18.400Z"
   },
   {
    "duration": 6,
    "start_time": "2021-12-19T19:46:29.870Z"
   },
   {
    "duration": 7,
    "start_time": "2021-12-19T19:46:30.510Z"
   },
   {
    "duration": 11,
    "start_time": "2021-12-19T19:48:13.106Z"
   },
   {
    "duration": 7,
    "start_time": "2021-12-19T19:48:13.994Z"
   },
   {
    "duration": 3,
    "start_time": "2021-12-20T08:44:35.071Z"
   },
   {
    "duration": 740,
    "start_time": "2021-12-20T09:21:40.530Z"
   },
   {
    "duration": 63,
    "start_time": "2021-12-20T09:21:42.585Z"
   },
   {
    "duration": 28,
    "start_time": "2021-12-20T09:21:44.490Z"
   },
   {
    "duration": 15,
    "start_time": "2021-12-20T09:21:47.089Z"
   },
   {
    "duration": 6,
    "start_time": "2021-12-20T09:21:47.989Z"
   },
   {
    "duration": 43,
    "start_time": "2021-12-20T09:21:48.761Z"
   },
   {
    "duration": 14,
    "start_time": "2021-12-20T09:21:54.846Z"
   },
   {
    "duration": 25,
    "start_time": "2021-12-20T09:21:57.569Z"
   },
   {
    "duration": 14,
    "start_time": "2021-12-20T09:22:32.177Z"
   },
   {
    "duration": 23,
    "start_time": "2021-12-20T09:22:41.218Z"
   },
   {
    "duration": 7,
    "start_time": "2021-12-20T09:23:03.569Z"
   },
   {
    "duration": 4,
    "start_time": "2021-12-20T09:23:04.131Z"
   },
   {
    "duration": 12,
    "start_time": "2021-12-20T09:23:42.162Z"
   },
   {
    "duration": 12,
    "start_time": "2021-12-20T09:23:58.930Z"
   },
   {
    "duration": 12,
    "start_time": "2021-12-20T09:24:00.350Z"
   },
   {
    "duration": 12,
    "start_time": "2021-12-20T09:24:02.538Z"
   },
   {
    "duration": 6,
    "start_time": "2021-12-20T09:24:15.422Z"
   },
   {
    "duration": 4,
    "start_time": "2021-12-20T09:24:16.018Z"
   },
   {
    "duration": 14,
    "start_time": "2021-12-20T09:24:17.547Z"
   },
   {
    "duration": 6,
    "start_time": "2021-12-20T09:34:01.386Z"
   },
   {
    "duration": 5,
    "start_time": "2021-12-20T09:34:02.478Z"
   },
   {
    "duration": 13,
    "start_time": "2021-12-20T09:34:03.098Z"
   },
   {
    "duration": 4,
    "start_time": "2021-12-20T09:36:58.330Z"
   },
   {
    "duration": 60,
    "start_time": "2021-12-20T09:36:59.050Z"
   },
   {
    "duration": 20,
    "start_time": "2021-12-20T09:37:00.391Z"
   },
   {
    "duration": 19,
    "start_time": "2021-12-20T09:37:02.070Z"
   },
   {
    "duration": 7,
    "start_time": "2021-12-20T09:37:05.231Z"
   },
   {
    "duration": 40,
    "start_time": "2021-12-20T09:37:05.942Z"
   },
   {
    "duration": 12,
    "start_time": "2021-12-20T09:37:08.310Z"
   },
   {
    "duration": 24,
    "start_time": "2021-12-20T09:37:09.870Z"
   },
   {
    "duration": 12,
    "start_time": "2021-12-20T09:37:12.570Z"
   },
   {
    "duration": 22,
    "start_time": "2021-12-20T09:37:15.390Z"
   },
   {
    "duration": 22,
    "start_time": "2021-12-20T09:37:17.910Z"
   },
   {
    "duration": 6,
    "start_time": "2021-12-20T09:40:17.822Z"
   },
   {
    "duration": 6,
    "start_time": "2021-12-20T09:40:19.402Z"
   },
   {
    "duration": 15,
    "start_time": "2021-12-20T09:40:20.731Z"
   },
   {
    "duration": 627,
    "start_time": "2021-12-20T10:05:13.491Z"
   },
   {
    "duration": 5,
    "start_time": "2021-12-20T10:46:44.578Z"
   },
   {
    "duration": 5,
    "start_time": "2021-12-20T10:46:45.010Z"
   },
   {
    "duration": 15,
    "start_time": "2021-12-20T10:46:45.990Z"
   },
   {
    "duration": 23,
    "start_time": "2021-12-20T10:46:51.130Z"
   },
   {
    "duration": 27,
    "start_time": "2021-12-20T10:47:04.859Z"
   },
   {
    "duration": 27,
    "start_time": "2021-12-20T10:47:05.871Z"
   },
   {
    "duration": 9,
    "start_time": "2021-12-20T10:47:12.171Z"
   },
   {
    "duration": 4,
    "start_time": "2021-12-20T10:47:15.483Z"
   },
   {
    "duration": 7,
    "start_time": "2021-12-20T10:47:20.387Z"
   },
   {
    "duration": 12,
    "start_time": "2021-12-20T10:47:37.579Z"
   },
   {
    "duration": 7,
    "start_time": "2021-12-20T10:47:40.250Z"
   },
   {
    "duration": 12,
    "start_time": "2021-12-20T10:47:42.870Z"
   },
   {
    "duration": 5,
    "start_time": "2021-12-20T10:47:44.387Z"
   },
   {
    "duration": 9,
    "start_time": "2021-12-20T10:47:46.531Z"
   },
   {
    "duration": 22,
    "start_time": "2021-12-20T10:47:47.883Z"
   },
   {
    "duration": 17,
    "start_time": "2021-12-20T10:47:50.611Z"
   },
   {
    "duration": 9,
    "start_time": "2021-12-20T10:47:53.671Z"
   },
   {
    "duration": 22,
    "start_time": "2021-12-20T10:47:55.100Z"
   },
   {
    "duration": 9,
    "start_time": "2021-12-20T10:47:56.827Z"
   },
   {
    "duration": 21,
    "start_time": "2021-12-20T10:47:59.592Z"
   },
   {
    "duration": 23,
    "start_time": "2021-12-20T10:48:01.091Z"
   },
   {
    "duration": 9,
    "start_time": "2021-12-20T10:48:02.271Z"
   },
   {
    "duration": 26,
    "start_time": "2021-12-20T10:48:03.171Z"
   },
   {
    "duration": 3,
    "start_time": "2021-12-20T10:49:58.657Z"
   },
   {
    "duration": 24,
    "start_time": "2021-12-20T10:53:42.131Z"
   },
   {
    "duration": 27,
    "start_time": "2021-12-20T10:57:02.672Z"
   },
   {
    "duration": 31,
    "start_time": "2021-12-20T10:59:07.091Z"
   },
   {
    "duration": 30,
    "start_time": "2021-12-20T11:00:51.251Z"
   },
   {
    "duration": 29,
    "start_time": "2021-12-20T11:00:57.019Z"
   },
   {
    "duration": 25,
    "start_time": "2021-12-20T11:00:57.591Z"
   },
   {
    "duration": 24,
    "start_time": "2021-12-20T11:00:59.430Z"
   },
   {
    "duration": 9,
    "start_time": "2021-12-20T12:46:14.349Z"
   },
   {
    "duration": 5,
    "start_time": "2021-12-20T12:46:16.810Z"
   },
   {
    "duration": 7,
    "start_time": "2021-12-20T12:46:18.770Z"
   },
   {
    "duration": 392,
    "start_time": "2021-12-20T17:59:54.532Z"
   },
   {
    "duration": 968,
    "start_time": "2021-12-20T18:32:30.792Z"
   },
   {
    "duration": 92,
    "start_time": "2021-12-20T18:32:31.764Z"
   },
   {
    "duration": 29,
    "start_time": "2021-12-20T18:32:35.091Z"
   },
   {
    "duration": 15,
    "start_time": "2021-12-20T18:32:49.204Z"
   },
   {
    "duration": 6,
    "start_time": "2021-12-20T18:32:50.286Z"
   },
   {
    "duration": 42,
    "start_time": "2021-12-20T18:32:52.645Z"
   },
   {
    "duration": 17,
    "start_time": "2021-12-20T18:33:01.228Z"
   },
   {
    "duration": 18,
    "start_time": "2021-12-20T18:35:27.758Z"
   },
   {
    "duration": 24,
    "start_time": "2021-12-20T18:35:32.565Z"
   },
   {
    "duration": 24,
    "start_time": "2021-12-20T18:35:34.626Z"
   },
   {
    "duration": 7,
    "start_time": "2021-12-20T18:35:38.247Z"
   },
   {
    "duration": 7,
    "start_time": "2021-12-20T18:35:40.316Z"
   },
   {
    "duration": 20,
    "start_time": "2021-12-20T18:35:41.425Z"
   },
   {
    "duration": 26,
    "start_time": "2021-12-20T18:36:14.256Z"
   },
   {
    "duration": 5,
    "start_time": "2021-12-20T18:37:41.673Z"
   },
   {
    "duration": 7,
    "start_time": "2021-12-20T18:37:42.224Z"
   },
   {
    "duration": 22,
    "start_time": "2021-12-20T18:37:43.926Z"
   },
   {
    "duration": 24,
    "start_time": "2021-12-20T18:39:19.243Z"
   },
   {
    "duration": 26,
    "start_time": "2021-12-20T18:39:20.762Z"
   },
   {
    "duration": 34,
    "start_time": "2021-12-20T18:39:23.030Z"
   },
   {
    "duration": 27,
    "start_time": "2021-12-20T18:39:25.151Z"
   },
   {
    "duration": 8,
    "start_time": "2021-12-20T18:39:30.120Z"
   },
   {
    "duration": 4,
    "start_time": "2021-12-20T18:39:32.907Z"
   },
   {
    "duration": 11,
    "start_time": "2021-12-20T18:39:34.276Z"
   },
   {
    "duration": 7,
    "start_time": "2021-12-20T18:39:35.920Z"
   },
   {
    "duration": 9,
    "start_time": "2021-12-20T18:39:37.107Z"
   },
   {
    "duration": 5,
    "start_time": "2021-12-20T18:39:41.378Z"
   },
   {
    "duration": 10,
    "start_time": "2021-12-20T18:39:42.279Z"
   },
   {
    "duration": 11,
    "start_time": "2021-12-20T18:39:45.353Z"
   },
   {
    "duration": 25,
    "start_time": "2021-12-20T18:39:52.537Z"
   },
   {
    "duration": 16,
    "start_time": "2021-12-20T18:39:54.566Z"
   },
   {
    "duration": 10,
    "start_time": "2021-12-20T18:39:55.277Z"
   },
   {
    "duration": 10,
    "start_time": "2021-12-20T18:40:04.650Z"
   },
   {
    "duration": 37,
    "start_time": "2021-12-20T18:40:05.889Z"
   },
   {
    "duration": 8,
    "start_time": "2021-12-20T18:40:07.859Z"
   },
   {
    "duration": 33,
    "start_time": "2021-12-20T18:40:09.078Z"
   },
   {
    "duration": 8,
    "start_time": "2021-12-20T18:40:09.737Z"
   },
   {
    "duration": 21,
    "start_time": "2021-12-20T18:40:13.207Z"
   },
   {
    "duration": 8,
    "start_time": "2021-12-20T18:40:14.189Z"
   },
   {
    "duration": 25,
    "start_time": "2021-12-20T18:40:16.307Z"
   },
   {
    "duration": 6125,
    "start_time": "2021-12-20T18:40:36.698Z"
   },
   {
    "duration": 5933,
    "start_time": "2021-12-20T18:40:49.193Z"
   },
   {
    "duration": 13,
    "start_time": "2021-12-20T18:41:04.226Z"
   },
   {
    "duration": 11,
    "start_time": "2021-12-20T18:41:25.219Z"
   },
   {
    "duration": 9,
    "start_time": "2021-12-20T18:41:33.154Z"
   },
   {
    "duration": 45,
    "start_time": "2021-12-20T18:41:48.080Z"
   },
   {
    "duration": 41,
    "start_time": "2021-12-20T18:41:53.559Z"
   },
   {
    "duration": 11,
    "start_time": "2021-12-20T19:02:04.908Z"
   },
   {
    "duration": 8707,
    "start_time": "2021-12-20T19:03:16.280Z"
   },
   {
    "duration": 17,
    "start_time": "2021-12-20T19:03:35.300Z"
   },
   {
    "duration": 11,
    "start_time": "2021-12-20T19:03:38.869Z"
   },
   {
    "duration": 13,
    "start_time": "2021-12-20T19:03:52.133Z"
   },
   {
    "duration": 15,
    "start_time": "2021-12-20T19:03:55.991Z"
   },
   {
    "duration": 9,
    "start_time": "2021-12-20T19:03:58.568Z"
   },
   {
    "duration": 61,
    "start_time": "2021-12-20T19:04:05.936Z"
   },
   {
    "duration": 10,
    "start_time": "2021-12-20T19:10:28.699Z"
   },
   {
    "duration": 27,
    "start_time": "2021-12-20T19:17:59.106Z"
   },
   {
    "duration": 32,
    "start_time": "2021-12-20T19:18:05.502Z"
   },
   {
    "duration": 9,
    "start_time": "2021-12-20T19:18:21.809Z"
   },
   {
    "duration": 30,
    "start_time": "2021-12-20T19:20:53.426Z"
   },
   {
    "duration": 10,
    "start_time": "2021-12-20T19:21:08.722Z"
   },
   {
    "duration": 629,
    "start_time": "2021-12-20T19:30:12.016Z"
   },
   {
    "duration": 688,
    "start_time": "2021-12-20T19:30:16.176Z"
   },
   {
    "duration": 52,
    "start_time": "2021-12-20T19:30:18.506Z"
   },
   {
    "duration": 24,
    "start_time": "2021-12-20T19:32:44.813Z"
   },
   {
    "duration": 26,
    "start_time": "2021-12-20T19:33:39.304Z"
   },
   {
    "duration": 29,
    "start_time": "2021-12-20T19:33:51.782Z"
   },
   {
    "duration": 28,
    "start_time": "2021-12-20T19:35:01.237Z"
   },
   {
    "duration": 262,
    "start_time": "2021-12-20T19:55:03.995Z"
   },
   {
    "duration": 30,
    "start_time": "2021-12-20T19:55:41.525Z"
   },
   {
    "duration": 43,
    "start_time": "2021-12-20T20:00:36.783Z"
   },
   {
    "duration": 254,
    "start_time": "2021-12-20T20:08:49.925Z"
   },
   {
    "duration": 269,
    "start_time": "2021-12-20T20:09:18.307Z"
   },
   {
    "duration": 43,
    "start_time": "2021-12-20T20:10:06.794Z"
   },
   {
    "duration": 283,
    "start_time": "2021-12-20T20:10:39.078Z"
   },
   {
    "duration": 41,
    "start_time": "2021-12-20T20:11:31.216Z"
   },
   {
    "duration": 410,
    "start_time": "2021-12-21T07:18:56.175Z"
   },
   {
    "duration": 1096,
    "start_time": "2021-12-21T07:30:13.059Z"
   },
   {
    "duration": 66,
    "start_time": "2021-12-21T07:30:14.158Z"
   },
   {
    "duration": 30,
    "start_time": "2021-12-21T07:30:14.226Z"
   },
   {
    "duration": 15,
    "start_time": "2021-12-21T07:30:14.259Z"
   },
   {
    "duration": 9,
    "start_time": "2021-12-21T07:30:14.276Z"
   },
   {
    "duration": 44,
    "start_time": "2021-12-21T07:30:14.288Z"
   },
   {
    "duration": 14,
    "start_time": "2021-12-21T07:30:14.627Z"
   },
   {
    "duration": 24,
    "start_time": "2021-12-21T07:30:14.794Z"
   },
   {
    "duration": 16,
    "start_time": "2021-12-21T07:30:16.627Z"
   },
   {
    "duration": 21,
    "start_time": "2021-12-21T07:30:17.227Z"
   },
   {
    "duration": 22,
    "start_time": "2021-12-21T07:30:17.607Z"
   },
   {
    "duration": 7,
    "start_time": "2021-12-21T07:30:18.166Z"
   },
   {
    "duration": 6,
    "start_time": "2021-12-21T07:30:18.567Z"
   },
   {
    "duration": 16,
    "start_time": "2021-12-21T07:30:18.786Z"
   },
   {
    "duration": 4,
    "start_time": "2021-12-21T07:30:19.927Z"
   },
   {
    "duration": 5,
    "start_time": "2021-12-21T07:30:20.123Z"
   },
   {
    "duration": 16,
    "start_time": "2021-12-21T07:30:20.494Z"
   },
   {
    "duration": 21,
    "start_time": "2021-12-21T07:30:23.023Z"
   },
   {
    "duration": 27,
    "start_time": "2021-12-21T07:30:23.431Z"
   },
   {
    "duration": 26,
    "start_time": "2021-12-21T07:30:23.907Z"
   },
   {
    "duration": 25,
    "start_time": "2021-12-21T07:30:24.363Z"
   },
   {
    "duration": 8,
    "start_time": "2021-12-21T07:30:25.303Z"
   },
   {
    "duration": 5,
    "start_time": "2021-12-21T07:30:27.987Z"
   },
   {
    "duration": 13,
    "start_time": "2021-12-21T07:30:27.996Z"
   },
   {
    "duration": 8,
    "start_time": "2021-12-21T07:30:28.012Z"
   },
   {
    "duration": 10,
    "start_time": "2021-12-21T07:30:28.023Z"
   },
   {
    "duration": 5,
    "start_time": "2021-12-21T07:30:28.267Z"
   },
   {
    "duration": 11,
    "start_time": "2021-12-21T07:30:28.567Z"
   },
   {
    "duration": 8,
    "start_time": "2021-12-21T07:30:28.855Z"
   },
   {
    "duration": 21,
    "start_time": "2021-12-21T07:30:29.371Z"
   },
   {
    "duration": 15,
    "start_time": "2021-12-21T07:30:30.415Z"
   },
   {
    "duration": 10,
    "start_time": "2021-12-21T07:30:30.667Z"
   },
   {
    "duration": 8,
    "start_time": "2021-12-21T07:30:33.695Z"
   },
   {
    "duration": 20,
    "start_time": "2021-12-21T07:30:34.115Z"
   },
   {
    "duration": 8,
    "start_time": "2021-12-21T07:30:34.495Z"
   },
   {
    "duration": 21,
    "start_time": "2021-12-21T07:30:36.235Z"
   },
   {
    "duration": 10,
    "start_time": "2021-12-21T07:30:36.435Z"
   },
   {
    "duration": 22,
    "start_time": "2021-12-21T07:30:37.615Z"
   },
   {
    "duration": 7,
    "start_time": "2021-12-21T07:30:37.867Z"
   },
   {
    "duration": 26,
    "start_time": "2021-12-21T07:30:38.926Z"
   },
   {
    "duration": 5494,
    "start_time": "2021-12-21T07:30:41.127Z"
   },
   {
    "duration": 8,
    "start_time": "2021-12-21T07:30:46.624Z"
   },
   {
    "duration": 35,
    "start_time": "2021-12-21T07:30:46.635Z"
   },
   {
    "duration": 13,
    "start_time": "2021-12-21T07:30:46.734Z"
   },
   {
    "duration": 13,
    "start_time": "2021-12-21T07:30:46.947Z"
   },
   {
    "duration": 32,
    "start_time": "2021-12-21T07:30:47.774Z"
   },
   {
    "duration": 9,
    "start_time": "2021-12-21T07:30:48.354Z"
   },
   {
    "duration": 26,
    "start_time": "2021-12-21T07:30:48.947Z"
   },
   {
    "duration": 8,
    "start_time": "2021-12-21T07:30:49.383Z"
   },
   {
    "duration": 43,
    "start_time": "2021-12-21T07:30:50.775Z"
   },
   {
    "duration": 30,
    "start_time": "2021-12-21T07:30:53.175Z"
   },
   {
    "duration": 29,
    "start_time": "2021-12-21T07:30:55.998Z"
   },
   {
    "duration": 29,
    "start_time": "2021-12-21T07:31:05.068Z"
   },
   {
    "duration": 39,
    "start_time": "2021-12-21T07:43:19.528Z"
   },
   {
    "duration": 64,
    "start_time": "2021-12-21T07:43:33.528Z"
   },
   {
    "duration": 19,
    "start_time": "2021-12-21T07:43:34.595Z"
   },
   {
    "duration": 15,
    "start_time": "2021-12-21T07:43:35.047Z"
   },
   {
    "duration": 5,
    "start_time": "2021-12-21T07:43:35.617Z"
   },
   {
    "duration": 45,
    "start_time": "2021-12-21T07:43:36.207Z"
   },
   {
    "duration": 12,
    "start_time": "2021-12-21T07:43:37.548Z"
   },
   {
    "duration": 22,
    "start_time": "2021-12-21T07:43:38.088Z"
   },
   {
    "duration": 14,
    "start_time": "2021-12-21T07:43:49.167Z"
   },
   {
    "duration": 22,
    "start_time": "2021-12-21T07:43:52.867Z"
   },
   {
    "duration": 959,
    "start_time": "2021-12-22T16:37:59.945Z"
   },
   {
    "duration": 76,
    "start_time": "2021-12-22T16:38:00.907Z"
   },
   {
    "duration": 258,
    "start_time": "2021-12-22T16:38:00.987Z"
   },
   {
    "duration": 57,
    "start_time": "2021-12-22T16:38:01.249Z"
   },
   {
    "duration": 14,
    "start_time": "2021-12-22T16:38:01.310Z"
   },
   {
    "duration": 47,
    "start_time": "2021-12-22T16:38:01.409Z"
   },
   {
    "duration": 13,
    "start_time": "2021-12-22T16:38:02.130Z"
   },
   {
    "duration": 91,
    "start_time": "2021-12-22T16:38:02.294Z"
   },
   {
    "duration": 12,
    "start_time": "2021-12-22T16:38:03.471Z"
   },
   {
    "duration": 22,
    "start_time": "2021-12-22T16:38:04.418Z"
   },
   {
    "duration": 27,
    "start_time": "2021-12-22T16:38:04.814Z"
   },
   {
    "duration": 6,
    "start_time": "2021-12-22T16:38:05.421Z"
   },
   {
    "duration": 6,
    "start_time": "2021-12-22T16:38:06.023Z"
   },
   {
    "duration": 20,
    "start_time": "2021-12-22T16:38:06.222Z"
   },
   {
    "duration": 5,
    "start_time": "2021-12-22T16:38:07.647Z"
   },
   {
    "duration": 5,
    "start_time": "2021-12-22T16:38:07.824Z"
   },
   {
    "duration": 16,
    "start_time": "2021-12-22T16:38:08.450Z"
   },
   {
    "duration": 21,
    "start_time": "2021-12-22T16:38:10.147Z"
   },
   {
    "duration": 26,
    "start_time": "2021-12-22T16:38:10.564Z"
   },
   {
    "duration": 26,
    "start_time": "2021-12-22T16:38:11.028Z"
   },
   {
    "duration": 21,
    "start_time": "2021-12-22T16:38:11.515Z"
   },
   {
    "duration": 8,
    "start_time": "2021-12-22T16:38:12.411Z"
   },
   {
    "duration": 5,
    "start_time": "2021-12-22T16:38:13.100Z"
   },
   {
    "duration": 11,
    "start_time": "2021-12-22T16:38:13.957Z"
   },
   {
    "duration": 8,
    "start_time": "2021-12-22T16:38:14.396Z"
   },
   {
    "duration": 10,
    "start_time": "2021-12-22T16:38:14.963Z"
   },
   {
    "duration": 5,
    "start_time": "2021-12-22T16:38:15.624Z"
   },
   {
    "duration": 10,
    "start_time": "2021-12-22T16:38:15.848Z"
   },
   {
    "duration": 10,
    "start_time": "2021-12-22T16:38:16.069Z"
   },
   {
    "duration": 24,
    "start_time": "2021-12-22T16:38:16.591Z"
   },
   {
    "duration": 16,
    "start_time": "2021-12-22T16:38:17.393Z"
   },
   {
    "duration": 10,
    "start_time": "2021-12-22T16:38:17.622Z"
   },
   {
    "duration": 8,
    "start_time": "2021-12-22T16:38:18.305Z"
   },
   {
    "duration": 22,
    "start_time": "2021-12-22T16:38:19.117Z"
   },
   {
    "duration": 9,
    "start_time": "2021-12-22T16:38:19.861Z"
   },
   {
    "duration": 22,
    "start_time": "2021-12-22T16:38:20.576Z"
   },
   {
    "duration": 10,
    "start_time": "2021-12-22T16:38:20.928Z"
   },
   {
    "duration": 23,
    "start_time": "2021-12-22T16:38:21.775Z"
   },
   {
    "duration": 10,
    "start_time": "2021-12-22T16:38:22.148Z"
   },
   {
    "duration": 26,
    "start_time": "2021-12-22T16:38:22.747Z"
   },
   {
    "duration": 5137,
    "start_time": "2021-12-22T16:38:25.435Z"
   },
   {
    "duration": 8,
    "start_time": "2021-12-22T16:38:30.575Z"
   },
   {
    "duration": 23,
    "start_time": "2021-12-22T16:38:30.586Z"
   },
   {
    "duration": 16,
    "start_time": "2021-12-22T16:38:30.613Z"
   },
   {
    "duration": 45,
    "start_time": "2021-12-22T16:38:30.631Z"
   },
   {
    "duration": 40,
    "start_time": "2021-12-22T16:38:30.678Z"
   },
   {
    "duration": 17,
    "start_time": "2021-12-22T16:38:30.720Z"
   },
   {
    "duration": 30,
    "start_time": "2021-12-22T16:38:31.088Z"
   },
   {
    "duration": 9,
    "start_time": "2021-12-22T16:38:31.822Z"
   },
   {
    "duration": 47,
    "start_time": "2021-12-22T16:38:33.415Z"
   },
   {
    "duration": 29,
    "start_time": "2021-12-22T16:38:34.638Z"
   },
   {
    "duration": 29,
    "start_time": "2021-12-22T16:38:36.115Z"
   },
   {
    "duration": 29,
    "start_time": "2021-12-22T16:38:56.012Z"
   },
   {
    "duration": 50,
    "start_time": "2021-12-22T16:39:54.656Z"
   },
   {
    "duration": 5,
    "start_time": "2021-12-22T17:08:42.975Z"
   },
   {
    "duration": 78,
    "start_time": "2021-12-22T17:08:44.362Z"
   },
   {
    "duration": 21,
    "start_time": "2021-12-22T17:08:46.866Z"
   },
   {
    "duration": 16,
    "start_time": "2021-12-22T17:08:48.714Z"
   },
   {
    "duration": 6,
    "start_time": "2021-12-22T17:08:49.296Z"
   },
   {
    "duration": 50,
    "start_time": "2021-12-22T17:08:49.843Z"
   },
   {
    "duration": 14,
    "start_time": "2021-12-22T17:08:53.658Z"
   },
   {
    "duration": 23,
    "start_time": "2021-12-22T17:08:55.831Z"
   },
   {
    "duration": 20,
    "start_time": "2021-12-22T17:09:07.839Z"
   },
   {
    "duration": 22,
    "start_time": "2021-12-22T17:09:11.160Z"
   },
   {
    "duration": 51,
    "start_time": "2021-12-22T17:09:14.063Z"
   },
   {
    "duration": 6,
    "start_time": "2021-12-22T17:09:48.688Z"
   },
   {
    "duration": 131,
    "start_time": "2021-12-22T17:09:53.193Z"
   },
   {
    "duration": 264,
    "start_time": "2021-12-22T17:10:14.880Z"
   },
   {
    "duration": 109,
    "start_time": "2021-12-22T17:10:41.940Z"
   },
   {
    "duration": 6,
    "start_time": "2021-12-22T17:17:44.760Z"
   },
   {
    "duration": 115,
    "start_time": "2021-12-22T17:17:44.817Z"
   },
   {
    "duration": 48,
    "start_time": "2021-12-22T17:18:30.636Z"
   },
   {
    "duration": 47,
    "start_time": "2021-12-22T17:19:29.077Z"
   },
   {
    "duration": 51,
    "start_time": "2021-12-22T17:19:32.295Z"
   },
   {
    "duration": 7,
    "start_time": "2021-12-22T17:20:20.261Z"
   },
   {
    "duration": 5,
    "start_time": "2021-12-22T17:20:23.444Z"
   },
   {
    "duration": 54,
    "start_time": "2021-12-22T17:20:35.465Z"
   },
   {
    "duration": 5,
    "start_time": "2021-12-22T17:21:33.480Z"
   },
   {
    "duration": 4,
    "start_time": "2021-12-22T17:22:42.977Z"
   },
   {
    "duration": 61,
    "start_time": "2021-12-22T17:22:44.172Z"
   },
   {
    "duration": 20,
    "start_time": "2021-12-22T17:22:44.998Z"
   },
   {
    "duration": 16,
    "start_time": "2021-12-22T17:22:45.206Z"
   },
   {
    "duration": 6,
    "start_time": "2021-12-22T17:22:45.455Z"
   },
   {
    "duration": 47,
    "start_time": "2021-12-22T17:22:46.249Z"
   },
   {
    "duration": 15,
    "start_time": "2021-12-22T17:22:49.315Z"
   },
   {
    "duration": 23,
    "start_time": "2021-12-22T17:22:51.654Z"
   },
   {
    "duration": 13,
    "start_time": "2021-12-22T17:22:53.532Z"
   },
   {
    "duration": 32,
    "start_time": "2021-12-22T17:22:55.729Z"
   },
   {
    "duration": 23,
    "start_time": "2021-12-22T17:22:57.796Z"
   },
   {
    "duration": 70,
    "start_time": "2021-12-22T17:23:01.435Z"
   },
   {
    "duration": 6,
    "start_time": "2021-12-22T17:23:04.986Z"
   },
   {
    "duration": 46,
    "start_time": "2021-12-22T17:23:21.302Z"
   },
   {
    "duration": 5,
    "start_time": "2021-12-22T17:23:23.384Z"
   },
   {
    "duration": 20,
    "start_time": "2021-12-22T17:23:26.062Z"
   },
   {
    "duration": 101,
    "start_time": "2021-12-22T17:39:08.436Z"
   },
   {
    "duration": 40,
    "start_time": "2021-12-22T17:45:48.679Z"
   },
   {
    "duration": 34,
    "start_time": "2021-12-22T17:47:19.472Z"
   },
   {
    "duration": 165,
    "start_time": "2021-12-22T17:49:03.900Z"
   },
   {
    "duration": 540,
    "start_time": "2021-12-23T06:21:53.094Z"
   },
   {
    "duration": 51,
    "start_time": "2021-12-23T06:21:54.787Z"
   },
   {
    "duration": 19,
    "start_time": "2021-12-23T06:21:57.594Z"
   },
   {
    "duration": 11,
    "start_time": "2021-12-23T06:21:59.314Z"
   },
   {
    "duration": 4,
    "start_time": "2021-12-23T06:21:59.906Z"
   },
   {
    "duration": 34,
    "start_time": "2021-12-23T06:22:01.294Z"
   },
   {
    "duration": 11,
    "start_time": "2021-12-23T06:22:04.945Z"
   },
   {
    "duration": 16,
    "start_time": "2021-12-23T06:22:05.594Z"
   },
   {
    "duration": 11,
    "start_time": "2021-12-23T06:22:08.195Z"
   },
   {
    "duration": 14,
    "start_time": "2021-12-23T06:22:11.125Z"
   },
   {
    "duration": 15,
    "start_time": "2021-12-23T06:22:13.594Z"
   },
   {
    "duration": 44,
    "start_time": "2021-12-23T06:22:22.174Z"
   },
   {
    "duration": 3,
    "start_time": "2021-12-23T06:22:24.354Z"
   },
   {
    "duration": 29,
    "start_time": "2021-12-23T06:22:28.354Z"
   },
   {
    "duration": 4,
    "start_time": "2021-12-23T06:22:30.106Z"
   },
   {
    "duration": 11,
    "start_time": "2021-12-23T06:22:32.614Z"
   },
   {
    "duration": 24,
    "start_time": "2021-12-23T06:23:24.686Z"
   },
   {
    "duration": 4,
    "start_time": "2021-12-23T06:31:40.343Z"
   },
   {
    "duration": 23,
    "start_time": "2021-12-23T06:34:03.956Z"
   },
   {
    "duration": 19,
    "start_time": "2021-12-23T06:41:54.547Z"
   },
   {
    "duration": 96,
    "start_time": "2021-12-23T06:44:59.528Z"
   },
   {
    "duration": 10,
    "start_time": "2021-12-23T06:55:04.837Z"
   },
   {
    "duration": 35,
    "start_time": "2021-12-23T06:56:16.196Z"
   },
   {
    "duration": 29,
    "start_time": "2021-12-23T06:59:47.457Z"
   },
   {
    "duration": 68,
    "start_time": "2021-12-23T07:00:21.298Z"
   },
   {
    "duration": 11,
    "start_time": "2021-12-23T07:00:57.597Z"
   },
   {
    "duration": 13,
    "start_time": "2021-12-23T07:03:40.199Z"
   },
   {
    "duration": 10,
    "start_time": "2021-12-23T07:04:58.179Z"
   },
   {
    "duration": 4,
    "start_time": "2021-12-23T07:07:03.527Z"
   },
   {
    "duration": 4,
    "start_time": "2021-12-23T07:07:04.078Z"
   },
   {
    "duration": 3,
    "start_time": "2021-12-23T07:07:11.615Z"
   },
   {
    "duration": 26,
    "start_time": "2021-12-23T07:07:12.738Z"
   },
   {
    "duration": 14,
    "start_time": "2021-12-23T07:07:30.331Z"
   },
   {
    "duration": 94,
    "start_time": "2021-12-23T07:07:56.027Z"
   },
   {
    "duration": 28,
    "start_time": "2021-12-23T07:08:02.818Z"
   },
   {
    "duration": 66,
    "start_time": "2021-12-23T07:08:03.566Z"
   },
   {
    "duration": 11,
    "start_time": "2021-12-23T07:08:10.538Z"
   },
   {
    "duration": 12,
    "start_time": "2021-12-23T07:09:52.267Z"
   },
   {
    "duration": 193,
    "start_time": "2021-12-23T07:17:41.267Z"
   },
   {
    "duration": 12,
    "start_time": "2021-12-23T07:19:01.260Z"
   },
   {
    "duration": 156,
    "start_time": "2021-12-23T07:19:02.119Z"
   },
   {
    "duration": 134,
    "start_time": "2021-12-23T07:20:11.507Z"
   },
   {
    "duration": 7,
    "start_time": "2021-12-23T07:20:47.440Z"
   },
   {
    "duration": 4,
    "start_time": "2021-12-23T07:21:23.279Z"
   },
   {
    "duration": 7,
    "start_time": "2021-12-23T07:23:36.047Z"
   },
   {
    "duration": 12,
    "start_time": "2021-12-23T07:23:39.339Z"
   },
   {
    "duration": 8,
    "start_time": "2021-12-23T07:26:28.179Z"
   },
   {
    "duration": 8,
    "start_time": "2021-12-23T07:27:10.307Z"
   },
   {
    "duration": 13,
    "start_time": "2021-12-23T07:27:33.399Z"
   },
   {
    "duration": 12,
    "start_time": "2021-12-23T07:28:20.879Z"
   },
   {
    "duration": 7,
    "start_time": "2021-12-23T07:30:44.120Z"
   },
   {
    "duration": 6,
    "start_time": "2021-12-23T07:31:20.600Z"
   },
   {
    "duration": 95,
    "start_time": "2021-12-23T07:32:28.948Z"
   },
   {
    "duration": 8,
    "start_time": "2021-12-23T07:32:59.081Z"
   },
   {
    "duration": 8,
    "start_time": "2021-12-23T07:33:13.881Z"
   },
   {
    "duration": 13,
    "start_time": "2021-12-23T07:33:39.041Z"
   },
   {
    "duration": 12,
    "start_time": "2021-12-23T07:34:22.041Z"
   },
   {
    "duration": 8,
    "start_time": "2021-12-23T07:35:01.241Z"
   },
   {
    "duration": 13,
    "start_time": "2021-12-23T07:35:14.100Z"
   },
   {
    "duration": 185,
    "start_time": "2021-12-23T07:36:02.022Z"
   },
   {
    "duration": 8,
    "start_time": "2021-12-23T07:36:21.981Z"
   },
   {
    "duration": 13,
    "start_time": "2021-12-23T07:36:23.902Z"
   },
   {
    "duration": 6,
    "start_time": "2021-12-23T07:38:54.821Z"
   },
   {
    "duration": 5,
    "start_time": "2021-12-23T07:38:55.401Z"
   },
   {
    "duration": 10,
    "start_time": "2021-12-23T07:38:57.841Z"
   },
   {
    "duration": 14,
    "start_time": "2021-12-23T07:54:01.460Z"
   },
   {
    "duration": 20,
    "start_time": "2021-12-23T07:54:53.160Z"
   },
   {
    "duration": 19,
    "start_time": "2021-12-23T07:55:10.419Z"
   },
   {
    "duration": 21,
    "start_time": "2021-12-23T07:55:14.300Z"
   },
   {
    "duration": 6162,
    "start_time": "2021-12-23T08:03:28.840Z"
   },
   {
    "duration": 4,
    "start_time": "2021-12-23T08:03:58.880Z"
   },
   {
    "duration": 3,
    "start_time": "2021-12-23T08:04:03.601Z"
   },
   {
    "duration": 5,
    "start_time": "2021-12-23T08:04:14.100Z"
   },
   {
    "duration": 4,
    "start_time": "2021-12-23T08:05:28.141Z"
   },
   {
    "duration": 3270,
    "start_time": "2021-12-23T08:06:16.240Z"
   },
   {
    "duration": 8,
    "start_time": "2021-12-23T08:06:28.587Z"
   },
   {
    "duration": 15,
    "start_time": "2021-12-23T11:14:28.359Z"
   },
   {
    "duration": 7,
    "start_time": "2021-12-23T11:14:33.040Z"
   },
   {
    "duration": 24,
    "start_time": "2021-12-23T11:14:46.204Z"
   },
   {
    "duration": 15,
    "start_time": "2021-12-23T11:34:50.597Z"
   },
   {
    "duration": 20,
    "start_time": "2021-12-23T11:35:08.144Z"
   },
   {
    "duration": 48,
    "start_time": "2021-12-23T14:27:03.157Z"
   },
   {
    "duration": 739,
    "start_time": "2021-12-23T17:44:18.227Z"
   },
   {
    "duration": 64,
    "start_time": "2021-12-23T17:44:20.096Z"
   },
   {
    "duration": 29,
    "start_time": "2021-12-23T17:44:21.219Z"
   },
   {
    "duration": 15,
    "start_time": "2021-12-23T17:44:21.625Z"
   },
   {
    "duration": 20,
    "start_time": "2021-12-23T17:44:22.088Z"
   },
   {
    "duration": 48,
    "start_time": "2021-12-23T17:44:22.542Z"
   },
   {
    "duration": 13,
    "start_time": "2021-12-23T17:44:23.805Z"
   },
   {
    "duration": 22,
    "start_time": "2021-12-23T17:44:24.377Z"
   },
   {
    "duration": 12,
    "start_time": "2021-12-23T17:44:26.048Z"
   },
   {
    "duration": 20,
    "start_time": "2021-12-23T17:44:28.589Z"
   },
   {
    "duration": 22,
    "start_time": "2021-12-23T17:44:29.611Z"
   },
   {
    "duration": 72,
    "start_time": "2021-12-23T17:44:31.309Z"
   },
   {
    "duration": 5,
    "start_time": "2021-12-23T17:44:32.321Z"
   },
   {
    "duration": 49,
    "start_time": "2021-12-23T17:44:35.244Z"
   },
   {
    "duration": 5,
    "start_time": "2021-12-23T17:44:36.372Z"
   },
   {
    "duration": 15,
    "start_time": "2021-12-23T17:44:36.853Z"
   },
   {
    "duration": 10,
    "start_time": "2021-12-23T17:44:40.545Z"
   },
   {
    "duration": 6,
    "start_time": "2021-12-23T17:44:41.447Z"
   },
   {
    "duration": 6,
    "start_time": "2021-12-23T17:44:44.267Z"
   },
   {
    "duration": 37,
    "start_time": "2021-12-23T17:44:45.845Z"
   },
   {
    "duration": 167,
    "start_time": "2021-12-23T17:44:47.580Z"
   },
   {
    "duration": 410,
    "start_time": "2021-12-23T17:44:57.833Z"
   },
   {
    "duration": 10,
    "start_time": "2021-12-23T17:45:15.965Z"
   },
   {
    "duration": 17,
    "start_time": "2021-12-23T17:46:28.395Z"
   },
   {
    "duration": 20,
    "start_time": "2021-12-23T18:04:00.512Z"
   },
   {
    "duration": 108,
    "start_time": "2021-12-23T18:04:23.302Z"
   },
   {
    "duration": 19,
    "start_time": "2021-12-23T18:04:29.091Z"
   },
   {
    "duration": 19,
    "start_time": "2021-12-23T18:05:04.747Z"
   },
   {
    "duration": 106,
    "start_time": "2021-12-23T18:21:02.616Z"
   },
   {
    "duration": 100,
    "start_time": "2021-12-23T18:21:52.493Z"
   },
   {
    "duration": 129,
    "start_time": "2021-12-23T18:22:38.682Z"
   },
   {
    "duration": 13,
    "start_time": "2021-12-23T18:23:23.298Z"
   },
   {
    "duration": 341,
    "start_time": "2021-12-23T18:25:00.167Z"
   },
   {
    "duration": 164,
    "start_time": "2021-12-23T18:25:34.784Z"
   },
   {
    "duration": 338,
    "start_time": "2021-12-23T18:25:36.926Z"
   },
   {
    "duration": 11,
    "start_time": "2021-12-23T18:26:33.928Z"
   },
   {
    "duration": 292,
    "start_time": "2021-12-23T18:28:36.348Z"
   },
   {
    "duration": 11,
    "start_time": "2021-12-23T18:29:09.367Z"
   },
   {
    "duration": 12,
    "start_time": "2021-12-23T18:30:46.083Z"
   },
   {
    "duration": 20,
    "start_time": "2021-12-23T18:30:48.592Z"
   },
   {
    "duration": 15,
    "start_time": "2021-12-23T18:31:22.910Z"
   },
   {
    "duration": 14,
    "start_time": "2021-12-23T18:31:44.441Z"
   },
   {
    "duration": 8,
    "start_time": "2021-12-23T18:31:53.371Z"
   },
   {
    "duration": 6,
    "start_time": "2021-12-23T18:31:53.887Z"
   },
   {
    "duration": 13,
    "start_time": "2021-12-23T18:31:55.116Z"
   },
   {
    "duration": 28,
    "start_time": "2021-12-23T18:35:10.866Z"
   },
   {
    "duration": 28,
    "start_time": "2021-12-23T18:35:11.948Z"
   },
   {
    "duration": 22,
    "start_time": "2021-12-23T18:35:12.945Z"
   },
   {
    "duration": 21,
    "start_time": "2021-12-23T18:35:13.785Z"
   },
   {
    "duration": 7,
    "start_time": "2021-12-23T18:35:15.957Z"
   },
   {
    "duration": 5,
    "start_time": "2021-12-23T18:35:16.596Z"
   },
   {
    "duration": 13,
    "start_time": "2021-12-23T18:35:17.047Z"
   },
   {
    "duration": 8,
    "start_time": "2021-12-23T18:35:17.568Z"
   },
   {
    "duration": 9,
    "start_time": "2021-12-23T18:35:18.304Z"
   },
   {
    "duration": 4,
    "start_time": "2021-12-23T18:35:19.094Z"
   },
   {
    "duration": 10,
    "start_time": "2021-12-23T18:35:19.564Z"
   },
   {
    "duration": 8,
    "start_time": "2021-12-23T18:35:20.023Z"
   },
   {
    "duration": 10,
    "start_time": "2021-12-23T18:35:21.062Z"
   },
   {
    "duration": 6,
    "start_time": "2021-12-23T18:35:25.992Z"
   },
   {
    "duration": 12,
    "start_time": "2021-12-23T18:35:26.993Z"
   },
   {
    "duration": 9,
    "start_time": "2021-12-23T18:35:32.203Z"
   },
   {
    "duration": 14,
    "start_time": "2021-12-23T18:35:32.843Z"
   },
   {
    "duration": 9,
    "start_time": "2021-12-23T18:35:33.414Z"
   },
   {
    "duration": 22,
    "start_time": "2021-12-23T18:35:34.352Z"
   },
   {
    "duration": 8,
    "start_time": "2021-12-23T18:35:34.781Z"
   },
   {
    "duration": 23,
    "start_time": "2021-12-23T18:35:35.702Z"
   },
   {
    "duration": 9,
    "start_time": "2021-12-23T18:35:36.040Z"
   },
   {
    "duration": 28,
    "start_time": "2021-12-23T18:35:36.772Z"
   },
   {
    "duration": 5383,
    "start_time": "2021-12-23T18:35:42.008Z"
   },
   {
    "duration": 11,
    "start_time": "2021-12-23T18:35:58.346Z"
   },
   {
    "duration": 12,
    "start_time": "2021-12-23T18:35:58.893Z"
   },
   {
    "duration": 8,
    "start_time": "2021-12-23T18:35:59.105Z"
   },
   {
    "duration": 30,
    "start_time": "2021-12-23T18:35:59.735Z"
   },
   {
    "duration": 9,
    "start_time": "2021-12-23T18:36:01.373Z"
   },
   {
    "duration": 7,
    "start_time": "2021-12-23T18:36:02.803Z"
   },
   {
    "duration": 13,
    "start_time": "2021-12-23T18:39:10.943Z"
   },
   {
    "duration": 21,
    "start_time": "2021-12-23T18:39:11.426Z"
   },
   {
    "duration": 8,
    "start_time": "2021-12-23T18:39:12.401Z"
   },
   {
    "duration": 45,
    "start_time": "2021-12-23T18:40:03.802Z"
   },
   {
    "duration": 31,
    "start_time": "2021-12-23T18:45:30.016Z"
   },
   {
    "duration": 29,
    "start_time": "2021-12-23T18:47:16.668Z"
   },
   {
    "duration": 30,
    "start_time": "2021-12-23T18:51:59.416Z"
   },
   {
    "duration": 22,
    "start_time": "2021-12-23T19:09:01.470Z"
   },
   {
    "duration": 22,
    "start_time": "2021-12-23T19:09:35.040Z"
   },
   {
    "duration": 37,
    "start_time": "2021-12-23T19:09:40.831Z"
   },
   {
    "duration": 9,
    "start_time": "2021-12-23T19:10:52.111Z"
   },
   {
    "duration": 21,
    "start_time": "2021-12-23T19:10:53.058Z"
   },
   {
    "duration": 9,
    "start_time": "2021-12-23T19:10:54.160Z"
   },
   {
    "duration": 5,
    "start_time": "2021-12-23T19:10:56.035Z"
   },
   {
    "duration": 18,
    "start_time": "2021-12-23T19:11:22.618Z"
   },
   {
    "duration": 21,
    "start_time": "2021-12-23T19:12:14.970Z"
   },
   {
    "duration": 4,
    "start_time": "2021-12-23T19:12:42.901Z"
   },
   {
    "duration": 25,
    "start_time": "2021-12-23T19:12:43.706Z"
   },
   {
    "duration": 18,
    "start_time": "2021-12-23T19:12:44.675Z"
   },
   {
    "duration": 163,
    "start_time": "2021-12-23T19:12:45.255Z"
   },
   {
    "duration": 10,
    "start_time": "2021-12-23T19:12:45.980Z"
   },
   {
    "duration": 21,
    "start_time": "2021-12-23T19:12:46.348Z"
   },
   {
    "duration": 10,
    "start_time": "2021-12-23T19:12:46.700Z"
   },
   {
    "duration": 21,
    "start_time": "2021-12-23T19:12:46.871Z"
   },
   {
    "duration": 12,
    "start_time": "2021-12-23T19:12:47.226Z"
   },
   {
    "duration": 7,
    "start_time": "2021-12-23T19:12:47.455Z"
   },
   {
    "duration": 13,
    "start_time": "2021-12-23T19:12:47.866Z"
   },
   {
    "duration": 19,
    "start_time": "2021-12-23T19:17:24.218Z"
   },
   {
    "duration": 37,
    "start_time": "2021-12-23T19:17:25.164Z"
   },
   {
    "duration": 25,
    "start_time": "2021-12-23T19:17:25.770Z"
   },
   {
    "duration": 23,
    "start_time": "2021-12-23T19:17:26.536Z"
   },
   {
    "duration": 7,
    "start_time": "2021-12-23T19:18:01.504Z"
   },
   {
    "duration": 5,
    "start_time": "2021-12-23T19:18:02.766Z"
   },
   {
    "duration": 12,
    "start_time": "2021-12-23T19:18:03.175Z"
   },
   {
    "duration": 6,
    "start_time": "2021-12-23T19:18:03.945Z"
   },
   {
    "duration": 10,
    "start_time": "2021-12-23T19:18:05.516Z"
   },
   {
    "duration": 5,
    "start_time": "2021-12-23T19:18:07.185Z"
   },
   {
    "duration": 9,
    "start_time": "2021-12-23T19:18:08.134Z"
   },
   {
    "duration": 10,
    "start_time": "2021-12-23T19:18:10.545Z"
   },
   {
    "duration": 10,
    "start_time": "2021-12-23T19:18:11.701Z"
   },
   {
    "duration": 6,
    "start_time": "2021-12-23T19:18:12.672Z"
   },
   {
    "duration": 9,
    "start_time": "2021-12-23T19:18:14.255Z"
   },
   {
    "duration": 7,
    "start_time": "2021-12-23T19:18:14.638Z"
   },
   {
    "duration": 10,
    "start_time": "2021-12-23T19:18:16.336Z"
   },
   {
    "duration": 8,
    "start_time": "2021-12-23T19:18:16.939Z"
   },
   {
    "duration": 24,
    "start_time": "2021-12-23T19:18:17.331Z"
   },
   {
    "duration": 9,
    "start_time": "2021-12-23T19:18:18.737Z"
   },
   {
    "duration": 22,
    "start_time": "2021-12-23T19:18:19.106Z"
   },
   {
    "duration": 9,
    "start_time": "2021-12-23T19:18:19.271Z"
   },
   {
    "duration": 25,
    "start_time": "2021-12-23T19:18:20.013Z"
   },
   {
    "duration": 97,
    "start_time": "2021-12-23T19:24:35.890Z"
   },
   {
    "duration": 100,
    "start_time": "2021-12-23T19:24:56.968Z"
   },
   {
    "duration": 5,
    "start_time": "2021-12-23T19:28:21.337Z"
   },
   {
    "duration": 24,
    "start_time": "2021-12-23T19:28:22.145Z"
   },
   {
    "duration": 21,
    "start_time": "2021-12-23T19:28:30.566Z"
   },
   {
    "duration": 166,
    "start_time": "2021-12-23T19:28:32.795Z"
   },
   {
    "duration": 10,
    "start_time": "2021-12-23T19:29:23.075Z"
   },
   {
    "duration": 20,
    "start_time": "2021-12-23T19:29:25.253Z"
   },
   {
    "duration": 6,
    "start_time": "2021-12-23T19:29:26.137Z"
   },
   {
    "duration": 7,
    "start_time": "2021-12-23T19:29:26.599Z"
   },
   {
    "duration": 21,
    "start_time": "2021-12-23T19:39:35.672Z"
   },
   {
    "duration": 59,
    "start_time": "2021-12-23T19:39:36.414Z"
   },
   {
    "duration": 19,
    "start_time": "2021-12-23T19:39:38.578Z"
   },
   {
    "duration": 15,
    "start_time": "2021-12-23T19:39:38.936Z"
   },
   {
    "duration": 5,
    "start_time": "2021-12-23T19:39:39.307Z"
   },
   {
    "duration": 47,
    "start_time": "2021-12-23T19:39:39.668Z"
   },
   {
    "duration": 12,
    "start_time": "2021-12-23T19:39:40.520Z"
   },
   {
    "duration": 23,
    "start_time": "2021-12-23T19:39:40.865Z"
   },
   {
    "duration": 15,
    "start_time": "2021-12-23T19:39:41.877Z"
   },
   {
    "duration": 24,
    "start_time": "2021-12-23T19:39:42.422Z"
   },
   {
    "duration": 24,
    "start_time": "2021-12-23T19:39:42.775Z"
   },
   {
    "duration": 64,
    "start_time": "2021-12-23T19:39:43.340Z"
   },
   {
    "duration": 5,
    "start_time": "2021-12-23T19:39:43.737Z"
   },
   {
    "duration": 45,
    "start_time": "2021-12-23T19:39:44.978Z"
   },
   {
    "duration": 5,
    "start_time": "2021-12-23T19:39:45.636Z"
   },
   {
    "duration": 14,
    "start_time": "2021-12-23T19:39:45.838Z"
   },
   {
    "duration": 5,
    "start_time": "2021-12-23T19:39:47.326Z"
   },
   {
    "duration": 5,
    "start_time": "2021-12-23T19:39:47.742Z"
   },
   {
    "duration": 4,
    "start_time": "2021-12-23T19:39:48.663Z"
   },
   {
    "duration": 24,
    "start_time": "2021-12-23T19:39:49.022Z"
   },
   {
    "duration": 18,
    "start_time": "2021-12-23T19:39:49.391Z"
   },
   {
    "duration": 166,
    "start_time": "2021-12-23T19:39:49.934Z"
   },
   {
    "duration": 11,
    "start_time": "2021-12-23T19:39:50.703Z"
   },
   {
    "duration": 25,
    "start_time": "2021-12-23T19:39:51.283Z"
   },
   {
    "duration": 10,
    "start_time": "2021-12-23T19:39:51.690Z"
   },
   {
    "duration": 23,
    "start_time": "2021-12-23T19:39:51.876Z"
   },
   {
    "duration": 8,
    "start_time": "2021-12-23T19:39:52.267Z"
   },
   {
    "duration": 7,
    "start_time": "2021-12-23T19:39:52.471Z"
   },
   {
    "duration": 14,
    "start_time": "2021-12-23T19:39:52.917Z"
   },
   {
    "duration": 20,
    "start_time": "2021-12-23T19:39:54.455Z"
   },
   {
    "duration": 32,
    "start_time": "2021-12-23T19:39:54.829Z"
   },
   {
    "duration": 23,
    "start_time": "2021-12-23T19:39:55.208Z"
   },
   {
    "duration": 20,
    "start_time": "2021-12-23T19:39:55.540Z"
   },
   {
    "duration": 8,
    "start_time": "2021-12-23T19:39:56.487Z"
   },
   {
    "duration": 6,
    "start_time": "2021-12-23T19:39:57.043Z"
   },
   {
    "duration": 12,
    "start_time": "2021-12-23T19:39:57.430Z"
   },
   {
    "duration": 8,
    "start_time": "2021-12-23T19:39:57.795Z"
   },
   {
    "duration": 9,
    "start_time": "2021-12-23T19:39:58.323Z"
   },
   {
    "duration": 5,
    "start_time": "2021-12-23T19:39:58.864Z"
   },
   {
    "duration": 21,
    "start_time": "2021-12-23T19:39:59.425Z"
   },
   {
    "duration": 9,
    "start_time": "2021-12-23T19:39:59.825Z"
   },
   {
    "duration": 11,
    "start_time": "2021-12-23T19:40:00.404Z"
   },
   {
    "duration": 7,
    "start_time": "2021-12-23T19:40:00.991Z"
   },
   {
    "duration": 9,
    "start_time": "2021-12-23T19:40:01.411Z"
   },
   {
    "duration": 8,
    "start_time": "2021-12-23T19:40:01.815Z"
   },
   {
    "duration": 9,
    "start_time": "2021-12-23T19:40:02.211Z"
   },
   {
    "duration": 11,
    "start_time": "2021-12-23T19:40:02.600Z"
   },
   {
    "duration": 20,
    "start_time": "2021-12-23T19:40:02.980Z"
   },
   {
    "duration": 8,
    "start_time": "2021-12-23T19:40:03.174Z"
   },
   {
    "duration": 22,
    "start_time": "2021-12-23T19:40:03.564Z"
   },
   {
    "duration": 8,
    "start_time": "2021-12-23T19:40:03.764Z"
   },
   {
    "duration": 25,
    "start_time": "2021-12-23T19:40:04.148Z"
   },
   {
    "duration": 4579,
    "start_time": "2021-12-23T19:40:05.762Z"
   },
   {
    "duration": 9,
    "start_time": "2021-12-23T19:40:10.343Z"
   },
   {
    "duration": 13,
    "start_time": "2021-12-23T19:40:10.355Z"
   },
   {
    "duration": 13,
    "start_time": "2021-12-23T19:40:10.370Z"
   },
   {
    "duration": 34,
    "start_time": "2021-12-23T19:40:10.385Z"
   },
   {
    "duration": 35,
    "start_time": "2021-12-23T19:40:10.565Z"
   },
   {
    "duration": 9,
    "start_time": "2021-12-23T19:40:10.979Z"
   },
   {
    "duration": 13,
    "start_time": "2021-12-23T19:40:11.761Z"
   },
   {
    "duration": 32,
    "start_time": "2021-12-23T19:40:11.969Z"
   },
   {
    "duration": 8,
    "start_time": "2021-12-23T19:40:12.362Z"
   },
   {
    "duration": 36,
    "start_time": "2021-12-23T19:40:13.859Z"
   },
   {
    "duration": 29,
    "start_time": "2021-12-23T19:40:14.753Z"
   },
   {
    "duration": 30,
    "start_time": "2021-12-23T19:40:15.864Z"
   },
   {
    "duration": 28,
    "start_time": "2021-12-23T19:40:16.805Z"
   }
  ],
  "kernelspec": {
   "display_name": "Python 3 (ipykernel)",
   "language": "python",
   "name": "python3"
  },
  "language_info": {
   "codemirror_mode": {
    "name": "ipython",
    "version": 3
   },
   "file_extension": ".py",
   "mimetype": "text/x-python",
   "name": "python",
   "nbconvert_exporter": "python",
   "pygments_lexer": "ipython3",
   "version": "3.9.5"
  },
  "toc": {
   "base_numbering": 1,
   "nav_menu": {},
   "number_sections": true,
   "sideBar": true,
   "skip_h1_title": true,
   "title_cell": "Table of Contents",
   "title_sidebar": "Contents",
   "toc_cell": false,
   "toc_position": {
    "height": "calc(100% - 180px)",
    "left": "10px",
    "top": "150px",
    "width": "409.062px"
   },
   "toc_section_display": true,
   "toc_window_display": true
  }
 },
 "nbformat": 4,
 "nbformat_minor": 2
}
