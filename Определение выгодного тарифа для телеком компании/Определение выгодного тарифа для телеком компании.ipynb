{
 "cells": [
  {
   "cell_type": "markdown",
   "metadata": {
    "toc": true
   },
   "source": [
    "<h1>Содержание<span class=\"tocSkip\"></span></h1>\n",
    "<div class=\"toc\"><ul class=\"toc-item\"><li><span><a href=\"#Обзор-и-предобработка-данных\" data-toc-modified-id=\"Обзор-и-предобработка-данных-1\"><span class=\"toc-item-num\">1&nbsp;&nbsp;</span>Обзор и предобработка данных</a></span><ul class=\"toc-item\"><li><span><a href=\"#Импорт-библиотек,-чтение-файлов\" data-toc-modified-id=\"Импорт-библиотек,-чтение-файлов-1.1\"><span class=\"toc-item-num\">1.1&nbsp;&nbsp;</span>Импорт библиотек, чтение файлов</a></span></li><li><span><a href=\"#Обзор-данных\" data-toc-modified-id=\"Обзор-данных-1.2\"><span class=\"toc-item-num\">1.2&nbsp;&nbsp;</span>Обзор данных</a></span></li><li><span><a href=\"#Предообработка-данных\" data-toc-modified-id=\"Предообработка-данных-1.3\"><span class=\"toc-item-num\">1.3&nbsp;&nbsp;</span>Предообработка данных</a></span></li><li><span><a href=\"#Вывод-к-разделу\" data-toc-modified-id=\"Вывод-к-разделу-1.4\"><span class=\"toc-item-num\">1.4&nbsp;&nbsp;</span>Вывод к разделу</a></span></li></ul></li><li><span><a href=\"#Добавление-и-расчет-необходимых-показателей-для-дальнейшего-исследования\" data-toc-modified-id=\"Добавление-и-расчет-необходимых-показателей-для-дальнейшего-исследования-2\"><span class=\"toc-item-num\">2&nbsp;&nbsp;</span>Добавление и расчет необходимых показателей для дальнейшего исследования</a></span><ul class=\"toc-item\"><li><span><a href=\"#Вывод-к-разделу\" data-toc-modified-id=\"Вывод-к-разделу-2.1\"><span class=\"toc-item-num\">2.1&nbsp;&nbsp;</span>Вывод к разделу</a></span></li></ul></li><li><span><a href=\"#Анализ-данных\" data-toc-modified-id=\"Анализ-данных-3\"><span class=\"toc-item-num\">3&nbsp;&nbsp;</span>Анализ данных</a></span><ul class=\"toc-item\"><li><span><a href=\"#Вывод-к-разделу\" data-toc-modified-id=\"Вывод-к-разделу-3.1\"><span class=\"toc-item-num\">3.1&nbsp;&nbsp;</span>Вывод к разделу</a></span></li></ul></li><li><span><a href=\"#Проверка-гипотез\" data-toc-modified-id=\"Проверка-гипотез-4\"><span class=\"toc-item-num\">4&nbsp;&nbsp;</span>Проверка гипотез</a></span><ul class=\"toc-item\"><li><span><a href=\"#Гипотеза-№1:-средняя-выручка-пользователей-тарифов-«Ультра»-и-«Смарт»-различаются\" data-toc-modified-id=\"Гипотеза-№1:-средняя-выручка-пользователей-тарифов-«Ультра»-и-«Смарт»-различаются-4.1\"><span class=\"toc-item-num\">4.1&nbsp;&nbsp;</span>Гипотеза №1: средняя выручка пользователей тарифов «Ультра» и «Смарт» различаются</a></span></li><li><span><a href=\"#Гипотеза-№2:-средняя-выручка-пользователей-из-Москвы-отличается-от-выручки-пользователей-из-других-регионов.\" data-toc-modified-id=\"Гипотеза-№2:-средняя-выручка-пользователей-из-Москвы-отличается-от-выручки-пользователей-из-других-регионов.-4.2\"><span class=\"toc-item-num\">4.2&nbsp;&nbsp;</span>Гипотеза №2: средняя выручка пользователей из Москвы отличается от выручки пользователей из других регионов.</a></span></li></ul></li><li><span><a href=\"#Общий-вывод\" data-toc-modified-id=\"Общий-вывод-5\"><span class=\"toc-item-num\">5&nbsp;&nbsp;</span>Общий вывод</a></span></li></ul></div>"
   ]
  },
  {
   "cell_type": "markdown",
   "metadata": {},
   "source": [
    "# Определение перспективного тарифа для телеком-компании\n",
    "\n",
    "Федеральный оператор сотовой связи предлагает клиентам два тарифных плана: «Смарт» и «Ультра». Чтобы скорректировать рекламный бюджет, коммерческий департамент хочет понять, какой тариф приносит больше денег.\n"
   ]
  },
  {
   "cell_type": "markdown",
   "metadata": {},
   "source": [
    "**Цель работы**: определить, проанализировать поведение клиентов и сделать вывод — какой тариф лучше."
   ]
  },
  {
   "cell_type": "markdown",
   "metadata": {},
   "source": [
    "**Задачи работы**: \n",
    "- выполнить предобработку данных\n",
    "- посчитайте для каждого пользователя следующие метрики (количество сделанных звонков и израсходованных минут разговора по месяцам, количество отправленных сообщений по месяцам, объем израсходованного интернет-трафика по месяцам, помесячную выручку с каждого пользователя\n",
    "- описать поведение клиентов оператора (сколько минут разговора, сколько сообщений и какой объём интернет-трафика требуется пользователям каждого тарифа в месяц, посчитать среднее количество, дисперсию и стандартное отклонение, построить гистограммы, описать распределения)\n",
    "- проверить гипотезы (средняя выручка пользователей тарифов «Ультра» и «Смарт» различаются и средняя выручка пользователей из Москвы отличается от выручки пользователей из других регионов)\n",
    "- сделать общий вывод"
   ]
  },
  {
   "cell_type": "markdown",
   "metadata": {},
   "source": [
    "**Описание данных**"
   ]
  },
  {
   "cell_type": "markdown",
   "metadata": {},
   "source": [
    "**Таблица users (информация о пользователях):**\n",
    "- user_id — уникальный идентификатор пользователя\n",
    "- first_name — имя пользователя\n",
    "- last_name — фамилия пользователя\n",
    "- age — возраст пользователя (годы)\n",
    "- reg_date — дата подключения тарифа (день, месяц, год)\n",
    "- churn_date — дата прекращения пользования тарифом (если значение пропущено, то тариф ещё действовал на момент выгрузки данных)\n",
    "- city — город проживания пользователя\n",
    "- tarif — название тарифного плана"
   ]
  },
  {
   "cell_type": "markdown",
   "metadata": {},
   "source": [
    "**Таблица calls (информация о звонках):**\n",
    "- id — уникальный номер звонка\n",
    "- call_date — дата звонка\n",
    "- duration — длительность звонка в минутах\n",
    "- user_id — идентификатор пользователя, сделавшего звонок"
   ]
  },
  {
   "cell_type": "markdown",
   "metadata": {},
   "source": [
    "**Таблица messages (информация о сообщениях):**\n",
    "- id — уникальный номер сообщения\n",
    "- message_date — дата сообщения\n",
    "- user_id — идентификатор пользователя, отправившего сообщение"
   ]
  },
  {
   "cell_type": "markdown",
   "metadata": {},
   "source": [
    "**Таблица internet (информация об интернет-сессиях):**\n",
    "- id — уникальный номер сессии\n",
    "- mb_used — объём потраченного за сессию интернет-трафика (в мегабайтах)\n",
    "- session_date — дата интернет-сессии\n",
    "- user_id — идентификатор пользователя"
   ]
  },
  {
   "cell_type": "markdown",
   "metadata": {},
   "source": [
    "**Таблица tariffs (информация о тарифах):**\n",
    "- tariff_name — название тарифа\n",
    "- rub_monthly_fee — ежемесячная абонентская плата в рублях\n",
    "- minutes_included — количество минут разговора в месяц, включённых в абонентскую плату\n",
    "- messages_included — количество сообщений в месяц, включённых в абонентскую плату\n",
    "- mb_per_month_included — объём интернет-трафика, включённого в абонентскую плату (в мегабайтах)\n",
    "- rub_per_minute — стоимость минуты разговора сверх тарифного пакета (например, если в тарифе 100 минут разговора в месяц, то со 101 минуты будет взиматься плата)\n",
    "- rub_per_message — стоимость отправки сообщения сверх тарифного пакета\n",
    "- rub_per_gb — стоимость дополнительного гигабайта интернет-трафика сверх тарифного пакета (1 гигабайт = 1024 мегабайта)"
   ]
  },
  {
   "cell_type": "markdown",
   "metadata": {},
   "source": [
    "## Обзор и предобработка данных"
   ]
  },
  {
   "cell_type": "markdown",
   "metadata": {},
   "source": [
    "### Импорт библиотек, чтение файлов"
   ]
  },
  {
   "cell_type": "code",
   "execution_count": 1,
   "metadata": {},
   "outputs": [],
   "source": [
    "import pandas as pd\n",
    "import numpy as np\n",
    "import matplotlib.pyplot as plt\n",
    "import math\n",
    "from scipy import stats as st\n",
    "import seaborn as sns"
   ]
  },
  {
   "cell_type": "markdown",
   "metadata": {},
   "source": [
    "Чтение файла с данными и сохранение в переменные"
   ]
  },
  {
   "cell_type": "code",
   "execution_count": 2,
   "metadata": {},
   "outputs": [],
   "source": [
    "df_call = pd.read_csv('/datasets/calls.csv', sep = ',')\n",
    "df_internet = pd.read_csv('/datasets/internet.csv', sep = ',')\n",
    "df_message = pd.read_csv('/datasets/messages.csv', sep = ',')\n",
    "df_tarrifs = pd.read_csv('/datasets/tariffs.csv', sep = ',')\n",
    "df_users = pd.read_csv('/datasets/users.csv', sep = ',')"
   ]
  },
  {
   "cell_type": "markdown",
   "metadata": {},
   "source": [
    "### Обзор данных"
   ]
  },
  {
   "cell_type": "markdown",
   "metadata": {},
   "source": [
    "Напишем функцию, которая вовращает информацию о таблице (размер таблицы, какие типы данных в таблице, кол-во пропусков, наличие дубликатов) "
   ]
  },
  {
   "cell_type": "code",
   "execution_count": 3,
   "metadata": {},
   "outputs": [],
   "source": [
    "def data_overview(data):\n",
    "    display(data.head())\n",
    "    display(data.info())\n",
    "    display(data.describe())\n",
    "    display(data.isna().sum())\n",
    "    display(data.duplicated().sum())"
   ]
  },
  {
   "cell_type": "markdown",
   "metadata": {},
   "source": [
    "***Рассмотрим таблицу df_call (информация о звонках)***"
   ]
  },
  {
   "cell_type": "code",
   "execution_count": 4,
   "metadata": {},
   "outputs": [
    {
     "data": {
      "text/html": [
       "<div>\n",
       "<style scoped>\n",
       "    .dataframe tbody tr th:only-of-type {\n",
       "        vertical-align: middle;\n",
       "    }\n",
       "\n",
       "    .dataframe tbody tr th {\n",
       "        vertical-align: top;\n",
       "    }\n",
       "\n",
       "    .dataframe thead th {\n",
       "        text-align: right;\n",
       "    }\n",
       "</style>\n",
       "<table border=\"1\" class=\"dataframe\">\n",
       "  <thead>\n",
       "    <tr style=\"text-align: right;\">\n",
       "      <th></th>\n",
       "      <th>id</th>\n",
       "      <th>call_date</th>\n",
       "      <th>duration</th>\n",
       "      <th>user_id</th>\n",
       "    </tr>\n",
       "  </thead>\n",
       "  <tbody>\n",
       "    <tr>\n",
       "      <td>0</td>\n",
       "      <td>1000_0</td>\n",
       "      <td>2018-07-25</td>\n",
       "      <td>0.00</td>\n",
       "      <td>1000</td>\n",
       "    </tr>\n",
       "    <tr>\n",
       "      <td>1</td>\n",
       "      <td>1000_1</td>\n",
       "      <td>2018-08-17</td>\n",
       "      <td>0.00</td>\n",
       "      <td>1000</td>\n",
       "    </tr>\n",
       "    <tr>\n",
       "      <td>2</td>\n",
       "      <td>1000_2</td>\n",
       "      <td>2018-06-11</td>\n",
       "      <td>2.85</td>\n",
       "      <td>1000</td>\n",
       "    </tr>\n",
       "    <tr>\n",
       "      <td>3</td>\n",
       "      <td>1000_3</td>\n",
       "      <td>2018-09-21</td>\n",
       "      <td>13.80</td>\n",
       "      <td>1000</td>\n",
       "    </tr>\n",
       "    <tr>\n",
       "      <td>4</td>\n",
       "      <td>1000_4</td>\n",
       "      <td>2018-12-15</td>\n",
       "      <td>5.18</td>\n",
       "      <td>1000</td>\n",
       "    </tr>\n",
       "  </tbody>\n",
       "</table>\n",
       "</div>"
      ],
      "text/plain": [
       "       id   call_date  duration  user_id\n",
       "0  1000_0  2018-07-25      0.00     1000\n",
       "1  1000_1  2018-08-17      0.00     1000\n",
       "2  1000_2  2018-06-11      2.85     1000\n",
       "3  1000_3  2018-09-21     13.80     1000\n",
       "4  1000_4  2018-12-15      5.18     1000"
      ]
     },
     "metadata": {},
     "output_type": "display_data"
    },
    {
     "name": "stdout",
     "output_type": "stream",
     "text": [
      "<class 'pandas.core.frame.DataFrame'>\n",
      "RangeIndex: 202607 entries, 0 to 202606\n",
      "Data columns (total 4 columns):\n",
      "id           202607 non-null object\n",
      "call_date    202607 non-null object\n",
      "duration     202607 non-null float64\n",
      "user_id      202607 non-null int64\n",
      "dtypes: float64(1), int64(1), object(2)\n",
      "memory usage: 6.2+ MB\n"
     ]
    },
    {
     "data": {
      "text/plain": [
       "None"
      ]
     },
     "metadata": {},
     "output_type": "display_data"
    },
    {
     "data": {
      "text/html": [
       "<div>\n",
       "<style scoped>\n",
       "    .dataframe tbody tr th:only-of-type {\n",
       "        vertical-align: middle;\n",
       "    }\n",
       "\n",
       "    .dataframe tbody tr th {\n",
       "        vertical-align: top;\n",
       "    }\n",
       "\n",
       "    .dataframe thead th {\n",
       "        text-align: right;\n",
       "    }\n",
       "</style>\n",
       "<table border=\"1\" class=\"dataframe\">\n",
       "  <thead>\n",
       "    <tr style=\"text-align: right;\">\n",
       "      <th></th>\n",
       "      <th>duration</th>\n",
       "      <th>user_id</th>\n",
       "    </tr>\n",
       "  </thead>\n",
       "  <tbody>\n",
       "    <tr>\n",
       "      <td>count</td>\n",
       "      <td>202607.000000</td>\n",
       "      <td>202607.000000</td>\n",
       "    </tr>\n",
       "    <tr>\n",
       "      <td>mean</td>\n",
       "      <td>6.755887</td>\n",
       "      <td>1253.940619</td>\n",
       "    </tr>\n",
       "    <tr>\n",
       "      <td>std</td>\n",
       "      <td>5.843365</td>\n",
       "      <td>144.722751</td>\n",
       "    </tr>\n",
       "    <tr>\n",
       "      <td>min</td>\n",
       "      <td>0.000000</td>\n",
       "      <td>1000.000000</td>\n",
       "    </tr>\n",
       "    <tr>\n",
       "      <td>25%</td>\n",
       "      <td>1.300000</td>\n",
       "      <td>1126.000000</td>\n",
       "    </tr>\n",
       "    <tr>\n",
       "      <td>50%</td>\n",
       "      <td>6.000000</td>\n",
       "      <td>1260.000000</td>\n",
       "    </tr>\n",
       "    <tr>\n",
       "      <td>75%</td>\n",
       "      <td>10.700000</td>\n",
       "      <td>1379.000000</td>\n",
       "    </tr>\n",
       "    <tr>\n",
       "      <td>max</td>\n",
       "      <td>38.000000</td>\n",
       "      <td>1499.000000</td>\n",
       "    </tr>\n",
       "  </tbody>\n",
       "</table>\n",
       "</div>"
      ],
      "text/plain": [
       "            duration        user_id\n",
       "count  202607.000000  202607.000000\n",
       "mean        6.755887    1253.940619\n",
       "std         5.843365     144.722751\n",
       "min         0.000000    1000.000000\n",
       "25%         1.300000    1126.000000\n",
       "50%         6.000000    1260.000000\n",
       "75%        10.700000    1379.000000\n",
       "max        38.000000    1499.000000"
      ]
     },
     "metadata": {},
     "output_type": "display_data"
    },
    {
     "data": {
      "text/plain": [
       "id           0\n",
       "call_date    0\n",
       "duration     0\n",
       "user_id      0\n",
       "dtype: int64"
      ]
     },
     "metadata": {},
     "output_type": "display_data"
    },
    {
     "data": {
      "text/plain": [
       "0"
      ]
     },
     "metadata": {},
     "output_type": "display_data"
    }
   ],
   "source": [
    "data_overview(df_call)"
   ]
  },
  {
   "cell_type": "markdown",
   "metadata": {},
   "source": [
    "В таблице с информацией о звонках 202607 строк, 4 столбца. В таблице нет пропусков и явных дубликатов. Тип данных в столбце call_date необходимо изменить на datatime24. Столбец duration можно привести к типу int и округлить в большую сторону, так как по тарифу кол-во минут округляется в большую сторону, а не меньшую. Средняя длительность разговора 6.7 мин, а медианное значение 6 мин. Обратим внимание, что минимальная длительность равна 0 мин."
   ]
  },
  {
   "cell_type": "markdown",
   "metadata": {},
   "source": [
    "***Рассмотрим таблицу df_internet (информация об интернет-сессии)***"
   ]
  },
  {
   "cell_type": "code",
   "execution_count": 5,
   "metadata": {},
   "outputs": [
    {
     "data": {
      "text/html": [
       "<div>\n",
       "<style scoped>\n",
       "    .dataframe tbody tr th:only-of-type {\n",
       "        vertical-align: middle;\n",
       "    }\n",
       "\n",
       "    .dataframe tbody tr th {\n",
       "        vertical-align: top;\n",
       "    }\n",
       "\n",
       "    .dataframe thead th {\n",
       "        text-align: right;\n",
       "    }\n",
       "</style>\n",
       "<table border=\"1\" class=\"dataframe\">\n",
       "  <thead>\n",
       "    <tr style=\"text-align: right;\">\n",
       "      <th></th>\n",
       "      <th>Unnamed: 0</th>\n",
       "      <th>id</th>\n",
       "      <th>mb_used</th>\n",
       "      <th>session_date</th>\n",
       "      <th>user_id</th>\n",
       "    </tr>\n",
       "  </thead>\n",
       "  <tbody>\n",
       "    <tr>\n",
       "      <td>0</td>\n",
       "      <td>0</td>\n",
       "      <td>1000_0</td>\n",
       "      <td>112.95</td>\n",
       "      <td>2018-11-25</td>\n",
       "      <td>1000</td>\n",
       "    </tr>\n",
       "    <tr>\n",
       "      <td>1</td>\n",
       "      <td>1</td>\n",
       "      <td>1000_1</td>\n",
       "      <td>1052.81</td>\n",
       "      <td>2018-09-07</td>\n",
       "      <td>1000</td>\n",
       "    </tr>\n",
       "    <tr>\n",
       "      <td>2</td>\n",
       "      <td>2</td>\n",
       "      <td>1000_2</td>\n",
       "      <td>1197.26</td>\n",
       "      <td>2018-06-25</td>\n",
       "      <td>1000</td>\n",
       "    </tr>\n",
       "    <tr>\n",
       "      <td>3</td>\n",
       "      <td>3</td>\n",
       "      <td>1000_3</td>\n",
       "      <td>550.27</td>\n",
       "      <td>2018-08-22</td>\n",
       "      <td>1000</td>\n",
       "    </tr>\n",
       "    <tr>\n",
       "      <td>4</td>\n",
       "      <td>4</td>\n",
       "      <td>1000_4</td>\n",
       "      <td>302.56</td>\n",
       "      <td>2018-09-24</td>\n",
       "      <td>1000</td>\n",
       "    </tr>\n",
       "  </tbody>\n",
       "</table>\n",
       "</div>"
      ],
      "text/plain": [
       "   Unnamed: 0      id  mb_used session_date  user_id\n",
       "0           0  1000_0   112.95   2018-11-25     1000\n",
       "1           1  1000_1  1052.81   2018-09-07     1000\n",
       "2           2  1000_2  1197.26   2018-06-25     1000\n",
       "3           3  1000_3   550.27   2018-08-22     1000\n",
       "4           4  1000_4   302.56   2018-09-24     1000"
      ]
     },
     "metadata": {},
     "output_type": "display_data"
    },
    {
     "name": "stdout",
     "output_type": "stream",
     "text": [
      "<class 'pandas.core.frame.DataFrame'>\n",
      "RangeIndex: 149396 entries, 0 to 149395\n",
      "Data columns (total 5 columns):\n",
      "Unnamed: 0      149396 non-null int64\n",
      "id              149396 non-null object\n",
      "mb_used         149396 non-null float64\n",
      "session_date    149396 non-null object\n",
      "user_id         149396 non-null int64\n",
      "dtypes: float64(1), int64(2), object(2)\n",
      "memory usage: 5.7+ MB\n"
     ]
    },
    {
     "data": {
      "text/plain": [
       "None"
      ]
     },
     "metadata": {},
     "output_type": "display_data"
    },
    {
     "data": {
      "text/html": [
       "<div>\n",
       "<style scoped>\n",
       "    .dataframe tbody tr th:only-of-type {\n",
       "        vertical-align: middle;\n",
       "    }\n",
       "\n",
       "    .dataframe tbody tr th {\n",
       "        vertical-align: top;\n",
       "    }\n",
       "\n",
       "    .dataframe thead th {\n",
       "        text-align: right;\n",
       "    }\n",
       "</style>\n",
       "<table border=\"1\" class=\"dataframe\">\n",
       "  <thead>\n",
       "    <tr style=\"text-align: right;\">\n",
       "      <th></th>\n",
       "      <th>Unnamed: 0</th>\n",
       "      <th>mb_used</th>\n",
       "      <th>user_id</th>\n",
       "    </tr>\n",
       "  </thead>\n",
       "  <tbody>\n",
       "    <tr>\n",
       "      <td>count</td>\n",
       "      <td>149396.000000</td>\n",
       "      <td>149396.000000</td>\n",
       "      <td>149396.000000</td>\n",
       "    </tr>\n",
       "    <tr>\n",
       "      <td>mean</td>\n",
       "      <td>74697.500000</td>\n",
       "      <td>370.192426</td>\n",
       "      <td>1252.099842</td>\n",
       "    </tr>\n",
       "    <tr>\n",
       "      <td>std</td>\n",
       "      <td>43127.054745</td>\n",
       "      <td>278.300951</td>\n",
       "      <td>144.050823</td>\n",
       "    </tr>\n",
       "    <tr>\n",
       "      <td>min</td>\n",
       "      <td>0.000000</td>\n",
       "      <td>0.000000</td>\n",
       "      <td>1000.000000</td>\n",
       "    </tr>\n",
       "    <tr>\n",
       "      <td>25%</td>\n",
       "      <td>37348.750000</td>\n",
       "      <td>138.187500</td>\n",
       "      <td>1130.000000</td>\n",
       "    </tr>\n",
       "    <tr>\n",
       "      <td>50%</td>\n",
       "      <td>74697.500000</td>\n",
       "      <td>348.015000</td>\n",
       "      <td>1251.000000</td>\n",
       "    </tr>\n",
       "    <tr>\n",
       "      <td>75%</td>\n",
       "      <td>112046.250000</td>\n",
       "      <td>559.552500</td>\n",
       "      <td>1380.000000</td>\n",
       "    </tr>\n",
       "    <tr>\n",
       "      <td>max</td>\n",
       "      <td>149395.000000</td>\n",
       "      <td>1724.830000</td>\n",
       "      <td>1499.000000</td>\n",
       "    </tr>\n",
       "  </tbody>\n",
       "</table>\n",
       "</div>"
      ],
      "text/plain": [
       "          Unnamed: 0        mb_used        user_id\n",
       "count  149396.000000  149396.000000  149396.000000\n",
       "mean    74697.500000     370.192426    1252.099842\n",
       "std     43127.054745     278.300951     144.050823\n",
       "min         0.000000       0.000000    1000.000000\n",
       "25%     37348.750000     138.187500    1130.000000\n",
       "50%     74697.500000     348.015000    1251.000000\n",
       "75%    112046.250000     559.552500    1380.000000\n",
       "max    149395.000000    1724.830000    1499.000000"
      ]
     },
     "metadata": {},
     "output_type": "display_data"
    },
    {
     "data": {
      "text/plain": [
       "Unnamed: 0      0\n",
       "id              0\n",
       "mb_used         0\n",
       "session_date    0\n",
       "user_id         0\n",
       "dtype: int64"
      ]
     },
     "metadata": {},
     "output_type": "display_data"
    },
    {
     "data": {
      "text/plain": [
       "0"
      ]
     },
     "metadata": {},
     "output_type": "display_data"
    }
   ],
   "source": [
    "data_overview(df_internet)"
   ]
  },
  {
   "cell_type": "markdown",
   "metadata": {},
   "source": [
    "В таблице с информацией об интернет-сессиях 149396 строк, 5 столбцов. В таблице нет пропусков и явных дубликатов. Тип данных в столбце session_date необходимо изменить на datatime24. Столбец mb_used можно привести к типу int и округлить в большую сторону, так как по тарифу кол-во потраченных Мб округляется в большую сторону, а не в меньшую. Некорекктное название столбца Unnamed: 0 и по первичному визуальному анализу можно предположить, что он повторяет индексы строк. Средний объём потраченного за сессию интернет-трафика - 370 Мб, а медианное значение 348 Мб. Минимальный объем потраченного за сессию интернет-трафика составило 0 Мб, на это стоит обратит внимание."
   ]
  },
  {
   "cell_type": "markdown",
   "metadata": {},
   "source": [
    "***Рассмотрим таблицу df_message (информация о сообщениях)***"
   ]
  },
  {
   "cell_type": "code",
   "execution_count": 6,
   "metadata": {},
   "outputs": [
    {
     "data": {
      "text/html": [
       "<div>\n",
       "<style scoped>\n",
       "    .dataframe tbody tr th:only-of-type {\n",
       "        vertical-align: middle;\n",
       "    }\n",
       "\n",
       "    .dataframe tbody tr th {\n",
       "        vertical-align: top;\n",
       "    }\n",
       "\n",
       "    .dataframe thead th {\n",
       "        text-align: right;\n",
       "    }\n",
       "</style>\n",
       "<table border=\"1\" class=\"dataframe\">\n",
       "  <thead>\n",
       "    <tr style=\"text-align: right;\">\n",
       "      <th></th>\n",
       "      <th>id</th>\n",
       "      <th>message_date</th>\n",
       "      <th>user_id</th>\n",
       "    </tr>\n",
       "  </thead>\n",
       "  <tbody>\n",
       "    <tr>\n",
       "      <td>0</td>\n",
       "      <td>1000_0</td>\n",
       "      <td>2018-06-27</td>\n",
       "      <td>1000</td>\n",
       "    </tr>\n",
       "    <tr>\n",
       "      <td>1</td>\n",
       "      <td>1000_1</td>\n",
       "      <td>2018-10-08</td>\n",
       "      <td>1000</td>\n",
       "    </tr>\n",
       "    <tr>\n",
       "      <td>2</td>\n",
       "      <td>1000_2</td>\n",
       "      <td>2018-08-04</td>\n",
       "      <td>1000</td>\n",
       "    </tr>\n",
       "    <tr>\n",
       "      <td>3</td>\n",
       "      <td>1000_3</td>\n",
       "      <td>2018-06-16</td>\n",
       "      <td>1000</td>\n",
       "    </tr>\n",
       "    <tr>\n",
       "      <td>4</td>\n",
       "      <td>1000_4</td>\n",
       "      <td>2018-12-05</td>\n",
       "      <td>1000</td>\n",
       "    </tr>\n",
       "  </tbody>\n",
       "</table>\n",
       "</div>"
      ],
      "text/plain": [
       "       id message_date  user_id\n",
       "0  1000_0   2018-06-27     1000\n",
       "1  1000_1   2018-10-08     1000\n",
       "2  1000_2   2018-08-04     1000\n",
       "3  1000_3   2018-06-16     1000\n",
       "4  1000_4   2018-12-05     1000"
      ]
     },
     "metadata": {},
     "output_type": "display_data"
    },
    {
     "name": "stdout",
     "output_type": "stream",
     "text": [
      "<class 'pandas.core.frame.DataFrame'>\n",
      "RangeIndex: 123036 entries, 0 to 123035\n",
      "Data columns (total 3 columns):\n",
      "id              123036 non-null object\n",
      "message_date    123036 non-null object\n",
      "user_id         123036 non-null int64\n",
      "dtypes: int64(1), object(2)\n",
      "memory usage: 2.8+ MB\n"
     ]
    },
    {
     "data": {
      "text/plain": [
       "None"
      ]
     },
     "metadata": {},
     "output_type": "display_data"
    },
    {
     "data": {
      "text/html": [
       "<div>\n",
       "<style scoped>\n",
       "    .dataframe tbody tr th:only-of-type {\n",
       "        vertical-align: middle;\n",
       "    }\n",
       "\n",
       "    .dataframe tbody tr th {\n",
       "        vertical-align: top;\n",
       "    }\n",
       "\n",
       "    .dataframe thead th {\n",
       "        text-align: right;\n",
       "    }\n",
       "</style>\n",
       "<table border=\"1\" class=\"dataframe\">\n",
       "  <thead>\n",
       "    <tr style=\"text-align: right;\">\n",
       "      <th></th>\n",
       "      <th>user_id</th>\n",
       "    </tr>\n",
       "  </thead>\n",
       "  <tbody>\n",
       "    <tr>\n",
       "      <td>count</td>\n",
       "      <td>123036.000000</td>\n",
       "    </tr>\n",
       "    <tr>\n",
       "      <td>mean</td>\n",
       "      <td>1256.989410</td>\n",
       "    </tr>\n",
       "    <tr>\n",
       "      <td>std</td>\n",
       "      <td>143.523967</td>\n",
       "    </tr>\n",
       "    <tr>\n",
       "      <td>min</td>\n",
       "      <td>1000.000000</td>\n",
       "    </tr>\n",
       "    <tr>\n",
       "      <td>25%</td>\n",
       "      <td>1134.000000</td>\n",
       "    </tr>\n",
       "    <tr>\n",
       "      <td>50%</td>\n",
       "      <td>1271.000000</td>\n",
       "    </tr>\n",
       "    <tr>\n",
       "      <td>75%</td>\n",
       "      <td>1381.000000</td>\n",
       "    </tr>\n",
       "    <tr>\n",
       "      <td>max</td>\n",
       "      <td>1499.000000</td>\n",
       "    </tr>\n",
       "  </tbody>\n",
       "</table>\n",
       "</div>"
      ],
      "text/plain": [
       "             user_id\n",
       "count  123036.000000\n",
       "mean     1256.989410\n",
       "std       143.523967\n",
       "min      1000.000000\n",
       "25%      1134.000000\n",
       "50%      1271.000000\n",
       "75%      1381.000000\n",
       "max      1499.000000"
      ]
     },
     "metadata": {},
     "output_type": "display_data"
    },
    {
     "data": {
      "text/plain": [
       "id              0\n",
       "message_date    0\n",
       "user_id         0\n",
       "dtype: int64"
      ]
     },
     "metadata": {},
     "output_type": "display_data"
    },
    {
     "data": {
      "text/plain": [
       "0"
      ]
     },
     "metadata": {},
     "output_type": "display_data"
    }
   ],
   "source": [
    "data_overview(df_message)"
   ]
  },
  {
   "cell_type": "markdown",
   "metadata": {},
   "source": [
    "В таблице с информацией о сообщениях 123036 строк, 3 столбца. В таблице нет пропусков и явных дубликатов. Тип данных в столбце message_date\tнеобходимо изменить на datatime24."
   ]
  },
  {
   "cell_type": "markdown",
   "metadata": {},
   "source": [
    "***Рассмотрим таблицу df_tarrifs (информация о тарифах)***"
   ]
  },
  {
   "cell_type": "code",
   "execution_count": 7,
   "metadata": {},
   "outputs": [
    {
     "data": {
      "text/html": [
       "<div>\n",
       "<style scoped>\n",
       "    .dataframe tbody tr th:only-of-type {\n",
       "        vertical-align: middle;\n",
       "    }\n",
       "\n",
       "    .dataframe tbody tr th {\n",
       "        vertical-align: top;\n",
       "    }\n",
       "\n",
       "    .dataframe thead th {\n",
       "        text-align: right;\n",
       "    }\n",
       "</style>\n",
       "<table border=\"1\" class=\"dataframe\">\n",
       "  <thead>\n",
       "    <tr style=\"text-align: right;\">\n",
       "      <th></th>\n",
       "      <th>messages_included</th>\n",
       "      <th>mb_per_month_included</th>\n",
       "      <th>minutes_included</th>\n",
       "      <th>rub_monthly_fee</th>\n",
       "      <th>rub_per_gb</th>\n",
       "      <th>rub_per_message</th>\n",
       "      <th>rub_per_minute</th>\n",
       "      <th>tariff_name</th>\n",
       "    </tr>\n",
       "  </thead>\n",
       "  <tbody>\n",
       "    <tr>\n",
       "      <td>0</td>\n",
       "      <td>50</td>\n",
       "      <td>15360</td>\n",
       "      <td>500</td>\n",
       "      <td>550</td>\n",
       "      <td>200</td>\n",
       "      <td>3</td>\n",
       "      <td>3</td>\n",
       "      <td>smart</td>\n",
       "    </tr>\n",
       "    <tr>\n",
       "      <td>1</td>\n",
       "      <td>1000</td>\n",
       "      <td>30720</td>\n",
       "      <td>3000</td>\n",
       "      <td>1950</td>\n",
       "      <td>150</td>\n",
       "      <td>1</td>\n",
       "      <td>1</td>\n",
       "      <td>ultra</td>\n",
       "    </tr>\n",
       "  </tbody>\n",
       "</table>\n",
       "</div>"
      ],
      "text/plain": [
       "   messages_included  mb_per_month_included  minutes_included  \\\n",
       "0                 50                  15360               500   \n",
       "1               1000                  30720              3000   \n",
       "\n",
       "   rub_monthly_fee  rub_per_gb  rub_per_message  rub_per_minute tariff_name  \n",
       "0              550         200                3               3       smart  \n",
       "1             1950         150                1               1       ultra  "
      ]
     },
     "metadata": {},
     "output_type": "display_data"
    },
    {
     "name": "stdout",
     "output_type": "stream",
     "text": [
      "<class 'pandas.core.frame.DataFrame'>\n",
      "RangeIndex: 2 entries, 0 to 1\n",
      "Data columns (total 8 columns):\n",
      "messages_included        2 non-null int64\n",
      "mb_per_month_included    2 non-null int64\n",
      "minutes_included         2 non-null int64\n",
      "rub_monthly_fee          2 non-null int64\n",
      "rub_per_gb               2 non-null int64\n",
      "rub_per_message          2 non-null int64\n",
      "rub_per_minute           2 non-null int64\n",
      "tariff_name              2 non-null object\n",
      "dtypes: int64(7), object(1)\n",
      "memory usage: 256.0+ bytes\n"
     ]
    },
    {
     "data": {
      "text/plain": [
       "None"
      ]
     },
     "metadata": {},
     "output_type": "display_data"
    },
    {
     "data": {
      "text/html": [
       "<div>\n",
       "<style scoped>\n",
       "    .dataframe tbody tr th:only-of-type {\n",
       "        vertical-align: middle;\n",
       "    }\n",
       "\n",
       "    .dataframe tbody tr th {\n",
       "        vertical-align: top;\n",
       "    }\n",
       "\n",
       "    .dataframe thead th {\n",
       "        text-align: right;\n",
       "    }\n",
       "</style>\n",
       "<table border=\"1\" class=\"dataframe\">\n",
       "  <thead>\n",
       "    <tr style=\"text-align: right;\">\n",
       "      <th></th>\n",
       "      <th>messages_included</th>\n",
       "      <th>mb_per_month_included</th>\n",
       "      <th>minutes_included</th>\n",
       "      <th>rub_monthly_fee</th>\n",
       "      <th>rub_per_gb</th>\n",
       "      <th>rub_per_message</th>\n",
       "      <th>rub_per_minute</th>\n",
       "    </tr>\n",
       "  </thead>\n",
       "  <tbody>\n",
       "    <tr>\n",
       "      <td>count</td>\n",
       "      <td>2.000000</td>\n",
       "      <td>2.000000</td>\n",
       "      <td>2.000000</td>\n",
       "      <td>2.000000</td>\n",
       "      <td>2.000000</td>\n",
       "      <td>2.000000</td>\n",
       "      <td>2.000000</td>\n",
       "    </tr>\n",
       "    <tr>\n",
       "      <td>mean</td>\n",
       "      <td>525.000000</td>\n",
       "      <td>23040.000000</td>\n",
       "      <td>1750.000000</td>\n",
       "      <td>1250.000000</td>\n",
       "      <td>175.000000</td>\n",
       "      <td>2.000000</td>\n",
       "      <td>2.000000</td>\n",
       "    </tr>\n",
       "    <tr>\n",
       "      <td>std</td>\n",
       "      <td>671.751442</td>\n",
       "      <td>10861.160159</td>\n",
       "      <td>1767.766953</td>\n",
       "      <td>989.949494</td>\n",
       "      <td>35.355339</td>\n",
       "      <td>1.414214</td>\n",
       "      <td>1.414214</td>\n",
       "    </tr>\n",
       "    <tr>\n",
       "      <td>min</td>\n",
       "      <td>50.000000</td>\n",
       "      <td>15360.000000</td>\n",
       "      <td>500.000000</td>\n",
       "      <td>550.000000</td>\n",
       "      <td>150.000000</td>\n",
       "      <td>1.000000</td>\n",
       "      <td>1.000000</td>\n",
       "    </tr>\n",
       "    <tr>\n",
       "      <td>25%</td>\n",
       "      <td>287.500000</td>\n",
       "      <td>19200.000000</td>\n",
       "      <td>1125.000000</td>\n",
       "      <td>900.000000</td>\n",
       "      <td>162.500000</td>\n",
       "      <td>1.500000</td>\n",
       "      <td>1.500000</td>\n",
       "    </tr>\n",
       "    <tr>\n",
       "      <td>50%</td>\n",
       "      <td>525.000000</td>\n",
       "      <td>23040.000000</td>\n",
       "      <td>1750.000000</td>\n",
       "      <td>1250.000000</td>\n",
       "      <td>175.000000</td>\n",
       "      <td>2.000000</td>\n",
       "      <td>2.000000</td>\n",
       "    </tr>\n",
       "    <tr>\n",
       "      <td>75%</td>\n",
       "      <td>762.500000</td>\n",
       "      <td>26880.000000</td>\n",
       "      <td>2375.000000</td>\n",
       "      <td>1600.000000</td>\n",
       "      <td>187.500000</td>\n",
       "      <td>2.500000</td>\n",
       "      <td>2.500000</td>\n",
       "    </tr>\n",
       "    <tr>\n",
       "      <td>max</td>\n",
       "      <td>1000.000000</td>\n",
       "      <td>30720.000000</td>\n",
       "      <td>3000.000000</td>\n",
       "      <td>1950.000000</td>\n",
       "      <td>200.000000</td>\n",
       "      <td>3.000000</td>\n",
       "      <td>3.000000</td>\n",
       "    </tr>\n",
       "  </tbody>\n",
       "</table>\n",
       "</div>"
      ],
      "text/plain": [
       "       messages_included  mb_per_month_included  minutes_included  \\\n",
       "count           2.000000               2.000000          2.000000   \n",
       "mean          525.000000           23040.000000       1750.000000   \n",
       "std           671.751442           10861.160159       1767.766953   \n",
       "min            50.000000           15360.000000        500.000000   \n",
       "25%           287.500000           19200.000000       1125.000000   \n",
       "50%           525.000000           23040.000000       1750.000000   \n",
       "75%           762.500000           26880.000000       2375.000000   \n",
       "max          1000.000000           30720.000000       3000.000000   \n",
       "\n",
       "       rub_monthly_fee  rub_per_gb  rub_per_message  rub_per_minute  \n",
       "count         2.000000    2.000000         2.000000        2.000000  \n",
       "mean       1250.000000  175.000000         2.000000        2.000000  \n",
       "std         989.949494   35.355339         1.414214        1.414214  \n",
       "min         550.000000  150.000000         1.000000        1.000000  \n",
       "25%         900.000000  162.500000         1.500000        1.500000  \n",
       "50%        1250.000000  175.000000         2.000000        2.000000  \n",
       "75%        1600.000000  187.500000         2.500000        2.500000  \n",
       "max        1950.000000  200.000000         3.000000        3.000000  "
      ]
     },
     "metadata": {},
     "output_type": "display_data"
    },
    {
     "data": {
      "text/plain": [
       "messages_included        0\n",
       "mb_per_month_included    0\n",
       "minutes_included         0\n",
       "rub_monthly_fee          0\n",
       "rub_per_gb               0\n",
       "rub_per_message          0\n",
       "rub_per_minute           0\n",
       "tariff_name              0\n",
       "dtype: int64"
      ]
     },
     "metadata": {},
     "output_type": "display_data"
    },
    {
     "data": {
      "text/plain": [
       "0"
      ]
     },
     "metadata": {},
     "output_type": "display_data"
    }
   ],
   "source": [
    "data_overview(df_tarrifs)"
   ]
  },
  {
   "cell_type": "markdown",
   "metadata": {},
   "source": [
    "В таблице с информацией о тарифах 2 строки, 8 столбцов. В таблице нет пропусков и явных дубликатов. В таблице все идеально, ничего менять не надо."
   ]
  },
  {
   "cell_type": "markdown",
   "metadata": {},
   "source": [
    "***Рассмотрим таблицу df_users (информация о пользователях)***"
   ]
  },
  {
   "cell_type": "code",
   "execution_count": 8,
   "metadata": {
    "scrolled": false
   },
   "outputs": [
    {
     "data": {
      "text/html": [
       "<div>\n",
       "<style scoped>\n",
       "    .dataframe tbody tr th:only-of-type {\n",
       "        vertical-align: middle;\n",
       "    }\n",
       "\n",
       "    .dataframe tbody tr th {\n",
       "        vertical-align: top;\n",
       "    }\n",
       "\n",
       "    .dataframe thead th {\n",
       "        text-align: right;\n",
       "    }\n",
       "</style>\n",
       "<table border=\"1\" class=\"dataframe\">\n",
       "  <thead>\n",
       "    <tr style=\"text-align: right;\">\n",
       "      <th></th>\n",
       "      <th>user_id</th>\n",
       "      <th>age</th>\n",
       "      <th>churn_date</th>\n",
       "      <th>city</th>\n",
       "      <th>first_name</th>\n",
       "      <th>last_name</th>\n",
       "      <th>reg_date</th>\n",
       "      <th>tariff</th>\n",
       "    </tr>\n",
       "  </thead>\n",
       "  <tbody>\n",
       "    <tr>\n",
       "      <td>0</td>\n",
       "      <td>1000</td>\n",
       "      <td>52</td>\n",
       "      <td>NaN</td>\n",
       "      <td>Краснодар</td>\n",
       "      <td>Рафаил</td>\n",
       "      <td>Верещагин</td>\n",
       "      <td>2018-05-25</td>\n",
       "      <td>ultra</td>\n",
       "    </tr>\n",
       "    <tr>\n",
       "      <td>1</td>\n",
       "      <td>1001</td>\n",
       "      <td>41</td>\n",
       "      <td>NaN</td>\n",
       "      <td>Москва</td>\n",
       "      <td>Иван</td>\n",
       "      <td>Ежов</td>\n",
       "      <td>2018-11-01</td>\n",
       "      <td>smart</td>\n",
       "    </tr>\n",
       "    <tr>\n",
       "      <td>2</td>\n",
       "      <td>1002</td>\n",
       "      <td>59</td>\n",
       "      <td>NaN</td>\n",
       "      <td>Стерлитамак</td>\n",
       "      <td>Евгений</td>\n",
       "      <td>Абрамович</td>\n",
       "      <td>2018-06-17</td>\n",
       "      <td>smart</td>\n",
       "    </tr>\n",
       "    <tr>\n",
       "      <td>3</td>\n",
       "      <td>1003</td>\n",
       "      <td>23</td>\n",
       "      <td>NaN</td>\n",
       "      <td>Москва</td>\n",
       "      <td>Белла</td>\n",
       "      <td>Белякова</td>\n",
       "      <td>2018-08-17</td>\n",
       "      <td>ultra</td>\n",
       "    </tr>\n",
       "    <tr>\n",
       "      <td>4</td>\n",
       "      <td>1004</td>\n",
       "      <td>68</td>\n",
       "      <td>NaN</td>\n",
       "      <td>Новокузнецк</td>\n",
       "      <td>Татьяна</td>\n",
       "      <td>Авдеенко</td>\n",
       "      <td>2018-05-14</td>\n",
       "      <td>ultra</td>\n",
       "    </tr>\n",
       "  </tbody>\n",
       "</table>\n",
       "</div>"
      ],
      "text/plain": [
       "   user_id  age churn_date         city first_name  last_name    reg_date  \\\n",
       "0     1000   52        NaN    Краснодар     Рафаил  Верещагин  2018-05-25   \n",
       "1     1001   41        NaN       Москва       Иван       Ежов  2018-11-01   \n",
       "2     1002   59        NaN  Стерлитамак    Евгений  Абрамович  2018-06-17   \n",
       "3     1003   23        NaN       Москва      Белла   Белякова  2018-08-17   \n",
       "4     1004   68        NaN  Новокузнецк    Татьяна   Авдеенко  2018-05-14   \n",
       "\n",
       "  tariff  \n",
       "0  ultra  \n",
       "1  smart  \n",
       "2  smart  \n",
       "3  ultra  \n",
       "4  ultra  "
      ]
     },
     "metadata": {},
     "output_type": "display_data"
    },
    {
     "name": "stdout",
     "output_type": "stream",
     "text": [
      "<class 'pandas.core.frame.DataFrame'>\n",
      "RangeIndex: 500 entries, 0 to 499\n",
      "Data columns (total 8 columns):\n",
      "user_id       500 non-null int64\n",
      "age           500 non-null int64\n",
      "churn_date    38 non-null object\n",
      "city          500 non-null object\n",
      "first_name    500 non-null object\n",
      "last_name     500 non-null object\n",
      "reg_date      500 non-null object\n",
      "tariff        500 non-null object\n",
      "dtypes: int64(2), object(6)\n",
      "memory usage: 31.4+ KB\n"
     ]
    },
    {
     "data": {
      "text/plain": [
       "None"
      ]
     },
     "metadata": {},
     "output_type": "display_data"
    },
    {
     "data": {
      "text/html": [
       "<div>\n",
       "<style scoped>\n",
       "    .dataframe tbody tr th:only-of-type {\n",
       "        vertical-align: middle;\n",
       "    }\n",
       "\n",
       "    .dataframe tbody tr th {\n",
       "        vertical-align: top;\n",
       "    }\n",
       "\n",
       "    .dataframe thead th {\n",
       "        text-align: right;\n",
       "    }\n",
       "</style>\n",
       "<table border=\"1\" class=\"dataframe\">\n",
       "  <thead>\n",
       "    <tr style=\"text-align: right;\">\n",
       "      <th></th>\n",
       "      <th>user_id</th>\n",
       "      <th>age</th>\n",
       "    </tr>\n",
       "  </thead>\n",
       "  <tbody>\n",
       "    <tr>\n",
       "      <td>count</td>\n",
       "      <td>500.000000</td>\n",
       "      <td>500.00000</td>\n",
       "    </tr>\n",
       "    <tr>\n",
       "      <td>mean</td>\n",
       "      <td>1249.500000</td>\n",
       "      <td>46.58800</td>\n",
       "    </tr>\n",
       "    <tr>\n",
       "      <td>std</td>\n",
       "      <td>144.481833</td>\n",
       "      <td>16.66763</td>\n",
       "    </tr>\n",
       "    <tr>\n",
       "      <td>min</td>\n",
       "      <td>1000.000000</td>\n",
       "      <td>18.00000</td>\n",
       "    </tr>\n",
       "    <tr>\n",
       "      <td>25%</td>\n",
       "      <td>1124.750000</td>\n",
       "      <td>32.00000</td>\n",
       "    </tr>\n",
       "    <tr>\n",
       "      <td>50%</td>\n",
       "      <td>1249.500000</td>\n",
       "      <td>46.00000</td>\n",
       "    </tr>\n",
       "    <tr>\n",
       "      <td>75%</td>\n",
       "      <td>1374.250000</td>\n",
       "      <td>62.00000</td>\n",
       "    </tr>\n",
       "    <tr>\n",
       "      <td>max</td>\n",
       "      <td>1499.000000</td>\n",
       "      <td>75.00000</td>\n",
       "    </tr>\n",
       "  </tbody>\n",
       "</table>\n",
       "</div>"
      ],
      "text/plain": [
       "           user_id        age\n",
       "count   500.000000  500.00000\n",
       "mean   1249.500000   46.58800\n",
       "std     144.481833   16.66763\n",
       "min    1000.000000   18.00000\n",
       "25%    1124.750000   32.00000\n",
       "50%    1249.500000   46.00000\n",
       "75%    1374.250000   62.00000\n",
       "max    1499.000000   75.00000"
      ]
     },
     "metadata": {},
     "output_type": "display_data"
    },
    {
     "data": {
      "text/plain": [
       "user_id         0\n",
       "age             0\n",
       "churn_date    462\n",
       "city            0\n",
       "first_name      0\n",
       "last_name       0\n",
       "reg_date        0\n",
       "tariff          0\n",
       "dtype: int64"
      ]
     },
     "metadata": {},
     "output_type": "display_data"
    },
    {
     "data": {
      "text/plain": [
       "0"
      ]
     },
     "metadata": {},
     "output_type": "display_data"
    }
   ],
   "source": [
    "data_overview(df_users)"
   ]
  },
  {
   "cell_type": "markdown",
   "metadata": {},
   "source": [
    "В таблице с информацией о пользователях 500 строк, 8 столбцов. В таблице есть пропуски в столбце churn_date - их 462. Явных дубликатов нет. Тип данных в столбце reg_date и churn_date необходимо изменить на datatime24. Средний возраст пользователя тарифами - 46,6 лет Мб, а медианное значение 46 лет. Минимальный возраст - 18, а максимальный - 75. Видим в столбцах city, first_name, last_name строки с заглавными буквами."
   ]
  },
  {
   "cell_type": "markdown",
   "metadata": {},
   "source": [
    "Посмотрим какое кол-во пользователей пользуетмя тем или иным тарифом."
   ]
  },
  {
   "cell_type": "code",
   "execution_count": 9,
   "metadata": {},
   "outputs": [
    {
     "data": {
      "text/plain": [
       "smart    351\n",
       "ultra    149\n",
       "Name: tariff, dtype: int64"
      ]
     },
     "execution_count": 9,
     "metadata": {},
     "output_type": "execute_result"
    }
   ],
   "source": [
    "df_users['tariff'].value_counts()"
   ]
  },
  {
   "cell_type": "markdown",
   "metadata": {},
   "source": [
    "Видим, что тарифом smart пользуется в два раза больше людей, что объясняется более выгодными условиями. Тарифом smart пользуются 351 человек, а тарифом ultra - 149 человек. "
   ]
  },
  {
   "cell_type": "markdown",
   "metadata": {},
   "source": [
    "### Предообработка данных"
   ]
  },
  {
   "cell_type": "markdown",
   "metadata": {},
   "source": [
    "***Предообработка таблицы df_call (информация о звонках)***"
   ]
  },
  {
   "cell_type": "markdown",
   "metadata": {},
   "source": [
    "Заменим тип данных на datetime в столбце call_date"
   ]
  },
  {
   "cell_type": "code",
   "execution_count": 10,
   "metadata": {
    "scrolled": true
   },
   "outputs": [
    {
     "name": "stdout",
     "output_type": "stream",
     "text": [
      "0   2018-07-25\n",
      "1   2018-08-17\n",
      "2   2018-06-11\n",
      "3   2018-09-21\n",
      "4   2018-12-15\n",
      "Name: call_date, dtype: datetime64[ns]\n"
     ]
    }
   ],
   "source": [
    "df_call['call_date'] = pd.to_datetime(df_call['call_date'], format='%Y-%m-%dT%H:%M:%S')\n",
    "print(df_call['call_date'].head())"
   ]
  },
  {
   "cell_type": "markdown",
   "metadata": {},
   "source": [
    "Округлим значения в столбце duration"
   ]
  },
  {
   "cell_type": "code",
   "execution_count": 11,
   "metadata": {},
   "outputs": [
    {
     "name": "stdout",
     "output_type": "stream",
     "text": [
      "0     0\n",
      "1     0\n",
      "2     3\n",
      "3    14\n",
      "4     6\n",
      "Name: duration, dtype: int64\n"
     ]
    }
   ],
   "source": [
    "df_call['duration'] = np.ceil(df_call['duration']).astype('int')\n",
    "print(df_call['duration'].head())"
   ]
  },
  {
   "cell_type": "markdown",
   "metadata": {},
   "source": [
    "***Предообработка таблицы df_internet (информация об интернет-сессии)***"
   ]
  },
  {
   "cell_type": "markdown",
   "metadata": {},
   "source": [
    "Заменим тип данных на datetime в столбце session_date"
   ]
  },
  {
   "cell_type": "code",
   "execution_count": 12,
   "metadata": {},
   "outputs": [
    {
     "name": "stdout",
     "output_type": "stream",
     "text": [
      "0   2018-11-25\n",
      "1   2018-09-07\n",
      "2   2018-06-25\n",
      "3   2018-08-22\n",
      "4   2018-09-24\n",
      "Name: session_date, dtype: datetime64[ns]\n"
     ]
    }
   ],
   "source": [
    "df_internet['session_date'] = pd.to_datetime(df_internet['session_date'], format='%Y-%m-%dT%H:%M:%S')\n",
    "print(df_internet['session_date'].head())"
   ]
  },
  {
   "cell_type": "markdown",
   "metadata": {},
   "source": [
    "Посмотрим уникальные значения столбца 'Unnamed: 0', чтобы понять удалять его или нет"
   ]
  },
  {
   "cell_type": "code",
   "execution_count": 13,
   "metadata": {},
   "outputs": [
    {
     "data": {
      "text/plain": [
       "array([     0,      1,      2, ..., 149393, 149394, 149395])"
      ]
     },
     "execution_count": 13,
     "metadata": {},
     "output_type": "execute_result"
    }
   ],
   "source": [
    "df_internet['Unnamed: 0'].sort_values().unique() "
   ]
  },
  {
   "cell_type": "code",
   "execution_count": 14,
   "metadata": {},
   "outputs": [
    {
     "data": {
      "text/plain": [
       "2047     1\n",
       "95620    1\n",
       "40249    1\n",
       "38200    1\n",
       "60727    1\n",
       "        ..\n",
       "51916    1\n",
       "62155    1\n",
       "64202    1\n",
       "58057    1\n",
       "0        1\n",
       "Name: Unnamed: 0, Length: 149396, dtype: int64"
      ]
     },
     "execution_count": 14,
     "metadata": {},
     "output_type": "execute_result"
    }
   ],
   "source": [
    "df_internet['Unnamed: 0'].value_counts()"
   ]
  },
  {
   "cell_type": "markdown",
   "metadata": {},
   "source": [
    "Данный столбец 'Unnamed: 0' повторяет индексы строк. Удалим его"
   ]
  },
  {
   "cell_type": "code",
   "execution_count": 15,
   "metadata": {},
   "outputs": [
    {
     "data": {
      "text/html": [
       "<div>\n",
       "<style scoped>\n",
       "    .dataframe tbody tr th:only-of-type {\n",
       "        vertical-align: middle;\n",
       "    }\n",
       "\n",
       "    .dataframe tbody tr th {\n",
       "        vertical-align: top;\n",
       "    }\n",
       "\n",
       "    .dataframe thead th {\n",
       "        text-align: right;\n",
       "    }\n",
       "</style>\n",
       "<table border=\"1\" class=\"dataframe\">\n",
       "  <thead>\n",
       "    <tr style=\"text-align: right;\">\n",
       "      <th></th>\n",
       "      <th>id</th>\n",
       "      <th>mb_used</th>\n",
       "      <th>session_date</th>\n",
       "      <th>user_id</th>\n",
       "    </tr>\n",
       "  </thead>\n",
       "  <tbody>\n",
       "    <tr>\n",
       "      <td>0</td>\n",
       "      <td>1000_0</td>\n",
       "      <td>112.95</td>\n",
       "      <td>2018-11-25</td>\n",
       "      <td>1000</td>\n",
       "    </tr>\n",
       "    <tr>\n",
       "      <td>1</td>\n",
       "      <td>1000_1</td>\n",
       "      <td>1052.81</td>\n",
       "      <td>2018-09-07</td>\n",
       "      <td>1000</td>\n",
       "    </tr>\n",
       "    <tr>\n",
       "      <td>2</td>\n",
       "      <td>1000_2</td>\n",
       "      <td>1197.26</td>\n",
       "      <td>2018-06-25</td>\n",
       "      <td>1000</td>\n",
       "    </tr>\n",
       "  </tbody>\n",
       "</table>\n",
       "</div>"
      ],
      "text/plain": [
       "       id  mb_used session_date  user_id\n",
       "0  1000_0   112.95   2018-11-25     1000\n",
       "1  1000_1  1052.81   2018-09-07     1000\n",
       "2  1000_2  1197.26   2018-06-25     1000"
      ]
     },
     "execution_count": 15,
     "metadata": {},
     "output_type": "execute_result"
    }
   ],
   "source": [
    "del df_internet['Unnamed: 0']\n",
    "df_internet.head(3)"
   ]
  },
  {
   "cell_type": "markdown",
   "metadata": {},
   "source": [
    "Отлично, столбец удален"
   ]
  },
  {
   "cell_type": "markdown",
   "metadata": {},
   "source": [
    "Из обзора данных помним, что у нас есть нулевые значения в столбце mb_used. Скорее всего, это пользователи не смогли зайти в интернет, может быть не было стабильной состовой связи."
   ]
  },
  {
   "cell_type": "code",
   "execution_count": 16,
   "metadata": {},
   "outputs": [
    {
     "data": {
      "text/plain": [
       "0.13118155773916304"
      ]
     },
     "execution_count": 16,
     "metadata": {},
     "output_type": "execute_result"
    }
   ],
   "source": [
    "len(df_internet.query('mb_used == 0'))/len(df_internet['mb_used'])"
   ]
  },
  {
   "cell_type": "markdown",
   "metadata": {},
   "source": [
    "Видим, что 13% строк таблицы содержат нулевые значения в стлбце mb_used. Необходимо сообщить в отдел по контролю качества предоставляемых услуг. Удалим строки, где количество используемых мегабайт - равно нулю. Так как в последствии они могут повлиять на ход исследования, например, сместиться дисперсия и среднее."
   ]
  },
  {
   "cell_type": "markdown",
   "metadata": {},
   "source": [
    "Нулевые значения в столбце с интернет-трафикаом, скорее всего связаны с тем, что пользователь либо не выходил в интернет, либо пользователь не смог зайти в интернет, так как не было сигнала, например, абонент был где-то в походе в лесу и не смог там поймать сеть."
   ]
  },
  {
   "cell_type": "code",
   "execution_count": 17,
   "metadata": {},
   "outputs": [],
   "source": [
    "df_internet.drop(df_internet[df_internet.mb_used == 0].index, inplace = True)"
   ]
  },
  {
   "cell_type": "markdown",
   "metadata": {},
   "source": [
    "Проверим"
   ]
  },
  {
   "cell_type": "code",
   "execution_count": 18,
   "metadata": {},
   "outputs": [
    {
     "data": {
      "text/html": [
       "<div>\n",
       "<style scoped>\n",
       "    .dataframe tbody tr th:only-of-type {\n",
       "        vertical-align: middle;\n",
       "    }\n",
       "\n",
       "    .dataframe tbody tr th {\n",
       "        vertical-align: top;\n",
       "    }\n",
       "\n",
       "    .dataframe thead th {\n",
       "        text-align: right;\n",
       "    }\n",
       "</style>\n",
       "<table border=\"1\" class=\"dataframe\">\n",
       "  <thead>\n",
       "    <tr style=\"text-align: right;\">\n",
       "      <th></th>\n",
       "      <th>id</th>\n",
       "      <th>mb_used</th>\n",
       "      <th>session_date</th>\n",
       "      <th>user_id</th>\n",
       "    </tr>\n",
       "  </thead>\n",
       "  <tbody>\n",
       "  </tbody>\n",
       "</table>\n",
       "</div>"
      ],
      "text/plain": [
       "Empty DataFrame\n",
       "Columns: [id, mb_used, session_date, user_id]\n",
       "Index: []"
      ]
     },
     "execution_count": 18,
     "metadata": {},
     "output_type": "execute_result"
    }
   ],
   "source": [
    "df_internet.query('mb_used == 0')"
   ]
  },
  {
   "cell_type": "markdown",
   "metadata": {},
   "source": [
    "После объединения таблиц в следующих разделах проекта мы еще переведем mb в gb."
   ]
  },
  {
   "cell_type": "markdown",
   "metadata": {},
   "source": [
    "***Предообработка таблицы df_message (информация о сообщениях)***"
   ]
  },
  {
   "cell_type": "markdown",
   "metadata": {},
   "source": [
    "Заменим тип данных на datetime в столбце message_date"
   ]
  },
  {
   "cell_type": "code",
   "execution_count": 19,
   "metadata": {},
   "outputs": [
    {
     "name": "stdout",
     "output_type": "stream",
     "text": [
      "0   2018-06-27\n",
      "1   2018-10-08\n",
      "2   2018-08-04\n",
      "3   2018-06-16\n",
      "4   2018-12-05\n",
      "Name: message_date, dtype: datetime64[ns]\n"
     ]
    }
   ],
   "source": [
    "df_message['message_date'] = pd.to_datetime(df_message['message_date'], format='%Y-%m-%dT%H:%M:%S')\n",
    "print(df_message['message_date'].head())"
   ]
  },
  {
   "cell_type": "markdown",
   "metadata": {},
   "source": [
    "***Предообработка таблицы df_users (информация о пользователях)***"
   ]
  },
  {
   "cell_type": "markdown",
   "metadata": {},
   "source": [
    "Проанализируем пропуски в столбце churn_date"
   ]
  },
  {
   "cell_type": "code",
   "execution_count": 20,
   "metadata": {},
   "outputs": [
    {
     "data": {
      "text/plain": [
       "462"
      ]
     },
     "execution_count": 20,
     "metadata": {},
     "output_type": "execute_result"
    }
   ],
   "source": [
    "df_users['churn_date'].isna().sum() "
   ]
  },
  {
   "cell_type": "code",
   "execution_count": 21,
   "metadata": {},
   "outputs": [
    {
     "data": {
      "text/plain": [
       "0.924"
      ]
     },
     "execution_count": 21,
     "metadata": {},
     "output_type": "execute_result"
    }
   ],
   "source": [
    "df_users['churn_date'].isna().sum() / len(df_users['churn_date']) "
   ]
  },
  {
   "cell_type": "markdown",
   "metadata": {},
   "source": [
    "92 процента пропусков в столбце - сильно много, удалить нельзя, но стоит вспомнить, что по условию задания сказано, что если значение пропущено в дате прекращения пользования тарифом, то тариф ещё действовал на момент выгрузки данных"
   ]
  },
  {
   "cell_type": "markdown",
   "metadata": {},
   "source": [
    "Посмотрим какие уникальные значения есть в данном столбце"
   ]
  },
  {
   "cell_type": "code",
   "execution_count": 22,
   "metadata": {},
   "outputs": [
    {
     "data": {
      "text/plain": [
       "array(['2018-08-17', '2018-08-31', '2018-09-02', '2018-09-26',\n",
       "       '2018-09-27', '2018-10-03', '2018-10-04', '2018-10-05',\n",
       "       '2018-10-14', '2018-10-25', '2018-10-27', '2018-10-28',\n",
       "       '2018-11-07', '2018-11-13', '2018-11-16', '2018-11-21',\n",
       "       '2018-11-22', '2018-11-26', '2018-11-27', '2018-11-30',\n",
       "       '2018-12-03', '2018-12-09', '2018-12-11', '2018-12-14',\n",
       "       '2018-12-16', '2018-12-18', '2018-12-20', '2018-12-21',\n",
       "       '2018-12-23', '2018-12-24', '2018-12-25', '2018-12-26',\n",
       "       '2018-12-30', nan], dtype=object)"
      ]
     },
     "execution_count": 22,
     "metadata": {},
     "output_type": "execute_result"
    }
   ],
   "source": [
    "df_users['churn_date'].sort_values().unique() "
   ]
  },
  {
   "cell_type": "markdown",
   "metadata": {},
   "source": [
    "Видим, что в строках, где нет пропусков стоит дата 2018 год (год завершения пользования тарифом)"
   ]
  },
  {
   "cell_type": "code",
   "execution_count": 23,
   "metadata": {},
   "outputs": [
    {
     "data": {
      "text/plain": [
       "array(['2018-01-01', '2018-01-02', '2018-01-04', '2018-01-05',\n",
       "       '2018-01-06', '2018-01-08', '2018-01-09', '2018-01-12',\n",
       "       '2018-01-13', '2018-01-15', '2018-01-16', '2018-01-17',\n",
       "       '2018-01-18', '2018-01-19', '2018-01-20', '2018-01-21',\n",
       "       '2018-01-23', '2018-01-24', '2018-01-25', '2018-01-26',\n",
       "       '2018-01-27', '2018-01-29', '2018-01-30', '2018-02-02',\n",
       "       '2018-02-03', '2018-02-04', '2018-02-05', '2018-02-06',\n",
       "       '2018-02-08', '2018-02-11', '2018-02-13', '2018-02-14',\n",
       "       '2018-02-17', '2018-02-19', '2018-02-20', '2018-02-21',\n",
       "       '2018-02-22', '2018-02-23', '2018-02-24', '2018-02-25',\n",
       "       '2018-02-26', '2018-02-27', '2018-02-28', '2018-03-04',\n",
       "       '2018-03-06', '2018-03-08', '2018-03-09', '2018-03-10',\n",
       "       '2018-03-12', '2018-03-13', '2018-03-14', '2018-03-15',\n",
       "       '2018-03-16', '2018-03-17', '2018-03-18', '2018-03-19',\n",
       "       '2018-03-20', '2018-03-22', '2018-03-24', '2018-03-25',\n",
       "       '2018-03-26', '2018-03-28', '2018-04-01', '2018-04-03',\n",
       "       '2018-04-04', '2018-04-06', '2018-04-08', '2018-04-09',\n",
       "       '2018-04-10', '2018-04-11', '2018-04-12', '2018-04-13',\n",
       "       '2018-04-14', '2018-04-17', '2018-04-18', '2018-04-19',\n",
       "       '2018-04-22', '2018-04-23', '2018-04-24', '2018-04-25',\n",
       "       '2018-04-26', '2018-04-27', '2018-04-28', '2018-04-29',\n",
       "       '2018-04-30', '2018-05-02', '2018-05-03', '2018-05-04',\n",
       "       '2018-05-05', '2018-05-06', '2018-05-07', '2018-05-08',\n",
       "       '2018-05-09', '2018-05-11', '2018-05-12', '2018-05-14',\n",
       "       '2018-05-15', '2018-05-16', '2018-05-19', '2018-05-20',\n",
       "       '2018-05-21', '2018-05-22', '2018-05-23', '2018-05-25',\n",
       "       '2018-05-27', '2018-05-28', '2018-05-29', '2018-05-31',\n",
       "       '2018-06-01', '2018-06-02', '2018-06-03', '2018-06-04',\n",
       "       '2018-06-05', '2018-06-08', '2018-06-09', '2018-06-12',\n",
       "       '2018-06-14', '2018-06-16', '2018-06-17', '2018-06-18',\n",
       "       '2018-06-19', '2018-06-20', '2018-06-21', '2018-06-22',\n",
       "       '2018-06-23', '2018-06-24', '2018-06-25', '2018-06-26',\n",
       "       '2018-06-29', '2018-06-30', '2018-07-01', '2018-07-02',\n",
       "       '2018-07-03', '2018-07-05', '2018-07-06', '2018-07-08',\n",
       "       '2018-07-09', '2018-07-12', '2018-07-13', '2018-07-14',\n",
       "       '2018-07-15', '2018-07-16', '2018-07-17', '2018-07-18',\n",
       "       '2018-07-19', '2018-07-20', '2018-07-21', '2018-07-25',\n",
       "       '2018-07-26', '2018-07-27', '2018-07-28', '2018-07-29',\n",
       "       '2018-07-30', '2018-08-02', '2018-08-03', '2018-08-04',\n",
       "       '2018-08-05', '2018-08-06', '2018-08-07', '2018-08-09',\n",
       "       '2018-08-12', '2018-08-13', '2018-08-14', '2018-08-15',\n",
       "       '2018-08-17', '2018-08-18', '2018-08-19', '2018-08-20',\n",
       "       '2018-08-22', '2018-08-24', '2018-08-25', '2018-08-26',\n",
       "       '2018-08-27', '2018-08-28', '2018-08-29', '2018-08-30',\n",
       "       '2018-08-31', '2018-09-01', '2018-09-02', '2018-09-03',\n",
       "       '2018-09-04', '2018-09-05', '2018-09-07', '2018-09-09',\n",
       "       '2018-09-10', '2018-09-13', '2018-09-14', '2018-09-15',\n",
       "       '2018-09-16', '2018-09-17', '2018-09-19', '2018-09-20',\n",
       "       '2018-09-23', '2018-09-24', '2018-09-26', '2018-09-27',\n",
       "       '2018-09-28', '2018-09-29', '2018-09-30', '2018-10-02',\n",
       "       '2018-10-03', '2018-10-04', '2018-10-05', '2018-10-06',\n",
       "       '2018-10-07', '2018-10-08', '2018-10-09', '2018-10-10',\n",
       "       '2018-10-11', '2018-10-12', '2018-10-13', '2018-10-14',\n",
       "       '2018-10-16', '2018-10-18', '2018-10-19', '2018-10-21',\n",
       "       '2018-10-22', '2018-10-23', '2018-10-24', '2018-10-25',\n",
       "       '2018-10-29', '2018-10-30', '2018-10-31', '2018-11-01',\n",
       "       '2018-11-02', '2018-11-03', '2018-11-04', '2018-11-05',\n",
       "       '2018-11-06', '2018-11-07', '2018-11-09', '2018-11-11',\n",
       "       '2018-11-12', '2018-11-13', '2018-11-14', '2018-11-16',\n",
       "       '2018-11-18', '2018-11-19', '2018-11-21', '2018-11-22',\n",
       "       '2018-11-23', '2018-11-24', '2018-11-25', '2018-11-27',\n",
       "       '2018-11-28', '2018-11-29', '2018-11-30', '2018-12-01',\n",
       "       '2018-12-02', '2018-12-03', '2018-12-04', '2018-12-06',\n",
       "       '2018-12-07', '2018-12-08', '2018-12-10', '2018-12-12',\n",
       "       '2018-12-13', '2018-12-14', '2018-12-15', '2018-12-17',\n",
       "       '2018-12-18', '2018-12-19', '2018-12-20', '2018-12-21',\n",
       "       '2018-12-22', '2018-12-23', '2018-12-25', '2018-12-29',\n",
       "       '2018-12-30', '2018-12-31'], dtype=object)"
      ]
     },
     "execution_count": 23,
     "metadata": {},
     "output_type": "execute_result"
    }
   ],
   "source": [
    "df_users['reg_date'].sort_values().unique() "
   ]
  },
  {
   "cell_type": "markdown",
   "metadata": {},
   "source": [
    "Видим , что начали пользоваться данным тарифом во всей выборке в 2018 году. Есть даже те, кто подключил себе тот или иной тариф в самом конце декабря. Думаю логично будет заменить пропуски в столбце churn_data на 2019 год, так как это будет означать, что пользователи встретили новый год с новым тарифом."
   ]
  },
  {
   "cell_type": "code",
   "execution_count": 24,
   "metadata": {},
   "outputs": [
    {
     "name": "stdout",
     "output_type": "stream",
     "text": [
      "0      2019-01-01\n",
      "1      2019-01-01\n",
      "2      2019-01-01\n",
      "3      2019-01-01\n",
      "4      2019-01-01\n",
      "          ...    \n",
      "495    2019-01-01\n",
      "496    2019-01-01\n",
      "497    2019-01-01\n",
      "498    2018-10-25\n",
      "499    2019-01-01\n",
      "Name: churn_date, Length: 500, dtype: object\n"
     ]
    }
   ],
   "source": [
    "df_users['churn_date'].fillna('2019-01-01', inplace=True) \n",
    "print(df_users['churn_date'])"
   ]
  },
  {
   "cell_type": "markdown",
   "metadata": {},
   "source": [
    "Посмотрим уникальные значения в столбце city"
   ]
  },
  {
   "cell_type": "markdown",
   "metadata": {},
   "source": [
    "Заменим тип данных на datetime в столбцах reg_date и churn_date"
   ]
  },
  {
   "cell_type": "code",
   "execution_count": 25,
   "metadata": {},
   "outputs": [
    {
     "name": "stdout",
     "output_type": "stream",
     "text": [
      "0   2018-05-25\n",
      "1   2018-11-01\n",
      "2   2018-06-17\n",
      "3   2018-08-17\n",
      "4   2018-05-14\n",
      "Name: reg_date, dtype: datetime64[ns]\n"
     ]
    }
   ],
   "source": [
    "df_users['reg_date'] = pd.to_datetime(df_users['reg_date'], format='%Y-%m-%dT%H:%M:%S')\n",
    "print(df_users['reg_date'].head())"
   ]
  },
  {
   "cell_type": "code",
   "execution_count": 26,
   "metadata": {},
   "outputs": [
    {
     "name": "stdout",
     "output_type": "stream",
     "text": [
      "0   2019-01-01\n",
      "1   2019-01-01\n",
      "2   2019-01-01\n",
      "3   2019-01-01\n",
      "4   2019-01-01\n",
      "Name: churn_date, dtype: datetime64[ns]\n"
     ]
    }
   ],
   "source": [
    "df_users['churn_date'] = pd.to_datetime(df_users['churn_date'], format='%Y-%m-%dT%H:%M:%S')\n",
    "print(df_users['churn_date'].head())"
   ]
  },
  {
   "cell_type": "code",
   "execution_count": 27,
   "metadata": {},
   "outputs": [
    {
     "data": {
      "text/plain": [
       "array(['Архангельск', 'Астрахань', 'Балашиха', 'Барнаул', 'Белгород',\n",
       "       'Брянск', 'Владивосток', 'Владикавказ', 'Владимир', 'Волгоград',\n",
       "       'Волжский', 'Вологда', 'Воронеж', 'Грозный', 'Екатеринбург',\n",
       "       'Иваново', 'Ижевск', 'Иркутск', 'Казань', 'Калининград', 'Калуга',\n",
       "       'Кемерово', 'Киров', 'Кострома', 'Краснодар', 'Красноярск',\n",
       "       'Курган', 'Курск', 'Липецк', 'Магнитогорск', 'Махачкала', 'Москва',\n",
       "       'Мурманск', 'Набережные Челны', 'Нижневартовск', 'Нижний Новгород',\n",
       "       'Нижний Тагил', 'Новокузнецк', 'Новороссийск', 'Новосибирск',\n",
       "       'Омск', 'Оренбург', 'Орёл', 'Пенза', 'Пермь', 'Петрозаводск',\n",
       "       'Подольск', 'Ростов-на-Дону', 'Рязань', 'Самара',\n",
       "       'Санкт-Петербург', 'Саранск', 'Саратов', 'Севастополь', 'Смоленск',\n",
       "       'Сочи', 'Ставрополь', 'Стерлитамак', 'Сургут', 'Тамбов', 'Тверь',\n",
       "       'Тольятти', 'Томск', 'Тула', 'Тюмень', 'Улан-Удэ', 'Ульяновск',\n",
       "       'Уфа', 'Хабаровск', 'Химки', 'Чебоксары', 'Челябинск', 'Череповец',\n",
       "       'Чита', 'Якутск', 'Ярославль'], dtype=object)"
      ]
     },
     "execution_count": 27,
     "metadata": {},
     "output_type": "execute_result"
    }
   ],
   "source": [
    "df_users['city'].sort_values().unique() "
   ]
  },
  {
   "cell_type": "code",
   "execution_count": 28,
   "metadata": {},
   "outputs": [
    {
     "data": {
      "text/plain": [
       "Москва             99\n",
       "Санкт-Петербург    39\n",
       "Новосибирск        16\n",
       "Омск               14\n",
       "Казань             14\n",
       "                   ..\n",
       "Иваново             1\n",
       "Нижневартовск       1\n",
       "Химки               1\n",
       "Подольск            1\n",
       "Архангельск         1\n",
       "Name: city, Length: 76, dtype: int64"
      ]
     },
     "execution_count": 28,
     "metadata": {},
     "output_type": "execute_result"
    }
   ],
   "source": [
    "df_users['city'].value_counts()"
   ]
  },
  {
   "cell_type": "markdown",
   "metadata": {},
   "source": [
    "В ходе анализа столбца видим, что нет неявных дубликатов, и все названия написаны с большой буквы, для удобства приведем столбец к нижнему регистру"
   ]
  },
  {
   "cell_type": "code",
   "execution_count": 29,
   "metadata": {},
   "outputs": [],
   "source": [
    "df_users['city'] = df_users['city'].str.lower()"
   ]
  },
  {
   "cell_type": "code",
   "execution_count": 30,
   "metadata": {},
   "outputs": [
    {
     "data": {
      "text/plain": [
       "москва             99\n",
       "санкт-петербург    39\n",
       "новосибирск        16\n",
       "омск               14\n",
       "казань             14\n",
       "                   ..\n",
       "иваново             1\n",
       "архангельск         1\n",
       "нижневартовск       1\n",
       "химки               1\n",
       "подольск            1\n",
       "Name: city, Length: 76, dtype: int64"
      ]
     },
     "execution_count": 30,
     "metadata": {},
     "output_type": "execute_result"
    }
   ],
   "source": [
    "df_users['city'].value_counts()"
   ]
  },
  {
   "cell_type": "markdown",
   "metadata": {},
   "source": [
    "Имя и фамилию не будем приводить к нижнему регистру так как для конечного результата исследования эти данные не понадобятся"
   ]
  },
  {
   "cell_type": "markdown",
   "metadata": {},
   "source": [
    "***Предообработка таблицы df_tarrifs (информация о тарифах)***"
   ]
  },
  {
   "cell_type": "code",
   "execution_count": 31,
   "metadata": {},
   "outputs": [
    {
     "data": {
      "text/html": [
       "<div>\n",
       "<style scoped>\n",
       "    .dataframe tbody tr th:only-of-type {\n",
       "        vertical-align: middle;\n",
       "    }\n",
       "\n",
       "    .dataframe tbody tr th {\n",
       "        vertical-align: top;\n",
       "    }\n",
       "\n",
       "    .dataframe thead th {\n",
       "        text-align: right;\n",
       "    }\n",
       "</style>\n",
       "<table border=\"1\" class=\"dataframe\">\n",
       "  <thead>\n",
       "    <tr style=\"text-align: right;\">\n",
       "      <th></th>\n",
       "      <th>messages_included</th>\n",
       "      <th>mb_per_month_included</th>\n",
       "      <th>minutes_included</th>\n",
       "      <th>rub_monthly_fee</th>\n",
       "      <th>rub_per_gb</th>\n",
       "      <th>rub_per_message</th>\n",
       "      <th>rub_per_minute</th>\n",
       "      <th>tariff_name</th>\n",
       "    </tr>\n",
       "  </thead>\n",
       "  <tbody>\n",
       "    <tr>\n",
       "      <td>0</td>\n",
       "      <td>50</td>\n",
       "      <td>15360</td>\n",
       "      <td>500</td>\n",
       "      <td>550</td>\n",
       "      <td>200</td>\n",
       "      <td>3</td>\n",
       "      <td>3</td>\n",
       "      <td>smart</td>\n",
       "    </tr>\n",
       "    <tr>\n",
       "      <td>1</td>\n",
       "      <td>1000</td>\n",
       "      <td>30720</td>\n",
       "      <td>3000</td>\n",
       "      <td>1950</td>\n",
       "      <td>150</td>\n",
       "      <td>1</td>\n",
       "      <td>1</td>\n",
       "      <td>ultra</td>\n",
       "    </tr>\n",
       "  </tbody>\n",
       "</table>\n",
       "</div>"
      ],
      "text/plain": [
       "   messages_included  mb_per_month_included  minutes_included  \\\n",
       "0                 50                  15360               500   \n",
       "1               1000                  30720              3000   \n",
       "\n",
       "   rub_monthly_fee  rub_per_gb  rub_per_message  rub_per_minute tariff_name  \n",
       "0              550         200                3               3       smart  \n",
       "1             1950         150                1               1       ultra  "
      ]
     },
     "execution_count": 31,
     "metadata": {},
     "output_type": "execute_result"
    }
   ],
   "source": [
    "df_tarrifs.head()"
   ]
  },
  {
   "cell_type": "markdown",
   "metadata": {},
   "source": [
    "Видим, что в столбце mb_per_month_included указаны данные в мб, переведем в Гб и приведем к типу int"
   ]
  },
  {
   "cell_type": "code",
   "execution_count": 32,
   "metadata": {},
   "outputs": [
    {
     "data": {
      "text/html": [
       "<div>\n",
       "<style scoped>\n",
       "    .dataframe tbody tr th:only-of-type {\n",
       "        vertical-align: middle;\n",
       "    }\n",
       "\n",
       "    .dataframe tbody tr th {\n",
       "        vertical-align: top;\n",
       "    }\n",
       "\n",
       "    .dataframe thead th {\n",
       "        text-align: right;\n",
       "    }\n",
       "</style>\n",
       "<table border=\"1\" class=\"dataframe\">\n",
       "  <thead>\n",
       "    <tr style=\"text-align: right;\">\n",
       "      <th></th>\n",
       "      <th>messages_included</th>\n",
       "      <th>mb_per_month_included</th>\n",
       "      <th>minutes_included</th>\n",
       "      <th>rub_monthly_fee</th>\n",
       "      <th>rub_per_gb</th>\n",
       "      <th>rub_per_message</th>\n",
       "      <th>rub_per_minute</th>\n",
       "      <th>tariff_name</th>\n",
       "    </tr>\n",
       "  </thead>\n",
       "  <tbody>\n",
       "    <tr>\n",
       "      <td>0</td>\n",
       "      <td>50</td>\n",
       "      <td>15</td>\n",
       "      <td>500</td>\n",
       "      <td>550</td>\n",
       "      <td>200</td>\n",
       "      <td>3</td>\n",
       "      <td>3</td>\n",
       "      <td>smart</td>\n",
       "    </tr>\n",
       "    <tr>\n",
       "      <td>1</td>\n",
       "      <td>1000</td>\n",
       "      <td>30</td>\n",
       "      <td>3000</td>\n",
       "      <td>1950</td>\n",
       "      <td>150</td>\n",
       "      <td>1</td>\n",
       "      <td>1</td>\n",
       "      <td>ultra</td>\n",
       "    </tr>\n",
       "  </tbody>\n",
       "</table>\n",
       "</div>"
      ],
      "text/plain": [
       "   messages_included  mb_per_month_included  minutes_included  \\\n",
       "0                 50                     15               500   \n",
       "1               1000                     30              3000   \n",
       "\n",
       "   rub_monthly_fee  rub_per_gb  rub_per_message  rub_per_minute tariff_name  \n",
       "0              550         200                3               3       smart  \n",
       "1             1950         150                1               1       ultra  "
      ]
     },
     "execution_count": 32,
     "metadata": {},
     "output_type": "execute_result"
    }
   ],
   "source": [
    "df_tarrifs['mb_per_month_included'] = np.ceil(df_tarrifs['mb_per_month_included'] / 1024).astype('int')\n",
    "df_tarrifs.head() "
   ]
  },
  {
   "cell_type": "code",
   "execution_count": 33,
   "metadata": {},
   "outputs": [
    {
     "data": {
      "text/html": [
       "<div>\n",
       "<style scoped>\n",
       "    .dataframe tbody tr th:only-of-type {\n",
       "        vertical-align: middle;\n",
       "    }\n",
       "\n",
       "    .dataframe tbody tr th {\n",
       "        vertical-align: top;\n",
       "    }\n",
       "\n",
       "    .dataframe thead th {\n",
       "        text-align: right;\n",
       "    }\n",
       "</style>\n",
       "<table border=\"1\" class=\"dataframe\">\n",
       "  <thead>\n",
       "    <tr style=\"text-align: right;\">\n",
       "      <th></th>\n",
       "      <th>messages_included</th>\n",
       "      <th>gb_per_month_included</th>\n",
       "      <th>minutes_included</th>\n",
       "      <th>rub_monthly_fee</th>\n",
       "      <th>rub_per_gb</th>\n",
       "      <th>rub_per_message</th>\n",
       "      <th>rub_per_minute</th>\n",
       "      <th>tariff_name</th>\n",
       "    </tr>\n",
       "  </thead>\n",
       "  <tbody>\n",
       "    <tr>\n",
       "      <td>0</td>\n",
       "      <td>50</td>\n",
       "      <td>15</td>\n",
       "      <td>500</td>\n",
       "      <td>550</td>\n",
       "      <td>200</td>\n",
       "      <td>3</td>\n",
       "      <td>3</td>\n",
       "      <td>smart</td>\n",
       "    </tr>\n",
       "    <tr>\n",
       "      <td>1</td>\n",
       "      <td>1000</td>\n",
       "      <td>30</td>\n",
       "      <td>3000</td>\n",
       "      <td>1950</td>\n",
       "      <td>150</td>\n",
       "      <td>1</td>\n",
       "      <td>1</td>\n",
       "      <td>ultra</td>\n",
       "    </tr>\n",
       "  </tbody>\n",
       "</table>\n",
       "</div>"
      ],
      "text/plain": [
       "   messages_included  gb_per_month_included  minutes_included  \\\n",
       "0                 50                     15               500   \n",
       "1               1000                     30              3000   \n",
       "\n",
       "   rub_monthly_fee  rub_per_gb  rub_per_message  rub_per_minute tariff_name  \n",
       "0              550         200                3               3       smart  \n",
       "1             1950         150                1               1       ultra  "
      ]
     },
     "execution_count": 33,
     "metadata": {},
     "output_type": "execute_result"
    }
   ],
   "source": [
    "df_tarrifs.rename(columns={'mb_per_month_included': 'gb_per_month_included'}, inplace=True)\n",
    "df_tarrifs.head()"
   ]
  },
  {
   "cell_type": "markdown",
   "metadata": {},
   "source": [
    "После объединения таблиц в ходе выполнения проекта мы приведем значения таблицы из вещественного типа данных к целочисленному типу, где это будет возможно."
   ]
  },
  {
   "cell_type": "markdown",
   "metadata": {},
   "source": [
    "### Вывод к разделу"
   ]
  },
  {
   "cell_type": "markdown",
   "metadata": {},
   "source": [
    "Было рассмотрено 5 таблиц с информацией о пользователях (df_users) тарифных планов, о тарифных услвоиях (df_tarrifs), об звонках (df_calls), о сообщениях(df_messages), об интернет-сессиях(df_internet). В ходе обзора и предообработки данных таблиц было выполнено:\n",
    "- замена типа данных на datetime64 в столбцах call_date в таблице о звонках, session_date в таблице об интернет-сессиях, message_date в таблице о сообщениях, в reg_date и в churn_date в таблице о пользователях\n",
    "- в таблице об интерет-сессиях был обнаружен столбец Unnamed: 0, дублирующий индексы строки, удалили его.\n",
    "- заменили пропуски в столбце churn_data на 2019 год.\n",
    "- длительность многих звонков — 0.0 минут.По условию пропущенные звонки либо звонки, когда клиент не дозвонился до адресата. Оставим их как есть.\n",
    "- удалили строки, где количество используемых мегабайт - равно нулю.\n",
    "- трафик интернета указан в мегабайтах. В ходе проекта после объединения таблиц мы преобразуем трафик в гигабайт.\n",
    "- в таблице о тарифах мы перевели кол-во мегабайт в Гб\n",
    "- привели к нижнему регистру города, откуда пользователи\n",
    "- после объединения таблиц далее по проекту преобразуем вещественный тип данных(float) в целочисленный(int)"
   ]
  },
  {
   "cell_type": "markdown",
   "metadata": {},
   "source": [
    "## Добавление и расчет необходимых показателей для дальнейшего исследования"
   ]
  },
  {
   "cell_type": "markdown",
   "metadata": {},
   "source": [
    "Добавим столбец с месяцем в таблицы с данными о звонках, сообщениях и интернет-сессиях"
   ]
  },
  {
   "cell_type": "code",
   "execution_count": 34,
   "metadata": {},
   "outputs": [
    {
     "data": {
      "text/html": [
       "<div>\n",
       "<style scoped>\n",
       "    .dataframe tbody tr th:only-of-type {\n",
       "        vertical-align: middle;\n",
       "    }\n",
       "\n",
       "    .dataframe tbody tr th {\n",
       "        vertical-align: top;\n",
       "    }\n",
       "\n",
       "    .dataframe thead th {\n",
       "        text-align: right;\n",
       "    }\n",
       "</style>\n",
       "<table border=\"1\" class=\"dataframe\">\n",
       "  <thead>\n",
       "    <tr style=\"text-align: right;\">\n",
       "      <th></th>\n",
       "      <th>id</th>\n",
       "      <th>call_date</th>\n",
       "      <th>duration</th>\n",
       "      <th>user_id</th>\n",
       "      <th>month</th>\n",
       "    </tr>\n",
       "  </thead>\n",
       "  <tbody>\n",
       "    <tr>\n",
       "      <td>0</td>\n",
       "      <td>1000_0</td>\n",
       "      <td>2018-07-25</td>\n",
       "      <td>0</td>\n",
       "      <td>1000</td>\n",
       "      <td>7</td>\n",
       "    </tr>\n",
       "    <tr>\n",
       "      <td>1</td>\n",
       "      <td>1000_1</td>\n",
       "      <td>2018-08-17</td>\n",
       "      <td>0</td>\n",
       "      <td>1000</td>\n",
       "      <td>8</td>\n",
       "    </tr>\n",
       "    <tr>\n",
       "      <td>2</td>\n",
       "      <td>1000_2</td>\n",
       "      <td>2018-06-11</td>\n",
       "      <td>3</td>\n",
       "      <td>1000</td>\n",
       "      <td>6</td>\n",
       "    </tr>\n",
       "  </tbody>\n",
       "</table>\n",
       "</div>"
      ],
      "text/plain": [
       "       id  call_date  duration  user_id  month\n",
       "0  1000_0 2018-07-25         0     1000      7\n",
       "1  1000_1 2018-08-17         0     1000      8\n",
       "2  1000_2 2018-06-11         3     1000      6"
      ]
     },
     "metadata": {},
     "output_type": "display_data"
    },
    {
     "data": {
      "text/html": [
       "<div>\n",
       "<style scoped>\n",
       "    .dataframe tbody tr th:only-of-type {\n",
       "        vertical-align: middle;\n",
       "    }\n",
       "\n",
       "    .dataframe tbody tr th {\n",
       "        vertical-align: top;\n",
       "    }\n",
       "\n",
       "    .dataframe thead th {\n",
       "        text-align: right;\n",
       "    }\n",
       "</style>\n",
       "<table border=\"1\" class=\"dataframe\">\n",
       "  <thead>\n",
       "    <tr style=\"text-align: right;\">\n",
       "      <th></th>\n",
       "      <th>id</th>\n",
       "      <th>message_date</th>\n",
       "      <th>user_id</th>\n",
       "      <th>month</th>\n",
       "    </tr>\n",
       "  </thead>\n",
       "  <tbody>\n",
       "    <tr>\n",
       "      <td>0</td>\n",
       "      <td>1000_0</td>\n",
       "      <td>2018-06-27</td>\n",
       "      <td>1000</td>\n",
       "      <td>6</td>\n",
       "    </tr>\n",
       "    <tr>\n",
       "      <td>1</td>\n",
       "      <td>1000_1</td>\n",
       "      <td>2018-10-08</td>\n",
       "      <td>1000</td>\n",
       "      <td>10</td>\n",
       "    </tr>\n",
       "    <tr>\n",
       "      <td>2</td>\n",
       "      <td>1000_2</td>\n",
       "      <td>2018-08-04</td>\n",
       "      <td>1000</td>\n",
       "      <td>8</td>\n",
       "    </tr>\n",
       "  </tbody>\n",
       "</table>\n",
       "</div>"
      ],
      "text/plain": [
       "       id message_date  user_id  month\n",
       "0  1000_0   2018-06-27     1000      6\n",
       "1  1000_1   2018-10-08     1000     10\n",
       "2  1000_2   2018-08-04     1000      8"
      ]
     },
     "metadata": {},
     "output_type": "display_data"
    },
    {
     "data": {
      "text/html": [
       "<div>\n",
       "<style scoped>\n",
       "    .dataframe tbody tr th:only-of-type {\n",
       "        vertical-align: middle;\n",
       "    }\n",
       "\n",
       "    .dataframe tbody tr th {\n",
       "        vertical-align: top;\n",
       "    }\n",
       "\n",
       "    .dataframe thead th {\n",
       "        text-align: right;\n",
       "    }\n",
       "</style>\n",
       "<table border=\"1\" class=\"dataframe\">\n",
       "  <thead>\n",
       "    <tr style=\"text-align: right;\">\n",
       "      <th></th>\n",
       "      <th>id</th>\n",
       "      <th>mb_used</th>\n",
       "      <th>session_date</th>\n",
       "      <th>user_id</th>\n",
       "      <th>month</th>\n",
       "    </tr>\n",
       "  </thead>\n",
       "  <tbody>\n",
       "    <tr>\n",
       "      <td>0</td>\n",
       "      <td>1000_0</td>\n",
       "      <td>112.95</td>\n",
       "      <td>2018-11-25</td>\n",
       "      <td>1000</td>\n",
       "      <td>11</td>\n",
       "    </tr>\n",
       "    <tr>\n",
       "      <td>1</td>\n",
       "      <td>1000_1</td>\n",
       "      <td>1052.81</td>\n",
       "      <td>2018-09-07</td>\n",
       "      <td>1000</td>\n",
       "      <td>9</td>\n",
       "    </tr>\n",
       "    <tr>\n",
       "      <td>2</td>\n",
       "      <td>1000_2</td>\n",
       "      <td>1197.26</td>\n",
       "      <td>2018-06-25</td>\n",
       "      <td>1000</td>\n",
       "      <td>6</td>\n",
       "    </tr>\n",
       "  </tbody>\n",
       "</table>\n",
       "</div>"
      ],
      "text/plain": [
       "       id  mb_used session_date  user_id  month\n",
       "0  1000_0   112.95   2018-11-25     1000     11\n",
       "1  1000_1  1052.81   2018-09-07     1000      9\n",
       "2  1000_2  1197.26   2018-06-25     1000      6"
      ]
     },
     "metadata": {},
     "output_type": "display_data"
    }
   ],
   "source": [
    "df_call['month'] = pd.to_datetime(df_call['call_date']).dt.month\n",
    "df_message['month'] = pd.to_datetime(df_message['message_date']).dt.month\n",
    "df_internet['month'] = pd.to_datetime(df_internet['session_date']).dt.month\n",
    "display(df_call.head(3))\n",
    "display(df_message.head(3))\n",
    "display(df_internet.head(3))"
   ]
  },
  {
   "cell_type": "markdown",
   "metadata": {},
   "source": [
    "***Количество сделанных звонков и израсходованных минут разговора по месяцам для каждого пользователя***"
   ]
  },
  {
   "cell_type": "code",
   "execution_count": 35,
   "metadata": {},
   "outputs": [
    {
     "data": {
      "text/html": [
       "<div>\n",
       "<style scoped>\n",
       "    .dataframe tbody tr th:only-of-type {\n",
       "        vertical-align: middle;\n",
       "    }\n",
       "\n",
       "    .dataframe tbody tr th {\n",
       "        vertical-align: top;\n",
       "    }\n",
       "\n",
       "    .dataframe thead th {\n",
       "        text-align: right;\n",
       "    }\n",
       "</style>\n",
       "<table border=\"1\" class=\"dataframe\">\n",
       "  <thead>\n",
       "    <tr style=\"text-align: right;\">\n",
       "      <th></th>\n",
       "      <th>user_id</th>\n",
       "      <th>month</th>\n",
       "      <th>calls_count</th>\n",
       "      <th>calls_duration</th>\n",
       "    </tr>\n",
       "  </thead>\n",
       "  <tbody>\n",
       "    <tr>\n",
       "      <td>0</td>\n",
       "      <td>1000</td>\n",
       "      <td>5</td>\n",
       "      <td>22</td>\n",
       "      <td>159</td>\n",
       "    </tr>\n",
       "    <tr>\n",
       "      <td>1</td>\n",
       "      <td>1000</td>\n",
       "      <td>6</td>\n",
       "      <td>43</td>\n",
       "      <td>172</td>\n",
       "    </tr>\n",
       "    <tr>\n",
       "      <td>2</td>\n",
       "      <td>1000</td>\n",
       "      <td>7</td>\n",
       "      <td>47</td>\n",
       "      <td>340</td>\n",
       "    </tr>\n",
       "    <tr>\n",
       "      <td>3</td>\n",
       "      <td>1000</td>\n",
       "      <td>8</td>\n",
       "      <td>52</td>\n",
       "      <td>408</td>\n",
       "    </tr>\n",
       "    <tr>\n",
       "      <td>4</td>\n",
       "      <td>1000</td>\n",
       "      <td>9</td>\n",
       "      <td>58</td>\n",
       "      <td>466</td>\n",
       "    </tr>\n",
       "    <tr>\n",
       "      <td>5</td>\n",
       "      <td>1000</td>\n",
       "      <td>10</td>\n",
       "      <td>57</td>\n",
       "      <td>350</td>\n",
       "    </tr>\n",
       "    <tr>\n",
       "      <td>6</td>\n",
       "      <td>1000</td>\n",
       "      <td>11</td>\n",
       "      <td>43</td>\n",
       "      <td>338</td>\n",
       "    </tr>\n",
       "    <tr>\n",
       "      <td>7</td>\n",
       "      <td>1000</td>\n",
       "      <td>12</td>\n",
       "      <td>46</td>\n",
       "      <td>333</td>\n",
       "    </tr>\n",
       "    <tr>\n",
       "      <td>8</td>\n",
       "      <td>1001</td>\n",
       "      <td>11</td>\n",
       "      <td>59</td>\n",
       "      <td>430</td>\n",
       "    </tr>\n",
       "    <tr>\n",
       "      <td>9</td>\n",
       "      <td>1001</td>\n",
       "      <td>12</td>\n",
       "      <td>63</td>\n",
       "      <td>414</td>\n",
       "    </tr>\n",
       "  </tbody>\n",
       "</table>\n",
       "</div>"
      ],
      "text/plain": [
       "   user_id  month  calls_count  calls_duration\n",
       "0     1000      5           22             159\n",
       "1     1000      6           43             172\n",
       "2     1000      7           47             340\n",
       "3     1000      8           52             408\n",
       "4     1000      9           58             466\n",
       "5     1000     10           57             350\n",
       "6     1000     11           43             338\n",
       "7     1000     12           46             333\n",
       "8     1001     11           59             430\n",
       "9     1001     12           63             414"
      ]
     },
     "execution_count": 35,
     "metadata": {},
     "output_type": "execute_result"
    }
   ],
   "source": [
    "calls_month = df_call.pivot_table(\n",
    "    index=['user_id', 'month'],\n",
    "    values='duration',\n",
    "    aggfunc=['count', 'sum']\n",
    ")\n",
    "calls_month.reset_index(inplace=True)\n",
    "calls_month.columns = ['user_id', 'month', 'calls_count', 'calls_duration']\n",
    "calls_month.head(10)"
   ]
  },
  {
   "cell_type": "markdown",
   "metadata": {},
   "source": [
    "***Количество отправленных сообщений по месяцам для каждого пользователя***"
   ]
  },
  {
   "cell_type": "code",
   "execution_count": 36,
   "metadata": {},
   "outputs": [
    {
     "data": {
      "text/html": [
       "<div>\n",
       "<style scoped>\n",
       "    .dataframe tbody tr th:only-of-type {\n",
       "        vertical-align: middle;\n",
       "    }\n",
       "\n",
       "    .dataframe tbody tr th {\n",
       "        vertical-align: top;\n",
       "    }\n",
       "\n",
       "    .dataframe thead th {\n",
       "        text-align: right;\n",
       "    }\n",
       "</style>\n",
       "<table border=\"1\" class=\"dataframe\">\n",
       "  <thead>\n",
       "    <tr style=\"text-align: right;\">\n",
       "      <th></th>\n",
       "      <th>user_id</th>\n",
       "      <th>month</th>\n",
       "      <th>all_messages</th>\n",
       "    </tr>\n",
       "  </thead>\n",
       "  <tbody>\n",
       "    <tr>\n",
       "      <td>0</td>\n",
       "      <td>1000</td>\n",
       "      <td>5</td>\n",
       "      <td>22</td>\n",
       "    </tr>\n",
       "    <tr>\n",
       "      <td>1</td>\n",
       "      <td>1000</td>\n",
       "      <td>6</td>\n",
       "      <td>60</td>\n",
       "    </tr>\n",
       "    <tr>\n",
       "      <td>2</td>\n",
       "      <td>1000</td>\n",
       "      <td>7</td>\n",
       "      <td>75</td>\n",
       "    </tr>\n",
       "    <tr>\n",
       "      <td>3</td>\n",
       "      <td>1000</td>\n",
       "      <td>8</td>\n",
       "      <td>81</td>\n",
       "    </tr>\n",
       "    <tr>\n",
       "      <td>4</td>\n",
       "      <td>1000</td>\n",
       "      <td>9</td>\n",
       "      <td>57</td>\n",
       "    </tr>\n",
       "    <tr>\n",
       "      <td>5</td>\n",
       "      <td>1000</td>\n",
       "      <td>10</td>\n",
       "      <td>73</td>\n",
       "    </tr>\n",
       "    <tr>\n",
       "      <td>6</td>\n",
       "      <td>1000</td>\n",
       "      <td>11</td>\n",
       "      <td>58</td>\n",
       "    </tr>\n",
       "    <tr>\n",
       "      <td>7</td>\n",
       "      <td>1000</td>\n",
       "      <td>12</td>\n",
       "      <td>70</td>\n",
       "    </tr>\n",
       "    <tr>\n",
       "      <td>8</td>\n",
       "      <td>1002</td>\n",
       "      <td>6</td>\n",
       "      <td>4</td>\n",
       "    </tr>\n",
       "    <tr>\n",
       "      <td>9</td>\n",
       "      <td>1002</td>\n",
       "      <td>7</td>\n",
       "      <td>11</td>\n",
       "    </tr>\n",
       "  </tbody>\n",
       "</table>\n",
       "</div>"
      ],
      "text/plain": [
       "   user_id  month  all_messages\n",
       "0     1000      5            22\n",
       "1     1000      6            60\n",
       "2     1000      7            75\n",
       "3     1000      8            81\n",
       "4     1000      9            57\n",
       "5     1000     10            73\n",
       "6     1000     11            58\n",
       "7     1000     12            70\n",
       "8     1002      6             4\n",
       "9     1002      7            11"
      ]
     },
     "execution_count": 36,
     "metadata": {},
     "output_type": "execute_result"
    }
   ],
   "source": [
    "messages_month = df_message.pivot_table(\n",
    "    index=['user_id', 'month'],\n",
    "    values='id',\n",
    "    aggfunc='count'\n",
    ")\n",
    "messages_month.reset_index(inplace=True)\n",
    "messages_month.columns = ['user_id', 'month', 'all_messages']\n",
    "messages_month.head(10)"
   ]
  },
  {
   "cell_type": "markdown",
   "metadata": {},
   "source": [
    "***Объем израсходованного интернет-трафика по месяцам для каждого пользователя***"
   ]
  },
  {
   "cell_type": "code",
   "execution_count": 37,
   "metadata": {},
   "outputs": [
    {
     "data": {
      "text/html": [
       "<div>\n",
       "<style scoped>\n",
       "    .dataframe tbody tr th:only-of-type {\n",
       "        vertical-align: middle;\n",
       "    }\n",
       "\n",
       "    .dataframe tbody tr th {\n",
       "        vertical-align: top;\n",
       "    }\n",
       "\n",
       "    .dataframe thead th {\n",
       "        text-align: right;\n",
       "    }\n",
       "</style>\n",
       "<table border=\"1\" class=\"dataframe\">\n",
       "  <thead>\n",
       "    <tr style=\"text-align: right;\">\n",
       "      <th></th>\n",
       "      <th>user_id</th>\n",
       "      <th>month</th>\n",
       "      <th>mb_used</th>\n",
       "    </tr>\n",
       "  </thead>\n",
       "  <tbody>\n",
       "    <tr>\n",
       "      <td>0</td>\n",
       "      <td>1000</td>\n",
       "      <td>5</td>\n",
       "      <td>2253.49</td>\n",
       "    </tr>\n",
       "    <tr>\n",
       "      <td>1</td>\n",
       "      <td>1000</td>\n",
       "      <td>6</td>\n",
       "      <td>23233.77</td>\n",
       "    </tr>\n",
       "    <tr>\n",
       "      <td>2</td>\n",
       "      <td>1000</td>\n",
       "      <td>7</td>\n",
       "      <td>14003.64</td>\n",
       "    </tr>\n",
       "    <tr>\n",
       "      <td>3</td>\n",
       "      <td>1000</td>\n",
       "      <td>8</td>\n",
       "      <td>14055.93</td>\n",
       "    </tr>\n",
       "    <tr>\n",
       "      <td>4</td>\n",
       "      <td>1000</td>\n",
       "      <td>9</td>\n",
       "      <td>14568.91</td>\n",
       "    </tr>\n",
       "    <tr>\n",
       "      <td>5</td>\n",
       "      <td>1000</td>\n",
       "      <td>10</td>\n",
       "      <td>14702.49</td>\n",
       "    </tr>\n",
       "    <tr>\n",
       "      <td>6</td>\n",
       "      <td>1000</td>\n",
       "      <td>11</td>\n",
       "      <td>14756.47</td>\n",
       "    </tr>\n",
       "    <tr>\n",
       "      <td>7</td>\n",
       "      <td>1000</td>\n",
       "      <td>12</td>\n",
       "      <td>9817.61</td>\n",
       "    </tr>\n",
       "    <tr>\n",
       "      <td>8</td>\n",
       "      <td>1001</td>\n",
       "      <td>11</td>\n",
       "      <td>18429.34</td>\n",
       "    </tr>\n",
       "    <tr>\n",
       "      <td>9</td>\n",
       "      <td>1001</td>\n",
       "      <td>12</td>\n",
       "      <td>14036.66</td>\n",
       "    </tr>\n",
       "  </tbody>\n",
       "</table>\n",
       "</div>"
      ],
      "text/plain": [
       "   user_id  month   mb_used\n",
       "0     1000      5   2253.49\n",
       "1     1000      6  23233.77\n",
       "2     1000      7  14003.64\n",
       "3     1000      8  14055.93\n",
       "4     1000      9  14568.91\n",
       "5     1000     10  14702.49\n",
       "6     1000     11  14756.47\n",
       "7     1000     12   9817.61\n",
       "8     1001     11  18429.34\n",
       "9     1001     12  14036.66"
      ]
     },
     "execution_count": 37,
     "metadata": {},
     "output_type": "execute_result"
    }
   ],
   "source": [
    "internet_month = df_internet.pivot_table(\n",
    "    index=['user_id', 'month'],\n",
    "    values='mb_used',\n",
    "    aggfunc=['sum']\n",
    ")\n",
    "internet_month.reset_index(inplace=True)\n",
    "internet_month.columns = ['user_id', 'month', 'mb_used']\n",
    "internet_month.head(10)"
   ]
  },
  {
   "cell_type": "markdown",
   "metadata": {},
   "source": [
    "***Расчет помесячной выручки с каждого пользователя***"
   ]
  },
  {
   "cell_type": "markdown",
   "metadata": {},
   "source": [
    "помесячную выручку с каждого пользователя (вычтите бесплатный лимит из суммарного количества звонков, сообщений и интернет-трафика; остаток умножьте на значение из тарифного плана; прибавьте абонентскую плату, соответствующую тарифному плану)."
   ]
  },
  {
   "cell_type": "markdown",
   "metadata": {},
   "source": [
    "Для расчета объединим созданные сводные таблицы"
   ]
  },
  {
   "cell_type": "markdown",
   "metadata": {},
   "source": [
    "Объединим таблицы с данными о пользователях, звонках, сообщениях и интернет-сессиях."
   ]
  },
  {
   "cell_type": "code",
   "execution_count": 38,
   "metadata": {},
   "outputs": [
    {
     "data": {
      "text/html": [
       "<div>\n",
       "<style scoped>\n",
       "    .dataframe tbody tr th:only-of-type {\n",
       "        vertical-align: middle;\n",
       "    }\n",
       "\n",
       "    .dataframe tbody tr th {\n",
       "        vertical-align: top;\n",
       "    }\n",
       "\n",
       "    .dataframe thead th {\n",
       "        text-align: right;\n",
       "    }\n",
       "</style>\n",
       "<table border=\"1\" class=\"dataframe\">\n",
       "  <thead>\n",
       "    <tr style=\"text-align: right;\">\n",
       "      <th></th>\n",
       "      <th>user_id</th>\n",
       "      <th>month</th>\n",
       "      <th>calls_count</th>\n",
       "      <th>calls_duration</th>\n",
       "      <th>all_messages</th>\n",
       "    </tr>\n",
       "  </thead>\n",
       "  <tbody>\n",
       "    <tr>\n",
       "      <td>0</td>\n",
       "      <td>1000</td>\n",
       "      <td>5</td>\n",
       "      <td>22.0</td>\n",
       "      <td>159.0</td>\n",
       "      <td>22.0</td>\n",
       "    </tr>\n",
       "    <tr>\n",
       "      <td>1</td>\n",
       "      <td>1000</td>\n",
       "      <td>6</td>\n",
       "      <td>43.0</td>\n",
       "      <td>172.0</td>\n",
       "      <td>60.0</td>\n",
       "    </tr>\n",
       "    <tr>\n",
       "      <td>2</td>\n",
       "      <td>1000</td>\n",
       "      <td>7</td>\n",
       "      <td>47.0</td>\n",
       "      <td>340.0</td>\n",
       "      <td>75.0</td>\n",
       "    </tr>\n",
       "    <tr>\n",
       "      <td>3</td>\n",
       "      <td>1000</td>\n",
       "      <td>8</td>\n",
       "      <td>52.0</td>\n",
       "      <td>408.0</td>\n",
       "      <td>81.0</td>\n",
       "    </tr>\n",
       "    <tr>\n",
       "      <td>4</td>\n",
       "      <td>1000</td>\n",
       "      <td>9</td>\n",
       "      <td>58.0</td>\n",
       "      <td>466.0</td>\n",
       "      <td>57.0</td>\n",
       "    </tr>\n",
       "  </tbody>\n",
       "</table>\n",
       "</div>"
      ],
      "text/plain": [
       "   user_id  month  calls_count  calls_duration  all_messages\n",
       "0     1000      5         22.0           159.0          22.0\n",
       "1     1000      6         43.0           172.0          60.0\n",
       "2     1000      7         47.0           340.0          75.0\n",
       "3     1000      8         52.0           408.0          81.0\n",
       "4     1000      9         58.0           466.0          57.0"
      ]
     },
     "execution_count": 38,
     "metadata": {},
     "output_type": "execute_result"
    }
   ],
   "source": [
    "df_all = calls_month.merge(messages_month, on=['user_id', 'month'], how='outer')\n",
    "df_all.head()"
   ]
  },
  {
   "cell_type": "code",
   "execution_count": 39,
   "metadata": {},
   "outputs": [
    {
     "data": {
      "text/html": [
       "<div>\n",
       "<style scoped>\n",
       "    .dataframe tbody tr th:only-of-type {\n",
       "        vertical-align: middle;\n",
       "    }\n",
       "\n",
       "    .dataframe tbody tr th {\n",
       "        vertical-align: top;\n",
       "    }\n",
       "\n",
       "    .dataframe thead th {\n",
       "        text-align: right;\n",
       "    }\n",
       "</style>\n",
       "<table border=\"1\" class=\"dataframe\">\n",
       "  <thead>\n",
       "    <tr style=\"text-align: right;\">\n",
       "      <th></th>\n",
       "      <th>user_id</th>\n",
       "      <th>month</th>\n",
       "      <th>calls_count</th>\n",
       "      <th>calls_duration</th>\n",
       "      <th>all_messages</th>\n",
       "      <th>mb_used</th>\n",
       "    </tr>\n",
       "  </thead>\n",
       "  <tbody>\n",
       "    <tr>\n",
       "      <td>0</td>\n",
       "      <td>1000</td>\n",
       "      <td>5</td>\n",
       "      <td>22.0</td>\n",
       "      <td>159.0</td>\n",
       "      <td>22.0</td>\n",
       "      <td>2253.49</td>\n",
       "    </tr>\n",
       "    <tr>\n",
       "      <td>1</td>\n",
       "      <td>1000</td>\n",
       "      <td>6</td>\n",
       "      <td>43.0</td>\n",
       "      <td>172.0</td>\n",
       "      <td>60.0</td>\n",
       "      <td>23233.77</td>\n",
       "    </tr>\n",
       "    <tr>\n",
       "      <td>2</td>\n",
       "      <td>1000</td>\n",
       "      <td>7</td>\n",
       "      <td>47.0</td>\n",
       "      <td>340.0</td>\n",
       "      <td>75.0</td>\n",
       "      <td>14003.64</td>\n",
       "    </tr>\n",
       "    <tr>\n",
       "      <td>3</td>\n",
       "      <td>1000</td>\n",
       "      <td>8</td>\n",
       "      <td>52.0</td>\n",
       "      <td>408.0</td>\n",
       "      <td>81.0</td>\n",
       "      <td>14055.93</td>\n",
       "    </tr>\n",
       "    <tr>\n",
       "      <td>4</td>\n",
       "      <td>1000</td>\n",
       "      <td>9</td>\n",
       "      <td>58.0</td>\n",
       "      <td>466.0</td>\n",
       "      <td>57.0</td>\n",
       "      <td>14568.91</td>\n",
       "    </tr>\n",
       "    <tr>\n",
       "      <td>5</td>\n",
       "      <td>1000</td>\n",
       "      <td>10</td>\n",
       "      <td>57.0</td>\n",
       "      <td>350.0</td>\n",
       "      <td>73.0</td>\n",
       "      <td>14702.49</td>\n",
       "    </tr>\n",
       "    <tr>\n",
       "      <td>6</td>\n",
       "      <td>1000</td>\n",
       "      <td>11</td>\n",
       "      <td>43.0</td>\n",
       "      <td>338.0</td>\n",
       "      <td>58.0</td>\n",
       "      <td>14756.47</td>\n",
       "    </tr>\n",
       "    <tr>\n",
       "      <td>7</td>\n",
       "      <td>1000</td>\n",
       "      <td>12</td>\n",
       "      <td>46.0</td>\n",
       "      <td>333.0</td>\n",
       "      <td>70.0</td>\n",
       "      <td>9817.61</td>\n",
       "    </tr>\n",
       "    <tr>\n",
       "      <td>8</td>\n",
       "      <td>1001</td>\n",
       "      <td>11</td>\n",
       "      <td>59.0</td>\n",
       "      <td>430.0</td>\n",
       "      <td>NaN</td>\n",
       "      <td>18429.34</td>\n",
       "    </tr>\n",
       "    <tr>\n",
       "      <td>9</td>\n",
       "      <td>1001</td>\n",
       "      <td>12</td>\n",
       "      <td>63.0</td>\n",
       "      <td>414.0</td>\n",
       "      <td>NaN</td>\n",
       "      <td>14036.66</td>\n",
       "    </tr>\n",
       "    <tr>\n",
       "      <td>10</td>\n",
       "      <td>1002</td>\n",
       "      <td>6</td>\n",
       "      <td>15.0</td>\n",
       "      <td>117.0</td>\n",
       "      <td>4.0</td>\n",
       "      <td>10856.82</td>\n",
       "    </tr>\n",
       "    <tr>\n",
       "      <td>11</td>\n",
       "      <td>1002</td>\n",
       "      <td>7</td>\n",
       "      <td>26.0</td>\n",
       "      <td>214.0</td>\n",
       "      <td>11.0</td>\n",
       "      <td>17580.10</td>\n",
       "    </tr>\n",
       "    <tr>\n",
       "      <td>12</td>\n",
       "      <td>1002</td>\n",
       "      <td>8</td>\n",
       "      <td>42.0</td>\n",
       "      <td>289.0</td>\n",
       "      <td>13.0</td>\n",
       "      <td>20319.26</td>\n",
       "    </tr>\n",
       "    <tr>\n",
       "      <td>13</td>\n",
       "      <td>1002</td>\n",
       "      <td>9</td>\n",
       "      <td>36.0</td>\n",
       "      <td>206.0</td>\n",
       "      <td>4.0</td>\n",
       "      <td>16691.08</td>\n",
       "    </tr>\n",
       "    <tr>\n",
       "      <td>14</td>\n",
       "      <td>1002</td>\n",
       "      <td>10</td>\n",
       "      <td>33.0</td>\n",
       "      <td>212.0</td>\n",
       "      <td>10.0</td>\n",
       "      <td>13888.25</td>\n",
       "    </tr>\n",
       "  </tbody>\n",
       "</table>\n",
       "</div>"
      ],
      "text/plain": [
       "    user_id  month  calls_count  calls_duration  all_messages   mb_used\n",
       "0      1000      5         22.0           159.0          22.0   2253.49\n",
       "1      1000      6         43.0           172.0          60.0  23233.77\n",
       "2      1000      7         47.0           340.0          75.0  14003.64\n",
       "3      1000      8         52.0           408.0          81.0  14055.93\n",
       "4      1000      9         58.0           466.0          57.0  14568.91\n",
       "5      1000     10         57.0           350.0          73.0  14702.49\n",
       "6      1000     11         43.0           338.0          58.0  14756.47\n",
       "7      1000     12         46.0           333.0          70.0   9817.61\n",
       "8      1001     11         59.0           430.0           NaN  18429.34\n",
       "9      1001     12         63.0           414.0           NaN  14036.66\n",
       "10     1002      6         15.0           117.0           4.0  10856.82\n",
       "11     1002      7         26.0           214.0          11.0  17580.10\n",
       "12     1002      8         42.0           289.0          13.0  20319.26\n",
       "13     1002      9         36.0           206.0           4.0  16691.08\n",
       "14     1002     10         33.0           212.0          10.0  13888.25"
      ]
     },
     "execution_count": 39,
     "metadata": {},
     "output_type": "execute_result"
    }
   ],
   "source": [
    "df_all = df_all.merge(internet_month, on=['user_id', 'month'], how='outer')\n",
    "df_all.head(15)"
   ]
  },
  {
   "cell_type": "code",
   "execution_count": 40,
   "metadata": {},
   "outputs": [
    {
     "data": {
      "text/html": [
       "<div>\n",
       "<style scoped>\n",
       "    .dataframe tbody tr th:only-of-type {\n",
       "        vertical-align: middle;\n",
       "    }\n",
       "\n",
       "    .dataframe tbody tr th {\n",
       "        vertical-align: top;\n",
       "    }\n",
       "\n",
       "    .dataframe thead th {\n",
       "        text-align: right;\n",
       "    }\n",
       "</style>\n",
       "<table border=\"1\" class=\"dataframe\">\n",
       "  <thead>\n",
       "    <tr style=\"text-align: right;\">\n",
       "      <th></th>\n",
       "      <th>user_id</th>\n",
       "      <th>month</th>\n",
       "      <th>calls_count</th>\n",
       "      <th>calls_duration</th>\n",
       "      <th>all_messages</th>\n",
       "      <th>mb_used</th>\n",
       "      <th>tariff</th>\n",
       "      <th>city</th>\n",
       "    </tr>\n",
       "  </thead>\n",
       "  <tbody>\n",
       "    <tr>\n",
       "      <td>0</td>\n",
       "      <td>1000</td>\n",
       "      <td>5</td>\n",
       "      <td>22.0</td>\n",
       "      <td>159.0</td>\n",
       "      <td>22.0</td>\n",
       "      <td>2253.49</td>\n",
       "      <td>ultra</td>\n",
       "      <td>краснодар</td>\n",
       "    </tr>\n",
       "    <tr>\n",
       "      <td>1</td>\n",
       "      <td>1000</td>\n",
       "      <td>6</td>\n",
       "      <td>43.0</td>\n",
       "      <td>172.0</td>\n",
       "      <td>60.0</td>\n",
       "      <td>23233.77</td>\n",
       "      <td>ultra</td>\n",
       "      <td>краснодар</td>\n",
       "    </tr>\n",
       "    <tr>\n",
       "      <td>2</td>\n",
       "      <td>1000</td>\n",
       "      <td>7</td>\n",
       "      <td>47.0</td>\n",
       "      <td>340.0</td>\n",
       "      <td>75.0</td>\n",
       "      <td>14003.64</td>\n",
       "      <td>ultra</td>\n",
       "      <td>краснодар</td>\n",
       "    </tr>\n",
       "    <tr>\n",
       "      <td>3</td>\n",
       "      <td>1000</td>\n",
       "      <td>8</td>\n",
       "      <td>52.0</td>\n",
       "      <td>408.0</td>\n",
       "      <td>81.0</td>\n",
       "      <td>14055.93</td>\n",
       "      <td>ultra</td>\n",
       "      <td>краснодар</td>\n",
       "    </tr>\n",
       "    <tr>\n",
       "      <td>4</td>\n",
       "      <td>1000</td>\n",
       "      <td>9</td>\n",
       "      <td>58.0</td>\n",
       "      <td>466.0</td>\n",
       "      <td>57.0</td>\n",
       "      <td>14568.91</td>\n",
       "      <td>ultra</td>\n",
       "      <td>краснодар</td>\n",
       "    </tr>\n",
       "    <tr>\n",
       "      <td>5</td>\n",
       "      <td>1000</td>\n",
       "      <td>10</td>\n",
       "      <td>57.0</td>\n",
       "      <td>350.0</td>\n",
       "      <td>73.0</td>\n",
       "      <td>14702.49</td>\n",
       "      <td>ultra</td>\n",
       "      <td>краснодар</td>\n",
       "    </tr>\n",
       "    <tr>\n",
       "      <td>6</td>\n",
       "      <td>1000</td>\n",
       "      <td>11</td>\n",
       "      <td>43.0</td>\n",
       "      <td>338.0</td>\n",
       "      <td>58.0</td>\n",
       "      <td>14756.47</td>\n",
       "      <td>ultra</td>\n",
       "      <td>краснодар</td>\n",
       "    </tr>\n",
       "    <tr>\n",
       "      <td>7</td>\n",
       "      <td>1000</td>\n",
       "      <td>12</td>\n",
       "      <td>46.0</td>\n",
       "      <td>333.0</td>\n",
       "      <td>70.0</td>\n",
       "      <td>9817.61</td>\n",
       "      <td>ultra</td>\n",
       "      <td>краснодар</td>\n",
       "    </tr>\n",
       "    <tr>\n",
       "      <td>8</td>\n",
       "      <td>1001</td>\n",
       "      <td>11</td>\n",
       "      <td>59.0</td>\n",
       "      <td>430.0</td>\n",
       "      <td>NaN</td>\n",
       "      <td>18429.34</td>\n",
       "      <td>smart</td>\n",
       "      <td>москва</td>\n",
       "    </tr>\n",
       "    <tr>\n",
       "      <td>9</td>\n",
       "      <td>1001</td>\n",
       "      <td>12</td>\n",
       "      <td>63.0</td>\n",
       "      <td>414.0</td>\n",
       "      <td>NaN</td>\n",
       "      <td>14036.66</td>\n",
       "      <td>smart</td>\n",
       "      <td>москва</td>\n",
       "    </tr>\n",
       "    <tr>\n",
       "      <td>10</td>\n",
       "      <td>1002</td>\n",
       "      <td>6</td>\n",
       "      <td>15.0</td>\n",
       "      <td>117.0</td>\n",
       "      <td>4.0</td>\n",
       "      <td>10856.82</td>\n",
       "      <td>smart</td>\n",
       "      <td>стерлитамак</td>\n",
       "    </tr>\n",
       "    <tr>\n",
       "      <td>11</td>\n",
       "      <td>1002</td>\n",
       "      <td>7</td>\n",
       "      <td>26.0</td>\n",
       "      <td>214.0</td>\n",
       "      <td>11.0</td>\n",
       "      <td>17580.10</td>\n",
       "      <td>smart</td>\n",
       "      <td>стерлитамак</td>\n",
       "    </tr>\n",
       "    <tr>\n",
       "      <td>12</td>\n",
       "      <td>1002</td>\n",
       "      <td>8</td>\n",
       "      <td>42.0</td>\n",
       "      <td>289.0</td>\n",
       "      <td>13.0</td>\n",
       "      <td>20319.26</td>\n",
       "      <td>smart</td>\n",
       "      <td>стерлитамак</td>\n",
       "    </tr>\n",
       "    <tr>\n",
       "      <td>13</td>\n",
       "      <td>1002</td>\n",
       "      <td>9</td>\n",
       "      <td>36.0</td>\n",
       "      <td>206.0</td>\n",
       "      <td>4.0</td>\n",
       "      <td>16691.08</td>\n",
       "      <td>smart</td>\n",
       "      <td>стерлитамак</td>\n",
       "    </tr>\n",
       "    <tr>\n",
       "      <td>14</td>\n",
       "      <td>1002</td>\n",
       "      <td>10</td>\n",
       "      <td>33.0</td>\n",
       "      <td>212.0</td>\n",
       "      <td>10.0</td>\n",
       "      <td>13888.25</td>\n",
       "      <td>smart</td>\n",
       "      <td>стерлитамак</td>\n",
       "    </tr>\n",
       "  </tbody>\n",
       "</table>\n",
       "</div>"
      ],
      "text/plain": [
       "    user_id  month  calls_count  calls_duration  all_messages   mb_used  \\\n",
       "0      1000      5         22.0           159.0          22.0   2253.49   \n",
       "1      1000      6         43.0           172.0          60.0  23233.77   \n",
       "2      1000      7         47.0           340.0          75.0  14003.64   \n",
       "3      1000      8         52.0           408.0          81.0  14055.93   \n",
       "4      1000      9         58.0           466.0          57.0  14568.91   \n",
       "5      1000     10         57.0           350.0          73.0  14702.49   \n",
       "6      1000     11         43.0           338.0          58.0  14756.47   \n",
       "7      1000     12         46.0           333.0          70.0   9817.61   \n",
       "8      1001     11         59.0           430.0           NaN  18429.34   \n",
       "9      1001     12         63.0           414.0           NaN  14036.66   \n",
       "10     1002      6         15.0           117.0           4.0  10856.82   \n",
       "11     1002      7         26.0           214.0          11.0  17580.10   \n",
       "12     1002      8         42.0           289.0          13.0  20319.26   \n",
       "13     1002      9         36.0           206.0           4.0  16691.08   \n",
       "14     1002     10         33.0           212.0          10.0  13888.25   \n",
       "\n",
       "   tariff         city  \n",
       "0   ultra    краснодар  \n",
       "1   ultra    краснодар  \n",
       "2   ultra    краснодар  \n",
       "3   ultra    краснодар  \n",
       "4   ultra    краснодар  \n",
       "5   ultra    краснодар  \n",
       "6   ultra    краснодар  \n",
       "7   ultra    краснодар  \n",
       "8   smart       москва  \n",
       "9   smart       москва  \n",
       "10  smart  стерлитамак  \n",
       "11  smart  стерлитамак  \n",
       "12  smart  стерлитамак  \n",
       "13  smart  стерлитамак  \n",
       "14  smart  стерлитамак  "
      ]
     },
     "execution_count": 40,
     "metadata": {},
     "output_type": "execute_result"
    }
   ],
   "source": [
    "#df_all = df_all.reset_index(drop=False) - ранеее было в проекте\n",
    "df_all = df_all.merge(df_users[['user_id', 'tariff', 'city']], on='user_id', how='left')\n",
    "df_all.head(15)"
   ]
  },
  {
   "cell_type": "markdown",
   "metadata": {},
   "source": [
    "Видим, что есть пропуски, так как нет видимо данных для какого-то пользователя по одному из компонентов (сообщения, звонки и интернет). "
   ]
  },
  {
   "cell_type": "code",
   "execution_count": 41,
   "metadata": {},
   "outputs": [
    {
     "data": {
      "text/plain": [
       "user_id             0\n",
       "month               0\n",
       "calls_count        40\n",
       "calls_duration     40\n",
       "all_messages      497\n",
       "mb_used            13\n",
       "tariff              0\n",
       "city                0\n",
       "dtype: int64"
      ]
     },
     "execution_count": 41,
     "metadata": {},
     "output_type": "execute_result"
    }
   ],
   "source": [
    "df_all.isna().sum()"
   ]
  },
  {
   "cell_type": "markdown",
   "metadata": {},
   "source": [
    "Заменим пропуски на 0"
   ]
  },
  {
   "cell_type": "code",
   "execution_count": 42,
   "metadata": {},
   "outputs": [],
   "source": [
    "df_all.loc[df_all['calls_duration'].isna(), 'calls_duration'] = 0\n",
    "df_all.loc[df_all['calls_count'].isna(), 'calls_count'] = 0\n",
    "df_all.loc[df_all['all_messages'].isna(), 'all_messages'] = 0\n",
    "df_all.loc[df_all['mb_used'].isna(), 'mb_used'] = 0"
   ]
  },
  {
   "cell_type": "code",
   "execution_count": 43,
   "metadata": {},
   "outputs": [
    {
     "data": {
      "text/plain": [
       "user_id           0\n",
       "month             0\n",
       "calls_count       0\n",
       "calls_duration    0\n",
       "all_messages      0\n",
       "mb_used           0\n",
       "tariff            0\n",
       "city              0\n",
       "dtype: int64"
      ]
     },
     "execution_count": 43,
     "metadata": {},
     "output_type": "execute_result"
    }
   ],
   "source": [
    "df_all.isna().sum()"
   ]
  },
  {
   "cell_type": "markdown",
   "metadata": {},
   "source": [
    "Для удобства переведем столбец mb_used к Гб"
   ]
  },
  {
   "cell_type": "code",
   "execution_count": 44,
   "metadata": {},
   "outputs": [],
   "source": [
    "df_all['mb_used'] = np.ceil(df_all['mb_used'] / 1024).astype('int')"
   ]
  },
  {
   "cell_type": "code",
   "execution_count": 45,
   "metadata": {},
   "outputs": [],
   "source": [
    "df_all.rename(columns={'mb_used': 'gb_used'}, inplace=True)"
   ]
  },
  {
   "cell_type": "code",
   "execution_count": 46,
   "metadata": {},
   "outputs": [
    {
     "data": {
      "text/html": [
       "<div>\n",
       "<style scoped>\n",
       "    .dataframe tbody tr th:only-of-type {\n",
       "        vertical-align: middle;\n",
       "    }\n",
       "\n",
       "    .dataframe tbody tr th {\n",
       "        vertical-align: top;\n",
       "    }\n",
       "\n",
       "    .dataframe thead th {\n",
       "        text-align: right;\n",
       "    }\n",
       "</style>\n",
       "<table border=\"1\" class=\"dataframe\">\n",
       "  <thead>\n",
       "    <tr style=\"text-align: right;\">\n",
       "      <th></th>\n",
       "      <th>user_id</th>\n",
       "      <th>month</th>\n",
       "      <th>calls_count</th>\n",
       "      <th>calls_duration</th>\n",
       "      <th>all_messages</th>\n",
       "      <th>gb_used</th>\n",
       "      <th>tariff</th>\n",
       "      <th>city</th>\n",
       "    </tr>\n",
       "  </thead>\n",
       "  <tbody>\n",
       "    <tr>\n",
       "      <td>0</td>\n",
       "      <td>1000</td>\n",
       "      <td>5</td>\n",
       "      <td>22.0</td>\n",
       "      <td>159.0</td>\n",
       "      <td>22.0</td>\n",
       "      <td>3</td>\n",
       "      <td>ultra</td>\n",
       "      <td>краснодар</td>\n",
       "    </tr>\n",
       "    <tr>\n",
       "      <td>1</td>\n",
       "      <td>1000</td>\n",
       "      <td>6</td>\n",
       "      <td>43.0</td>\n",
       "      <td>172.0</td>\n",
       "      <td>60.0</td>\n",
       "      <td>23</td>\n",
       "      <td>ultra</td>\n",
       "      <td>краснодар</td>\n",
       "    </tr>\n",
       "    <tr>\n",
       "      <td>2</td>\n",
       "      <td>1000</td>\n",
       "      <td>7</td>\n",
       "      <td>47.0</td>\n",
       "      <td>340.0</td>\n",
       "      <td>75.0</td>\n",
       "      <td>14</td>\n",
       "      <td>ultra</td>\n",
       "      <td>краснодар</td>\n",
       "    </tr>\n",
       "    <tr>\n",
       "      <td>3</td>\n",
       "      <td>1000</td>\n",
       "      <td>8</td>\n",
       "      <td>52.0</td>\n",
       "      <td>408.0</td>\n",
       "      <td>81.0</td>\n",
       "      <td>14</td>\n",
       "      <td>ultra</td>\n",
       "      <td>краснодар</td>\n",
       "    </tr>\n",
       "    <tr>\n",
       "      <td>4</td>\n",
       "      <td>1000</td>\n",
       "      <td>9</td>\n",
       "      <td>58.0</td>\n",
       "      <td>466.0</td>\n",
       "      <td>57.0</td>\n",
       "      <td>15</td>\n",
       "      <td>ultra</td>\n",
       "      <td>краснодар</td>\n",
       "    </tr>\n",
       "    <tr>\n",
       "      <td>5</td>\n",
       "      <td>1000</td>\n",
       "      <td>10</td>\n",
       "      <td>57.0</td>\n",
       "      <td>350.0</td>\n",
       "      <td>73.0</td>\n",
       "      <td>15</td>\n",
       "      <td>ultra</td>\n",
       "      <td>краснодар</td>\n",
       "    </tr>\n",
       "    <tr>\n",
       "      <td>6</td>\n",
       "      <td>1000</td>\n",
       "      <td>11</td>\n",
       "      <td>43.0</td>\n",
       "      <td>338.0</td>\n",
       "      <td>58.0</td>\n",
       "      <td>15</td>\n",
       "      <td>ultra</td>\n",
       "      <td>краснодар</td>\n",
       "    </tr>\n",
       "    <tr>\n",
       "      <td>7</td>\n",
       "      <td>1000</td>\n",
       "      <td>12</td>\n",
       "      <td>46.0</td>\n",
       "      <td>333.0</td>\n",
       "      <td>70.0</td>\n",
       "      <td>10</td>\n",
       "      <td>ultra</td>\n",
       "      <td>краснодар</td>\n",
       "    </tr>\n",
       "    <tr>\n",
       "      <td>8</td>\n",
       "      <td>1001</td>\n",
       "      <td>11</td>\n",
       "      <td>59.0</td>\n",
       "      <td>430.0</td>\n",
       "      <td>0.0</td>\n",
       "      <td>18</td>\n",
       "      <td>smart</td>\n",
       "      <td>москва</td>\n",
       "    </tr>\n",
       "    <tr>\n",
       "      <td>9</td>\n",
       "      <td>1001</td>\n",
       "      <td>12</td>\n",
       "      <td>63.0</td>\n",
       "      <td>414.0</td>\n",
       "      <td>0.0</td>\n",
       "      <td>14</td>\n",
       "      <td>smart</td>\n",
       "      <td>москва</td>\n",
       "    </tr>\n",
       "  </tbody>\n",
       "</table>\n",
       "</div>"
      ],
      "text/plain": [
       "   user_id  month  calls_count  calls_duration  all_messages  gb_used tariff  \\\n",
       "0     1000      5         22.0           159.0          22.0        3  ultra   \n",
       "1     1000      6         43.0           172.0          60.0       23  ultra   \n",
       "2     1000      7         47.0           340.0          75.0       14  ultra   \n",
       "3     1000      8         52.0           408.0          81.0       14  ultra   \n",
       "4     1000      9         58.0           466.0          57.0       15  ultra   \n",
       "5     1000     10         57.0           350.0          73.0       15  ultra   \n",
       "6     1000     11         43.0           338.0          58.0       15  ultra   \n",
       "7     1000     12         46.0           333.0          70.0       10  ultra   \n",
       "8     1001     11         59.0           430.0           0.0       18  smart   \n",
       "9     1001     12         63.0           414.0           0.0       14  smart   \n",
       "\n",
       "        city  \n",
       "0  краснодар  \n",
       "1  краснодар  \n",
       "2  краснодар  \n",
       "3  краснодар  \n",
       "4  краснодар  \n",
       "5  краснодар  \n",
       "6  краснодар  \n",
       "7  краснодар  \n",
       "8     москва  \n",
       "9     москва  "
      ]
     },
     "execution_count": 46,
     "metadata": {},
     "output_type": "execute_result"
    }
   ],
   "source": [
    "df_all.head(10)"
   ]
  },
  {
   "cell_type": "markdown",
   "metadata": {},
   "source": [
    "Округлим до целых чисел в столбце calls_duration, calls_count, all_messages в большую сторону по тарифному плану"
   ]
  },
  {
   "cell_type": "code",
   "execution_count": 47,
   "metadata": {},
   "outputs": [
    {
     "name": "stdout",
     "output_type": "stream",
     "text": [
      "   user_id  month  calls_count  calls_duration  all_messages  gb_used tariff  \\\n",
      "0     1000      5           22             159            22        3  ultra   \n",
      "1     1000      6           43             172            60       23  ultra   \n",
      "2     1000      7           47             340            75       14  ultra   \n",
      "3     1000      8           52             408            81       14  ultra   \n",
      "4     1000      9           58             466            57       15  ultra   \n",
      "\n",
      "        city  \n",
      "0  краснодар  \n",
      "1  краснодар  \n",
      "2  краснодар  \n",
      "3  краснодар  \n",
      "4  краснодар  \n"
     ]
    }
   ],
   "source": [
    "df_all['calls_duration'] = np.ceil(df_all['calls_duration']).astype('int')\n",
    "df_all['calls_count'] = np.ceil(df_all['calls_count']).astype('int')\n",
    "df_all['all_messages'] = np.ceil(df_all['all_messages']).astype('int')\n",
    "print(df_all.head())"
   ]
  },
  {
   "cell_type": "markdown",
   "metadata": {},
   "source": [
    "Напишем функцию profit_user для нахождения выручки по месяцам для каждого пользователя определенного тарифа"
   ]
  },
  {
   "cell_type": "code",
   "execution_count": 48,
   "metadata": {},
   "outputs": [
    {
     "data": {
      "text/html": [
       "<div>\n",
       "<style scoped>\n",
       "    .dataframe tbody tr th:only-of-type {\n",
       "        vertical-align: middle;\n",
       "    }\n",
       "\n",
       "    .dataframe tbody tr th {\n",
       "        vertical-align: top;\n",
       "    }\n",
       "\n",
       "    .dataframe thead th {\n",
       "        text-align: right;\n",
       "    }\n",
       "</style>\n",
       "<table border=\"1\" class=\"dataframe\">\n",
       "  <thead>\n",
       "    <tr style=\"text-align: right;\">\n",
       "      <th></th>\n",
       "      <th>user_id</th>\n",
       "      <th>month</th>\n",
       "      <th>calls_count</th>\n",
       "      <th>calls_duration</th>\n",
       "      <th>all_messages</th>\n",
       "      <th>gb_used</th>\n",
       "      <th>tariff</th>\n",
       "      <th>city</th>\n",
       "      <th>profit</th>\n",
       "    </tr>\n",
       "  </thead>\n",
       "  <tbody>\n",
       "    <tr>\n",
       "      <td>0</td>\n",
       "      <td>1000</td>\n",
       "      <td>5</td>\n",
       "      <td>22</td>\n",
       "      <td>159</td>\n",
       "      <td>22</td>\n",
       "      <td>3</td>\n",
       "      <td>ultra</td>\n",
       "      <td>краснодар</td>\n",
       "      <td>1950</td>\n",
       "    </tr>\n",
       "    <tr>\n",
       "      <td>1</td>\n",
       "      <td>1000</td>\n",
       "      <td>6</td>\n",
       "      <td>43</td>\n",
       "      <td>172</td>\n",
       "      <td>60</td>\n",
       "      <td>23</td>\n",
       "      <td>ultra</td>\n",
       "      <td>краснодар</td>\n",
       "      <td>1950</td>\n",
       "    </tr>\n",
       "    <tr>\n",
       "      <td>2</td>\n",
       "      <td>1000</td>\n",
       "      <td>7</td>\n",
       "      <td>47</td>\n",
       "      <td>340</td>\n",
       "      <td>75</td>\n",
       "      <td>14</td>\n",
       "      <td>ultra</td>\n",
       "      <td>краснодар</td>\n",
       "      <td>1950</td>\n",
       "    </tr>\n",
       "    <tr>\n",
       "      <td>3</td>\n",
       "      <td>1000</td>\n",
       "      <td>8</td>\n",
       "      <td>52</td>\n",
       "      <td>408</td>\n",
       "      <td>81</td>\n",
       "      <td>14</td>\n",
       "      <td>ultra</td>\n",
       "      <td>краснодар</td>\n",
       "      <td>1950</td>\n",
       "    </tr>\n",
       "    <tr>\n",
       "      <td>4</td>\n",
       "      <td>1000</td>\n",
       "      <td>9</td>\n",
       "      <td>58</td>\n",
       "      <td>466</td>\n",
       "      <td>57</td>\n",
       "      <td>15</td>\n",
       "      <td>ultra</td>\n",
       "      <td>краснодар</td>\n",
       "      <td>1950</td>\n",
       "    </tr>\n",
       "    <tr>\n",
       "      <td>...</td>\n",
       "      <td>...</td>\n",
       "      <td>...</td>\n",
       "      <td>...</td>\n",
       "      <td>...</td>\n",
       "      <td>...</td>\n",
       "      <td>...</td>\n",
       "      <td>...</td>\n",
       "      <td>...</td>\n",
       "      <td>...</td>\n",
       "    </tr>\n",
       "    <tr>\n",
       "      <td>3209</td>\n",
       "      <td>1489</td>\n",
       "      <td>9</td>\n",
       "      <td>0</td>\n",
       "      <td>0</td>\n",
       "      <td>32</td>\n",
       "      <td>17</td>\n",
       "      <td>smart</td>\n",
       "      <td>санкт-петербург</td>\n",
       "      <td>950</td>\n",
       "    </tr>\n",
       "    <tr>\n",
       "      <td>3210</td>\n",
       "      <td>1489</td>\n",
       "      <td>10</td>\n",
       "      <td>0</td>\n",
       "      <td>0</td>\n",
       "      <td>21</td>\n",
       "      <td>20</td>\n",
       "      <td>smart</td>\n",
       "      <td>санкт-петербург</td>\n",
       "      <td>1550</td>\n",
       "    </tr>\n",
       "    <tr>\n",
       "      <td>3211</td>\n",
       "      <td>1489</td>\n",
       "      <td>11</td>\n",
       "      <td>0</td>\n",
       "      <td>0</td>\n",
       "      <td>20</td>\n",
       "      <td>18</td>\n",
       "      <td>smart</td>\n",
       "      <td>санкт-петербург</td>\n",
       "      <td>1150</td>\n",
       "    </tr>\n",
       "    <tr>\n",
       "      <td>3212</td>\n",
       "      <td>1489</td>\n",
       "      <td>12</td>\n",
       "      <td>0</td>\n",
       "      <td>0</td>\n",
       "      <td>35</td>\n",
       "      <td>17</td>\n",
       "      <td>smart</td>\n",
       "      <td>санкт-петербург</td>\n",
       "      <td>950</td>\n",
       "    </tr>\n",
       "    <tr>\n",
       "      <td>3213</td>\n",
       "      <td>1476</td>\n",
       "      <td>4</td>\n",
       "      <td>0</td>\n",
       "      <td>0</td>\n",
       "      <td>0</td>\n",
       "      <td>1</td>\n",
       "      <td>ultra</td>\n",
       "      <td>москва</td>\n",
       "      <td>1950</td>\n",
       "    </tr>\n",
       "  </tbody>\n",
       "</table>\n",
       "<p>3214 rows × 9 columns</p>\n",
       "</div>"
      ],
      "text/plain": [
       "      user_id  month  calls_count  calls_duration  all_messages  gb_used  \\\n",
       "0        1000      5           22             159            22        3   \n",
       "1        1000      6           43             172            60       23   \n",
       "2        1000      7           47             340            75       14   \n",
       "3        1000      8           52             408            81       14   \n",
       "4        1000      9           58             466            57       15   \n",
       "...       ...    ...          ...             ...           ...      ...   \n",
       "3209     1489      9            0               0            32       17   \n",
       "3210     1489     10            0               0            21       20   \n",
       "3211     1489     11            0               0            20       18   \n",
       "3212     1489     12            0               0            35       17   \n",
       "3213     1476      4            0               0             0        1   \n",
       "\n",
       "     tariff             city  profit  \n",
       "0     ultra        краснодар    1950  \n",
       "1     ultra        краснодар    1950  \n",
       "2     ultra        краснодар    1950  \n",
       "3     ultra        краснодар    1950  \n",
       "4     ultra        краснодар    1950  \n",
       "...     ...              ...     ...  \n",
       "3209  smart  санкт-петербург     950  \n",
       "3210  smart  санкт-петербург    1550  \n",
       "3211  smart  санкт-петербург    1150  \n",
       "3212  smart  санкт-петербург     950  \n",
       "3213  ultra           москва    1950  \n",
       "\n",
       "[3214 rows x 9 columns]"
      ]
     },
     "execution_count": 48,
     "metadata": {},
     "output_type": "execute_result"
    }
   ],
   "source": [
    "def profit_user(row):\n",
    "    if row['tariff'] == 'smart':\n",
    "        minutes_user = row['calls_duration'] - df_tarrifs.loc[0, 'minutes_included']\n",
    "        messages_user = row['all_messages'] - df_tarrifs.loc[0, 'messages_included']\n",
    "        gb_user = row['gb_used'] - df_tarrifs.loc[0, 'gb_per_month_included']\n",
    "     \n",
    "        if minutes_user < 0:\n",
    "            minutes_user = 0\n",
    "        if messages_user < 0:\n",
    "            messages_user = 0\n",
    "        if gb_user < 0:\n",
    "            gb_user = 0\n",
    "        return(df_tarrifs.loc[0, 'rub_monthly_fee'] + df_tarrifs.loc[0, 'rub_per_minute'] * minutes_user\n",
    "              + df_tarrifs.loc[0, 'rub_per_message'] * messages_user + (df_tarrifs.loc[0, 'rub_per_gb']) * gb_user)\n",
    "    elif row['tariff'] == 'ultra':\n",
    "        minutes_user = row['calls_duration'] - df_tarrifs.loc[1, 'minutes_included']\n",
    "        messages_user = row['all_messages'] - df_tarrifs.loc[1, 'messages_included']\n",
    "        gb_user = row['gb_used'] - df_tarrifs.loc[1, 'gb_per_month_included']\n",
    "        \n",
    "        if minutes_user < 0:\n",
    "            minutes_user = 0\n",
    "        if messages_user < 0:\n",
    "            messages_user = 0\n",
    "        if gb_user < 0:\n",
    "            gb_user = 0\n",
    "        return(df_tarrifs.loc[1, 'rub_monthly_fee'] + df_tarrifs.loc[1, 'rub_per_minute'] * minutes_user\n",
    "              + df_tarrifs.loc[1, 'rub_per_message'] * messages_user + (df_tarrifs.loc[1, 'rub_per_gb']) * gb_user)\n",
    "df_all['profit'] = df_all.apply(profit_user, axis=1)\n",
    "df_all\n"
   ]
  },
  {
   "cell_type": "code",
   "execution_count": 49,
   "metadata": {},
   "outputs": [
    {
     "data": {
      "text/html": [
       "<div>\n",
       "<style scoped>\n",
       "    .dataframe tbody tr th:only-of-type {\n",
       "        vertical-align: middle;\n",
       "    }\n",
       "\n",
       "    .dataframe tbody tr th {\n",
       "        vertical-align: top;\n",
       "    }\n",
       "\n",
       "    .dataframe thead th {\n",
       "        text-align: right;\n",
       "    }\n",
       "</style>\n",
       "<table border=\"1\" class=\"dataframe\">\n",
       "  <thead>\n",
       "    <tr style=\"text-align: right;\">\n",
       "      <th></th>\n",
       "      <th>user_id</th>\n",
       "      <th>month</th>\n",
       "      <th>calls_count</th>\n",
       "      <th>calls_duration</th>\n",
       "      <th>all_messages</th>\n",
       "      <th>gb_used</th>\n",
       "      <th>tariff</th>\n",
       "      <th>city</th>\n",
       "      <th>profit</th>\n",
       "    </tr>\n",
       "  </thead>\n",
       "  <tbody>\n",
       "    <tr>\n",
       "      <td>0</td>\n",
       "      <td>1000</td>\n",
       "      <td>5</td>\n",
       "      <td>22</td>\n",
       "      <td>159</td>\n",
       "      <td>22</td>\n",
       "      <td>3</td>\n",
       "      <td>ultra</td>\n",
       "      <td>краснодар</td>\n",
       "      <td>1950</td>\n",
       "    </tr>\n",
       "    <tr>\n",
       "      <td>1</td>\n",
       "      <td>1000</td>\n",
       "      <td>6</td>\n",
       "      <td>43</td>\n",
       "      <td>172</td>\n",
       "      <td>60</td>\n",
       "      <td>23</td>\n",
       "      <td>ultra</td>\n",
       "      <td>краснодар</td>\n",
       "      <td>1950</td>\n",
       "    </tr>\n",
       "    <tr>\n",
       "      <td>2</td>\n",
       "      <td>1000</td>\n",
       "      <td>7</td>\n",
       "      <td>47</td>\n",
       "      <td>340</td>\n",
       "      <td>75</td>\n",
       "      <td>14</td>\n",
       "      <td>ultra</td>\n",
       "      <td>краснодар</td>\n",
       "      <td>1950</td>\n",
       "    </tr>\n",
       "    <tr>\n",
       "      <td>3</td>\n",
       "      <td>1000</td>\n",
       "      <td>8</td>\n",
       "      <td>52</td>\n",
       "      <td>408</td>\n",
       "      <td>81</td>\n",
       "      <td>14</td>\n",
       "      <td>ultra</td>\n",
       "      <td>краснодар</td>\n",
       "      <td>1950</td>\n",
       "    </tr>\n",
       "    <tr>\n",
       "      <td>4</td>\n",
       "      <td>1000</td>\n",
       "      <td>9</td>\n",
       "      <td>58</td>\n",
       "      <td>466</td>\n",
       "      <td>57</td>\n",
       "      <td>15</td>\n",
       "      <td>ultra</td>\n",
       "      <td>краснодар</td>\n",
       "      <td>1950</td>\n",
       "    </tr>\n",
       "    <tr>\n",
       "      <td>...</td>\n",
       "      <td>...</td>\n",
       "      <td>...</td>\n",
       "      <td>...</td>\n",
       "      <td>...</td>\n",
       "      <td>...</td>\n",
       "      <td>...</td>\n",
       "      <td>...</td>\n",
       "      <td>...</td>\n",
       "      <td>...</td>\n",
       "    </tr>\n",
       "    <tr>\n",
       "      <td>3209</td>\n",
       "      <td>1489</td>\n",
       "      <td>9</td>\n",
       "      <td>0</td>\n",
       "      <td>0</td>\n",
       "      <td>32</td>\n",
       "      <td>17</td>\n",
       "      <td>smart</td>\n",
       "      <td>санкт-петербург</td>\n",
       "      <td>950</td>\n",
       "    </tr>\n",
       "    <tr>\n",
       "      <td>3210</td>\n",
       "      <td>1489</td>\n",
       "      <td>10</td>\n",
       "      <td>0</td>\n",
       "      <td>0</td>\n",
       "      <td>21</td>\n",
       "      <td>20</td>\n",
       "      <td>smart</td>\n",
       "      <td>санкт-петербург</td>\n",
       "      <td>1550</td>\n",
       "    </tr>\n",
       "    <tr>\n",
       "      <td>3211</td>\n",
       "      <td>1489</td>\n",
       "      <td>11</td>\n",
       "      <td>0</td>\n",
       "      <td>0</td>\n",
       "      <td>20</td>\n",
       "      <td>18</td>\n",
       "      <td>smart</td>\n",
       "      <td>санкт-петербург</td>\n",
       "      <td>1150</td>\n",
       "    </tr>\n",
       "    <tr>\n",
       "      <td>3212</td>\n",
       "      <td>1489</td>\n",
       "      <td>12</td>\n",
       "      <td>0</td>\n",
       "      <td>0</td>\n",
       "      <td>35</td>\n",
       "      <td>17</td>\n",
       "      <td>smart</td>\n",
       "      <td>санкт-петербург</td>\n",
       "      <td>950</td>\n",
       "    </tr>\n",
       "    <tr>\n",
       "      <td>3213</td>\n",
       "      <td>1476</td>\n",
       "      <td>4</td>\n",
       "      <td>0</td>\n",
       "      <td>0</td>\n",
       "      <td>0</td>\n",
       "      <td>1</td>\n",
       "      <td>ultra</td>\n",
       "      <td>москва</td>\n",
       "      <td>1950</td>\n",
       "    </tr>\n",
       "  </tbody>\n",
       "</table>\n",
       "<p>3214 rows × 9 columns</p>\n",
       "</div>"
      ],
      "text/plain": [
       "      user_id  month  calls_count  calls_duration  all_messages  gb_used  \\\n",
       "0        1000      5           22             159            22        3   \n",
       "1        1000      6           43             172            60       23   \n",
       "2        1000      7           47             340            75       14   \n",
       "3        1000      8           52             408            81       14   \n",
       "4        1000      9           58             466            57       15   \n",
       "...       ...    ...          ...             ...           ...      ...   \n",
       "3209     1489      9            0               0            32       17   \n",
       "3210     1489     10            0               0            21       20   \n",
       "3211     1489     11            0               0            20       18   \n",
       "3212     1489     12            0               0            35       17   \n",
       "3213     1476      4            0               0             0        1   \n",
       "\n",
       "     tariff             city  profit  \n",
       "0     ultra        краснодар    1950  \n",
       "1     ultra        краснодар    1950  \n",
       "2     ultra        краснодар    1950  \n",
       "3     ultra        краснодар    1950  \n",
       "4     ultra        краснодар    1950  \n",
       "...     ...              ...     ...  \n",
       "3209  smart  санкт-петербург     950  \n",
       "3210  smart  санкт-петербург    1550  \n",
       "3211  smart  санкт-петербург    1150  \n",
       "3212  smart  санкт-петербург     950  \n",
       "3213  ultra           москва    1950  \n",
       "\n",
       "[3214 rows x 9 columns]"
      ]
     },
     "execution_count": 49,
     "metadata": {},
     "output_type": "execute_result"
    }
   ],
   "source": [
    "def profit_user(row):\n",
    "    money = 0\n",
    "    tariff = row['tariff']\n",
    "    minutes_user = row['calls_duration'] - df_tarrifs.query('tariff_name == @tariff')['minutes_included']\n",
    "    messages_user = row['all_messages'] - df_tarrifs.query('tariff_name == @tariff')['messages_included']\n",
    "    gb_user = row['gb_used'] - df_tarrifs.query('tariff_name == @tariff')['gb_per_month_included']\n",
    "     \n",
    "    if minutes_user > 0:\n",
    "        money += minutes_user * df_tarrifs.query('tariff_name == @tariff')['rub_per_minute']\n",
    "    if messages_user > 0:\n",
    "        money += messages_user * df_tarrifs.query('tariff_name == @tariff')['rub_per_message']\n",
    "    if gb_user <= 0:\n",
    "        money += gb_user * df_tarrifs.query('tariff_name == @tariff')['rub_per_gb']\n",
    "    money += (df_tarrifs.query('tariff_name == @tariff')['rub_monthly_fee'])\n",
    "    return money\n",
    "df_all"
   ]
  },
  {
   "cell_type": "markdown",
   "metadata": {},
   "source": [
    "### Вывод к разделу"
   ]
  },
  {
   "cell_type": "markdown",
   "metadata": {},
   "source": [
    "Была создана объединенная таблица df_all с количеством строк - 3214 и 9-ю столбцами. \n",
    "- для каждого пользователя рассчитаны по месяцам количество и общая длительность исходящих вызовов, количество отправленных сообщений и объем трафика. \n",
    "- рассчитана выручка по каждому пользователю по месяцам\n",
    "- для дальнейшего исследования в таблицу добавлен столбцы с информацией о городе проживания пользователя и тарифе. \n",
    "- пропуски в объединенной таблице заменены нулями: так как их отсутсвие может означать, что такого действия пользователь в течение месяца не производил\n",
    "- данные приведены к целочисленному типу в столбцах calss_count, calls_duration, all_messages, profit."
   ]
  },
  {
   "cell_type": "markdown",
   "metadata": {},
   "source": [
    "## Анализ данных"
   ]
  },
  {
   "cell_type": "markdown",
   "metadata": {},
   "source": [
    "**План для выполнения данного раздела проекта**: Опишите поведение клиентов оператора, исходя из выборки. Сколько минут разговора, сколько сообщений и какой объём интернет-трафика требуется пользователям каждого тарифа в месяц? Посчитайте среднее количество, дисперсию и стандартное отклонение. Постройте гистограммы. Опишите распределения."
   ]
  },
  {
   "cell_type": "markdown",
   "metadata": {},
   "source": [
    "Создадим сводную таблицу средним, дисперсией и стандартным отклонением для каждой метрики определенного тарифа."
   ]
  },
  {
   "cell_type": "code",
   "execution_count": 50,
   "metadata": {},
   "outputs": [
    {
     "data": {
      "text/html": [
       "<div>\n",
       "<style scoped>\n",
       "    .dataframe tbody tr th:only-of-type {\n",
       "        vertical-align: middle;\n",
       "    }\n",
       "\n",
       "    .dataframe tbody tr th {\n",
       "        vertical-align: top;\n",
       "    }\n",
       "\n",
       "    .dataframe thead th {\n",
       "        text-align: right;\n",
       "    }\n",
       "</style>\n",
       "<table border=\"1\" class=\"dataframe\">\n",
       "  <thead>\n",
       "    <tr style=\"text-align: right;\">\n",
       "      <th></th>\n",
       "      <th>tariff</th>\n",
       "      <th>smart</th>\n",
       "      <th>ultra</th>\n",
       "    </tr>\n",
       "  </thead>\n",
       "  <tbody>\n",
       "    <tr>\n",
       "      <td rowspan=\"3\" valign=\"top\">mean</td>\n",
       "      <td>all_messages</td>\n",
       "      <td>33.384029</td>\n",
       "      <td>49.363452</td>\n",
       "    </tr>\n",
       "    <tr>\n",
       "      <td>calls_duration</td>\n",
       "      <td>417.934948</td>\n",
       "      <td>526.623350</td>\n",
       "    </tr>\n",
       "    <tr>\n",
       "      <td>gb_used</td>\n",
       "      <td>16.328847</td>\n",
       "      <td>19.494416</td>\n",
       "    </tr>\n",
       "    <tr>\n",
       "      <td rowspan=\"3\" valign=\"top\">var</td>\n",
       "      <td>all_messages</td>\n",
       "      <td>796.812958</td>\n",
       "      <td>2285.266143</td>\n",
       "    </tr>\n",
       "    <tr>\n",
       "      <td>calls_duration</td>\n",
       "      <td>36219.315784</td>\n",
       "      <td>100873.633397</td>\n",
       "    </tr>\n",
       "    <tr>\n",
       "      <td>gb_used</td>\n",
       "      <td>33.028705</td>\n",
       "      <td>97.091686</td>\n",
       "    </tr>\n",
       "    <tr>\n",
       "      <td rowspan=\"3\" valign=\"top\">std</td>\n",
       "      <td>all_messages</td>\n",
       "      <td>28.227876</td>\n",
       "      <td>47.804457</td>\n",
       "    </tr>\n",
       "    <tr>\n",
       "      <td>calls_duration</td>\n",
       "      <td>190.313730</td>\n",
       "      <td>317.606098</td>\n",
       "    </tr>\n",
       "    <tr>\n",
       "      <td>gb_used</td>\n",
       "      <td>5.747061</td>\n",
       "      <td>9.853511</td>\n",
       "    </tr>\n",
       "  </tbody>\n",
       "</table>\n",
       "</div>"
      ],
      "text/plain": [
       "tariff                      smart          ultra\n",
       "mean all_messages       33.384029      49.363452\n",
       "     calls_duration    417.934948     526.623350\n",
       "     gb_used            16.328847      19.494416\n",
       "var  all_messages      796.812958    2285.266143\n",
       "     calls_duration  36219.315784  100873.633397\n",
       "     gb_used            33.028705      97.091686\n",
       "std  all_messages       28.227876      47.804457\n",
       "     calls_duration    190.313730     317.606098\n",
       "     gb_used             5.747061       9.853511"
      ]
     },
     "execution_count": 50,
     "metadata": {},
     "output_type": "execute_result"
    }
   ],
   "source": [
    "tariff_stat_df = df_all.pivot_table(index = 'tariff', values = ['calls_duration','all_messages',\n",
    "                                                        'gb_used'], aggfunc = ['mean', np.var, np.std])\n",
    "tariff_stat_df.T"
   ]
  },
  {
   "cell_type": "markdown",
   "metadata": {},
   "source": [
    "Построим графики для каждого изучаемого показателя, чтобы наглядно увидеть как распредедны данные"
   ]
  },
  {
   "cell_type": "code",
   "execution_count": 51,
   "metadata": {},
   "outputs": [
    {
     "data": {
      "text/plain": [
       "Text(0.5, 1.0, 'Распределение трафика среди пользователей тарифами')"
      ]
     },
     "execution_count": 51,
     "metadata": {},
     "output_type": "execute_result"
    },
    {
     "data": {
      "image/png": "[encoded data removed]",
      "text/plain": [
       "<Figure size 1008x504 with 1 Axes>"
      ]
     },
     "metadata": {
      "needs_background": "light"
     },
     "output_type": "display_data"
    }
   ],
   "source": [
    "smart = df_all.query(\"tariff == 'smart'\")\n",
    "ultra = df_all.query(\"tariff == 'ultra'\")\n",
    "plt.figure(figsize=(14, 7))\n",
    "sns.set_style('darkgrid')\n",
    "sns.distplot(smart['gb_used'], bins=30, hist = True, kde=False)\n",
    "sns.distplot(ultra['gb_used'], bins=30, hist = True, kde=False)\n",
    "plt.legend(['smart', 'ultra'])\n",
    "plt.xlabel('Количество гигабайт')\n",
    "plt.ylabel('Количество пользователей')\n",
    "plt.title('Распределение трафика среди пользователей тарифами')"
   ]
  },
  {
   "cell_type": "code",
   "execution_count": 52,
   "metadata": {},
   "outputs": [
    {
     "data": {
      "text/plain": [
       "count    2229.000000\n",
       "mean       16.328847\n",
       "std         5.747061\n",
       "min         0.000000\n",
       "25%        13.000000\n",
       "50%        17.000000\n",
       "75%        20.000000\n",
       "max        38.000000\n",
       "Name: gb_used, dtype: float64"
      ]
     },
     "execution_count": 52,
     "metadata": {},
     "output_type": "execute_result"
    }
   ],
   "source": [
    "smart['gb_used'].describe().T"
   ]
  },
  {
   "cell_type": "code",
   "execution_count": 53,
   "metadata": {},
   "outputs": [
    {
     "data": {
      "text/plain": [
       "count    985.000000\n",
       "mean      19.494416\n",
       "std        9.853511\n",
       "min        0.000000\n",
       "25%       12.000000\n",
       "50%       19.000000\n",
       "75%       27.000000\n",
       "max       49.000000\n",
       "Name: gb_used, dtype: float64"
      ]
     },
     "execution_count": 53,
     "metadata": {},
     "output_type": "execute_result"
    }
   ],
   "source": [
    "ultra['gb_used'].describe().T"
   ]
  },
  {
   "cell_type": "code",
   "execution_count": 54,
   "metadata": {},
   "outputs": [
    {
     "data": {
      "text/plain": [
       "Text(0.5, 1.0, 'Распределение продолжительности разговоров среди пользователей тарифами')"
      ]
     },
     "execution_count": 54,
     "metadata": {},
     "output_type": "execute_result"
    },
    {
     "data": {
      "image/png": "[encoded data removed]",
      "text/plain": [
       "<Figure size 1008x504 with 1 Axes>"
      ]
     },
     "metadata": {},
     "output_type": "display_data"
    }
   ],
   "source": [
    "smart = df_all.query(\"tariff == 'smart'\")\n",
    "ultra = df_all.query(\"tariff == 'ultra'\")\n",
    "plt.figure(figsize=(14, 7))\n",
    "sns.set_style('darkgrid')\n",
    "sns.distplot(smart['calls_duration'], bins=30, hist = True, kde=False)\n",
    "sns.distplot(ultra['calls_duration'], bins=30, hist = True, kde=False)\n",
    "plt.legend(['smart', 'ultra'])\n",
    "plt.xlabel('Количество минут')\n",
    "plt.ylabel('Количество пользователей')\n",
    "plt.title('Распределение продолжительности разговоров среди пользователей тарифами')"
   ]
  },
  {
   "cell_type": "code",
   "execution_count": 55,
   "metadata": {},
   "outputs": [
    {
     "data": {
      "text/plain": [
       "count    2229.000000\n",
       "mean      417.934948\n",
       "std       190.313730\n",
       "min         0.000000\n",
       "25%       282.000000\n",
       "50%       422.000000\n",
       "75%       545.000000\n",
       "max      1435.000000\n",
       "Name: calls_duration, dtype: float64"
      ]
     },
     "execution_count": 55,
     "metadata": {},
     "output_type": "execute_result"
    }
   ],
   "source": [
    "smart['calls_duration'].describe().T"
   ]
  },
  {
   "cell_type": "code",
   "execution_count": 56,
   "metadata": {},
   "outputs": [
    {
     "data": {
      "text/plain": [
       "count     985.000000\n",
       "mean      526.623350\n",
       "std       317.606098\n",
       "min         0.000000\n",
       "25%       284.000000\n",
       "50%       518.000000\n",
       "75%       752.000000\n",
       "max      1673.000000\n",
       "Name: calls_duration, dtype: float64"
      ]
     },
     "execution_count": 56,
     "metadata": {},
     "output_type": "execute_result"
    }
   ],
   "source": [
    "ultra['calls_duration'].describe().T"
   ]
  },
  {
   "cell_type": "code",
   "execution_count": 57,
   "metadata": {},
   "outputs": [
    {
     "data": {
      "text/plain": [
       "Text(0.5, 1.0, 'Распределение количества отправленных сообщений среди пользователей тарифами')"
      ]
     },
     "execution_count": 57,
     "metadata": {},
     "output_type": "execute_result"
    },
    {
     "data": {
      "image/png": "[encoded data removed]",
      "text/plain": [
       "<Figure size 1008x504 with 1 Axes>"
      ]
     },
     "metadata": {},
     "output_type": "display_data"
    }
   ],
   "source": [
    "smart = df_all.query(\"tariff == 'smart'\")\n",
    "ultra = df_all.query(\"tariff == 'ultra'\")\n",
    "plt.figure(figsize=(14, 7))\n",
    "sns.set_style('darkgrid')\n",
    "sns.distplot(smart['all_messages'], bins=30, hist = True, kde=False)\n",
    "sns.distplot(ultra['all_messages'], bins=30, hist = True, kde=False)\n",
    "plt.legend(['smart', 'ultra'])\n",
    "plt.xlabel('Количество сообщений')\n",
    "plt.ylabel('Количество пользователей')\n",
    "plt.title('Распределение количества отправленных сообщений среди пользователей тарифами')"
   ]
  },
  {
   "cell_type": "code",
   "execution_count": 58,
   "metadata": {},
   "outputs": [
    {
     "data": {
      "text/plain": [
       "count    2229.000000\n",
       "mean       33.384029\n",
       "std        28.227876\n",
       "min         0.000000\n",
       "25%        10.000000\n",
       "50%        28.000000\n",
       "75%        51.000000\n",
       "max       143.000000\n",
       "Name: all_messages, dtype: float64"
      ]
     },
     "execution_count": 58,
     "metadata": {},
     "output_type": "execute_result"
    }
   ],
   "source": [
    "smart['all_messages'].describe().T"
   ]
  },
  {
   "cell_type": "code",
   "execution_count": 59,
   "metadata": {},
   "outputs": [
    {
     "data": {
      "text/plain": [
       "count    985.000000\n",
       "mean      49.363452\n",
       "std       47.804457\n",
       "min        0.000000\n",
       "25%        6.000000\n",
       "50%       38.000000\n",
       "75%       79.000000\n",
       "max      224.000000\n",
       "Name: all_messages, dtype: float64"
      ]
     },
     "execution_count": 59,
     "metadata": {},
     "output_type": "execute_result"
    }
   ],
   "source": [
    "ultra['all_messages'].describe().T"
   ]
  },
  {
   "cell_type": "code",
   "execution_count": 60,
   "metadata": {},
   "outputs": [
    {
     "data": {
      "image/png": "[encoded data removed]",
      "text/plain": [
       "<Figure size 1080x360 with 1 Axes>"
      ]
     },
     "metadata": {},
     "output_type": "display_data"
    }
   ],
   "source": [
    "df_all.groupby('tariff')['profit'].agg(['median','mean']).plot(kind='bar', \n",
    "                                                     figsize=(15,5), \n",
    "                                                     title='Средняя выручка с каждого тарифа');"
   ]
  },
  {
   "cell_type": "code",
   "execution_count": 61,
   "metadata": {},
   "outputs": [
    {
     "data": {
      "image/png": "[encoded data removed]",
      "text/plain": [
       "<Figure size 1080x360 with 1 Axes>"
      ]
     },
     "metadata": {},
     "output_type": "display_data"
    }
   ],
   "source": [
    "df_all.groupby('tariff')['profit'].agg(['sum']).plot(kind='bar', \n",
    "                                                     figsize=(15,5), \n",
    "                                                     title='Средняя выручка с каждого тарифа');"
   ]
  },
  {
   "cell_type": "markdown",
   "metadata": {},
   "source": [
    "### Вывод к разделу"
   ]
  },
  {
   "cell_type": "markdown",
   "metadata": {},
   "source": [
    "Исходя из анализа данных о тарифах можно сделать следующие выводы:\n",
    "\n",
    "- **Среднее**\n",
    "\n",
    "Средние значения по отправляемым сообщением, трафику и продолжительности звонков выше в тарифе ultra, чем в тарифе smart.\n",
    "\n",
    "- **Дисперсия** \n",
    "\n",
    "Значение дисперсии тарифа ultra в разы превышает значения для тарифа smart для каждого из изучаемого показтелей. \n",
    "\n",
    "- **Стандартное отклонение**\n",
    "Стандартное отклонение выше по всем изучаемым показателеям выше в тарифе ultra, нежели в тарифе smart.\n",
    "\n",
    "***Полученные бОльшие значения среднего, дисперсии и стандартного отклонения в тарифе ultra можно связать с большим включенным  количествами минут, сообщений и трафика в данный тарифный план***.\n",
    "\n",
    "**Распределение значений**\n",
    "\n",
    "- Распределение значений тарифа smart и ultra для показателей трафика и продолжительнотси звонков стремится к нормальному.\n",
    "Распредление значений трафика в тарифе smart в основном лежит в диапозоне от 10 до 20 гб, с явными пиками в 15 и 20 гб. Чаще всего пользователи тратят 15 гб (столько и включено в тарифный пакет) и 20 гб (можно сделать вывод, что 15 Гб, включенных в тариф, пользоваетлям явно не хватает и они докупают дополнительные гигабайты).\n",
    "- В распредление значений трафика в тарифе ultra нет явных пиков, так как у пользователей большой включенный трафик и распределение лежит в широком диапозоне от 1 до 30 гб. Из графика видно, что пользователи редко докупают дополнительный трафик, многим 30 Гб хватает на месяц.\n",
    "\n",
    "- Распредление значений продолжительности минут в тарифе smart в основном лежит в диапозоне от 200 до 600 минут, с пиками в районе 400-500 минут при включенных в пакет в 500 минутах, а 25 % процентам пользователям явно не хватает минут и они докупают их.\n",
    "- В распредлении значений использования минут в тарифе ultra нет явных пиков, так как у пользователей включено большое кол-во минут - 3000. Из-за этого данные равномерно распределены в широком диапозоне от 100 до 1200 мин, в совокупности нет пользователей, которые докупали бы дополнительно минуты.\n",
    "\n",
    "- Распределение значений отправленных сообщений практически одинакова в обоих случаях: пик возле нуля и равномерное уменьшение частоты встречаемых значений. 25 % процентам пользователям тарифа smart не хватало включенных 30 сообщений в тарифный план и они докупали дополнительный лимит. \n",
    "- Большое кол-во нулевых значений в даннвх, говорит о том, что SMS становиться редкостью, так как популярнее и популярнее становятся мессенджеры.\n",
    "\n",
    "**Анализ выручки**\n",
    "\n",
    "- Средняя выручка тарифа ultra выше, чем у тарифа smart, 1280 руб у тарифа smart против 2070 рублей у тарифа ultra. Но суммарная выручка больше у тарифа smart, чем у тарифа ultra. БОльшая суммарная выручка связана с большим коичеством пользователей, а бОльшая средняя вырчка у тарифа ultra связана наоброт с меньшим кличеством пользователей."
   ]
  },
  {
   "cell_type": "markdown",
   "metadata": {},
   "source": [
    "## Проверка гипотез"
   ]
  },
  {
   "cell_type": "markdown",
   "metadata": {},
   "source": [
    "### Гипотеза №1: средняя выручка пользователей тарифов «Ультра» и «Смарт» различаются\n"
   ]
  },
  {
   "cell_type": "markdown",
   "metadata": {},
   "source": [
    "**Формулировка нулевой гипотезы:**\n",
    "Средняя выручка пользователей тарифа \"Смарт\" равна средней выручке пользователей тарифа \"Ультра\"\n",
    "\n",
    "**Формулировка альтернативной гипотезы:**\n",
    "Средняя выручка пользователей тарифов «Ультра» и «Смарт» различается\n",
    "\n",
    "**Уровень значимости выберем равным в 0.05**\n",
    "\n",
    "При использовании метода st.ttest_ind для параметра equal_var определим значение False. Так как из предыдущего пункта преокта видно, что дисперсия для пользователей разных тарифов значимо отличаются друг от друга."
   ]
  },
  {
   "cell_type": "code",
   "execution_count": 62,
   "metadata": {},
   "outputs": [
    {
     "name": "stdout",
     "output_type": "stream",
     "text": [
      "p-значение: 4.2606313931076085e-250\n",
      "Отвергаем нулевую гипотезу\n"
     ]
    }
   ],
   "source": [
    "alpha = 0.05\n",
    "\n",
    "results = st.ttest_ind(smart['profit'], ultra['profit'], equal_var = False)\n",
    "\n",
    "print('p-значение:', results.pvalue)\n",
    "\n",
    "if (results.pvalue < alpha):\n",
    "    print(\"Отвергаем нулевую гипотезу\")\n",
    "else:\n",
    "    print(\"Не получилось отвергнуть нулевую гипотезу\")"
   ]
  },
  {
   "cell_type": "markdown",
   "metadata": {},
   "source": [
    "Убидимся наглядно, есть ли разница в выручке, посмотрим среднее."
   ]
  },
  {
   "cell_type": "code",
   "execution_count": 63,
   "metadata": {},
   "outputs": [
    {
     "name": "stdout",
     "output_type": "stream",
     "text": [
      "Среднее для выборки с пользователями тарифа smart: 1289.9735307312696\n",
      "Среднее для выборки с пользователями тарифа ultra: 2070.1522842639592\n"
     ]
    }
   ],
   "source": [
    "print('Среднее для выборки с пользователями тарифа smart:', smart['profit'].mean())\n",
    "print('Среднее для выборки с пользователями тарифа ultra:', ultra['profit'].mean())"
   ]
  },
  {
   "cell_type": "markdown",
   "metadata": {},
   "source": [
    "Отвергаем нулевую гипотезу, о том что средняя выручка пользователей тарифа smart равна средней выручке пользоватлей тарифа ultra. По среднему значению заметно, что выручка с пользователей тарифа ultra почти в 2 раза больше, чем выручка с пользователей тарифа smart."
   ]
  },
  {
   "cell_type": "markdown",
   "metadata": {},
   "source": [
    "### Гипотеза №2: средняя выручка пользователей из Москвы отличается от выручки пользователей из других регионов."
   ]
  },
  {
   "cell_type": "markdown",
   "metadata": {},
   "source": [
    "**Формулировка нулевой гипотезы:**\n",
    "Средняя выручка пользователей из Москвы равна средней выручке пользователей из других регионов\n",
    "\n",
    "**Формулировка альтернативной гипотезы:**\n",
    "Средняя выручка пользователей из Москвы отличается от выручки пользователей из других регионов\n",
    "\n",
    "**Уровень значимости выберем равным в 0.05**\n",
    "\n",
    "При использовании метода st.ttest_ind для параметра equal_var определим значение False. Так как из предыдущего пункта преокта видно, что дисперсия для пользователей разных тарифов значимо отличаются друг от друга."
   ]
  },
  {
   "cell_type": "markdown",
   "metadata": {},
   "source": [
    "Создадим выборки для Московских пользователей и для остальных регионов"
   ]
  },
  {
   "cell_type": "code",
   "execution_count": 64,
   "metadata": {},
   "outputs": [],
   "source": [
    "moscow = df_all.query('city == \"москва\"')\n",
    "others_regions = df_all.query('city != \"москва\"')"
   ]
  },
  {
   "cell_type": "code",
   "execution_count": 65,
   "metadata": {},
   "outputs": [
    {
     "data": {
      "text/html": [
       "<div>\n",
       "<style scoped>\n",
       "    .dataframe tbody tr th:only-of-type {\n",
       "        vertical-align: middle;\n",
       "    }\n",
       "\n",
       "    .dataframe tbody tr th {\n",
       "        vertical-align: top;\n",
       "    }\n",
       "\n",
       "    .dataframe thead th {\n",
       "        text-align: right;\n",
       "    }\n",
       "</style>\n",
       "<table border=\"1\" class=\"dataframe\">\n",
       "  <thead>\n",
       "    <tr style=\"text-align: right;\">\n",
       "      <th></th>\n",
       "      <th>user_id</th>\n",
       "      <th>month</th>\n",
       "      <th>calls_count</th>\n",
       "      <th>calls_duration</th>\n",
       "      <th>all_messages</th>\n",
       "      <th>gb_used</th>\n",
       "      <th>tariff</th>\n",
       "      <th>city</th>\n",
       "      <th>profit</th>\n",
       "    </tr>\n",
       "  </thead>\n",
       "  <tbody>\n",
       "    <tr>\n",
       "      <td>8</td>\n",
       "      <td>1001</td>\n",
       "      <td>11</td>\n",
       "      <td>59</td>\n",
       "      <td>430</td>\n",
       "      <td>0</td>\n",
       "      <td>18</td>\n",
       "      <td>smart</td>\n",
       "      <td>москва</td>\n",
       "      <td>1150</td>\n",
       "    </tr>\n",
       "    <tr>\n",
       "      <td>9</td>\n",
       "      <td>1001</td>\n",
       "      <td>12</td>\n",
       "      <td>63</td>\n",
       "      <td>414</td>\n",
       "      <td>0</td>\n",
       "      <td>14</td>\n",
       "      <td>smart</td>\n",
       "      <td>москва</td>\n",
       "      <td>550</td>\n",
       "    </tr>\n",
       "    <tr>\n",
       "      <td>17</td>\n",
       "      <td>1003</td>\n",
       "      <td>8</td>\n",
       "      <td>55</td>\n",
       "      <td>380</td>\n",
       "      <td>37</td>\n",
       "      <td>9</td>\n",
       "      <td>ultra</td>\n",
       "      <td>москва</td>\n",
       "      <td>1950</td>\n",
       "    </tr>\n",
       "    <tr>\n",
       "      <td>18</td>\n",
       "      <td>1003</td>\n",
       "      <td>9</td>\n",
       "      <td>134</td>\n",
       "      <td>961</td>\n",
       "      <td>91</td>\n",
       "      <td>13</td>\n",
       "      <td>ultra</td>\n",
       "      <td>москва</td>\n",
       "      <td>1950</td>\n",
       "    </tr>\n",
       "    <tr>\n",
       "      <td>19</td>\n",
       "      <td>1003</td>\n",
       "      <td>10</td>\n",
       "      <td>108</td>\n",
       "      <td>855</td>\n",
       "      <td>83</td>\n",
       "      <td>15</td>\n",
       "      <td>ultra</td>\n",
       "      <td>москва</td>\n",
       "      <td>1950</td>\n",
       "    </tr>\n",
       "  </tbody>\n",
       "</table>\n",
       "</div>"
      ],
      "text/plain": [
       "    user_id  month  calls_count  calls_duration  all_messages  gb_used tariff  \\\n",
       "8      1001     11           59             430             0       18  smart   \n",
       "9      1001     12           63             414             0       14  smart   \n",
       "17     1003      8           55             380            37        9  ultra   \n",
       "18     1003      9          134             961            91       13  ultra   \n",
       "19     1003     10          108             855            83       15  ultra   \n",
       "\n",
       "      city  profit  \n",
       "8   москва    1150  \n",
       "9   москва     550  \n",
       "17  москва    1950  \n",
       "18  москва    1950  \n",
       "19  москва    1950  "
      ]
     },
     "execution_count": 65,
     "metadata": {},
     "output_type": "execute_result"
    }
   ],
   "source": [
    "moscow.head()"
   ]
  },
  {
   "cell_type": "code",
   "execution_count": 66,
   "metadata": {},
   "outputs": [
    {
     "data": {
      "text/html": [
       "<div>\n",
       "<style scoped>\n",
       "    .dataframe tbody tr th:only-of-type {\n",
       "        vertical-align: middle;\n",
       "    }\n",
       "\n",
       "    .dataframe tbody tr th {\n",
       "        vertical-align: top;\n",
       "    }\n",
       "\n",
       "    .dataframe thead th {\n",
       "        text-align: right;\n",
       "    }\n",
       "</style>\n",
       "<table border=\"1\" class=\"dataframe\">\n",
       "  <thead>\n",
       "    <tr style=\"text-align: right;\">\n",
       "      <th></th>\n",
       "      <th>user_id</th>\n",
       "      <th>month</th>\n",
       "      <th>calls_count</th>\n",
       "      <th>calls_duration</th>\n",
       "      <th>all_messages</th>\n",
       "      <th>gb_used</th>\n",
       "      <th>tariff</th>\n",
       "      <th>city</th>\n",
       "      <th>profit</th>\n",
       "    </tr>\n",
       "  </thead>\n",
       "  <tbody>\n",
       "    <tr>\n",
       "      <td>0</td>\n",
       "      <td>1000</td>\n",
       "      <td>5</td>\n",
       "      <td>22</td>\n",
       "      <td>159</td>\n",
       "      <td>22</td>\n",
       "      <td>3</td>\n",
       "      <td>ultra</td>\n",
       "      <td>краснодар</td>\n",
       "      <td>1950</td>\n",
       "    </tr>\n",
       "    <tr>\n",
       "      <td>1</td>\n",
       "      <td>1000</td>\n",
       "      <td>6</td>\n",
       "      <td>43</td>\n",
       "      <td>172</td>\n",
       "      <td>60</td>\n",
       "      <td>23</td>\n",
       "      <td>ultra</td>\n",
       "      <td>краснодар</td>\n",
       "      <td>1950</td>\n",
       "    </tr>\n",
       "    <tr>\n",
       "      <td>2</td>\n",
       "      <td>1000</td>\n",
       "      <td>7</td>\n",
       "      <td>47</td>\n",
       "      <td>340</td>\n",
       "      <td>75</td>\n",
       "      <td>14</td>\n",
       "      <td>ultra</td>\n",
       "      <td>краснодар</td>\n",
       "      <td>1950</td>\n",
       "    </tr>\n",
       "    <tr>\n",
       "      <td>3</td>\n",
       "      <td>1000</td>\n",
       "      <td>8</td>\n",
       "      <td>52</td>\n",
       "      <td>408</td>\n",
       "      <td>81</td>\n",
       "      <td>14</td>\n",
       "      <td>ultra</td>\n",
       "      <td>краснодар</td>\n",
       "      <td>1950</td>\n",
       "    </tr>\n",
       "    <tr>\n",
       "      <td>4</td>\n",
       "      <td>1000</td>\n",
       "      <td>9</td>\n",
       "      <td>58</td>\n",
       "      <td>466</td>\n",
       "      <td>57</td>\n",
       "      <td>15</td>\n",
       "      <td>ultra</td>\n",
       "      <td>краснодар</td>\n",
       "      <td>1950</td>\n",
       "    </tr>\n",
       "  </tbody>\n",
       "</table>\n",
       "</div>"
      ],
      "text/plain": [
       "   user_id  month  calls_count  calls_duration  all_messages  gb_used tariff  \\\n",
       "0     1000      5           22             159            22        3  ultra   \n",
       "1     1000      6           43             172            60       23  ultra   \n",
       "2     1000      7           47             340            75       14  ultra   \n",
       "3     1000      8           52             408            81       14  ultra   \n",
       "4     1000      9           58             466            57       15  ultra   \n",
       "\n",
       "        city  profit  \n",
       "0  краснодар    1950  \n",
       "1  краснодар    1950  \n",
       "2  краснодар    1950  \n",
       "3  краснодар    1950  \n",
       "4  краснодар    1950  "
      ]
     },
     "execution_count": 66,
     "metadata": {},
     "output_type": "execute_result"
    }
   ],
   "source": [
    "others_regions.head()"
   ]
  },
  {
   "cell_type": "code",
   "execution_count": 67,
   "metadata": {},
   "outputs": [
    {
     "name": "stdout",
     "output_type": "stream",
     "text": [
      "p-значение: 0.5440152911670224\n",
      "Не получилось отвергнуть нулевую гипотезу\n"
     ]
    }
   ],
   "source": [
    "alpha = 0.05\n",
    "\n",
    "results = st.ttest_ind(moscow['profit'], others_regions['profit'])\n",
    "\n",
    "print('p-значение:', results.pvalue)\n",
    "\n",
    "if (results.pvalue < alpha):\n",
    "    print(\"Отвергаем нулевую гипотезу\")\n",
    "else:\n",
    "    print(\"Не получилось отвергнуть нулевую гипотезу\")"
   ]
  },
  {
   "cell_type": "markdown",
   "metadata": {},
   "source": [
    "Посмотрим дисперсию, среднее и стандартное отклонение для этих двух выборок и сравним их"
   ]
  },
  {
   "cell_type": "code",
   "execution_count": 68,
   "metadata": {},
   "outputs": [
    {
     "name": "stdout",
     "output_type": "stream",
     "text": [
      "Среднее для выборки с пользователями из города Москвы: 1546.7135842880523\n",
      "Среднее для выборки с пользователями из остальных регионов: 1524.9362274298885\n",
      "\n",
      "Дисперсия для выборки с пользователями из города Москвы: 564710.7117467273\n",
      "Дисперсия для выборки с пользователями из остальных регионов: 653886.3270894174\n",
      "\n",
      "Стандартное отклонение для выборки с пользователями из города Москвы: 751.4723625967407\n",
      "Стандартное отклонение для выборки с пользователями из остальных регионов: 808.6323806832233\n"
     ]
    }
   ],
   "source": [
    "print('Среднее для выборки с пользователями из города Москвы:', moscow['profit'].mean())\n",
    "print('Среднее для выборки с пользователями из остальных регионов:', others_regions['profit'].mean())\n",
    "print()\n",
    "print('Дисперсия для выборки с пользователями из города Москвы:', np.var(moscow['profit']))\n",
    "print('Дисперсия для выборки с пользователями из остальных регионов:', np.var(others_regions['profit']))\n",
    "print()\n",
    "print('Стандартное отклонение для выборки с пользователями из города Москвы:', np.std(moscow['profit']))\n",
    "print('Стандартное отклонение для выборки с пользователями из остальных регионов:', np.std(others_regions['profit']))"
   ]
  },
  {
   "cell_type": "markdown",
   "metadata": {},
   "source": [
    "Вероятность составляет 48,4% - не получилось отвергнуть нулевую гипотезу. Это значит, что средняя выручка пользователей из Москвы не отличается от выручки из других регионов вне зависимости от тарифа. "
   ]
  },
  {
   "cell_type": "markdown",
   "metadata": {},
   "source": [
    "## Общий вывод"
   ]
  },
  {
   "cell_type": "markdown",
   "metadata": {},
   "source": [
    "В ходе работы было выполнено:\n",
    "- обзор данных в  предоставленных для анализа датасетов.\n",
    "- предообработка данных в датасетах, были заменены типы данных, удалены ненужные столбцы, заменены пропуски.\n",
    "- создан объединенный датасет со средней выручкой в месяц в зависимости от тарифа, а также для каждого пользователя рассчитаны по месяцам количество и общая длительность исходящих вызовов, количество отправленных сообщений и объем интернет-трафика.\n",
    "- анализируя показатели по каждому показателю (продолжительность звонков, кол-во отпралвенных сообщений, объем потраченного трафика) того или иного тарифа было выявлено, что около 25 % пользователей тарифа smart допокупают дополнительные минуты и гигабайты - им не хватает доступного лимита, в то же время пользователи ultra не покупают допольнительные минуты и гигабайты, а многие пользователи и половины доступного лимита не умпевают израсходовать в течение месяца.\n",
    "- интернетом абоненты тарифа ultra пользуются гораздо активнее, средний объем трафика - 19 гб, возможно, пользователи ultra и выбирают этот тариф из-за большего интернет-трафика.\n",
    "- было выявлено, что SMS теряют популярность, вследствие чего оператор может предлагать их большее количество в рамках пакетных предложений.\n",
    "- средняя выручка от пользователей тарифа ultrа равна - 2070 руб, что почти в 2 раза выше, чем от пользователей smart, их средняя выручка - 1258 руб, хотя тарифом smart пользуется в два раза больше людей - тарифом smart пользуются 351 человек, а тарифом ultra - 149 человек. \n",
    "- нет зависимотсти от того, где живет пользователь в Москве или любом другом регионе, на связь в среднем он будет тратить примерно одинаковые суммы.\n",
    "\n",
    "Отвечая на главный вопрос проекта, какой тариф перспективнее для телеком-компании, можно ответить, что Тариф ultra, так как он приносит компании большую выручку. Но возможно стоит задуматьмя телеком-компании о создании еще одного тарифа, который включал бы в себя меньший объем трафика и минут, чем для Ultra и большим, чем для Smart и сделать его оптимальным по цене тем самым охватить больший сегмент абонентов."
   ]
  }
 ],
 "metadata": {
  "ExecuteTimeLog": [
   {
    "duration": 95,
    "start_time": "2022-01-19T11:06:53.386Z"
   },
   {
    "duration": 1047,
    "start_time": "2022-01-19T11:07:04.442Z"
   },
   {
    "duration": 90,
    "start_time": "2022-01-19T11:07:35.928Z"
   },
   {
    "duration": 403,
    "start_time": "2022-01-19T11:10:48.336Z"
   },
   {
    "duration": 9,
    "start_time": "2022-01-19T11:10:56.209Z"
   },
   {
    "duration": 367,
    "start_time": "2022-01-19T11:11:04.968Z"
   },
   {
    "duration": 10,
    "start_time": "2022-01-19T11:11:06.088Z"
   },
   {
    "duration": 5667,
    "start_time": "2022-01-19T11:11:21.968Z"
   },
   {
    "duration": 10,
    "start_time": "2022-01-19T11:11:27.637Z"
   },
   {
    "duration": 13,
    "start_time": "2022-01-19T11:11:29.915Z"
   },
   {
    "duration": 364,
    "start_time": "2022-01-19T11:13:13.345Z"
   },
   {
    "duration": 371,
    "start_time": "2022-01-19T11:13:16.726Z"
   },
   {
    "duration": 9,
    "start_time": "2022-01-19T11:13:17.785Z"
   },
   {
    "duration": 8,
    "start_time": "2022-01-19T11:13:24.865Z"
   },
   {
    "duration": 278,
    "start_time": "2022-01-19T11:13:31.766Z"
   },
   {
    "duration": 11,
    "start_time": "2022-01-19T11:13:43.177Z"
   },
   {
    "duration": 3,
    "start_time": "2022-01-19T14:30:22.224Z"
   },
   {
    "duration": 556,
    "start_time": "2022-01-19T14:30:38.330Z"
   },
   {
    "duration": 3,
    "start_time": "2022-01-19T14:41:56.021Z"
   },
   {
    "duration": 557,
    "start_time": "2022-01-19T14:41:56.980Z"
   },
   {
    "duration": 3,
    "start_time": "2022-01-19T14:42:08.230Z"
   },
   {
    "duration": 542,
    "start_time": "2022-01-19T14:42:10.267Z"
   },
   {
    "duration": 3,
    "start_time": "2022-01-19T14:42:46.358Z"
   },
   {
    "duration": 126,
    "start_time": "2022-01-19T14:42:47.350Z"
   },
   {
    "duration": 3,
    "start_time": "2022-01-19T14:43:19.910Z"
   },
   {
    "duration": 120,
    "start_time": "2022-01-19T14:43:21.378Z"
   },
   {
    "duration": 75,
    "start_time": "2022-01-19T16:15:24.988Z"
   },
   {
    "duration": 4,
    "start_time": "2022-01-19T16:16:39.625Z"
   },
   {
    "duration": 1030,
    "start_time": "2022-01-19T16:16:47.061Z"
   },
   {
    "duration": 402,
    "start_time": "2022-01-19T16:16:48.269Z"
   },
   {
    "duration": 3,
    "start_time": "2022-01-19T16:16:49.652Z"
   },
   {
    "duration": 12,
    "start_time": "2022-01-19T16:16:50.487Z"
   },
   {
    "duration": 4,
    "start_time": "2022-01-19T16:18:15.969Z"
   },
   {
    "duration": 166,
    "start_time": "2022-01-19T16:18:18.003Z"
   },
   {
    "duration": 4,
    "start_time": "2022-01-19T16:18:30.853Z"
   },
   {
    "duration": 161,
    "start_time": "2022-01-19T16:18:31.525Z"
   },
   {
    "duration": 3,
    "start_time": "2022-01-19T16:18:42.850Z"
   },
   {
    "duration": 147,
    "start_time": "2022-01-19T16:18:44.219Z"
   },
   {
    "duration": 4,
    "start_time": "2022-01-19T16:19:16.420Z"
   },
   {
    "duration": 167,
    "start_time": "2022-01-19T16:19:17.303Z"
   },
   {
    "duration": 3,
    "start_time": "2022-01-19T16:19:25.397Z"
   },
   {
    "duration": 168,
    "start_time": "2022-01-19T16:19:25.847Z"
   },
   {
    "duration": 3,
    "start_time": "2022-01-19T16:19:33.581Z"
   },
   {
    "duration": 159,
    "start_time": "2022-01-19T16:19:34.348Z"
   },
   {
    "duration": 3,
    "start_time": "2022-01-19T16:19:48.798Z"
   },
   {
    "duration": 3,
    "start_time": "2022-01-19T16:20:21.748Z"
   },
   {
    "duration": 152,
    "start_time": "2022-01-19T16:20:23.486Z"
   },
   {
    "duration": 4,
    "start_time": "2022-01-19T16:21:19.102Z"
   },
   {
    "duration": 159,
    "start_time": "2022-01-19T16:21:19.813Z"
   },
   {
    "duration": 3,
    "start_time": "2022-01-19T16:24:03.853Z"
   },
   {
    "duration": 137,
    "start_time": "2022-01-19T16:24:04.680Z"
   },
   {
    "duration": 3,
    "start_time": "2022-01-19T16:30:43.795Z"
   },
   {
    "duration": 160,
    "start_time": "2022-01-19T16:30:46.370Z"
   },
   {
    "duration": 122,
    "start_time": "2022-01-19T16:39:39.556Z"
   },
   {
    "duration": 3,
    "start_time": "2022-01-19T16:56:14.623Z"
   },
   {
    "duration": 174,
    "start_time": "2022-01-19T16:56:15.502Z"
   },
   {
    "duration": 159,
    "start_time": "2022-01-19T16:56:19.517Z"
   },
   {
    "duration": 82,
    "start_time": "2022-01-19T16:58:31.990Z"
   },
   {
    "duration": 405,
    "start_time": "2022-01-19T17:01:12.449Z"
   },
   {
    "duration": 40,
    "start_time": "2022-01-19T17:01:46.457Z"
   },
   {
    "duration": 3,
    "start_time": "2022-01-19T17:02:01.078Z"
   },
   {
    "duration": 161,
    "start_time": "2022-01-19T17:02:01.921Z"
   },
   {
    "duration": 120,
    "start_time": "2022-01-19T17:02:03.070Z"
   },
   {
    "duration": 77,
    "start_time": "2022-01-19T17:02:06.784Z"
   },
   {
    "duration": 42,
    "start_time": "2022-01-19T17:02:13.592Z"
   },
   {
    "duration": 38,
    "start_time": "2022-01-19T17:04:53.689Z"
   },
   {
    "duration": 323,
    "start_time": "2022-01-19T17:22:40.687Z"
   },
   {
    "duration": 10,
    "start_time": "2022-01-19T17:22:49.906Z"
   },
   {
    "duration": 214,
    "start_time": "2022-01-19T17:30:17.266Z"
   },
   {
    "duration": 3,
    "start_time": "2022-01-19T17:30:48.628Z"
   },
   {
    "duration": 6,
    "start_time": "2022-01-19T17:30:54.561Z"
   },
   {
    "duration": 351,
    "start_time": "2022-01-20T14:20:36.085Z"
   },
   {
    "duration": 928,
    "start_time": "2022-01-20T14:20:41.673Z"
   },
   {
    "duration": 366,
    "start_time": "2022-01-20T14:20:42.602Z"
   },
   {
    "duration": 3,
    "start_time": "2022-01-20T14:20:43.038Z"
   },
   {
    "duration": 147,
    "start_time": "2022-01-20T14:20:43.567Z"
   },
   {
    "duration": 107,
    "start_time": "2022-01-20T14:20:44.105Z"
   },
   {
    "duration": 68,
    "start_time": "2022-01-20T14:20:44.647Z"
   },
   {
    "duration": 35,
    "start_time": "2022-01-20T14:20:45.165Z"
   },
   {
    "duration": 28,
    "start_time": "2022-01-20T14:20:45.706Z"
   },
   {
    "duration": 27,
    "start_time": "2022-01-20T14:20:46.717Z"
   },
   {
    "duration": 6,
    "start_time": "2022-01-20T14:20:46.905Z"
   },
   {
    "duration": 21,
    "start_time": "2022-01-20T14:20:47.465Z"
   },
   {
    "duration": 5,
    "start_time": "2022-01-20T14:22:19.242Z"
   },
   {
    "duration": 18,
    "start_time": "2022-01-20T14:29:00.006Z"
   },
   {
    "duration": 5,
    "start_time": "2022-01-20T14:31:48.674Z"
   },
   {
    "duration": 5,
    "start_time": "2022-01-20T14:35:49.706Z"
   },
   {
    "duration": 6,
    "start_time": "2022-01-20T14:42:29.466Z"
   },
   {
    "duration": 8,
    "start_time": "2022-01-20T14:42:33.032Z"
   },
   {
    "duration": 5,
    "start_time": "2022-01-20T14:51:11.133Z"
   },
   {
    "duration": 7,
    "start_time": "2022-01-20T14:56:20.635Z"
   },
   {
    "duration": 1371,
    "start_time": "2022-01-20T18:20:27.983Z"
   },
   {
    "duration": 473,
    "start_time": "2022-01-20T18:20:29.443Z"
   },
   {
    "duration": 5,
    "start_time": "2022-01-20T18:20:32.167Z"
   },
   {
    "duration": 212,
    "start_time": "2022-01-20T18:20:45.995Z"
   },
   {
    "duration": 183,
    "start_time": "2022-01-20T18:20:54.995Z"
   },
   {
    "duration": 143,
    "start_time": "2022-01-20T18:21:02.639Z"
   },
   {
    "duration": 72,
    "start_time": "2022-01-20T18:21:05.115Z"
   },
   {
    "duration": 48,
    "start_time": "2022-01-20T18:21:08.101Z"
   },
   {
    "duration": 44,
    "start_time": "2022-01-20T18:22:02.936Z"
   },
   {
    "duration": 9,
    "start_time": "2022-01-20T18:22:03.425Z"
   },
   {
    "duration": 46,
    "start_time": "2022-01-20T18:22:03.964Z"
   },
   {
    "duration": 9,
    "start_time": "2022-01-20T18:22:04.244Z"
   },
   {
    "duration": 38,
    "start_time": "2022-01-20T18:22:05.009Z"
   },
   {
    "duration": 11,
    "start_time": "2022-01-20T18:22:05.849Z"
   },
   {
    "duration": 497,
    "start_time": "2022-01-20T18:22:06.107Z"
   },
   {
    "duration": 11,
    "start_time": "2022-01-20T18:22:51.194Z"
   },
   {
    "duration": 7,
    "start_time": "2022-01-20T18:25:46.963Z"
   },
   {
    "duration": 10,
    "start_time": "2022-01-20T18:26:50.892Z"
   },
   {
    "duration": 443,
    "start_time": "2022-01-20T18:31:07.768Z"
   },
   {
    "duration": 9,
    "start_time": "2022-01-20T18:31:25.036Z"
   },
   {
    "duration": 5,
    "start_time": "2022-01-20T18:35:01.478Z"
   },
   {
    "duration": 6,
    "start_time": "2022-01-20T18:35:30.051Z"
   },
   {
    "duration": 11,
    "start_time": "2022-01-20T18:40:06.885Z"
   },
   {
    "duration": 6,
    "start_time": "2022-01-20T18:44:58.103Z"
   },
   {
    "duration": 10,
    "start_time": "2022-01-20T18:45:15.886Z"
   },
   {
    "duration": 112,
    "start_time": "2022-01-20T18:46:02.939Z"
   },
   {
    "duration": 18,
    "start_time": "2022-01-20T18:47:54.980Z"
   },
   {
    "duration": 22,
    "start_time": "2022-01-20T18:48:21.883Z"
   },
   {
    "duration": 21,
    "start_time": "2022-01-20T18:48:44.517Z"
   },
   {
    "duration": 6,
    "start_time": "2022-01-20T18:53:55.901Z"
   },
   {
    "duration": 329,
    "start_time": "2022-01-20T18:54:47.003Z"
   },
   {
    "duration": 6,
    "start_time": "2022-01-20T18:55:09.005Z"
   },
   {
    "duration": 10,
    "start_time": "2022-01-20T19:04:02.905Z"
   },
   {
    "duration": 6,
    "start_time": "2022-01-20T19:05:37.233Z"
   },
   {
    "duration": 18,
    "start_time": "2022-01-20T19:07:50.616Z"
   },
   {
    "duration": 6809,
    "start_time": "2022-01-20T19:13:02.669Z"
   },
   {
    "duration": 29,
    "start_time": "2022-01-20T19:13:20.772Z"
   },
   {
    "duration": 9,
    "start_time": "2022-01-20T19:15:57.511Z"
   },
   {
    "duration": 8,
    "start_time": "2022-01-20T19:16:26.436Z"
   },
   {
    "duration": 7,
    "start_time": "2022-01-20T19:16:36.373Z"
   },
   {
    "duration": 330,
    "start_time": "2022-01-20T19:27:32.676Z"
   },
   {
    "duration": 1572,
    "start_time": "2022-01-20T19:27:52.820Z"
   },
   {
    "duration": 366,
    "start_time": "2022-01-20T19:28:00.256Z"
   },
   {
    "duration": 383,
    "start_time": "2022-01-20T19:28:06.723Z"
   },
   {
    "duration": 82,
    "start_time": "2022-01-20T19:28:12.228Z"
   },
   {
    "duration": 107,
    "start_time": "2022-01-20T19:29:24.309Z"
   },
   {
    "duration": 8,
    "start_time": "2022-01-20T20:05:10.298Z"
   },
   {
    "duration": 1090,
    "start_time": "2022-01-21T12:30:21.505Z"
   },
   {
    "duration": 414,
    "start_time": "2022-01-21T12:30:22.892Z"
   },
   {
    "duration": 3,
    "start_time": "2022-01-21T12:30:23.445Z"
   },
   {
    "duration": 186,
    "start_time": "2022-01-21T12:30:23.805Z"
   },
   {
    "duration": 144,
    "start_time": "2022-01-21T12:30:24.445Z"
   },
   {
    "duration": 211,
    "start_time": "2022-01-21T12:30:25.354Z"
   },
   {
    "duration": 55,
    "start_time": "2022-01-21T12:30:34.804Z"
   },
   {
    "duration": 36,
    "start_time": "2022-01-21T12:30:39.752Z"
   },
   {
    "duration": 33,
    "start_time": "2022-01-21T12:39:58.865Z"
   },
   {
    "duration": 8,
    "start_time": "2022-01-21T12:39:59.673Z"
   },
   {
    "duration": 28,
    "start_time": "2022-01-21T12:40:00.585Z"
   },
   {
    "duration": 7,
    "start_time": "2022-01-21T12:40:01.513Z"
   },
   {
    "duration": 104,
    "start_time": "2022-01-21T12:40:01.706Z"
   },
   {
    "duration": 17,
    "start_time": "2022-01-21T12:40:07.625Z"
   },
   {
    "duration": 16,
    "start_time": "2022-01-21T12:40:08.105Z"
   },
   {
    "duration": 22,
    "start_time": "2022-01-21T12:40:12.172Z"
   },
   {
    "duration": 5,
    "start_time": "2022-01-21T12:40:13.702Z"
   },
   {
    "duration": 6,
    "start_time": "2022-01-21T12:40:14.253Z"
   },
   {
    "duration": 7,
    "start_time": "2022-01-21T12:40:17.792Z"
   },
   {
    "duration": 7,
    "start_time": "2022-01-21T12:40:21.432Z"
   },
   {
    "duration": 7,
    "start_time": "2022-01-21T12:40:26.633Z"
   },
   {
    "duration": 6,
    "start_time": "2022-01-21T12:40:31.492Z"
   },
   {
    "duration": 7,
    "start_time": "2022-01-21T12:40:33.813Z"
   },
   {
    "duration": 7,
    "start_time": "2022-01-21T12:40:35.713Z"
   },
   {
    "duration": 84,
    "start_time": "2022-01-21T12:40:37.616Z"
   },
   {
    "duration": 12,
    "start_time": "2022-01-21T12:58:30.014Z"
   },
   {
    "duration": 332,
    "start_time": "2022-01-21T13:09:52.541Z"
   },
   {
    "duration": 221,
    "start_time": "2022-01-21T13:10:03.544Z"
   },
   {
    "duration": 17,
    "start_time": "2022-01-21T13:10:38.252Z"
   },
   {
    "duration": 10,
    "start_time": "2022-01-21T13:11:31.364Z"
   },
   {
    "duration": 19,
    "start_time": "2022-01-21T13:26:51.973Z"
   },
   {
    "duration": 10,
    "start_time": "2022-01-21T13:27:10.052Z"
   },
   {
    "duration": 10,
    "start_time": "2022-01-21T13:27:23.873Z"
   },
   {
    "duration": 10,
    "start_time": "2022-01-21T13:29:27.672Z"
   },
   {
    "duration": 9,
    "start_time": "2022-01-21T13:29:55.533Z"
   },
   {
    "duration": 14,
    "start_time": "2022-01-21T13:30:05.575Z"
   },
   {
    "duration": 84,
    "start_time": "2022-01-21T13:30:50.400Z"
   },
   {
    "duration": 77,
    "start_time": "2022-01-21T13:37:07.483Z"
   },
   {
    "duration": 210,
    "start_time": "2022-01-21T13:42:11.152Z"
   },
   {
    "duration": 273,
    "start_time": "2022-01-21T13:42:34.945Z"
   },
   {
    "duration": 56,
    "start_time": "2022-01-21T13:42:45.607Z"
   },
   {
    "duration": 79,
    "start_time": "2022-01-21T13:43:01.774Z"
   },
   {
    "duration": 61,
    "start_time": "2022-01-21T13:43:17.024Z"
   },
   {
    "duration": 62,
    "start_time": "2022-01-21T13:43:29.721Z"
   },
   {
    "duration": 76,
    "start_time": "2022-01-21T13:43:36.924Z"
   },
   {
    "duration": 252,
    "start_time": "2022-01-21T13:45:03.924Z"
   },
   {
    "duration": 42,
    "start_time": "2022-01-21T13:45:08.540Z"
   },
   {
    "duration": 30,
    "start_time": "2022-01-21T13:45:24.011Z"
   },
   {
    "duration": 32,
    "start_time": "2022-01-21T13:46:01.624Z"
   },
   {
    "duration": 27,
    "start_time": "2022-01-21T13:47:39.471Z"
   },
   {
    "duration": 11,
    "start_time": "2022-01-21T14:10:53.791Z"
   },
   {
    "duration": 18,
    "start_time": "2022-01-21T14:11:11.392Z"
   },
   {
    "duration": 26,
    "start_time": "2022-01-21T14:11:19.503Z"
   },
   {
    "duration": 32,
    "start_time": "2022-01-21T14:11:51.845Z"
   },
   {
    "duration": 22,
    "start_time": "2022-01-21T14:12:00.072Z"
   },
   {
    "duration": 23,
    "start_time": "2022-01-21T14:12:10.572Z"
   },
   {
    "duration": 18,
    "start_time": "2022-01-21T14:12:21.199Z"
   },
   {
    "duration": 20,
    "start_time": "2022-01-21T14:12:36.843Z"
   },
   {
    "duration": 33,
    "start_time": "2022-01-21T14:13:58.066Z"
   },
   {
    "duration": 65,
    "start_time": "2022-01-21T14:15:05.733Z"
   },
   {
    "duration": 96,
    "start_time": "2022-01-21T14:15:12.823Z"
   },
   {
    "duration": 40,
    "start_time": "2022-01-21T14:15:25.941Z"
   },
   {
    "duration": 40,
    "start_time": "2022-01-21T14:15:37.951Z"
   },
   {
    "duration": 53,
    "start_time": "2022-01-21T14:15:42.590Z"
   },
   {
    "duration": 77,
    "start_time": "2022-01-21T14:19:31.731Z"
   },
   {
    "duration": 26,
    "start_time": "2022-01-21T14:20:01.332Z"
   },
   {
    "duration": 73,
    "start_time": "2022-01-21T14:20:35.390Z"
   },
   {
    "duration": 29,
    "start_time": "2022-01-21T14:21:18.066Z"
   },
   {
    "duration": 39,
    "start_time": "2022-01-21T14:21:28.291Z"
   },
   {
    "duration": 40,
    "start_time": "2022-01-21T14:21:36.651Z"
   },
   {
    "duration": 89,
    "start_time": "2022-01-21T14:21:59.503Z"
   },
   {
    "duration": 27,
    "start_time": "2022-01-21T14:22:19.970Z"
   },
   {
    "duration": 306,
    "start_time": "2022-01-21T14:26:35.251Z"
   },
   {
    "duration": 24,
    "start_time": "2022-01-21T14:26:45.711Z"
   },
   {
    "duration": 237,
    "start_time": "2022-01-21T14:27:38.630Z"
   },
   {
    "duration": 1106,
    "start_time": "2022-01-22T10:24:35.989Z"
   },
   {
    "duration": 468,
    "start_time": "2022-01-22T10:24:37.097Z"
   },
   {
    "duration": 4,
    "start_time": "2022-01-22T10:24:37.567Z"
   },
   {
    "duration": 187,
    "start_time": "2022-01-22T10:24:44.549Z"
   },
   {
    "duration": 131,
    "start_time": "2022-01-22T10:24:45.247Z"
   },
   {
    "duration": 90,
    "start_time": "2022-01-22T10:24:46.037Z"
   },
   {
    "duration": 40,
    "start_time": "2022-01-22T10:24:47.410Z"
   },
   {
    "duration": 35,
    "start_time": "2022-01-22T10:24:48.289Z"
   },
   {
    "duration": 33,
    "start_time": "2022-01-22T10:24:49.318Z"
   },
   {
    "duration": 8,
    "start_time": "2022-01-22T10:24:49.698Z"
   },
   {
    "duration": 26,
    "start_time": "2022-01-22T10:24:50.426Z"
   },
   {
    "duration": 7,
    "start_time": "2022-01-22T10:24:50.836Z"
   },
   {
    "duration": 17,
    "start_time": "2022-01-22T10:24:51.208Z"
   },
   {
    "duration": 18,
    "start_time": "2022-01-22T10:24:51.411Z"
   },
   {
    "duration": 9,
    "start_time": "2022-01-22T10:24:51.761Z"
   },
   {
    "duration": 13,
    "start_time": "2022-01-22T10:24:52.509Z"
   },
   {
    "duration": 19,
    "start_time": "2022-01-22T10:24:53.052Z"
   },
   {
    "duration": 9,
    "start_time": "2022-01-22T10:24:53.415Z"
   },
   {
    "duration": 7,
    "start_time": "2022-01-22T10:24:53.769Z"
   },
   {
    "duration": 14,
    "start_time": "2022-01-22T10:24:53.968Z"
   },
   {
    "duration": 25,
    "start_time": "2022-01-22T10:24:55.391Z"
   },
   {
    "duration": 5,
    "start_time": "2022-01-22T10:24:56.749Z"
   },
   {
    "duration": 4,
    "start_time": "2022-01-22T10:24:57.749Z"
   },
   {
    "duration": 6,
    "start_time": "2022-01-22T10:24:59.234Z"
   },
   {
    "duration": 6,
    "start_time": "2022-01-22T10:25:00.582Z"
   },
   {
    "duration": 6,
    "start_time": "2022-01-22T10:25:01.978Z"
   },
   {
    "duration": 6,
    "start_time": "2022-01-22T10:25:03.196Z"
   },
   {
    "duration": 7,
    "start_time": "2022-01-22T10:25:03.755Z"
   },
   {
    "duration": 7,
    "start_time": "2022-01-22T10:25:04.310Z"
   },
   {
    "duration": 73,
    "start_time": "2022-01-22T10:25:08.133Z"
   },
   {
    "duration": 69,
    "start_time": "2022-01-22T10:25:15.945Z"
   },
   {
    "duration": 30,
    "start_time": "2022-01-22T10:25:26.109Z"
   },
   {
    "duration": 24,
    "start_time": "2022-01-22T10:25:32.764Z"
   },
   {
    "duration": 18,
    "start_time": "2022-01-22T10:33:31.841Z"
   },
   {
    "duration": 245,
    "start_time": "2022-01-22T10:33:33.736Z"
   },
   {
    "duration": 20,
    "start_time": "2022-01-22T10:33:54.540Z"
   },
   {
    "duration": 21,
    "start_time": "2022-01-22T10:34:18.235Z"
   },
   {
    "duration": 26,
    "start_time": "2022-01-22T10:35:14.891Z"
   },
   {
    "duration": 24,
    "start_time": "2022-01-22T10:41:44.558Z"
   },
   {
    "duration": 22,
    "start_time": "2022-01-22T10:41:45.538Z"
   },
   {
    "duration": 17,
    "start_time": "2022-01-22T11:02:51.945Z"
   },
   {
    "duration": 16,
    "start_time": "2022-01-22T11:05:10.272Z"
   },
   {
    "duration": 19,
    "start_time": "2022-01-22T11:05:45.755Z"
   },
   {
    "duration": 19,
    "start_time": "2022-01-22T11:06:12.210Z"
   },
   {
    "duration": 20,
    "start_time": "2022-01-22T11:07:51.597Z"
   },
   {
    "duration": 17,
    "start_time": "2022-01-22T11:08:45.096Z"
   },
   {
    "duration": 17,
    "start_time": "2022-01-22T11:09:25.706Z"
   },
   {
    "duration": 20,
    "start_time": "2022-01-22T11:10:14.262Z"
   },
   {
    "duration": 24,
    "start_time": "2022-01-22T11:10:28.236Z"
   },
   {
    "duration": 32,
    "start_time": "2022-01-22T11:13:35.865Z"
   },
   {
    "duration": 4,
    "start_time": "2022-01-22T11:17:50.991Z"
   },
   {
    "duration": 433,
    "start_time": "2022-01-22T11:17:52.014Z"
   },
   {
    "duration": 3,
    "start_time": "2022-01-22T11:17:52.795Z"
   },
   {
    "duration": 173,
    "start_time": "2022-01-22T11:17:53.146Z"
   },
   {
    "duration": 151,
    "start_time": "2022-01-22T11:17:53.875Z"
   },
   {
    "duration": 90,
    "start_time": "2022-01-22T11:17:54.427Z"
   },
   {
    "duration": 41,
    "start_time": "2022-01-22T11:17:54.986Z"
   },
   {
    "duration": 29,
    "start_time": "2022-01-22T11:17:55.533Z"
   },
   {
    "duration": 29,
    "start_time": "2022-01-22T11:17:56.743Z"
   },
   {
    "duration": 6,
    "start_time": "2022-01-22T11:17:57.104Z"
   },
   {
    "duration": 25,
    "start_time": "2022-01-22T11:17:57.643Z"
   },
   {
    "duration": 6,
    "start_time": "2022-01-22T11:17:58.003Z"
   },
   {
    "duration": 14,
    "start_time": "2022-01-22T11:17:58.370Z"
   },
   {
    "duration": 17,
    "start_time": "2022-01-22T11:17:58.549Z"
   },
   {
    "duration": 10,
    "start_time": "2022-01-22T11:17:58.930Z"
   },
   {
    "duration": 12,
    "start_time": "2022-01-22T11:17:59.810Z"
   },
   {
    "duration": 19,
    "start_time": "2022-01-22T11:18:00.672Z"
   },
   {
    "duration": 9,
    "start_time": "2022-01-22T11:18:01.391Z"
   },
   {
    "duration": 6,
    "start_time": "2022-01-22T11:18:02.768Z"
   },
   {
    "duration": 13,
    "start_time": "2022-01-22T11:18:02.989Z"
   },
   {
    "duration": 22,
    "start_time": "2022-01-22T11:18:03.989Z"
   },
   {
    "duration": 5,
    "start_time": "2022-01-22T11:18:04.688Z"
   },
   {
    "duration": 5,
    "start_time": "2022-01-22T11:18:05.187Z"
   },
   {
    "duration": 6,
    "start_time": "2022-01-22T11:18:06.467Z"
   },
   {
    "duration": 7,
    "start_time": "2022-01-22T11:18:07.296Z"
   },
   {
    "duration": 5,
    "start_time": "2022-01-22T11:18:09.733Z"
   },
   {
    "duration": 6,
    "start_time": "2022-01-22T11:18:10.839Z"
   },
   {
    "duration": 7,
    "start_time": "2022-01-22T11:18:11.220Z"
   },
   {
    "duration": 6,
    "start_time": "2022-01-22T11:18:11.422Z"
   },
   {
    "duration": 72,
    "start_time": "2022-01-22T11:18:13.898Z"
   },
   {
    "duration": 52,
    "start_time": "2022-01-22T11:18:15.137Z"
   },
   {
    "duration": 29,
    "start_time": "2022-01-22T11:18:16.506Z"
   },
   {
    "duration": 23,
    "start_time": "2022-01-22T11:18:17.566Z"
   },
   {
    "duration": 17,
    "start_time": "2022-01-22T11:18:21.084Z"
   },
   {
    "duration": 16,
    "start_time": "2022-01-22T11:18:25.658Z"
   },
   {
    "duration": 17,
    "start_time": "2022-01-22T11:18:47.764Z"
   },
   {
    "duration": 18,
    "start_time": "2022-01-22T11:18:55.955Z"
   },
   {
    "duration": 19,
    "start_time": "2022-01-22T11:19:02.121Z"
   },
   {
    "duration": 18,
    "start_time": "2022-01-22T11:20:25.136Z"
   },
   {
    "duration": 9,
    "start_time": "2022-01-22T11:21:37.167Z"
   },
   {
    "duration": 23,
    "start_time": "2022-01-22T11:24:25.047Z"
   },
   {
    "duration": 18,
    "start_time": "2022-01-22T11:26:58.585Z"
   },
   {
    "duration": 3,
    "start_time": "2022-01-22T11:27:42.075Z"
   },
   {
    "duration": 401,
    "start_time": "2022-01-22T11:27:42.694Z"
   },
   {
    "duration": 3,
    "start_time": "2022-01-22T11:27:43.195Z"
   },
   {
    "duration": 157,
    "start_time": "2022-01-22T11:27:43.543Z"
   },
   {
    "duration": 111,
    "start_time": "2022-01-22T11:27:44.144Z"
   },
   {
    "duration": 79,
    "start_time": "2022-01-22T11:27:44.692Z"
   },
   {
    "duration": 42,
    "start_time": "2022-01-22T11:27:46.121Z"
   },
   {
    "duration": 33,
    "start_time": "2022-01-22T11:27:47.186Z"
   },
   {
    "duration": 32,
    "start_time": "2022-01-22T11:27:49.527Z"
   },
   {
    "duration": 7,
    "start_time": "2022-01-22T11:27:50.617Z"
   },
   {
    "duration": 7,
    "start_time": "2022-01-22T11:28:00.521Z"
   },
   {
    "duration": 27,
    "start_time": "2022-01-22T11:28:01.068Z"
   },
   {
    "duration": 7,
    "start_time": "2022-01-22T11:28:01.560Z"
   },
   {
    "duration": 18,
    "start_time": "2022-01-22T11:28:01.908Z"
   },
   {
    "duration": 16,
    "start_time": "2022-01-22T11:28:02.068Z"
   },
   {
    "duration": 9,
    "start_time": "2022-01-22T11:28:02.436Z"
   },
   {
    "duration": 14,
    "start_time": "2022-01-22T11:28:02.977Z"
   },
   {
    "duration": 19,
    "start_time": "2022-01-22T11:28:03.335Z"
   },
   {
    "duration": 9,
    "start_time": "2022-01-22T11:28:03.715Z"
   },
   {
    "duration": 7,
    "start_time": "2022-01-22T11:28:04.064Z"
   },
   {
    "duration": 12,
    "start_time": "2022-01-22T11:28:04.255Z"
   },
   {
    "duration": 20,
    "start_time": "2022-01-22T11:28:04.837Z"
   },
   {
    "duration": 5,
    "start_time": "2022-01-22T11:28:05.555Z"
   },
   {
    "duration": 4,
    "start_time": "2022-01-22T11:28:05.755Z"
   },
   {
    "duration": 6,
    "start_time": "2022-01-22T11:28:06.476Z"
   },
   {
    "duration": 6,
    "start_time": "2022-01-22T11:28:06.842Z"
   },
   {
    "duration": 5,
    "start_time": "2022-01-22T11:28:07.236Z"
   },
   {
    "duration": 8,
    "start_time": "2022-01-22T11:28:08.051Z"
   },
   {
    "duration": 9,
    "start_time": "2022-01-22T11:28:08.231Z"
   },
   {
    "duration": 6,
    "start_time": "2022-01-22T11:28:08.433Z"
   },
   {
    "duration": 73,
    "start_time": "2022-01-22T11:28:09.412Z"
   },
   {
    "duration": 48,
    "start_time": "2022-01-22T11:28:14.666Z"
   },
   {
    "duration": 28,
    "start_time": "2022-01-22T11:28:17.095Z"
   },
   {
    "duration": 22,
    "start_time": "2022-01-22T11:28:21.641Z"
   },
   {
    "duration": 17,
    "start_time": "2022-01-22T11:28:28.354Z"
   },
   {
    "duration": 19,
    "start_time": "2022-01-22T11:28:33.912Z"
   },
   {
    "duration": 147,
    "start_time": "2022-01-22T11:28:36.079Z"
   },
   {
    "duration": 13,
    "start_time": "2022-01-22T11:42:05.555Z"
   },
   {
    "duration": 146,
    "start_time": "2022-01-22T11:42:14.385Z"
   },
   {
    "duration": 228,
    "start_time": "2022-01-22T11:45:00.420Z"
   },
   {
    "duration": 3,
    "start_time": "2022-01-22T11:49:46.659Z"
   },
   {
    "duration": 416,
    "start_time": "2022-01-22T11:49:47.549Z"
   },
   {
    "duration": 4,
    "start_time": "2022-01-22T11:49:48.074Z"
   },
   {
    "duration": 150,
    "start_time": "2022-01-22T11:49:48.426Z"
   },
   {
    "duration": 144,
    "start_time": "2022-01-22T11:49:48.923Z"
   },
   {
    "duration": 85,
    "start_time": "2022-01-22T11:49:49.416Z"
   },
   {
    "duration": 43,
    "start_time": "2022-01-22T11:49:50.116Z"
   },
   {
    "duration": 36,
    "start_time": "2022-01-22T11:49:50.673Z"
   },
   {
    "duration": 36,
    "start_time": "2022-01-22T11:49:51.601Z"
   },
   {
    "duration": 6,
    "start_time": "2022-01-22T11:49:52.115Z"
   },
   {
    "duration": 23,
    "start_time": "2022-01-22T11:49:52.652Z"
   },
   {
    "duration": 6,
    "start_time": "2022-01-22T11:49:53.198Z"
   },
   {
    "duration": 13,
    "start_time": "2022-01-22T11:49:53.600Z"
   },
   {
    "duration": 16,
    "start_time": "2022-01-22T11:49:53.782Z"
   },
   {
    "duration": 9,
    "start_time": "2022-01-22T11:49:54.659Z"
   },
   {
    "duration": 11,
    "start_time": "2022-01-22T11:49:55.251Z"
   },
   {
    "duration": 18,
    "start_time": "2022-01-22T11:49:55.788Z"
   },
   {
    "duration": 10,
    "start_time": "2022-01-22T11:49:56.197Z"
   },
   {
    "duration": 6,
    "start_time": "2022-01-22T11:49:56.606Z"
   },
   {
    "duration": 14,
    "start_time": "2022-01-22T11:49:56.787Z"
   },
   {
    "duration": 20,
    "start_time": "2022-01-22T11:49:57.359Z"
   },
   {
    "duration": 4,
    "start_time": "2022-01-22T11:49:58.257Z"
   },
   {
    "duration": 5,
    "start_time": "2022-01-22T11:49:58.477Z"
   },
   {
    "duration": 6,
    "start_time": "2022-01-22T11:49:59.828Z"
   },
   {
    "duration": 7,
    "start_time": "2022-01-22T11:50:00.765Z"
   },
   {
    "duration": 5,
    "start_time": "2022-01-22T11:50:01.777Z"
   },
   {
    "duration": 7,
    "start_time": "2022-01-22T11:50:03.174Z"
   },
   {
    "duration": 7,
    "start_time": "2022-01-22T11:50:03.674Z"
   },
   {
    "duration": 6,
    "start_time": "2022-01-22T11:50:04.501Z"
   },
   {
    "duration": 71,
    "start_time": "2022-01-22T11:50:07.820Z"
   },
   {
    "duration": 48,
    "start_time": "2022-01-22T11:50:09.588Z"
   },
   {
    "duration": 30,
    "start_time": "2022-01-22T11:50:11.493Z"
   },
   {
    "duration": 22,
    "start_time": "2022-01-22T11:50:12.556Z"
   },
   {
    "duration": 16,
    "start_time": "2022-01-22T11:50:16.912Z"
   },
   {
    "duration": 18,
    "start_time": "2022-01-22T11:50:18.031Z"
   },
   {
    "duration": 33,
    "start_time": "2022-01-22T11:50:31.260Z"
   },
   {
    "duration": 150,
    "start_time": "2022-01-22T11:54:04.033Z"
   },
   {
    "duration": 26,
    "start_time": "2022-01-22T11:55:57.690Z"
   },
   {
    "duration": 151,
    "start_time": "2022-01-22T11:56:27.000Z"
   },
   {
    "duration": 186,
    "start_time": "2022-01-22T11:56:50.430Z"
   },
   {
    "duration": 23,
    "start_time": "2022-01-22T12:31:55.776Z"
   },
   {
    "duration": 25,
    "start_time": "2022-01-22T12:32:22.938Z"
   },
   {
    "duration": 11,
    "start_time": "2022-01-22T12:35:07.111Z"
   },
   {
    "duration": 145,
    "start_time": "2022-01-22T12:35:28.990Z"
   },
   {
    "duration": 160,
    "start_time": "2022-01-22T12:35:38.014Z"
   },
   {
    "duration": 3,
    "start_time": "2022-01-22T12:37:17.290Z"
   },
   {
    "duration": 435,
    "start_time": "2022-01-22T12:37:18.208Z"
   },
   {
    "duration": 3,
    "start_time": "2022-01-22T12:37:18.748Z"
   },
   {
    "duration": 172,
    "start_time": "2022-01-22T12:37:19.110Z"
   },
   {
    "duration": 115,
    "start_time": "2022-01-22T12:37:19.667Z"
   },
   {
    "duration": 84,
    "start_time": "2022-01-22T12:37:20.197Z"
   },
   {
    "duration": 39,
    "start_time": "2022-01-22T12:37:20.746Z"
   },
   {
    "duration": 33,
    "start_time": "2022-01-22T12:37:21.280Z"
   },
   {
    "duration": 30,
    "start_time": "2022-01-22T12:37:22.210Z"
   },
   {
    "duration": 6,
    "start_time": "2022-01-22T12:37:22.565Z"
   },
   {
    "duration": 23,
    "start_time": "2022-01-22T12:37:23.115Z"
   },
   {
    "duration": 6,
    "start_time": "2022-01-22T12:37:23.474Z"
   },
   {
    "duration": 12,
    "start_time": "2022-01-22T12:37:23.844Z"
   },
   {
    "duration": 15,
    "start_time": "2022-01-22T12:37:24.022Z"
   },
   {
    "duration": 9,
    "start_time": "2022-01-22T12:37:24.384Z"
   },
   {
    "duration": 10,
    "start_time": "2022-01-22T12:37:24.983Z"
   },
   {
    "duration": 19,
    "start_time": "2022-01-22T12:37:25.381Z"
   },
   {
    "duration": 9,
    "start_time": "2022-01-22T12:37:25.764Z"
   },
   {
    "duration": 6,
    "start_time": "2022-01-22T12:37:26.182Z"
   },
   {
    "duration": 16,
    "start_time": "2022-01-22T12:37:26.393Z"
   },
   {
    "duration": 27,
    "start_time": "2022-01-22T12:37:26.993Z"
   },
   {
    "duration": 4,
    "start_time": "2022-01-22T12:37:27.620Z"
   },
   {
    "duration": 5,
    "start_time": "2022-01-22T12:37:27.820Z"
   },
   {
    "duration": 6,
    "start_time": "2022-01-22T12:37:28.870Z"
   },
   {
    "duration": 7,
    "start_time": "2022-01-22T12:37:29.707Z"
   },
   {
    "duration": 5,
    "start_time": "2022-01-22T12:37:31.343Z"
   },
   {
    "duration": 6,
    "start_time": "2022-01-22T12:37:33.475Z"
   },
   {
    "duration": 7,
    "start_time": "2022-01-22T12:37:33.656Z"
   },
   {
    "duration": 6,
    "start_time": "2022-01-22T12:37:33.846Z"
   },
   {
    "duration": 81,
    "start_time": "2022-01-22T12:37:34.558Z"
   },
   {
    "duration": 47,
    "start_time": "2022-01-22T12:37:34.914Z"
   },
   {
    "duration": 36,
    "start_time": "2022-01-22T12:37:35.298Z"
   },
   {
    "duration": 23,
    "start_time": "2022-01-22T12:37:36.164Z"
   },
   {
    "duration": 16,
    "start_time": "2022-01-22T12:37:40.211Z"
   },
   {
    "duration": 18,
    "start_time": "2022-01-22T12:37:40.812Z"
   },
   {
    "duration": 28,
    "start_time": "2022-01-22T12:37:41.459Z"
   },
   {
    "duration": 15,
    "start_time": "2022-01-22T12:37:43.142Z"
   },
   {
    "duration": 16,
    "start_time": "2022-01-22T12:44:20.646Z"
   },
   {
    "duration": 20,
    "start_time": "2022-01-22T12:45:11.910Z"
   },
   {
    "duration": 8,
    "start_time": "2022-01-22T12:45:33.389Z"
   },
   {
    "duration": 3,
    "start_time": "2022-01-22T12:46:14.545Z"
   },
   {
    "duration": 434,
    "start_time": "2022-01-22T12:46:14.856Z"
   },
   {
    "duration": 3,
    "start_time": "2022-01-22T12:46:15.533Z"
   },
   {
    "duration": 189,
    "start_time": "2022-01-22T12:46:15.893Z"
   },
   {
    "duration": 121,
    "start_time": "2022-01-22T12:46:16.410Z"
   },
   {
    "duration": 82,
    "start_time": "2022-01-22T12:46:16.912Z"
   },
   {
    "duration": 39,
    "start_time": "2022-01-22T12:46:17.410Z"
   },
   {
    "duration": 32,
    "start_time": "2022-01-22T12:46:17.944Z"
   },
   {
    "duration": 32,
    "start_time": "2022-01-22T12:46:18.854Z"
   },
   {
    "duration": 7,
    "start_time": "2022-01-22T12:46:19.210Z"
   },
   {
    "duration": 24,
    "start_time": "2022-01-22T12:46:19.809Z"
   },
   {
    "duration": 6,
    "start_time": "2022-01-22T12:46:20.193Z"
   },
   {
    "duration": 15,
    "start_time": "2022-01-22T12:46:20.728Z"
   },
   {
    "duration": 16,
    "start_time": "2022-01-22T12:46:20.950Z"
   },
   {
    "duration": 8,
    "start_time": "2022-01-22T12:46:21.379Z"
   },
   {
    "duration": 11,
    "start_time": "2022-01-22T12:46:22.329Z"
   },
   {
    "duration": 19,
    "start_time": "2022-01-22T12:46:22.709Z"
   },
   {
    "duration": 9,
    "start_time": "2022-01-22T12:46:23.077Z"
   },
   {
    "duration": 6,
    "start_time": "2022-01-22T12:46:23.463Z"
   },
   {
    "duration": 13,
    "start_time": "2022-01-22T12:46:23.879Z"
   },
   {
    "duration": 19,
    "start_time": "2022-01-22T12:46:24.450Z"
   },
   {
    "duration": 5,
    "start_time": "2022-01-22T12:46:25.056Z"
   },
   {
    "duration": 5,
    "start_time": "2022-01-22T12:46:25.498Z"
   },
   {
    "duration": 6,
    "start_time": "2022-01-22T12:46:26.718Z"
   },
   {
    "duration": 6,
    "start_time": "2022-01-22T12:46:27.447Z"
   },
   {
    "duration": 5,
    "start_time": "2022-01-22T12:46:28.928Z"
   },
   {
    "duration": 5,
    "start_time": "2022-01-22T12:46:29.849Z"
   },
   {
    "duration": 7,
    "start_time": "2022-01-22T12:46:30.050Z"
   },
   {
    "duration": 5,
    "start_time": "2022-01-22T12:46:30.610Z"
   },
   {
    "duration": 74,
    "start_time": "2022-01-22T12:46:31.665Z"
   },
   {
    "duration": 54,
    "start_time": "2022-01-22T12:46:32.095Z"
   },
   {
    "duration": 32,
    "start_time": "2022-01-22T12:46:36.072Z"
   },
   {
    "duration": 32,
    "start_time": "2022-01-22T12:46:37.123Z"
   },
   {
    "duration": 16,
    "start_time": "2022-01-22T12:46:39.413Z"
   },
   {
    "duration": 20,
    "start_time": "2022-01-22T12:46:40.013Z"
   },
   {
    "duration": 18,
    "start_time": "2022-01-22T12:46:40.607Z"
   },
   {
    "duration": 6,
    "start_time": "2022-01-22T12:46:49.965Z"
   },
   {
    "duration": 14,
    "start_time": "2022-01-22T12:48:34.576Z"
   },
   {
    "duration": 8,
    "start_time": "2022-01-22T12:50:17.862Z"
   },
   {
    "duration": 10,
    "start_time": "2022-01-22T13:01:43.074Z"
   },
   {
    "duration": 5,
    "start_time": "2022-01-22T13:25:32.061Z"
   },
   {
    "duration": 4,
    "start_time": "2022-01-22T13:25:46.491Z"
   },
   {
    "duration": 4,
    "start_time": "2022-01-22T13:26:46.711Z"
   },
   {
    "duration": 5,
    "start_time": "2022-01-22T13:28:09.622Z"
   },
   {
    "duration": 360,
    "start_time": "2022-01-22T13:28:13.450Z"
   },
   {
    "duration": 238,
    "start_time": "2022-01-22T13:35:09.214Z"
   },
   {
    "duration": 302,
    "start_time": "2022-01-22T13:40:47.060Z"
   },
   {
    "duration": 316,
    "start_time": "2022-01-22T13:48:01.586Z"
   },
   {
    "duration": 301,
    "start_time": "2022-01-22T13:48:22.909Z"
   },
   {
    "duration": 302,
    "start_time": "2022-01-22T13:49:08.448Z"
   },
   {
    "duration": 49,
    "start_time": "2022-01-22T13:49:27.674Z"
   },
   {
    "duration": 318,
    "start_time": "2022-01-22T13:49:40.179Z"
   },
   {
    "duration": 283,
    "start_time": "2022-01-22T13:54:16.459Z"
   },
   {
    "duration": 301,
    "start_time": "2022-01-22T13:55:06.184Z"
   },
   {
    "duration": 295,
    "start_time": "2022-01-22T13:56:15.651Z"
   },
   {
    "duration": 7,
    "start_time": "2022-01-22T14:00:36.480Z"
   },
   {
    "duration": 3634,
    "start_time": "2022-01-22T14:02:02.694Z"
   },
   {
    "duration": 3506,
    "start_time": "2022-01-22T14:02:21.247Z"
   },
   {
    "duration": 4,
    "start_time": "2022-01-22T14:02:37.818Z"
   },
   {
    "duration": 9,
    "start_time": "2022-01-22T14:03:06.542Z"
   },
   {
    "duration": 9,
    "start_time": "2022-01-22T14:04:51.397Z"
   },
   {
    "duration": 10,
    "start_time": "2022-01-22T14:07:15.437Z"
   },
   {
    "duration": 9,
    "start_time": "2022-01-22T14:07:57.675Z"
   },
   {
    "duration": 9,
    "start_time": "2022-01-22T14:08:03.789Z"
   },
   {
    "duration": 3,
    "start_time": "2022-01-22T14:10:46.902Z"
   },
   {
    "duration": 404,
    "start_time": "2022-01-22T14:10:47.290Z"
   },
   {
    "duration": 4,
    "start_time": "2022-01-22T14:10:47.929Z"
   },
   {
    "duration": 178,
    "start_time": "2022-01-22T14:10:48.331Z"
   },
   {
    "duration": 127,
    "start_time": "2022-01-22T14:10:48.907Z"
   },
   {
    "duration": 79,
    "start_time": "2022-01-22T14:10:49.499Z"
   },
   {
    "duration": 44,
    "start_time": "2022-01-22T14:10:50.070Z"
   },
   {
    "duration": 46,
    "start_time": "2022-01-22T14:10:50.640Z"
   },
   {
    "duration": 36,
    "start_time": "2022-01-22T14:10:52.010Z"
   },
   {
    "duration": 7,
    "start_time": "2022-01-22T14:10:52.489Z"
   },
   {
    "duration": 23,
    "start_time": "2022-01-22T14:10:53.047Z"
   },
   {
    "duration": 8,
    "start_time": "2022-01-22T14:10:53.414Z"
   },
   {
    "duration": 21,
    "start_time": "2022-01-22T14:10:53.768Z"
   },
   {
    "duration": 27,
    "start_time": "2022-01-22T14:10:53.958Z"
   },
   {
    "duration": 10,
    "start_time": "2022-01-22T14:10:54.605Z"
   },
   {
    "duration": 14,
    "start_time": "2022-01-22T14:10:55.204Z"
   },
   {
    "duration": 19,
    "start_time": "2022-01-22T14:10:55.583Z"
   },
   {
    "duration": 9,
    "start_time": "2022-01-22T14:10:55.995Z"
   },
   {
    "duration": 6,
    "start_time": "2022-01-22T14:10:56.463Z"
   },
   {
    "duration": 13,
    "start_time": "2022-01-22T14:10:56.727Z"
   },
   {
    "duration": 21,
    "start_time": "2022-01-22T14:10:57.636Z"
   },
   {
    "duration": 6,
    "start_time": "2022-01-22T14:10:58.942Z"
   },
   {
    "duration": 5,
    "start_time": "2022-01-22T14:10:59.363Z"
   },
   {
    "duration": 6,
    "start_time": "2022-01-22T14:11:00.302Z"
   },
   {
    "duration": 6,
    "start_time": "2022-01-22T14:11:00.881Z"
   },
   {
    "duration": 6,
    "start_time": "2022-01-22T14:11:02.449Z"
   },
   {
    "duration": 7,
    "start_time": "2022-01-22T14:11:04.157Z"
   },
   {
    "duration": 7,
    "start_time": "2022-01-22T14:11:04.769Z"
   },
   {
    "duration": 7,
    "start_time": "2022-01-22T14:11:05.277Z"
   },
   {
    "duration": 8,
    "start_time": "2022-01-22T14:11:09.015Z"
   },
   {
    "duration": 10,
    "start_time": "2022-01-22T14:11:18.034Z"
   },
   {
    "duration": 10,
    "start_time": "2022-01-22T14:12:28.946Z"
   },
   {
    "duration": 2,
    "start_time": "2022-01-22T14:13:37.701Z"
   },
   {
    "duration": 409,
    "start_time": "2022-01-22T14:13:38.629Z"
   },
   {
    "duration": 3,
    "start_time": "2022-01-22T14:13:39.132Z"
   },
   {
    "duration": 166,
    "start_time": "2022-01-22T14:13:39.484Z"
   },
   {
    "duration": 117,
    "start_time": "2022-01-22T14:13:40.021Z"
   },
   {
    "duration": 83,
    "start_time": "2022-01-22T14:13:40.581Z"
   },
   {
    "duration": 41,
    "start_time": "2022-01-22T14:13:41.573Z"
   },
   {
    "duration": 33,
    "start_time": "2022-01-22T14:13:42.133Z"
   },
   {
    "duration": 29,
    "start_time": "2022-01-22T14:13:43.966Z"
   },
   {
    "duration": 6,
    "start_time": "2022-01-22T14:13:44.458Z"
   },
   {
    "duration": 23,
    "start_time": "2022-01-22T14:13:44.957Z"
   },
   {
    "duration": 6,
    "start_time": "2022-01-22T14:13:45.298Z"
   },
   {
    "duration": 13,
    "start_time": "2022-01-22T14:13:45.615Z"
   },
   {
    "duration": 16,
    "start_time": "2022-01-22T14:13:45.777Z"
   },
   {
    "duration": 9,
    "start_time": "2022-01-22T14:13:46.117Z"
   },
   {
    "duration": 11,
    "start_time": "2022-01-22T14:13:47.080Z"
   },
   {
    "duration": 19,
    "start_time": "2022-01-22T14:13:47.906Z"
   },
   {
    "duration": 9,
    "start_time": "2022-01-22T14:13:48.856Z"
   },
   {
    "duration": 5,
    "start_time": "2022-01-22T14:13:49.974Z"
   },
   {
    "duration": 13,
    "start_time": "2022-01-22T14:13:50.310Z"
   },
   {
    "duration": 19,
    "start_time": "2022-01-22T14:13:50.894Z"
   },
   {
    "duration": 4,
    "start_time": "2022-01-22T14:13:52.133Z"
   },
   {
    "duration": 4,
    "start_time": "2022-01-22T14:13:52.654Z"
   },
   {
    "duration": 6,
    "start_time": "2022-01-22T14:13:54.203Z"
   },
   {
    "duration": 6,
    "start_time": "2022-01-22T14:13:55.245Z"
   },
   {
    "duration": 5,
    "start_time": "2022-01-22T14:13:56.651Z"
   },
   {
    "duration": 5,
    "start_time": "2022-01-22T14:13:59.721Z"
   },
   {
    "duration": 8,
    "start_time": "2022-01-22T14:14:00.298Z"
   },
   {
    "duration": 6,
    "start_time": "2022-01-22T14:14:00.969Z"
   },
   {
    "duration": 11,
    "start_time": "2022-01-22T14:14:05.926Z"
   },
   {
    "duration": 12,
    "start_time": "2022-01-22T14:14:07.187Z"
   },
   {
    "duration": 9,
    "start_time": "2022-01-22T14:17:10.961Z"
   },
   {
    "duration": 73,
    "start_time": "2022-01-22T14:17:15.990Z"
   },
   {
    "duration": 48,
    "start_time": "2022-01-22T14:17:16.366Z"
   },
   {
    "duration": 31,
    "start_time": "2022-01-22T14:17:18.490Z"
   },
   {
    "duration": 22,
    "start_time": "2022-01-22T14:17:18.837Z"
   },
   {
    "duration": 17,
    "start_time": "2022-01-22T14:17:20.153Z"
   },
   {
    "duration": 19,
    "start_time": "2022-01-22T14:17:21.095Z"
   },
   {
    "duration": 18,
    "start_time": "2022-01-22T14:17:21.264Z"
   },
   {
    "duration": 6,
    "start_time": "2022-01-22T14:17:21.437Z"
   },
   {
    "duration": 13,
    "start_time": "2022-01-22T14:17:22.574Z"
   },
   {
    "duration": 9,
    "start_time": "2022-01-22T14:17:23.105Z"
   },
   {
    "duration": 10,
    "start_time": "2022-01-22T14:17:23.884Z"
   },
   {
    "duration": 3373,
    "start_time": "2022-01-22T14:17:26.211Z"
   },
   {
    "duration": 330,
    "start_time": "2022-01-22T14:17:50.958Z"
   },
   {
    "duration": 313,
    "start_time": "2022-01-22T14:19:02.453Z"
   },
   {
    "duration": 304,
    "start_time": "2022-01-22T14:20:11.248Z"
   },
   {
    "duration": 308,
    "start_time": "2022-01-22T14:20:58.750Z"
   },
   {
    "duration": 311,
    "start_time": "2022-01-22T14:22:27.970Z"
   },
   {
    "duration": 310,
    "start_time": "2022-01-22T14:25:29.588Z"
   },
   {
    "duration": 310,
    "start_time": "2022-01-22T14:27:32.898Z"
   },
   {
    "duration": 1009,
    "start_time": "2022-01-22T14:29:53.349Z"
   },
   {
    "duration": 395,
    "start_time": "2022-01-22T14:29:54.360Z"
   },
   {
    "duration": 3,
    "start_time": "2022-01-22T14:29:54.759Z"
   },
   {
    "duration": 184,
    "start_time": "2022-01-22T14:29:54.764Z"
   },
   {
    "duration": 135,
    "start_time": "2022-01-22T14:29:54.949Z"
   },
   {
    "duration": 88,
    "start_time": "2022-01-22T14:29:55.086Z"
   },
   {
    "duration": 60,
    "start_time": "2022-01-22T14:29:55.175Z"
   },
   {
    "duration": 60,
    "start_time": "2022-01-22T14:29:55.238Z"
   },
   {
    "duration": 31,
    "start_time": "2022-01-22T14:29:55.300Z"
   },
   {
    "duration": 6,
    "start_time": "2022-01-22T14:29:55.332Z"
   },
   {
    "duration": 43,
    "start_time": "2022-01-22T14:29:55.339Z"
   },
   {
    "duration": 17,
    "start_time": "2022-01-22T14:29:55.384Z"
   },
   {
    "duration": 16,
    "start_time": "2022-01-22T14:29:55.403Z"
   },
   {
    "duration": 18,
    "start_time": "2022-01-22T14:29:55.421Z"
   },
   {
    "duration": 10,
    "start_time": "2022-01-22T14:29:55.440Z"
   },
   {
    "duration": 46,
    "start_time": "2022-01-22T14:29:55.452Z"
   },
   {
    "duration": 18,
    "start_time": "2022-01-22T14:29:55.500Z"
   },
   {
    "duration": 10,
    "start_time": "2022-01-22T14:29:55.520Z"
   },
   {
    "duration": 7,
    "start_time": "2022-01-22T14:29:55.532Z"
   },
   {
    "duration": 12,
    "start_time": "2022-01-22T14:29:55.541Z"
   },
   {
    "duration": 61,
    "start_time": "2022-01-22T14:29:55.555Z"
   },
   {
    "duration": 5,
    "start_time": "2022-01-22T14:29:55.618Z"
   },
   {
    "duration": 7,
    "start_time": "2022-01-22T14:29:55.626Z"
   },
   {
    "duration": 8,
    "start_time": "2022-01-22T14:29:55.635Z"
   },
   {
    "duration": 9,
    "start_time": "2022-01-22T14:29:55.645Z"
   },
   {
    "duration": 8,
    "start_time": "2022-01-22T14:29:55.656Z"
   },
   {
    "duration": 33,
    "start_time": "2022-01-22T14:29:55.665Z"
   },
   {
    "duration": 11,
    "start_time": "2022-01-22T14:29:55.699Z"
   },
   {
    "duration": 10,
    "start_time": "2022-01-22T14:29:55.712Z"
   },
   {
    "duration": 10,
    "start_time": "2022-01-22T14:29:55.724Z"
   },
   {
    "duration": 13,
    "start_time": "2022-01-22T14:29:55.736Z"
   },
   {
    "duration": 15,
    "start_time": "2022-01-22T14:29:55.750Z"
   },
   {
    "duration": 84,
    "start_time": "2022-01-22T14:29:55.767Z"
   },
   {
    "duration": 68,
    "start_time": "2022-01-22T14:29:55.853Z"
   },
   {
    "duration": 29,
    "start_time": "2022-01-22T14:29:55.923Z"
   },
   {
    "duration": 25,
    "start_time": "2022-01-22T14:29:55.953Z"
   },
   {
    "duration": 33,
    "start_time": "2022-01-22T14:29:55.979Z"
   },
   {
    "duration": 18,
    "start_time": "2022-01-22T14:29:56.014Z"
   },
   {
    "duration": 17,
    "start_time": "2022-01-22T14:29:56.034Z"
   },
   {
    "duration": 5,
    "start_time": "2022-01-22T14:29:56.053Z"
   },
   {
    "duration": 47,
    "start_time": "2022-01-22T14:29:56.059Z"
   },
   {
    "duration": 8,
    "start_time": "2022-01-22T14:29:56.107Z"
   },
   {
    "duration": 14,
    "start_time": "2022-01-22T14:29:56.116Z"
   },
   {
    "duration": 314,
    "start_time": "2022-01-22T14:29:56.132Z"
   },
   {
    "duration": 4,
    "start_time": "2022-01-22T14:29:56.448Z"
   },
   {
    "duration": 295,
    "start_time": "2022-01-22T14:35:08.986Z"
   },
   {
    "duration": 291,
    "start_time": "2022-01-22T14:35:16.139Z"
   },
   {
    "duration": 13,
    "start_time": "2022-01-22T14:38:15.332Z"
   },
   {
    "duration": 10,
    "start_time": "2022-01-22T14:38:31.122Z"
   },
   {
    "duration": 14,
    "start_time": "2022-01-22T14:39:14.636Z"
   },
   {
    "duration": 10,
    "start_time": "2022-01-22T14:43:50.423Z"
   },
   {
    "duration": 1036,
    "start_time": "2022-01-22T14:45:31.774Z"
   },
   {
    "duration": 393,
    "start_time": "2022-01-22T14:45:32.812Z"
   },
   {
    "duration": 4,
    "start_time": "2022-01-22T14:45:33.208Z"
   },
   {
    "duration": 191,
    "start_time": "2022-01-22T14:45:33.214Z"
   },
   {
    "duration": 142,
    "start_time": "2022-01-22T14:45:33.407Z"
   },
   {
    "duration": 101,
    "start_time": "2022-01-22T14:45:33.551Z"
   },
   {
    "duration": 63,
    "start_time": "2022-01-22T14:45:33.653Z"
   },
   {
    "duration": 32,
    "start_time": "2022-01-22T14:45:33.719Z"
   },
   {
    "duration": 60,
    "start_time": "2022-01-22T14:45:33.753Z"
   },
   {
    "duration": 6,
    "start_time": "2022-01-22T14:45:33.815Z"
   },
   {
    "duration": 28,
    "start_time": "2022-01-22T14:45:33.823Z"
   },
   {
    "duration": 6,
    "start_time": "2022-01-22T14:45:33.853Z"
   },
   {
    "duration": 41,
    "start_time": "2022-01-22T14:45:33.860Z"
   },
   {
    "duration": 18,
    "start_time": "2022-01-22T14:45:33.902Z"
   },
   {
    "duration": 8,
    "start_time": "2022-01-22T14:45:33.922Z"
   },
   {
    "duration": 18,
    "start_time": "2022-01-22T14:45:33.931Z"
   },
   {
    "duration": 16,
    "start_time": "2022-01-22T14:45:33.951Z"
   },
   {
    "duration": 35,
    "start_time": "2022-01-22T14:45:33.969Z"
   },
   {
    "duration": 7,
    "start_time": "2022-01-22T14:45:34.006Z"
   },
   {
    "duration": 13,
    "start_time": "2022-01-22T14:45:34.015Z"
   },
   {
    "duration": 232,
    "start_time": "2022-01-22T14:45:34.029Z"
   },
   {
    "duration": -80,
    "start_time": "2022-01-22T14:45:34.344Z"
   },
   {
    "duration": -83,
    "start_time": "2022-01-22T14:45:34.348Z"
   },
   {
    "duration": -87,
    "start_time": "2022-01-22T14:45:34.353Z"
   },
   {
    "duration": -91,
    "start_time": "2022-01-22T14:45:34.358Z"
   },
   {
    "duration": -97,
    "start_time": "2022-01-22T14:45:34.366Z"
   },
   {
    "duration": -101,
    "start_time": "2022-01-22T14:45:34.371Z"
   },
   {
    "duration": -125,
    "start_time": "2022-01-22T14:45:34.396Z"
   },
   {
    "duration": -128,
    "start_time": "2022-01-22T14:45:34.401Z"
   },
   {
    "duration": -132,
    "start_time": "2022-01-22T14:45:34.406Z"
   },
   {
    "duration": -136,
    "start_time": "2022-01-22T14:45:34.412Z"
   },
   {
    "duration": -139,
    "start_time": "2022-01-22T14:45:34.416Z"
   },
   {
    "duration": -142,
    "start_time": "2022-01-22T14:45:34.420Z"
   },
   {
    "duration": -144,
    "start_time": "2022-01-22T14:45:34.424Z"
   },
   {
    "duration": -147,
    "start_time": "2022-01-22T14:45:34.428Z"
   },
   {
    "duration": -150,
    "start_time": "2022-01-22T14:45:34.433Z"
   },
   {
    "duration": -153,
    "start_time": "2022-01-22T14:45:34.437Z"
   },
   {
    "duration": -156,
    "start_time": "2022-01-22T14:45:34.441Z"
   },
   {
    "duration": -158,
    "start_time": "2022-01-22T14:45:34.445Z"
   },
   {
    "duration": -161,
    "start_time": "2022-01-22T14:45:34.449Z"
   },
   {
    "duration": -162,
    "start_time": "2022-01-22T14:45:34.452Z"
   },
   {
    "duration": -163,
    "start_time": "2022-01-22T14:45:34.456Z"
   },
   {
    "duration": -165,
    "start_time": "2022-01-22T14:45:34.460Z"
   },
   {
    "duration": -168,
    "start_time": "2022-01-22T14:45:34.464Z"
   },
   {
    "duration": -170,
    "start_time": "2022-01-22T14:45:34.467Z"
   },
   {
    "duration": -172,
    "start_time": "2022-01-22T14:45:34.471Z"
   },
   {
    "duration": -175,
    "start_time": "2022-01-22T14:45:34.475Z"
   },
   {
    "duration": 14,
    "start_time": "2022-01-22T14:46:21.309Z"
   },
   {
    "duration": 13,
    "start_time": "2022-01-22T14:46:42.023Z"
   },
   {
    "duration": 14,
    "start_time": "2022-01-22T14:46:53.594Z"
   },
   {
    "duration": 14,
    "start_time": "2022-01-22T14:47:02.109Z"
   },
   {
    "duration": 14,
    "start_time": "2022-01-22T14:47:10.415Z"
   },
   {
    "duration": 142,
    "start_time": "2022-01-22T14:47:41.713Z"
   },
   {
    "duration": 976,
    "start_time": "2022-01-22T14:47:53.606Z"
   },
   {
    "duration": 400,
    "start_time": "2022-01-22T14:47:54.584Z"
   },
   {
    "duration": 3,
    "start_time": "2022-01-22T14:47:54.986Z"
   },
   {
    "duration": 197,
    "start_time": "2022-01-22T14:47:54.991Z"
   },
   {
    "duration": 132,
    "start_time": "2022-01-22T14:47:55.197Z"
   },
   {
    "duration": 98,
    "start_time": "2022-01-22T14:47:55.331Z"
   },
   {
    "duration": 40,
    "start_time": "2022-01-22T14:47:55.430Z"
   },
   {
    "duration": 52,
    "start_time": "2022-01-22T14:47:55.472Z"
   },
   {
    "duration": 42,
    "start_time": "2022-01-22T14:47:55.526Z"
   },
   {
    "duration": 14,
    "start_time": "2022-01-22T14:47:55.569Z"
   },
   {
    "duration": 56,
    "start_time": "2022-01-22T14:47:55.597Z"
   },
   {
    "duration": 40,
    "start_time": "2022-01-22T14:47:55.655Z"
   },
   {
    "duration": 51,
    "start_time": "2022-01-22T14:47:55.696Z"
   },
   {
    "duration": 48,
    "start_time": "2022-01-22T14:47:55.749Z"
   },
   {
    "duration": 27,
    "start_time": "2022-01-22T14:47:55.799Z"
   },
   {
    "duration": 49,
    "start_time": "2022-01-22T14:47:55.827Z"
   },
   {
    "duration": 55,
    "start_time": "2022-01-22T14:47:55.878Z"
   },
   {
    "duration": 38,
    "start_time": "2022-01-22T14:47:55.934Z"
   },
   {
    "duration": 45,
    "start_time": "2022-01-22T14:47:55.973Z"
   },
   {
    "duration": 65,
    "start_time": "2022-01-22T14:47:56.020Z"
   },
   {
    "duration": 68,
    "start_time": "2022-01-22T14:47:56.087Z"
   },
   {
    "duration": 24,
    "start_time": "2022-01-22T14:47:56.157Z"
   },
   {
    "duration": 32,
    "start_time": "2022-01-22T14:47:56.185Z"
   },
   {
    "duration": 29,
    "start_time": "2022-01-22T14:47:56.219Z"
   },
   {
    "duration": 44,
    "start_time": "2022-01-22T14:47:56.250Z"
   },
   {
    "duration": 56,
    "start_time": "2022-01-22T14:47:56.295Z"
   },
   {
    "duration": 34,
    "start_time": "2022-01-22T14:47:56.353Z"
   },
   {
    "duration": 52,
    "start_time": "2022-01-22T14:47:56.389Z"
   },
   {
    "duration": 58,
    "start_time": "2022-01-22T14:47:56.442Z"
   },
   {
    "duration": 30,
    "start_time": "2022-01-22T14:47:56.501Z"
   },
   {
    "duration": 50,
    "start_time": "2022-01-22T14:47:56.532Z"
   },
   {
    "duration": 68,
    "start_time": "2022-01-22T14:47:56.584Z"
   },
   {
    "duration": 97,
    "start_time": "2022-01-22T14:47:56.653Z"
   },
   {
    "duration": 67,
    "start_time": "2022-01-22T14:47:56.751Z"
   },
   {
    "duration": 30,
    "start_time": "2022-01-22T14:47:56.819Z"
   },
   {
    "duration": 57,
    "start_time": "2022-01-22T14:47:56.851Z"
   },
   {
    "duration": 51,
    "start_time": "2022-01-22T14:47:56.909Z"
   },
   {
    "duration": 54,
    "start_time": "2022-01-22T14:47:56.961Z"
   },
   {
    "duration": 36,
    "start_time": "2022-01-22T14:47:57.016Z"
   },
   {
    "duration": 22,
    "start_time": "2022-01-22T14:47:57.054Z"
   },
   {
    "duration": 50,
    "start_time": "2022-01-22T14:47:57.077Z"
   },
   {
    "duration": 36,
    "start_time": "2022-01-22T14:47:57.128Z"
   },
   {
    "duration": 44,
    "start_time": "2022-01-22T14:47:57.165Z"
   },
   {
    "duration": 37,
    "start_time": "2022-01-22T14:47:57.210Z"
   },
   {
    "duration": 312,
    "start_time": "2022-01-22T14:47:57.249Z"
   },
   {
    "duration": 4,
    "start_time": "2022-01-22T14:47:57.563Z"
   },
   {
    "duration": 297,
    "start_time": "2022-01-22T14:48:19.776Z"
   },
   {
    "duration": 298,
    "start_time": "2022-01-22T14:49:18.562Z"
   },
   {
    "duration": 316,
    "start_time": "2022-01-22T14:56:39.615Z"
   },
   {
    "duration": 312,
    "start_time": "2022-01-22T14:57:09.614Z"
   },
   {
    "duration": 1053,
    "start_time": "2022-01-22T15:10:42.517Z"
   },
   {
    "duration": 423,
    "start_time": "2022-01-22T15:10:43.572Z"
   },
   {
    "duration": 3,
    "start_time": "2022-01-22T15:10:43.997Z"
   },
   {
    "duration": 196,
    "start_time": "2022-01-22T15:10:44.002Z"
   },
   {
    "duration": 146,
    "start_time": "2022-01-22T15:10:44.200Z"
   },
   {
    "duration": 96,
    "start_time": "2022-01-22T15:10:44.347Z"
   },
   {
    "duration": 57,
    "start_time": "2022-01-22T15:10:44.444Z"
   },
   {
    "duration": 30,
    "start_time": "2022-01-22T15:10:44.503Z"
   },
   {
    "duration": 34,
    "start_time": "2022-01-22T15:10:44.535Z"
   },
   {
    "duration": 6,
    "start_time": "2022-01-22T15:10:44.598Z"
   },
   {
    "duration": 29,
    "start_time": "2022-01-22T15:10:44.605Z"
   },
   {
    "duration": 5,
    "start_time": "2022-01-22T15:10:44.636Z"
   },
   {
    "duration": 27,
    "start_time": "2022-01-22T15:10:44.643Z"
   },
   {
    "duration": 33,
    "start_time": "2022-01-22T15:10:44.671Z"
   },
   {
    "duration": 8,
    "start_time": "2022-01-22T15:10:44.706Z"
   },
   {
    "duration": 17,
    "start_time": "2022-01-22T15:10:44.715Z"
   },
   {
    "duration": 16,
    "start_time": "2022-01-22T15:10:44.734Z"
   },
   {
    "duration": 8,
    "start_time": "2022-01-22T15:10:44.752Z"
   },
   {
    "duration": 7,
    "start_time": "2022-01-22T15:10:44.762Z"
   },
   {
    "duration": 29,
    "start_time": "2022-01-22T15:10:44.770Z"
   },
   {
    "duration": 16,
    "start_time": "2022-01-22T15:10:44.801Z"
   },
   {
    "duration": 21,
    "start_time": "2022-01-22T15:10:44.818Z"
   },
   {
    "duration": 5,
    "start_time": "2022-01-22T15:10:44.842Z"
   },
   {
    "duration": 10,
    "start_time": "2022-01-22T15:10:44.849Z"
   },
   {
    "duration": 8,
    "start_time": "2022-01-22T15:10:44.861Z"
   },
   {
    "duration": 34,
    "start_time": "2022-01-22T15:10:44.870Z"
   },
   {
    "duration": 18,
    "start_time": "2022-01-22T15:10:44.906Z"
   },
   {
    "duration": 16,
    "start_time": "2022-01-22T15:10:44.925Z"
   },
   {
    "duration": 9,
    "start_time": "2022-01-22T15:10:44.943Z"
   },
   {
    "duration": 8,
    "start_time": "2022-01-22T15:10:44.953Z"
   },
   {
    "duration": 12,
    "start_time": "2022-01-22T15:10:44.963Z"
   },
   {
    "duration": 21,
    "start_time": "2022-01-22T15:10:44.977Z"
   },
   {
    "duration": 22,
    "start_time": "2022-01-22T15:10:44.999Z"
   },
   {
    "duration": 98,
    "start_time": "2022-01-22T15:10:45.023Z"
   },
   {
    "duration": 60,
    "start_time": "2022-01-22T15:10:45.123Z"
   },
   {
    "duration": 39,
    "start_time": "2022-01-22T15:10:45.185Z"
   },
   {
    "duration": 25,
    "start_time": "2022-01-22T15:10:45.226Z"
   },
   {
    "duration": 17,
    "start_time": "2022-01-22T15:10:45.253Z"
   },
   {
    "duration": 20,
    "start_time": "2022-01-22T15:10:45.297Z"
   },
   {
    "duration": 18,
    "start_time": "2022-01-22T15:10:45.319Z"
   },
   {
    "duration": 6,
    "start_time": "2022-01-22T15:10:45.339Z"
   },
   {
    "duration": 14,
    "start_time": "2022-01-22T15:10:45.347Z"
   },
   {
    "duration": 37,
    "start_time": "2022-01-22T15:10:45.363Z"
   },
   {
    "duration": 12,
    "start_time": "2022-01-22T15:10:45.402Z"
   },
   {
    "duration": 13,
    "start_time": "2022-01-22T15:10:45.416Z"
   },
   {
    "duration": 355,
    "start_time": "2022-01-22T15:10:45.431Z"
   },
   {
    "duration": 1079,
    "start_time": "2022-01-22T15:18:43.100Z"
   },
   {
    "duration": 409,
    "start_time": "2022-01-22T15:18:44.180Z"
   },
   {
    "duration": 3,
    "start_time": "2022-01-22T15:18:44.591Z"
   },
   {
    "duration": 190,
    "start_time": "2022-01-22T15:18:44.596Z"
   },
   {
    "duration": 146,
    "start_time": "2022-01-22T15:18:44.788Z"
   },
   {
    "duration": 107,
    "start_time": "2022-01-22T15:18:44.936Z"
   },
   {
    "duration": 65,
    "start_time": "2022-01-22T15:18:45.045Z"
   },
   {
    "duration": 31,
    "start_time": "2022-01-22T15:18:45.112Z"
   },
   {
    "duration": 55,
    "start_time": "2022-01-22T15:18:45.146Z"
   },
   {
    "duration": 6,
    "start_time": "2022-01-22T15:18:45.203Z"
   },
   {
    "duration": 24,
    "start_time": "2022-01-22T15:18:45.210Z"
   },
   {
    "duration": 5,
    "start_time": "2022-01-22T15:18:45.236Z"
   },
   {
    "duration": 27,
    "start_time": "2022-01-22T15:18:45.242Z"
   },
   {
    "duration": 38,
    "start_time": "2022-01-22T15:18:45.270Z"
   },
   {
    "duration": 8,
    "start_time": "2022-01-22T15:18:45.310Z"
   },
   {
    "duration": 15,
    "start_time": "2022-01-22T15:18:45.320Z"
   },
   {
    "duration": 16,
    "start_time": "2022-01-22T15:18:45.337Z"
   },
   {
    "duration": 8,
    "start_time": "2022-01-22T15:18:45.355Z"
   },
   {
    "duration": 37,
    "start_time": "2022-01-22T15:18:45.364Z"
   },
   {
    "duration": 4,
    "start_time": "2022-01-22T15:18:45.403Z"
   },
   {
    "duration": 15,
    "start_time": "2022-01-22T15:18:45.409Z"
   },
   {
    "duration": 22,
    "start_time": "2022-01-22T15:18:45.427Z"
   },
   {
    "duration": 5,
    "start_time": "2022-01-22T15:18:45.453Z"
   },
   {
    "duration": 6,
    "start_time": "2022-01-22T15:18:45.460Z"
   },
   {
    "duration": 7,
    "start_time": "2022-01-22T15:18:45.498Z"
   },
   {
    "duration": 8,
    "start_time": "2022-01-22T15:18:45.507Z"
   },
   {
    "duration": 6,
    "start_time": "2022-01-22T15:18:45.516Z"
   },
   {
    "duration": 12,
    "start_time": "2022-01-22T15:18:45.524Z"
   },
   {
    "duration": 20,
    "start_time": "2022-01-22T15:18:45.538Z"
   },
   {
    "duration": 38,
    "start_time": "2022-01-22T15:18:45.560Z"
   },
   {
    "duration": 9,
    "start_time": "2022-01-22T15:18:45.600Z"
   },
   {
    "duration": 10,
    "start_time": "2022-01-22T15:18:45.611Z"
   },
   {
    "duration": 15,
    "start_time": "2022-01-22T15:18:45.623Z"
   },
   {
    "duration": 94,
    "start_time": "2022-01-22T15:18:45.640Z"
   },
   {
    "duration": 76,
    "start_time": "2022-01-22T15:18:45.736Z"
   },
   {
    "duration": 31,
    "start_time": "2022-01-22T15:18:45.814Z"
   },
   {
    "duration": 27,
    "start_time": "2022-01-22T15:18:45.847Z"
   },
   {
    "duration": 17,
    "start_time": "2022-01-22T15:18:45.897Z"
   },
   {
    "duration": 19,
    "start_time": "2022-01-22T15:18:45.916Z"
   },
   {
    "duration": 337,
    "start_time": "2022-01-22T15:18:45.937Z"
   },
   {
    "duration": -92,
    "start_time": "2022-01-22T15:18:46.368Z"
   },
   {
    "duration": -95,
    "start_time": "2022-01-22T15:18:46.372Z"
   },
   {
    "duration": -97,
    "start_time": "2022-01-22T15:18:46.375Z"
   },
   {
    "duration": -100,
    "start_time": "2022-01-22T15:18:46.379Z"
   },
   {
    "duration": -103,
    "start_time": "2022-01-22T15:18:46.383Z"
   },
   {
    "duration": -106,
    "start_time": "2022-01-22T15:18:46.387Z"
   },
   {
    "duration": -108,
    "start_time": "2022-01-22T15:18:46.390Z"
   },
   {
    "duration": 1060,
    "start_time": "2022-01-22T15:20:40.023Z"
   },
   {
    "duration": 412,
    "start_time": "2022-01-22T15:20:41.085Z"
   },
   {
    "duration": 3,
    "start_time": "2022-01-22T15:20:41.499Z"
   },
   {
    "duration": 186,
    "start_time": "2022-01-22T15:20:41.504Z"
   },
   {
    "duration": 152,
    "start_time": "2022-01-22T15:20:41.691Z"
   },
   {
    "duration": 98,
    "start_time": "2022-01-22T15:20:41.845Z"
   },
   {
    "duration": 58,
    "start_time": "2022-01-22T15:20:41.945Z"
   },
   {
    "duration": 31,
    "start_time": "2022-01-22T15:20:42.006Z"
   },
   {
    "duration": 59,
    "start_time": "2022-01-22T15:20:42.039Z"
   },
   {
    "duration": 6,
    "start_time": "2022-01-22T15:20:42.100Z"
   },
   {
    "duration": 53,
    "start_time": "2022-01-22T15:20:42.108Z"
   },
   {
    "duration": 40,
    "start_time": "2022-01-22T15:20:42.163Z"
   },
   {
    "duration": 48,
    "start_time": "2022-01-22T15:20:42.205Z"
   },
   {
    "duration": 38,
    "start_time": "2022-01-22T15:20:42.255Z"
   },
   {
    "duration": 29,
    "start_time": "2022-01-22T15:20:42.295Z"
   },
   {
    "duration": 12,
    "start_time": "2022-01-22T15:20:42.326Z"
   },
   {
    "duration": 16,
    "start_time": "2022-01-22T15:20:42.339Z"
   },
   {
    "duration": 8,
    "start_time": "2022-01-22T15:20:42.357Z"
   },
   {
    "duration": 9,
    "start_time": "2022-01-22T15:20:42.366Z"
   },
   {
    "duration": 9,
    "start_time": "2022-01-22T15:20:42.377Z"
   },
   {
    "duration": 19,
    "start_time": "2022-01-22T15:20:42.388Z"
   },
   {
    "duration": 19,
    "start_time": "2022-01-22T15:20:42.409Z"
   },
   {
    "duration": 4,
    "start_time": "2022-01-22T15:20:42.433Z"
   },
   {
    "duration": 6,
    "start_time": "2022-01-22T15:20:42.440Z"
   },
   {
    "duration": 12,
    "start_time": "2022-01-22T15:20:42.447Z"
   },
   {
    "duration": 8,
    "start_time": "2022-01-22T15:20:42.460Z"
   },
   {
    "duration": 6,
    "start_time": "2022-01-22T15:20:42.498Z"
   },
   {
    "duration": 10,
    "start_time": "2022-01-22T15:20:42.505Z"
   },
   {
    "duration": 24,
    "start_time": "2022-01-22T15:20:42.516Z"
   },
   {
    "duration": 13,
    "start_time": "2022-01-22T15:20:42.541Z"
   },
   {
    "duration": 9,
    "start_time": "2022-01-22T15:20:42.556Z"
   },
   {
    "duration": 14,
    "start_time": "2022-01-22T15:20:42.567Z"
   },
   {
    "duration": 15,
    "start_time": "2022-01-22T15:20:42.582Z"
   },
   {
    "duration": 75,
    "start_time": "2022-01-22T15:20:42.599Z"
   },
   {
    "duration": 75,
    "start_time": "2022-01-22T15:20:42.676Z"
   },
   {
    "duration": 54,
    "start_time": "2022-01-22T15:20:42.753Z"
   },
   {
    "duration": 28,
    "start_time": "2022-01-22T15:20:42.809Z"
   },
   {
    "duration": 18,
    "start_time": "2022-01-22T15:20:42.839Z"
   },
   {
    "duration": 44,
    "start_time": "2022-01-22T15:20:42.858Z"
   },
   {
    "duration": 216,
    "start_time": "2022-01-22T15:20:42.904Z"
   },
   {
    "duration": -104,
    "start_time": "2022-01-22T15:20:43.226Z"
   },
   {
    "duration": -108,
    "start_time": "2022-01-22T15:20:43.230Z"
   },
   {
    "duration": -110,
    "start_time": "2022-01-22T15:20:43.233Z"
   },
   {
    "duration": -113,
    "start_time": "2022-01-22T15:20:43.237Z"
   },
   {
    "duration": -116,
    "start_time": "2022-01-22T15:20:43.241Z"
   },
   {
    "duration": -118,
    "start_time": "2022-01-22T15:20:43.244Z"
   },
   {
    "duration": -120,
    "start_time": "2022-01-22T15:20:43.247Z"
   },
   {
    "duration": 18,
    "start_time": "2022-01-22T15:25:54.269Z"
   },
   {
    "duration": 1055,
    "start_time": "2022-01-22T15:26:08.332Z"
   },
   {
    "duration": 456,
    "start_time": "2022-01-22T15:26:09.389Z"
   },
   {
    "duration": 4,
    "start_time": "2022-01-22T15:26:09.849Z"
   },
   {
    "duration": 234,
    "start_time": "2022-01-22T15:26:09.854Z"
   },
   {
    "duration": 171,
    "start_time": "2022-01-22T15:26:10.091Z"
   },
   {
    "duration": 95,
    "start_time": "2022-01-22T15:26:10.264Z"
   },
   {
    "duration": 79,
    "start_time": "2022-01-22T15:26:10.362Z"
   },
   {
    "duration": 60,
    "start_time": "2022-01-22T15:26:10.444Z"
   },
   {
    "duration": 31,
    "start_time": "2022-01-22T15:26:10.506Z"
   },
   {
    "duration": 6,
    "start_time": "2022-01-22T15:26:10.538Z"
   },
   {
    "duration": 24,
    "start_time": "2022-01-22T15:26:10.546Z"
   },
   {
    "duration": 30,
    "start_time": "2022-01-22T15:26:10.572Z"
   },
   {
    "duration": 19,
    "start_time": "2022-01-22T15:26:10.604Z"
   },
   {
    "duration": 18,
    "start_time": "2022-01-22T15:26:10.624Z"
   },
   {
    "duration": 9,
    "start_time": "2022-01-22T15:26:10.643Z"
   },
   {
    "duration": 50,
    "start_time": "2022-01-22T15:26:10.655Z"
   },
   {
    "duration": 19,
    "start_time": "2022-01-22T15:26:10.707Z"
   },
   {
    "duration": 9,
    "start_time": "2022-01-22T15:26:10.728Z"
   },
   {
    "duration": 14,
    "start_time": "2022-01-22T15:26:10.738Z"
   },
   {
    "duration": 5,
    "start_time": "2022-01-22T15:26:10.754Z"
   },
   {
    "duration": 39,
    "start_time": "2022-01-22T15:26:10.760Z"
   },
   {
    "duration": 24,
    "start_time": "2022-01-22T15:26:10.804Z"
   },
   {
    "duration": 4,
    "start_time": "2022-01-22T15:26:10.831Z"
   },
   {
    "duration": 7,
    "start_time": "2022-01-22T15:26:10.836Z"
   },
   {
    "duration": 8,
    "start_time": "2022-01-22T15:26:10.844Z"
   },
   {
    "duration": 11,
    "start_time": "2022-01-22T15:26:10.853Z"
   },
   {
    "duration": 33,
    "start_time": "2022-01-22T15:26:10.865Z"
   },
   {
    "duration": 11,
    "start_time": "2022-01-22T15:26:10.900Z"
   },
   {
    "duration": 7,
    "start_time": "2022-01-22T15:26:10.913Z"
   },
   {
    "duration": 7,
    "start_time": "2022-01-22T15:26:10.922Z"
   },
   {
    "duration": 10,
    "start_time": "2022-01-22T15:26:10.931Z"
   },
   {
    "duration": 17,
    "start_time": "2022-01-22T15:26:10.943Z"
   },
   {
    "duration": 36,
    "start_time": "2022-01-22T15:26:10.962Z"
   },
   {
    "duration": 77,
    "start_time": "2022-01-22T15:26:11.000Z"
   },
   {
    "duration": 74,
    "start_time": "2022-01-22T15:26:11.079Z"
   },
   {
    "duration": 43,
    "start_time": "2022-01-22T15:26:11.155Z"
   },
   {
    "duration": 26,
    "start_time": "2022-01-22T15:26:11.200Z"
   },
   {
    "duration": 16,
    "start_time": "2022-01-22T15:26:11.227Z"
   },
   {
    "duration": 18,
    "start_time": "2022-01-22T15:26:11.244Z"
   },
   {
    "duration": 47,
    "start_time": "2022-01-22T15:26:11.264Z"
   },
   {
    "duration": 6,
    "start_time": "2022-01-22T15:26:11.313Z"
   },
   {
    "duration": 13,
    "start_time": "2022-01-22T15:26:11.321Z"
   },
   {
    "duration": 9,
    "start_time": "2022-01-22T15:26:11.336Z"
   },
   {
    "duration": 10,
    "start_time": "2022-01-22T15:26:11.347Z"
   },
   {
    "duration": 44,
    "start_time": "2022-01-22T15:26:11.359Z"
   },
   {
    "duration": 330,
    "start_time": "2022-01-22T15:26:11.404Z"
   },
   {
    "duration": 1081,
    "start_time": "2022-01-22T15:29:18.987Z"
   },
   {
    "duration": 420,
    "start_time": "2022-01-22T15:29:20.070Z"
   },
   {
    "duration": 3,
    "start_time": "2022-01-22T15:29:20.492Z"
   },
   {
    "duration": 185,
    "start_time": "2022-01-22T15:29:20.497Z"
   },
   {
    "duration": 146,
    "start_time": "2022-01-22T15:29:20.684Z"
   },
   {
    "duration": 102,
    "start_time": "2022-01-22T15:29:20.831Z"
   },
   {
    "duration": 39,
    "start_time": "2022-01-22T15:29:20.934Z"
   },
   {
    "duration": 43,
    "start_time": "2022-01-22T15:29:20.996Z"
   },
   {
    "duration": 59,
    "start_time": "2022-01-22T15:29:21.041Z"
   },
   {
    "duration": 6,
    "start_time": "2022-01-22T15:29:21.102Z"
   },
   {
    "duration": 44,
    "start_time": "2022-01-22T15:29:21.110Z"
   },
   {
    "duration": 11,
    "start_time": "2022-01-22T15:29:21.156Z"
   },
   {
    "duration": 40,
    "start_time": "2022-01-22T15:29:21.169Z"
   },
   {
    "duration": 32,
    "start_time": "2022-01-22T15:29:21.211Z"
   },
   {
    "duration": 48,
    "start_time": "2022-01-22T15:29:21.245Z"
   },
   {
    "duration": 33,
    "start_time": "2022-01-22T15:29:21.294Z"
   },
   {
    "duration": 37,
    "start_time": "2022-01-22T15:29:21.329Z"
   },
   {
    "duration": 8,
    "start_time": "2022-01-22T15:29:21.368Z"
   },
   {
    "duration": 55,
    "start_time": "2022-01-22T15:29:21.378Z"
   },
   {
    "duration": 38,
    "start_time": "2022-01-22T15:29:21.435Z"
   },
   {
    "duration": 43,
    "start_time": "2022-01-22T15:29:21.475Z"
   },
   {
    "duration": 29,
    "start_time": "2022-01-22T15:29:21.520Z"
   },
   {
    "duration": 19,
    "start_time": "2022-01-22T15:29:21.552Z"
   },
   {
    "duration": 32,
    "start_time": "2022-01-22T15:29:21.574Z"
   },
   {
    "duration": 35,
    "start_time": "2022-01-22T15:29:21.608Z"
   },
   {
    "duration": 22,
    "start_time": "2022-01-22T15:29:21.645Z"
   },
   {
    "duration": 24,
    "start_time": "2022-01-22T15:29:21.669Z"
   },
   {
    "duration": 32,
    "start_time": "2022-01-22T15:29:21.695Z"
   },
   {
    "duration": 25,
    "start_time": "2022-01-22T15:29:21.730Z"
   },
   {
    "duration": 15,
    "start_time": "2022-01-22T15:29:21.757Z"
   },
   {
    "duration": 32,
    "start_time": "2022-01-22T15:29:21.774Z"
   },
   {
    "duration": 26,
    "start_time": "2022-01-22T15:29:21.808Z"
   },
   {
    "duration": 17,
    "start_time": "2022-01-22T15:29:21.837Z"
   },
   {
    "duration": 79,
    "start_time": "2022-01-22T15:29:21.856Z"
   },
   {
    "duration": 71,
    "start_time": "2022-01-22T15:29:21.937Z"
   },
   {
    "duration": 32,
    "start_time": "2022-01-22T15:29:22.010Z"
   },
   {
    "duration": 27,
    "start_time": "2022-01-22T15:29:22.044Z"
   },
   {
    "duration": 38,
    "start_time": "2022-01-22T15:29:22.073Z"
   },
   {
    "duration": 21,
    "start_time": "2022-01-22T15:29:22.114Z"
   },
   {
    "duration": 18,
    "start_time": "2022-01-22T15:29:22.138Z"
   },
   {
    "duration": 22,
    "start_time": "2022-01-22T15:29:22.158Z"
   },
   {
    "duration": 20,
    "start_time": "2022-01-22T15:29:22.197Z"
   },
   {
    "duration": 46,
    "start_time": "2022-01-22T15:29:22.219Z"
   },
   {
    "duration": 21,
    "start_time": "2022-01-22T15:29:22.268Z"
   },
   {
    "duration": 25,
    "start_time": "2022-01-22T15:29:22.291Z"
   },
   {
    "duration": 316,
    "start_time": "2022-01-22T15:29:22.318Z"
   },
   {
    "duration": 20,
    "start_time": "2022-01-22T15:31:48.802Z"
   },
   {
    "duration": 1020,
    "start_time": "2022-01-22T15:31:56.054Z"
   },
   {
    "duration": 401,
    "start_time": "2022-01-22T15:31:57.076Z"
   },
   {
    "duration": 3,
    "start_time": "2022-01-22T15:31:57.479Z"
   },
   {
    "duration": 198,
    "start_time": "2022-01-22T15:31:57.484Z"
   },
   {
    "duration": 140,
    "start_time": "2022-01-22T15:31:57.684Z"
   },
   {
    "duration": 107,
    "start_time": "2022-01-22T15:31:57.826Z"
   },
   {
    "duration": 40,
    "start_time": "2022-01-22T15:31:57.934Z"
   },
   {
    "duration": 47,
    "start_time": "2022-01-22T15:31:57.976Z"
   },
   {
    "duration": 30,
    "start_time": "2022-01-22T15:31:58.025Z"
   },
   {
    "duration": 5,
    "start_time": "2022-01-22T15:31:58.057Z"
   },
   {
    "duration": 52,
    "start_time": "2022-01-22T15:31:58.063Z"
   },
   {
    "duration": 5,
    "start_time": "2022-01-22T15:31:58.117Z"
   },
   {
    "duration": 16,
    "start_time": "2022-01-22T15:31:58.124Z"
   },
   {
    "duration": 18,
    "start_time": "2022-01-22T15:31:58.141Z"
   },
   {
    "duration": 42,
    "start_time": "2022-01-22T15:31:58.161Z"
   },
   {
    "duration": 13,
    "start_time": "2022-01-22T15:31:58.204Z"
   },
   {
    "duration": 16,
    "start_time": "2022-01-22T15:31:58.218Z"
   },
   {
    "duration": 7,
    "start_time": "2022-01-22T15:31:58.236Z"
   },
   {
    "duration": 5,
    "start_time": "2022-01-22T15:31:58.245Z"
   },
   {
    "duration": 5,
    "start_time": "2022-01-22T15:31:58.251Z"
   },
   {
    "duration": 44,
    "start_time": "2022-01-22T15:31:58.257Z"
   },
   {
    "duration": 20,
    "start_time": "2022-01-22T15:31:58.302Z"
   },
   {
    "duration": 4,
    "start_time": "2022-01-22T15:31:58.327Z"
   },
   {
    "duration": 6,
    "start_time": "2022-01-22T15:31:58.333Z"
   },
   {
    "duration": 8,
    "start_time": "2022-01-22T15:31:58.340Z"
   },
   {
    "duration": 13,
    "start_time": "2022-01-22T15:31:58.349Z"
   },
   {
    "duration": 17,
    "start_time": "2022-01-22T15:31:58.364Z"
   },
   {
    "duration": 5,
    "start_time": "2022-01-22T15:31:58.397Z"
   },
   {
    "duration": 7,
    "start_time": "2022-01-22T15:31:58.404Z"
   },
   {
    "duration": 6,
    "start_time": "2022-01-22T15:31:58.413Z"
   },
   {
    "duration": 9,
    "start_time": "2022-01-22T15:31:58.420Z"
   },
   {
    "duration": 13,
    "start_time": "2022-01-22T15:31:58.431Z"
   },
   {
    "duration": 12,
    "start_time": "2022-01-22T15:31:58.445Z"
   },
   {
    "duration": 96,
    "start_time": "2022-01-22T15:31:58.458Z"
   },
   {
    "duration": 71,
    "start_time": "2022-01-22T15:31:58.555Z"
   },
   {
    "duration": 32,
    "start_time": "2022-01-22T15:31:58.627Z"
   },
   {
    "duration": 41,
    "start_time": "2022-01-22T15:31:58.660Z"
   },
   {
    "duration": 17,
    "start_time": "2022-01-22T15:31:58.703Z"
   },
   {
    "duration": 18,
    "start_time": "2022-01-22T15:31:58.721Z"
   },
   {
    "duration": 17,
    "start_time": "2022-01-22T15:31:58.741Z"
   },
   {
    "duration": 5,
    "start_time": "2022-01-22T15:31:58.760Z"
   },
   {
    "duration": 43,
    "start_time": "2022-01-22T15:31:58.766Z"
   },
   {
    "duration": 12,
    "start_time": "2022-01-22T15:31:58.810Z"
   },
   {
    "duration": 10,
    "start_time": "2022-01-22T15:31:58.824Z"
   },
   {
    "duration": 16,
    "start_time": "2022-01-22T15:31:58.836Z"
   },
   {
    "duration": 357,
    "start_time": "2022-01-22T15:31:58.854Z"
   },
   {
    "duration": 30,
    "start_time": "2022-01-22T17:18:57.057Z"
   },
   {
    "duration": 226,
    "start_time": "2022-01-22T17:21:22.303Z"
   },
   {
    "duration": 159,
    "start_time": "2022-01-22T17:22:01.301Z"
   },
   {
    "duration": 152,
    "start_time": "2022-01-22T17:22:11.841Z"
   },
   {
    "duration": 977,
    "start_time": "2022-01-22T17:22:24.313Z"
   },
   {
    "duration": 424,
    "start_time": "2022-01-22T17:22:25.292Z"
   },
   {
    "duration": 3,
    "start_time": "2022-01-22T17:22:25.718Z"
   },
   {
    "duration": 191,
    "start_time": "2022-01-22T17:22:25.723Z"
   },
   {
    "duration": 144,
    "start_time": "2022-01-22T17:22:25.916Z"
   },
   {
    "duration": 103,
    "start_time": "2022-01-22T17:22:26.061Z"
   },
   {
    "duration": 58,
    "start_time": "2022-01-22T17:22:26.166Z"
   },
   {
    "duration": 31,
    "start_time": "2022-01-22T17:22:26.227Z"
   },
   {
    "duration": 67,
    "start_time": "2022-01-22T17:22:26.260Z"
   },
   {
    "duration": 7,
    "start_time": "2022-01-22T17:22:26.329Z"
   },
   {
    "duration": 27,
    "start_time": "2022-01-22T17:22:26.338Z"
   },
   {
    "duration": 5,
    "start_time": "2022-01-22T17:22:26.367Z"
   },
   {
    "duration": 16,
    "start_time": "2022-01-22T17:22:26.398Z"
   },
   {
    "duration": 17,
    "start_time": "2022-01-22T17:22:26.416Z"
   },
   {
    "duration": 8,
    "start_time": "2022-01-22T17:22:26.435Z"
   },
   {
    "duration": 16,
    "start_time": "2022-01-22T17:22:26.445Z"
   },
   {
    "duration": 46,
    "start_time": "2022-01-22T17:22:26.463Z"
   },
   {
    "duration": 8,
    "start_time": "2022-01-22T17:22:26.511Z"
   },
   {
    "duration": 6,
    "start_time": "2022-01-22T17:22:26.521Z"
   },
   {
    "duration": 6,
    "start_time": "2022-01-22T17:22:26.529Z"
   },
   {
    "duration": 15,
    "start_time": "2022-01-22T17:22:26.537Z"
   },
   {
    "duration": 45,
    "start_time": "2022-01-22T17:22:26.553Z"
   },
   {
    "duration": 5,
    "start_time": "2022-01-22T17:22:26.602Z"
   },
   {
    "duration": 7,
    "start_time": "2022-01-22T17:22:26.609Z"
   },
   {
    "duration": 10,
    "start_time": "2022-01-22T17:22:26.617Z"
   },
   {
    "duration": 10,
    "start_time": "2022-01-22T17:22:26.628Z"
   },
   {
    "duration": 10,
    "start_time": "2022-01-22T17:22:26.639Z"
   },
   {
    "duration": 8,
    "start_time": "2022-01-22T17:22:26.651Z"
   },
   {
    "duration": 9,
    "start_time": "2022-01-22T17:22:26.661Z"
   },
   {
    "duration": 6,
    "start_time": "2022-01-22T17:22:26.698Z"
   },
   {
    "duration": 10,
    "start_time": "2022-01-22T17:22:26.705Z"
   },
   {
    "duration": 12,
    "start_time": "2022-01-22T17:22:26.717Z"
   },
   {
    "duration": 11,
    "start_time": "2022-01-22T17:22:26.731Z"
   },
   {
    "duration": 100,
    "start_time": "2022-01-22T17:22:26.744Z"
   },
   {
    "duration": 73,
    "start_time": "2022-01-22T17:22:26.846Z"
   },
   {
    "duration": 32,
    "start_time": "2022-01-22T17:22:26.921Z"
   },
   {
    "duration": 25,
    "start_time": "2022-01-22T17:22:26.954Z"
   },
   {
    "duration": 30,
    "start_time": "2022-01-22T17:22:26.981Z"
   },
   {
    "duration": 19,
    "start_time": "2022-01-22T17:22:27.012Z"
   },
   {
    "duration": 17,
    "start_time": "2022-01-22T17:22:27.033Z"
   },
   {
    "duration": 6,
    "start_time": "2022-01-22T17:22:27.051Z"
   },
   {
    "duration": 48,
    "start_time": "2022-01-22T17:22:27.058Z"
   },
   {
    "duration": 20,
    "start_time": "2022-01-22T17:22:27.108Z"
   },
   {
    "duration": 13,
    "start_time": "2022-01-22T17:22:27.130Z"
   },
   {
    "duration": 22,
    "start_time": "2022-01-22T17:22:27.145Z"
   },
   {
    "duration": 319,
    "start_time": "2022-01-22T17:22:27.169Z"
   },
   {
    "duration": 31,
    "start_time": "2022-01-22T17:22:27.490Z"
   },
   {
    "duration": 251,
    "start_time": "2022-01-22T17:22:27.523Z"
   },
   {
    "duration": 147,
    "start_time": "2022-01-22T17:22:58.049Z"
   },
   {
    "duration": 6,
    "start_time": "2022-01-22T17:25:12.341Z"
   },
   {
    "duration": 5,
    "start_time": "2022-01-22T17:25:46.750Z"
   },
   {
    "duration": 16,
    "start_time": "2022-01-22T17:27:14.275Z"
   },
   {
    "duration": 14,
    "start_time": "2022-01-22T17:27:20.052Z"
   },
   {
    "duration": 151,
    "start_time": "2022-01-22T17:32:55.760Z"
   },
   {
    "duration": 23,
    "start_time": "2022-01-22T17:34:41.483Z"
   },
   {
    "duration": 21,
    "start_time": "2022-01-22T17:34:54.158Z"
   },
   {
    "duration": 33,
    "start_time": "2022-01-22T17:35:06.575Z"
   },
   {
    "duration": 29,
    "start_time": "2022-01-22T17:35:36.838Z"
   },
   {
    "duration": 27,
    "start_time": "2022-01-22T17:42:45.301Z"
   },
   {
    "duration": 12,
    "start_time": "2022-01-22T17:47:39.745Z"
   },
   {
    "duration": 8,
    "start_time": "2022-01-22T17:47:50.916Z"
   },
   {
    "duration": 16,
    "start_time": "2022-01-22T17:48:00.546Z"
   },
   {
    "duration": 151,
    "start_time": "2022-01-22T18:02:40.630Z"
   },
   {
    "duration": 81,
    "start_time": "2022-01-22T18:03:41.432Z"
   },
   {
    "duration": 338,
    "start_time": "2022-01-22T18:03:46.670Z"
   },
   {
    "duration": 653,
    "start_time": "2022-01-22T18:06:04.955Z"
   },
   {
    "duration": 403,
    "start_time": "2022-01-22T18:06:18.926Z"
   },
   {
    "duration": 316,
    "start_time": "2022-01-22T18:07:04.578Z"
   },
   {
    "duration": 151,
    "start_time": "2022-01-22T18:09:49.114Z"
   },
   {
    "duration": 415,
    "start_time": "2022-01-22T18:11:10.496Z"
   },
   {
    "duration": 333,
    "start_time": "2022-01-22T18:11:26.884Z"
   },
   {
    "duration": 327,
    "start_time": "2022-01-22T18:12:54.473Z"
   },
   {
    "duration": 513,
    "start_time": "2022-01-22T18:13:42.379Z"
   },
   {
    "duration": 403,
    "start_time": "2022-01-22T18:13:58.317Z"
   },
   {
    "duration": 529,
    "start_time": "2022-01-22T18:15:21.137Z"
   },
   {
    "duration": 146,
    "start_time": "2022-01-22T18:18:35.199Z"
   },
   {
    "duration": 428,
    "start_time": "2022-01-22T18:18:52.244Z"
   },
   {
    "duration": 416,
    "start_time": "2022-01-22T18:19:09.592Z"
   },
   {
    "duration": 405,
    "start_time": "2022-01-22T18:22:03.449Z"
   },
   {
    "duration": 395,
    "start_time": "2022-01-22T18:24:25.798Z"
   },
   {
    "duration": 402,
    "start_time": "2022-01-22T18:25:42.081Z"
   },
   {
    "duration": 1117,
    "start_time": "2022-01-23T09:11:31.998Z"
   },
   {
    "duration": 395,
    "start_time": "2022-01-23T09:11:33.117Z"
   },
   {
    "duration": 4,
    "start_time": "2022-01-23T09:11:33.514Z"
   },
   {
    "duration": 189,
    "start_time": "2022-01-23T09:11:33.519Z"
   },
   {
    "duration": 147,
    "start_time": "2022-01-23T09:11:33.710Z"
   },
   {
    "duration": 92,
    "start_time": "2022-01-23T09:11:33.859Z"
   },
   {
    "duration": 72,
    "start_time": "2022-01-23T09:11:33.953Z"
   },
   {
    "duration": 30,
    "start_time": "2022-01-23T09:11:34.028Z"
   },
   {
    "duration": 58,
    "start_time": "2022-01-23T09:11:34.060Z"
   },
   {
    "duration": 5,
    "start_time": "2022-01-23T09:11:34.120Z"
   },
   {
    "duration": 40,
    "start_time": "2022-01-23T09:11:34.126Z"
   },
   {
    "duration": 14,
    "start_time": "2022-01-23T09:11:34.167Z"
   },
   {
    "duration": 19,
    "start_time": "2022-01-23T09:11:34.183Z"
   },
   {
    "duration": 28,
    "start_time": "2022-01-23T09:11:34.204Z"
   },
   {
    "duration": 16,
    "start_time": "2022-01-23T09:11:34.234Z"
   },
   {
    "duration": 29,
    "start_time": "2022-01-23T09:11:34.252Z"
   },
   {
    "duration": 30,
    "start_time": "2022-01-23T09:11:34.283Z"
   },
   {
    "duration": 18,
    "start_time": "2022-01-23T09:11:34.314Z"
   },
   {
    "duration": 21,
    "start_time": "2022-01-23T09:11:34.334Z"
   },
   {
    "duration": 9,
    "start_time": "2022-01-23T09:11:34.357Z"
   },
   {
    "duration": 28,
    "start_time": "2022-01-23T09:11:34.368Z"
   },
   {
    "duration": 18,
    "start_time": "2022-01-23T09:11:34.398Z"
   },
   {
    "duration": 4,
    "start_time": "2022-01-23T09:11:34.420Z"
   },
   {
    "duration": 21,
    "start_time": "2022-01-23T09:11:34.426Z"
   },
   {
    "duration": 37,
    "start_time": "2022-01-23T09:11:34.449Z"
   },
   {
    "duration": 27,
    "start_time": "2022-01-23T09:11:34.488Z"
   },
   {
    "duration": 22,
    "start_time": "2022-01-23T09:11:34.516Z"
   },
   {
    "duration": 49,
    "start_time": "2022-01-23T09:11:34.539Z"
   },
   {
    "duration": 40,
    "start_time": "2022-01-23T09:11:34.590Z"
   },
   {
    "duration": 38,
    "start_time": "2022-01-23T09:11:34.632Z"
   },
   {
    "duration": 37,
    "start_time": "2022-01-23T09:11:34.673Z"
   },
   {
    "duration": 40,
    "start_time": "2022-01-23T09:11:34.713Z"
   },
   {
    "duration": 37,
    "start_time": "2022-01-23T09:11:34.756Z"
   },
   {
    "duration": 97,
    "start_time": "2022-01-23T09:11:34.795Z"
   },
   {
    "duration": 672,
    "start_time": "2022-01-23T09:11:34.894Z"
   },
   {
    "duration": -241,
    "start_time": "2022-01-23T09:11:35.809Z"
   },
   {
    "duration": -244,
    "start_time": "2022-01-23T09:11:35.813Z"
   },
   {
    "duration": -248,
    "start_time": "2022-01-23T09:11:35.818Z"
   },
   {
    "duration": -250,
    "start_time": "2022-01-23T09:11:35.821Z"
   },
   {
    "duration": -253,
    "start_time": "2022-01-23T09:11:35.825Z"
   },
   {
    "duration": -256,
    "start_time": "2022-01-23T09:11:35.829Z"
   },
   {
    "duration": -259,
    "start_time": "2022-01-23T09:11:35.833Z"
   },
   {
    "duration": -262,
    "start_time": "2022-01-23T09:11:35.837Z"
   },
   {
    "duration": -265,
    "start_time": "2022-01-23T09:11:35.841Z"
   },
   {
    "duration": -268,
    "start_time": "2022-01-23T09:11:35.845Z"
   },
   {
    "duration": -272,
    "start_time": "2022-01-23T09:11:35.850Z"
   },
   {
    "duration": -274,
    "start_time": "2022-01-23T09:11:35.853Z"
   },
   {
    "duration": 1176,
    "start_time": "2022-01-23T09:13:47.314Z"
   },
   {
    "duration": 62,
    "start_time": "2022-01-23T09:17:58.961Z"
   },
   {
    "duration": 826,
    "start_time": "2022-01-23T09:18:35.103Z"
   },
   {
    "duration": 33,
    "start_time": "2022-01-23T09:20:00.359Z"
   },
   {
    "duration": 29,
    "start_time": "2022-01-23T09:22:36.498Z"
   },
   {
    "duration": 44,
    "start_time": "2022-01-23T09:22:55.910Z"
   },
   {
    "duration": 23,
    "start_time": "2022-01-23T09:23:02.650Z"
   },
   {
    "duration": 24,
    "start_time": "2022-01-23T09:23:19.323Z"
   },
   {
    "duration": 1096,
    "start_time": "2022-01-23T09:23:34.747Z"
   },
   {
    "duration": 401,
    "start_time": "2022-01-23T09:23:35.845Z"
   },
   {
    "duration": 2,
    "start_time": "2022-01-23T09:23:36.248Z"
   },
   {
    "duration": 217,
    "start_time": "2022-01-23T09:23:36.252Z"
   },
   {
    "duration": 140,
    "start_time": "2022-01-23T09:23:36.470Z"
   },
   {
    "duration": 99,
    "start_time": "2022-01-23T09:23:36.612Z"
   },
   {
    "duration": 40,
    "start_time": "2022-01-23T09:23:36.713Z"
   },
   {
    "duration": 59,
    "start_time": "2022-01-23T09:23:36.755Z"
   },
   {
    "duration": 29,
    "start_time": "2022-01-23T09:23:36.815Z"
   },
   {
    "duration": 15,
    "start_time": "2022-01-23T09:23:36.846Z"
   },
   {
    "duration": 49,
    "start_time": "2022-01-23T09:23:36.863Z"
   },
   {
    "duration": 6,
    "start_time": "2022-01-23T09:23:36.913Z"
   },
   {
    "duration": 42,
    "start_time": "2022-01-23T09:23:36.921Z"
   },
   {
    "duration": 36,
    "start_time": "2022-01-23T09:23:36.965Z"
   },
   {
    "duration": 13,
    "start_time": "2022-01-23T09:23:37.003Z"
   },
   {
    "duration": 39,
    "start_time": "2022-01-23T09:23:37.018Z"
   },
   {
    "duration": 32,
    "start_time": "2022-01-23T09:23:37.058Z"
   },
   {
    "duration": 31,
    "start_time": "2022-01-23T09:23:37.092Z"
   },
   {
    "duration": 36,
    "start_time": "2022-01-23T09:23:37.125Z"
   },
   {
    "duration": 23,
    "start_time": "2022-01-23T09:23:37.162Z"
   },
   {
    "duration": 45,
    "start_time": "2022-01-23T09:23:37.187Z"
   },
   {
    "duration": 27,
    "start_time": "2022-01-23T09:23:37.234Z"
   },
   {
    "duration": 26,
    "start_time": "2022-01-23T09:23:37.264Z"
   },
   {
    "duration": 42,
    "start_time": "2022-01-23T09:23:37.292Z"
   },
   {
    "duration": 24,
    "start_time": "2022-01-23T09:23:37.335Z"
   },
   {
    "duration": 38,
    "start_time": "2022-01-23T09:23:37.361Z"
   },
   {
    "duration": 25,
    "start_time": "2022-01-23T09:23:37.401Z"
   },
   {
    "duration": 35,
    "start_time": "2022-01-23T09:23:37.428Z"
   },
   {
    "duration": 37,
    "start_time": "2022-01-23T09:23:37.465Z"
   },
   {
    "duration": 33,
    "start_time": "2022-01-23T09:23:37.504Z"
   },
   {
    "duration": 46,
    "start_time": "2022-01-23T09:23:37.539Z"
   },
   {
    "duration": 13,
    "start_time": "2022-01-23T09:23:37.587Z"
   },
   {
    "duration": 32,
    "start_time": "2022-01-23T09:23:37.602Z"
   },
   {
    "duration": 97,
    "start_time": "2022-01-23T09:23:37.636Z"
   },
   {
    "duration": 70,
    "start_time": "2022-01-23T09:23:37.734Z"
   },
   {
    "duration": 30,
    "start_time": "2022-01-23T09:23:37.806Z"
   },
   {
    "duration": 26,
    "start_time": "2022-01-23T09:23:37.838Z"
   },
   {
    "duration": 36,
    "start_time": "2022-01-23T09:23:37.866Z"
   },
   {
    "duration": 26,
    "start_time": "2022-01-23T09:23:37.904Z"
   },
   {
    "duration": 29,
    "start_time": "2022-01-23T09:23:37.931Z"
   },
   {
    "duration": 6,
    "start_time": "2022-01-23T09:23:37.961Z"
   },
   {
    "duration": 3962,
    "start_time": "2022-01-23T09:23:37.968Z"
   },
   {
    "duration": -253,
    "start_time": "2022-01-23T09:23:42.186Z"
   },
   {
    "duration": -256,
    "start_time": "2022-01-23T09:23:42.190Z"
   },
   {
    "duration": -258,
    "start_time": "2022-01-23T09:23:42.193Z"
   },
   {
    "duration": -262,
    "start_time": "2022-01-23T09:23:42.198Z"
   },
   {
    "duration": -265,
    "start_time": "2022-01-23T09:23:42.202Z"
   },
   {
    "duration": 1147,
    "start_time": "2022-01-23T09:27:54.020Z"
   },
   {
    "duration": 397,
    "start_time": "2022-01-23T09:27:55.169Z"
   },
   {
    "duration": 3,
    "start_time": "2022-01-23T09:27:55.568Z"
   },
   {
    "duration": 179,
    "start_time": "2022-01-23T09:27:55.573Z"
   },
   {
    "duration": 154,
    "start_time": "2022-01-23T09:27:55.754Z"
   },
   {
    "duration": 107,
    "start_time": "2022-01-23T09:27:55.909Z"
   },
   {
    "duration": 43,
    "start_time": "2022-01-23T09:27:56.017Z"
   },
   {
    "duration": 54,
    "start_time": "2022-01-23T09:27:56.063Z"
   },
   {
    "duration": 30,
    "start_time": "2022-01-23T09:27:56.119Z"
   },
   {
    "duration": 6,
    "start_time": "2022-01-23T09:27:56.151Z"
   },
   {
    "duration": 55,
    "start_time": "2022-01-23T09:27:56.159Z"
   },
   {
    "duration": 6,
    "start_time": "2022-01-23T09:27:56.216Z"
   },
   {
    "duration": 18,
    "start_time": "2022-01-23T09:27:56.223Z"
   },
   {
    "duration": 19,
    "start_time": "2022-01-23T09:27:56.243Z"
   },
   {
    "duration": 37,
    "start_time": "2022-01-23T09:27:56.263Z"
   },
   {
    "duration": 12,
    "start_time": "2022-01-23T09:27:56.302Z"
   },
   {
    "duration": 20,
    "start_time": "2022-01-23T09:27:56.316Z"
   },
   {
    "duration": 8,
    "start_time": "2022-01-23T09:27:56.338Z"
   },
   {
    "duration": 5,
    "start_time": "2022-01-23T09:27:56.348Z"
   },
   {
    "duration": 5,
    "start_time": "2022-01-23T09:27:56.355Z"
   },
   {
    "duration": 43,
    "start_time": "2022-01-23T09:27:56.362Z"
   },
   {
    "duration": 20,
    "start_time": "2022-01-23T09:27:56.407Z"
   },
   {
    "duration": 4,
    "start_time": "2022-01-23T09:27:56.430Z"
   },
   {
    "duration": 7,
    "start_time": "2022-01-23T09:27:56.436Z"
   },
   {
    "duration": 14,
    "start_time": "2022-01-23T09:27:56.444Z"
   },
   {
    "duration": 11,
    "start_time": "2022-01-23T09:27:56.459Z"
   },
   {
    "duration": 30,
    "start_time": "2022-01-23T09:27:56.471Z"
   },
   {
    "duration": 9,
    "start_time": "2022-01-23T09:27:56.502Z"
   },
   {
    "duration": 10,
    "start_time": "2022-01-23T09:27:56.512Z"
   },
   {
    "duration": 11,
    "start_time": "2022-01-23T09:27:56.523Z"
   },
   {
    "duration": 11,
    "start_time": "2022-01-23T09:27:56.536Z"
   },
   {
    "duration": 14,
    "start_time": "2022-01-23T09:27:56.549Z"
   },
   {
    "duration": 33,
    "start_time": "2022-01-23T09:27:56.564Z"
   },
   {
    "duration": 72,
    "start_time": "2022-01-23T09:27:56.599Z"
   },
   {
    "duration": 80,
    "start_time": "2022-01-23T09:27:56.672Z"
   },
   {
    "duration": 30,
    "start_time": "2022-01-23T09:27:56.753Z"
   },
   {
    "duration": 35,
    "start_time": "2022-01-23T09:27:56.784Z"
   },
   {
    "duration": 13,
    "start_time": "2022-01-23T09:27:56.821Z"
   },
   {
    "duration": 16,
    "start_time": "2022-01-23T09:27:56.835Z"
   },
   {
    "duration": 49,
    "start_time": "2022-01-23T09:27:56.853Z"
   },
   {
    "duration": 8,
    "start_time": "2022-01-23T09:27:56.904Z"
   },
   {
    "duration": 39,
    "start_time": "2022-01-23T09:27:56.913Z"
   },
   {
    "duration": 327,
    "start_time": "2022-01-23T09:27:56.955Z"
   },
   {
    "duration": 32,
    "start_time": "2022-01-23T09:27:57.283Z"
   },
   {
    "duration": 401,
    "start_time": "2022-01-23T09:27:57.317Z"
   },
   {
    "duration": 412,
    "start_time": "2022-01-23T09:27:57.720Z"
   },
   {
    "duration": 401,
    "start_time": "2022-01-23T09:27:58.133Z"
   },
   {
    "duration": 1163,
    "start_time": "2022-01-24T06:24:27.362Z"
   },
   {
    "duration": 410,
    "start_time": "2022-01-24T06:24:28.527Z"
   },
   {
    "duration": 4,
    "start_time": "2022-01-24T06:24:28.939Z"
   },
   {
    "duration": 180,
    "start_time": "2022-01-24T06:24:28.945Z"
   },
   {
    "duration": 136,
    "start_time": "2022-01-24T06:24:29.127Z"
   },
   {
    "duration": 77,
    "start_time": "2022-01-24T06:24:29.265Z"
   },
   {
    "duration": 42,
    "start_time": "2022-01-24T06:24:29.361Z"
   },
   {
    "duration": 59,
    "start_time": "2022-01-24T06:24:29.405Z"
   },
   {
    "duration": 32,
    "start_time": "2022-01-24T06:24:29.467Z"
   },
   {
    "duration": 5,
    "start_time": "2022-01-24T06:24:29.501Z"
   },
   {
    "duration": 23,
    "start_time": "2022-01-24T06:24:29.508Z"
   },
   {
    "duration": 7,
    "start_time": "2022-01-24T06:24:29.560Z"
   },
   {
    "duration": 15,
    "start_time": "2022-01-24T06:24:29.569Z"
   },
   {
    "duration": 17,
    "start_time": "2022-01-24T06:24:29.586Z"
   },
   {
    "duration": 9,
    "start_time": "2022-01-24T06:24:29.604Z"
   },
   {
    "duration": 48,
    "start_time": "2022-01-24T06:24:29.615Z"
   },
   {
    "duration": 18,
    "start_time": "2022-01-24T06:24:29.665Z"
   },
   {
    "duration": 9,
    "start_time": "2022-01-24T06:24:29.685Z"
   },
   {
    "duration": 5,
    "start_time": "2022-01-24T06:24:29.696Z"
   },
   {
    "duration": 4,
    "start_time": "2022-01-24T06:24:29.702Z"
   },
   {
    "duration": 15,
    "start_time": "2022-01-24T06:24:29.708Z"
   },
   {
    "duration": 50,
    "start_time": "2022-01-24T06:24:29.724Z"
   },
   {
    "duration": 4,
    "start_time": "2022-01-24T06:24:29.776Z"
   },
   {
    "duration": 8,
    "start_time": "2022-01-24T06:24:29.782Z"
   },
   {
    "duration": 21,
    "start_time": "2022-01-24T06:24:29.792Z"
   },
   {
    "duration": 8,
    "start_time": "2022-01-24T06:24:29.815Z"
   },
   {
    "duration": 5,
    "start_time": "2022-01-24T06:24:29.826Z"
   },
   {
    "duration": 30,
    "start_time": "2022-01-24T06:24:29.832Z"
   },
   {
    "duration": 8,
    "start_time": "2022-01-24T06:24:29.863Z"
   },
   {
    "duration": 7,
    "start_time": "2022-01-24T06:24:29.873Z"
   },
   {
    "duration": 19,
    "start_time": "2022-01-24T06:24:29.881Z"
   },
   {
    "duration": 8,
    "start_time": "2022-01-24T06:24:29.901Z"
   },
   {
    "duration": 10,
    "start_time": "2022-01-24T06:24:29.911Z"
   },
   {
    "duration": 98,
    "start_time": "2022-01-24T06:24:29.922Z"
   },
   {
    "duration": 73,
    "start_time": "2022-01-24T06:24:30.021Z"
   },
   {
    "duration": 30,
    "start_time": "2022-01-24T06:24:30.096Z"
   },
   {
    "duration": 43,
    "start_time": "2022-01-24T06:24:30.128Z"
   },
   {
    "duration": 13,
    "start_time": "2022-01-24T06:24:30.173Z"
   },
   {
    "duration": 16,
    "start_time": "2022-01-24T06:24:30.188Z"
   },
   {
    "duration": 19,
    "start_time": "2022-01-24T06:24:30.205Z"
   },
   {
    "duration": 36,
    "start_time": "2022-01-24T06:24:30.226Z"
   },
   {
    "duration": 13,
    "start_time": "2022-01-24T06:24:30.263Z"
   },
   {
    "duration": 348,
    "start_time": "2022-01-24T06:24:30.278Z"
   },
   {
    "duration": 35,
    "start_time": "2022-01-24T06:24:30.627Z"
   },
   {
    "duration": 401,
    "start_time": "2022-01-24T06:24:30.664Z"
   },
   {
    "duration": 395,
    "start_time": "2022-01-24T06:24:31.067Z"
   },
   {
    "duration": 403,
    "start_time": "2022-01-24T06:24:31.464Z"
   },
   {
    "duration": 17,
    "start_time": "2022-01-24T06:25:44.406Z"
   },
   {
    "duration": 1115,
    "start_time": "2022-01-24T06:25:49.312Z"
   },
   {
    "duration": 419,
    "start_time": "2022-01-24T06:25:50.429Z"
   },
   {
    "duration": 3,
    "start_time": "2022-01-24T06:25:50.850Z"
   },
   {
    "duration": 190,
    "start_time": "2022-01-24T06:25:50.855Z"
   },
   {
    "duration": 162,
    "start_time": "2022-01-24T06:25:51.047Z"
   },
   {
    "duration": 95,
    "start_time": "2022-01-24T06:25:51.211Z"
   },
   {
    "duration": 62,
    "start_time": "2022-01-24T06:25:51.307Z"
   },
   {
    "duration": 32,
    "start_time": "2022-01-24T06:25:51.371Z"
   },
   {
    "duration": 57,
    "start_time": "2022-01-24T06:25:51.405Z"
   },
   {
    "duration": 5,
    "start_time": "2022-01-24T06:25:51.464Z"
   },
   {
    "duration": 29,
    "start_time": "2022-01-24T06:25:51.471Z"
   },
   {
    "duration": 5,
    "start_time": "2022-01-24T06:25:51.502Z"
   },
   {
    "duration": 24,
    "start_time": "2022-01-24T06:25:51.508Z"
   },
   {
    "duration": 38,
    "start_time": "2022-01-24T06:25:51.534Z"
   },
   {
    "duration": 9,
    "start_time": "2022-01-24T06:25:51.574Z"
   },
   {
    "duration": 17,
    "start_time": "2022-01-24T06:25:51.585Z"
   },
   {
    "duration": 17,
    "start_time": "2022-01-24T06:25:51.604Z"
   },
   {
    "duration": 8,
    "start_time": "2022-01-24T06:25:51.623Z"
   },
   {
    "duration": 31,
    "start_time": "2022-01-24T06:25:51.633Z"
   },
   {
    "duration": 6,
    "start_time": "2022-01-24T06:25:51.666Z"
   },
   {
    "duration": 18,
    "start_time": "2022-01-24T06:25:51.674Z"
   },
   {
    "duration": 21,
    "start_time": "2022-01-24T06:25:51.693Z"
   },
   {
    "duration": 4,
    "start_time": "2022-01-24T06:25:51.716Z"
   },
   {
    "duration": 16,
    "start_time": "2022-01-24T06:25:51.722Z"
   },
   {
    "duration": 6,
    "start_time": "2022-01-24T06:25:51.760Z"
   },
   {
    "duration": 9,
    "start_time": "2022-01-24T06:25:51.768Z"
   },
   {
    "duration": 7,
    "start_time": "2022-01-24T06:25:51.781Z"
   },
   {
    "duration": 8,
    "start_time": "2022-01-24T06:25:51.790Z"
   },
   {
    "duration": 10,
    "start_time": "2022-01-24T06:25:51.799Z"
   },
   {
    "duration": 5,
    "start_time": "2022-01-24T06:25:51.811Z"
   },
   {
    "duration": 11,
    "start_time": "2022-01-24T06:25:51.818Z"
   },
   {
    "duration": 13,
    "start_time": "2022-01-24T06:25:51.860Z"
   },
   {
    "duration": 11,
    "start_time": "2022-01-24T06:25:51.874Z"
   },
   {
    "duration": 98,
    "start_time": "2022-01-24T06:25:51.887Z"
   },
   {
    "duration": 76,
    "start_time": "2022-01-24T06:25:51.986Z"
   },
   {
    "duration": 32,
    "start_time": "2022-01-24T06:25:52.064Z"
   },
   {
    "duration": 28,
    "start_time": "2022-01-24T06:25:52.097Z"
   },
   {
    "duration": 35,
    "start_time": "2022-01-24T06:25:52.127Z"
   },
   {
    "duration": 18,
    "start_time": "2022-01-24T06:25:52.164Z"
   },
   {
    "duration": 18,
    "start_time": "2022-01-24T06:25:52.184Z"
   },
   {
    "duration": 6,
    "start_time": "2022-01-24T06:25:52.203Z"
   },
   {
    "duration": 13,
    "start_time": "2022-01-24T06:25:52.210Z"
   },
   {
    "duration": 352,
    "start_time": "2022-01-24T06:25:52.225Z"
   },
   {
    "duration": 25,
    "start_time": "2022-01-24T06:25:52.579Z"
   },
   {
    "duration": 392,
    "start_time": "2022-01-24T06:25:52.606Z"
   },
   {
    "duration": 395,
    "start_time": "2022-01-24T06:25:53.000Z"
   },
   {
    "duration": 392,
    "start_time": "2022-01-24T06:25:53.396Z"
   },
   {
    "duration": 425,
    "start_time": "2022-01-24T09:25:22.743Z"
   },
   {
    "duration": 3887,
    "start_time": "2022-01-24T09:25:49.674Z"
   },
   {
    "duration": 989,
    "start_time": "2022-01-24T09:26:04.482Z"
   },
   {
    "duration": 396,
    "start_time": "2022-01-24T09:26:05.473Z"
   },
   {
    "duration": 4,
    "start_time": "2022-01-24T09:26:05.871Z"
   },
   {
    "duration": 162,
    "start_time": "2022-01-24T09:26:05.876Z"
   },
   {
    "duration": 137,
    "start_time": "2022-01-24T09:26:06.040Z"
   },
   {
    "duration": 79,
    "start_time": "2022-01-24T09:26:06.179Z"
   },
   {
    "duration": 39,
    "start_time": "2022-01-24T09:26:06.260Z"
   },
   {
    "duration": 31,
    "start_time": "2022-01-24T09:26:06.327Z"
   },
   {
    "duration": 28,
    "start_time": "2022-01-24T09:26:06.361Z"
   },
   {
    "duration": 6,
    "start_time": "2022-01-24T09:26:06.391Z"
   },
   {
    "duration": 22,
    "start_time": "2022-01-24T09:26:06.427Z"
   },
   {
    "duration": 5,
    "start_time": "2022-01-24T09:26:06.451Z"
   },
   {
    "duration": 13,
    "start_time": "2022-01-24T09:26:06.458Z"
   },
   {
    "duration": 14,
    "start_time": "2022-01-24T09:26:06.472Z"
   },
   {
    "duration": 40,
    "start_time": "2022-01-24T09:26:06.487Z"
   },
   {
    "duration": 15,
    "start_time": "2022-01-24T09:26:06.529Z"
   },
   {
    "duration": 16,
    "start_time": "2022-01-24T09:26:06.545Z"
   },
   {
    "duration": 8,
    "start_time": "2022-01-24T09:26:06.562Z"
   },
   {
    "duration": 6,
    "start_time": "2022-01-24T09:26:06.572Z"
   },
   {
    "duration": 4,
    "start_time": "2022-01-24T09:26:06.579Z"
   },
   {
    "duration": 46,
    "start_time": "2022-01-24T09:26:06.585Z"
   },
   {
    "duration": 18,
    "start_time": "2022-01-24T09:26:06.633Z"
   },
   {
    "duration": 4,
    "start_time": "2022-01-24T09:26:06.653Z"
   },
   {
    "duration": 7,
    "start_time": "2022-01-24T09:26:06.658Z"
   },
   {
    "duration": 6,
    "start_time": "2022-01-24T09:26:06.666Z"
   },
   {
    "duration": 7,
    "start_time": "2022-01-24T09:26:06.673Z"
   },
   {
    "duration": 6,
    "start_time": "2022-01-24T09:26:06.683Z"
   },
   {
    "duration": 40,
    "start_time": "2022-01-24T09:26:06.691Z"
   },
   {
    "duration": 10,
    "start_time": "2022-01-24T09:26:06.732Z"
   },
   {
    "duration": 9,
    "start_time": "2022-01-24T09:26:06.743Z"
   },
   {
    "duration": 7,
    "start_time": "2022-01-24T09:26:06.753Z"
   },
   {
    "duration": 8,
    "start_time": "2022-01-24T09:26:06.761Z"
   },
   {
    "duration": 8,
    "start_time": "2022-01-24T09:26:06.770Z"
   },
   {
    "duration": 97,
    "start_time": "2022-01-24T09:26:06.780Z"
   },
   {
    "duration": 85,
    "start_time": "2022-01-24T09:26:06.879Z"
   },
   {
    "duration": 41,
    "start_time": "2022-01-24T09:26:06.966Z"
   },
   {
    "duration": 34,
    "start_time": "2022-01-24T09:26:07.009Z"
   },
   {
    "duration": 13,
    "start_time": "2022-01-24T09:26:07.045Z"
   },
   {
    "duration": 15,
    "start_time": "2022-01-24T09:26:07.060Z"
   },
   {
    "duration": 15,
    "start_time": "2022-01-24T09:26:07.076Z"
   },
   {
    "duration": 35,
    "start_time": "2022-01-24T09:26:07.092Z"
   },
   {
    "duration": 12,
    "start_time": "2022-01-24T09:26:07.129Z"
   },
   {
    "duration": 315,
    "start_time": "2022-01-24T09:26:07.142Z"
   },
   {
    "duration": 22,
    "start_time": "2022-01-24T09:26:07.458Z"
   },
   {
    "duration": 361,
    "start_time": "2022-01-24T09:26:07.481Z"
   },
   {
    "duration": 394,
    "start_time": "2022-01-24T09:26:07.844Z"
   },
   {
    "duration": 382,
    "start_time": "2022-01-24T09:26:08.240Z"
   },
   {
    "duration": 8,
    "start_time": "2022-01-24T09:26:08.623Z"
   },
   {
    "duration": 5,
    "start_time": "2022-01-24T09:26:44.690Z"
   },
   {
    "duration": 5,
    "start_time": "2022-01-24T09:36:20.136Z"
   },
   {
    "duration": 5,
    "start_time": "2022-01-24T10:39:56.156Z"
   },
   {
    "duration": 4,
    "start_time": "2022-01-24T10:40:11.225Z"
   },
   {
    "duration": 1081,
    "start_time": "2022-01-24T10:40:54.077Z"
   },
   {
    "duration": 374,
    "start_time": "2022-01-24T10:40:55.159Z"
   },
   {
    "duration": 2,
    "start_time": "2022-01-24T10:40:55.535Z"
   },
   {
    "duration": 154,
    "start_time": "2022-01-24T10:40:55.539Z"
   },
   {
    "duration": 117,
    "start_time": "2022-01-24T10:40:55.695Z"
   },
   {
    "duration": 85,
    "start_time": "2022-01-24T10:40:55.814Z"
   },
   {
    "duration": 56,
    "start_time": "2022-01-24T10:40:55.900Z"
   },
   {
    "duration": 26,
    "start_time": "2022-01-24T10:40:55.958Z"
   },
   {
    "duration": 55,
    "start_time": "2022-01-24T10:40:55.986Z"
   },
   {
    "duration": 5,
    "start_time": "2022-01-24T10:40:56.043Z"
   },
   {
    "duration": 21,
    "start_time": "2022-01-24T10:40:56.050Z"
   },
   {
    "duration": 5,
    "start_time": "2022-01-24T10:40:56.072Z"
   },
   {
    "duration": 18,
    "start_time": "2022-01-24T10:40:56.078Z"
   },
   {
    "duration": 39,
    "start_time": "2022-01-24T10:40:56.098Z"
   },
   {
    "duration": 12,
    "start_time": "2022-01-24T10:40:56.139Z"
   },
   {
    "duration": 19,
    "start_time": "2022-01-24T10:40:56.152Z"
   },
   {
    "duration": 20,
    "start_time": "2022-01-24T10:40:56.172Z"
   },
   {
    "duration": 8,
    "start_time": "2022-01-24T10:40:56.194Z"
   },
   {
    "duration": 26,
    "start_time": "2022-01-24T10:40:56.204Z"
   },
   {
    "duration": 3,
    "start_time": "2022-01-24T10:40:56.232Z"
   },
   {
    "duration": 12,
    "start_time": "2022-01-24T10:40:56.236Z"
   },
   {
    "duration": 17,
    "start_time": "2022-01-24T10:40:56.250Z"
   },
   {
    "duration": 4,
    "start_time": "2022-01-24T10:40:56.269Z"
   },
   {
    "duration": 5,
    "start_time": "2022-01-24T10:40:56.275Z"
   },
   {
    "duration": 6,
    "start_time": "2022-01-24T10:40:56.281Z"
   },
   {
    "duration": 41,
    "start_time": "2022-01-24T10:40:56.288Z"
   },
   {
    "duration": 3,
    "start_time": "2022-01-24T10:40:56.333Z"
   },
   {
    "duration": 6,
    "start_time": "2022-01-24T10:40:56.338Z"
   },
   {
    "duration": 6,
    "start_time": "2022-01-24T10:40:56.346Z"
   },
   {
    "duration": 7,
    "start_time": "2022-01-24T10:40:56.353Z"
   },
   {
    "duration": 7,
    "start_time": "2022-01-24T10:40:56.361Z"
   },
   {
    "duration": 9,
    "start_time": "2022-01-24T10:40:56.369Z"
   },
   {
    "duration": 8,
    "start_time": "2022-01-24T10:40:56.379Z"
   },
   {
    "duration": 99,
    "start_time": "2022-01-24T10:40:56.388Z"
   },
   {
    "duration": 63,
    "start_time": "2022-01-24T10:40:56.488Z"
   },
   {
    "duration": 26,
    "start_time": "2022-01-24T10:40:56.552Z"
   },
   {
    "duration": 23,
    "start_time": "2022-01-24T10:40:56.580Z"
   },
   {
    "duration": 30,
    "start_time": "2022-01-24T10:40:56.604Z"
   },
   {
    "duration": 14,
    "start_time": "2022-01-24T10:40:56.635Z"
   },
   {
    "duration": 15,
    "start_time": "2022-01-24T10:40:56.651Z"
   },
   {
    "duration": 5,
    "start_time": "2022-01-24T10:40:56.667Z"
   },
   {
    "duration": 11,
    "start_time": "2022-01-24T10:40:56.674Z"
   },
   {
    "duration": 336,
    "start_time": "2022-01-24T10:40:56.687Z"
   },
   {
    "duration": 25,
    "start_time": "2022-01-24T10:40:57.024Z"
   },
   {
    "duration": 369,
    "start_time": "2022-01-24T10:40:57.050Z"
   },
   {
    "duration": 351,
    "start_time": "2022-01-24T10:40:57.421Z"
   },
   {
    "duration": 354,
    "start_time": "2022-01-24T10:40:57.773Z"
   },
   {
    "duration": 5,
    "start_time": "2022-01-24T10:40:58.129Z"
   },
   {
    "duration": 12,
    "start_time": "2022-01-24T10:40:58.135Z"
   },
   {
    "duration": 381,
    "start_time": "2022-01-24T10:44:17.317Z"
   },
   {
    "duration": 8,
    "start_time": "2022-01-24T10:44:22.417Z"
   },
   {
    "duration": 5,
    "start_time": "2022-01-24T10:44:22.913Z"
   },
   {
    "duration": 13,
    "start_time": "2022-01-24T10:46:04.325Z"
   },
   {
    "duration": 6,
    "start_time": "2022-01-24T10:46:32.356Z"
   },
   {
    "duration": 8,
    "start_time": "2022-01-24T10:46:33.157Z"
   },
   {
    "duration": 9,
    "start_time": "2022-01-24T10:46:34.832Z"
   },
   {
    "duration": 100,
    "start_time": "2022-01-24T11:41:04.035Z"
   },
   {
    "duration": 5,
    "start_time": "2022-01-24T11:55:55.515Z"
   },
   {
    "duration": 304,
    "start_time": "2022-01-24T11:57:27.837Z"
   },
   {
    "duration": 133,
    "start_time": "2022-01-24T11:59:44.855Z"
   },
   {
    "duration": 7,
    "start_time": "2022-01-24T11:59:54.544Z"
   },
   {
    "duration": 15,
    "start_time": "2022-01-24T12:01:35.311Z"
   },
   {
    "duration": 6,
    "start_time": "2022-01-24T12:02:11.385Z"
   },
   {
    "duration": 116,
    "start_time": "2022-01-24T12:03:26.163Z"
   },
   {
    "duration": 6,
    "start_time": "2022-01-24T12:03:31.863Z"
   },
   {
    "duration": 5,
    "start_time": "2022-01-24T12:04:04.525Z"
   },
   {
    "duration": 112,
    "start_time": "2022-01-24T12:04:33.853Z"
   },
   {
    "duration": 1164,
    "start_time": "2022-01-24T12:45:52.307Z"
   },
   {
    "duration": 397,
    "start_time": "2022-01-24T12:45:53.473Z"
   },
   {
    "duration": 3,
    "start_time": "2022-01-24T12:45:53.872Z"
   },
   {
    "duration": 147,
    "start_time": "2022-01-24T12:45:53.877Z"
   },
   {
    "duration": 122,
    "start_time": "2022-01-24T12:45:54.027Z"
   },
   {
    "duration": 88,
    "start_time": "2022-01-24T12:45:54.151Z"
   },
   {
    "duration": 35,
    "start_time": "2022-01-24T12:45:54.240Z"
   },
   {
    "duration": 53,
    "start_time": "2022-01-24T12:45:54.277Z"
   },
   {
    "duration": 5,
    "start_time": "2022-01-24T12:45:54.332Z"
   },
   {
    "duration": 27,
    "start_time": "2022-01-24T12:45:54.339Z"
   },
   {
    "duration": 6,
    "start_time": "2022-01-24T12:45:54.368Z"
   },
   {
    "duration": 52,
    "start_time": "2022-01-24T12:45:54.375Z"
   },
   {
    "duration": 6,
    "start_time": "2022-01-24T12:45:54.429Z"
   },
   {
    "duration": 16,
    "start_time": "2022-01-24T12:45:54.436Z"
   },
   {
    "duration": 15,
    "start_time": "2022-01-24T12:45:54.453Z"
   },
   {
    "duration": 8,
    "start_time": "2022-01-24T12:45:54.469Z"
   },
   {
    "duration": 16,
    "start_time": "2022-01-24T12:45:54.479Z"
   },
   {
    "duration": 45,
    "start_time": "2022-01-24T12:45:54.496Z"
   },
   {
    "duration": 8,
    "start_time": "2022-01-24T12:45:54.543Z"
   },
   {
    "duration": 25,
    "start_time": "2022-01-24T12:45:54.553Z"
   },
   {
    "duration": 4,
    "start_time": "2022-01-24T12:45:54.580Z"
   },
   {
    "duration": 7,
    "start_time": "2022-01-24T12:45:54.586Z"
   },
   {
    "duration": 33,
    "start_time": "2022-01-24T12:45:54.594Z"
   },
   {
    "duration": 4,
    "start_time": "2022-01-24T12:45:54.629Z"
   },
   {
    "duration": 5,
    "start_time": "2022-01-24T12:45:54.635Z"
   },
   {
    "duration": 6,
    "start_time": "2022-01-24T12:45:54.642Z"
   },
   {
    "duration": 8,
    "start_time": "2022-01-24T12:45:54.651Z"
   },
   {
    "duration": 5,
    "start_time": "2022-01-24T12:45:54.661Z"
   },
   {
    "duration": 7,
    "start_time": "2022-01-24T12:45:54.667Z"
   },
   {
    "duration": 9,
    "start_time": "2022-01-24T12:45:54.676Z"
   },
   {
    "duration": 7,
    "start_time": "2022-01-24T12:45:54.686Z"
   },
   {
    "duration": 67,
    "start_time": "2022-01-24T12:45:54.726Z"
   },
   {
    "duration": 68,
    "start_time": "2022-01-24T12:45:54.794Z"
   },
   {
    "duration": 27,
    "start_time": "2022-01-24T12:45:54.863Z"
   },
   {
    "duration": 38,
    "start_time": "2022-01-24T12:45:54.892Z"
   },
   {
    "duration": 12,
    "start_time": "2022-01-24T12:45:54.932Z"
   },
   {
    "duration": 13,
    "start_time": "2022-01-24T12:45:54.945Z"
   },
   {
    "duration": 7,
    "start_time": "2022-01-24T12:45:54.960Z"
   },
   {
    "duration": 4,
    "start_time": "2022-01-24T12:45:54.968Z"
   },
   {
    "duration": 12,
    "start_time": "2022-01-24T12:45:54.973Z"
   },
   {
    "duration": 10,
    "start_time": "2022-01-24T12:45:54.986Z"
   },
   {
    "duration": 6,
    "start_time": "2022-01-24T12:45:55.027Z"
   },
   {
    "duration": 7754,
    "start_time": "2022-01-24T12:45:55.035Z"
   },
   {
    "duration": 350,
    "start_time": "2022-01-24T12:46:02.441Z"
   },
   {
    "duration": 348,
    "start_time": "2022-01-24T12:46:02.444Z"
   },
   {
    "duration": 346,
    "start_time": "2022-01-24T12:46:02.447Z"
   },
   {
    "duration": 344,
    "start_time": "2022-01-24T12:46:02.450Z"
   },
   {
    "duration": 342,
    "start_time": "2022-01-24T12:46:02.453Z"
   },
   {
    "duration": 340,
    "start_time": "2022-01-24T12:46:02.456Z"
   },
   {
    "duration": 339,
    "start_time": "2022-01-24T12:46:02.458Z"
   },
   {
    "duration": 335,
    "start_time": "2022-01-24T12:46:02.462Z"
   },
   {
    "duration": 332,
    "start_time": "2022-01-24T12:46:02.466Z"
   },
   {
    "duration": 330,
    "start_time": "2022-01-24T12:46:02.469Z"
   },
   {
    "duration": 329,
    "start_time": "2022-01-24T12:46:02.471Z"
   },
   {
    "duration": 1111,
    "start_time": "2022-01-24T12:47:14.448Z"
   },
   {
    "duration": 382,
    "start_time": "2022-01-24T12:47:15.560Z"
   },
   {
    "duration": 2,
    "start_time": "2022-01-24T12:47:15.944Z"
   },
   {
    "duration": 156,
    "start_time": "2022-01-24T12:47:15.948Z"
   },
   {
    "duration": 123,
    "start_time": "2022-01-24T12:47:16.106Z"
   },
   {
    "duration": 70,
    "start_time": "2022-01-24T12:47:16.230Z"
   },
   {
    "duration": 56,
    "start_time": "2022-01-24T12:47:16.302Z"
   },
   {
    "duration": 29,
    "start_time": "2022-01-24T12:47:16.359Z"
   },
   {
    "duration": 38,
    "start_time": "2022-01-24T12:47:16.392Z"
   },
   {
    "duration": 28,
    "start_time": "2022-01-24T12:47:16.433Z"
   },
   {
    "duration": 5,
    "start_time": "2022-01-24T12:47:16.463Z"
   },
   {
    "duration": 24,
    "start_time": "2022-01-24T12:47:16.469Z"
   },
   {
    "duration": 32,
    "start_time": "2022-01-24T12:47:16.495Z"
   },
   {
    "duration": 13,
    "start_time": "2022-01-24T12:47:16.529Z"
   },
   {
    "duration": 14,
    "start_time": "2022-01-24T12:47:16.544Z"
   },
   {
    "duration": 8,
    "start_time": "2022-01-24T12:47:16.559Z"
   },
   {
    "duration": 13,
    "start_time": "2022-01-24T12:47:16.568Z"
   },
   {
    "duration": 13,
    "start_time": "2022-01-24T12:47:16.583Z"
   },
   {
    "duration": 36,
    "start_time": "2022-01-24T12:47:16.598Z"
   },
   {
    "duration": 17,
    "start_time": "2022-01-24T12:47:16.636Z"
   },
   {
    "duration": 4,
    "start_time": "2022-01-24T12:47:16.654Z"
   },
   {
    "duration": 8,
    "start_time": "2022-01-24T12:47:16.660Z"
   },
   {
    "duration": 8,
    "start_time": "2022-01-24T12:47:16.669Z"
   },
   {
    "duration": 6,
    "start_time": "2022-01-24T12:47:16.679Z"
   },
   {
    "duration": 6,
    "start_time": "2022-01-24T12:47:16.686Z"
   },
   {
    "duration": 38,
    "start_time": "2022-01-24T12:47:16.694Z"
   },
   {
    "duration": 6,
    "start_time": "2022-01-24T12:47:16.736Z"
   },
   {
    "duration": 6,
    "start_time": "2022-01-24T12:47:16.744Z"
   },
   {
    "duration": 7,
    "start_time": "2022-01-24T12:47:16.751Z"
   },
   {
    "duration": 9,
    "start_time": "2022-01-24T12:47:16.759Z"
   },
   {
    "duration": 8,
    "start_time": "2022-01-24T12:47:16.769Z"
   },
   {
    "duration": 102,
    "start_time": "2022-01-24T12:47:16.779Z"
   },
   {
    "duration": 63,
    "start_time": "2022-01-24T12:47:16.883Z"
   },
   {
    "duration": 29,
    "start_time": "2022-01-24T12:47:16.948Z"
   },
   {
    "duration": 25,
    "start_time": "2022-01-24T12:47:16.978Z"
   },
   {
    "duration": 35,
    "start_time": "2022-01-24T12:47:17.004Z"
   },
   {
    "duration": 16,
    "start_time": "2022-01-24T12:47:17.040Z"
   },
   {
    "duration": 7,
    "start_time": "2022-01-24T12:47:17.057Z"
   },
   {
    "duration": 419,
    "start_time": "2022-01-24T12:47:17.066Z"
   },
   {
    "duration": 347,
    "start_time": "2022-01-24T12:47:17.140Z"
   },
   {
    "duration": 345,
    "start_time": "2022-01-24T12:47:17.143Z"
   },
   {
    "duration": 343,
    "start_time": "2022-01-24T12:47:17.146Z"
   },
   {
    "duration": 341,
    "start_time": "2022-01-24T12:47:17.149Z"
   },
   {
    "duration": 339,
    "start_time": "2022-01-24T12:47:17.152Z"
   },
   {
    "duration": 337,
    "start_time": "2022-01-24T12:47:17.155Z"
   },
   {
    "duration": 335,
    "start_time": "2022-01-24T12:47:17.158Z"
   },
   {
    "duration": 333,
    "start_time": "2022-01-24T12:47:17.161Z"
   },
   {
    "duration": 330,
    "start_time": "2022-01-24T12:47:17.164Z"
   },
   {
    "duration": 329,
    "start_time": "2022-01-24T12:47:17.166Z"
   },
   {
    "duration": 327,
    "start_time": "2022-01-24T12:47:17.169Z"
   },
   {
    "duration": 325,
    "start_time": "2022-01-24T12:47:17.172Z"
   },
   {
    "duration": 323,
    "start_time": "2022-01-24T12:47:17.175Z"
   },
   {
    "duration": 321,
    "start_time": "2022-01-24T12:47:17.178Z"
   },
   {
    "duration": 320,
    "start_time": "2022-01-24T12:47:17.180Z"
   },
   {
    "duration": 1032,
    "start_time": "2022-01-24T12:50:55.628Z"
   },
   {
    "duration": 380,
    "start_time": "2022-01-24T12:50:56.661Z"
   },
   {
    "duration": 3,
    "start_time": "2022-01-24T12:50:57.043Z"
   },
   {
    "duration": 150,
    "start_time": "2022-01-24T12:50:57.047Z"
   },
   {
    "duration": 110,
    "start_time": "2022-01-24T12:50:57.199Z"
   },
   {
    "duration": 85,
    "start_time": "2022-01-24T12:50:57.310Z"
   },
   {
    "duration": 56,
    "start_time": "2022-01-24T12:50:57.396Z"
   },
   {
    "duration": 25,
    "start_time": "2022-01-24T12:50:57.454Z"
   },
   {
    "duration": 4,
    "start_time": "2022-01-24T12:50:57.482Z"
   },
   {
    "duration": 56,
    "start_time": "2022-01-24T12:50:57.488Z"
   },
   {
    "duration": 5,
    "start_time": "2022-01-24T12:50:57.545Z"
   },
   {
    "duration": 21,
    "start_time": "2022-01-24T12:50:57.552Z"
   },
   {
    "duration": 4,
    "start_time": "2022-01-24T12:50:57.575Z"
   },
   {
    "duration": 15,
    "start_time": "2022-01-24T12:50:57.580Z"
   },
   {
    "duration": 41,
    "start_time": "2022-01-24T12:50:57.596Z"
   },
   {
    "duration": 9,
    "start_time": "2022-01-24T12:50:57.639Z"
   },
   {
    "duration": 12,
    "start_time": "2022-01-24T12:50:57.650Z"
   },
   {
    "duration": 14,
    "start_time": "2022-01-24T12:50:57.663Z"
   },
   {
    "duration": 8,
    "start_time": "2022-01-24T12:50:57.678Z"
   },
   {
    "duration": 45,
    "start_time": "2022-01-24T12:50:57.688Z"
   },
   {
    "duration": 5,
    "start_time": "2022-01-24T12:50:57.734Z"
   },
   {
    "duration": 20,
    "start_time": "2022-01-24T12:50:57.741Z"
   },
   {
    "duration": 6,
    "start_time": "2022-01-24T12:50:57.763Z"
   },
   {
    "duration": 10,
    "start_time": "2022-01-24T12:50:57.771Z"
   },
   {
    "duration": 4,
    "start_time": "2022-01-24T12:50:57.782Z"
   },
   {
    "duration": 7,
    "start_time": "2022-01-24T12:50:57.787Z"
   },
   {
    "duration": 5,
    "start_time": "2022-01-24T12:50:57.797Z"
   },
   {
    "duration": 25,
    "start_time": "2022-01-24T12:50:57.803Z"
   },
   {
    "duration": 8,
    "start_time": "2022-01-24T12:50:57.829Z"
   },
   {
    "duration": 9,
    "start_time": "2022-01-24T12:50:57.839Z"
   },
   {
    "duration": 7,
    "start_time": "2022-01-24T12:50:57.850Z"
   },
   {
    "duration": 84,
    "start_time": "2022-01-24T12:50:57.858Z"
   },
   {
    "duration": 53,
    "start_time": "2022-01-24T12:50:57.943Z"
   },
   {
    "duration": 39,
    "start_time": "2022-01-24T12:50:57.997Z"
   },
   {
    "duration": 22,
    "start_time": "2022-01-24T12:50:58.037Z"
   },
   {
    "duration": 12,
    "start_time": "2022-01-24T12:50:58.061Z"
   },
   {
    "duration": 14,
    "start_time": "2022-01-24T12:50:58.074Z"
   },
   {
    "duration": 7,
    "start_time": "2022-01-24T12:50:58.089Z"
   },
   {
    "duration": 33,
    "start_time": "2022-01-24T12:50:58.097Z"
   },
   {
    "duration": 7807,
    "start_time": "2022-01-24T12:50:58.132Z"
   },
   {
    "duration": 334,
    "start_time": "2022-01-24T12:51:05.607Z"
   },
   {
    "duration": 331,
    "start_time": "2022-01-24T12:51:05.611Z"
   },
   {
    "duration": 330,
    "start_time": "2022-01-24T12:51:05.613Z"
   },
   {
    "duration": 328,
    "start_time": "2022-01-24T12:51:05.616Z"
   },
   {
    "duration": 326,
    "start_time": "2022-01-24T12:51:05.619Z"
   },
   {
    "duration": 323,
    "start_time": "2022-01-24T12:51:05.622Z"
   },
   {
    "duration": 321,
    "start_time": "2022-01-24T12:51:05.625Z"
   },
   {
    "duration": 319,
    "start_time": "2022-01-24T12:51:05.628Z"
   },
   {
    "duration": 317,
    "start_time": "2022-01-24T12:51:05.631Z"
   },
   {
    "duration": 315,
    "start_time": "2022-01-24T12:51:05.634Z"
   },
   {
    "duration": 308,
    "start_time": "2022-01-24T12:51:05.642Z"
   },
   {
    "duration": 306,
    "start_time": "2022-01-24T12:51:05.645Z"
   },
   {
    "duration": 304,
    "start_time": "2022-01-24T12:51:05.648Z"
   },
   {
    "duration": 302,
    "start_time": "2022-01-24T12:51:05.651Z"
   },
   {
    "duration": 1001,
    "start_time": "2022-01-24T12:51:29.956Z"
   },
   {
    "duration": 377,
    "start_time": "2022-01-24T12:51:30.959Z"
   },
   {
    "duration": 2,
    "start_time": "2022-01-24T12:51:31.338Z"
   },
   {
    "duration": 162,
    "start_time": "2022-01-24T12:51:31.342Z"
   },
   {
    "duration": 124,
    "start_time": "2022-01-24T12:51:31.506Z"
   },
   {
    "duration": 70,
    "start_time": "2022-01-24T12:51:31.631Z"
   },
   {
    "duration": 57,
    "start_time": "2022-01-24T12:51:31.703Z"
   },
   {
    "duration": 25,
    "start_time": "2022-01-24T12:51:31.762Z"
   },
   {
    "duration": 5,
    "start_time": "2022-01-24T12:51:31.790Z"
   },
   {
    "duration": 28,
    "start_time": "2022-01-24T12:51:31.828Z"
   },
   {
    "duration": 6,
    "start_time": "2022-01-24T12:51:31.858Z"
   },
   {
    "duration": 22,
    "start_time": "2022-01-24T12:51:31.866Z"
   },
   {
    "duration": 4,
    "start_time": "2022-01-24T12:51:31.890Z"
   },
   {
    "duration": 39,
    "start_time": "2022-01-24T12:51:31.895Z"
   },
   {
    "duration": 14,
    "start_time": "2022-01-24T12:51:31.935Z"
   },
   {
    "duration": 7,
    "start_time": "2022-01-24T12:51:31.951Z"
   },
   {
    "duration": 16,
    "start_time": "2022-01-24T12:51:31.959Z"
   },
   {
    "duration": 14,
    "start_time": "2022-01-24T12:51:31.977Z"
   },
   {
    "duration": 36,
    "start_time": "2022-01-24T12:51:31.993Z"
   },
   {
    "duration": 20,
    "start_time": "2022-01-24T12:51:32.030Z"
   },
   {
    "duration": 4,
    "start_time": "2022-01-24T12:51:32.051Z"
   },
   {
    "duration": 7,
    "start_time": "2022-01-24T12:51:32.057Z"
   },
   {
    "duration": 9,
    "start_time": "2022-01-24T12:51:32.065Z"
   },
   {
    "duration": 6,
    "start_time": "2022-01-24T12:51:32.076Z"
   },
   {
    "duration": 6,
    "start_time": "2022-01-24T12:51:32.083Z"
   },
   {
    "duration": 9,
    "start_time": "2022-01-24T12:51:32.090Z"
   },
   {
    "duration": 30,
    "start_time": "2022-01-24T12:51:32.102Z"
   },
   {
    "duration": 9,
    "start_time": "2022-01-24T12:51:32.133Z"
   },
   {
    "duration": 15,
    "start_time": "2022-01-24T12:51:32.144Z"
   },
   {
    "duration": 9,
    "start_time": "2022-01-24T12:51:32.161Z"
   },
   {
    "duration": 7,
    "start_time": "2022-01-24T12:51:32.171Z"
   },
   {
    "duration": 81,
    "start_time": "2022-01-24T12:51:32.179Z"
   },
   {
    "duration": 53,
    "start_time": "2022-01-24T12:51:32.262Z"
   },
   {
    "duration": 27,
    "start_time": "2022-01-24T12:51:32.327Z"
   },
   {
    "duration": 22,
    "start_time": "2022-01-24T12:51:32.356Z"
   },
   {
    "duration": 12,
    "start_time": "2022-01-24T12:51:32.380Z"
   },
   {
    "duration": 38,
    "start_time": "2022-01-24T12:51:32.394Z"
   },
   {
    "duration": 7,
    "start_time": "2022-01-24T12:51:32.433Z"
   },
   {
    "duration": 5,
    "start_time": "2022-01-24T12:51:32.442Z"
   },
   {
    "duration": 15,
    "start_time": "2022-01-24T12:51:32.448Z"
   },
   {
    "duration": 5,
    "start_time": "2022-01-24T12:51:32.464Z"
   },
   {
    "duration": 6,
    "start_time": "2022-01-24T12:51:32.470Z"
   },
   {
    "duration": 20,
    "start_time": "2022-01-24T12:51:32.477Z"
   },
   {
    "duration": 300,
    "start_time": "2022-01-24T12:51:32.498Z"
   },
   {
    "duration": 32,
    "start_time": "2022-01-24T12:51:32.800Z"
   },
   {
    "duration": 343,
    "start_time": "2022-01-24T12:51:32.833Z"
   },
   {
    "duration": 352,
    "start_time": "2022-01-24T12:51:33.178Z"
   },
   {
    "duration": 349,
    "start_time": "2022-01-24T12:51:33.531Z"
   },
   {
    "duration": 5,
    "start_time": "2022-01-24T12:51:33.881Z"
   },
   {
    "duration": 9,
    "start_time": "2022-01-24T12:51:33.888Z"
   },
   {
    "duration": 13,
    "start_time": "2022-01-24T12:51:33.898Z"
   },
   {
    "duration": 17,
    "start_time": "2022-01-24T12:51:33.912Z"
   },
   {
    "duration": 6,
    "start_time": "2022-01-24T12:51:33.930Z"
   },
   {
    "duration": 8,
    "start_time": "2022-01-24T12:51:33.937Z"
   },
   {
    "duration": 5,
    "start_time": "2022-01-24T12:57:48.764Z"
   },
   {
    "duration": 5,
    "start_time": "2022-01-24T12:57:52.576Z"
   },
   {
    "duration": 5,
    "start_time": "2022-01-24T12:58:13.057Z"
   },
   {
    "duration": 5,
    "start_time": "2022-01-24T12:58:19.152Z"
   },
   {
    "duration": 406,
    "start_time": "2022-01-24T13:52:59.296Z"
   },
   {
    "duration": 418,
    "start_time": "2022-01-24T13:53:06.655Z"
   },
   {
    "duration": 360,
    "start_time": "2022-01-24T13:53:40.636Z"
   },
   {
    "duration": 373,
    "start_time": "2022-01-24T13:54:05.543Z"
   },
   {
    "duration": 365,
    "start_time": "2022-01-24T13:54:21.215Z"
   },
   {
    "duration": 1103,
    "start_time": "2022-01-24T14:20:23.735Z"
   },
   {
    "duration": 362,
    "start_time": "2022-01-24T14:23:24.851Z"
   },
   {
    "duration": 558,
    "start_time": "2022-01-24T14:24:07.175Z"
   },
   {
    "duration": 451,
    "start_time": "2022-01-24T14:24:24.736Z"
   },
   {
    "duration": 388,
    "start_time": "2022-01-24T14:24:43.175Z"
   },
   {
    "duration": 405,
    "start_time": "2022-01-24T14:24:51.355Z"
   },
   {
    "duration": 373,
    "start_time": "2022-01-24T14:26:34.284Z"
   },
   {
    "duration": 1311,
    "start_time": "2022-01-24T17:56:57.893Z"
   },
   {
    "duration": 448,
    "start_time": "2022-01-24T17:56:59.206Z"
   },
   {
    "duration": 4,
    "start_time": "2022-01-24T17:56:59.657Z"
   },
   {
    "duration": 193,
    "start_time": "2022-01-24T17:56:59.663Z"
   },
   {
    "duration": 155,
    "start_time": "2022-01-24T17:56:59.858Z"
   },
   {
    "duration": 114,
    "start_time": "2022-01-24T17:57:00.014Z"
   },
   {
    "duration": 77,
    "start_time": "2022-01-24T17:57:00.130Z"
   },
   {
    "duration": 38,
    "start_time": "2022-01-24T17:57:00.210Z"
   },
   {
    "duration": 6,
    "start_time": "2022-01-24T17:57:00.250Z"
   },
   {
    "duration": 64,
    "start_time": "2022-01-24T17:57:00.258Z"
   },
   {
    "duration": 6,
    "start_time": "2022-01-24T17:57:00.324Z"
   },
   {
    "duration": 74,
    "start_time": "2022-01-24T17:57:00.332Z"
   },
   {
    "duration": 18,
    "start_time": "2022-01-24T17:57:00.408Z"
   },
   {
    "duration": 51,
    "start_time": "2022-01-24T17:57:00.428Z"
   },
   {
    "duration": 34,
    "start_time": "2022-01-24T17:57:00.481Z"
   },
   {
    "duration": 33,
    "start_time": "2022-01-24T17:57:00.517Z"
   },
   {
    "duration": 34,
    "start_time": "2022-01-24T17:57:00.552Z"
   },
   {
    "duration": 41,
    "start_time": "2022-01-24T17:57:00.589Z"
   },
   {
    "duration": 18,
    "start_time": "2022-01-24T17:57:00.633Z"
   },
   {
    "duration": 51,
    "start_time": "2022-01-24T17:57:00.653Z"
   },
   {
    "duration": 6,
    "start_time": "2022-01-24T17:57:00.707Z"
   },
   {
    "duration": 27,
    "start_time": "2022-01-24T17:57:00.715Z"
   },
   {
    "duration": 23,
    "start_time": "2022-01-24T17:57:00.746Z"
   },
   {
    "duration": 35,
    "start_time": "2022-01-24T17:57:00.771Z"
   },
   {
    "duration": 29,
    "start_time": "2022-01-24T17:57:00.809Z"
   },
   {
    "duration": 74,
    "start_time": "2022-01-24T17:57:00.841Z"
   },
   {
    "duration": 45,
    "start_time": "2022-01-24T17:57:00.917Z"
   },
   {
    "duration": 47,
    "start_time": "2022-01-24T17:57:00.965Z"
   },
   {
    "duration": 42,
    "start_time": "2022-01-24T17:57:01.015Z"
   },
   {
    "duration": 47,
    "start_time": "2022-01-24T17:57:01.060Z"
   },
   {
    "duration": 49,
    "start_time": "2022-01-24T17:57:01.109Z"
   },
   {
    "duration": 111,
    "start_time": "2022-01-24T17:57:01.160Z"
   },
   {
    "duration": 86,
    "start_time": "2022-01-24T17:57:01.273Z"
   },
   {
    "duration": 35,
    "start_time": "2022-01-24T17:57:01.361Z"
   },
   {
    "duration": 36,
    "start_time": "2022-01-24T17:57:01.398Z"
   },
   {
    "duration": 16,
    "start_time": "2022-01-24T17:57:01.436Z"
   },
   {
    "duration": 28,
    "start_time": "2022-01-24T17:57:01.455Z"
   },
   {
    "duration": 30,
    "start_time": "2022-01-24T17:57:01.486Z"
   },
   {
    "duration": 36,
    "start_time": "2022-01-24T17:57:01.518Z"
   },
   {
    "duration": 31,
    "start_time": "2022-01-24T17:57:01.556Z"
   },
   {
    "duration": 12,
    "start_time": "2022-01-24T17:57:01.588Z"
   },
   {
    "duration": 18,
    "start_time": "2022-01-24T17:57:01.602Z"
   },
   {
    "duration": 18,
    "start_time": "2022-01-24T17:57:01.622Z"
   },
   {
    "duration": 355,
    "start_time": "2022-01-24T17:57:01.642Z"
   },
   {
    "duration": 37,
    "start_time": "2022-01-24T17:57:01.999Z"
   },
   {
    "duration": 529,
    "start_time": "2022-01-24T17:57:02.038Z"
   },
   {
    "duration": 473,
    "start_time": "2022-01-24T17:57:02.570Z"
   },
   {
    "duration": 820,
    "start_time": "2022-01-24T17:57:03.046Z"
   },
   {
    "duration": 7,
    "start_time": "2022-01-24T17:57:03.868Z"
   },
   {
    "duration": 22,
    "start_time": "2022-01-24T17:57:03.877Z"
   },
   {
    "duration": 17,
    "start_time": "2022-01-24T17:57:03.901Z"
   },
   {
    "duration": 21,
    "start_time": "2022-01-24T17:57:03.920Z"
   },
   {
    "duration": 12,
    "start_time": "2022-01-24T17:57:03.944Z"
   },
   {
    "duration": 30,
    "start_time": "2022-01-24T17:57:03.958Z"
   },
   {
    "duration": 432,
    "start_time": "2022-01-24T17:58:27.762Z"
   },
   {
    "duration": 812,
    "start_time": "2022-01-24T17:59:40.115Z"
   },
   {
    "duration": 521,
    "start_time": "2022-01-24T18:00:11.712Z"
   },
   {
    "duration": 541,
    "start_time": "2022-01-24T18:00:25.788Z"
   },
   {
    "duration": 590,
    "start_time": "2022-01-24T18:02:43.805Z"
   },
   {
    "duration": 1297,
    "start_time": "2022-01-24T18:03:52.105Z"
   },
   {
    "duration": 438,
    "start_time": "2022-01-24T18:03:53.405Z"
   },
   {
    "duration": 3,
    "start_time": "2022-01-24T18:03:53.846Z"
   },
   {
    "duration": 197,
    "start_time": "2022-01-24T18:03:53.852Z"
   },
   {
    "duration": 158,
    "start_time": "2022-01-24T18:03:54.051Z"
   },
   {
    "duration": 114,
    "start_time": "2022-01-24T18:03:54.211Z"
   },
   {
    "duration": 46,
    "start_time": "2022-01-24T18:03:54.327Z"
   },
   {
    "duration": 60,
    "start_time": "2022-01-24T18:03:54.376Z"
   },
   {
    "duration": 6,
    "start_time": "2022-01-24T18:03:54.439Z"
   },
   {
    "duration": 66,
    "start_time": "2022-01-24T18:03:54.447Z"
   },
   {
    "duration": 6,
    "start_time": "2022-01-24T18:03:54.515Z"
   },
   {
    "duration": 29,
    "start_time": "2022-01-24T18:03:54.523Z"
   },
   {
    "duration": 6,
    "start_time": "2022-01-24T18:03:54.554Z"
   },
   {
    "duration": 48,
    "start_time": "2022-01-24T18:03:54.561Z"
   },
   {
    "duration": 20,
    "start_time": "2022-01-24T18:03:54.611Z"
   },
   {
    "duration": 10,
    "start_time": "2022-01-24T18:03:54.634Z"
   },
   {
    "duration": 18,
    "start_time": "2022-01-24T18:03:54.646Z"
   },
   {
    "duration": 45,
    "start_time": "2022-01-24T18:03:54.666Z"
   },
   {
    "duration": 10,
    "start_time": "2022-01-24T18:03:54.714Z"
   },
   {
    "duration": 21,
    "start_time": "2022-01-24T18:03:54.726Z"
   },
   {
    "duration": 5,
    "start_time": "2022-01-24T18:03:54.749Z"
   },
   {
    "duration": 9,
    "start_time": "2022-01-24T18:03:54.756Z"
   },
   {
    "duration": 40,
    "start_time": "2022-01-24T18:03:54.769Z"
   },
   {
    "duration": 8,
    "start_time": "2022-01-24T18:03:54.812Z"
   },
   {
    "duration": 18,
    "start_time": "2022-01-24T18:03:54.822Z"
   },
   {
    "duration": 12,
    "start_time": "2022-01-24T18:03:54.842Z"
   },
   {
    "duration": 15,
    "start_time": "2022-01-24T18:03:54.856Z"
   },
   {
    "duration": 9,
    "start_time": "2022-01-24T18:03:54.873Z"
   },
   {
    "duration": 25,
    "start_time": "2022-01-24T18:03:54.884Z"
   },
   {
    "duration": 18,
    "start_time": "2022-01-24T18:03:54.911Z"
   },
   {
    "duration": 15,
    "start_time": "2022-01-24T18:03:54.931Z"
   },
   {
    "duration": 98,
    "start_time": "2022-01-24T18:03:54.948Z"
   },
   {
    "duration": 80,
    "start_time": "2022-01-24T18:03:55.048Z"
   },
   {
    "duration": 34,
    "start_time": "2022-01-24T18:03:55.130Z"
   },
   {
    "duration": 48,
    "start_time": "2022-01-24T18:03:55.165Z"
   },
   {
    "duration": 16,
    "start_time": "2022-01-24T18:03:55.216Z"
   },
   {
    "duration": 19,
    "start_time": "2022-01-24T18:03:55.234Z"
   },
   {
    "duration": 10,
    "start_time": "2022-01-24T18:03:55.255Z"
   },
   {
    "duration": 45,
    "start_time": "2022-01-24T18:03:55.267Z"
   },
   {
    "duration": 17,
    "start_time": "2022-01-24T18:03:55.314Z"
   },
   {
    "duration": 16,
    "start_time": "2022-01-24T18:03:55.333Z"
   },
   {
    "duration": 11,
    "start_time": "2022-01-24T18:03:55.351Z"
   },
   {
    "duration": 42,
    "start_time": "2022-01-24T18:03:55.364Z"
   },
   {
    "duration": 378,
    "start_time": "2022-01-24T18:03:55.408Z"
   },
   {
    "duration": 47,
    "start_time": "2022-01-24T18:03:55.788Z"
   },
   {
    "duration": 470,
    "start_time": "2022-01-24T18:03:55.837Z"
   },
   {
    "duration": 645,
    "start_time": "2022-01-24T18:03:56.309Z"
   },
   {
    "duration": 551,
    "start_time": "2022-01-24T18:03:56.956Z"
   },
   {
    "duration": 5,
    "start_time": "2022-01-24T18:03:57.510Z"
   },
   {
    "duration": 16,
    "start_time": "2022-01-24T18:03:57.517Z"
   },
   {
    "duration": 41,
    "start_time": "2022-01-24T18:03:57.535Z"
   },
   {
    "duration": 20,
    "start_time": "2022-01-24T18:03:57.578Z"
   },
   {
    "duration": 15,
    "start_time": "2022-01-24T18:03:57.600Z"
   },
   {
    "duration": 22,
    "start_time": "2022-01-24T18:03:57.617Z"
   },
   {
    "duration": 652,
    "start_time": "2022-01-24T18:04:51.358Z"
   },
   {
    "duration": 562,
    "start_time": "2022-01-24T18:05:18.856Z"
   },
   {
    "duration": 6,
    "start_time": "2022-01-24T18:49:51.191Z"
   },
   {
    "duration": 8,
    "start_time": "2022-01-24T18:50:02.147Z"
   },
   {
    "duration": 4,
    "start_time": "2022-01-24T18:54:00.108Z"
   },
   {
    "duration": 8,
    "start_time": "2022-01-24T18:54:08.347Z"
   },
   {
    "duration": 11,
    "start_time": "2022-01-24T19:07:12.425Z"
   },
   {
    "duration": 11,
    "start_time": "2022-01-24T19:09:54.666Z"
   },
   {
    "duration": 1336,
    "start_time": "2022-01-24T19:31:33.971Z"
   },
   {
    "duration": 431,
    "start_time": "2022-01-24T19:31:35.310Z"
   },
   {
    "duration": 5,
    "start_time": "2022-01-24T19:31:35.743Z"
   },
   {
    "duration": 197,
    "start_time": "2022-01-24T19:31:35.750Z"
   },
   {
    "duration": 164,
    "start_time": "2022-01-24T19:31:35.949Z"
   },
   {
    "duration": 119,
    "start_time": "2022-01-24T19:31:36.115Z"
   },
   {
    "duration": 75,
    "start_time": "2022-01-24T19:31:36.236Z"
   },
   {
    "duration": 38,
    "start_time": "2022-01-24T19:31:36.314Z"
   },
   {
    "duration": 6,
    "start_time": "2022-01-24T19:31:36.355Z"
   },
   {
    "duration": 79,
    "start_time": "2022-01-24T19:31:36.363Z"
   },
   {
    "duration": 28,
    "start_time": "2022-01-24T19:31:36.444Z"
   },
   {
    "duration": 37,
    "start_time": "2022-01-24T19:31:36.475Z"
   },
   {
    "duration": 19,
    "start_time": "2022-01-24T19:31:36.513Z"
   },
   {
    "duration": 10,
    "start_time": "2022-01-24T19:31:36.534Z"
   },
   {
    "duration": 24,
    "start_time": "2022-01-24T19:31:36.545Z"
   },
   {
    "duration": 40,
    "start_time": "2022-01-24T19:31:36.571Z"
   },
   {
    "duration": 9,
    "start_time": "2022-01-24T19:31:36.613Z"
   },
   {
    "duration": 23,
    "start_time": "2022-01-24T19:31:36.624Z"
   },
   {
    "duration": 4,
    "start_time": "2022-01-24T19:31:36.649Z"
   },
   {
    "duration": 8,
    "start_time": "2022-01-24T19:31:36.655Z"
   },
   {
    "duration": 9,
    "start_time": "2022-01-24T19:31:36.665Z"
   },
   {
    "duration": 38,
    "start_time": "2022-01-24T19:31:36.676Z"
   },
   {
    "duration": 9,
    "start_time": "2022-01-24T19:31:36.719Z"
   },
   {
    "duration": 11,
    "start_time": "2022-01-24T19:31:36.730Z"
   },
   {
    "duration": 12,
    "start_time": "2022-01-24T19:31:36.743Z"
   },
   {
    "duration": 12,
    "start_time": "2022-01-24T19:31:36.757Z"
   },
   {
    "duration": 8,
    "start_time": "2022-01-24T19:31:36.771Z"
   },
   {
    "duration": 7,
    "start_time": "2022-01-24T19:31:36.806Z"
   },
   {
    "duration": 12,
    "start_time": "2022-01-24T19:31:36.815Z"
   },
   {
    "duration": 16,
    "start_time": "2022-01-24T19:31:36.829Z"
   },
   {
    "duration": 15,
    "start_time": "2022-01-24T19:31:36.847Z"
   },
   {
    "duration": 13,
    "start_time": "2022-01-24T19:31:36.864Z"
   },
   {
    "duration": 97,
    "start_time": "2022-01-24T19:31:36.879Z"
   },
   {
    "duration": 86,
    "start_time": "2022-01-24T19:31:36.978Z"
   },
   {
    "duration": 42,
    "start_time": "2022-01-24T19:31:37.066Z"
   },
   {
    "duration": 27,
    "start_time": "2022-01-24T19:31:37.110Z"
   },
   {
    "duration": 16,
    "start_time": "2022-01-24T19:31:37.140Z"
   },
   {
    "duration": 18,
    "start_time": "2022-01-24T19:31:37.158Z"
   },
   {
    "duration": 11,
    "start_time": "2022-01-24T19:31:37.207Z"
   },
   {
    "duration": 9,
    "start_time": "2022-01-24T19:31:37.219Z"
   },
   {
    "duration": 15,
    "start_time": "2022-01-24T19:31:37.230Z"
   },
   {
    "duration": 4,
    "start_time": "2022-01-24T19:31:37.247Z"
   },
   {
    "duration": 10,
    "start_time": "2022-01-24T19:31:37.254Z"
   },
   {
    "duration": 47,
    "start_time": "2022-01-24T19:31:37.267Z"
   },
   {
    "duration": 15,
    "start_time": "2022-01-24T19:31:37.316Z"
   },
   {
    "duration": 375,
    "start_time": "2022-01-24T19:31:37.333Z"
   },
   {
    "duration": 11,
    "start_time": "2022-01-24T19:31:37.710Z"
   },
   {
    "duration": 36,
    "start_time": "2022-01-24T19:31:37.723Z"
   },
   {
    "duration": 572,
    "start_time": "2022-01-24T19:31:37.760Z"
   },
   {
    "duration": 533,
    "start_time": "2022-01-24T19:31:38.334Z"
   },
   {
    "duration": 663,
    "start_time": "2022-01-24T19:31:38.869Z"
   },
   {
    "duration": 7,
    "start_time": "2022-01-24T19:31:39.534Z"
   },
   {
    "duration": 22,
    "start_time": "2022-01-24T19:31:39.543Z"
   },
   {
    "duration": 30,
    "start_time": "2022-01-24T19:31:39.567Z"
   },
   {
    "duration": 27,
    "start_time": "2022-01-24T19:31:39.599Z"
   },
   {
    "duration": 16,
    "start_time": "2022-01-24T19:31:39.628Z"
   },
   {
    "duration": 14,
    "start_time": "2022-01-24T19:31:39.646Z"
   },
   {
    "duration": 1264,
    "start_time": "2022-01-24T19:32:49.337Z"
   },
   {
    "duration": 456,
    "start_time": "2022-01-24T19:32:50.603Z"
   },
   {
    "duration": 3,
    "start_time": "2022-01-24T19:32:51.061Z"
   },
   {
    "duration": 224,
    "start_time": "2022-01-24T19:32:51.067Z"
   },
   {
    "duration": 166,
    "start_time": "2022-01-24T19:32:51.293Z"
   },
   {
    "duration": 113,
    "start_time": "2022-01-24T19:32:51.461Z"
   },
   {
    "duration": 65,
    "start_time": "2022-01-24T19:32:51.577Z"
   },
   {
    "duration": 68,
    "start_time": "2022-01-24T19:32:51.645Z"
   },
   {
    "duration": 7,
    "start_time": "2022-01-24T19:32:51.715Z"
   },
   {
    "duration": 52,
    "start_time": "2022-01-24T19:32:51.724Z"
   },
   {
    "duration": 39,
    "start_time": "2022-01-24T19:32:51.778Z"
   },
   {
    "duration": 18,
    "start_time": "2022-01-24T19:32:51.820Z"
   },
   {
    "duration": 20,
    "start_time": "2022-01-24T19:32:51.841Z"
   },
   {
    "duration": 10,
    "start_time": "2022-01-24T19:32:51.863Z"
   },
   {
    "duration": 55,
    "start_time": "2022-01-24T19:32:51.874Z"
   },
   {
    "duration": 19,
    "start_time": "2022-01-24T19:32:51.931Z"
   },
   {
    "duration": 10,
    "start_time": "2022-01-24T19:32:51.952Z"
   },
   {
    "duration": 44,
    "start_time": "2022-01-24T19:32:51.963Z"
   },
   {
    "duration": 5,
    "start_time": "2022-01-24T19:32:52.009Z"
   },
   {
    "duration": 21,
    "start_time": "2022-01-24T19:32:52.016Z"
   },
   {
    "duration": 20,
    "start_time": "2022-01-24T19:32:52.039Z"
   },
   {
    "duration": 30,
    "start_time": "2022-01-24T19:32:52.061Z"
   },
   {
    "duration": 26,
    "start_time": "2022-01-24T19:32:52.095Z"
   },
   {
    "duration": 24,
    "start_time": "2022-01-24T19:32:52.123Z"
   },
   {
    "duration": 20,
    "start_time": "2022-01-24T19:32:52.149Z"
   },
   {
    "duration": 41,
    "start_time": "2022-01-24T19:32:52.171Z"
   },
   {
    "duration": 32,
    "start_time": "2022-01-24T19:32:52.214Z"
   },
   {
    "duration": 21,
    "start_time": "2022-01-24T19:32:52.248Z"
   },
   {
    "duration": 17,
    "start_time": "2022-01-24T19:32:52.271Z"
   },
   {
    "duration": 28,
    "start_time": "2022-01-24T19:32:52.290Z"
   },
   {
    "duration": 16,
    "start_time": "2022-01-24T19:32:52.320Z"
   },
   {
    "duration": 16,
    "start_time": "2022-01-24T19:32:52.338Z"
   },
   {
    "duration": 90,
    "start_time": "2022-01-24T19:32:52.356Z"
   },
   {
    "duration": 83,
    "start_time": "2022-01-24T19:32:52.448Z"
   },
   {
    "duration": 33,
    "start_time": "2022-01-24T19:32:52.533Z"
   },
   {
    "duration": 51,
    "start_time": "2022-01-24T19:32:52.568Z"
   },
   {
    "duration": 18,
    "start_time": "2022-01-24T19:32:52.621Z"
   },
   {
    "duration": 21,
    "start_time": "2022-01-24T19:32:52.641Z"
   },
   {
    "duration": 10,
    "start_time": "2022-01-24T19:32:52.664Z"
   },
   {
    "duration": 35,
    "start_time": "2022-01-24T19:32:52.676Z"
   },
   {
    "duration": 15,
    "start_time": "2022-01-24T19:32:52.713Z"
   },
   {
    "duration": 11,
    "start_time": "2022-01-24T19:32:52.730Z"
   },
   {
    "duration": 8,
    "start_time": "2022-01-24T19:32:52.743Z"
   },
   {
    "duration": 32,
    "start_time": "2022-01-24T19:32:52.753Z"
   },
   {
    "duration": 20,
    "start_time": "2022-01-24T19:32:52.786Z"
   },
   {
    "duration": 290,
    "start_time": "2022-01-24T19:32:52.808Z"
   },
   {
    "duration": 16,
    "start_time": "2022-01-24T19:32:53.099Z"
   },
   {
    "duration": 33,
    "start_time": "2022-01-24T19:32:53.116Z"
   },
   {
    "duration": 666,
    "start_time": "2022-01-24T19:32:53.150Z"
   },
   {
    "duration": 537,
    "start_time": "2022-01-24T19:32:53.819Z"
   },
   {
    "duration": 553,
    "start_time": "2022-01-24T19:32:54.358Z"
   },
   {
    "duration": 6,
    "start_time": "2022-01-24T19:32:54.914Z"
   },
   {
    "duration": 17,
    "start_time": "2022-01-24T19:32:54.922Z"
   },
   {
    "duration": 18,
    "start_time": "2022-01-24T19:32:54.941Z"
   },
   {
    "duration": 15,
    "start_time": "2022-01-24T19:32:54.961Z"
   },
   {
    "duration": 13,
    "start_time": "2022-01-24T19:32:54.978Z"
   },
   {
    "duration": 78,
    "start_time": "2022-01-24T19:32:55.007Z"
   },
   {
    "duration": 508,
    "start_time": "2022-01-24T19:33:33.006Z"
   },
   {
    "duration": 509,
    "start_time": "2022-01-24T19:43:32.819Z"
   },
   {
    "duration": 511,
    "start_time": "2022-01-24T19:43:52.663Z"
   },
   {
    "duration": 10,
    "start_time": "2022-01-24T19:59:35.546Z"
   },
   {
    "duration": 9,
    "start_time": "2022-01-24T19:59:55.166Z"
   },
   {
    "duration": 9,
    "start_time": "2022-01-24T20:01:08.436Z"
   },
   {
    "duration": 9,
    "start_time": "2022-01-24T20:01:27.809Z"
   },
   {
    "duration": 8,
    "start_time": "2022-01-24T20:09:27.662Z"
   },
   {
    "duration": 9,
    "start_time": "2022-01-24T20:09:37.698Z"
   },
   {
    "duration": 5,
    "start_time": "2022-01-24T20:17:49.916Z"
   },
   {
    "duration": 4,
    "start_time": "2022-01-24T20:18:24.409Z"
   },
   {
    "duration": 1352,
    "start_time": "2022-01-24T20:56:27.347Z"
   },
   {
    "duration": 623,
    "start_time": "2022-01-24T20:56:28.702Z"
   },
   {
    "duration": 3,
    "start_time": "2022-01-24T20:56:29.328Z"
   },
   {
    "duration": 211,
    "start_time": "2022-01-24T20:56:29.333Z"
   },
   {
    "duration": 147,
    "start_time": "2022-01-24T20:56:29.546Z"
   },
   {
    "duration": 130,
    "start_time": "2022-01-24T20:56:29.695Z"
   },
   {
    "duration": 120,
    "start_time": "2022-01-24T20:56:29.831Z"
   },
   {
    "duration": 78,
    "start_time": "2022-01-24T20:56:29.955Z"
   },
   {
    "duration": 8,
    "start_time": "2022-01-24T20:56:30.036Z"
   },
   {
    "duration": 87,
    "start_time": "2022-01-24T20:56:30.047Z"
   },
   {
    "duration": 74,
    "start_time": "2022-01-24T20:56:30.136Z"
   },
   {
    "duration": 22,
    "start_time": "2022-01-24T20:56:30.212Z"
   },
   {
    "duration": 73,
    "start_time": "2022-01-24T20:56:30.236Z"
   },
   {
    "duration": 14,
    "start_time": "2022-01-24T20:56:30.312Z"
   },
   {
    "duration": 16,
    "start_time": "2022-01-24T20:56:30.328Z"
   },
   {
    "duration": 19,
    "start_time": "2022-01-24T20:56:30.347Z"
   },
   {
    "duration": 53,
    "start_time": "2022-01-24T20:56:30.368Z"
   },
   {
    "duration": 32,
    "start_time": "2022-01-24T20:56:30.424Z"
   },
   {
    "duration": 6,
    "start_time": "2022-01-24T20:56:30.459Z"
   },
   {
    "duration": 14,
    "start_time": "2022-01-24T20:56:30.466Z"
   },
   {
    "duration": 34,
    "start_time": "2022-01-24T20:56:30.482Z"
   },
   {
    "duration": 15,
    "start_time": "2022-01-24T20:56:30.527Z"
   },
   {
    "duration": 14,
    "start_time": "2022-01-24T20:56:30.548Z"
   },
   {
    "duration": 26,
    "start_time": "2022-01-24T20:56:30.566Z"
   },
   {
    "duration": 15,
    "start_time": "2022-01-24T20:56:30.594Z"
   },
   {
    "duration": 27,
    "start_time": "2022-01-24T20:56:30.611Z"
   },
   {
    "duration": 22,
    "start_time": "2022-01-24T20:56:30.640Z"
   },
   {
    "duration": 13,
    "start_time": "2022-01-24T20:56:30.664Z"
   },
   {
    "duration": 13,
    "start_time": "2022-01-24T20:56:30.680Z"
   },
   {
    "duration": 11,
    "start_time": "2022-01-24T20:56:30.695Z"
   },
   {
    "duration": 26,
    "start_time": "2022-01-24T20:56:30.708Z"
   },
   {
    "duration": 13,
    "start_time": "2022-01-24T20:56:30.736Z"
   },
   {
    "duration": 95,
    "start_time": "2022-01-24T20:56:30.751Z"
   },
   {
    "duration": 78,
    "start_time": "2022-01-24T20:56:30.847Z"
   },
   {
    "duration": 34,
    "start_time": "2022-01-24T20:56:30.927Z"
   },
   {
    "duration": 54,
    "start_time": "2022-01-24T20:56:30.963Z"
   },
   {
    "duration": 18,
    "start_time": "2022-01-24T20:56:31.019Z"
   },
   {
    "duration": 27,
    "start_time": "2022-01-24T20:56:31.039Z"
   },
   {
    "duration": 9,
    "start_time": "2022-01-24T20:56:31.068Z"
   },
   {
    "duration": 12,
    "start_time": "2022-01-24T20:56:31.079Z"
   },
   {
    "duration": 29,
    "start_time": "2022-01-24T20:56:31.093Z"
   },
   {
    "duration": 25,
    "start_time": "2022-01-24T20:56:31.124Z"
   },
   {
    "duration": 12,
    "start_time": "2022-01-24T20:56:31.151Z"
   },
   {
    "duration": 29,
    "start_time": "2022-01-24T20:56:31.165Z"
   },
   {
    "duration": 30,
    "start_time": "2022-01-24T20:56:31.197Z"
   },
   {
    "duration": 335,
    "start_time": "2022-01-24T20:56:31.229Z"
   },
   {
    "duration": 10,
    "start_time": "2022-01-24T20:56:31.566Z"
   },
   {
    "duration": 53,
    "start_time": "2022-01-24T20:56:31.578Z"
   },
   {
    "duration": 598,
    "start_time": "2022-01-24T20:56:31.633Z"
   },
   {
    "duration": 10,
    "start_time": "2022-01-24T20:56:32.234Z"
   },
   {
    "duration": 13,
    "start_time": "2022-01-24T20:56:32.246Z"
   },
   {
    "duration": 582,
    "start_time": "2022-01-24T20:56:32.262Z"
   },
   {
    "duration": 9,
    "start_time": "2022-01-24T20:56:32.846Z"
   },
   {
    "duration": 11,
    "start_time": "2022-01-24T20:56:32.856Z"
   },
   {
    "duration": 558,
    "start_time": "2022-01-24T20:56:32.869Z"
   },
   {
    "duration": 9,
    "start_time": "2022-01-24T20:56:33.429Z"
   },
   {
    "duration": 10,
    "start_time": "2022-01-24T20:56:33.440Z"
   },
   {
    "duration": 6,
    "start_time": "2022-01-24T20:56:33.453Z"
   },
   {
    "duration": 9,
    "start_time": "2022-01-24T20:56:33.461Z"
   },
   {
    "duration": 41,
    "start_time": "2022-01-24T20:56:33.472Z"
   },
   {
    "duration": 13,
    "start_time": "2022-01-24T20:56:33.517Z"
   },
   {
    "duration": 13,
    "start_time": "2022-01-24T20:56:33.532Z"
   },
   {
    "duration": 7,
    "start_time": "2022-01-24T20:56:33.548Z"
   },
   {
    "duration": 13,
    "start_time": "2022-01-24T20:56:33.558Z"
   },
   {
    "duration": 1219,
    "start_time": "2022-02-01T16:17:20.970Z"
   },
   {
    "duration": 425,
    "start_time": "2022-02-01T16:17:22.192Z"
   },
   {
    "duration": 3,
    "start_time": "2022-02-01T16:17:22.620Z"
   },
   {
    "duration": 197,
    "start_time": "2022-02-01T16:17:22.625Z"
   },
   {
    "duration": 165,
    "start_time": "2022-02-01T16:17:22.823Z"
   },
   {
    "duration": 118,
    "start_time": "2022-02-01T16:17:22.999Z"
   },
   {
    "duration": 48,
    "start_time": "2022-02-01T16:17:23.119Z"
   },
   {
    "duration": 57,
    "start_time": "2022-02-01T16:17:23.169Z"
   },
   {
    "duration": 6,
    "start_time": "2022-02-01T16:17:23.229Z"
   },
   {
    "duration": 64,
    "start_time": "2022-02-01T16:17:23.237Z"
   },
   {
    "duration": 26,
    "start_time": "2022-02-01T16:17:23.303Z"
   },
   {
    "duration": 26,
    "start_time": "2022-02-01T16:17:23.330Z"
   },
   {
    "duration": 20,
    "start_time": "2022-02-01T16:17:23.358Z"
   },
   {
    "duration": 25,
    "start_time": "2022-02-01T16:17:23.380Z"
   },
   {
    "duration": 13,
    "start_time": "2022-02-01T16:17:23.406Z"
   },
   {
    "duration": 23,
    "start_time": "2022-02-01T16:17:23.421Z"
   },
   {
    "duration": 9,
    "start_time": "2022-02-01T16:17:23.445Z"
   },
   {
    "duration": 47,
    "start_time": "2022-02-01T16:17:23.456Z"
   },
   {
    "duration": 5,
    "start_time": "2022-02-01T16:17:23.505Z"
   },
   {
    "duration": 12,
    "start_time": "2022-02-01T16:17:23.512Z"
   },
   {
    "duration": 11,
    "start_time": "2022-02-01T16:17:23.526Z"
   },
   {
    "duration": 10,
    "start_time": "2022-02-01T16:17:23.538Z"
   },
   {
    "duration": 12,
    "start_time": "2022-02-01T16:17:23.550Z"
   },
   {
    "duration": 13,
    "start_time": "2022-02-01T16:17:23.564Z"
   },
   {
    "duration": 23,
    "start_time": "2022-02-01T16:17:23.578Z"
   },
   {
    "duration": 12,
    "start_time": "2022-02-01T16:17:23.603Z"
   },
   {
    "duration": 22,
    "start_time": "2022-02-01T16:17:23.619Z"
   },
   {
    "duration": 10,
    "start_time": "2022-02-01T16:17:23.643Z"
   },
   {
    "duration": 14,
    "start_time": "2022-02-01T16:17:23.654Z"
   },
   {
    "duration": 15,
    "start_time": "2022-02-01T16:17:23.670Z"
   },
   {
    "duration": 17,
    "start_time": "2022-02-01T16:17:23.687Z"
   },
   {
    "duration": 10,
    "start_time": "2022-02-01T16:17:23.705Z"
   },
   {
    "duration": 95,
    "start_time": "2022-02-01T16:17:23.717Z"
   },
   {
    "duration": 68,
    "start_time": "2022-02-01T16:17:23.814Z"
   },
   {
    "duration": 34,
    "start_time": "2022-02-01T16:17:23.898Z"
   },
   {
    "duration": 27,
    "start_time": "2022-02-01T16:17:23.934Z"
   },
   {
    "duration": 38,
    "start_time": "2022-02-01T16:17:23.963Z"
   },
   {
    "duration": 19,
    "start_time": "2022-02-01T16:17:24.003Z"
   },
   {
    "duration": 12,
    "start_time": "2022-02-01T16:17:24.023Z"
   },
   {
    "duration": 7,
    "start_time": "2022-02-01T16:17:24.037Z"
   },
   {
    "duration": 14,
    "start_time": "2022-02-01T16:17:24.045Z"
   },
   {
    "duration": 39,
    "start_time": "2022-02-01T16:17:24.061Z"
   },
   {
    "duration": 11,
    "start_time": "2022-02-01T16:17:24.102Z"
   },
   {
    "duration": 19,
    "start_time": "2022-02-01T16:17:24.115Z"
   },
   {
    "duration": 13,
    "start_time": "2022-02-01T16:17:24.136Z"
   },
   {
    "duration": 323,
    "start_time": "2022-02-01T16:17:24.151Z"
   },
   {
    "duration": 10,
    "start_time": "2022-02-01T16:17:24.476Z"
   },
   {
    "duration": 43,
    "start_time": "2022-02-01T16:17:24.488Z"
   },
   {
    "duration": 619,
    "start_time": "2022-02-01T16:17:24.532Z"
   },
   {
    "duration": 9,
    "start_time": "2022-02-01T16:17:25.153Z"
   },
   {
    "duration": 15,
    "start_time": "2022-02-01T16:17:25.163Z"
   },
   {
    "duration": 625,
    "start_time": "2022-02-01T16:17:25.180Z"
   },
   {
    "duration": 8,
    "start_time": "2022-02-01T16:17:25.807Z"
   },
   {
    "duration": 10,
    "start_time": "2022-02-01T16:17:25.817Z"
   },
   {
    "duration": 605,
    "start_time": "2022-02-01T16:17:25.829Z"
   },
   {
    "duration": 9,
    "start_time": "2022-02-01T16:17:26.436Z"
   },
   {
    "duration": 14,
    "start_time": "2022-02-01T16:17:26.446Z"
   },
   {
    "duration": 6,
    "start_time": "2022-02-01T16:17:26.462Z"
   },
   {
    "duration": 27,
    "start_time": "2022-02-01T16:17:26.471Z"
   },
   {
    "duration": 7,
    "start_time": "2022-02-01T16:17:26.501Z"
   },
   {
    "duration": 14,
    "start_time": "2022-02-01T16:17:26.510Z"
   },
   {
    "duration": 13,
    "start_time": "2022-02-01T16:17:26.526Z"
   },
   {
    "duration": 11,
    "start_time": "2022-02-01T16:17:26.542Z"
   },
   {
    "duration": 12,
    "start_time": "2022-02-01T16:17:26.554Z"
   },
   {
    "duration": 9,
    "start_time": "2022-02-01T16:19:41.379Z"
   },
   {
    "duration": 1571,
    "start_time": "2022-02-01T18:51:53.243Z"
   },
   {
    "duration": 547,
    "start_time": "2022-02-01T18:51:54.817Z"
   },
   {
    "duration": 4,
    "start_time": "2022-02-01T18:51:55.367Z"
   },
   {
    "duration": 249,
    "start_time": "2022-02-01T18:51:55.373Z"
   },
   {
    "duration": 244,
    "start_time": "2022-02-01T18:51:55.624Z"
   },
   {
    "duration": 163,
    "start_time": "2022-02-01T18:51:55.870Z"
   },
   {
    "duration": 123,
    "start_time": "2022-02-01T18:51:56.036Z"
   },
   {
    "duration": 96,
    "start_time": "2022-02-01T18:51:56.165Z"
   },
   {
    "duration": 9,
    "start_time": "2022-02-01T18:51:56.264Z"
   },
   {
    "duration": 98,
    "start_time": "2022-02-01T18:51:56.276Z"
   },
   {
    "duration": 568,
    "start_time": "2022-02-01T18:51:56.377Z"
   },
   {
    "duration": -438,
    "start_time": "2022-02-01T18:51:57.390Z"
   },
   {
    "duration": -441,
    "start_time": "2022-02-01T18:51:57.395Z"
   },
   {
    "duration": -445,
    "start_time": "2022-02-01T18:51:57.401Z"
   },
   {
    "duration": -449,
    "start_time": "2022-02-01T18:51:57.407Z"
   },
   {
    "duration": -454,
    "start_time": "2022-02-01T18:51:57.414Z"
   },
   {
    "duration": -458,
    "start_time": "2022-02-01T18:51:57.421Z"
   },
   {
    "duration": -461,
    "start_time": "2022-02-01T18:51:57.426Z"
   },
   {
    "duration": -466,
    "start_time": "2022-02-01T18:51:57.433Z"
   },
   {
    "duration": -476,
    "start_time": "2022-02-01T18:51:57.445Z"
   },
   {
    "duration": -480,
    "start_time": "2022-02-01T18:51:57.451Z"
   },
   {
    "duration": -484,
    "start_time": "2022-02-01T18:51:57.457Z"
   },
   {
    "duration": -489,
    "start_time": "2022-02-01T18:51:57.463Z"
   },
   {
    "duration": -491,
    "start_time": "2022-02-01T18:51:57.467Z"
   },
   {
    "duration": -495,
    "start_time": "2022-02-01T18:51:57.473Z"
   },
   {
    "duration": -498,
    "start_time": "2022-02-01T18:51:57.478Z"
   },
   {
    "duration": -502,
    "start_time": "2022-02-01T18:51:57.484Z"
   },
   {
    "duration": -505,
    "start_time": "2022-02-01T18:51:57.489Z"
   },
   {
    "duration": -508,
    "start_time": "2022-02-01T18:51:57.494Z"
   },
   {
    "duration": -706,
    "start_time": "2022-02-01T18:51:57.729Z"
   },
   {
    "duration": -1099,
    "start_time": "2022-02-01T18:51:58.124Z"
   },
   {
    "duration": -1152,
    "start_time": "2022-02-01T18:51:58.184Z"
   },
   {
    "duration": -1156,
    "start_time": "2022-02-01T18:51:58.190Z"
   },
   {
    "duration": -1160,
    "start_time": "2022-02-01T18:51:58.195Z"
   },
   {
    "duration": -1160,
    "start_time": "2022-02-01T18:51:58.200Z"
   },
   {
    "duration": -1163,
    "start_time": "2022-02-01T18:51:58.205Z"
   },
   {
    "duration": -1166,
    "start_time": "2022-02-01T18:51:58.210Z"
   },
   {
    "duration": -1170,
    "start_time": "2022-02-01T18:51:58.215Z"
   },
   {
    "duration": -1173,
    "start_time": "2022-02-01T18:51:58.220Z"
   },
   {
    "duration": -1177,
    "start_time": "2022-02-01T18:51:58.226Z"
   },
   {
    "duration": -1181,
    "start_time": "2022-02-01T18:51:58.231Z"
   },
   {
    "duration": -1184,
    "start_time": "2022-02-01T18:51:58.236Z"
   },
   {
    "duration": -1189,
    "start_time": "2022-02-01T18:51:58.242Z"
   },
   {
    "duration": -1192,
    "start_time": "2022-02-01T18:51:58.247Z"
   },
   {
    "duration": -1196,
    "start_time": "2022-02-01T18:51:58.252Z"
   },
   {
    "duration": -1199,
    "start_time": "2022-02-01T18:51:58.257Z"
   },
   {
    "duration": -1203,
    "start_time": "2022-02-01T18:51:58.262Z"
   },
   {
    "duration": -1206,
    "start_time": "2022-02-01T18:51:58.267Z"
   },
   {
    "duration": -1210,
    "start_time": "2022-02-01T18:51:58.272Z"
   },
   {
    "duration": -1213,
    "start_time": "2022-02-01T18:51:58.277Z"
   },
   {
    "duration": -1226,
    "start_time": "2022-02-01T18:51:58.291Z"
   },
   {
    "duration": -1230,
    "start_time": "2022-02-01T18:51:58.296Z"
   },
   {
    "duration": -1234,
    "start_time": "2022-02-01T18:51:58.301Z"
   },
   {
    "duration": -1238,
    "start_time": "2022-02-01T18:51:58.307Z"
   },
   {
    "duration": -1184,
    "start_time": "2022-02-01T18:51:58.313Z"
   },
   {
    "duration": -1187,
    "start_time": "2022-02-01T18:51:58.318Z"
   },
   {
    "duration": -1190,
    "start_time": "2022-02-01T18:51:58.323Z"
   },
   {
    "duration": -1194,
    "start_time": "2022-02-01T18:51:58.328Z"
   },
   {
    "duration": -1198,
    "start_time": "2022-02-01T18:51:58.334Z"
   },
   {
    "duration": -1202,
    "start_time": "2022-02-01T18:51:58.339Z"
   },
   {
    "duration": -1205,
    "start_time": "2022-02-01T18:51:58.344Z"
   },
   {
    "duration": -1208,
    "start_time": "2022-02-01T18:51:58.349Z"
   },
   {
    "duration": -1213,
    "start_time": "2022-02-01T18:51:58.355Z"
   },
   {
    "duration": -1216,
    "start_time": "2022-02-01T18:51:58.360Z"
   },
   {
    "duration": -1221,
    "start_time": "2022-02-01T18:51:58.366Z"
   },
   {
    "duration": 372,
    "start_time": "2022-02-01T18:54:37.211Z"
   },
   {
    "duration": 8945,
    "start_time": "2022-02-01T18:55:27.399Z"
   },
   {
    "duration": 9161,
    "start_time": "2022-02-01T18:56:30.213Z"
   },
   {
    "duration": -407,
    "start_time": "2022-02-01T18:56:50.209Z"
   },
   {
    "duration": 10,
    "start_time": "2022-02-01T18:57:00.683Z"
   },
   {
    "duration": 1612,
    "start_time": "2022-02-01T19:03:37.682Z"
   },
   {
    "duration": 590,
    "start_time": "2022-02-01T19:03:39.296Z"
   },
   {
    "duration": 5,
    "start_time": "2022-02-01T19:03:39.889Z"
   },
   {
    "duration": 265,
    "start_time": "2022-02-01T19:03:39.897Z"
   },
   {
    "duration": 289,
    "start_time": "2022-02-01T19:03:40.165Z"
   },
   {
    "duration": 140,
    "start_time": "2022-02-01T19:03:40.457Z"
   },
   {
    "duration": 89,
    "start_time": "2022-02-01T19:03:40.599Z"
   },
   {
    "duration": 77,
    "start_time": "2022-02-01T19:03:40.692Z"
   },
   {
    "duration": 56,
    "start_time": "2022-02-01T19:03:40.773Z"
   },
   {
    "duration": 48,
    "start_time": "2022-02-01T19:03:40.831Z"
   },
   {
    "duration": 8,
    "start_time": "2022-02-01T19:03:40.882Z"
   },
   {
    "duration": 35,
    "start_time": "2022-02-01T19:03:40.924Z"
   },
   {
    "duration": 23,
    "start_time": "2022-02-01T19:03:40.961Z"
   },
   {
    "duration": 59,
    "start_time": "2022-02-01T19:03:40.986Z"
   },
   {
    "duration": 13,
    "start_time": "2022-02-01T19:03:41.048Z"
   },
   {
    "duration": 68,
    "start_time": "2022-02-01T19:03:41.064Z"
   },
   {
    "duration": 34,
    "start_time": "2022-02-01T19:03:41.135Z"
   },
   {
    "duration": 18,
    "start_time": "2022-02-01T19:03:41.172Z"
   },
   {
    "duration": 29,
    "start_time": "2022-02-01T19:03:41.224Z"
   },
   {
    "duration": 6,
    "start_time": "2022-02-01T19:03:41.255Z"
   },
   {
    "duration": 7,
    "start_time": "2022-02-01T19:03:41.263Z"
   },
   {
    "duration": 53,
    "start_time": "2022-02-01T19:03:41.272Z"
   },
   {
    "duration": 8,
    "start_time": "2022-02-01T19:03:41.331Z"
   },
   {
    "duration": 11,
    "start_time": "2022-02-01T19:03:41.342Z"
   },
   {
    "duration": 9,
    "start_time": "2022-02-01T19:03:41.356Z"
   },
   {
    "duration": 9,
    "start_time": "2022-02-01T19:03:41.423Z"
   },
   {
    "duration": 9,
    "start_time": "2022-02-01T19:03:41.435Z"
   },
   {
    "duration": 11,
    "start_time": "2022-02-01T19:03:41.447Z"
   },
   {
    "duration": 6,
    "start_time": "2022-02-01T19:03:41.468Z"
   },
   {
    "duration": 13,
    "start_time": "2022-02-01T19:03:41.524Z"
   },
   {
    "duration": 19,
    "start_time": "2022-02-01T19:03:41.540Z"
   },
   {
    "duration": 20,
    "start_time": "2022-02-01T19:03:41.563Z"
   },
   {
    "duration": 17,
    "start_time": "2022-02-01T19:03:41.623Z"
   },
   {
    "duration": 145,
    "start_time": "2022-02-01T19:03:41.643Z"
   },
   {
    "duration": 119,
    "start_time": "2022-02-01T19:03:41.790Z"
   },
   {
    "duration": 67,
    "start_time": "2022-02-01T19:03:41.923Z"
   },
   {
    "duration": 65,
    "start_time": "2022-02-01T19:03:41.994Z"
   },
   {
    "duration": 32,
    "start_time": "2022-02-01T19:03:42.062Z"
   },
   {
    "duration": 28,
    "start_time": "2022-02-01T19:03:42.124Z"
   },
   {
    "duration": 19,
    "start_time": "2022-02-01T19:03:42.155Z"
   },
   {
    "duration": 53,
    "start_time": "2022-02-01T19:03:42.177Z"
   },
   {
    "duration": 31,
    "start_time": "2022-02-01T19:03:42.233Z"
   },
   {
    "duration": 7,
    "start_time": "2022-02-01T19:03:42.268Z"
   },
   {
    "duration": 46,
    "start_time": "2022-02-01T19:03:42.278Z"
   },
   {
    "duration": 31,
    "start_time": "2022-02-01T19:03:42.328Z"
   },
   {
    "duration": 26,
    "start_time": "2022-02-01T19:03:42.362Z"
   },
   {
    "duration": 598,
    "start_time": "2022-02-01T19:03:42.392Z"
   },
   {
    "duration": 15,
    "start_time": "2022-02-01T19:03:42.993Z"
   },
   {
    "duration": 66,
    "start_time": "2022-02-01T19:03:43.011Z"
   },
   {
    "duration": 889,
    "start_time": "2022-02-01T19:03:43.080Z"
   },
   {
    "duration": 10,
    "start_time": "2022-02-01T19:03:43.972Z"
   },
   {
    "duration": 40,
    "start_time": "2022-02-01T19:03:43.985Z"
   },
   {
    "duration": 957,
    "start_time": "2022-02-01T19:03:44.028Z"
   },
   {
    "duration": 14,
    "start_time": "2022-02-01T19:03:44.988Z"
   },
   {
    "duration": 19,
    "start_time": "2022-02-01T19:03:45.024Z"
   },
   {
    "duration": 882,
    "start_time": "2022-02-01T19:03:45.046Z"
   },
   {
    "duration": 10,
    "start_time": "2022-02-01T19:03:45.930Z"
   },
   {
    "duration": 15,
    "start_time": "2022-02-01T19:03:45.943Z"
   },
   {
    "duration": 8,
    "start_time": "2022-02-01T19:03:45.961Z"
   },
   {
    "duration": 56,
    "start_time": "2022-02-01T19:03:45.971Z"
   },
   {
    "duration": 12,
    "start_time": "2022-02-01T19:03:46.030Z"
   },
   {
    "duration": 13,
    "start_time": "2022-02-01T19:03:46.045Z"
   },
   {
    "duration": 71,
    "start_time": "2022-02-01T19:03:46.060Z"
   },
   {
    "duration": 8,
    "start_time": "2022-02-01T19:03:46.134Z"
   },
   {
    "duration": 10,
    "start_time": "2022-02-01T19:03:46.145Z"
   },
   {
    "duration": 1762,
    "start_time": "2022-02-01T19:15:26.044Z"
   },
   {
    "duration": 562,
    "start_time": "2022-02-01T19:15:29.039Z"
   },
   {
    "duration": 7,
    "start_time": "2022-02-01T19:15:29.604Z"
   },
   {
    "duration": 286,
    "start_time": "2022-02-01T19:15:30.257Z"
   },
   {
    "duration": 256,
    "start_time": "2022-02-01T19:15:30.818Z"
   },
   {
    "duration": 151,
    "start_time": "2022-02-01T19:15:31.756Z"
   },
   {
    "duration": 108,
    "start_time": "2022-02-01T19:15:32.363Z"
   },
   {
    "duration": 59,
    "start_time": "2022-02-01T19:15:32.988Z"
   },
   {
    "duration": 11,
    "start_time": "2022-02-01T19:15:33.578Z"
   },
   {
    "duration": 48,
    "start_time": "2022-02-01T19:15:34.725Z"
   },
   {
    "duration": 8,
    "start_time": "2022-02-01T19:15:37.445Z"
   },
   {
    "duration": 41,
    "start_time": "2022-02-01T19:15:38.665Z"
   },
   {
    "duration": 25,
    "start_time": "2022-02-01T19:15:39.217Z"
   },
   {
    "duration": 25,
    "start_time": "2022-02-01T19:15:39.429Z"
   },
   {
    "duration": 14,
    "start_time": "2022-02-01T19:15:39.816Z"
   },
   {
    "duration": 19,
    "start_time": "2022-02-01T19:15:40.565Z"
   },
   {
    "duration": 31,
    "start_time": "2022-02-01T19:15:42.026Z"
   },
   {
    "duration": 18,
    "start_time": "2022-02-01T19:15:42.601Z"
   },
   {
    "duration": 29,
    "start_time": "2022-02-01T19:15:43.695Z"
   },
   {
    "duration": 7,
    "start_time": "2022-02-01T19:15:44.466Z"
   },
   {
    "duration": 7,
    "start_time": "2022-02-01T19:15:44.656Z"
   },
   {
    "duration": 9,
    "start_time": "2022-02-01T19:15:45.337Z"
   },
   {
    "duration": 12,
    "start_time": "2022-02-01T19:15:45.755Z"
   },
   {
    "duration": 8,
    "start_time": "2022-02-01T19:15:49.446Z"
   },
   {
    "duration": 10,
    "start_time": "2022-02-01T19:15:52.027Z"
   },
   {
    "duration": 10,
    "start_time": "2022-02-01T19:15:52.314Z"
   },
   {
    "duration": 8,
    "start_time": "2022-02-01T19:15:52.511Z"
   },
   {
    "duration": 10,
    "start_time": "2022-02-01T19:15:52.707Z"
   },
   {
    "duration": 5,
    "start_time": "2022-02-01T19:15:53.613Z"
   },
   {
    "duration": 12,
    "start_time": "2022-02-01T19:15:54.239Z"
   },
   {
    "duration": 14,
    "start_time": "2022-02-01T19:15:54.951Z"
   },
   {
    "duration": 14,
    "start_time": "2022-02-01T19:15:55.701Z"
   },
   {
    "duration": 15,
    "start_time": "2022-02-01T19:15:55.896Z"
   },
   {
    "duration": 136,
    "start_time": "2022-02-01T19:15:59.490Z"
   },
   {
    "duration": 82,
    "start_time": "2022-02-01T19:16:03.029Z"
   },
   {
    "duration": 44,
    "start_time": "2022-02-01T19:16:04.471Z"
   },
   {
    "duration": 38,
    "start_time": "2022-02-01T19:16:07.304Z"
   },
   {
    "duration": 28,
    "start_time": "2022-02-01T19:16:12.668Z"
   },
   {
    "duration": 29,
    "start_time": "2022-02-01T19:16:16.142Z"
   },
   {
    "duration": 31,
    "start_time": "2022-02-01T19:16:54.631Z"
   },
   {
    "duration": 9,
    "start_time": "2022-02-01T19:17:13.660Z"
   },
   {
    "duration": 20,
    "start_time": "2022-02-01T19:18:15.373Z"
   },
   {
    "duration": 6,
    "start_time": "2022-02-01T19:18:18.863Z"
   },
   {
    "duration": 6,
    "start_time": "2022-02-01T19:18:19.923Z"
   },
   {
    "duration": 17,
    "start_time": "2022-02-01T19:18:41.112Z"
   },
   {
    "duration": 10444,
    "start_time": "2022-02-01T19:30:43.323Z"
   },
   {
    "duration": 454,
    "start_time": "2022-02-01T19:37:44.019Z"
   },
   {
    "duration": 409,
    "start_time": "2022-02-01T19:38:17.663Z"
   },
   {
    "duration": 562,
    "start_time": "2022-02-01T19:38:32.287Z"
   },
   {
    "duration": 1665,
    "start_time": "2022-02-01T19:39:08.384Z"
   },
   {
    "duration": 549,
    "start_time": "2022-02-01T19:39:10.052Z"
   },
   {
    "duration": 5,
    "start_time": "2022-02-01T19:39:10.604Z"
   },
   {
    "duration": 245,
    "start_time": "2022-02-01T19:39:10.612Z"
   },
   {
    "duration": 226,
    "start_time": "2022-02-01T19:39:11.129Z"
   },
   {
    "duration": 160,
    "start_time": "2022-02-01T19:39:14.063Z"
   },
   {
    "duration": 86,
    "start_time": "2022-02-01T19:39:14.797Z"
   },
   {
    "duration": 58,
    "start_time": "2022-02-01T19:39:15.395Z"
   },
   {
    "duration": 12,
    "start_time": "2022-02-01T19:39:15.953Z"
   },
   {
    "duration": 54,
    "start_time": "2022-02-01T19:39:17.303Z"
   },
   {
    "duration": 9,
    "start_time": "2022-02-01T19:39:18.164Z"
   },
   {
    "duration": 46,
    "start_time": "2022-02-01T19:39:19.076Z"
   },
   {
    "duration": 27,
    "start_time": "2022-02-01T19:39:19.516Z"
   },
   {
    "duration": 26,
    "start_time": "2022-02-01T19:39:19.748Z"
   },
   {
    "duration": 16,
    "start_time": "2022-02-01T19:39:20.197Z"
   },
   {
    "duration": 22,
    "start_time": "2022-02-01T19:39:20.857Z"
   },
   {
    "duration": 22,
    "start_time": "2022-02-01T19:39:22.195Z"
   },
   {
    "duration": 15,
    "start_time": "2022-02-01T19:39:22.630Z"
   },
   {
    "duration": 36,
    "start_time": "2022-02-01T19:39:24.333Z"
   },
   {
    "duration": 6,
    "start_time": "2022-02-01T19:39:25.093Z"
   },
   {
    "duration": 8,
    "start_time": "2022-02-01T19:39:25.455Z"
   },
   {
    "duration": 9,
    "start_time": "2022-02-01T19:39:26.061Z"
   },
   {
    "duration": 9,
    "start_time": "2022-02-01T19:39:26.398Z"
   },
   {
    "duration": 9,
    "start_time": "2022-02-01T19:39:29.128Z"
   },
   {
    "duration": 9,
    "start_time": "2022-02-01T19:39:30.158Z"
   },
   {
    "duration": 10,
    "start_time": "2022-02-01T19:39:30.391Z"
   },
   {
    "duration": 9,
    "start_time": "2022-02-01T19:39:30.572Z"
   },
   {
    "duration": 10,
    "start_time": "2022-02-01T19:39:30.771Z"
   },
   {
    "duration": 6,
    "start_time": "2022-02-01T19:39:31.354Z"
   },
   {
    "duration": 12,
    "start_time": "2022-02-01T19:39:31.750Z"
   },
   {
    "duration": 14,
    "start_time": "2022-02-01T19:39:32.352Z"
   },
   {
    "duration": 15,
    "start_time": "2022-02-01T19:39:32.762Z"
   },
   {
    "duration": 20,
    "start_time": "2022-02-01T19:39:32.964Z"
   },
   {
    "duration": 145,
    "start_time": "2022-02-01T19:39:34.273Z"
   },
   {
    "duration": 80,
    "start_time": "2022-02-01T19:39:36.225Z"
   },
   {
    "duration": 45,
    "start_time": "2022-02-01T19:39:37.537Z"
   },
   {
    "duration": 41,
    "start_time": "2022-02-01T19:39:38.496Z"
   },
   {
    "duration": 35,
    "start_time": "2022-02-01T19:39:43.122Z"
   },
   {
    "duration": 39,
    "start_time": "2022-02-01T19:39:43.649Z"
   },
   {
    "duration": 37,
    "start_time": "2022-02-01T19:39:44.120Z"
   },
   {
    "duration": 11,
    "start_time": "2022-02-01T19:39:48.081Z"
   },
   {
    "duration": 4,
    "start_time": "2022-02-01T19:39:50.970Z"
   },
   {
    "duration": 15,
    "start_time": "2022-02-01T19:39:51.991Z"
   },
   {
    "duration": 12,
    "start_time": "2022-02-01T19:39:59.527Z"
   },
   {
    "duration": 24,
    "start_time": "2022-02-01T19:41:06.269Z"
   },
   {
    "duration": 25,
    "start_time": "2022-02-01T19:41:55.508Z"
   },
   {
    "duration": 8,
    "start_time": "2022-02-01T19:42:25.191Z"
   },
   {
    "duration": 10,
    "start_time": "2022-02-01T19:42:32.343Z"
   },
   {
    "duration": 24,
    "start_time": "2022-02-01T19:42:34.603Z"
   },
   {
    "duration": 11,
    "start_time": "2022-02-01T19:42:35.505Z"
   },
   {
    "duration": 25,
    "start_time": "2022-02-01T19:43:22.793Z"
   },
   {
    "duration": 20,
    "start_time": "2022-02-01T19:43:55.680Z"
   },
   {
    "duration": 11,
    "start_time": "2022-02-01T19:43:56.687Z"
   },
   {
    "duration": 6,
    "start_time": "2022-02-01T19:44:08.995Z"
   },
   {
    "duration": 7,
    "start_time": "2022-02-01T19:44:09.434Z"
   },
   {
    "duration": 25,
    "start_time": "2022-02-01T19:44:09.631Z"
   },
   {
    "duration": 15,
    "start_time": "2022-02-01T19:44:12.150Z"
   },
   {
    "duration": 740,
    "start_time": "2022-02-01T19:44:14.127Z"
   },
   {
    "duration": 63,
    "start_time": "2022-02-01T19:44:36.318Z"
   },
   {
    "duration": 947,
    "start_time": "2022-02-01T19:44:38.181Z"
   },
   {
    "duration": 12,
    "start_time": "2022-02-01T19:44:39.698Z"
   },
   {
    "duration": 12,
    "start_time": "2022-02-01T19:44:40.266Z"
   },
   {
    "duration": 974,
    "start_time": "2022-02-01T19:44:40.817Z"
   },
   {
    "duration": 11,
    "start_time": "2022-02-01T19:44:41.793Z"
   },
   {
    "duration": 12,
    "start_time": "2022-02-01T19:44:42.497Z"
   },
   {
    "duration": 896,
    "start_time": "2022-02-01T19:44:43.239Z"
   },
   {
    "duration": 16,
    "start_time": "2022-02-01T19:44:44.359Z"
   },
   {
    "duration": 11,
    "start_time": "2022-02-01T19:44:45.751Z"
   },
   {
    "duration": 1075,
    "start_time": "2022-02-01T19:45:36.095Z"
   },
   {
    "duration": 818,
    "start_time": "2022-02-01T19:46:16.978Z"
   },
   {
    "duration": 4766,
    "start_time": "2022-02-01T19:46:28.901Z"
   },
   {
    "duration": 4374,
    "start_time": "2022-02-01T19:46:42.649Z"
   },
   {
    "duration": 436,
    "start_time": "2022-02-01T19:48:08.425Z"
   },
   {
    "duration": 368,
    "start_time": "2022-02-01T19:48:24.431Z"
   },
   {
    "duration": 478,
    "start_time": "2022-02-01T19:48:32.766Z"
   },
   {
    "duration": 396,
    "start_time": "2022-02-01T19:48:43.751Z"
   },
   {
    "duration": 412,
    "start_time": "2022-02-01T19:50:07.603Z"
   },
   {
    "duration": 537,
    "start_time": "2022-02-01T19:52:13.458Z"
   },
   {
    "duration": 449,
    "start_time": "2022-02-01T19:52:29.887Z"
   },
   {
    "duration": 402,
    "start_time": "2022-02-01T19:53:20.750Z"
   },
   {
    "duration": 459,
    "start_time": "2022-02-01T19:53:33.244Z"
   },
   {
    "duration": 422,
    "start_time": "2022-02-01T19:53:48.723Z"
   },
   {
    "duration": 543,
    "start_time": "2022-02-01T19:53:58.039Z"
   },
   {
    "duration": 427,
    "start_time": "2022-02-01T19:58:32.436Z"
   },
   {
    "duration": 392,
    "start_time": "2022-02-01T19:58:55.347Z"
   },
   {
    "duration": 375,
    "start_time": "2022-02-01T19:59:15.948Z"
   },
   {
    "duration": 8,
    "start_time": "2022-02-01T20:12:55.622Z"
   },
   {
    "duration": 6,
    "start_time": "2022-02-01T20:13:00.489Z"
   },
   {
    "duration": 11,
    "start_time": "2022-02-01T20:13:03.894Z"
   },
   {
    "duration": 20,
    "start_time": "2022-02-01T20:13:04.394Z"
   },
   {
    "duration": 25,
    "start_time": "2022-02-01T20:13:05.217Z"
   },
   {
    "duration": 9,
    "start_time": "2022-02-01T20:13:06.225Z"
   },
   {
    "duration": 14,
    "start_time": "2022-02-01T20:13:08.099Z"
   },
   {
    "duration": 115,
    "start_time": "2022-02-01T20:42:10.735Z"
   },
   {
    "duration": 715,
    "start_time": "2022-02-01T20:43:01.102Z"
   },
   {
    "duration": 782,
    "start_time": "2022-02-01T20:44:55.065Z"
   },
   {
    "duration": 659,
    "start_time": "2022-02-01T20:45:38.891Z"
   },
   {
    "duration": 4,
    "start_time": "2022-02-01T20:54:42.628Z"
   },
   {
    "duration": 3,
    "start_time": "2022-02-01T20:56:35.764Z"
   },
   {
    "duration": 1563,
    "start_time": "2022-02-01T20:56:59.066Z"
   },
   {
    "duration": 526,
    "start_time": "2022-02-01T20:57:00.631Z"
   },
   {
    "duration": 4,
    "start_time": "2022-02-01T20:57:01.160Z"
   },
   {
    "duration": 261,
    "start_time": "2022-02-01T20:57:01.167Z"
   },
   {
    "duration": 247,
    "start_time": "2022-02-01T20:57:01.431Z"
   },
   {
    "duration": 145,
    "start_time": "2022-02-01T20:57:01.681Z"
   },
   {
    "duration": 96,
    "start_time": "2022-02-01T20:57:01.829Z"
   },
   {
    "duration": 47,
    "start_time": "2022-02-01T20:57:01.930Z"
   },
   {
    "duration": 7,
    "start_time": "2022-02-01T20:57:01.980Z"
   },
   {
    "duration": 48,
    "start_time": "2022-02-01T20:57:02.023Z"
   },
   {
    "duration": 8,
    "start_time": "2022-02-01T20:57:02.073Z"
   },
   {
    "duration": 67,
    "start_time": "2022-02-01T20:57:02.084Z"
   },
   {
    "duration": 23,
    "start_time": "2022-02-01T20:57:02.154Z"
   },
   {
    "duration": 53,
    "start_time": "2022-02-01T20:57:02.179Z"
   },
   {
    "duration": 17,
    "start_time": "2022-02-01T20:57:02.234Z"
   },
   {
    "duration": 21,
    "start_time": "2022-02-01T20:57:02.254Z"
   },
   {
    "duration": 56,
    "start_time": "2022-02-01T20:57:02.277Z"
   },
   {
    "duration": 17,
    "start_time": "2022-02-01T20:57:02.336Z"
   },
   {
    "duration": 50,
    "start_time": "2022-02-01T20:57:02.356Z"
   },
   {
    "duration": 20,
    "start_time": "2022-02-01T20:57:02.409Z"
   },
   {
    "duration": 7,
    "start_time": "2022-02-01T20:57:02.432Z"
   },
   {
    "duration": 12,
    "start_time": "2022-02-01T20:57:02.441Z"
   },
   {
    "duration": 12,
    "start_time": "2022-02-01T20:57:02.463Z"
   },
   {
    "duration": 49,
    "start_time": "2022-02-01T20:57:02.479Z"
   },
   {
    "duration": 15,
    "start_time": "2022-02-01T20:57:02.531Z"
   },
   {
    "duration": 12,
    "start_time": "2022-02-01T20:57:02.549Z"
   },
   {
    "duration": 10,
    "start_time": "2022-02-01T20:57:02.565Z"
   },
   {
    "duration": 52,
    "start_time": "2022-02-01T20:57:02.578Z"
   },
   {
    "duration": 14,
    "start_time": "2022-02-01T20:57:02.633Z"
   },
   {
    "duration": 14,
    "start_time": "2022-02-01T20:57:02.650Z"
   },
   {
    "duration": 13,
    "start_time": "2022-02-01T20:57:02.667Z"
   },
   {
    "duration": 46,
    "start_time": "2022-02-01T20:57:02.683Z"
   },
   {
    "duration": 14,
    "start_time": "2022-02-01T20:57:02.731Z"
   },
   {
    "duration": 130,
    "start_time": "2022-02-01T20:57:02.747Z"
   },
   {
    "duration": 97,
    "start_time": "2022-02-01T20:57:02.879Z"
   },
   {
    "duration": 51,
    "start_time": "2022-02-01T20:57:02.979Z"
   },
   {
    "duration": 34,
    "start_time": "2022-02-01T20:57:03.033Z"
   },
   {
    "duration": 19,
    "start_time": "2022-02-01T20:57:03.069Z"
   },
   {
    "duration": 56,
    "start_time": "2022-02-01T20:57:03.091Z"
   },
   {
    "duration": 41,
    "start_time": "2022-02-01T20:57:03.150Z"
   },
   {
    "duration": 35,
    "start_time": "2022-02-01T20:57:03.194Z"
   },
   {
    "duration": 16,
    "start_time": "2022-02-01T20:57:03.233Z"
   },
   {
    "duration": 10,
    "start_time": "2022-02-01T20:57:03.252Z"
   },
   {
    "duration": 8,
    "start_time": "2022-02-01T20:57:03.265Z"
   },
   {
    "duration": 50,
    "start_time": "2022-02-01T20:57:03.277Z"
   },
   {
    "duration": 32,
    "start_time": "2022-02-01T20:57:03.330Z"
   },
   {
    "duration": 21,
    "start_time": "2022-02-01T20:57:03.365Z"
   },
   {
    "duration": 690,
    "start_time": "2022-02-01T20:57:03.389Z"
   },
   {
    "duration": 4,
    "start_time": "2022-02-01T20:57:04.082Z"
   },
   {
    "duration": 74,
    "start_time": "2022-02-01T20:57:04.089Z"
   },
   {
    "duration": 941,
    "start_time": "2022-02-01T20:57:04.166Z"
   },
   {
    "duration": 19,
    "start_time": "2022-02-01T20:57:05.110Z"
   },
   {
    "duration": 15,
    "start_time": "2022-02-01T20:57:05.132Z"
   },
   {
    "duration": 814,
    "start_time": "2022-02-01T20:57:05.150Z"
   },
   {
    "duration": 12,
    "start_time": "2022-02-01T20:57:05.967Z"
   },
   {
    "duration": 12,
    "start_time": "2022-02-01T20:57:05.982Z"
   },
   {
    "duration": 1061,
    "start_time": "2022-02-01T20:57:06.023Z"
   },
   {
    "duration": 11,
    "start_time": "2022-02-01T20:57:07.087Z"
   },
   {
    "duration": 28,
    "start_time": "2022-02-01T20:57:07.100Z"
   },
   {
    "duration": 471,
    "start_time": "2022-02-01T20:57:07.131Z"
   },
   {
    "duration": 369,
    "start_time": "2022-02-01T20:57:07.605Z"
   },
   {
    "duration": 8,
    "start_time": "2022-02-01T20:57:07.977Z"
   },
   {
    "duration": 11,
    "start_time": "2022-02-01T20:57:07.987Z"
   },
   {
    "duration": 11,
    "start_time": "2022-02-01T20:57:08.023Z"
   },
   {
    "duration": 14,
    "start_time": "2022-02-01T20:57:08.036Z"
   },
   {
    "duration": 13,
    "start_time": "2022-02-01T20:57:08.052Z"
   },
   {
    "duration": 9,
    "start_time": "2022-02-01T20:57:08.067Z"
   },
   {
    "duration": 11,
    "start_time": "2022-02-01T20:57:08.122Z"
   },
   {
    "duration": 1157,
    "start_time": "2022-02-02T15:17:43.959Z"
   },
   {
    "duration": 467,
    "start_time": "2022-02-02T15:17:58.027Z"
   },
   {
    "duration": 2069,
    "start_time": "2022-02-02T15:18:12.669Z"
   },
   {
    "duration": 767,
    "start_time": "2022-02-02T15:18:14.742Z"
   },
   {
    "duration": 6,
    "start_time": "2022-02-02T15:18:15.513Z"
   },
   {
    "duration": 360,
    "start_time": "2022-02-02T15:18:15.523Z"
   },
   {
    "duration": 274,
    "start_time": "2022-02-02T15:18:15.886Z"
   },
   {
    "duration": 146,
    "start_time": "2022-02-02T15:18:16.170Z"
   },
   {
    "duration": 87,
    "start_time": "2022-02-02T15:18:16.318Z"
   },
   {
    "duration": 88,
    "start_time": "2022-02-02T15:18:16.410Z"
   },
   {
    "duration": 11,
    "start_time": "2022-02-02T15:18:16.502Z"
   },
   {
    "duration": 101,
    "start_time": "2022-02-02T15:18:16.517Z"
   },
   {
    "duration": 10,
    "start_time": "2022-02-02T15:18:16.621Z"
   },
   {
    "duration": 76,
    "start_time": "2022-02-02T15:18:16.635Z"
   },
   {
    "duration": 21,
    "start_time": "2022-02-02T15:18:16.714Z"
   },
   {
    "duration": 45,
    "start_time": "2022-02-02T15:18:16.737Z"
   },
   {
    "duration": 13,
    "start_time": "2022-02-02T15:18:16.784Z"
   },
   {
    "duration": 36,
    "start_time": "2022-02-02T15:18:16.799Z"
   },
   {
    "duration": 44,
    "start_time": "2022-02-02T15:18:16.837Z"
   },
   {
    "duration": 13,
    "start_time": "2022-02-02T15:18:16.883Z"
   },
   {
    "duration": 42,
    "start_time": "2022-02-02T15:18:16.898Z"
   },
   {
    "duration": 36,
    "start_time": "2022-02-02T15:18:16.942Z"
   },
   {
    "duration": 9,
    "start_time": "2022-02-02T15:18:16.981Z"
   },
   {
    "duration": 17,
    "start_time": "2022-02-02T15:18:16.992Z"
   },
   {
    "duration": 22,
    "start_time": "2022-02-02T15:18:17.016Z"
   },
   {
    "duration": 21,
    "start_time": "2022-02-02T15:18:17.043Z"
   },
   {
    "duration": 27,
    "start_time": "2022-02-02T15:18:17.070Z"
   },
   {
    "duration": 24,
    "start_time": "2022-02-02T15:18:17.099Z"
   },
   {
    "duration": 33,
    "start_time": "2022-02-02T15:18:17.127Z"
   },
   {
    "duration": 24,
    "start_time": "2022-02-02T15:18:17.163Z"
   },
   {
    "duration": 25,
    "start_time": "2022-02-02T15:18:17.190Z"
   },
   {
    "duration": 22,
    "start_time": "2022-02-02T15:18:17.219Z"
   },
   {
    "duration": 36,
    "start_time": "2022-02-02T15:18:17.243Z"
   },
   {
    "duration": 34,
    "start_time": "2022-02-02T15:18:17.282Z"
   },
   {
    "duration": 21,
    "start_time": "2022-02-02T15:18:17.318Z"
   },
   {
    "duration": 127,
    "start_time": "2022-02-02T15:18:17.342Z"
   },
   {
    "duration": 81,
    "start_time": "2022-02-02T15:18:17.471Z"
   },
   {
    "duration": 63,
    "start_time": "2022-02-02T15:18:17.571Z"
   },
   {
    "duration": 75,
    "start_time": "2022-02-02T15:18:17.637Z"
   },
   {
    "duration": 37,
    "start_time": "2022-02-02T15:18:17.715Z"
   },
   {
    "duration": 28,
    "start_time": "2022-02-02T15:18:17.771Z"
   },
   {
    "duration": 27,
    "start_time": "2022-02-02T15:18:17.802Z"
   },
   {
    "duration": 42,
    "start_time": "2022-02-02T15:18:17.831Z"
   },
   {
    "duration": 16,
    "start_time": "2022-02-02T15:18:17.875Z"
   },
   {
    "duration": 24,
    "start_time": "2022-02-02T15:18:17.894Z"
   },
   {
    "duration": 11,
    "start_time": "2022-02-02T15:18:17.921Z"
   },
   {
    "duration": 39,
    "start_time": "2022-02-02T15:18:17.934Z"
   },
   {
    "duration": 42,
    "start_time": "2022-02-02T15:18:17.975Z"
   },
   {
    "duration": 24,
    "start_time": "2022-02-02T15:18:18.020Z"
   },
   {
    "duration": 499,
    "start_time": "2022-02-02T15:18:18.047Z"
   },
   {
    "duration": 759,
    "start_time": "2022-02-02T15:18:18.548Z"
   },
   {
    "duration": -237,
    "start_time": "2022-02-02T15:18:19.548Z"
   },
   {
    "duration": -238,
    "start_time": "2022-02-02T15:18:19.551Z"
   },
   {
    "duration": -239,
    "start_time": "2022-02-02T15:18:19.554Z"
   },
   {
    "duration": -240,
    "start_time": "2022-02-02T15:18:19.557Z"
   },
   {
    "duration": -246,
    "start_time": "2022-02-02T15:18:19.564Z"
   },
   {
    "duration": -246,
    "start_time": "2022-02-02T15:18:19.567Z"
   },
   {
    "duration": -247,
    "start_time": "2022-02-02T15:18:19.569Z"
   },
   {
    "duration": -246,
    "start_time": "2022-02-02T15:18:19.571Z"
   },
   {
    "duration": -248,
    "start_time": "2022-02-02T15:18:19.574Z"
   },
   {
    "duration": -255,
    "start_time": "2022-02-02T15:18:19.583Z"
   },
   {
    "duration": -255,
    "start_time": "2022-02-02T15:18:19.585Z"
   },
   {
    "duration": -255,
    "start_time": "2022-02-02T15:18:19.587Z"
   },
   {
    "duration": -219,
    "start_time": "2022-02-02T15:18:19.589Z"
   },
   {
    "duration": -225,
    "start_time": "2022-02-02T15:18:19.597Z"
   },
   {
    "duration": -226,
    "start_time": "2022-02-02T15:18:19.600Z"
   },
   {
    "duration": -226,
    "start_time": "2022-02-02T15:18:19.602Z"
   },
   {
    "duration": -226,
    "start_time": "2022-02-02T15:18:19.604Z"
   },
   {
    "duration": -227,
    "start_time": "2022-02-02T15:18:19.607Z"
   },
   {
    "duration": -230,
    "start_time": "2022-02-02T15:18:19.614Z"
   },
   {
    "duration": 634,
    "start_time": "2022-02-02T15:19:50.395Z"
   },
   {
    "duration": 852,
    "start_time": "2022-02-02T15:21:11.949Z"
   },
   {
    "duration": 663,
    "start_time": "2022-02-02T15:22:16.450Z"
   },
   {
    "duration": 126,
    "start_time": "2022-02-02T15:29:52.194Z"
   },
   {
    "duration": 33,
    "start_time": "2022-02-02T15:30:29.885Z"
   },
   {
    "duration": 53,
    "start_time": "2022-02-02T15:32:10.936Z"
   },
   {
    "duration": 844,
    "start_time": "2022-02-02T15:32:11.787Z"
   },
   {
    "duration": 11,
    "start_time": "2022-02-02T15:32:12.633Z"
   },
   {
    "duration": 32,
    "start_time": "2022-02-02T15:32:12.647Z"
   },
   {
    "duration": 873,
    "start_time": "2022-02-02T15:32:12.681Z"
   },
   {
    "duration": 21,
    "start_time": "2022-02-02T15:32:13.556Z"
   },
   {
    "duration": 31,
    "start_time": "2022-02-02T15:32:13.579Z"
   },
   {
    "duration": 1056,
    "start_time": "2022-02-02T15:32:13.613Z"
   },
   {
    "duration": 14,
    "start_time": "2022-02-02T15:32:14.672Z"
   },
   {
    "duration": 14,
    "start_time": "2022-02-02T15:32:14.689Z"
   },
   {
    "duration": 500,
    "start_time": "2022-02-02T15:32:14.707Z"
   },
   {
    "duration": 392,
    "start_time": "2022-02-02T15:32:15.209Z"
   },
   {
    "duration": 12,
    "start_time": "2022-02-02T15:32:16.236Z"
   },
   {
    "duration": 7,
    "start_time": "2022-02-02T15:32:16.889Z"
   },
   {
    "duration": 12,
    "start_time": "2022-02-02T15:32:18.528Z"
   },
   {
    "duration": 16,
    "start_time": "2022-02-02T15:32:18.739Z"
   },
   {
    "duration": 14,
    "start_time": "2022-02-02T15:32:18.960Z"
   },
   {
    "duration": 11,
    "start_time": "2022-02-02T15:32:19.366Z"
   },
   {
    "duration": 15,
    "start_time": "2022-02-02T15:32:20.016Z"
   },
   {
    "duration": 1862,
    "start_time": "2022-02-02T15:36:08.800Z"
   },
   {
    "duration": 4004,
    "start_time": "2022-02-02T15:36:10.665Z"
   },
   {
    "duration": 6,
    "start_time": "2022-02-02T15:36:14.673Z"
   },
   {
    "duration": 270,
    "start_time": "2022-02-02T15:36:14.682Z"
   },
   {
    "duration": 223,
    "start_time": "2022-02-02T15:36:14.954Z"
   },
   {
    "duration": 152,
    "start_time": "2022-02-02T15:36:15.179Z"
   },
   {
    "duration": 86,
    "start_time": "2022-02-02T15:36:15.334Z"
   },
   {
    "duration": 76,
    "start_time": "2022-02-02T15:36:15.427Z"
   },
   {
    "duration": 8,
    "start_time": "2022-02-02T15:36:15.507Z"
   },
   {
    "duration": 86,
    "start_time": "2022-02-02T15:36:15.518Z"
   },
   {
    "duration": 9,
    "start_time": "2022-02-02T15:36:15.607Z"
   },
   {
    "duration": 71,
    "start_time": "2022-02-02T15:36:15.619Z"
   },
   {
    "duration": 21,
    "start_time": "2022-02-02T15:36:15.693Z"
   },
   {
    "duration": 25,
    "start_time": "2022-02-02T15:36:15.717Z"
   },
   {
    "duration": 14,
    "start_time": "2022-02-02T15:36:15.770Z"
   },
   {
    "duration": 20,
    "start_time": "2022-02-02T15:36:15.786Z"
   },
   {
    "duration": 26,
    "start_time": "2022-02-02T15:36:15.809Z"
   },
   {
    "duration": 42,
    "start_time": "2022-02-02T15:36:15.837Z"
   },
   {
    "duration": 30,
    "start_time": "2022-02-02T15:36:15.882Z"
   },
   {
    "duration": 6,
    "start_time": "2022-02-02T15:36:15.915Z"
   },
   {
    "duration": 8,
    "start_time": "2022-02-02T15:36:15.924Z"
   },
   {
    "duration": 8,
    "start_time": "2022-02-02T15:36:15.971Z"
   },
   {
    "duration": 9,
    "start_time": "2022-02-02T15:36:15.985Z"
   },
   {
    "duration": 7,
    "start_time": "2022-02-02T15:36:15.998Z"
   },
   {
    "duration": 64,
    "start_time": "2022-02-02T15:36:16.007Z"
   },
   {
    "duration": 16,
    "start_time": "2022-02-02T15:36:16.074Z"
   },
   {
    "duration": 8,
    "start_time": "2022-02-02T15:36:16.093Z"
   },
   {
    "duration": 10,
    "start_time": "2022-02-02T15:36:16.103Z"
   },
   {
    "duration": 53,
    "start_time": "2022-02-02T15:36:16.116Z"
   },
   {
    "duration": 11,
    "start_time": "2022-02-02T15:36:16.172Z"
   },
   {
    "duration": 14,
    "start_time": "2022-02-02T15:36:16.186Z"
   },
   {
    "duration": 18,
    "start_time": "2022-02-02T15:36:16.203Z"
   },
   {
    "duration": 58,
    "start_time": "2022-02-02T15:36:16.224Z"
   },
   {
    "duration": 137,
    "start_time": "2022-02-02T15:36:16.285Z"
   },
   {
    "duration": 114,
    "start_time": "2022-02-02T15:36:16.425Z"
   },
   {
    "duration": 63,
    "start_time": "2022-02-02T15:36:16.542Z"
   },
   {
    "duration": 39,
    "start_time": "2022-02-02T15:36:16.608Z"
   },
   {
    "duration": 42,
    "start_time": "2022-02-02T15:36:16.649Z"
   },
   {
    "duration": 28,
    "start_time": "2022-02-02T15:36:16.694Z"
   },
   {
    "duration": 61,
    "start_time": "2022-02-02T15:36:16.725Z"
   },
   {
    "duration": 9,
    "start_time": "2022-02-02T15:36:16.789Z"
   },
   {
    "duration": 16,
    "start_time": "2022-02-02T15:36:16.800Z"
   },
   {
    "duration": 51,
    "start_time": "2022-02-02T15:36:16.820Z"
   },
   {
    "duration": 7,
    "start_time": "2022-02-02T15:36:16.874Z"
   },
   {
    "duration": 8,
    "start_time": "2022-02-02T15:36:16.884Z"
   },
   {
    "duration": 27,
    "start_time": "2022-02-02T15:36:16.895Z"
   },
   {
    "duration": 52,
    "start_time": "2022-02-02T15:36:16.925Z"
   },
   {
    "duration": 510,
    "start_time": "2022-02-02T15:36:16.980Z"
   },
   {
    "duration": 25,
    "start_time": "2022-02-02T15:36:17.493Z"
   },
   {
    "duration": 77,
    "start_time": "2022-02-02T15:36:17.520Z"
   },
   {
    "duration": 815,
    "start_time": "2022-02-02T15:36:17.599Z"
   },
   {
    "duration": 10,
    "start_time": "2022-02-02T15:36:18.416Z"
   },
   {
    "duration": 11,
    "start_time": "2022-02-02T15:36:18.429Z"
   },
   {
    "duration": 846,
    "start_time": "2022-02-02T15:36:18.443Z"
   },
   {
    "duration": 12,
    "start_time": "2022-02-02T15:36:19.292Z"
   },
   {
    "duration": 13,
    "start_time": "2022-02-02T15:36:19.307Z"
   },
   {
    "duration": 835,
    "start_time": "2022-02-02T15:36:19.323Z"
   },
   {
    "duration": 18,
    "start_time": "2022-02-02T15:36:20.160Z"
   },
   {
    "duration": 19,
    "start_time": "2022-02-02T15:36:20.181Z"
   },
   {
    "duration": 478,
    "start_time": "2022-02-02T15:36:20.203Z"
   },
   {
    "duration": 381,
    "start_time": "2022-02-02T15:36:20.683Z"
   },
   {
    "duration": 8,
    "start_time": "2022-02-02T15:36:21.069Z"
   },
   {
    "duration": 9,
    "start_time": "2022-02-02T15:36:21.079Z"
   },
   {
    "duration": 10,
    "start_time": "2022-02-02T15:36:21.091Z"
   },
   {
    "duration": 14,
    "start_time": "2022-02-02T15:36:21.104Z"
   },
   {
    "duration": 50,
    "start_time": "2022-02-02T15:36:21.121Z"
   },
   {
    "duration": 12,
    "start_time": "2022-02-02T15:36:21.174Z"
   },
   {
    "duration": 13,
    "start_time": "2022-02-02T15:36:21.193Z"
   }
  ],
  "kernelspec": {
   "display_name": "Python 3 (ipykernel)",
   "language": "python",
   "name": "python3"
  },
  "language_info": {
   "codemirror_mode": {
    "name": "ipython",
    "version": 3
   },
   "file_extension": ".py",
   "mimetype": "text/x-python",
   "name": "python",
   "nbconvert_exporter": "python",
   "pygments_lexer": "ipython3",
   "version": "3.9.5"
  },
  "toc": {
   "base_numbering": 1,
   "nav_menu": {},
   "number_sections": true,
   "sideBar": true,
   "skip_h1_title": true,
   "title_cell": "Содержание",
   "title_sidebar": "Contents",
   "toc_cell": true,
   "toc_position": {
    "height": "calc(100% - 180px)",
    "left": "10px",
    "top": "150px",
    "width": "366.375px"
   },
   "toc_section_display": true,
   "toc_window_display": false
  }
 },
 "nbformat": 4,
 "nbformat_minor": 2
}
